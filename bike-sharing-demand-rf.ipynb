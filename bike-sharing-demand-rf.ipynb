{
  "nbformat": 4,
  "nbformat_minor": 0,
  "metadata": {
    "colab": {
      "name": "Untitled1.ipynb",
      "provenance": [],
      "collapsed_sections": [],
      "include_colab_link": true
    },
    "kernelspec": {
      "name": "python3",
      "display_name": "Python 3"
    },
    "accelerator": "GPU"
  },
  "cells": [
    {
      "cell_type": "markdown",
      "metadata": {
        "id": "view-in-github",
        "colab_type": "text"
      },
      "source": [
        "<a href=\"https://colab.research.google.com/github/jgumin/jupyter-notebook/blob/master/bike-sharing-demand-rf.ipynb\" target=\"_parent\"><img src=\"https://colab.research.google.com/assets/colab-badge.svg\" alt=\"Open In Colab\"/></a>"
      ]
    },
    {
      "cell_type": "markdown",
      "metadata": {
        "id": "DPffVZW9tNaq",
        "colab_type": "text"
      },
      "source": [
        "1. https://github.com/corazzon/KaggleStruggle/blob/master/bike-sharing-demand/bike-sharing-demand-EDA.ipynb\n",
        "2. https://www.youtube.com/watch?v=Q_MbN-vu_2w\n",
        "3. https://www.youtube.com/watch?v=95fCw-n5uWM\n",
        "4. https://www.youtube.com/watch?v=g7EwIFXJntc\n",
        "5. https://www.youtube.com/watch?v=woSEc5d_skE\n"
      ]
    },
    {
      "cell_type": "markdown",
      "metadata": {
        "colab_type": "text",
        "id": "KwbAJBNw2JCN",
        "toc": true,
        "toc-hr-collapsed": true
      },
      "source": [
        "<h1>Table of Contents<span class=\"tocSkip\"></span></h1>\n",
        "<div class=\"toc\"><ul class=\"toc-item\"></ul></div>"
      ]
    },
    {
      "cell_type": "code",
      "metadata": {
        "id": "lARqawuk_cYI",
        "colab_type": "code",
        "colab": {}
      },
      "source": [
        "pip install plotly==4.1.1"
      ],
      "execution_count": 0,
      "outputs": []
    },
    {
      "cell_type": "code",
      "metadata": {
        "colab_type": "code",
        "id": "fn5AhKOK95MP",
        "colab": {}
      },
      "source": [
        "# 노트북 안에서 그래프를 그리기 위해\n",
        "%matplotlib inline\n",
        "# %matplotlib nbagg\n",
        "    \n",
        "import pandas as pd\n",
        "import numpy as np\n",
        "import matplotlib.pyplot as plt\n",
        "import seaborn as sns\n",
        "from scipy import stats\n",
        "plt.rcParams['figure.figsize'] = [10, 6]\n",
        "\n",
        "\n",
        "# Suppress Deprecation and Incorrect Usage Warnings \n",
        "import warnings\n",
        "warnings.filterwarnings('ignore')\n",
        "\n",
        "# #  display two pandas tables side by side\n",
        "# from IPython.display import display, HTML\n",
        "# CSS = \"\"\"\n",
        "# .output {\n",
        "#     flex-direction: row;\n",
        "# }\n",
        "# \"\"\"\n",
        "# HTML('<style>{}</style>'.format(CSS))\n",
        "\n",
        "\n",
        "# 기본 글꼴 변경\n",
        "import matplotlib as mpl\n",
        "mpl.font_manager._rebuild()\n",
        "mpl.pyplot.rc('font', family='NanumBarunGothic')\n",
        "\n",
        "# allow multiple outputs\n",
        "# from IPython.core.interactiveshell import InteractiveShell\n",
        "# InteractiveShell.ast_node_interactivity = \"all\"\n",
        "\n",
        "# allow image input\n",
        "from IPython.display import Image"
      ],
      "execution_count": 0,
      "outputs": []
    },
    {
      "cell_type": "code",
      "metadata": {
        "id": "ZnMkdFRqNQup",
        "colab_type": "code",
        "colab": {}
      },
      "source": [
        "# 그래프에서 한글표현을 위해 폰트를 설치합니다.\n",
        "# %config InlineBackend.figure_format = 'retina'\n",
        "\n",
        "# !apt -qq -y install fonts-nanum > /dev/null\n",
        "# import matplotlib.font_manager as fm\n",
        "# fontpath = '/usr/share/fonts/truetype/nanum/NanumBarunGothic.ttf'\n",
        "# font = fm.FontProperties(fname=fontpath, size=9)"
      ],
      "execution_count": 0,
      "outputs": []
    },
    {
      "cell_type": "code",
      "metadata": {
        "colab_type": "code",
        "id": "KkMdPnyia8av",
        "colab": {}
      },
      "source": [
        "def configure_plotly_browser_state():\n",
        "  import IPython\n",
        "  display(IPython.core.display.HTML('''\n",
        "        <script src=\"/static/components/requirejs/require.js\"></script>\n",
        "        <script>\n",
        "          requirejs.config({\n",
        "            paths: {\n",
        "              base: '/static/base',\n",
        "              plotly: 'https://cdn.plot.ly/plotly-latest.min.js?noext',\n",
        "            },\n",
        "          });\n",
        "        </script>\n",
        "        '''))"
      ],
      "execution_count": 0,
      "outputs": []
    },
    {
      "cell_type": "markdown",
      "metadata": {
        "id": "WQMsczZXLCe5",
        "colab_type": "text"
      },
      "source": [
        "Image('https://i.stack.imgur.com/ScJfR.png')\n"
      ]
    },
    {
      "cell_type": "code",
      "metadata": {
        "colab_type": "code",
        "id": "QKQVqVGnHkZg",
        "colab": {}
      },
      "source": [
        ""
      ],
      "execution_count": 0,
      "outputs": []
    },
    {
      "cell_type": "markdown",
      "metadata": {
        "colab_type": "text",
        "id": "nOok33kat55L"
      },
      "source": [
        "# Library Importing(plotly 4.1.1)"
      ]
    },
    {
      "cell_type": "code",
      "metadata": {
        "colab_type": "code",
        "id": "148pDlGfNAVo",
        "colab": {}
      },
      "source": [
        "from plotly import __version__\n",
        "print (__version__)\n",
        "import plotly.express as px\n",
        "from plotly.subplots import make_subplots\n",
        "import plotly.graph_objs as go\n",
        "import plotly.figure_factory as ff\n",
        "\n",
        "# Display all cell outputs\n",
        "from IPython.core.interactiveshell import InteractiveShell\n",
        "\n",
        "# Jupyter setup\n",
        "# init_notebook_mode(connected=True)\n",
        "\n",
        "import ipywidgets as widgets"
      ],
      "execution_count": 0,
      "outputs": []
    },
    {
      "cell_type": "code",
      "metadata": {
        "colab_type": "code",
        "id": "Nn7ajSuqt55U",
        "colab": {}
      },
      "source": [
        "import plotly\n",
        "from plotly import tools\n",
        "\n",
        "# plotly + cufflinks in offline mode\n",
        "from plotly.offline import download_plotlyjs, init_notebook_mode, plot, iplot"
      ],
      "execution_count": 0,
      "outputs": []
    },
    {
      "cell_type": "markdown",
      "metadata": {
        "colab_type": "text",
        "id": "Sc-OXJrht55b"
      },
      "source": [
        "# Library Importing(plotly 3.6.1)"
      ]
    },
    {
      "cell_type": "code",
      "metadata": {
        "colab_type": "code",
        "id": "XkHvjRWit55d",
        "colab": {}
      },
      "source": [
        "from plotly import __version__\n",
        "print (__version__)\n",
        "import plotly\n",
        "from plotly import tools\n",
        "import plotly.plotly as py\n",
        "import plotly.graph_objs as go\n",
        "import plotly.figure_factory as ff\n",
        "\n",
        "# Cufflinks wrapper on plotly\n",
        "import cufflinks as cf\n",
        "\n",
        "# Display all cell outputs\n",
        "from IPython.core.interactiveshell import InteractiveShell\n",
        "\n",
        "# plotly + cufflinks in offline mode\n",
        "from plotly.offline import download_plotlyjs, init_notebook_mode, plot, iplot\n",
        "cf.go_offline()\n",
        "\n",
        "# set the global theme\n",
        "cf.set_config_file(world_readable=True, theme='pearl', offline=True)\n",
        "\n",
        "# Jupyter setup\n",
        "init_notebook_mode(connected=True)\n",
        "\n",
        "import ipywidgets as widgets"
      ],
      "execution_count": 0,
      "outputs": []
    },
    {
      "cell_type": "code",
      "metadata": {
        "colab_type": "code",
        "id": "ESujnAs3t55k",
        "colab": {}
      },
      "source": [
        "def configure_plotly_browser_state():\n",
        "  import IPython\n",
        "  display(IPython.core.display.HTML('''\n",
        "        <script src=\"/static/components/requirejs/require.js\"></script>\n",
        "        <script>\n",
        "          requirejs.config({\n",
        "            paths: {\n",
        "              base: '/static/base',\n",
        "              plotly: 'https://cdn.plot.ly/plotly-latest.min.js?noext',\n",
        "            },\n",
        "          });\n",
        "        </script>\n",
        "        '''))"
      ],
      "execution_count": 0,
      "outputs": []
    },
    {
      "cell_type": "markdown",
      "metadata": {
        "colab_type": "text",
        "id": "DelvmptDt55q"
      },
      "source": [
        "# plotly 테마 설정"
      ]
    },
    {
      "cell_type": "markdown",
      "metadata": {
        "colab_type": "text",
        "id": "zj7TdzJgt55s"
      },
      "source": [
        "theming 참고1: https://medium.com/plotly/introducing-plotly-py-theming-b644109ac9c7<br>\n",
        "theming 참고2: https://nbviewer.jupyter.org/github/jonmmease/plotly.py_release_notebooks/blob/master/notebooks/v3.4.0/templates-gapminder.ipynb <br>\n",
        "기본theme설정/해제 참고: https://plot.ly/python/templates/#specifying-a-default-themes "
      ]
    },
    {
      "cell_type": "code",
      "metadata": {
        "colab_type": "code",
        "id": "00lai7EnHjQy",
        "colab": {}
      },
      "source": [
        "import plotly.io as pio\n",
        "pio.templates.default = \"seaborn\" # ['ggplot2', 'seaborn', 'plotly','plotly_white', 'plotly_dark','presentation', 'xgridoff', 'none']\n",
        "\n",
        "# fig = go.Figure(layout={\n",
        "#     'title' : 'Figure Title',\n",
        "#     'font' : {'size': 15, 'family': 'Courier'}\n",
        "# })\n",
        "\n",
        "# templated_fig = pio.to_templated(fig)\n",
        "# pio.templates['large_courier'] = templated_fig.layout.template\n",
        "\n",
        "# pio.templates.default = 'large_courier'"
      ],
      "execution_count": 0,
      "outputs": []
    },
    {
      "cell_type": "code",
      "metadata": {
        "id": "dBZTPHJwufaL",
        "colab_type": "code",
        "colab": {}
      },
      "source": [
        "train = pd.read_csv(\"/content/train.csv\", parse_dates=[\"datetime\"])\n",
        "train.shape"
      ],
      "execution_count": 0,
      "outputs": []
    },
    {
      "cell_type": "code",
      "metadata": {
        "id": "vKX_gBIvGUDj",
        "colab_type": "code",
        "colab": {}
      },
      "source": [
        "test = pd.read_csv(\"/content/test.csv\", parse_dates=[\"datetime\"])\n",
        "test.shape"
      ],
      "execution_count": 0,
      "outputs": []
    },
    {
      "cell_type": "code",
      "metadata": {
        "id": "jJYwcobg2coV",
        "colab_type": "code",
        "colab": {}
      },
      "source": [
        "train['year'] = train['datetime'].dt.year\n",
        "train['month'] = train['datetime'].dt.month\n",
        "train['day'] = train['datetime'].dt.day\n",
        "train['hour'] = train['datetime'].dt.hour\n",
        "train['minute'] = train['datetime'].dt.minute\n",
        "train['second'] = train['datetime'].dt.second\n",
        "train['dayofweek'] = train['datetime'].dt.dayofweek\n",
        "train.shape"
      ],
      "execution_count": 0,
      "outputs": []
    },
    {
      "cell_type": "code",
      "metadata": {
        "id": "qfuqx-_gGwnJ",
        "colab_type": "code",
        "colab": {}
      },
      "source": [
        "test['year'] = test['datetime'].dt.year\n",
        "test['month'] = test['datetime'].dt.month\n",
        "test['day'] = test['datetime'].dt.day\n",
        "test['hour'] = test['datetime'].dt.hour\n",
        "test['minute'] = test['datetime'].dt.minute\n",
        "test['second'] = test['datetime'].dt.second\n",
        "test['dayofweek'] = test['datetime'].dt.dayofweek\n",
        "test.shape"
      ],
      "execution_count": 0,
      "outputs": []
    },
    {
      "cell_type": "code",
      "metadata": {
        "id": "LZtEpuLWHSiG",
        "colab_type": "code",
        "colab": {}
      },
      "source": [
        "fig, axes = plt.subplots(nrows=2)\n",
        "fig.set_size_inches(18,10)\n",
        "\n",
        "plt.sca(axes[0])\n",
        "plt.xticks(rotation=30, ha='right')\n",
        "axes[0].set(ylabel='Count',title=\"train windspeed\")\n",
        "sns.countplot(data=train, x='windspeed', ax=axes[0])\n",
        "\n",
        "plt.sca(axes[1])\n",
        "plt.xticks(rotation=30, ha='right')\n",
        "axes[1].set(ylabel='Count',title=\"test windspeed\")\n",
        "sns.countplot(data=test, x='windspeed', ax=axes[1])"
      ],
      "execution_count": 0,
      "outputs": []
    },
    {
      "cell_type": "code",
      "metadata": {
        "id": "77jReviUMF40",
        "colab_type": "code",
        "colab": {}
      },
      "source": [
        "fig = make_subplots(rows=2, vertical_spacing=0.2,\n",
        "                    subplot_titles=['Train Windspeed', 'Test Windspeed'])\n",
        "\n",
        "fig.add_trace(go.Bar(\n",
        "    x=train['windspeed'].value_counts().index, \n",
        "    y=train['windspeed'].value_counts(), \n",
        "))\n",
        "\n",
        "fig.update_yaxes(title=\"Count\")\n",
        "\n",
        "fig.update_layout(showlegend=False,\n",
        "    xaxis1=dict(tickmode='linear', tick0=2011, dtick=1, title=\"Year\"),\n",
        "    xaxis2=dict(tickmode='linear', tick0=1, dtick=1, tickangle=30, \n",
        "                tickformat=\"%Y-%m\", title=\"Year-Month\"),\n",
        ")\n",
        "fig.update_layout(showlegend=False)"
      ],
      "execution_count": 0,
      "outputs": []
    },
    {
      "cell_type": "code",
      "metadata": {
        "id": "-RNiR0va6y8w",
        "colab_type": "code",
        "colab": {}
      },
      "source": [
        "fig = make_subplots(rows=3, cols=2)\n",
        "\n",
        "fig.add_trace(go.Bar(x=train['year'], y=train['count']), row=1, col=1)\n",
        "fig.add_trace(go.Bar(x=train['month'], y=train['count']), row=1, col=2)\n",
        "fig.add_trace(go.Bar(x=train['day'], y=train['count']), row=2, col=1)\n",
        "fig.add_trace(go.Bar(x=train['hour'], y=train['count']), row=2, col=2)\n",
        "fig.add_trace(go.Bar(x=train['minute'], y=train['count']), row=3, col=1)\n",
        "fig.add_trace(go.Bar(x=train['second'], y=train['count']), row=3, col=2)\n",
        "\n",
        "fig.update_traces(marker_color='rgb(158,202,225)')\n",
        "fig.update_layout(height=1000, showlegend=False)\n",
        "\n",
        "fig.show()\n",
        "\n",
        "# make_subplots(rows=1, cols=1, shared_xaxes=False, shared_yaxes=False, start_cell='top-left', print_grid=False, horizontal_spacing=None, vertical_spacing=None, subplot_titles=None, column_widths=None, row_heights=None, specs=None, insets=None, column_titles=None, row_titles=None, x_title=None, y_title=None, **kwargs)"
      ],
      "execution_count": 0,
      "outputs": []
    },
    {
      "cell_type": "code",
      "metadata": {
        "id": "u5WBEaB-Lwff",
        "colab_type": "code",
        "colab": {}
      },
      "source": [
        "# 풍속의 0값에 특정 값을 넣어준다.\n",
        "# 평균을 구해 일괄적으로 넣어줄 수도 있지만, 예측의 정확도를 높이는 데 도움이 될것 같진 않다.\n",
        "# train.loc[train[\"windspeed\"] == 0, \"windspeed\"] = train[\"windspeed\"].mean()\n",
        "# test.loc[train[\"windspeed\"] == 0, \"windspeed\"] = train[\"windspeed\"].mean()"
      ],
      "execution_count": 0,
      "outputs": []
    },
    {
      "cell_type": "code",
      "metadata": {
        "id": "x_h48ZICLxZo",
        "colab_type": "code",
        "colab": {}
      },
      "source": [
        "# 풍속이 0인것과 아닌 것의 세트를 나누어 준다.\n",
        "trainWind0 = train.loc[train['windspeed'] == 0]\n",
        "trainWindNot0 = train.loc[train['windspeed'] != 0]"
      ],
      "execution_count": 0,
      "outputs": []
    }
  ]
}