{
  "nbformat": 4,
  "nbformat_minor": 0,
  "metadata": {
    "colab": {
      "name": "Untitled0.ipynb",
      "provenance": [],
      "include_colab_link": true
    },
    "kernelspec": {
      "name": "python3",
      "display_name": "Python 3"
    },
    "accelerator": "GPU"
  },
  "cells": [
    {
      "cell_type": "markdown",
      "metadata": {
        "id": "view-in-github",
        "colab_type": "text"
      },
      "source": [
        "<a href=\"https://colab.research.google.com/github/jgumin/jupyter-notebook/blob/master/bike-sharing-demand.ipynb\" target=\"_parent\"><img src=\"https://colab.research.google.com/assets/colab-badge.svg\" alt=\"Open In Colab\"/></a>"
      ]
    },
    {
      "cell_type": "markdown",
      "metadata": {
        "id": "DPffVZW9tNaq",
        "colab_type": "text"
      },
      "source": [
        "https://github.com/corazzon/KaggleStruggle/blob/master/bike-sharing-demand/bike-sharing-demand-EDA.ipynb"
      ]
    },
    {
      "cell_type": "markdown",
      "metadata": {
        "colab_type": "text",
        "id": "KwbAJBNw2JCN",
        "toc": true,
        "toc-hr-collapsed": true
      },
      "source": [
        "<h1>Table of Contents<span class=\"tocSkip\"></span></h1>\n",
        "<div class=\"toc\"><ul class=\"toc-item\"></ul></div>"
      ]
    },
    {
      "cell_type": "code",
      "metadata": {
        "id": "lARqawuk_cYI",
        "colab_type": "code",
        "colab": {}
      },
      "source": [
        "pip install plotly==4.1.1"
      ],
      "execution_count": 0,
      "outputs": []
    },
    {
      "cell_type": "code",
      "metadata": {
        "colab_type": "code",
        "id": "fn5AhKOK95MP",
        "colab": {}
      },
      "source": [
        "# 노트북 안에서 그래프를 그리기 위해\n",
        "%matplotlib inline\n",
        "# %matplotlib nbagg\n",
        "    \n",
        "import pandas as pd\n",
        "import numpy as np\n",
        "import matplotlib.pyplot as plt\n",
        "import seaborn as sns\n",
        "plt.rcParams['figure.figsize'] = [10, 6]\n",
        "\n",
        "\n",
        "# Suppress Deprecation and Incorrect Usage Warnings \n",
        "import warnings\n",
        "warnings.filterwarnings('ignore')\n",
        "\n",
        "# #  display two pandas tables side by side\n",
        "# from IPython.display import display, HTML\n",
        "# CSS = \"\"\"\n",
        "# .output {\n",
        "#     flex-direction: row;\n",
        "# }\n",
        "# \"\"\"\n",
        "# HTML('<style>{}</style>'.format(CSS))\n",
        "\n",
        "\n",
        "# 기본 글꼴 변경\n",
        "import matplotlib as mpl\n",
        "mpl.font_manager._rebuild()\n",
        "mpl.pyplot.rc('font', family='NanumBarunGothic')\n",
        "\n",
        "# allow multiple outputs\n",
        "# from IPython.core.interactiveshell import InteractiveShell\n",
        "# InteractiveShell.ast_node_interactivity = \"all\"\n",
        "\n",
        "# allow image input\n",
        "from IPython.display import Image"
      ],
      "execution_count": 0,
      "outputs": []
    },
    {
      "cell_type": "code",
      "metadata": {
        "id": "ZnMkdFRqNQup",
        "colab_type": "code",
        "colab": {}
      },
      "source": [
        "# 그래프에서 한글표현을 위해 폰트를 설치합니다.\n",
        "# %config InlineBackend.figure_format = 'retina'\n",
        "\n",
        "# !apt -qq -y install fonts-nanum > /dev/null\n",
        "# import matplotlib.font_manager as fm\n",
        "# fontpath = '/usr/share/fonts/truetype/nanum/NanumBarunGothic.ttf'\n",
        "# font = fm.FontProperties(fname=fontpath, size=9)"
      ],
      "execution_count": 0,
      "outputs": []
    },
    {
      "cell_type": "code",
      "metadata": {
        "colab_type": "code",
        "id": "KkMdPnyia8av",
        "colab": {}
      },
      "source": [
        "def configure_plotly_browser_state():\n",
        "  import IPython\n",
        "  display(IPython.core.display.HTML('''\n",
        "        <script src=\"/static/components/requirejs/require.js\"></script>\n",
        "        <script>\n",
        "          requirejs.config({\n",
        "            paths: {\n",
        "              base: '/static/base',\n",
        "              plotly: 'https://cdn.plot.ly/plotly-latest.min.js?noext',\n",
        "            },\n",
        "          });\n",
        "        </script>\n",
        "        '''))"
      ],
      "execution_count": 0,
      "outputs": []
    },
    {
      "cell_type": "markdown",
      "metadata": {
        "id": "WQMsczZXLCe5",
        "colab_type": "text"
      },
      "source": [
        "Image('https://i.stack.imgur.com/ScJfR.png')\n"
      ]
    },
    {
      "cell_type": "code",
      "metadata": {
        "colab_type": "code",
        "id": "QKQVqVGnHkZg",
        "colab": {}
      },
      "source": [
        ""
      ],
      "execution_count": 0,
      "outputs": []
    },
    {
      "cell_type": "markdown",
      "metadata": {
        "colab_type": "text",
        "id": "nOok33kat55L"
      },
      "source": [
        "# Library Importing(plotly 4.1.1)"
      ]
    },
    {
      "cell_type": "code",
      "metadata": {
        "colab_type": "code",
        "id": "148pDlGfNAVo",
        "colab": {}
      },
      "source": [
        "from plotly import __version__\n",
        "print (__version__)\n",
        "import plotly.express as px\n",
        "from plotly.subplots import make_subplots\n",
        "import plotly.graph_objs as go\n",
        "import plotly.figure_factory as ff\n",
        "\n",
        "# Display all cell outputs\n",
        "from IPython.core.interactiveshell import InteractiveShell\n",
        "\n",
        "# Jupyter setup\n",
        "# init_notebook_mode(connected=True)\n",
        "\n",
        "import ipywidgets as widgets"
      ],
      "execution_count": 0,
      "outputs": []
    },
    {
      "cell_type": "code",
      "metadata": {
        "colab_type": "code",
        "id": "Nn7ajSuqt55U",
        "colab": {}
      },
      "source": [
        "import plotly\n",
        "from plotly import tools\n",
        "\n",
        "# plotly + cufflinks in offline mode\n",
        "from plotly.offline import download_plotlyjs, init_notebook_mode, plot, iplot"
      ],
      "execution_count": 0,
      "outputs": []
    },
    {
      "cell_type": "markdown",
      "metadata": {
        "colab_type": "text",
        "id": "Sc-OXJrht55b"
      },
      "source": [
        "# Library Importing(plotly 3.6.1)"
      ]
    },
    {
      "cell_type": "code",
      "metadata": {
        "colab_type": "code",
        "id": "XkHvjRWit55d",
        "colab": {}
      },
      "source": [
        "from plotly import __version__\n",
        "print (__version__)\n",
        "import plotly\n",
        "from plotly import tools\n",
        "import plotly.plotly as py\n",
        "import plotly.graph_objs as go\n",
        "import plotly.figure_factory as ff\n",
        "\n",
        "# Cufflinks wrapper on plotly\n",
        "import cufflinks as cf\n",
        "\n",
        "# Display all cell outputs\n",
        "from IPython.core.interactiveshell import InteractiveShell\n",
        "\n",
        "# plotly + cufflinks in offline mode\n",
        "from plotly.offline import download_plotlyjs, init_notebook_mode, plot, iplot\n",
        "cf.go_offline()\n",
        "\n",
        "# set the global theme\n",
        "cf.set_config_file(world_readable=True, theme='pearl', offline=True)\n",
        "\n",
        "# Jupyter setup\n",
        "init_notebook_mode(connected=True)\n",
        "\n",
        "import ipywidgets as widgets"
      ],
      "execution_count": 0,
      "outputs": []
    },
    {
      "cell_type": "code",
      "metadata": {
        "colab_type": "code",
        "id": "ESujnAs3t55k",
        "colab": {}
      },
      "source": [
        "def configure_plotly_browser_state():\n",
        "  import IPython\n",
        "  display(IPython.core.display.HTML('''\n",
        "        <script src=\"/static/components/requirejs/require.js\"></script>\n",
        "        <script>\n",
        "          requirejs.config({\n",
        "            paths: {\n",
        "              base: '/static/base',\n",
        "              plotly: 'https://cdn.plot.ly/plotly-latest.min.js?noext',\n",
        "            },\n",
        "          });\n",
        "        </script>\n",
        "        '''))"
      ],
      "execution_count": 0,
      "outputs": []
    },
    {
      "cell_type": "markdown",
      "metadata": {
        "colab_type": "text",
        "id": "DelvmptDt55q"
      },
      "source": [
        "# plotly 테마 설정"
      ]
    },
    {
      "cell_type": "markdown",
      "metadata": {
        "colab_type": "text",
        "id": "zj7TdzJgt55s"
      },
      "source": [
        "theming 참고1: https://medium.com/plotly/introducing-plotly-py-theming-b644109ac9c7<br>\n",
        "theming 참고2: https://nbviewer.jupyter.org/github/jonmmease/plotly.py_release_notebooks/blob/master/notebooks/v3.4.0/templates-gapminder.ipynb <br>\n",
        "기본theme설정/해제 참고: https://plot.ly/python/templates/#specifying-a-default-themes "
      ]
    },
    {
      "cell_type": "code",
      "metadata": {
        "colab_type": "code",
        "id": "00lai7EnHjQy",
        "colab": {}
      },
      "source": [
        "import plotly.io as pio\n",
        "pio.templates.default = \"seaborn\" # ['ggplot2', 'seaborn', 'plotly','plotly_white', 'plotly_dark','presentation', 'xgridoff', 'none']\n",
        "\n",
        "# fig = go.Figure(layout={\n",
        "#     'title' : 'Figure Title',\n",
        "#     'font' : {'size': 15, 'family': 'Courier'}\n",
        "# })\n",
        "\n",
        "# templated_fig = pio.to_templated(fig)\n",
        "# pio.templates['large_courier'] = templated_fig.layout.template\n",
        "\n",
        "# pio.templates.default = 'large_courier'"
      ],
      "execution_count": 0,
      "outputs": []
    },
    {
      "cell_type": "code",
      "metadata": {
        "id": "dBZTPHJwufaL",
        "colab_type": "code",
        "colab": {}
      },
      "source": [
        "train = pd.read_csv(\"/content/train.csv\", parse_dates=[\"datetime\"])\n",
        "train.shape"
      ],
      "execution_count": 0,
      "outputs": []
    },
    {
      "cell_type": "code",
      "metadata": {
        "id": "jJYwcobg2coV",
        "colab_type": "code",
        "colab": {}
      },
      "source": [
        "train['year'] = train['datetime'].dt.year\n",
        "train['month'] = train['datetime'].dt.month\n",
        "train['day'] = train['datetime'].dt.day\n",
        "train['hour'] = train['datetime'].dt.hour\n",
        "train['minute'] = train['datetime'].dt.minute\n",
        "train['second'] = train['datetime'].dt.second"
      ],
      "execution_count": 0,
      "outputs": []
    },
    {
      "cell_type": "code",
      "metadata": {
        "id": "FPZqQE3Y6KAR",
        "colab_type": "code",
        "colab": {}
      },
      "source": [
        "train.head()"
      ],
      "execution_count": 0,
      "outputs": []
    },
    {
      "cell_type": "code",
      "metadata": {
        "id": "-RNiR0va6y8w",
        "colab_type": "code",
        "colab": {}
      },
      "source": [
        "fig = make_subplots(rows=3, cols=2)\n",
        "\n",
        "fig.add_trace(go.Bar(x=train['year'], y=train['count']), row=1, col=1)\n",
        "fig.add_trace(go.Bar(x=train['month'], y=train['count']), row=1, col=2)\n",
        "fig.add_trace(go.Bar(x=train['day'], y=train['count']), row=2, col=1)\n",
        "fig.add_trace(go.Bar(x=train['hour'], y=train['count']), row=2, col=2)\n",
        "fig.add_trace(go.Bar(x=train['minute'], y=train['count']), row=3, col=1)\n",
        "fig.add_trace(go.Bar(x=train['second'], y=train['count']), row=3, col=2)\n",
        "\n",
        "fig.update_traces(marker_color='rgb(158,202,225)')\n",
        "fig.update_layout(height=1000, showlegend=False)\n",
        "\n",
        "fig.show()\n",
        "\n",
        "# make_subplots(rows=1, cols=1, shared_xaxes=False, shared_yaxes=False, start_cell='top-left', print_grid=False, horizontal_spacing=None, vertical_spacing=None, subplot_titles=None, column_widths=None, row_heights=None, specs=None, insets=None, column_titles=None, row_titles=None, x_title=None, y_title=None, **kwargs)"
      ],
      "execution_count": 0,
      "outputs": []
    },
    {
      "cell_type": "code",
      "metadata": {
        "id": "TKeJnCNaJd0a",
        "colab_type": "code",
        "colab": {}
      },
      "source": [
        "fig = make_subplots(rows=2, cols=2, vertical_spacing=0.1,\n",
        "                    subplot_titles=[\"대여량\", \"계절별 대여량\", \n",
        "                                    \"시간별 대여량\", \n",
        "                                    \"근무일 여부에 따른 대여량\"]) \n",
        "\n",
        "fig.add_trace(go.Box(y=train['count'], name=\"\"), row=1, col=1)\n",
        "fig.add_trace(go.Box(x=train['season'],y=train['count']), row=1, col=2)\n",
        "fig.add_trace(go.Box(x=train['hour'],y=train['count']), row=2, col=1)\n",
        "fig.add_trace(go.Box(x=train['workingday'],y=train['count']), row=2, col=2)\n",
        "\n",
        "fig.update_xaxes(domain=[0, 0.3], row=1, col=1)\n",
        "fig.update_xaxes(domain=[0.5, 1], row=1, col=2)\n",
        "fig.update_xaxes(domain=[0, 0.6], dtick=1, row=2, col=1)\n",
        "fig.update_xaxes(domain=[0.7, 1], row=2, col=2)\n",
        "\n",
        "fig.update_yaxes(tick0=0, dtick=100)\n",
        "\n",
        "fig.update_layout(height=900, title=dict(text=\"대여량 현황\", x=0.45, y=0.95, xref=\"paper\"),\n",
        "                  showlegend=False, font=dict(family='Malgun Gothic',size=15, \n",
        "                  color='#7f7f7f')\n",
        "                  )\n",
        "\n",
        "\n",
        "fig.show()"
      ],
      "execution_count": 0,
      "outputs": []
    },
    {
      "cell_type": "code",
      "metadata": {
        "id": "legr2agFbbGE",
        "colab_type": "code",
        "colab": {}
      },
      "source": [
        "figure, ((ax1, ax2, ax3),(ax4, ax5, ax6)) = plt.subplots(nrows=2, ncols=3)\n",
        "figure.set_size_inches(18, 8)\n",
        "\n",
        "sns.barplot(data=train, x=\"year\", y=\"count\", ax=ax1)\n",
        "sns.barplot(data=train, x=\"month\", y=\"count\", ax=ax2)\n",
        "sns.barplot(data=train, x=\"day\", y=\"count\", ax=ax3)\n",
        "sns.barplot(data=train, x=\"hour\", y=\"count\", ax=ax4)\n",
        "sns.barplot(data=train, x=\"minute\", y=\"count\", ax=ax5)\n",
        "sns.barplot(data=train, x=\"second\", y=\"count\", ax=ax6)\n",
        "\n",
        "ax1.set(ylabel=\"Count\",title=\"연도별 대여량\")\n",
        "ax2.set(xlabel=\"month\",title=\"월별 대여량\")\n",
        "ax3.set(xlabel=\"day\",title=\"일별 대여량\")\n",
        "ax4.set(ylabel=\"Count\",xlabel=\"hour\",title=\"시별 대여량\")\n",
        "ax5.set(xlabel=\"minute\",title=\"분별 대여량\")\n",
        "ax6.set(xlabel=\"second\",title=\"초별 대여량\")"
      ],
      "execution_count": 0,
      "outputs": []
    },
    {
      "cell_type": "code",
      "metadata": {
        "id": "HuKIxWXzbOgI",
        "colab_type": "code",
        "colab": {}
      },
      "source": [
        ""
      ],
      "execution_count": 0,
      "outputs": []
    },
    {
      "cell_type": "code",
      "metadata": {
        "id": "bPwwdoMlq1Po",
        "colab_type": "code",
        "colab": {}
      },
      "source": [
        "train[\"dayofweek\"] = train[\"datetime\"].dt.dayofweek\n",
        "train.shape"
      ],
      "execution_count": 0,
      "outputs": []
    },
    {
      "cell_type": "code",
      "metadata": {
        "id": "LONxP0OWrXaD",
        "colab_type": "code",
        "colab": {}
      },
      "source": [
        "fig,(ax1, ax2, ax3, ax4, ax5) = plt.subplots(nrows=5)\n",
        "fig.set_size_inches(18,25)\n",
        "\n",
        "sns.pointplot(data=train, x='hour', y='count', ax=ax1)\n",
        "sns.pointplot(data=train, x='hour', y='count', hue='workingday', ax=ax2)\n",
        "sns.pointplot(data=train, x='hour', y='count', hue='dayofweek', ax=ax3)\n",
        "sns.pointplot(data=train, x='hour', y='count', hue='weather', ax=ax4)\n",
        "sns.pointplot(data=train, x='hour', y='count', hue='season', ax=ax5)"
      ],
      "execution_count": 0,
      "outputs": []
    },
    {
      "cell_type": "code",
      "metadata": {
        "id": "vwEAuQmn1LwG",
        "colab_type": "code",
        "colab": {}
      },
      "source": [
        "corrMatt = train[[\"temp\", \"atemp\", \"casual\", \"registered\", \"humidity\", \"windspeed\", \"count\"]]\n",
        "corrMatt = corrMatt.corr()\n",
        "print(corrMatt)\n",
        "\n",
        "mask = np.array(corrMatt)"
      ],
      "execution_count": 0,
      "outputs": []
    },
    {
      "cell_type": "code",
      "metadata": {
        "id": "KEiW8y7C2Hm5",
        "colab_type": "code",
        "colab": {}
      },
      "source": [
        "mask[np.tril_indices_from(mask)] = False"
      ],
      "execution_count": 0,
      "outputs": []
    },
    {
      "cell_type": "code",
      "metadata": {
        "id": "XULSAiPH4TRs",
        "colab_type": "code",
        "colab": {}
      },
      "source": [
        "fig, ax = plt.subplots()\n",
        "fig.set_size_inches(20, 10)\n",
        "sns.heatmap(corrMatt, mask=mask,vmax=.8, square=True,annot=True)"
      ],
      "execution_count": 0,
      "outputs": []
    },
    {
      "cell_type": "code",
      "metadata": {
        "id": "rNb0qhlxZk6D",
        "colab_type": "code",
        "colab": {}
      },
      "source": [
        ""
      ],
      "execution_count": 0,
      "outputs": []
    },
    {
      "cell_type": "code",
      "metadata": {
        "id": "EcLEEghUZoC8",
        "colab_type": "code",
        "colab": {}
      },
      "source": [
        "fig, (ax1, ax2, ax3) = plt.subplots(ncols=3)\n",
        "fig.set_size_inches(12, 5)\n",
        "\n",
        "sns.regplot(x=\"temp\", y=\"count\", data=train, ax=ax1)\n",
        "sns.regplot(x=\"windspeed\", y=\"count\", data=train, ax=ax2)\n",
        "sns.regplot(x=\"humidity\", y=\"count\", data=train, ax=ax3)"
      ],
      "execution_count": 0,
      "outputs": []
    },
    {
      "cell_type": "code",
      "metadata": {
        "id": "LNwqUNYr-h0M",
        "colab_type": "code",
        "colab": {}
      },
      "source": [
        "train['datetime']"
      ],
      "execution_count": 0,
      "outputs": []
    },
    {
      "cell_type": "code",
      "metadata": {
        "id": "I85CLoVq6exL",
        "colab_type": "code",
        "colab": {}
      },
      "source": [
        "def concatenate_year_month(datetime):\n",
        "    return \"{0}-{1}\".format(datetime.year, datetime.month)\n",
        "\n",
        "train[\"year_month\"] = train[\"datetime\"].apply(concatenate_year_month)\n",
        "\n",
        "print(train.shape)\n",
        "train[[\"datetime\", \"year_month\"]].head()"
      ],
      "execution_count": 0,
      "outputs": []
    },
    {
      "cell_type": "code",
      "metadata": {
        "id": "MwW0N8X8Ale0",
        "colab_type": "code",
        "colab": {}
      },
      "source": [
        "fig = make_subplots(rows=2, cols=2, vertical_spacing=0.2, \n",
        "                    specs=[[{},{}],[{\"colspan\":2},None]])\n",
        "\n",
        "fig.add_trace(go.Bar(x=train.groupby('year')['count'].mean().index, \n",
        "                     y=train.groupby('year')['count'].mean()), row=1, col=1)\n",
        "fig.add_trace(go.Bar(x=train.groupby('month')['count'].mean().index, \n",
        "                     y=train.groupby('month')['count'].mean()), row=1, col=2)\n",
        "fig.add_trace(go.Bar(x=train.groupby('year_month')['count'].mean().index, \n",
        "                     y=train.groupby('year_month')['count'].mean()), row=2, col=1)\n",
        "\n",
        "fig.update_xaxes(showgrid=True, ticklen=10, ticks = \"outside\", \n",
        "                 type=\"category\", showticklabels=True)\n",
        "\n",
        "fig.update_yaxes(title=\"Count\")\n",
        "\n",
        "fig.update_layout(showlegend=False,\n",
        "    xaxis1=dict(tickmode='linear', tick0=2011, dtick=1, title=\"Year\"),\n",
        "    xaxis2=dict(tickmode='linear', tick0=1, dtick=1, title=\"Month\"),\n",
        "    xaxis3=dict(tickmode='linear', tickangle=30, \n",
        "                tickformat=\"%Y-%m\", title=\"Year-Month\"),\n",
        ")"
      ],
      "execution_count": 0,
      "outputs": []
    },
    {
      "cell_type": "code",
      "metadata": {
        "id": "5uJq2J_f_gKq",
        "colab_type": "code",
        "colab": {}
      },
      "source": [
        "fig, (ax1, ax2) = plt.subplots(nrows=1, ncols=2)\n",
        "fig.set_size_inches(18, 4)\n",
        "\n",
        "sns.barplot(data=train, x='year', y='count', ax=ax1)\n",
        "sns.barplot(data=train, x='month', y='count', ax=ax2)\n",
        "\n",
        "fig, ax3 = plt.subplots(nrows=1, ncols=1)\n",
        "fig.set_size_inches(18, 4)\n",
        "\n",
        "sns.barplot(data=train, x='year_month', y='count', ax=ax3)"
      ],
      "execution_count": 0,
      "outputs": []
    },
    {
      "cell_type": "code",
      "metadata": {
        "id": "4SmwL-skQx2I",
        "colab_type": "code",
        "colab": {
          "base_uri": "https://localhost:8080/",
          "height": 52
        },
        "outputId": "6694d4ef-9821-4876-b07c-0ae057c4539e"
      },
      "source": [
        "trainWithoutOutliers = train[np.abs(train[\"count\"] - train[\"count\"].mean()) <= (3*train[\"count\"])]\n",
        "\n",
        "print(train.shape)\n",
        "print(trainWithoutOutliers.shape)"
      ],
      "execution_count": 158,
      "outputs": [
        {
          "output_type": "stream",
          "text": [
            "(10886, 20)\n",
            "(8001, 20)\n"
          ],
          "name": "stdout"
        }
      ]
    }
  ]
}