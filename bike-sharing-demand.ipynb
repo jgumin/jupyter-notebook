{
  "nbformat": 4,
  "nbformat_minor": 0,
  "metadata": {
    "colab": {
      "name": "Untitled0.ipynb",
      "provenance": [],
      "include_colab_link": true
    },
    "kernelspec": {
      "name": "python3",
      "display_name": "Python 3"
    },
    "accelerator": "GPU"
  },
  "cells": [
    {
      "cell_type": "markdown",
      "metadata": {
        "id": "view-in-github",
        "colab_type": "text"
      },
      "source": [
        "<a href=\"https://colab.research.google.com/github/jgumin/jupyter-notebook/blob/master/bike-sharing-demand.ipynb\" target=\"_parent\"><img src=\"https://colab.research.google.com/assets/colab-badge.svg\" alt=\"Open In Colab\"/></a>"
      ]
    },
    {
      "cell_type": "markdown",
      "metadata": {
        "id": "DPffVZW9tNaq",
        "colab_type": "text"
      },
      "source": [
        "https://github.com/corazzon/KaggleStruggle/blob/master/bike-sharing-demand/bike-sharing-demand-EDA.ipynb"
      ]
    },
    {
      "cell_type": "markdown",
      "metadata": {
        "colab_type": "text",
        "id": "KwbAJBNw2JCN",
        "toc": true,
        "toc-hr-collapsed": true
      },
      "source": [
        "<h1>Table of Contents<span class=\"tocSkip\"></span></h1>\n",
        "<div class=\"toc\"><ul class=\"toc-item\"></ul></div>"
      ]
    },
    {
      "cell_type": "code",
      "metadata": {
        "id": "lARqawuk_cYI",
        "colab_type": "code",
        "colab": {}
      },
      "source": [
        "pip install plotly==4.1.1"
      ],
      "execution_count": 0,
      "outputs": []
    },
    {
      "cell_type": "code",
      "metadata": {
        "colab_type": "code",
        "id": "fn5AhKOK95MP",
        "colab": {}
      },
      "source": [
        "# 노트북 안에서 그래프를 그리기 위해\n",
        "%matplotlib inline\n",
        "# %matplotlib nbagg\n",
        "    \n",
        "import pandas as pd\n",
        "import numpy as np\n",
        "import matplotlib.pyplot as plt\n",
        "import seaborn as sns\n",
        "plt.rcParams['figure.figsize'] = [10, 6]\n",
        "\n",
        "\n",
        "# Suppress Deprecation and Incorrect Usage Warnings \n",
        "import warnings\n",
        "warnings.filterwarnings('ignore')\n",
        "\n",
        "# #  display two pandas tables side by side\n",
        "# from IPython.display import display, HTML\n",
        "# CSS = \"\"\"\n",
        "# .output {\n",
        "#     flex-direction: row;\n",
        "# }\n",
        "# \"\"\"\n",
        "# HTML('<style>{}</style>'.format(CSS))\n",
        "\n",
        "\n",
        "# 기본 글꼴 변경\n",
        "import matplotlib as mpl\n",
        "mpl.font_manager._rebuild()\n",
        "mpl.pyplot.rc('font', family='NanumBarunGothic')\n",
        "\n",
        "# allow multiple outputs\n",
        "# from IPython.core.interactiveshell import InteractiveShell\n",
        "# InteractiveShell.ast_node_interactivity = \"all\"\n",
        "\n",
        "# allow image input\n",
        "from IPython.display import Image"
      ],
      "execution_count": 0,
      "outputs": []
    },
    {
      "cell_type": "code",
      "metadata": {
        "id": "ZnMkdFRqNQup",
        "colab_type": "code",
        "colab": {}
      },
      "source": [
        "# 그래프에서 한글표현을 위해 폰트를 설치합니다.\n",
        "# %config InlineBackend.figure_format = 'retina'\n",
        "\n",
        "# !apt -qq -y install fonts-nanum > /dev/null\n",
        "# import matplotlib.font_manager as fm\n",
        "# fontpath = '/usr/share/fonts/truetype/nanum/NanumBarunGothic.ttf'\n",
        "# font = fm.FontProperties(fname=fontpath, size=9)"
      ],
      "execution_count": 0,
      "outputs": []
    },
    {
      "cell_type": "code",
      "metadata": {
        "colab_type": "code",
        "id": "KkMdPnyia8av",
        "colab": {}
      },
      "source": [
        "def configure_plotly_browser_state():\n",
        "  import IPython\n",
        "  display(IPython.core.display.HTML('''\n",
        "        <script src=\"/static/components/requirejs/require.js\"></script>\n",
        "        <script>\n",
        "          requirejs.config({\n",
        "            paths: {\n",
        "              base: '/static/base',\n",
        "              plotly: 'https://cdn.plot.ly/plotly-latest.min.js?noext',\n",
        "            },\n",
        "          });\n",
        "        </script>\n",
        "        '''))"
      ],
      "execution_count": 0,
      "outputs": []
    },
    {
      "cell_type": "markdown",
      "metadata": {
        "id": "WQMsczZXLCe5",
        "colab_type": "text"
      },
      "source": [
        "Image('https://i.stack.imgur.com/ScJfR.png')\n"
      ]
    },
    {
      "cell_type": "code",
      "metadata": {
        "colab_type": "code",
        "id": "QKQVqVGnHkZg",
        "colab": {}
      },
      "source": [
        ""
      ],
      "execution_count": 0,
      "outputs": []
    },
    {
      "cell_type": "markdown",
      "metadata": {
        "colab_type": "text",
        "id": "nOok33kat55L"
      },
      "source": [
        "# Library Importing(plotly 4.1.1)"
      ]
    },
    {
      "cell_type": "code",
      "metadata": {
        "colab_type": "code",
        "id": "148pDlGfNAVo",
        "colab": {
          "base_uri": "https://localhost:8080/",
          "height": 34
        },
        "outputId": "b5ee4599-a27a-49b2-a6e9-3e9eb8428b6a"
      },
      "source": [
        "from plotly import __version__\n",
        "print (__version__)\n",
        "import plotly.express as px\n",
        "from plotly.subplots import make_subplots\n",
        "import plotly.graph_objs as go\n",
        "import plotly.figure_factory as ff\n",
        "\n",
        "# Display all cell outputs\n",
        "from IPython.core.interactiveshell import InteractiveShell\n",
        "\n",
        "# Jupyter setup\n",
        "# init_notebook_mode(connected=True)\n",
        "\n",
        "import ipywidgets as widgets"
      ],
      "execution_count": 10,
      "outputs": [
        {
          "output_type": "stream",
          "text": [
            "4.1.1\n"
          ],
          "name": "stdout"
        }
      ]
    },
    {
      "cell_type": "code",
      "metadata": {
        "colab_type": "code",
        "id": "Nn7ajSuqt55U",
        "colab": {}
      },
      "source": [
        "import plotly\n",
        "from plotly import tools\n",
        "\n",
        "# plotly + cufflinks in offline mode\n",
        "from plotly.offline import download_plotlyjs, init_notebook_mode, plot, iplot"
      ],
      "execution_count": 0,
      "outputs": []
    },
    {
      "cell_type": "markdown",
      "metadata": {
        "colab_type": "text",
        "id": "Sc-OXJrht55b"
      },
      "source": [
        "# Library Importing(plotly 3.6.1)"
      ]
    },
    {
      "cell_type": "code",
      "metadata": {
        "colab_type": "code",
        "id": "XkHvjRWit55d",
        "colab": {}
      },
      "source": [
        "from plotly import __version__\n",
        "print (__version__)\n",
        "import plotly\n",
        "from plotly import tools\n",
        "import plotly.plotly as py\n",
        "import plotly.graph_objs as go\n",
        "import plotly.figure_factory as ff\n",
        "\n",
        "# Cufflinks wrapper on plotly\n",
        "import cufflinks as cf\n",
        "\n",
        "# Display all cell outputs\n",
        "from IPython.core.interactiveshell import InteractiveShell\n",
        "\n",
        "# plotly + cufflinks in offline mode\n",
        "from plotly.offline import download_plotlyjs, init_notebook_mode, plot, iplot\n",
        "cf.go_offline()\n",
        "\n",
        "# set the global theme\n",
        "cf.set_config_file(world_readable=True, theme='pearl', offline=True)\n",
        "\n",
        "# Jupyter setup\n",
        "init_notebook_mode(connected=True)\n",
        "\n",
        "import ipywidgets as widgets"
      ],
      "execution_count": 0,
      "outputs": []
    },
    {
      "cell_type": "code",
      "metadata": {
        "colab_type": "code",
        "id": "ESujnAs3t55k",
        "colab": {}
      },
      "source": [
        "def configure_plotly_browser_state():\n",
        "  import IPython\n",
        "  display(IPython.core.display.HTML('''\n",
        "        <script src=\"/static/components/requirejs/require.js\"></script>\n",
        "        <script>\n",
        "          requirejs.config({\n",
        "            paths: {\n",
        "              base: '/static/base',\n",
        "              plotly: 'https://cdn.plot.ly/plotly-latest.min.js?noext',\n",
        "            },\n",
        "          });\n",
        "        </script>\n",
        "        '''))"
      ],
      "execution_count": 0,
      "outputs": []
    },
    {
      "cell_type": "markdown",
      "metadata": {
        "colab_type": "text",
        "id": "DelvmptDt55q"
      },
      "source": [
        "# plotly 테마 설정"
      ]
    },
    {
      "cell_type": "markdown",
      "metadata": {
        "colab_type": "text",
        "id": "zj7TdzJgt55s"
      },
      "source": [
        "theming 참고1: https://medium.com/plotly/introducing-plotly-py-theming-b644109ac9c7<br>\n",
        "theming 참고2: https://nbviewer.jupyter.org/github/jonmmease/plotly.py_release_notebooks/blob/master/notebooks/v3.4.0/templates-gapminder.ipynb <br>\n",
        "기본theme설정/해제 참고: https://plot.ly/python/templates/#specifying-a-default-themes "
      ]
    },
    {
      "cell_type": "code",
      "metadata": {
        "colab_type": "code",
        "id": "00lai7EnHjQy",
        "colab": {}
      },
      "source": [
        "import plotly.io as pio\n",
        "pio.templates.default = \"plotly\" # ['ggplot2', 'seaborn', 'plotly','plotly_white', 'plotly_dark','presentation', 'xgridoff', 'none']\n",
        "\n",
        "# fig = go.Figure(layout={\n",
        "#     'title' : 'Figure Title',\n",
        "#     'font' : {'size': 15, 'family': 'Courier'}\n",
        "# })\n",
        "\n",
        "# templated_fig = pio.to_templated(fig)\n",
        "# pio.templates['large_courier'] = templated_fig.layout.template\n",
        "\n",
        "# pio.templates.default = 'large_courier'"
      ],
      "execution_count": 0,
      "outputs": []
    },
    {
      "cell_type": "code",
      "metadata": {
        "id": "dBZTPHJwufaL",
        "colab_type": "code",
        "colab": {
          "base_uri": "https://localhost:8080/",
          "height": 34
        },
        "outputId": "f2f08202-674d-4002-be51-bef4a2fde144"
      },
      "source": [
        "train = pd.read_csv(\"/content/train.csv\", parse_dates=[\"datetime\"])\n",
        "train.shape"
      ],
      "execution_count": 12,
      "outputs": [
        {
          "output_type": "execute_result",
          "data": {
            "text/plain": [
              "(10886, 12)"
            ]
          },
          "metadata": {
            "tags": []
          },
          "execution_count": 12
        }
      ]
    },
    {
      "cell_type": "code",
      "metadata": {
        "id": "jJYwcobg2coV",
        "colab_type": "code",
        "colab": {}
      },
      "source": [
        "train['year'] = train['datetime'].dt.year\n",
        "train['month'] = train['datetime'].dt.month\n",
        "train['day'] = train['datetime'].dt.day\n",
        "train['hour'] = train['datetime'].dt.hour\n",
        "train['minute'] = train['datetime'].dt.minute\n",
        "train['second'] = train['datetime'].dt.second"
      ],
      "execution_count": 0,
      "outputs": []
    },
    {
      "cell_type": "code",
      "metadata": {
        "id": "FPZqQE3Y6KAR",
        "colab_type": "code",
        "colab": {
          "base_uri": "https://localhost:8080/",
          "height": 204
        },
        "outputId": "84a48854-d76b-404d-b68d-974d001f6247"
      },
      "source": [
        "train.head()"
      ],
      "execution_count": 25,
      "outputs": [
        {
          "output_type": "execute_result",
          "data": {
            "text/html": [
              "<div>\n",
              "<style scoped>\n",
              "    .dataframe tbody tr th:only-of-type {\n",
              "        vertical-align: middle;\n",
              "    }\n",
              "\n",
              "    .dataframe tbody tr th {\n",
              "        vertical-align: top;\n",
              "    }\n",
              "\n",
              "    .dataframe thead th {\n",
              "        text-align: right;\n",
              "    }\n",
              "</style>\n",
              "<table border=\"1\" class=\"dataframe\">\n",
              "  <thead>\n",
              "    <tr style=\"text-align: right;\">\n",
              "      <th></th>\n",
              "      <th>datetime</th>\n",
              "      <th>season</th>\n",
              "      <th>holiday</th>\n",
              "      <th>workingday</th>\n",
              "      <th>weather</th>\n",
              "      <th>temp</th>\n",
              "      <th>atemp</th>\n",
              "      <th>humidity</th>\n",
              "      <th>windspeed</th>\n",
              "      <th>casual</th>\n",
              "      <th>registered</th>\n",
              "      <th>count</th>\n",
              "      <th>year</th>\n",
              "      <th>month</th>\n",
              "      <th>day</th>\n",
              "      <th>hour</th>\n",
              "      <th>minute</th>\n",
              "      <th>second</th>\n",
              "    </tr>\n",
              "  </thead>\n",
              "  <tbody>\n",
              "    <tr>\n",
              "      <th>0</th>\n",
              "      <td>2011-01-01 00:00:00</td>\n",
              "      <td>1</td>\n",
              "      <td>0</td>\n",
              "      <td>0</td>\n",
              "      <td>1</td>\n",
              "      <td>9.84</td>\n",
              "      <td>14.395</td>\n",
              "      <td>81</td>\n",
              "      <td>0.0</td>\n",
              "      <td>3</td>\n",
              "      <td>13</td>\n",
              "      <td>16</td>\n",
              "      <td>2011</td>\n",
              "      <td>1</td>\n",
              "      <td>1</td>\n",
              "      <td>0</td>\n",
              "      <td>0</td>\n",
              "      <td>0</td>\n",
              "    </tr>\n",
              "    <tr>\n",
              "      <th>1</th>\n",
              "      <td>2011-01-01 01:00:00</td>\n",
              "      <td>1</td>\n",
              "      <td>0</td>\n",
              "      <td>0</td>\n",
              "      <td>1</td>\n",
              "      <td>9.02</td>\n",
              "      <td>13.635</td>\n",
              "      <td>80</td>\n",
              "      <td>0.0</td>\n",
              "      <td>8</td>\n",
              "      <td>32</td>\n",
              "      <td>40</td>\n",
              "      <td>2011</td>\n",
              "      <td>1</td>\n",
              "      <td>1</td>\n",
              "      <td>1</td>\n",
              "      <td>0</td>\n",
              "      <td>0</td>\n",
              "    </tr>\n",
              "    <tr>\n",
              "      <th>2</th>\n",
              "      <td>2011-01-01 02:00:00</td>\n",
              "      <td>1</td>\n",
              "      <td>0</td>\n",
              "      <td>0</td>\n",
              "      <td>1</td>\n",
              "      <td>9.02</td>\n",
              "      <td>13.635</td>\n",
              "      <td>80</td>\n",
              "      <td>0.0</td>\n",
              "      <td>5</td>\n",
              "      <td>27</td>\n",
              "      <td>32</td>\n",
              "      <td>2011</td>\n",
              "      <td>1</td>\n",
              "      <td>1</td>\n",
              "      <td>2</td>\n",
              "      <td>0</td>\n",
              "      <td>0</td>\n",
              "    </tr>\n",
              "    <tr>\n",
              "      <th>3</th>\n",
              "      <td>2011-01-01 03:00:00</td>\n",
              "      <td>1</td>\n",
              "      <td>0</td>\n",
              "      <td>0</td>\n",
              "      <td>1</td>\n",
              "      <td>9.84</td>\n",
              "      <td>14.395</td>\n",
              "      <td>75</td>\n",
              "      <td>0.0</td>\n",
              "      <td>3</td>\n",
              "      <td>10</td>\n",
              "      <td>13</td>\n",
              "      <td>2011</td>\n",
              "      <td>1</td>\n",
              "      <td>1</td>\n",
              "      <td>3</td>\n",
              "      <td>0</td>\n",
              "      <td>0</td>\n",
              "    </tr>\n",
              "    <tr>\n",
              "      <th>4</th>\n",
              "      <td>2011-01-01 04:00:00</td>\n",
              "      <td>1</td>\n",
              "      <td>0</td>\n",
              "      <td>0</td>\n",
              "      <td>1</td>\n",
              "      <td>9.84</td>\n",
              "      <td>14.395</td>\n",
              "      <td>75</td>\n",
              "      <td>0.0</td>\n",
              "      <td>0</td>\n",
              "      <td>1</td>\n",
              "      <td>1</td>\n",
              "      <td>2011</td>\n",
              "      <td>1</td>\n",
              "      <td>1</td>\n",
              "      <td>4</td>\n",
              "      <td>0</td>\n",
              "      <td>0</td>\n",
              "    </tr>\n",
              "  </tbody>\n",
              "</table>\n",
              "</div>"
            ],
            "text/plain": [
              "             datetime  season  holiday  workingday  ...  day  hour  minute  second\n",
              "0 2011-01-01 00:00:00       1        0           0  ...    1     0       0       0\n",
              "1 2011-01-01 01:00:00       1        0           0  ...    1     1       0       0\n",
              "2 2011-01-01 02:00:00       1        0           0  ...    1     2       0       0\n",
              "3 2011-01-01 03:00:00       1        0           0  ...    1     3       0       0\n",
              "4 2011-01-01 04:00:00       1        0           0  ...    1     4       0       0\n",
              "\n",
              "[5 rows x 18 columns]"
            ]
          },
          "metadata": {
            "tags": []
          },
          "execution_count": 25
        }
      ]
    },
    {
      "cell_type": "code",
      "metadata": {
        "id": "-RNiR0va6y8w",
        "colab_type": "code",
        "colab": {
          "base_uri": "https://localhost:8080/",
          "height": 416
        },
        "outputId": "7a7b4fa1-a863-4875-b7f9-d79a89501214"
      },
      "source": [
        "fig = make_subplots(rows=3, cols=3, \n",
        "                    specs=[[{\"type\": \"bar\"},{\"type\": \"bar\"},{\"type\": \"bar\"}],\n",
        "                    [{\"type\": \"bar\"},{\"type\": \"bar\"},{\"type\": \"bar\"}]]\n",
        "                    )\n",
        "\n",
        "fig.add_trace(go.Bar(x=train['year'], y=train['count']), row=1, col=1)\n",
        "fig.add_trace(go.Bar(x=train['month'], y=train['count']), row=1, col=2)\n",
        "fig.add_trace(go.Bar(x=train['day'], y=train['count']), row=1, col=3)\n",
        "fig.add_trace(go.Bar(x=train['hour'], y=train['count']), row=2, col=1)\n",
        "fig.add_trace(go.Bar(x=train['minute'], y=train['count']), row=2, col=2)\n",
        "fig.add_trace(go.Bar(x=train['second'], y=train['count']), row=2, col=3)\n",
        "\n",
        "fig.update_layout(height=700, showlegend=False)\n",
        "\n",
        "fig.show()\n",
        "\n",
        "# make_subplots(rows=1, cols=1, shared_xaxes=False, shared_yaxes=False, start_cell='top-left', print_grid=False, horizontal_spacing=None, vertical_spacing=None, subplot_titles=None, column_widths=None, row_heights=None, specs=None, insets=None, column_titles=None, row_titles=None, x_title=None, y_title=None, **kwargs)"
      ],
      "execution_count": 28,
      "outputs": [
        {
          "output_type": "error",
          "ename": "ValueError",
          "evalue": "ignored",
          "traceback": [
            "\u001b[0;31m---------------------------------------------------------------------------\u001b[0m",
            "\u001b[0;31mValueError\u001b[0m                                Traceback (most recent call last)",
            "\u001b[0;32m<ipython-input-28-e82c77ab3cab>\u001b[0m in \u001b[0;36m<module>\u001b[0;34m()\u001b[0m\n\u001b[1;32m      1\u001b[0m fig = make_subplots(rows=3, cols=3, \n\u001b[1;32m      2\u001b[0m                     specs=[[{\"type\": \"bar\"},{\"type\": \"bar\"},{\"type\": \"bar\"}],\n\u001b[0;32m----> 3\u001b[0;31m                     [{\"type\": \"bar\"},{\"type\": \"bar\"},{\"type\": \"bar\"}]]\n\u001b[0m\u001b[1;32m      4\u001b[0m                     )\n\u001b[1;32m      5\u001b[0m \u001b[0;34m\u001b[0m\u001b[0m\n",
            "\u001b[0;32m/usr/local/lib/python3.6/dist-packages/plotly/subplots.py\u001b[0m in \u001b[0;36mmake_subplots\u001b[0;34m(rows, cols, shared_xaxes, shared_yaxes, start_cell, print_grid, horizontal_spacing, vertical_spacing, subplot_titles, column_widths, row_heights, specs, insets, column_titles, row_titles, x_title, y_title, **kwargs)\u001b[0m\n\u001b[1;32m    420\u001b[0m \u001b[0mdimensions\u001b[0m \u001b[0;34m(\u001b[0m\u001b[0;34m{\u001b[0m\u001b[0mrows\u001b[0m\u001b[0;34m}\u001b[0m \u001b[0mx\u001b[0m \u001b[0;34m{\u001b[0m\u001b[0mcols\u001b[0m\u001b[0;34m}\u001b[0m\u001b[0;34m)\u001b[0m\u001b[0;34m.\u001b[0m\u001b[0;34m\u001b[0m\u001b[0;34m\u001b[0m\u001b[0m\n\u001b[1;32m    421\u001b[0m     Received value of type {typ}: {val}\"\"\".format(\n\u001b[0;32m--> 422\u001b[0;31m                 \u001b[0mrows\u001b[0m\u001b[0;34m=\u001b[0m\u001b[0mrows\u001b[0m\u001b[0;34m,\u001b[0m \u001b[0mcols\u001b[0m\u001b[0;34m=\u001b[0m\u001b[0mcols\u001b[0m\u001b[0;34m,\u001b[0m \u001b[0mtyp\u001b[0m\u001b[0;34m=\u001b[0m\u001b[0mtype\u001b[0m\u001b[0;34m(\u001b[0m\u001b[0mspecs\u001b[0m\u001b[0;34m)\u001b[0m\u001b[0;34m,\u001b[0m \u001b[0mval\u001b[0m\u001b[0;34m=\u001b[0m\u001b[0mrepr\u001b[0m\u001b[0;34m(\u001b[0m\u001b[0mspecs\u001b[0m\u001b[0;34m)\u001b[0m\u001b[0;34m\u001b[0m\u001b[0;34m\u001b[0m\u001b[0m\n\u001b[0m\u001b[1;32m    423\u001b[0m             )\n\u001b[1;32m    424\u001b[0m         )\n",
            "\u001b[0;31mValueError\u001b[0m: \nThe 'specs' argument to make_subplots must be a 2D list of dictionaries with dimensions (3 x 3).\n    Received value of type <class 'list'>: [[{'type': 'bar'}, {'type': 'bar'}, {'type': 'bar'}], [{'type': 'bar'}, {'type': 'bar'}, {'type': 'bar'}]]"
          ]
        }
      ]
    }
  ]
}