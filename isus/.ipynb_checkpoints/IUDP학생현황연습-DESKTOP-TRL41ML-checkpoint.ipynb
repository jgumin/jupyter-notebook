{
 "cells": [
  {
   "cell_type": "markdown",
   "metadata": {
    "hideCode": true,
    "hideOutput": true,
    "hidePrompt": true,
    "toc": true
   },
   "source": [
    "<h1>Table of Contents<span class=\"tocSkip\"></span></h1>\n",
    "<div class=\"toc\"><ul class=\"toc-item\"><li><span><a href=\"#기관별-인턴십-참가자수-현황\" data-toc-modified-id=\"기관별-인턴십-참가자수-현황-1\"><span class=\"toc-item-num\">1&nbsp;&nbsp;</span>기관별 인턴십 참가자수 현황</a></span></li><li><span><a href=\"#베트남-학생-정보(특정-국가-학생-현황)\" data-toc-modified-id=\"베트남-학생-정보(특정-국가-학생-현황)-2\"><span class=\"toc-item-num\">2&nbsp;&nbsp;</span>베트남 학생 정보(특정 국가 학생 현황)</a></span></li><li><span><a href=\"#논문평점--급간별-인원수-확인\" data-toc-modified-id=\"논문평점--급간별-인원수-확인-3\"><span class=\"toc-item-num\">3&nbsp;&nbsp;</span>논문평점  급간별 인원수 확인</a></span></li><li><span><a href=\"#전공별-학생수-비율(고대포함)\" data-toc-modified-id=\"전공별-학생수-비율(고대포함)-4\"><span class=\"toc-item-num\">4&nbsp;&nbsp;</span>전공별 학생수 비율(고대포함)</a></span></li><li><span><a href=\"##-'2012-08-01'-이-후-입학-학생-대상-지도교수별-학생수\" data-toc-modified-id=\"#-'2012-08-01'-이-후-입학-학생-대상-지도교수별-학생수-5\"><span class=\"toc-item-num\">5&nbsp;&nbsp;</span># '2012-08-01' 이 후 입학 학생 대상 지도교수별 학생수</a></span></li><li><span><a href=\"#2017년-4월-현재-재학생-현황\" data-toc-modified-id=\"2017년-4월-현재-재학생-현황-6\"><span class=\"toc-item-num\">6&nbsp;&nbsp;</span>2017년 4월 현재 재학생 현황</a></span></li></ul></div>"
   ]
  },
  {
   "cell_type": "code",
   "execution_count": null,
   "metadata": {
    "hideCode": true,
    "hideOutput": true,
    "hidePrompt": true
   },
   "outputs": [],
   "source": [
    "# 노트북 안에서 그래프를 그리기 위해\n",
    "%matplotlib inline\n",
    "\n",
    "# Import the standard Python Scientific Libraries\n",
    "import pandas as pd\n",
    "import numpy as np\n",
    "from scipy import stats\n",
    "import matplotlib.pyplot as plt\n",
    "import seaborn as sns\n",
    "\n",
    "# Suppress Deprecation and Incorrect Usage Warnings \n",
    "import warnings\n",
    "warnings.filterwarnings('ignore')"
   ]
  },
  {
   "cell_type": "code",
   "execution_count": 1,
   "metadata": {},
   "outputs": [],
   "source": [
    "# %matplotlib nbagg\n",
    "\n",
    "import pandas as pd\n",
    "import numpy as np\n",
    "import matplotlib.pyplot as plt\n",
    "import seaborn as sns\n",
    "plt.rcParams['figure.figsize'] = [10, 6]\n",
    "\n",
    "\n",
    "# #  display two pandas tables side by side\n",
    "# from IPython.display import display, HTML\n",
    "# CSS = \"\"\"\n",
    "# .output {\n",
    "#     flex-direction: row;\n",
    "# }\n",
    "# \"\"\"\n",
    "# HTML('<style>{}</style>'.format(CSS))\n",
    "\n",
    "\n",
    "# 기본 글꼴 변경\n",
    "import matplotlib as mpl\n",
    "mpl.font_manager._rebuild()\n",
    "mpl.pyplot.rc('font', family='NanumBarunGothic')\n",
    "\n",
    "# allow multiple outputs\n",
    "from IPython.core.interactiveshell import InteractiveShell\n",
    "InteractiveShell.ast_node_interactivity = \"all\""
   ]
  },
  {
   "cell_type": "code",
   "execution_count": null,
   "metadata": {
    "hidePrompt": false
   },
   "outputs": [],
   "source": [
    "stu_info = pd.read_excel('Z:/200. 연락처/IUDP학생현황.xlsx',\n",
    "                         date_parser=['참가기간(시작)', '참가기간(종료)', '체류기간(시작)', '체류기간(종료)', '인턴십 기간(시작)', \n",
    "                                      '인턴십 기간(종료)', '인턴십 기간2(시작)', '인턴십 기간2(종료)', '인턴십 기간3(시작)', \n",
    "                                      '인턴십 기간3(종료)', '국외여행1-1', '국외여행1-2', '국외여행2-1', '국외여행2-2', '국외여행3-1', '국외여행3-2'])\n",
    "# Z:/200. 연락처/IUDP학생현황.xlsx\n",
    "stu_info.shape  "
   ]
  },
  {
   "cell_type": "code",
   "execution_count": 18,
   "metadata": {
    "hidePrompt": false
   },
   "outputs": [
    {
     "data": {
      "text/plain": [
       "(341, 88)"
      ]
     },
     "execution_count": 18,
     "metadata": {},
     "output_type": "execute_result"
    }
   ],
   "source": [
    "stu_info = pd.read_excel('./data/IUDP학생현황.xlsx',\n",
    "                         date_parser=['참가기간(시작)', '참가기간(종료)', '체류기간(시작)', '체류기간(종료)', '인턴십 기간(시작)', \n",
    "                                      '인턴십 기간(종료)', '인턴십 기간2(시작)', '인턴십 기간2(종료)', '인턴십 기간3(시작)', \n",
    "                                      '인턴십 기간3(종료)', '국외여행1-1', '국외여행1-2', '국외여행2-1', '국외여행2-2', '국외여행3-1', '국외여행3-2'])\n",
    "# Z:/200. 연락처/IUDP학생현황.xlsx\n",
    "stu_info.shape  "
   ]
  },
  {
   "cell_type": "code",
   "execution_count": null,
   "metadata": {
    "scrolled": true
   },
   "outputs": [],
   "source": [
    "import missingno as msno\n",
    "\n",
    "msno.matrix(stu_info, figsize=(12,5))"
   ]
  },
  {
   "cell_type": "code",
   "execution_count": null,
   "metadata": {},
   "outputs": [],
   "source": [
    "sns.countplot(y='성별', data=stu_info)"
   ]
  },
  {
   "cell_type": "markdown",
   "metadata": {},
   "source": [
    "## 기관별 인턴십 참가자수 현황"
   ]
  },
  {
   "cell_type": "code",
   "execution_count": null,
   "metadata": {},
   "outputs": [],
   "source": [
    "stu_info['인턴십_국문'].unique()"
   ]
  },
  {
   "cell_type": "code",
   "execution_count": null,
   "metadata": {},
   "outputs": [],
   "source": [
    "int_org = pd.DataFrame(stu_info['인턴십'].value_counts())\n",
    "int_org['인턴십 기관'] = int_org.index\n",
    "int_org.columns = ['참가자수','인턴십 기관']\n",
    "int_org = int_org.reset_index().drop('index', axis=1)\n",
    "int_org = int_org.drop(0, axis=0).set_index('인턴십 기관')\n",
    "int_org\n",
    "# int_org.to_excel('인턴십기관별참가자수.xlsx')"
   ]
  },
  {
   "cell_type": "markdown",
   "metadata": {},
   "source": [
    "## 베트남 학생 정보(특정 국가 학생 현황)"
   ]
  },
  {
   "cell_type": "code",
   "execution_count": null,
   "metadata": {},
   "outputs": [],
   "source": [
    "# 베트남 학생 정보\n",
    "# 단일조건\n",
    "vtn_stu=stu_info[stu_info['국가_국문']=='베트남'][['전공', '수', '참가기간(시작)','성명', '국가', '도시', '성별', '소속', '직위', '자국내 주소', '이메일', '연락처(자국)']]\n",
    "# & (stu_info['학적']=='재학')\n",
    "\n",
    "# 다중조건\n",
    "# vtn_stu=stu_info[(stu_info['국가_국문']=='베트남')&(stu_info['성별']=='남')]\n",
    "#         [['전공', '수', '참가기간(시작)','성명', '국가', '도시',\n",
    "#           '성별', '소속', '직위', '자국내 주소', '이메일', '연락처(자국)']]\n",
    "# vtn_stu=vtn_stu.reset_index().drop('index', axis=1).set_index('전공')\n",
    "# vtn_stu.head()\n",
    "\n",
    "# 추출\n",
    "vtn_stu.to_excel('베트남학생정보.xlsx')"
   ]
  },
  {
   "cell_type": "markdown",
   "metadata": {},
   "source": [
    "## 논문평점  급간별 인원수 확인"
   ]
  },
  {
   "cell_type": "code",
   "execution_count": null,
   "metadata": {},
   "outputs": [],
   "source": [
    "sns.distplot(stu_info[stu_info['논문평점'] > 70.0]['논문평점'])"
   ]
  },
  {
   "cell_type": "code",
   "execution_count": null,
   "metadata": {},
   "outputs": [],
   "source": [
    "plt.figure(figsize=(8,3))\n",
    "sns.countplot(y='학적2', data=stu_info)"
   ]
  },
  {
   "cell_type": "markdown",
   "metadata": {},
   "source": [
    "## 전공별 학생수 비율(고대포함)"
   ]
  },
  {
   "cell_type": "code",
   "execution_count": null,
   "metadata": {},
   "outputs": [],
   "source": [
    "stu_maj_count = pd.DataFrame(stu_info['전공'].value_counts())\n",
    "stu_maj_per = pd.DataFrame(stu_info['전공'].value_counts(normalize=True))\n",
    "stu_maj_df = stu_maj_count.merge(stu_maj_per, left_index=True, right_index=True)\n",
    "stu_maj_df.columns = ['학생수', '비율']\n",
    "stu_maj_df"
   ]
  },
  {
   "cell_type": "code",
   "execution_count": null,
   "metadata": {},
   "outputs": [],
   "source": [
    "# 고대제외 전공별 학생수 비율\n",
    "stu_maj_count = pd.DataFrame(stu_info[stu_info['참가기간(시작)'] >= '2012-08-01']['전공'].value_counts())\n",
    "stu_maj_per = pd.DataFrame(stu_info['전공'].value_counts(normalize=True))\n",
    "stu_maj_df = stu_maj_count.merge(stu_maj_per, left_index=True, right_index=True)\n",
    "stu_maj_df.columns = ['학생수', '비율']\n",
    "stu_maj_df"
   ]
  },
  {
   "cell_type": "code",
   "execution_count": null,
   "metadata": {},
   "outputs": [],
   "source": [
    "# 특정값 포함 행 찾기\n",
    "stu_info[stu_info['지도교수'].isin(['김현성(Improving and/or re-engineering governance with digital technologies)'])]"
   ]
  },
  {
   "cell_type": "markdown",
   "metadata": {},
   "source": [
    "## # '2012-08-01' 이 후 입학 학생 대상 지도교수별 학생수"
   ]
  },
  {
   "cell_type": "code",
   "execution_count": null,
   "metadata": {},
   "outputs": [],
   "source": [
    "# '2012-08-01' 이 후 입학 학생 대상 지도교수별 학생수\n",
    "stu_info['dum'] = 1\n",
    "pd.DataFrame(stu_info.groupby(stu_info['지도교수'])['dum'].sum())"
   ]
  },
  {
   "cell_type": "markdown",
   "metadata": {},
   "source": [
    "## 2017년 4월 현재 재학생 현황"
   ]
  },
  {
   "cell_type": "code",
   "execution_count": null,
   "metadata": {},
   "outputs": [],
   "source": [
    "import datetime"
   ]
  },
  {
   "cell_type": "code",
   "execution_count": null,
   "metadata": {},
   "outputs": [],
   "source": [
    "# stu_info = stu_info.copy[\n",
    "stu_info[(stu_info['참가기간(시작)'] > datetime.datetime(2014, 8, 1)) & \n",
    "         (stu_info['참가기간(종료)'] < datetime.datetime(2017, 8, 1))]['성명']"
   ]
  },
  {
   "cell_type": "markdown",
   "metadata": {},
   "source": [
    "## 교수별 논문심사현황"
   ]
  },
  {
   "cell_type": "code",
   "execution_count": null,
   "metadata": {},
   "outputs": [],
   "source": [
    "thesis_exam = pd.read_excel(\"data/MUAP10기 논문심사위원.xlsx\", sheet_name='Sheet1')"
   ]
  },
  {
   "cell_type": "markdown",
   "metadata": {},
   "source": [
    "각 column에서 특정 값이 몇 번 쓰였는지 알고 싶다고 해보자.\n",
    "가장 쉽게 해볼 수 있는 건 pandas의 value_counts 함수다.\n",
    "\n",
    "  - df.apply(pd.value_counts).fillna(0).astype(int)\n",
    "\n",
    "fillna(0)은 NaN이 보기 싫어서 설정해준 것이고, astype(int)은 소수점을 생략하려고 적용한다.\n",
    "\n",
    "[출처: dataframe 내 data 빈도 세기] (http://blog.naver.com/PostView.nhn?blogId=nomadgee&logNo=220843687206&redirect=Dlog&widgetTypeCall=true)"
   ]
  },
  {
   "cell_type": "code",
   "execution_count": null,
   "metadata": {},
   "outputs": [],
   "source": [
    "thesis_exam_committee = thesis_exam[['심사위원장','심사위원','지도교수']]\n",
    "thesis_exam_committee_position_num = thesis_exam_committee.apply(pd.value_counts).fillna(0).astype(int)\n",
    "thesis_exam_committee_num = pd.concat([thesis_exam_committee_position_num, \n",
    "                                       thesis_exam_committee_position_num.sum(axis=1)], \n",
    "                                      axis=1)"
   ]
  },
  {
   "cell_type": "code",
   "execution_count": null,
   "metadata": {},
   "outputs": [],
   "source": [
    "thesis_exam_committee_num.rename(columns={0:'합계'})"
   ]
  },
  {
   "cell_type": "markdown",
   "metadata": {},
   "source": [
    "#### 입시미지원국가 출신 동문 정보"
   ]
  },
  {
   "cell_type": "code",
   "execution_count": null,
   "metadata": {},
   "outputs": [],
   "source": [
    "con_stu_info=stu_info[stu_info['국가_국문'].isin(['과테말라', '나이지리아', '라오스', '르완다', '리비아',\n",
    "                                              '말레이지아', '몽골', '미얀마', '스리랑카', '시리아', \n",
    "                                              '아르헨티나', '아프카니스탄', '알제리', '에콰도르', \n",
    "                                              '에티오피아', '엘살바도르', '우간다', '우크라이나', \n",
    "                                              '인도네시아', '캄보디아', '케냐', '콩고', '터키', '파나마', \n",
    "                                              '폴란드', '필리핀']) == False]['국가_국문'].unique()\n",
    "\n",
    "con_stu=stu_info[(stu_info['국가_국문'].isin(con_stu_info)) & (stu_info['연락처(자국)'] != '정보없음')][['전공', '수', '참가기간(시작)','성명', '국가', '국가_국문', '도시_국문', '성별', '소속', '직위', '이메일', '연락처(자국)']]\n",
    "\n",
    "\n",
    "# 추출\n",
    "con_stu.to_excel('Z:/02. 학생선발/2019입시/4.미완료자및미지원국가공지/190408_미지원국가출신동문연락처.xlsx')"
   ]
  },
  {
   "cell_type": "markdown",
   "metadata": {},
   "source": [
    "#### mglep 국별 학생 현황 (영남대 포함)"
   ]
  },
  {
   "cell_type": "code",
   "execution_count": null,
   "metadata": {},
   "outputs": [],
   "source": [
    "stu_info_mglep = pd.read_excel('Z:/200. 연락처/MGLEP학생현황(영남대포함).xlsx',\n",
    "                         date_parser=['참가기간(시작)', '참가기간(종료)', '체류기간(시작)', '체류기간(종료)', '인턴십 기간(시작)', \n",
    "                                      '인턴십 기간(종료)', '인턴십 기간2(시작)', '인턴십 기간2(종료)', '인턴십 기간3(시작)', \n",
    "                                      '인턴십 기간3(종료)', '국외여행1-1', '국외여행1-2', '국외여행2-1', '국외여행2-2', '국외여행3-1', '국외여행3-2'])\n",
    "# Z:/200. 연락처/IUDP학생현황.xlsx\n",
    "stu_info_mglep.shape  "
   ]
  },
  {
   "cell_type": "code",
   "execution_count": null,
   "metadata": {},
   "outputs": [],
   "source": [
    "mglep_survey = pd.read_excel('data/MGLEP 초청자선발현황.xlsx', \n",
    "                    sheet_name='survey', header=0)"
   ]
  },
  {
   "cell_type": "code",
   "execution_count": null,
   "metadata": {},
   "outputs": [],
   "source": [
    "mglep_survey['Country'] = mglep_survey['Country'].str.upper()"
   ]
  },
  {
   "cell_type": "code",
   "execution_count": null,
   "metadata": {},
   "outputs": [],
   "source": [
    "mglep_survey_joinrate_country = \\\n",
    "pd.merge(pd.DataFrame(mglep_survey['Country'].value_counts().reset_index()), \n",
    "         pd.DataFrame(stu_info_mglep['국가'].value_counts().reset_index()), \n",
    "         left_on = 'index', right_on = 'index', how='outer')"
   ]
  },
  {
   "cell_type": "code",
   "execution_count": null,
   "metadata": {},
   "outputs": [],
   "source": [
    "mglep_survey_joinrate_country = mglep_survey_joinrate_country[['index', '국가', 'Country']]\n",
    "mglep_survey_joinrate_country.columns = [['국가', '연수생수', '설문참가자수']]\n",
    "mglep_survey_joinrate_country"
   ]
  },
  {
   "cell_type": "code",
   "execution_count": null,
   "metadata": {},
   "outputs": [],
   "source": [
    "con_stu_info=stu_info[stu_info['국가_국문'].isin(['과테말라', '나이지리아', '라오스', '르완다', '리비아',\n",
    "                                              '말레이지아', '몽골', '미얀마', '스리랑카', '시리아', \n",
    "                                              '아르헨티나', '아프카니스탄', '알제리', '에콰도르', \n",
    "                                              '에티오피아', '엘살바도르', '우간다', '우크라이나', \n",
    "                                              '인도네시아', '캄보디아', '케냐', '콩고', '터키', '파나마', \n",
    "                                              '폴란드', '필리핀']) == False]['국가_국문'].unique()\n",
    "\n",
    "con_stu=stu_info[(stu_info['국가_국문'].isin(con_stu_info)) & (stu_info['연락처(자국)'] != '정보없음')][['전공', '수', '참가기간(시작)','성명', '국가', '국가_국문', '도시_국문', '성별', '소속', '직위', '이메일', '연락처(자국)']]\n",
    "\n",
    "\n",
    "# 추출\n",
    "con_stu.to_excel('Z:/02. 학생선발/2019입시/4.미완료자및미지원국가공지/190408_미지원국가출신동문연락처.xlsx')"
   ]
  },
  {
   "cell_type": "markdown",
   "metadata": {},
   "source": [
    "#### 전공별 / 국별 학생 현황"
   ]
  },
  {
   "cell_type": "markdown",
   "metadata": {},
   "source": [
    "`stu_info.pivot_table(values=None, index=None, columns=None, aggfunc='mean',\n",
    "                     fill_value=None, margins=False, dropna=True, \n",
    "                     margins_name='All')`"
   ]
  },
  {
   "cell_type": "code",
   "execution_count": 30,
   "metadata": {},
   "outputs": [],
   "source": [
    "# 학생 합계 계산을 위해 stu_info['성명'] 모두 1로 변경\n",
    "name = \\\n",
    "stu_info['성명'].replace(\n",
    "                        r'^.', 1, regex = True\n",
    "                        )\n",
    "#stu_info['성명'].replace(stu_info[stu_info['성명'] != \"\"]['성명'], 1)와 동일한 결과"
   ]
  },
  {
   "cell_type": "code",
   "execution_count": 43,
   "metadata": {},
   "outputs": [
    {
     "data": {
      "text/html": [
       "<div>\n",
       "<style scoped>\n",
       "    .dataframe tbody tr th:only-of-type {\n",
       "        vertical-align: middle;\n",
       "    }\n",
       "\n",
       "    .dataframe tbody tr th {\n",
       "        vertical-align: top;\n",
       "    }\n",
       "\n",
       "    .dataframe thead th {\n",
       "        text-align: right;\n",
       "    }\n",
       "</style>\n",
       "<table border=\"1\" class=\"dataframe\">\n",
       "  <thead>\n",
       "    <tr style=\"text-align: right;\">\n",
       "      <th>성별</th>\n",
       "      <th>남</th>\n",
       "      <th>여</th>\n",
       "    </tr>\n",
       "    <tr>\n",
       "      <th>전공</th>\n",
       "      <th></th>\n",
       "      <th></th>\n",
       "    </tr>\n",
       "  </thead>\n",
       "  <tbody>\n",
       "    <tr>\n",
       "      <th>MGLEP</th>\n",
       "      <td>Chi Duc TRANSo Phea NEAKIlvan TAUFANIFabian Ri...</td>\n",
       "      <td>Thuy Nhung TRANLeakhena SONGThi Hong Hieu BUIT...</td>\n",
       "    </tr>\n",
       "    <tr>\n",
       "      <th>MIPD</th>\n",
       "      <td>Resfaniarto INDRAKALaurent Patrice KALILIMayvi...</td>\n",
       "      <td>Dalila AFROZEDyah Lalita WIDYANARIEi Ei KhinGi...</td>\n",
       "    </tr>\n",
       "    <tr>\n",
       "      <th>MUAP</th>\n",
       "      <td>Gwo-Fang JienChadraabal OchirAltangerel Lkhagv...</td>\n",
       "      <td>Lin Yu-HsiuNgo Minh HoangMarta GoncalvesHuang ...</td>\n",
       "    </tr>\n",
       "    <tr>\n",
       "      <th>MURD</th>\n",
       "      <td>Silverio Paulo DE ROSA FREITASTahiriniaina And...</td>\n",
       "      <td>Laura LOZADA ACOSTAJacqueline Yamileth RIVERA ...</td>\n",
       "    </tr>\n",
       "  </tbody>\n",
       "</table>\n",
       "</div>"
      ],
      "text/plain": [
       "성별                                                     남  \\\n",
       "전공                                                         \n",
       "MGLEP  Chi Duc TRANSo Phea NEAKIlvan TAUFANIFabian Ri...   \n",
       "MIPD   Resfaniarto INDRAKALaurent Patrice KALILIMayvi...   \n",
       "MUAP   Gwo-Fang JienChadraabal OchirAltangerel Lkhagv...   \n",
       "MURD   Silverio Paulo DE ROSA FREITASTahiriniaina And...   \n",
       "\n",
       "성별                                                     여  \n",
       "전공                                                        \n",
       "MGLEP  Thuy Nhung TRANLeakhena SONGThi Hong Hieu BUIT...  \n",
       "MIPD   Dalila AFROZEDyah Lalita WIDYANARIEi Ei KhinGi...  \n",
       "MUAP   Lin Yu-HsiuNgo Minh HoangMarta GoncalvesHuang ...  \n",
       "MURD   Laura LOZADA ACOSTAJacqueline Yamileth RIVERA ...  "
      ]
     },
     "execution_count": 43,
     "metadata": {},
     "output_type": "execute_result"
    }
   ],
   "source": [
    "stu_info.pivot_table(values='성명', index='전공', columns='성별', aggfunc=np.sum)"
   ]
  },
  {
   "cell_type": "code",
   "execution_count": null,
   "metadata": {},
   "outputs": [],
   "source": []
  },
  {
   "cell_type": "code",
   "execution_count": null,
   "metadata": {},
   "outputs": [],
   "source": []
  },
  {
   "cell_type": "markdown",
   "metadata": {},
   "source": [
    "### 2014년 4월 현재 재학생 현황"
   ]
  },
  {
   "cell_type": "code",
   "execution_count": 96,
   "metadata": {},
   "outputs": [
    {
     "data": {
      "text/plain": [
       "35"
      ]
     },
     "execution_count": 96,
     "metadata": {},
     "output_type": "execute_result"
    }
   ],
   "source": [
    "# 2012년 8월 입학자 (o: MUAP, MGLEP, x: MURD, MIPD)\n",
    "# 2013년 8월 입학자 (o: MUAP, MGLEP, MURD, MIPD)\n",
    "\n",
    "stu_info.loc[\n",
    "        (\n",
    "            (stu_info['참가기간(시작)'] == '2012-08') & ((stu_info['전공'] == 'MUAP') | (stu_info['전공'] == 'MUAP'))\n",
    "        )  | \n",
    "        (stu_info['참가기간(시작)'] == '2013-08')\n",
    "                    ]['성명'].value_counts().sum()"
   ]
  },
  {
   "cell_type": "code",
   "execution_count": null,
   "metadata": {},
   "outputs": [],
   "source": []
  },
  {
   "cell_type": "markdown",
   "metadata": {},
   "source": [
    "### 2014년 10월 현재 재학생 현황"
   ]
  },
  {
   "cell_type": "code",
   "execution_count": 97,
   "metadata": {},
   "outputs": [
    {
     "data": {
      "text/plain": [
       "60"
      ]
     },
     "execution_count": 97,
     "metadata": {},
     "output_type": "execute_result"
    }
   ],
   "source": [
    "# 2012년 8월 입학자 (x: MUAP, MGLEP, MURD, MIPD)\n",
    "# 2013년 8월 입학자 (o: MUAP, MGLEP, MURD, MIPD)\n",
    "# 2014년 8월 입학자 (o: MUAP, MGLEP, MURD, MIPD)\n",
    "\n",
    "stu_info.loc[\n",
    "        (stu_info['참가기간(시작)'] == '2013-08')  | \n",
    "        (stu_info['참가기간(시작)'] == '2014-08')\n",
    "                    ]['성명'].value_counts().sum()"
   ]
  },
  {
   "cell_type": "code",
   "execution_count": null,
   "metadata": {},
   "outputs": [],
   "source": []
  }
 ],
 "metadata": {
  "celltoolbar": "Hide code",
  "hide_input": false,
  "kernelspec": {
   "display_name": "Python 3",
   "language": "python",
   "name": "python3"
  },
  "language_info": {
   "codemirror_mode": {
    "name": "ipython",
    "version": 3
   },
   "file_extension": ".py",
   "mimetype": "text/x-python",
   "name": "python",
   "nbconvert_exporter": "python",
   "pygments_lexer": "ipython3",
   "version": "3.7.1"
  },
  "toc": {
   "base_numbering": 1,
   "nav_menu": {},
   "number_sections": true,
   "sideBar": true,
   "skip_h1_title": false,
   "title_cell": "Table of Contents",
   "title_sidebar": "Contents",
   "toc_cell": true,
   "toc_position": {},
   "toc_section_display": true,
   "toc_window_display": false
  }
 },
 "nbformat": 4,
 "nbformat_minor": 2
}
