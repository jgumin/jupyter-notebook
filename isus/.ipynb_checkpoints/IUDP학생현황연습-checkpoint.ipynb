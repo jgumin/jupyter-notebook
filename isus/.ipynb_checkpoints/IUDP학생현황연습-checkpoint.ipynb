{
 "cells": [
  {
   "cell_type": "markdown",
   "metadata": {
    "hideCode": true,
    "hideOutput": true,
    "hidePrompt": true,
    "toc": true
   },
   "source": [
    "<h1>Table of Contents<span class=\"tocSkip\"></span></h1>\n",
    "<div class=\"toc\"><ul class=\"toc-item\"><li><span><a href=\"#기관별-인턴십-참가자수-현황\" data-toc-modified-id=\"기관별-인턴십-참가자수-현황-1\"><span class=\"toc-item-num\">1&nbsp;&nbsp;</span>기관별 인턴십 참가자수 현황</a></span></li><li><span><a href=\"#베트남-학생-정보(특정-국가-학생-현황)\" data-toc-modified-id=\"베트남-학생-정보(특정-국가-학생-현황)-2\"><span class=\"toc-item-num\">2&nbsp;&nbsp;</span>베트남 학생 정보(특정 국가 학생 현황)</a></span></li><li><span><a href=\"#논문평점--급간별-인원수-확인\" data-toc-modified-id=\"논문평점--급간별-인원수-확인-3\"><span class=\"toc-item-num\">3&nbsp;&nbsp;</span>논문평점  급간별 인원수 확인</a></span></li><li><span><a href=\"#전공별-학생수-비율(고대포함)\" data-toc-modified-id=\"전공별-학생수-비율(고대포함)-4\"><span class=\"toc-item-num\">4&nbsp;&nbsp;</span>전공별 학생수 비율(고대포함)</a></span></li><li><span><a href=\"##-'2012-08-01'-이-후-입학-학생-대상-지도교수별-학생수\" data-toc-modified-id=\"#-'2012-08-01'-이-후-입학-학생-대상-지도교수별-학생수-5\"><span class=\"toc-item-num\">5&nbsp;&nbsp;</span># '2012-08-01' 이 후 입학 학생 대상 지도교수별 학생수</a></span></li><li><span><a href=\"#2017년-4월-현재-재학생-현황\" data-toc-modified-id=\"2017년-4월-현재-재학생-현황-6\"><span class=\"toc-item-num\">6&nbsp;&nbsp;</span>2017년 4월 현재 재학생 현황</a></span></li></ul></div>"
   ]
  },
  {
   "cell_type": "code",
   "execution_count": 2,
   "metadata": {},
   "outputs": [],
   "source": [
    "# 노트북 안에서 그래프를 그리기 위해\n",
    "%matplotlib inline\n",
    "# %matplotlib nbagg\n",
    "    \n",
    "import pandas as pd\n",
    "import numpy as np\n",
    "import matplotlib.pyplot as plt\n",
    "import seaborn as sns\n",
    "plt.rcParams['figure.figsize'] = [10, 6]\n",
    "\n",
    "\n",
    "# Suppress Deprecation and Incorrect Usage Warnings \n",
    "import warnings\n",
    "warnings.filterwarnings('ignore')\n",
    "\n",
    "# #  display two pandas tables side by side\n",
    "# from IPython.display import display, HTML\n",
    "# CSS = \"\"\"\n",
    "# .output {\n",
    "#     flex-direction: row;\n",
    "# }\n",
    "# \"\"\"\n",
    "# HTML('<style>{}</style>'.format(CSS))\n",
    "\n",
    "\n",
    "# 기본 글꼴 변경\n",
    "import matplotlib as mpl\n",
    "mpl.font_manager._rebuild()\n",
    "mpl.pyplot.rc('font', family='NanumBarunGothic')\n",
    "\n",
    "# allow multiple outputs\n",
    "from IPython.core.interactiveshell import InteractiveShell\n",
    "InteractiveShell.ast_node_interactivity = \"all\"\n",
    "\n",
    "# allow image input\n",
    "from IPython.display import Image"
   ]
  },
  {
   "cell_type": "code",
   "execution_count": 4,
   "metadata": {
    "hidePrompt": false
   },
   "outputs": [
    {
     "data": {
      "text/plain": [
       "(341, 88)"
      ]
     },
     "execution_count": 4,
     "metadata": {},
     "output_type": "execute_result"
    }
   ],
   "source": [
    "stu_info = pd.read_excel('./data/IUDP학생현황.xlsx',\n",
    "                         date_parser=['참가기간(시작)', '참가기간(종료)', '체류기간(시작)', '체류기간(종료)', '인턴십 기간(시작)', \n",
    "                                      '인턴십 기간(종료)', '인턴십 기간2(시작)', '인턴십 기간2(종료)', '인턴십 기간3(시작)', \n",
    "                                      '인턴십 기간3(종료)', '국외여행1-1', '국외여행1-2', '국외여행2-1', '국외여행2-2', '국외여행3-1', '국외여행3-2'])\n",
    "# Z:/200. 연락처/IUDP학생현황.xlsx\n",
    "stu_info.shape  "
   ]
  },
  {
   "cell_type": "code",
   "execution_count": null,
   "metadata": {},
   "outputs": [],
   "source": [
    "import urllib\n",
    "url=\"https://o365uos-my.sharepoint.com/personal/isus_office_uos_ac_kr/Documents/02.%20%ED%95%99%EC%83%9D%EC%84%A0%EB%B0%9C/%EC%A7%80%EC%9B%90%EC%9E%90%ED%98%84%ED%99%A9(%EC%A0%84%EC%B2%B4).xlsx\"\n",
    "pd.read_excel(url)"
   ]
  },
  {
   "cell_type": "code",
   "execution_count": 7,
   "metadata": {},
   "outputs": [
    {
     "data": {
      "text/plain": [
       "(341, 88)"
      ]
     },
     "execution_count": 7,
     "metadata": {},
     "output_type": "execute_result"
    }
   ],
   "source": [
    "stu_info = pd.read_excel('./data/IUDP학생현황.xlsx',\n",
    "                         date_parser=['참가기간(시작)', '참가기간(종료)', '체류기간(시작)', '체류기간(종료)', '인턴십 기간(시작)', \n",
    "                                      '인턴십 기간(종료)', '인턴십 기간2(시작)', '인턴십 기간2(종료)', '인턴십 기간3(시작)', \n",
    "                                      '인턴십 기간3(종료)', '국외여행1-1', '국외여행1-2', '국외여행2-1', '국외여행2-2', '국외여행3-1', '국외여행3-2'])\n",
    "# Z:/200. 연락처/IUDP학생현황.xlsx\n",
    "stu_info.shape  "
   ]
  },
  {
   "cell_type": "code",
   "execution_count": null,
   "metadata": {},
   "outputs": [],
   "source": [
    "stu_info.columns"
   ]
  },
  {
   "cell_type": "code",
   "execution_count": null,
   "metadata": {
    "scrolled": true
   },
   "outputs": [],
   "source": [
    "import missingno as msno\n",
    "msno.matrix(stu_info, figsize=(12,5))"
   ]
  },
  {
   "cell_type": "code",
   "execution_count": null,
   "metadata": {},
   "outputs": [],
   "source": [
    "sns.countplot(y='성별', data=stu_info)"
   ]
  },
  {
   "cell_type": "markdown",
   "metadata": {},
   "source": [
    "## 기관별 인턴십 참가자수 현황"
   ]
  },
  {
   "cell_type": "code",
   "execution_count": null,
   "metadata": {},
   "outputs": [],
   "source": [
    "stu_info['인턴십_국문'].unique()"
   ]
  },
  {
   "cell_type": "code",
   "execution_count": null,
   "metadata": {},
   "outputs": [],
   "source": [
    "int_org = pd.DataFrame(stu_info['인턴십'].value_counts())\n",
    "int_org['인턴십 기관'] = int_org.index\n",
    "int_org.columns = ['참가자수','인턴십 기관']\n",
    "int_org = int_org.reset_index().drop('index', axis=1)\n",
    "int_org = int_org.drop(0, axis=0).set_index('인턴십 기관')\n",
    "int_org\n",
    "# int_org.to_excel('인턴십기관별참가자수.xlsx')"
   ]
  },
  {
   "cell_type": "markdown",
   "metadata": {},
   "source": [
    "## 베트남 학생 정보(특정 국가 학생 현황)"
   ]
  },
  {
   "cell_type": "code",
   "execution_count": null,
   "metadata": {},
   "outputs": [],
   "source": [
    "# 베트남 학생 정보\n",
    "# 단일조건\n",
    "vtn_stu=stu_info[stu_info['국가_국문']=='베트남'][['전공', '수', '참가기간(시작)','성명', '국가', '도시', '성별', '소속', '직위', '자국내 주소', '이메일', '연락처(자국)']]\n",
    "# & (stu_info['학적']=='재학')\n",
    "\n",
    "# 다중조건\n",
    "# vtn_stu=stu_info[(stu_info['국가_국문']=='베트남')&(stu_info['성별']=='남')]\n",
    "#         [['전공', '수', '참가기간(시작)','성명', '국가', '도시',\n",
    "#           '성별', '소속', '직위', '자국내 주소', '이메일', '연락처(자국)']]\n",
    "# vtn_stu=vtn_stu.reset_index().drop('index', axis=1).set_index('전공')\n",
    "# vtn_stu.head()\n",
    "\n",
    "# 추출\n",
    "vtn_stu.to_excel('베트남학생정보.xlsx')"
   ]
  },
  {
   "cell_type": "markdown",
   "metadata": {},
   "source": [
    "## 논문평점  급간별 인원수 확인"
   ]
  },
  {
   "cell_type": "code",
   "execution_count": null,
   "metadata": {},
   "outputs": [],
   "source": [
    "sns.distplot(stu_info[stu_info['논문평점'] > 70.0]['논문평점'])"
   ]
  },
  {
   "cell_type": "code",
   "execution_count": null,
   "metadata": {},
   "outputs": [],
   "source": [
    "plt.figure(figsize=(8,3))\n",
    "sns.countplot(y='학적2', data=stu_info)"
   ]
  },
  {
   "cell_type": "markdown",
   "metadata": {},
   "source": [
    "## 전공별 학생수 비율(고대포함)"
   ]
  },
  {
   "cell_type": "code",
   "execution_count": null,
   "metadata": {},
   "outputs": [],
   "source": [
    "stu_maj_count = pd.DataFrame(stu_info['전공'].value_counts())\n",
    "stu_maj_per = pd.DataFrame(stu_info['전공'].value_counts(normalize=True))\n",
    "stu_maj_df = stu_maj_count.merge(stu_maj_per, left_index=True, right_index=True)\n",
    "stu_maj_df.columns = ['학생수', '비율']\n",
    "stu_maj_df"
   ]
  },
  {
   "cell_type": "code",
   "execution_count": null,
   "metadata": {},
   "outputs": [],
   "source": [
    "# 고대제외 전공별 학생수 비율\n",
    "stu_maj_count = pd.DataFrame(stu_info[stu_info['참가기간(시작)'] >= '2012-08-01']['전공'].value_counts())\n",
    "stu_maj_per = pd.DataFrame(stu_info['전공'].value_counts(normalize=True))\n",
    "stu_maj_df = stu_maj_count.merge(stu_maj_per, left_index=True, right_index=True)\n",
    "stu_maj_df.columns = ['학생수', '비율']\n",
    "stu_maj_df"
   ]
  },
  {
   "cell_type": "code",
   "execution_count": null,
   "metadata": {},
   "outputs": [],
   "source": [
    "# 특정값 포함 행 찾기\n",
    "stu_info[stu_info['지도교수'].isin(['김현성(Improving and/or re-engineering governance with digital technologies)'])]"
   ]
  },
  {
   "cell_type": "markdown",
   "metadata": {},
   "source": [
    "## # '2012-08-01' 이 후 입학 학생 대상 지도교수별 학생수"
   ]
  },
  {
   "cell_type": "code",
   "execution_count": null,
   "metadata": {},
   "outputs": [],
   "source": [
    "# '2012-08-01' 이 후 입학 학생 대상 지도교수별 학생수\n",
    "stu_info['dum'] = 1\n",
    "pd.DataFrame(stu_info.groupby(stu_info['지도교수'])['dum'].sum())"
   ]
  },
  {
   "cell_type": "markdown",
   "metadata": {},
   "source": [
    "## 2017년 4월 현재 재학생 현황"
   ]
  },
  {
   "cell_type": "code",
   "execution_count": null,
   "metadata": {},
   "outputs": [],
   "source": [
    "import datetime"
   ]
  },
  {
   "cell_type": "code",
   "execution_count": null,
   "metadata": {},
   "outputs": [],
   "source": [
    "# stu_info = stu_info.copy[\n",
    "stu_info[(stu_info['참가기간(시작)'] > datetime.datetime(2014, 8, 1)) & \n",
    "         (stu_info['참가기간(종료)'] < datetime.datetime(2017, 8, 1))]['성명']"
   ]
  },
  {
   "cell_type": "markdown",
   "metadata": {},
   "source": [
    "## 교수별 논문심사현황"
   ]
  },
  {
   "cell_type": "code",
   "execution_count": null,
   "metadata": {},
   "outputs": [],
   "source": [
    "thesis_exam = pd.read_excel(\"data/MUAP10기 논문심사위원.xlsx\", sheet_name='Sheet1')"
   ]
  },
  {
   "cell_type": "markdown",
   "metadata": {},
   "source": [
    "각 column에서 특정 값이 몇 번 쓰였는지 알고 싶다고 해보자.\n",
    "가장 쉽게 해볼 수 있는 건 pandas의 value_counts 함수다.\n",
    "\n",
    "  - df.apply(pd.value_counts).fillna(0).astype(int)\n",
    "\n",
    "fillna(0)은 NaN이 보기 싫어서 설정해준 것이고, astype(int)은 소수점을 생략하려고 적용한다.\n",
    "\n",
    "[출처: dataframe 내 data 빈도 세기] (http://blog.naver.com/PostView.nhn?blogId=nomadgee&logNo=220843687206&redirect=Dlog&widgetTypeCall=true)"
   ]
  },
  {
   "cell_type": "code",
   "execution_count": null,
   "metadata": {},
   "outputs": [],
   "source": [
    "thesis_exam_committee = thesis_exam[['심사위원장','심사위원','지도교수']]\n",
    "thesis_exam_committee_position_num = thesis_exam_committee.apply(pd.value_counts).fillna(0).astype(int)\n",
    "thesis_exam_committee_num = pd.concat([thesis_exam_committee_position_num, \n",
    "                                       thesis_exam_committee_position_num.sum(axis=1)], \n",
    "                                      axis=1)"
   ]
  },
  {
   "cell_type": "code",
   "execution_count": null,
   "metadata": {},
   "outputs": [],
   "source": [
    "thesis_exam_committee_num.rename(columns={0:'합계'})"
   ]
  },
  {
   "cell_type": "markdown",
   "metadata": {},
   "source": [
    "#### 입시미지원국가 출신 동문 정보"
   ]
  },
  {
   "cell_type": "code",
   "execution_count": null,
   "metadata": {},
   "outputs": [],
   "source": [
    "con_stu_info=stu_info[stu_info['국가_국문'].isin(['과테말라', '나이지리아', '라오스', '르완다', '리비아',\n",
    "                                              '말레이지아', '몽골', '미얀마', '스리랑카', '시리아', \n",
    "                                              '아르헨티나', '아프카니스탄', '알제리', '에콰도르', \n",
    "                                              '에티오피아', '엘살바도르', '우간다', '우크라이나', \n",
    "                                              '인도네시아', '캄보디아', '케냐', '콩고', '터키', '파나마', \n",
    "                                              '폴란드', '필리핀']) == False]['국가_국문'].unique()\n",
    "\n",
    "con_stu=stu_info[(stu_info['국가_국문'].isin(con_stu_info)) & (stu_info['연락처(자국)'] != '정보없음')][['전공', '수', '참가기간(시작)','성명', '국가', '국가_국문', '도시_국문', '성별', '소속', '직위', '이메일', '연락처(자국)']]\n",
    "\n",
    "\n",
    "# 추출\n",
    "con_stu.to_excel('Z:/02. 학생선발/2019입시/4.미완료자및미지원국가공지/190408_미지원국가출신동문연락처.xlsx')"
   ]
  },
  {
   "cell_type": "markdown",
   "metadata": {},
   "source": [
    "#### mglep 국별 학생 현황 (영남대 포함)"
   ]
  },
  {
   "cell_type": "code",
   "execution_count": null,
   "metadata": {},
   "outputs": [],
   "source": [
    "stu_info_mglep = pd.read_excel('Z:/200. 연락처/MGLEP학생현황(영남대포함).xlsx',\n",
    "                         date_parser=['참가기간(시작)', '참가기간(종료)', '체류기간(시작)', '체류기간(종료)', '인턴십 기간(시작)', \n",
    "                                      '인턴십 기간(종료)', '인턴십 기간2(시작)', '인턴십 기간2(종료)', '인턴십 기간3(시작)', \n",
    "                                      '인턴십 기간3(종료)', '국외여행1-1', '국외여행1-2', '국외여행2-1', '국외여행2-2', '국외여행3-1', '국외여행3-2'])\n",
    "# Z:/200. 연락처/IUDP학생현황.xlsx\n",
    "stu_info_mglep.shape  "
   ]
  },
  {
   "cell_type": "code",
   "execution_count": null,
   "metadata": {},
   "outputs": [],
   "source": [
    "mglep_survey = pd.read_excel('data/MGLEP 초청자선발현황.xlsx', \n",
    "                    sheet_name='survey', header=0)"
   ]
  },
  {
   "cell_type": "code",
   "execution_count": null,
   "metadata": {},
   "outputs": [],
   "source": [
    "mglep_survey['Country'] = mglep_survey['Country'].str.upper()"
   ]
  },
  {
   "cell_type": "code",
   "execution_count": null,
   "metadata": {},
   "outputs": [],
   "source": [
    "mglep_survey_joinrate_country = \\\n",
    "pd.merge(pd.DataFrame(mglep_survey['Country'].value_counts().reset_index()), \n",
    "         pd.DataFrame(stu_info_mglep['국가'].value_counts().reset_index()), \n",
    "         left_on = 'index', right_on = 'index', how='outer')"
   ]
  },
  {
   "cell_type": "code",
   "execution_count": null,
   "metadata": {},
   "outputs": [],
   "source": [
    "mglep_survey_joinrate_country = mglep_survey_joinrate_country[['index', '국가', 'Country']]\n",
    "mglep_survey_joinrate_country.columns = [['국가', '연수생수', '설문참가자수']]\n",
    "mglep_survey_joinrate_country"
   ]
  },
  {
   "cell_type": "code",
   "execution_count": null,
   "metadata": {},
   "outputs": [],
   "source": [
    "con_stu_info=stu_info[stu_info['국가_국문'].isin(['과테말라', '나이지리아', '라오스', '르완다', '리비아',\n",
    "                                              '말레이지아', '몽골', '미얀마', '스리랑카', '시리아', \n",
    "                                              '아르헨티나', '아프카니스탄', '알제리', '에콰도르', \n",
    "                                              '에티오피아', '엘살바도르', '우간다', '우크라이나', \n",
    "                                              '인도네시아', '캄보디아', '케냐', '콩고', '터키', '파나마', \n",
    "                                              '폴란드', '필리핀']) == False]['국가_국문'].unique()\n",
    "\n",
    "con_stu=stu_info[(stu_info['국가_국문'].isin(con_stu_info)) & (stu_info['연락처(자국)'] != '정보없음')][['전공', '수', '참가기간(시작)','성명', '국가', '국가_국문', '도시_국문', '성별', '소속', '직위', '이메일', '연락처(자국)']]\n",
    "\n",
    "\n",
    "# 추출\n",
    "con_stu.to_excel('Z:/02. 학생선발/2019입시/4.미완료자및미지원국가공지/190408_미지원국가출신동문연락처.xlsx')"
   ]
  },
  {
   "cell_type": "code",
   "execution_count": null,
   "metadata": {},
   "outputs": [],
   "source": []
  },
  {
   "cell_type": "markdown",
   "metadata": {},
   "source": [
    "#### 전공별 / 국별 학생 현황 (pivot 및 groupby 활용)"
   ]
  },
  {
   "cell_type": "markdown",
   "metadata": {},
   "source": [
    "`stu_info.pivot_table(values=None, index=None, columns=None, aggfunc='mean',\n",
    "                     fill_value=None, margins=False, dropna=True, \n",
    "                     margins_name='All')`\n",
    "                     \n",
    "참조: https://wesmckinney.com/blog/fast-and-easy-pivot-tables-in-pandas-0-5-0/"
   ]
  },
  {
   "cell_type": "code",
   "execution_count": null,
   "metadata": {},
   "outputs": [],
   "source": [
    "stu_info['성별'] = stu_info['성별'].replace(\n",
    "    {'남 ' : '남', '여 ': '여', '정보없음':'여'})"
   ]
  },
  {
   "cell_type": "code",
   "execution_count": null,
   "metadata": {},
   "outputs": [],
   "source": [
    "# 전공별 학생수\n",
    "## Pivot\n",
    "stu_info.pivot_table(values='성명', index='전공', \n",
    "                     aggfunc='count').rename(\n",
    "                    columns={'성명':'학생수'})\n",
    "\n",
    "## groupby\n",
    "stu_info.groupby(\"전공\")[['성명']].agg('count').rename(columns={'성명':'학생수'})"
   ]
  },
  {
   "cell_type": "code",
   "execution_count": null,
   "metadata": {},
   "outputs": [],
   "source": [
    "# 전공별 학생수(성별추가)\n",
    "## Pivot\n",
    "stu_info.pivot_table(values='성명', index='전공', \n",
    "                     columns='성별', aggfunc='count')\n",
    "## groupby\n",
    "stu_info.groupby([\"전공\",\"성별\"])[\"성명\"].count().unstack()"
   ]
  },
  {
   "cell_type": "code",
   "execution_count": null,
   "metadata": {},
   "outputs": [],
   "source": [
    "#  대륙별/국별 / 전공별 학생수(조건:서울시립대,합계포함)\n",
    "## Pivot\n",
    "stu_info[stu_info['참가기간(시작)'] > '2012/01'].pivot_table(\n",
    "    values='성명', index=['대륙','국가'], columns='전공',\n",
    "    aggfunc='count', fill_value='-', margins=True)\n",
    "## groupby\n",
    "stu_info[stu_info['참가기간(시작)'] > '2012/01'].groupby(\n",
    "    ['대륙', '국가', '전공'])['성명'].count().unstack().fillna('-')"
   ]
  },
  {
   "cell_type": "code",
   "execution_count": null,
   "metadata": {},
   "outputs": [],
   "source": [
    "#  대륙별/국별 /전공별 /성별 학생수 및 졸업여부\n",
    "## Pivot\n",
    "stu_info[stu_info['참가기간(시작)'] > '2012/01'].pivot_table(\n",
    "    index=['대륙','국가'], columns=['전공','성별'],\n",
    "    aggfunc={'성명': 'count', '졸업일':'count'}, fill_value='-').rename(\n",
    "    columns={'성명':'학생수', '졸업일':'졸업여부'}).replace(0,'-')\n",
    "## groupby\n",
    "stu_info[stu_info['참가기간(시작)'] > '2012/01'].groupby(\n",
    "    ['대륙','국가','전공','성별'])[['성명','졸업일']].count(\n",
    "    ).unstack(level=2).unstack().fillna('-').rename(\n",
    "     columns={'성명':'학생수', '졸업일':'졸업여부'}).replace(0,'-')"
   ]
  },
  {
   "cell_type": "code",
   "execution_count": null,
   "metadata": {},
   "outputs": [],
   "source": [
    "# aggfunc=np.sum함수로 합계를 위해\n",
    "# stu_info['성명'] 모두 1로 변경\n",
    "name = \\\n",
    "stu_info['성명'].replace(\n",
    "                        r'^.', 1, regex = True)\n",
    "#동일한 결과:\n",
    "#stu_info['성명'].replace(stu_info[stu_info['성명'] != \"\"]['성명'], 1)"
   ]
  },
  {
   "cell_type": "code",
   "execution_count": null,
   "metadata": {},
   "outputs": [],
   "source": []
  },
  {
   "cell_type": "markdown",
   "metadata": {},
   "source": [
    "### 2014년 4월 현재 재학생 현황"
   ]
  },
  {
   "cell_type": "code",
   "execution_count": 96,
   "metadata": {},
   "outputs": [
    {
     "data": {
      "text/plain": [
       "35"
      ]
     },
     "execution_count": 96,
     "metadata": {},
     "output_type": "execute_result"
    }
   ],
   "source": [
    "# 2012년 8월 입학자 (o: MUAP, MGLEP, x: MURD, MIPD)\n",
    "# 2013년 8월 입학자 (o: MUAP, MGLEP, MURD, MIPD)\n",
    "\n",
    "stu_info.loc[\n",
    "        (\n",
    "            (stu_info['참가기간(시작)'] == '2012-08') & ((stu_info['전공'] == 'MUAP') | (stu_info['전공'] == 'MUAP'))\n",
    "        )  | \n",
    "        (stu_info['참가기간(시작)'] == '2013-08')\n",
    "                    ]['성명'].value_counts().sum()"
   ]
  },
  {
   "cell_type": "code",
   "execution_count": null,
   "metadata": {},
   "outputs": [],
   "source": []
  },
  {
   "cell_type": "markdown",
   "metadata": {},
   "source": [
    "### 2014년 10월 현재 재학생 현황"
   ]
  },
  {
   "cell_type": "code",
   "execution_count": 97,
   "metadata": {},
   "outputs": [
    {
     "data": {
      "text/plain": [
       "60"
      ]
     },
     "execution_count": 97,
     "metadata": {},
     "output_type": "execute_result"
    }
   ],
   "source": [
    "# 2012년 8월 입학자 (x: MUAP, MGLEP, MURD, MIPD)\n",
    "# 2013년 8월 입학자 (o: MUAP, MGLEP, MURD, MIPD)\n",
    "# 2014년 8월 입학자 (o: MUAP, MGLEP, MURD, MIPD)\n",
    "\n",
    "stu_info.loc[\n",
    "        (stu_info['참가기간(시작)'] == '2013-08')  | \n",
    "        (stu_info['참가기간(시작)'] == '2014-08')\n",
    "                    ]['성명'].value_counts().sum()"
   ]
  },
  {
   "cell_type": "code",
   "execution_count": null,
   "metadata": {},
   "outputs": [],
   "source": []
  },
  {
   "cell_type": "markdown",
   "metadata": {},
   "source": [
    "### 학생현황 null값 처리 <br> <.fillna('대체할값')>"
   ]
  },
  {
   "cell_type": "markdown",
   "metadata": {},
   "source": [
    "`s.fillna['value=None', 'method=None', 'axis=None', 'inplace=False', 'limit=None', 'downcast=None']`"
   ]
  },
  {
   "cell_type": "markdown",
   "metadata": {},
   "source": [
    "* value: null값을 대체할 값. dict 형태로 행 또는 열마다의 대체값 별도 지정 가능\n",
    "* method:\n",
    "    * null값 발생 전 값으로 변경: 'ffill(or pad')\n",
    "    * null값 발생 후 값으로 변경: 'bfill(or backfill')\n",
    "* axis: 데이터프레임에서  null 값을 채우는 기준 방향으로  0은 행방향, 1은 열방향\n",
    "* inplace: True 는 null 값을 대체한 결과값으로 데이터프레임 변경\n",
    "* limit: method를 연속적으로 수행하는 최대수\n",
    "* downcast: 데이터타입 변경"
   ]
  },
  {
   "cell_type": "code",
   "execution_count": 58,
   "metadata": {},
   "outputs": [],
   "source": [
    "stu_info_pre = \\\n",
    "stu_info.fillna(\n",
    "    {'국외여행합계': 0, \n",
    "     '논문평점': stu_info.loc[stu_info['논문평점'] != np.nan, '논문평점'].mean(),\n",
    "     '자국내 주소': stu_info['국가']}\n",
    ").replace({'자국내 주소':'정보없음'}, {'자국내 주소': stu_info['국가']})\n",
    "stu_info_pre. to_excel(\"C:/Users/Gumin JUNG/Desktop/IUDP학생현황.xlsx\", sheet_name=\"IUDPinfo\")"
   ]
  },
  {
   "cell_type": "code",
   "execution_count": null,
   "metadata": {},
   "outputs": [],
   "source": []
  },
  {
   "cell_type": "markdown",
   "metadata": {},
   "source": [
    "### 업무"
   ]
  },
  {
   "cell_type": "code",
   "execution_count": 12,
   "metadata": {},
   "outputs": [
    {
     "data": {
      "text/plain": [
       "Index(['학번', '전공', '수', '참가기간(시작)', '참가기간(종료)', '체류기간(시작)', '체류기간(종료)', '성명',\n",
       "       '성명_국문', '대륙', '대륙_국문', '대륙2', '대륙2_국문', '국가', '국가_국문', '도시', '도시_국문',\n",
       "       '기관분류', '생년월일', '주민번호', '성별', '소속', '직위', '자국내 주소', '이메일', '연락처(자국)',\n",
       "       '핸드폰', '기숙사번호', '포털아이디', '비번', '학적', '학적2', '졸업일', '은행', '계좌', '계좌주',\n",
       "       '외국인등록증 만료일', '기피음식', '대표', '세부전공', '총평균평점', '논문제목', '지도교수', '인턴십',\n",
       "       '인턴십_국문', '인턴십 기관분류', '인턴십 세분류', '배치부서', '인턴십 기간(시작)', '인턴십 기간(종료)',\n",
       "       '인턴십 비고', '인턴십2', '인턴십_국문2', '배치부서2', '인턴십 기간2(시작)', '인턴십 기간2(종료)',\n",
       "       '인턴십 비고2', '인턴십3', '인턴십_국문3', '배치부서3', '인턴십 기간3(시작)', '인턴십 기간3(종료)',\n",
       "       '인턴십 비고3', '국외여행1-1', '국외여행1-2', '행선지1', '국외여행일수1', '국외여행2-1',\n",
       "       '국외여행2-2', '행선지2', '국외여행일수2', '국외여행3-1', '국외여행3-2', '행선지3', '국외여행일수3',\n",
       "       '국외여행4-1', '국외여행4-2', '행선지4', '국외여행일수4', '국외여행합계', '논문분야', '논문평점',\n",
       "       '소속분류', '소속분류2', '소속분류3', '소속분류_Kor', '소속분류2_Kor', '소속분류3_Kor'],\n",
       "      dtype='object')"
      ]
     },
     "execution_count": 12,
     "metadata": {},
     "output_type": "execute_result"
    }
   ],
   "source": [
    "stu_info.columns"
   ]
  },
  {
   "cell_type": "code",
   "execution_count": 18,
   "metadata": {},
   "outputs": [
    {
     "data": {
      "text/html": [
       "<div>\n",
       "<style scoped>\n",
       "    .dataframe tbody tr th:only-of-type {\n",
       "        vertical-align: middle;\n",
       "    }\n",
       "\n",
       "    .dataframe tbody tr th {\n",
       "        vertical-align: top;\n",
       "    }\n",
       "\n",
       "    .dataframe thead th {\n",
       "        text-align: right;\n",
       "    }\n",
       "</style>\n",
       "<table border=\"1\" class=\"dataframe\">\n",
       "  <thead>\n",
       "    <tr style=\"text-align: right;\">\n",
       "      <th></th>\n",
       "      <th>국가_국문</th>\n",
       "      <th>전공</th>\n",
       "      <th>수</th>\n",
       "      <th>성명</th>\n",
       "      <th>이메일</th>\n",
       "      <th>핸드폰</th>\n",
       "    </tr>\n",
       "    <tr>\n",
       "      <th>학번</th>\n",
       "      <th></th>\n",
       "      <th></th>\n",
       "      <th></th>\n",
       "      <th></th>\n",
       "      <th></th>\n",
       "      <th></th>\n",
       "    </tr>\n",
       "  </thead>\n",
       "  <tbody>\n",
       "    <tr>\n",
       "      <th>IU2016416</th>\n",
       "      <td>몽골</td>\n",
       "      <td>MURD</td>\n",
       "      <td>3</td>\n",
       "      <td>Misheel CHIMBAT</td>\n",
       "      <td>misheel.victory@gmail.com</td>\n",
       "      <td>010-4684-8521</td>\n",
       "    </tr>\n",
       "    <tr>\n",
       "      <th>IU2015701</th>\n",
       "      <td>베트남</td>\n",
       "      <td>MGLEP</td>\n",
       "      <td>1</td>\n",
       "      <td>Thuy Nhung TRAN</td>\n",
       "      <td>tranthuynhung1990@gmail.com</td>\n",
       "      <td>정보없음</td>\n",
       "    </tr>\n",
       "    <tr>\n",
       "      <th>IU2015702</th>\n",
       "      <td>베트남</td>\n",
       "      <td>MGLEP</td>\n",
       "      <td>1</td>\n",
       "      <td>Chi Duc TRAN</td>\n",
       "      <td>chiduc119@gmail.com</td>\n",
       "      <td>010-3143-9483</td>\n",
       "    </tr>\n",
       "    <tr>\n",
       "      <th>IU2015704</th>\n",
       "      <td>베트남</td>\n",
       "      <td>MGLEP</td>\n",
       "      <td>1</td>\n",
       "      <td>Thi Hong Hieu BUI</td>\n",
       "      <td>buihieu1689@gmail.com</td>\n",
       "      <td>010-4682-0369</td>\n",
       "    </tr>\n",
       "    <tr>\n",
       "      <th>IU2015706</th>\n",
       "      <td>베트남</td>\n",
       "      <td>MGLEP</td>\n",
       "      <td>1</td>\n",
       "      <td>Thi Thuy Ngoc NGUYEN</td>\n",
       "      <td>Thuyngoc0203@gmail.com</td>\n",
       "      <td>정보없음</td>\n",
       "    </tr>\n",
       "  </tbody>\n",
       "</table>\n",
       "</div>"
      ],
      "text/plain": [
       "          국가_국문     전공  수                    성명                          이메일  \\\n",
       "학번                                                                             \n",
       "IU2016416    몽골   MURD  3       Misheel CHIMBAT    misheel.victory@gmail.com   \n",
       "IU2015701   베트남  MGLEP  1       Thuy Nhung TRAN  tranthuynhung1990@gmail.com   \n",
       "IU2015702   베트남  MGLEP  1          Chi Duc TRAN          chiduc119@gmail.com   \n",
       "IU2015704   베트남  MGLEP  1     Thi Hong Hieu BUI        buihieu1689@gmail.com   \n",
       "IU2015706   베트남  MGLEP  1  Thi Thuy Ngoc NGUYEN       Thuyngoc0203@gmail.com   \n",
       "\n",
       "                     핸드폰  \n",
       "학번                        \n",
       "IU2016416  010-4684-8521  \n",
       "IU2015701           정보없음  \n",
       "IU2015702  010-3143-9483  \n",
       "IU2015704  010-4682-0369  \n",
       "IU2015706           정보없음  "
      ]
     },
     "execution_count": 18,
     "metadata": {},
     "output_type": "execute_result"
    }
   ],
   "source": [
    "stu=stu_info[(stu_info['참가기간(시작)'] > '2012/07') & \n",
    "             (stu_info['국가_국문'].isin([\"베트남\", \"몽골\"]))][['국가_국문','전공','수','학번', '성명', '이메일', '핸드폰']]\n",
    "stu=stu.reset_index().drop('index', axis=1).set_index('학번')\n",
    "stu.head()\n",
    "\n",
    "# 추출\n",
    "stu.to_excel(\"C:/Users/User/Desktop/학생정보.xlsx\")"
   ]
  },
  {
   "cell_type": "code",
   "execution_count": 1,
   "metadata": {},
   "outputs": [],
   "source": [
    "import folium"
   ]
  },
  {
   "cell_type": "code",
   "execution_count": 24,
   "metadata": {
    "hidePrompt": false
   },
   "outputs": [
    {
     "data": {
      "text/html": [
       "<div>\n",
       "<style scoped>\n",
       "    .dataframe tbody tr th:only-of-type {\n",
       "        vertical-align: middle;\n",
       "    }\n",
       "\n",
       "    .dataframe tbody tr th {\n",
       "        vertical-align: top;\n",
       "    }\n",
       "\n",
       "    .dataframe thead th {\n",
       "        text-align: right;\n",
       "    }\n",
       "</style>\n",
       "<table border=\"1\" class=\"dataframe\">\n",
       "  <thead>\n",
       "    <tr style=\"text-align: right;\">\n",
       "      <th></th>\n",
       "      <th>전공</th>\n",
       "      <th>성명</th>\n",
       "      <th>국적</th>\n",
       "      <th>위도</th>\n",
       "      <th>경도</th>\n",
       "      <th>대륙</th>\n",
       "    </tr>\n",
       "  </thead>\n",
       "  <tbody>\n",
       "    <tr>\n",
       "      <th>0</th>\n",
       "      <td>MGLEP 5기</td>\n",
       "      <td>Tran Thanh Hung</td>\n",
       "      <td>VIETNAM</td>\n",
       "      <td>14.058324</td>\n",
       "      <td>108.277199</td>\n",
       "      <td>ASIA</td>\n",
       "    </tr>\n",
       "    <tr>\n",
       "      <th>1</th>\n",
       "      <td>MGLEP 5기</td>\n",
       "      <td>Md. Mahiuddin Manik</td>\n",
       "      <td>BANGLADESH</td>\n",
       "      <td>23.684994</td>\n",
       "      <td>90.356331</td>\n",
       "      <td>ASIA</td>\n",
       "    </tr>\n",
       "  </tbody>\n",
       "</table>\n",
       "</div>"
      ],
      "text/plain": [
       "         전공                   성명          국적         위도          경도    대륙\n",
       "0  MGLEP 5기      Tran Thanh Hung     VIETNAM  14.058324  108.277199  ASIA\n",
       "1  MGLEP 5기  Md. Mahiuddin Manik  BANGLADESH  23.684994   90.356331  ASIA"
      ]
     },
     "execution_count": 24,
     "metadata": {},
     "output_type": "execute_result"
    }
   ],
   "source": [
    "newstu = pd.read_excel('./data/2019년입학자국가현황.xlsx', \n",
    "                       usecols=[0,1,3,4,5,7], # usecols= \"A:B,D:F,H\",\n",
    "                       parse_dates=True, sheet_name='Sheet1')\n",
    "newstu.head(2)"
   ]
  },
  {
   "cell_type": "code",
   "execution_count": null,
   "metadata": {},
   "outputs": [],
   "source": []
  },
  {
   "cell_type": "code",
   "execution_count": null,
   "metadata": {},
   "outputs": [],
   "source": [
    "for la, lo in zip(newstu['위도'], newstu['경도']):\n",
    "    folium.Map(location=[la, lo], zoom_start=15)\n",
    "\n",
    "# for con in newstu['국적']: \n",
    "#     folium.Marker(location=[37.5502, 126.982], popup=\"con\",\n",
    "#                  icon=folium.Icon(icon='cloud')).add_to(m)\n",
    "m\n",
    "# m.save('index.html')\n",
    "# tiles 참고: https://python-graph-gallery.com/288-map-background-with-folium/\n",
    "# 참고: https://zzsza.github.io/development/2018/08/24/data-visualization-in-python/\n"
   ]
  },
  {
   "cell_type": "code",
   "execution_count": null,
   "metadata": {},
   "outputs": [],
   "source": [
    "import numpy as np\n",
    "\n",
    "peaks = list()\n",
    "for kanton in df.index:\n",
    "    arr = np.array(df.geometry[kanton].exterior.coords)\n",
    "    peaks.append(arr[np.where(arr[:,2]>3500)].tolist())\n",
    "peaks = [item for sublist in peaks for item in sublist] # flatten to a single list of 3d points \n",
    "print peaks[:3]\n"
   ]
  },
  {
   "cell_type": "code",
   "execution_count": null,
   "metadata": {},
   "outputs": [],
   "source": [
    "feature_group = folium.FeatureGroup(\"Locations\")\n",
    "for peak in peaks:\n",
    "    feature_group.add_child(folium.Marker(location=[peak[1], peak[0]], popup=str(peak[2]))) \n",
    "kanton_map2.add_child(feature_group)\n",
    "kanton_map2"
   ]
  }
 ],
 "metadata": {
  "celltoolbar": "Hide code",
  "hide_input": false,
  "kernelspec": {
   "display_name": "Python 3",
   "language": "python",
   "name": "python3"
  },
  "language_info": {
   "codemirror_mode": {
    "name": "ipython",
    "version": 3
   },
   "file_extension": ".py",
   "mimetype": "text/x-python",
   "name": "python",
   "nbconvert_exporter": "python",
   "pygments_lexer": "ipython3",
   "version": "3.7.0"
  },
  "toc": {
   "base_numbering": 1,
   "nav_menu": {},
   "number_sections": true,
   "sideBar": true,
   "skip_h1_title": false,
   "title_cell": "Table of Contents",
   "title_sidebar": "Contents",
   "toc_cell": true,
   "toc_position": {},
   "toc_section_display": true,
   "toc_window_display": false
  }
 },
 "nbformat": 4,
 "nbformat_minor": 2
}
