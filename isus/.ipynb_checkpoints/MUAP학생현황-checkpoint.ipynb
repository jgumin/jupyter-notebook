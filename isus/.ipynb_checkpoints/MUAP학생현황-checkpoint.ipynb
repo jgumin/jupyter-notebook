{
 "cells": [
  {
   "cell_type": "markdown",
   "metadata": {},
   "source": [
    "# 입시 분석"
   ]
  },
  {
   "cell_type": "code",
   "execution_count": 29,
   "metadata": {},
   "outputs": [],
   "source": [
    "# 노트북 안에서 그래프를 그리기 위해\n",
    "%matplotlib inline\n",
    "# %matplotlib nbagg\n",
    "    \n",
    "import pandas as pd\n",
    "import numpy as np\n",
    "import datetime as dt\n",
    "import matplotlib.pyplot as plt\n",
    "import seaborn as sns\n",
    "plt.rcParams['figure.figsize'] = [10, 6]\n",
    "\n",
    "\n",
    "# Suppress Deprecation and Incorrect Usage Warnings \n",
    "import warnings\n",
    "warnings.filterwarnings('ignore')\n",
    "\n",
    "# #  display two pandas tables side by side\n",
    "# from IPython.display import display, HTML\n",
    "# CSS = \"\"\"\n",
    "# .output {\n",
    "#     flex-direction: row;\n",
    "# }\n",
    "# \"\"\"\n",
    "# HTML('<style>{}</style>'.format(CSS))\n",
    "\n",
    "\n",
    "# 기본 글꼴 변경\n",
    "import matplotlib as mpl\n",
    "mpl.font_manager._rebuild()\n",
    "mpl.pyplot.rc('font', family='NanumBarunGothic')\n",
    "\n",
    "# allow multiple outputs\n",
    "# from IPython.core.interactiveshell import InteractiveShell\n",
    "# InteractiveShell.ast_node_interactivity = \"all\"\n",
    "\n",
    "# allow image input\n",
    "from IPython.display import Image"
   ]
  },
  {
   "cell_type": "code",
   "execution_count": 2,
   "metadata": {
    "hidePrompt": false
   },
   "outputs": [],
   "source": [
    "app_info = pd.read_excel(\n",
    "    './data/지원자현황(전체).xlsx', \n",
    "    sheet_name='입시지원자', \n",
    "    parse_dates=True).dropna(how='all', axis=1)\n",
    "app_info = app_info.loc[:, app_info.count() > 70]"
   ]
  },
  {
   "cell_type": "markdown",
   "metadata": {},
   "source": [
    "## 분석목차"
   ]
  },
  {
   "cell_type": "markdown",
   "metadata": {},
   "source": [
    "1. 지원 일반\n",
    "    - 연도별 지원자수\n",
    "    - 지원자 수 평균\n",
    "    - 지원자 성별\n",
    "2. 지원대륙/국/도시\n",
    "    - 지원자 수 많은 상위 10개국/10개도시\n",
    "    - 상위 10개국/10개도시 연도별 지원자수\n",
    "    - 국가별 지원자 당 합격자수\n",
    "3. 지원기관\n",
    "    - 지원자 출신\n",
    "4. 기타\n",
    "    - 많이 사용하는 이메일 계정\n",
    "    "
   ]
  },
  {
   "cell_type": "code",
   "execution_count": 4,
   "metadata": {},
   "outputs": [
    {
     "data": {
      "text/plain": [
       "array(['학년도', '학기코드', '대학원구분', '수험번호', '전형유형', '학위구분코드', '지원과정구분코드',\n",
       "       '모집단위코드', '계열코드', '학과코드', '전공코드', '지원자이름', '영문이름', '성별', '생년월일',\n",
       "       '주소1', '전화번호', '핸드폰번호', '이메일', '시험구분코드', '외국어점수', '대학교명', '대학교학과명',\n",
       "       '대학교졸업일자', '대학원대학명', '대학원학과명', '대학원졸업일자', '국가코드', '보호자명', '보호자주소1',\n",
       "       '지원일자', '비상연락망', '영문이름(First)', '영문이름(Middle)', '영문이름(Last)',\n",
       "       '혼인여부', '종교', '비상연락망(이메일)', '기관명', '부서', '현직위', '현직위시작일', '기관전화번호',\n",
       "       '기관분류1', '담당업무', '업무능력', '업무연관성', '업무경력(기관명1)', '업무경력(부서1)',\n",
       "       '업무경력(직위1)', '업무경력(담당업무1)', '업무경력(시작일1)', '업무경력(종료일1)',\n",
       "       '업무경력(기관명2)', '업무경력(부서2)', '업무경력(직위2)', '업무경력(담당업무2)', '업무경력(시작일2)',\n",
       "       '업무경력(종료일2)', '업무경력(기관명3)', '업무경력(직위3)', '업무경력(시작일3)', '대학교소재',\n",
       "       '대학교입학일자', '대학원소재', '대학원입학일자', '기피음식', '신청번호', 'ID', 'Password',\n",
       "       '모국어', '제2외국어', '자기소개답변-성과및관심분야', '자기소개답변-지원동기', '자기소개답변-활용',\n",
       "       '학업계획', '완료여부', '영문이름(수정 전)', '생년월일(수정 전)', '생년월일(날짜서식)', '기수',\n",
       "       '현황', '등록', '학번부여', '대륙', '대륙_국문', '대륙2', '대륙2_국문', '국가(영문)',\n",
       "       '도시_영문', '국가', '도시_국문', '성별2', '추천기관', '단위', '기관분류1(국문)', '우선순위',\n",
       "       '현직위총경력기간', '1차심사결과_160428,180425,190423', '심사용전화', '핸드폰', '인터뷰순서',\n",
       "       '시차', '한국심사일', '1', '2', '4', '현지심사일', '12', '23', '45',\n",
       "       '2차심사결과_160512,13/180517-18/190513-14', '서류총점(60점)', '서류순위', '구술총점',\n",
       "       '표준입학허가서 발송주소_160608'], dtype=object)"
      ]
     },
     "execution_count": 4,
     "metadata": {},
     "output_type": "execute_result"
    }
   ],
   "source": [
    "app_info.columns.values"
   ]
  },
  {
   "cell_type": "markdown",
   "metadata": {},
   "source": [
    "## 지원 일반"
   ]
  },
  {
   "cell_type": "markdown",
   "metadata": {},
   "source": [
    "### 연도별 지원자수 및 지원자수 평균"
   ]
  },
  {
   "cell_type": "code",
   "execution_count": 9,
   "metadata": {},
   "outputs": [
    {
     "data": {
      "text/html": [
       "<div>\n",
       "<style scoped>\n",
       "    .dataframe tbody tr th:only-of-type {\n",
       "        vertical-align: middle;\n",
       "    }\n",
       "\n",
       "    .dataframe tbody tr th {\n",
       "        vertical-align: top;\n",
       "    }\n",
       "\n",
       "    .dataframe thead th {\n",
       "        text-align: right;\n",
       "    }\n",
       "</style>\n",
       "<table border=\"1\" class=\"dataframe\">\n",
       "  <thead>\n",
       "    <tr style=\"text-align: right;\">\n",
       "      <th>성별</th>\n",
       "      <th>남</th>\n",
       "      <th>여</th>\n",
       "      <th>합계</th>\n",
       "    </tr>\n",
       "  </thead>\n",
       "  <tbody>\n",
       "    <tr>\n",
       "      <th>2012</th>\n",
       "      <td>8.0</td>\n",
       "      <td>11.0</td>\n",
       "      <td>19.0</td>\n",
       "    </tr>\n",
       "    <tr>\n",
       "      <th>2013</th>\n",
       "      <td>15.0</td>\n",
       "      <td>19.0</td>\n",
       "      <td>34.0</td>\n",
       "    </tr>\n",
       "    <tr>\n",
       "      <th>2014</th>\n",
       "      <td>13.0</td>\n",
       "      <td>22.0</td>\n",
       "      <td>35.0</td>\n",
       "    </tr>\n",
       "    <tr>\n",
       "      <th>2015</th>\n",
       "      <td>30.0</td>\n",
       "      <td>27.0</td>\n",
       "      <td>57.0</td>\n",
       "    </tr>\n",
       "    <tr>\n",
       "      <th>2016</th>\n",
       "      <td>39.0</td>\n",
       "      <td>19.0</td>\n",
       "      <td>58.0</td>\n",
       "    </tr>\n",
       "    <tr>\n",
       "      <th>2017</th>\n",
       "      <td>71.0</td>\n",
       "      <td>40.0</td>\n",
       "      <td>111.0</td>\n",
       "    </tr>\n",
       "    <tr>\n",
       "      <th>2018</th>\n",
       "      <td>19.0</td>\n",
       "      <td>14.0</td>\n",
       "      <td>33.0</td>\n",
       "    </tr>\n",
       "    <tr>\n",
       "      <th>2019</th>\n",
       "      <td>41.0</td>\n",
       "      <td>19.0</td>\n",
       "      <td>60.0</td>\n",
       "    </tr>\n",
       "    <tr>\n",
       "      <th>합계</th>\n",
       "      <td>236.0</td>\n",
       "      <td>171.0</td>\n",
       "      <td>407.0</td>\n",
       "    </tr>\n",
       "    <tr>\n",
       "      <th>평균값</th>\n",
       "      <td>52.0</td>\n",
       "      <td>38.0</td>\n",
       "      <td>90.0</td>\n",
       "    </tr>\n",
       "  </tbody>\n",
       "</table>\n",
       "</div>"
      ],
      "text/plain": [
       "성별        남      여     합계\n",
       "2012    8.0   11.0   19.0\n",
       "2013   15.0   19.0   34.0\n",
       "2014   13.0   22.0   35.0\n",
       "2015   30.0   27.0   57.0\n",
       "2016   39.0   19.0   58.0\n",
       "2017   71.0   40.0  111.0\n",
       "2018   19.0   14.0   33.0\n",
       "2019   41.0   19.0   60.0\n",
       "합계    236.0  171.0  407.0\n",
       "평균값    52.0   38.0   90.0"
      ]
     },
     "execution_count": 9,
     "metadata": {},
     "output_type": "execute_result"
    }
   ],
   "source": [
    "app_yearnum = \\\n",
    "app_info.pivot_table(\n",
    "    values='영문이름', index='학년도', columns='성별2', aggfunc='count', \n",
    "    margins=True, margins_name='합계')\n",
    "app_yearnum.columns.name = '성별'\n",
    "\n",
    "app_yearnum_mean = pd.DataFrame(\n",
    "    app_yearnum.mean(), columns=[\"평균값\"]).T\n",
    "\n",
    "app_yearnum = app_yearnum.append(app_yearnum_mean).round()\n",
    "# 동일: pd.concat([app_yearnum, app_yearnum_mean])\n",
    "app_yearnum"
   ]
  },
  {
   "cell_type": "code",
   "execution_count": null,
   "metadata": {},
   "outputs": [],
   "source": []
  },
  {
   "cell_type": "code",
   "execution_count": null,
   "metadata": {},
   "outputs": [],
   "source": []
  },
  {
   "cell_type": "markdown",
   "metadata": {},
   "source": [
    "### 연도별 지원자 현황 그래프"
   ]
  },
  {
   "cell_type": "code",
   "execution_count": 10,
   "metadata": {},
   "outputs": [
    {
     "data": {
      "application/vnd.plotly.v1+json": {
       "config": {
        "linkText": "Export to plot.ly",
        "plotlyServerURL": "https://plot.ly",
        "showLink": false
       },
       "data": [
        {
         "type": "scatter",
         "uid": "8e8a4e6c-4e94-4df0-bec1-7fa6c4e771d9",
         "x": [
          2012,
          2013,
          2014,
          2015,
          2016,
          2018,
          2019
         ],
         "y": [
          19,
          34,
          35,
          57,
          58,
          33,
          60
         ]
        },
        {
         "type": "scatter",
         "uid": "0bd16fc2-a17f-49d2-837d-04aebc7bf1c5",
         "x": [
          2012,
          2013,
          2014,
          2015,
          2016,
          2018,
          2019
         ],
         "y": [
          42.285714285714285,
          42.285714285714285,
          42.285714285714285,
          42.285714285714285,
          42.285714285714285,
          42.285714285714285,
          42.285714285714285
         ]
        }
       ],
       "layout": {
        "autosize": true,
        "xaxis": {
         "autorange": true,
         "range": [
          2011.5499265785609,
          2019.4500734214391
         ],
         "type": "linear"
        },
        "yaxis": {
         "autorange": true,
         "range": [
          16.135770683144525,
          62.86422931685548
         ],
         "type": "linear"
        }
       }
      },
      "image/png": "[encoded data removed]",
      "text/html": [
       "<div>\n",
       "        \n",
       "        \n",
       "            <div id=\"217e1a0d-639f-49ef-b272-24cbbe33e6c9\" class=\"plotly-graph-div\" style=\"height:525px; width:100%;\"></div>\n",
       "            <script type=\"text/javascript\">\n",
       "                require([\"plotly\"], function(Plotly) {\n",
       "                    window.PLOTLYENV=window.PLOTLYENV || {};\n",
       "                    window.PLOTLYENV.BASE_URL='https://plot.ly';\n",
       "                    \n",
       "                if (document.getElementById(\"217e1a0d-639f-49ef-b272-24cbbe33e6c9\")) {\n",
       "                    Plotly.newPlot(\n",
       "                        '217e1a0d-639f-49ef-b272-24cbbe33e6c9',\n",
       "                        [{\"type\": \"scatter\", \"uid\": \"8e8a4e6c-4e94-4df0-bec1-7fa6c4e771d9\", \"x\": [2012, 2013, 2014, 2015, 2016, 2018, 2019], \"y\": [19, 34, 35, 57, 58, 33, 60]}, {\"type\": \"scatter\", \"uid\": \"0bd16fc2-a17f-49d2-837d-04aebc7bf1c5\", \"x\": [2012, 2013, 2014, 2015, 2016, 2018, 2019], \"y\": [42.285714285714285, 42.285714285714285, 42.285714285714285, 42.285714285714285, 42.285714285714285, 42.285714285714285, 42.285714285714285]}],\n",
       "                        {},\n",
       "                        {\"showLink\": false, \"linkText\": \"Export to plot.ly\", \"plotlyServerURL\": \"https://plot.ly\", \"responsive\": true}\n",
       "                    ).then(function(){\n",
       "                            \n",
       "var gd = document.getElementById('217e1a0d-639f-49ef-b272-24cbbe33e6c9');\n",
       "var x = new MutationObserver(function (mutations, observer) {{\n",
       "        var display = window.getComputedStyle(gd).display;\n",
       "        if (!display || display === 'none') {{\n",
       "            console.log([gd, 'removed!']);\n",
       "            Plotly.purge(gd);\n",
       "            observer.disconnect();\n",
       "        }}\n",
       "}});\n",
       "\n",
       "// Listen for the removal of the full notebook cells\n",
       "var notebookContainer = gd.closest('#notebook-container');\n",
       "if (notebookContainer) {{\n",
       "    x.observe(notebookContainer, {childList: true});\n",
       "}}\n",
       "\n",
       "// Listen for the clearing of the current output cell\n",
       "var outputEl = gd.closest('.output');\n",
       "if (outputEl) {{\n",
       "    x.observe(outputEl, {childList: true});\n",
       "}}\n",
       "\n",
       "                        })\n",
       "                };\n",
       "                });\n",
       "            </script>\n",
       "        </div>"
      ]
     },
     "metadata": {},
     "output_type": "display_data"
    },
    {
     "name": "stdout",
     "output_type": "stream",
     "text": [
      "\n",
      "\n",
      "연도별 지원자 수 평균은 50.88이다.\n",
      "\n",
      "\n"
     ]
    }
   ],
   "source": [
    "year_grouped = app_info.groupby(['학년도'])\n",
    "\n",
    "trace1 = go.Scatter(x = year_grouped2['영문이름'].count().index, \n",
    "                          y = year_grouped2['영문이름'].count())\n",
    "trace2 = go.Scatter(x = year_grouped2['영문이름'].count().index, \n",
    "                          y = [year_grouped2['영문이름'].count().mean()]*\n",
    "                                len(year_grouped2['영문이름'].count().index))\n",
    "\n",
    "iplot([trace1, trace2])\n",
    "print(\"\\n\")\n",
    "print(\"연도별 지원자 수 평균은 %s이다.\"%(round(year_grouped['영문이름'].count().mean(), 2)), end=\"\\n\")\n",
    "print(\"\\n\")"
   ]
  },
  {
   "cell_type": "code",
   "execution_count": null,
   "metadata": {},
   "outputs": [],
   "source": []
  },
  {
   "cell_type": "code",
   "execution_count": 22,
   "metadata": {},
   "outputs": [
    {
     "name": "stdout",
     "output_type": "stream",
     "text": [
      "\n",
      "\n",
      "연도별 지원자 수 평균은 50.88이다.\n",
      "\n",
      "\n"
     ]
    },
    {
     "data": {
      "image/png": "[encoded data removed]",
      "text/plain": [
       "<Figure size 720x432 with 2 Axes>"
      ]
     },
     "metadata": {
      "needs_background": "light"
     },
     "output_type": "display_data"
    }
   ],
   "source": [
    "fig, ax1 = plt.subplots()  # fig = plt.figure() ; ax1 = fig.add_subplot(111)\n",
    "\n",
    "ax2 = ax1.twiny()\n",
    "year_grouped = app_info.groupby(['학년도'])\n",
    "ax1.set_title('연도별 지원자 수 및 지원자 수 평균')\n",
    "ax1.plot(year_grouped['영문이름'].count().index, \n",
    "         year_grouped['영문이름'].count(), 'bs:')\n",
    "ax1.set_xlabel(\"입학년도\")\n",
    "ax1.grid(True)\n",
    "\n",
    "ax2.plot(year_grouped['영문이름'].count().index,\n",
    "         [year_grouped['영문이름'].count().mean()]*\n",
    "         len(year_grouped['영문이름'].count().index), 'r--')\n",
    "\n",
    "print(\"\\n\")\n",
    "print(\"연도별 지원자 수 평균은 %s이다.\"%(round(year_grouped['영문이름'].count().mean(), 2)), end=\"\\n\")\n",
    "print(\"\\n\")"
   ]
  },
  {
   "cell_type": "code",
   "execution_count": null,
   "metadata": {},
   "outputs": [],
   "source": []
  },
  {
   "cell_type": "markdown",
   "metadata": {},
   "source": [
    "### 연도별 지원자 현황 그래프2 (그래프 및 추가 설명선 삽입)"
   ]
  },
  {
   "cell_type": "code",
   "execution_count": 22,
   "metadata": {},
   "outputs": [
    {
     "name": "stdout",
     "output_type": "stream",
     "text": [
      "\n",
      "\n",
      "연도별 지원자 수 평균은 50.88이다.\n",
      "\n",
      "\n"
     ]
    },
    {
     "data": {
      "image/png": "[encoded data removed]",
      "text/plain": [
       "<Figure size 720x432 with 2 Axes>"
      ]
     },
     "metadata": {
      "needs_background": "light"
     },
     "output_type": "display_data"
    }
   ],
   "source": [
    "year_grouped = app_info.groupby(['학년도'])\n",
    "# title('연도별 지원자 수 및 지원자 수 평균')\n",
    "ax1.plot(year_grouped['영문이름'].count().index, \n",
    "         year_grouped['영문이름'].count(), 'bs:')\n",
    "ax1.set_xlabel(\"입학년도\")\n",
    "ax1.grid(True)\n",
    "\n",
    "ax2.plot(year_grouped['영문이름'].count().index,\n",
    "         [year_grouped['영문이름'].count().mean()]*\n",
    "         len(year_grouped['영문이름'].count().index), 'r--')\n",
    "\n",
    "# Add some extra space for the second axis at the bottom \n",
    "\n",
    "# fig.subplots_adjust(bottom=0.2) \n",
    "# ax1.set_xticks(range(-100, 100, 10)) \n",
    "# ax1.set_xlim(-100, 100) \n",
    "# ax1.set_xticklabels([str(i) for i in range(-100, 100, 10)], rotation=45) \n",
    "\n",
    "# ax2.spines[\"bottom\"].set_position((\"axes\", -0.1)) \n",
    "# ax2.xaxis.set_ticks_position(\"bottom\") \n",
    "# ax2.spines[\"bottom\"].set_visible(True) \n",
    "# ax2.set_xticks([-50,50]) \n",
    "# ax2.set_xticklabels(['Line 1', 'Line 2'], rotation=45, color='blue') \n",
    "# ax2.set_xlim(-100, 100) \n",
    "\n",
    "# b1 = np.random.randint(0,100,6) \n",
    "# b2 = np.random.randint(0,100,6) \n",
    "# b3 = np.random.randint(0,100,6) \n",
    "# ax1.scatter(np.random.normal(0, 1, 100)*100, np.random.normal(0, 1, 100)*100, c='green', s=90) \n",
    "# ax1.axvline(-50) \n",
    "# ax1.axvline(50) \n",
    "\n",
    "# plt.show() \n",
    "\n",
    "\n",
    "print(\"\\n\")\n",
    "print(\"연도별 지원자 수 평균은 %s이다.\"%(round(year_grouped['영문이름'].count().mean(), 2)), end=\"\\n\")\n",
    "print(\"\\n\")"
   ]
  },
  {
   "cell_type": "code",
   "execution_count": null,
   "metadata": {},
   "outputs": [],
   "source": []
  },
  {
   "cell_type": "markdown",
   "metadata": {},
   "source": [
    "### 연도별 지원자 현황 그래프 (2017년 제외)"
   ]
  },
  {
   "cell_type": "code",
   "execution_count": 14,
   "metadata": {},
   "outputs": [
    {
     "name": "stdout",
     "output_type": "stream",
     "text": [
      "3.7.0\n"
     ]
    },
    {
     "data": {
      "text/html": [
       "<script type=\"text/javascript\">window.PlotlyConfig = {MathJaxConfig: 'local'};</script><script type=\"text/javascript\">if (window.MathJax) {MathJax.Hub.Config({SVG: {font: \"STIX-Web\"}});}</script><script>requirejs.config({paths: { 'plotly': ['https://cdn.plot.ly/plotly-latest.min']},});if(!window._Plotly) {require(['plotly'],function(plotly) {window._Plotly=plotly;});}</script>"
      ],
      "text/vnd.plotly.v1+html": [
       "<script type=\"text/javascript\">window.PlotlyConfig = {MathJaxConfig: 'local'};</script><script type=\"text/javascript\">if (window.MathJax) {MathJax.Hub.Config({SVG: {font: \"STIX-Web\"}});}</script><script>requirejs.config({paths: { 'plotly': ['https://cdn.plot.ly/plotly-latest.min']},});if(!window._Plotly) {require(['plotly'],function(plotly) {window._Plotly=plotly;});}</script>"
      ]
     },
     "metadata": {},
     "output_type": "display_data"
    },
    {
     "data": {
      "text/html": [
       "<script type=\"text/javascript\">window.PlotlyConfig = {MathJaxConfig: 'local'};</script><script type=\"text/javascript\">if (window.MathJax) {MathJax.Hub.Config({SVG: {font: \"STIX-Web\"}});}</script><script>requirejs.config({paths: { 'plotly': ['https://cdn.plot.ly/plotly-latest.min']},});if(!window._Plotly) {require(['plotly'],function(plotly) {window._Plotly=plotly;});}</script>"
      ],
      "text/vnd.plotly.v1+html": [
       "<script type=\"text/javascript\">window.PlotlyConfig = {MathJaxConfig: 'local'};</script><script type=\"text/javascript\">if (window.MathJax) {MathJax.Hub.Config({SVG: {font: \"STIX-Web\"}});}</script><script>requirejs.config({paths: { 'plotly': ['https://cdn.plot.ly/plotly-latest.min']},});if(!window._Plotly) {require(['plotly'],function(plotly) {window._Plotly=plotly;});}</script>"
      ]
     },
     "metadata": {},
     "output_type": "display_data"
    },
    {
     "data": {
      "text/html": [
       "<script type=\"text/javascript\">window.PlotlyConfig = {MathJaxConfig: 'local'};</script><script type=\"text/javascript\">if (window.MathJax) {MathJax.Hub.Config({SVG: {font: \"STIX-Web\"}});}</script><script>requirejs.config({paths: { 'plotly': ['https://cdn.plot.ly/plotly-latest.min']},});if(!window._Plotly) {require(['plotly'],function(plotly) {window._Plotly=plotly;});}</script>"
      ],
      "text/vnd.plotly.v1+html": [
       "<script type=\"text/javascript\">window.PlotlyConfig = {MathJaxConfig: 'local'};</script><script type=\"text/javascript\">if (window.MathJax) {MathJax.Hub.Config({SVG: {font: \"STIX-Web\"}});}</script><script>requirejs.config({paths: { 'plotly': ['https://cdn.plot.ly/plotly-latest.min']},});if(!window._Plotly) {require(['plotly'],function(plotly) {window._Plotly=plotly;});}</script>"
      ]
     },
     "metadata": {},
     "output_type": "display_data"
    },
    {
     "data": {
      "text/html": [
       "<script type=\"text/javascript\">window.PlotlyConfig = {MathJaxConfig: 'local'};</script><script type=\"text/javascript\">if (window.MathJax) {MathJax.Hub.Config({SVG: {font: \"STIX-Web\"}});}</script><script>requirejs.config({paths: { 'plotly': ['https://cdn.plot.ly/plotly-latest.min']},});if(!window._Plotly) {require(['plotly'],function(plotly) {window._Plotly=plotly;});}</script>"
      ],
      "text/vnd.plotly.v1+html": [
       "<script type=\"text/javascript\">window.PlotlyConfig = {MathJaxConfig: 'local'};</script><script type=\"text/javascript\">if (window.MathJax) {MathJax.Hub.Config({SVG: {font: \"STIX-Web\"}});}</script><script>requirejs.config({paths: { 'plotly': ['https://cdn.plot.ly/plotly-latest.min']},});if(!window._Plotly) {require(['plotly'],function(plotly) {window._Plotly=plotly;});}</script>"
      ]
     },
     "metadata": {},
     "output_type": "display_data"
    }
   ],
   "source": [
    "# import plotly standard\n",
    "from plotly import __version__\n",
    "print (__version__)\n",
    "import plotly\n",
    "import plotly.plotly as py\n",
    "import plotly.graph_objs as go\n",
    "import numpy as np\n",
    "import plotly.figure_factory as ff\n",
    "\n",
    "# Cufflinks wrapper on plotly\n",
    "import cufflinks as cf\n",
    "\n",
    "# Display all cell outputs\n",
    "from IPython.core.interactiveshell import InteractiveShell\n",
    "\n",
    "# plotly + cufflinks in offline mode\n",
    "from plotly.offline import download_plotlyjs, init_notebook_mode, plot, iplot\n",
    "cf.go_offline()\n",
    "\n",
    "# set the global theme\n",
    "cf.set_config_file(world_readable=True, theme='pearl', offline=True)\n",
    "\n",
    "# Jupyter setup\n",
    "init_notebook_mode(connected=True)\n",
    "\n",
    "# 출처: https://www.youtube.com/watch?v=XUNaGFa9xCM\n",
    "import ipywidgets as widgets\n",
    "import scipy as special\n",
    "import numpy as np"
   ]
  },
  {
   "cell_type": "code",
   "execution_count": 11,
   "metadata": {},
   "outputs": [
    {
     "data": {
      "application/vnd.plotly.v1+json": {
       "config": {
        "linkText": "Export to plot.ly",
        "plotlyServerURL": "https://plot.ly",
        "showLink": false
       },
       "data": [
        {
         "selectedpoints": [
          0,
          1,
          2,
          3,
          4
         ],
         "type": "scatter",
         "uid": "7f4fc821-43a4-49ae-a64b-bd42eafb154c",
         "x": [
          2012,
          2013,
          2014,
          2015,
          2016,
          2018,
          2019
         ],
         "y": [
          19,
          34,
          35,
          57,
          58,
          33,
          60
         ]
        },
        {
         "selectedpoints": [
          0,
          1,
          2,
          3,
          4
         ],
         "type": "scatter",
         "uid": "185b461d-d540-4d0e-92d1-9bb1e7270863",
         "x": [
          2012,
          2013,
          2014,
          2015,
          2016,
          2018,
          2019
         ],
         "y": [
          42.285714285714285,
          42.285714285714285,
          42.285714285714285,
          42.285714285714285,
          42.285714285714285,
          42.285714285714285,
          42.285714285714285
         ]
        }
       ],
       "layout": {
        "autosize": true,
        "dragmode": "pan",
        "hovermode": "closest",
        "xaxis": {
         "autorange": true,
         "range": [
          2011.5499265785609,
          2019.4500734214391
         ],
         "showspikes": false,
         "type": "linear"
        },
        "yaxis": {
         "autorange": true,
         "range": [
          16.135770683144525,
          62.86422931685548
         ],
         "showspikes": false,
         "type": "linear"
        }
       }
      },
      "image/png": "[encoded data removed]",
      "text/html": [
       "<div>\n",
       "        \n",
       "        \n",
       "            <div id=\"5861d6e5-e3c8-4f05-8251-bba3f9585da3\" class=\"plotly-graph-div\" style=\"height:525px; width:100%;\"></div>\n",
       "            <script type=\"text/javascript\">\n",
       "                require([\"plotly\"], function(Plotly) {\n",
       "                    window.PLOTLYENV=window.PLOTLYENV || {};\n",
       "                    window.PLOTLYENV.BASE_URL='https://plot.ly';\n",
       "                    \n",
       "                if (document.getElementById(\"5861d6e5-e3c8-4f05-8251-bba3f9585da3\")) {\n",
       "                    Plotly.newPlot(\n",
       "                        '5861d6e5-e3c8-4f05-8251-bba3f9585da3',\n",
       "                        [{\"type\": \"scatter\", \"uid\": \"7f4fc821-43a4-49ae-a64b-bd42eafb154c\", \"x\": [2012, 2013, 2014, 2015, 2016, 2018, 2019], \"y\": [19, 34, 35, 57, 58, 33, 60]}, {\"type\": \"scatter\", \"uid\": \"185b461d-d540-4d0e-92d1-9bb1e7270863\", \"x\": [2012, 2013, 2014, 2015, 2016, 2018, 2019], \"y\": [42.285714285714285, 42.285714285714285, 42.285714285714285, 42.285714285714285, 42.285714285714285, 42.285714285714285, 42.285714285714285]}],\n",
       "                        {},\n",
       "                        {\"showLink\": false, \"linkText\": \"Export to plot.ly\", \"plotlyServerURL\": \"https://plot.ly\", \"responsive\": true}\n",
       "                    ).then(function(){\n",
       "                            \n",
       "var gd = document.getElementById('5861d6e5-e3c8-4f05-8251-bba3f9585da3');\n",
       "var x = new MutationObserver(function (mutations, observer) {{\n",
       "        var display = window.getComputedStyle(gd).display;\n",
       "        if (!display || display === 'none') {{\n",
       "            console.log([gd, 'removed!']);\n",
       "            Plotly.purge(gd);\n",
       "            observer.disconnect();\n",
       "        }}\n",
       "}});\n",
       "\n",
       "// Listen for the removal of the full notebook cells\n",
       "var notebookContainer = gd.closest('#notebook-container');\n",
       "if (notebookContainer) {{\n",
       "    x.observe(notebookContainer, {childList: true});\n",
       "}}\n",
       "\n",
       "// Listen for the clearing of the current output cell\n",
       "var outputEl = gd.closest('.output');\n",
       "if (outputEl) {{\n",
       "    x.observe(outputEl, {childList: true});\n",
       "}}\n",
       "\n",
       "                        })\n",
       "                };\n",
       "                });\n",
       "            </script>\n",
       "        </div>"
      ]
     },
     "metadata": {},
     "output_type": "display_data"
    },
    {
     "name": "stdout",
     "output_type": "stream",
     "text": [
      "\n",
      "\n",
      "이상치인 2017년을 제외하고 측정하였을 때, 연도별 지원자 수 평균은 42.29이다.\n",
      "\n",
      "\n"
     ]
    }
   ],
   "source": [
    "year_grouped2 = app_info[app_info['학년도'] != 2017].groupby(['학년도'])\n",
    "\n",
    "trace1 = go.Scatter(x = year_grouped2['영문이름'].count().index, \n",
    "                          y = year_grouped2['영문이름'].count())\n",
    "trace2 = go.Scatter(x = year_grouped2['영문이름'].count().index, \n",
    "                          y = [year_grouped2['영문이름'].count().mean()]*\n",
    "                                len(year_grouped2['영문이름'].count().index))\n",
    "\n",
    "iplot([trace1, trace2])\n",
    "print(\"\\n\")\n",
    "print(\"이상치인 2017년을 제외하고 측정하였을 때, \\\n",
    "연도별 지원자 수 평균은 %s이다.\"%(round(year_grouped2['영문이름'].count().mean(), 2)), end=\"\\n\")\n",
    "print(\"\\n\")"
   ]
  },
  {
   "cell_type": "code",
   "execution_count": null,
   "metadata": {},
   "outputs": [],
   "source": [
    "fig, ax1 = plt.subplots()\n",
    "ax2 = ax1.twiny()\n",
    "year_grouped2 = app_info[app_info['학년도'] != 2017].groupby(['학년도'])\n",
    "ax1.set_title('연도별 지원자 수 및 지원자 수 평균')\n",
    "ax1.plot(year_grouped2['영문이름'].count().index, \n",
    "         year_grouped2['영문이름'].count(), 'bs:')\n",
    "ax2.plot(year_grouped2['영문이름'].count().index,\n",
    "         [year_grouped2['영문이름'].count().mean()]*\n",
    "         len(year_grouped2['영문이름'].count().index), 'r--')\n",
    "ax1.set_ylim(17, 115)\n",
    "ax1.set_xlabel(\"입학년도\")\n",
    "ax1.grid(True)\n",
    "\n",
    "print(\"\\n\")\n",
    "print(\"이상치인 2017년을 제외하고 측정하였을 때, \\\n",
    "연도별 지원자 수 평균은 %s이다.\"%(round(year_grouped2['영문이름'].count().mean(), 2)), end=\"\\n\")\n",
    "print(\"\\n\")"
   ]
  },
  {
   "cell_type": "code",
   "execution_count": 17,
   "metadata": {},
   "outputs": [
    {
     "data": {
      "application/vnd.plotly.v1+json": {
       "config": {
        "linkText": "Export to plot.ly",
        "plotlyServerURL": "https://plot.ly",
        "showLink": false
       },
       "data": [
        {
         "type": "bar",
         "uid": "41f3264d-3178-43b9-aa5b-19eca0ec51a4",
         "x": [
          2012,
          2013,
          2014,
          2015,
          2016,
          2017,
          2018,
          2019
         ],
         "y": [
          19,
          34,
          35,
          57,
          58,
          111,
          33,
          60
         ]
        }
       ],
       "layout": {
        "autosize": true,
        "hovermode": "x",
        "xaxis": {
         "autorange": true,
         "range": [
          2011.5,
          2019.5
         ],
         "showspikes": false,
         "type": "linear"
        },
        "yaxis": {
         "autorange": true,
         "range": [
          0,
          116.84210526315789
         ],
         "showspikes": false,
         "type": "linear"
        }
       }
      },
      "image/png": "[encoded data removed]",
      "text/html": [
       "<div>\n",
       "        \n",
       "        \n",
       "            <div id=\"7f37021f-23a2-42f7-ab9e-4a7797ec27cb\" class=\"plotly-graph-div\" style=\"height:525px; width:100%;\"></div>\n",
       "            <script type=\"text/javascript\">\n",
       "                require([\"plotly\"], function(Plotly) {\n",
       "                    window.PLOTLYENV=window.PLOTLYENV || {};\n",
       "                    window.PLOTLYENV.BASE_URL='https://plot.ly';\n",
       "                    \n",
       "                if (document.getElementById(\"7f37021f-23a2-42f7-ab9e-4a7797ec27cb\")) {\n",
       "                    Plotly.newPlot(\n",
       "                        '7f37021f-23a2-42f7-ab9e-4a7797ec27cb',\n",
       "                        [{\"type\": \"bar\", \"uid\": \"41f3264d-3178-43b9-aa5b-19eca0ec51a4\", \"x\": [2012, 2013, 2014, 2015, 2016, 2017, 2018, 2019], \"y\": [19, 34, 35, 57, 58, 111, 33, 60]}],\n",
       "                        {},\n",
       "                        {\"showLink\": false, \"linkText\": \"Export to plot.ly\", \"plotlyServerURL\": \"https://plot.ly\", \"responsive\": true}\n",
       "                    ).then(function(){\n",
       "                            \n",
       "var gd = document.getElementById('7f37021f-23a2-42f7-ab9e-4a7797ec27cb');\n",
       "var x = new MutationObserver(function (mutations, observer) {{\n",
       "        var display = window.getComputedStyle(gd).display;\n",
       "        if (!display || display === 'none') {{\n",
       "            console.log([gd, 'removed!']);\n",
       "            Plotly.purge(gd);\n",
       "            observer.disconnect();\n",
       "        }}\n",
       "}});\n",
       "\n",
       "// Listen for the removal of the full notebook cells\n",
       "var notebookContainer = gd.closest('#notebook-container');\n",
       "if (notebookContainer) {{\n",
       "    x.observe(notebookContainer, {childList: true});\n",
       "}}\n",
       "\n",
       "// Listen for the clearing of the current output cell\n",
       "var outputEl = gd.closest('.output');\n",
       "if (outputEl) {{\n",
       "    x.observe(outputEl, {childList: true});\n",
       "}}\n",
       "\n",
       "                        })\n",
       "                };\n",
       "                });\n",
       "            </script>\n",
       "        </div>"
      ]
     },
     "metadata": {},
     "output_type": "display_data"
    }
   ],
   "source": [
    "iplot([go.Bar(x = year_grouped['영문이름'].count().index, \n",
    "                y = year_grouped['영문이름'].count())])"
   ]
  },
  {
   "cell_type": "code",
   "execution_count": null,
   "metadata": {},
   "outputs": [],
   "source": [
    "plt.bar(year_grouped['영문이름'].count().index, \n",
    "        year_grouped['영문이름'].count())\n",
    "plt.title('연도별 지원자 수 및 지원자 수 평균')\n",
    "plt.ylabel('지원자수')\n",
    "plt.grid(True)"
   ]
  },
  {
   "cell_type": "code",
   "execution_count": null,
   "metadata": {},
   "outputs": [],
   "source": []
  },
  {
   "cell_type": "markdown",
   "metadata": {},
   "source": [
    "### 지원자 성별"
   ]
  },
  {
   "cell_type": "code",
   "execution_count": 40,
   "metadata": {},
   "outputs": [],
   "source": [
    "gr_sex = app_info.groupby(['학년도','성별2'])['영문이름'].count().unstack()"
   ]
  },
  {
   "cell_type": "code",
   "execution_count": null,
   "metadata": {},
   "outputs": [],
   "source": [
    "sns.countplot(x=app_info['학년도'], hue=app_info.rename(columns={'성별':'성별코드','성별2':'성별'})['성별'])\n",
    "plt.title('연도별/성별 지원자 수')\n",
    "plt.ylabel('지원자수')\n",
    "plt.grid(True)"
   ]
  },
  {
   "cell_type": "code",
   "execution_count": null,
   "metadata": {},
   "outputs": [],
   "source": []
  },
  {
   "cell_type": "markdown",
   "metadata": {},
   "source": [
    "### 지원대륙/국/도시\n",
    "    - 지원자 수 많은 상위 10개국/10개도시\n",
    "    - 상위 10개국/10개도시 연도별 지원자수\n",
    "    - 국가별 지원자 당 합격자수"
   ]
  },
  {
   "cell_type": "markdown",
   "metadata": {},
   "source": [
    "#### 지원자 수 상위 10개국"
   ]
  },
  {
   "cell_type": "code",
   "execution_count": null,
   "metadata": {},
   "outputs": [],
   "source": [
    "app_info_con_count = pd.DataFrame(\n",
    "    app_info['국가(영문)'].value_counts().head(11))\n",
    "app_info_con_percent = pd.DataFrame(\n",
    "    (app_info['국가(영문)'].value_counts(\n",
    "    normalize=True)*100).round(2).apply(lambda x: \n",
    "    str(x)+\"%\").head(11))\n",
    "app_info_con_df = app_info_con_count.merge(\n",
    "    app_info_con_percent, left_index=True, right_index=True)\n",
    "app_info_con_df.columns = ['지원자 수', '비율']\n",
    "app_info_con_df"
   ]
  },
  {
   "cell_type": "markdown",
   "metadata": {},
   "source": [
    "#### 지원자 수 상위 10개도시"
   ]
  },
  {
   "cell_type": "code",
   "execution_count": null,
   "metadata": {},
   "outputs": [],
   "source": [
    "app_info_city_count = pd.DataFrame(\n",
    "    app_info['도시_영문'].value_counts().head(10))\n",
    "app_info_city_percent = pd.DataFrame(\n",
    "    (app_info['도시_영문'].value_counts(\n",
    "    normalize=True)*100).round(2).apply(lambda x: \n",
    "    str(x)+\"%\").head(11))\n",
    "app_info_city_df = app_info_city_count.merge(\n",
    "    app_info_city_percent, left_index=True, right_index=True)\n",
    "app_info_city_df.columns = ['지원자 수', '비율']\n",
    "app_info_city_df"
   ]
  },
  {
   "cell_type": "code",
   "execution_count": null,
   "metadata": {},
   "outputs": [],
   "source": [
    "app_info_city_des = app_info.pivot_table(\n",
    "    values='영문이름',index='학년도', columns='도시_영문',\n",
    "    aggfunc='count').fillna(0)\n",
    "\n",
    "mean = []\n",
    "for city in app_info_city_df.index:\n",
    "    x = app_info_city_des[city].mean()\n",
    "    mean.append(x)\n",
    "app_info_city_df['평균'] = mean\n",
    "app_info_city_df['평균'] = app_info_city_df['평균'].round(2)\n",
    "\n",
    "std = []\n",
    "for city in app_info_city_df.index:\n",
    "    x = app_info_city_des[city].std()\n",
    "    std.append(x)\n",
    "app_info_city_df['표준편차'] = std\n",
    "app_info_city_df['표준편차'] = app_info_city_df['표준편차'].round(2)\n",
    "\n",
    "app_info_city_df"
   ]
  },
  {
   "cell_type": "markdown",
   "metadata": {},
   "source": [
    "1. 지원자 수 많은 국가 중 'ALGERIA'의 표준편차가 큰 것을 볼 때, 특정년도에 지원자 수가 편중되었음을 알 수 있다. \n",
    "2. 'INDONESIA'의 표준편차가 1 미만이며, 'CAMBODIA' 역시 표준편차가 낮게 나타났다. \n",
    "  - 두 나라는 비교적 지원자가 일정한 수준으로 있어왔으며, 인적 자원 활용이나 정부 차원의 홍보 등의 요인으로 추정할 수 있다. \n",
    "  - 아울러, 두 국가에서는 본 과정이 어느 정도 정착된 프로그램임을 추정할 수 있다."
   ]
  },
  {
   "cell_type": "code",
   "execution_count": null,
   "metadata": {},
   "outputs": [],
   "source": []
  },
  {
   "cell_type": "markdown",
   "metadata": {},
   "source": [
    "#### 지원자 수 대비 합격자 수"
   ]
  },
  {
   "cell_type": "code",
   "execution_count": null,
   "metadata": {},
   "outputs": [],
   "source": []
  },
  {
   "cell_type": "markdown",
   "metadata": {},
   "source": [
    "# 동문 및 재학생 분석"
   ]
  },
  {
   "cell_type": "markdown",
   "metadata": {},
   "source": [
    "## 분석목차"
   ]
  },
  {
   "cell_type": "markdown",
   "metadata": {},
   "source": [
    "1. 일반\n",
    "    - 연도별 입학생 수\n",
    "    - 시립대 출신 / 고대 출신 입학생\n",
    "        - 상당수의 고대동문들이 있지만 출신학교의 상이함으로 관리가 어려움. \n",
    "        - 동문회 조직을 통한 기관 내 활동 장려 \n",
    "    \n",
    "2. 대륙/국/도시\n",
    "    - 학생 수 많은 상위 10개국/10개도시\n",
    "    - 상위 10개국/10개도시\n",
    "3. 지원기관\n",
    "    - 지원자 출신\n",
    "4. 기타\n",
    "    - 많이 사용하는 이메일 계정    "
   ]
  },
  {
   "cell_type": "code",
   "execution_count": 13,
   "metadata": {
    "hidePrompt": false
   },
   "outputs": [
    {
     "data": {
      "text/plain": [
       "(341, 88)"
      ]
     },
     "execution_count": 13,
     "metadata": {},
     "output_type": "execute_result"
    }
   ],
   "source": [
    "stu_info = pd.read_excel('./data/IUDP학생현황.xlsx',\n",
    "                         date_parser=['참가기간(시작)', '참가기간(종료)', '체류기간(시작)', '체류기간(종료)', '인턴십 기간(시작)', \n",
    "                                      '인턴십 기간(종료)', '인턴십 기간2(시작)', '인턴십 기간2(종료)', '인턴십 기간3(시작)', \n",
    "                                      '인턴십 기간3(종료)', '국외여행1-1', '국외여행1-2', '국외여행2-1', '국외여행2-2', '국외여행3-1', '국외여행3-2'])\n",
    "# Z:/200. 연락처/IUDP학생현황.xlsx\n",
    "stu_info.shape  "
   ]
  },
  {
   "cell_type": "markdown",
   "metadata": {},
   "source": [
    "## 연도별 입학생 수"
   ]
  },
  {
   "cell_type": "code",
   "execution_count": 63,
   "metadata": {},
   "outputs": [],
   "source": [
    "# stu_info['참가기간(시작)'].dt.year\n",
    "\n",
    "year_grouped = \\\n",
    "stu_info[stu_info['전공'] == 'MUAP'\n",
    "        ].groupby([stu_info['참가기간(시작)'].dt.year])\n",
    "\n",
    "year_grouped1 =\\\n",
    "stu_info[(stu_info['전공'] == 'MUAP') & \n",
    "         (stu_info['참가기간(시작)'] < '2012')\n",
    "        ].groupby([stu_info['참가기간(시작)'].dt.year])\n",
    "\n",
    "year_grouped2 =\\\n",
    "stu_info[(stu_info['전공'] == 'MUAP') & \n",
    "         (stu_info['참가기간(시작)'] >= '2012')\n",
    "        ].groupby([stu_info['참가기간(시작)'].dt.year])"
   ]
  },
  {
   "cell_type": "code",
   "execution_count": 64,
   "metadata": {},
   "outputs": [
    {
     "data": {
      "application/vnd.plotly.v1+json": {
       "config": {
        "linkText": "Export to plot.ly",
        "plotlyServerURL": "https://plot.ly",
        "showLink": false
       },
       "data": [
        {
         "type": "scatter",
         "uid": "81951c6a-e6a3-4c43-ba72-ca6a602baa13",
         "x": [
          2008,
          2009,
          2010,
          2011
         ],
         "y": [
          19,
          17,
          20,
          17
         ]
        },
        {
         "type": "scatter",
         "uid": "dbe1c3d7-676c-42c1-a8b9-3a2674ead5cd",
         "x": [
          2012,
          2013,
          2014,
          2015,
          2016,
          2017,
          2018
         ],
         "y": [
          15,
          20,
          20,
          20,
          20,
          20,
          20
         ]
        },
        {
         "type": "scatter",
         "uid": "75412f44-9d9c-4445-8ba1-ba6537d9a208",
         "x": [
          2008,
          2009,
          2010,
          2011,
          2012,
          2013,
          2014,
          2015,
          2016,
          2017,
          2018
         ],
         "y": [
          18.90909090909091,
          18.90909090909091,
          18.90909090909091,
          18.90909090909091,
          18.90909090909091,
          18.90909090909091,
          18.90909090909091,
          18.90909090909091,
          18.90909090909091,
          18.90909090909091,
          18.90909090909091
         ]
        }
       ],
       "layout": {
        "autosize": true,
        "xaxis": {
         "autorange": true,
         "range": [
          2007.3570379693729,
          2018.6429620306271
         ],
         "type": "linear"
        },
        "yaxis": {
         "autorange": true,
         "range": [
          14.650703741846893,
          20.349296258153107
         ],
         "type": "linear"
        }
       }
      },
      "image/png": "[encoded data removed]",
      "text/html": [
       "<div id=\"147eff2c-7d5b-4ebe-b8f7-b134f4747e28\" style=\"height: 525px; width: 100%;\" class=\"plotly-graph-div\"></div><script type=\"text/javascript\">require([\"plotly\"], function(Plotly) { window.PLOTLYENV=window.PLOTLYENV || {};window.PLOTLYENV.BASE_URL=\"https://plot.ly\";\n",
       "if (document.getElementById(\"147eff2c-7d5b-4ebe-b8f7-b134f4747e28\")) {\n",
       "    Plotly.newPlot(\"147eff2c-7d5b-4ebe-b8f7-b134f4747e28\", [{\"x\": [2008, 2009, 2010, 2011], \"y\": [19, 17, 20, 17], \"type\": \"scatter\", \"uid\": \"6e4a75db-8956-4e10-bf3a-873727a7033a\"}, {\"x\": [2012, 2013, 2014, 2015, 2016, 2017, 2018], \"y\": [15, 20, 20, 20, 20, 20, 20], \"type\": \"scatter\", \"uid\": \"466b6c8a-8920-4cdc-9403-292f408a9c99\"}, {\"x\": [2008, 2009, 2010, 2011, 2012, 2013, 2014, 2015, 2016, 2017, 2018], \"y\": [18.90909090909091, 18.90909090909091, 18.90909090909091, 18.90909090909091, 18.90909090909091, 18.90909090909091, 18.90909090909091, 18.90909090909091, 18.90909090909091, 18.90909090909091, 18.90909090909091], \"type\": \"scatter\", \"uid\": \"845fbe9a-1843-457d-8ae9-c859a7413368\"}], {}, {\"showLink\": false, \"linkText\": \"Export to plot.ly\", \"plotlyServerURL\": \"https://plot.ly\"}); \n",
       "}\n",
       "});</script><script type=\"text/javascript\">window.addEventListener(\"resize\", function(){if (document.getElementById(\"147eff2c-7d5b-4ebe-b8f7-b134f4747e28\")) {window._Plotly.Plots.resize(document.getElementById(\"147eff2c-7d5b-4ebe-b8f7-b134f4747e28\"));};})</script>"
      ],
      "text/vnd.plotly.v1+html": [
       "<div id=\"147eff2c-7d5b-4ebe-b8f7-b134f4747e28\" style=\"height: 525px; width: 100%;\" class=\"plotly-graph-div\"></div><script type=\"text/javascript\">require([\"plotly\"], function(Plotly) { window.PLOTLYENV=window.PLOTLYENV || {};window.PLOTLYENV.BASE_URL=\"https://plot.ly\";\n",
       "if (document.getElementById(\"147eff2c-7d5b-4ebe-b8f7-b134f4747e28\")) {\n",
       "    Plotly.newPlot(\"147eff2c-7d5b-4ebe-b8f7-b134f4747e28\", [{\"x\": [2008, 2009, 2010, 2011], \"y\": [19, 17, 20, 17], \"type\": \"scatter\", \"uid\": \"6e4a75db-8956-4e10-bf3a-873727a7033a\"}, {\"x\": [2012, 2013, 2014, 2015, 2016, 2017, 2018], \"y\": [15, 20, 20, 20, 20, 20, 20], \"type\": \"scatter\", \"uid\": \"466b6c8a-8920-4cdc-9403-292f408a9c99\"}, {\"x\": [2008, 2009, 2010, 2011, 2012, 2013, 2014, 2015, 2016, 2017, 2018], \"y\": [18.90909090909091, 18.90909090909091, 18.90909090909091, 18.90909090909091, 18.90909090909091, 18.90909090909091, 18.90909090909091, 18.90909090909091, 18.90909090909091, 18.90909090909091, 18.90909090909091], \"type\": \"scatter\", \"uid\": \"845fbe9a-1843-457d-8ae9-c859a7413368\"}], {}, {\"showLink\": false, \"linkText\": \"Export to plot.ly\", \"plotlyServerURL\": \"https://plot.ly\"}); \n",
       "}\n",
       "});</script><script type=\"text/javascript\">window.addEventListener(\"resize\", function(){if (document.getElementById(\"147eff2c-7d5b-4ebe-b8f7-b134f4747e28\")) {window._Plotly.Plots.resize(document.getElementById(\"147eff2c-7d5b-4ebe-b8f7-b134f4747e28\"));};})</script>"
      ]
     },
     "metadata": {},
     "output_type": "display_data"
    }
   ],
   "source": [
    "trace1 = go.Scatter(x = year_grouped1['성명'].count().index, \n",
    "                          y = year_grouped1['성명'].count())\n",
    "trace2 = go.Scatter(x = year_grouped2['성명'].count().index, \n",
    "                          y = year_grouped2['성명'].count())\n",
    "trace = go.Scatter(x = year_grouped['성명'].count().index, \n",
    "                          y = [year_grouped['성명'].count().mean()]*\n",
    "                                len(year_grouped['성명'].count().index))\n",
    "\n",
    "\n",
    "iplot([trace1, trace2, trace])\n",
    "# print(\"\\n\")\n",
    "# print(\"이상치인 2017년을 제외하고 측정하였을 때, \\\n",
    "# 연도별 지원자 수 평균은 %s이다.\"%(round(year_grouped2['성명'].count().mean(), 2)), end=\"\\n\")\n",
    "# print(\"\\n\")"
   ]
  },
  {
   "cell_type": "code",
   "execution_count": null,
   "metadata": {},
   "outputs": [],
   "source": []
  },
  {
   "cell_type": "markdown",
   "metadata": {},
   "source": [
    "## 시립대 / 고대 총학생수"
   ]
  },
  {
   "cell_type": "code",
   "execution_count": 73,
   "metadata": {},
   "outputs": [],
   "source": [
    "uni_grouped1 = \\\n",
    "stu_info[(stu_info['전공'] == 'MUAP') & (stu_info['참가기간(시작)'] < '2012')]\n",
    "\n",
    "uni_grouped2 = \\\n",
    "stu_info[(stu_info['전공'] == 'MUAP') & (stu_info['참가기간(시작)'] >= '2012')]"
   ]
  },
  {
   "cell_type": "code",
   "execution_count": null,
   "metadata": {},
   "outputs": [],
   "source": [
    "trace1 = go.Bar(y = year_grouped1['성명'].count(), name='고려대')\n",
    "trace2 = go.Bar(y = year_grouped2['성명'].count(), name='서울시립대')\n",
    "data = [trace1, trace2]\n",
    "layout = go.Layout(\n",
    "    barmode='stack'\n",
    ")\n",
    "\n",
    "fig = go.Figure(data=data, layout=layout)\n",
    "iplot(fig)"
   ]
  },
  {
   "cell_type": "code",
   "execution_count": null,
   "metadata": {},
   "outputs": [],
   "source": []
  },
  {
   "cell_type": "markdown",
   "metadata": {},
   "source": [
    "## 국가별 학생수"
   ]
  },
  {
   "cell_type": "code",
   "execution_count": 177,
   "metadata": {},
   "outputs": [],
   "source": [
    "stu_info['대학'] = pd.Categorical(np.where(stu_info['참가기간(시작)'].dt.year.between(2008,2011),\n",
    "                                         '고려대', '서울시립대')).astype('object') \n",
    "# .astype('object') : Categorical 인덱스를 str으로 변경\n",
    "stu_muap = stu_info[stu_info['전공'] == 'MUAP']\n",
    "stu_muap_by_con = stu_muap.groupby(['대학', '국가_국문'])['성명'].count().unstack(level=0).fillna(0).astype(int)"
   ]
  },
  {
   "cell_type": "code",
   "execution_count": 182,
   "metadata": {},
   "outputs": [
    {
     "data": {
      "text/html": [
       "<div>\n",
       "<style scoped>\n",
       "    .dataframe tbody tr th:only-of-type {\n",
       "        vertical-align: middle;\n",
       "    }\n",
       "\n",
       "    .dataframe tbody tr th {\n",
       "        vertical-align: top;\n",
       "    }\n",
       "\n",
       "    .dataframe thead th {\n",
       "        text-align: right;\n",
       "    }\n",
       "</style>\n",
       "<table border=\"1\" class=\"dataframe\">\n",
       "  <thead>\n",
       "    <tr style=\"text-align: right;\">\n",
       "      <th></th>\n",
       "      <th>고려대</th>\n",
       "      <th>서울시립대</th>\n",
       "      <th>합계</th>\n",
       "    </tr>\n",
       "    <tr>\n",
       "      <th>국가_국문</th>\n",
       "      <th></th>\n",
       "      <th></th>\n",
       "      <th></th>\n",
       "    </tr>\n",
       "  </thead>\n",
       "  <tbody>\n",
       "    <tr>\n",
       "      <th>중국</th>\n",
       "      <td>14</td>\n",
       "      <td>16</td>\n",
       "      <td>30</td>\n",
       "    </tr>\n",
       "    <tr>\n",
       "      <th>몽골</th>\n",
       "      <td>10</td>\n",
       "      <td>15</td>\n",
       "      <td>25</td>\n",
       "    </tr>\n",
       "    <tr>\n",
       "      <th>캄보디아</th>\n",
       "      <td>1</td>\n",
       "      <td>12</td>\n",
       "      <td>13</td>\n",
       "    </tr>\n",
       "    <tr>\n",
       "      <th>인도네시아</th>\n",
       "      <td>4</td>\n",
       "      <td>8</td>\n",
       "      <td>12</td>\n",
       "    </tr>\n",
       "    <tr>\n",
       "      <th>대만</th>\n",
       "      <td>8</td>\n",
       "      <td>2</td>\n",
       "      <td>10</td>\n",
       "    </tr>\n",
       "    <tr>\n",
       "      <th>태국</th>\n",
       "      <td>4</td>\n",
       "      <td>6</td>\n",
       "      <td>10</td>\n",
       "    </tr>\n",
       "    <tr>\n",
       "      <th>나이지리아</th>\n",
       "      <td>0</td>\n",
       "      <td>9</td>\n",
       "      <td>9</td>\n",
       "    </tr>\n",
       "    <tr>\n",
       "      <th>폴란드</th>\n",
       "      <td>2</td>\n",
       "      <td>7</td>\n",
       "      <td>9</td>\n",
       "    </tr>\n",
       "    <tr>\n",
       "      <th>베트남</th>\n",
       "      <td>2</td>\n",
       "      <td>6</td>\n",
       "      <td>8</td>\n",
       "    </tr>\n",
       "    <tr>\n",
       "      <th>미얀마</th>\n",
       "      <td>0</td>\n",
       "      <td>7</td>\n",
       "      <td>7</td>\n",
       "    </tr>\n",
       "  </tbody>\n",
       "</table>\n",
       "</div>"
      ],
      "text/plain": [
       "       고려대  서울시립대  합계\n",
       "국가_국문                \n",
       "중국      14     16  30\n",
       "몽골      10     15  25\n",
       "캄보디아     1     12  13\n",
       "인도네시아    4      8  12\n",
       "대만       8      2  10\n",
       "태국       4      6  10\n",
       "나이지리아    0      9   9\n",
       "폴란드      2      7   9\n",
       "베트남      2      6   8\n",
       "미얀마      0      7   7"
      ]
     },
     "execution_count": 182,
     "metadata": {},
     "output_type": "execute_result"
    }
   ],
   "source": [
    "pd.concat([stu_muap_by_con, stu_muap_by_con.sum(axis=1)], 1).rename(\n",
    "    columns={0: '합계'}).sort_values(by='합계', ascending=False).head(10)"
   ]
  },
  {
   "cell_type": "markdown",
   "metadata": {},
   "source": [
    "****몽골 내 고려대 동문회 조직화하는 것이 필요****"
   ]
  },
  {
   "cell_type": "code",
   "execution_count": null,
   "metadata": {},
   "outputs": [],
   "source": [
    "trace1 = go.Bar(y = year_grouped1['성명'].count(), name='고려대')\n",
    "trace2 = go.Bar(y = year_grouped2['성명'].count(), name='서울시립대')\n",
    "data = [trace1, trace2]\n",
    "layout = go.Layout(\n",
    "    barmode='stack'\n",
    ")\n",
    "\n",
    "fig = go.Figure(data=data, layout=layout)\n",
    "iplot(fig)"
   ]
  }
 ],
 "metadata": {
  "kernelspec": {
   "display_name": "Python 3",
   "language": "python",
   "name": "python3"
  },
  "language_info": {
   "codemirror_mode": {
    "name": "ipython",
    "version": 3
   },
   "file_extension": ".py",
   "mimetype": "text/x-python",
   "name": "python",
   "nbconvert_exporter": "python",
   "pygments_lexer": "ipython3",
   "version": "3.7.0"
  }
 },
 "nbformat": 4,
 "nbformat_minor": 2
}
