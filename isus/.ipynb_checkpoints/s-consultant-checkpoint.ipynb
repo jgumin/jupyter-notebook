{
 "cells": [
  {
   "cell_type": "markdown",
   "metadata": {
    "toc": true
   },
   "source": [
    "<h1>Table of Contents<span class=\"tocSkip\"></span></h1>\n",
    "<div class=\"toc\"><ul class=\"toc-item\"><li><span><a href=\"#설문항목\" data-toc-modified-id=\"설문항목-1\"><span class=\"toc-item-num\">1&nbsp;&nbsp;</span>설문항목</a></span><ul class=\"toc-item\"><li><span><a href=\"#교육-전-설문\" data-toc-modified-id=\"교육-전-설문-1.1\"><span class=\"toc-item-num\">1.1&nbsp;&nbsp;</span>교육 전 설문</a></span></li><li><span><a href=\"#교육-후-설문\" data-toc-modified-id=\"교육-후-설문-1.2\"><span class=\"toc-item-num\">1.2&nbsp;&nbsp;</span>교육 후 설문</a></span></li></ul></li><li><span><a href=\"#강의평가-설문\" data-toc-modified-id=\"강의평가-설문-2\"><span class=\"toc-item-num\">2&nbsp;&nbsp;</span>강의평가 설문</a></span></li><li><span><a href=\"#설문분석\" data-toc-modified-id=\"설문분석-3\"><span class=\"toc-item-num\">3&nbsp;&nbsp;</span>설문분석</a></span><ul class=\"toc-item\"><li><span><a href=\"#교육전-설문\" data-toc-modified-id=\"교육전-설문-3.1\"><span class=\"toc-item-num\">3.1&nbsp;&nbsp;</span>교육전 설문</a></span><ul class=\"toc-item\"><li><span><a href=\"#연수생-선발/추천을-위한-사전준비-기간은-적절하였다\" data-toc-modified-id=\"연수생-선발/추천을-위한-사전준비-기간은-적절하였다-3.1.1\"><span class=\"toc-item-num\">3.1.1&nbsp;&nbsp;</span>연수생 선발/추천을 위한 사전준비 기간은 적절하였다</a></span></li><li><span><a href=\"#연수생-선발/추천을-위한-사전준비-기간은-적절하였다\" data-toc-modified-id=\"연수생-선발/추천을-위한-사전준비-기간은-적절하였다-3.1.2\"><span class=\"toc-item-num\">3.1.2&nbsp;&nbsp;</span>연수생 선발/추천을 위한 사전준비 기간은 적절하였다</a></span></li><li><span><a href=\"#연수-신청방법-및-교육내용에-대한-구체적인-안내를-받았다\" data-toc-modified-id=\"연수-신청방법-및-교육내용에-대한-구체적인-안내를-받았다-3.1.3\"><span class=\"toc-item-num\">3.1.3&nbsp;&nbsp;</span>연수 신청방법 및 교육내용에 대한 구체적인 안내를 받았다</a></span></li></ul></li><li><span><a href=\"#교육후-설문\" data-toc-modified-id=\"교육후-설문-3.2\"><span class=\"toc-item-num\">3.2&nbsp;&nbsp;</span>교육후 설문</a></span><ul class=\"toc-item\"><li><span><a href=\"#연수과정의-내용은-연수생-현지의-상황과-요구에-맞게-구성되었다.\" data-toc-modified-id=\"연수과정의-내용은-연수생-현지의-상황과-요구에-맞게-구성되었다.-3.2.1\"><span class=\"toc-item-num\">3.2.1&nbsp;&nbsp;</span>연수과정의 내용은 연수생 현지의 상황과 요구에 맞게 구성되었다.</a></span></li><li><span><a href=\"#연수과정의-내용과-수준은-이해하기-적절하였다.\" data-toc-modified-id=\"연수과정의-내용과-수준은-이해하기-적절하였다.-3.2.2\"><span class=\"toc-item-num\">3.2.2&nbsp;&nbsp;</span>연수과정의 내용과 수준은 이해하기 적절하였다.</a></span></li><li><span><a href=\"#연수과정의-교육방법(강의,-실습/토의,-현장학습-등)은-연수내용을-이해하는데-적합하였다.\" data-toc-modified-id=\"연수과정의-교육방법(강의,-실습/토의,-현장학습-등)은-연수내용을-이해하는데-적합하였다.-3.2.3\"><span class=\"toc-item-num\">3.2.3&nbsp;&nbsp;</span>연수과정의 교육방법(강의, 실습/토의, 현장학습 등)은 연수내용을 이해하는데 적합하였다.</a></span></li><li><span><a href=\"#연수기관에서는-연수생-국가의-문화나-종교를-배려하기-위해-노력하였다\" data-toc-modified-id=\"연수기관에서는-연수생-국가의-문화나-종교를-배려하기-위해-노력하였다-3.2.4\"><span class=\"toc-item-num\">3.2.4&nbsp;&nbsp;</span>연수기관에서는 연수생 국가의 문화나 종교를 배려하기 위해 노력하였다</a></span></li><li><span><a href=\"#연수운영진은-연수과정을-원활하게-운영하였다.-(일정관리,-강의준비,-연수생-지원-등)\" data-toc-modified-id=\"연수운영진은-연수과정을-원활하게-운영하였다.-(일정관리,-강의준비,-연수생-지원-등)-3.2.5\"><span class=\"toc-item-num\">3.2.5&nbsp;&nbsp;</span>연수운영진은 연수과정을 원활하게 운영하였다. (일정관리, 강의준비, 연수생 지원 등)</a></span></li><li><span><a href=\"#연수운영진은-응급상황-등-사건사고에-대해-적절히-대처하였다.\" data-toc-modified-id=\"연수운영진은-응급상황-등-사건사고에-대해-적절히-대처하였다.-3.2.6\"><span class=\"toc-item-num\">3.2.6&nbsp;&nbsp;</span>연수운영진은 응급상황 등 사건사고에 대해 적절히 대처하였다.</a></span></li><li><span><a href=\"#강의실-및-실습실은-사용하기에-편리하였다.\" data-toc-modified-id=\"강의실-및-실습실은-사용하기에-편리하였다.-3.2.7\"><span class=\"toc-item-num\">3.2.7&nbsp;&nbsp;</span>강의실 및 실습실은 사용하기에 편리하였다.</a></span></li><li><span><a href=\"#연수-편의시설(휴게시설,-식당,-숙박시설-등)은-사용하기에-편리하였다.\" data-toc-modified-id=\"연수-편의시설(휴게시설,-식당,-숙박시설-등)은-사용하기에-편리하였다.-3.2.8\"><span class=\"toc-item-num\">3.2.8&nbsp;&nbsp;</span>연수 편의시설(휴게시설, 식당, 숙박시설 등)은 사용하기에 편리하였다.</a></span></li><li><span><a href=\"#연수과정에-사용된-교수학습매체는-적절하였다.-(교재,-동영상,-실습장비-등)\" data-toc-modified-id=\"연수과정에-사용된-교수학습매체는-적절하였다.-(교재,-동영상,-실습장비-등)-3.2.9\"><span class=\"toc-item-num\">3.2.9&nbsp;&nbsp;</span>연수과정에 사용된 교수학습매체는 적절하였다. (교재, 동영상, 실습장비 등)</a></span></li><li><span><a href=\"#강사진은-해당-분야에-대한-실무경험이나-전문성-수준이-높은-인력으로-구성되었다.\" data-toc-modified-id=\"강사진은-해당-분야에-대한-실무경험이나-전문성-수준이-높은-인력으로-구성되었다.-3.2.10\"><span class=\"toc-item-num\">3.2.10&nbsp;&nbsp;</span>강사진은 해당 분야에 대한 실무경험이나 전문성 수준이 높은 인력으로 구성되었다.</a></span></li><li><span><a href=\"#강사는-연수생과-소통하며-교육내용을-체계적이고-능숙하게-전달하였다\" data-toc-modified-id=\"강사는-연수생과-소통하며-교육내용을-체계적이고-능숙하게-전달하였다-3.2.11\"><span class=\"toc-item-num\">3.2.11&nbsp;&nbsp;</span>강사는 연수생과 소통하며 교육내용을 체계적이고 능숙하게 전달하였다</a></span></li><li><span><a href=\"#통역사는-이해하기-쉽도록-통역하였다.\" data-toc-modified-id=\"통역사는-이해하기-쉽도록-통역하였다.-3.2.12\"><span class=\"toc-item-num\">3.2.12&nbsp;&nbsp;</span>통역사는 이해하기 쉽도록 통역하였다.</a></span></li><li><span><a href=\"#국별보고/액션플랜의-주제는-연수과정-목표와-연계되어-있었다.\" data-toc-modified-id=\"국별보고/액션플랜의-주제는-연수과정-목표와-연계되어-있었다.-3.2.13\"><span class=\"toc-item-num\">3.2.13&nbsp;&nbsp;</span>국별보고/액션플랜의 주제는 연수과정 목표와 연계되어 있었다.</a></span></li><li><span><a href=\"#국별보고/액션플랜-세션시간은-충분하였다.\" data-toc-modified-id=\"국별보고/액션플랜-세션시간은-충분하였다.-3.2.14\"><span class=\"toc-item-num\">3.2.14&nbsp;&nbsp;</span>국별보고/액션플랜 세션시간은 충분하였다.</a></span></li><li><span><a href=\"#액션플랜-작성-및-발표를-위한-사전안내가-충분히-이루어졌다.\" data-toc-modified-id=\"액션플랜-작성-및-발표를-위한-사전안내가-충분히-이루어졌다.-3.2.15\"><span class=\"toc-item-num\">3.2.15&nbsp;&nbsp;</span>액션플랜 작성 및 발표를 위한 사전안내가 충분히 이루어졌다.</a></span></li><li><span><a href=\"#국별보고/액션플랜-세션-담당자는-피드백을-충분히-제공하였다.\" data-toc-modified-id=\"국별보고/액션플랜-세션-담당자는-피드백을-충분히-제공하였다.-3.2.16\"><span class=\"toc-item-num\">3.2.16&nbsp;&nbsp;</span>국별보고/액션플랜 세션 담당자는 피드백을 충분히 제공하였다.</a></span></li><li><span><a href=\"#국별보고/액션플랜-세션은-연수내용을-이해하는데-도움이-되었다.\" data-toc-modified-id=\"국별보고/액션플랜-세션은-연수내용을-이해하는데-도움이-되었다.-3.2.17\"><span class=\"toc-item-num\">3.2.17&nbsp;&nbsp;</span>국별보고/액션플랜 세션은 연수내용을 이해하는데 도움이 되었다.</a></span></li><li><span><a href=\"#액션플랜-작성은-현장에서-실무능력을-향상시키는데-도움이-되었다.\" data-toc-modified-id=\"액션플랜-작성은-현장에서-실무능력을-향상시키는데-도움이-되었다.-3.2.18\"><span class=\"toc-item-num\">3.2.18&nbsp;&nbsp;</span>액션플랜 작성은 현장에서 실무능력을 향상시키는데 도움이 되었다.</a></span></li></ul></li><li><span><a href=\"#연수생만족도-관련-설문항목-분석\" data-toc-modified-id=\"연수생만족도-관련-설문항목-분석-3.3\"><span class=\"toc-item-num\">3.3&nbsp;&nbsp;</span>연수생만족도 관련 설문항목 분석</a></span><ul class=\"toc-item\"><li><span><a href=\"#연수생만족도-항목별-평균값\" data-toc-modified-id=\"연수생만족도-항목별-평균값-3.3.1\"><span class=\"toc-item-num\">3.3.1&nbsp;&nbsp;</span>연수생만족도 항목별 평균값</a></span></li><li><span><a href=\"#연수생만족도-주제-그룹-평균값\" data-toc-modified-id=\"연수생만족도-주제-그룹-평균값-3.3.2\"><span class=\"toc-item-num\">3.3.2&nbsp;&nbsp;</span>연수생만족도 주제 그룹 평균값</a></span></li></ul></li><li><span><a href=\"#교육전후-교과별-'인지-수준---기술-수준---태도-수준'-변화-분석\" data-toc-modified-id=\"교육전후-교과별-'인지-수준---기술-수준---태도-수준'-변화-분석-3.4\"><span class=\"toc-item-num\">3.4&nbsp;&nbsp;</span>교육전후 교과별 '인지 수준 - 기술 수준 - 태도 수준' 변화 분석</a></span><ul class=\"toc-item\"><li><span><a href=\"#'PPP와-개도국에-대한-PPP적용방법에-대한-이해-(A교과)'에-대한-참가자별-'인지---기술---태도'-수준-변화\" data-toc-modified-id=\"'PPP와-개도국에-대한-PPP적용방법에-대한-이해-(A교과)'에-대한-참가자별-'인지---기술---태도'-수준-변화-3.4.1\"><span class=\"toc-item-num\">3.4.1&nbsp;&nbsp;</span>'PPP와 개도국에 대한 PPP적용방법에 대한 이해 (A교과)'에 대한 참가자별 '인지 - 기술 - 태도' 수준 변화</a></span><ul class=\"toc-item\"><li><span><a href=\"#A교과에-대한-인지-수준-변화\" data-toc-modified-id=\"A교과에-대한-인지-수준-변화-3.4.1.1\"><span class=\"toc-item-num\">3.4.1.1&nbsp;&nbsp;</span>A교과에 대한 인지 수준 변화</a></span></li><li><span><a href=\"#A교과에-대한-기술-수준-변화\" data-toc-modified-id=\"A교과에-대한-기술-수준-변화-3.4.1.2\"><span class=\"toc-item-num\">3.4.1.2&nbsp;&nbsp;</span>A교과에 대한 기술 수준 변화</a></span></li><li><span><a href=\"#A교과에-대한-태도-수준-변화\" data-toc-modified-id=\"A교과에-대한-태도-수준-변화-3.4.1.3\"><span class=\"toc-item-num\">3.4.1.3&nbsp;&nbsp;</span>A교과에 대한 태도 수준 변화</a></span></li></ul></li><li><span><a href=\"#'개도국을-위한-적용가능한-수질개선기술-(B교과)'에-대한-참가자별-'인지---기술---태도'-수준-변화\" data-toc-modified-id=\"'개도국을-위한-적용가능한-수질개선기술-(B교과)'에-대한-참가자별-'인지---기술---태도'-수준-변화-3.4.2\"><span class=\"toc-item-num\">3.4.2&nbsp;&nbsp;</span>'개도국을 위한 적용가능한 수질개선기술 (B교과)'에 대한 참가자별 '인지 - 기술 - 태도' 수준 변화</a></span><ul class=\"toc-item\"><li><span><a href=\"#B교과에-대한-인지-수준-변화\" data-toc-modified-id=\"B교과에-대한-인지-수준-변화-3.4.2.1\"><span class=\"toc-item-num\">3.4.2.1&nbsp;&nbsp;</span>B교과에 대한 인지 수준 변화</a></span></li><li><span><a href=\"#B교과에-대한-기술-수준-변화\" data-toc-modified-id=\"B교과에-대한-기술-수준-변화-3.4.2.2\"><span class=\"toc-item-num\">3.4.2.2&nbsp;&nbsp;</span>B교과에 대한 기술 수준 변화</a></span></li><li><span><a href=\"#B교과에-대한-태도-수준-변화\" data-toc-modified-id=\"B교과에-대한-태도-수준-변화-3.4.2.3\"><span class=\"toc-item-num\">3.4.2.3&nbsp;&nbsp;</span>B교과에 대한 태도 수준 변화</a></span></li></ul></li><li><span><a href=\"#'개도국을-위한-미디어시티,-도로,-교통시설-개발-(C-교과)'-에-대한-참가자별-'인지---기술---태도'-수준-변화\" data-toc-modified-id=\"'개도국을-위한-미디어시티,-도로,-교통시설-개발-(C-교과)'-에-대한-참가자별-'인지---기술---태도'-수준-변화-3.4.3\"><span class=\"toc-item-num\">3.4.3&nbsp;&nbsp;</span>'개도국을 위한 미디어시티, 도로, 교통시설 개발 (C 교과)' 에 대한 참가자별 '인지 - 기술 - 태도' 수준 변화</a></span><ul class=\"toc-item\"><li><span><a href=\"#C교과에-대한-인지-수준-변화\" data-toc-modified-id=\"C교과에-대한-인지-수준-변화-3.4.3.1\"><span class=\"toc-item-num\">3.4.3.1&nbsp;&nbsp;</span>C교과에 대한 인지 수준 변화</a></span></li><li><span><a href=\"#C교과에-대한-기술-수준-변화\" data-toc-modified-id=\"C교과에-대한-기술-수준-변화-3.4.3.2\"><span class=\"toc-item-num\">3.4.3.2&nbsp;&nbsp;</span>C교과에 대한 기술 수준 변화</a></span></li><li><span><a href=\"#C교과에-대한-태도-수준-변화\" data-toc-modified-id=\"C교과에-대한-태도-수준-변화-3.4.3.3\"><span class=\"toc-item-num\">3.4.3.3&nbsp;&nbsp;</span>C교과에 대한 태도 수준 변화</a></span></li></ul></li></ul></li><li><span><a href=\"#수준-변화에-대한-T검정-및-직책별-성별-'인지-수준---기술-수준---태도-수준'-변화-분석\" data-toc-modified-id=\"수준-변화에-대한-T검정-및-직책별-성별-'인지-수준---기술-수준---태도-수준'-변화-분석-3.5\"><span class=\"toc-item-num\">3.5&nbsp;&nbsp;</span>수준 변화에 대한 T검정 및 직책별-성별 '인지 수준 - 기술 수준 - 태도 수준' 변화 분석</a></span><ul class=\"toc-item\"><li><span><a href=\"#교육전후-교과별-'인지-수준---기술-수준---태도-수준'-변화에-대한-T검정\" data-toc-modified-id=\"교육전후-교과별-'인지-수준---기술-수준---태도-수준'-변화에-대한-T검정-3.5.1\"><span class=\"toc-item-num\">3.5.1&nbsp;&nbsp;</span>교육전후 교과별 '인지 수준 - 기술 수준 - 태도 수준' 변화에 대한 T검정</a></span></li><li><span><a href=\"#교육전후-교과별-'인지-수준---기술-수준---태도-수준'-변화-데이터\" data-toc-modified-id=\"교육전후-교과별-'인지-수준---기술-수준---태도-수준'-변화-데이터-3.5.2\"><span class=\"toc-item-num\">3.5.2&nbsp;&nbsp;</span>교육전후 교과별 '인지 수준 - 기술 수준 - 태도 수준' 변화 데이터</a></span></li><li><span><a href=\"#강의평가-데이터를--설문결과-및-학생정보-데이터에-병합\" data-toc-modified-id=\"강의평가-데이터를--설문결과-및-학생정보-데이터에-병합-3.5.3\"><span class=\"toc-item-num\">3.5.3&nbsp;&nbsp;</span>강의평가 데이터를  설문결과 및 학생정보 데이터에 병합</a></span></li><li><span><a href=\"#직책별-교육전후-교과별-'인지-수준---기술-수준---태도-수준'-변화-분석\" data-toc-modified-id=\"직책별-교육전후-교과별-'인지-수준---기술-수준---태도-수준'-변화-분석-3.5.4\"><span class=\"toc-item-num\">3.5.4&nbsp;&nbsp;</span>직책별 교육전후 교과별 '인지 수준 - 기술 수준 - 태도 수준' 변화 분석</a></span></li><li><span><a href=\"#성별-교육전후-교과별-'인지-수준---기술-수준---태도-수준'-변화-분석\" data-toc-modified-id=\"성별-교육전후-교과별-'인지-수준---기술-수준---태도-수준'-변화-분석-3.5.5\"><span class=\"toc-item-num\">3.5.5&nbsp;&nbsp;</span>성별 교육전후 교과별 '인지 수준 - 기술 수준 - 태도 수준' 변화 분석</a></span></li></ul></li></ul></li><li><span><a href=\"#강의평가-결과\" data-toc-modified-id=\"강의평가-결과-4\"><span class=\"toc-item-num\">4&nbsp;&nbsp;</span>강의평가 결과</a></span><ul class=\"toc-item\"><li><span><a href=\"#학생별-강의평가\" data-toc-modified-id=\"학생별-강의평가-4.1\"><span class=\"toc-item-num\">4.1&nbsp;&nbsp;</span>학생별 강의평가</a></span></li><li><span><a href=\"#강의별-강의평가\" data-toc-modified-id=\"강의별-강의평가-4.2\"><span class=\"toc-item-num\">4.2&nbsp;&nbsp;</span>강의별 강의평가</a></span><ul class=\"toc-item\"><li><span><a href=\"#강의별-강의평가-평균\" data-toc-modified-id=\"강의별-강의평가-평균-4.2.1\"><span class=\"toc-item-num\">4.2.1&nbsp;&nbsp;</span>강의별 강의평가 평균</a></span></li><li><span><a href=\"#강의별-강의평가-평균의-바그래프\" data-toc-modified-id=\"강의별-강의평가-평균의-바그래프-4.2.2\"><span class=\"toc-item-num\">4.2.2&nbsp;&nbsp;</span>강의별 강의평가 평균의 바그래프</a></span></li><li><span><a href=\"#강의별-강의평가-평균-간-correlation\" data-toc-modified-id=\"강의별-강의평가-평균-간-correlation-4.2.3\"><span class=\"toc-item-num\">4.2.3&nbsp;&nbsp;</span>강의별 강의평가 평균 간 correlation</a></span></li></ul></li></ul></li></ul></div>"
   ]
  },
  {
   "cell_type": "markdown",
   "metadata": {},
   "source": [
    "# 설문항목\n",
    "\n",
    "## 교육 전 설문\n",
    "**1. The following questions relate to the guide for the application and participant selection for the course. Please check the number that best expresses your thoughts.  (다음은 귀하께서 참여하신 연수과정의 운영 적절성 및 만족도에 대한 항목입니다. 각 문항에 대해 귀하의 생각과 일치하시는 곳에 ✔표 하여 주시길 바랍니다.)**<br><br>\n",
    "\n",
    "   *Check: ① Strongly disagree  (전혀 그렇지않다) ② Disagree  (그렇지않다) ③ Neutral  (보통이다) ④ Agree  (그렇다) ⑤ Strongly agree  (매우 그렇다)* <br><br>\n",
    "   \n",
    "   1-1. Preparatory period for applying and selecting participants was appropriate.  (연수생 선발/추천을 위한 사전준비 기간은\n",
    "적절하였다.)<br>\n",
    "   1-2. I received a detailed guide on how to apply for a program and the content of the program.  (연수 신청방법 및 교육내용에 대한 구체적인 안내를 받았다.)<br><br>\n",
    "\n",
    "\n",
    "**2. The following questions relate to the level of prior knowledge as to the main learning content of the course.  (다음은 귀하께서 참여하신 연수과정의 주요 학습내용에 대한 선행수준에 대한 문항입니다.)**<br><br>\n",
    "Please check the number that matches your current level of learning content below  (아래 학습내용에 대한 귀하의 현재수준과 일치하시는 곳에 ✔표 하여 주시길 바랍니다.): <br>\n",
    "   2-1. Understanding Public-Private Partnership and Its Applicability to Developing Countries)  (PPP와 개도국에 대한 PPP적용방법에 대한 이해) <br>\n",
    "   2-2. Applicable Water Quality Improvement Technique for Developing Countries  (개도국을 위한 적용가능한 수질개선기술) <br>\n",
    "   2-3. Developing a Media City and Road and Traffic Facility for Developing Countries  (개도국을 위한 미디어시티, 도로, 교통시설 개발) <br><br>\n",
    "   \n",
    "   *Check: 2-1-1 / 2-2-1 / 2-3-1. Cognitive knowledge  (인지 수준)* <br>\n",
    "    ① I do not know the basic theory or knowledge about learning content.  (학습내용과 관련된 기초이론이나 지식을 알지 못한다.) <br>\n",
    "    ② I have basic knowledge about learning content.  (학습내용에 대한 기초적인 지식을 가지고 있다.) <br>\n",
    "    ③ I can explain learning content to others.  (학습내용에 대해 다른 사람에게 설명할 수 있다.) <br>\n",
    "    ④ I can apply learning content to similar tasks.  (학습내용을 유사한 업무에 적용할 수 있다.) <br>\n",
    "    ⑤ I can apply learning content to other tasks as well as similar tasks.  (학습내용을 유사한 업무뿐만 아니라 다른 상황에도 응용할 수 있다.) <br><br>\n",
    "\n",
    "   *Check: 2-1-2 / 2-2-2 / 2-3-2. Technical skill*  (기술 수준) <br>\n",
    "    ① I do not know the procedure or method for carrying out learning content.  (학습내용을 실행하기 위한 절차나 방법을 모른다.) <br>\n",
    "    ② I am familiar with the procedure and method of using learning content for work.  (학습내용을 업무에 활용하는 절차나 방법을 알고 있다.) <br>\n",
    "    ③ I can use learning content for work under the guidance of others.  (학습내용을 다른 사람의 지도를 받아 업무에 활용할 수 있다.) <br>\n",
    "    ④ I can use learning content for work without help of others.  (학습내용을 다른 사람의 도움 없이 스스로 업무에 활용할 수 있다.) <br>\n",
    "    ⑤ I can use learning content for work to produce successful outcomes.  (학습내용을 업무에 활용하여 성공적인 결과를 낼 수 있다.) <br><br>\n",
    "\n",
    "   *Check: 2-1-3 / 2-2-3 / 2-3-3. Attitude*  (태도 수준) <br>\n",
    "    ① I am not interested in learning content.  (학습내용에 관심이 없다.) <br>\n",
    "    ② I am interested in learning content.  (학습내용에 관심이나 흥미가 있다.) <br>\n",
    "    ③ I think learning content is important and valuable to me.  (학습내용은 나에게 중요하고 가치 있는 내용이라고 생각한다.) <br>\n",
    "    ④ I am willing to strive to apply learning content to work.  (학습내용을 업무에 적용하기 위해 노력할 마음이 있다.) <br>\n",
    "    ⑤ I have a concrete plan to apply learning content to work.  (학습내용을 업무에 적용할 구체적인 계획이 있다.) <br><br>"
   ]
  },
  {
   "cell_type": "markdown",
   "metadata": {},
   "source": [
    "## 교육 후 설문\n",
    "**1. The following questions relate to the level of satisfaction in program content, operation and facilities. Please check the number that best expresses your thoughts.**<br><br>\n",
    "\n",
    "   *Check: ① Very unsatisfactory (매우 불만족) ② Unsatisfactory (불만족) ③ Neutral (보통) ④ Satisfactory (만족) ⑤ Very satisfactory (매우 만족)* <br>\n",
    "   \n",
    "   **Program Content (연수프로그램)**<br>\n",
    "   1-1. The content of the course was tailored to the circumstances and needs of the participants’ country. (연수과정의 내용은 연수생 현지의 상황과 요구에 맞게 구성되었다.) <br>\n",
    "   1-2. The content and level of the course were appropriate to understand. (연수과정의 내용과 수준은 이해하기 적절하였다.)<br>\n",
    "   1-3. The education methods of the course  (lecture, practice/ discussion, field learning, etc.) were appropriate to understand the content. (연수과정의 교육방법 (강의, 실습/토의, 현장학습 등)은 연수내용을 이해하는데 적합하였다.)<br>\n",
    "      \n",
    "   **Program Operation (연수운영)**<br>\n",
    "   1-4. The training institute tried to consider the culture and religion of the participants’country. (연수기관에서는 연수생 국가의 문화나 종교를 배려하기 위해 노력하였다.) <br>\n",
    "   1-5. The staff managed the program process smoothly  (schedule management, lecture preparation, support for participants, etc.). (연수운영진은 연수과정을 원활하게 운영하였다.  (일정관리, 강의준비, 연수생 지원 등))<br>\n",
    "   1-6. The staff responded properly to accidents such as emergency  situations. (연수운영진은 응급상황 등 사건사고에 대해 적절히 대처하였다.)<br>\n",
    "\n",
    "   **Program Facilities (연수시설)**<br>\n",
    "   1-7. Classrooms and laboratories were convenient to use. (강의실 및 실습실은 사용하기에 편리하였다.) <br>\n",
    "   1-8. Program amenities  (rest lounges, restaurants, accommodations, etc.) were convenient to use. (연수 편의시설 (휴게시설, 식당, 숙박시설 등)은 사용하기에 편리하였다.) <br>\n",
    "\n",
    "**2. The following questions relate to the level of satisfaction about the materials and instructors. (다음은 귀하께서 참여하신 연수과정의 교재 및 강사 만족도에 대한 항목입니다.)**<br><br>\n",
    "   *Check: ① There was an interpreter. (통역이 있었음) ② There was no interpreter. (통역이 없었음)*<br>\n",
    "   2-1. Was there any interpreter in the course that you attended? (귀하께서 참여하신 연수과정에 통역사가 있었습니까?) <br><br>\n",
    "\n",
    "   *Check: ① Very unsatisfactory (매우 불만족) ② Unsatisfactory (불만족) ③ Neutral (보통) ④ Satisfactory (만족) ⑤ Very satisfactory (매우 만족)* <br>\n",
    "   2-2. Please check the number that best expresses your thoughts. (각 문항에 대해 귀하의 생각과 일치하시는 곳에 ✔표 하여 주시길 바랍니다.) <br><br>\n",
    "   2-2-1. The teaching and learning medium used in the course was appropriate  (eg. materials, videos, practice equipment, etc.). (연수과정에 사용된 교수학습매체는 적절하였다.  (교재, 동영상, 실습장비 등))<br>\n",
    "   2-2-2. Instructors consisted of those with a high level of practical experience and expertise in the field. (강사진은 해당 분야에 대한 실무경험이나 전문성 수준이 높은 인력으로 구성되었다.)<br>\n",
    "   2-2-3. Instructors communicated with participants to deliver the training content in a systematic, proficient manner. (강사는 연수생과 소통하며 교육내용을 체계적이고 능숙하게 전달하였다)<br>\n",
    "   2-2-4. Interpreting was easy to understand  (If you answered ② in 2-1, you do not have to answer). (통역사는 이해하기 쉽도록 통역하였다.  (2-1에서 ②에 응답한 경우, 응답하지 않으셔도 됩니다))<br><br>\n",
    "\n",
    "**3. The following questions relate to the level of accomplishment with respect to the main learning content. (다음은 귀하께서 참여하신 연수과정의 주요 학습내용에 대한 성취수준에 대한 문항입니다.)**<br><br>\n",
    "Please check the number that matches your current level of learning content below (아래 학습내용에 대한 귀하의 현재수준과 일치하시는 곳에 ✔표 하여 주시길 바랍니다.): <br>\n",
    "   3-1. Understanding Public-Private Partnership and Its Applicability to Developing Countries) (PPP와 개도국에 대한 PPP적용방법에 대한 이해) <br>\n",
    "   3-2. Applicable Water Quality Improvement Technique for Developing Countries (개도국을 위한 적용가능한 수질개선기술) <br>\n",
    "   3-3. Developing a Media City and Road and Traffic Facility for Developing Countries (개도국을 위한 미디어시티, 도로, 교통시설 개발) <br><br>\n",
    "   \n",
    "   *Check: 3-1-1 / 3-2-1 / 3-3-1. Cognitive knowledge (인지 수준)* <br>\n",
    "    ① I do not know the basic theory or knowledge about learning content. (학습내용과 관련된 기초이론이나 지식을 알지 못한다.) <br>\n",
    "    ② I have basic knowledge about learning content. (학습내용에 대한 기초적인 지식을 가지고 있다.) <br>\n",
    "    ③ I can explain learning content to others. (학습내용에 대해 다른 사람에게 설명할 수 있다.) <br>\n",
    "    ④ I can apply learning content to similar tasks. (학습내용을 유사한 업무에 적용할 수 있다.) <br>\n",
    "    ⑤ I can apply learning content to other tasks as well as similar tasks. (학습내용을 유사한 업무뿐만 아니라 다른 상황에도 응용할 수 있다.) <br><br>\n",
    "\n",
    "   *Check: 3-1-2 / 3-2-2 / 3-3-2. Technical skill* (기술 수준) <br>\n",
    "    ① I do not know the procedure or method for carrying out learning content. (학습내용을 실행하기 위한 절차나 방법을 모른다.) <br>\n",
    "    ② I am familiar with the procedure and method of using learning content for work. (학습내용을 업무에 활용하는 절차나 방법을 알고 있다.) <br>\n",
    "    ③ I can use learning content for work under the guidance of others. (학습내용을 다른 사람의 지도를 받아 업무에 활용할 수 있다.) <br>\n",
    "    ④ I can use learning content for work without help of others. (학습내용을 다른 사람의 도움 없이 스스로 업무에 활용할 수 있다.) <br>\n",
    "    ⑤ I can use learning content for work to produce successful outcomes. (학습내용을 업무에 활용하여 성공적인 결과를 낼 수 있다.) <br><br>\n",
    "\n",
    "   *Check: 3-1-3 / 3-2-3 / 3-3-3. Attitude* (태도 수준) <br>\n",
    "    ① I am not interested in learning content. (학습내용에 관심이 없다.) <br>\n",
    "    ② I am interested in learning content. (학습내용에 관심이나 흥미가 있다.) <br>\n",
    "    ③ I think learning content is important and valuable to me. (학습내용은 나에게 중요하고 가치 있는 내용이라고 생각한다.) <br>\n",
    "    ④ I am willing to strive to apply learning content to work. (학습내용을 업무에 적용하기 위해 노력할 마음이 있다.) <br>\n",
    "    ⑤ I have a concrete plan to apply learning content to work. (학습내용을 업무에 적용할 구체적인 계획이 있다.) <br><br>"
   ]
  },
  {
   "cell_type": "markdown",
   "metadata": {},
   "source": [
    "* 교과목명 index\n",
    "    * A교과: Understanding Public-Private Partnership and Its Applicability to Developing Countries (PPP와 개도국에 대한 PPP적용방법에 대한 이해)\n",
    "    * B교과: Applicable Water Quality Improvement Technique for Developing Countries (개도국을 위한 적용가능한 수질개선기술)\n",
    "    * C교과: Developing a Media City and Road and Traffic Facility for Developing Countries (개도국을 위한 미디어시티, 도로, 교통시설 개발)"
   ]
  },
  {
   "cell_type": "markdown",
   "metadata": {},
   "source": [
    "# 강의평가 설문\n",
    "\n",
    "아래 질문 별로 5점 척도 중 해당되는 체크항목에 표시 <br><br>\n",
    "Check: ① Strongly disagree (전혀 그렇지않다) ② Disagree (그렇지않다) ③ Neutral (보통이다) ④ Agree (그렇다) ⑤ Strongly agree (매우 그렇다) \n",
    "\n",
    "1. The lecture was relevant to the training objectives. (연수 목표와의 연관성)\n",
    "2. The lecturer was knowledgeable. (강사 전문성)\n",
    "3. The material was useful. (강의교재)\n",
    "4. The lecturer's English proficiency (translation skill) was good enough. (강사 영어구사력 (또는 통역 숙련도))\n",
    "5. Class participation and interaction were encouraged. (참여도 제고)\n",
    "6. Adequate time was allocated for the lecture. (강의시간 적절성)"
   ]
  },
  {
   "cell_type": "markdown",
   "metadata": {},
   "source": [
    "* 강의명 index\n",
    "    * 강의1: 국제협력 사업실행팀 수자원개발 및 관리사례\n",
    "    * 강의2: 국제협력 사업실행팀 수처리시설건설사례 세미나\n",
    "    * 강의3: 민간투자사업제도와 적격성조사\n",
    "    * 강의4: 도로교통시설과 도로정책\n",
    "    * 강의5: 한국의 공공투자관리시스템\n",
    "    * 강의6: 상암미디어시티 개발사례\n",
    "    * 강의7: 국제협력사업실습"
   ]
  },
  {
   "cell_type": "code",
   "execution_count": null,
   "metadata": {},
   "outputs": [],
   "source": [
    "# 그래프에서 한글표현을 위해 폰트를 설치합니다.\n",
    "# %config InlineBackend.figure_format = 'retina'\n",
    "\n",
    "# !apt -qq -y install fonts-nanum > /dev/null\n",
    "# import matplotlib.font_manager as fm\n",
    "# fontpath = '/usr/share/fonts/truetype/nanum/NanumBarunGothic.ttf'\n",
    "# font = fm.FontProperties(fname=fontpath, size=9)"
   ]
  },
  {
   "cell_type": "code",
   "execution_count": null,
   "metadata": {
    "colab": {},
    "colab_type": "code",
    "id": "BrKIzC5G2JCQ"
   },
   "outputs": [],
   "source": [
    "# 노트북 안에서 그래프를 그리기 위해\n",
    "%matplotlib inline\n",
    "# %matplotlib nbagg\n",
    "    \n",
    "import pandas as pd\n",
    "import numpy as np\n",
    "import matplotlib.pyplot as plt\n",
    "import seaborn as sns\n",
    "plt.rcParams['figure.figsize'] = [10, 6]\n",
    "\n",
    "\n",
    "# Suppress Deprecation and Incorrect Usage Warnings \n",
    "import warnings\n",
    "warnings.filterwarnings('ignore')\n",
    "\n",
    "# #  display two pandas tables side by side\n",
    "# from IPython.display import display, HTML\n",
    "# CSS = \"\"\"\n",
    "# .output {\n",
    "#     flex-direction: row;\n",
    "# }\n",
    "# \"\"\"\n",
    "# HTML('<style>{}</style>'.format(CSS))\n",
    "\n",
    "\n",
    "# 기본 글꼴 변경\n",
    "import matplotlib as mpl\n",
    "mpl.font_manager._rebuild()\n",
    "mpl.pyplot.rc('font', family='NanumBarunGothic')\n",
    "\n",
    "# allow multiple outputs\n",
    "# from IPython.core.interactiveshell import InteractiveShell\n",
    "# InteractiveShell.ast_node_interactivity = \"all\"\n",
    "\n",
    "# allow image input\n",
    "from IPython.display import Image"
   ]
  },
  {
   "cell_type": "code",
   "execution_count": null,
   "metadata": {
    "colab": {},
    "colab_type": "code",
    "id": "05CqvPfp2JCi",
    "outputId": "26636329-17d8-4ef3-980c-5caac24e758c"
   },
   "outputs": [],
   "source": [
    "# plotly package import\n",
    "\n",
    "from plotly import __version__\n",
    "print (__version__)\n",
    "import plotly\n",
    "import plotly.plotly as py\n",
    "import plotly.graph_objs as go\n",
    "import plotly.figure_factory as ff\n",
    "\n",
    "# Cufflinks wrapper on plotly\n",
    "import cufflinks as cf\n",
    "\n",
    "# Display all cell outputs\n",
    "from IPython.core.interactiveshell import InteractiveShell\n",
    "\n",
    "# plotly + cufflinks in offline mode\n",
    "from plotly.offline import download_plotlyjs, init_notebook_mode, plot, iplot\n",
    "cf.go_offline()\n",
    "\n",
    "# set the global theme\n",
    "cf.set_config_file(world_readable=True, theme='pearl', offline=True)\n",
    "\n",
    "# Jupyter setup\n",
    "init_notebook_mode(connected=True)\n",
    "\n",
    "import ipywidgets as widgets"
   ]
  },
  {
   "cell_type": "markdown",
   "metadata": {},
   "source": [
    "# 데이터 임포팅"
   ]
  },
  {
   "cell_type": "code",
   "execution_count": null,
   "metadata": {},
   "outputs": [],
   "source": [
    "eval_all= pd.read_excel(\"data/Raw Data_시립대 국토개발정책 사후관리_성철수정-분석용v1.3.xlsx\",\n",
    "                       sheet_name='만족도_raw data', index_col='성명', header=3)\n",
    "eval_crs= pd.read_excel(\"data/Raw Data_시립대 국토개발정책 사후관리_성철수정-분석용v1.3.xlsx\",\n",
    "                                sheet_name='강의평가_raw data',index_col='성명', header=2) # skiprows = [13,14]\n",
    "eval_crs = eval_crs.iloc[0:13].drop('연번',axis=1)\n",
    "stuinfo = pd.read_excel(\"data/IUDP학생현황.xlsx\", sheet_name='IUDPStuInfo',index_col='성명')"
   ]
  },
  {
   "cell_type": "markdown",
   "metadata": {},
   "source": [
    "# 강의평가 및 연수평가 전처리"
   ]
  },
  {
   "cell_type": "markdown",
   "metadata": {},
   "source": [
    "## 강의평가 전처리"
   ]
  },
  {
   "cell_type": "code",
   "execution_count": null,
   "metadata": {},
   "outputs": [],
   "source": [
    "# 열마다 NaN 값 있는 지 여부 확인\n",
    "# Data.all 정의\n",
    "    # DataFrame.all(axis=0, bool_only=None, skipna=True, level=None, **kwargs)\n",
    "    # Return whether all elements are True, potentially over an axis.\n",
    "    # Returns True unless there at least one element within a series or along a Dataframe axis that is False or equivalent (e.g. zero or empty)\n",
    "eval_crs.isnull().all(axis=0)"
   ]
  },
  {
   "cell_type": "code",
   "execution_count": null,
   "metadata": {},
   "outputs": [],
   "source": [
    "# eval_crs에서 모든 열 값이 NaN 값인 경우 삭제. 삭제 후 eval_crs 로 반환\n",
    "eval_crs.dropna(how='all', axis=1, inplace=True)"
   ]
  },
  {
   "cell_type": "code",
   "execution_count": null,
   "metadata": {},
   "outputs": [],
   "source": [
    "eval_crs.head()"
   ]
  },
  {
   "cell_type": "markdown",
   "metadata": {},
   "source": [
    "## 연수평가 전처리"
   ]
  },
  {
   "cell_type": "code",
   "execution_count": null,
   "metadata": {},
   "outputs": [],
   "source": [
    "# eval_all index에서 행 값이 NaN이 아닌 행 반환\n",
    "eval_all = eval_all.loc[eval_all.index.notnull(),:]\n",
    "eval_all = eval_all.sort_index().infer_objects()\n",
    "# data.infer_objects() &data.convert_objects(convert_numeric=True) / data.apply(pd.to_numeric) / data.select_dtypes(include=['object']) 또는 data.apply(np.dtype) 로 data.astype('int')확인 후 열별 변환\n",
    "eval_all.head()"
   ]
  },
  {
   "cell_type": "markdown",
   "metadata": {},
   "source": [
    "* 분리된 dataframe을 병합방법: concat, join, merge\n",
    "  * concat은 dataframe의 크기가 동일할 경우 dataframe 병합가능 (python append의 다차원 배열 버전)\n",
    "  * join은 dataframe의 크기가 동일하지 않을 경우 key를 기점으로 동일한 부분은 맞춰서 합쳐주고 나머지는 NaN으로 처리한다.\n",
    "\n",
    "* concat의 경우 하나의 서로 다른 dataframe 에서 column을 뽑아서 하나로 합칠 때 유용하다.\n",
    "  * pd.concat([df['a열'],df['b열']], axis=1): a열과 b열 병합, axis=0 이면 column나뉘지 않고 아래에 쌓여 1개의 column 형성\n",
    "  * 아래는 1-2열/5-끝열 추출 후 병합\n",
    "\n",
    "eval_all = pd.concat([eval_all.iloc[:,1:3],eval_all.loc[:,'근무연수':]],axis=1).sort_values(by='성명').reset_index(drop=True)"
   ]
  },
  {
   "cell_type": "markdown",
   "metadata": {},
   "source": [
    "# 연수평가(eval_all)과 학생정보(stuinfo) 병합"
   ]
  },
  {
   "cell_type": "markdown",
   "metadata": {},
   "source": [
    "## 학생정보에서 연수참가생 인적정보 추출"
   ]
  },
  {
   "cell_type": "code",
   "execution_count": null,
   "metadata": {},
   "outputs": [],
   "source": [
    "# sort_values를 호출 후 해당 변수를 정렬하면 뒤죽박죽 된 인덱스를 .reset_index()로 초기화 (출처: https://3months.tistory.com/196)\n",
    "stuinfo = stuinfo[\n",
    "            stuinfo.index.isin(['Dana PHAL', 'Alejandro CEBALLOS JARABA','Jacqueline Yamileth RIVERA AYALA',\n",
    "                                    'Edward AGBODJAN','Mercy Wairimu KIMANI', 'Khin Ohnmar MYINT THEIN', \n",
    "                                    'Hnin Ei Mon', 'Iqbal AHMED', 'Laura LOZADA ACOSTA', 'Carmen ZANA CARBAJAL',\n",
    "                                    'Joz Carlos Gabrillo ORDILLANO','Jean Bosco Alpha MBARUSHIMANA',\n",
    "                                    'Peeter Hewage Chinthaka Sampath RATHNASIRI'])].sort_values(\n",
    "                                     by='성명')\n",
    "stuinfo.head(2)"
   ]
  },
  {
   "cell_type": "markdown",
   "metadata": {},
   "source": [
    "## 인적정보와 연수평가 설문결과 병합"
   ]
  },
  {
   "cell_type": "code",
   "execution_count": null,
   "metadata": {},
   "outputs": [],
   "source": [
    "eval_all = pd.merge(eval_all, stuinfo, left_index=True, right_index=True) # 같은 결과: eval_all = pd.concat([eval_all, stuinfo], axis=1)\n",
    "eval_all.head(2)"
   ]
  },
  {
   "cell_type": "code",
   "execution_count": null,
   "metadata": {
    "colab": {
     "base_uri": "https://localhost:8080/",
     "height": 664
    },
    "colab_type": "code",
    "executionInfo": {
     "elapsed": 1416,
     "status": "ok",
     "timestamp": 1552705357331,
     "user": {
      "displayName": "Gumin Jung",
      "photoUrl": "",
      "userId": "17563555151136201373"
     },
     "user_tz": -540
    },
    "hide_input": true,
    "id": "XkDXqnas30c6",
    "outputId": "933dc538-35e0-47a8-8bb9-776022b67dee",
    "slideshow": {
     "slide_type": "skip"
    }
   },
   "outputs": [],
   "source": [
    "eval_all.columns.values"
   ]
  },
  {
   "cell_type": "markdown",
   "metadata": {},
   "source": [
    "# 설문분석"
   ]
  },
  {
   "cell_type": "code",
   "execution_count": 18,
   "metadata": {},
   "outputs": [],
   "source": [
    "survey = eval_all.copy()"
   ]
  },
  {
   "cell_type": "code",
   "execution_count": null,
   "metadata": {},
   "outputs": [],
   "source": [
    "# import pandas_profiling\n",
    "# pandas_profiling.ProfileReport(survey)"
   ]
  },
  {
   "cell_type": "markdown",
   "metadata": {},
   "source": [
    "## 교육전 설문"
   ]
  },
  {
   "cell_type": "markdown",
   "metadata": {},
   "source": [
    "### 연수생 선발/추천을 위한 사전준비 기간은 적절하였다"
   ]
  },
  {
   "cell_type": "code",
   "execution_count": 19,
   "metadata": {
    "colab": {
     "base_uri": "https://localhost:8080/",
     "height": 483
    },
    "colab_type": "code",
    "executionInfo": {
     "elapsed": 886,
     "status": "ok",
     "timestamp": 1552705412444,
     "user": {
      "displayName": "Gumin Jung",
      "photoUrl": "",
      "userId": "17563555151136201373"
     },
     "user_tz": -540
    },
    "hide_input": true,
    "id": "gk4xs2zF30dC",
    "outputId": "41ad8769-9c5f-4111-a666-2be35fd7fb90",
    "slideshow": {
     "slide_type": "Slide"
    }
   },
   "outputs": [
    {
     "data": {
      "text/html": [
       "<div>\n",
       "<style scoped>\n",
       "    .dataframe tbody tr th:only-of-type {\n",
       "        vertical-align: middle;\n",
       "    }\n",
       "\n",
       "    .dataframe tbody tr th {\n",
       "        vertical-align: top;\n",
       "    }\n",
       "\n",
       "    .dataframe thead th {\n",
       "        text-align: right;\n",
       "    }\n",
       "</style>\n",
       "<table border=\"1\" class=\"dataframe\">\n",
       "  <thead>\n",
       "    <tr style=\"text-align: right;\">\n",
       "      <th></th>\n",
       "      <th>국가명</th>\n",
       "      <th>연수생 선발/추천을 위한 사전준비 기간은 적절하였다</th>\n",
       "    </tr>\n",
       "    <tr>\n",
       "      <th>성명</th>\n",
       "      <th></th>\n",
       "      <th></th>\n",
       "    </tr>\n",
       "  </thead>\n",
       "  <tbody>\n",
       "    <tr>\n",
       "      <th>Alejandro CEBALLOS JARABA</th>\n",
       "      <td>콜롬비아</td>\n",
       "      <td>5</td>\n",
       "    </tr>\n",
       "    <tr>\n",
       "      <th>Carmen ZANA CARBAJAL</th>\n",
       "      <td>페루</td>\n",
       "      <td>5</td>\n",
       "    </tr>\n",
       "    <tr>\n",
       "      <th>Dana PHAL</th>\n",
       "      <td>캄보디아</td>\n",
       "      <td>5</td>\n",
       "    </tr>\n",
       "    <tr>\n",
       "      <th>Edward AGBODJAN</th>\n",
       "      <td>가나</td>\n",
       "      <td>5</td>\n",
       "    </tr>\n",
       "    <tr>\n",
       "      <th>Hnin Ei Mon</th>\n",
       "      <td>미얀마</td>\n",
       "      <td>5</td>\n",
       "    </tr>\n",
       "    <tr>\n",
       "      <th>Iqbal AHMED</th>\n",
       "      <td>파키스탄</td>\n",
       "      <td>5</td>\n",
       "    </tr>\n",
       "    <tr>\n",
       "      <th>Jacqueline Yamileth RIVERA AYALA</th>\n",
       "      <td>엘살바도르</td>\n",
       "      <td>4</td>\n",
       "    </tr>\n",
       "    <tr>\n",
       "      <th>Jean Bosco Alpha MBARUSHIMANA</th>\n",
       "      <td>르완다</td>\n",
       "      <td>5</td>\n",
       "    </tr>\n",
       "    <tr>\n",
       "      <th>Joz Carlos Gabrillo ORDILLANO</th>\n",
       "      <td>필리핀</td>\n",
       "      <td>4</td>\n",
       "    </tr>\n",
       "    <tr>\n",
       "      <th>Khin Ohnmar MYINT THEIN</th>\n",
       "      <td>미얀마</td>\n",
       "      <td>5</td>\n",
       "    </tr>\n",
       "    <tr>\n",
       "      <th>Laura LOZADA ACOSTA</th>\n",
       "      <td>페루</td>\n",
       "      <td>4</td>\n",
       "    </tr>\n",
       "    <tr>\n",
       "      <th>Mercy Wairimu KIMANI</th>\n",
       "      <td>케냐</td>\n",
       "      <td>4</td>\n",
       "    </tr>\n",
       "    <tr>\n",
       "      <th>Peeter Hewage Chinthaka Sampath RATHNASIRI</th>\n",
       "      <td>스리랑카</td>\n",
       "      <td>5</td>\n",
       "    </tr>\n",
       "  </tbody>\n",
       "</table>\n",
       "</div>"
      ],
      "text/plain": [
       "                                              국가명  \\\n",
       "성명                                                  \n",
       "Alejandro CEBALLOS JARABA                    콜롬비아   \n",
       "Carmen ZANA CARBAJAL                           페루   \n",
       "Dana PHAL                                    캄보디아   \n",
       "Edward AGBODJAN                                가나   \n",
       "Hnin Ei Mon                                   미얀마   \n",
       "Iqbal AHMED                                  파키스탄   \n",
       "Jacqueline Yamileth RIVERA AYALA            엘살바도르   \n",
       "Jean Bosco Alpha MBARUSHIMANA                 르완다   \n",
       "Joz Carlos Gabrillo ORDILLANO                 필리핀   \n",
       "Khin Ohnmar MYINT THEIN                       미얀마   \n",
       "Laura LOZADA ACOSTA                            페루   \n",
       "Mercy Wairimu KIMANI                           케냐   \n",
       "Peeter Hewage Chinthaka Sampath RATHNASIRI   스리랑카   \n",
       "\n",
       "                                            연수생 선발/추천을 위한 사전준비 기간은 적절하였다  \n",
       "성명                                                                        \n",
       "Alejandro CEBALLOS JARABA                                              5  \n",
       "Carmen ZANA CARBAJAL                                                   5  \n",
       "Dana PHAL                                                              5  \n",
       "Edward AGBODJAN                                                        5  \n",
       "Hnin Ei Mon                                                            5  \n",
       "Iqbal AHMED                                                            5  \n",
       "Jacqueline Yamileth RIVERA AYALA                                       4  \n",
       "Jean Bosco Alpha MBARUSHIMANA                                          5  \n",
       "Joz Carlos Gabrillo ORDILLANO                                          4  \n",
       "Khin Ohnmar MYINT THEIN                                                5  \n",
       "Laura LOZADA ACOSTA                                                    4  \n",
       "Mercy Wairimu KIMANI                                                   4  \n",
       "Peeter Hewage Chinthaka Sampath RATHNASIRI                             5  "
      ]
     },
     "execution_count": 19,
     "metadata": {},
     "output_type": "execute_result"
    }
   ],
   "source": [
    "survey.iloc[:,[0,6]]"
   ]
  },
  {
   "cell_type": "code",
   "execution_count": 20,
   "metadata": {},
   "outputs": [
    {
     "data": {
      "text/html": [
       "<div>\n",
       "<style scoped>\n",
       "    .dataframe tbody tr th:only-of-type {\n",
       "        vertical-align: middle;\n",
       "    }\n",
       "\n",
       "    .dataframe tbody tr th {\n",
       "        vertical-align: top;\n",
       "    }\n",
       "\n",
       "    .dataframe thead th {\n",
       "        text-align: right;\n",
       "    }\n",
       "</style>\n",
       "<table border=\"1\" class=\"dataframe\">\n",
       "  <thead>\n",
       "    <tr style=\"text-align: right;\">\n",
       "      <th></th>\n",
       "      <th>연수생 선발/추천을 위한 사전준비 기간은 적절하였다</th>\n",
       "    </tr>\n",
       "  </thead>\n",
       "  <tbody>\n",
       "    <tr>\n",
       "      <th>응답자수</th>\n",
       "      <td>13.00</td>\n",
       "    </tr>\n",
       "    <tr>\n",
       "      <th>평균</th>\n",
       "      <td>4.69</td>\n",
       "    </tr>\n",
       "    <tr>\n",
       "      <th>표준편차</th>\n",
       "      <td>0.48</td>\n",
       "    </tr>\n",
       "  </tbody>\n",
       "</table>\n",
       "</div>"
      ],
      "text/plain": [
       "     연수생 선발/추천을 위한 사전준비 기간은 적절하였다\n",
       "응답자수                        13.00\n",
       "평균                           4.69\n",
       "표준편차                         0.48"
      ]
     },
     "execution_count": 20,
     "metadata": {},
     "output_type": "execute_result"
    }
   ],
   "source": [
    "pd.DataFrame(survey.iloc[:,[0,6]]['연수생 선발/추천을 위한 사전준비 기간은 적절하였다'].describe())[:3].rename(\n",
    "    index={'count': '응답자수','mean': '평균','std': '표준편차'}).applymap(lambda x: '%.2f' % x)"
   ]
  },
  {
   "cell_type": "code",
   "execution_count": 22,
   "metadata": {},
   "outputs": [
    {
     "data": {
      "application/vnd.plotly.v1+json": {
       "config": {
        "linkText": "Export to plot.ly",
        "plotlyServerURL": "https://plot.ly",
        "showLink": false
       },
       "data": [
        {
         "orientation": "v",
         "text": [
          9,
          4
         ],
         "textposition": "auto",
         "type": "bar",
         "uid": "9f9713d6-0cf6-422e-afdf-d764c4d9b805",
         "x": [
          5,
          4
         ],
         "y": [
          9,
          4
         ]
        }
       ],
       "layout": {
        "autosize": true,
        "title": {
         "text": "연수생 선발/추천을 위한 사전준비 기간은 적절하였다"
        },
        "xaxis": {
         "dtick": 1,
         "range": [
          0,
          6
         ],
         "tick0": 0,
         "title": {
          "text": "만족도"
         },
         "type": "linear"
        },
        "yaxis": {
         "dtick": 2,
         "range": [
          0,
          10
         ],
         "showgrid": true,
         "title": {
          "text": "응답자수"
         },
         "type": "linear",
         "zeroline": true
        }
       }
      },
      "image/png": "[encoded data removed]",
      "text/html": [
       "<div>\n",
       "        \n",
       "        \n",
       "            <div id=\"9ea487ad-49e0-4316-8ce8-4f13f8d125c5\" class=\"plotly-graph-div\" style=\"height:525px; width:100%;\"></div>\n",
       "            <script type=\"text/javascript\">\n",
       "                require([\"plotly\"], function(Plotly) {\n",
       "                    window.PLOTLYENV=window.PLOTLYENV || {};\n",
       "                    window.PLOTLYENV.BASE_URL='https://plot.ly';\n",
       "                    \n",
       "                if (document.getElementById(\"9ea487ad-49e0-4316-8ce8-4f13f8d125c5\")) {\n",
       "                    Plotly.newPlot(\n",
       "                        '9ea487ad-49e0-4316-8ce8-4f13f8d125c5',\n",
       "                        [{\"orientation\": \"v\", \"text\": [9.0, 4.0], \"textposition\": \"auto\", \"type\": \"bar\", \"uid\": \"9f9713d6-0cf6-422e-afdf-d764c4d9b805\", \"x\": [5, 4], \"y\": [9, 4]}],\n",
       "                        {\"title\": {\"text\": \"\\uc5f0\\uc218\\uc0dd \\uc120\\ubc1c/\\ucd94\\ucc9c\\uc744 \\uc704\\ud55c \\uc0ac\\uc804\\uc900\\ube44 \\uae30\\uac04\\uc740 \\uc801\\uc808\\ud558\\uc600\\ub2e4\"}, \"xaxis\": {\"dtick\": 1, \"range\": [0, 6], \"tick0\": 0, \"title\": {\"text\": \"\\ub9cc\\uc871\\ub3c4\"}}, \"yaxis\": {\"dtick\": 2, \"range\": [0, 10], \"showgrid\": true, \"title\": {\"text\": \"\\uc751\\ub2f5\\uc790\\uc218\"}, \"zeroline\": true}},\n",
       "                        {\"showLink\": false, \"linkText\": \"Export to plot.ly\", \"plotlyServerURL\": \"https://plot.ly\", \"responsive\": true}\n",
       "                    ).then(function(){\n",
       "                            \n",
       "var gd = document.getElementById('9ea487ad-49e0-4316-8ce8-4f13f8d125c5');\n",
       "var x = new MutationObserver(function (mutations, observer) {{\n",
       "        var display = window.getComputedStyle(gd).display;\n",
       "        if (!display || display === 'none') {{\n",
       "            console.log([gd, 'removed!']);\n",
       "            Plotly.purge(gd);\n",
       "            observer.disconnect();\n",
       "        }}\n",
       "}});\n",
       "\n",
       "// Listen for the removal of the full notebook cells\n",
       "var notebookContainer = gd.closest('#notebook-container');\n",
       "if (notebookContainer) {{\n",
       "    x.observe(notebookContainer, {childList: true});\n",
       "}}\n",
       "\n",
       "// Listen for the clearing of the current output cell\n",
       "var outputEl = gd.closest('.output');\n",
       "if (outputEl) {{\n",
       "    x.observe(outputEl, {childList: true});\n",
       "}}\n",
       "\n",
       "                        })\n",
       "                };\n",
       "                });\n",
       "            </script>\n",
       "        </div>"
      ]
     },
     "metadata": {},
     "output_type": "display_data"
    }
   ],
   "source": [
    "trace = go.Bar(\n",
    "    x = survey.iloc[:,[0,6]]['연수생 선발/추천을 위한 사전준비 기간은 적절하였다'].value_counts().index,\n",
    "    y = survey.iloc[:,[0,6]]['연수생 선발/추천을 위한 사전준비 기간은 적절하였다'].value_counts(),\n",
    "    text = survey.iloc[:,[0,6]]['연수생 선발/추천을 위한 사전준비 기간은 적절하였다'].value_counts(),\n",
    "    textposition = 'auto', orientation = 'v'\n",
    ")\n",
    "\n",
    "layout = go.Layout(title='연수생 선발/추천을 위한 사전준비 기간은 적절하였다',\n",
    "                   xaxis=dict(title='만족도', range=[0,6], tick0=0,dtick=1),\n",
    "                   yaxis=dict(title='응답자수',range=[0,10],showgrid=True,zeroline=True,dtick=2))\n",
    "\n",
    "fig = go.Figure(data=[trace], layout=layout)\n",
    "\n",
    "iplot(fig)"
   ]
  },
  {
   "cell_type": "code",
   "execution_count": null,
   "metadata": {},
   "outputs": [],
   "source": []
  },
  {
   "cell_type": "markdown",
   "metadata": {},
   "source": [
    "### 연수 신청방법 및 교육내용에 대한 구체적인 안내를 받았다"
   ]
  },
  {
   "cell_type": "code",
   "execution_count": 23,
   "metadata": {
    "colab": {
     "base_uri": "https://localhost:8080/",
     "height": 483
    },
    "colab_type": "code",
    "executionInfo": {
     "elapsed": 886,
     "status": "ok",
     "timestamp": 1552705412444,
     "user": {
      "displayName": "Gumin Jung",
      "photoUrl": "",
      "userId": "17563555151136201373"
     },
     "user_tz": -540
    },
    "hide_input": true,
    "id": "gk4xs2zF30dC",
    "outputId": "41ad8769-9c5f-4111-a666-2be35fd7fb90",
    "slideshow": {
     "slide_type": "Slide"
    }
   },
   "outputs": [
    {
     "data": {
      "text/html": [
       "<div>\n",
       "<style scoped>\n",
       "    .dataframe tbody tr th:only-of-type {\n",
       "        vertical-align: middle;\n",
       "    }\n",
       "\n",
       "    .dataframe tbody tr th {\n",
       "        vertical-align: top;\n",
       "    }\n",
       "\n",
       "    .dataframe thead th {\n",
       "        text-align: right;\n",
       "    }\n",
       "</style>\n",
       "<table border=\"1\" class=\"dataframe\">\n",
       "  <thead>\n",
       "    <tr style=\"text-align: right;\">\n",
       "      <th></th>\n",
       "      <th>국가명</th>\n",
       "      <th>연수 신청방법 및 교육내용에 대한 구체적인 안내를 받았다.</th>\n",
       "    </tr>\n",
       "    <tr>\n",
       "      <th>성명</th>\n",
       "      <th></th>\n",
       "      <th></th>\n",
       "    </tr>\n",
       "  </thead>\n",
       "  <tbody>\n",
       "    <tr>\n",
       "      <th>Alejandro CEBALLOS JARABA</th>\n",
       "      <td>콜롬비아</td>\n",
       "      <td>5</td>\n",
       "    </tr>\n",
       "    <tr>\n",
       "      <th>Carmen ZANA CARBAJAL</th>\n",
       "      <td>페루</td>\n",
       "      <td>5</td>\n",
       "    </tr>\n",
       "    <tr>\n",
       "      <th>Dana PHAL</th>\n",
       "      <td>캄보디아</td>\n",
       "      <td>4</td>\n",
       "    </tr>\n",
       "    <tr>\n",
       "      <th>Edward AGBODJAN</th>\n",
       "      <td>가나</td>\n",
       "      <td>4</td>\n",
       "    </tr>\n",
       "    <tr>\n",
       "      <th>Hnin Ei Mon</th>\n",
       "      <td>미얀마</td>\n",
       "      <td>4</td>\n",
       "    </tr>\n",
       "    <tr>\n",
       "      <th>Iqbal AHMED</th>\n",
       "      <td>파키스탄</td>\n",
       "      <td>5</td>\n",
       "    </tr>\n",
       "    <tr>\n",
       "      <th>Jacqueline Yamileth RIVERA AYALA</th>\n",
       "      <td>엘살바도르</td>\n",
       "      <td>4</td>\n",
       "    </tr>\n",
       "    <tr>\n",
       "      <th>Jean Bosco Alpha MBARUSHIMANA</th>\n",
       "      <td>르완다</td>\n",
       "      <td>5</td>\n",
       "    </tr>\n",
       "    <tr>\n",
       "      <th>Joz Carlos Gabrillo ORDILLANO</th>\n",
       "      <td>필리핀</td>\n",
       "      <td>5</td>\n",
       "    </tr>\n",
       "    <tr>\n",
       "      <th>Khin Ohnmar MYINT THEIN</th>\n",
       "      <td>미얀마</td>\n",
       "      <td>5</td>\n",
       "    </tr>\n",
       "    <tr>\n",
       "      <th>Laura LOZADA ACOSTA</th>\n",
       "      <td>페루</td>\n",
       "      <td>4</td>\n",
       "    </tr>\n",
       "    <tr>\n",
       "      <th>Mercy Wairimu KIMANI</th>\n",
       "      <td>케냐</td>\n",
       "      <td>5</td>\n",
       "    </tr>\n",
       "    <tr>\n",
       "      <th>Peeter Hewage Chinthaka Sampath RATHNASIRI</th>\n",
       "      <td>스리랑카</td>\n",
       "      <td>5</td>\n",
       "    </tr>\n",
       "  </tbody>\n",
       "</table>\n",
       "</div>"
      ],
      "text/plain": [
       "                                              국가명  \\\n",
       "성명                                                  \n",
       "Alejandro CEBALLOS JARABA                    콜롬비아   \n",
       "Carmen ZANA CARBAJAL                           페루   \n",
       "Dana PHAL                                    캄보디아   \n",
       "Edward AGBODJAN                                가나   \n",
       "Hnin Ei Mon                                   미얀마   \n",
       "Iqbal AHMED                                  파키스탄   \n",
       "Jacqueline Yamileth RIVERA AYALA            엘살바도르   \n",
       "Jean Bosco Alpha MBARUSHIMANA                 르완다   \n",
       "Joz Carlos Gabrillo ORDILLANO                 필리핀   \n",
       "Khin Ohnmar MYINT THEIN                       미얀마   \n",
       "Laura LOZADA ACOSTA                            페루   \n",
       "Mercy Wairimu KIMANI                           케냐   \n",
       "Peeter Hewage Chinthaka Sampath RATHNASIRI   스리랑카   \n",
       "\n",
       "                                            연수 신청방법 및 교육내용에 대한 구체적인 안내를 받았다.  \n",
       "성명                                                                            \n",
       "Alejandro CEBALLOS JARABA                                                  5  \n",
       "Carmen ZANA CARBAJAL                                                       5  \n",
       "Dana PHAL                                                                  4  \n",
       "Edward AGBODJAN                                                            4  \n",
       "Hnin Ei Mon                                                                4  \n",
       "Iqbal AHMED                                                                5  \n",
       "Jacqueline Yamileth RIVERA AYALA                                           4  \n",
       "Jean Bosco Alpha MBARUSHIMANA                                              5  \n",
       "Joz Carlos Gabrillo ORDILLANO                                              5  \n",
       "Khin Ohnmar MYINT THEIN                                                    5  \n",
       "Laura LOZADA ACOSTA                                                        4  \n",
       "Mercy Wairimu KIMANI                                                       5  \n",
       "Peeter Hewage Chinthaka Sampath RATHNASIRI                                 5  "
      ]
     },
     "execution_count": 23,
     "metadata": {},
     "output_type": "execute_result"
    }
   ],
   "source": [
    "survey.iloc[:,[0,7]]"
   ]
  },
  {
   "cell_type": "code",
   "execution_count": 24,
   "metadata": {},
   "outputs": [
    {
     "data": {
      "text/html": [
       "<div>\n",
       "<style scoped>\n",
       "    .dataframe tbody tr th:only-of-type {\n",
       "        vertical-align: middle;\n",
       "    }\n",
       "\n",
       "    .dataframe tbody tr th {\n",
       "        vertical-align: top;\n",
       "    }\n",
       "\n",
       "    .dataframe thead th {\n",
       "        text-align: right;\n",
       "    }\n",
       "</style>\n",
       "<table border=\"1\" class=\"dataframe\">\n",
       "  <thead>\n",
       "    <tr style=\"text-align: right;\">\n",
       "      <th></th>\n",
       "      <th>연수 신청방법 및 교육내용에 대한 구체적인 안내를 받았다.</th>\n",
       "    </tr>\n",
       "  </thead>\n",
       "  <tbody>\n",
       "    <tr>\n",
       "      <th>응답자수</th>\n",
       "      <td>13.00</td>\n",
       "    </tr>\n",
       "    <tr>\n",
       "      <th>평균</th>\n",
       "      <td>4.62</td>\n",
       "    </tr>\n",
       "    <tr>\n",
       "      <th>표준편차</th>\n",
       "      <td>0.51</td>\n",
       "    </tr>\n",
       "  </tbody>\n",
       "</table>\n",
       "</div>"
      ],
      "text/plain": [
       "     연수 신청방법 및 교육내용에 대한 구체적인 안내를 받았다.\n",
       "응답자수                            13.00\n",
       "평균                               4.62\n",
       "표준편차                             0.51"
      ]
     },
     "execution_count": 24,
     "metadata": {},
     "output_type": "execute_result"
    }
   ],
   "source": [
    "pd.DataFrame(survey.iloc[:,[0,7]]['연수 신청방법 및 교육내용에 대한 구체적인 안내를 받았다.'].describe())[:3].rename(\n",
    "    index={'count': '응답자수','mean': '평균','std': '표준편차'}).applymap(lambda x: '%.2f' % x)"
   ]
  },
  {
   "cell_type": "code",
   "execution_count": 25,
   "metadata": {},
   "outputs": [
    {
     "data": {
      "application/vnd.plotly.v1+json": {
       "config": {
        "linkText": "Export to plot.ly",
        "plotlyServerURL": "https://plot.ly",
        "showLink": false
       },
       "data": [
        {
         "text": [
          8,
          5
         ],
         "textposition": "auto",
         "type": "bar",
         "uid": "3f27dff9-9a3a-4696-8858-596a6bddb843",
         "x": [
          5,
          4
         ],
         "y": [
          8,
          5
         ]
        }
       ],
       "layout": {
        "autosize": true,
        "title": {
         "text": "연수 신청방법 및 교육내용에 대한 구체적인 안내를 받았다."
        },
        "xaxis": {
         "range": [
          0,
          6
         ],
         "title": {
          "text": "만족도"
         },
         "type": "linear"
        },
        "yaxis": {
         "range": [
          0,
          10
         ],
         "title": {
          "text": "응답자수"
         },
         "type": "linear"
        }
       }
      },
      "image/png": "[encoded data removed]",
      "text/html": [
       "<div>\n",
       "        \n",
       "        \n",
       "            <div id=\"c01d9ca7-8eba-48db-91a6-5dbadc4c67b3\" class=\"plotly-graph-div\" style=\"height:525px; width:100%;\"></div>\n",
       "            <script type=\"text/javascript\">\n",
       "                require([\"plotly\"], function(Plotly) {\n",
       "                    window.PLOTLYENV=window.PLOTLYENV || {};\n",
       "                    window.PLOTLYENV.BASE_URL='https://plot.ly';\n",
       "                    \n",
       "                if (document.getElementById(\"c01d9ca7-8eba-48db-91a6-5dbadc4c67b3\")) {\n",
       "                    Plotly.newPlot(\n",
       "                        'c01d9ca7-8eba-48db-91a6-5dbadc4c67b3',\n",
       "                        [{\"text\": [8.0, 5.0], \"textposition\": \"auto\", \"type\": \"bar\", \"uid\": \"3f27dff9-9a3a-4696-8858-596a6bddb843\", \"x\": [5, 4], \"y\": [8, 5]}],\n",
       "                        {\"title\": {\"text\": \"\\uc5f0\\uc218 \\uc2e0\\uccad\\ubc29\\ubc95 \\ubc0f \\uad50\\uc721\\ub0b4\\uc6a9\\uc5d0 \\ub300\\ud55c \\uad6c\\uccb4\\uc801\\uc778 \\uc548\\ub0b4\\ub97c \\ubc1b\\uc558\\ub2e4.\"}, \"xaxis\": {\"range\": [0, 6], \"title\": {\"text\": \"\\ub9cc\\uc871\\ub3c4\"}}, \"yaxis\": {\"range\": [0, 10], \"title\": {\"text\": \"\\uc751\\ub2f5\\uc790\\uc218\"}}},\n",
       "                        {\"showLink\": false, \"linkText\": \"Export to plot.ly\", \"plotlyServerURL\": \"https://plot.ly\", \"responsive\": true}\n",
       "                    ).then(function(){\n",
       "                            \n",
       "var gd = document.getElementById('c01d9ca7-8eba-48db-91a6-5dbadc4c67b3');\n",
       "var x = new MutationObserver(function (mutations, observer) {{\n",
       "        var display = window.getComputedStyle(gd).display;\n",
       "        if (!display || display === 'none') {{\n",
       "            console.log([gd, 'removed!']);\n",
       "            Plotly.purge(gd);\n",
       "            observer.disconnect();\n",
       "        }}\n",
       "}});\n",
       "\n",
       "// Listen for the removal of the full notebook cells\n",
       "var notebookContainer = gd.closest('#notebook-container');\n",
       "if (notebookContainer) {{\n",
       "    x.observe(notebookContainer, {childList: true});\n",
       "}}\n",
       "\n",
       "// Listen for the clearing of the current output cell\n",
       "var outputEl = gd.closest('.output');\n",
       "if (outputEl) {{\n",
       "    x.observe(outputEl, {childList: true});\n",
       "}}\n",
       "\n",
       "                        })\n",
       "                };\n",
       "                });\n",
       "            </script>\n",
       "        </div>"
      ]
     },
     "metadata": {},
     "output_type": "display_data"
    }
   ],
   "source": [
    "trace = go.Bar(\n",
    "    x = survey.iloc[:,[0,7]]['연수 신청방법 및 교육내용에 대한 구체적인 안내를 받았다.'].value_counts().index,\n",
    "    y = survey.iloc[:,[0,7]]['연수 신청방법 및 교육내용에 대한 구체적인 안내를 받았다.'].value_counts(),\n",
    "    text = survey.iloc[:,[0,7]]['연수 신청방법 및 교육내용에 대한 구체적인 안내를 받았다.'].value_counts(),\n",
    "    textposition = 'auto'\n",
    ")\n",
    "\n",
    "layout = go.Layout(title='연수 신청방법 및 교육내용에 대한 구체적인 안내를 받았다.',\n",
    "                   xaxis=dict(title='만족도', range=[0,6]),\n",
    "                   yaxis=dict(title='응답자수',range=[0,10]))\n",
    "\n",
    "fig = go.Figure(data=[trace], layout=layout)\n",
    "\n",
    "iplot(fig)"
   ]
  },
  {
   "cell_type": "code",
   "execution_count": null,
   "metadata": {},
   "outputs": [],
   "source": []
  },
  {
   "cell_type": "markdown",
   "metadata": {
    "colab_type": "text",
    "id": "OS3ptH8X30dm",
    "toc-hr-collapsed": false
   },
   "source": [
    "## 교육후 설문"
   ]
  },
  {
   "cell_type": "markdown",
   "metadata": {},
   "source": [
    "###  연수과정의 내용은 연수생 현지의 상황과 요구에 맞게 구성되었다."
   ]
  },
  {
   "cell_type": "code",
   "execution_count": 26,
   "metadata": {
    "colab": {
     "base_uri": "https://localhost:8080/",
     "height": 483
    },
    "colab_type": "code",
    "executionInfo": {
     "elapsed": 886,
     "status": "ok",
     "timestamp": 1552705412444,
     "user": {
      "displayName": "Gumin Jung",
      "photoUrl": "",
      "userId": "17563555151136201373"
     },
     "user_tz": -540
    },
    "hide_input": true,
    "id": "gk4xs2zF30dC",
    "outputId": "41ad8769-9c5f-4111-a666-2be35fd7fb90",
    "slideshow": {
     "slide_type": "Slide"
    }
   },
   "outputs": [
    {
     "data": {
      "text/html": [
       "<div>\n",
       "<style scoped>\n",
       "    .dataframe tbody tr th:only-of-type {\n",
       "        vertical-align: middle;\n",
       "    }\n",
       "\n",
       "    .dataframe tbody tr th {\n",
       "        vertical-align: top;\n",
       "    }\n",
       "\n",
       "    .dataframe thead th {\n",
       "        text-align: right;\n",
       "    }\n",
       "</style>\n",
       "<table border=\"1\" class=\"dataframe\">\n",
       "  <thead>\n",
       "    <tr style=\"text-align: right;\">\n",
       "      <th></th>\n",
       "      <th>국가명</th>\n",
       "      <th>연수과정의 내용은 연수생 현지의 상황과 요구에 맞게 구성되었다.</th>\n",
       "    </tr>\n",
       "    <tr>\n",
       "      <th>성명</th>\n",
       "      <th></th>\n",
       "      <th></th>\n",
       "    </tr>\n",
       "  </thead>\n",
       "  <tbody>\n",
       "    <tr>\n",
       "      <th>Alejandro CEBALLOS JARABA</th>\n",
       "      <td>콜롬비아</td>\n",
       "      <td>4</td>\n",
       "    </tr>\n",
       "    <tr>\n",
       "      <th>Carmen ZANA CARBAJAL</th>\n",
       "      <td>페루</td>\n",
       "      <td>5</td>\n",
       "    </tr>\n",
       "    <tr>\n",
       "      <th>Dana PHAL</th>\n",
       "      <td>캄보디아</td>\n",
       "      <td>3</td>\n",
       "    </tr>\n",
       "    <tr>\n",
       "      <th>Edward AGBODJAN</th>\n",
       "      <td>가나</td>\n",
       "      <td>4</td>\n",
       "    </tr>\n",
       "    <tr>\n",
       "      <th>Hnin Ei Mon</th>\n",
       "      <td>미얀마</td>\n",
       "      <td>5</td>\n",
       "    </tr>\n",
       "    <tr>\n",
       "      <th>Iqbal AHMED</th>\n",
       "      <td>파키스탄</td>\n",
       "      <td>5</td>\n",
       "    </tr>\n",
       "    <tr>\n",
       "      <th>Jacqueline Yamileth RIVERA AYALA</th>\n",
       "      <td>엘살바도르</td>\n",
       "      <td>4</td>\n",
       "    </tr>\n",
       "    <tr>\n",
       "      <th>Jean Bosco Alpha MBARUSHIMANA</th>\n",
       "      <td>르완다</td>\n",
       "      <td>5</td>\n",
       "    </tr>\n",
       "    <tr>\n",
       "      <th>Joz Carlos Gabrillo ORDILLANO</th>\n",
       "      <td>필리핀</td>\n",
       "      <td>5</td>\n",
       "    </tr>\n",
       "    <tr>\n",
       "      <th>Khin Ohnmar MYINT THEIN</th>\n",
       "      <td>미얀마</td>\n",
       "      <td>4</td>\n",
       "    </tr>\n",
       "    <tr>\n",
       "      <th>Laura LOZADA ACOSTA</th>\n",
       "      <td>페루</td>\n",
       "      <td>4</td>\n",
       "    </tr>\n",
       "    <tr>\n",
       "      <th>Mercy Wairimu KIMANI</th>\n",
       "      <td>케냐</td>\n",
       "      <td>5</td>\n",
       "    </tr>\n",
       "    <tr>\n",
       "      <th>Peeter Hewage Chinthaka Sampath RATHNASIRI</th>\n",
       "      <td>스리랑카</td>\n",
       "      <td>5</td>\n",
       "    </tr>\n",
       "  </tbody>\n",
       "</table>\n",
       "</div>"
      ],
      "text/plain": [
       "                                              국가명  \\\n",
       "성명                                                  \n",
       "Alejandro CEBALLOS JARABA                    콜롬비아   \n",
       "Carmen ZANA CARBAJAL                           페루   \n",
       "Dana PHAL                                    캄보디아   \n",
       "Edward AGBODJAN                                가나   \n",
       "Hnin Ei Mon                                   미얀마   \n",
       "Iqbal AHMED                                  파키스탄   \n",
       "Jacqueline Yamileth RIVERA AYALA            엘살바도르   \n",
       "Jean Bosco Alpha MBARUSHIMANA                 르완다   \n",
       "Joz Carlos Gabrillo ORDILLANO                 필리핀   \n",
       "Khin Ohnmar MYINT THEIN                       미얀마   \n",
       "Laura LOZADA ACOSTA                            페루   \n",
       "Mercy Wairimu KIMANI                           케냐   \n",
       "Peeter Hewage Chinthaka Sampath RATHNASIRI   스리랑카   \n",
       "\n",
       "                                            연수과정의 내용은 연수생 현지의 상황과 요구에 맞게 구성되었다.  \n",
       "성명                                                                               \n",
       "Alejandro CEBALLOS JARABA                                                     4  \n",
       "Carmen ZANA CARBAJAL                                                          5  \n",
       "Dana PHAL                                                                     3  \n",
       "Edward AGBODJAN                                                               4  \n",
       "Hnin Ei Mon                                                                   5  \n",
       "Iqbal AHMED                                                                   5  \n",
       "Jacqueline Yamileth RIVERA AYALA                                              4  \n",
       "Jean Bosco Alpha MBARUSHIMANA                                                 5  \n",
       "Joz Carlos Gabrillo ORDILLANO                                                 5  \n",
       "Khin Ohnmar MYINT THEIN                                                       4  \n",
       "Laura LOZADA ACOSTA                                                           4  \n",
       "Mercy Wairimu KIMANI                                                          5  \n",
       "Peeter Hewage Chinthaka Sampath RATHNASIRI                                    5  "
      ]
     },
     "execution_count": 26,
     "metadata": {},
     "output_type": "execute_result"
    }
   ],
   "source": [
    "survey.iloc[:,[0,17]]"
   ]
  },
  {
   "cell_type": "code",
   "execution_count": 27,
   "metadata": {},
   "outputs": [
    {
     "data": {
      "text/html": [
       "<div>\n",
       "<style scoped>\n",
       "    .dataframe tbody tr th:only-of-type {\n",
       "        vertical-align: middle;\n",
       "    }\n",
       "\n",
       "    .dataframe tbody tr th {\n",
       "        vertical-align: top;\n",
       "    }\n",
       "\n",
       "    .dataframe thead th {\n",
       "        text-align: right;\n",
       "    }\n",
       "</style>\n",
       "<table border=\"1\" class=\"dataframe\">\n",
       "  <thead>\n",
       "    <tr style=\"text-align: right;\">\n",
       "      <th></th>\n",
       "      <th>연수과정의 내용은 연수생 현지의 상황과 요구에 맞게 구성되었다.</th>\n",
       "    </tr>\n",
       "  </thead>\n",
       "  <tbody>\n",
       "    <tr>\n",
       "      <th>응답자수</th>\n",
       "      <td>13.00</td>\n",
       "    </tr>\n",
       "    <tr>\n",
       "      <th>평균</th>\n",
       "      <td>4.46</td>\n",
       "    </tr>\n",
       "    <tr>\n",
       "      <th>표준편차</th>\n",
       "      <td>0.66</td>\n",
       "    </tr>\n",
       "  </tbody>\n",
       "</table>\n",
       "</div>"
      ],
      "text/plain": [
       "     연수과정의 내용은 연수생 현지의 상황과 요구에 맞게 구성되었다.\n",
       "응답자수                               13.00\n",
       "평균                                  4.46\n",
       "표준편차                                0.66"
      ]
     },
     "execution_count": 27,
     "metadata": {},
     "output_type": "execute_result"
    }
   ],
   "source": [
    "pd.DataFrame(survey.iloc[:,[0,17]]['연수과정의 내용은 연수생 현지의 상황과 요구에 맞게 구성되었다.'].describe())[:3].rename(\n",
    "    index={'count': '응답자수','mean': '평균','std': '표준편차'}).applymap(lambda x: '%.2f' % x)"
   ]
  },
  {
   "cell_type": "code",
   "execution_count": 28,
   "metadata": {},
   "outputs": [
    {
     "data": {
      "application/vnd.plotly.v1+json": {
       "config": {
        "linkText": "Export to plot.ly",
        "plotlyServerURL": "https://plot.ly",
        "showLink": false
       },
       "data": [
        {
         "text": [
          7,
          5,
          1
         ],
         "textposition": "auto",
         "type": "bar",
         "uid": "6ec857fd-3552-481e-8efe-eedd88155e19",
         "x": [
          5,
          4,
          3
         ],
         "y": [
          7,
          5,
          1
         ]
        }
       ],
       "layout": {
        "autosize": true,
        "title": {
         "text": "연수과정의 내용은 연수생 현지의 상황과 요구에 맞게 구성되었다."
        },
        "xaxis": {
         "range": [
          0,
          6
         ],
         "title": {
          "text": "만족도"
         },
         "type": "linear"
        },
        "yaxis": {
         "range": [
          0,
          10
         ],
         "title": {
          "text": "응답자수"
         },
         "type": "linear"
        }
       }
      },
      "image/png": "[encoded data removed]",
      "text/html": [
       "<div>\n",
       "        \n",
       "        \n",
       "            <div id=\"38fd04f8-d885-4ee7-92ad-c359e70804ef\" class=\"plotly-graph-div\" style=\"height:525px; width:100%;\"></div>\n",
       "            <script type=\"text/javascript\">\n",
       "                require([\"plotly\"], function(Plotly) {\n",
       "                    window.PLOTLYENV=window.PLOTLYENV || {};\n",
       "                    window.PLOTLYENV.BASE_URL='https://plot.ly';\n",
       "                    \n",
       "                if (document.getElementById(\"38fd04f8-d885-4ee7-92ad-c359e70804ef\")) {\n",
       "                    Plotly.newPlot(\n",
       "                        '38fd04f8-d885-4ee7-92ad-c359e70804ef',\n",
       "                        [{\"text\": [7.0, 5.0, 1.0], \"textposition\": \"auto\", \"type\": \"bar\", \"uid\": \"6ec857fd-3552-481e-8efe-eedd88155e19\", \"x\": [5, 4, 3], \"y\": [7, 5, 1]}],\n",
       "                        {\"title\": {\"text\": \"\\uc5f0\\uc218\\uacfc\\uc815\\uc758 \\ub0b4\\uc6a9\\uc740 \\uc5f0\\uc218\\uc0dd \\ud604\\uc9c0\\uc758 \\uc0c1\\ud669\\uacfc \\uc694\\uad6c\\uc5d0 \\ub9de\\uac8c \\uad6c\\uc131\\ub418\\uc5c8\\ub2e4.\"}, \"xaxis\": {\"range\": [0, 6], \"title\": {\"text\": \"\\ub9cc\\uc871\\ub3c4\"}}, \"yaxis\": {\"range\": [0, 10], \"title\": {\"text\": \"\\uc751\\ub2f5\\uc790\\uc218\"}}},\n",
       "                        {\"showLink\": false, \"linkText\": \"Export to plot.ly\", \"plotlyServerURL\": \"https://plot.ly\", \"responsive\": true}\n",
       "                    ).then(function(){\n",
       "                            \n",
       "var gd = document.getElementById('38fd04f8-d885-4ee7-92ad-c359e70804ef');\n",
       "var x = new MutationObserver(function (mutations, observer) {{\n",
       "        var display = window.getComputedStyle(gd).display;\n",
       "        if (!display || display === 'none') {{\n",
       "            console.log([gd, 'removed!']);\n",
       "            Plotly.purge(gd);\n",
       "            observer.disconnect();\n",
       "        }}\n",
       "}});\n",
       "\n",
       "// Listen for the removal of the full notebook cells\n",
       "var notebookContainer = gd.closest('#notebook-container');\n",
       "if (notebookContainer) {{\n",
       "    x.observe(notebookContainer, {childList: true});\n",
       "}}\n",
       "\n",
       "// Listen for the clearing of the current output cell\n",
       "var outputEl = gd.closest('.output');\n",
       "if (outputEl) {{\n",
       "    x.observe(outputEl, {childList: true});\n",
       "}}\n",
       "\n",
       "                        })\n",
       "                };\n",
       "                });\n",
       "            </script>\n",
       "        </div>"
      ]
     },
     "metadata": {},
     "output_type": "display_data"
    }
   ],
   "source": [
    "trace = go.Bar(\n",
    "    x = survey.iloc[:,[0,17]]['연수과정의 내용은 연수생 현지의 상황과 요구에 맞게 구성되었다.'].value_counts().index,\n",
    "    y = survey.iloc[:,[0,17]]['연수과정의 내용은 연수생 현지의 상황과 요구에 맞게 구성되었다.'].value_counts(),\n",
    "    text = survey.iloc[:,[0,17]]['연수과정의 내용은 연수생 현지의 상황과 요구에 맞게 구성되었다.'].value_counts(),\n",
    "    textposition = 'auto'\n",
    ")\n",
    "\n",
    "layout = go.Layout(title='연수과정의 내용은 연수생 현지의 상황과 요구에 맞게 구성되었다.',\n",
    "                   xaxis=dict(title='만족도', range=[0,6]),\n",
    "                   yaxis=dict(title='응답자수',range=[0,10]))\n",
    "\n",
    "fig = go.Figure(data=[trace], layout=layout)\n",
    "\n",
    "iplot(fig)"
   ]
  },
  {
   "cell_type": "code",
   "execution_count": null,
   "metadata": {},
   "outputs": [],
   "source": []
  },
  {
   "cell_type": "markdown",
   "metadata": {},
   "source": [
    "### 연수과정의 내용과 수준은 이해하기 적절하였다."
   ]
  },
  {
   "cell_type": "code",
   "execution_count": 33,
   "metadata": {
    "colab": {
     "base_uri": "https://localhost:8080/",
     "height": 483
    },
    "colab_type": "code",
    "executionInfo": {
     "elapsed": 4415,
     "status": "ok",
     "timestamp": 1552705424032,
     "user": {
      "displayName": "Gumin Jung",
      "photoUrl": "",
      "userId": "17563555151136201373"
     },
     "user_tz": -540
    },
    "hide_input": true,
    "id": "LxLNLgtn30d7",
    "outputId": "2ea69ead-5cd7-4078-f8af-2972b80ba75f",
    "slideshow": {
     "slide_type": "slide"
    }
   },
   "outputs": [
    {
     "data": {
      "text/html": [
       "<div>\n",
       "<style scoped>\n",
       "    .dataframe tbody tr th:only-of-type {\n",
       "        vertical-align: middle;\n",
       "    }\n",
       "\n",
       "    .dataframe tbody tr th {\n",
       "        vertical-align: top;\n",
       "    }\n",
       "\n",
       "    .dataframe thead th {\n",
       "        text-align: right;\n",
       "    }\n",
       "</style>\n",
       "<table border=\"1\" class=\"dataframe\">\n",
       "  <thead>\n",
       "    <tr style=\"text-align: right;\">\n",
       "      <th></th>\n",
       "      <th>국가명</th>\n",
       "      <th>연수과정의 내용과 수준은 이해하기 적절하였다.</th>\n",
       "    </tr>\n",
       "    <tr>\n",
       "      <th>성명</th>\n",
       "      <th></th>\n",
       "      <th></th>\n",
       "    </tr>\n",
       "  </thead>\n",
       "  <tbody>\n",
       "    <tr>\n",
       "      <th>Alejandro CEBALLOS JARABA</th>\n",
       "      <td>콜롬비아</td>\n",
       "      <td>5</td>\n",
       "    </tr>\n",
       "    <tr>\n",
       "      <th>Carmen ZANA CARBAJAL</th>\n",
       "      <td>페루</td>\n",
       "      <td>5</td>\n",
       "    </tr>\n",
       "    <tr>\n",
       "      <th>Dana PHAL</th>\n",
       "      <td>캄보디아</td>\n",
       "      <td>3</td>\n",
       "    </tr>\n",
       "    <tr>\n",
       "      <th>Edward AGBODJAN</th>\n",
       "      <td>가나</td>\n",
       "      <td>5</td>\n",
       "    </tr>\n",
       "    <tr>\n",
       "      <th>Hnin Ei Mon</th>\n",
       "      <td>미얀마</td>\n",
       "      <td>4</td>\n",
       "    </tr>\n",
       "    <tr>\n",
       "      <th>Iqbal AHMED</th>\n",
       "      <td>파키스탄</td>\n",
       "      <td>5</td>\n",
       "    </tr>\n",
       "    <tr>\n",
       "      <th>Jacqueline Yamileth RIVERA AYALA</th>\n",
       "      <td>엘살바도르</td>\n",
       "      <td>5</td>\n",
       "    </tr>\n",
       "    <tr>\n",
       "      <th>Jean Bosco Alpha MBARUSHIMANA</th>\n",
       "      <td>르완다</td>\n",
       "      <td>5</td>\n",
       "    </tr>\n",
       "    <tr>\n",
       "      <th>Joz Carlos Gabrillo ORDILLANO</th>\n",
       "      <td>필리핀</td>\n",
       "      <td>5</td>\n",
       "    </tr>\n",
       "    <tr>\n",
       "      <th>Khin Ohnmar MYINT THEIN</th>\n",
       "      <td>미얀마</td>\n",
       "      <td>4</td>\n",
       "    </tr>\n",
       "    <tr>\n",
       "      <th>Laura LOZADA ACOSTA</th>\n",
       "      <td>페루</td>\n",
       "      <td>4</td>\n",
       "    </tr>\n",
       "    <tr>\n",
       "      <th>Mercy Wairimu KIMANI</th>\n",
       "      <td>케냐</td>\n",
       "      <td>5</td>\n",
       "    </tr>\n",
       "    <tr>\n",
       "      <th>Peeter Hewage Chinthaka Sampath RATHNASIRI</th>\n",
       "      <td>스리랑카</td>\n",
       "      <td>5</td>\n",
       "    </tr>\n",
       "  </tbody>\n",
       "</table>\n",
       "</div>"
      ],
      "text/plain": [
       "                                              국가명  연수과정의 내용과 수준은 이해하기 적절하였다.\n",
       "성명                                                                          \n",
       "Alejandro CEBALLOS JARABA                    콜롬비아                          5\n",
       "Carmen ZANA CARBAJAL                           페루                          5\n",
       "Dana PHAL                                    캄보디아                          3\n",
       "Edward AGBODJAN                                가나                          5\n",
       "Hnin Ei Mon                                   미얀마                          4\n",
       "Iqbal AHMED                                  파키스탄                          5\n",
       "Jacqueline Yamileth RIVERA AYALA            엘살바도르                          5\n",
       "Jean Bosco Alpha MBARUSHIMANA                 르완다                          5\n",
       "Joz Carlos Gabrillo ORDILLANO                 필리핀                          5\n",
       "Khin Ohnmar MYINT THEIN                       미얀마                          4\n",
       "Laura LOZADA ACOSTA                            페루                          4\n",
       "Mercy Wairimu KIMANI                           케냐                          5\n",
       "Peeter Hewage Chinthaka Sampath RATHNASIRI   스리랑카                          5"
      ]
     },
     "execution_count": 33,
     "metadata": {},
     "output_type": "execute_result"
    }
   ],
   "source": [
    "survey.iloc[:,[0,18]]"
   ]
  },
  {
   "cell_type": "code",
   "execution_count": 35,
   "metadata": {},
   "outputs": [
    {
     "data": {
      "text/html": [
       "<div>\n",
       "<style scoped>\n",
       "    .dataframe tbody tr th:only-of-type {\n",
       "        vertical-align: middle;\n",
       "    }\n",
       "\n",
       "    .dataframe tbody tr th {\n",
       "        vertical-align: top;\n",
       "    }\n",
       "\n",
       "    .dataframe thead th {\n",
       "        text-align: right;\n",
       "    }\n",
       "</style>\n",
       "<table border=\"1\" class=\"dataframe\">\n",
       "  <thead>\n",
       "    <tr style=\"text-align: right;\">\n",
       "      <th></th>\n",
       "      <th>연수과정의 내용과 수준은 이해하기 적절하였다.</th>\n",
       "    </tr>\n",
       "  </thead>\n",
       "  <tbody>\n",
       "    <tr>\n",
       "      <th>응답자수</th>\n",
       "      <td>13.00</td>\n",
       "    </tr>\n",
       "    <tr>\n",
       "      <th>평균</th>\n",
       "      <td>4.62</td>\n",
       "    </tr>\n",
       "    <tr>\n",
       "      <th>표준편차</th>\n",
       "      <td>0.65</td>\n",
       "    </tr>\n",
       "  </tbody>\n",
       "</table>\n",
       "</div>"
      ],
      "text/plain": [
       "     연수과정의 내용과 수준은 이해하기 적절하였다.\n",
       "응답자수                     13.00\n",
       "평균                        4.62\n",
       "표준편차                      0.65"
      ]
     },
     "execution_count": 35,
     "metadata": {},
     "output_type": "execute_result"
    }
   ],
   "source": [
    "pd.DataFrame(survey.iloc[:,[0,18]]['연수과정의 내용과 수준은 이해하기 적절하였다.'].describe())[:3].rename(\n",
    "    index={'count': '응답자수','mean': '평균','std': '표준편차'}).applymap(lambda x: '%.2f' % x)"
   ]
  },
  {
   "cell_type": "code",
   "execution_count": 36,
   "metadata": {},
   "outputs": [
    {
     "data": {
      "application/vnd.plotly.v1+json": {
       "config": {
        "linkText": "Export to plot.ly",
        "plotlyServerURL": "https://plot.ly",
        "showLink": false
       },
       "data": [
        {
         "text": [
          9,
          3,
          1
         ],
         "textposition": "auto",
         "type": "bar",
         "uid": "baf57431-e0a3-4dbf-b16e-dfbf5ea7cdc1",
         "x": [
          5,
          4,
          3
         ],
         "y": [
          9,
          3,
          1
         ]
        }
       ],
       "layout": {
        "autosize": true,
        "title": {
         "text": "연수과정의 내용과 수준은 이해하기 적절하였다."
        },
        "xaxis": {
         "range": [
          0,
          6
         ],
         "title": {
          "text": "만족도"
         },
         "type": "linear"
        },
        "yaxis": {
         "range": [
          0,
          10
         ],
         "title": {
          "text": "응답자수"
         },
         "type": "linear"
        }
       }
      },
      "image/png": "[encoded data removed]",
      "text/html": [
       "<div>\n",
       "        \n",
       "        \n",
       "            <div id=\"5734e02d-a5d7-42e8-8ab0-04965f7bbb55\" class=\"plotly-graph-div\" style=\"height:525px; width:100%;\"></div>\n",
       "            <script type=\"text/javascript\">\n",
       "                require([\"plotly\"], function(Plotly) {\n",
       "                    window.PLOTLYENV=window.PLOTLYENV || {};\n",
       "                    window.PLOTLYENV.BASE_URL='https://plot.ly';\n",
       "                    \n",
       "                if (document.getElementById(\"5734e02d-a5d7-42e8-8ab0-04965f7bbb55\")) {\n",
       "                    Plotly.newPlot(\n",
       "                        '5734e02d-a5d7-42e8-8ab0-04965f7bbb55',\n",
       "                        [{\"text\": [9.0, 3.0, 1.0], \"textposition\": \"auto\", \"type\": \"bar\", \"uid\": \"baf57431-e0a3-4dbf-b16e-dfbf5ea7cdc1\", \"x\": [5, 4, 3], \"y\": [9, 3, 1]}],\n",
       "                        {\"title\": {\"text\": \"\\uc5f0\\uc218\\uacfc\\uc815\\uc758 \\ub0b4\\uc6a9\\uacfc \\uc218\\uc900\\uc740 \\uc774\\ud574\\ud558\\uae30 \\uc801\\uc808\\ud558\\uc600\\ub2e4.\"}, \"xaxis\": {\"range\": [0, 6], \"title\": {\"text\": \"\\ub9cc\\uc871\\ub3c4\"}}, \"yaxis\": {\"range\": [0, 10], \"title\": {\"text\": \"\\uc751\\ub2f5\\uc790\\uc218\"}}},\n",
       "                        {\"showLink\": false, \"linkText\": \"Export to plot.ly\", \"plotlyServerURL\": \"https://plot.ly\", \"responsive\": true}\n",
       "                    ).then(function(){\n",
       "                            \n",
       "var gd = document.getElementById('5734e02d-a5d7-42e8-8ab0-04965f7bbb55');\n",
       "var x = new MutationObserver(function (mutations, observer) {{\n",
       "        var display = window.getComputedStyle(gd).display;\n",
       "        if (!display || display === 'none') {{\n",
       "            console.log([gd, 'removed!']);\n",
       "            Plotly.purge(gd);\n",
       "            observer.disconnect();\n",
       "        }}\n",
       "}});\n",
       "\n",
       "// Listen for the removal of the full notebook cells\n",
       "var notebookContainer = gd.closest('#notebook-container');\n",
       "if (notebookContainer) {{\n",
       "    x.observe(notebookContainer, {childList: true});\n",
       "}}\n",
       "\n",
       "// Listen for the clearing of the current output cell\n",
       "var outputEl = gd.closest('.output');\n",
       "if (outputEl) {{\n",
       "    x.observe(outputEl, {childList: true});\n",
       "}}\n",
       "\n",
       "                        })\n",
       "                };\n",
       "                });\n",
       "            </script>\n",
       "        </div>"
      ]
     },
     "metadata": {},
     "output_type": "display_data"
    }
   ],
   "source": [
    "trace = go.Bar(\n",
    "    x = survey.iloc[:,[0,18]]['연수과정의 내용과 수준은 이해하기 적절하였다.'].value_counts().index,\n",
    "    y = survey.iloc[:,[0,18]]['연수과정의 내용과 수준은 이해하기 적절하였다.'].value_counts(),\n",
    "    text = survey.iloc[:,[0,18]]['연수과정의 내용과 수준은 이해하기 적절하였다.'].value_counts(),\n",
    "    textposition = 'auto'\n",
    ")\n",
    "\n",
    "layout = go.Layout(title='연수과정의 내용과 수준은 이해하기 적절하였다.',\n",
    "                   xaxis=dict(title='만족도', range=[0,6]),\n",
    "                   yaxis=dict(title='응답자수',range=[0,10]))\n",
    "\n",
    "fig = go.Figure(data=[trace], layout=layout)\n",
    "\n",
    "iplot(fig)"
   ]
  },
  {
   "cell_type": "code",
   "execution_count": null,
   "metadata": {},
   "outputs": [],
   "source": []
  },
  {
   "cell_type": "markdown",
   "metadata": {},
   "source": [
    "### 연수과정의 교육방법(강의, 실습/토의, 현장학습 등)은 연수내용을 이해하는데 적합하였다."
   ]
  },
  {
   "cell_type": "code",
   "execution_count": null,
   "metadata": {},
   "outputs": [],
   "source": [
    "survey.iloc[:,[0,19]]"
   ]
  },
  {
   "cell_type": "code",
   "execution_count": 37,
   "metadata": {},
   "outputs": [
    {
     "data": {
      "text/html": [
       "<div>\n",
       "<style scoped>\n",
       "    .dataframe tbody tr th:only-of-type {\n",
       "        vertical-align: middle;\n",
       "    }\n",
       "\n",
       "    .dataframe tbody tr th {\n",
       "        vertical-align: top;\n",
       "    }\n",
       "\n",
       "    .dataframe thead th {\n",
       "        text-align: right;\n",
       "    }\n",
       "</style>\n",
       "<table border=\"1\" class=\"dataframe\">\n",
       "  <thead>\n",
       "    <tr style=\"text-align: right;\">\n",
       "      <th></th>\n",
       "      <th>연수과정의 교육방법(강의, 실습/토의, 현장학습 등)은 연수내용을 이해하는데 적합하였다.</th>\n",
       "    </tr>\n",
       "  </thead>\n",
       "  <tbody>\n",
       "    <tr>\n",
       "      <th>응답자수</th>\n",
       "      <td>13.00</td>\n",
       "    </tr>\n",
       "    <tr>\n",
       "      <th>평균</th>\n",
       "      <td>4.54</td>\n",
       "    </tr>\n",
       "    <tr>\n",
       "      <th>표준편차</th>\n",
       "      <td>0.66</td>\n",
       "    </tr>\n",
       "  </tbody>\n",
       "</table>\n",
       "</div>"
      ],
      "text/plain": [
       "     연수과정의 교육방법(강의, 실습/토의, 현장학습 등)은 연수내용을 이해하는데 적합하였다.\n",
       "응답자수                                             13.00\n",
       "평균                                                4.54\n",
       "표준편차                                              0.66"
      ]
     },
     "execution_count": 37,
     "metadata": {},
     "output_type": "execute_result"
    }
   ],
   "source": [
    "pd.DataFrame(survey.iloc[:,[0,19]]['연수과정의 교육방법(강의, 실습/토의, 현장학습 등)은 연수내용을 이해하는데 적합하였다.'].describe())[:3].rename(\n",
    "    index={'count': '응답자수','mean': '평균','std': '표준편차'}).applymap(lambda x: '%.2f' % x)"
   ]
  },
  {
   "cell_type": "code",
   "execution_count": 38,
   "metadata": {},
   "outputs": [
    {
     "data": {
      "application/vnd.plotly.v1+json": {
       "config": {
        "linkText": "Export to plot.ly",
        "plotlyServerURL": "https://plot.ly",
        "showLink": false
       },
       "data": [
        {
         "text": [
          8,
          4,
          1
         ],
         "textposition": "auto",
         "type": "bar",
         "uid": "7e102b0d-5656-49e0-b0e3-3548e306c723",
         "x": [
          5,
          4,
          3
         ],
         "y": [
          8,
          4,
          1
         ]
        }
       ],
       "layout": {
        "autosize": true,
        "title": {
         "text": "연수과정의 교육방법(강의, 실습/토의, 현장학습 등)은 연수내용을 이해하는데 적합하였다."
        },
        "xaxis": {
         "range": [
          0,
          6
         ],
         "title": {
          "text": "만족도"
         },
         "type": "linear"
        },
        "yaxis": {
         "range": [
          0,
          10
         ],
         "title": {
          "text": "응답자수"
         },
         "type": "linear"
        }
       }
      },
      "image/png": "[encoded data removed]",
      "text/html": [
       "<div>\n",
       "        \n",
       "        \n",
       "            <div id=\"6b489a19-d906-4686-bc67-5271a4f72225\" class=\"plotly-graph-div\" style=\"height:525px; width:100%;\"></div>\n",
       "            <script type=\"text/javascript\">\n",
       "                require([\"plotly\"], function(Plotly) {\n",
       "                    window.PLOTLYENV=window.PLOTLYENV || {};\n",
       "                    window.PLOTLYENV.BASE_URL='https://plot.ly';\n",
       "                    \n",
       "                if (document.getElementById(\"6b489a19-d906-4686-bc67-5271a4f72225\")) {\n",
       "                    Plotly.newPlot(\n",
       "                        '6b489a19-d906-4686-bc67-5271a4f72225',\n",
       "                        [{\"text\": [8.0, 4.0, 1.0], \"textposition\": \"auto\", \"type\": \"bar\", \"uid\": \"7e102b0d-5656-49e0-b0e3-3548e306c723\", \"x\": [5, 4, 3], \"y\": [8, 4, 1]}],\n",
       "                        {\"title\": {\"text\": \"\\uc5f0\\uc218\\uacfc\\uc815\\uc758 \\uad50\\uc721\\ubc29\\ubc95(\\uac15\\uc758, \\uc2e4\\uc2b5/\\ud1a0\\uc758, \\ud604\\uc7a5\\ud559\\uc2b5 \\ub4f1)\\uc740 \\uc5f0\\uc218\\ub0b4\\uc6a9\\uc744 \\uc774\\ud574\\ud558\\ub294\\ub370 \\uc801\\ud569\\ud558\\uc600\\ub2e4.\"}, \"xaxis\": {\"range\": [0, 6], \"title\": {\"text\": \"\\ub9cc\\uc871\\ub3c4\"}}, \"yaxis\": {\"range\": [0, 10], \"title\": {\"text\": \"\\uc751\\ub2f5\\uc790\\uc218\"}}},\n",
       "                        {\"showLink\": false, \"linkText\": \"Export to plot.ly\", \"plotlyServerURL\": \"https://plot.ly\", \"responsive\": true}\n",
       "                    ).then(function(){\n",
       "                            \n",
       "var gd = document.getElementById('6b489a19-d906-4686-bc67-5271a4f72225');\n",
       "var x = new MutationObserver(function (mutations, observer) {{\n",
       "        var display = window.getComputedStyle(gd).display;\n",
       "        if (!display || display === 'none') {{\n",
       "            console.log([gd, 'removed!']);\n",
       "            Plotly.purge(gd);\n",
       "            observer.disconnect();\n",
       "        }}\n",
       "}});\n",
       "\n",
       "// Listen for the removal of the full notebook cells\n",
       "var notebookContainer = gd.closest('#notebook-container');\n",
       "if (notebookContainer) {{\n",
       "    x.observe(notebookContainer, {childList: true});\n",
       "}}\n",
       "\n",
       "// Listen for the clearing of the current output cell\n",
       "var outputEl = gd.closest('.output');\n",
       "if (outputEl) {{\n",
       "    x.observe(outputEl, {childList: true});\n",
       "}}\n",
       "\n",
       "                        })\n",
       "                };\n",
       "                });\n",
       "            </script>\n",
       "        </div>"
      ]
     },
     "metadata": {},
     "output_type": "display_data"
    }
   ],
   "source": [
    "trace = go.Bar(\n",
    "    x = survey.iloc[:,[0,19]]['연수과정의 교육방법(강의, 실습/토의, 현장학습 등)은 연수내용을 이해하는데 적합하였다.'].value_counts().index,\n",
    "    y = survey.iloc[:,[0,19]]['연수과정의 교육방법(강의, 실습/토의, 현장학습 등)은 연수내용을 이해하는데 적합하였다.'].value_counts(),\n",
    "    text = survey.iloc[:,[0,19]]['연수과정의 교육방법(강의, 실습/토의, 현장학습 등)은 연수내용을 이해하는데 적합하였다.'].value_counts(),\n",
    "    textposition = 'auto'\n",
    ")\n",
    "\n",
    "layout = go.Layout(title='연수과정의 교육방법(강의, 실습/토의, 현장학습 등)은 연수내용을 이해하는데 적합하였다.',\n",
    "                   xaxis=dict(title='만족도', range=[0,6]),\n",
    "                   yaxis=dict(title='응답자수',range=[0,10]))\n",
    "\n",
    "fig = go.Figure(data=[trace], layout=layout)\n",
    "\n",
    "iplot(fig)"
   ]
  },
  {
   "cell_type": "markdown",
   "metadata": {},
   "source": [
    "### 연수기관에서는 연수생 국가의 문화나 종교를 배려하기 위해 노력하였다"
   ]
  },
  {
   "cell_type": "code",
   "execution_count": null,
   "metadata": {},
   "outputs": [],
   "source": [
    "survey.iloc[:,[0,20]]"
   ]
  },
  {
   "cell_type": "code",
   "execution_count": 44,
   "metadata": {},
   "outputs": [
    {
     "data": {
      "text/html": [
       "<div>\n",
       "<style scoped>\n",
       "    .dataframe tbody tr th:only-of-type {\n",
       "        vertical-align: middle;\n",
       "    }\n",
       "\n",
       "    .dataframe tbody tr th {\n",
       "        vertical-align: top;\n",
       "    }\n",
       "\n",
       "    .dataframe thead th {\n",
       "        text-align: right;\n",
       "    }\n",
       "</style>\n",
       "<table border=\"1\" class=\"dataframe\">\n",
       "  <thead>\n",
       "    <tr style=\"text-align: right;\">\n",
       "      <th></th>\n",
       "      <th>연수기관에서는 연수생 국가의 문화나 종교를 배려하기 위해 노력하였다</th>\n",
       "    </tr>\n",
       "  </thead>\n",
       "  <tbody>\n",
       "    <tr>\n",
       "      <th>응답자수</th>\n",
       "      <td>13.00</td>\n",
       "    </tr>\n",
       "    <tr>\n",
       "      <th>평균</th>\n",
       "      <td>4.46</td>\n",
       "    </tr>\n",
       "    <tr>\n",
       "      <th>표준편차</th>\n",
       "      <td>0.78</td>\n",
       "    </tr>\n",
       "  </tbody>\n",
       "</table>\n",
       "</div>"
      ],
      "text/plain": [
       "     연수기관에서는 연수생 국가의 문화나 종교를 배려하기 위해 노력하였다\n",
       "응답자수                                 13.00\n",
       "평균                                    4.46\n",
       "표준편차                                  0.78"
      ]
     },
     "execution_count": 44,
     "metadata": {},
     "output_type": "execute_result"
    }
   ],
   "source": [
    "pd.DataFrame(survey.iloc[:,[0,20]]['연수기관에서는 연수생 국가의 문화나 종교를 배려하기 위해 노력하였다'].describe())[:3].rename(\n",
    "index={'count': '응답자수','mean': '평균','std': '표준편차'}).applymap(lambda x: '%.2f' % x)"
   ]
  },
  {
   "cell_type": "code",
   "execution_count": 42,
   "metadata": {},
   "outputs": [
    {
     "data": {
      "application/vnd.plotly.v1+json": {
       "config": {
        "linkText": "Export to plot.ly",
        "plotlyServerURL": "https://plot.ly",
        "showLink": false
       },
       "data": [
        {
         "text": [
          8,
          3,
          2
         ],
         "textposition": "auto",
         "type": "bar",
         "uid": "f4325462-aa33-4651-8ce7-e62b51a7d354",
         "x": [
          5,
          4,
          3
         ],
         "y": [
          8,
          3,
          2
         ]
        }
       ],
       "layout": {
        "autosize": true,
        "title": {
         "text": "연수기관에서는 연수생 국가의 문화나 종교를 배려하기 위해 노력하였다"
        },
        "xaxis": {
         "range": [
          0,
          6
         ],
         "title": {
          "text": "만족도"
         },
         "type": "linear"
        },
        "yaxis": {
         "range": [
          0,
          10
         ],
         "title": {
          "text": "응답자수"
         },
         "type": "linear"
        }
       }
      },
      "image/png": "[encoded data removed]",
      "text/html": [
       "<div>\n",
       "        \n",
       "        \n",
       "            <div id=\"81ce7d71-f4ac-4c88-b7a1-9ae7ff4d7c0e\" class=\"plotly-graph-div\" style=\"height:525px; width:100%;\"></div>\n",
       "            <script type=\"text/javascript\">\n",
       "                require([\"plotly\"], function(Plotly) {\n",
       "                    window.PLOTLYENV=window.PLOTLYENV || {};\n",
       "                    window.PLOTLYENV.BASE_URL='https://plot.ly';\n",
       "                    \n",
       "                if (document.getElementById(\"81ce7d71-f4ac-4c88-b7a1-9ae7ff4d7c0e\")) {\n",
       "                    Plotly.newPlot(\n",
       "                        '81ce7d71-f4ac-4c88-b7a1-9ae7ff4d7c0e',\n",
       "                        [{\"text\": [8.0, 3.0, 2.0], \"textposition\": \"auto\", \"type\": \"bar\", \"uid\": \"f4325462-aa33-4651-8ce7-e62b51a7d354\", \"x\": [5, 4, 3], \"y\": [8, 3, 2]}],\n",
       "                        {\"title\": {\"text\": \"\\uc5f0\\uc218\\uae30\\uad00\\uc5d0\\uc11c\\ub294 \\uc5f0\\uc218\\uc0dd \\uad6d\\uac00\\uc758 \\ubb38\\ud654\\ub098 \\uc885\\uad50\\ub97c \\ubc30\\ub824\\ud558\\uae30 \\uc704\\ud574 \\ub178\\ub825\\ud558\\uc600\\ub2e4\"}, \"xaxis\": {\"range\": [0, 6], \"title\": {\"text\": \"\\ub9cc\\uc871\\ub3c4\"}}, \"yaxis\": {\"range\": [0, 10], \"title\": {\"text\": \"\\uc751\\ub2f5\\uc790\\uc218\"}}},\n",
       "                        {\"showLink\": false, \"linkText\": \"Export to plot.ly\", \"plotlyServerURL\": \"https://plot.ly\", \"responsive\": true}\n",
       "                    ).then(function(){\n",
       "                            \n",
       "var gd = document.getElementById('81ce7d71-f4ac-4c88-b7a1-9ae7ff4d7c0e');\n",
       "var x = new MutationObserver(function (mutations, observer) {{\n",
       "        var display = window.getComputedStyle(gd).display;\n",
       "        if (!display || display === 'none') {{\n",
       "            console.log([gd, 'removed!']);\n",
       "            Plotly.purge(gd);\n",
       "            observer.disconnect();\n",
       "        }}\n",
       "}});\n",
       "\n",
       "// Listen for the removal of the full notebook cells\n",
       "var notebookContainer = gd.closest('#notebook-container');\n",
       "if (notebookContainer) {{\n",
       "    x.observe(notebookContainer, {childList: true});\n",
       "}}\n",
       "\n",
       "// Listen for the clearing of the current output cell\n",
       "var outputEl = gd.closest('.output');\n",
       "if (outputEl) {{\n",
       "    x.observe(outputEl, {childList: true});\n",
       "}}\n",
       "\n",
       "                        })\n",
       "                };\n",
       "                });\n",
       "            </script>\n",
       "        </div>"
      ]
     },
     "metadata": {},
     "output_type": "display_data"
    }
   ],
   "source": [
    "trace = go.Bar(\n",
    "    x = survey.iloc[:,[0,20]]['연수기관에서는 연수생 국가의 문화나 종교를 배려하기 위해 노력하였다'].value_counts().index,\n",
    "    y = survey.iloc[:,[0,20]]['연수기관에서는 연수생 국가의 문화나 종교를 배려하기 위해 노력하였다'].value_counts(),\n",
    "    text = survey.iloc[:,[0,20]]['연수기관에서는 연수생 국가의 문화나 종교를 배려하기 위해 노력하였다'].value_counts(),\n",
    "    textposition = 'auto'\n",
    ")\n",
    "\n",
    "layout = go.Layout(title='연수기관에서는 연수생 국가의 문화나 종교를 배려하기 위해 노력하였다',\n",
    "                   xaxis=dict(title='만족도', range=[0,6]),\n",
    "                   yaxis=dict(title='응답자수',range=[0,10]))\n",
    "\n",
    "fig = go.Figure(data=[trace], layout=layout)\n",
    "\n",
    "iplot(fig)"
   ]
  },
  {
   "cell_type": "code",
   "execution_count": null,
   "metadata": {},
   "outputs": [],
   "source": []
  },
  {
   "cell_type": "markdown",
   "metadata": {},
   "source": [
    "### 연수운영진은 연수과정을 원활하게 운영하였다. (일정관리, 강의준비, 연수생 지원 등)"
   ]
  },
  {
   "cell_type": "code",
   "execution_count": null,
   "metadata": {},
   "outputs": [],
   "source": [
    "survey.iloc[:,[0,21]]"
   ]
  },
  {
   "cell_type": "code",
   "execution_count": 45,
   "metadata": {},
   "outputs": [
    {
     "data": {
      "text/html": [
       "<div>\n",
       "<style scoped>\n",
       "    .dataframe tbody tr th:only-of-type {\n",
       "        vertical-align: middle;\n",
       "    }\n",
       "\n",
       "    .dataframe tbody tr th {\n",
       "        vertical-align: top;\n",
       "    }\n",
       "\n",
       "    .dataframe thead th {\n",
       "        text-align: right;\n",
       "    }\n",
       "</style>\n",
       "<table border=\"1\" class=\"dataframe\">\n",
       "  <thead>\n",
       "    <tr style=\"text-align: right;\">\n",
       "      <th></th>\n",
       "      <th>연수운영진은 연수과정을 원활하게 운영하였다. (일정관리, 강의준비, 연수생 지원 등)</th>\n",
       "    </tr>\n",
       "  </thead>\n",
       "  <tbody>\n",
       "    <tr>\n",
       "      <th>응답자수</th>\n",
       "      <td>13.00</td>\n",
       "    </tr>\n",
       "    <tr>\n",
       "      <th>평균</th>\n",
       "      <td>4.46</td>\n",
       "    </tr>\n",
       "    <tr>\n",
       "      <th>표준편차</th>\n",
       "      <td>0.66</td>\n",
       "    </tr>\n",
       "  </tbody>\n",
       "</table>\n",
       "</div>"
      ],
      "text/plain": [
       "     연수운영진은 연수과정을 원활하게 운영하였다. (일정관리, 강의준비, 연수생 지원 등)\n",
       "응답자수                                           13.00\n",
       "평균                                              4.46\n",
       "표준편차                                            0.66"
      ]
     },
     "execution_count": 45,
     "metadata": {},
     "output_type": "execute_result"
    }
   ],
   "source": [
    "pd.DataFrame(survey.iloc[:,[0,21]]['연수운영진은 연수과정을 원활하게 운영하였다. (일정관리, 강의준비, 연수생 지원 등)'].describe())[:3].rename(\n",
    "index={'count': '응답자수','mean': '평균','std': '표준편차'}).applymap(lambda x: '%.2f' % x)"
   ]
  },
  {
   "cell_type": "code",
   "execution_count": 42,
   "metadata": {},
   "outputs": [
    {
     "data": {
      "application/vnd.plotly.v1+json": {
       "config": {
        "linkText": "Export to plot.ly",
        "plotlyServerURL": "https://plot.ly",
        "showLink": false
       },
       "data": [
        {
         "text": [
          8,
          3,
          2
         ],
         "textposition": "auto",
         "type": "bar",
         "uid": "f4325462-aa33-4651-8ce7-e62b51a7d354",
         "x": [
          5,
          4,
          3
         ],
         "y": [
          8,
          3,
          2
         ]
        }
       ],
       "layout": {
        "autosize": true,
        "title": {
         "text": "연수기관에서는 연수생 국가의 문화나 종교를 배려하기 위해 노력하였다"
        },
        "xaxis": {
         "range": [
          0,
          6
         ],
         "title": {
          "text": "만족도"
         },
         "type": "linear"
        },
        "yaxis": {
         "range": [
          0,
          10
         ],
         "title": {
          "text": "응답자수"
         },
         "type": "linear"
        }
       }
      },
      "image/png": "[encoded data removed]",
      "text/html": [
       "<div>\n",
       "        \n",
       "        \n",
       "            <div id=\"81ce7d71-f4ac-4c88-b7a1-9ae7ff4d7c0e\" class=\"plotly-graph-div\" style=\"height:525px; width:100%;\"></div>\n",
       "            <script type=\"text/javascript\">\n",
       "                require([\"plotly\"], function(Plotly) {\n",
       "                    window.PLOTLYENV=window.PLOTLYENV || {};\n",
       "                    window.PLOTLYENV.BASE_URL='https://plot.ly';\n",
       "                    \n",
       "                if (document.getElementById(\"81ce7d71-f4ac-4c88-b7a1-9ae7ff4d7c0e\")) {\n",
       "                    Plotly.newPlot(\n",
       "                        '81ce7d71-f4ac-4c88-b7a1-9ae7ff4d7c0e',\n",
       "                        [{\"text\": [8.0, 3.0, 2.0], \"textposition\": \"auto\", \"type\": \"bar\", \"uid\": \"f4325462-aa33-4651-8ce7-e62b51a7d354\", \"x\": [5, 4, 3], \"y\": [8, 3, 2]}],\n",
       "                        {\"title\": {\"text\": \"\\uc5f0\\uc218\\uae30\\uad00\\uc5d0\\uc11c\\ub294 \\uc5f0\\uc218\\uc0dd \\uad6d\\uac00\\uc758 \\ubb38\\ud654\\ub098 \\uc885\\uad50\\ub97c \\ubc30\\ub824\\ud558\\uae30 \\uc704\\ud574 \\ub178\\ub825\\ud558\\uc600\\ub2e4\"}, \"xaxis\": {\"range\": [0, 6], \"title\": {\"text\": \"\\ub9cc\\uc871\\ub3c4\"}}, \"yaxis\": {\"range\": [0, 10], \"title\": {\"text\": \"\\uc751\\ub2f5\\uc790\\uc218\"}}},\n",
       "                        {\"showLink\": false, \"linkText\": \"Export to plot.ly\", \"plotlyServerURL\": \"https://plot.ly\", \"responsive\": true}\n",
       "                    ).then(function(){\n",
       "                            \n",
       "var gd = document.getElementById('81ce7d71-f4ac-4c88-b7a1-9ae7ff4d7c0e');\n",
       "var x = new MutationObserver(function (mutations, observer) {{\n",
       "        var display = window.getComputedStyle(gd).display;\n",
       "        if (!display || display === 'none') {{\n",
       "            console.log([gd, 'removed!']);\n",
       "            Plotly.purge(gd);\n",
       "            observer.disconnect();\n",
       "        }}\n",
       "}});\n",
       "\n",
       "// Listen for the removal of the full notebook cells\n",
       "var notebookContainer = gd.closest('#notebook-container');\n",
       "if (notebookContainer) {{\n",
       "    x.observe(notebookContainer, {childList: true});\n",
       "}}\n",
       "\n",
       "// Listen for the clearing of the current output cell\n",
       "var outputEl = gd.closest('.output');\n",
       "if (outputEl) {{\n",
       "    x.observe(outputEl, {childList: true});\n",
       "}}\n",
       "\n",
       "                        })\n",
       "                };\n",
       "                });\n",
       "            </script>\n",
       "        </div>"
      ]
     },
     "metadata": {},
     "output_type": "display_data"
    }
   ],
   "source": [
    "trace = go.Bar(\n",
    "    x = survey.iloc[:,[0,20]]['연수기관에서는 연수생 국가의 문화나 종교를 배려하기 위해 노력하였다'].value_counts().index,\n",
    "    y = survey.iloc[:,[0,20]]['연수기관에서는 연수생 국가의 문화나 종교를 배려하기 위해 노력하였다'].value_counts(),\n",
    "    text = survey.iloc[:,[0,20]]['연수기관에서는 연수생 국가의 문화나 종교를 배려하기 위해 노력하였다'].value_counts(),\n",
    "    textposition = 'auto'\n",
    ")\n",
    "\n",
    "layout = go.Layout(title='연수기관에서는 연수생 국가의 문화나 종교를 배려하기 위해 노력하였다',\n",
    "                   xaxis=dict(title='만족도', range=[0,6]),\n",
    "                   yaxis=dict(title='응답자수',range=[0,10]))\n",
    "\n",
    "fig = go.Figure(data=[trace], layout=layout)\n",
    "\n",
    "iplot(fig)"
   ]
  },
  {
   "cell_type": "code",
   "execution_count": null,
   "metadata": {},
   "outputs": [],
   "source": []
  },
  {
   "cell_type": "markdown",
   "metadata": {},
   "source": [
    "### 연수운영진은 응급상황 등 사건사고에 대해 적절히 대처하였다."
   ]
  },
  {
   "cell_type": "code",
   "execution_count": null,
   "metadata": {},
   "outputs": [],
   "source": [
    "survey.iloc[:,[0,22]]"
   ]
  },
  {
   "cell_type": "code",
   "execution_count": 47,
   "metadata": {},
   "outputs": [
    {
     "data": {
      "text/html": [
       "<div>\n",
       "<style scoped>\n",
       "    .dataframe tbody tr th:only-of-type {\n",
       "        vertical-align: middle;\n",
       "    }\n",
       "\n",
       "    .dataframe tbody tr th {\n",
       "        vertical-align: top;\n",
       "    }\n",
       "\n",
       "    .dataframe thead th {\n",
       "        text-align: right;\n",
       "    }\n",
       "</style>\n",
       "<table border=\"1\" class=\"dataframe\">\n",
       "  <thead>\n",
       "    <tr style=\"text-align: right;\">\n",
       "      <th></th>\n",
       "      <th>연수운영진은 응급상황 등 사건사고에 대해 적절히 대처하였다.</th>\n",
       "    </tr>\n",
       "  </thead>\n",
       "  <tbody>\n",
       "    <tr>\n",
       "      <th>응답자수</th>\n",
       "      <td>13.00</td>\n",
       "    </tr>\n",
       "    <tr>\n",
       "      <th>평균</th>\n",
       "      <td>4.54</td>\n",
       "    </tr>\n",
       "    <tr>\n",
       "      <th>표준편차</th>\n",
       "      <td>0.66</td>\n",
       "    </tr>\n",
       "  </tbody>\n",
       "</table>\n",
       "</div>"
      ],
      "text/plain": [
       "     연수운영진은 응급상황 등 사건사고에 대해 적절히 대처하였다.\n",
       "응답자수                             13.00\n",
       "평균                                4.54\n",
       "표준편차                              0.66"
      ]
     },
     "execution_count": 47,
     "metadata": {},
     "output_type": "execute_result"
    }
   ],
   "source": [
    "pd.DataFrame(survey.iloc[:,[0,22]]['연수운영진은 응급상황 등 사건사고에 대해 적절히 대처하였다.'].describe())[:3].rename(\n",
    "index={'count': '응답자수','mean': '평균','std': '표준편차'}).applymap(lambda x: '%.2f' % x)"
   ]
  },
  {
   "cell_type": "code",
   "execution_count": 48,
   "metadata": {},
   "outputs": [
    {
     "data": {
      "application/vnd.plotly.v1+json": {
       "config": {
        "linkText": "Export to plot.ly",
        "plotlyServerURL": "https://plot.ly",
        "showLink": false
       },
       "data": [
        {
         "text": [
          8,
          4,
          1
         ],
         "textposition": "auto",
         "type": "bar",
         "uid": "2382c760-9575-4a17-a263-0b0d24217676",
         "x": [
          5,
          4,
          3
         ],
         "y": [
          8,
          4,
          1
         ]
        }
       ],
       "layout": {
        "autosize": true,
        "title": {
         "text": "연수운영진은 응급상황 등 사건사고에 대해 적절히 대처하였다."
        },
        "xaxis": {
         "range": [
          0,
          6
         ],
         "title": {
          "text": "만족도"
         },
         "type": "linear"
        },
        "yaxis": {
         "range": [
          0,
          10
         ],
         "title": {
          "text": "응답자수"
         },
         "type": "linear"
        }
       }
      },
      "image/png": "[encoded data removed]",
      "text/html": [
       "<div>\n",
       "        \n",
       "        \n",
       "            <div id=\"69a26795-6015-4406-8903-52eb9ecbe922\" class=\"plotly-graph-div\" style=\"height:525px; width:100%;\"></div>\n",
       "            <script type=\"text/javascript\">\n",
       "                require([\"plotly\"], function(Plotly) {\n",
       "                    window.PLOTLYENV=window.PLOTLYENV || {};\n",
       "                    window.PLOTLYENV.BASE_URL='https://plot.ly';\n",
       "                    \n",
       "                if (document.getElementById(\"69a26795-6015-4406-8903-52eb9ecbe922\")) {\n",
       "                    Plotly.newPlot(\n",
       "                        '69a26795-6015-4406-8903-52eb9ecbe922',\n",
       "                        [{\"text\": [8.0, 4.0, 1.0], \"textposition\": \"auto\", \"type\": \"bar\", \"uid\": \"2382c760-9575-4a17-a263-0b0d24217676\", \"x\": [5, 4, 3], \"y\": [8, 4, 1]}],\n",
       "                        {\"title\": {\"text\": \"\\uc5f0\\uc218\\uc6b4\\uc601\\uc9c4\\uc740 \\uc751\\uae09\\uc0c1\\ud669 \\ub4f1 \\uc0ac\\uac74\\uc0ac\\uace0\\uc5d0 \\ub300\\ud574 \\uc801\\uc808\\ud788 \\ub300\\ucc98\\ud558\\uc600\\ub2e4.\"}, \"xaxis\": {\"range\": [0, 6], \"title\": {\"text\": \"\\ub9cc\\uc871\\ub3c4\"}}, \"yaxis\": {\"range\": [0, 10], \"title\": {\"text\": \"\\uc751\\ub2f5\\uc790\\uc218\"}}},\n",
       "                        {\"showLink\": false, \"linkText\": \"Export to plot.ly\", \"plotlyServerURL\": \"https://plot.ly\", \"responsive\": true}\n",
       "                    ).then(function(){\n",
       "                            \n",
       "var gd = document.getElementById('69a26795-6015-4406-8903-52eb9ecbe922');\n",
       "var x = new MutationObserver(function (mutations, observer) {{\n",
       "        var display = window.getComputedStyle(gd).display;\n",
       "        if (!display || display === 'none') {{\n",
       "            console.log([gd, 'removed!']);\n",
       "            Plotly.purge(gd);\n",
       "            observer.disconnect();\n",
       "        }}\n",
       "}});\n",
       "\n",
       "// Listen for the removal of the full notebook cells\n",
       "var notebookContainer = gd.closest('#notebook-container');\n",
       "if (notebookContainer) {{\n",
       "    x.observe(notebookContainer, {childList: true});\n",
       "}}\n",
       "\n",
       "// Listen for the clearing of the current output cell\n",
       "var outputEl = gd.closest('.output');\n",
       "if (outputEl) {{\n",
       "    x.observe(outputEl, {childList: true});\n",
       "}}\n",
       "\n",
       "                        })\n",
       "                };\n",
       "                });\n",
       "            </script>\n",
       "        </div>"
      ]
     },
     "metadata": {},
     "output_type": "display_data"
    }
   ],
   "source": [
    "trace = go.Bar(\n",
    "    x = survey.iloc[:,[0,22]]['연수운영진은 응급상황 등 사건사고에 대해 적절히 대처하였다.'].value_counts().index,\n",
    "    y = survey.iloc[:,[0,22]]['연수운영진은 응급상황 등 사건사고에 대해 적절히 대처하였다.'].value_counts(),\n",
    "    text = survey.iloc[:,[0,22]]['연수운영진은 응급상황 등 사건사고에 대해 적절히 대처하였다.'].value_counts(),\n",
    "    textposition = 'auto'\n",
    ")\n",
    "\n",
    "layout = go.Layout(title='연수운영진은 응급상황 등 사건사고에 대해 적절히 대처하였다.',\n",
    "                   xaxis=dict(title='만족도', range=[0,6]),\n",
    "                   yaxis=dict(title='응답자수',range=[0,10]))\n",
    "\n",
    "fig = go.Figure(data=[trace], layout=layout)\n",
    "\n",
    "iplot(fig)"
   ]
  },
  {
   "cell_type": "code",
   "execution_count": null,
   "metadata": {},
   "outputs": [],
   "source": []
  },
  {
   "cell_type": "markdown",
   "metadata": {},
   "source": [
    "### 강의실 및 실습실은 사용하기에 편리하였다."
   ]
  },
  {
   "cell_type": "code",
   "execution_count": null,
   "metadata": {},
   "outputs": [],
   "source": [
    "survey.iloc[:,[0,23]]"
   ]
  },
  {
   "cell_type": "code",
   "execution_count": 49,
   "metadata": {},
   "outputs": [
    {
     "data": {
      "text/html": [
       "<div>\n",
       "<style scoped>\n",
       "    .dataframe tbody tr th:only-of-type {\n",
       "        vertical-align: middle;\n",
       "    }\n",
       "\n",
       "    .dataframe tbody tr th {\n",
       "        vertical-align: top;\n",
       "    }\n",
       "\n",
       "    .dataframe thead th {\n",
       "        text-align: right;\n",
       "    }\n",
       "</style>\n",
       "<table border=\"1\" class=\"dataframe\">\n",
       "  <thead>\n",
       "    <tr style=\"text-align: right;\">\n",
       "      <th></th>\n",
       "      <th>강의실 및 실습실은 사용하기에 편리하였다.</th>\n",
       "    </tr>\n",
       "  </thead>\n",
       "  <tbody>\n",
       "    <tr>\n",
       "      <th>응답자수</th>\n",
       "      <td>13.00</td>\n",
       "    </tr>\n",
       "    <tr>\n",
       "      <th>평균</th>\n",
       "      <td>4.69</td>\n",
       "    </tr>\n",
       "    <tr>\n",
       "      <th>표준편차</th>\n",
       "      <td>0.48</td>\n",
       "    </tr>\n",
       "  </tbody>\n",
       "</table>\n",
       "</div>"
      ],
      "text/plain": [
       "     강의실 및 실습실은 사용하기에 편리하였다.\n",
       "응답자수                   13.00\n",
       "평균                      4.69\n",
       "표준편차                    0.48"
      ]
     },
     "execution_count": 49,
     "metadata": {},
     "output_type": "execute_result"
    }
   ],
   "source": [
    "pd.DataFrame(survey.iloc[:,[0,23]]['강의실 및 실습실은 사용하기에 편리하였다.'].describe())[:3].rename(\n",
    "index={'count': '응답자수','mean': '평균','std': '표준편차'}).applymap(lambda x: '%.2f' % x)"
   ]
  },
  {
   "cell_type": "code",
   "execution_count": 50,
   "metadata": {},
   "outputs": [
    {
     "data": {
      "application/vnd.plotly.v1+json": {
       "config": {
        "linkText": "Export to plot.ly",
        "plotlyServerURL": "https://plot.ly",
        "showLink": false
       },
       "data": [
        {
         "text": [
          9,
          4
         ],
         "textposition": "auto",
         "type": "bar",
         "uid": "7569fc1f-80ed-41f5-a425-c0c24079fcd2",
         "x": [
          5,
          4
         ],
         "y": [
          9,
          4
         ]
        }
       ],
       "layout": {
        "autosize": true,
        "title": {
         "text": "강의실 및 실습실은 사용하기에 편리하였다."
        },
        "xaxis": {
         "range": [
          0,
          6
         ],
         "title": {
          "text": "만족도"
         },
         "type": "linear"
        },
        "yaxis": {
         "range": [
          0,
          10
         ],
         "title": {
          "text": "응답자수"
         },
         "type": "linear"
        }
       }
      },
      "image/png": "[encoded data removed]",
      "text/html": [
       "<div>\n",
       "        \n",
       "        \n",
       "            <div id=\"8571bd34-de4f-47e2-849b-236bfdf08f9a\" class=\"plotly-graph-div\" style=\"height:525px; width:100%;\"></div>\n",
       "            <script type=\"text/javascript\">\n",
       "                require([\"plotly\"], function(Plotly) {\n",
       "                    window.PLOTLYENV=window.PLOTLYENV || {};\n",
       "                    window.PLOTLYENV.BASE_URL='https://plot.ly';\n",
       "                    \n",
       "                if (document.getElementById(\"8571bd34-de4f-47e2-849b-236bfdf08f9a\")) {\n",
       "                    Plotly.newPlot(\n",
       "                        '8571bd34-de4f-47e2-849b-236bfdf08f9a',\n",
       "                        [{\"text\": [9.0, 4.0], \"textposition\": \"auto\", \"type\": \"bar\", \"uid\": \"7569fc1f-80ed-41f5-a425-c0c24079fcd2\", \"x\": [5, 4], \"y\": [9, 4]}],\n",
       "                        {\"title\": {\"text\": \"\\uac15\\uc758\\uc2e4 \\ubc0f \\uc2e4\\uc2b5\\uc2e4\\uc740 \\uc0ac\\uc6a9\\ud558\\uae30\\uc5d0 \\ud3b8\\ub9ac\\ud558\\uc600\\ub2e4.\"}, \"xaxis\": {\"range\": [0, 6], \"title\": {\"text\": \"\\ub9cc\\uc871\\ub3c4\"}}, \"yaxis\": {\"range\": [0, 10], \"title\": {\"text\": \"\\uc751\\ub2f5\\uc790\\uc218\"}}},\n",
       "                        {\"showLink\": false, \"linkText\": \"Export to plot.ly\", \"plotlyServerURL\": \"https://plot.ly\", \"responsive\": true}\n",
       "                    ).then(function(){\n",
       "                            \n",
       "var gd = document.getElementById('8571bd34-de4f-47e2-849b-236bfdf08f9a');\n",
       "var x = new MutationObserver(function (mutations, observer) {{\n",
       "        var display = window.getComputedStyle(gd).display;\n",
       "        if (!display || display === 'none') {{\n",
       "            console.log([gd, 'removed!']);\n",
       "            Plotly.purge(gd);\n",
       "            observer.disconnect();\n",
       "        }}\n",
       "}});\n",
       "\n",
       "// Listen for the removal of the full notebook cells\n",
       "var notebookContainer = gd.closest('#notebook-container');\n",
       "if (notebookContainer) {{\n",
       "    x.observe(notebookContainer, {childList: true});\n",
       "}}\n",
       "\n",
       "// Listen for the clearing of the current output cell\n",
       "var outputEl = gd.closest('.output');\n",
       "if (outputEl) {{\n",
       "    x.observe(outputEl, {childList: true});\n",
       "}}\n",
       "\n",
       "                        })\n",
       "                };\n",
       "                });\n",
       "            </script>\n",
       "        </div>"
      ]
     },
     "metadata": {},
     "output_type": "display_data"
    }
   ],
   "source": [
    "trace = go.Bar(\n",
    "    x = survey.iloc[:,[0,23]]['강의실 및 실습실은 사용하기에 편리하였다.'].value_counts().index,\n",
    "    y = survey.iloc[:,[0,23]]['강의실 및 실습실은 사용하기에 편리하였다.'].value_counts(),\n",
    "    text = survey.iloc[:,[0,23]]['강의실 및 실습실은 사용하기에 편리하였다.'].value_counts(),\n",
    "    textposition = 'auto'\n",
    ")\n",
    "\n",
    "layout = go.Layout(title='강의실 및 실습실은 사용하기에 편리하였다.',\n",
    "                   xaxis=dict(title='만족도', range=[0,6]),\n",
    "                   yaxis=dict(title='응답자수',range=[0,10]))\n",
    "\n",
    "fig = go.Figure(data=[trace], layout=layout)\n",
    "\n",
    "iplot(fig)"
   ]
  },
  {
   "cell_type": "code",
   "execution_count": null,
   "metadata": {},
   "outputs": [],
   "source": []
  },
  {
   "cell_type": "markdown",
   "metadata": {
    "colab_type": "text",
    "id": "zA1f5pHE30fX",
    "slideshow": {
     "slide_type": "slide"
    }
   },
   "source": [
    "### 연수 편의시설(휴게시설, 식당, 숙박시설 등)은 사용하기에 편리하였다."
   ]
  },
  {
   "cell_type": "code",
   "execution_count": null,
   "metadata": {},
   "outputs": [],
   "source": [
    "survey.iloc[:,[0,24]]"
   ]
  },
  {
   "cell_type": "code",
   "execution_count": 53,
   "metadata": {},
   "outputs": [
    {
     "data": {
      "text/html": [
       "<div>\n",
       "<style scoped>\n",
       "    .dataframe tbody tr th:only-of-type {\n",
       "        vertical-align: middle;\n",
       "    }\n",
       "\n",
       "    .dataframe tbody tr th {\n",
       "        vertical-align: top;\n",
       "    }\n",
       "\n",
       "    .dataframe thead th {\n",
       "        text-align: right;\n",
       "    }\n",
       "</style>\n",
       "<table border=\"1\" class=\"dataframe\">\n",
       "  <thead>\n",
       "    <tr style=\"text-align: right;\">\n",
       "      <th></th>\n",
       "      <th>연수 편의시설(휴게시설, 식당, 숙박시설 등)은 사용하기에 편리하였다.</th>\n",
       "    </tr>\n",
       "  </thead>\n",
       "  <tbody>\n",
       "    <tr>\n",
       "      <th>응답자수</th>\n",
       "      <td>13.00</td>\n",
       "    </tr>\n",
       "    <tr>\n",
       "      <th>평균</th>\n",
       "      <td>4.23</td>\n",
       "    </tr>\n",
       "    <tr>\n",
       "      <th>표준편차</th>\n",
       "      <td>0.73</td>\n",
       "    </tr>\n",
       "  </tbody>\n",
       "</table>\n",
       "</div>"
      ],
      "text/plain": [
       "     연수 편의시설(휴게시설, 식당, 숙박시설 등)은 사용하기에 편리하였다. \n",
       "응답자수                                    13.00\n",
       "평균                                       4.23\n",
       "표준편차                                     0.73"
      ]
     },
     "execution_count": 53,
     "metadata": {},
     "output_type": "execute_result"
    }
   ],
   "source": [
    "pd.DataFrame(survey.iloc[:,[0,24]]['연수 편의시설(휴게시설, 식당, 숙박시설 등)은 사용하기에 편리하였다. '].describe())[:3].rename(\n",
    "index={'count': '응답자수','mean': '평균','std': '표준편차'}).applymap(lambda x: '%.2f' % x)"
   ]
  },
  {
   "cell_type": "code",
   "execution_count": 54,
   "metadata": {},
   "outputs": [
    {
     "data": {
      "application/vnd.plotly.v1+json": {
       "config": {
        "linkText": "Export to plot.ly",
        "plotlyServerURL": "https://plot.ly",
        "showLink": false
       },
       "data": [
        {
         "text": [
          6,
          5,
          2
         ],
         "textposition": "auto",
         "type": "bar",
         "uid": "69f16d05-a112-4aa7-b050-f090696f9ecd",
         "x": [
          4,
          5,
          3
         ],
         "y": [
          6,
          5,
          2
         ]
        }
       ],
       "layout": {
        "autosize": true,
        "title": {
         "text": "연수 편의시설(휴게시설, 식당, 숙박시설 등)은 사용하기에 편리하였다. "
        },
        "xaxis": {
         "range": [
          0,
          6
         ],
         "title": {
          "text": "만족도"
         },
         "type": "linear"
        },
        "yaxis": {
         "range": [
          0,
          10
         ],
         "title": {
          "text": "응답자수"
         },
         "type": "linear"
        }
       }
      },
      "image/png": "[encoded data removed]",
      "text/html": [
       "<div>\n",
       "        \n",
       "        \n",
       "            <div id=\"142af98d-dc8e-474d-87a5-a318fba5aa16\" class=\"plotly-graph-div\" style=\"height:525px; width:100%;\"></div>\n",
       "            <script type=\"text/javascript\">\n",
       "                require([\"plotly\"], function(Plotly) {\n",
       "                    window.PLOTLYENV=window.PLOTLYENV || {};\n",
       "                    window.PLOTLYENV.BASE_URL='https://plot.ly';\n",
       "                    \n",
       "                if (document.getElementById(\"142af98d-dc8e-474d-87a5-a318fba5aa16\")) {\n",
       "                    Plotly.newPlot(\n",
       "                        '142af98d-dc8e-474d-87a5-a318fba5aa16',\n",
       "                        [{\"text\": [6.0, 5.0, 2.0], \"textposition\": \"auto\", \"type\": \"bar\", \"uid\": \"69f16d05-a112-4aa7-b050-f090696f9ecd\", \"x\": [4, 5, 3], \"y\": [6, 5, 2]}],\n",
       "                        {\"title\": {\"text\": \"\\uc5f0\\uc218 \\ud3b8\\uc758\\uc2dc\\uc124(\\ud734\\uac8c\\uc2dc\\uc124, \\uc2dd\\ub2f9, \\uc219\\ubc15\\uc2dc\\uc124 \\ub4f1)\\uc740 \\uc0ac\\uc6a9\\ud558\\uae30\\uc5d0 \\ud3b8\\ub9ac\\ud558\\uc600\\ub2e4. \"}, \"xaxis\": {\"range\": [0, 6], \"title\": {\"text\": \"\\ub9cc\\uc871\\ub3c4\"}}, \"yaxis\": {\"range\": [0, 10], \"title\": {\"text\": \"\\uc751\\ub2f5\\uc790\\uc218\"}}},\n",
       "                        {\"showLink\": false, \"linkText\": \"Export to plot.ly\", \"plotlyServerURL\": \"https://plot.ly\", \"responsive\": true}\n",
       "                    ).then(function(){\n",
       "                            \n",
       "var gd = document.getElementById('142af98d-dc8e-474d-87a5-a318fba5aa16');\n",
       "var x = new MutationObserver(function (mutations, observer) {{\n",
       "        var display = window.getComputedStyle(gd).display;\n",
       "        if (!display || display === 'none') {{\n",
       "            console.log([gd, 'removed!']);\n",
       "            Plotly.purge(gd);\n",
       "            observer.disconnect();\n",
       "        }}\n",
       "}});\n",
       "\n",
       "// Listen for the removal of the full notebook cells\n",
       "var notebookContainer = gd.closest('#notebook-container');\n",
       "if (notebookContainer) {{\n",
       "    x.observe(notebookContainer, {childList: true});\n",
       "}}\n",
       "\n",
       "// Listen for the clearing of the current output cell\n",
       "var outputEl = gd.closest('.output');\n",
       "if (outputEl) {{\n",
       "    x.observe(outputEl, {childList: true});\n",
       "}}\n",
       "\n",
       "                        })\n",
       "                };\n",
       "                });\n",
       "            </script>\n",
       "        </div>"
      ]
     },
     "metadata": {},
     "output_type": "display_data"
    }
   ],
   "source": [
    "trace = go.Bar(\n",
    "    x = survey.iloc[:,[0,24]]['연수 편의시설(휴게시설, 식당, 숙박시설 등)은 사용하기에 편리하였다. '].value_counts().index,\n",
    "    y = survey.iloc[:,[0,24]]['연수 편의시설(휴게시설, 식당, 숙박시설 등)은 사용하기에 편리하였다. '].value_counts(),\n",
    "    text = survey.iloc[:,[0,24]]['연수 편의시설(휴게시설, 식당, 숙박시설 등)은 사용하기에 편리하였다. '].value_counts(),\n",
    "    textposition = 'auto'\n",
    ")\n",
    "\n",
    "layout = go.Layout(title='연수 편의시설(휴게시설, 식당, 숙박시설 등)은 사용하기에 편리하였다. ',\n",
    "                   xaxis=dict(title='만족도', range=[0,6]),\n",
    "                   yaxis=dict(title='응답자수',range=[0,10]))\n",
    "\n",
    "fig = go.Figure(data=[trace], layout=layout)\n",
    "\n",
    "iplot(fig)"
   ]
  },
  {
   "cell_type": "markdown",
   "metadata": {},
   "source": [
    "### 연수과정에 사용된 교수학습매체는 적절하였다. (교재, 동영상, 실습장비 등)"
   ]
  },
  {
   "cell_type": "code",
   "execution_count": null,
   "metadata": {},
   "outputs": [],
   "source": [
    "survey.iloc[:,[0,26]]"
   ]
  },
  {
   "cell_type": "code",
   "execution_count": 55,
   "metadata": {},
   "outputs": [
    {
     "data": {
      "text/html": [
       "<div>\n",
       "<style scoped>\n",
       "    .dataframe tbody tr th:only-of-type {\n",
       "        vertical-align: middle;\n",
       "    }\n",
       "\n",
       "    .dataframe tbody tr th {\n",
       "        vertical-align: top;\n",
       "    }\n",
       "\n",
       "    .dataframe thead th {\n",
       "        text-align: right;\n",
       "    }\n",
       "</style>\n",
       "<table border=\"1\" class=\"dataframe\">\n",
       "  <thead>\n",
       "    <tr style=\"text-align: right;\">\n",
       "      <th></th>\n",
       "      <th>연수과정에 사용된 교수학습매체는 적절하였다. (교재, 동영상, 실습장비 등)</th>\n",
       "    </tr>\n",
       "  </thead>\n",
       "  <tbody>\n",
       "    <tr>\n",
       "      <th>응답자수</th>\n",
       "      <td>13.00</td>\n",
       "    </tr>\n",
       "    <tr>\n",
       "      <th>평균</th>\n",
       "      <td>4.69</td>\n",
       "    </tr>\n",
       "    <tr>\n",
       "      <th>표준편차</th>\n",
       "      <td>0.63</td>\n",
       "    </tr>\n",
       "  </tbody>\n",
       "</table>\n",
       "</div>"
      ],
      "text/plain": [
       "     연수과정에 사용된 교수학습매체는 적절하였다. (교재, 동영상, 실습장비 등)\n",
       "응답자수                                      13.00\n",
       "평균                                         4.69\n",
       "표준편차                                       0.63"
      ]
     },
     "execution_count": 55,
     "metadata": {},
     "output_type": "execute_result"
    }
   ],
   "source": [
    "pd.DataFrame(survey.iloc[:,[0,26]]['연수과정에 사용된 교수학습매체는 적절하였다. (교재, 동영상, 실습장비 등)'].describe())[:3].rename(\n",
    "index={'count': '응답자수','mean': '평균','std': '표준편차'}).applymap(lambda x: '%.2f' % x)"
   ]
  },
  {
   "cell_type": "code",
   "execution_count": 56,
   "metadata": {},
   "outputs": [
    {
     "data": {
      "application/vnd.plotly.v1+json": {
       "config": {
        "linkText": "Export to plot.ly",
        "plotlyServerURL": "https://plot.ly",
        "showLink": false
       },
       "data": [
        {
         "text": [
          10,
          2,
          1
         ],
         "textposition": "auto",
         "type": "bar",
         "uid": "e507ff0e-6761-4bbb-be7f-65f77fee8e21",
         "x": [
          5,
          4,
          3
         ],
         "y": [
          10,
          2,
          1
         ]
        }
       ],
       "layout": {
        "autosize": true,
        "title": {
         "text": "연수과정에 사용된 교수학습매체는 적절하였다. (교재, 동영상, 실습장비 등)"
        },
        "xaxis": {
         "range": [
          0,
          6
         ],
         "title": {
          "text": "만족도"
         },
         "type": "linear"
        },
        "yaxis": {
         "range": [
          0,
          10
         ],
         "title": {
          "text": "응답자수"
         },
         "type": "linear"
        }
       }
      },
      "image/png": "[encoded data removed]",
      "text/html": [
       "<div>\n",
       "        \n",
       "        \n",
       "            <div id=\"5c7b1a26-485f-4684-a273-3a3e3e0ccb0d\" class=\"plotly-graph-div\" style=\"height:525px; width:100%;\"></div>\n",
       "            <script type=\"text/javascript\">\n",
       "                require([\"plotly\"], function(Plotly) {\n",
       "                    window.PLOTLYENV=window.PLOTLYENV || {};\n",
       "                    window.PLOTLYENV.BASE_URL='https://plot.ly';\n",
       "                    \n",
       "                if (document.getElementById(\"5c7b1a26-485f-4684-a273-3a3e3e0ccb0d\")) {\n",
       "                    Plotly.newPlot(\n",
       "                        '5c7b1a26-485f-4684-a273-3a3e3e0ccb0d',\n",
       "                        [{\"text\": [10.0, 2.0, 1.0], \"textposition\": \"auto\", \"type\": \"bar\", \"uid\": \"e507ff0e-6761-4bbb-be7f-65f77fee8e21\", \"x\": [5, 4, 3], \"y\": [10, 2, 1]}],\n",
       "                        {\"title\": {\"text\": \"\\uc5f0\\uc218\\uacfc\\uc815\\uc5d0 \\uc0ac\\uc6a9\\ub41c \\uad50\\uc218\\ud559\\uc2b5\\ub9e4\\uccb4\\ub294 \\uc801\\uc808\\ud558\\uc600\\ub2e4. (\\uad50\\uc7ac, \\ub3d9\\uc601\\uc0c1, \\uc2e4\\uc2b5\\uc7a5\\ube44 \\ub4f1)\"}, \"xaxis\": {\"range\": [0, 6], \"title\": {\"text\": \"\\ub9cc\\uc871\\ub3c4\"}}, \"yaxis\": {\"range\": [0, 10], \"title\": {\"text\": \"\\uc751\\ub2f5\\uc790\\uc218\"}}},\n",
       "                        {\"showLink\": false, \"linkText\": \"Export to plot.ly\", \"plotlyServerURL\": \"https://plot.ly\", \"responsive\": true}\n",
       "                    ).then(function(){\n",
       "                            \n",
       "var gd = document.getElementById('5c7b1a26-485f-4684-a273-3a3e3e0ccb0d');\n",
       "var x = new MutationObserver(function (mutations, observer) {{\n",
       "        var display = window.getComputedStyle(gd).display;\n",
       "        if (!display || display === 'none') {{\n",
       "            console.log([gd, 'removed!']);\n",
       "            Plotly.purge(gd);\n",
       "            observer.disconnect();\n",
       "        }}\n",
       "}});\n",
       "\n",
       "// Listen for the removal of the full notebook cells\n",
       "var notebookContainer = gd.closest('#notebook-container');\n",
       "if (notebookContainer) {{\n",
       "    x.observe(notebookContainer, {childList: true});\n",
       "}}\n",
       "\n",
       "// Listen for the clearing of the current output cell\n",
       "var outputEl = gd.closest('.output');\n",
       "if (outputEl) {{\n",
       "    x.observe(outputEl, {childList: true});\n",
       "}}\n",
       "\n",
       "                        })\n",
       "                };\n",
       "                });\n",
       "            </script>\n",
       "        </div>"
      ]
     },
     "metadata": {},
     "output_type": "display_data"
    }
   ],
   "source": [
    "trace = go.Bar(\n",
    "    x = survey.iloc[:,[0,26]]['연수과정에 사용된 교수학습매체는 적절하였다. (교재, 동영상, 실습장비 등)'].value_counts().index,\n",
    "    y = survey.iloc[:,[0,26]]['연수과정에 사용된 교수학습매체는 적절하였다. (교재, 동영상, 실습장비 등)'].value_counts(),\n",
    "    text = survey.iloc[:,[0,26]]['연수과정에 사용된 교수학습매체는 적절하였다. (교재, 동영상, 실습장비 등)'].value_counts(),\n",
    "    textposition = 'auto'\n",
    ")\n",
    "\n",
    "layout = go.Layout(title='연수과정에 사용된 교수학습매체는 적절하였다. (교재, 동영상, 실습장비 등)',\n",
    "                   xaxis=dict(title='만족도', range=[0,6]),\n",
    "                   yaxis=dict(title='응답자수',range=[0,10]))\n",
    "\n",
    "fig = go.Figure(data=[trace], layout=layout)\n",
    "\n",
    "iplot(fig)"
   ]
  },
  {
   "cell_type": "code",
   "execution_count": null,
   "metadata": {},
   "outputs": [],
   "source": []
  },
  {
   "cell_type": "markdown",
   "metadata": {},
   "source": [
    "### 강사진은 해당 분야에 대한 실무경험이나 전문성 수준이 높은 인력으로 구성되었다."
   ]
  },
  {
   "cell_type": "code",
   "execution_count": null,
   "metadata": {},
   "outputs": [],
   "source": [
    "survey.iloc[:,[0,27]]"
   ]
  },
  {
   "cell_type": "code",
   "execution_count": 57,
   "metadata": {},
   "outputs": [
    {
     "data": {
      "text/html": [
       "<div>\n",
       "<style scoped>\n",
       "    .dataframe tbody tr th:only-of-type {\n",
       "        vertical-align: middle;\n",
       "    }\n",
       "\n",
       "    .dataframe tbody tr th {\n",
       "        vertical-align: top;\n",
       "    }\n",
       "\n",
       "    .dataframe thead th {\n",
       "        text-align: right;\n",
       "    }\n",
       "</style>\n",
       "<table border=\"1\" class=\"dataframe\">\n",
       "  <thead>\n",
       "    <tr style=\"text-align: right;\">\n",
       "      <th></th>\n",
       "      <th>강사진은 해당 분야에 대한 실무경험이나 전문성 수준이 높은 인력으로 구성되었다.</th>\n",
       "    </tr>\n",
       "  </thead>\n",
       "  <tbody>\n",
       "    <tr>\n",
       "      <th>응답자수</th>\n",
       "      <td>13.00</td>\n",
       "    </tr>\n",
       "    <tr>\n",
       "      <th>평균</th>\n",
       "      <td>4.77</td>\n",
       "    </tr>\n",
       "    <tr>\n",
       "      <th>표준편차</th>\n",
       "      <td>0.44</td>\n",
       "    </tr>\n",
       "  </tbody>\n",
       "</table>\n",
       "</div>"
      ],
      "text/plain": [
       "     강사진은 해당 분야에 대한 실무경험이나 전문성 수준이 높은 인력으로 구성되었다.\n",
       "응답자수                                        13.00\n",
       "평균                                           4.77\n",
       "표준편차                                         0.44"
      ]
     },
     "execution_count": 57,
     "metadata": {},
     "output_type": "execute_result"
    }
   ],
   "source": [
    "pd.DataFrame(survey.iloc[:,[0,27]]['강사진은 해당 분야에 대한 실무경험이나 전문성 수준이 높은 인력으로 구성되었다.'].describe())[:3].rename(\n",
    "index={'count': '응답자수','mean': '평균','std': '표준편차'}).applymap(lambda x: '%.2f' % x)"
   ]
  },
  {
   "cell_type": "code",
   "execution_count": 58,
   "metadata": {},
   "outputs": [
    {
     "data": {
      "application/vnd.plotly.v1+json": {
       "config": {
        "linkText": "Export to plot.ly",
        "plotlyServerURL": "https://plot.ly",
        "showLink": false
       },
       "data": [
        {
         "text": [
          10,
          3
         ],
         "textposition": "auto",
         "type": "bar",
         "uid": "3b84d20b-1904-4bb8-9906-96641978c4b7",
         "x": [
          5,
          4
         ],
         "y": [
          10,
          3
         ]
        }
       ],
       "layout": {
        "autosize": true,
        "title": {
         "text": "강사진은 해당 분야에 대한 실무경험이나 전문성 수준이 높은 인력으로 구성되었다."
        },
        "xaxis": {
         "range": [
          0,
          6
         ],
         "title": {
          "text": "만족도"
         },
         "type": "linear"
        },
        "yaxis": {
         "range": [
          0,
          10
         ],
         "title": {
          "text": "응답자수"
         },
         "type": "linear"
        }
       }
      },
      "image/png": "[encoded data removed]",
      "text/html": [
       "<div>\n",
       "        \n",
       "        \n",
       "            <div id=\"9319a7cf-bffb-4f96-848b-c3f2859d8990\" class=\"plotly-graph-div\" style=\"height:525px; width:100%;\"></div>\n",
       "            <script type=\"text/javascript\">\n",
       "                require([\"plotly\"], function(Plotly) {\n",
       "                    window.PLOTLYENV=window.PLOTLYENV || {};\n",
       "                    window.PLOTLYENV.BASE_URL='https://plot.ly';\n",
       "                    \n",
       "                if (document.getElementById(\"9319a7cf-bffb-4f96-848b-c3f2859d8990\")) {\n",
       "                    Plotly.newPlot(\n",
       "                        '9319a7cf-bffb-4f96-848b-c3f2859d8990',\n",
       "                        [{\"text\": [10.0, 3.0], \"textposition\": \"auto\", \"type\": \"bar\", \"uid\": \"3b84d20b-1904-4bb8-9906-96641978c4b7\", \"x\": [5, 4], \"y\": [10, 3]}],\n",
       "                        {\"title\": {\"text\": \"\\uac15\\uc0ac\\uc9c4\\uc740 \\ud574\\ub2f9 \\ubd84\\uc57c\\uc5d0 \\ub300\\ud55c \\uc2e4\\ubb34\\uacbd\\ud5d8\\uc774\\ub098 \\uc804\\ubb38\\uc131 \\uc218\\uc900\\uc774 \\ub192\\uc740 \\uc778\\ub825\\uc73c\\ub85c \\uad6c\\uc131\\ub418\\uc5c8\\ub2e4.\"}, \"xaxis\": {\"range\": [0, 6], \"title\": {\"text\": \"\\ub9cc\\uc871\\ub3c4\"}}, \"yaxis\": {\"range\": [0, 10], \"title\": {\"text\": \"\\uc751\\ub2f5\\uc790\\uc218\"}}},\n",
       "                        {\"showLink\": false, \"linkText\": \"Export to plot.ly\", \"plotlyServerURL\": \"https://plot.ly\", \"responsive\": true}\n",
       "                    ).then(function(){\n",
       "                            \n",
       "var gd = document.getElementById('9319a7cf-bffb-4f96-848b-c3f2859d8990');\n",
       "var x = new MutationObserver(function (mutations, observer) {{\n",
       "        var display = window.getComputedStyle(gd).display;\n",
       "        if (!display || display === 'none') {{\n",
       "            console.log([gd, 'removed!']);\n",
       "            Plotly.purge(gd);\n",
       "            observer.disconnect();\n",
       "        }}\n",
       "}});\n",
       "\n",
       "// Listen for the removal of the full notebook cells\n",
       "var notebookContainer = gd.closest('#notebook-container');\n",
       "if (notebookContainer) {{\n",
       "    x.observe(notebookContainer, {childList: true});\n",
       "}}\n",
       "\n",
       "// Listen for the clearing of the current output cell\n",
       "var outputEl = gd.closest('.output');\n",
       "if (outputEl) {{\n",
       "    x.observe(outputEl, {childList: true});\n",
       "}}\n",
       "\n",
       "                        })\n",
       "                };\n",
       "                });\n",
       "            </script>\n",
       "        </div>"
      ]
     },
     "metadata": {},
     "output_type": "display_data"
    }
   ],
   "source": [
    "trace = go.Bar(\n",
    "    x = survey.iloc[:,[0,27]]['강사진은 해당 분야에 대한 실무경험이나 전문성 수준이 높은 인력으로 구성되었다.'].value_counts().index,\n",
    "    y = survey.iloc[:,[0,27]]['강사진은 해당 분야에 대한 실무경험이나 전문성 수준이 높은 인력으로 구성되었다.'].value_counts(),\n",
    "    text = survey.iloc[:,[0,27]]['강사진은 해당 분야에 대한 실무경험이나 전문성 수준이 높은 인력으로 구성되었다.'].value_counts(),\n",
    "    textposition = 'auto'\n",
    ")\n",
    "\n",
    "layout = go.Layout(title='강사진은 해당 분야에 대한 실무경험이나 전문성 수준이 높은 인력으로 구성되었다.',\n",
    "                   xaxis=dict(title='만족도', range=[0,6]),\n",
    "                   yaxis=dict(title='응답자수',range=[0,10]))\n",
    "\n",
    "fig = go.Figure(data=[trace], layout=layout)\n",
    "\n",
    "iplot(fig)"
   ]
  },
  {
   "cell_type": "code",
   "execution_count": null,
   "metadata": {},
   "outputs": [],
   "source": []
  },
  {
   "cell_type": "markdown",
   "metadata": {},
   "source": [
    "### 강사는 연수생과 소통하며 교육내용을 체계적이고 능숙하게 전달하였다"
   ]
  },
  {
   "cell_type": "code",
   "execution_count": null,
   "metadata": {},
   "outputs": [],
   "source": [
    "survey.iloc[:,[0,28]]"
   ]
  },
  {
   "cell_type": "code",
   "execution_count": 59,
   "metadata": {},
   "outputs": [
    {
     "data": {
      "text/html": [
       "<div>\n",
       "<style scoped>\n",
       "    .dataframe tbody tr th:only-of-type {\n",
       "        vertical-align: middle;\n",
       "    }\n",
       "\n",
       "    .dataframe tbody tr th {\n",
       "        vertical-align: top;\n",
       "    }\n",
       "\n",
       "    .dataframe thead th {\n",
       "        text-align: right;\n",
       "    }\n",
       "</style>\n",
       "<table border=\"1\" class=\"dataframe\">\n",
       "  <thead>\n",
       "    <tr style=\"text-align: right;\">\n",
       "      <th></th>\n",
       "      <th>강사는 연수생과 소통하며 교육내용을 체계적이고 능숙하게 전달하였다</th>\n",
       "    </tr>\n",
       "  </thead>\n",
       "  <tbody>\n",
       "    <tr>\n",
       "      <th>응답자수</th>\n",
       "      <td>13.00</td>\n",
       "    </tr>\n",
       "    <tr>\n",
       "      <th>평균</th>\n",
       "      <td>4.69</td>\n",
       "    </tr>\n",
       "    <tr>\n",
       "      <th>표준편차</th>\n",
       "      <td>0.63</td>\n",
       "    </tr>\n",
       "  </tbody>\n",
       "</table>\n",
       "</div>"
      ],
      "text/plain": [
       "     강사는 연수생과 소통하며 교육내용을 체계적이고 능숙하게 전달하였다\n",
       "응답자수                                13.00\n",
       "평균                                   4.69\n",
       "표준편차                                 0.63"
      ]
     },
     "execution_count": 59,
     "metadata": {},
     "output_type": "execute_result"
    }
   ],
   "source": [
    "pd.DataFrame(survey.iloc[:,[0,28]]['강사는 연수생과 소통하며 교육내용을 체계적이고 능숙하게 전달하였다'].describe())[:3].rename(\n",
    "index={'count': '응답자수','mean': '평균','std': '표준편차'}).applymap(lambda x: '%.2f' % x)"
   ]
  },
  {
   "cell_type": "code",
   "execution_count": 60,
   "metadata": {},
   "outputs": [
    {
     "data": {
      "application/vnd.plotly.v1+json": {
       "config": {
        "linkText": "Export to plot.ly",
        "plotlyServerURL": "https://plot.ly",
        "showLink": false
       },
       "data": [
        {
         "text": [
          10,
          2,
          1
         ],
         "textposition": "auto",
         "type": "bar",
         "uid": "62ef0df4-3df5-4b75-9223-8150247d54bf",
         "x": [
          5,
          4,
          3
         ],
         "y": [
          10,
          2,
          1
         ]
        }
       ],
       "layout": {
        "autosize": true,
        "title": {
         "text": "강사는 연수생과 소통하며 교육내용을 체계적이고 능숙하게 전달하였다"
        },
        "xaxis": {
         "range": [
          0,
          6
         ],
         "title": {
          "text": "만족도"
         },
         "type": "linear"
        },
        "yaxis": {
         "range": [
          0,
          10
         ],
         "title": {
          "text": "응답자수"
         },
         "type": "linear"
        }
       }
      },
      "image/png": "[encoded data removed]",
      "text/html": [
       "<div>\n",
       "        \n",
       "        \n",
       "            <div id=\"1d5f57ba-8329-47c2-ab94-9cf4a223ba87\" class=\"plotly-graph-div\" style=\"height:525px; width:100%;\"></div>\n",
       "            <script type=\"text/javascript\">\n",
       "                require([\"plotly\"], function(Plotly) {\n",
       "                    window.PLOTLYENV=window.PLOTLYENV || {};\n",
       "                    window.PLOTLYENV.BASE_URL='https://plot.ly';\n",
       "                    \n",
       "                if (document.getElementById(\"1d5f57ba-8329-47c2-ab94-9cf4a223ba87\")) {\n",
       "                    Plotly.newPlot(\n",
       "                        '1d5f57ba-8329-47c2-ab94-9cf4a223ba87',\n",
       "                        [{\"text\": [10.0, 2.0, 1.0], \"textposition\": \"auto\", \"type\": \"bar\", \"uid\": \"62ef0df4-3df5-4b75-9223-8150247d54bf\", \"x\": [5, 4, 3], \"y\": [10, 2, 1]}],\n",
       "                        {\"title\": {\"text\": \"\\uac15\\uc0ac\\ub294 \\uc5f0\\uc218\\uc0dd\\uacfc \\uc18c\\ud1b5\\ud558\\uba70 \\uad50\\uc721\\ub0b4\\uc6a9\\uc744 \\uccb4\\uacc4\\uc801\\uc774\\uace0 \\ub2a5\\uc219\\ud558\\uac8c \\uc804\\ub2ec\\ud558\\uc600\\ub2e4\"}, \"xaxis\": {\"range\": [0, 6], \"title\": {\"text\": \"\\ub9cc\\uc871\\ub3c4\"}}, \"yaxis\": {\"range\": [0, 10], \"title\": {\"text\": \"\\uc751\\ub2f5\\uc790\\uc218\"}}},\n",
       "                        {\"showLink\": false, \"linkText\": \"Export to plot.ly\", \"plotlyServerURL\": \"https://plot.ly\", \"responsive\": true}\n",
       "                    ).then(function(){\n",
       "                            \n",
       "var gd = document.getElementById('1d5f57ba-8329-47c2-ab94-9cf4a223ba87');\n",
       "var x = new MutationObserver(function (mutations, observer) {{\n",
       "        var display = window.getComputedStyle(gd).display;\n",
       "        if (!display || display === 'none') {{\n",
       "            console.log([gd, 'removed!']);\n",
       "            Plotly.purge(gd);\n",
       "            observer.disconnect();\n",
       "        }}\n",
       "}});\n",
       "\n",
       "// Listen for the removal of the full notebook cells\n",
       "var notebookContainer = gd.closest('#notebook-container');\n",
       "if (notebookContainer) {{\n",
       "    x.observe(notebookContainer, {childList: true});\n",
       "}}\n",
       "\n",
       "// Listen for the clearing of the current output cell\n",
       "var outputEl = gd.closest('.output');\n",
       "if (outputEl) {{\n",
       "    x.observe(outputEl, {childList: true});\n",
       "}}\n",
       "\n",
       "                        })\n",
       "                };\n",
       "                });\n",
       "            </script>\n",
       "        </div>"
      ]
     },
     "metadata": {},
     "output_type": "display_data"
    }
   ],
   "source": [
    "trace = go.Bar(\n",
    "    x = survey.iloc[:,[0,28]]['강사는 연수생과 소통하며 교육내용을 체계적이고 능숙하게 전달하였다'].value_counts().index,\n",
    "    y = survey.iloc[:,[0,28]]['강사는 연수생과 소통하며 교육내용을 체계적이고 능숙하게 전달하였다'].value_counts(),\n",
    "    text = survey.iloc[:,[0,28]]['강사는 연수생과 소통하며 교육내용을 체계적이고 능숙하게 전달하였다'].value_counts(),\n",
    "    textposition = 'auto'\n",
    ")\n",
    "\n",
    "layout = go.Layout(title='강사는 연수생과 소통하며 교육내용을 체계적이고 능숙하게 전달하였다',\n",
    "                   xaxis=dict(title='만족도', range=[0,6]),\n",
    "                   yaxis=dict(title='응답자수',range=[0,10]))\n",
    "\n",
    "fig = go.Figure(data=[trace], layout=layout)\n",
    "\n",
    "iplot(fig)"
   ]
  },
  {
   "cell_type": "code",
   "execution_count": null,
   "metadata": {},
   "outputs": [],
   "source": []
  },
  {
   "cell_type": "markdown",
   "metadata": {},
   "source": [
    "### 통역사는 이해하기 쉽도록 통역하였다."
   ]
  },
  {
   "cell_type": "code",
   "execution_count": null,
   "metadata": {},
   "outputs": [],
   "source": [
    "survey.iloc[:,[0,29]]"
   ]
  },
  {
   "cell_type": "code",
   "execution_count": 65,
   "metadata": {},
   "outputs": [
    {
     "data": {
      "text/html": [
       "<div>\n",
       "<style scoped>\n",
       "    .dataframe tbody tr th:only-of-type {\n",
       "        vertical-align: middle;\n",
       "    }\n",
       "\n",
       "    .dataframe tbody tr th {\n",
       "        vertical-align: top;\n",
       "    }\n",
       "\n",
       "    .dataframe thead th {\n",
       "        text-align: right;\n",
       "    }\n",
       "</style>\n",
       "<table border=\"1\" class=\"dataframe\">\n",
       "  <thead>\n",
       "    <tr style=\"text-align: right;\">\n",
       "      <th></th>\n",
       "      <th>통역사는 이해하기 쉽도록 통역하였다. (2-1에서 ②에 응답한 경우, 응답하지 않으셔도 됩니다)</th>\n",
       "    </tr>\n",
       "  </thead>\n",
       "  <tbody>\n",
       "    <tr>\n",
       "      <th>응답자수</th>\n",
       "      <td>11.00</td>\n",
       "    </tr>\n",
       "    <tr>\n",
       "      <th>평균</th>\n",
       "      <td>4.64</td>\n",
       "    </tr>\n",
       "    <tr>\n",
       "      <th>표준편차</th>\n",
       "      <td>0.50</td>\n",
       "    </tr>\n",
       "  </tbody>\n",
       "</table>\n",
       "</div>"
      ],
      "text/plain": [
       "     통역사는 이해하기 쉽도록 통역하였다. (2-1에서 ②에 응답한 경우, 응답하지 않으셔도 됩니다)\n",
       "응답자수                                              11.00   \n",
       "평균                                                 4.64   \n",
       "표준편차                                               0.50   "
      ]
     },
     "execution_count": 65,
     "metadata": {},
     "output_type": "execute_result"
    }
   ],
   "source": [
    "pd.DataFrame(survey.iloc[:,[0,29]]['통역사는 이해하기 쉽도록 통역하였다. (2-1에서 ②에 응답한 경우, 응답하지 않으셔도 됩니다)'].describe())[:3].rename(\n",
    "index={'count': '응답자수','mean': '평균','std': '표준편차'}).applymap(lambda x: '%.2f' % x)"
   ]
  },
  {
   "cell_type": "code",
   "execution_count": 66,
   "metadata": {},
   "outputs": [
    {
     "data": {
      "application/vnd.plotly.v1+json": {
       "config": {
        "linkText": "Export to plot.ly",
        "plotlyServerURL": "https://plot.ly",
        "showLink": false
       },
       "data": [
        {
         "text": [
          7,
          4
         ],
         "textposition": "auto",
         "type": "bar",
         "uid": "b358b33c-ce71-417e-9fbf-240624106d3f",
         "x": [
          5,
          4
         ],
         "y": [
          7,
          4
         ]
        }
       ],
       "layout": {
        "autosize": true,
        "title": {
         "text": "통역사는 이해하기 쉽도록 통역하였다."
        },
        "xaxis": {
         "range": [
          0,
          6
         ],
         "title": {
          "text": "만족도"
         },
         "type": "linear"
        },
        "yaxis": {
         "range": [
          0,
          10
         ],
         "title": {
          "text": "응답자수"
         },
         "type": "linear"
        }
       }
      },
      "image/png": "[encoded data removed]",
      "text/html": [
       "<div>\n",
       "        \n",
       "        \n",
       "            <div id=\"dee375b5-edfe-4f87-ae49-4156fafef2de\" class=\"plotly-graph-div\" style=\"height:525px; width:100%;\"></div>\n",
       "            <script type=\"text/javascript\">\n",
       "                require([\"plotly\"], function(Plotly) {\n",
       "                    window.PLOTLYENV=window.PLOTLYENV || {};\n",
       "                    window.PLOTLYENV.BASE_URL='https://plot.ly';\n",
       "                    \n",
       "                if (document.getElementById(\"dee375b5-edfe-4f87-ae49-4156fafef2de\")) {\n",
       "                    Plotly.newPlot(\n",
       "                        'dee375b5-edfe-4f87-ae49-4156fafef2de',\n",
       "                        [{\"text\": [7.0, 4.0], \"textposition\": \"auto\", \"type\": \"bar\", \"uid\": \"b358b33c-ce71-417e-9fbf-240624106d3f\", \"x\": [5.0, 4.0], \"y\": [7, 4]}],\n",
       "                        {\"title\": {\"text\": \"\\ud1b5\\uc5ed\\uc0ac\\ub294 \\uc774\\ud574\\ud558\\uae30 \\uc27d\\ub3c4\\ub85d \\ud1b5\\uc5ed\\ud558\\uc600\\ub2e4.\"}, \"xaxis\": {\"range\": [0, 6], \"title\": {\"text\": \"\\ub9cc\\uc871\\ub3c4\"}}, \"yaxis\": {\"range\": [0, 10], \"title\": {\"text\": \"\\uc751\\ub2f5\\uc790\\uc218\"}}},\n",
       "                        {\"showLink\": false, \"linkText\": \"Export to plot.ly\", \"plotlyServerURL\": \"https://plot.ly\", \"responsive\": true}\n",
       "                    ).then(function(){\n",
       "                            \n",
       "var gd = document.getElementById('dee375b5-edfe-4f87-ae49-4156fafef2de');\n",
       "var x = new MutationObserver(function (mutations, observer) {{\n",
       "        var display = window.getComputedStyle(gd).display;\n",
       "        if (!display || display === 'none') {{\n",
       "            console.log([gd, 'removed!']);\n",
       "            Plotly.purge(gd);\n",
       "            observer.disconnect();\n",
       "        }}\n",
       "}});\n",
       "\n",
       "// Listen for the removal of the full notebook cells\n",
       "var notebookContainer = gd.closest('#notebook-container');\n",
       "if (notebookContainer) {{\n",
       "    x.observe(notebookContainer, {childList: true});\n",
       "}}\n",
       "\n",
       "// Listen for the clearing of the current output cell\n",
       "var outputEl = gd.closest('.output');\n",
       "if (outputEl) {{\n",
       "    x.observe(outputEl, {childList: true});\n",
       "}}\n",
       "\n",
       "                        })\n",
       "                };\n",
       "                });\n",
       "            </script>\n",
       "        </div>"
      ]
     },
     "metadata": {},
     "output_type": "display_data"
    }
   ],
   "source": [
    "trace = go.Bar(\n",
    "    x = survey.iloc[:,[0,29]]['통역사는 이해하기 쉽도록 통역하였다. (2-1에서 ②에 응답한 경우, 응답하지 않으셔도 됩니다)'].value_counts().index,\n",
    "    y = survey.iloc[:,[0,29]]['통역사는 이해하기 쉽도록 통역하였다. (2-1에서 ②에 응답한 경우, 응답하지 않으셔도 됩니다)'].value_counts(),\n",
    "    text = survey.iloc[:,[0,29]]['통역사는 이해하기 쉽도록 통역하였다. (2-1에서 ②에 응답한 경우, 응답하지 않으셔도 됩니다)'].value_counts(),\n",
    "    textposition = 'auto'\n",
    ")\n",
    "\n",
    "layout = go.Layout(title='통역사는 이해하기 쉽도록 통역하였다.',\n",
    "                   xaxis=dict(title='만족도', range=[0,6]),\n",
    "                   yaxis=dict(title='응답자수',range=[0,10]))\n",
    "\n",
    "fig = go.Figure(data=[trace], layout=layout)\n",
    "\n",
    "iplot(fig)"
   ]
  },
  {
   "cell_type": "code",
   "execution_count": null,
   "metadata": {},
   "outputs": [],
   "source": []
  },
  {
   "cell_type": "markdown",
   "metadata": {},
   "source": [
    "### 국별보고/액션플랜의 주제는 연수과정 목표와 연계되어 있었다."
   ]
  },
  {
   "cell_type": "code",
   "execution_count": null,
   "metadata": {},
   "outputs": [],
   "source": [
    "survey.iloc[:,[0,39]]"
   ]
  },
  {
   "cell_type": "code",
   "execution_count": 67,
   "metadata": {},
   "outputs": [
    {
     "data": {
      "text/html": [
       "<div>\n",
       "<style scoped>\n",
       "    .dataframe tbody tr th:only-of-type {\n",
       "        vertical-align: middle;\n",
       "    }\n",
       "\n",
       "    .dataframe tbody tr th {\n",
       "        vertical-align: top;\n",
       "    }\n",
       "\n",
       "    .dataframe thead th {\n",
       "        text-align: right;\n",
       "    }\n",
       "</style>\n",
       "<table border=\"1\" class=\"dataframe\">\n",
       "  <thead>\n",
       "    <tr style=\"text-align: right;\">\n",
       "      <th></th>\n",
       "      <th>국별보고/액션플랜의 주제는 연수과정 목표와 연계되어 있었다.</th>\n",
       "    </tr>\n",
       "  </thead>\n",
       "  <tbody>\n",
       "    <tr>\n",
       "      <th>응답자수</th>\n",
       "      <td>13.00</td>\n",
       "    </tr>\n",
       "    <tr>\n",
       "      <th>평균</th>\n",
       "      <td>4.38</td>\n",
       "    </tr>\n",
       "    <tr>\n",
       "      <th>표준편차</th>\n",
       "      <td>0.65</td>\n",
       "    </tr>\n",
       "  </tbody>\n",
       "</table>\n",
       "</div>"
      ],
      "text/plain": [
       "     국별보고/액션플랜의 주제는 연수과정 목표와 연계되어 있었다.\n",
       "응답자수                             13.00\n",
       "평균                                4.38\n",
       "표준편차                              0.65"
      ]
     },
     "execution_count": 67,
     "metadata": {},
     "output_type": "execute_result"
    }
   ],
   "source": [
    "pd.DataFrame(survey.iloc[:,[0,39]]['국별보고/액션플랜의 주제는 연수과정 목표와 연계되어 있었다.'].describe())[:3].rename(\n",
    "index={'count': '응답자수','mean': '평균','std': '표준편차'}).applymap(lambda x: '%.2f' % x)"
   ]
  },
  {
   "cell_type": "code",
   "execution_count": 70,
   "metadata": {},
   "outputs": [
    {
     "data": {
      "application/vnd.plotly.v1+json": {
       "config": {
        "linkText": "Export to plot.ly",
        "plotlyServerURL": "https://plot.ly",
        "showLink": false
       },
       "data": [
        {
         "text": [
          6,
          6,
          1
         ],
         "textposition": "auto",
         "type": "bar",
         "uid": "d28c76ce-29fa-4756-8658-e4e83c628363",
         "x": [
          5,
          4,
          3
         ],
         "y": [
          6,
          6,
          1
         ]
        }
       ],
       "layout": {
        "autosize": true,
        "title": {
         "text": "국별보고/액션플랜의 주제는 연수과정 목표와 연계되어 있었다."
        },
        "xaxis": {
         "range": [
          0,
          6
         ],
         "title": {
          "text": "만족도"
         },
         "type": "linear"
        },
        "yaxis": {
         "range": [
          0,
          10
         ],
         "title": {
          "text": "응답자수"
         },
         "type": "linear"
        }
       }
      },
      "image/png": "[encoded data removed]",
      "text/html": [
       "<div>\n",
       "        \n",
       "        \n",
       "            <div id=\"4787916e-13ef-49a7-b82a-284fc4cadcd8\" class=\"plotly-graph-div\" style=\"height:525px; width:100%;\"></div>\n",
       "            <script type=\"text/javascript\">\n",
       "                require([\"plotly\"], function(Plotly) {\n",
       "                    window.PLOTLYENV=window.PLOTLYENV || {};\n",
       "                    window.PLOTLYENV.BASE_URL='https://plot.ly';\n",
       "                    \n",
       "                if (document.getElementById(\"4787916e-13ef-49a7-b82a-284fc4cadcd8\")) {\n",
       "                    Plotly.newPlot(\n",
       "                        '4787916e-13ef-49a7-b82a-284fc4cadcd8',\n",
       "                        [{\"text\": [6.0, 6.0, 1.0], \"textposition\": \"auto\", \"type\": \"bar\", \"uid\": \"d28c76ce-29fa-4756-8658-e4e83c628363\", \"x\": [5, 4, 3], \"y\": [6, 6, 1]}],\n",
       "                        {\"title\": {\"text\": \"\\uad6d\\ubcc4\\ubcf4\\uace0/\\uc561\\uc158\\ud50c\\ub79c\\uc758 \\uc8fc\\uc81c\\ub294 \\uc5f0\\uc218\\uacfc\\uc815 \\ubaa9\\ud45c\\uc640 \\uc5f0\\uacc4\\ub418\\uc5b4 \\uc788\\uc5c8\\ub2e4.\"}, \"xaxis\": {\"range\": [0, 6], \"title\": {\"text\": \"\\ub9cc\\uc871\\ub3c4\"}}, \"yaxis\": {\"range\": [0, 10], \"title\": {\"text\": \"\\uc751\\ub2f5\\uc790\\uc218\"}}},\n",
       "                        {\"showLink\": false, \"linkText\": \"Export to plot.ly\", \"plotlyServerURL\": \"https://plot.ly\", \"responsive\": true}\n",
       "                    ).then(function(){\n",
       "                            \n",
       "var gd = document.getElementById('4787916e-13ef-49a7-b82a-284fc4cadcd8');\n",
       "var x = new MutationObserver(function (mutations, observer) {{\n",
       "        var display = window.getComputedStyle(gd).display;\n",
       "        if (!display || display === 'none') {{\n",
       "            console.log([gd, 'removed!']);\n",
       "            Plotly.purge(gd);\n",
       "            observer.disconnect();\n",
       "        }}\n",
       "}});\n",
       "\n",
       "// Listen for the removal of the full notebook cells\n",
       "var notebookContainer = gd.closest('#notebook-container');\n",
       "if (notebookContainer) {{\n",
       "    x.observe(notebookContainer, {childList: true});\n",
       "}}\n",
       "\n",
       "// Listen for the clearing of the current output cell\n",
       "var outputEl = gd.closest('.output');\n",
       "if (outputEl) {{\n",
       "    x.observe(outputEl, {childList: true});\n",
       "}}\n",
       "\n",
       "                        })\n",
       "                };\n",
       "                });\n",
       "            </script>\n",
       "        </div>"
      ]
     },
     "metadata": {},
     "output_type": "display_data"
    }
   ],
   "source": [
    "trace = go.Bar(\n",
    "    x = survey.iloc[:,[0,39]]['국별보고/액션플랜의 주제는 연수과정 목표와 연계되어 있었다.'].value_counts().index,\n",
    "    y = survey.iloc[:,[0,39]]['국별보고/액션플랜의 주제는 연수과정 목표와 연계되어 있었다.'].value_counts(),\n",
    "    text = survey.iloc[:,[0,39]]['국별보고/액션플랜의 주제는 연수과정 목표와 연계되어 있었다.'].value_counts(),\n",
    "    textposition = 'auto'\n",
    ")\n",
    "\n",
    "layout = go.Layout(title='국별보고/액션플랜의 주제는 연수과정 목표와 연계되어 있었다.',\n",
    "                   xaxis=dict(title='만족도', range=[0,6]),\n",
    "                   yaxis=dict(title='응답자수',range=[0,10]))\n",
    "\n",
    "fig = go.Figure(data=[trace], layout=layout)\n",
    "\n",
    "iplot(fig)"
   ]
  },
  {
   "cell_type": "code",
   "execution_count": null,
   "metadata": {},
   "outputs": [],
   "source": []
  },
  {
   "cell_type": "markdown",
   "metadata": {},
   "source": [
    "### 국별보고/액션플랜 세션시간은 충분하였다."
   ]
  },
  {
   "cell_type": "code",
   "execution_count": null,
   "metadata": {},
   "outputs": [],
   "source": [
    "survey.iloc[:,[0,40]]"
   ]
  },
  {
   "cell_type": "code",
   "execution_count": 72,
   "metadata": {},
   "outputs": [
    {
     "data": {
      "text/html": [
       "<div>\n",
       "<style scoped>\n",
       "    .dataframe tbody tr th:only-of-type {\n",
       "        vertical-align: middle;\n",
       "    }\n",
       "\n",
       "    .dataframe tbody tr th {\n",
       "        vertical-align: top;\n",
       "    }\n",
       "\n",
       "    .dataframe thead th {\n",
       "        text-align: right;\n",
       "    }\n",
       "</style>\n",
       "<table border=\"1\" class=\"dataframe\">\n",
       "  <thead>\n",
       "    <tr style=\"text-align: right;\">\n",
       "      <th></th>\n",
       "      <th>국별보고/액션플랜 세션시간은 충분하였다.</th>\n",
       "    </tr>\n",
       "  </thead>\n",
       "  <tbody>\n",
       "    <tr>\n",
       "      <th>응답자수</th>\n",
       "      <td>13.00</td>\n",
       "    </tr>\n",
       "    <tr>\n",
       "      <th>평균</th>\n",
       "      <td>3.62</td>\n",
       "    </tr>\n",
       "    <tr>\n",
       "      <th>표준편차</th>\n",
       "      <td>1.26</td>\n",
       "    </tr>\n",
       "  </tbody>\n",
       "</table>\n",
       "</div>"
      ],
      "text/plain": [
       "     국별보고/액션플랜 세션시간은 충분하였다.\n",
       "응답자수                  13.00\n",
       "평균                     3.62\n",
       "표준편차                   1.26"
      ]
     },
     "execution_count": 72,
     "metadata": {},
     "output_type": "execute_result"
    }
   ],
   "source": [
    "pd.DataFrame(survey.iloc[:,[0,40]]['국별보고/액션플랜 세션시간은 충분하였다.'].describe())[:3].rename(\n",
    "index={'count': '응답자수','mean': '평균','std': '표준편차'}).applymap(lambda x: '%.2f' % x)"
   ]
  },
  {
   "cell_type": "code",
   "execution_count": 71,
   "metadata": {},
   "outputs": [
    {
     "data": {
      "application/vnd.plotly.v1+json": {
       "config": {
        "linkText": "Export to plot.ly",
        "plotlyServerURL": "https://plot.ly",
        "showLink": false
       },
       "data": [
        {
         "text": [
          5,
          4,
          3,
          1
         ],
         "textposition": "auto",
         "type": "bar",
         "uid": "da4060ae-ce5e-4c14-ae4b-3f467729813e",
         "x": [
          5,
          3,
          2,
          4
         ],
         "y": [
          5,
          4,
          3,
          1
         ]
        }
       ],
       "layout": {
        "autosize": true,
        "title": {
         "text": "국별보고/액션플랜 세션시간은 충분하였다."
        },
        "xaxis": {
         "range": [
          0,
          6
         ],
         "title": {
          "text": "만족도"
         },
         "type": "linear"
        },
        "yaxis": {
         "range": [
          0,
          10
         ],
         "title": {
          "text": "응답자수"
         },
         "type": "linear"
        }
       }
      },
      "image/png": "[encoded data removed]",
      "text/html": [
       "<div>\n",
       "        \n",
       "        \n",
       "            <div id=\"56e00223-1404-4b7a-bdfb-fa3496b9e5bd\" class=\"plotly-graph-div\" style=\"height:525px; width:100%;\"></div>\n",
       "            <script type=\"text/javascript\">\n",
       "                require([\"plotly\"], function(Plotly) {\n",
       "                    window.PLOTLYENV=window.PLOTLYENV || {};\n",
       "                    window.PLOTLYENV.BASE_URL='https://plot.ly';\n",
       "                    \n",
       "                if (document.getElementById(\"56e00223-1404-4b7a-bdfb-fa3496b9e5bd\")) {\n",
       "                    Plotly.newPlot(\n",
       "                        '56e00223-1404-4b7a-bdfb-fa3496b9e5bd',\n",
       "                        [{\"text\": [5.0, 4.0, 3.0, 1.0], \"textposition\": \"auto\", \"type\": \"bar\", \"uid\": \"da4060ae-ce5e-4c14-ae4b-3f467729813e\", \"x\": [5, 3, 2, 4], \"y\": [5, 4, 3, 1]}],\n",
       "                        {\"title\": {\"text\": \"\\uad6d\\ubcc4\\ubcf4\\uace0/\\uc561\\uc158\\ud50c\\ub79c \\uc138\\uc158\\uc2dc\\uac04\\uc740 \\ucda9\\ubd84\\ud558\\uc600\\ub2e4.\"}, \"xaxis\": {\"range\": [0, 6], \"title\": {\"text\": \"\\ub9cc\\uc871\\ub3c4\"}}, \"yaxis\": {\"range\": [0, 10], \"title\": {\"text\": \"\\uc751\\ub2f5\\uc790\\uc218\"}}},\n",
       "                        {\"showLink\": false, \"linkText\": \"Export to plot.ly\", \"plotlyServerURL\": \"https://plot.ly\", \"responsive\": true}\n",
       "                    ).then(function(){\n",
       "                            \n",
       "var gd = document.getElementById('56e00223-1404-4b7a-bdfb-fa3496b9e5bd');\n",
       "var x = new MutationObserver(function (mutations, observer) {{\n",
       "        var display = window.getComputedStyle(gd).display;\n",
       "        if (!display || display === 'none') {{\n",
       "            console.log([gd, 'removed!']);\n",
       "            Plotly.purge(gd);\n",
       "            observer.disconnect();\n",
       "        }}\n",
       "}});\n",
       "\n",
       "// Listen for the removal of the full notebook cells\n",
       "var notebookContainer = gd.closest('#notebook-container');\n",
       "if (notebookContainer) {{\n",
       "    x.observe(notebookContainer, {childList: true});\n",
       "}}\n",
       "\n",
       "// Listen for the clearing of the current output cell\n",
       "var outputEl = gd.closest('.output');\n",
       "if (outputEl) {{\n",
       "    x.observe(outputEl, {childList: true});\n",
       "}}\n",
       "\n",
       "                        })\n",
       "                };\n",
       "                });\n",
       "            </script>\n",
       "        </div>"
      ]
     },
     "metadata": {},
     "output_type": "display_data"
    }
   ],
   "source": [
    "trace = go.Bar(\n",
    "    x = survey.iloc[:,[0,40]]['국별보고/액션플랜 세션시간은 충분하였다.'].value_counts().index,\n",
    "    y = survey.iloc[:,[0,40]]['국별보고/액션플랜 세션시간은 충분하였다.'].value_counts(),\n",
    "    text = survey.iloc[:,[0,40]]['국별보고/액션플랜 세션시간은 충분하였다.'].value_counts(),\n",
    "    textposition = 'auto'\n",
    ")\n",
    "\n",
    "layout = go.Layout(title='국별보고/액션플랜 세션시간은 충분하였다.',\n",
    "                   xaxis=dict(title='만족도', range=[0,6]),\n",
    "                   yaxis=dict(title='응답자수',range=[0,10]))\n",
    "\n",
    "fig = go.Figure(data=[trace], layout=layout)\n",
    "\n",
    "iplot(fig)"
   ]
  },
  {
   "cell_type": "code",
   "execution_count": null,
   "metadata": {},
   "outputs": [],
   "source": []
  },
  {
   "cell_type": "markdown",
   "metadata": {},
   "source": [
    "### 액션플랜 작성 및 발표를 위한 사전안내가 충분히 이루어졌다."
   ]
  },
  {
   "cell_type": "code",
   "execution_count": null,
   "metadata": {},
   "outputs": [],
   "source": [
    "survey.iloc[:,[0,41]]"
   ]
  },
  {
   "cell_type": "code",
   "execution_count": 73,
   "metadata": {},
   "outputs": [
    {
     "data": {
      "text/html": [
       "<div>\n",
       "<style scoped>\n",
       "    .dataframe tbody tr th:only-of-type {\n",
       "        vertical-align: middle;\n",
       "    }\n",
       "\n",
       "    .dataframe tbody tr th {\n",
       "        vertical-align: top;\n",
       "    }\n",
       "\n",
       "    .dataframe thead th {\n",
       "        text-align: right;\n",
       "    }\n",
       "</style>\n",
       "<table border=\"1\" class=\"dataframe\">\n",
       "  <thead>\n",
       "    <tr style=\"text-align: right;\">\n",
       "      <th></th>\n",
       "      <th>액션플랜 작성 및 발표를 위한 사전안내가 충분히 이루어졌다.</th>\n",
       "    </tr>\n",
       "  </thead>\n",
       "  <tbody>\n",
       "    <tr>\n",
       "      <th>응답자수</th>\n",
       "      <td>13.00</td>\n",
       "    </tr>\n",
       "    <tr>\n",
       "      <th>평균</th>\n",
       "      <td>4.08</td>\n",
       "    </tr>\n",
       "    <tr>\n",
       "      <th>표준편차</th>\n",
       "      <td>1.04</td>\n",
       "    </tr>\n",
       "  </tbody>\n",
       "</table>\n",
       "</div>"
      ],
      "text/plain": [
       "     액션플랜 작성 및 발표를 위한 사전안내가 충분히 이루어졌다.\n",
       "응답자수                             13.00\n",
       "평균                                4.08\n",
       "표준편차                              1.04"
      ]
     },
     "execution_count": 73,
     "metadata": {},
     "output_type": "execute_result"
    }
   ],
   "source": [
    "pd.DataFrame(survey.iloc[:,[0,41]]['액션플랜 작성 및 발표를 위한 사전안내가 충분히 이루어졌다.'].describe())[:3].rename(\n",
    "index={'count': '응답자수','mean': '평균','std': '표준편차'}).applymap(lambda x: '%.2f' % x)"
   ]
  },
  {
   "cell_type": "code",
   "execution_count": 75,
   "metadata": {},
   "outputs": [
    {
     "data": {
      "application/vnd.plotly.v1+json": {
       "config": {
        "linkText": "Export to plot.ly",
        "plotlyServerURL": "https://plot.ly",
        "showLink": false
       },
       "data": [
        {
         "text": [
          6,
          3,
          3,
          1
         ],
         "textposition": "auto",
         "type": "bar",
         "uid": "0340e8bf-6a07-4fdc-9a27-d48cf29bb7d5",
         "x": [
          5,
          4,
          3,
          2
         ],
         "y": [
          6,
          3,
          3,
          1
         ]
        }
       ],
       "layout": {
        "autosize": true,
        "title": {
         "text": "액션플랜 작성 및 발표를 위한 사전안내가 충분히 이루어졌다."
        },
        "xaxis": {
         "range": [
          0,
          6
         ],
         "title": {
          "text": "만족도"
         },
         "type": "linear"
        },
        "yaxis": {
         "range": [
          0,
          10
         ],
         "title": {
          "text": "응답자수"
         },
         "type": "linear"
        }
       }
      },
      "image/png": "[encoded data removed]",
      "text/html": [
       "<div>\n",
       "        \n",
       "        \n",
       "            <div id=\"1462ad1c-a287-43f0-81d5-792fe3a59a73\" class=\"plotly-graph-div\" style=\"height:525px; width:100%;\"></div>\n",
       "            <script type=\"text/javascript\">\n",
       "                require([\"plotly\"], function(Plotly) {\n",
       "                    window.PLOTLYENV=window.PLOTLYENV || {};\n",
       "                    window.PLOTLYENV.BASE_URL='https://plot.ly';\n",
       "                    \n",
       "                if (document.getElementById(\"1462ad1c-a287-43f0-81d5-792fe3a59a73\")) {\n",
       "                    Plotly.newPlot(\n",
       "                        '1462ad1c-a287-43f0-81d5-792fe3a59a73',\n",
       "                        [{\"text\": [6.0, 3.0, 3.0, 1.0], \"textposition\": \"auto\", \"type\": \"bar\", \"uid\": \"0340e8bf-6a07-4fdc-9a27-d48cf29bb7d5\", \"x\": [5, 4, 3, 2], \"y\": [6, 3, 3, 1]}],\n",
       "                        {\"title\": {\"text\": \"\\uc561\\uc158\\ud50c\\ub79c \\uc791\\uc131 \\ubc0f \\ubc1c\\ud45c\\ub97c \\uc704\\ud55c \\uc0ac\\uc804\\uc548\\ub0b4\\uac00 \\ucda9\\ubd84\\ud788 \\uc774\\ub8e8\\uc5b4\\uc84c\\ub2e4.\"}, \"xaxis\": {\"range\": [0, 6], \"title\": {\"text\": \"\\ub9cc\\uc871\\ub3c4\"}}, \"yaxis\": {\"range\": [0, 10], \"title\": {\"text\": \"\\uc751\\ub2f5\\uc790\\uc218\"}}},\n",
       "                        {\"showLink\": false, \"linkText\": \"Export to plot.ly\", \"plotlyServerURL\": \"https://plot.ly\", \"responsive\": true}\n",
       "                    ).then(function(){\n",
       "                            \n",
       "var gd = document.getElementById('1462ad1c-a287-43f0-81d5-792fe3a59a73');\n",
       "var x = new MutationObserver(function (mutations, observer) {{\n",
       "        var display = window.getComputedStyle(gd).display;\n",
       "        if (!display || display === 'none') {{\n",
       "            console.log([gd, 'removed!']);\n",
       "            Plotly.purge(gd);\n",
       "            observer.disconnect();\n",
       "        }}\n",
       "}});\n",
       "\n",
       "// Listen for the removal of the full notebook cells\n",
       "var notebookContainer = gd.closest('#notebook-container');\n",
       "if (notebookContainer) {{\n",
       "    x.observe(notebookContainer, {childList: true});\n",
       "}}\n",
       "\n",
       "// Listen for the clearing of the current output cell\n",
       "var outputEl = gd.closest('.output');\n",
       "if (outputEl) {{\n",
       "    x.observe(outputEl, {childList: true});\n",
       "}}\n",
       "\n",
       "                        })\n",
       "                };\n",
       "                });\n",
       "            </script>\n",
       "        </div>"
      ]
     },
     "metadata": {},
     "output_type": "display_data"
    }
   ],
   "source": [
    "trace = go.Bar(\n",
    "    x = survey.iloc[:,[0,41]]['액션플랜 작성 및 발표를 위한 사전안내가 충분히 이루어졌다.'].value_counts().index,\n",
    "    y = survey.iloc[:,[0,41]]['액션플랜 작성 및 발표를 위한 사전안내가 충분히 이루어졌다.'].value_counts(),\n",
    "    text = survey.iloc[:,[0,41]]['액션플랜 작성 및 발표를 위한 사전안내가 충분히 이루어졌다.'].value_counts(),\n",
    "    textposition = 'auto'\n",
    ")\n",
    "\n",
    "layout = go.Layout(title='액션플랜 작성 및 발표를 위한 사전안내가 충분히 이루어졌다.',\n",
    "                   xaxis=dict(title='만족도', range=[0,6]),\n",
    "                   yaxis=dict(title='응답자수',range=[0,10]))\n",
    "\n",
    "fig = go.Figure(data=[trace], layout=layout)\n",
    "\n",
    "iplot(fig)"
   ]
  },
  {
   "cell_type": "code",
   "execution_count": null,
   "metadata": {},
   "outputs": [],
   "source": []
  },
  {
   "cell_type": "markdown",
   "metadata": {},
   "source": [
    "### 국별보고/액션플랜 세션 담당자는 피드백을 충분히 제공하였다."
   ]
  },
  {
   "cell_type": "code",
   "execution_count": null,
   "metadata": {},
   "outputs": [],
   "source": [
    "survey.iloc[:,[0,42]]"
   ]
  },
  {
   "cell_type": "code",
   "execution_count": 76,
   "metadata": {},
   "outputs": [
    {
     "data": {
      "text/html": [
       "<div>\n",
       "<style scoped>\n",
       "    .dataframe tbody tr th:only-of-type {\n",
       "        vertical-align: middle;\n",
       "    }\n",
       "\n",
       "    .dataframe tbody tr th {\n",
       "        vertical-align: top;\n",
       "    }\n",
       "\n",
       "    .dataframe thead th {\n",
       "        text-align: right;\n",
       "    }\n",
       "</style>\n",
       "<table border=\"1\" class=\"dataframe\">\n",
       "  <thead>\n",
       "    <tr style=\"text-align: right;\">\n",
       "      <th></th>\n",
       "      <th>국별보고/액션플랜 세션 담당자는 피드백을 충분히 제공하였다.</th>\n",
       "    </tr>\n",
       "  </thead>\n",
       "  <tbody>\n",
       "    <tr>\n",
       "      <th>응답자수</th>\n",
       "      <td>13.00</td>\n",
       "    </tr>\n",
       "    <tr>\n",
       "      <th>평균</th>\n",
       "      <td>4.54</td>\n",
       "    </tr>\n",
       "    <tr>\n",
       "      <th>표준편차</th>\n",
       "      <td>0.66</td>\n",
       "    </tr>\n",
       "  </tbody>\n",
       "</table>\n",
       "</div>"
      ],
      "text/plain": [
       "     국별보고/액션플랜 세션 담당자는 피드백을 충분히 제공하였다.\n",
       "응답자수                             13.00\n",
       "평균                                4.54\n",
       "표준편차                              0.66"
      ]
     },
     "execution_count": 76,
     "metadata": {},
     "output_type": "execute_result"
    }
   ],
   "source": [
    "pd.DataFrame(survey.iloc[:,[0,42]]['국별보고/액션플랜 세션 담당자는 피드백을 충분히 제공하였다.'].describe())[:3].rename(\n",
    "index={'count': '응답자수','mean': '평균','std': '표준편차'}).applymap(lambda x: '%.2f' % x)"
   ]
  },
  {
   "cell_type": "code",
   "execution_count": 77,
   "metadata": {},
   "outputs": [
    {
     "data": {
      "application/vnd.plotly.v1+json": {
       "config": {
        "linkText": "Export to plot.ly",
        "plotlyServerURL": "https://plot.ly",
        "showLink": false
       },
       "data": [
        {
         "text": [
          8,
          4,
          1
         ],
         "textposition": "auto",
         "type": "bar",
         "uid": "a18bf2ca-3146-4255-b51a-50ed9ac31bc6",
         "x": [
          5,
          4,
          3
         ],
         "y": [
          8,
          4,
          1
         ]
        }
       ],
       "layout": {
        "autosize": true,
        "title": {
         "text": "국별보고/액션플랜 세션 담당자는 피드백을 충분히 제공하였다."
        },
        "xaxis": {
         "range": [
          0,
          6
         ],
         "title": {
          "text": "만족도"
         },
         "type": "linear"
        },
        "yaxis": {
         "range": [
          0,
          10
         ],
         "title": {
          "text": "응답자수"
         },
         "type": "linear"
        }
       }
      },
      "image/png": "[encoded data removed]",
      "text/html": [
       "<div>\n",
       "        \n",
       "        \n",
       "            <div id=\"550393dc-b975-4645-9d54-86df2cfd77b8\" class=\"plotly-graph-div\" style=\"height:525px; width:100%;\"></div>\n",
       "            <script type=\"text/javascript\">\n",
       "                require([\"plotly\"], function(Plotly) {\n",
       "                    window.PLOTLYENV=window.PLOTLYENV || {};\n",
       "                    window.PLOTLYENV.BASE_URL='https://plot.ly';\n",
       "                    \n",
       "                if (document.getElementById(\"550393dc-b975-4645-9d54-86df2cfd77b8\")) {\n",
       "                    Plotly.newPlot(\n",
       "                        '550393dc-b975-4645-9d54-86df2cfd77b8',\n",
       "                        [{\"text\": [8.0, 4.0, 1.0], \"textposition\": \"auto\", \"type\": \"bar\", \"uid\": \"a18bf2ca-3146-4255-b51a-50ed9ac31bc6\", \"x\": [5, 4, 3], \"y\": [8, 4, 1]}],\n",
       "                        {\"title\": {\"text\": \"\\uad6d\\ubcc4\\ubcf4\\uace0/\\uc561\\uc158\\ud50c\\ub79c \\uc138\\uc158 \\ub2f4\\ub2f9\\uc790\\ub294 \\ud53c\\ub4dc\\ubc31\\uc744 \\ucda9\\ubd84\\ud788 \\uc81c\\uacf5\\ud558\\uc600\\ub2e4.\"}, \"xaxis\": {\"range\": [0, 6], \"title\": {\"text\": \"\\ub9cc\\uc871\\ub3c4\"}}, \"yaxis\": {\"range\": [0, 10], \"title\": {\"text\": \"\\uc751\\ub2f5\\uc790\\uc218\"}}},\n",
       "                        {\"showLink\": false, \"linkText\": \"Export to plot.ly\", \"plotlyServerURL\": \"https://plot.ly\", \"responsive\": true}\n",
       "                    ).then(function(){\n",
       "                            \n",
       "var gd = document.getElementById('550393dc-b975-4645-9d54-86df2cfd77b8');\n",
       "var x = new MutationObserver(function (mutations, observer) {{\n",
       "        var display = window.getComputedStyle(gd).display;\n",
       "        if (!display || display === 'none') {{\n",
       "            console.log([gd, 'removed!']);\n",
       "            Plotly.purge(gd);\n",
       "            observer.disconnect();\n",
       "        }}\n",
       "}});\n",
       "\n",
       "// Listen for the removal of the full notebook cells\n",
       "var notebookContainer = gd.closest('#notebook-container');\n",
       "if (notebookContainer) {{\n",
       "    x.observe(notebookContainer, {childList: true});\n",
       "}}\n",
       "\n",
       "// Listen for the clearing of the current output cell\n",
       "var outputEl = gd.closest('.output');\n",
       "if (outputEl) {{\n",
       "    x.observe(outputEl, {childList: true});\n",
       "}}\n",
       "\n",
       "                        })\n",
       "                };\n",
       "                });\n",
       "            </script>\n",
       "        </div>"
      ]
     },
     "metadata": {},
     "output_type": "display_data"
    }
   ],
   "source": [
    "trace = go.Bar(\n",
    "    x = survey.iloc[:,[0,42]]['국별보고/액션플랜 세션 담당자는 피드백을 충분히 제공하였다.'].value_counts().index,\n",
    "    y = survey.iloc[:,[0,42]]['국별보고/액션플랜 세션 담당자는 피드백을 충분히 제공하였다.'].value_counts(),\n",
    "    text = survey.iloc[:,[0,42]]['국별보고/액션플랜 세션 담당자는 피드백을 충분히 제공하였다.'].value_counts(),\n",
    "    textposition = 'auto'\n",
    ")\n",
    "\n",
    "layout = go.Layout(title='국별보고/액션플랜 세션 담당자는 피드백을 충분히 제공하였다.',\n",
    "                   xaxis=dict(title='만족도', range=[0,6]),\n",
    "                   yaxis=dict(title='응답자수',range=[0,10]))\n",
    "\n",
    "fig = go.Figure(data=[trace], layout=layout)\n",
    "\n",
    "iplot(fig)"
   ]
  },
  {
   "cell_type": "code",
   "execution_count": null,
   "metadata": {},
   "outputs": [],
   "source": []
  },
  {
   "cell_type": "markdown",
   "metadata": {},
   "source": [
    "### 국별보고/액션플랜 세션은 연수내용을 이해하는데 도움이 되었다."
   ]
  },
  {
   "cell_type": "code",
   "execution_count": null,
   "metadata": {},
   "outputs": [],
   "source": [
    "survey.iloc[:,[0,43]]"
   ]
  },
  {
   "cell_type": "code",
   "execution_count": 78,
   "metadata": {},
   "outputs": [
    {
     "data": {
      "text/html": [
       "<div>\n",
       "<style scoped>\n",
       "    .dataframe tbody tr th:only-of-type {\n",
       "        vertical-align: middle;\n",
       "    }\n",
       "\n",
       "    .dataframe tbody tr th {\n",
       "        vertical-align: top;\n",
       "    }\n",
       "\n",
       "    .dataframe thead th {\n",
       "        text-align: right;\n",
       "    }\n",
       "</style>\n",
       "<table border=\"1\" class=\"dataframe\">\n",
       "  <thead>\n",
       "    <tr style=\"text-align: right;\">\n",
       "      <th></th>\n",
       "      <th>국별보고/액션플랜 세션은 연수내용을 이해하는데 도움이 되었다.</th>\n",
       "    </tr>\n",
       "  </thead>\n",
       "  <tbody>\n",
       "    <tr>\n",
       "      <th>응답자수</th>\n",
       "      <td>13.00</td>\n",
       "    </tr>\n",
       "    <tr>\n",
       "      <th>평균</th>\n",
       "      <td>4.54</td>\n",
       "    </tr>\n",
       "    <tr>\n",
       "      <th>표준편차</th>\n",
       "      <td>0.66</td>\n",
       "    </tr>\n",
       "  </tbody>\n",
       "</table>\n",
       "</div>"
      ],
      "text/plain": [
       "     국별보고/액션플랜 세션은 연수내용을 이해하는데 도움이 되었다.\n",
       "응답자수                              13.00\n",
       "평균                                 4.54\n",
       "표준편차                               0.66"
      ]
     },
     "execution_count": 78,
     "metadata": {},
     "output_type": "execute_result"
    }
   ],
   "source": [
    "pd.DataFrame(survey.iloc[:,[0,43]]['국별보고/액션플랜 세션은 연수내용을 이해하는데 도움이 되었다.'].describe())[:3].rename(\n",
    "index={'count': '응답자수','mean': '평균','std': '표준편차'}).applymap(lambda x: '%.2f' % x)"
   ]
  },
  {
   "cell_type": "code",
   "execution_count": 79,
   "metadata": {},
   "outputs": [
    {
     "data": {
      "application/vnd.plotly.v1+json": {
       "config": {
        "linkText": "Export to plot.ly",
        "plotlyServerURL": "https://plot.ly",
        "showLink": false
       },
       "data": [
        {
         "text": [
          8,
          4,
          1
         ],
         "textposition": "auto",
         "type": "bar",
         "uid": "0b7a1b3b-8f86-45ed-8868-ac429a356dd3",
         "x": [
          5,
          4,
          3
         ],
         "y": [
          8,
          4,
          1
         ]
        }
       ],
       "layout": {
        "autosize": true,
        "title": {
         "text": "국별보고/액션플랜 세션은 연수내용을 이해하는데 도움이 되었다."
        },
        "xaxis": {
         "range": [
          0,
          6
         ],
         "title": {
          "text": "만족도"
         },
         "type": "linear"
        },
        "yaxis": {
         "range": [
          0,
          10
         ],
         "title": {
          "text": "응답자수"
         },
         "type": "linear"
        }
       }
      },
      "image/png": "[encoded data removed]",
      "text/html": [
       "<div>\n",
       "        \n",
       "        \n",
       "            <div id=\"f7e4bb8c-0015-40f7-bce7-2f6485d37a70\" class=\"plotly-graph-div\" style=\"height:525px; width:100%;\"></div>\n",
       "            <script type=\"text/javascript\">\n",
       "                require([\"plotly\"], function(Plotly) {\n",
       "                    window.PLOTLYENV=window.PLOTLYENV || {};\n",
       "                    window.PLOTLYENV.BASE_URL='https://plot.ly';\n",
       "                    \n",
       "                if (document.getElementById(\"f7e4bb8c-0015-40f7-bce7-2f6485d37a70\")) {\n",
       "                    Plotly.newPlot(\n",
       "                        'f7e4bb8c-0015-40f7-bce7-2f6485d37a70',\n",
       "                        [{\"text\": [8.0, 4.0, 1.0], \"textposition\": \"auto\", \"type\": \"bar\", \"uid\": \"0b7a1b3b-8f86-45ed-8868-ac429a356dd3\", \"x\": [5, 4, 3], \"y\": [8, 4, 1]}],\n",
       "                        {\"title\": {\"text\": \"\\uad6d\\ubcc4\\ubcf4\\uace0/\\uc561\\uc158\\ud50c\\ub79c \\uc138\\uc158\\uc740 \\uc5f0\\uc218\\ub0b4\\uc6a9\\uc744 \\uc774\\ud574\\ud558\\ub294\\ub370 \\ub3c4\\uc6c0\\uc774 \\ub418\\uc5c8\\ub2e4.\"}, \"xaxis\": {\"range\": [0, 6], \"title\": {\"text\": \"\\ub9cc\\uc871\\ub3c4\"}}, \"yaxis\": {\"range\": [0, 10], \"title\": {\"text\": \"\\uc751\\ub2f5\\uc790\\uc218\"}}},\n",
       "                        {\"showLink\": false, \"linkText\": \"Export to plot.ly\", \"plotlyServerURL\": \"https://plot.ly\", \"responsive\": true}\n",
       "                    ).then(function(){\n",
       "                            \n",
       "var gd = document.getElementById('f7e4bb8c-0015-40f7-bce7-2f6485d37a70');\n",
       "var x = new MutationObserver(function (mutations, observer) {{\n",
       "        var display = window.getComputedStyle(gd).display;\n",
       "        if (!display || display === 'none') {{\n",
       "            console.log([gd, 'removed!']);\n",
       "            Plotly.purge(gd);\n",
       "            observer.disconnect();\n",
       "        }}\n",
       "}});\n",
       "\n",
       "// Listen for the removal of the full notebook cells\n",
       "var notebookContainer = gd.closest('#notebook-container');\n",
       "if (notebookContainer) {{\n",
       "    x.observe(notebookContainer, {childList: true});\n",
       "}}\n",
       "\n",
       "// Listen for the clearing of the current output cell\n",
       "var outputEl = gd.closest('.output');\n",
       "if (outputEl) {{\n",
       "    x.observe(outputEl, {childList: true});\n",
       "}}\n",
       "\n",
       "                        })\n",
       "                };\n",
       "                });\n",
       "            </script>\n",
       "        </div>"
      ]
     },
     "metadata": {},
     "output_type": "display_data"
    }
   ],
   "source": [
    "trace = go.Bar(\n",
    "    x = survey.iloc[:,[0,43]]['국별보고/액션플랜 세션은 연수내용을 이해하는데 도움이 되었다.'].value_counts().index,\n",
    "    y = survey.iloc[:,[0,43]]['국별보고/액션플랜 세션은 연수내용을 이해하는데 도움이 되었다.'].value_counts(),\n",
    "    text = survey.iloc[:,[0,43]]['국별보고/액션플랜 세션은 연수내용을 이해하는데 도움이 되었다.'].value_counts(),\n",
    "    textposition = 'auto'\n",
    ")\n",
    "\n",
    "layout = go.Layout(title='국별보고/액션플랜 세션은 연수내용을 이해하는데 도움이 되었다.',\n",
    "                   xaxis=dict(title='만족도', range=[0,6]),\n",
    "                   yaxis=dict(title='응답자수',range=[0,10]))\n",
    "\n",
    "fig = go.Figure(data=[trace], layout=layout)\n",
    "\n",
    "iplot(fig)"
   ]
  },
  {
   "cell_type": "code",
   "execution_count": null,
   "metadata": {},
   "outputs": [],
   "source": []
  },
  {
   "cell_type": "markdown",
   "metadata": {},
   "source": [
    "### 액션플랜 작성은 현장에서 실무능력을 향상시키는데 도움이 되었다."
   ]
  },
  {
   "cell_type": "code",
   "execution_count": null,
   "metadata": {},
   "outputs": [],
   "source": [
    "survey.iloc[:,[0,44]]"
   ]
  },
  {
   "cell_type": "code",
   "execution_count": 80,
   "metadata": {},
   "outputs": [
    {
     "data": {
      "text/html": [
       "<div>\n",
       "<style scoped>\n",
       "    .dataframe tbody tr th:only-of-type {\n",
       "        vertical-align: middle;\n",
       "    }\n",
       "\n",
       "    .dataframe tbody tr th {\n",
       "        vertical-align: top;\n",
       "    }\n",
       "\n",
       "    .dataframe thead th {\n",
       "        text-align: right;\n",
       "    }\n",
       "</style>\n",
       "<table border=\"1\" class=\"dataframe\">\n",
       "  <thead>\n",
       "    <tr style=\"text-align: right;\">\n",
       "      <th></th>\n",
       "      <th>액션플랜 작성은 현장에서 실무능력을 향상시키는데 도움이 되었다.</th>\n",
       "    </tr>\n",
       "  </thead>\n",
       "  <tbody>\n",
       "    <tr>\n",
       "      <th>응답자수</th>\n",
       "      <td>13.00</td>\n",
       "    </tr>\n",
       "    <tr>\n",
       "      <th>평균</th>\n",
       "      <td>4.54</td>\n",
       "    </tr>\n",
       "    <tr>\n",
       "      <th>표준편차</th>\n",
       "      <td>0.78</td>\n",
       "    </tr>\n",
       "  </tbody>\n",
       "</table>\n",
       "</div>"
      ],
      "text/plain": [
       "     액션플랜 작성은 현장에서 실무능력을 향상시키는데 도움이 되었다.\n",
       "응답자수                               13.00\n",
       "평균                                  4.54\n",
       "표준편차                                0.78"
      ]
     },
     "execution_count": 80,
     "metadata": {},
     "output_type": "execute_result"
    }
   ],
   "source": [
    "pd.DataFrame(survey.iloc[:,[0,44]]['액션플랜 작성은 현장에서 실무능력을 향상시키는데 도움이 되었다.'].describe())[:3].rename(\n",
    "index={'count': '응답자수','mean': '평균','std': '표준편차'}).applymap(lambda x: '%.2f' % x)"
   ]
  },
  {
   "cell_type": "code",
   "execution_count": 81,
   "metadata": {},
   "outputs": [
    {
     "data": {
      "application/vnd.plotly.v1+json": {
       "config": {
        "linkText": "Export to plot.ly",
        "plotlyServerURL": "https://plot.ly",
        "showLink": false
       },
       "data": [
        {
         "text": [
          9,
          2,
          2
         ],
         "textposition": "auto",
         "type": "bar",
         "uid": "60a290fe-6b2f-4c64-8e87-929e02e0c0d6",
         "x": [
          5,
          4,
          3
         ],
         "y": [
          9,
          2,
          2
         ]
        }
       ],
       "layout": {
        "autosize": true,
        "title": {
         "text": "액션플랜 작성은 현장에서 실무능력을 향상시키는데 도움이 되었다."
        },
        "xaxis": {
         "range": [
          0,
          6
         ],
         "title": {
          "text": "만족도"
         },
         "type": "linear"
        },
        "yaxis": {
         "range": [
          0,
          10
         ],
         "title": {
          "text": "응답자수"
         },
         "type": "linear"
        }
       }
      },
      "image/png": "[encoded data removed]",
      "text/html": [
       "<div>\n",
       "        \n",
       "        \n",
       "            <div id=\"cddf658a-1aab-4199-9321-49ef99a438c1\" class=\"plotly-graph-div\" style=\"height:525px; width:100%;\"></div>\n",
       "            <script type=\"text/javascript\">\n",
       "                require([\"plotly\"], function(Plotly) {\n",
       "                    window.PLOTLYENV=window.PLOTLYENV || {};\n",
       "                    window.PLOTLYENV.BASE_URL='https://plot.ly';\n",
       "                    \n",
       "                if (document.getElementById(\"cddf658a-1aab-4199-9321-49ef99a438c1\")) {\n",
       "                    Plotly.newPlot(\n",
       "                        'cddf658a-1aab-4199-9321-49ef99a438c1',\n",
       "                        [{\"text\": [9.0, 2.0, 2.0], \"textposition\": \"auto\", \"type\": \"bar\", \"uid\": \"60a290fe-6b2f-4c64-8e87-929e02e0c0d6\", \"x\": [5, 4, 3], \"y\": [9, 2, 2]}],\n",
       "                        {\"title\": {\"text\": \"\\uc561\\uc158\\ud50c\\ub79c \\uc791\\uc131\\uc740 \\ud604\\uc7a5\\uc5d0\\uc11c \\uc2e4\\ubb34\\ub2a5\\ub825\\uc744 \\ud5a5\\uc0c1\\uc2dc\\ud0a4\\ub294\\ub370 \\ub3c4\\uc6c0\\uc774 \\ub418\\uc5c8\\ub2e4.\"}, \"xaxis\": {\"range\": [0, 6], \"title\": {\"text\": \"\\ub9cc\\uc871\\ub3c4\"}}, \"yaxis\": {\"range\": [0, 10], \"title\": {\"text\": \"\\uc751\\ub2f5\\uc790\\uc218\"}}},\n",
       "                        {\"showLink\": false, \"linkText\": \"Export to plot.ly\", \"plotlyServerURL\": \"https://plot.ly\", \"responsive\": true}\n",
       "                    ).then(function(){\n",
       "                            \n",
       "var gd = document.getElementById('cddf658a-1aab-4199-9321-49ef99a438c1');\n",
       "var x = new MutationObserver(function (mutations, observer) {{\n",
       "        var display = window.getComputedStyle(gd).display;\n",
       "        if (!display || display === 'none') {{\n",
       "            console.log([gd, 'removed!']);\n",
       "            Plotly.purge(gd);\n",
       "            observer.disconnect();\n",
       "        }}\n",
       "}});\n",
       "\n",
       "// Listen for the removal of the full notebook cells\n",
       "var notebookContainer = gd.closest('#notebook-container');\n",
       "if (notebookContainer) {{\n",
       "    x.observe(notebookContainer, {childList: true});\n",
       "}}\n",
       "\n",
       "// Listen for the clearing of the current output cell\n",
       "var outputEl = gd.closest('.output');\n",
       "if (outputEl) {{\n",
       "    x.observe(outputEl, {childList: true});\n",
       "}}\n",
       "\n",
       "                        })\n",
       "                };\n",
       "                });\n",
       "            </script>\n",
       "        </div>"
      ]
     },
     "metadata": {},
     "output_type": "display_data"
    }
   ],
   "source": [
    "trace = go.Bar(\n",
    "    x = survey.iloc[:,[0,44]]['액션플랜 작성은 현장에서 실무능력을 향상시키는데 도움이 되었다.'].value_counts().index,\n",
    "    y = survey.iloc[:,[0,44]]['액션플랜 작성은 현장에서 실무능력을 향상시키는데 도움이 되었다.'].value_counts(),\n",
    "    text = survey.iloc[:,[0,44]]['액션플랜 작성은 현장에서 실무능력을 향상시키는데 도움이 되었다.'].value_counts(),\n",
    "    textposition = 'auto'\n",
    ")\n",
    "\n",
    "layout = go.Layout(title='액션플랜 작성은 현장에서 실무능력을 향상시키는데 도움이 되었다.',\n",
    "                   xaxis=dict(title='만족도', range=[0,6]),\n",
    "                   yaxis=dict(title='응답자수',range=[0,10]))\n",
    "\n",
    "fig = go.Figure(data=[trace], layout=layout)\n",
    "\n",
    "iplot(fig)"
   ]
  },
  {
   "cell_type": "code",
   "execution_count": null,
   "metadata": {},
   "outputs": [],
   "source": []
  },
  {
   "cell_type": "markdown",
   "metadata": {},
   "source": [
    "## 연수생만족도 관련 설문항목 분석"
   ]
  },
  {
   "cell_type": "code",
   "execution_count": null,
   "metadata": {},
   "outputs": [],
   "source": [
    "survey2 = eval_all.copy().reset_index()\n",
    "survey2"
   ]
  },
  {
   "cell_type": "code",
   "execution_count": 84,
   "metadata": {},
   "outputs": [
    {
     "data": {
      "text/plain": [
       "Index(['성명', '국가명', '기관', '직책', '근무연수', '생년', '성별_x',\n",
       "       '연수생 선발/추천을 위한 사전준비 기간은 적절하였다', '연수 신청방법 및 교육내용에 대한 구체적인 안내를 받았다.',\n",
       "       '교육전: A교과에 대한 인지 수준',\n",
       "       ...\n",
       "       '국외여행일수4', '국외여행합계', '논문분야', '논문평점', '소속분류', '소속분류2', '소속분류3',\n",
       "       '소속분류_Kor', '소속분류2_Kor', '소속분류3_Kor'],\n",
       "      dtype='object', length=133)"
      ]
     },
     "execution_count": 84,
     "metadata": {},
     "output_type": "execute_result"
    }
   ],
   "source": [
    "survey2.columns"
   ]
  },
  {
   "cell_type": "code",
   "execution_count": 86,
   "metadata": {},
   "outputs": [],
   "source": [
    "survey2 = eval_all.copy().reset_index()[['성명', '연수생 선발/추천을 위한 사전준비 기간은 적절하였다', \n",
    "'연수 신청방법 및 교육내용에 대한 구체적인 안내를 받았다.', '연수과정의 내용은 연수생 현지의 상황과 요구에 맞게 구성되었다.',\n",
    "'연수과정의 내용과 수준은 이해하기 적절하였다.',\n",
    "'연수과정의 교육방법(강의, 실습/토의, 현장학습 등)은 연수내용을 이해하는데 적합하였다.',\n",
    "'연수기관에서는 연수생 국가의 문화나 종교를 배려하기 위해 노력하였다',\n",
    "'연수운영진은 연수과정을 원활하게 운영하였다. (일정관리, 강의준비, 연수생 지원 등)',\n",
    "'연수운영진은 응급상황 등 사건사고에 대해 적절히 대처하였다.', '강의실 및 실습실은 사용하기에 편리하였다.',\n",
    "'연수 편의시설(휴게시설, 식당, 숙박시설 등)은 사용하기에 편리하였다. ',\n",
    "'연수과정에 사용된 교수학습매체는 적절하였다. (교재, 동영상, 실습장비 등)',\n",
    "'강사진은 해당 분야에 대한 실무경험이나 전문성 수준이 높은 인력으로 구성되었다.',\n",
    "'강사는 연수생과 소통하며 교육내용을 체계적이고 능숙하게 전달하였다',\n",
    "'통역사는 이해하기 쉽도록 통역하였다. (2-1에서 ②에 응답한 경우, 응답하지 않으셔도 됩니다)',\n",
    "'국별보고/액션플랜의 주제는 연수과정 목표와 연계되어 있었다.', '국별보고/액션플랜 세션시간은 충분하였다.',\n",
    "'액션플랜 작성 및 발표를 위한 사전안내가 충분히 이루어졌다.',\n",
    "'국별보고/액션플랜 세션 담당자는 피드백을 충분히 제공하였다.',\n",
    "'국별보고/액션플랜 세션은 연수내용을 이해하는데 도움이 되었다.',\n",
    "'액션플랜 작성은 현장에서 실무능력을 향상시키는데 도움이 되었다.']]"
   ]
  },
  {
   "cell_type": "code",
   "execution_count": 94,
   "metadata": {},
   "outputs": [
    {
     "data": {
      "text/html": [
       "<div>\n",
       "<style scoped>\n",
       "    .dataframe tbody tr th:only-of-type {\n",
       "        vertical-align: middle;\n",
       "    }\n",
       "\n",
       "    .dataframe tbody tr th {\n",
       "        vertical-align: top;\n",
       "    }\n",
       "\n",
       "    .dataframe thead th {\n",
       "        text-align: right;\n",
       "    }\n",
       "</style>\n",
       "<table border=\"1\" class=\"dataframe\">\n",
       "  <thead>\n",
       "    <tr style=\"text-align: right;\">\n",
       "      <th></th>\n",
       "      <th>평균값</th>\n",
       "    </tr>\n",
       "  </thead>\n",
       "  <tbody>\n",
       "    <tr>\n",
       "      <th>연수생 선발/추천을 위한 사전준비 기간은 적절하였다</th>\n",
       "      <td>4.69</td>\n",
       "    </tr>\n",
       "    <tr>\n",
       "      <th>연수 신청방법 및 교육내용에 대한 구체적인 안내를 받았다.</th>\n",
       "      <td>4.62</td>\n",
       "    </tr>\n",
       "    <tr>\n",
       "      <th>연수과정의 내용은 연수생 현지의 상황과 요구에 맞게 구성되었다.</th>\n",
       "      <td>4.46</td>\n",
       "    </tr>\n",
       "    <tr>\n",
       "      <th>연수과정의 내용과 수준은 이해하기 적절하였다.</th>\n",
       "      <td>4.62</td>\n",
       "    </tr>\n",
       "    <tr>\n",
       "      <th>연수과정의 교육방법(강의, 실습/토의, 현장학습 등)은 연수내용을 이해하는데 적합하였다.</th>\n",
       "      <td>4.54</td>\n",
       "    </tr>\n",
       "    <tr>\n",
       "      <th>연수기관에서는 연수생 국가의 문화나 종교를 배려하기 위해 노력하였다</th>\n",
       "      <td>4.46</td>\n",
       "    </tr>\n",
       "    <tr>\n",
       "      <th>연수운영진은 연수과정을 원활하게 운영하였다. (일정관리, 강의준비, 연수생 지원 등)</th>\n",
       "      <td>4.46</td>\n",
       "    </tr>\n",
       "    <tr>\n",
       "      <th>연수운영진은 응급상황 등 사건사고에 대해 적절히 대처하였다.</th>\n",
       "      <td>4.54</td>\n",
       "    </tr>\n",
       "    <tr>\n",
       "      <th>강의실 및 실습실은 사용하기에 편리하였다.</th>\n",
       "      <td>4.69</td>\n",
       "    </tr>\n",
       "    <tr>\n",
       "      <th>연수 편의시설(휴게시설, 식당, 숙박시설 등)은 사용하기에 편리하였다.</th>\n",
       "      <td>4.23</td>\n",
       "    </tr>\n",
       "    <tr>\n",
       "      <th>연수과정에 사용된 교수학습매체는 적절하였다. (교재, 동영상, 실습장비 등)</th>\n",
       "      <td>4.69</td>\n",
       "    </tr>\n",
       "    <tr>\n",
       "      <th>강사진은 해당 분야에 대한 실무경험이나 전문성 수준이 높은 인력으로 구성되었다.</th>\n",
       "      <td>4.77</td>\n",
       "    </tr>\n",
       "    <tr>\n",
       "      <th>강사는 연수생과 소통하며 교육내용을 체계적이고 능숙하게 전달하였다</th>\n",
       "      <td>4.69</td>\n",
       "    </tr>\n",
       "    <tr>\n",
       "      <th>통역사는 이해하기 쉽도록 통역하였다. (2-1에서 ②에 응답한 경우, 응답하지 않으셔도 됩니다)</th>\n",
       "      <td>4.64</td>\n",
       "    </tr>\n",
       "    <tr>\n",
       "      <th>국별보고/액션플랜의 주제는 연수과정 목표와 연계되어 있었다.</th>\n",
       "      <td>4.38</td>\n",
       "    </tr>\n",
       "    <tr>\n",
       "      <th>국별보고/액션플랜 세션시간은 충분하였다.</th>\n",
       "      <td>3.62</td>\n",
       "    </tr>\n",
       "    <tr>\n",
       "      <th>액션플랜 작성 및 발표를 위한 사전안내가 충분히 이루어졌다.</th>\n",
       "      <td>4.08</td>\n",
       "    </tr>\n",
       "    <tr>\n",
       "      <th>국별보고/액션플랜 세션 담당자는 피드백을 충분히 제공하였다.</th>\n",
       "      <td>4.54</td>\n",
       "    </tr>\n",
       "    <tr>\n",
       "      <th>국별보고/액션플랜 세션은 연수내용을 이해하는데 도움이 되었다.</th>\n",
       "      <td>4.54</td>\n",
       "    </tr>\n",
       "    <tr>\n",
       "      <th>액션플랜 작성은 현장에서 실무능력을 향상시키는데 도움이 되었다.</th>\n",
       "      <td>4.54</td>\n",
       "    </tr>\n",
       "  </tbody>\n",
       "</table>\n",
       "</div>"
      ],
      "text/plain": [
       "                                                     평균값\n",
       "연수생 선발/추천을 위한 사전준비 기간은 적절하였다                        4.69\n",
       "연수 신청방법 및 교육내용에 대한 구체적인 안내를 받았다.                    4.62\n",
       "연수과정의 내용은 연수생 현지의 상황과 요구에 맞게 구성되었다.                 4.46\n",
       "연수과정의 내용과 수준은 이해하기 적절하였다.                           4.62\n",
       "연수과정의 교육방법(강의, 실습/토의, 현장학습 등)은 연수내용을 이해하는데 적합하였다.   4.54\n",
       "연수기관에서는 연수생 국가의 문화나 종교를 배려하기 위해 노력하였다               4.46\n",
       "연수운영진은 연수과정을 원활하게 운영하였다. (일정관리, 강의준비, 연수생 지원 등)     4.46\n",
       "연수운영진은 응급상황 등 사건사고에 대해 적절히 대처하였다.                   4.54\n",
       "강의실 및 실습실은 사용하기에 편리하였다.                             4.69\n",
       "연수 편의시설(휴게시설, 식당, 숙박시설 등)은 사용하기에 편리하였다.             4.23\n",
       "연수과정에 사용된 교수학습매체는 적절하였다. (교재, 동영상, 실습장비 등)          4.69\n",
       "강사진은 해당 분야에 대한 실무경험이나 전문성 수준이 높은 인력으로 구성되었다.        4.77\n",
       "강사는 연수생과 소통하며 교육내용을 체계적이고 능숙하게 전달하였다                4.69\n",
       "통역사는 이해하기 쉽도록 통역하였다. (2-1에서 ②에 응답한 경우, 응답하지 않으셔...  4.64\n",
       "국별보고/액션플랜의 주제는 연수과정 목표와 연계되어 있었다.                   4.38\n",
       "국별보고/액션플랜 세션시간은 충분하였다.                              3.62\n",
       "액션플랜 작성 및 발표를 위한 사전안내가 충분히 이루어졌다.                   4.08\n",
       "국별보고/액션플랜 세션 담당자는 피드백을 충분히 제공하였다.                   4.54\n",
       "국별보고/액션플랜 세션은 연수내용을 이해하는데 도움이 되었다.                  4.54\n",
       "액션플랜 작성은 현장에서 실무능력을 향상시키는데 도움이 되었다.                 4.54"
      ]
     },
     "execution_count": 94,
     "metadata": {},
     "output_type": "execute_result"
    }
   ],
   "source": [
    "survey_mean = survey2.describe().rename(index={'mean': '평균값'}).T.drop(['count','std','min','25%','50%','75%','max'],axis=1)\n",
    "survey_mean.applymap(lambda x: '%.2f'% x) "
   ]
  },
  {
   "cell_type": "code",
   "execution_count": 89,
   "metadata": {},
   "outputs": [],
   "source": [
    "# 칼럼 만들기 방법 1\n",
    "\n",
    "a = '신청 및 연수생 선발 안내'\n",
    "b = '연수과정의 운영 적절성 및 만족도'\n",
    "c = '교재 및 강사 만족도'\n",
    "d = '국별보고 및 액션플랜 세션 적절성'"
   ]
  },
  {
   "cell_type": "code",
   "execution_count": 91,
   "metadata": {},
   "outputs": [
    {
     "data": {
      "text/plain": [
       "['신청 및 연수생 선발 안내',\n",
       " '신청 및 연수생 선발 안내',\n",
       " '연수과정의 운영 적절성 및 만족도',\n",
       " '연수과정의 운영 적절성 및 만족도',\n",
       " '연수과정의 운영 적절성 및 만족도',\n",
       " '연수과정의 운영 적절성 및 만족도',\n",
       " '연수과정의 운영 적절성 및 만족도',\n",
       " '연수과정의 운영 적절성 및 만족도',\n",
       " '연수과정의 운영 적절성 및 만족도',\n",
       " '연수과정의 운영 적절성 및 만족도',\n",
       " '교재 및 강사 만족도',\n",
       " '교재 및 강사 만족도',\n",
       " '교재 및 강사 만족도',\n",
       " '교재 및 강사 만족도',\n",
       " '국별보고 및 액션플랜 세션 적절성',\n",
       " '국별보고 및 액션플랜 세션 적절성',\n",
       " '국별보고 및 액션플랜 세션 적절성',\n",
       " '국별보고 및 액션플랜 세션 적절성',\n",
       " '국별보고 및 액션플랜 세션 적절성',\n",
       " '국별보고 및 액션플랜 세션 적절성']"
      ]
     },
     "execution_count": 91,
     "metadata": {},
     "output_type": "execute_result"
    }
   ],
   "source": [
    "e = (((a[:] + \",\") * 2) + ((b[:] + \",\") * 8) + ((c[:] + \",\") * 4) + ((d[:] + \",\") * 6)).split(',')\n",
    "del(e[20])\n",
    "e"
   ]
  },
  {
   "cell_type": "markdown",
   "metadata": {},
   "source": [
    "### 연수생만족도 항목별 평균값"
   ]
  },
  {
   "cell_type": "code",
   "execution_count": 95,
   "metadata": {},
   "outputs": [
    {
     "ename": "ValueError",
     "evalue": "Length of values does not match length of index",
     "output_type": "error",
     "traceback": [
      "\u001b[1;31m---------------------------------------------------------------------------\u001b[0m",
      "\u001b[1;31mValueError\u001b[0m                                Traceback (most recent call last)",
      "\u001b[1;32m<ipython-input-95-69d876624dd0>\u001b[0m in \u001b[0;36m<module>\u001b[1;34m\u001b[0m\n\u001b[1;32m----> 1\u001b[1;33m \u001b[0msurvey_mean\u001b[0m\u001b[1;33m[\u001b[0m\u001b[1;34m'그룹'\u001b[0m\u001b[1;33m]\u001b[0m \u001b[1;33m=\u001b[0m \u001b[0me\u001b[0m\u001b[1;33m\u001b[0m\u001b[1;33m\u001b[0m\u001b[0m\n\u001b[0m\u001b[0;32m      2\u001b[0m \u001b[0msurvey_mean\u001b[0m\u001b[1;33m\u001b[0m\u001b[1;33m\u001b[0m\u001b[0m\n",
      "\u001b[1;32mC:\\Anaconda3\\lib\\site-packages\\pandas\\core\\frame.py\u001b[0m in \u001b[0;36m__setitem__\u001b[1;34m(self, key, value)\u001b[0m\n\u001b[0;32m   3368\u001b[0m         \u001b[1;32melse\u001b[0m\u001b[1;33m:\u001b[0m\u001b[1;33m\u001b[0m\u001b[1;33m\u001b[0m\u001b[0m\n\u001b[0;32m   3369\u001b[0m             \u001b[1;31m# set column\u001b[0m\u001b[1;33m\u001b[0m\u001b[1;33m\u001b[0m\u001b[1;33m\u001b[0m\u001b[0m\n\u001b[1;32m-> 3370\u001b[1;33m             \u001b[0mself\u001b[0m\u001b[1;33m.\u001b[0m\u001b[0m_set_item\u001b[0m\u001b[1;33m(\u001b[0m\u001b[0mkey\u001b[0m\u001b[1;33m,\u001b[0m \u001b[0mvalue\u001b[0m\u001b[1;33m)\u001b[0m\u001b[1;33m\u001b[0m\u001b[1;33m\u001b[0m\u001b[0m\n\u001b[0m\u001b[0;32m   3371\u001b[0m \u001b[1;33m\u001b[0m\u001b[0m\n\u001b[0;32m   3372\u001b[0m     \u001b[1;32mdef\u001b[0m \u001b[0m_setitem_slice\u001b[0m\u001b[1;33m(\u001b[0m\u001b[0mself\u001b[0m\u001b[1;33m,\u001b[0m \u001b[0mkey\u001b[0m\u001b[1;33m,\u001b[0m \u001b[0mvalue\u001b[0m\u001b[1;33m)\u001b[0m\u001b[1;33m:\u001b[0m\u001b[1;33m\u001b[0m\u001b[1;33m\u001b[0m\u001b[0m\n",
      "\u001b[1;32mC:\\Anaconda3\\lib\\site-packages\\pandas\\core\\frame.py\u001b[0m in \u001b[0;36m_set_item\u001b[1;34m(self, key, value)\u001b[0m\n\u001b[0;32m   3443\u001b[0m \u001b[1;33m\u001b[0m\u001b[0m\n\u001b[0;32m   3444\u001b[0m         \u001b[0mself\u001b[0m\u001b[1;33m.\u001b[0m\u001b[0m_ensure_valid_index\u001b[0m\u001b[1;33m(\u001b[0m\u001b[0mvalue\u001b[0m\u001b[1;33m)\u001b[0m\u001b[1;33m\u001b[0m\u001b[1;33m\u001b[0m\u001b[0m\n\u001b[1;32m-> 3445\u001b[1;33m         \u001b[0mvalue\u001b[0m \u001b[1;33m=\u001b[0m \u001b[0mself\u001b[0m\u001b[1;33m.\u001b[0m\u001b[0m_sanitize_column\u001b[0m\u001b[1;33m(\u001b[0m\u001b[0mkey\u001b[0m\u001b[1;33m,\u001b[0m \u001b[0mvalue\u001b[0m\u001b[1;33m)\u001b[0m\u001b[1;33m\u001b[0m\u001b[1;33m\u001b[0m\u001b[0m\n\u001b[0m\u001b[0;32m   3446\u001b[0m         \u001b[0mNDFrame\u001b[0m\u001b[1;33m.\u001b[0m\u001b[0m_set_item\u001b[0m\u001b[1;33m(\u001b[0m\u001b[0mself\u001b[0m\u001b[1;33m,\u001b[0m \u001b[0mkey\u001b[0m\u001b[1;33m,\u001b[0m \u001b[0mvalue\u001b[0m\u001b[1;33m)\u001b[0m\u001b[1;33m\u001b[0m\u001b[1;33m\u001b[0m\u001b[0m\n\u001b[0;32m   3447\u001b[0m \u001b[1;33m\u001b[0m\u001b[0m\n",
      "\u001b[1;32mC:\\Anaconda3\\lib\\site-packages\\pandas\\core\\frame.py\u001b[0m in \u001b[0;36m_sanitize_column\u001b[1;34m(self, key, value, broadcast)\u001b[0m\n\u001b[0;32m   3628\u001b[0m \u001b[1;33m\u001b[0m\u001b[0m\n\u001b[0;32m   3629\u001b[0m             \u001b[1;31m# turn me into an ndarray\u001b[0m\u001b[1;33m\u001b[0m\u001b[1;33m\u001b[0m\u001b[1;33m\u001b[0m\u001b[0m\n\u001b[1;32m-> 3630\u001b[1;33m             \u001b[0mvalue\u001b[0m \u001b[1;33m=\u001b[0m \u001b[0msanitize_index\u001b[0m\u001b[1;33m(\u001b[0m\u001b[0mvalue\u001b[0m\u001b[1;33m,\u001b[0m \u001b[0mself\u001b[0m\u001b[1;33m.\u001b[0m\u001b[0mindex\u001b[0m\u001b[1;33m,\u001b[0m \u001b[0mcopy\u001b[0m\u001b[1;33m=\u001b[0m\u001b[1;32mFalse\u001b[0m\u001b[1;33m)\u001b[0m\u001b[1;33m\u001b[0m\u001b[1;33m\u001b[0m\u001b[0m\n\u001b[0m\u001b[0;32m   3631\u001b[0m             \u001b[1;32mif\u001b[0m \u001b[1;32mnot\u001b[0m \u001b[0misinstance\u001b[0m\u001b[1;33m(\u001b[0m\u001b[0mvalue\u001b[0m\u001b[1;33m,\u001b[0m \u001b[1;33m(\u001b[0m\u001b[0mnp\u001b[0m\u001b[1;33m.\u001b[0m\u001b[0mndarray\u001b[0m\u001b[1;33m,\u001b[0m \u001b[0mIndex\u001b[0m\u001b[1;33m)\u001b[0m\u001b[1;33m)\u001b[0m\u001b[1;33m:\u001b[0m\u001b[1;33m\u001b[0m\u001b[1;33m\u001b[0m\u001b[0m\n\u001b[0;32m   3632\u001b[0m                 \u001b[1;32mif\u001b[0m \u001b[0misinstance\u001b[0m\u001b[1;33m(\u001b[0m\u001b[0mvalue\u001b[0m\u001b[1;33m,\u001b[0m \u001b[0mlist\u001b[0m\u001b[1;33m)\u001b[0m \u001b[1;32mand\u001b[0m \u001b[0mlen\u001b[0m\u001b[1;33m(\u001b[0m\u001b[0mvalue\u001b[0m\u001b[1;33m)\u001b[0m \u001b[1;33m>\u001b[0m \u001b[1;36m0\u001b[0m\u001b[1;33m:\u001b[0m\u001b[1;33m\u001b[0m\u001b[1;33m\u001b[0m\u001b[0m\n",
      "\u001b[1;32mC:\\Anaconda3\\lib\\site-packages\\pandas\\core\\internals\\construction.py\u001b[0m in \u001b[0;36msanitize_index\u001b[1;34m(data, index, copy)\u001b[0m\n\u001b[0;32m    517\u001b[0m \u001b[1;33m\u001b[0m\u001b[0m\n\u001b[0;32m    518\u001b[0m     \u001b[1;32mif\u001b[0m \u001b[0mlen\u001b[0m\u001b[1;33m(\u001b[0m\u001b[0mdata\u001b[0m\u001b[1;33m)\u001b[0m \u001b[1;33m!=\u001b[0m \u001b[0mlen\u001b[0m\u001b[1;33m(\u001b[0m\u001b[0mindex\u001b[0m\u001b[1;33m)\u001b[0m\u001b[1;33m:\u001b[0m\u001b[1;33m\u001b[0m\u001b[1;33m\u001b[0m\u001b[0m\n\u001b[1;32m--> 519\u001b[1;33m         \u001b[1;32mraise\u001b[0m \u001b[0mValueError\u001b[0m\u001b[1;33m(\u001b[0m\u001b[1;34m'Length of values does not match length of index'\u001b[0m\u001b[1;33m)\u001b[0m\u001b[1;33m\u001b[0m\u001b[1;33m\u001b[0m\u001b[0m\n\u001b[0m\u001b[0;32m    520\u001b[0m \u001b[1;33m\u001b[0m\u001b[0m\n\u001b[0;32m    521\u001b[0m     \u001b[1;32mif\u001b[0m \u001b[0misinstance\u001b[0m\u001b[1;33m(\u001b[0m\u001b[0mdata\u001b[0m\u001b[1;33m,\u001b[0m \u001b[0mABCIndexClass\u001b[0m\u001b[1;33m)\u001b[0m \u001b[1;32mand\u001b[0m \u001b[1;32mnot\u001b[0m \u001b[0mcopy\u001b[0m\u001b[1;33m:\u001b[0m\u001b[1;33m\u001b[0m\u001b[1;33m\u001b[0m\u001b[0m\n",
      "\u001b[1;31mValueError\u001b[0m: Length of values does not match length of index"
     ]
    }
   ],
   "source": [
    "survey_mean['그룹'] = e\n",
    "survey_mean"
   ]
  },
  {
   "cell_type": "markdown",
   "metadata": {},
   "source": [
    "### 연수생만족도 주제 항목별 평균값(인덱스를 1-20으로 변경)"
   ]
  },
  {
   "cell_type": "code",
   "execution_count": null,
   "metadata": {},
   "outputs": [],
   "source": [
    "survey_group_index = \\\n",
    "survey_group.sort_values('평균값', ascending=False).reset_index()\n",
    "new_list = np.arange(1, 21)\n",
    "survey_group_index.set_index(new_list).rename(columns={'index': '구분'})"
   ]
  },
  {
   "cell_type": "markdown",
   "metadata": {},
   "source": [
    "### 연수생만족도 주제 그룹 평균값"
   ]
  },
  {
   "cell_type": "code",
   "execution_count": null,
   "metadata": {},
   "outputs": [],
   "source": [
    "# 주제별 만족도 그래프를 그리기 위한 인덱스 리셋\n",
    "survey_group_graph = \\\n",
    "survey_group.sort_values('평균값', ascending=False).reset_index()"
   ]
  },
  {
   "cell_type": "code",
   "execution_count": null,
   "metadata": {},
   "outputs": [],
   "source": [
    "plt.figure(figsize=(14, 8))\n",
    "plt.title('문항별 평균값', position=(0.5,1.02), fontsize=20)\n",
    "plt.xlabel('평균값', fontsize=18)\n",
    "plt.ylabel('문항', fontsize=18)\n",
    "plt.xticks(np.arange(0,5.25,0.25), fontsize=15)\n",
    "plt.yticks(fontsize=17)\n",
    "plt.grid()\n",
    "plt.show(sns.barplot('평균값',y='그룹', palette=\"Blues_d\", data =survey_group_graph))\n",
    "\n",
    "\n",
    "# plt.figure(figsize=(16, 10))\n",
    "# x = survey_group_graph['평균값']\n",
    "# y = survey_group_graph['index']\n",
    "\n",
    "# plt.barh(y, x, align='center')\n",
    "# plt.title('문항별 평균값', position=(0.5,1.02), fontsize=20)\n",
    "# plt.xlabel('평균값', fontsize=18)\n",
    "# plt.ylabel('문항', fontsize=18)\n",
    "# plt.xticks(np.arange(0,5.25,0.25), fontsize=15)\n",
    "# plt.yticks(fontsize=15)\n",
    "# plt.show()"
   ]
  },
  {
   "cell_type": "code",
   "execution_count": null,
   "metadata": {},
   "outputs": [],
   "source": [
    "survey_group.groupby('그룹')[['평균값']].mean().sort_values('평균값',ascending=False)"
   ]
  },
  {
   "cell_type": "markdown",
   "metadata": {},
   "source": [
    "### 연수생만족도 주제 그룹 평균값(사전준비 및 운영시간 관련 항목 제외)"
   ]
  },
  {
   "cell_type": "code",
   "execution_count": null,
   "metadata": {},
   "outputs": [],
   "source": [
    "survey_grouped = \\\n",
    "survey_group.drop(['국별보고/액션플랜 세션시간은 충분하였다.', \n",
    "'액션플랜 작성 및 발표를 위한 사전안내가 충분히 이루어졌다.']).groupby('그룹')[['평균값']].mean()"
   ]
  },
  {
   "cell_type": "code",
   "execution_count": null,
   "metadata": {},
   "outputs": [],
   "source": [
    "survey_grouped.sort_values('평균값',ascending=False)"
   ]
  },
  {
   "cell_type": "markdown",
   "metadata": {},
   "source": [
    "변경이 가능한(mutable) 자료형이라 삽입, 삭제, 정렬이 가능\n",
    "\n",
    "\n",
    "\n",
    "L = [i*i for i in range(10)]\n",
    "\n",
    "L = [i for i in L if i % 3 == 0]\n",
    "\n",
    "List Comprehensions 방식으로 리스트를 만들 수 있다.\n",
    "\n",
    "(파이썬의 신기하고 편리한 기능)\n",
    "\n",
    "\n",
    "\n",
    "5 in L\n",
    "\n",
    "in, not in 을 사용하여 리스트에 값이 포함되어 있는지 확인 (결과 True, False)\n",
    "\n",
    "\n",
    "\n",
    "L = [1, 2, 3, 4, 5]\n",
    "\n",
    "del(L[2]) # 리스트 특정 인덱스 내용을 삭제\n",
    "\n",
    "del(L) # 리스트 자체를 삭제\n",
    "\n",
    "del함수를 사용하여 리스트를 삭제"
   ]
  },
  {
   "cell_type": "markdown",
   "metadata": {},
   "source": [
    "## 교육전후 교과별 '인지 수준 - 기술 수준 - 태도 수준' 변화 분석"
   ]
  },
  {
   "cell_type": "code",
   "execution_count": null,
   "metadata": {
    "scrolled": true
   },
   "outputs": [],
   "source": [
    "eval_all.reset_index(inplace=True)\n",
    "eval_all.head()"
   ]
  },
  {
   "cell_type": "code",
   "execution_count": null,
   "metadata": {},
   "outputs": [],
   "source": [
    "eval_all_pre_post = eval_all[['성명','교육전: A교과에 대한 인지 수준','교육후: A교과에 대한 인지 수준',\n",
    "       '교육전: A교과에 대한 기술 수준', '교육후: A교과에 대한 기술 수준',\n",
    "       '교육전: A교과에 대한 태도 수준','교육후: A교과에 대한 태도 수준',\n",
    "       '교육전: B교과에 대한 인지 수준', '교육후: B교과에 대한 인지 수준',\n",
    "       '교육전: B교과에 대한 기술 수준','교육후: B교과에 대한 기술 수준',\n",
    "       '교육전: B교과에 대한 태도 수준','교육후: B교과에 대한 태도 수준',\n",
    "       '교육전: C교과에 대한 인지 수준', '교육후: C교과에 대한 인지 수준',\n",
    "       '교육전: C교과에 대한 기술 수준','교육후: C교과에 대한 기술 수준',\n",
    "       '교육전: C교과에 대한 태도 수준', '교육후: C교과에 대한 태도 수준']]\n",
    "\n",
    "#  = eval_all_pre_post = pd.concat([eval_all_pre, eval_all_post.iloc[:, 1: ]],axis=1)\n",
    "\n",
    "eval_all_post = eval_all[['성명','교육후: A교과에 대한 인지 수준',\n",
    "       '교육후: A교과에 대한 기술 수준', '교육후: A교과에 대한 태도 수준',\n",
    "       '교육후: B교과에 대한 인지 수준','교육후: B교과에 대한 기술 수준',\n",
    "       '교육후: B교과에 대한 태도 수준','교육후: C교과에 대한 인지 수준',\n",
    "       '교육후: C교과에 대한 기술 수준','교육후: C교과에 대한 태도 수준']]\n",
    "eval_all_pre = eval_all[['성명','교육전: A교과에 대한 인지 수준',\n",
    "       '교육전: A교과에 대한 기술 수준', '교육전: A교과에 대한 태도 수준',\n",
    "       '교육전: B교과에 대한 인지 수준','교육전: B교과에 대한 기술 수준',\n",
    "       '교육전: B교과에 대한 태도 수준','교육전: C교과에 대한 인지 수준',\n",
    "       '교육전: C교과에 대한 기술 수준','교육전: C교과에 대한 태도 수준']]"
   ]
  },
  {
   "cell_type": "markdown",
   "metadata": {},
   "source": [
    "* A교과: Understanding Public-Private Partnership and Its Applicability to Developing Countries (PPP와 개도국에 대한 PPP적용방법에 대한 이해)\n",
    "* B교과: Applicable Water Quality Improvement Technique for Developing Countries (개도국을 위한 적용가능한 수질개선기술)\n",
    "* C교과: Developing a Media City and Road and Traffic Facility for Developing Countries (개도국을 위한 미디어시티, 도로, 교통시설 개발)"
   ]
  },
  {
   "cell_type": "code",
   "execution_count": null,
   "metadata": {},
   "outputs": [],
   "source": [
    "# 평균 계산을 위해 object를 float64로 변경\n",
    "eval_all_pre_post['교육전: A교과에 대한 인지 수준'] = eval_all_pre_post['교육전: A교과에 대한 인지 수준'].astype('float64')\n",
    "eval_all_pre_post['교육전: B교과에 대한 인지 수준'] = eval_all_pre_post['교육전: B교과에 대한 인지 수준'].astype('float64')\n",
    "eval_all_pre_post['교육전: C교과에 대한 인지 수준'] = eval_all_pre_post['교육전: C교과에 대한 인지 수준'].astype('float64')\n",
    "eval_all_pre_post['교육후: A교과에 대한 인지 수준'] = eval_all_pre_post['교육후: A교과에 대한 인지 수준'].astype('float64')\n",
    "eval_all_pre_post['교육후: B교과에 대한 인지 수준'] = eval_all_pre_post['교육후: B교과에 대한 인지 수준'].astype('float64')\n",
    "eval_all_pre_post['교육후: C교과에 대한 인지 수준'] = eval_all_pre_post['교육후: C교과에 대한 인지 수준'].astype('float64')\n",
    "\n",
    "eval_all_pre_post['교육전: A교과에 대한 기술 수준'] = eval_all_pre_post['교육전: A교과에 대한 기술 수준'].astype('float64')\n",
    "eval_all_pre_post['교육전: B교과에 대한 기술 수준'] = eval_all_pre_post['교육전: B교과에 대한 기술 수준'].astype('float64')\n",
    "eval_all_pre_post['교육전: C교과에 대한 기술 수준'] = eval_all_pre_post['교육전: C교과에 대한 기술 수준'].astype('float64')\n",
    "eval_all_pre_post['교육후: A교과에 대한 기술 수준'] = eval_all_pre_post['교육후: A교과에 대한 기술 수준'].astype('float64')\n",
    "eval_all_pre_post['교육후: B교과에 대한 기술 수준'] = eval_all_pre_post['교육후: B교과에 대한 기술 수준'].astype('float64')\n",
    "eval_all_pre_post['교육후: C교과에 대한 기술 수준'] = eval_all_pre_post['교육후: C교과에 대한 기술 수준'].astype('float64')\n",
    "\n",
    "eval_all_pre_post['교육전: A교과에 대한 태도 수준'] = eval_all_pre_post['교육전: A교과에 대한 태도 수준'].astype('float64')\n",
    "eval_all_pre_post['교육전: B교과에 대한 태도 수준'] = eval_all_pre_post['교육전: B교과에 대한 태도 수준'].astype('float64')\n",
    "eval_all_pre_post['교육전: C교과에 대한 태도 수준'] = eval_all_pre_post['교육전: C교과에 대한 태도 수준'].astype('float64')\n",
    "eval_all_pre_post['교육후: A교과에 대한 태도 수준'] = eval_all_pre_post['교육후: A교과에 대한 태도 수준'].astype('float64')\n",
    "eval_all_pre_post['교육후: B교과에 대한 태도 수준'] = eval_all_pre_post['교육후: B교과에 대한 태도 수준'].astype('float64')\n",
    "eval_all_pre_post['교육후: C교과에 대한 태도 수준'] = eval_all_pre_post['교육후: C교과에 대한 태도 수준'].astype('float64')"
   ]
  },
  {
   "cell_type": "code",
   "execution_count": null,
   "metadata": {},
   "outputs": [],
   "source": [
    "eval_all_pre_post = eval_all_pre_post.append(eval_all_pre_post.mean(skipna=True, axis=0), ignore_index=True)\n",
    "eval_all_pre_post.loc[13,'성명'] = ['평균']\n",
    "eval_all_pre_post = eval_all_pre_post.set_index('성명').filter(like='교육후', axis=1)\n",
    "eval_all_pre_post"
   ]
  },
  {
   "cell_type": "code",
   "execution_count": null,
   "metadata": {},
   "outputs": [],
   "source": [
    "eval_all_post_graph = eval_all_pre_post.rename(columns={'교육후: A교과에 대한 인지 수준':'A교과에 대한 인지 수준', '교육후: A교과에 대한 기술 수준':'A교과에 대한 기술 수준', '교육후: A교과에 대한 태도 수준':'A교과에 대한 태도 수준',\n",
    "                                                         '교육후: B교과에 대한 인지 수준':'B교과에 대한 인지 수준', '교육후: B교과에 대한 기술 수준':'B교과에 대한 기술 수준', '교육후: B교과에 대한 태도 수준':'B교과에 대한 태도 수준',\n",
    "                                                         '교육후: C교과에 대한 인지 수준':'C교과에 대한 인지 수준', '교육후: C교과에 대한 기술 수준':'C교과에 대한 기술 수준', '교육후: C교과에 대한 태도 수준':'C교과에 대한 태도 수준'})\n",
    "eval_all_post_graph"
   ]
  },
  {
   "cell_type": "code",
   "execution_count": null,
   "metadata": {},
   "outputs": [],
   "source": [
    "# eval_all_post_graph 칼럼 순서 변경\n",
    "eval_all_post_graph = pd.DataFrame(eval_all_post_graph,columns=['A교과에 대한 인지 수준', 'B교과에 대한 인지 수준', 'C교과에 대한 인지 수준',\n",
    "                                                              'A교과에 대한 기술 수준', 'B교과에 대한 기술 수준', 'C교과에 대한 기술 수준',\n",
    "                                                              'A교과에 대한 태도 수준', 'B교과에 대한 태도 수준', 'C교과에 대한 태도 수준'])\n",
    "eval_all_post_graph"
   ]
  },
  {
   "cell_type": "code",
   "execution_count": null,
   "metadata": {},
   "outputs": [],
   "source": [
    "# eval_all_post_graph 에서 특이값 Dana PHAL 제외 시 평균 결과\n",
    "eval_all_post_remove_outlier = eval_all_post_graph.drop(eval_all_post_graph.index[[2,13]])\n",
    "pd.DataFrame(eval_all_post_remove_outlier.mean(), columns=['평균']).T\n",
    "# .drop(eval_all_post_graph.index[[0,2,3,4,5,6,7]])"
   ]
  },
  {
   "cell_type": "code",
   "execution_count": null,
   "metadata": {},
   "outputs": [],
   "source": [
    "plt.figure(figsize=(16, 10))\n",
    "\n",
    "index=np.arange(len(eval_all_post_graph.loc['평균',:]))\n",
    "plt.barh(eval_all_post_graph.columns, eval_all_post_graph.loc['평균',:], align='center')\n",
    "plt.title(\"교육후 교과별 '인지-기술-태도' 수준 평균\",position=(0.5,1.02), fontsize=20)\n",
    "plt.ylabel(\"교과별 '인지-기술-태도' 수준\", fontsize=18)\n",
    "plt.xlabel('수준 측정값', fontsize=18)\n",
    "plt.xticks(np.arange(0,5.25,0.25), fontsize=15)\n",
    "plt.yticks(fontsize=15)\n",
    "plt.grid(True)\n",
    " \n",
    "plt.show()"
   ]
  },
  {
   "cell_type": "markdown",
   "metadata": {},
   "source": [
    "### 'PPP와 개도국에 대한 PPP적용방법에 대한 이해 (A교과)'에 대한 참가자별 '인지 - 기술 - 태도' 수준 변화"
   ]
  },
  {
   "cell_type": "markdown",
   "metadata": {},
   "source": [
    "#### A교과에 대한 인지 수준 변화"
   ]
  },
  {
   "cell_type": "code",
   "execution_count": null,
   "metadata": {},
   "outputs": [],
   "source": [
    "# '교육전 전반적 이해 수준 변화 수준의 오름차순'으로 정렬 된 '교육전후 전반적 이해 수준 변화 수준'과 'Name'열로 된 DataFrame으로  \n",
    "# 각각 'Name'  '교육전 전반적 이해 수준 변화 수준' 데이터프레임을 .concat한 후 이를 오름차순. 그 후 reset_index\n",
    "\n",
    "df_cog_a = pd.concat([eval_all['성명'],\n",
    "                           eval_all['교육후: A교과에 대한 인지 수준'],\n",
    "                           eval_all['교육전: A교과에 대한 인지 수준']\n",
    "                          ],axis=1)\n",
    "\n",
    "df_cog_a['교육전후 A교과에 대한 인지 수준 변화'] = \\\n",
    "                           eval_all['교육후: A교과에 대한 인지 수준'] - \\\n",
    "                           eval_all[\"교육전: A교과에 대한 인지 수준\"]\n",
    "\n",
    "df_cog_a_bef_af_gap = df_cog_a.sort_values(by='교육전후 A교과에 대한 인지 수준 변화',\n",
    "                            ascending=True).reset_index(drop='index')\n",
    "\n",
    "df_cog_a_bef_af_gap"
   ]
  },
  {
   "cell_type": "code",
   "execution_count": null,
   "metadata": {},
   "outputs": [],
   "source": [
    "plt.figure(figsize=(16, 10))\n",
    "# height = 0.35\n",
    "index=np.arange(len(df_cog_a_bef_af_gap))\n",
    "p1 = plt.barh(index, df_cog_a_bef_af_gap[\"교육전: A교과에 대한 인지 수준\"],  \n",
    "              align='center', label='Pre-Training')\n",
    "p2 = plt.barh(index, df_cog_a_bef_af_gap['교육후: A교과에 대한 인지 수준'],  \n",
    "              align='center', label='Post-Training', left=df_cog_a_bef_af_gap[\"교육전: A교과에 대한 인지 수준\"])\n",
    "\n",
    "plt.title('교육전후 A교과에 대한 인지 수준\\n(A교과: PPP와 개도국에 대한 PPP적용방법에 대한 이해)',\n",
    "          position=(0.5,1.02), fontsize=20)\n",
    "plt.ylabel('성명', fontsize=18)\n",
    "plt.xlabel('인지 수준', fontsize=18)\n",
    "plt.xticks(fontsize=15)\n",
    "plt.yticks(index, df_cog_a_bef_af_gap['성명'], fontsize=15)\n",
    "plt.legend((p1[0], p2[0]), ('Pre-Training', 'Post-Training'), fontsize=18)\n",
    "plt.show()\n",
    "\n",
    "# for i, rect in enumerate(p1):\n",
    "#     plt.text(0.95 * rect.get_width(), rect.get_y() + rect.get_height() / 2.0,\n",
    "#          str(df_cog_a_bef_af_gap[\"교육전: A교과에 대한 인지 수준 변화\"][i]),\n",
    "#          fontsize=15, color='w', ha='right', va='center')"
   ]
  },
  {
   "cell_type": "code",
   "execution_count": null,
   "metadata": {},
   "outputs": [],
   "source": [
    "plt.figure(figsize=(16, 10))\n",
    "# height = 0.35\n",
    "index=np.arange(len(df_cog_a_bef_af_gap))\n",
    "plt.barh(index, df_cog_a_bef_af_gap['교육전후 A교과에 대한 인지 수준 변화'], align='center', label='교육후 인지 수준 - 교육전 인지 수준')\n",
    "plt.title('교육전후 A교과에 대한 인지 수준 변화 측정 \\n(A교과: PPP와 개도국에 대한 PPP적용방법에 대한 이해)',\n",
    "          position=(0.5,1.02), fontsize=20)\n",
    "plt.ylabel('성명', fontsize=18)\n",
    "plt.xlabel('인지 수준 변화 측정값', fontsize=18)\n",
    "plt.xticks(fontsize=15)\n",
    "plt.yticks(index, df_cog_a_bef_af_gap['성명'], fontsize=15)\n",
    "plt.legend(fontsize=18)\n",
    "# for i, rect in enumerate(p1):\n",
    "#     plt.text(0.95 * rect.get_width(), rect.get_y() + rect.get_height() / 2.0,\n",
    "#          str(df_cog_a_bef_af_gap[\"교육전: A교과에 대한 인지 수준 변화\"][i]),\n",
    "#          fontsize=15, color='w', ha='right', va='center')\n",
    "\n",
    "plt.show()"
   ]
  },
  {
   "cell_type": "markdown",
   "metadata": {},
   "source": [
    "#### A교과에 대한 기술 수준 변화"
   ]
  },
  {
   "cell_type": "code",
   "execution_count": null,
   "metadata": {},
   "outputs": [],
   "source": [
    "# '교육전 전반적 이해 수준 변화 수준의 오름차순'으로 정렬 된 '교육전후 전반적 이해 수준 변화 수준'과 'Name'열로 된 DataFrame으로  \n",
    "# 각각 'Name'  '교육전 전반적 이해 수준 변화 수준' 데이터프레임을 .concat한 후 이를 오름차순. 그 후 reset_index\n",
    "\n",
    "\n",
    "df_tech_a = pd.concat([eval_all['성명'],\n",
    "                           eval_all['교육후: A교과에 대한 기술 수준'],\n",
    "                           eval_all['교육전: A교과에 대한 기술 수준'],\n",
    "                          ],axis=1)\n",
    "\n",
    "df_tech_a['교육전후 A교과에 대한 기술 수준 변화'] = \\\n",
    "                           eval_all['교육후: A교과에 대한 기술 수준'] - \\\n",
    "                           eval_all['교육전: A교과에 대한 기술 수준']\n",
    "\n",
    "df_tech_a_bef_af_gap = df_tech_a.sort_values(by='교육전후 A교과에 대한 기술 수준 변화',\n",
    "                            ascending=True).reset_index(drop='index')\n",
    "\n",
    "df_tech_a_bef_af_gap"
   ]
  },
  {
   "cell_type": "code",
   "execution_count": null,
   "metadata": {},
   "outputs": [],
   "source": [
    "plt.figure(figsize=(16, 10))\n",
    "# height = 0.35\n",
    "index=np.arange(len(df_tech_a_bef_af_gap))\n",
    "p1 = plt.barh(index, df_tech_a_bef_af_gap[\"교육전: A교과에 대한 기술 수준\"],  \n",
    "              align='center', label='Pre-Training')\n",
    "p2 = plt.barh(index, df_tech_a_bef_af_gap['교육후: A교과에 대한 기술 수준'],  \n",
    "              align='center', label='Post-Training', left=df_tech_a_bef_af_gap[\"교육전: A교과에 대한 기술 수준\"])\n",
    "\n",
    "plt.title('교육전후 A교과에 대한 기술 수준\\n(A교과: PPP와 개도국에 대한 PPP적용방법에 대한 이해)',\n",
    "          position=(0.5,1.02), fontsize=20)\n",
    "plt.ylabel('성명', fontsize=18)\n",
    "plt.xlabel('기술 수준', fontsize=18)\n",
    "plt.xticks(fontsize=15)\n",
    "plt.yticks(index, df_tech_a_bef_af_gap['성명'], fontsize=15)\n",
    "plt.legend((p1[0], p2[0]), ('Pre-Training', 'Post-Training'), fontsize=18)\n",
    "plt.show()"
   ]
  },
  {
   "cell_type": "code",
   "execution_count": null,
   "metadata": {},
   "outputs": [],
   "source": [
    "plt.figure(figsize=(16, 10))\n",
    "# height = 0.35\n",
    "index=np.arange(len(df_tech_a_bef_af_gap))\n",
    "plt.barh(index, df_tech_a_bef_af_gap['교육전후 A교과에 대한 기술 수준 변화'], align='center', label='교육후 기술 수준 - 교육전 기술 수준')\n",
    "plt.title('A교과에 대한 기술 수준 변화 측정\\n(A교과: PPP와 개도국에 대한 PPP적용방법에 대한 이해)',\n",
    "          position=(0.5,1.02), fontsize=20)\n",
    "plt.ylabel('성명', fontsize=18)\n",
    "plt.xlabel('기술 수준 변화 측정값', fontsize=18)\n",
    "plt.xticks(fontsize=15)\n",
    "plt.yticks(index, df_tech_a_bef_af_gap['성명'], fontsize=15)\n",
    "plt.legend(fontsize=18)\n",
    " \n",
    "plt.show()"
   ]
  },
  {
   "cell_type": "markdown",
   "metadata": {},
   "source": [
    "#### A교과에 대한 태도 수준 변화 "
   ]
  },
  {
   "cell_type": "code",
   "execution_count": null,
   "metadata": {
    "colab": {},
    "colab_type": "code",
    "hide_input": true,
    "id": "Pyvqz1ua30hW",
    "slideshow": {
     "slide_type": "slide"
    }
   },
   "outputs": [],
   "source": [
    "# '교육전 전반적 이해 수준 변화 수준의 오름차순'으로 정렬 된 '교육전후 전반적 이해 수준 변화 수준'과 'Name'열로 된 DataFrame으로  \n",
    "# 각각 'Name'  '교육전 전반적 이해 수준 변화 수준' 데이터프레임을 .concat한 후 이를 오름차순. 그 후 reset_index\n",
    "\n",
    "\n",
    "df_atti_a = pd.concat([eval_all['성명'],\n",
    "                           eval_all['교육후: A교과에 대한 태도 수준'],\n",
    "                           eval_all['교육전: A교과에 대한 태도 수준'],\n",
    "                          ],axis=1)\n",
    "\n",
    "df_atti_a['교육전후 A교과에 대한 태도 수준 변화'] = \\\n",
    "                           eval_all['교육후: A교과에 대한 태도 수준'] - \\\n",
    "                           eval_all['교육전: A교과에 대한 태도 수준']\n",
    "\n",
    "df_atti_a_bef_af_gap = df_atti_a.sort_values(by='교육전후 A교과에 대한 태도 수준 변화',\n",
    "                            ascending=True).reset_index(drop='index')\n",
    "\n",
    "df_atti_a_bef_af_gap"
   ]
  },
  {
   "cell_type": "code",
   "execution_count": null,
   "metadata": {},
   "outputs": [],
   "source": [
    "plt.figure(figsize=(16, 10))\n",
    "# height = 0.35\n",
    "index=np.arange(len(df_atti_a_bef_af_gap))\n",
    "p1 = plt.barh(index, df_atti_a_bef_af_gap[\"교육전: A교과에 대한 태도 수준\"],  \n",
    "              align='center', label='Pre-Training')\n",
    "p2 = plt.barh(index, df_atti_a_bef_af_gap['교육후: A교과에 대한 태도 수준'],  \n",
    "              align='center', label='Post-Training', left=df_atti_a_bef_af_gap[\"교육전: A교과에 대한 태도 수준\"])\n",
    "\n",
    "plt.title('교육전후 A교과에 대한 태도 수준\\n(A교과: PPP와 개도국에 대한 PPP적용방법에 대한 이해)',\n",
    "          position=(0.5,1.02), fontsize=20)\n",
    "plt.ylabel('성명', fontsize=18)\n",
    "plt.xlabel('태도 수준', fontsize=18)\n",
    "plt.xticks(fontsize=15)\n",
    "plt.yticks(index, df_atti_a_bef_af_gap['성명'], fontsize=15)\n",
    "plt.legend((p1[0], p2[0]), ('Pre-Training', 'Post-Training'), fontsize=18)\n",
    "plt.show()"
   ]
  },
  {
   "cell_type": "code",
   "execution_count": null,
   "metadata": {},
   "outputs": [],
   "source": [
    "plt.figure(figsize=(16, 10))\n",
    "# height = 0.35\n",
    "index=np.arange(len(df_atti_a_bef_af_gap))\n",
    "\n",
    "plt.barh(index, df_atti_a_bef_af_gap['교육전후 A교과에 대한 태도 수준 변화'], align='center', label='교육후 태도 수준 - 교육전 태도 수준')\n",
    "plt.title('A교과에 대한 태도 수준 변화 측정\\n(A교과: PPP와 개도국에 대한 PPP적용방법에 대한 이해)',\n",
    "          position=(0.5,1.02), fontsize=20)\n",
    "plt.ylabel('성명', fontsize=18)\n",
    "plt.xlabel('태도 수준 변화 측정값', fontsize=18)\n",
    "plt.xticks(fontsize=15)\n",
    "plt.yticks(index, df_atti_a_bef_af_gap['성명'], fontsize=15)\n",
    "plt.legend(fontsize=18)\n",
    " \n",
    "plt.show()"
   ]
  },
  {
   "cell_type": "markdown",
   "metadata": {},
   "source": [
    "### '개도국을 위한 적용가능한 수질개선기술 (B교과)'에 대한 참가자별 '인지 - 기술 - 태도' 수준 변화"
   ]
  },
  {
   "cell_type": "markdown",
   "metadata": {},
   "source": [
    "#### B교과에 대한 인지 수준 변화"
   ]
  },
  {
   "cell_type": "code",
   "execution_count": null,
   "metadata": {},
   "outputs": [],
   "source": [
    "# '교육전 전반적 이해 수준 변화 수준의 오름차순'으로 정렬 된 '교육전후 전반적 이해 수준 변화 수준'과 'Name'열로 된 DataFrame으로  \n",
    "# 각각 'Name'  '교육전 전반적 이해 수준 변화 수준' 데이터프레임을 .concat한 후 이를 오름차순. 그 후 reset_index\n",
    "\n",
    "df_cog_b = pd.concat([eval_all['성명'],\n",
    "                           eval_all['교육후: B교과에 대한 인지 수준'],\n",
    "                           eval_all['교육전: B교과에 대한 인지 수준']\n",
    "                          ],axis=1)\n",
    "\n",
    "df_cog_b['교육전후 B교과에 대한 인지 수준 변화'] = \\\n",
    "                           eval_all['교육후: B교과에 대한 인지 수준'] - \\\n",
    "                           eval_all[\"교육전: B교과에 대한 인지 수준\"]\n",
    "\n",
    "df_cog_b_bef_af_gap = df_cog_b.sort_values(by='교육전후 B교과에 대한 인지 수준 변화',\n",
    "                            ascending=True).reset_index(drop='index')\n",
    "\n",
    "df_cog_b_bef_af_gap"
   ]
  },
  {
   "cell_type": "code",
   "execution_count": null,
   "metadata": {},
   "outputs": [],
   "source": [
    "plt.figure(figsize=(16, 10))\n",
    "# height = 0.35\n",
    "index=np.arange(len(df_cog_b_bef_af_gap))\n",
    "p1 = plt.barh(index, df_cog_b_bef_af_gap[\"교육전: B교과에 대한 인지 수준\"],  \n",
    "              align='center', label='Pre-Training')\n",
    "p2 = plt.barh(index, df_cog_b_bef_af_gap['교육후: B교과에 대한 인지 수준'],  \n",
    "              align='center', label='Post-Training', left=df_cog_b_bef_af_gap[\"교육전: B교과에 대한 인지 수준\"])\n",
    "\n",
    "plt.title('교육전후 B교과에 대한 인지 수준\\n(B교과: 개도국을 위한 적용가능한 수질개선기술)',\n",
    "          position=(0.5,1.02), fontsize=20)\n",
    "plt.ylabel('성명', fontsize=18)\n",
    "plt.xlabel('인지 수준', fontsize=18)\n",
    "plt.xticks(fontsize=15)\n",
    "plt.yticks(index, df_cog_b_bef_af_gap['성명'], fontsize=15)\n",
    "plt.legend((p1[0], p2[0]), ('Pre-Training', 'Post-Training'), fontsize=18)\n",
    "plt.show()\n",
    "\n",
    "# for i, rect in enumerate(p1):\n",
    "#     plt.text(0.95 * rect.get_width(), rect.get_y() + rect.get_height() / 2.0,\n",
    "#          str(df_cog_b_bef_af_gap[\"교육전: B교과에 대한 인지 수준 변화\"][i]),\n",
    "#          fontsize=15, color='w', ha='right', va='center')"
   ]
  },
  {
   "cell_type": "code",
   "execution_count": null,
   "metadata": {},
   "outputs": [],
   "source": [
    "plt.figure(figsize=(16, 10))\n",
    "# height = 0.35\n",
    "index=np.arange(len(df_cog_b_bef_af_gap))\n",
    "plt.barh(index, df_cog_b_bef_af_gap['교육전후 B교과에 대한 인지 수준 변화'], align='center', label='교육후 인지 수준 - 교육전 인지 수준')\n",
    "plt.title('B교과에 대한 인지 수준 변화 측정 \\n(B교과: 개도국을 위한 적용가능한 수질개선기술)',\n",
    "          position=(0.5,1.02), fontsize=20)\n",
    "plt.ylabel('성명', fontsize=18)\n",
    "plt.xlabel('인지 수준 변화 측정값', fontsize=18)\n",
    "plt.xticks(fontsize=15)\n",
    "plt.yticks(index, df_cog_b_bef_af_gap['성명'], fontsize=15)\n",
    "plt.legend(fontsize=18)\n",
    "# for i, rect in enumerate(p1):\n",
    "#     plt.text(0.95 * rect.get_width(), rect.get_y() + rect.get_height() / 2.0,\n",
    "#          str(df_cog_b_bef_af_gap[\"교육전: B교과에 대한 인지 수준 변화\"][i]),\n",
    "#          fontsize=15, color='w', ha='right', va='center')\n",
    "\n",
    "plt.show()\n",
    "\n"
   ]
  },
  {
   "cell_type": "markdown",
   "metadata": {},
   "source": [
    "#### B교과에 대한 기술 수준 변화"
   ]
  },
  {
   "cell_type": "code",
   "execution_count": null,
   "metadata": {},
   "outputs": [],
   "source": [
    "# '교육전 전반적 이해 수준 변화 수준의 오름차순'으로 정렬 된 '교육전후 전반적 이해 수준 변화 수준'과 'Name'열로 된 DataFrame으로  \n",
    "# 각각 'Name'  '교육전 전반적 이해 수준 변화 수준' 데이터프레임을 .concat한 후 이를 오름차순. 그 후 reset_index\n",
    "\n",
    "\n",
    "df_tech_b = pd.concat([eval_all['성명'],\n",
    "                           eval_all['교육후: B교과에 대한 기술 수준'],\n",
    "                           eval_all['교육전: B교과에 대한 기술 수준'],\n",
    "                          ],axis=1)\n",
    "\n",
    "df_tech_b['교육전후 B교과에 대한 기술 수준 변화'] = \\\n",
    "                           eval_all['교육후: B교과에 대한 기술 수준'] - \\\n",
    "                           eval_all['교육전: B교과에 대한 기술 수준']\n",
    "\n",
    "df_tech_b_bef_af_gap = df_tech_b.sort_values(by='교육전후 B교과에 대한 기술 수준 변화',\n",
    "                            ascending=True).reset_index(drop='index')\n",
    "\n",
    "df_tech_b_bef_af_gap"
   ]
  },
  {
   "cell_type": "code",
   "execution_count": null,
   "metadata": {},
   "outputs": [],
   "source": [
    "plt.figure(figsize=(16, 10))\n",
    "# height = 0.35\n",
    "index=np.arange(len(df_tech_b_bef_af_gap))\n",
    "p1 = plt.barh(index, df_tech_b_bef_af_gap[\"교육전: B교과에 대한 기술 수준\"],  \n",
    "              align='center', label='Pre-Training')\n",
    "p2 = plt.barh(index, df_tech_b_bef_af_gap['교육후: B교과에 대한 기술 수준'],  \n",
    "              align='center', label='Post-Training', left=df_tech_b_bef_af_gap[\"교육전: B교과에 대한 기술 수준\"])\n",
    "\n",
    "plt.title('교육전후 B교과에 대한 기술 수준\\n(B교과: 개도국을 위한 적용가능한 수질개선기술)',\n",
    "          position=(0.5,1.02), fontsize=20)\n",
    "plt.ylabel('성명', fontsize=18)\n",
    "plt.xlabel('기술 수준', fontsize=18)\n",
    "plt.xticks(fontsize=15)\n",
    "plt.yticks(index, df_tech_b_bef_af_gap['성명'], fontsize=15)\n",
    "plt.legend((p1[0], p2[0]), ('Pre-Training', 'Post-Training'), fontsize=18)\n",
    "plt.show()"
   ]
  },
  {
   "cell_type": "code",
   "execution_count": null,
   "metadata": {},
   "outputs": [],
   "source": [
    "plt.figure(figsize=(16, 10))\n",
    "# height = 0.35\n",
    "index=np.arange(len(df_tech_b_bef_af_gap))\n",
    "plt.barh(index, df_tech_b_bef_af_gap['교육전후 B교과에 대한 기술 수준 변화'], align='center', label='교육후 기술 수준 - 교육전 기술 수준')\n",
    "plt.title('B교과에 대한 기술 수준 변화 측정\\n(B교과: 개도국을 위한 적용가능한 수질개선기술)',\n",
    "          position=(0.5,1.02), fontsize=20)\n",
    "plt.ylabel('성명', fontsize=18)\n",
    "plt.xlabel('기술 수준 변화 측정값', fontsize=18)\n",
    "plt.xticks(fontsize=15)\n",
    "plt.yticks(index, df_tech_b_bef_af_gap['성명'], fontsize=15)\n",
    "plt.legend(fontsize=18)\n",
    " \n",
    "plt.show()"
   ]
  },
  {
   "cell_type": "markdown",
   "metadata": {},
   "source": [
    "#### B교과에 대한 태도 수준 변화 "
   ]
  },
  {
   "cell_type": "code",
   "execution_count": null,
   "metadata": {},
   "outputs": [],
   "source": [
    "# '교육전 전반적 이해 수준 변화 수준의 오름차순'으로 정렬 된 '교육전후 전반적 이해 수준 변화 수준'과 'Name'열로 된 DataFrame으로  \n",
    "# 각각 'Name'  '교육전 전반적 이해 수준 변화 수준' 데이터프레임을 .concat한 후 이를 오름차순. 그 후 reset_index\n",
    "\n",
    "\n",
    "df_atti_b = pd.concat([eval_all['성명'],\n",
    "                           eval_all['교육후: B교과에 대한 태도 수준'],\n",
    "                           eval_all['교육전: B교과에 대한 태도 수준'],\n",
    "                          ],axis=1)\n",
    "\n",
    "df_atti_b['교육전후 B교과에 대한 태도 수준 변화'] = \\\n",
    "                           eval_all['교육후: B교과에 대한 태도 수준'] - \\\n",
    "                           eval_all['교육전: B교과에 대한 태도 수준']\n",
    "\n",
    "df_atti_b_bef_af_gap = df_atti_b.sort_values(by='교육전후 B교과에 대한 태도 수준 변화',\n",
    "                            ascending=True).reset_index(drop='index')\n",
    "\n",
    "df_atti_b_bef_af_gap"
   ]
  },
  {
   "cell_type": "code",
   "execution_count": null,
   "metadata": {},
   "outputs": [],
   "source": [
    "plt.figure(figsize=(16, 10))\n",
    "# height = 0.35\n",
    "index=np.arange(len(df_atti_b_bef_af_gap))\n",
    "p1 = plt.barh(index, df_atti_b_bef_af_gap[\"교육전: B교과에 대한 태도 수준\"],  \n",
    "              align='center', label='Pre-Training')\n",
    "p2 = plt.barh(index, df_atti_b_bef_af_gap['교육후: B교과에 대한 태도 수준'],  \n",
    "              align='center', label='Post-Training', left=df_atti_b_bef_af_gap[\"교육전: B교과에 대한 태도 수준\"])\n",
    "\n",
    "plt.title('교육전후 B교과에 대한 태도 수준\\n(B교과: 개도국을 위한 적용가능한 수질개선기술)',\n",
    "          position=(0.5,1.02), fontsize=20)\n",
    "plt.ylabel('성명', fontsize=18)\n",
    "plt.xlabel('태도 수준', fontsize=18)\n",
    "plt.xticks(fontsize=15)\n",
    "plt.yticks(index, df_atti_b_bef_af_gap['성명'], fontsize=15)\n",
    "plt.legend((p1[0], p2[0]), ('Pre-Training', 'Post-Training'), fontsize=18)\n",
    "plt.show()"
   ]
  },
  {
   "cell_type": "code",
   "execution_count": null,
   "metadata": {},
   "outputs": [],
   "source": [
    "plt.figure(figsize=(16, 10))\n",
    "# height = 0.35\n",
    "index=np.arange(len(df_atti_b_bef_af_gap))\n",
    "\n",
    "plt.barh(index, df_atti_b_bef_af_gap['교육전후 B교과에 대한 태도 수준 변화'], align='center', label='교육후 태도 수준 - 교육전 태도 수준')\n",
    "plt.title('B교과에 대한 태도 수준 변화 측정\\n(B교과: 개도국을 위한 적용가능한 수질개선기술)',\n",
    "          position=(0.5,1.02), fontsize=20)\n",
    "plt.ylabel('성명', fontsize=18)\n",
    "plt.xlabel('태도 수준 변화 측정값', fontsize=18)\n",
    "plt.xticks(fontsize=15)\n",
    "plt.yticks(index, df_atti_b_bef_af_gap['성명'], fontsize=15)\n",
    "plt.legend(fontsize=18)\n",
    " \n",
    "plt.show()"
   ]
  },
  {
   "cell_type": "markdown",
   "metadata": {},
   "source": [
    "### '개도국을 위한 미디어시티, 도로, 교통시설 개발 (C 교과)' 에 대한 참가자별 '인지 - 기술 - 태도' 수준 변화"
   ]
  },
  {
   "cell_type": "markdown",
   "metadata": {},
   "source": [
    "#### C교과에 대한 인지 수준 변화"
   ]
  },
  {
   "cell_type": "code",
   "execution_count": null,
   "metadata": {},
   "outputs": [],
   "source": [
    "# '교육전 전반적 이해 수준 변화 수준의 오름차순'으로 정렬 된 '교육전후 전반적 이해 수준 변화 수준'과 'Name'열로 된 DataFrame으로  \n",
    "# 각각 'Name'  '교육전 전반적 이해 수준 변화 수준' 데이터프레임을 .concat한 후 이를 오름차순. 그 후 reset_index\n",
    "\n",
    "df_cog_c = pd.concat([eval_all['성명'],\n",
    "                           eval_all['교육후: C교과에 대한 인지 수준'],\n",
    "                           eval_all['교육전: C교과에 대한 인지 수준']\n",
    "                          ],axis=1)\n",
    "\n",
    "df_cog_c['교육전후 C교과에 대한 인지 수준 변화'] = \\\n",
    "                           eval_all['교육후: C교과에 대한 인지 수준'] - \\\n",
    "                           eval_all[\"교육전: C교과에 대한 인지 수준\"]\n",
    "\n",
    "df_cog_c_bef_af_gap = df_cog_c.sort_values(by='교육전후 C교과에 대한 인지 수준 변화',\n",
    "                            ascending=True).reset_index(drop='index')\n",
    "\n",
    "df_cog_c_bef_af_gap"
   ]
  },
  {
   "cell_type": "code",
   "execution_count": null,
   "metadata": {},
   "outputs": [],
   "source": [
    "plt.figure(figsize=(16, 10))\n",
    "# height = 0.35\n",
    "index=np.arange(len(df_cog_c_bef_af_gap))\n",
    "p1 = plt.barh(index, df_cog_c_bef_af_gap[\"교육전: C교과에 대한 인지 수준\"],  \n",
    "              align='center', label='Pre-Training')\n",
    "p2 = plt.barh(index, df_cog_c_bef_af_gap['교육후: C교과에 대한 인지 수준'],  \n",
    "              align='center', label='Post-Training', left=df_cog_c_bef_af_gap[\"교육전: C교과에 대한 인지 수준\"])\n",
    "\n",
    "plt.title('교육전후 C교과에 대한 인지 수준\\n(C교과: 개도국을 위한 미디어시티, 도로, 교통시설 개발)',\n",
    "          position=(0.5,1.02), fontsize=20)\n",
    "plt.ylabel('성명', fontsize=18)\n",
    "plt.xlabel('인지 수준', fontsize=18)\n",
    "plt.xticks(fontsize=15)\n",
    "plt.yticks(index, df_cog_c_bef_af_gap['성명'], fontsize=15)\n",
    "plt.legend((p1[0], p2[0]), ('Pre-Training', 'Post-Training'), fontsize=18)\n",
    "plt.show()\n",
    "\n",
    "# for i, rect in enumerate(p1):\n",
    "#     plt.text(0.95 * rect.get_width(), rect.get_y() + rect.get_height() / 2.0,\n",
    "#          str(df_cog_c_bef_af_gap[\"교육전: C교과에 대한 인지 수준 변화\"][i]),\n",
    "#          fontsize=15, color='w', ha='right', va='center')"
   ]
  },
  {
   "cell_type": "code",
   "execution_count": null,
   "metadata": {},
   "outputs": [],
   "source": [
    "plt.figure(figsize=(16, 10))\n",
    "# height = 0.35\n",
    "index=np.arange(len(df_cog_c_bef_af_gap))\n",
    "plt.barh(index, df_cog_c_bef_af_gap['교육전후 C교과에 대한 인지 수준 변화'], align='center', label='교육후 인지 수준 - 교육전 인지 수준')\n",
    "plt.title('C교과에 대한 인지 수준 변화 측정 \\n(C교과: 개도국을 위한 미디어시티, 도로, 교통시설 개발)',\n",
    "          position=(0.5,1.02), fontsize=20)\n",
    "plt.ylabel('성명', fontsize=18)\n",
    "plt.xlabel('인지 수준 변화 측정값', fontsize=18)\n",
    "plt.xticks(fontsize=15)\n",
    "plt.yticks(index, df_cog_c_bef_af_gap['성명'], fontsize=15)\n",
    "plt.legend(fontsize=18)\n",
    "# for i, rect in enumerate(p1):\n",
    "#     plt.text(0.95 * rect.get_width(), rect.get_y() + rect.get_height() / 2.0,\n",
    "#          str(df_cog_c_bef_af_gap[\"교육전: C교과에 대한 인지 수준 변화\"][i]),\n",
    "#          fontsize=15, color='w', ha='right', va='center')\n",
    "\n",
    "plt.show()"
   ]
  },
  {
   "cell_type": "markdown",
   "metadata": {},
   "source": [
    "#### C교과에 대한 기술 수준 변화"
   ]
  },
  {
   "cell_type": "code",
   "execution_count": null,
   "metadata": {},
   "outputs": [],
   "source": [
    "# '교육전 전반적 이해 수준 변화 수준의 오름차순'으로 정렬 된 '교육전후 전반적 이해 수준 변화 수준'과 'Name'열로 된 DataFrame으로  \n",
    "# 각각 'Name'  '교육전 전반적 이해 수준 변화 수준' 데이터프레임을 .concat한 후 이를 오름차순. 그 후 reset_index\n",
    "\n",
    "\n",
    "df_tech_c = pd.concat([eval_all['성명'],\n",
    "                           eval_all['교육후: C교과에 대한 기술 수준'],\n",
    "                           eval_all['교육전: C교과에 대한 기술 수준'],\n",
    "                          ],axis=1)\n",
    "\n",
    "df_tech_c['교육전후 C교과에 대한 기술 수준 변화'] = \\\n",
    "                           eval_all['교육후: C교과에 대한 기술 수준'] - \\\n",
    "                           eval_all['교육전: C교과에 대한 기술 수준']\n",
    "\n",
    "df_tech_c_bef_af_gap = df_tech_c.sort_values(by='교육전후 C교과에 대한 기술 수준 변화',\n",
    "                            ascending=True).reset_index(drop='index')\n",
    "\n",
    "df_tech_c_bef_af_gap"
   ]
  },
  {
   "cell_type": "code",
   "execution_count": null,
   "metadata": {},
   "outputs": [],
   "source": [
    "plt.figure(figsize=(16, 10))\n",
    "# height = 0.35\n",
    "index=np.arange(len(df_tech_c_bef_af_gap))\n",
    "p1 = plt.barh(index, df_tech_c_bef_af_gap[\"교육전: C교과에 대한 기술 수준\"],  \n",
    "              align='center', label='Pre-Training')\n",
    "p2 = plt.barh(index, df_tech_c_bef_af_gap['교육후: C교과에 대한 기술 수준'],  \n",
    "              align='center', label='Post-Training', left=df_tech_c_bef_af_gap[\"교육전: C교과에 대한 기술 수준\"])\n",
    "\n",
    "plt.title('교육전후 C교과에 대한 기술 수준\\n(C교과: 개도국을 위한 미디어시티, 도로, 교통시설 개발)',\n",
    "          position=(0.5,1.02), fontsize=20)\n",
    "plt.ylabel('성명', fontsize=18)\n",
    "plt.xlabel('기술 수준', fontsize=18)\n",
    "plt.xticks(fontsize=15)\n",
    "plt.yticks(index, df_tech_c_bef_af_gap['성명'], fontsize=15)\n",
    "plt.legend((p1[0], p2[0]), ('Pre-Training', 'Post-Training'), fontsize=18)\n",
    "plt.show()"
   ]
  },
  {
   "cell_type": "code",
   "execution_count": null,
   "metadata": {},
   "outputs": [],
   "source": [
    "plt.figure(figsize=(16, 10))\n",
    "# height = 0.35\n",
    "index=np.arange(len(df_tech_c_bef_af_gap))\n",
    "plt.barh(index, df_tech_c_bef_af_gap['교육전후 C교과에 대한 기술 수준 변화'], align='center', label='교육후 기술 수준 - 교육전 기술 수준')\n",
    "plt.title('C교과에 대한 기술 수준 변화 측정\\n(C교과: 개도국을 위한 미디어시티, 도로, 교통시설 개발)',\n",
    "          position=(0.5,1.02), fontsize=20)\n",
    "plt.ylabel('성명', fontsize=18)\n",
    "plt.xlabel('기술 수준 변화 측정값', fontsize=18)\n",
    "plt.xticks(fontsize=15)\n",
    "plt.yticks(index, df_tech_c_bef_af_gap['성명'], fontsize=15)\n",
    "plt.legend(fontsize=18)\n",
    " \n",
    "plt.show()"
   ]
  },
  {
   "cell_type": "markdown",
   "metadata": {},
   "source": [
    "#### C교과에 대한 태도 수준 변화 "
   ]
  },
  {
   "cell_type": "code",
   "execution_count": null,
   "metadata": {},
   "outputs": [],
   "source": [
    "# '교육전 전반적 이해 수준 변화 수준의 오름차순'으로 정렬 된 '교육전후 전반적 이해 수준 변화 수준'과 'Name'열로 된 DataFrame으로  \n",
    "# 각각 'Name'  '교육전 전반적 이해 수준 변화 수준' 데이터프레임을 .concat한 후 이를 오름차순. 그 후 reset_index\n",
    "\n",
    "\n",
    "df_atti_c = pd.concat([eval_all['성명'],\n",
    "                           eval_all['교육후: C교과에 대한 태도 수준'],\n",
    "                           eval_all['교육전: C교과에 대한 태도 수준'],\n",
    "                          ],axis=1)\n",
    "\n",
    "df_atti_c['교육전후 C교과에 대한 태도 수준 변화'] = \\\n",
    "                           eval_all['교육후: C교과에 대한 태도 수준'] - \\\n",
    "                           eval_all['교육전: C교과에 대한 태도 수준']\n",
    "\n",
    "df_atti_c_bef_af_gap = df_atti_c.sort_values(by='교육전후 C교과에 대한 태도 수준 변화',\n",
    "                            ascending=True).reset_index(drop='index')\n",
    "\n",
    "df_atti_c_bef_af_gap"
   ]
  },
  {
   "cell_type": "code",
   "execution_count": null,
   "metadata": {},
   "outputs": [],
   "source": [
    "plt.figure(figsize=(16, 10))\n",
    "# height = 0.35\n",
    "index=np.arange(len(df_atti_c_bef_af_gap))\n",
    "p1 = plt.barh(index, df_atti_c_bef_af_gap[\"교육전: C교과에 대한 태도 수준\"],  \n",
    "              align='center', label='Pre-Training')\n",
    "p2 = plt.barh(index, df_atti_c_bef_af_gap['교육후: C교과에 대한 태도 수준'],  \n",
    "              align='center', label='Post-Training', left=df_atti_c_bef_af_gap[\"교육전: C교과에 대한 태도 수준\"])\n",
    "\n",
    "plt.title('교육전후 C교과에 대한 태도 수준\\n(C교과: 개도국을 위한 미디어시티, 도로, 교통시설 개발)',\n",
    "          position=(0.5,1.02), fontsize=20)\n",
    "plt.ylabel('성명', fontsize=18)\n",
    "plt.xlabel('태도 수준', fontsize=18)\n",
    "plt.xticks(fontsize=15)\n",
    "plt.yticks(index, df_atti_c_bef_af_gap['성명'], fontsize=15)\n",
    "plt.legend((p1[0], p2[0]), ('Pre-Training', 'Post-Training'), fontsize=18)\n",
    "plt.show()"
   ]
  },
  {
   "cell_type": "code",
   "execution_count": null,
   "metadata": {},
   "outputs": [],
   "source": [
    "plt.figure(figsize=(16, 10))\n",
    "# height = 0.35\n",
    "index=np.arange(len(df_atti_c_bef_af_gap))\n",
    "\n",
    "plt.barh(index, df_atti_c_bef_af_gap['교육전후 C교과에 대한 태도 수준 변화'], align='center', label='교육후 태도 수준 - 교육전 태도 수준')\n",
    "plt.title('C교과에 대한 태도 수준 변화 측정\\n(C교과: 개도국을 위한 미디어시티, 도로, 교통시설 개발)',\n",
    "          position=(0.5,1.02), fontsize=20)\n",
    "plt.ylabel('성명', fontsize=18)\n",
    "plt.xlabel('태도 수준 변화 측정값', fontsize=18)\n",
    "plt.xticks(fontsize=15)\n",
    "plt.yticks(index, df_atti_c_bef_af_gap['성명'], fontsize=15)\n",
    "plt.legend(fontsize=18)\n",
    " \n",
    "plt.show()"
   ]
  },
  {
   "cell_type": "markdown",
   "metadata": {},
   "source": [
    "## 수준 변화에 대한 T검정 및 직책별-성별 '인지 수준 - 기술 수준 - 태도 수준' 변화 분석"
   ]
  },
  {
   "cell_type": "markdown",
   "metadata": {},
   "source": [
    "### 교육전후 교과별 '인지 수준 - 기술 수준 - 태도 수준' 변화에 대한 T검정"
   ]
  },
  {
   "cell_type": "code",
   "execution_count": null,
   "metadata": {},
   "outputs": [],
   "source": [
    "from scipy.stats import ttest_ind\n",
    "ttest_ind(df_cog_a['교육전후 A교과에 대한 인지 수준 변화'], df_cog_b['교육전후 B교과에 대한 인지 수준 변화'])\n",
    "ttest_ind(df_cog_a['교육전후 A교과에 대한 인지 수준 변화'], df_cog_c['교육전후 C교과에 대한 인지 수준 변화'])\n",
    "ttest_ind(df_cog_b['교육전후 B교과에 대한 인지 수준 변화'], df_cog_c['교육전후 C교과에 대한 인지 수준 변화'])\n",
    "ttest_ind(df_tech_a['교육전후 A교과에 대한 기술 수준 변화'], df_tech_b['교육전후 B교과에 대한 기술 수준 변화'])\n",
    "ttest_ind(df_tech_a['교육전후 A교과에 대한 기술 수준 변화'], df_tech_c['교육전후 C교과에 대한 기술 수준 변화'])\n",
    "ttest_ind(df_tech_b['교육전후 B교과에 대한 기술 수준 변화'], df_tech_c['교육전후 C교과에 대한 기술 수준 변화'])\n",
    "ttest_ind(df_atti_a['교육전후 A교과에 대한 태도 수준 변화'], df_atti_b['교육전후 B교과에 대한 태도 수준 변화'])\n",
    "ttest_ind(df_atti_a['교육전후 A교과에 대한 태도 수준 변화'], df_atti_c['교육전후 C교과에 대한 태도 수준 변화'])\n",
    "ttest_ind(df_atti_b['교육전후 B교과에 대한 태도 수준 변화'], df_atti_c['교육전후 C교과에 대한 태도 수준 변화'])\n",
    "\n",
    "ttest_ind(df_cog_a['교육전후 A교과에 대한 인지 수준 변화'], df_tech_b['교육전후 B교과에 대한 기술 수준 변화'])\n",
    "ttest_ind(df_cog_a['교육전후 A교과에 대한 인지 수준 변화'], df_tech_c['교육전후 C교과에 대한 기술 수준 변화'])\n",
    "ttest_ind(df_cog_b['교육전후 B교과에 대한 인지 수준 변화'], df_tech_a['교육전후 A교과에 대한 기술 수준 변화'])\n",
    "ttest_ind(df_cog_b['교육전후 B교과에 대한 인지 수준 변화'], df_tech_c['교육전후 C교과에 대한 기술 수준 변화'])\n",
    "ttest_ind(df_cog_c['교육전후 C교과에 대한 인지 수준 변화'], df_tech_a['교육전후 A교과에 대한 기술 수준 변화'])\n",
    "ttest_ind(df_cog_c['교육전후 C교과에 대한 인지 수준 변화'], df_tech_b['교육전후 B교과에 대한 기술 수준 변화'])\n",
    "\n",
    "ttest_ind(df_cog_a['교육전후 A교과에 대한 인지 수준 변화'], df_atti_b['교육전후 B교과에 대한 태도 수준 변화'])\n",
    "ttest_ind(df_cog_a['교육전후 A교과에 대한 인지 수준 변화'], df_atti_c['교육전후 C교과에 대한 태도 수준 변화'])\n",
    "ttest_ind(df_cog_b['교육전후 B교과에 대한 인지 수준 변화'], df_atti_a['교육전후 A교과에 대한 태도 수준 변화'])\n",
    "ttest_ind(df_cog_b['교육전후 B교과에 대한 인지 수준 변화'], df_atti_c['교육전후 C교과에 대한 태도 수준 변화'])\n",
    "ttest_ind(df_cog_c['교육전후 C교과에 대한 인지 수준 변화'], df_atti_a['교육전후 A교과에 대한 태도 수준 변화'])\n",
    "ttest_ind(df_cog_c['교육전후 C교과에 대한 인지 수준 변화'], df_atti_b['교육전후 B교과에 대한 태도 수준 변화'])\n",
    "\n",
    "ttest_ind(df_tech_a['교육전후 A교과에 대한 기술 수준 변화'], df_atti_b['교육전후 B교과에 대한 태도 수준 변화'])\n",
    "ttest_ind(df_tech_a['교육전후 A교과에 대한 기술 수준 변화'], df_atti_c['교육전후 C교과에 대한 태도 수준 변화'])\n",
    "ttest_ind(df_tech_b['교육전후 B교과에 대한 기술 수준 변화'], df_atti_a['교육전후 A교과에 대한 태도 수준 변화'])\n",
    "ttest_ind(df_tech_b['교육전후 B교과에 대한 기술 수준 변화'], df_atti_c['교육전후 C교과에 대한 태도 수준 변화'])\n",
    "ttest_ind(df_tech_c['교육전후 C교과에 대한 기술 수준 변화'], df_atti_a['교육전후 A교과에 대한 태도 수준 변화'])\n",
    "ttest_ind(df_tech_c['교육전후 C교과에 대한 기술 수준 변화'], df_atti_b['교육전후 B교과에 대한 태도 수준 변화'])"
   ]
  },
  {
   "cell_type": "markdown",
   "metadata": {},
   "source": [
    "<center>T검정 데이터셋</center> | <center>T검정 결과</center>\n",
    ":--------|--------:\n",
    "<center>인지-인지</center>\n",
    "['교육전후 A교과에 대한 인지 수준 변화']와 ['교육전후 B교과에 대한 인지 수준 변화'])의 T검정 |0.8979310779180959\n",
    "['교육전후 A교과에 대한 인지 수준 변화']와 ['교육전후 C교과에 대한 인지 수준 변화'])의 T검정 |0.8868285790608438\n",
    "['교육전후 B교과에 대한 인지 수준 변화']와 ['교육전후 C교과에 대한 인지 수준 변화'])의 T검정 |0.7953769834012345\n",
    "<center>기술-기술</center>\n",
    "['교육전후 A교과에 대한 기술 수준 변화']와 ['교육전후 B교과에 대한 기술 수준 변화'])의 T검정 |0.5580118777783936\n",
    "['교육전후 A교과에 대한 기술 수준 변화']와 ['교육전후 C교과에 대한 기술 수준 변화'])의 T검정 |0.538065454177129\n",
    "['교육전후 B교과에 대한 기술 수준 변화']와 ['교육전후 C교과에 대한 기술 수준 변화'])의 T검정 |1.0\n",
    "<center>태도-태도</center>\n",
    "['교육전후 A교과에 대한 태도 수준 변화']와 ['교육전후 B교과에 대한 태도 수준 변화'])의 T검정 |0.5315573847013254\n",
    "['교육전후 A교과에 대한 태도 수준 변화']와 ['교육전후 C교과에 대한 태도 수준 변화'])의 T검정 |0.6964984125435894\n",
    "['교육전후 B교과에 대한 태도 수준 변화']와 ['교육전후 C교과에 대한 태도 수준 변화'])의 T검정 |0.8597140691904506\n",
    "<center>인지-기술</center>\n",
    "['교육전후 A교과에 대한 인지 수준 변화']와 ['교육전후 B교과에 대한 기술 수준 변화'])의 T검정 |0.35102800557499836\n",
    "['교육전후 A교과에 대한 인지 수준 변화']와 ['교육전후 C교과에 대한 기술 수준 변화'])의 T검정 |0.33128378457544705\n",
    "['교육전후 B교과에 대한 인지 수준 변화']와 ['교육전후 A교과에 대한 기술 수준 변화'])의 T검정 |0.579359969879861\n",
    "['교육전후 B교과에 대한 인지 수준 변화']와 ['교육전후 C교과에 대한 기술 수준 변화'])의 T검정 |0.3106764224569088\n",
    "['교육전후 C교과에 대한 인지 수준 변화']와 ['교육전후 A교과에 대한 기술 수준 변화'])의 T검정 |0.7530684368690279\n",
    "['교육전후 C교과에 대한 인지 수준 변화']와 ['교육전후 B교과에 대한 기술 수준 변화'])의 T검정 |0.417239243942396\n",
    "<center>인지-태도</center>\n",
    "['교육전후 A교과에 대한 인지 수준 변화']와 ['교육전후 B교과에 대한 태도 수준 변화'])의 T검정 |0.09025537875694871\n",
    "['교육전후 A교과에 대한 인지 수준 변화']와 ['교육전후 C교과에 대한 태도 수준 변화'])의 T검정 |0.07696670959526002\n",
    "['교육전후 B교과에 대한 인지 수준 변화']와 ['교육전후 A교과에 대한 태도 수준 변화'])의 T검정 |**0.031279556026945314**\n",
    "['교육전후 B교과에 대한 인지 수준 변화']와 ['교육전후 C교과에 대한 태도 수준 변화'])의 T검정 |0.08399575792355764\n",
    "['교육전후 C교과에 대한 인지 수준 변화']와 ['교육전후 A교과에 대한 태도 수준 변화'])의 T검정 |**0.030181887478434196**\n",
    "['교육전후 C교과에 대한 인지 수준 변화']와 ['교육전후 B교과에 대한 태도 수준 변화'])의 T검정 |0.11552285426683223\n",
    "<center>기술-태도</center>\n",
    "['교육전후 A교과에 대한 기술 수준 변화']와 ['교육전후 B교과에 대한 태도 수준 변화'])의 T검정 |0.1570956590894367\n",
    "['교육전후 A교과에 대한 기술 수준 변화']와 ['교육전후 C교과에 대한 태도 수준 변화'])의 T검정 |0.13212324662506572\n",
    "['교육전후 B교과에 대한 기술 수준 변화']와 ['교육전후 A교과에 대한 태도 수준 변화'])의 T검정 |0.26530600243949704\n",
    "['교육전후 B교과에 대한 기술 수준 변화']와 ['교육전후 C교과에 대한 태도 수준 변화'])의 T검정 |0.471301692132184\n",
    "['교육전후 C교과에 대한 기술 수준 변화']와 ['교육전후 A교과에 대한 태도 수준 변화'])의 T검정 |0.23714624624013594\n",
    "['교육전후 C교과에 대한 기술 수준 변화']와 ['교육전후 B교과에 대한 태도 수준 변화'])의 T검정 |0.5279081014195164"
   ]
  },
  {
   "cell_type": "markdown",
   "metadata": {},
   "source": [
    "<center>T검정 데이터셋</center> | <center>T검정 결과</center>\n",
    ":--------|--------:\n",
    "<center>인지-인지</center>\n",
    "['교육전후 A교과에 대한 인지 수준 변화']와 ['교육전후 B교과에 대한 인지 수준 변화'])의 T검정 |0.90\n",
    "['교육전후 A교과에 대한 인지 수준 변화']와 ['교육전후 C교과에 대한 인지 수준 변화'])의 T검정 |0.89\n",
    "['교육전후 B교과에 대한 인지 수준 변화']와 ['교육전후 C교과에 대한 인지 수준 변화'])의 T검정 |0.80\n",
    "<center>기술-기술</center>\n",
    "['교육전후 A교과에 대한 기술 수준 변화']와 ['교육전후 B교과에 대한 기술 수준 변화'])의 T검정 |0.56\n",
    "['교육전후 A교과에 대한 기술 수준 변화']와 ['교육전후 C교과에 대한 기술 수준 변화'])의 T검정 |0.54\n",
    "['교육전후 B교과에 대한 기술 수준 변화']와 ['교육전후 C교과에 대한 기술 수준 변화'])의 T검정 |1.00\n",
    "<center>태도-태도</center>\n",
    "['교육전후 A교과에 대한 태도 수준 변화']와 ['교육전후 B교과에 대한 태도 수준 변화'])의 T검정 |0.53\n",
    "['교육전후 A교과에 대한 태도 수준 변화']와 ['교육전후 C교과에 대한 태도 수준 변화'])의 T검정 |0.70\n",
    "['교육전후 B교과에 대한 태도 수준 변화']와 ['교육전후 C교과에 대한 태도 수준 변화'])의 T검정 |0.86\n",
    "<center>인지-기술</center>\n",
    "['교육전후 A교과에 대한 인지 수준 변화']와 ['교육전후 B교과에 대한 기술 수준 변화'])의 T검정 |0.35\n",
    "['교육전후 A교과에 대한 인지 수준 변화']와 ['교육전후 C교과에 대한 기술 수준 변화'])의 T검정 |0.33\n",
    "['교육전후 B교과에 대한 인지 수준 변화']와 ['교육전후 A교과에 대한 기술 수준 변화'])의 T검정 |0.58\n",
    "['교육전후 B교과에 대한 인지 수준 변화']와 ['교육전후 C교과에 대한 기술 수준 변화'])의 T검정 |0.31\n",
    "['교육전후 C교과에 대한 인지 수준 변화']와 ['교육전후 A교과에 대한 기술 수준 변화'])의 T검정 |0.75\n",
    "['교육전후 C교과에 대한 인지 수준 변화']와 ['교육전후 B교과에 대한 기술 수준 변화'])의 T검정 |0.42\n",
    "<center>인지-태도</center>\n",
    "['교육전후 A교과에 대한 인지 수준 변화']와 ['교육전후 B교과에 대한 태도 수준 변화'])의 T검정 |0.09\n",
    "['교육전후 A교과에 대한 인지 수준 변화']와 ['교육전후 C교과에 대한 태도 수준 변화'])의 T검정 |0.08\n",
    "['교육전후 B교과에 대한 인지 수준 변화']와 ['교육전후 A교과에 대한 태도 수준 변화'])의 T검정 |**0.03**\n",
    "['교육전후 B교과에 대한 인지 수준 변화']와 ['교육전후 C교과에 대한 태도 수준 변화'])의 T검정 |0.08\n",
    "['교육전후 C교과에 대한 인지 수준 변화']와 ['교육전후 A교과에 대한 태도 수준 변화'])의 T검정 |**0.03**\n",
    "['교육전후 C교과에 대한 인지 수준 변화']와 ['교육전후 B교과에 대한 태도 수준 변화'])의 T검정 |0.12\n",
    "<center>기술-태도</center>\n",
    "['교육전후 A교과에 대한 기술 수준 변화']와 ['교육전후 B교과에 대한 태도 수준 변화'])의 T검정 |0.16\n",
    "['교육전후 A교과에 대한 기술 수준 변화']와 ['교육전후 C교과에 대한 태도 수준 변화'])의 T검정 |0.13\n",
    "['교육전후 B교과에 대한 기술 수준 변화']와 ['교육전후 A교과에 대한 태도 수준 변화'])의 T검정 |0.27\n",
    "['교육전후 B교과에 대한 기술 수준 변화']와 ['교육전후 C교과에 대한 태도 수준 변화'])의 T검정 |0.47\n",
    "['교육전후 C교과에 대한 기술 수준 변화']와 ['교육전후 A교과에 대한 태도 수준 변화'])의 T검정 |0.24\n",
    "['교육전후 C교과에 대한 기술 수준 변화']와 ['교육전후 B교과에 대한 태도 수준 변화'])의 T검정 |0.53"
   ]
  },
  {
   "cell_type": "markdown",
   "metadata": {},
   "source": [
    "* ['교육전후 B교과에 대한 인지 수준 변화']와 ['교육전후 A교과에 대한 태도 수준 변화']의 T검정 결과(P값: 0.031)와 \n",
    "* ['교육전후 C교과에 대한 인지 수준 변화']와 ['교육전후 A교과에 대한 태도 수준 변화']의 T검정 결과(P값: 0.030)에 따라  \n",
    "\n",
    "\n",
    "B교과(개도국을 위한 적용가능한 수질개선기술) 및 C교과(개도국을 위한 미디어시티, 도로, 교통시설 개발)에 대한 인지 수준이 증가할 수록 A교과(PPP와 개도국에 대한 PPP적용방법에 대한 이해)에 대한 태도, 즉 PPP 활용을 중요하게 인식하는 수준이 증가함을 알 수 있다.  \n",
    "\n"
   ]
  },
  {
   "cell_type": "markdown",
   "metadata": {},
   "source": [
    "### 교육전후 교과별 '인지 수준 - 기술 수준 - 태도 수준' 변화 데이터"
   ]
  },
  {
   "cell_type": "code",
   "execution_count": null,
   "metadata": {},
   "outputs": [],
   "source": [
    "df_abc = pd.concat([df_cog_a['성명'], \n",
    "          df_cog_a['교육전후 A교과에 대한 인지 수준 변화'], df_cog_b['교육전후 B교과에 대한 인지 수준 변화'],\n",
    "          df_cog_c['교육전후 C교과에 대한 인지 수준 변화'], df_tech_a['교육전후 A교과에 대한 기술 수준 변화'],\n",
    "          df_tech_b['교육전후 B교과에 대한 기술 수준 변화'], df_tech_c['교육전후 C교과에 대한 기술 수준 변화'],\n",
    "          df_atti_a['교육전후 A교과에 대한 태도 수준 변화'], df_atti_b['교육전후 B교과에 대한 태도 수준 변화'],\n",
    "          df_atti_c['교육전후 C교과에 대한 태도 수준 변화']], axis=1)\n",
    "\n",
    "df_abc"
   ]
  },
  {
   "cell_type": "code",
   "execution_count": null,
   "metadata": {},
   "outputs": [],
   "source": [
    "# 기술 통계 계산을 위해 데이터형 변경\n",
    "\n",
    "df_abc.iloc[:,1] = df_abc.iloc[:,1].astype(int)\n",
    "df_abc.iloc[:,2] = df_abc.iloc[:,2].astype(int)\n",
    "df_abc.iloc[:,3] = df_abc.iloc[:,3].astype(int)\n",
    "df_abc.iloc[:,4] = df_abc.iloc[:,4].astype(int)\n",
    "df_abc.iloc[:,5] = df_abc.iloc[:,5].astype(int)\n",
    "df_abc.iloc[:,6] = df_abc.iloc[:,6].astype(int)\n",
    "df_abc.iloc[:,7] = df_abc.iloc[:,7].astype(int)\n",
    "df_abc.iloc[:,8] = df_abc.iloc[:,8].astype(int)\n",
    "df_abc.iloc[:,9] = df_abc.iloc[:,9].astype(int)\n",
    "\n",
    "df_abc"
   ]
  },
  {
   "cell_type": "markdown",
   "metadata": {},
   "source": [
    "* 사전․후 학업성취도 차이가 (-) 값인 경우, \n",
    "* 사전 조사에서 너무 높은 값을 부여하는 등의 문제로 인해 (-)값이 넷 이상인 학생의 경우, 특이값으로 간주하여 성취도 분석에서 제외하여 계산\n",
    "* 제외대상자: Khin Ohnmar MYINT THEIN / Joz Carlos Gabrillo ORDILLANO / Jacqueline Yamileth RIVERA AYALA "
   ]
  },
  {
   "cell_type": "code",
   "execution_count": null,
   "metadata": {},
   "outputs": [],
   "source": [
    "df_abc.drop(df_abc.index[[6,8,9]], inplace=True)"
   ]
  },
  {
   "cell_type": "code",
   "execution_count": null,
   "metadata": {},
   "outputs": [],
   "source": [
    "df_abc.describe().rename(index={'count': '응답자수','mean': '평균값',\n",
    "                                'std': '표준편차','min': '최소값', '25%':'25%값', \n",
    "                                '50%':'중간값', '75%':'75%값','max':'최대값'})"
   ]
  },
  {
   "cell_type": "markdown",
   "metadata": {},
   "source": [
    "### 강의평가 데이터를  설문결과 및 학생정보 데이터에 병합"
   ]
  },
  {
   "cell_type": "code",
   "execution_count": null,
   "metadata": {},
   "outputs": [],
   "source": [
    "eval_all = eval_all.set_index('성명')\n",
    "eval_all = pd.merge(eval_all,eval_all_crs_eval,left_index=True, right_index=True)\n",
    "eval_all.head()"
   ]
  },
  {
   "cell_type": "code",
   "execution_count": null,
   "metadata": {},
   "outputs": [],
   "source": [
    "df_abc = df_abc.set_index('성명')\n",
    "eval_all = pd.merge(eval_all,df_abc,left_index=True, right_index=True)\n",
    "eval_all.head()"
   ]
  },
  {
   "cell_type": "markdown",
   "metadata": {},
   "source": [
    "**데이터 타입이 'object'인 열을 찾은 후, 평균 계산이 가능한 float64로 변경**"
   ]
  },
  {
   "cell_type": "code",
   "execution_count": null,
   "metadata": {},
   "outputs": [],
   "source": [
    "pd.DataFrame(eval_all.dtypes == 'object').index.values\n",
    "\n",
    "eval_all['1-1. 연수과정 만족도_맞춤형 구성'] = eval_all['1-1. 연수과정 만족도_맞춤형 구성'].astype('float64')\n",
    "eval_all['교육전후 A교과에 대한 인지 수준 변화'] = eval_all['교육전후 A교과에 대한 인지 수준 변화'].astype('float64')\n",
    "eval_all['교육전후 B교과에 대한 인지 수준 변화'] = eval_all['교육전후 B교과에 대한 인지 수준 변화'].astype('float64')\n",
    "eval_all['교육전후 C교과에 대한 인지 수준 변화'] = eval_all['교육전후 C교과에 대한 인지 수준 변화'].astype('float64')\n",
    "eval_all['교육전후 A교과에 대한 기술 수준 변화'] = eval_all['교육전후 A교과에 대한 기술 수준 변화'].astype('float64')\n",
    "eval_all['교육전후 B교과에 대한 기술 수준 변화'] = eval_all['교육전후 B교과에 대한 기술 수준 변화'].astype('float64')\n",
    "eval_all['교육전후 C교과에 대한 기술 수준 변화'] = eval_all['교육전후 C교과에 대한 기술 수준 변화'].astype('float64')\n",
    "eval_all['교육전후 A교과에 대한 태도 수준 변화'] = eval_all['교육전후 A교과에 대한 태도 수준 변화'].astype('float64')\n",
    "eval_all['교육전후 B교과에 대한 태도 수준 변화'] = eval_all['교육전후 B교과에 대한 태도 수준 변화'].astype('float64')\n",
    "eval_all['교육전후 C교과에 대한 태도 수준 변화'] = eval_all['교육전후 C교과에 대한 태도 수준 변화'].astype('float64')"
   ]
  },
  {
   "cell_type": "code",
   "execution_count": null,
   "metadata": {},
   "outputs": [],
   "source": [
    "eval_all.loc[:,(eval_all.dtypes == 'float64')].dropna(how='all',axis=1)"
   ]
  },
  {
   "cell_type": "code",
   "execution_count": null,
   "metadata": {},
   "outputs": [],
   "source": [
    "eval_all.reset_index(inplace=True)"
   ]
  },
  {
   "cell_type": "code",
   "execution_count": null,
   "metadata": {},
   "outputs": [],
   "source": [
    "bef_af_gap = eval_all[['교육전후 A교과에 대한 인지 수준 변화', '교육전후 B교과에 대한 인지 수준 변화',\n",
    "                     '교육전후 C교과에 대한 인지 수준 변화', '교육전후 A교과에 대한 기술 수준 변화',\n",
    "                     '교육전후 B교과에 대한 기술 수준 변화', '교육전후 C교과에 대한 기술 수준 변화',\n",
    "                     '교육전후 A교과에 대한 태도 수준 변화', '교육전후 B교과에 대한 태도 수준 변화',\n",
    "                     '교육전후 C교과에 대한 태도 수준 변화']]"
   ]
  },
  {
   "cell_type": "markdown",
   "metadata": {},
   "source": [
    "### 직책별 교육전후 교과별 '인지 수준 - 기술 수준 - 태도 수준' 변화 분석"
   ]
  },
  {
   "cell_type": "code",
   "execution_count": null,
   "metadata": {},
   "outputs": [],
   "source": [
    "bef_af_gap_by_pos = bef_af_gap.groupby(eval_all['직책']).mean()\n",
    "bef_af_gap_by_pos['평균'] = bef_af_gap_by_pos.mean(axis=1)\n",
    "bef_af_gap_by_pos"
   ]
  },
  {
   "cell_type": "markdown",
   "metadata": {},
   "source": [
    "* '일반직원' / '중간관리직' / '고위관리직/ 국장급' 직책별로  '교과별 분야별 교육전후 수준 변화'의 평균을 측정한 결과, '고위관리직/ 국장급'의 수준 변화가 가장 큰 것으로 나타났으며, 고위관리직일수록 교육의 효과가 크다고 할 수 있다."
   ]
  },
  {
   "cell_type": "markdown",
   "metadata": {},
   "source": [
    "### 성별 교육전후 교과별 '인지 수준 - 기술 수준 - 태도 수준' 변화 분석"
   ]
  },
  {
   "cell_type": "code",
   "execution_count": null,
   "metadata": {},
   "outputs": [],
   "source": [
    "bef_af_gap_by_pos = bef_af_gap.groupby(eval_all['성별_x']).mean()\n",
    "bef_af_gap_by_pos['평균'] = bef_af_gap_by_pos.mean(axis=1)\n",
    "bef_af_gap_by_pos.reset_index().rename(columns={'성별_x': '성별'}).set_index('성별')"
   ]
  },
  {
   "cell_type": "markdown",
   "metadata": {},
   "source": [
    "* 성별로 '교과별 분야별 교육전후 수준 변화'의 평균을 측정한 결과, 남자가 여자에 비해 수준 변화가 큰 것으로 나타났다."
   ]
  },
  {
   "cell_type": "markdown",
   "metadata": {},
   "source": [
    "# 강의평가 결과"
   ]
  },
  {
   "cell_type": "code",
   "execution_count": null,
   "metadata": {},
   "outputs": [],
   "source": [
    "# eval_all에서 '숫자-숫자'포함한 열 값 추출 후, '성명'열과 합쳐 강의평가 데이터프레임 생성. 현재 eval_all_crs_eval과 동일 값\n",
    "# pd.concat([eval_all['성명'], eval_all.filter(regex = '^\\\\d-\\\\d' , axis=1)],axis=1)\n",
    "eval_all_crs_eval['1-1. 연수과정 만족도_맞춤형 구성'] = eval_all_crs_eval['1-1. 연수과정 만족도_맞춤형 구성'].astype('float64')"
   ]
  },
  {
   "cell_type": "code",
   "execution_count": null,
   "metadata": {},
   "outputs": [],
   "source": [
    "eval_all_crs_eval"
   ]
  },
  {
   "cell_type": "code",
   "execution_count": null,
   "metadata": {},
   "outputs": [],
   "source": [
    "eval_all_crs_eval['강의1: 국제협력 사업실행팀 수자원개발 및 관리사례'] = eval_all_crs_eval.loc[:,'1-1. 연수과정 만족도_맞춤형 구성':'1-6. 강의시간 적절성'].mean(axis=1)\n",
    "eval_all_crs_eval['강의2: 국제협력 사업실행팀 수처리시설건설사례 세미나'] = eval_all_crs_eval.loc[:,'2-1. 연수과정 만족도_맞춤형 구성':'2-6. 강의시간 적절성'].mean(axis=1)\n",
    "eval_all_crs_eval['강의3: 민간투자사업제도와 적격성조사'] = eval_all_crs_eval.loc[:,'3-1. 연수과정 만족도_맞춤형 구성':'3-6. 강의시간 적절성'].mean(axis=1)\n",
    "eval_all_crs_eval['강의4: 도로교통시설과 도로정책'] = eval_all_crs_eval.loc[:,'4-1. 연수과정 만족도_맞춤형 구성':'4-6. 강의시간 적절성'].mean(axis=1)\n",
    "eval_all_crs_eval['강의5: 한국의 공공투자관리시스템'] = eval_all_crs_eval.loc[:,'5-1. 연수과정 만족도_맞춤형 구성':'5-6. 강의시간 적절성'].mean(axis=1)\n",
    "eval_all_crs_eval['강의6: 상암미디어시티 개발사례'] = eval_all_crs_eval.loc[:,'6-1. 연수과정 만족도_맞춤형 구성':'6-6. 강의시간 적절성'].mean(axis=1, skipna=True)\n",
    "eval_all_crs_eval['강의7: 국제협력사업실습'] = eval_all_crs_eval.loc[:,'7-1. 연수과정 만족도_맞춤형 구성':'7-6. 강의시간 적절성'].mean(axis=1, skipna=True)\n",
    "eval_all_crs_eval"
   ]
  },
  {
   "cell_type": "code",
   "execution_count": null,
   "metadata": {},
   "outputs": [],
   "source": [
    "# ignore_index=True 인자가 있어야만 열별 합계 병합이 가능하며, ignore_index=True 실행 시 인덱스인 '성명'열이 사라지므로 이를 방지하기 위해 인덱스를 reset 후 .append\n",
    "eval_all_crs_eval = eval_all_crs_eval.reset_index().append(eval_all_crs_eval.mean(skipna=True, axis=0), ignore_index=True)"
   ]
  },
  {
   "cell_type": "code",
   "execution_count": null,
   "metadata": {},
   "outputs": [],
   "source": [
    "# NaN 값을 '평균'으로 변경\n",
    "eval_all_crs_eval = eval_all_crs_eval.replace({'성명': np.nan}, {'성명': '평균'}).set_index('성명')\n",
    "eval_all_crs_eval"
   ]
  },
  {
   "cell_type": "code",
   "execution_count": null,
   "metadata": {},
   "outputs": [],
   "source": [
    "eval_all_crs_eval.columns.values"
   ]
  },
  {
   "cell_type": "markdown",
   "metadata": {},
   "source": [
    "## 문항별 강의평가"
   ]
  },
  {
   "cell_type": "code",
   "execution_count": null,
   "metadata": {},
   "outputs": [],
   "source": [
    "eval_all_crs_eval_question = eval_all_crs_eval.reset_index().drop(eval_all_crs_eval.columns[[41,42,43,44,45,46,47,48]],1)\n",
    "eval_all_crs_eval_question"
   ]
  },
  {
   "cell_type": "code",
   "execution_count": null,
   "metadata": {},
   "outputs": [],
   "source": [
    "eval_all_crs_eval_question_mean = \\\n",
    "eval_all_crs_eval_question.drop(eval_all_crs_eval_question.index[[0,1,2,3,4,5,6,7,8,9,10,11,12]]).\\\n",
    "                          rename(columns={'성명': '구분'}).set_index('구분')"
   ]
  },
  {
   "cell_type": "code",
   "execution_count": null,
   "metadata": {},
   "outputs": [],
   "source": [
    "eval_all_crs_eval_question_mean"
   ]
  },
  {
   "cell_type": "code",
   "execution_count": null,
   "metadata": {},
   "outputs": [],
   "source": [
    "eval_all_crs_eval_question_mean.astype('float64')"
   ]
  },
  {
   "cell_type": "code",
   "execution_count": null,
   "metadata": {},
   "outputs": [],
   "source": [
    "eval_all_crs_eval_question_mean['1. 연수과정 만족도_맞춤형 구성'] = eval_all_crs_eval_question_mean.iloc[:,[0,6,12,18,24,30,36]].mean(axis=1)\n",
    "eval_all_crs_eval_question_mean['2. 강사 전문성'] = eval_all_crs_eval_question_mean.iloc[:,[1,7,13,19,25,31,37]].mean(axis=1)\n",
    "eval_all_crs_eval_question_mean['3. 강의교재'] = eval_all_crs_eval_question_mean.iloc[:,[2,8,14,20,26,32,38]].mean(axis=1)\n",
    "eval_all_crs_eval_question_mean['4.강사 영어구사력 (또는 통역 숙련도)'] = eval_all_crs_eval_question_mean.iloc[:,[3,9,15,21,27,33,39]].mean(axis=1)\n",
    "eval_all_crs_eval_question_mean['5. 참여도 제고'] = eval_all_crs_eval_question_mean.iloc[:,[4,10,16,22,28,34,40]].mean(axis=1)\n",
    "eval_all_crs_eval_question_mean['6. 강의시간 적절성'] = eval_all_crs_eval_question_mean.iloc[:,[5,11,17,23,29,35,41]].mean(axis=1)\n",
    "eval_all_crs_eval_question_mean2 = eval_all_crs_eval_question_mean.iloc[:,[41,42,43,44,45,46]]"
   ]
  },
  {
   "cell_type": "code",
   "execution_count": null,
   "metadata": {},
   "outputs": [],
   "source": [
    "eval_all_crs_eval_question_mean2.T"
   ]
  },
  {
   "cell_type": "markdown",
   "metadata": {},
   "source": [
    "## 학생별 강의평가"
   ]
  },
  {
   "cell_type": "code",
   "execution_count": null,
   "metadata": {},
   "outputs": [],
   "source": [
    "# 학생별 강의평가 '평균'의 데이터 프레임 생성\n",
    "eval_all_crs_eval_avr = eval_all_crs_eval.iloc[:,[42,43,44,45,46,47,48]]\n",
    "eval_all_crs_eval_avr"
   ]
  },
  {
   "cell_type": "markdown",
   "metadata": {},
   "source": [
    "## 강의별 강의평가"
   ]
  },
  {
   "cell_type": "markdown",
   "metadata": {},
   "source": [
    "### 강의별 강의평가 평균"
   ]
  },
  {
   "cell_type": "code",
   "execution_count": null,
   "metadata": {},
   "outputs": [],
   "source": [
    "# 강의평가 '평균'의 데이터 프레임 생성\n",
    "pd.DataFrame(eval_all_crs_eval_avr.iloc[13])"
   ]
  },
  {
   "cell_type": "markdown",
   "metadata": {},
   "source": [
    "### 강의별 강의평가 평균의 바그래프"
   ]
  },
  {
   "cell_type": "code",
   "execution_count": null,
   "metadata": {},
   "outputs": [],
   "source": [
    "# 강의평가 '평균'의 바그래프\n",
    "\n",
    "eval_all_crs_eval_avr_of_avr = eval_all_crs_eval_avr.iloc[13]\n",
    "eval_all_crs_eval_avr_of_avr\n",
    "\n",
    "plt.figure(figsize=(16, 10))\n",
    "# index=np.arange(len(eval_all_crs_eval_avr))\n",
    "plt.barh(eval_all_crs_eval_avr_of_avr.index, eval_all_crs_eval_avr_of_avr, 0.7)\n",
    "plt.title('강의평가', position=(0.5,1.02), fontsize=20)\n",
    "plt.ylabel('강의별 평균', fontsize=18)\n",
    "plt.xlabel('평균점수', fontsize=18)\n",
    "plt.xticks(np.arange(0,5.25,0.25), fontsize=15)\n",
    "plt.yticks(fontsize=15)\n",
    "plt.grid(True)    \n",
    "plt.show()"
   ]
  },
  {
   "cell_type": "markdown",
   "metadata": {},
   "source": [
    "### 강의별 강의평가 평균 간 correlation"
   ]
  },
  {
   "cell_type": "code",
   "execution_count": null,
   "metadata": {},
   "outputs": [],
   "source": [
    "eval_all_crs_eval_avr.corr()"
   ]
  },
  {
   "cell_type": "code",
   "execution_count": null,
   "metadata": {},
   "outputs": [],
   "source": [
    "plt.figure(figsize=(16,10))\n",
    "plt.title('강의별 강의평가 평균 간 상관관계',position=(0.5,1.02), fontsize=20)\n",
    "plt.xticks(fontsize=15)\n",
    "plt.yticks(fontsize=15)\n",
    "ax = sns.heatmap(data=eval_all_crs_eval_avr.corr(), annot=True, fmt='.2f', linewidths=.5, cmap='Blues')\n",
    "plt.show(ax)"
   ]
  },
  {
   "cell_type": "markdown",
   "metadata": {},
   "source": [
    "'강의3: 민간투자사업제도와 적격성조사'과 '강의4: 도로교통시설과 도로정책'\n",
    "\n",
    "'강의3: 민간투자사업제도와 적격성조사'과 '강의5: 한국의 공공투자관리시스템'\n",
    "\n",
    "의 강의평가가 상관관계가 높은 것으로 나타났다."
   ]
  },
  {
   "cell_type": "markdown",
   "metadata": {},
   "source": [
    "- 인덱스를 통한 로우 삭제\n",
    "    - drop 명령어를 통해 특정 index를 가진 row를 삭제할 수 있다. df.index[1] 명령어는 1번 째 위치에 있는 index를 가져온다. 가져온 이 index를 drop에 인풋으로 넣어주면 해당 index를 가진 row를 삭제할 수 있다.\n",
    "\n",
    "\n",
    "- 데이터 수정하기\n",
    "    - 특정 컬럼, 로우의 데이터를 수정하고 싶으면 ix 를 이용하면 편하다. 아래 코드는 인덱스=0, 컬럼=A의 데이터를 0으로 수정한다. \n",
    "    - df.ix[0]['A'] = 0\n",
    "  \n",
    "  \n",
    "- 결측값, 실측값을 다른 값으로 교체하기 : replace(old_val, new_val)\n",
    "\n",
    "\n",
    "- list 를 다른 list 값으로 교체하기 : replace([old1, old2, ...], [new1, new2, ...])\n",
    "\n",
    "\n",
    "- mapping dict 로 원래 값, 교체할 값 매핑 : replace({old1 : new1, old2: new2})\n",
    "\n",
    "\n",
    "- DataFrame의 특정 칼럼 값 교체하기 : df.replace({'col1': old_val}, {'col1': new_val})"
   ]
  },
  {
   "cell_type": "code",
   "execution_count": null,
   "metadata": {},
   "outputs": [],
   "source": []
  }
 ],
 "metadata": {
  "accelerator": "GPU",
  "colab": {
   "collapsed_sections": [],
   "name": "koica_post_training3.ipynb",
   "provenance": [],
   "version": "0.3.2"
  },
  "hide_input": false,
  "kernelspec": {
   "display_name": "Python 3",
   "language": "python",
   "name": "python3"
  },
  "language_info": {
   "codemirror_mode": {
    "name": "ipython",
    "version": 3
   },
   "file_extension": ".py",
   "mimetype": "text/x-python",
   "name": "python",
   "nbconvert_exporter": "python",
   "pygments_lexer": "ipython3",
   "version": "3.7.3"
  },
  "toc": {
   "base_numbering": 1,
   "nav_menu": {},
   "number_sections": true,
   "sideBar": true,
   "skip_h1_title": false,
   "title_cell": "Table of Contents",
   "title_sidebar": "Contents",
   "toc_cell": true,
   "toc_position": {},
   "toc_section_display": true,
   "toc_window_display": true
  }
 },
 "nbformat": 4,
 "nbformat_minor": 4
}
