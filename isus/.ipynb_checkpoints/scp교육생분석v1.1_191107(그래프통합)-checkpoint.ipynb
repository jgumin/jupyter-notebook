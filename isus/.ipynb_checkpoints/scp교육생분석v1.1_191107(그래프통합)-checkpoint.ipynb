{
 "cells": [
  {
   "cell_type": "markdown",
   "metadata": {
    "colab_type": "text",
    "id": "view-in-github"
   },
   "source": [
    "<a href=\"https://colab.research.google.com/github/jgumin/jupyter-notebook/blob/master/isus/scp%EA%B5%90%EC%9C%A1%EC%83%9D%EB%B6%84%EC%84%9D.ipynb\" target=\"_parent\"><img src=\"https://colab.research.google.com/assets/colab-badge.svg\" alt=\"Open In Colab\"/></a>"
   ]
  },
  {
   "cell_type": "markdown",
   "metadata": {
    "colab_type": "text",
    "id": "SAQAWRxeus1_"
   },
   "source": [
    "# scp_analysis\n"
   ]
  },
  {
   "cell_type": "code",
   "execution_count": null,
   "metadata": {
    "cellView": "both",
    "colab": {},
    "colab_type": "code",
    "id": "cZnG5jGs_LMD"
   },
   "outputs": [],
   "source": [
    "# !pip install plotly==4.2.1\n",
    "# !pip install qgrid"
   ]
  },
  {
   "cell_type": "code",
   "execution_count": null,
   "metadata": {
    "colab": {
     "base_uri": "https://localhost:8080/",
     "height": 1000
    },
    "colab_type": "code",
    "id": "J3HgGi3GubEN",
    "outputId": "6c330a4f-d29b-454a-c7de-8e030dbe5557"
   },
   "outputs": [],
   "source": [
    "!jupyter nbextension enable --py --sys-prefix widgetsnbextension\n",
    "!jupyter nbextension enable --py --sys-prefix qgrid"
   ]
  },
  {
   "cell_type": "code",
   "execution_count": 2,
   "metadata": {
    "cellView": "both",
    "colab": {},
    "colab_type": "code",
    "id": "fn5AhKOK95MP"
   },
   "outputs": [],
   "source": [
    "# 노트북 안에서 그래프를 그리기 위해\n",
    "%matplotlib inline\n",
    "# %matplotlib nbagg\n",
    "    \n",
    "import pandas as pd\n",
    "import numpy as np\n",
    "import matplotlib.pyplot as plt\n",
    "import seaborn as sns\n",
    "plt.rcParams['figure.figsize'] = [10, 6]\n",
    "\n",
    "\n",
    "# Suppress Deprecation and Incorrect Usage Warnings \n",
    "import warnings\n",
    "warnings.filterwarnings('ignore')\n",
    "\n",
    "# #  display two pandas tables side by side\n",
    "# from IPython.display import display, HTML\n",
    "# CSS = \"\"\"\n",
    "# .output {\n",
    "#     flex-direction: row;\n",
    "# }\n",
    "# \"\"\"\n",
    "# HTML('<style>{}</style>'.format(CSS))\n",
    "\n",
    "\n",
    "# 기본 글꼴 변경\n",
    "import matplotlib as mpl\n",
    "mpl.font_manager._rebuild()\n",
    "mpl.pyplot.rc('font', family='NanumBarunGothic')\n",
    "\n",
    "# allow multiple outputs\n",
    "# from IPython.core.interactiveshell import InteractiveShell\n",
    "# InteractiveShell.ast_node_interactivity = \"all\"\n",
    "\n",
    "# allow image input\n",
    "from IPython.display import Image\n",
    "from IPython.display import display"
   ]
  },
  {
   "cell_type": "code",
   "execution_count": null,
   "metadata": {
    "cellView": "both",
    "colab": {},
    "colab_type": "code",
    "id": "WQMsczZXLCe5"
   },
   "outputs": [],
   "source": [
    "Image('https://i.stack.imgur.com/ScJfR.png')"
   ]
  },
  {
   "cell_type": "code",
   "execution_count": null,
   "metadata": {
    "colab": {},
    "colab_type": "code",
    "id": "TxhhDCIcxQ2q"
   },
   "outputs": [],
   "source": [
    "# qg = qgrid.show_grid(df, show_toolbar = True, \n",
    "#                 grid_options={'fullWidthRows': True,'syncColumnCellResize': True,\n",
    "#                               'forceFitColumns': True, 'rowHeight': 40,\n",
    "#                               'enableColumnReorder': True,'editable': True,\n",
    "#                               'enableTextSelectionOnCells': True}\n",
    "#                               )"
   ]
  },
  {
   "cell_type": "markdown",
   "metadata": {
    "colab_type": "text",
    "id": "jq8RvkBJFsmx"
   },
   "source": [
    "# Library Importing(plotly 4.2.1)"
   ]
  },
  {
   "cell_type": "code",
   "execution_count": 3,
   "metadata": {
    "cellView": "both",
    "colab": {
     "base_uri": "https://localhost:8080/",
     "height": 35
    },
    "colab_type": "code",
    "id": "148pDlGfNAVo",
    "outputId": "49394394-f510-4e72-85ce-70253134abf5"
   },
   "outputs": [
    {
     "name": "stdout",
     "output_type": "stream",
     "text": [
      "4.2.1\n"
     ]
    }
   ],
   "source": [
    "from plotly import __version__\n",
    "print (__version__)\n",
    "import plotly.express as px\n",
    "from plotly.subplots import make_subplots\n",
    "import plotly.graph_objs as go\n",
    "import plotly.figure_factory as ff\n",
    "\n",
    "# Display all cell outputs\n",
    "from IPython.core.interactiveshell import InteractiveShell\n",
    "\n",
    "# Jupyter setup\n",
    "# init_notebook_mode(connected=True)\n",
    "\n",
    "import ipywidgets as widgets"
   ]
  },
  {
   "cell_type": "code",
   "execution_count": 4,
   "metadata": {
    "cellView": "both",
    "colab": {},
    "colab_type": "code",
    "id": "FtE7_WMYF4uh"
   },
   "outputs": [],
   "source": [
    "import plotly\n",
    "from plotly import tools\n",
    "\n",
    "# plotly + cufflinks in offline mode\n",
    "from plotly.offline import download_plotlyjs, init_notebook_mode, plot, iplot"
   ]
  },
  {
   "cell_type": "markdown",
   "metadata": {
    "colab_type": "text",
    "id": "xVhdqRHoF3w0"
   },
   "source": [
    "# Library Importing(plotly 3.6.1)"
   ]
  },
  {
   "cell_type": "code",
   "execution_count": null,
   "metadata": {
    "cellView": "both",
    "colab": {},
    "colab_type": "code",
    "id": "bQydt3KwFpgL"
   },
   "outputs": [],
   "source": [
    "from plotly import __version__\n",
    "print (__version__)\n",
    "import plotly\n",
    "from plotly import tools\n",
    "import plotly.plotly as py\n",
    "import plotly.graph_objs as go\n",
    "import plotly.figure_factory as ff\n",
    "\n",
    "# Cufflinks wrapper on plotly\n",
    "import cufflinks as cf\n",
    "\n",
    "# Display all cell outputs\n",
    "from IPython.core.interactiveshell import InteractiveShell\n",
    "\n",
    "# plotly + cufflinks in offline mode\n",
    "from plotly.offline import download_plotlyjs, init_notebook_mode, plot, iplot\n",
    "cf.go_offline()\n",
    "\n",
    "# set the global theme\n",
    "cf.set_config_file(world_readable=True, theme='pearl', offline=True)\n",
    "\n",
    "# Jupyter setup\n",
    "init_notebook_mode(connected=True)\n",
    "\n",
    "import ipywidgets as widgets"
   ]
  },
  {
   "cell_type": "code",
   "execution_count": null,
   "metadata": {
    "cellView": "both",
    "colab": {},
    "colab_type": "code",
    "id": "mVTfU_xf_tAs"
   },
   "outputs": [],
   "source": [
    "def configure_plotly_browser_state():\n",
    "  import IPython\n",
    "  display(IPython.core.display.HTML('''\n",
    "        <script src=\"/static/components/requirejs/require.js\"></script>\n",
    "        <script>\n",
    "          requirejs.config({\n",
    "            paths: {\n",
    "              base: '/static/base',\n",
    "              plotly: 'https://cdn.plot.ly/plotly-latest.min.js?noext',\n",
    "            },\n",
    "          });\n",
    "        </script>\n",
    "        '''))"
   ]
  },
  {
   "cell_type": "markdown",
   "metadata": {
    "colab_type": "text",
    "id": "GpUf3xigGASR"
   },
   "source": [
    "# plotly 테마 설정"
   ]
  },
  {
   "cell_type": "markdown",
   "metadata": {
    "colab_type": "text",
    "id": "zHbaUvIZEiYn"
   },
   "source": [
    "theming 참고1: https://medium.com/plotly/introducing-plotly-py-theming-b644109ac9c7<br>\n",
    "theming 참고2: https://nbviewer.jupyter.org/github/jonmmease/plotly.py_release_notebooks/blob/master/notebooks/v3.4.0/templates-gapminder.ipynb <br>\n",
    "기본theme설정/해제 참고: https://plot.ly/python/templates/#specifying-a-default-themes "
   ]
  },
  {
   "cell_type": "code",
   "execution_count": 5,
   "metadata": {
    "cellView": "both",
    "colab": {},
    "colab_type": "code",
    "id": "00lai7EnHjQy"
   },
   "outputs": [],
   "source": [
    "import plotly.io as pio\n",
    "pio.templates.default = \"plotly\" # ['ggplot2', 'seaborn', 'plotly','plotly_white', 'plotly_dark','presentation', 'xgridoff', 'none']\n",
    "\n",
    "# small-font default\n",
    "\n",
    "# fig = go.Figure(layout={\n",
    "#     'title' : 'Figure Title',\n",
    "#     'font' : {'size': 11,\n",
    "#               # 'family': 'Courier'\n",
    "#               }\n",
    "# })\n",
    "\n",
    "# templated_fig = pio.to_templated(fig)\n",
    "# pio.templates['font11'] = templated_fig.layout.template\n",
    "\n",
    "# pio.templates.default = 'font11'\n",
    "\n",
    "# large-font default\n",
    "\n",
    "# fig = go.Figure(layout={\n",
    "#     'title' : 'Figure Title',\n",
    "#     'font' : {'size': 15, 'family': 'Courier'}\n",
    "# })\n",
    "\n",
    "# templated_fig = pio.to_templated(fig)\n",
    "# pio.templates['large_courier'] = templated_fig.layout.template\n",
    "\n",
    "# pio.templates.default = 'large_courier'"
   ]
  },
  {
   "cell_type": "code",
   "execution_count": 6,
   "metadata": {
    "cellView": "both",
    "colab": {},
    "colab_type": "code",
    "id": "NClWYj6RQyeO"
   },
   "outputs": [],
   "source": [
    "scp = pd.read_excel('../content/지원자현황.xlsx', sheet_name='기본정보')\n",
    "scp_reg = scp.query(\"등록여부 == '등록'\").sort_values(by='국문성명')\n",
    "pre = pd.read_excel('../content/지원자현황.xlsx', sheet_name='사전설문조사결과')\n",
    "post = pd.read_excel('../content/지원자현황.xlsx', sheet_name='사후설문조사결과')\n",
    "lec = pd.read_excel('../content/지원자현황.xlsx', sheet_name='강의평가결과')"
   ]
  },
  {
   "cell_type": "code",
   "execution_count": null,
   "metadata": {
    "colab": {},
    "colab_type": "code",
    "id": "2LAi0j1Mh3kW"
   },
   "outputs": [],
   "source": [
    "pre_als = \\\n",
    "scp[['국문성명', '영문성명', '생년월일', '나이', '총경력',\n",
    "     '관심분야(대)-편집','소속분류(대)', '재직구분','전문분야(대)',\n",
    "     '실습대상국', '실습분야', '소속기관', '대표직위', '보직',\n",
    "     '직급', '실․국', '부서']].merge(pre, left_on='국문성명',right_on='성명'\n",
    "     ).drop(['ID','시작 시간', '완료 시간', '전자 메일','성명', '기관',\n",
    "             '기관(응답)', '근속년수','근속년수(응답)', '생년'], axis=1\n",
    "      ).rename(columns={'관심분야(대)-편집':'관심분야',\n",
    "                         '소속분류(대)':'소속분류','전문분야(대)':'전문분야'})"
   ]
  },
  {
   "cell_type": "code",
   "execution_count": null,
   "metadata": {
    "colab": {},
    "colab_type": "code",
    "id": "ivu9Mw3yhq26"
   },
   "outputs": [],
   "source": [
    "post_als = \\\n",
    "scp[['국문성명', '영문성명', '생년월일', '나이', '총경력',\n",
    "     '관심분야(대)-편집','소속분류(대)', '재직구분','전문분야(대)',\n",
    "     '실습대상국', '실습분야', '소속기관', '대표직위', '보직',\n",
    "     '직급', '실․국', '부서']].merge(post, left_on='국문성명',right_on='성명'\n",
    "     ).drop(['ID','시작 시간', '완료 시간', '전자 메일','성명', '기관',\n",
    "             '기관(응답)', '근속년수','근속년수(응답)', '생년'], axis=1\n",
    "      ).rename(columns={'관심분야(대)-편집':'관심분야',\n",
    "                         '소속분류(대)':'소속분류','전문분야(대)':'전문분야'})"
   ]
  },
  {
   "cell_type": "markdown",
   "metadata": {
    "colab_type": "text",
    "id": "wn9iM4ENIL2J"
   },
   "source": [
    "# 사전설문분석"
   ]
  },
  {
   "cell_type": "markdown",
   "metadata": {
    "colab_type": "text",
    "id": "kq6NotbolASZ"
   },
   "source": [
    "## 학습영역 간 상관관계"
   ]
  },
  {
   "cell_type": "markdown",
   "metadata": {
    "colab_type": "text",
    "id": "OiaVwHCdRmh5"
   },
   "source": [
    "■ 학습내용 A : 서울시 우수정책 공유사업<br>\n",
    "■ 학습내용 B : 해외도시정책 및 국제개발협력<br>\n",
    "■ 학습내용 C : 해외사업수주기획 및 컨설팅의 이해<br>\n",
    "■ 학습내용 D : 해외도시인프라 환경 및 문화이해"
   ]
  },
  {
   "cell_type": "markdown",
   "metadata": {
    "colab_type": "text",
    "id": "MfN167syh1nK"
   },
   "source": [
    "### 학습내용 관련 컬럼 추출"
   ]
  },
  {
   "cell_type": "code",
   "execution_count": null,
   "metadata": {
    "colab": {
     "base_uri": "https://localhost:8080/",
     "height": 143
    },
    "colab_type": "code",
    "id": "dM4bK9Dmdcqc",
    "outputId": "6f90eaee-1608-4da4-a374-0dbd7e8209f1"
   },
   "outputs": [],
   "source": [
    "pre_corr = \\\n",
    "pre_als[\n",
    "pre_als.columns[pre_als.columns.str.contains('학습내용')]\n",
    "]\n",
    "\n",
    "pre_corr.columns\n",
    "# 또는 pre_als.filter(like=\"학습내용\").corr()"
   ]
  },
  {
   "cell_type": "markdown",
   "metadata": {
    "colab_type": "text",
    "id": "pR2VwnNKiY8Z"
   },
   "source": [
    "### 컬럼명 편집 - 괄호 및 괄호 내 문자 삭제"
   ]
  },
  {
   "cell_type": "code",
   "execution_count": null,
   "metadata": {
    "colab": {},
    "colab_type": "code",
    "id": "t2y9_gq0iAjh"
   },
   "outputs": [],
   "source": [
    "pre_corr.columns = pre_corr.filter(like=\"(\").columns.str.replace(r'\\([^)]*\\)', '')"
   ]
  },
  {
   "cell_type": "code",
   "execution_count": null,
   "metadata": {
    "colab": {
     "base_uri": "https://localhost:8080/",
     "height": 108
    },
    "colab_type": "code",
    "id": "P8znxdZXi9VS",
    "outputId": "cbd6f95d-dd94-47f7-8634-1324190583d1"
   },
   "outputs": [],
   "source": [
    "pre_corr.columns"
   ]
  },
  {
   "cell_type": "markdown",
   "metadata": {
    "colab_type": "text",
    "id": "4NCytI2PkpmY"
   },
   "source": [
    "### 영역별 상관관계 "
   ]
  },
  {
   "cell_type": "code",
   "execution_count": null,
   "metadata": {
    "colab": {},
    "colab_type": "code",
    "id": "RBzdsyBQjCuT"
   },
   "outputs": [],
   "source": [
    "pre_corr.corr().round(2).to_excel('학습영역 간 상관관계.xlsx')"
   ]
  },
  {
   "cell_type": "code",
   "execution_count": null,
   "metadata": {
    "colab": {},
    "colab_type": "code",
    "id": "yTLN5-jtlASb"
   },
   "outputs": [],
   "source": []
  },
  {
   "cell_type": "markdown",
   "metadata": {
    "colab_type": "text",
    "id": "t2_XSJa1xIRc"
   },
   "source": [
    "## 학습영역 간 비교"
   ]
  },
  {
   "cell_type": "markdown",
   "metadata": {
    "colab_type": "text",
    "id": "fRhDIodEv-f2"
   },
   "source": [
    "### 각 영역 내 학습내용별 그룹별 평균"
   ]
  },
  {
   "cell_type": "code",
   "execution_count": null,
   "metadata": {
    "colab": {
     "base_uri": "https://localhost:8080/",
     "height": 408
    },
    "colab_type": "code",
    "id": "xUM855BmhDSn",
    "outputId": "c8fa6e54-d572-4f26-8d39-fb349976e72f"
   },
   "outputs": [],
   "source": [
    "pre_group = pre_als.groupby(pre_als['소속분류'])\n",
    "\n",
    "pre_score = pre_group[pre_als.filter(like=\"학습내용\").columns].apply(lambda x: x.mean()).round(2).T\n",
    "pre_score['평균'] = pre_group[pre_als.filter(like=\"학습내용\").columns].apply(lambda x: x.mean()).round(2).T.mean(axis=1).round(2)\n",
    "pre_score"
   ]
  },
  {
   "cell_type": "code",
   "execution_count": null,
   "metadata": {
    "colab": {},
    "colab_type": "code",
    "id": "GY1MtVFHxsdF"
   },
   "outputs": [],
   "source": [
    "pre_score.to_excel('영역간비교분석.xlsx')"
   ]
  },
  {
   "cell_type": "markdown",
   "metadata": {
    "colab_type": "text",
    "id": "khAo-n9YvcZH"
   },
   "source": [
    "### 해외사업수주기획 및 컨설팅의 이해\"과 \"서울시 우수정책 공유사업\" 간 그룹별 평균의 차"
   ]
  },
  {
   "cell_type": "code",
   "execution_count": null,
   "metadata": {
    "colab": {
     "base_uri": "https://localhost:8080/",
     "height": 126
    },
    "colab_type": "code",
    "id": "OQZ6oxOARqy8",
    "outputId": "37c38bb2-f680-44db-a48a-608daa6f690d"
   },
   "outputs": [],
   "source": [
    "print('\"해외사업수주기획 및 컨설팅의 이해\"과 \"서울시 우수정책 공유사업\" 간 인지적 영역 편차')\n",
    "\n",
    "for x in range(5):\n",
    "  print(str(x+1) + \". \" +\\\n",
    "        pre_group['인지적 (Knowledge) 영역 - 학습내용 C'].mean().index[x] + \" : \" +\\\n",
    "        str((pre_group['인지적 (Knowledge) 영역 - 학습내용 A'].mean()[x]-\\\n",
    "            pre_group['인지적 (Knowledge) 영역 - 학습내용 C'].mean()[x]).round(2)))"
   ]
  },
  {
   "cell_type": "markdown",
   "metadata": {
    "colab_type": "text",
    "id": "mi1_S_Jwud-9"
   },
   "source": [
    "### 각 영역별 학습내용간 그룹별 표준편차"
   ]
  },
  {
   "cell_type": "code",
   "execution_count": null,
   "metadata": {
    "colab": {
     "base_uri": "https://localhost:8080/",
     "height": 72
    },
    "colab_type": "code",
    "id": "DUrrsZ6vsfBF",
    "outputId": "d9e28bc4-2849-4c67-bf89-a3dddda92a12"
   },
   "outputs": [],
   "source": [
    "print(\"인지적 영역의 학습내용간 그룹별 표준편차: \"+str(dict(pre_score[pre_score.index.str.contains(\"인지적\")].std().round(2)[0:5])).replace('{','(').replace('}',')'))\n",
    "print(\"기술적 영역의 학습내용간 그룹별 표준편차: \"+str(dict(pre_score[pre_score.index.str.contains(\"기술적\")].std().round(2)[0:5])).replace('{','(').replace('}',')'))\n",
    "print(\"태도적 영역의 학습내용간 그룹별 표준편차: \"+str(dict(pre_score[pre_score.index.str.contains(\"태도적\")].std().round(2)[0:5])).replace('{','(').replace('}',')'))"
   ]
  },
  {
   "cell_type": "code",
   "execution_count": null,
   "metadata": {
    "colab": {},
    "colab_type": "code",
    "id": "O41E_NVUlASW"
   },
   "outputs": [],
   "source": []
  },
  {
   "cell_type": "code",
   "execution_count": null,
   "metadata": {
    "colab": {},
    "colab_type": "code",
    "id": "K_eZSbsswXYz"
   },
   "outputs": [],
   "source": []
  },
  {
   "cell_type": "markdown",
   "metadata": {
    "colab_type": "text",
    "id": "oaeFGx0C2-hs"
   },
   "source": [
    "## 소속간 비교"
   ]
  },
  {
   "cell_type": "markdown",
   "metadata": {
    "colab_type": "text",
    "id": "8-43jXwx4g2h"
   },
   "source": [
    "### 소속별 인지적 영역 수준 평균"
   ]
  },
  {
   "cell_type": "code",
   "execution_count": null,
   "metadata": {
    "colab": {
     "base_uri": "https://localhost:8080/",
     "height": 542
    },
    "colab_type": "code",
    "id": "-a3E7NiAuzsM",
    "outputId": "943892a2-a925-4d7a-832a-f9cd868883a3"
   },
   "outputs": [],
   "source": [
    "fig = go.Figure(data = [\n",
    "    go.Bar(\n",
    "      x=pre_group['인지적 (Knowledge) 영역 - 학습내용 A'].mean().index,\n",
    "      y=pre_group['인지적 (Knowledge) 영역 - 학습내용 A'].mean().round(2), \n",
    "      name='학습내용 A', \n",
    "      marker_color='rgb(55, 83, 109)',\n",
    "      text=pre_group['인지적 (Knowledge) 영역 - 학습내용 A'].mean().round(2),\n",
    "      textposition='auto'),\n",
    "    go.Bar(\n",
    "      x=pre_group['인지적 (Knowledge) 영역 - 학습내용 B'].mean().index,\n",
    "      y=pre_group['인지적 (Knowledge) 영역 - 학습내용 B'].mean().round(2), \n",
    "      name='학습내용 B', \n",
    "      marker_color='rgba(55, 83, 109, 0.8)',\n",
    "      text=pre_group['인지적 (Knowledge) 영역 - 학습내용 B'].mean().round(2),\n",
    "      textposition='auto'),\n",
    "    go.Bar(\n",
    "      x=pre_group['인지적 (Knowledge) 영역 - 학습내용 C'].mean().index,\n",
    "      y=pre_group['인지적 (Knowledge) 영역 - 학습내용 C'].mean().round(2), \n",
    "      name='학습내용 C', \n",
    "      marker_color='rgb(26, 118, 255)',\n",
    "      text=pre_group['인지적 (Knowledge) 영역 - 학습내용 C'].mean().round(2),\n",
    "      textposition='auto'),\n",
    "    go.Bar(\n",
    "      x=pre_group['인지적 (Knowledge) 영역 - 학습내용 D'].mean().index,\n",
    "      y=pre_group['인지적 (Knowledge) 영역 - 학습내용 D'].mean().round(2), \n",
    "      name='학습내용 D', \n",
    "      marker_color='rgba(26, 118, 255, 0.8)',\n",
    "      text=pre_group['인지적 (Knowledge) 영역 - 학습내용 D'].mean().round(2),\n",
    "      textposition='auto')\n",
    "    ]\n",
    ")\n",
    "\n",
    "fig.update_layout(\n",
    "    title=dict(text=\"소속그룹별 인지적 영역 수준 평균\", x = 0.5),\n",
    "    legend=dict(x=0.2, y=1.1, orientation=\"h\"),\n",
    "    barmode='group',\n",
    "    bargap=0.15,\n",
    "    bargroupgap=0.1,\n",
    "    # width=1500,\n",
    "    # height=800,\n",
    ")\n",
    "\n",
    "fig.update_xaxes(tickfont_size=13)\n",
    "fig.update_yaxes(tickfont_size=13)\n",
    "\n",
    "fig.show()"
   ]
  },
  {
   "cell_type": "code",
   "execution_count": null,
   "metadata": {
    "colab": {},
    "colab_type": "code",
    "id": "PHDkhrKR1SVE"
   },
   "outputs": [],
   "source": []
  },
  {
   "cell_type": "markdown",
   "metadata": {
    "colab_type": "text",
    "id": "px8NZJB21ksj"
   },
   "source": [
    "### 소속별 기술적 영역 수준 평균"
   ]
  },
  {
   "cell_type": "code",
   "execution_count": null,
   "metadata": {
    "colab": {
     "base_uri": "https://localhost:8080/",
     "height": 542
    },
    "colab_type": "code",
    "id": "MSHjHbGf1qTC",
    "outputId": "87f96e12-3c8a-4ba2-c774-b7ca388ea6c4"
   },
   "outputs": [],
   "source": [
    "fig = go.Figure(data = [\n",
    "    go.Bar(\n",
    "      x=pre_group['기술적 (Skill) 영역 - 학습내용 A'].mean().index,\n",
    "      y=pre_group['기술적 (Skill) 영역 - 학습내용 A'].mean().round(2), \n",
    "      name='학습내용 A', \n",
    "      marker_color='rgb(55, 83, 109)',\n",
    "      text=pre_group['기술적 (Skill) 영역 - 학습내용 A'].mean().round(2),\n",
    "      textposition='auto'),\n",
    "    go.Bar(\n",
    "      x=pre_group['기술적 (Skill) 영역 - 학습내용 B'].mean().index,\n",
    "      y=pre_group['기술적 (Skill) 영역 - 학습내용 B'].mean().round(2), \n",
    "      name='학습내용 B', \n",
    "      marker_color='rgba(55, 83, 109, 0.8)',\n",
    "      text=pre_group['기술적 (Skill) 영역 - 학습내용 B'].mean().round(2),\n",
    "      textposition='auto'),\n",
    "    go.Bar(\n",
    "      x=pre_group['기술적 (Skill) 영역 - 학습내용 C'].mean().index,\n",
    "      y=pre_group['기술적 (Skill) 영역 - 학습내용 C'].mean().round(2), \n",
    "      name='학습내용 C', \n",
    "      marker_color='rgb(26, 118, 255)',\n",
    "      text=pre_group['기술적 (Skill) 영역 - 학습내용 C'].mean().round(2),\n",
    "      textposition='auto'),\n",
    "    go.Bar(\n",
    "      x=pre_group['기술적 (Skill) 영역 - 학습내용 D'].mean().index,\n",
    "      y=pre_group['기술적 (Skill) 영역 - 학습내용 D'].mean().round(2), \n",
    "      name='학습내용 D', \n",
    "      marker_color='rgba(26, 118, 255, 0.8)',\n",
    "      text=pre_group['기술적 (Skill) 영역 - 학습내용 D'].mean().round(2),\n",
    "      textposition='auto')\n",
    "    ]\n",
    ")\n",
    "\n",
    "fig.update_layout(\n",
    "    title=dict(text=\"소속그룹별 기술적 영역 수준 평균\", x = 0.5),\n",
    "    legend=dict(x=0.2, y=1.1, orientation=\"h\"),\n",
    "    barmode='group',\n",
    "    bargap=0.15,\n",
    "    bargroupgap=0.1,\n",
    "    # width=1500,\n",
    "    # height=800,\n",
    ")\n",
    "\n",
    "fig.update_xaxes(tickfont_size=13)\n",
    "fig.update_yaxes(tickfont_size=13)\n",
    "\n",
    "fig.show()"
   ]
  },
  {
   "cell_type": "markdown",
   "metadata": {
    "colab_type": "text",
    "id": "h7l6apK-1kA1"
   },
   "source": [
    "### 소속별 태도적 영역 수준 평균"
   ]
  },
  {
   "cell_type": "code",
   "execution_count": null,
   "metadata": {
    "colab": {
     "base_uri": "https://localhost:8080/",
     "height": 542
    },
    "colab_type": "code",
    "id": "_ncjg9ZE1Sqq",
    "outputId": "3726edf7-5b56-4846-cdaf-e6a3d936c1d1"
   },
   "outputs": [],
   "source": [
    "fig = go.Figure(data = [\n",
    "    go.Bar(\n",
    "      x=pre_group['태도적 (Attidtude) 영역 - 학습내용 A'].mean().index,\n",
    "      y=pre_group['태도적 (Attidtude) 영역 - 학습내용 A'].mean().round(2), \n",
    "      name='학습내용 A', \n",
    "      marker_color='rgb(55, 83, 109)',\n",
    "      text=pre_group['태도적 (Attidtude) 영역 - 학습내용 A'].mean().round(2),\n",
    "      textposition='auto'),\n",
    "    go.Bar(\n",
    "      x=pre_group['태도적 (Attidtude) 영역 - 학습내용 B'].mean().index,\n",
    "      y=pre_group['태도적 (Attidtude) 영역 - 학습내용 B'].mean().round(2), \n",
    "      name='학습내용 B', \n",
    "      marker_color='rgba(55, 83, 109, 0.8)',\n",
    "      text=pre_group['태도적 (Attidtude) 영역 - 학습내용 B'].mean().round(2),\n",
    "      textposition='auto'),\n",
    "    go.Bar(\n",
    "      x=pre_group['태도적 (Attidtude) 영역 - 학습내용 C'].mean().index,\n",
    "      y=pre_group['태도적 (Attidtude) 영역 - 학습내용 C'].mean().round(2), \n",
    "      name='학습내용 C', \n",
    "      marker_color='rgb(26, 118, 255)',\n",
    "      text=pre_group['태도적 (Attidtude) 영역 - 학습내용 C'].mean().round(2),\n",
    "      textposition='auto'),\n",
    "    go.Bar(\n",
    "      x=pre_group['태도적 (Attidtude) 영역 - 학습내용 D'].mean().index,\n",
    "      y=pre_group['태도적 (Attidtude) 영역 - 학습내용 D'].mean().round(2), \n",
    "      name='학습내용 D', \n",
    "      marker_color='rgba(26, 118, 255, 0.8)',\n",
    "      text=pre_group['태도적 (Attidtude) 영역 - 학습내용 D'].mean().round(2),\n",
    "      textposition='auto')\n",
    "    ]\n",
    ")\n",
    "\n",
    "fig.update_layout(\n",
    "    title=dict(text=\"소속그룹별 태도적 영역 수준 평균\", x = 0.5),\n",
    "    legend=dict(x=0.2, y=1.1, orientation=\"h\"),\n",
    "    barmode='group',\n",
    "    bargap=0.15,\n",
    "    bargroupgap=0.1,\n",
    "    # width=1500,\n",
    "    # height=800,\n",
    ")\n",
    "\n",
    "fig.update_xaxes(tickfont_size=13)\n",
    "fig.update_yaxes(tickfont_size=13)\n",
    "\n",
    "fig.show()"
   ]
  },
  {
   "cell_type": "code",
   "execution_count": null,
   "metadata": {
    "colab": {},
    "colab_type": "code",
    "id": "cnovFb8O1SzG"
   },
   "outputs": [],
   "source": []
  },
  {
   "cell_type": "code",
   "execution_count": null,
   "metadata": {
    "colab": {},
    "colab_type": "code",
    "id": "ls7VabLm1S5y"
   },
   "outputs": [],
   "source": []
  },
  {
   "cell_type": "code",
   "execution_count": null,
   "metadata": {
    "colab": {},
    "colab_type": "code",
    "id": "TE4o8YzN1TA4"
   },
   "outputs": [],
   "source": []
  },
  {
   "cell_type": "code",
   "execution_count": null,
   "metadata": {
    "colab": {},
    "colab_type": "code",
    "id": "x4fHSxFg1TJD"
   },
   "outputs": [],
   "source": []
  },
  {
   "cell_type": "code",
   "execution_count": null,
   "metadata": {
    "colab": {},
    "colab_type": "code",
    "id": "akuMjzQV1TQ8"
   },
   "outputs": [],
   "source": []
  },
  {
   "cell_type": "markdown",
   "metadata": {
    "colab_type": "text",
    "id": "c8yiEUOgH__g"
   },
   "source": [
    "## 교육생 관심-전문분야"
   ]
  },
  {
   "cell_type": "markdown",
   "metadata": {
    "colab_type": "text",
    "id": "AfIf6awZxng5"
   },
   "source": [
    "### y축 관심-전문분야 구분"
   ]
  },
  {
   "cell_type": "code",
   "execution_count": null,
   "metadata": {
    "colab": {},
    "colab_type": "code",
    "id": "BQefXnGhmFVk"
   },
   "outputs": [],
   "source": [
    "scp_field = scp_reg.copy()\n",
    "scp_field['전문분야(대)'] = scp_field['전문분야(대)'].apply(lambda x: x[0:len(x)] +\"(전문)\")\n",
    "scp_field['관심분야(대)-편집'] = scp_field['관심분야(대)-편집'].apply(lambda x: x[0:len(x)] +\"(관심)\")"
   ]
  },
  {
   "cell_type": "code",
   "execution_count": null,
   "metadata": {
    "colab": {
     "base_uri": "https://localhost:8080/",
     "height": 817
    },
    "colab_type": "code",
    "id": "kkHzU1h9OGuI",
    "outputId": "16b6f217-9a2a-48e0-eac8-8251a0e938ea"
   },
   "outputs": [],
   "source": [
    "# Create figure with secondary y-axis\n",
    "fig = make_subplots(specs=[[{\"secondary_y\": True}]])\n",
    "\n",
    "# Add traces\n",
    "fig.add_trace(go.Scatter(\n",
    "    x=scp_field['국문성명'],\n",
    "    y=scp_field['전문분야(대)'],  \n",
    "    hoverinfo='skip',\n",
    "    mode='markers',\n",
    "    marker_size=8,\n",
    "    # mode='markers+text',\n",
    "    # text=\"전문: \"+scp_field['전문분야(대)'],\n",
    "    # textfont_size = 8,\n",
    "    # textposition=\"top right\",\n",
    "    name=\"전문분야\"),\n",
    "    secondary_y=False\n",
    ")\n",
    "\n",
    "fig.add_trace(go.Scatter(\n",
    "    x=scp_field['국문성명'],\n",
    "    y=scp_field['관심분야(대)-편집'], \n",
    "    hoverinfo='skip',\n",
    "    mode='markers',\n",
    "    marker_size=8,\n",
    "    # mode='markers+text',\n",
    "    # text=\"관심: \"+scp_field['관심분야(대)-편집'],\n",
    "    # textfont_size = 8,\n",
    "    # textposition=\"top right\",\n",
    "    name=\"관심분야\"),\n",
    "    secondary_y=True\n",
    ")\n",
    "\n",
    "# fig.add_trace(go.Scatter(\n",
    "#     y=0, \n",
    "#     mode=\"lines\"), \n",
    "#     secondary_y=False\n",
    "# )\n",
    "\n",
    "# Add figure title\n",
    "fig.update_layout(\n",
    "    title_text=\"교육생 전문-관심분야 비교\", \n",
    "    width=1500,\n",
    "    height=800,\n",
    ")\n",
    "\n",
    "# Set x-axis title\n",
    "fig.update_xaxes(title_text=\"<b>교육생</b>\")\n",
    "\n",
    "\n",
    "# Set y-axes titles\n",
    "fig.update_yaxes(secondary_y=False, gridwidth=0.05, gridcolor='rgba(99,110,250,0.2)')\n",
    "fig.update_yaxes(secondary_y=True, gridwidth=0.05, gridcolor='rgba(239,85,59,0.2)')\n",
    "fig.update_yaxes(secondary_y=False, gridwidth=0.05, )\n",
    "                 # gridcolor='rgba(99,110,250,0.2)'#\n",
    "\n",
    "fig.show()"
   ]
  },
  {
   "cell_type": "code",
   "execution_count": null,
   "metadata": {
    "colab": {},
    "colab_type": "code",
    "id": "RIY6-9oSULdi"
   },
   "outputs": [],
   "source": []
  },
  {
   "cell_type": "markdown",
   "metadata": {
    "colab_type": "text",
    "id": "_GLB2SKdx0ul"
   },
   "source": [
    "### y축 관심-전문분야 구분x"
   ]
  },
  {
   "cell_type": "code",
   "execution_count": null,
   "metadata": {
    "colab": {},
    "colab_type": "code",
    "id": "kzLjfb5dx0um"
   },
   "outputs": [],
   "source": [
    "# scp_reg['전문분야(대)'] = scp_reg['전문분야(대)'].apply(lambda x: x[0:len(x)] +\"(전문)\")\n",
    "# scp_reg['관심분야(대)-편집'] = scp_reg['관심분야(대)-편집'].apply(lambda x: x[0:len(x)] +\"(관심)\")"
   ]
  },
  {
   "cell_type": "code",
   "execution_count": null,
   "metadata": {
    "colab": {
     "base_uri": "https://localhost:8080/",
     "height": 542
    },
    "colab_type": "code",
    "id": "VHLenth8x0uo",
    "outputId": "e913b048-3698-42e5-ed3a-3fd3bab9dbae"
   },
   "outputs": [],
   "source": [
    "fig = go.Figure(data = [\n",
    "    go.Scatter(\n",
    "    x=scp_reg['국문성명'],\n",
    "    y=scp_reg['전문분야(대)'],  \n",
    "    hoverinfo='skip',\n",
    "    mode='markers',\n",
    "    marker =dict(size=10, color='rgba(255,255,0,0.8)'),\n",
    "    name=\"전문분야\"),\n",
    "    go.Scatter(\n",
    "    x=scp_reg['국문성명'],\n",
    "    y=scp_reg['관심분야(대)-편집'], \n",
    "    hoverinfo='skip',\n",
    "    mode='markers',\n",
    "    marker =dict(size=10, color='rgba(102,192,235,0.8)'),\n",
    "    name=\"관심분야\")]\n",
    ")\n",
    "\n",
    "# Add figure title\n",
    "fig.update_layout(\n",
    "    title=dict(text=\"교육생 전문-관심분야 비교\", x = 0.5),\n",
    "    legend=dict(x=0.4, y=1.1, orientation=\"h\")\n",
    "    # width=1500,\n",
    "    # height=800,\n",
    ")\n",
    "\n",
    "# Set x-axis title\n",
    "fig.update_xaxes(title_text=\"<b>교육생</b>\", gridwidth=1, gridcolor='rgba(239,85,59,0.2)')\n",
    "\n",
    "\n",
    "# Set y-axes titles\n",
    "# fig.update_yaxes(secondary_y=False, gridwidth=0.05, gridcolor='rgba(99,110,250,0.2)')\n",
    "# fig.update_yaxes(secondary_y=True, gridwidth=0.05, gridcolor='rgba(239,85,59,0.2)')\n",
    "# fig.update_yaxes(secondary_y=False, gridwidth=0.05, )\n",
    "                 # gridcolor='rgba(99,110,250,0.2)'#\n",
    "\n",
    "fig.show()"
   ]
  },
  {
   "cell_type": "code",
   "execution_count": null,
   "metadata": {
    "colab": {},
    "colab_type": "code",
    "id": "0hN4R-ih7iI-"
   },
   "outputs": [],
   "source": []
  },
  {
   "cell_type": "markdown",
   "metadata": {
    "colab_type": "text",
    "id": "kKVhFJ2Gxocw"
   },
   "source": [
    "# 사후설문분석"
   ]
  },
  {
   "cell_type": "code",
   "execution_count": null,
   "metadata": {
    "colab": {},
    "colab_type": "code",
    "id": "nnh84qu1G3jv"
   },
   "outputs": [],
   "source": [
    "post.columns"
   ]
  },
  {
   "cell_type": "markdown",
   "metadata": {
    "colab_type": "text",
    "id": "CbFavNNjRQNl"
   },
   "source": [
    "## 학습영역 간 상관관계"
   ]
  },
  {
   "cell_type": "markdown",
   "metadata": {
    "colab_type": "text",
    "id": "2mimOTqlRQNr"
   },
   "source": [
    "■ 학습내용 A : 서울시 우수정책 공유사업<br>\n",
    "■ 학습내용 B : 해외도시정책 및 국제개발협력<br>\n",
    "■ 학습내용 C : 해외사업수주기획 및 컨설팅의 이해<br>\n",
    "■ 학습내용 D : 해외도시인프라 환경 및 문화이해"
   ]
  },
  {
   "cell_type": "markdown",
   "metadata": {
    "colab_type": "text",
    "id": "osflvWvZRQNs"
   },
   "source": [
    "### 학습내용 관련 컬럼 추출"
   ]
  },
  {
   "cell_type": "code",
   "execution_count": null,
   "metadata": {
    "colab": {
     "base_uri": "https://localhost:8080/",
     "height": 143
    },
    "colab_type": "code",
    "id": "P_-Lb_UtRQNu",
    "outputId": "aab7e998-999f-4006-c23f-885883d0d021"
   },
   "outputs": [],
   "source": [
    "post_corr = \\\n",
    "post_als[\n",
    "post_als.columns[post_als.columns.str.contains('학습내용 ')]\n",
    "]\n",
    "\n",
    "post_corr.columns\n",
    "# 또는 post_als.filter(like=\"학습내용\").corr()"
   ]
  },
  {
   "cell_type": "markdown",
   "metadata": {
    "colab_type": "text",
    "id": "PzddP59xRQN0"
   },
   "source": [
    "### 컬럼명 편집 - 괄호 및 괄호 내 문자 삭제"
   ]
  },
  {
   "cell_type": "code",
   "execution_count": null,
   "metadata": {
    "colab": {},
    "colab_type": "code",
    "id": "W-O1Kqs9RQN2"
   },
   "outputs": [],
   "source": [
    "post_corr.columns = post_corr.filter(like=\"(\").columns.str.replace(r'\\([^)]*\\)', '')"
   ]
  },
  {
   "cell_type": "code",
   "execution_count": null,
   "metadata": {
    "colab": {
     "base_uri": "https://localhost:8080/",
     "height": 107
    },
    "colab_type": "code",
    "id": "Qiwsb_M4RQN4",
    "outputId": "5091db88-4c25-4b7f-f5c4-c3f2e1de97d4"
   },
   "outputs": [],
   "source": [
    "post_corr.columns"
   ]
  },
  {
   "cell_type": "markdown",
   "metadata": {
    "colab_type": "text",
    "id": "UwpMQ0OmRQN6"
   },
   "source": [
    "### 영역별 상관관계 "
   ]
  },
  {
   "cell_type": "code",
   "execution_count": null,
   "metadata": {
    "colab": {},
    "colab_type": "code",
    "id": "hcv6rHtkRQN7"
   },
   "outputs": [],
   "source": [
    "post_corr.corr().round(2).to_excel('학습영역 간 상관관계.xlsx')"
   ]
  },
  {
   "cell_type": "code",
   "execution_count": null,
   "metadata": {
    "colab": {},
    "colab_type": "code",
    "id": "UWMJ-dX3RQN9"
   },
   "outputs": [],
   "source": []
  },
  {
   "cell_type": "markdown",
   "metadata": {
    "colab_type": "text",
    "id": "Y1isR_-7RQN_"
   },
   "source": [
    "## 학습영역 간 비교"
   ]
  },
  {
   "cell_type": "markdown",
   "metadata": {
    "colab_type": "text",
    "id": "u_tKpifhRQN_"
   },
   "source": [
    "### 각 영역 내 학습내용별 그룹별 평균"
   ]
  },
  {
   "cell_type": "code",
   "execution_count": null,
   "metadata": {
    "colab": {
     "base_uri": "https://localhost:8080/",
     "height": 421
    },
    "colab_type": "code",
    "id": "zK5Ul6roRQOA",
    "outputId": "1a2d2d24-41ed-49f8-bf77-a31e952e35b0"
   },
   "outputs": [],
   "source": [
    "post_group = post_als.groupby(post_als['소속분류'])\n",
    "\n",
    "post_score = post_group[post_als.filter(like=\"학습내용 \").columns].apply(lambda x: x.mean()).round(2).T\n",
    "post_score['평균'] = post_group[post_als.filter(like=\"학습내용 \").columns].apply(lambda x: x.mean()).round(2).T.mean(axis=1).round(2)\n",
    "post_score"
   ]
  },
  {
   "cell_type": "code",
   "execution_count": null,
   "metadata": {
    "colab": {},
    "colab_type": "code",
    "id": "nhSw6-Y_RQOC"
   },
   "outputs": [],
   "source": [
    "pre_score.to_excel('영역간비교분석.xlsx')"
   ]
  },
  {
   "cell_type": "markdown",
   "metadata": {
    "colab_type": "text",
    "id": "IupDFEylRQOE"
   },
   "source": [
    "### 해외사업수주기획 및 컨설팅의 이해\"과 \"서울시 우수정책 공유사업\" 간 그룹별 평균의 차"
   ]
  },
  {
   "cell_type": "code",
   "execution_count": null,
   "metadata": {
    "colab": {
     "base_uri": "https://localhost:8080/",
     "height": 125
    },
    "colab_type": "code",
    "id": "uvkZah1JRQOF",
    "outputId": "7b98bf0f-e17a-4cab-a255-4be4da0539a7"
   },
   "outputs": [],
   "source": [
    "print('\"해외사업수주기획 및 컨설팅의 이해\"과 \"서울시 우수정책 공유사업\" 간 인지적 영역 편차')\n",
    "\n",
    "for x in range(5):\n",
    "  print(str(x+1) + \". \" +\\\n",
    "        post_group['인지적 (Knowledge) 영역 - 학습내용 C'].mean().index[x] + \" : \" +\\\n",
    "        str((post_group['인지적 (Knowledge) 영역 - 학습내용 A'].mean()[x]-\\\n",
    "            post_group['인지적 (Knowledge) 영역 - 학습내용 C'].mean()[x]).round(2)))"
   ]
  },
  {
   "cell_type": "markdown",
   "metadata": {
    "colab_type": "text",
    "id": "oTIueLelRQOH"
   },
   "source": [
    "### 각 영역별 학습내용간 그룹별 표준편차"
   ]
  },
  {
   "cell_type": "code",
   "execution_count": null,
   "metadata": {
    "colab": {
     "base_uri": "https://localhost:8080/",
     "height": 71
    },
    "colab_type": "code",
    "id": "ucXdgmQyRQOH",
    "outputId": "643329a6-7d99-4c02-c4ee-b0e25d3b61c4"
   },
   "outputs": [],
   "source": [
    "print(\"인지적 영역의 학습내용간 그룹별 표준편차: \"+str(dict(post_score[post_score.index.str.contains(\"인지적\")].std().round(2)[0:5])).replace('{','(').replace('}',')'))\n",
    "print(\"기술적 영역의 학습내용간 그룹별 표준편차: \"+str(dict(post_score[post_score.index.str.contains(\"기술적\")].std().round(2)[0:5])).replace('{','(').replace('}',')'))\n",
    "print(\"태도적 영역의 학습내용간 그룹별 표준편차: \"+str(dict(post_score[post_score.index.str.contains(\"태도적\")].std().round(2)[0:5])).replace('{','(').replace('}',')'))"
   ]
  },
  {
   "cell_type": "code",
   "execution_count": null,
   "metadata": {
    "colab": {},
    "colab_type": "code",
    "id": "RubKqlRfRQOK"
   },
   "outputs": [],
   "source": []
  },
  {
   "cell_type": "code",
   "execution_count": null,
   "metadata": {
    "colab": {},
    "colab_type": "code",
    "id": "XV3VaDWvRQOM"
   },
   "outputs": [],
   "source": []
  },
  {
   "cell_type": "markdown",
   "metadata": {
    "colab_type": "text",
    "id": "aezLq4vHRQOQ"
   },
   "source": [
    "## 소속간 비교"
   ]
  },
  {
   "cell_type": "markdown",
   "metadata": {
    "colab_type": "text",
    "id": "eoOJ5g2eRQOQ"
   },
   "source": [
    "### 소속별 인지적 영역 수준 평균"
   ]
  },
  {
   "cell_type": "code",
   "execution_count": null,
   "metadata": {
    "colab": {
     "base_uri": "https://localhost:8080/",
     "height": 542
    },
    "colab_type": "code",
    "id": "ECpRysNJRQOR",
    "outputId": "286cccee-1720-4961-e634-ba3cf43ea8ce"
   },
   "outputs": [],
   "source": [
    "fig = go.Figure(data = [\n",
    "    go.Bar(\n",
    "      x=post_group['인지적 (Knowledge) 영역 - 학습내용 A'].mean().index,\n",
    "      y=post_group['인지적 (Knowledge) 영역 - 학습내용 A'].mean().round(2), \n",
    "      name='학습내용 A', \n",
    "      marker_color='rgb(55, 83, 109)',\n",
    "      text=post_group['인지적 (Knowledge) 영역 - 학습내용 A'].mean().round(2),\n",
    "      textposition='auto'),\n",
    "    go.Bar(\n",
    "      x=post_group['인지적 (Knowledge) 영역 - 학습내용 B'].mean().index,\n",
    "      y=post_group['인지적 (Knowledge) 영역 - 학습내용 B'].mean().round(2), \n",
    "      name='학습내용 B', \n",
    "      marker_color='rgba(55, 83, 109, 0.8)',\n",
    "      text=post_group['인지적 (Knowledge) 영역 - 학습내용 B'].mean().round(2),\n",
    "      textposition='auto'),\n",
    "    go.Bar(\n",
    "      x=post_group['인지적 (Knowledge) 영역 - 학습내용 C'].mean().index,\n",
    "      y=post_group['인지적 (Knowledge) 영역 - 학습내용 C'].mean().round(2), \n",
    "      name='학습내용 C', \n",
    "      marker_color='rgb(26, 118, 255)',\n",
    "      text=post_group['인지적 (Knowledge) 영역 - 학습내용 C'].mean().round(2),\n",
    "      textposition='auto'),\n",
    "    go.Bar(\n",
    "      x=post_group['인지적 (Knowledge) 영역 - 학습내용 D'].mean().index,\n",
    "      y=post_group['인지적 (Knowledge) 영역 - 학습내용 D'].mean().round(2), \n",
    "      name='학습내용 D', \n",
    "      marker_color='rgba(26, 118, 255, 0.8)',\n",
    "      text=post_group['인지적 (Knowledge) 영역 - 학습내용 D'].mean().round(2),\n",
    "      textposition='auto')\n",
    "    ]\n",
    ")\n",
    "\n",
    "fig.update_layout(\n",
    "    title=dict(text=\"소속그룹별 인지적 영역 수준 평균\", x = 0.5),\n",
    "    legend=dict(x=0.2, y=1.1, orientation=\"h\"),\n",
    "    barmode='group',\n",
    "    bargap=0.15,\n",
    "    bargroupgap=0.1,\n",
    "    # width=1500,\n",
    "    # height=800,\n",
    ")\n",
    "\n",
    "fig.update_xaxes(tickfont_size=13)\n",
    "fig.update_yaxes(tickfont_size=13)\n",
    "\n",
    "fig.show()"
   ]
  },
  {
   "cell_type": "code",
   "execution_count": null,
   "metadata": {
    "colab": {},
    "colab_type": "code",
    "id": "K4cle3IERQOX"
   },
   "outputs": [],
   "source": []
  },
  {
   "cell_type": "markdown",
   "metadata": {
    "colab_type": "text",
    "id": "NcL1txoURQOZ"
   },
   "source": [
    "### 소속별 기술적 영역 수준 평균"
   ]
  },
  {
   "cell_type": "code",
   "execution_count": null,
   "metadata": {
    "colab": {
     "base_uri": "https://localhost:8080/",
     "height": 542
    },
    "colab_type": "code",
    "id": "c0UtuibaRQOZ",
    "outputId": "36c0ea6d-8acd-49b7-9ee1-3a09760d4548"
   },
   "outputs": [],
   "source": [
    "fig = go.Figure(data = [\n",
    "    go.Bar(\n",
    "      x=post_group['기술적 (Skill) 영역 - 학습내용 A'].mean().index,\n",
    "      y=post_group['기술적 (Skill) 영역 - 학습내용 A'].mean().round(2), \n",
    "      name='학습내용 A', \n",
    "      marker_color='rgb(55, 83, 109)',\n",
    "      text=post_group['기술적 (Skill) 영역 - 학습내용 A'].mean().round(2),\n",
    "      textposition='auto'),\n",
    "    go.Bar(\n",
    "      x=post_group['기술적 (Skill) 영역 - 학습내용 B'].mean().index,\n",
    "      y=post_group['기술적 (Skill) 영역 - 학습내용 B'].mean().round(2), \n",
    "      name='학습내용 B', \n",
    "      marker_color='rgba(55, 83, 109, 0.8)',\n",
    "      text=post_group['기술적 (Skill) 영역 - 학습내용 B'].mean().round(2),\n",
    "      textposition='auto'),\n",
    "    go.Bar(\n",
    "      x=post_group['기술적 (Skill) 영역 - 학습내용 C'].mean().index,\n",
    "      y=post_group['기술적 (Skill) 영역 - 학습내용 C'].mean().round(2), \n",
    "      name='학습내용 C', \n",
    "      marker_color='rgb(26, 118, 255)',\n",
    "      text=post_group['기술적 (Skill) 영역 - 학습내용 C'].mean().round(2),\n",
    "      textposition='auto'),\n",
    "    go.Bar(\n",
    "      x=post_group['기술적 (Skill) 영역 - 학습내용 D'].mean().index,\n",
    "      y=post_group['기술적 (Skill) 영역 - 학습내용 D'].mean().round(2), \n",
    "      name='학습내용 D', \n",
    "      marker_color='rgba(26, 118, 255, 0.8)',\n",
    "      text=post_group['기술적 (Skill) 영역 - 학습내용 D'].mean().round(2),\n",
    "      textposition='auto')\n",
    "    ]\n",
    ")\n",
    "\n",
    "fig.update_layout(\n",
    "    title=dict(text=\"소속그룹별 기술적 영역 수준 평균\", x = 0.5),\n",
    "    legend=dict(x=0.2, y=1.1, orientation=\"h\"),\n",
    "    barmode='group',\n",
    "    bargap=0.15,\n",
    "    bargroupgap=0.1,\n",
    "    # width=1500,\n",
    "    # height=800,\n",
    ")\n",
    "\n",
    "fig.update_xaxes(tickfont_size=13)\n",
    "fig.update_yaxes(tickfont_size=13)\n",
    "\n",
    "fig.show()"
   ]
  },
  {
   "cell_type": "markdown",
   "metadata": {
    "colab_type": "text",
    "id": "dAC8bIsoRQOj"
   },
   "source": [
    "### 소속별 태도적 영역 수준 평균"
   ]
  },
  {
   "cell_type": "code",
   "execution_count": null,
   "metadata": {
    "colab": {
     "base_uri": "https://localhost:8080/",
     "height": 542
    },
    "colab_type": "code",
    "id": "dqFCPfG9RQOk",
    "outputId": "2805f1c6-5bad-4a20-ab7e-5e4bc5850b0c"
   },
   "outputs": [],
   "source": [
    "fig = go.Figure(data = [\n",
    "    go.Bar(\n",
    "      x=post_group['태도적 (Attidtude) 영역 - 학습내용 A'].mean().index,\n",
    "      y=post_group['태도적 (Attidtude) 영역 - 학습내용 A'].mean().round(2), \n",
    "      name='학습내용 A', \n",
    "      marker_color='rgb(55, 83, 109)',\n",
    "      text=post_group['태도적 (Attidtude) 영역 - 학습내용 A'].mean().round(2),\n",
    "      textposition='auto'),\n",
    "    go.Bar(\n",
    "      x=post_group['태도적 (Attidtude) 영역 - 학습내용 B'].mean().index,\n",
    "      y=post_group['태도적 (Attidtude) 영역 - 학습내용 B'].mean().round(2), \n",
    "      name='학습내용 B', \n",
    "      marker_color='rgba(55, 83, 109, 0.8)',\n",
    "      text=post_group['태도적 (Attidtude) 영역 - 학습내용 B'].mean().round(2),\n",
    "      textposition='auto'),\n",
    "    go.Bar(\n",
    "      x=post_group['태도적 (Attidtude) 영역 - 학습내용 C'].mean().index,\n",
    "      y=post_group['태도적 (Attidtude) 영역 - 학습내용 C'].mean().round(2), \n",
    "      name='학습내용 C', \n",
    "      marker_color='rgb(26, 118, 255)',\n",
    "      text=post_group['태도적 (Attidtude) 영역 - 학습내용 C'].mean().round(2),\n",
    "      textposition='auto'),\n",
    "    go.Bar(\n",
    "      x=post_group['태도적 (Attidtude) 영역 - 학습내용 D'].mean().index,\n",
    "      y=post_group['태도적 (Attidtude) 영역 - 학습내용 D'].mean().round(2), \n",
    "      name='학습내용 D', \n",
    "      marker_color='rgba(26, 118, 255, 0.8)',\n",
    "      text=post_group['태도적 (Attidtude) 영역 - 학습내용 D'].mean().round(2),\n",
    "      textposition='auto')\n",
    "    ]\n",
    ")\n",
    "\n",
    "fig.update_layout(\n",
    "    title=dict(text=\"소속그룹별 태도적 영역 수준 평균\", x = 0.5),\n",
    "    legend=dict(x=0.2, y=1.1, orientation=\"h\"),\n",
    "    barmode='group',\n",
    "    bargap=0.15,\n",
    "    bargroupgap=0.1,\n",
    "    # width=1500,\n",
    "    # height=800,\n",
    ")\n",
    "\n",
    "fig.update_xaxes(tickfont_size=13)\n",
    "fig.update_yaxes(tickfont_size=13)\n",
    "\n",
    "fig.show()"
   ]
  },
  {
   "cell_type": "code",
   "execution_count": null,
   "metadata": {
    "colab": {},
    "colab_type": "code",
    "id": "xg2vh6roRQPE"
   },
   "outputs": [],
   "source": [
    "post.columns"
   ]
  },
  {
   "cell_type": "markdown",
   "metadata": {
    "colab_type": "text",
    "id": "4kRCXrWnTAP7"
   },
   "source": [
    "## 만족도 문항 분석"
   ]
  },
  {
   "cell_type": "code",
   "execution_count": 105,
   "metadata": {
    "colab": {},
    "colab_type": "code",
    "id": "rd0SZSCOT7Wf"
   },
   "outputs": [],
   "source": [
    "cs_mean = post.pivot_table(\n",
    "    values=['교육과정의 내용은 교육생 상황에 맞게 구성되었다.',\n",
    "            '교육과정의 내용과 수준은 이해하기 적절하였다.', \n",
    "            '교육과정의 교육방법(강의, 실습/토의, 현장학습 등)은 교육내용을 이해하는데 적합하였다.',\n",
    "            '교육운영진은 교육과정을 원활하게 운영하였다. (일정관리, 강의준비, 교육생 지원 등)',\n",
    "            '교육운영진은 응급상황 등 사건사고에 대해 적절히 대처하였다.'],\n",
    "            index=['기관'],aggfunc='mean',margins=True,\n",
    "            margins_name=\"평균\").round(2).rename(\n",
    "            columns={\n",
    "            '교육과정의 내용은 교육생 상황에 맞게 구성되었다.': '교육생 상황에 맞는 교육내용 구성',\n",
    "            '교육과정의 내용과 수준은 이해하기 적절하였다.':'이해하기 적절한 교육내용 구성', \n",
    "            '교육과정의 교육방법(강의, 실습/토의, 현장학습 등)은 교육내용을 이해하는데 적합하였다.':\n",
    "            '내용 이해에 효과적인 교육방법 사용',\n",
    "            '교육운영진은 교육과정을 원활하게 운영하였다. (일정관리, 강의준비, 교육생 지원 등)':\n",
    "            '운영진의 원활한 교육과정 운영',\n",
    "            '교육운영진은 응급상황 등 사건사고에 대해 적절히 대처하였다.':\n",
    "            '운영진의 적절한 응급상황 대처'\n",
    "            })"
   ]
  },
  {
   "cell_type": "code",
   "execution_count": 106,
   "metadata": {
    "colab": {
     "base_uri": "https://localhost:8080/",
     "height": 249
    },
    "colab_type": "code",
    "id": "uTyvWu5u72To",
    "outputId": "4e2a499c-1d55-4133-b40c-ca220c5139d0"
   },
   "outputs": [
    {
     "data": {
      "text/html": [
       "<div>\n",
       "<style scoped>\n",
       "    .dataframe tbody tr th:only-of-type {\n",
       "        vertical-align: middle;\n",
       "    }\n",
       "\n",
       "    .dataframe tbody tr th {\n",
       "        vertical-align: top;\n",
       "    }\n",
       "\n",
       "    .dataframe thead th {\n",
       "        text-align: right;\n",
       "    }\n",
       "</style>\n",
       "<table border=\"1\" class=\"dataframe\">\n",
       "  <thead>\n",
       "    <tr style=\"text-align: right;\">\n",
       "      <th>기관</th>\n",
       "      <th>문항</th>\n",
       "      <th>국제기구</th>\n",
       "      <th>민간기업</th>\n",
       "      <th>서울시</th>\n",
       "      <th>서울시 산하기관</th>\n",
       "      <th>중앙부처/산하기관</th>\n",
       "      <th>평균</th>\n",
       "    </tr>\n",
       "    <tr>\n",
       "      <th></th>\n",
       "      <th></th>\n",
       "      <th></th>\n",
       "      <th></th>\n",
       "      <th></th>\n",
       "      <th></th>\n",
       "      <th></th>\n",
       "      <th></th>\n",
       "    </tr>\n",
       "  </thead>\n",
       "  <tbody>\n",
       "    <tr>\n",
       "      <td>0</td>\n",
       "      <td>내용 이해에 효과적인 교육방법 사용</td>\n",
       "      <td>5.0</td>\n",
       "      <td>4.71</td>\n",
       "      <td>4.43</td>\n",
       "      <td>4.33</td>\n",
       "      <td>4.75</td>\n",
       "      <td>4.59</td>\n",
       "    </tr>\n",
       "    <tr>\n",
       "      <td>1</td>\n",
       "      <td>이해하기 적절한 교육내용 구성</td>\n",
       "      <td>4.0</td>\n",
       "      <td>4.43</td>\n",
       "      <td>4.43</td>\n",
       "      <td>4.33</td>\n",
       "      <td>4.75</td>\n",
       "      <td>4.45</td>\n",
       "    </tr>\n",
       "    <tr>\n",
       "      <td>2</td>\n",
       "      <td>교육생 상황에 맞는 교육내용 구성</td>\n",
       "      <td>4.0</td>\n",
       "      <td>4.43</td>\n",
       "      <td>4.29</td>\n",
       "      <td>3.33</td>\n",
       "      <td>4.50</td>\n",
       "      <td>4.23</td>\n",
       "    </tr>\n",
       "    <tr>\n",
       "      <td>3</td>\n",
       "      <td>운영진의 원활한 교육과정 운영</td>\n",
       "      <td>5.0</td>\n",
       "      <td>4.43</td>\n",
       "      <td>4.14</td>\n",
       "      <td>4.67</td>\n",
       "      <td>4.75</td>\n",
       "      <td>4.45</td>\n",
       "    </tr>\n",
       "    <tr>\n",
       "      <td>4</td>\n",
       "      <td>운영진의 적절한 응급상황 대처</td>\n",
       "      <td>5.0</td>\n",
       "      <td>4.57</td>\n",
       "      <td>4.14</td>\n",
       "      <td>4.33</td>\n",
       "      <td>4.75</td>\n",
       "      <td>4.45</td>\n",
       "    </tr>\n",
       "    <tr>\n",
       "      <td>5</td>\n",
       "      <td>평균</td>\n",
       "      <td>4.6</td>\n",
       "      <td>4.51</td>\n",
       "      <td>4.29</td>\n",
       "      <td>4.20</td>\n",
       "      <td>4.70</td>\n",
       "      <td>4.43</td>\n",
       "    </tr>\n",
       "  </tbody>\n",
       "</table>\n",
       "</div>"
      ],
      "text/plain": [
       "기관                   문항  국제기구  민간기업   서울시  서울시 산하기관  중앙부처/산하기관    평균\n",
       "                                                                    \n",
       "0   내용 이해에 효과적인 교육방법 사용   5.0  4.71  4.43      4.33       4.75  4.59\n",
       "1      이해하기 적절한 교육내용 구성   4.0  4.43  4.43      4.33       4.75  4.45\n",
       "2    교육생 상황에 맞는 교육내용 구성   4.0  4.43  4.29      3.33       4.50  4.23\n",
       "3      운영진의 원활한 교육과정 운영   5.0  4.43  4.14      4.67       4.75  4.45\n",
       "4      운영진의 적절한 응급상황 대처   5.0  4.57  4.14      4.33       4.75  4.45\n",
       "5                    평균   4.6  4.51  4.29      4.20       4.70  4.43"
      ]
     },
     "execution_count": 106,
     "metadata": {},
     "output_type": "execute_result"
    }
   ],
   "source": [
    "cs_mean_int = cs_mean.mean(axis=1).round(2)\n",
    "cs_mean[\"평균\"] = cs_mean_int\n",
    "cs_mean = cs_mean.T.reset_index().rename(columns={\"index\": \"문항\"})\n",
    "cs_mean.index.names = ['']\n",
    "cs_mean"
   ]
  },
  {
   "cell_type": "code",
   "execution_count": 107,
   "metadata": {},
   "outputs": [
    {
     "data": {
      "text/html": [
       "<div>\n",
       "<style scoped>\n",
       "    .dataframe tbody tr th:only-of-type {\n",
       "        vertical-align: middle;\n",
       "    }\n",
       "\n",
       "    .dataframe tbody tr th {\n",
       "        vertical-align: top;\n",
       "    }\n",
       "\n",
       "    .dataframe thead th {\n",
       "        text-align: right;\n",
       "    }\n",
       "</style>\n",
       "<table border=\"1\" class=\"dataframe\">\n",
       "  <thead>\n",
       "    <tr style=\"text-align: right;\">\n",
       "      <th>기관</th>\n",
       "      <th>문항</th>\n",
       "      <th>평균</th>\n",
       "    </tr>\n",
       "    <tr>\n",
       "      <th></th>\n",
       "      <th></th>\n",
       "      <th></th>\n",
       "    </tr>\n",
       "  </thead>\n",
       "  <tbody>\n",
       "    <tr>\n",
       "      <td>2</td>\n",
       "      <td>교육생 상황에 맞는 교육내용 구성</td>\n",
       "      <td>4.23</td>\n",
       "    </tr>\n",
       "    <tr>\n",
       "      <td>1</td>\n",
       "      <td>이해하기 적절한 교육내용 구성</td>\n",
       "      <td>4.45</td>\n",
       "    </tr>\n",
       "    <tr>\n",
       "      <td>3</td>\n",
       "      <td>운영진의 원활한 교육과정 운영</td>\n",
       "      <td>4.45</td>\n",
       "    </tr>\n",
       "    <tr>\n",
       "      <td>4</td>\n",
       "      <td>운영진의 적절한 응급상황 대처</td>\n",
       "      <td>4.45</td>\n",
       "    </tr>\n",
       "    <tr>\n",
       "      <td>0</td>\n",
       "      <td>내용 이해에 효과적인 교육방법 사용</td>\n",
       "      <td>4.59</td>\n",
       "    </tr>\n",
       "  </tbody>\n",
       "</table>\n",
       "</div>"
      ],
      "text/plain": [
       "기관                   문항    평균\n",
       "                             \n",
       "2    교육생 상황에 맞는 교육내용 구성  4.23\n",
       "1      이해하기 적절한 교육내용 구성  4.45\n",
       "3      운영진의 원활한 교육과정 운영  4.45\n",
       "4      운영진의 적절한 응급상황 대처  4.45\n",
       "0   내용 이해에 효과적인 교육방법 사용  4.59"
      ]
     },
     "execution_count": 107,
     "metadata": {},
     "output_type": "execute_result"
    }
   ],
   "source": [
    "cs_mean_qmean = cs_mean.drop(index=5,columns=cs_mean.columns[1:6]).sort_values('평균')\n",
    "cs_mean_qmean"
   ]
  },
  {
   "cell_type": "code",
   "execution_count": 108,
   "metadata": {},
   "outputs": [
    {
     "data": {
      "text/html": [
       "<div>\n",
       "<style scoped>\n",
       "    .dataframe tbody tr th:only-of-type {\n",
       "        vertical-align: middle;\n",
       "    }\n",
       "\n",
       "    .dataframe tbody tr th {\n",
       "        vertical-align: top;\n",
       "    }\n",
       "\n",
       "    .dataframe thead th {\n",
       "        text-align: right;\n",
       "    }\n",
       "</style>\n",
       "<table border=\"1\" class=\"dataframe\">\n",
       "  <thead>\n",
       "    <tr style=\"text-align: right;\">\n",
       "      <th>문항</th>\n",
       "      <th>평균</th>\n",
       "    </tr>\n",
       "    <tr>\n",
       "      <th>기관</th>\n",
       "      <th></th>\n",
       "    </tr>\n",
       "  </thead>\n",
       "  <tbody>\n",
       "    <tr>\n",
       "      <td>서울시 산하기관</td>\n",
       "      <td>4.20</td>\n",
       "    </tr>\n",
       "    <tr>\n",
       "      <td>서울시</td>\n",
       "      <td>4.29</td>\n",
       "    </tr>\n",
       "    <tr>\n",
       "      <td>민간기업</td>\n",
       "      <td>4.51</td>\n",
       "    </tr>\n",
       "    <tr>\n",
       "      <td>국제기구</td>\n",
       "      <td>4.60</td>\n",
       "    </tr>\n",
       "    <tr>\n",
       "      <td>중앙부처/산하기관</td>\n",
       "      <td>4.70</td>\n",
       "    </tr>\n",
       "  </tbody>\n",
       "</table>\n",
       "</div>"
      ],
      "text/plain": [
       "문항           평균\n",
       "기관             \n",
       "서울시 산하기관   4.20\n",
       "서울시        4.29\n",
       "민간기업       4.51\n",
       "국제기구       4.60\n",
       "중앙부처/산하기관  4.70"
      ]
     },
     "execution_count": 108,
     "metadata": {},
     "output_type": "execute_result"
    }
   ],
   "source": [
    "cs_mean_orgmean = \\\n",
    "cs_mean.drop(index=cs_mean.index[:5], columns='평균'\n",
    "            ).set_index(\"문항\").T.sort_values('평균')\n",
    "cs_mean_orgmean"
   ]
  },
  {
   "cell_type": "markdown",
   "metadata": {},
   "source": [
    "### 만족도 현황 1"
   ]
  },
  {
   "cell_type": "code",
   "execution_count": 154,
   "metadata": {
    "colab": {
     "base_uri": "https://localhost:8080/",
     "height": 1000
    },
    "colab_type": "code",
    "id": "TwSu8pCyPCuN",
    "outputId": "2ea73f5d-0d75-489f-c47c-45ef58dfad38"
   },
   "outputs": [
    {
     "data": {
      "application/vnd.plotly.v1+json": {
       "config": {
        "plotlyServerURL": "https://plot.ly"
       },
       "data": [
        {
         "marker": {
          "cmax": 5.3,
          "cmin": 4.3,
          "color": [
           4.2,
           4.29,
           4.51,
           4.6,
           4.7
          ],
          "colorscale": [
           [
            0,
            "rgb(103,0,31)"
           ],
           [
            0.1,
            "rgb(178,24,43)"
           ],
           [
            0.2,
            "rgb(214,96,77)"
           ],
           [
            0.3,
            "rgb(244,165,130)"
           ],
           [
            0.4,
            "rgb(253,219,199)"
           ],
           [
            0.5,
            "rgb(247,247,247)"
           ],
           [
            0.6,
            "rgb(209,229,240)"
           ],
           [
            0.7,
            "rgb(146,197,222)"
           ],
           [
            0.8,
            "rgb(67,147,195)"
           ],
           [
            0.9,
            "rgb(33,102,172)"
           ],
           [
            1,
            "rgb(5,48,97)"
           ]
          ]
         },
         "orientation": "h",
         "showlegend": false,
         "text": [
          4.2,
          4.29,
          4.51,
          4.6,
          4.7
         ],
         "textposition": "auto",
         "type": "bar",
         "width": 0.8,
         "x": [
          4.2,
          4.29,
          4.51,
          4.6,
          4.7
         ],
         "xaxis": "x",
         "y": [
          "서울시 산하기관",
          "서울시",
          "민간기업",
          "국제기구",
          "중앙부처/산하기관"
         ],
         "yaxis": "y"
        },
        {
         "marker": {
          "cmax": 5.3,
          "cmin": 4.3,
          "color": [
           4.23,
           4.45,
           4.45,
           4.45,
           4.59
          ],
          "colorscale": [
           [
            0,
            "rgb(103,0,31)"
           ],
           [
            0.1,
            "rgb(178,24,43)"
           ],
           [
            0.2,
            "rgb(214,96,77)"
           ],
           [
            0.3,
            "rgb(244,165,130)"
           ],
           [
            0.4,
            "rgb(253,219,199)"
           ],
           [
            0.5,
            "rgb(247,247,247)"
           ],
           [
            0.6,
            "rgb(209,229,240)"
           ],
           [
            0.7,
            "rgb(146,197,222)"
           ],
           [
            0.8,
            "rgb(67,147,195)"
           ],
           [
            0.9,
            "rgb(33,102,172)"
           ],
           [
            1,
            "rgb(5,48,97)"
           ]
          ]
         },
         "orientation": "h",
         "showlegend": false,
         "text": [
          4.23,
          4.45,
          4.45,
          4.45,
          4.59
         ],
         "textposition": "auto",
         "type": "bar",
         "width": 0.8,
         "x": [
          4.23,
          4.45,
          4.45,
          4.45,
          4.59
         ],
         "xaxis": "x2",
         "y": [
          "교육생 상황에 맞는 교육내용 구성",
          "이해하기 적절한 교육내용 구성",
          "운영진의 원활한 교육과정 운영",
          "운영진의 적절한 응급상황 대처",
          "내용 이해에 효과적인 교육방법 사용"
         ],
         "yaxis": "y2"
        },
        {
         "cells": {
          "align": [
           "left",
           "center"
          ],
          "font": {
           "color": "#000000",
           "size": 11
          },
          "values": [
           [
            "내용 이해에 효과적인 교육방법 사용",
            "이해하기 적절한 교육내용 구성",
            "교육생 상황에 맞는 교육내용 구성",
            "운영진의 원활한 교육과정 운영",
            "운영진의 적절한 응급상황 대처",
            "평균"
           ],
           [
            5,
            4,
            4,
            5,
            5,
            4.6
           ],
           [
            4.71,
            4.43,
            4.43,
            4.43,
            4.57,
            4.51
           ],
           [
            4.43,
            4.43,
            4.29,
            4.14,
            4.14,
            4.29
           ],
           [
            4.33,
            4.33,
            3.33,
            4.67,
            4.33,
            4.2
           ],
           [
            4.75,
            4.75,
            4.5,
            4.75,
            4.75,
            4.7
           ],
           [
            4.59,
            4.45,
            4.23,
            4.45,
            4.45,
            4.43
           ]
          ]
         },
         "columnwidth": [
          170,
          45,
          45,
          42,
          85,
          80,
          40
         ],
         "domain": {
          "x": [
           0,
           1
          ],
          "y": [
           0,
           0.2753333333333334
          ]
         },
         "header": {
          "align": "center",
          "fill": {
           "color": "#094688"
          },
          "font": {
           "color": "#ffffff",
           "size": 11
          },
          "height": 25,
          "values": [
           "문항",
           "국제기구",
           "민간기업",
           "서울시",
           "서울시 산하기관",
           "중앙부처/산하기관",
           "평균"
          ]
         },
         "type": "table"
        }
       ],
       "layout": {
        "annotations": [
         {
          "font": {
           "size": 16
          },
          "showarrow": false,
          "text": "문항별 만족도 평균",
          "x": 0.5,
          "xanchor": "center",
          "xref": "paper",
          "y": 1.0000000000000002,
          "yanchor": "bottom",
          "yref": "paper"
         },
         {
          "font": {
           "size": 16
          },
          "showarrow": false,
          "text": "기관별 만족도 평균",
          "x": 0.5,
          "xanchor": "center",
          "xref": "paper",
          "y": 0.6376666666666668,
          "yanchor": "bottom",
          "yref": "paper"
         },
         {
          "font": {
           "size": 16
          },
          "showarrow": false,
          "text": "문항별-기관별 만족도 현황",
          "x": 0.5,
          "xanchor": "center",
          "xref": "paper",
          "y": 0.2753333333333334,
          "yanchor": "bottom",
          "yref": "paper"
         }
        ],
        "font": {
         "size": 13
        },
        "height": 1000,
        "margin": {
         "t": 120
        },
        "template": {
         "data": {
          "bar": [
           {
            "error_x": {
             "color": "#2a3f5f"
            },
            "error_y": {
             "color": "#2a3f5f"
            },
            "marker": {
             "line": {
              "color": "#E5ECF6",
              "width": 0.5
             }
            },
            "type": "bar"
           }
          ],
          "barpolar": [
           {
            "marker": {
             "line": {
              "color": "#E5ECF6",
              "width": 0.5
             }
            },
            "type": "barpolar"
           }
          ],
          "carpet": [
           {
            "aaxis": {
             "endlinecolor": "#2a3f5f",
             "gridcolor": "white",
             "linecolor": "white",
             "minorgridcolor": "white",
             "startlinecolor": "#2a3f5f"
            },
            "baxis": {
             "endlinecolor": "#2a3f5f",
             "gridcolor": "white",
             "linecolor": "white",
             "minorgridcolor": "white",
             "startlinecolor": "#2a3f5f"
            },
            "type": "carpet"
           }
          ],
          "choropleth": [
           {
            "colorbar": {
             "outlinewidth": 0,
             "ticks": ""
            },
            "type": "choropleth"
           }
          ],
          "contour": [
           {
            "colorbar": {
             "outlinewidth": 0,
             "ticks": ""
            },
            "colorscale": [
             [
              0,
              "#0d0887"
             ],
             [
              0.1111111111111111,
              "#46039f"
             ],
             [
              0.2222222222222222,
              "#7201a8"
             ],
             [
              0.3333333333333333,
              "#9c179e"
             ],
             [
              0.4444444444444444,
              "#bd3786"
             ],
             [
              0.5555555555555556,
              "#d8576b"
             ],
             [
              0.6666666666666666,
              "#ed7953"
             ],
             [
              0.7777777777777778,
              "#fb9f3a"
             ],
             [
              0.8888888888888888,
              "#fdca26"
             ],
             [
              1,
              "#f0f921"
             ]
            ],
            "type": "contour"
           }
          ],
          "contourcarpet": [
           {
            "colorbar": {
             "outlinewidth": 0,
             "ticks": ""
            },
            "type": "contourcarpet"
           }
          ],
          "heatmap": [
           {
            "colorbar": {
             "outlinewidth": 0,
             "ticks": ""
            },
            "colorscale": [
             [
              0,
              "#0d0887"
             ],
             [
              0.1111111111111111,
              "#46039f"
             ],
             [
              0.2222222222222222,
              "#7201a8"
             ],
             [
              0.3333333333333333,
              "#9c179e"
             ],
             [
              0.4444444444444444,
              "#bd3786"
             ],
             [
              0.5555555555555556,
              "#d8576b"
             ],
             [
              0.6666666666666666,
              "#ed7953"
             ],
             [
              0.7777777777777778,
              "#fb9f3a"
             ],
             [
              0.8888888888888888,
              "#fdca26"
             ],
             [
              1,
              "#f0f921"
             ]
            ],
            "type": "heatmap"
           }
          ],
          "heatmapgl": [
           {
            "colorbar": {
             "outlinewidth": 0,
             "ticks": ""
            },
            "colorscale": [
             [
              0,
              "#0d0887"
             ],
             [
              0.1111111111111111,
              "#46039f"
             ],
             [
              0.2222222222222222,
              "#7201a8"
             ],
             [
              0.3333333333333333,
              "#9c179e"
             ],
             [
              0.4444444444444444,
              "#bd3786"
             ],
             [
              0.5555555555555556,
              "#d8576b"
             ],
             [
              0.6666666666666666,
              "#ed7953"
             ],
             [
              0.7777777777777778,
              "#fb9f3a"
             ],
             [
              0.8888888888888888,
              "#fdca26"
             ],
             [
              1,
              "#f0f921"
             ]
            ],
            "type": "heatmapgl"
           }
          ],
          "histogram": [
           {
            "marker": {
             "colorbar": {
              "outlinewidth": 0,
              "ticks": ""
             }
            },
            "type": "histogram"
           }
          ],
          "histogram2d": [
           {
            "colorbar": {
             "outlinewidth": 0,
             "ticks": ""
            },
            "colorscale": [
             [
              0,
              "#0d0887"
             ],
             [
              0.1111111111111111,
              "#46039f"
             ],
             [
              0.2222222222222222,
              "#7201a8"
             ],
             [
              0.3333333333333333,
              "#9c179e"
             ],
             [
              0.4444444444444444,
              "#bd3786"
             ],
             [
              0.5555555555555556,
              "#d8576b"
             ],
             [
              0.6666666666666666,
              "#ed7953"
             ],
             [
              0.7777777777777778,
              "#fb9f3a"
             ],
             [
              0.8888888888888888,
              "#fdca26"
             ],
             [
              1,
              "#f0f921"
             ]
            ],
            "type": "histogram2d"
           }
          ],
          "histogram2dcontour": [
           {
            "colorbar": {
             "outlinewidth": 0,
             "ticks": ""
            },
            "colorscale": [
             [
              0,
              "#0d0887"
             ],
             [
              0.1111111111111111,
              "#46039f"
             ],
             [
              0.2222222222222222,
              "#7201a8"
             ],
             [
              0.3333333333333333,
              "#9c179e"
             ],
             [
              0.4444444444444444,
              "#bd3786"
             ],
             [
              0.5555555555555556,
              "#d8576b"
             ],
             [
              0.6666666666666666,
              "#ed7953"
             ],
             [
              0.7777777777777778,
              "#fb9f3a"
             ],
             [
              0.8888888888888888,
              "#fdca26"
             ],
             [
              1,
              "#f0f921"
             ]
            ],
            "type": "histogram2dcontour"
           }
          ],
          "mesh3d": [
           {
            "colorbar": {
             "outlinewidth": 0,
             "ticks": ""
            },
            "type": "mesh3d"
           }
          ],
          "parcoords": [
           {
            "line": {
             "colorbar": {
              "outlinewidth": 0,
              "ticks": ""
             }
            },
            "type": "parcoords"
           }
          ],
          "scatter": [
           {
            "marker": {
             "colorbar": {
              "outlinewidth": 0,
              "ticks": ""
             }
            },
            "type": "scatter"
           }
          ],
          "scatter3d": [
           {
            "line": {
             "colorbar": {
              "outlinewidth": 0,
              "ticks": ""
             }
            },
            "marker": {
             "colorbar": {
              "outlinewidth": 0,
              "ticks": ""
             }
            },
            "type": "scatter3d"
           }
          ],
          "scattercarpet": [
           {
            "marker": {
             "colorbar": {
              "outlinewidth": 0,
              "ticks": ""
             }
            },
            "type": "scattercarpet"
           }
          ],
          "scattergeo": [
           {
            "marker": {
             "colorbar": {
              "outlinewidth": 0,
              "ticks": ""
             }
            },
            "type": "scattergeo"
           }
          ],
          "scattergl": [
           {
            "marker": {
             "colorbar": {
              "outlinewidth": 0,
              "ticks": ""
             }
            },
            "type": "scattergl"
           }
          ],
          "scattermapbox": [
           {
            "marker": {
             "colorbar": {
              "outlinewidth": 0,
              "ticks": ""
             }
            },
            "type": "scattermapbox"
           }
          ],
          "scatterpolar": [
           {
            "marker": {
             "colorbar": {
              "outlinewidth": 0,
              "ticks": ""
             }
            },
            "type": "scatterpolar"
           }
          ],
          "scatterpolargl": [
           {
            "marker": {
             "colorbar": {
              "outlinewidth": 0,
              "ticks": ""
             }
            },
            "type": "scatterpolargl"
           }
          ],
          "scatterternary": [
           {
            "marker": {
             "colorbar": {
              "outlinewidth": 0,
              "ticks": ""
             }
            },
            "type": "scatterternary"
           }
          ],
          "surface": [
           {
            "colorbar": {
             "outlinewidth": 0,
             "ticks": ""
            },
            "colorscale": [
             [
              0,
              "#0d0887"
             ],
             [
              0.1111111111111111,
              "#46039f"
             ],
             [
              0.2222222222222222,
              "#7201a8"
             ],
             [
              0.3333333333333333,
              "#9c179e"
             ],
             [
              0.4444444444444444,
              "#bd3786"
             ],
             [
              0.5555555555555556,
              "#d8576b"
             ],
             [
              0.6666666666666666,
              "#ed7953"
             ],
             [
              0.7777777777777778,
              "#fb9f3a"
             ],
             [
              0.8888888888888888,
              "#fdca26"
             ],
             [
              1,
              "#f0f921"
             ]
            ],
            "type": "surface"
           }
          ],
          "table": [
           {
            "cells": {
             "fill": {
              "color": "#EBF0F8"
             },
             "line": {
              "color": "white"
             }
            },
            "header": {
             "fill": {
              "color": "#C8D4E3"
             },
             "line": {
              "color": "white"
             }
            },
            "type": "table"
           }
          ]
         },
         "layout": {
          "annotationdefaults": {
           "arrowcolor": "#2a3f5f",
           "arrowhead": 0,
           "arrowwidth": 1
          },
          "colorscale": {
           "diverging": [
            [
             0,
             "#8e0152"
            ],
            [
             0.1,
             "#c51b7d"
            ],
            [
             0.2,
             "#de77ae"
            ],
            [
             0.3,
             "#f1b6da"
            ],
            [
             0.4,
             "#fde0ef"
            ],
            [
             0.5,
             "#f7f7f7"
            ],
            [
             0.6,
             "#e6f5d0"
            ],
            [
             0.7,
             "#b8e186"
            ],
            [
             0.8,
             "#7fbc41"
            ],
            [
             0.9,
             "#4d9221"
            ],
            [
             1,
             "#276419"
            ]
           ],
           "sequential": [
            [
             0,
             "#0d0887"
            ],
            [
             0.1111111111111111,
             "#46039f"
            ],
            [
             0.2222222222222222,
             "#7201a8"
            ],
            [
             0.3333333333333333,
             "#9c179e"
            ],
            [
             0.4444444444444444,
             "#bd3786"
            ],
            [
             0.5555555555555556,
             "#d8576b"
            ],
            [
             0.6666666666666666,
             "#ed7953"
            ],
            [
             0.7777777777777778,
             "#fb9f3a"
            ],
            [
             0.8888888888888888,
             "#fdca26"
            ],
            [
             1,
             "#f0f921"
            ]
           ],
           "sequentialminus": [
            [
             0,
             "#0d0887"
            ],
            [
             0.1111111111111111,
             "#46039f"
            ],
            [
             0.2222222222222222,
             "#7201a8"
            ],
            [
             0.3333333333333333,
             "#9c179e"
            ],
            [
             0.4444444444444444,
             "#bd3786"
            ],
            [
             0.5555555555555556,
             "#d8576b"
            ],
            [
             0.6666666666666666,
             "#ed7953"
            ],
            [
             0.7777777777777778,
             "#fb9f3a"
            ],
            [
             0.8888888888888888,
             "#fdca26"
            ],
            [
             1,
             "#f0f921"
            ]
           ]
          },
          "colorway": [
           "#636efa",
           "#EF553B",
           "#00cc96",
           "#ab63fa",
           "#FFA15A",
           "#19d3f3",
           "#FF6692",
           "#B6E880",
           "#FF97FF",
           "#FECB52"
          ],
          "font": {
           "color": "#2a3f5f"
          },
          "geo": {
           "bgcolor": "white",
           "lakecolor": "white",
           "landcolor": "#E5ECF6",
           "showlakes": true,
           "showland": true,
           "subunitcolor": "white"
          },
          "hoverlabel": {
           "align": "left"
          },
          "hovermode": "closest",
          "mapbox": {
           "style": "light"
          },
          "paper_bgcolor": "white",
          "plot_bgcolor": "#E5ECF6",
          "polar": {
           "angularaxis": {
            "gridcolor": "white",
            "linecolor": "white",
            "ticks": ""
           },
           "bgcolor": "#E5ECF6",
           "radialaxis": {
            "gridcolor": "white",
            "linecolor": "white",
            "ticks": ""
           }
          },
          "scene": {
           "xaxis": {
            "backgroundcolor": "#E5ECF6",
            "gridcolor": "white",
            "gridwidth": 2,
            "linecolor": "white",
            "showbackground": true,
            "ticks": "",
            "zerolinecolor": "white"
           },
           "yaxis": {
            "backgroundcolor": "#E5ECF6",
            "gridcolor": "white",
            "gridwidth": 2,
            "linecolor": "white",
            "showbackground": true,
            "ticks": "",
            "zerolinecolor": "white"
           },
           "zaxis": {
            "backgroundcolor": "#E5ECF6",
            "gridcolor": "white",
            "gridwidth": 2,
            "linecolor": "white",
            "showbackground": true,
            "ticks": "",
            "zerolinecolor": "white"
           }
          },
          "shapedefaults": {
           "line": {
            "color": "#2a3f5f"
           }
          },
          "ternary": {
           "aaxis": {
            "gridcolor": "white",
            "linecolor": "white",
            "ticks": ""
           },
           "baxis": {
            "gridcolor": "white",
            "linecolor": "white",
            "ticks": ""
           },
           "bgcolor": "#E5ECF6",
           "caxis": {
            "gridcolor": "white",
            "linecolor": "white",
            "ticks": ""
           }
          },
          "title": {
           "x": 0.05
          },
          "xaxis": {
           "automargin": true,
           "gridcolor": "white",
           "linecolor": "white",
           "ticks": "",
           "zerolinecolor": "white",
           "zerolinewidth": 2
          },
          "yaxis": {
           "automargin": true,
           "gridcolor": "white",
           "linecolor": "white",
           "ticks": "",
           "zerolinecolor": "white",
           "zerolinewidth": 2
          }
         }
        },
        "title": {
         "text": "만족도 문항 응답 현황",
         "x": 0.57,
         "y": 0.95
        },
        "width": 900,
        "xaxis": {
         "anchor": "y",
         "domain": [
          0,
          1
         ],
         "range": [
          0,
          5
         ],
         "tickfont": {
          "size": 12
         },
         "type": "linear"
        },
        "xaxis2": {
         "anchor": "y2",
         "domain": [
          0,
          1
         ],
         "range": [
          0,
          5
         ],
         "tickfont": {
          "size": 12
         },
         "type": "linear"
        },
        "yaxis": {
         "anchor": "x",
         "autorange": true,
         "domain": [
          0.7246666666666668,
          1
         ],
         "range": [
          -0.5,
          4.5
         ],
         "tickfont": {
          "size": 12
         },
         "type": "category"
        },
        "yaxis2": {
         "anchor": "x2",
         "autorange": true,
         "domain": [
          0.3623333333333334,
          0.6376666666666668
         ],
         "range": [
          -0.5,
          4.5
         ],
         "tickfont": {
          "size": 12
         },
         "type": "category"
        }
       }
      },
      "image/png": "[encoded data removed]",
      "text/html": [
       "<div>\n",
       "        \n",
       "        \n",
       "            <div id=\"47f297f8-2ee5-45db-882b-cc2272fc80c6\" class=\"plotly-graph-div\" style=\"height:1000px; width:900px;\"></div>\n",
       "            <script type=\"text/javascript\">\n",
       "                require([\"plotly\"], function(Plotly) {\n",
       "                    window.PLOTLYENV=window.PLOTLYENV || {};\n",
       "                    \n",
       "                if (document.getElementById(\"47f297f8-2ee5-45db-882b-cc2272fc80c6\")) {\n",
       "                    Plotly.newPlot(\n",
       "                        '47f297f8-2ee5-45db-882b-cc2272fc80c6',\n",
       "                        [{\"marker\": {\"cmax\": 5.3, \"cmin\": 4.3, \"color\": [4.2, 4.29, 4.51, 4.6, 4.7], \"colorscale\": [[0.0, \"rgb(103,0,31)\"], [0.1, \"rgb(178,24,43)\"], [0.2, \"rgb(214,96,77)\"], [0.3, \"rgb(244,165,130)\"], [0.4, \"rgb(253,219,199)\"], [0.5, \"rgb(247,247,247)\"], [0.6, \"rgb(209,229,240)\"], [0.7, \"rgb(146,197,222)\"], [0.8, \"rgb(67,147,195)\"], [0.9, \"rgb(33,102,172)\"], [1.0, \"rgb(5,48,97)\"]]}, \"orientation\": \"h\", \"showlegend\": false, \"text\": [4.2, 4.29, 4.51, 4.6, 4.7], \"textposition\": \"auto\", \"type\": \"bar\", \"width\": 0.8, \"x\": [4.2, 4.29, 4.51, 4.6, 4.7], \"xaxis\": \"x\", \"y\": [\"\\uc11c\\uc6b8\\uc2dc \\uc0b0\\ud558\\uae30\\uad00\", \"\\uc11c\\uc6b8\\uc2dc\", \"\\ubbfc\\uac04\\uae30\\uc5c5\", \"\\uad6d\\uc81c\\uae30\\uad6c\", \"\\uc911\\uc559\\ubd80\\ucc98/\\uc0b0\\ud558\\uae30\\uad00\"], \"yaxis\": \"y\"}, {\"marker\": {\"cmax\": 5.3, \"cmin\": 4.3, \"color\": [4.23, 4.45, 4.45, 4.45, 4.59], \"colorscale\": [[0.0, \"rgb(103,0,31)\"], [0.1, \"rgb(178,24,43)\"], [0.2, \"rgb(214,96,77)\"], [0.3, \"rgb(244,165,130)\"], [0.4, \"rgb(253,219,199)\"], [0.5, \"rgb(247,247,247)\"], [0.6, \"rgb(209,229,240)\"], [0.7, \"rgb(146,197,222)\"], [0.8, \"rgb(67,147,195)\"], [0.9, \"rgb(33,102,172)\"], [1.0, \"rgb(5,48,97)\"]]}, \"orientation\": \"h\", \"showlegend\": false, \"text\": [4.23, 4.45, 4.45, 4.45, 4.59], \"textposition\": \"auto\", \"type\": \"bar\", \"width\": 0.8, \"x\": [4.23, 4.45, 4.45, 4.45, 4.59], \"xaxis\": \"x2\", \"y\": [\"\\uad50\\uc721\\uc0dd \\uc0c1\\ud669\\uc5d0 \\ub9de\\ub294 \\uad50\\uc721\\ub0b4\\uc6a9 \\uad6c\\uc131\", \"\\uc774\\ud574\\ud558\\uae30 \\uc801\\uc808\\ud55c \\uad50\\uc721\\ub0b4\\uc6a9 \\uad6c\\uc131\", \"\\uc6b4\\uc601\\uc9c4\\uc758 \\uc6d0\\ud65c\\ud55c \\uad50\\uc721\\uacfc\\uc815 \\uc6b4\\uc601\", \"\\uc6b4\\uc601\\uc9c4\\uc758 \\uc801\\uc808\\ud55c \\uc751\\uae09\\uc0c1\\ud669 \\ub300\\ucc98\", \"\\ub0b4\\uc6a9 \\uc774\\ud574\\uc5d0 \\ud6a8\\uacfc\\uc801\\uc778 \\uad50\\uc721\\ubc29\\ubc95 \\uc0ac\\uc6a9\"], \"yaxis\": \"y2\"}, {\"cells\": {\"align\": [\"left\", \"center\"], \"font\": {\"color\": \"#000000\", \"size\": 11}, \"values\": [[\"\\ub0b4\\uc6a9 \\uc774\\ud574\\uc5d0 \\ud6a8\\uacfc\\uc801\\uc778 \\uad50\\uc721\\ubc29\\ubc95 \\uc0ac\\uc6a9\", \"\\uc774\\ud574\\ud558\\uae30 \\uc801\\uc808\\ud55c \\uad50\\uc721\\ub0b4\\uc6a9 \\uad6c\\uc131\", \"\\uad50\\uc721\\uc0dd \\uc0c1\\ud669\\uc5d0 \\ub9de\\ub294 \\uad50\\uc721\\ub0b4\\uc6a9 \\uad6c\\uc131\", \"\\uc6b4\\uc601\\uc9c4\\uc758 \\uc6d0\\ud65c\\ud55c \\uad50\\uc721\\uacfc\\uc815 \\uc6b4\\uc601\", \"\\uc6b4\\uc601\\uc9c4\\uc758 \\uc801\\uc808\\ud55c \\uc751\\uae09\\uc0c1\\ud669 \\ub300\\ucc98\", \"\\ud3c9\\uade0\"], [5.0, 4.0, 4.0, 5.0, 5.0, 4.6], [4.71, 4.43, 4.43, 4.43, 4.57, 4.51], [4.43, 4.43, 4.29, 4.14, 4.14, 4.29], [4.33, 4.33, 3.33, 4.67, 4.33, 4.2], [4.75, 4.75, 4.5, 4.75, 4.75, 4.7], [4.59, 4.45, 4.23, 4.45, 4.45, 4.43]]}, \"columnwidth\": [170, 45, 45, 42, 85, 80, 40], \"domain\": {\"x\": [0.0, 1.0], \"y\": [0.0, 0.2753333333333334]}, \"header\": {\"align\": \"center\", \"fill\": {\"color\": \"#094688\"}, \"font\": {\"color\": \"#ffffff\", \"size\": 11}, \"height\": 25, \"values\": [\"\\ubb38\\ud56d\", \"\\uad6d\\uc81c\\uae30\\uad6c\", \"\\ubbfc\\uac04\\uae30\\uc5c5\", \"\\uc11c\\uc6b8\\uc2dc\", \"\\uc11c\\uc6b8\\uc2dc \\uc0b0\\ud558\\uae30\\uad00\", \"\\uc911\\uc559\\ubd80\\ucc98/\\uc0b0\\ud558\\uae30\\uad00\", \"\\ud3c9\\uade0\"]}, \"type\": \"table\"}],\n",
       "                        {\"annotations\": [{\"font\": {\"size\": 16}, \"showarrow\": false, \"text\": \"\\ubb38\\ud56d\\ubcc4 \\ub9cc\\uc871\\ub3c4 \\ud3c9\\uade0\", \"x\": 0.5, \"xanchor\": \"center\", \"xref\": \"paper\", \"y\": 1.0000000000000002, \"yanchor\": \"bottom\", \"yref\": \"paper\"}, {\"font\": {\"size\": 16}, \"showarrow\": false, \"text\": \"\\uae30\\uad00\\ubcc4 \\ub9cc\\uc871\\ub3c4 \\ud3c9\\uade0\", \"x\": 0.5, \"xanchor\": \"center\", \"xref\": \"paper\", \"y\": 0.6376666666666668, \"yanchor\": \"bottom\", \"yref\": \"paper\"}, {\"font\": {\"size\": 16}, \"showarrow\": false, \"text\": \"\\ubb38\\ud56d\\ubcc4-\\uae30\\uad00\\ubcc4 \\ub9cc\\uc871\\ub3c4 \\ud604\\ud669\", \"x\": 0.5, \"xanchor\": \"center\", \"xref\": \"paper\", \"y\": 0.2753333333333334, \"yanchor\": \"bottom\", \"yref\": \"paper\"}], \"font\": {\"size\": 13}, \"height\": 1000, \"margin\": {\"t\": 120}, \"template\": {\"data\": {\"bar\": [{\"error_x\": {\"color\": \"#2a3f5f\"}, \"error_y\": {\"color\": \"#2a3f5f\"}, \"marker\": {\"line\": {\"color\": \"#E5ECF6\", \"width\": 0.5}}, \"type\": \"bar\"}], \"barpolar\": [{\"marker\": {\"line\": {\"color\": \"#E5ECF6\", \"width\": 0.5}}, \"type\": \"barpolar\"}], \"carpet\": [{\"aaxis\": {\"endlinecolor\": \"#2a3f5f\", \"gridcolor\": \"white\", \"linecolor\": \"white\", \"minorgridcolor\": \"white\", \"startlinecolor\": \"#2a3f5f\"}, \"baxis\": {\"endlinecolor\": \"#2a3f5f\", \"gridcolor\": \"white\", \"linecolor\": \"white\", \"minorgridcolor\": \"white\", \"startlinecolor\": \"#2a3f5f\"}, \"type\": \"carpet\"}], \"choropleth\": [{\"colorbar\": {\"outlinewidth\": 0, \"ticks\": \"\"}, \"type\": \"choropleth\"}], \"contour\": [{\"colorbar\": {\"outlinewidth\": 0, \"ticks\": \"\"}, \"colorscale\": [[0.0, \"#0d0887\"], [0.1111111111111111, \"#46039f\"], [0.2222222222222222, \"#7201a8\"], [0.3333333333333333, \"#9c179e\"], [0.4444444444444444, \"#bd3786\"], [0.5555555555555556, \"#d8576b\"], [0.6666666666666666, \"#ed7953\"], [0.7777777777777778, \"#fb9f3a\"], [0.8888888888888888, \"#fdca26\"], [1.0, \"#f0f921\"]], \"type\": \"contour\"}], \"contourcarpet\": [{\"colorbar\": {\"outlinewidth\": 0, \"ticks\": \"\"}, \"type\": \"contourcarpet\"}], \"heatmap\": [{\"colorbar\": {\"outlinewidth\": 0, \"ticks\": \"\"}, \"colorscale\": [[0.0, \"#0d0887\"], [0.1111111111111111, \"#46039f\"], [0.2222222222222222, \"#7201a8\"], [0.3333333333333333, \"#9c179e\"], [0.4444444444444444, \"#bd3786\"], [0.5555555555555556, \"#d8576b\"], [0.6666666666666666, \"#ed7953\"], [0.7777777777777778, \"#fb9f3a\"], [0.8888888888888888, \"#fdca26\"], [1.0, \"#f0f921\"]], \"type\": \"heatmap\"}], \"heatmapgl\": [{\"colorbar\": {\"outlinewidth\": 0, \"ticks\": \"\"}, \"colorscale\": [[0.0, \"#0d0887\"], [0.1111111111111111, \"#46039f\"], [0.2222222222222222, \"#7201a8\"], [0.3333333333333333, \"#9c179e\"], [0.4444444444444444, \"#bd3786\"], [0.5555555555555556, \"#d8576b\"], [0.6666666666666666, \"#ed7953\"], [0.7777777777777778, \"#fb9f3a\"], [0.8888888888888888, \"#fdca26\"], [1.0, \"#f0f921\"]], \"type\": \"heatmapgl\"}], \"histogram\": [{\"marker\": {\"colorbar\": {\"outlinewidth\": 0, \"ticks\": \"\"}}, \"type\": \"histogram\"}], \"histogram2d\": [{\"colorbar\": {\"outlinewidth\": 0, \"ticks\": \"\"}, \"colorscale\": [[0.0, \"#0d0887\"], [0.1111111111111111, \"#46039f\"], [0.2222222222222222, \"#7201a8\"], [0.3333333333333333, \"#9c179e\"], [0.4444444444444444, \"#bd3786\"], [0.5555555555555556, \"#d8576b\"], [0.6666666666666666, \"#ed7953\"], [0.7777777777777778, \"#fb9f3a\"], [0.8888888888888888, \"#fdca26\"], [1.0, \"#f0f921\"]], \"type\": \"histogram2d\"}], \"histogram2dcontour\": [{\"colorbar\": {\"outlinewidth\": 0, \"ticks\": \"\"}, \"colorscale\": [[0.0, \"#0d0887\"], [0.1111111111111111, \"#46039f\"], [0.2222222222222222, \"#7201a8\"], [0.3333333333333333, \"#9c179e\"], [0.4444444444444444, \"#bd3786\"], [0.5555555555555556, \"#d8576b\"], [0.6666666666666666, \"#ed7953\"], [0.7777777777777778, \"#fb9f3a\"], [0.8888888888888888, \"#fdca26\"], [1.0, \"#f0f921\"]], \"type\": \"histogram2dcontour\"}], \"mesh3d\": [{\"colorbar\": {\"outlinewidth\": 0, \"ticks\": \"\"}, \"type\": \"mesh3d\"}], \"parcoords\": [{\"line\": {\"colorbar\": {\"outlinewidth\": 0, \"ticks\": \"\"}}, \"type\": \"parcoords\"}], \"scatter\": [{\"marker\": {\"colorbar\": {\"outlinewidth\": 0, \"ticks\": \"\"}}, \"type\": \"scatter\"}], \"scatter3d\": [{\"line\": {\"colorbar\": {\"outlinewidth\": 0, \"ticks\": \"\"}}, \"marker\": {\"colorbar\": {\"outlinewidth\": 0, \"ticks\": \"\"}}, \"type\": \"scatter3d\"}], \"scattercarpet\": [{\"marker\": {\"colorbar\": {\"outlinewidth\": 0, \"ticks\": \"\"}}, \"type\": \"scattercarpet\"}], \"scattergeo\": [{\"marker\": {\"colorbar\": {\"outlinewidth\": 0, \"ticks\": \"\"}}, \"type\": \"scattergeo\"}], \"scattergl\": [{\"marker\": {\"colorbar\": {\"outlinewidth\": 0, \"ticks\": \"\"}}, \"type\": \"scattergl\"}], \"scattermapbox\": [{\"marker\": {\"colorbar\": {\"outlinewidth\": 0, \"ticks\": \"\"}}, \"type\": \"scattermapbox\"}], \"scatterpolar\": [{\"marker\": {\"colorbar\": {\"outlinewidth\": 0, \"ticks\": \"\"}}, \"type\": \"scatterpolar\"}], \"scatterpolargl\": [{\"marker\": {\"colorbar\": {\"outlinewidth\": 0, \"ticks\": \"\"}}, \"type\": \"scatterpolargl\"}], \"scatterternary\": [{\"marker\": {\"colorbar\": {\"outlinewidth\": 0, \"ticks\": \"\"}}, \"type\": \"scatterternary\"}], \"surface\": [{\"colorbar\": {\"outlinewidth\": 0, \"ticks\": \"\"}, \"colorscale\": [[0.0, \"#0d0887\"], [0.1111111111111111, \"#46039f\"], [0.2222222222222222, \"#7201a8\"], [0.3333333333333333, \"#9c179e\"], [0.4444444444444444, \"#bd3786\"], [0.5555555555555556, \"#d8576b\"], [0.6666666666666666, \"#ed7953\"], [0.7777777777777778, \"#fb9f3a\"], [0.8888888888888888, \"#fdca26\"], [1.0, \"#f0f921\"]], \"type\": \"surface\"}], \"table\": [{\"cells\": {\"fill\": {\"color\": \"#EBF0F8\"}, \"line\": {\"color\": \"white\"}}, \"header\": {\"fill\": {\"color\": \"#C8D4E3\"}, \"line\": {\"color\": \"white\"}}, \"type\": \"table\"}]}, \"layout\": {\"annotationdefaults\": {\"arrowcolor\": \"#2a3f5f\", \"arrowhead\": 0, \"arrowwidth\": 1}, \"colorscale\": {\"diverging\": [[0, \"#8e0152\"], [0.1, \"#c51b7d\"], [0.2, \"#de77ae\"], [0.3, \"#f1b6da\"], [0.4, \"#fde0ef\"], [0.5, \"#f7f7f7\"], [0.6, \"#e6f5d0\"], [0.7, \"#b8e186\"], [0.8, \"#7fbc41\"], [0.9, \"#4d9221\"], [1, \"#276419\"]], \"sequential\": [[0.0, \"#0d0887\"], [0.1111111111111111, \"#46039f\"], [0.2222222222222222, \"#7201a8\"], [0.3333333333333333, \"#9c179e\"], [0.4444444444444444, \"#bd3786\"], [0.5555555555555556, \"#d8576b\"], [0.6666666666666666, \"#ed7953\"], [0.7777777777777778, \"#fb9f3a\"], [0.8888888888888888, \"#fdca26\"], [1.0, \"#f0f921\"]], \"sequentialminus\": [[0.0, \"#0d0887\"], [0.1111111111111111, \"#46039f\"], [0.2222222222222222, \"#7201a8\"], [0.3333333333333333, \"#9c179e\"], [0.4444444444444444, \"#bd3786\"], [0.5555555555555556, \"#d8576b\"], [0.6666666666666666, \"#ed7953\"], [0.7777777777777778, \"#fb9f3a\"], [0.8888888888888888, \"#fdca26\"], [1.0, \"#f0f921\"]]}, \"colorway\": [\"#636efa\", \"#EF553B\", \"#00cc96\", \"#ab63fa\", \"#FFA15A\", \"#19d3f3\", \"#FF6692\", \"#B6E880\", \"#FF97FF\", \"#FECB52\"], \"font\": {\"color\": \"#2a3f5f\"}, \"geo\": {\"bgcolor\": \"white\", \"lakecolor\": \"white\", \"landcolor\": \"#E5ECF6\", \"showlakes\": true, \"showland\": true, \"subunitcolor\": \"white\"}, \"hoverlabel\": {\"align\": \"left\"}, \"hovermode\": \"closest\", \"mapbox\": {\"style\": \"light\"}, \"paper_bgcolor\": \"white\", \"plot_bgcolor\": \"#E5ECF6\", \"polar\": {\"angularaxis\": {\"gridcolor\": \"white\", \"linecolor\": \"white\", \"ticks\": \"\"}, \"bgcolor\": \"#E5ECF6\", \"radialaxis\": {\"gridcolor\": \"white\", \"linecolor\": \"white\", \"ticks\": \"\"}}, \"scene\": {\"xaxis\": {\"backgroundcolor\": \"#E5ECF6\", \"gridcolor\": \"white\", \"gridwidth\": 2, \"linecolor\": \"white\", \"showbackground\": true, \"ticks\": \"\", \"zerolinecolor\": \"white\"}, \"yaxis\": {\"backgroundcolor\": \"#E5ECF6\", \"gridcolor\": \"white\", \"gridwidth\": 2, \"linecolor\": \"white\", \"showbackground\": true, \"ticks\": \"\", \"zerolinecolor\": \"white\"}, \"zaxis\": {\"backgroundcolor\": \"#E5ECF6\", \"gridcolor\": \"white\", \"gridwidth\": 2, \"linecolor\": \"white\", \"showbackground\": true, \"ticks\": \"\", \"zerolinecolor\": \"white\"}}, \"shapedefaults\": {\"line\": {\"color\": \"#2a3f5f\"}}, \"ternary\": {\"aaxis\": {\"gridcolor\": \"white\", \"linecolor\": \"white\", \"ticks\": \"\"}, \"baxis\": {\"gridcolor\": \"white\", \"linecolor\": \"white\", \"ticks\": \"\"}, \"bgcolor\": \"#E5ECF6\", \"caxis\": {\"gridcolor\": \"white\", \"linecolor\": \"white\", \"ticks\": \"\"}}, \"title\": {\"x\": 0.05}, \"xaxis\": {\"automargin\": true, \"gridcolor\": \"white\", \"linecolor\": \"white\", \"ticks\": \"\", \"zerolinecolor\": \"white\", \"zerolinewidth\": 2}, \"yaxis\": {\"automargin\": true, \"gridcolor\": \"white\", \"linecolor\": \"white\", \"ticks\": \"\", \"zerolinecolor\": \"white\", \"zerolinewidth\": 2}}}, \"title\": {\"text\": \"\\ub9cc\\uc871\\ub3c4 \\ubb38\\ud56d \\uc751\\ub2f5 \\ud604\\ud669\", \"x\": 0.57, \"y\": 0.95}, \"width\": 900, \"xaxis\": {\"anchor\": \"y\", \"domain\": [0.0, 1.0], \"range\": [0, 5], \"tickfont\": {\"size\": 12}}, \"xaxis2\": {\"anchor\": \"y2\", \"domain\": [0.0, 1.0], \"range\": [0, 5], \"tickfont\": {\"size\": 12}}, \"yaxis\": {\"anchor\": \"x\", \"domain\": [0.7246666666666668, 1.0], \"tickfont\": {\"size\": 12}}, \"yaxis2\": {\"anchor\": \"x2\", \"domain\": [0.3623333333333334, 0.6376666666666668], \"tickfont\": {\"size\": 12}}},\n",
       "                        {\"responsive\": true}\n",
       "                    ).then(function(){\n",
       "                            \n",
       "var gd = document.getElementById('47f297f8-2ee5-45db-882b-cc2272fc80c6');\n",
       "var x = new MutationObserver(function (mutations, observer) {{\n",
       "        var display = window.getComputedStyle(gd).display;\n",
       "        if (!display || display === 'none') {{\n",
       "            console.log([gd, 'removed!']);\n",
       "            Plotly.purge(gd);\n",
       "            observer.disconnect();\n",
       "        }}\n",
       "}});\n",
       "\n",
       "// Listen for the removal of the full notebook cells\n",
       "var notebookContainer = gd.closest('#notebook-container');\n",
       "if (notebookContainer) {{\n",
       "    x.observe(notebookContainer, {childList: true});\n",
       "}}\n",
       "\n",
       "// Listen for the clearing of the current output cell\n",
       "var outputEl = gd.closest('.output');\n",
       "if (outputEl) {{\n",
       "    x.observe(outputEl, {childList: true});\n",
       "}}\n",
       "\n",
       "                        })\n",
       "                };\n",
       "                });\n",
       "            </script>\n",
       "        </div>"
      ]
     },
     "metadata": {},
     "output_type": "display_data"
    }
   ],
   "source": [
    "fig = make_subplots(rows=3, cols=1, \n",
    "    vertical_spacing=0.087,\n",
    "    specs=[[{}],[{}],[{\"type\": \"table\"}]],\n",
    "    subplot_titles=(\"문항별 만족도 평균\", \"기관별 만족도 평균\", \"문항별-기관별 만족도 현황\"))\n",
    "\n",
    "fig.add_trace(go.Bar(showlegend=False, width= 0.8, orientation='h',\n",
    "    x = cs_mean_orgmean['평균'],\n",
    "    y = cs_mean_orgmean.index,\n",
    "    text = cs_mean_orgmean['평균'],\n",
    "    textposition = 'auto',\n",
    "    marker=dict(color=cs_mean_orgmean['평균'], cmin=4.3, cmax=5.3, \n",
    "                colorscale='RdBu')),row=1, col=1)\n",
    "\n",
    "fig.add_trace(go.Bar(showlegend=False, width= 0.8, orientation='h',\n",
    "    x = cs_mean_qmean['평균'],\n",
    "    y = cs_mean_qmean['문항'],\n",
    "    text = cs_mean_qmean['평균'],\n",
    "    textposition = 'auto',\n",
    "    marker=dict(color=cs_mean_qmean['평균'], cmin=4.3, cmax=5.3, \n",
    "                colorscale='RdBu')),row=2, col=1)\n",
    "\n",
    "fig.add_trace(go.Table(\n",
    "    columnwidth = [170,45,45,42,85,80,40], #columnorder = [1,2],\n",
    "    header=dict(height=25, \n",
    "        values=list(cs_mean.columns), fill_color='#094688',\n",
    "        font=dict(size=11, color='#ffffff'), align='center'),\n",
    "    cells=dict(\n",
    "        values=[cs_mean[k].tolist() for k in cs_mean.columns[:]],\n",
    "        font=dict(size=11, color='#000000'), align=['left', 'center'])),\n",
    "    row=3, col=1)\n",
    "\n",
    "fig.update_xaxes(range=[0,5], tickfont_size=12)\n",
    "\n",
    "fig.update_layout(title=dict(text ='만족도 문항 응답 현황', x=0.57, y=0.95),\n",
    "                  margin = dict(t=120), font_size = 13, width=900, height=1000,\n",
    "                  yaxis=dict(tickfont_size=12),\n",
    "                  yaxis2=dict(tickfont_size=12))"
   ]
  },
  {
   "cell_type": "markdown",
   "metadata": {},
   "source": [
    "### 만족도 현황 2"
   ]
  },
  {
   "cell_type": "code",
   "execution_count": 165,
   "metadata": {
    "colab": {
     "base_uri": "https://localhost:8080/",
     "height": 1000
    },
    "colab_type": "code",
    "id": "TwSu8pCyPCuN",
    "outputId": "2ea73f5d-0d75-489f-c47c-45ef58dfad38"
   },
   "outputs": [
    {
     "data": {
      "application/vnd.plotly.v1+json": {
       "config": {
        "plotlyServerURL": "https://plot.ly"
       },
       "data": [
        {
         "marker": {
          "cmax": 5.3,
          "cmin": 4.3,
          "color": [
           4.2,
           4.29,
           4.51,
           4.6,
           4.7
          ],
          "colorscale": [
           [
            0,
            "rgb(103,0,31)"
           ],
           [
            0.1,
            "rgb(178,24,43)"
           ],
           [
            0.2,
            "rgb(214,96,77)"
           ],
           [
            0.3,
            "rgb(244,165,130)"
           ],
           [
            0.4,
            "rgb(253,219,199)"
           ],
           [
            0.5,
            "rgb(247,247,247)"
           ],
           [
            0.6,
            "rgb(209,229,240)"
           ],
           [
            0.7,
            "rgb(146,197,222)"
           ],
           [
            0.8,
            "rgb(67,147,195)"
           ],
           [
            0.9,
            "rgb(33,102,172)"
           ],
           [
            1,
            "rgb(5,48,97)"
           ]
          ]
         },
         "orientation": "h",
         "showlegend": false,
         "text": [
          4.2,
          4.29,
          4.51,
          4.6,
          4.7
         ],
         "textposition": "auto",
         "type": "bar",
         "width": 0.8,
         "x": [
          4.2,
          4.29,
          4.51,
          4.6,
          4.7
         ],
         "xaxis": "x",
         "y": [
          "서울시 산하기관",
          "서울시",
          "민간기업",
          "국제기구",
          "중앙부처/산하기관"
         ],
         "yaxis": "y"
        },
        {
         "marker": {
          "cmax": 5.3,
          "cmin": 4.3,
          "color": [
           4.23,
           4.45,
           4.45,
           4.45,
           4.59
          ],
          "colorscale": [
           [
            0,
            "rgb(103,0,31)"
           ],
           [
            0.1,
            "rgb(178,24,43)"
           ],
           [
            0.2,
            "rgb(214,96,77)"
           ],
           [
            0.3,
            "rgb(244,165,130)"
           ],
           [
            0.4,
            "rgb(253,219,199)"
           ],
           [
            0.5,
            "rgb(247,247,247)"
           ],
           [
            0.6,
            "rgb(209,229,240)"
           ],
           [
            0.7,
            "rgb(146,197,222)"
           ],
           [
            0.8,
            "rgb(67,147,195)"
           ],
           [
            0.9,
            "rgb(33,102,172)"
           ],
           [
            1,
            "rgb(5,48,97)"
           ]
          ]
         },
         "orientation": "h",
         "showlegend": false,
         "text": [
          4.23,
          4.45,
          4.45,
          4.45,
          4.59
         ],
         "textposition": "auto",
         "type": "bar",
         "width": 0.8,
         "x": [
          4.23,
          4.45,
          4.45,
          4.45,
          4.59
         ],
         "xaxis": "x2",
         "y": [
          "교육생 상황에 맞는 교육내용 구성",
          "이해하기 적절한 교육내용 구성",
          "운영진의 원활한 교육과정 운영",
          "운영진의 적절한 응급상황 대처",
          "내용 이해에 효과적인 교육방법 사용"
         ],
         "yaxis": "y2"
        }
       ],
       "layout": {
        "annotations": [
         {
          "font": {
           "size": 16
          },
          "showarrow": false,
          "text": "기관별 만족도 평균",
          "x": 0.5,
          "xanchor": "center",
          "xref": "paper",
          "y": 1,
          "yanchor": "bottom",
          "yref": "paper"
         },
         {
          "font": {
           "size": 16
          },
          "showarrow": false,
          "text": "문항별 만족도 평균",
          "x": 0.5,
          "xanchor": "center",
          "xref": "paper",
          "y": 0.4565,
          "yanchor": "bottom",
          "yref": "paper"
         }
        ],
        "font": {
         "size": 15
        },
        "height": 800,
        "margin": {
         "t": 120
        },
        "template": {
         "data": {
          "bar": [
           {
            "error_x": {
             "color": "#2a3f5f"
            },
            "error_y": {
             "color": "#2a3f5f"
            },
            "marker": {
             "line": {
              "color": "#E5ECF6",
              "width": 0.5
             }
            },
            "type": "bar"
           }
          ],
          "barpolar": [
           {
            "marker": {
             "line": {
              "color": "#E5ECF6",
              "width": 0.5
             }
            },
            "type": "barpolar"
           }
          ],
          "carpet": [
           {
            "aaxis": {
             "endlinecolor": "#2a3f5f",
             "gridcolor": "white",
             "linecolor": "white",
             "minorgridcolor": "white",
             "startlinecolor": "#2a3f5f"
            },
            "baxis": {
             "endlinecolor": "#2a3f5f",
             "gridcolor": "white",
             "linecolor": "white",
             "minorgridcolor": "white",
             "startlinecolor": "#2a3f5f"
            },
            "type": "carpet"
           }
          ],
          "choropleth": [
           {
            "colorbar": {
             "outlinewidth": 0,
             "ticks": ""
            },
            "type": "choropleth"
           }
          ],
          "contour": [
           {
            "colorbar": {
             "outlinewidth": 0,
             "ticks": ""
            },
            "colorscale": [
             [
              0,
              "#0d0887"
             ],
             [
              0.1111111111111111,
              "#46039f"
             ],
             [
              0.2222222222222222,
              "#7201a8"
             ],
             [
              0.3333333333333333,
              "#9c179e"
             ],
             [
              0.4444444444444444,
              "#bd3786"
             ],
             [
              0.5555555555555556,
              "#d8576b"
             ],
             [
              0.6666666666666666,
              "#ed7953"
             ],
             [
              0.7777777777777778,
              "#fb9f3a"
             ],
             [
              0.8888888888888888,
              "#fdca26"
             ],
             [
              1,
              "#f0f921"
             ]
            ],
            "type": "contour"
           }
          ],
          "contourcarpet": [
           {
            "colorbar": {
             "outlinewidth": 0,
             "ticks": ""
            },
            "type": "contourcarpet"
           }
          ],
          "heatmap": [
           {
            "colorbar": {
             "outlinewidth": 0,
             "ticks": ""
            },
            "colorscale": [
             [
              0,
              "#0d0887"
             ],
             [
              0.1111111111111111,
              "#46039f"
             ],
             [
              0.2222222222222222,
              "#7201a8"
             ],
             [
              0.3333333333333333,
              "#9c179e"
             ],
             [
              0.4444444444444444,
              "#bd3786"
             ],
             [
              0.5555555555555556,
              "#d8576b"
             ],
             [
              0.6666666666666666,
              "#ed7953"
             ],
             [
              0.7777777777777778,
              "#fb9f3a"
             ],
             [
              0.8888888888888888,
              "#fdca26"
             ],
             [
              1,
              "#f0f921"
             ]
            ],
            "type": "heatmap"
           }
          ],
          "heatmapgl": [
           {
            "colorbar": {
             "outlinewidth": 0,
             "ticks": ""
            },
            "colorscale": [
             [
              0,
              "#0d0887"
             ],
             [
              0.1111111111111111,
              "#46039f"
             ],
             [
              0.2222222222222222,
              "#7201a8"
             ],
             [
              0.3333333333333333,
              "#9c179e"
             ],
             [
              0.4444444444444444,
              "#bd3786"
             ],
             [
              0.5555555555555556,
              "#d8576b"
             ],
             [
              0.6666666666666666,
              "#ed7953"
             ],
             [
              0.7777777777777778,
              "#fb9f3a"
             ],
             [
              0.8888888888888888,
              "#fdca26"
             ],
             [
              1,
              "#f0f921"
             ]
            ],
            "type": "heatmapgl"
           }
          ],
          "histogram": [
           {
            "marker": {
             "colorbar": {
              "outlinewidth": 0,
              "ticks": ""
             }
            },
            "type": "histogram"
           }
          ],
          "histogram2d": [
           {
            "colorbar": {
             "outlinewidth": 0,
             "ticks": ""
            },
            "colorscale": [
             [
              0,
              "#0d0887"
             ],
             [
              0.1111111111111111,
              "#46039f"
             ],
             [
              0.2222222222222222,
              "#7201a8"
             ],
             [
              0.3333333333333333,
              "#9c179e"
             ],
             [
              0.4444444444444444,
              "#bd3786"
             ],
             [
              0.5555555555555556,
              "#d8576b"
             ],
             [
              0.6666666666666666,
              "#ed7953"
             ],
             [
              0.7777777777777778,
              "#fb9f3a"
             ],
             [
              0.8888888888888888,
              "#fdca26"
             ],
             [
              1,
              "#f0f921"
             ]
            ],
            "type": "histogram2d"
           }
          ],
          "histogram2dcontour": [
           {
            "colorbar": {
             "outlinewidth": 0,
             "ticks": ""
            },
            "colorscale": [
             [
              0,
              "#0d0887"
             ],
             [
              0.1111111111111111,
              "#46039f"
             ],
             [
              0.2222222222222222,
              "#7201a8"
             ],
             [
              0.3333333333333333,
              "#9c179e"
             ],
             [
              0.4444444444444444,
              "#bd3786"
             ],
             [
              0.5555555555555556,
              "#d8576b"
             ],
             [
              0.6666666666666666,
              "#ed7953"
             ],
             [
              0.7777777777777778,
              "#fb9f3a"
             ],
             [
              0.8888888888888888,
              "#fdca26"
             ],
             [
              1,
              "#f0f921"
             ]
            ],
            "type": "histogram2dcontour"
           }
          ],
          "mesh3d": [
           {
            "colorbar": {
             "outlinewidth": 0,
             "ticks": ""
            },
            "type": "mesh3d"
           }
          ],
          "parcoords": [
           {
            "line": {
             "colorbar": {
              "outlinewidth": 0,
              "ticks": ""
             }
            },
            "type": "parcoords"
           }
          ],
          "scatter": [
           {
            "marker": {
             "colorbar": {
              "outlinewidth": 0,
              "ticks": ""
             }
            },
            "type": "scatter"
           }
          ],
          "scatter3d": [
           {
            "line": {
             "colorbar": {
              "outlinewidth": 0,
              "ticks": ""
             }
            },
            "marker": {
             "colorbar": {
              "outlinewidth": 0,
              "ticks": ""
             }
            },
            "type": "scatter3d"
           }
          ],
          "scattercarpet": [
           {
            "marker": {
             "colorbar": {
              "outlinewidth": 0,
              "ticks": ""
             }
            },
            "type": "scattercarpet"
           }
          ],
          "scattergeo": [
           {
            "marker": {
             "colorbar": {
              "outlinewidth": 0,
              "ticks": ""
             }
            },
            "type": "scattergeo"
           }
          ],
          "scattergl": [
           {
            "marker": {
             "colorbar": {
              "outlinewidth": 0,
              "ticks": ""
             }
            },
            "type": "scattergl"
           }
          ],
          "scattermapbox": [
           {
            "marker": {
             "colorbar": {
              "outlinewidth": 0,
              "ticks": ""
             }
            },
            "type": "scattermapbox"
           }
          ],
          "scatterpolar": [
           {
            "marker": {
             "colorbar": {
              "outlinewidth": 0,
              "ticks": ""
             }
            },
            "type": "scatterpolar"
           }
          ],
          "scatterpolargl": [
           {
            "marker": {
             "colorbar": {
              "outlinewidth": 0,
              "ticks": ""
             }
            },
            "type": "scatterpolargl"
           }
          ],
          "scatterternary": [
           {
            "marker": {
             "colorbar": {
              "outlinewidth": 0,
              "ticks": ""
             }
            },
            "type": "scatterternary"
           }
          ],
          "surface": [
           {
            "colorbar": {
             "outlinewidth": 0,
             "ticks": ""
            },
            "colorscale": [
             [
              0,
              "#0d0887"
             ],
             [
              0.1111111111111111,
              "#46039f"
             ],
             [
              0.2222222222222222,
              "#7201a8"
             ],
             [
              0.3333333333333333,
              "#9c179e"
             ],
             [
              0.4444444444444444,
              "#bd3786"
             ],
             [
              0.5555555555555556,
              "#d8576b"
             ],
             [
              0.6666666666666666,
              "#ed7953"
             ],
             [
              0.7777777777777778,
              "#fb9f3a"
             ],
             [
              0.8888888888888888,
              "#fdca26"
             ],
             [
              1,
              "#f0f921"
             ]
            ],
            "type": "surface"
           }
          ],
          "table": [
           {
            "cells": {
             "fill": {
              "color": "#EBF0F8"
             },
             "line": {
              "color": "white"
             }
            },
            "header": {
             "fill": {
              "color": "#C8D4E3"
             },
             "line": {
              "color": "white"
             }
            },
            "type": "table"
           }
          ]
         },
         "layout": {
          "annotationdefaults": {
           "arrowcolor": "#2a3f5f",
           "arrowhead": 0,
           "arrowwidth": 1
          },
          "colorscale": {
           "diverging": [
            [
             0,
             "#8e0152"
            ],
            [
             0.1,
             "#c51b7d"
            ],
            [
             0.2,
             "#de77ae"
            ],
            [
             0.3,
             "#f1b6da"
            ],
            [
             0.4,
             "#fde0ef"
            ],
            [
             0.5,
             "#f7f7f7"
            ],
            [
             0.6,
             "#e6f5d0"
            ],
            [
             0.7,
             "#b8e186"
            ],
            [
             0.8,
             "#7fbc41"
            ],
            [
             0.9,
             "#4d9221"
            ],
            [
             1,
             "#276419"
            ]
           ],
           "sequential": [
            [
             0,
             "#0d0887"
            ],
            [
             0.1111111111111111,
             "#46039f"
            ],
            [
             0.2222222222222222,
             "#7201a8"
            ],
            [
             0.3333333333333333,
             "#9c179e"
            ],
            [
             0.4444444444444444,
             "#bd3786"
            ],
            [
             0.5555555555555556,
             "#d8576b"
            ],
            [
             0.6666666666666666,
             "#ed7953"
            ],
            [
             0.7777777777777778,
             "#fb9f3a"
            ],
            [
             0.8888888888888888,
             "#fdca26"
            ],
            [
             1,
             "#f0f921"
            ]
           ],
           "sequentialminus": [
            [
             0,
             "#0d0887"
            ],
            [
             0.1111111111111111,
             "#46039f"
            ],
            [
             0.2222222222222222,
             "#7201a8"
            ],
            [
             0.3333333333333333,
             "#9c179e"
            ],
            [
             0.4444444444444444,
             "#bd3786"
            ],
            [
             0.5555555555555556,
             "#d8576b"
            ],
            [
             0.6666666666666666,
             "#ed7953"
            ],
            [
             0.7777777777777778,
             "#fb9f3a"
            ],
            [
             0.8888888888888888,
             "#fdca26"
            ],
            [
             1,
             "#f0f921"
            ]
           ]
          },
          "colorway": [
           "#636efa",
           "#EF553B",
           "#00cc96",
           "#ab63fa",
           "#FFA15A",
           "#19d3f3",
           "#FF6692",
           "#B6E880",
           "#FF97FF",
           "#FECB52"
          ],
          "font": {
           "color": "#2a3f5f"
          },
          "geo": {
           "bgcolor": "white",
           "lakecolor": "white",
           "landcolor": "#E5ECF6",
           "showlakes": true,
           "showland": true,
           "subunitcolor": "white"
          },
          "hoverlabel": {
           "align": "left"
          },
          "hovermode": "closest",
          "mapbox": {
           "style": "light"
          },
          "paper_bgcolor": "white",
          "plot_bgcolor": "#E5ECF6",
          "polar": {
           "angularaxis": {
            "gridcolor": "white",
            "linecolor": "white",
            "ticks": ""
           },
           "bgcolor": "#E5ECF6",
           "radialaxis": {
            "gridcolor": "white",
            "linecolor": "white",
            "ticks": ""
           }
          },
          "scene": {
           "xaxis": {
            "backgroundcolor": "#E5ECF6",
            "gridcolor": "white",
            "gridwidth": 2,
            "linecolor": "white",
            "showbackground": true,
            "ticks": "",
            "zerolinecolor": "white"
           },
           "yaxis": {
            "backgroundcolor": "#E5ECF6",
            "gridcolor": "white",
            "gridwidth": 2,
            "linecolor": "white",
            "showbackground": true,
            "ticks": "",
            "zerolinecolor": "white"
           },
           "zaxis": {
            "backgroundcolor": "#E5ECF6",
            "gridcolor": "white",
            "gridwidth": 2,
            "linecolor": "white",
            "showbackground": true,
            "ticks": "",
            "zerolinecolor": "white"
           }
          },
          "shapedefaults": {
           "line": {
            "color": "#2a3f5f"
           }
          },
          "ternary": {
           "aaxis": {
            "gridcolor": "white",
            "linecolor": "white",
            "ticks": ""
           },
           "baxis": {
            "gridcolor": "white",
            "linecolor": "white",
            "ticks": ""
           },
           "bgcolor": "#E5ECF6",
           "caxis": {
            "gridcolor": "white",
            "linecolor": "white",
            "ticks": ""
           }
          },
          "title": {
           "x": 0.05
          },
          "xaxis": {
           "automargin": true,
           "gridcolor": "white",
           "linecolor": "white",
           "ticks": "",
           "zerolinecolor": "white",
           "zerolinewidth": 2
          },
          "yaxis": {
           "automargin": true,
           "gridcolor": "white",
           "linecolor": "white",
           "ticks": "",
           "zerolinecolor": "white",
           "zerolinewidth": 2
          }
         }
        },
        "title": {
         "text": "만족도 문항 응답 현황",
         "x": 0.58,
         "y": 0.95
        },
        "width": 900,
        "xaxis": {
         "anchor": "y",
         "domain": [
          0,
          1
         ],
         "range": [
          0,
          5
         ],
         "tickfont": {
          "size": 14
         },
         "type": "linear"
        },
        "xaxis2": {
         "anchor": "y2",
         "domain": [
          0,
          1
         ],
         "range": [
          0,
          5
         ],
         "tickfont": {
          "size": 14
         },
         "type": "linear"
        },
        "yaxis": {
         "anchor": "x",
         "autorange": true,
         "domain": [
          0.5435,
          1
         ],
         "range": [
          -0.5,
          4.5
         ],
         "tickfont": {
          "size": 14
         },
         "type": "category"
        },
        "yaxis2": {
         "anchor": "x2",
         "autorange": true,
         "domain": [
          0,
          0.4565
         ],
         "range": [
          -0.5,
          4.5
         ],
         "tickfont": {
          "size": 14
         },
         "type": "category"
        }
       }
      },
      "image/png": "[encoded data removed]",
      "text/html": [
       "<div>\n",
       "        \n",
       "        \n",
       "            <div id=\"2b081dc2-6b4d-41fc-8f36-fef17e28ff9c\" class=\"plotly-graph-div\" style=\"height:800px; width:900px;\"></div>\n",
       "            <script type=\"text/javascript\">\n",
       "                require([\"plotly\"], function(Plotly) {\n",
       "                    window.PLOTLYENV=window.PLOTLYENV || {};\n",
       "                    \n",
       "                if (document.getElementById(\"2b081dc2-6b4d-41fc-8f36-fef17e28ff9c\")) {\n",
       "                    Plotly.newPlot(\n",
       "                        '2b081dc2-6b4d-41fc-8f36-fef17e28ff9c',\n",
       "                        [{\"marker\": {\"cmax\": 5.3, \"cmin\": 4.3, \"color\": [4.2, 4.29, 4.51, 4.6, 4.7], \"colorscale\": [[0.0, \"rgb(103,0,31)\"], [0.1, \"rgb(178,24,43)\"], [0.2, \"rgb(214,96,77)\"], [0.3, \"rgb(244,165,130)\"], [0.4, \"rgb(253,219,199)\"], [0.5, \"rgb(247,247,247)\"], [0.6, \"rgb(209,229,240)\"], [0.7, \"rgb(146,197,222)\"], [0.8, \"rgb(67,147,195)\"], [0.9, \"rgb(33,102,172)\"], [1.0, \"rgb(5,48,97)\"]]}, \"orientation\": \"h\", \"showlegend\": false, \"text\": [4.2, 4.29, 4.51, 4.6, 4.7], \"textposition\": \"auto\", \"type\": \"bar\", \"width\": 0.8, \"x\": [4.2, 4.29, 4.51, 4.6, 4.7], \"xaxis\": \"x\", \"y\": [\"\\uc11c\\uc6b8\\uc2dc \\uc0b0\\ud558\\uae30\\uad00\", \"\\uc11c\\uc6b8\\uc2dc\", \"\\ubbfc\\uac04\\uae30\\uc5c5\", \"\\uad6d\\uc81c\\uae30\\uad6c\", \"\\uc911\\uc559\\ubd80\\ucc98/\\uc0b0\\ud558\\uae30\\uad00\"], \"yaxis\": \"y\"}, {\"marker\": {\"cmax\": 5.3, \"cmin\": 4.3, \"color\": [4.23, 4.45, 4.45, 4.45, 4.59], \"colorscale\": [[0.0, \"rgb(103,0,31)\"], [0.1, \"rgb(178,24,43)\"], [0.2, \"rgb(214,96,77)\"], [0.3, \"rgb(244,165,130)\"], [0.4, \"rgb(253,219,199)\"], [0.5, \"rgb(247,247,247)\"], [0.6, \"rgb(209,229,240)\"], [0.7, \"rgb(146,197,222)\"], [0.8, \"rgb(67,147,195)\"], [0.9, \"rgb(33,102,172)\"], [1.0, \"rgb(5,48,97)\"]]}, \"orientation\": \"h\", \"showlegend\": false, \"text\": [4.23, 4.45, 4.45, 4.45, 4.59], \"textposition\": \"auto\", \"type\": \"bar\", \"width\": 0.8, \"x\": [4.23, 4.45, 4.45, 4.45, 4.59], \"xaxis\": \"x2\", \"y\": [\"\\uad50\\uc721\\uc0dd \\uc0c1\\ud669\\uc5d0 \\ub9de\\ub294 \\uad50\\uc721\\ub0b4\\uc6a9 \\uad6c\\uc131\", \"\\uc774\\ud574\\ud558\\uae30 \\uc801\\uc808\\ud55c \\uad50\\uc721\\ub0b4\\uc6a9 \\uad6c\\uc131\", \"\\uc6b4\\uc601\\uc9c4\\uc758 \\uc6d0\\ud65c\\ud55c \\uad50\\uc721\\uacfc\\uc815 \\uc6b4\\uc601\", \"\\uc6b4\\uc601\\uc9c4\\uc758 \\uc801\\uc808\\ud55c \\uc751\\uae09\\uc0c1\\ud669 \\ub300\\ucc98\", \"\\ub0b4\\uc6a9 \\uc774\\ud574\\uc5d0 \\ud6a8\\uacfc\\uc801\\uc778 \\uad50\\uc721\\ubc29\\ubc95 \\uc0ac\\uc6a9\"], \"yaxis\": \"y2\"}],\n",
       "                        {\"annotations\": [{\"font\": {\"size\": 16}, \"showarrow\": false, \"text\": \"\\uae30\\uad00\\ubcc4 \\ub9cc\\uc871\\ub3c4 \\ud3c9\\uade0\", \"x\": 0.5, \"xanchor\": \"center\", \"xref\": \"paper\", \"y\": 1.0, \"yanchor\": \"bottom\", \"yref\": \"paper\"}, {\"font\": {\"size\": 16}, \"showarrow\": false, \"text\": \"\\ubb38\\ud56d\\ubcc4 \\ub9cc\\uc871\\ub3c4 \\ud3c9\\uade0\", \"x\": 0.5, \"xanchor\": \"center\", \"xref\": \"paper\", \"y\": 0.4565, \"yanchor\": \"bottom\", \"yref\": \"paper\"}], \"font\": {\"size\": 15}, \"height\": 800, \"margin\": {\"t\": 120}, \"template\": {\"data\": {\"bar\": [{\"error_x\": {\"color\": \"#2a3f5f\"}, \"error_y\": {\"color\": \"#2a3f5f\"}, \"marker\": {\"line\": {\"color\": \"#E5ECF6\", \"width\": 0.5}}, \"type\": \"bar\"}], \"barpolar\": [{\"marker\": {\"line\": {\"color\": \"#E5ECF6\", \"width\": 0.5}}, \"type\": \"barpolar\"}], \"carpet\": [{\"aaxis\": {\"endlinecolor\": \"#2a3f5f\", \"gridcolor\": \"white\", \"linecolor\": \"white\", \"minorgridcolor\": \"white\", \"startlinecolor\": \"#2a3f5f\"}, \"baxis\": {\"endlinecolor\": \"#2a3f5f\", \"gridcolor\": \"white\", \"linecolor\": \"white\", \"minorgridcolor\": \"white\", \"startlinecolor\": \"#2a3f5f\"}, \"type\": \"carpet\"}], \"choropleth\": [{\"colorbar\": {\"outlinewidth\": 0, \"ticks\": \"\"}, \"type\": \"choropleth\"}], \"contour\": [{\"colorbar\": {\"outlinewidth\": 0, \"ticks\": \"\"}, \"colorscale\": [[0.0, \"#0d0887\"], [0.1111111111111111, \"#46039f\"], [0.2222222222222222, \"#7201a8\"], [0.3333333333333333, \"#9c179e\"], [0.4444444444444444, \"#bd3786\"], [0.5555555555555556, \"#d8576b\"], [0.6666666666666666, \"#ed7953\"], [0.7777777777777778, \"#fb9f3a\"], [0.8888888888888888, \"#fdca26\"], [1.0, \"#f0f921\"]], \"type\": \"contour\"}], \"contourcarpet\": [{\"colorbar\": {\"outlinewidth\": 0, \"ticks\": \"\"}, \"type\": \"contourcarpet\"}], \"heatmap\": [{\"colorbar\": {\"outlinewidth\": 0, \"ticks\": \"\"}, \"colorscale\": [[0.0, \"#0d0887\"], [0.1111111111111111, \"#46039f\"], [0.2222222222222222, \"#7201a8\"], [0.3333333333333333, \"#9c179e\"], [0.4444444444444444, \"#bd3786\"], [0.5555555555555556, \"#d8576b\"], [0.6666666666666666, \"#ed7953\"], [0.7777777777777778, \"#fb9f3a\"], [0.8888888888888888, \"#fdca26\"], [1.0, \"#f0f921\"]], \"type\": \"heatmap\"}], \"heatmapgl\": [{\"colorbar\": {\"outlinewidth\": 0, \"ticks\": \"\"}, \"colorscale\": [[0.0, \"#0d0887\"], [0.1111111111111111, \"#46039f\"], [0.2222222222222222, \"#7201a8\"], [0.3333333333333333, \"#9c179e\"], [0.4444444444444444, \"#bd3786\"], [0.5555555555555556, \"#d8576b\"], [0.6666666666666666, \"#ed7953\"], [0.7777777777777778, \"#fb9f3a\"], [0.8888888888888888, \"#fdca26\"], [1.0, \"#f0f921\"]], \"type\": \"heatmapgl\"}], \"histogram\": [{\"marker\": {\"colorbar\": {\"outlinewidth\": 0, \"ticks\": \"\"}}, \"type\": \"histogram\"}], \"histogram2d\": [{\"colorbar\": {\"outlinewidth\": 0, \"ticks\": \"\"}, \"colorscale\": [[0.0, \"#0d0887\"], [0.1111111111111111, \"#46039f\"], [0.2222222222222222, \"#7201a8\"], [0.3333333333333333, \"#9c179e\"], [0.4444444444444444, \"#bd3786\"], [0.5555555555555556, \"#d8576b\"], [0.6666666666666666, \"#ed7953\"], [0.7777777777777778, \"#fb9f3a\"], [0.8888888888888888, \"#fdca26\"], [1.0, \"#f0f921\"]], \"type\": \"histogram2d\"}], \"histogram2dcontour\": [{\"colorbar\": {\"outlinewidth\": 0, \"ticks\": \"\"}, \"colorscale\": [[0.0, \"#0d0887\"], [0.1111111111111111, \"#46039f\"], [0.2222222222222222, \"#7201a8\"], [0.3333333333333333, \"#9c179e\"], [0.4444444444444444, \"#bd3786\"], [0.5555555555555556, \"#d8576b\"], [0.6666666666666666, \"#ed7953\"], [0.7777777777777778, \"#fb9f3a\"], [0.8888888888888888, \"#fdca26\"], [1.0, \"#f0f921\"]], \"type\": \"histogram2dcontour\"}], \"mesh3d\": [{\"colorbar\": {\"outlinewidth\": 0, \"ticks\": \"\"}, \"type\": \"mesh3d\"}], \"parcoords\": [{\"line\": {\"colorbar\": {\"outlinewidth\": 0, \"ticks\": \"\"}}, \"type\": \"parcoords\"}], \"scatter\": [{\"marker\": {\"colorbar\": {\"outlinewidth\": 0, \"ticks\": \"\"}}, \"type\": \"scatter\"}], \"scatter3d\": [{\"line\": {\"colorbar\": {\"outlinewidth\": 0, \"ticks\": \"\"}}, \"marker\": {\"colorbar\": {\"outlinewidth\": 0, \"ticks\": \"\"}}, \"type\": \"scatter3d\"}], \"scattercarpet\": [{\"marker\": {\"colorbar\": {\"outlinewidth\": 0, \"ticks\": \"\"}}, \"type\": \"scattercarpet\"}], \"scattergeo\": [{\"marker\": {\"colorbar\": {\"outlinewidth\": 0, \"ticks\": \"\"}}, \"type\": \"scattergeo\"}], \"scattergl\": [{\"marker\": {\"colorbar\": {\"outlinewidth\": 0, \"ticks\": \"\"}}, \"type\": \"scattergl\"}], \"scattermapbox\": [{\"marker\": {\"colorbar\": {\"outlinewidth\": 0, \"ticks\": \"\"}}, \"type\": \"scattermapbox\"}], \"scatterpolar\": [{\"marker\": {\"colorbar\": {\"outlinewidth\": 0, \"ticks\": \"\"}}, \"type\": \"scatterpolar\"}], \"scatterpolargl\": [{\"marker\": {\"colorbar\": {\"outlinewidth\": 0, \"ticks\": \"\"}}, \"type\": \"scatterpolargl\"}], \"scatterternary\": [{\"marker\": {\"colorbar\": {\"outlinewidth\": 0, \"ticks\": \"\"}}, \"type\": \"scatterternary\"}], \"surface\": [{\"colorbar\": {\"outlinewidth\": 0, \"ticks\": \"\"}, \"colorscale\": [[0.0, \"#0d0887\"], [0.1111111111111111, \"#46039f\"], [0.2222222222222222, \"#7201a8\"], [0.3333333333333333, \"#9c179e\"], [0.4444444444444444, \"#bd3786\"], [0.5555555555555556, \"#d8576b\"], [0.6666666666666666, \"#ed7953\"], [0.7777777777777778, \"#fb9f3a\"], [0.8888888888888888, \"#fdca26\"], [1.0, \"#f0f921\"]], \"type\": \"surface\"}], \"table\": [{\"cells\": {\"fill\": {\"color\": \"#EBF0F8\"}, \"line\": {\"color\": \"white\"}}, \"header\": {\"fill\": {\"color\": \"#C8D4E3\"}, \"line\": {\"color\": \"white\"}}, \"type\": \"table\"}]}, \"layout\": {\"annotationdefaults\": {\"arrowcolor\": \"#2a3f5f\", \"arrowhead\": 0, \"arrowwidth\": 1}, \"colorscale\": {\"diverging\": [[0, \"#8e0152\"], [0.1, \"#c51b7d\"], [0.2, \"#de77ae\"], [0.3, \"#f1b6da\"], [0.4, \"#fde0ef\"], [0.5, \"#f7f7f7\"], [0.6, \"#e6f5d0\"], [0.7, \"#b8e186\"], [0.8, \"#7fbc41\"], [0.9, \"#4d9221\"], [1, \"#276419\"]], \"sequential\": [[0.0, \"#0d0887\"], [0.1111111111111111, \"#46039f\"], [0.2222222222222222, \"#7201a8\"], [0.3333333333333333, \"#9c179e\"], [0.4444444444444444, \"#bd3786\"], [0.5555555555555556, \"#d8576b\"], [0.6666666666666666, \"#ed7953\"], [0.7777777777777778, \"#fb9f3a\"], [0.8888888888888888, \"#fdca26\"], [1.0, \"#f0f921\"]], \"sequentialminus\": [[0.0, \"#0d0887\"], [0.1111111111111111, \"#46039f\"], [0.2222222222222222, \"#7201a8\"], [0.3333333333333333, \"#9c179e\"], [0.4444444444444444, \"#bd3786\"], [0.5555555555555556, \"#d8576b\"], [0.6666666666666666, \"#ed7953\"], [0.7777777777777778, \"#fb9f3a\"], [0.8888888888888888, \"#fdca26\"], [1.0, \"#f0f921\"]]}, \"colorway\": [\"#636efa\", \"#EF553B\", \"#00cc96\", \"#ab63fa\", \"#FFA15A\", \"#19d3f3\", \"#FF6692\", \"#B6E880\", \"#FF97FF\", \"#FECB52\"], \"font\": {\"color\": \"#2a3f5f\"}, \"geo\": {\"bgcolor\": \"white\", \"lakecolor\": \"white\", \"landcolor\": \"#E5ECF6\", \"showlakes\": true, \"showland\": true, \"subunitcolor\": \"white\"}, \"hoverlabel\": {\"align\": \"left\"}, \"hovermode\": \"closest\", \"mapbox\": {\"style\": \"light\"}, \"paper_bgcolor\": \"white\", \"plot_bgcolor\": \"#E5ECF6\", \"polar\": {\"angularaxis\": {\"gridcolor\": \"white\", \"linecolor\": \"white\", \"ticks\": \"\"}, \"bgcolor\": \"#E5ECF6\", \"radialaxis\": {\"gridcolor\": \"white\", \"linecolor\": \"white\", \"ticks\": \"\"}}, \"scene\": {\"xaxis\": {\"backgroundcolor\": \"#E5ECF6\", \"gridcolor\": \"white\", \"gridwidth\": 2, \"linecolor\": \"white\", \"showbackground\": true, \"ticks\": \"\", \"zerolinecolor\": \"white\"}, \"yaxis\": {\"backgroundcolor\": \"#E5ECF6\", \"gridcolor\": \"white\", \"gridwidth\": 2, \"linecolor\": \"white\", \"showbackground\": true, \"ticks\": \"\", \"zerolinecolor\": \"white\"}, \"zaxis\": {\"backgroundcolor\": \"#E5ECF6\", \"gridcolor\": \"white\", \"gridwidth\": 2, \"linecolor\": \"white\", \"showbackground\": true, \"ticks\": \"\", \"zerolinecolor\": \"white\"}}, \"shapedefaults\": {\"line\": {\"color\": \"#2a3f5f\"}}, \"ternary\": {\"aaxis\": {\"gridcolor\": \"white\", \"linecolor\": \"white\", \"ticks\": \"\"}, \"baxis\": {\"gridcolor\": \"white\", \"linecolor\": \"white\", \"ticks\": \"\"}, \"bgcolor\": \"#E5ECF6\", \"caxis\": {\"gridcolor\": \"white\", \"linecolor\": \"white\", \"ticks\": \"\"}}, \"title\": {\"x\": 0.05}, \"xaxis\": {\"automargin\": true, \"gridcolor\": \"white\", \"linecolor\": \"white\", \"ticks\": \"\", \"zerolinecolor\": \"white\", \"zerolinewidth\": 2}, \"yaxis\": {\"automargin\": true, \"gridcolor\": \"white\", \"linecolor\": \"white\", \"ticks\": \"\", \"zerolinecolor\": \"white\", \"zerolinewidth\": 2}}}, \"title\": {\"text\": \"\\ub9cc\\uc871\\ub3c4 \\ubb38\\ud56d \\uc751\\ub2f5 \\ud604\\ud669\", \"x\": 0.58, \"y\": 0.95}, \"width\": 900, \"xaxis\": {\"anchor\": \"y\", \"domain\": [0.0, 1.0], \"range\": [0, 5], \"tickfont\": {\"size\": 14}}, \"xaxis2\": {\"anchor\": \"y2\", \"domain\": [0.0, 1.0], \"range\": [0, 5], \"tickfont\": {\"size\": 14}}, \"yaxis\": {\"anchor\": \"x\", \"domain\": [0.5435, 1.0], \"tickfont\": {\"size\": 14}}, \"yaxis2\": {\"anchor\": \"x2\", \"domain\": [0.0, 0.4565], \"tickfont\": {\"size\": 14}}},\n",
       "                        {\"responsive\": true}\n",
       "                    ).then(function(){\n",
       "                            \n",
       "var gd = document.getElementById('2b081dc2-6b4d-41fc-8f36-fef17e28ff9c');\n",
       "var x = new MutationObserver(function (mutations, observer) {{\n",
       "        var display = window.getComputedStyle(gd).display;\n",
       "        if (!display || display === 'none') {{\n",
       "            console.log([gd, 'removed!']);\n",
       "            Plotly.purge(gd);\n",
       "            observer.disconnect();\n",
       "        }}\n",
       "}});\n",
       "\n",
       "// Listen for the removal of the full notebook cells\n",
       "var notebookContainer = gd.closest('#notebook-container');\n",
       "if (notebookContainer) {{\n",
       "    x.observe(notebookContainer, {childList: true});\n",
       "}}\n",
       "\n",
       "// Listen for the clearing of the current output cell\n",
       "var outputEl = gd.closest('.output');\n",
       "if (outputEl) {{\n",
       "    x.observe(outputEl, {childList: true});\n",
       "}}\n",
       "\n",
       "                        })\n",
       "                };\n",
       "                });\n",
       "            </script>\n",
       "        </div>"
      ]
     },
     "metadata": {},
     "output_type": "display_data"
    }
   ],
   "source": [
    "fig = make_subplots(rows=2, cols=1, \n",
    "    vertical_spacing=0.087,\n",
    "    subplot_titles=(\"기관별 만족도 평균\", \"문항별 만족도 평균\"))\n",
    "\n",
    "fig.add_trace(go.Bar(showlegend=False, width= 0.8, orientation='h',\n",
    "    x = cs_mean_orgmean['평균'],\n",
    "    y = cs_mean_orgmean.index,\n",
    "    text = cs_mean_orgmean['평균'],\n",
    "    textposition = 'auto',\n",
    "    marker=dict(color=cs_mean_orgmean['평균'], cmin=4.3, cmax=5.3, \n",
    "                colorscale='RdBu')),row=1, col=1)\n",
    "\n",
    "fig.add_trace(go.Bar(showlegend=False, width= 0.8, orientation='h',\n",
    "    x = cs_mean_qmean['평균'],\n",
    "    y = cs_mean_qmean['문항'],\n",
    "    text = cs_mean_qmean['평균'],\n",
    "    textposition = 'auto',\n",
    "    marker=dict(color=cs_mean_qmean['평균'], cmin=4.3, cmax=5.3, \n",
    "                colorscale='RdBu')),row=2, col=1)\n",
    "\n",
    "\n",
    "fig.update_xaxes(range=[0,5], tickfont_size=14)\n",
    "fig.update_yaxes(tickfont_size=14)\n",
    "\n",
    "fig.update_layout(title=dict(text ='만족도 문항 응답 현황', x=0.58, y=0.95),\n",
    "                  margin = dict(t=120), font_size = 15, width=900, height=800)"
   ]
  },
  {
   "cell_type": "code",
   "execution_count": 178,
   "metadata": {},
   "outputs": [
    {
     "data": {
      "application/vnd.plotly.v1+json": {
       "config": {
        "plotlyServerURL": "https://plot.ly"
       },
       "data": [
        {
         "cells": {
          "align": [
           "left",
           "center"
          ],
          "font": {
           "color": "#000000",
           "size": 11
          },
          "values": [
           [
            "내용 이해에 효과적인 교육방법 사용",
            "이해하기 적절한 교육내용 구성",
            "교육생 상황에 맞는 교육내용 구성",
            "운영진의 원활한 교육과정 운영",
            "운영진의 적절한 응급상황 대처",
            "평균"
           ],
           [
            5,
            4,
            4,
            5,
            5,
            4.6
           ],
           [
            4.71,
            4.43,
            4.43,
            4.43,
            4.57,
            4.51
           ],
           [
            4.43,
            4.43,
            4.29,
            4.14,
            4.14,
            4.29
           ],
           [
            4.33,
            4.33,
            3.33,
            4.67,
            4.33,
            4.2
           ],
           [
            4.75,
            4.75,
            4.5,
            4.75,
            4.75,
            4.7
           ],
           [
            4.59,
            4.45,
            4.23,
            4.45,
            4.45,
            4.43
           ]
          ]
         },
         "columnwidth": [
          170,
          45,
          45,
          42,
          85,
          80,
          40
         ],
         "header": {
          "align": "center",
          "fill": {
           "color": "#094688"
          },
          "font": {
           "color": "#ffffff",
           "size": 11
          },
          "height": 25,
          "values": [
           "문항",
           "국제기구",
           "민간기업",
           "서울시",
           "서울시 산하기관",
           "중앙부처/산하기관",
           "평균"
          ]
         },
         "type": "table"
        }
       ],
       "layout": {
        "autosize": true,
        "font": {
         "size": 10
        },
        "template": {
         "data": {
          "bar": [
           {
            "error_x": {
             "color": "#2a3f5f"
            },
            "error_y": {
             "color": "#2a3f5f"
            },
            "marker": {
             "line": {
              "color": "#E5ECF6",
              "width": 0.5
             }
            },
            "type": "bar"
           }
          ],
          "barpolar": [
           {
            "marker": {
             "line": {
              "color": "#E5ECF6",
              "width": 0.5
             }
            },
            "type": "barpolar"
           }
          ],
          "carpet": [
           {
            "aaxis": {
             "endlinecolor": "#2a3f5f",
             "gridcolor": "white",
             "linecolor": "white",
             "minorgridcolor": "white",
             "startlinecolor": "#2a3f5f"
            },
            "baxis": {
             "endlinecolor": "#2a3f5f",
             "gridcolor": "white",
             "linecolor": "white",
             "minorgridcolor": "white",
             "startlinecolor": "#2a3f5f"
            },
            "type": "carpet"
           }
          ],
          "choropleth": [
           {
            "colorbar": {
             "outlinewidth": 0,
             "ticks": ""
            },
            "type": "choropleth"
           }
          ],
          "contour": [
           {
            "colorbar": {
             "outlinewidth": 0,
             "ticks": ""
            },
            "colorscale": [
             [
              0,
              "#0d0887"
             ],
             [
              0.1111111111111111,
              "#46039f"
             ],
             [
              0.2222222222222222,
              "#7201a8"
             ],
             [
              0.3333333333333333,
              "#9c179e"
             ],
             [
              0.4444444444444444,
              "#bd3786"
             ],
             [
              0.5555555555555556,
              "#d8576b"
             ],
             [
              0.6666666666666666,
              "#ed7953"
             ],
             [
              0.7777777777777778,
              "#fb9f3a"
             ],
             [
              0.8888888888888888,
              "#fdca26"
             ],
             [
              1,
              "#f0f921"
             ]
            ],
            "type": "contour"
           }
          ],
          "contourcarpet": [
           {
            "colorbar": {
             "outlinewidth": 0,
             "ticks": ""
            },
            "type": "contourcarpet"
           }
          ],
          "heatmap": [
           {
            "colorbar": {
             "outlinewidth": 0,
             "ticks": ""
            },
            "colorscale": [
             [
              0,
              "#0d0887"
             ],
             [
              0.1111111111111111,
              "#46039f"
             ],
             [
              0.2222222222222222,
              "#7201a8"
             ],
             [
              0.3333333333333333,
              "#9c179e"
             ],
             [
              0.4444444444444444,
              "#bd3786"
             ],
             [
              0.5555555555555556,
              "#d8576b"
             ],
             [
              0.6666666666666666,
              "#ed7953"
             ],
             [
              0.7777777777777778,
              "#fb9f3a"
             ],
             [
              0.8888888888888888,
              "#fdca26"
             ],
             [
              1,
              "#f0f921"
             ]
            ],
            "type": "heatmap"
           }
          ],
          "heatmapgl": [
           {
            "colorbar": {
             "outlinewidth": 0,
             "ticks": ""
            },
            "colorscale": [
             [
              0,
              "#0d0887"
             ],
             [
              0.1111111111111111,
              "#46039f"
             ],
             [
              0.2222222222222222,
              "#7201a8"
             ],
             [
              0.3333333333333333,
              "#9c179e"
             ],
             [
              0.4444444444444444,
              "#bd3786"
             ],
             [
              0.5555555555555556,
              "#d8576b"
             ],
             [
              0.6666666666666666,
              "#ed7953"
             ],
             [
              0.7777777777777778,
              "#fb9f3a"
             ],
             [
              0.8888888888888888,
              "#fdca26"
             ],
             [
              1,
              "#f0f921"
             ]
            ],
            "type": "heatmapgl"
           }
          ],
          "histogram": [
           {
            "marker": {
             "colorbar": {
              "outlinewidth": 0,
              "ticks": ""
             }
            },
            "type": "histogram"
           }
          ],
          "histogram2d": [
           {
            "colorbar": {
             "outlinewidth": 0,
             "ticks": ""
            },
            "colorscale": [
             [
              0,
              "#0d0887"
             ],
             [
              0.1111111111111111,
              "#46039f"
             ],
             [
              0.2222222222222222,
              "#7201a8"
             ],
             [
              0.3333333333333333,
              "#9c179e"
             ],
             [
              0.4444444444444444,
              "#bd3786"
             ],
             [
              0.5555555555555556,
              "#d8576b"
             ],
             [
              0.6666666666666666,
              "#ed7953"
             ],
             [
              0.7777777777777778,
              "#fb9f3a"
             ],
             [
              0.8888888888888888,
              "#fdca26"
             ],
             [
              1,
              "#f0f921"
             ]
            ],
            "type": "histogram2d"
           }
          ],
          "histogram2dcontour": [
           {
            "colorbar": {
             "outlinewidth": 0,
             "ticks": ""
            },
            "colorscale": [
             [
              0,
              "#0d0887"
             ],
             [
              0.1111111111111111,
              "#46039f"
             ],
             [
              0.2222222222222222,
              "#7201a8"
             ],
             [
              0.3333333333333333,
              "#9c179e"
             ],
             [
              0.4444444444444444,
              "#bd3786"
             ],
             [
              0.5555555555555556,
              "#d8576b"
             ],
             [
              0.6666666666666666,
              "#ed7953"
             ],
             [
              0.7777777777777778,
              "#fb9f3a"
             ],
             [
              0.8888888888888888,
              "#fdca26"
             ],
             [
              1,
              "#f0f921"
             ]
            ],
            "type": "histogram2dcontour"
           }
          ],
          "mesh3d": [
           {
            "colorbar": {
             "outlinewidth": 0,
             "ticks": ""
            },
            "type": "mesh3d"
           }
          ],
          "parcoords": [
           {
            "line": {
             "colorbar": {
              "outlinewidth": 0,
              "ticks": ""
             }
            },
            "type": "parcoords"
           }
          ],
          "scatter": [
           {
            "marker": {
             "colorbar": {
              "outlinewidth": 0,
              "ticks": ""
             }
            },
            "type": "scatter"
           }
          ],
          "scatter3d": [
           {
            "line": {
             "colorbar": {
              "outlinewidth": 0,
              "ticks": ""
             }
            },
            "marker": {
             "colorbar": {
              "outlinewidth": 0,
              "ticks": ""
             }
            },
            "type": "scatter3d"
           }
          ],
          "scattercarpet": [
           {
            "marker": {
             "colorbar": {
              "outlinewidth": 0,
              "ticks": ""
             }
            },
            "type": "scattercarpet"
           }
          ],
          "scattergeo": [
           {
            "marker": {
             "colorbar": {
              "outlinewidth": 0,
              "ticks": ""
             }
            },
            "type": "scattergeo"
           }
          ],
          "scattergl": [
           {
            "marker": {
             "colorbar": {
              "outlinewidth": 0,
              "ticks": ""
             }
            },
            "type": "scattergl"
           }
          ],
          "scattermapbox": [
           {
            "marker": {
             "colorbar": {
              "outlinewidth": 0,
              "ticks": ""
             }
            },
            "type": "scattermapbox"
           }
          ],
          "scatterpolar": [
           {
            "marker": {
             "colorbar": {
              "outlinewidth": 0,
              "ticks": ""
             }
            },
            "type": "scatterpolar"
           }
          ],
          "scatterpolargl": [
           {
            "marker": {
             "colorbar": {
              "outlinewidth": 0,
              "ticks": ""
             }
            },
            "type": "scatterpolargl"
           }
          ],
          "scatterternary": [
           {
            "marker": {
             "colorbar": {
              "outlinewidth": 0,
              "ticks": ""
             }
            },
            "type": "scatterternary"
           }
          ],
          "surface": [
           {
            "colorbar": {
             "outlinewidth": 0,
             "ticks": ""
            },
            "colorscale": [
             [
              0,
              "#0d0887"
             ],
             [
              0.1111111111111111,
              "#46039f"
             ],
             [
              0.2222222222222222,
              "#7201a8"
             ],
             [
              0.3333333333333333,
              "#9c179e"
             ],
             [
              0.4444444444444444,
              "#bd3786"
             ],
             [
              0.5555555555555556,
              "#d8576b"
             ],
             [
              0.6666666666666666,
              "#ed7953"
             ],
             [
              0.7777777777777778,
              "#fb9f3a"
             ],
             [
              0.8888888888888888,
              "#fdca26"
             ],
             [
              1,
              "#f0f921"
             ]
            ],
            "type": "surface"
           }
          ],
          "table": [
           {
            "cells": {
             "fill": {
              "color": "#EBF0F8"
             },
             "line": {
              "color": "white"
             }
            },
            "header": {
             "fill": {
              "color": "#C8D4E3"
             },
             "line": {
              "color": "white"
             }
            },
            "type": "table"
           }
          ]
         },
         "layout": {
          "annotationdefaults": {
           "arrowcolor": "#2a3f5f",
           "arrowhead": 0,
           "arrowwidth": 1
          },
          "colorscale": {
           "diverging": [
            [
             0,
             "#8e0152"
            ],
            [
             0.1,
             "#c51b7d"
            ],
            [
             0.2,
             "#de77ae"
            ],
            [
             0.3,
             "#f1b6da"
            ],
            [
             0.4,
             "#fde0ef"
            ],
            [
             0.5,
             "#f7f7f7"
            ],
            [
             0.6,
             "#e6f5d0"
            ],
            [
             0.7,
             "#b8e186"
            ],
            [
             0.8,
             "#7fbc41"
            ],
            [
             0.9,
             "#4d9221"
            ],
            [
             1,
             "#276419"
            ]
           ],
           "sequential": [
            [
             0,
             "#0d0887"
            ],
            [
             0.1111111111111111,
             "#46039f"
            ],
            [
             0.2222222222222222,
             "#7201a8"
            ],
            [
             0.3333333333333333,
             "#9c179e"
            ],
            [
             0.4444444444444444,
             "#bd3786"
            ],
            [
             0.5555555555555556,
             "#d8576b"
            ],
            [
             0.6666666666666666,
             "#ed7953"
            ],
            [
             0.7777777777777778,
             "#fb9f3a"
            ],
            [
             0.8888888888888888,
             "#fdca26"
            ],
            [
             1,
             "#f0f921"
            ]
           ],
           "sequentialminus": [
            [
             0,
             "#0d0887"
            ],
            [
             0.1111111111111111,
             "#46039f"
            ],
            [
             0.2222222222222222,
             "#7201a8"
            ],
            [
             0.3333333333333333,
             "#9c179e"
            ],
            [
             0.4444444444444444,
             "#bd3786"
            ],
            [
             0.5555555555555556,
             "#d8576b"
            ],
            [
             0.6666666666666666,
             "#ed7953"
            ],
            [
             0.7777777777777778,
             "#fb9f3a"
            ],
            [
             0.8888888888888888,
             "#fdca26"
            ],
            [
             1,
             "#f0f921"
            ]
           ]
          },
          "colorway": [
           "#636efa",
           "#EF553B",
           "#00cc96",
           "#ab63fa",
           "#FFA15A",
           "#19d3f3",
           "#FF6692",
           "#B6E880",
           "#FF97FF",
           "#FECB52"
          ],
          "font": {
           "color": "#2a3f5f"
          },
          "geo": {
           "bgcolor": "white",
           "lakecolor": "white",
           "landcolor": "#E5ECF6",
           "showlakes": true,
           "showland": true,
           "subunitcolor": "white"
          },
          "hoverlabel": {
           "align": "left"
          },
          "hovermode": "closest",
          "mapbox": {
           "style": "light"
          },
          "paper_bgcolor": "white",
          "plot_bgcolor": "#E5ECF6",
          "polar": {
           "angularaxis": {
            "gridcolor": "white",
            "linecolor": "white",
            "ticks": ""
           },
           "bgcolor": "#E5ECF6",
           "radialaxis": {
            "gridcolor": "white",
            "linecolor": "white",
            "ticks": ""
           }
          },
          "scene": {
           "xaxis": {
            "backgroundcolor": "#E5ECF6",
            "gridcolor": "white",
            "gridwidth": 2,
            "linecolor": "white",
            "showbackground": true,
            "ticks": "",
            "zerolinecolor": "white"
           },
           "yaxis": {
            "backgroundcolor": "#E5ECF6",
            "gridcolor": "white",
            "gridwidth": 2,
            "linecolor": "white",
            "showbackground": true,
            "ticks": "",
            "zerolinecolor": "white"
           },
           "zaxis": {
            "backgroundcolor": "#E5ECF6",
            "gridcolor": "white",
            "gridwidth": 2,
            "linecolor": "white",
            "showbackground": true,
            "ticks": "",
            "zerolinecolor": "white"
           }
          },
          "shapedefaults": {
           "line": {
            "color": "#2a3f5f"
           }
          },
          "ternary": {
           "aaxis": {
            "gridcolor": "white",
            "linecolor": "white",
            "ticks": ""
           },
           "baxis": {
            "gridcolor": "white",
            "linecolor": "white",
            "ticks": ""
           },
           "bgcolor": "#E5ECF6",
           "caxis": {
            "gridcolor": "white",
            "linecolor": "white",
            "ticks": ""
           }
          },
          "title": {
           "x": 0.05
          },
          "xaxis": {
           "automargin": true,
           "gridcolor": "white",
           "linecolor": "white",
           "ticks": "",
           "zerolinecolor": "white",
           "zerolinewidth": 2
          },
          "yaxis": {
           "automargin": true,
           "gridcolor": "white",
           "linecolor": "white",
           "ticks": "",
           "zerolinecolor": "white",
           "zerolinewidth": 2
          }
         }
        },
        "title": {
         "text": "문항별-기관별 만족도 현황",
         "x": 0.5,
         "y": 0.83
        }
       }
      },
      "image/png": "[encoded data removed]",
      "text/html": [
       "<div>\n",
       "        \n",
       "        \n",
       "            <div id=\"ea28aa74-09e8-47bd-9fce-7842242275a1\" class=\"plotly-graph-div\" style=\"height:525px; width:100%;\"></div>\n",
       "            <script type=\"text/javascript\">\n",
       "                require([\"plotly\"], function(Plotly) {\n",
       "                    window.PLOTLYENV=window.PLOTLYENV || {};\n",
       "                    \n",
       "                if (document.getElementById(\"ea28aa74-09e8-47bd-9fce-7842242275a1\")) {\n",
       "                    Plotly.newPlot(\n",
       "                        'ea28aa74-09e8-47bd-9fce-7842242275a1',\n",
       "                        [{\"cells\": {\"align\": [\"left\", \"center\"], \"font\": {\"color\": \"#000000\", \"size\": 11}, \"values\": [[\"\\ub0b4\\uc6a9 \\uc774\\ud574\\uc5d0 \\ud6a8\\uacfc\\uc801\\uc778 \\uad50\\uc721\\ubc29\\ubc95 \\uc0ac\\uc6a9\", \"\\uc774\\ud574\\ud558\\uae30 \\uc801\\uc808\\ud55c \\uad50\\uc721\\ub0b4\\uc6a9 \\uad6c\\uc131\", \"\\uad50\\uc721\\uc0dd \\uc0c1\\ud669\\uc5d0 \\ub9de\\ub294 \\uad50\\uc721\\ub0b4\\uc6a9 \\uad6c\\uc131\", \"\\uc6b4\\uc601\\uc9c4\\uc758 \\uc6d0\\ud65c\\ud55c \\uad50\\uc721\\uacfc\\uc815 \\uc6b4\\uc601\", \"\\uc6b4\\uc601\\uc9c4\\uc758 \\uc801\\uc808\\ud55c \\uc751\\uae09\\uc0c1\\ud669 \\ub300\\ucc98\", \"\\ud3c9\\uade0\"], [5.0, 4.0, 4.0, 5.0, 5.0, 4.6], [4.71, 4.43, 4.43, 4.43, 4.57, 4.51], [4.43, 4.43, 4.29, 4.14, 4.14, 4.29], [4.33, 4.33, 3.33, 4.67, 4.33, 4.2], [4.75, 4.75, 4.5, 4.75, 4.75, 4.7], [4.59, 4.45, 4.23, 4.45, 4.45, 4.43]]}, \"columnwidth\": [170, 45, 45, 42, 85, 80, 40], \"header\": {\"align\": \"center\", \"fill\": {\"color\": \"#094688\"}, \"font\": {\"color\": \"#ffffff\", \"size\": 11}, \"height\": 25, \"values\": [\"\\ubb38\\ud56d\", \"\\uad6d\\uc81c\\uae30\\uad6c\", \"\\ubbfc\\uac04\\uae30\\uc5c5\", \"\\uc11c\\uc6b8\\uc2dc\", \"\\uc11c\\uc6b8\\uc2dc \\uc0b0\\ud558\\uae30\\uad00\", \"\\uc911\\uc559\\ubd80\\ucc98/\\uc0b0\\ud558\\uae30\\uad00\", \"\\ud3c9\\uade0\"]}, \"type\": \"table\"}],\n",
       "                        {\"font\": {\"size\": 10}, \"template\": {\"data\": {\"bar\": [{\"error_x\": {\"color\": \"#2a3f5f\"}, \"error_y\": {\"color\": \"#2a3f5f\"}, \"marker\": {\"line\": {\"color\": \"#E5ECF6\", \"width\": 0.5}}, \"type\": \"bar\"}], \"barpolar\": [{\"marker\": {\"line\": {\"color\": \"#E5ECF6\", \"width\": 0.5}}, \"type\": \"barpolar\"}], \"carpet\": [{\"aaxis\": {\"endlinecolor\": \"#2a3f5f\", \"gridcolor\": \"white\", \"linecolor\": \"white\", \"minorgridcolor\": \"white\", \"startlinecolor\": \"#2a3f5f\"}, \"baxis\": {\"endlinecolor\": \"#2a3f5f\", \"gridcolor\": \"white\", \"linecolor\": \"white\", \"minorgridcolor\": \"white\", \"startlinecolor\": \"#2a3f5f\"}, \"type\": \"carpet\"}], \"choropleth\": [{\"colorbar\": {\"outlinewidth\": 0, \"ticks\": \"\"}, \"type\": \"choropleth\"}], \"contour\": [{\"colorbar\": {\"outlinewidth\": 0, \"ticks\": \"\"}, \"colorscale\": [[0.0, \"#0d0887\"], [0.1111111111111111, \"#46039f\"], [0.2222222222222222, \"#7201a8\"], [0.3333333333333333, \"#9c179e\"], [0.4444444444444444, \"#bd3786\"], [0.5555555555555556, \"#d8576b\"], [0.6666666666666666, \"#ed7953\"], [0.7777777777777778, \"#fb9f3a\"], [0.8888888888888888, \"#fdca26\"], [1.0, \"#f0f921\"]], \"type\": \"contour\"}], \"contourcarpet\": [{\"colorbar\": {\"outlinewidth\": 0, \"ticks\": \"\"}, \"type\": \"contourcarpet\"}], \"heatmap\": [{\"colorbar\": {\"outlinewidth\": 0, \"ticks\": \"\"}, \"colorscale\": [[0.0, \"#0d0887\"], [0.1111111111111111, \"#46039f\"], [0.2222222222222222, \"#7201a8\"], [0.3333333333333333, \"#9c179e\"], [0.4444444444444444, \"#bd3786\"], [0.5555555555555556, \"#d8576b\"], [0.6666666666666666, \"#ed7953\"], [0.7777777777777778, \"#fb9f3a\"], [0.8888888888888888, \"#fdca26\"], [1.0, \"#f0f921\"]], \"type\": \"heatmap\"}], \"heatmapgl\": [{\"colorbar\": {\"outlinewidth\": 0, \"ticks\": \"\"}, \"colorscale\": [[0.0, \"#0d0887\"], [0.1111111111111111, \"#46039f\"], [0.2222222222222222, \"#7201a8\"], [0.3333333333333333, \"#9c179e\"], [0.4444444444444444, \"#bd3786\"], [0.5555555555555556, \"#d8576b\"], [0.6666666666666666, \"#ed7953\"], [0.7777777777777778, \"#fb9f3a\"], [0.8888888888888888, \"#fdca26\"], [1.0, \"#f0f921\"]], \"type\": \"heatmapgl\"}], \"histogram\": [{\"marker\": {\"colorbar\": {\"outlinewidth\": 0, \"ticks\": \"\"}}, \"type\": \"histogram\"}], \"histogram2d\": [{\"colorbar\": {\"outlinewidth\": 0, \"ticks\": \"\"}, \"colorscale\": [[0.0, \"#0d0887\"], [0.1111111111111111, \"#46039f\"], [0.2222222222222222, \"#7201a8\"], [0.3333333333333333, \"#9c179e\"], [0.4444444444444444, \"#bd3786\"], [0.5555555555555556, \"#d8576b\"], [0.6666666666666666, \"#ed7953\"], [0.7777777777777778, \"#fb9f3a\"], [0.8888888888888888, \"#fdca26\"], [1.0, \"#f0f921\"]], \"type\": \"histogram2d\"}], \"histogram2dcontour\": [{\"colorbar\": {\"outlinewidth\": 0, \"ticks\": \"\"}, \"colorscale\": [[0.0, \"#0d0887\"], [0.1111111111111111, \"#46039f\"], [0.2222222222222222, \"#7201a8\"], [0.3333333333333333, \"#9c179e\"], [0.4444444444444444, \"#bd3786\"], [0.5555555555555556, \"#d8576b\"], [0.6666666666666666, \"#ed7953\"], [0.7777777777777778, \"#fb9f3a\"], [0.8888888888888888, \"#fdca26\"], [1.0, \"#f0f921\"]], \"type\": \"histogram2dcontour\"}], \"mesh3d\": [{\"colorbar\": {\"outlinewidth\": 0, \"ticks\": \"\"}, \"type\": \"mesh3d\"}], \"parcoords\": [{\"line\": {\"colorbar\": {\"outlinewidth\": 0, \"ticks\": \"\"}}, \"type\": \"parcoords\"}], \"scatter\": [{\"marker\": {\"colorbar\": {\"outlinewidth\": 0, \"ticks\": \"\"}}, \"type\": \"scatter\"}], \"scatter3d\": [{\"line\": {\"colorbar\": {\"outlinewidth\": 0, \"ticks\": \"\"}}, \"marker\": {\"colorbar\": {\"outlinewidth\": 0, \"ticks\": \"\"}}, \"type\": \"scatter3d\"}], \"scattercarpet\": [{\"marker\": {\"colorbar\": {\"outlinewidth\": 0, \"ticks\": \"\"}}, \"type\": \"scattercarpet\"}], \"scattergeo\": [{\"marker\": {\"colorbar\": {\"outlinewidth\": 0, \"ticks\": \"\"}}, \"type\": \"scattergeo\"}], \"scattergl\": [{\"marker\": {\"colorbar\": {\"outlinewidth\": 0, \"ticks\": \"\"}}, \"type\": \"scattergl\"}], \"scattermapbox\": [{\"marker\": {\"colorbar\": {\"outlinewidth\": 0, \"ticks\": \"\"}}, \"type\": \"scattermapbox\"}], \"scatterpolar\": [{\"marker\": {\"colorbar\": {\"outlinewidth\": 0, \"ticks\": \"\"}}, \"type\": \"scatterpolar\"}], \"scatterpolargl\": [{\"marker\": {\"colorbar\": {\"outlinewidth\": 0, \"ticks\": \"\"}}, \"type\": \"scatterpolargl\"}], \"scatterternary\": [{\"marker\": {\"colorbar\": {\"outlinewidth\": 0, \"ticks\": \"\"}}, \"type\": \"scatterternary\"}], \"surface\": [{\"colorbar\": {\"outlinewidth\": 0, \"ticks\": \"\"}, \"colorscale\": [[0.0, \"#0d0887\"], [0.1111111111111111, \"#46039f\"], [0.2222222222222222, \"#7201a8\"], [0.3333333333333333, \"#9c179e\"], [0.4444444444444444, \"#bd3786\"], [0.5555555555555556, \"#d8576b\"], [0.6666666666666666, \"#ed7953\"], [0.7777777777777778, \"#fb9f3a\"], [0.8888888888888888, \"#fdca26\"], [1.0, \"#f0f921\"]], \"type\": \"surface\"}], \"table\": [{\"cells\": {\"fill\": {\"color\": \"#EBF0F8\"}, \"line\": {\"color\": \"white\"}}, \"header\": {\"fill\": {\"color\": \"#C8D4E3\"}, \"line\": {\"color\": \"white\"}}, \"type\": \"table\"}]}, \"layout\": {\"annotationdefaults\": {\"arrowcolor\": \"#2a3f5f\", \"arrowhead\": 0, \"arrowwidth\": 1}, \"colorscale\": {\"diverging\": [[0, \"#8e0152\"], [0.1, \"#c51b7d\"], [0.2, \"#de77ae\"], [0.3, \"#f1b6da\"], [0.4, \"#fde0ef\"], [0.5, \"#f7f7f7\"], [0.6, \"#e6f5d0\"], [0.7, \"#b8e186\"], [0.8, \"#7fbc41\"], [0.9, \"#4d9221\"], [1, \"#276419\"]], \"sequential\": [[0.0, \"#0d0887\"], [0.1111111111111111, \"#46039f\"], [0.2222222222222222, \"#7201a8\"], [0.3333333333333333, \"#9c179e\"], [0.4444444444444444, \"#bd3786\"], [0.5555555555555556, \"#d8576b\"], [0.6666666666666666, \"#ed7953\"], [0.7777777777777778, \"#fb9f3a\"], [0.8888888888888888, \"#fdca26\"], [1.0, \"#f0f921\"]], \"sequentialminus\": [[0.0, \"#0d0887\"], [0.1111111111111111, \"#46039f\"], [0.2222222222222222, \"#7201a8\"], [0.3333333333333333, \"#9c179e\"], [0.4444444444444444, \"#bd3786\"], [0.5555555555555556, \"#d8576b\"], [0.6666666666666666, \"#ed7953\"], [0.7777777777777778, \"#fb9f3a\"], [0.8888888888888888, \"#fdca26\"], [1.0, \"#f0f921\"]]}, \"colorway\": [\"#636efa\", \"#EF553B\", \"#00cc96\", \"#ab63fa\", \"#FFA15A\", \"#19d3f3\", \"#FF6692\", \"#B6E880\", \"#FF97FF\", \"#FECB52\"], \"font\": {\"color\": \"#2a3f5f\"}, \"geo\": {\"bgcolor\": \"white\", \"lakecolor\": \"white\", \"landcolor\": \"#E5ECF6\", \"showlakes\": true, \"showland\": true, \"subunitcolor\": \"white\"}, \"hoverlabel\": {\"align\": \"left\"}, \"hovermode\": \"closest\", \"mapbox\": {\"style\": \"light\"}, \"paper_bgcolor\": \"white\", \"plot_bgcolor\": \"#E5ECF6\", \"polar\": {\"angularaxis\": {\"gridcolor\": \"white\", \"linecolor\": \"white\", \"ticks\": \"\"}, \"bgcolor\": \"#E5ECF6\", \"radialaxis\": {\"gridcolor\": \"white\", \"linecolor\": \"white\", \"ticks\": \"\"}}, \"scene\": {\"xaxis\": {\"backgroundcolor\": \"#E5ECF6\", \"gridcolor\": \"white\", \"gridwidth\": 2, \"linecolor\": \"white\", \"showbackground\": true, \"ticks\": \"\", \"zerolinecolor\": \"white\"}, \"yaxis\": {\"backgroundcolor\": \"#E5ECF6\", \"gridcolor\": \"white\", \"gridwidth\": 2, \"linecolor\": \"white\", \"showbackground\": true, \"ticks\": \"\", \"zerolinecolor\": \"white\"}, \"zaxis\": {\"backgroundcolor\": \"#E5ECF6\", \"gridcolor\": \"white\", \"gridwidth\": 2, \"linecolor\": \"white\", \"showbackground\": true, \"ticks\": \"\", \"zerolinecolor\": \"white\"}}, \"shapedefaults\": {\"line\": {\"color\": \"#2a3f5f\"}}, \"ternary\": {\"aaxis\": {\"gridcolor\": \"white\", \"linecolor\": \"white\", \"ticks\": \"\"}, \"baxis\": {\"gridcolor\": \"white\", \"linecolor\": \"white\", \"ticks\": \"\"}, \"bgcolor\": \"#E5ECF6\", \"caxis\": {\"gridcolor\": \"white\", \"linecolor\": \"white\", \"ticks\": \"\"}}, \"title\": {\"x\": 0.05}, \"xaxis\": {\"automargin\": true, \"gridcolor\": \"white\", \"linecolor\": \"white\", \"ticks\": \"\", \"zerolinecolor\": \"white\", \"zerolinewidth\": 2}, \"yaxis\": {\"automargin\": true, \"gridcolor\": \"white\", \"linecolor\": \"white\", \"ticks\": \"\", \"zerolinecolor\": \"white\", \"zerolinewidth\": 2}}}, \"title\": {\"text\": \"\\ubb38\\ud56d\\ubcc4-\\uae30\\uad00\\ubcc4 \\ub9cc\\uc871\\ub3c4 \\ud604\\ud669\", \"x\": 0.5, \"y\": 0.83}},\n",
       "                        {\"responsive\": true}\n",
       "                    ).then(function(){\n",
       "                            \n",
       "var gd = document.getElementById('ea28aa74-09e8-47bd-9fce-7842242275a1');\n",
       "var x = new MutationObserver(function (mutations, observer) {{\n",
       "        var display = window.getComputedStyle(gd).display;\n",
       "        if (!display || display === 'none') {{\n",
       "            console.log([gd, 'removed!']);\n",
       "            Plotly.purge(gd);\n",
       "            observer.disconnect();\n",
       "        }}\n",
       "}});\n",
       "\n",
       "// Listen for the removal of the full notebook cells\n",
       "var notebookContainer = gd.closest('#notebook-container');\n",
       "if (notebookContainer) {{\n",
       "    x.observe(notebookContainer, {childList: true});\n",
       "}}\n",
       "\n",
       "// Listen for the clearing of the current output cell\n",
       "var outputEl = gd.closest('.output');\n",
       "if (outputEl) {{\n",
       "    x.observe(outputEl, {childList: true});\n",
       "}}\n",
       "\n",
       "                        })\n",
       "                };\n",
       "                });\n",
       "            </script>\n",
       "        </div>"
      ]
     },
     "metadata": {},
     "output_type": "display_data"
    }
   ],
   "source": [
    "fig = go.Figure(data=go.Table(\n",
    "    columnwidth = [170,45,45,42,85,80,40], #columnorder = [1,2],\n",
    "    header=dict(height=25, \n",
    "        values=list(cs_mean.columns), fill_color='#094688',\n",
    "        font=dict(size=11, color='#ffffff'), align='center'),\n",
    "    cells=dict(\n",
    "        values=[cs_mean[k].tolist() for k in cs_mean.columns[:]],\n",
    "        font=dict(size=11, color='#000000'), align=['left', 'center'])))\n",
    "\n",
    "fig.update_layout(title=dict(text ='문항별-기관별 만족도 현황', x=0.5, y=0.83),\n",
    "                  font_size = 10)"
   ]
  },
  {
   "cell_type": "markdown",
   "metadata": {},
   "source": [
    "### 만족도 현황 3"
   ]
  },
  {
   "cell_type": "code",
   "execution_count": 137,
   "metadata": {
    "colab": {
     "base_uri": "https://localhost:8080/",
     "height": 1000
    },
    "colab_type": "code",
    "id": "TwSu8pCyPCuN",
    "outputId": "2ea73f5d-0d75-489f-c47c-45ef58dfad38"
   },
   "outputs": [
    {
     "data": {
      "application/vnd.plotly.v1+json": {
       "config": {
        "plotlyServerURL": "https://plot.ly"
       },
       "data": [
        {
         "marker": {
          "cmax": 4,
          "cmin": 5,
          "color": [
           4.6,
           4.51,
           4.29,
           4.2,
           4.7
          ],
          "colorscale": [
           [
            0,
            "rgb(103,0,31)"
           ],
           [
            0.1,
            "rgb(178,24,43)"
           ],
           [
            0.2,
            "rgb(214,96,77)"
           ],
           [
            0.3,
            "rgb(244,165,130)"
           ],
           [
            0.4,
            "rgb(253,219,199)"
           ],
           [
            0.5,
            "rgb(247,247,247)"
           ],
           [
            0.6,
            "rgb(209,229,240)"
           ],
           [
            0.7,
            "rgb(146,197,222)"
           ],
           [
            0.8,
            "rgb(67,147,195)"
           ],
           [
            0.9,
            "rgb(33,102,172)"
           ],
           [
            1,
            "rgb(5,48,97)"
           ]
          ]
         },
         "showlegend": false,
         "text": [
          4.6,
          4.51,
          4.29,
          4.2,
          4.7
         ],
         "textposition": "auto",
         "type": "bar",
         "width": 0.8,
         "x": [
          "국제기구",
          "민간기업",
          "서울시",
          "서울시 산하기관",
          "중앙부처/산하기관"
         ],
         "xaxis": "x",
         "y": [
          4.6,
          4.51,
          4.29,
          4.2,
          4.7
         ],
         "yaxis": "y"
        },
        {
         "marker": {
          "cmax": 14.5,
          "cmin": -14.5,
          "color": [
           -13,
           -9
          ],
          "colorscale": [
           [
            0,
            "rgb(103,0,31)"
           ],
           [
            0.1,
            "rgb(178,24,43)"
           ],
           [
            0.2,
            "rgb(214,96,77)"
           ],
           [
            0.3,
            "rgb(244,165,130)"
           ],
           [
            0.4,
            "rgb(253,219,199)"
           ],
           [
            0.5,
            "rgb(247,247,247)"
           ],
           [
            0.6,
            "rgb(209,229,240)"
           ],
           [
            0.7,
            "rgb(146,197,222)"
           ],
           [
            0.8,
            "rgb(67,147,195)"
           ],
           [
            0.9,
            "rgb(33,102,172)"
           ],
           [
            1,
            "rgb(5,48,97)"
           ]
          ]
         },
         "showlegend": false,
         "text": [
          13,
          9
         ],
         "textposition": "auto",
         "type": "bar",
         "x": [
          5,
          4
         ],
         "xaxis": "x2",
         "y": [
          13,
          9
         ],
         "yaxis": "y2"
        },
        {
         "marker": {
          "cmax": 14.5,
          "cmin": -14.5,
          "color": [
           -11,
           -10,
           -1
          ],
          "colorscale": [
           [
            0,
            "#440154"
           ],
           [
            0.1111111111111111,
            "#482878"
           ],
           [
            0.2222222222222222,
            "#3e4989"
           ],
           [
            0.3333333333333333,
            "#31688e"
           ],
           [
            0.4444444444444444,
            "#26828e"
           ],
           [
            0.5555555555555556,
            "#1f9e89"
           ],
           [
            0.6666666666666666,
            "#35b779"
           ],
           [
            0.7777777777777778,
            "#6ece58"
           ],
           [
            0.8888888888888888,
            "#b5de2b"
           ],
           [
            1,
            "#fde725"
           ]
          ]
         },
         "showlegend": false,
         "text": [
          11,
          10,
          1
         ],
         "textposition": "auto",
         "type": "bar",
         "x": [
          5,
          4,
          3
         ],
         "xaxis": "x3",
         "y": [
          11,
          10,
          1
         ],
         "yaxis": "y3"
        },
        {
         "marker": {
          "cmax": 14.5,
          "cmin": -14.5,
          "color": [
           -10,
           -7,
           -5
          ],
          "colorscale": [
           [
            0,
            "rgb(103,0,31)"
           ],
           [
            0.1,
            "rgb(178,24,43)"
           ],
           [
            0.2,
            "rgb(214,96,77)"
           ],
           [
            0.3,
            "rgb(244,165,130)"
           ],
           [
            0.4,
            "rgb(253,219,199)"
           ],
           [
            0.5,
            "rgb(247,247,247)"
           ],
           [
            0.6,
            "rgb(209,229,240)"
           ],
           [
            0.7,
            "rgb(146,197,222)"
           ],
           [
            0.8,
            "rgb(67,147,195)"
           ],
           [
            0.9,
            "rgb(33,102,172)"
           ],
           [
            1,
            "rgb(5,48,97)"
           ]
          ]
         },
         "showlegend": false,
         "text": [
          10,
          7,
          5
         ],
         "textposition": "auto",
         "type": "bar",
         "x": [
          5,
          4,
          3
         ],
         "xaxis": "x4",
         "y": [
          10,
          7,
          5
         ],
         "yaxis": "y4"
        },
        {
         "marker": {
          "cmax": 14.5,
          "cmin": -14.5,
          "color": [
           -11,
           -10,
           -1
          ],
          "colorscale": [
           [
            0,
            "#440154"
           ],
           [
            0.1111111111111111,
            "#482878"
           ],
           [
            0.2222222222222222,
            "#3e4989"
           ],
           [
            0.3333333333333333,
            "#31688e"
           ],
           [
            0.4444444444444444,
            "#26828e"
           ],
           [
            0.5555555555555556,
            "#1f9e89"
           ],
           [
            0.6666666666666666,
            "#35b779"
           ],
           [
            0.7777777777777778,
            "#6ece58"
           ],
           [
            0.8888888888888888,
            "#b5de2b"
           ],
           [
            1,
            "#fde725"
           ]
          ]
         },
         "showlegend": false,
         "text": [
          11,
          10,
          1
         ],
         "textposition": "auto",
         "type": "bar",
         "x": [
          5,
          4,
          3
         ],
         "xaxis": "x5",
         "y": [
          11,
          10,
          1
         ],
         "yaxis": "y5"
        },
        {
         "marker": {
          "cmax": 14.5,
          "cmin": -14.5,
          "color": [
           -11,
           -10,
           -1
          ],
          "colorscale": [
           [
            0,
            "rgb(103,0,31)"
           ],
           [
            0.1,
            "rgb(178,24,43)"
           ],
           [
            0.2,
            "rgb(214,96,77)"
           ],
           [
            0.3,
            "rgb(244,165,130)"
           ],
           [
            0.4,
            "rgb(253,219,199)"
           ],
           [
            0.5,
            "rgb(247,247,247)"
           ],
           [
            0.6,
            "rgb(209,229,240)"
           ],
           [
            0.7,
            "rgb(146,197,222)"
           ],
           [
            0.8,
            "rgb(67,147,195)"
           ],
           [
            0.9,
            "rgb(33,102,172)"
           ],
           [
            1,
            "rgb(5,48,97)"
           ]
          ]
         },
         "showlegend": false,
         "text": [
          11,
          10,
          1
         ],
         "textposition": "auto",
         "type": "bar",
         "x": [
          5,
          4,
          3
         ],
         "xaxis": "x6",
         "y": [
          11,
          10,
          1
         ],
         "yaxis": "y6"
        },
        {
         "cells": {
          "align": [
           "left",
           "center"
          ],
          "font": {
           "color": "#000000",
           "size": 12
          },
          "values": [
           [
            "내용 이해에 효과적인 교육방법 사용",
            "이해하기 적절한 교육내용 구성",
            "교육생 상황에 맞는 교육내용 구성",
            "운영진의 원활한 교육과정 운영",
            "운영진의 적절한 응급상황 대처",
            "평균"
           ],
           [
            5,
            4,
            4,
            5,
            5,
            4.6
           ],
           [
            4.71,
            4.43,
            4.43,
            4.43,
            4.57,
            4.51
           ],
           [
            4.43,
            4.43,
            4.29,
            4.14,
            4.14,
            4.29
           ],
           [
            4.33,
            4.33,
            3.33,
            4.67,
            4.33,
            4.2
           ],
           [
            4.75,
            4.75,
            4.5,
            4.75,
            4.75,
            4.7
           ],
           [
            4.59,
            4.45,
            4.23,
            4.45,
            4.45,
            4.43
           ]
          ]
         },
         "columnwidth": [
          220,
          45,
          45,
          45,
          75,
          75,
          45
         ],
         "domain": {
          "x": [
           0,
           1
          ],
          "y": [
           0,
           0.17875
          ]
         },
         "header": {
          "align": "center",
          "fill": {
           "color": "#094688"
          },
          "font": {
           "color": "#ffffff",
           "size": 12
          },
          "height": 25,
          "values": [
           "문항",
           "국제기구",
           "민간기업",
           "서울시",
           "서울시 산하기관",
           "중앙부처/산하기관",
           "평균"
          ]
         },
         "type": "table"
        }
       ],
       "layout": {
        "annotations": [
         {
          "font": {
           "size": 16
          },
          "showarrow": false,
          "text": "기관별 만족도",
          "x": 0.225,
          "xanchor": "center",
          "xref": "paper",
          "y": 1,
          "yanchor": "bottom",
          "yref": "paper"
         },
         {
          "font": {
           "size": 16
          },
          "showarrow": false,
          "text": "교육방법은 내용을 이해하는데 적합하였다",
          "x": 0.775,
          "xanchor": "center",
          "xref": "paper",
          "y": 1,
          "yanchor": "bottom",
          "yref": "paper"
         },
         {
          "font": {
           "size": 16
          },
          "showarrow": false,
          "text": "내용과 수준은 이해하기 적절하였다",
          "x": 0.225,
          "xanchor": "center",
          "xref": "paper",
          "y": 0.72625,
          "yanchor": "bottom",
          "yref": "paper"
         },
         {
          "font": {
           "size": 16
          },
          "showarrow": false,
          "text": "내용은 교육생 상황에 맞게 구성되었다",
          "x": 0.775,
          "xanchor": "center",
          "xref": "paper",
          "y": 0.72625,
          "yanchor": "bottom",
          "yref": "paper"
         },
         {
          "font": {
           "size": 16
          },
          "showarrow": false,
          "text": "운영진은 교육과정을 원활하게 운영하였다",
          "x": 0.225,
          "xanchor": "center",
          "xref": "paper",
          "y": 0.4525,
          "yanchor": "bottom",
          "yref": "paper"
         },
         {
          "font": {
           "size": 16
          },
          "showarrow": false,
          "text": "<br>운영진은 응급상황 등 사건사고에 대해<br>적절히 대처하였다",
          "x": 0.775,
          "xanchor": "center",
          "xref": "paper",
          "y": 0.4525,
          "yanchor": "bottom",
          "yref": "paper"
         },
         {
          "font": {
           "size": 16
          },
          "showarrow": false,
          "text": "문항별, 기관별 만족도 현황",
          "x": 0.5,
          "xanchor": "center",
          "xref": "paper",
          "y": 0.17875,
          "yanchor": "bottom",
          "yref": "paper"
         }
        ],
        "font": {
         "size": 15
        },
        "height": 1000,
        "margin": {
         "t": 90
        },
        "template": {
         "data": {
          "bar": [
           {
            "error_x": {
             "color": "#2a3f5f"
            },
            "error_y": {
             "color": "#2a3f5f"
            },
            "marker": {
             "line": {
              "color": "#E5ECF6",
              "width": 0.5
             }
            },
            "type": "bar"
           }
          ],
          "barpolar": [
           {
            "marker": {
             "line": {
              "color": "#E5ECF6",
              "width": 0.5
             }
            },
            "type": "barpolar"
           }
          ],
          "carpet": [
           {
            "aaxis": {
             "endlinecolor": "#2a3f5f",
             "gridcolor": "white",
             "linecolor": "white",
             "minorgridcolor": "white",
             "startlinecolor": "#2a3f5f"
            },
            "baxis": {
             "endlinecolor": "#2a3f5f",
             "gridcolor": "white",
             "linecolor": "white",
             "minorgridcolor": "white",
             "startlinecolor": "#2a3f5f"
            },
            "type": "carpet"
           }
          ],
          "choropleth": [
           {
            "colorbar": {
             "outlinewidth": 0,
             "ticks": ""
            },
            "type": "choropleth"
           }
          ],
          "contour": [
           {
            "colorbar": {
             "outlinewidth": 0,
             "ticks": ""
            },
            "colorscale": [
             [
              0,
              "#0d0887"
             ],
             [
              0.1111111111111111,
              "#46039f"
             ],
             [
              0.2222222222222222,
              "#7201a8"
             ],
             [
              0.3333333333333333,
              "#9c179e"
             ],
             [
              0.4444444444444444,
              "#bd3786"
             ],
             [
              0.5555555555555556,
              "#d8576b"
             ],
             [
              0.6666666666666666,
              "#ed7953"
             ],
             [
              0.7777777777777778,
              "#fb9f3a"
             ],
             [
              0.8888888888888888,
              "#fdca26"
             ],
             [
              1,
              "#f0f921"
             ]
            ],
            "type": "contour"
           }
          ],
          "contourcarpet": [
           {
            "colorbar": {
             "outlinewidth": 0,
             "ticks": ""
            },
            "type": "contourcarpet"
           }
          ],
          "heatmap": [
           {
            "colorbar": {
             "outlinewidth": 0,
             "ticks": ""
            },
            "colorscale": [
             [
              0,
              "#0d0887"
             ],
             [
              0.1111111111111111,
              "#46039f"
             ],
             [
              0.2222222222222222,
              "#7201a8"
             ],
             [
              0.3333333333333333,
              "#9c179e"
             ],
             [
              0.4444444444444444,
              "#bd3786"
             ],
             [
              0.5555555555555556,
              "#d8576b"
             ],
             [
              0.6666666666666666,
              "#ed7953"
             ],
             [
              0.7777777777777778,
              "#fb9f3a"
             ],
             [
              0.8888888888888888,
              "#fdca26"
             ],
             [
              1,
              "#f0f921"
             ]
            ],
            "type": "heatmap"
           }
          ],
          "heatmapgl": [
           {
            "colorbar": {
             "outlinewidth": 0,
             "ticks": ""
            },
            "colorscale": [
             [
              0,
              "#0d0887"
             ],
             [
              0.1111111111111111,
              "#46039f"
             ],
             [
              0.2222222222222222,
              "#7201a8"
             ],
             [
              0.3333333333333333,
              "#9c179e"
             ],
             [
              0.4444444444444444,
              "#bd3786"
             ],
             [
              0.5555555555555556,
              "#d8576b"
             ],
             [
              0.6666666666666666,
              "#ed7953"
             ],
             [
              0.7777777777777778,
              "#fb9f3a"
             ],
             [
              0.8888888888888888,
              "#fdca26"
             ],
             [
              1,
              "#f0f921"
             ]
            ],
            "type": "heatmapgl"
           }
          ],
          "histogram": [
           {
            "marker": {
             "colorbar": {
              "outlinewidth": 0,
              "ticks": ""
             }
            },
            "type": "histogram"
           }
          ],
          "histogram2d": [
           {
            "colorbar": {
             "outlinewidth": 0,
             "ticks": ""
            },
            "colorscale": [
             [
              0,
              "#0d0887"
             ],
             [
              0.1111111111111111,
              "#46039f"
             ],
             [
              0.2222222222222222,
              "#7201a8"
             ],
             [
              0.3333333333333333,
              "#9c179e"
             ],
             [
              0.4444444444444444,
              "#bd3786"
             ],
             [
              0.5555555555555556,
              "#d8576b"
             ],
             [
              0.6666666666666666,
              "#ed7953"
             ],
             [
              0.7777777777777778,
              "#fb9f3a"
             ],
             [
              0.8888888888888888,
              "#fdca26"
             ],
             [
              1,
              "#f0f921"
             ]
            ],
            "type": "histogram2d"
           }
          ],
          "histogram2dcontour": [
           {
            "colorbar": {
             "outlinewidth": 0,
             "ticks": ""
            },
            "colorscale": [
             [
              0,
              "#0d0887"
             ],
             [
              0.1111111111111111,
              "#46039f"
             ],
             [
              0.2222222222222222,
              "#7201a8"
             ],
             [
              0.3333333333333333,
              "#9c179e"
             ],
             [
              0.4444444444444444,
              "#bd3786"
             ],
             [
              0.5555555555555556,
              "#d8576b"
             ],
             [
              0.6666666666666666,
              "#ed7953"
             ],
             [
              0.7777777777777778,
              "#fb9f3a"
             ],
             [
              0.8888888888888888,
              "#fdca26"
             ],
             [
              1,
              "#f0f921"
             ]
            ],
            "type": "histogram2dcontour"
           }
          ],
          "mesh3d": [
           {
            "colorbar": {
             "outlinewidth": 0,
             "ticks": ""
            },
            "type": "mesh3d"
           }
          ],
          "parcoords": [
           {
            "line": {
             "colorbar": {
              "outlinewidth": 0,
              "ticks": ""
             }
            },
            "type": "parcoords"
           }
          ],
          "scatter": [
           {
            "marker": {
             "colorbar": {
              "outlinewidth": 0,
              "ticks": ""
             }
            },
            "type": "scatter"
           }
          ],
          "scatter3d": [
           {
            "line": {
             "colorbar": {
              "outlinewidth": 0,
              "ticks": ""
             }
            },
            "marker": {
             "colorbar": {
              "outlinewidth": 0,
              "ticks": ""
             }
            },
            "type": "scatter3d"
           }
          ],
          "scattercarpet": [
           {
            "marker": {
             "colorbar": {
              "outlinewidth": 0,
              "ticks": ""
             }
            },
            "type": "scattercarpet"
           }
          ],
          "scattergeo": [
           {
            "marker": {
             "colorbar": {
              "outlinewidth": 0,
              "ticks": ""
             }
            },
            "type": "scattergeo"
           }
          ],
          "scattergl": [
           {
            "marker": {
             "colorbar": {
              "outlinewidth": 0,
              "ticks": ""
             }
            },
            "type": "scattergl"
           }
          ],
          "scattermapbox": [
           {
            "marker": {
             "colorbar": {
              "outlinewidth": 0,
              "ticks": ""
             }
            },
            "type": "scattermapbox"
           }
          ],
          "scatterpolar": [
           {
            "marker": {
             "colorbar": {
              "outlinewidth": 0,
              "ticks": ""
             }
            },
            "type": "scatterpolar"
           }
          ],
          "scatterpolargl": [
           {
            "marker": {
             "colorbar": {
              "outlinewidth": 0,
              "ticks": ""
             }
            },
            "type": "scatterpolargl"
           }
          ],
          "scatterternary": [
           {
            "marker": {
             "colorbar": {
              "outlinewidth": 0,
              "ticks": ""
             }
            },
            "type": "scatterternary"
           }
          ],
          "surface": [
           {
            "colorbar": {
             "outlinewidth": 0,
             "ticks": ""
            },
            "colorscale": [
             [
              0,
              "#0d0887"
             ],
             [
              0.1111111111111111,
              "#46039f"
             ],
             [
              0.2222222222222222,
              "#7201a8"
             ],
             [
              0.3333333333333333,
              "#9c179e"
             ],
             [
              0.4444444444444444,
              "#bd3786"
             ],
             [
              0.5555555555555556,
              "#d8576b"
             ],
             [
              0.6666666666666666,
              "#ed7953"
             ],
             [
              0.7777777777777778,
              "#fb9f3a"
             ],
             [
              0.8888888888888888,
              "#fdca26"
             ],
             [
              1,
              "#f0f921"
             ]
            ],
            "type": "surface"
           }
          ],
          "table": [
           {
            "cells": {
             "fill": {
              "color": "#EBF0F8"
             },
             "line": {
              "color": "white"
             }
            },
            "header": {
             "fill": {
              "color": "#C8D4E3"
             },
             "line": {
              "color": "white"
             }
            },
            "type": "table"
           }
          ]
         },
         "layout": {
          "annotationdefaults": {
           "arrowcolor": "#2a3f5f",
           "arrowhead": 0,
           "arrowwidth": 1
          },
          "colorscale": {
           "diverging": [
            [
             0,
             "#8e0152"
            ],
            [
             0.1,
             "#c51b7d"
            ],
            [
             0.2,
             "#de77ae"
            ],
            [
             0.3,
             "#f1b6da"
            ],
            [
             0.4,
             "#fde0ef"
            ],
            [
             0.5,
             "#f7f7f7"
            ],
            [
             0.6,
             "#e6f5d0"
            ],
            [
             0.7,
             "#b8e186"
            ],
            [
             0.8,
             "#7fbc41"
            ],
            [
             0.9,
             "#4d9221"
            ],
            [
             1,
             "#276419"
            ]
           ],
           "sequential": [
            [
             0,
             "#0d0887"
            ],
            [
             0.1111111111111111,
             "#46039f"
            ],
            [
             0.2222222222222222,
             "#7201a8"
            ],
            [
             0.3333333333333333,
             "#9c179e"
            ],
            [
             0.4444444444444444,
             "#bd3786"
            ],
            [
             0.5555555555555556,
             "#d8576b"
            ],
            [
             0.6666666666666666,
             "#ed7953"
            ],
            [
             0.7777777777777778,
             "#fb9f3a"
            ],
            [
             0.8888888888888888,
             "#fdca26"
            ],
            [
             1,
             "#f0f921"
            ]
           ],
           "sequentialminus": [
            [
             0,
             "#0d0887"
            ],
            [
             0.1111111111111111,
             "#46039f"
            ],
            [
             0.2222222222222222,
             "#7201a8"
            ],
            [
             0.3333333333333333,
             "#9c179e"
            ],
            [
             0.4444444444444444,
             "#bd3786"
            ],
            [
             0.5555555555555556,
             "#d8576b"
            ],
            [
             0.6666666666666666,
             "#ed7953"
            ],
            [
             0.7777777777777778,
             "#fb9f3a"
            ],
            [
             0.8888888888888888,
             "#fdca26"
            ],
            [
             1,
             "#f0f921"
            ]
           ]
          },
          "colorway": [
           "#636efa",
           "#EF553B",
           "#00cc96",
           "#ab63fa",
           "#FFA15A",
           "#19d3f3",
           "#FF6692",
           "#B6E880",
           "#FF97FF",
           "#FECB52"
          ],
          "font": {
           "color": "#2a3f5f"
          },
          "geo": {
           "bgcolor": "white",
           "lakecolor": "white",
           "landcolor": "#E5ECF6",
           "showlakes": true,
           "showland": true,
           "subunitcolor": "white"
          },
          "hoverlabel": {
           "align": "left"
          },
          "hovermode": "closest",
          "mapbox": {
           "style": "light"
          },
          "paper_bgcolor": "white",
          "plot_bgcolor": "#E5ECF6",
          "polar": {
           "angularaxis": {
            "gridcolor": "white",
            "linecolor": "white",
            "ticks": ""
           },
           "bgcolor": "#E5ECF6",
           "radialaxis": {
            "gridcolor": "white",
            "linecolor": "white",
            "ticks": ""
           }
          },
          "scene": {
           "xaxis": {
            "backgroundcolor": "#E5ECF6",
            "gridcolor": "white",
            "gridwidth": 2,
            "linecolor": "white",
            "showbackground": true,
            "ticks": "",
            "zerolinecolor": "white"
           },
           "yaxis": {
            "backgroundcolor": "#E5ECF6",
            "gridcolor": "white",
            "gridwidth": 2,
            "linecolor": "white",
            "showbackground": true,
            "ticks": "",
            "zerolinecolor": "white"
           },
           "zaxis": {
            "backgroundcolor": "#E5ECF6",
            "gridcolor": "white",
            "gridwidth": 2,
            "linecolor": "white",
            "showbackground": true,
            "ticks": "",
            "zerolinecolor": "white"
           }
          },
          "shapedefaults": {
           "line": {
            "color": "#2a3f5f"
           }
          },
          "ternary": {
           "aaxis": {
            "gridcolor": "white",
            "linecolor": "white",
            "ticks": ""
           },
           "baxis": {
            "gridcolor": "white",
            "linecolor": "white",
            "ticks": ""
           },
           "bgcolor": "#E5ECF6",
           "caxis": {
            "gridcolor": "white",
            "linecolor": "white",
            "ticks": ""
           }
          },
          "title": {
           "x": 0.05
          },
          "xaxis": {
           "automargin": true,
           "gridcolor": "white",
           "linecolor": "white",
           "ticks": "",
           "zerolinecolor": "white",
           "zerolinewidth": 2
          },
          "yaxis": {
           "automargin": true,
           "gridcolor": "white",
           "linecolor": "white",
           "ticks": "",
           "zerolinecolor": "white",
           "zerolinewidth": 2
          }
         }
        },
        "title": {
         "text": "만족도 문항 응답 현황",
         "x": 0.5,
         "y": 0.97
        },
        "width": 1000,
        "xaxis": {
         "anchor": "y",
         "autorange": true,
         "domain": [
          0,
          0.45
         ],
         "range": [
          -0.5,
          4.5
         ],
         "tickfont": {
          "size": 8.7
         },
         "tickwidth": 10,
         "type": "category"
        },
        "xaxis2": {
         "anchor": "y2",
         "domain": [
          0.55,
          1
         ],
         "range": [
          2.5,
          5.5
         ],
         "type": "linear"
        },
        "xaxis3": {
         "anchor": "y3",
         "autorange": true,
         "domain": [
          0,
          0.45
         ],
         "range": [
          2.5,
          5.5
         ],
         "type": "linear"
        },
        "xaxis4": {
         "anchor": "y4",
         "autorange": true,
         "domain": [
          0.55,
          1
         ],
         "range": [
          2.5,
          5.5
         ],
         "type": "linear"
        },
        "xaxis5": {
         "anchor": "y5",
         "domain": [
          0,
          0.45
         ],
         "range": [
          2.5,
          5.5
         ],
         "title": {
          "font": {
           "size": 13
          },
          "text": "<b>만족도</b>"
         },
         "type": "linear"
        },
        "xaxis6": {
         "anchor": "y6",
         "domain": [
          0.55,
          1
         ],
         "range": [
          2.5,
          5.5
         ],
         "title": {
          "font": {
           "size": 13
          },
          "text": "<b>만족도</b>"
         },
         "type": "linear"
        },
        "yaxis": {
         "anchor": "x",
         "domain": [
          0.82125,
          1
         ],
         "range": [
          0,
          5.5
         ],
         "tickfont": {
          "size": 15
         },
         "title": {
          "font": {
           "size": 13
          },
          "text": "<b>평균</b>"
         },
         "type": "linear"
        },
        "yaxis2": {
         "anchor": "x2",
         "domain": [
          0.82125,
          1
         ],
         "range": [
          0,
          13.5
         ],
         "tickfont": {
          "size": 15
         },
         "title": {
          "font": {
           "size": 13
          },
          "text": "<b>응답자수</b>"
         },
         "type": "linear"
        },
        "yaxis3": {
         "anchor": "x3",
         "domain": [
          0.5475,
          0.72625
         ],
         "range": [
          0,
          13.5
         ],
         "title": {
          "font": {
           "size": 13
          },
          "text": "<b>응답자수</b>"
         },
         "type": "linear"
        },
        "yaxis4": {
         "anchor": "x4",
         "autorange": true,
         "domain": [
          0.5475,
          0.72625
         ],
         "range": [
          0,
          10.526315789473685
         ],
         "type": "linear"
        },
        "yaxis5": {
         "anchor": "x5",
         "domain": [
          0.27375,
          0.4525
         ],
         "range": [
          0,
          13.5
         ],
         "title": {
          "font": {
           "size": 13
          },
          "text": "<b>응답자수</b>"
         },
         "type": "linear"
        },
        "yaxis6": {
         "anchor": "x6",
         "autorange": true,
         "domain": [
          0.27375,
          0.4525
         ],
         "range": [
          0,
          11.578947368421053
         ],
         "type": "linear"
        }
       }
      },
      "image/png": "[encoded data removed]",
      "text/html": [
       "<div>\n",
       "        \n",
       "        \n",
       "            <div id=\"471ccaca-e9ae-4d74-853e-4045d181a9e5\" class=\"plotly-graph-div\" style=\"height:1000px; width:1000px;\"></div>\n",
       "            <script type=\"text/javascript\">\n",
       "                require([\"plotly\"], function(Plotly) {\n",
       "                    window.PLOTLYENV=window.PLOTLYENV || {};\n",
       "                    \n",
       "                if (document.getElementById(\"471ccaca-e9ae-4d74-853e-4045d181a9e5\")) {\n",
       "                    Plotly.newPlot(\n",
       "                        '471ccaca-e9ae-4d74-853e-4045d181a9e5',\n",
       "                        [{\"marker\": {\"cmax\": 4.0, \"cmin\": 5.0, \"color\": [4.6, 4.51, 4.29, 4.2, 4.7], \"colorscale\": [[0.0, \"rgb(103,0,31)\"], [0.1, \"rgb(178,24,43)\"], [0.2, \"rgb(214,96,77)\"], [0.3, \"rgb(244,165,130)\"], [0.4, \"rgb(253,219,199)\"], [0.5, \"rgb(247,247,247)\"], [0.6, \"rgb(209,229,240)\"], [0.7, \"rgb(146,197,222)\"], [0.8, \"rgb(67,147,195)\"], [0.9, \"rgb(33,102,172)\"], [1.0, \"rgb(5,48,97)\"]]}, \"showlegend\": false, \"text\": [4.6, 4.51, 4.29, 4.2, 4.7], \"textposition\": \"auto\", \"type\": \"bar\", \"width\": 0.8, \"x\": [\"\\uad6d\\uc81c\\uae30\\uad6c\", \"\\ubbfc\\uac04\\uae30\\uc5c5\", \"\\uc11c\\uc6b8\\uc2dc\", \"\\uc11c\\uc6b8\\uc2dc \\uc0b0\\ud558\\uae30\\uad00\", \"\\uc911\\uc559\\ubd80\\ucc98/\\uc0b0\\ud558\\uae30\\uad00\"], \"xaxis\": \"x\", \"y\": [4.6, 4.51, 4.29, 4.2, 4.7], \"yaxis\": \"y\"}, {\"marker\": {\"cmax\": 14.5, \"cmin\": -14.5, \"color\": [-13, -9], \"colorscale\": [[0.0, \"rgb(103,0,31)\"], [0.1, \"rgb(178,24,43)\"], [0.2, \"rgb(214,96,77)\"], [0.3, \"rgb(244,165,130)\"], [0.4, \"rgb(253,219,199)\"], [0.5, \"rgb(247,247,247)\"], [0.6, \"rgb(209,229,240)\"], [0.7, \"rgb(146,197,222)\"], [0.8, \"rgb(67,147,195)\"], [0.9, \"rgb(33,102,172)\"], [1.0, \"rgb(5,48,97)\"]]}, \"showlegend\": false, \"text\": [13.0, 9.0], \"textposition\": \"auto\", \"type\": \"bar\", \"x\": [5, 4], \"xaxis\": \"x2\", \"y\": [13, 9], \"yaxis\": \"y2\"}, {\"marker\": {\"cmax\": 14.5, \"cmin\": -14.5, \"color\": [-11, -10, -1], \"colorscale\": [[0.0, \"#440154\"], [0.1111111111111111, \"#482878\"], [0.2222222222222222, \"#3e4989\"], [0.3333333333333333, \"#31688e\"], [0.4444444444444444, \"#26828e\"], [0.5555555555555556, \"#1f9e89\"], [0.6666666666666666, \"#35b779\"], [0.7777777777777778, \"#6ece58\"], [0.8888888888888888, \"#b5de2b\"], [1.0, \"#fde725\"]]}, \"showlegend\": false, \"text\": [11.0, 10.0, 1.0], \"textposition\": \"auto\", \"type\": \"bar\", \"x\": [5, 4, 3], \"xaxis\": \"x3\", \"y\": [11, 10, 1], \"yaxis\": \"y3\"}, {\"marker\": {\"cmax\": 14.5, \"cmin\": -14.5, \"color\": [-10, -7, -5], \"colorscale\": [[0.0, \"rgb(103,0,31)\"], [0.1, \"rgb(178,24,43)\"], [0.2, \"rgb(214,96,77)\"], [0.3, \"rgb(244,165,130)\"], [0.4, \"rgb(253,219,199)\"], [0.5, \"rgb(247,247,247)\"], [0.6, \"rgb(209,229,240)\"], [0.7, \"rgb(146,197,222)\"], [0.8, \"rgb(67,147,195)\"], [0.9, \"rgb(33,102,172)\"], [1.0, \"rgb(5,48,97)\"]]}, \"showlegend\": false, \"text\": [10.0, 7.0, 5.0], \"textposition\": \"auto\", \"type\": \"bar\", \"x\": [5, 4, 3], \"xaxis\": \"x4\", \"y\": [10, 7, 5], \"yaxis\": \"y4\"}, {\"marker\": {\"cmax\": 14.5, \"cmin\": -14.5, \"color\": [-11, -10, -1], \"colorscale\": [[0.0, \"#440154\"], [0.1111111111111111, \"#482878\"], [0.2222222222222222, \"#3e4989\"], [0.3333333333333333, \"#31688e\"], [0.4444444444444444, \"#26828e\"], [0.5555555555555556, \"#1f9e89\"], [0.6666666666666666, \"#35b779\"], [0.7777777777777778, \"#6ece58\"], [0.8888888888888888, \"#b5de2b\"], [1.0, \"#fde725\"]]}, \"showlegend\": false, \"text\": [11.0, 10.0, 1.0], \"textposition\": \"auto\", \"type\": \"bar\", \"x\": [5, 4, 3], \"xaxis\": \"x5\", \"y\": [11, 10, 1], \"yaxis\": \"y5\"}, {\"marker\": {\"cmax\": 14.5, \"cmin\": -14.5, \"color\": [-11, -10, -1], \"colorscale\": [[0.0, \"rgb(103,0,31)\"], [0.1, \"rgb(178,24,43)\"], [0.2, \"rgb(214,96,77)\"], [0.3, \"rgb(244,165,130)\"], [0.4, \"rgb(253,219,199)\"], [0.5, \"rgb(247,247,247)\"], [0.6, \"rgb(209,229,240)\"], [0.7, \"rgb(146,197,222)\"], [0.8, \"rgb(67,147,195)\"], [0.9, \"rgb(33,102,172)\"], [1.0, \"rgb(5,48,97)\"]]}, \"showlegend\": false, \"text\": [11.0, 10.0, 1.0], \"textposition\": \"auto\", \"type\": \"bar\", \"x\": [5, 4, 3], \"xaxis\": \"x6\", \"y\": [11, 10, 1], \"yaxis\": \"y6\"}, {\"cells\": {\"align\": [\"left\", \"center\"], \"font\": {\"color\": \"#000000\", \"size\": 12}, \"values\": [[\"\\ub0b4\\uc6a9 \\uc774\\ud574\\uc5d0 \\ud6a8\\uacfc\\uc801\\uc778 \\uad50\\uc721\\ubc29\\ubc95 \\uc0ac\\uc6a9\", \"\\uc774\\ud574\\ud558\\uae30 \\uc801\\uc808\\ud55c \\uad50\\uc721\\ub0b4\\uc6a9 \\uad6c\\uc131\", \"\\uad50\\uc721\\uc0dd \\uc0c1\\ud669\\uc5d0 \\ub9de\\ub294 \\uad50\\uc721\\ub0b4\\uc6a9 \\uad6c\\uc131\", \"\\uc6b4\\uc601\\uc9c4\\uc758 \\uc6d0\\ud65c\\ud55c \\uad50\\uc721\\uacfc\\uc815 \\uc6b4\\uc601\", \"\\uc6b4\\uc601\\uc9c4\\uc758 \\uc801\\uc808\\ud55c \\uc751\\uae09\\uc0c1\\ud669 \\ub300\\ucc98\", \"\\ud3c9\\uade0\"], [5.0, 4.0, 4.0, 5.0, 5.0, 4.6], [4.71, 4.43, 4.43, 4.43, 4.57, 4.51], [4.43, 4.43, 4.29, 4.14, 4.14, 4.29], [4.33, 4.33, 3.33, 4.67, 4.33, 4.2], [4.75, 4.75, 4.5, 4.75, 4.75, 4.7], [4.59, 4.45, 4.23, 4.45, 4.45, 4.43]]}, \"columnwidth\": [220, 45, 45, 45, 75, 75, 45], \"domain\": {\"x\": [0.0, 1.0], \"y\": [0.0, 0.17875]}, \"header\": {\"align\": \"center\", \"fill\": {\"color\": \"#094688\"}, \"font\": {\"color\": \"#ffffff\", \"size\": 12}, \"height\": 25, \"values\": [\"\\ubb38\\ud56d\", \"\\uad6d\\uc81c\\uae30\\uad6c\", \"\\ubbfc\\uac04\\uae30\\uc5c5\", \"\\uc11c\\uc6b8\\uc2dc\", \"\\uc11c\\uc6b8\\uc2dc \\uc0b0\\ud558\\uae30\\uad00\", \"\\uc911\\uc559\\ubd80\\ucc98/\\uc0b0\\ud558\\uae30\\uad00\", \"\\ud3c9\\uade0\"]}, \"type\": \"table\"}],\n",
       "                        {\"annotations\": [{\"font\": {\"size\": 16}, \"showarrow\": false, \"text\": \"\\uae30\\uad00\\ubcc4 \\ub9cc\\uc871\\ub3c4\", \"x\": 0.225, \"xanchor\": \"center\", \"xref\": \"paper\", \"y\": 1.0, \"yanchor\": \"bottom\", \"yref\": \"paper\"}, {\"font\": {\"size\": 16}, \"showarrow\": false, \"text\": \"\\uad50\\uc721\\ubc29\\ubc95\\uc740 \\ub0b4\\uc6a9\\uc744 \\uc774\\ud574\\ud558\\ub294\\ub370 \\uc801\\ud569\\ud558\\uc600\\ub2e4\", \"x\": 0.775, \"xanchor\": \"center\", \"xref\": \"paper\", \"y\": 1.0, \"yanchor\": \"bottom\", \"yref\": \"paper\"}, {\"font\": {\"size\": 16}, \"showarrow\": false, \"text\": \"\\ub0b4\\uc6a9\\uacfc \\uc218\\uc900\\uc740 \\uc774\\ud574\\ud558\\uae30 \\uc801\\uc808\\ud558\\uc600\\ub2e4\", \"x\": 0.225, \"xanchor\": \"center\", \"xref\": \"paper\", \"y\": 0.72625, \"yanchor\": \"bottom\", \"yref\": \"paper\"}, {\"font\": {\"size\": 16}, \"showarrow\": false, \"text\": \"\\ub0b4\\uc6a9\\uc740 \\uad50\\uc721\\uc0dd \\uc0c1\\ud669\\uc5d0 \\ub9de\\uac8c \\uad6c\\uc131\\ub418\\uc5c8\\ub2e4\", \"x\": 0.775, \"xanchor\": \"center\", \"xref\": \"paper\", \"y\": 0.72625, \"yanchor\": \"bottom\", \"yref\": \"paper\"}, {\"font\": {\"size\": 16}, \"showarrow\": false, \"text\": \"\\uc6b4\\uc601\\uc9c4\\uc740 \\uad50\\uc721\\uacfc\\uc815\\uc744 \\uc6d0\\ud65c\\ud558\\uac8c \\uc6b4\\uc601\\ud558\\uc600\\ub2e4\", \"x\": 0.225, \"xanchor\": \"center\", \"xref\": \"paper\", \"y\": 0.4525, \"yanchor\": \"bottom\", \"yref\": \"paper\"}, {\"font\": {\"size\": 16}, \"showarrow\": false, \"text\": \"<br>\\uc6b4\\uc601\\uc9c4\\uc740 \\uc751\\uae09\\uc0c1\\ud669 \\ub4f1 \\uc0ac\\uac74\\uc0ac\\uace0\\uc5d0 \\ub300\\ud574<br>\\uc801\\uc808\\ud788 \\ub300\\ucc98\\ud558\\uc600\\ub2e4\", \"x\": 0.775, \"xanchor\": \"center\", \"xref\": \"paper\", \"y\": 0.4525, \"yanchor\": \"bottom\", \"yref\": \"paper\"}, {\"font\": {\"size\": 16}, \"showarrow\": false, \"text\": \"\\ubb38\\ud56d\\ubcc4, \\uae30\\uad00\\ubcc4 \\ub9cc\\uc871\\ub3c4 \\ud604\\ud669\", \"x\": 0.5, \"xanchor\": \"center\", \"xref\": \"paper\", \"y\": 0.17875, \"yanchor\": \"bottom\", \"yref\": \"paper\"}], \"font\": {\"size\": 15}, \"height\": 1000, \"margin\": {\"t\": 90}, \"template\": {\"data\": {\"bar\": [{\"error_x\": {\"color\": \"#2a3f5f\"}, \"error_y\": {\"color\": \"#2a3f5f\"}, \"marker\": {\"line\": {\"color\": \"#E5ECF6\", \"width\": 0.5}}, \"type\": \"bar\"}], \"barpolar\": [{\"marker\": {\"line\": {\"color\": \"#E5ECF6\", \"width\": 0.5}}, \"type\": \"barpolar\"}], \"carpet\": [{\"aaxis\": {\"endlinecolor\": \"#2a3f5f\", \"gridcolor\": \"white\", \"linecolor\": \"white\", \"minorgridcolor\": \"white\", \"startlinecolor\": \"#2a3f5f\"}, \"baxis\": {\"endlinecolor\": \"#2a3f5f\", \"gridcolor\": \"white\", \"linecolor\": \"white\", \"minorgridcolor\": \"white\", \"startlinecolor\": \"#2a3f5f\"}, \"type\": \"carpet\"}], \"choropleth\": [{\"colorbar\": {\"outlinewidth\": 0, \"ticks\": \"\"}, \"type\": \"choropleth\"}], \"contour\": [{\"colorbar\": {\"outlinewidth\": 0, \"ticks\": \"\"}, \"colorscale\": [[0.0, \"#0d0887\"], [0.1111111111111111, \"#46039f\"], [0.2222222222222222, \"#7201a8\"], [0.3333333333333333, \"#9c179e\"], [0.4444444444444444, \"#bd3786\"], [0.5555555555555556, \"#d8576b\"], [0.6666666666666666, \"#ed7953\"], [0.7777777777777778, \"#fb9f3a\"], [0.8888888888888888, \"#fdca26\"], [1.0, \"#f0f921\"]], \"type\": \"contour\"}], \"contourcarpet\": [{\"colorbar\": {\"outlinewidth\": 0, \"ticks\": \"\"}, \"type\": \"contourcarpet\"}], \"heatmap\": [{\"colorbar\": {\"outlinewidth\": 0, \"ticks\": \"\"}, \"colorscale\": [[0.0, \"#0d0887\"], [0.1111111111111111, \"#46039f\"], [0.2222222222222222, \"#7201a8\"], [0.3333333333333333, \"#9c179e\"], [0.4444444444444444, \"#bd3786\"], [0.5555555555555556, \"#d8576b\"], [0.6666666666666666, \"#ed7953\"], [0.7777777777777778, \"#fb9f3a\"], [0.8888888888888888, \"#fdca26\"], [1.0, \"#f0f921\"]], \"type\": \"heatmap\"}], \"heatmapgl\": [{\"colorbar\": {\"outlinewidth\": 0, \"ticks\": \"\"}, \"colorscale\": [[0.0, \"#0d0887\"], [0.1111111111111111, \"#46039f\"], [0.2222222222222222, \"#7201a8\"], [0.3333333333333333, \"#9c179e\"], [0.4444444444444444, \"#bd3786\"], [0.5555555555555556, \"#d8576b\"], [0.6666666666666666, \"#ed7953\"], [0.7777777777777778, \"#fb9f3a\"], [0.8888888888888888, \"#fdca26\"], [1.0, \"#f0f921\"]], \"type\": \"heatmapgl\"}], \"histogram\": [{\"marker\": {\"colorbar\": {\"outlinewidth\": 0, \"ticks\": \"\"}}, \"type\": \"histogram\"}], \"histogram2d\": [{\"colorbar\": {\"outlinewidth\": 0, \"ticks\": \"\"}, \"colorscale\": [[0.0, \"#0d0887\"], [0.1111111111111111, \"#46039f\"], [0.2222222222222222, \"#7201a8\"], [0.3333333333333333, \"#9c179e\"], [0.4444444444444444, \"#bd3786\"], [0.5555555555555556, \"#d8576b\"], [0.6666666666666666, \"#ed7953\"], [0.7777777777777778, \"#fb9f3a\"], [0.8888888888888888, \"#fdca26\"], [1.0, \"#f0f921\"]], \"type\": \"histogram2d\"}], \"histogram2dcontour\": [{\"colorbar\": {\"outlinewidth\": 0, \"ticks\": \"\"}, \"colorscale\": [[0.0, \"#0d0887\"], [0.1111111111111111, \"#46039f\"], [0.2222222222222222, \"#7201a8\"], [0.3333333333333333, \"#9c179e\"], [0.4444444444444444, \"#bd3786\"], [0.5555555555555556, \"#d8576b\"], [0.6666666666666666, \"#ed7953\"], [0.7777777777777778, \"#fb9f3a\"], [0.8888888888888888, \"#fdca26\"], [1.0, \"#f0f921\"]], \"type\": \"histogram2dcontour\"}], \"mesh3d\": [{\"colorbar\": {\"outlinewidth\": 0, \"ticks\": \"\"}, \"type\": \"mesh3d\"}], \"parcoords\": [{\"line\": {\"colorbar\": {\"outlinewidth\": 0, \"ticks\": \"\"}}, \"type\": \"parcoords\"}], \"scatter\": [{\"marker\": {\"colorbar\": {\"outlinewidth\": 0, \"ticks\": \"\"}}, \"type\": \"scatter\"}], \"scatter3d\": [{\"line\": {\"colorbar\": {\"outlinewidth\": 0, \"ticks\": \"\"}}, \"marker\": {\"colorbar\": {\"outlinewidth\": 0, \"ticks\": \"\"}}, \"type\": \"scatter3d\"}], \"scattercarpet\": [{\"marker\": {\"colorbar\": {\"outlinewidth\": 0, \"ticks\": \"\"}}, \"type\": \"scattercarpet\"}], \"scattergeo\": [{\"marker\": {\"colorbar\": {\"outlinewidth\": 0, \"ticks\": \"\"}}, \"type\": \"scattergeo\"}], \"scattergl\": [{\"marker\": {\"colorbar\": {\"outlinewidth\": 0, \"ticks\": \"\"}}, \"type\": \"scattergl\"}], \"scattermapbox\": [{\"marker\": {\"colorbar\": {\"outlinewidth\": 0, \"ticks\": \"\"}}, \"type\": \"scattermapbox\"}], \"scatterpolar\": [{\"marker\": {\"colorbar\": {\"outlinewidth\": 0, \"ticks\": \"\"}}, \"type\": \"scatterpolar\"}], \"scatterpolargl\": [{\"marker\": {\"colorbar\": {\"outlinewidth\": 0, \"ticks\": \"\"}}, \"type\": \"scatterpolargl\"}], \"scatterternary\": [{\"marker\": {\"colorbar\": {\"outlinewidth\": 0, \"ticks\": \"\"}}, \"type\": \"scatterternary\"}], \"surface\": [{\"colorbar\": {\"outlinewidth\": 0, \"ticks\": \"\"}, \"colorscale\": [[0.0, \"#0d0887\"], [0.1111111111111111, \"#46039f\"], [0.2222222222222222, \"#7201a8\"], [0.3333333333333333, \"#9c179e\"], [0.4444444444444444, \"#bd3786\"], [0.5555555555555556, \"#d8576b\"], [0.6666666666666666, \"#ed7953\"], [0.7777777777777778, \"#fb9f3a\"], [0.8888888888888888, \"#fdca26\"], [1.0, \"#f0f921\"]], \"type\": \"surface\"}], \"table\": [{\"cells\": {\"fill\": {\"color\": \"#EBF0F8\"}, \"line\": {\"color\": \"white\"}}, \"header\": {\"fill\": {\"color\": \"#C8D4E3\"}, \"line\": {\"color\": \"white\"}}, \"type\": \"table\"}]}, \"layout\": {\"annotationdefaults\": {\"arrowcolor\": \"#2a3f5f\", \"arrowhead\": 0, \"arrowwidth\": 1}, \"colorscale\": {\"diverging\": [[0, \"#8e0152\"], [0.1, \"#c51b7d\"], [0.2, \"#de77ae\"], [0.3, \"#f1b6da\"], [0.4, \"#fde0ef\"], [0.5, \"#f7f7f7\"], [0.6, \"#e6f5d0\"], [0.7, \"#b8e186\"], [0.8, \"#7fbc41\"], [0.9, \"#4d9221\"], [1, \"#276419\"]], \"sequential\": [[0.0, \"#0d0887\"], [0.1111111111111111, \"#46039f\"], [0.2222222222222222, \"#7201a8\"], [0.3333333333333333, \"#9c179e\"], [0.4444444444444444, \"#bd3786\"], [0.5555555555555556, \"#d8576b\"], [0.6666666666666666, \"#ed7953\"], [0.7777777777777778, \"#fb9f3a\"], [0.8888888888888888, \"#fdca26\"], [1.0, \"#f0f921\"]], \"sequentialminus\": [[0.0, \"#0d0887\"], [0.1111111111111111, \"#46039f\"], [0.2222222222222222, \"#7201a8\"], [0.3333333333333333, \"#9c179e\"], [0.4444444444444444, \"#bd3786\"], [0.5555555555555556, \"#d8576b\"], [0.6666666666666666, \"#ed7953\"], [0.7777777777777778, \"#fb9f3a\"], [0.8888888888888888, \"#fdca26\"], [1.0, \"#f0f921\"]]}, \"colorway\": [\"#636efa\", \"#EF553B\", \"#00cc96\", \"#ab63fa\", \"#FFA15A\", \"#19d3f3\", \"#FF6692\", \"#B6E880\", \"#FF97FF\", \"#FECB52\"], \"font\": {\"color\": \"#2a3f5f\"}, \"geo\": {\"bgcolor\": \"white\", \"lakecolor\": \"white\", \"landcolor\": \"#E5ECF6\", \"showlakes\": true, \"showland\": true, \"subunitcolor\": \"white\"}, \"hoverlabel\": {\"align\": \"left\"}, \"hovermode\": \"closest\", \"mapbox\": {\"style\": \"light\"}, \"paper_bgcolor\": \"white\", \"plot_bgcolor\": \"#E5ECF6\", \"polar\": {\"angularaxis\": {\"gridcolor\": \"white\", \"linecolor\": \"white\", \"ticks\": \"\"}, \"bgcolor\": \"#E5ECF6\", \"radialaxis\": {\"gridcolor\": \"white\", \"linecolor\": \"white\", \"ticks\": \"\"}}, \"scene\": {\"xaxis\": {\"backgroundcolor\": \"#E5ECF6\", \"gridcolor\": \"white\", \"gridwidth\": 2, \"linecolor\": \"white\", \"showbackground\": true, \"ticks\": \"\", \"zerolinecolor\": \"white\"}, \"yaxis\": {\"backgroundcolor\": \"#E5ECF6\", \"gridcolor\": \"white\", \"gridwidth\": 2, \"linecolor\": \"white\", \"showbackground\": true, \"ticks\": \"\", \"zerolinecolor\": \"white\"}, \"zaxis\": {\"backgroundcolor\": \"#E5ECF6\", \"gridcolor\": \"white\", \"gridwidth\": 2, \"linecolor\": \"white\", \"showbackground\": true, \"ticks\": \"\", \"zerolinecolor\": \"white\"}}, \"shapedefaults\": {\"line\": {\"color\": \"#2a3f5f\"}}, \"ternary\": {\"aaxis\": {\"gridcolor\": \"white\", \"linecolor\": \"white\", \"ticks\": \"\"}, \"baxis\": {\"gridcolor\": \"white\", \"linecolor\": \"white\", \"ticks\": \"\"}, \"bgcolor\": \"#E5ECF6\", \"caxis\": {\"gridcolor\": \"white\", \"linecolor\": \"white\", \"ticks\": \"\"}}, \"title\": {\"x\": 0.05}, \"xaxis\": {\"automargin\": true, \"gridcolor\": \"white\", \"linecolor\": \"white\", \"ticks\": \"\", \"zerolinecolor\": \"white\", \"zerolinewidth\": 2}, \"yaxis\": {\"automargin\": true, \"gridcolor\": \"white\", \"linecolor\": \"white\", \"ticks\": \"\", \"zerolinecolor\": \"white\", \"zerolinewidth\": 2}}}, \"title\": {\"text\": \"\\ub9cc\\uc871\\ub3c4 \\ubb38\\ud56d \\uc751\\ub2f5 \\ud604\\ud669\", \"x\": 0.5, \"y\": 0.97}, \"width\": 1000, \"xaxis\": {\"anchor\": \"y\", \"domain\": [0.0, 0.45], \"tickfont\": {\"size\": 8.7}, \"tickwidth\": 10}, \"xaxis2\": {\"anchor\": \"y2\", \"domain\": [0.55, 1.0], \"range\": [2.5, 5.5]}, \"xaxis3\": {\"anchor\": \"y3\", \"domain\": [0.0, 0.45]}, \"xaxis4\": {\"anchor\": \"y4\", \"domain\": [0.55, 1.0]}, \"xaxis5\": {\"anchor\": \"y5\", \"domain\": [0.0, 0.45], \"range\": [2.5, 5.5], \"title\": {\"font\": {\"size\": 13}, \"text\": \"<b>\\ub9cc\\uc871\\ub3c4</b>\"}}, \"xaxis6\": {\"anchor\": \"y6\", \"domain\": [0.55, 1.0], \"range\": [2.5, 5.5], \"title\": {\"font\": {\"size\": 13}, \"text\": \"<b>\\ub9cc\\uc871\\ub3c4</b>\"}}, \"yaxis\": {\"anchor\": \"x\", \"domain\": [0.82125, 1.0], \"range\": [0, 5.5], \"tickfont\": {\"size\": 15}, \"title\": {\"font\": {\"size\": 13}, \"text\": \"<b>\\ud3c9\\uade0</b>\"}}, \"yaxis2\": {\"anchor\": \"x2\", \"domain\": [0.82125, 1.0], \"range\": [0, 13.5], \"tickfont\": {\"size\": 15}, \"title\": {\"font\": {\"size\": 13}, \"text\": \"<b>\\uc751\\ub2f5\\uc790\\uc218</b>\"}}, \"yaxis3\": {\"anchor\": \"x3\", \"domain\": [0.5475, 0.72625], \"range\": [0, 13.5], \"title\": {\"font\": {\"size\": 13}, \"text\": \"<b>\\uc751\\ub2f5\\uc790\\uc218</b>\"}}, \"yaxis4\": {\"anchor\": \"x4\", \"domain\": [0.5475, 0.72625]}, \"yaxis5\": {\"anchor\": \"x5\", \"domain\": [0.27375, 0.4525], \"range\": [0, 13.5], \"title\": {\"font\": {\"size\": 13}, \"text\": \"<b>\\uc751\\ub2f5\\uc790\\uc218</b>\"}}, \"yaxis6\": {\"anchor\": \"x6\", \"domain\": [0.27375, 0.4525]}},\n",
       "                        {\"responsive\": true}\n",
       "                    ).then(function(){\n",
       "                            \n",
       "var gd = document.getElementById('471ccaca-e9ae-4d74-853e-4045d181a9e5');\n",
       "var x = new MutationObserver(function (mutations, observer) {{\n",
       "        var display = window.getComputedStyle(gd).display;\n",
       "        if (!display || display === 'none') {{\n",
       "            console.log([gd, 'removed!']);\n",
       "            Plotly.purge(gd);\n",
       "            observer.disconnect();\n",
       "        }}\n",
       "}});\n",
       "\n",
       "// Listen for the removal of the full notebook cells\n",
       "var notebookContainer = gd.closest('#notebook-container');\n",
       "if (notebookContainer) {{\n",
       "    x.observe(notebookContainer, {childList: true});\n",
       "}}\n",
       "\n",
       "// Listen for the clearing of the current output cell\n",
       "var outputEl = gd.closest('.output');\n",
       "if (outputEl) {{\n",
       "    x.observe(outputEl, {childList: true});\n",
       "}}\n",
       "\n",
       "                        })\n",
       "                };\n",
       "                });\n",
       "            </script>\n",
       "        </div>"
      ]
     },
     "metadata": {},
     "output_type": "display_data"
    }
   ],
   "source": [
    "fig = make_subplots(\n",
    "    rows=4, cols=2, vertical_spacing=0.095,\n",
    "    specs=[[{},{}],[{},{}],[{},{}],[{\"colspan\": 2, \"type\": \"table\"}, None]],\n",
    "    subplot_titles=(\"기관별 만족도\",\n",
    "    \"교육방법은 내용을 이해하는데 적합하였다\", \"내용과 수준은 이해하기 적절하였다\",\n",
    "    \"내용은 교육생 상황에 맞게 구성되었다\", \n",
    "    \"운영진은 교육과정을 원활하게 운영하였다\", \n",
    "    \"<br>운영진은 응급상황 등 사건사고에 대해<br>적절히 대처하였다\", \n",
    "    \"문항별, 기관별 만족도 현황\"))\n",
    "\n",
    "fig.add_trace(go.Bar(showlegend=False, width= 0.8,\n",
    "    x = cs_mean.drop(index=5, columns='평균').mean().round(2).index,\n",
    "    y = cs_mean.drop(index=5, columns='평균').mean().round(2),\n",
    "    text = cs_mean.drop(index=5, columns='평균').mean().round(2),\n",
    "    textposition = 'auto',\n",
    "    marker=dict(color=cs_mean.drop(index=5, columns='평균').mean().round(2),\n",
    "                cmax=4.0, cmin=5.0, colorscale='RdBu'),\n",
    "    ),row=1, col=1)\n",
    "\n",
    "fig.add_trace(go.Bar(showlegend=False,\n",
    "    x = post['교육과정의 교육방법(강의, 실습/토의, 현장학습 등)은 교육내용을 이해하는데 적합하였다.'].value_counts().index,\n",
    "    y = post['교육과정의 교육방법(강의, 실습/토의, 현장학습 등)은 교육내용을 이해하는데 적합하였다.'].value_counts(),\n",
    "    text = post['교육과정의 교육방법(강의, 실습/토의, 현장학습 등)은 교육내용을 이해하는데 적합하였다.'].value_counts(),    \n",
    "    textposition = 'auto',\n",
    "    marker=dict(color=-post['교육과정의 교육방법(강의, 실습/토의, 현장학습 등)은 교육내용을 이해하는데 적합하였다.'\n",
    "    ].value_counts(), cmax=14.5, cmin=-14.5, colorscale='RdBu')\n",
    "    ), row=1, col=2)\n",
    "\n",
    "fig.add_trace(go.Bar(showlegend=False,\n",
    "    x = post['교육과정의 내용과 수준은 이해하기 적절하였다.'].value_counts().index,\n",
    "    y = post['교육과정의 내용과 수준은 이해하기 적절하였다.'].value_counts(),\n",
    "    text = post['교육과정의 내용과 수준은 이해하기 적절하였다.'].value_counts(),\n",
    "    textposition = 'auto',\n",
    "    marker=dict(color=-post['교육과정의 내용과 수준은 이해하기 적절하였다.'\n",
    "    ].value_counts(),cmax=14.5, cmin=-14.5, colorscale='Viridis')\n",
    "    ),row=2, col=1)\n",
    "\n",
    "fig.add_trace(go.Bar(showlegend=False,\n",
    "    x = post['교육과정의 내용은 교육생 상황에 맞게 구성되었다.'].value_counts().index,\n",
    "    y = post['교육과정의 내용은 교육생 상황에 맞게 구성되었다.'].value_counts(),\n",
    "    text = post['교육과정의 내용은 교육생 상황에 맞게 구성되었다.'].value_counts(),\n",
    "    textposition = 'auto',\n",
    "    marker=dict(color=-post['교육과정의 내용은 교육생 상황에 맞게 구성되었다.'\n",
    "    ].value_counts(),cmax=14.5, cmin=-14.5, colorscale='RdBu')\n",
    "    ),row=2, col=2)\n",
    "\n",
    "fig.add_trace(go.Bar(showlegend=False,\n",
    "    x = post['교육운영진은 교육과정을 원활하게 운영하였다. (일정관리, 강의준비, 교육생 지원 등)'].value_counts().index,\n",
    "    y = post['교육운영진은 교육과정을 원활하게 운영하였다. (일정관리, 강의준비, 교육생 지원 등)'].value_counts(),\n",
    "    text = post['교육운영진은 교육과정을 원활하게 운영하였다. (일정관리, 강의준비, 교육생 지원 등)'].value_counts(),\n",
    "    textposition = 'auto',\n",
    "    marker=dict(color=-post['교육운영진은 교육과정을 원활하게 운영하였다. (일정관리, 강의준비, 교육생 지원 등)'\n",
    "    ].value_counts(),cmax=14.5, cmin=-14.5, colorscale='Viridis')\n",
    "    ),row=3, col=1)\n",
    "\n",
    "fig.add_trace(go.Bar(showlegend=False, \n",
    "    x = post['교육운영진은 응급상황 등 사건사고에 대해 적절히 대처하였다.'].value_counts().index,\n",
    "    y = post['교육운영진은 응급상황 등 사건사고에 대해 적절히 대처하였다.'].value_counts(),\n",
    "    text = post['교육운영진은 응급상황 등 사건사고에 대해 적절히 대처하였다.'].value_counts(),\n",
    "    textposition = 'auto',\n",
    "    marker=dict(color=-post['교육운영진은 응급상황 등 사건사고에 대해 적절히 대처하였다.'\n",
    "    ].value_counts(), cmax=14.5, cmin=-14.5, colorscale='RdBu')\n",
    "    ),row=3, col=2)\n",
    "\n",
    "\n",
    "fig.add_trace(go.Table(\n",
    "    columnwidth = [220,45,45,45,75,75,45], #columnorder = [1,2],\n",
    "    header=dict(height=25, \n",
    "        values=list(cs_mean.columns), fill_color='#094688',\n",
    "        font=dict(size=12, color='#ffffff'), align='center'),\n",
    "    cells=dict(\n",
    "        values=[cs_mean[k].tolist() for k in cs_mean.columns[:]],\n",
    "        font=dict(size=12, color='#000000'), align=['left', 'center'])),\n",
    "    row=4, col=1)\n",
    "\n",
    "fig.update_xaxes(title=dict(text='<b>만족도</b>', font_size=13),range=[2.5,5.5],row=3)\n",
    "fig.update_yaxes(title=dict(text='<b>응답자수</b>', font_size=13),range=[0,13.5], col=1)\n",
    "\n",
    "fig.update_layout(title=dict(text ='만족도 문항 응답 현황',x=0.5, y=0.97),\n",
    "                  margin = dict(t=90), font_size = 15, width=1000, height=1000,\n",
    "                  xaxis=dict(#title=dict(text='기관', font_size=13),\n",
    "                             tickfont_size=8.7, tickwidth=10),\n",
    "                  yaxis=dict(title=dict(text='<b>평균</b>', font_size=13),range=[0,5.5],\n",
    "                             tickfont_size=15),\n",
    "                  xaxis2=dict(range=[2.5,5.5]),\n",
    "                  yaxis2=dict(title=dict(text='<b>응답자수</b>', font_size=13),range=[0,13.5],\n",
    "                             tickfont_size=15),\n",
    "                  )"
   ]
  },
  {
   "cell_type": "markdown",
   "metadata": {
    "colab_type": "text",
    "id": "Qsmk1DJQ56l7"
   },
   "source": []
  },
  {
   "cell_type": "markdown",
   "metadata": {
    "colab_type": "text",
    "id": "GVkZsGUJXD74"
   },
   "source": [
    "## 정책자문사례발표 문항 분석"
   ]
  },
  {
   "cell_type": "code",
   "execution_count": 220,
   "metadata": {
    "colab": {},
    "colab_type": "code",
    "id": "SQYKiNIEXD75"
   },
   "outputs": [],
   "source": [
    "pcs_mean = post.pivot_table(\n",
    "    values=['정책자문사례발표의 주제는 교육과정 목표와 연계되어 있었다.',\n",
    "            '정책자문사례발표의 세션시간은 충분하였다.', \n",
    "            '정책자문사례발표 자료 작성 및 발표를 위한 안내가 충분히 이루어졌다.',\n",
    "            '정책자문사례발표의 세션 담당자는 피드백을 충분히 제공하였다.',\n",
    "            '정책자문사례발표 세션은 연수내용을 이해하는데 도움이 되었다.', \n",
    "            '정책자문사례발표는 현장에서 실무능력을 향상시키는데 도움이 되었다.'],\n",
    "            index=['기관'],aggfunc='mean',margins=True,\n",
    "            margins_name=\"평균\").round(2).rename(\n",
    "            columns={\n",
    "            '정책자문사례발표의 주제는 교육과정 목표와 연계되어 있었다.':'주제와 교육과정 목표와의 연계',\n",
    "            '정책자문사례발표의 세션시간은 충분하였다.':'충분한 세션시간', \n",
    "            '정책자문사례발표 자료 작성 및 발표를 위한 안내가 충분히 이루어졌다.':'자료작성·발표를 위한 충분한 안내',\n",
    "            '정책자문사례발표의 세션 담당자는 피드백을 충분히 제공하였다.':'세션 담당자의 충분한 피드백 제공',\n",
    "            '정책자문사례발표 세션은 연수내용을 이해하는데 도움이 되었다.':'연수내용 이해에 기여', \n",
    "            '정책자문사례발표는 현장에서 실무능력을 향상시키는데 도움이 되었다.':'현장실무능력 향상에 기여'\n",
    "            })"
   ]
  },
  {
   "cell_type": "code",
   "execution_count": 221,
   "metadata": {
    "colab": {
     "base_uri": "https://localhost:8080/",
     "height": 280
    },
    "colab_type": "code",
    "id": "vBxAEOT2XD78",
    "outputId": "79480ccb-d119-43e3-c3ec-502fdaadf6da"
   },
   "outputs": [
    {
     "data": {
      "text/html": [
       "<div>\n",
       "<style scoped>\n",
       "    .dataframe tbody tr th:only-of-type {\n",
       "        vertical-align: middle;\n",
       "    }\n",
       "\n",
       "    .dataframe tbody tr th {\n",
       "        vertical-align: top;\n",
       "    }\n",
       "\n",
       "    .dataframe thead th {\n",
       "        text-align: right;\n",
       "    }\n",
       "</style>\n",
       "<table border=\"1\" class=\"dataframe\">\n",
       "  <thead>\n",
       "    <tr style=\"text-align: right;\">\n",
       "      <th>기관</th>\n",
       "      <th>문항</th>\n",
       "      <th>국제기구</th>\n",
       "      <th>민간기업</th>\n",
       "      <th>서울시</th>\n",
       "      <th>서울시 산하기관</th>\n",
       "      <th>중앙부처/산하기관</th>\n",
       "      <th>평균</th>\n",
       "    </tr>\n",
       "  </thead>\n",
       "  <tbody>\n",
       "    <tr>\n",
       "      <td>0</td>\n",
       "      <td>연수내용 이해에 기여</td>\n",
       "      <td>5.0</td>\n",
       "      <td>4.57</td>\n",
       "      <td>4.29</td>\n",
       "      <td>4.33</td>\n",
       "      <td>4.75</td>\n",
       "      <td>4.50</td>\n",
       "    </tr>\n",
       "    <tr>\n",
       "      <td>1</td>\n",
       "      <td>자료작성·발표를 위한 충분한 안내</td>\n",
       "      <td>5.0</td>\n",
       "      <td>4.29</td>\n",
       "      <td>4.29</td>\n",
       "      <td>4.33</td>\n",
       "      <td>4.50</td>\n",
       "      <td>4.36</td>\n",
       "    </tr>\n",
       "    <tr>\n",
       "      <td>2</td>\n",
       "      <td>현장실무능력 향상에 기여</td>\n",
       "      <td>5.0</td>\n",
       "      <td>4.57</td>\n",
       "      <td>4.14</td>\n",
       "      <td>4.33</td>\n",
       "      <td>4.75</td>\n",
       "      <td>4.45</td>\n",
       "    </tr>\n",
       "    <tr>\n",
       "      <td>3</td>\n",
       "      <td>세션 담당자의 충분한 피드백 제공</td>\n",
       "      <td>5.0</td>\n",
       "      <td>4.43</td>\n",
       "      <td>4.14</td>\n",
       "      <td>4.33</td>\n",
       "      <td>4.75</td>\n",
       "      <td>4.41</td>\n",
       "    </tr>\n",
       "    <tr>\n",
       "      <td>4</td>\n",
       "      <td>충분한 세션시간</td>\n",
       "      <td>5.0</td>\n",
       "      <td>4.43</td>\n",
       "      <td>4.29</td>\n",
       "      <td>4.00</td>\n",
       "      <td>4.50</td>\n",
       "      <td>4.36</td>\n",
       "    </tr>\n",
       "    <tr>\n",
       "      <td>5</td>\n",
       "      <td>주제와 교육과정 목표와의 연계</td>\n",
       "      <td>5.0</td>\n",
       "      <td>4.71</td>\n",
       "      <td>4.29</td>\n",
       "      <td>4.33</td>\n",
       "      <td>4.50</td>\n",
       "      <td>4.50</td>\n",
       "    </tr>\n",
       "    <tr>\n",
       "      <td>6</td>\n",
       "      <td>평균</td>\n",
       "      <td>5.0</td>\n",
       "      <td>4.50</td>\n",
       "      <td>4.24</td>\n",
       "      <td>4.27</td>\n",
       "      <td>4.62</td>\n",
       "      <td>4.43</td>\n",
       "    </tr>\n",
       "  </tbody>\n",
       "</table>\n",
       "</div>"
      ],
      "text/plain": [
       "기관                  문항  국제기구  민간기업   서울시  서울시 산하기관  중앙부처/산하기관    평균\n",
       "0          연수내용 이해에 기여   5.0  4.57  4.29      4.33       4.75  4.50\n",
       "1   자료작성·발표를 위한 충분한 안내   5.0  4.29  4.29      4.33       4.50  4.36\n",
       "2        현장실무능력 향상에 기여   5.0  4.57  4.14      4.33       4.75  4.45\n",
       "3   세션 담당자의 충분한 피드백 제공   5.0  4.43  4.14      4.33       4.75  4.41\n",
       "4             충분한 세션시간   5.0  4.43  4.29      4.00       4.50  4.36\n",
       "5     주제와 교육과정 목표와의 연계   5.0  4.71  4.29      4.33       4.50  4.50\n",
       "6                   평균   5.0  4.50  4.24      4.27       4.62  4.43"
      ]
     },
     "execution_count": 221,
     "metadata": {},
     "output_type": "execute_result"
    }
   ],
   "source": [
    "pcs_mean[\"평균\"] = pcs_mean.mean(axis=1).round(2)\n",
    "pcs_mean = pcs_mean.T.reset_index().rename(columns={\"index\":\"문항\"})\n",
    "pcs_mean"
   ]
  },
  {
   "cell_type": "code",
   "execution_count": 222,
   "metadata": {},
   "outputs": [
    {
     "data": {
      "text/html": [
       "<div>\n",
       "<style scoped>\n",
       "    .dataframe tbody tr th:only-of-type {\n",
       "        vertical-align: middle;\n",
       "    }\n",
       "\n",
       "    .dataframe tbody tr th {\n",
       "        vertical-align: top;\n",
       "    }\n",
       "\n",
       "    .dataframe thead th {\n",
       "        text-align: right;\n",
       "    }\n",
       "</style>\n",
       "<table border=\"1\" class=\"dataframe\">\n",
       "  <thead>\n",
       "    <tr style=\"text-align: right;\">\n",
       "      <th>기관</th>\n",
       "      <th>문항</th>\n",
       "      <th>평균</th>\n",
       "    </tr>\n",
       "  </thead>\n",
       "  <tbody>\n",
       "    <tr>\n",
       "      <td>1</td>\n",
       "      <td>자료작성·발표를 위한 충분한 안내</td>\n",
       "      <td>4.36</td>\n",
       "    </tr>\n",
       "    <tr>\n",
       "      <td>4</td>\n",
       "      <td>충분한 세션시간</td>\n",
       "      <td>4.36</td>\n",
       "    </tr>\n",
       "    <tr>\n",
       "      <td>3</td>\n",
       "      <td>세션 담당자의 충분한 피드백 제공</td>\n",
       "      <td>4.41</td>\n",
       "    </tr>\n",
       "    <tr>\n",
       "      <td>2</td>\n",
       "      <td>현장실무능력 향상에 기여</td>\n",
       "      <td>4.45</td>\n",
       "    </tr>\n",
       "    <tr>\n",
       "      <td>0</td>\n",
       "      <td>연수내용 이해에 기여</td>\n",
       "      <td>4.50</td>\n",
       "    </tr>\n",
       "    <tr>\n",
       "      <td>5</td>\n",
       "      <td>주제와 교육과정 목표와의 연계</td>\n",
       "      <td>4.50</td>\n",
       "    </tr>\n",
       "  </tbody>\n",
       "</table>\n",
       "</div>"
      ],
      "text/plain": [
       "기관                  문항    평균\n",
       "1   자료작성·발표를 위한 충분한 안내  4.36\n",
       "4             충분한 세션시간  4.36\n",
       "3   세션 담당자의 충분한 피드백 제공  4.41\n",
       "2        현장실무능력 향상에 기여  4.45\n",
       "0          연수내용 이해에 기여  4.50\n",
       "5     주제와 교육과정 목표와의 연계  4.50"
      ]
     },
     "execution_count": 222,
     "metadata": {},
     "output_type": "execute_result"
    }
   ],
   "source": [
    "pcs_mean_qmean = pcs_mean.drop(index=6, columns=pcs_mean.columns[1:6]).sort_values('평균')\n",
    "pcs_mean_qmean"
   ]
  },
  {
   "cell_type": "code",
   "execution_count": 224,
   "metadata": {},
   "outputs": [
    {
     "data": {
      "text/html": [
       "<div>\n",
       "<style scoped>\n",
       "    .dataframe tbody tr th:only-of-type {\n",
       "        vertical-align: middle;\n",
       "    }\n",
       "\n",
       "    .dataframe tbody tr th {\n",
       "        vertical-align: top;\n",
       "    }\n",
       "\n",
       "    .dataframe thead th {\n",
       "        text-align: right;\n",
       "    }\n",
       "</style>\n",
       "<table border=\"1\" class=\"dataframe\">\n",
       "  <thead>\n",
       "    <tr style=\"text-align: right;\">\n",
       "      <th>문항</th>\n",
       "      <th>평균</th>\n",
       "    </tr>\n",
       "    <tr>\n",
       "      <th>기관</th>\n",
       "      <th></th>\n",
       "    </tr>\n",
       "  </thead>\n",
       "  <tbody>\n",
       "    <tr>\n",
       "      <td>서울시</td>\n",
       "      <td>4.24</td>\n",
       "    </tr>\n",
       "    <tr>\n",
       "      <td>서울시 산하기관</td>\n",
       "      <td>4.27</td>\n",
       "    </tr>\n",
       "    <tr>\n",
       "      <td>민간기업</td>\n",
       "      <td>4.50</td>\n",
       "    </tr>\n",
       "    <tr>\n",
       "      <td>중앙부처/산하기관</td>\n",
       "      <td>4.62</td>\n",
       "    </tr>\n",
       "    <tr>\n",
       "      <td>국제기구</td>\n",
       "      <td>5.00</td>\n",
       "    </tr>\n",
       "  </tbody>\n",
       "</table>\n",
       "</div>"
      ],
      "text/plain": [
       "문항           평균\n",
       "기관             \n",
       "서울시        4.24\n",
       "서울시 산하기관   4.27\n",
       "민간기업       4.50\n",
       "중앙부처/산하기관  4.62\n",
       "국제기구       5.00"
      ]
     },
     "execution_count": 224,
     "metadata": {},
     "output_type": "execute_result"
    }
   ],
   "source": [
    "pcs_mean_orgmean = \\\n",
    "pcs_mean.drop(index=pcs_mean.index[:6], columns='평균'\n",
    "            ).set_index('문항').T.sort_values('평균')\n",
    "pcs_mean_orgmean"
   ]
  },
  {
   "cell_type": "markdown",
   "metadata": {},
   "source": [
    "### 정책자문사례발표 만족도 응답 현황 1"
   ]
  },
  {
   "cell_type": "code",
   "execution_count": 225,
   "metadata": {
    "colab": {
     "base_uri": "https://localhost:8080/",
     "height": 1000
    },
    "colab_type": "code",
    "id": "TwSu8pCyPCuN",
    "outputId": "2ea73f5d-0d75-489f-c47c-45ef58dfad38"
   },
   "outputs": [
    {
     "data": {
      "application/vnd.plotly.v1+json": {
       "config": {
        "plotlyServerURL": "https://plot.ly"
       },
       "data": [
        {
         "marker": {
          "cmax": 5.3,
          "cmin": 4.3,
          "color": [
           4.24,
           4.27,
           4.5,
           4.62,
           5
          ],
          "colorscale": [
           [
            0,
            "rgb(103,0,31)"
           ],
           [
            0.1,
            "rgb(178,24,43)"
           ],
           [
            0.2,
            "rgb(214,96,77)"
           ],
           [
            0.3,
            "rgb(244,165,130)"
           ],
           [
            0.4,
            "rgb(253,219,199)"
           ],
           [
            0.5,
            "rgb(247,247,247)"
           ],
           [
            0.6,
            "rgb(209,229,240)"
           ],
           [
            0.7,
            "rgb(146,197,222)"
           ],
           [
            0.8,
            "rgb(67,147,195)"
           ],
           [
            0.9,
            "rgb(33,102,172)"
           ],
           [
            1,
            "rgb(5,48,97)"
           ]
          ]
         },
         "orientation": "h",
         "showlegend": false,
         "text": [
          4.24,
          4.27,
          4.5,
          4.62,
          5
         ],
         "textposition": "auto",
         "type": "bar",
         "width": 0.8,
         "x": [
          4.24,
          4.27,
          4.5,
          4.62,
          5
         ],
         "xaxis": "x",
         "y": [
          "서울시",
          "서울시 산하기관",
          "민간기업",
          "중앙부처/산하기관",
          "국제기구"
         ],
         "yaxis": "y"
        },
        {
         "marker": {
          "cmax": 5.3,
          "cmin": 4.3,
          "color": [
           4.36,
           4.36,
           4.41,
           4.45,
           4.5,
           4.5
          ],
          "colorscale": [
           [
            0,
            "rgb(103,0,31)"
           ],
           [
            0.1,
            "rgb(178,24,43)"
           ],
           [
            0.2,
            "rgb(214,96,77)"
           ],
           [
            0.3,
            "rgb(244,165,130)"
           ],
           [
            0.4,
            "rgb(253,219,199)"
           ],
           [
            0.5,
            "rgb(247,247,247)"
           ],
           [
            0.6,
            "rgb(209,229,240)"
           ],
           [
            0.7,
            "rgb(146,197,222)"
           ],
           [
            0.8,
            "rgb(67,147,195)"
           ],
           [
            0.9,
            "rgb(33,102,172)"
           ],
           [
            1,
            "rgb(5,48,97)"
           ]
          ]
         },
         "orientation": "h",
         "showlegend": false,
         "text": [
          4.36,
          4.36,
          4.41,
          4.45,
          4.5,
          4.5
         ],
         "textposition": "auto",
         "type": "bar",
         "width": 0.8,
         "x": [
          4.36,
          4.36,
          4.41,
          4.45,
          4.5,
          4.5
         ],
         "xaxis": "x2",
         "y": [
          "자료작성·발표를 위한 충분한 안내",
          "충분한 세션시간",
          "세션 담당자의 충분한 피드백 제공",
          "현장실무능력 향상에 기여",
          "연수내용 이해에 기여",
          "주제와 교육과정 목표와의 연계"
         ],
         "yaxis": "y2"
        }
       ],
       "layout": {
        "annotations": [
         {
          "font": {
           "size": 16
          },
          "showarrow": false,
          "text": "기관별 만족도 평균",
          "x": 0.5,
          "xanchor": "center",
          "xref": "paper",
          "y": 1,
          "yanchor": "bottom",
          "yref": "paper"
         },
         {
          "font": {
           "size": 16
          },
          "showarrow": false,
          "text": "문항별 만족도 평균",
          "x": 0.5,
          "xanchor": "center",
          "xref": "paper",
          "y": 0.4565,
          "yanchor": "bottom",
          "yref": "paper"
         }
        ],
        "font": {
         "size": 15
        },
        "height": 800,
        "margin": {
         "t": 120
        },
        "template": {
         "data": {
          "bar": [
           {
            "error_x": {
             "color": "#2a3f5f"
            },
            "error_y": {
             "color": "#2a3f5f"
            },
            "marker": {
             "line": {
              "color": "#E5ECF6",
              "width": 0.5
             }
            },
            "type": "bar"
           }
          ],
          "barpolar": [
           {
            "marker": {
             "line": {
              "color": "#E5ECF6",
              "width": 0.5
             }
            },
            "type": "barpolar"
           }
          ],
          "carpet": [
           {
            "aaxis": {
             "endlinecolor": "#2a3f5f",
             "gridcolor": "white",
             "linecolor": "white",
             "minorgridcolor": "white",
             "startlinecolor": "#2a3f5f"
            },
            "baxis": {
             "endlinecolor": "#2a3f5f",
             "gridcolor": "white",
             "linecolor": "white",
             "minorgridcolor": "white",
             "startlinecolor": "#2a3f5f"
            },
            "type": "carpet"
           }
          ],
          "choropleth": [
           {
            "colorbar": {
             "outlinewidth": 0,
             "ticks": ""
            },
            "type": "choropleth"
           }
          ],
          "contour": [
           {
            "colorbar": {
             "outlinewidth": 0,
             "ticks": ""
            },
            "colorscale": [
             [
              0,
              "#0d0887"
             ],
             [
              0.1111111111111111,
              "#46039f"
             ],
             [
              0.2222222222222222,
              "#7201a8"
             ],
             [
              0.3333333333333333,
              "#9c179e"
             ],
             [
              0.4444444444444444,
              "#bd3786"
             ],
             [
              0.5555555555555556,
              "#d8576b"
             ],
             [
              0.6666666666666666,
              "#ed7953"
             ],
             [
              0.7777777777777778,
              "#fb9f3a"
             ],
             [
              0.8888888888888888,
              "#fdca26"
             ],
             [
              1,
              "#f0f921"
             ]
            ],
            "type": "contour"
           }
          ],
          "contourcarpet": [
           {
            "colorbar": {
             "outlinewidth": 0,
             "ticks": ""
            },
            "type": "contourcarpet"
           }
          ],
          "heatmap": [
           {
            "colorbar": {
             "outlinewidth": 0,
             "ticks": ""
            },
            "colorscale": [
             [
              0,
              "#0d0887"
             ],
             [
              0.1111111111111111,
              "#46039f"
             ],
             [
              0.2222222222222222,
              "#7201a8"
             ],
             [
              0.3333333333333333,
              "#9c179e"
             ],
             [
              0.4444444444444444,
              "#bd3786"
             ],
             [
              0.5555555555555556,
              "#d8576b"
             ],
             [
              0.6666666666666666,
              "#ed7953"
             ],
             [
              0.7777777777777778,
              "#fb9f3a"
             ],
             [
              0.8888888888888888,
              "#fdca26"
             ],
             [
              1,
              "#f0f921"
             ]
            ],
            "type": "heatmap"
           }
          ],
          "heatmapgl": [
           {
            "colorbar": {
             "outlinewidth": 0,
             "ticks": ""
            },
            "colorscale": [
             [
              0,
              "#0d0887"
             ],
             [
              0.1111111111111111,
              "#46039f"
             ],
             [
              0.2222222222222222,
              "#7201a8"
             ],
             [
              0.3333333333333333,
              "#9c179e"
             ],
             [
              0.4444444444444444,
              "#bd3786"
             ],
             [
              0.5555555555555556,
              "#d8576b"
             ],
             [
              0.6666666666666666,
              "#ed7953"
             ],
             [
              0.7777777777777778,
              "#fb9f3a"
             ],
             [
              0.8888888888888888,
              "#fdca26"
             ],
             [
              1,
              "#f0f921"
             ]
            ],
            "type": "heatmapgl"
           }
          ],
          "histogram": [
           {
            "marker": {
             "colorbar": {
              "outlinewidth": 0,
              "ticks": ""
             }
            },
            "type": "histogram"
           }
          ],
          "histogram2d": [
           {
            "colorbar": {
             "outlinewidth": 0,
             "ticks": ""
            },
            "colorscale": [
             [
              0,
              "#0d0887"
             ],
             [
              0.1111111111111111,
              "#46039f"
             ],
             [
              0.2222222222222222,
              "#7201a8"
             ],
             [
              0.3333333333333333,
              "#9c179e"
             ],
             [
              0.4444444444444444,
              "#bd3786"
             ],
             [
              0.5555555555555556,
              "#d8576b"
             ],
             [
              0.6666666666666666,
              "#ed7953"
             ],
             [
              0.7777777777777778,
              "#fb9f3a"
             ],
             [
              0.8888888888888888,
              "#fdca26"
             ],
             [
              1,
              "#f0f921"
             ]
            ],
            "type": "histogram2d"
           }
          ],
          "histogram2dcontour": [
           {
            "colorbar": {
             "outlinewidth": 0,
             "ticks": ""
            },
            "colorscale": [
             [
              0,
              "#0d0887"
             ],
             [
              0.1111111111111111,
              "#46039f"
             ],
             [
              0.2222222222222222,
              "#7201a8"
             ],
             [
              0.3333333333333333,
              "#9c179e"
             ],
             [
              0.4444444444444444,
              "#bd3786"
             ],
             [
              0.5555555555555556,
              "#d8576b"
             ],
             [
              0.6666666666666666,
              "#ed7953"
             ],
             [
              0.7777777777777778,
              "#fb9f3a"
             ],
             [
              0.8888888888888888,
              "#fdca26"
             ],
             [
              1,
              "#f0f921"
             ]
            ],
            "type": "histogram2dcontour"
           }
          ],
          "mesh3d": [
           {
            "colorbar": {
             "outlinewidth": 0,
             "ticks": ""
            },
            "type": "mesh3d"
           }
          ],
          "parcoords": [
           {
            "line": {
             "colorbar": {
              "outlinewidth": 0,
              "ticks": ""
             }
            },
            "type": "parcoords"
           }
          ],
          "scatter": [
           {
            "marker": {
             "colorbar": {
              "outlinewidth": 0,
              "ticks": ""
             }
            },
            "type": "scatter"
           }
          ],
          "scatter3d": [
           {
            "line": {
             "colorbar": {
              "outlinewidth": 0,
              "ticks": ""
             }
            },
            "marker": {
             "colorbar": {
              "outlinewidth": 0,
              "ticks": ""
             }
            },
            "type": "scatter3d"
           }
          ],
          "scattercarpet": [
           {
            "marker": {
             "colorbar": {
              "outlinewidth": 0,
              "ticks": ""
             }
            },
            "type": "scattercarpet"
           }
          ],
          "scattergeo": [
           {
            "marker": {
             "colorbar": {
              "outlinewidth": 0,
              "ticks": ""
             }
            },
            "type": "scattergeo"
           }
          ],
          "scattergl": [
           {
            "marker": {
             "colorbar": {
              "outlinewidth": 0,
              "ticks": ""
             }
            },
            "type": "scattergl"
           }
          ],
          "scattermapbox": [
           {
            "marker": {
             "colorbar": {
              "outlinewidth": 0,
              "ticks": ""
             }
            },
            "type": "scattermapbox"
           }
          ],
          "scatterpolar": [
           {
            "marker": {
             "colorbar": {
              "outlinewidth": 0,
              "ticks": ""
             }
            },
            "type": "scatterpolar"
           }
          ],
          "scatterpolargl": [
           {
            "marker": {
             "colorbar": {
              "outlinewidth": 0,
              "ticks": ""
             }
            },
            "type": "scatterpolargl"
           }
          ],
          "scatterternary": [
           {
            "marker": {
             "colorbar": {
              "outlinewidth": 0,
              "ticks": ""
             }
            },
            "type": "scatterternary"
           }
          ],
          "surface": [
           {
            "colorbar": {
             "outlinewidth": 0,
             "ticks": ""
            },
            "colorscale": [
             [
              0,
              "#0d0887"
             ],
             [
              0.1111111111111111,
              "#46039f"
             ],
             [
              0.2222222222222222,
              "#7201a8"
             ],
             [
              0.3333333333333333,
              "#9c179e"
             ],
             [
              0.4444444444444444,
              "#bd3786"
             ],
             [
              0.5555555555555556,
              "#d8576b"
             ],
             [
              0.6666666666666666,
              "#ed7953"
             ],
             [
              0.7777777777777778,
              "#fb9f3a"
             ],
             [
              0.8888888888888888,
              "#fdca26"
             ],
             [
              1,
              "#f0f921"
             ]
            ],
            "type": "surface"
           }
          ],
          "table": [
           {
            "cells": {
             "fill": {
              "color": "#EBF0F8"
             },
             "line": {
              "color": "white"
             }
            },
            "header": {
             "fill": {
              "color": "#C8D4E3"
             },
             "line": {
              "color": "white"
             }
            },
            "type": "table"
           }
          ]
         },
         "layout": {
          "annotationdefaults": {
           "arrowcolor": "#2a3f5f",
           "arrowhead": 0,
           "arrowwidth": 1
          },
          "colorscale": {
           "diverging": [
            [
             0,
             "#8e0152"
            ],
            [
             0.1,
             "#c51b7d"
            ],
            [
             0.2,
             "#de77ae"
            ],
            [
             0.3,
             "#f1b6da"
            ],
            [
             0.4,
             "#fde0ef"
            ],
            [
             0.5,
             "#f7f7f7"
            ],
            [
             0.6,
             "#e6f5d0"
            ],
            [
             0.7,
             "#b8e186"
            ],
            [
             0.8,
             "#7fbc41"
            ],
            [
             0.9,
             "#4d9221"
            ],
            [
             1,
             "#276419"
            ]
           ],
           "sequential": [
            [
             0,
             "#0d0887"
            ],
            [
             0.1111111111111111,
             "#46039f"
            ],
            [
             0.2222222222222222,
             "#7201a8"
            ],
            [
             0.3333333333333333,
             "#9c179e"
            ],
            [
             0.4444444444444444,
             "#bd3786"
            ],
            [
             0.5555555555555556,
             "#d8576b"
            ],
            [
             0.6666666666666666,
             "#ed7953"
            ],
            [
             0.7777777777777778,
             "#fb9f3a"
            ],
            [
             0.8888888888888888,
             "#fdca26"
            ],
            [
             1,
             "#f0f921"
            ]
           ],
           "sequentialminus": [
            [
             0,
             "#0d0887"
            ],
            [
             0.1111111111111111,
             "#46039f"
            ],
            [
             0.2222222222222222,
             "#7201a8"
            ],
            [
             0.3333333333333333,
             "#9c179e"
            ],
            [
             0.4444444444444444,
             "#bd3786"
            ],
            [
             0.5555555555555556,
             "#d8576b"
            ],
            [
             0.6666666666666666,
             "#ed7953"
            ],
            [
             0.7777777777777778,
             "#fb9f3a"
            ],
            [
             0.8888888888888888,
             "#fdca26"
            ],
            [
             1,
             "#f0f921"
            ]
           ]
          },
          "colorway": [
           "#636efa",
           "#EF553B",
           "#00cc96",
           "#ab63fa",
           "#FFA15A",
           "#19d3f3",
           "#FF6692",
           "#B6E880",
           "#FF97FF",
           "#FECB52"
          ],
          "font": {
           "color": "#2a3f5f"
          },
          "geo": {
           "bgcolor": "white",
           "lakecolor": "white",
           "landcolor": "#E5ECF6",
           "showlakes": true,
           "showland": true,
           "subunitcolor": "white"
          },
          "hoverlabel": {
           "align": "left"
          },
          "hovermode": "closest",
          "mapbox": {
           "style": "light"
          },
          "paper_bgcolor": "white",
          "plot_bgcolor": "#E5ECF6",
          "polar": {
           "angularaxis": {
            "gridcolor": "white",
            "linecolor": "white",
            "ticks": ""
           },
           "bgcolor": "#E5ECF6",
           "radialaxis": {
            "gridcolor": "white",
            "linecolor": "white",
            "ticks": ""
           }
          },
          "scene": {
           "xaxis": {
            "backgroundcolor": "#E5ECF6",
            "gridcolor": "white",
            "gridwidth": 2,
            "linecolor": "white",
            "showbackground": true,
            "ticks": "",
            "zerolinecolor": "white"
           },
           "yaxis": {
            "backgroundcolor": "#E5ECF6",
            "gridcolor": "white",
            "gridwidth": 2,
            "linecolor": "white",
            "showbackground": true,
            "ticks": "",
            "zerolinecolor": "white"
           },
           "zaxis": {
            "backgroundcolor": "#E5ECF6",
            "gridcolor": "white",
            "gridwidth": 2,
            "linecolor": "white",
            "showbackground": true,
            "ticks": "",
            "zerolinecolor": "white"
           }
          },
          "shapedefaults": {
           "line": {
            "color": "#2a3f5f"
           }
          },
          "ternary": {
           "aaxis": {
            "gridcolor": "white",
            "linecolor": "white",
            "ticks": ""
           },
           "baxis": {
            "gridcolor": "white",
            "linecolor": "white",
            "ticks": ""
           },
           "bgcolor": "#E5ECF6",
           "caxis": {
            "gridcolor": "white",
            "linecolor": "white",
            "ticks": ""
           }
          },
          "title": {
           "x": 0.05
          },
          "xaxis": {
           "automargin": true,
           "gridcolor": "white",
           "linecolor": "white",
           "ticks": "",
           "zerolinecolor": "white",
           "zerolinewidth": 2
          },
          "yaxis": {
           "automargin": true,
           "gridcolor": "white",
           "linecolor": "white",
           "ticks": "",
           "zerolinecolor": "white",
           "zerolinewidth": 2
          }
         }
        },
        "title": {
         "text": "정책자문사례발표 문항 응답 현황",
         "x": 0.58,
         "y": 0.95
        },
        "width": 900,
        "xaxis": {
         "anchor": "y",
         "domain": [
          0,
          1
         ],
         "range": [
          0,
          5.5
         ],
         "tickfont": {
          "size": 14
         },
         "type": "linear"
        },
        "xaxis2": {
         "anchor": "y2",
         "domain": [
          0,
          1
         ],
         "range": [
          0,
          5.5
         ],
         "tickfont": {
          "size": 14
         },
         "type": "linear"
        },
        "yaxis": {
         "anchor": "x",
         "autorange": true,
         "domain": [
          0.5435,
          1
         ],
         "range": [
          -0.5,
          4.5
         ],
         "tickfont": {
          "size": 14
         },
         "type": "category"
        },
        "yaxis2": {
         "anchor": "x2",
         "autorange": true,
         "domain": [
          0,
          0.4565
         ],
         "range": [
          -0.5,
          5.5
         ],
         "tickfont": {
          "size": 14
         },
         "type": "category"
        }
       }
      },
      "image/png": "[encoded data removed]",
      "text/html": [
       "<div>\n",
       "        \n",
       "        \n",
       "            <div id=\"80b44bf8-a36d-4cfa-9f4c-151b409cdcf2\" class=\"plotly-graph-div\" style=\"height:800px; width:900px;\"></div>\n",
       "            <script type=\"text/javascript\">\n",
       "                require([\"plotly\"], function(Plotly) {\n",
       "                    window.PLOTLYENV=window.PLOTLYENV || {};\n",
       "                    \n",
       "                if (document.getElementById(\"80b44bf8-a36d-4cfa-9f4c-151b409cdcf2\")) {\n",
       "                    Plotly.newPlot(\n",
       "                        '80b44bf8-a36d-4cfa-9f4c-151b409cdcf2',\n",
       "                        [{\"marker\": {\"cmax\": 5.3, \"cmin\": 4.3, \"color\": [4.24, 4.27, 4.5, 4.62, 5.0], \"colorscale\": [[0.0, \"rgb(103,0,31)\"], [0.1, \"rgb(178,24,43)\"], [0.2, \"rgb(214,96,77)\"], [0.3, \"rgb(244,165,130)\"], [0.4, \"rgb(253,219,199)\"], [0.5, \"rgb(247,247,247)\"], [0.6, \"rgb(209,229,240)\"], [0.7, \"rgb(146,197,222)\"], [0.8, \"rgb(67,147,195)\"], [0.9, \"rgb(33,102,172)\"], [1.0, \"rgb(5,48,97)\"]]}, \"orientation\": \"h\", \"showlegend\": false, \"text\": [4.24, 4.27, 4.5, 4.62, 5.0], \"textposition\": \"auto\", \"type\": \"bar\", \"width\": 0.8, \"x\": [4.24, 4.27, 4.5, 4.62, 5.0], \"xaxis\": \"x\", \"y\": [\"\\uc11c\\uc6b8\\uc2dc\", \"\\uc11c\\uc6b8\\uc2dc \\uc0b0\\ud558\\uae30\\uad00\", \"\\ubbfc\\uac04\\uae30\\uc5c5\", \"\\uc911\\uc559\\ubd80\\ucc98/\\uc0b0\\ud558\\uae30\\uad00\", \"\\uad6d\\uc81c\\uae30\\uad6c\"], \"yaxis\": \"y\"}, {\"marker\": {\"cmax\": 5.3, \"cmin\": 4.3, \"color\": [4.36, 4.36, 4.41, 4.45, 4.5, 4.5], \"colorscale\": [[0.0, \"rgb(103,0,31)\"], [0.1, \"rgb(178,24,43)\"], [0.2, \"rgb(214,96,77)\"], [0.3, \"rgb(244,165,130)\"], [0.4, \"rgb(253,219,199)\"], [0.5, \"rgb(247,247,247)\"], [0.6, \"rgb(209,229,240)\"], [0.7, \"rgb(146,197,222)\"], [0.8, \"rgb(67,147,195)\"], [0.9, \"rgb(33,102,172)\"], [1.0, \"rgb(5,48,97)\"]]}, \"orientation\": \"h\", \"showlegend\": false, \"text\": [4.36, 4.36, 4.41, 4.45, 4.5, 4.5], \"textposition\": \"auto\", \"type\": \"bar\", \"width\": 0.8, \"x\": [4.36, 4.36, 4.41, 4.45, 4.5, 4.5], \"xaxis\": \"x2\", \"y\": [\"\\uc790\\ub8cc\\uc791\\uc131\\u00b7\\ubc1c\\ud45c\\ub97c \\uc704\\ud55c \\ucda9\\ubd84\\ud55c \\uc548\\ub0b4\", \"\\ucda9\\ubd84\\ud55c \\uc138\\uc158\\uc2dc\\uac04\", \"\\uc138\\uc158 \\ub2f4\\ub2f9\\uc790\\uc758 \\ucda9\\ubd84\\ud55c \\ud53c\\ub4dc\\ubc31 \\uc81c\\uacf5\", \"\\ud604\\uc7a5\\uc2e4\\ubb34\\ub2a5\\ub825 \\ud5a5\\uc0c1\\uc5d0 \\uae30\\uc5ec\", \"\\uc5f0\\uc218\\ub0b4\\uc6a9 \\uc774\\ud574\\uc5d0 \\uae30\\uc5ec\", \"\\uc8fc\\uc81c\\uc640 \\uad50\\uc721\\uacfc\\uc815 \\ubaa9\\ud45c\\uc640\\uc758 \\uc5f0\\uacc4\"], \"yaxis\": \"y2\"}],\n",
       "                        {\"annotations\": [{\"font\": {\"size\": 16}, \"showarrow\": false, \"text\": \"\\uae30\\uad00\\ubcc4 \\ub9cc\\uc871\\ub3c4 \\ud3c9\\uade0\", \"x\": 0.5, \"xanchor\": \"center\", \"xref\": \"paper\", \"y\": 1.0, \"yanchor\": \"bottom\", \"yref\": \"paper\"}, {\"font\": {\"size\": 16}, \"showarrow\": false, \"text\": \"\\ubb38\\ud56d\\ubcc4 \\ub9cc\\uc871\\ub3c4 \\ud3c9\\uade0\", \"x\": 0.5, \"xanchor\": \"center\", \"xref\": \"paper\", \"y\": 0.4565, \"yanchor\": \"bottom\", \"yref\": \"paper\"}], \"font\": {\"size\": 15}, \"height\": 800, \"margin\": {\"t\": 120}, \"template\": {\"data\": {\"bar\": [{\"error_x\": {\"color\": \"#2a3f5f\"}, \"error_y\": {\"color\": \"#2a3f5f\"}, \"marker\": {\"line\": {\"color\": \"#E5ECF6\", \"width\": 0.5}}, \"type\": \"bar\"}], \"barpolar\": [{\"marker\": {\"line\": {\"color\": \"#E5ECF6\", \"width\": 0.5}}, \"type\": \"barpolar\"}], \"carpet\": [{\"aaxis\": {\"endlinecolor\": \"#2a3f5f\", \"gridcolor\": \"white\", \"linecolor\": \"white\", \"minorgridcolor\": \"white\", \"startlinecolor\": \"#2a3f5f\"}, \"baxis\": {\"endlinecolor\": \"#2a3f5f\", \"gridcolor\": \"white\", \"linecolor\": \"white\", \"minorgridcolor\": \"white\", \"startlinecolor\": \"#2a3f5f\"}, \"type\": \"carpet\"}], \"choropleth\": [{\"colorbar\": {\"outlinewidth\": 0, \"ticks\": \"\"}, \"type\": \"choropleth\"}], \"contour\": [{\"colorbar\": {\"outlinewidth\": 0, \"ticks\": \"\"}, \"colorscale\": [[0.0, \"#0d0887\"], [0.1111111111111111, \"#46039f\"], [0.2222222222222222, \"#7201a8\"], [0.3333333333333333, \"#9c179e\"], [0.4444444444444444, \"#bd3786\"], [0.5555555555555556, \"#d8576b\"], [0.6666666666666666, \"#ed7953\"], [0.7777777777777778, \"#fb9f3a\"], [0.8888888888888888, \"#fdca26\"], [1.0, \"#f0f921\"]], \"type\": \"contour\"}], \"contourcarpet\": [{\"colorbar\": {\"outlinewidth\": 0, \"ticks\": \"\"}, \"type\": \"contourcarpet\"}], \"heatmap\": [{\"colorbar\": {\"outlinewidth\": 0, \"ticks\": \"\"}, \"colorscale\": [[0.0, \"#0d0887\"], [0.1111111111111111, \"#46039f\"], [0.2222222222222222, \"#7201a8\"], [0.3333333333333333, \"#9c179e\"], [0.4444444444444444, \"#bd3786\"], [0.5555555555555556, \"#d8576b\"], [0.6666666666666666, \"#ed7953\"], [0.7777777777777778, \"#fb9f3a\"], [0.8888888888888888, \"#fdca26\"], [1.0, \"#f0f921\"]], \"type\": \"heatmap\"}], \"heatmapgl\": [{\"colorbar\": {\"outlinewidth\": 0, \"ticks\": \"\"}, \"colorscale\": [[0.0, \"#0d0887\"], [0.1111111111111111, \"#46039f\"], [0.2222222222222222, \"#7201a8\"], [0.3333333333333333, \"#9c179e\"], [0.4444444444444444, \"#bd3786\"], [0.5555555555555556, \"#d8576b\"], [0.6666666666666666, \"#ed7953\"], [0.7777777777777778, \"#fb9f3a\"], [0.8888888888888888, \"#fdca26\"], [1.0, \"#f0f921\"]], \"type\": \"heatmapgl\"}], \"histogram\": [{\"marker\": {\"colorbar\": {\"outlinewidth\": 0, \"ticks\": \"\"}}, \"type\": \"histogram\"}], \"histogram2d\": [{\"colorbar\": {\"outlinewidth\": 0, \"ticks\": \"\"}, \"colorscale\": [[0.0, \"#0d0887\"], [0.1111111111111111, \"#46039f\"], [0.2222222222222222, \"#7201a8\"], [0.3333333333333333, \"#9c179e\"], [0.4444444444444444, \"#bd3786\"], [0.5555555555555556, \"#d8576b\"], [0.6666666666666666, \"#ed7953\"], [0.7777777777777778, \"#fb9f3a\"], [0.8888888888888888, \"#fdca26\"], [1.0, \"#f0f921\"]], \"type\": \"histogram2d\"}], \"histogram2dcontour\": [{\"colorbar\": {\"outlinewidth\": 0, \"ticks\": \"\"}, \"colorscale\": [[0.0, \"#0d0887\"], [0.1111111111111111, \"#46039f\"], [0.2222222222222222, \"#7201a8\"], [0.3333333333333333, \"#9c179e\"], [0.4444444444444444, \"#bd3786\"], [0.5555555555555556, \"#d8576b\"], [0.6666666666666666, \"#ed7953\"], [0.7777777777777778, \"#fb9f3a\"], [0.8888888888888888, \"#fdca26\"], [1.0, \"#f0f921\"]], \"type\": \"histogram2dcontour\"}], \"mesh3d\": [{\"colorbar\": {\"outlinewidth\": 0, \"ticks\": \"\"}, \"type\": \"mesh3d\"}], \"parcoords\": [{\"line\": {\"colorbar\": {\"outlinewidth\": 0, \"ticks\": \"\"}}, \"type\": \"parcoords\"}], \"scatter\": [{\"marker\": {\"colorbar\": {\"outlinewidth\": 0, \"ticks\": \"\"}}, \"type\": \"scatter\"}], \"scatter3d\": [{\"line\": {\"colorbar\": {\"outlinewidth\": 0, \"ticks\": \"\"}}, \"marker\": {\"colorbar\": {\"outlinewidth\": 0, \"ticks\": \"\"}}, \"type\": \"scatter3d\"}], \"scattercarpet\": [{\"marker\": {\"colorbar\": {\"outlinewidth\": 0, \"ticks\": \"\"}}, \"type\": \"scattercarpet\"}], \"scattergeo\": [{\"marker\": {\"colorbar\": {\"outlinewidth\": 0, \"ticks\": \"\"}}, \"type\": \"scattergeo\"}], \"scattergl\": [{\"marker\": {\"colorbar\": {\"outlinewidth\": 0, \"ticks\": \"\"}}, \"type\": \"scattergl\"}], \"scattermapbox\": [{\"marker\": {\"colorbar\": {\"outlinewidth\": 0, \"ticks\": \"\"}}, \"type\": \"scattermapbox\"}], \"scatterpolar\": [{\"marker\": {\"colorbar\": {\"outlinewidth\": 0, \"ticks\": \"\"}}, \"type\": \"scatterpolar\"}], \"scatterpolargl\": [{\"marker\": {\"colorbar\": {\"outlinewidth\": 0, \"ticks\": \"\"}}, \"type\": \"scatterpolargl\"}], \"scatterternary\": [{\"marker\": {\"colorbar\": {\"outlinewidth\": 0, \"ticks\": \"\"}}, \"type\": \"scatterternary\"}], \"surface\": [{\"colorbar\": {\"outlinewidth\": 0, \"ticks\": \"\"}, \"colorscale\": [[0.0, \"#0d0887\"], [0.1111111111111111, \"#46039f\"], [0.2222222222222222, \"#7201a8\"], [0.3333333333333333, \"#9c179e\"], [0.4444444444444444, \"#bd3786\"], [0.5555555555555556, \"#d8576b\"], [0.6666666666666666, \"#ed7953\"], [0.7777777777777778, \"#fb9f3a\"], [0.8888888888888888, \"#fdca26\"], [1.0, \"#f0f921\"]], \"type\": \"surface\"}], \"table\": [{\"cells\": {\"fill\": {\"color\": \"#EBF0F8\"}, \"line\": {\"color\": \"white\"}}, \"header\": {\"fill\": {\"color\": \"#C8D4E3\"}, \"line\": {\"color\": \"white\"}}, \"type\": \"table\"}]}, \"layout\": {\"annotationdefaults\": {\"arrowcolor\": \"#2a3f5f\", \"arrowhead\": 0, \"arrowwidth\": 1}, \"colorscale\": {\"diverging\": [[0, \"#8e0152\"], [0.1, \"#c51b7d\"], [0.2, \"#de77ae\"], [0.3, \"#f1b6da\"], [0.4, \"#fde0ef\"], [0.5, \"#f7f7f7\"], [0.6, \"#e6f5d0\"], [0.7, \"#b8e186\"], [0.8, \"#7fbc41\"], [0.9, \"#4d9221\"], [1, \"#276419\"]], \"sequential\": [[0.0, \"#0d0887\"], [0.1111111111111111, \"#46039f\"], [0.2222222222222222, \"#7201a8\"], [0.3333333333333333, \"#9c179e\"], [0.4444444444444444, \"#bd3786\"], [0.5555555555555556, \"#d8576b\"], [0.6666666666666666, \"#ed7953\"], [0.7777777777777778, \"#fb9f3a\"], [0.8888888888888888, \"#fdca26\"], [1.0, \"#f0f921\"]], \"sequentialminus\": [[0.0, \"#0d0887\"], [0.1111111111111111, \"#46039f\"], [0.2222222222222222, \"#7201a8\"], [0.3333333333333333, \"#9c179e\"], [0.4444444444444444, \"#bd3786\"], [0.5555555555555556, \"#d8576b\"], [0.6666666666666666, \"#ed7953\"], [0.7777777777777778, \"#fb9f3a\"], [0.8888888888888888, \"#fdca26\"], [1.0, \"#f0f921\"]]}, \"colorway\": [\"#636efa\", \"#EF553B\", \"#00cc96\", \"#ab63fa\", \"#FFA15A\", \"#19d3f3\", \"#FF6692\", \"#B6E880\", \"#FF97FF\", \"#FECB52\"], \"font\": {\"color\": \"#2a3f5f\"}, \"geo\": {\"bgcolor\": \"white\", \"lakecolor\": \"white\", \"landcolor\": \"#E5ECF6\", \"showlakes\": true, \"showland\": true, \"subunitcolor\": \"white\"}, \"hoverlabel\": {\"align\": \"left\"}, \"hovermode\": \"closest\", \"mapbox\": {\"style\": \"light\"}, \"paper_bgcolor\": \"white\", \"plot_bgcolor\": \"#E5ECF6\", \"polar\": {\"angularaxis\": {\"gridcolor\": \"white\", \"linecolor\": \"white\", \"ticks\": \"\"}, \"bgcolor\": \"#E5ECF6\", \"radialaxis\": {\"gridcolor\": \"white\", \"linecolor\": \"white\", \"ticks\": \"\"}}, \"scene\": {\"xaxis\": {\"backgroundcolor\": \"#E5ECF6\", \"gridcolor\": \"white\", \"gridwidth\": 2, \"linecolor\": \"white\", \"showbackground\": true, \"ticks\": \"\", \"zerolinecolor\": \"white\"}, \"yaxis\": {\"backgroundcolor\": \"#E5ECF6\", \"gridcolor\": \"white\", \"gridwidth\": 2, \"linecolor\": \"white\", \"showbackground\": true, \"ticks\": \"\", \"zerolinecolor\": \"white\"}, \"zaxis\": {\"backgroundcolor\": \"#E5ECF6\", \"gridcolor\": \"white\", \"gridwidth\": 2, \"linecolor\": \"white\", \"showbackground\": true, \"ticks\": \"\", \"zerolinecolor\": \"white\"}}, \"shapedefaults\": {\"line\": {\"color\": \"#2a3f5f\"}}, \"ternary\": {\"aaxis\": {\"gridcolor\": \"white\", \"linecolor\": \"white\", \"ticks\": \"\"}, \"baxis\": {\"gridcolor\": \"white\", \"linecolor\": \"white\", \"ticks\": \"\"}, \"bgcolor\": \"#E5ECF6\", \"caxis\": {\"gridcolor\": \"white\", \"linecolor\": \"white\", \"ticks\": \"\"}}, \"title\": {\"x\": 0.05}, \"xaxis\": {\"automargin\": true, \"gridcolor\": \"white\", \"linecolor\": \"white\", \"ticks\": \"\", \"zerolinecolor\": \"white\", \"zerolinewidth\": 2}, \"yaxis\": {\"automargin\": true, \"gridcolor\": \"white\", \"linecolor\": \"white\", \"ticks\": \"\", \"zerolinecolor\": \"white\", \"zerolinewidth\": 2}}}, \"title\": {\"text\": \"\\uc815\\ucc45\\uc790\\ubb38\\uc0ac\\ub840\\ubc1c\\ud45c \\ubb38\\ud56d \\uc751\\ub2f5 \\ud604\\ud669\", \"x\": 0.58, \"y\": 0.95}, \"width\": 900, \"xaxis\": {\"anchor\": \"y\", \"domain\": [0.0, 1.0], \"range\": [0, 5.5], \"tickfont\": {\"size\": 14}}, \"xaxis2\": {\"anchor\": \"y2\", \"domain\": [0.0, 1.0], \"range\": [0, 5.5], \"tickfont\": {\"size\": 14}}, \"yaxis\": {\"anchor\": \"x\", \"domain\": [0.5435, 1.0], \"tickfont\": {\"size\": 14}}, \"yaxis2\": {\"anchor\": \"x2\", \"domain\": [0.0, 0.4565], \"tickfont\": {\"size\": 14}}},\n",
       "                        {\"responsive\": true}\n",
       "                    ).then(function(){\n",
       "                            \n",
       "var gd = document.getElementById('80b44bf8-a36d-4cfa-9f4c-151b409cdcf2');\n",
       "var x = new MutationObserver(function (mutations, observer) {{\n",
       "        var display = window.getComputedStyle(gd).display;\n",
       "        if (!display || display === 'none') {{\n",
       "            console.log([gd, 'removed!']);\n",
       "            Plotly.purge(gd);\n",
       "            observer.disconnect();\n",
       "        }}\n",
       "}});\n",
       "\n",
       "// Listen for the removal of the full notebook cells\n",
       "var notebookContainer = gd.closest('#notebook-container');\n",
       "if (notebookContainer) {{\n",
       "    x.observe(notebookContainer, {childList: true});\n",
       "}}\n",
       "\n",
       "// Listen for the clearing of the current output cell\n",
       "var outputEl = gd.closest('.output');\n",
       "if (outputEl) {{\n",
       "    x.observe(outputEl, {childList: true});\n",
       "}}\n",
       "\n",
       "                        })\n",
       "                };\n",
       "                });\n",
       "            </script>\n",
       "        </div>"
      ]
     },
     "metadata": {},
     "output_type": "display_data"
    }
   ],
   "source": [
    "fig = make_subplots(rows=2, cols=1, \n",
    "    vertical_spacing=0.087,\n",
    "    subplot_titles=(\"기관별 만족도 평균\", \"문항별 만족도 평균\"))\n",
    "\n",
    "fig.add_trace(go.Bar(showlegend=False, width= 0.8, orientation='h',\n",
    "    x = pcs_mean_orgmean['평균'],\n",
    "    y = pcs_mean_orgmean.index,\n",
    "    text = pcs_mean_orgmean['평균'],\n",
    "    textposition = 'auto',\n",
    "    marker=dict(color=pcs_mean_orgmean['평균'], cmin=4.3, cmax=5.3, \n",
    "                colorscale='RdBu')),row=1, col=1)\n",
    "\n",
    "fig.add_trace(go.Bar(showlegend=False, width= 0.8, orientation='h',\n",
    "    x = pcs_mean_qmean['평균'],\n",
    "    y = pcs_mean_qmean['문항'],\n",
    "    text = pcs_mean_qmean['평균'],\n",
    "    textposition = 'auto',\n",
    "    marker=dict(color=pcs_mean_qmean['평균'], cmin=4.3, cmax=5.3, \n",
    "                colorscale='RdBu')),row=2, col=1)\n",
    "\n",
    "fig.update_xaxes(range=[0,5.5], tickfont_size=14)\n",
    "fig.update_yaxes(tickfont_size=14)\n",
    "\n",
    "fig.update_layout(title=dict(text ='정책자문사례발표 문항 응답 현황', x=0.58, y=0.95),\n",
    "                  margin = dict(t=120), font_size = 15, width=900, height=800)"
   ]
  },
  {
   "cell_type": "code",
   "execution_count": 226,
   "metadata": {},
   "outputs": [
    {
     "data": {
      "application/vnd.plotly.v1+json": {
       "config": {
        "plotlyServerURL": "https://plot.ly"
       },
       "data": [
        {
         "cells": {
          "align": [
           "left",
           "center"
          ],
          "font": {
           "color": "#000000",
           "size": 11
          },
          "values": [
           [
            "연수내용 이해에 기여",
            "자료작성·발표를 위한 충분한 안내",
            "현장실무능력 향상에 기여",
            "세션 담당자의 충분한 피드백 제공",
            "충분한 세션시간",
            "주제와 교육과정 목표와의 연계",
            "평균"
           ],
           [
            5,
            5,
            5,
            5,
            5,
            5,
            5
           ],
           [
            4.57,
            4.29,
            4.57,
            4.43,
            4.43,
            4.71,
            4.5
           ],
           [
            4.29,
            4.29,
            4.14,
            4.14,
            4.29,
            4.29,
            4.24
           ],
           [
            4.33,
            4.33,
            4.33,
            4.33,
            4,
            4.33,
            4.27
           ],
           [
            4.75,
            4.5,
            4.75,
            4.75,
            4.5,
            4.5,
            4.62
           ],
           [
            4.5,
            4.36,
            4.45,
            4.41,
            4.36,
            4.5,
            4.43
           ]
          ]
         },
         "columnwidth": [
          170,
          45,
          45,
          42,
          85,
          80,
          40
         ],
         "header": {
          "align": "center",
          "fill": {
           "color": "#094688"
          },
          "font": {
           "color": "#ffffff",
           "size": 11
          },
          "height": 25,
          "values": [
           "문항",
           "국제기구",
           "민간기업",
           "서울시",
           "서울시 산하기관",
           "중앙부처/산하기관",
           "평균"
          ]
         },
         "type": "table"
        }
       ],
       "layout": {
        "autosize": true,
        "font": {
         "size": 10
        },
        "template": {
         "data": {
          "bar": [
           {
            "error_x": {
             "color": "#2a3f5f"
            },
            "error_y": {
             "color": "#2a3f5f"
            },
            "marker": {
             "line": {
              "color": "#E5ECF6",
              "width": 0.5
             }
            },
            "type": "bar"
           }
          ],
          "barpolar": [
           {
            "marker": {
             "line": {
              "color": "#E5ECF6",
              "width": 0.5
             }
            },
            "type": "barpolar"
           }
          ],
          "carpet": [
           {
            "aaxis": {
             "endlinecolor": "#2a3f5f",
             "gridcolor": "white",
             "linecolor": "white",
             "minorgridcolor": "white",
             "startlinecolor": "#2a3f5f"
            },
            "baxis": {
             "endlinecolor": "#2a3f5f",
             "gridcolor": "white",
             "linecolor": "white",
             "minorgridcolor": "white",
             "startlinecolor": "#2a3f5f"
            },
            "type": "carpet"
           }
          ],
          "choropleth": [
           {
            "colorbar": {
             "outlinewidth": 0,
             "ticks": ""
            },
            "type": "choropleth"
           }
          ],
          "contour": [
           {
            "colorbar": {
             "outlinewidth": 0,
             "ticks": ""
            },
            "colorscale": [
             [
              0,
              "#0d0887"
             ],
             [
              0.1111111111111111,
              "#46039f"
             ],
             [
              0.2222222222222222,
              "#7201a8"
             ],
             [
              0.3333333333333333,
              "#9c179e"
             ],
             [
              0.4444444444444444,
              "#bd3786"
             ],
             [
              0.5555555555555556,
              "#d8576b"
             ],
             [
              0.6666666666666666,
              "#ed7953"
             ],
             [
              0.7777777777777778,
              "#fb9f3a"
             ],
             [
              0.8888888888888888,
              "#fdca26"
             ],
             [
              1,
              "#f0f921"
             ]
            ],
            "type": "contour"
           }
          ],
          "contourcarpet": [
           {
            "colorbar": {
             "outlinewidth": 0,
             "ticks": ""
            },
            "type": "contourcarpet"
           }
          ],
          "heatmap": [
           {
            "colorbar": {
             "outlinewidth": 0,
             "ticks": ""
            },
            "colorscale": [
             [
              0,
              "#0d0887"
             ],
             [
              0.1111111111111111,
              "#46039f"
             ],
             [
              0.2222222222222222,
              "#7201a8"
             ],
             [
              0.3333333333333333,
              "#9c179e"
             ],
             [
              0.4444444444444444,
              "#bd3786"
             ],
             [
              0.5555555555555556,
              "#d8576b"
             ],
             [
              0.6666666666666666,
              "#ed7953"
             ],
             [
              0.7777777777777778,
              "#fb9f3a"
             ],
             [
              0.8888888888888888,
              "#fdca26"
             ],
             [
              1,
              "#f0f921"
             ]
            ],
            "type": "heatmap"
           }
          ],
          "heatmapgl": [
           {
            "colorbar": {
             "outlinewidth": 0,
             "ticks": ""
            },
            "colorscale": [
             [
              0,
              "#0d0887"
             ],
             [
              0.1111111111111111,
              "#46039f"
             ],
             [
              0.2222222222222222,
              "#7201a8"
             ],
             [
              0.3333333333333333,
              "#9c179e"
             ],
             [
              0.4444444444444444,
              "#bd3786"
             ],
             [
              0.5555555555555556,
              "#d8576b"
             ],
             [
              0.6666666666666666,
              "#ed7953"
             ],
             [
              0.7777777777777778,
              "#fb9f3a"
             ],
             [
              0.8888888888888888,
              "#fdca26"
             ],
             [
              1,
              "#f0f921"
             ]
            ],
            "type": "heatmapgl"
           }
          ],
          "histogram": [
           {
            "marker": {
             "colorbar": {
              "outlinewidth": 0,
              "ticks": ""
             }
            },
            "type": "histogram"
           }
          ],
          "histogram2d": [
           {
            "colorbar": {
             "outlinewidth": 0,
             "ticks": ""
            },
            "colorscale": [
             [
              0,
              "#0d0887"
             ],
             [
              0.1111111111111111,
              "#46039f"
             ],
             [
              0.2222222222222222,
              "#7201a8"
             ],
             [
              0.3333333333333333,
              "#9c179e"
             ],
             [
              0.4444444444444444,
              "#bd3786"
             ],
             [
              0.5555555555555556,
              "#d8576b"
             ],
             [
              0.6666666666666666,
              "#ed7953"
             ],
             [
              0.7777777777777778,
              "#fb9f3a"
             ],
             [
              0.8888888888888888,
              "#fdca26"
             ],
             [
              1,
              "#f0f921"
             ]
            ],
            "type": "histogram2d"
           }
          ],
          "histogram2dcontour": [
           {
            "colorbar": {
             "outlinewidth": 0,
             "ticks": ""
            },
            "colorscale": [
             [
              0,
              "#0d0887"
             ],
             [
              0.1111111111111111,
              "#46039f"
             ],
             [
              0.2222222222222222,
              "#7201a8"
             ],
             [
              0.3333333333333333,
              "#9c179e"
             ],
             [
              0.4444444444444444,
              "#bd3786"
             ],
             [
              0.5555555555555556,
              "#d8576b"
             ],
             [
              0.6666666666666666,
              "#ed7953"
             ],
             [
              0.7777777777777778,
              "#fb9f3a"
             ],
             [
              0.8888888888888888,
              "#fdca26"
             ],
             [
              1,
              "#f0f921"
             ]
            ],
            "type": "histogram2dcontour"
           }
          ],
          "mesh3d": [
           {
            "colorbar": {
             "outlinewidth": 0,
             "ticks": ""
            },
            "type": "mesh3d"
           }
          ],
          "parcoords": [
           {
            "line": {
             "colorbar": {
              "outlinewidth": 0,
              "ticks": ""
             }
            },
            "type": "parcoords"
           }
          ],
          "scatter": [
           {
            "marker": {
             "colorbar": {
              "outlinewidth": 0,
              "ticks": ""
             }
            },
            "type": "scatter"
           }
          ],
          "scatter3d": [
           {
            "line": {
             "colorbar": {
              "outlinewidth": 0,
              "ticks": ""
             }
            },
            "marker": {
             "colorbar": {
              "outlinewidth": 0,
              "ticks": ""
             }
            },
            "type": "scatter3d"
           }
          ],
          "scattercarpet": [
           {
            "marker": {
             "colorbar": {
              "outlinewidth": 0,
              "ticks": ""
             }
            },
            "type": "scattercarpet"
           }
          ],
          "scattergeo": [
           {
            "marker": {
             "colorbar": {
              "outlinewidth": 0,
              "ticks": ""
             }
            },
            "type": "scattergeo"
           }
          ],
          "scattergl": [
           {
            "marker": {
             "colorbar": {
              "outlinewidth": 0,
              "ticks": ""
             }
            },
            "type": "scattergl"
           }
          ],
          "scattermapbox": [
           {
            "marker": {
             "colorbar": {
              "outlinewidth": 0,
              "ticks": ""
             }
            },
            "type": "scattermapbox"
           }
          ],
          "scatterpolar": [
           {
            "marker": {
             "colorbar": {
              "outlinewidth": 0,
              "ticks": ""
             }
            },
            "type": "scatterpolar"
           }
          ],
          "scatterpolargl": [
           {
            "marker": {
             "colorbar": {
              "outlinewidth": 0,
              "ticks": ""
             }
            },
            "type": "scatterpolargl"
           }
          ],
          "scatterternary": [
           {
            "marker": {
             "colorbar": {
              "outlinewidth": 0,
              "ticks": ""
             }
            },
            "type": "scatterternary"
           }
          ],
          "surface": [
           {
            "colorbar": {
             "outlinewidth": 0,
             "ticks": ""
            },
            "colorscale": [
             [
              0,
              "#0d0887"
             ],
             [
              0.1111111111111111,
              "#46039f"
             ],
             [
              0.2222222222222222,
              "#7201a8"
             ],
             [
              0.3333333333333333,
              "#9c179e"
             ],
             [
              0.4444444444444444,
              "#bd3786"
             ],
             [
              0.5555555555555556,
              "#d8576b"
             ],
             [
              0.6666666666666666,
              "#ed7953"
             ],
             [
              0.7777777777777778,
              "#fb9f3a"
             ],
             [
              0.8888888888888888,
              "#fdca26"
             ],
             [
              1,
              "#f0f921"
             ]
            ],
            "type": "surface"
           }
          ],
          "table": [
           {
            "cells": {
             "fill": {
              "color": "#EBF0F8"
             },
             "line": {
              "color": "white"
             }
            },
            "header": {
             "fill": {
              "color": "#C8D4E3"
             },
             "line": {
              "color": "white"
             }
            },
            "type": "table"
           }
          ]
         },
         "layout": {
          "annotationdefaults": {
           "arrowcolor": "#2a3f5f",
           "arrowhead": 0,
           "arrowwidth": 1
          },
          "colorscale": {
           "diverging": [
            [
             0,
             "#8e0152"
            ],
            [
             0.1,
             "#c51b7d"
            ],
            [
             0.2,
             "#de77ae"
            ],
            [
             0.3,
             "#f1b6da"
            ],
            [
             0.4,
             "#fde0ef"
            ],
            [
             0.5,
             "#f7f7f7"
            ],
            [
             0.6,
             "#e6f5d0"
            ],
            [
             0.7,
             "#b8e186"
            ],
            [
             0.8,
             "#7fbc41"
            ],
            [
             0.9,
             "#4d9221"
            ],
            [
             1,
             "#276419"
            ]
           ],
           "sequential": [
            [
             0,
             "#0d0887"
            ],
            [
             0.1111111111111111,
             "#46039f"
            ],
            [
             0.2222222222222222,
             "#7201a8"
            ],
            [
             0.3333333333333333,
             "#9c179e"
            ],
            [
             0.4444444444444444,
             "#bd3786"
            ],
            [
             0.5555555555555556,
             "#d8576b"
            ],
            [
             0.6666666666666666,
             "#ed7953"
            ],
            [
             0.7777777777777778,
             "#fb9f3a"
            ],
            [
             0.8888888888888888,
             "#fdca26"
            ],
            [
             1,
             "#f0f921"
            ]
           ],
           "sequentialminus": [
            [
             0,
             "#0d0887"
            ],
            [
             0.1111111111111111,
             "#46039f"
            ],
            [
             0.2222222222222222,
             "#7201a8"
            ],
            [
             0.3333333333333333,
             "#9c179e"
            ],
            [
             0.4444444444444444,
             "#bd3786"
            ],
            [
             0.5555555555555556,
             "#d8576b"
            ],
            [
             0.6666666666666666,
             "#ed7953"
            ],
            [
             0.7777777777777778,
             "#fb9f3a"
            ],
            [
             0.8888888888888888,
             "#fdca26"
            ],
            [
             1,
             "#f0f921"
            ]
           ]
          },
          "colorway": [
           "#636efa",
           "#EF553B",
           "#00cc96",
           "#ab63fa",
           "#FFA15A",
           "#19d3f3",
           "#FF6692",
           "#B6E880",
           "#FF97FF",
           "#FECB52"
          ],
          "font": {
           "color": "#2a3f5f"
          },
          "geo": {
           "bgcolor": "white",
           "lakecolor": "white",
           "landcolor": "#E5ECF6",
           "showlakes": true,
           "showland": true,
           "subunitcolor": "white"
          },
          "hoverlabel": {
           "align": "left"
          },
          "hovermode": "closest",
          "mapbox": {
           "style": "light"
          },
          "paper_bgcolor": "white",
          "plot_bgcolor": "#E5ECF6",
          "polar": {
           "angularaxis": {
            "gridcolor": "white",
            "linecolor": "white",
            "ticks": ""
           },
           "bgcolor": "#E5ECF6",
           "radialaxis": {
            "gridcolor": "white",
            "linecolor": "white",
            "ticks": ""
           }
          },
          "scene": {
           "xaxis": {
            "backgroundcolor": "#E5ECF6",
            "gridcolor": "white",
            "gridwidth": 2,
            "linecolor": "white",
            "showbackground": true,
            "ticks": "",
            "zerolinecolor": "white"
           },
           "yaxis": {
            "backgroundcolor": "#E5ECF6",
            "gridcolor": "white",
            "gridwidth": 2,
            "linecolor": "white",
            "showbackground": true,
            "ticks": "",
            "zerolinecolor": "white"
           },
           "zaxis": {
            "backgroundcolor": "#E5ECF6",
            "gridcolor": "white",
            "gridwidth": 2,
            "linecolor": "white",
            "showbackground": true,
            "ticks": "",
            "zerolinecolor": "white"
           }
          },
          "shapedefaults": {
           "line": {
            "color": "#2a3f5f"
           }
          },
          "ternary": {
           "aaxis": {
            "gridcolor": "white",
            "linecolor": "white",
            "ticks": ""
           },
           "baxis": {
            "gridcolor": "white",
            "linecolor": "white",
            "ticks": ""
           },
           "bgcolor": "#E5ECF6",
           "caxis": {
            "gridcolor": "white",
            "linecolor": "white",
            "ticks": ""
           }
          },
          "title": {
           "x": 0.05
          },
          "xaxis": {
           "automargin": true,
           "gridcolor": "white",
           "linecolor": "white",
           "ticks": "",
           "zerolinecolor": "white",
           "zerolinewidth": 2
          },
          "yaxis": {
           "automargin": true,
           "gridcolor": "white",
           "linecolor": "white",
           "ticks": "",
           "zerolinecolor": "white",
           "zerolinewidth": 2
          }
         }
        },
        "title": {
         "text": "문항별-기관별 만족도 현황",
         "x": 0.5,
         "y": 0.83
        }
       }
      },
      "image/png": "[encoded data removed]",
      "text/html": [
       "<div>\n",
       "        \n",
       "        \n",
       "            <div id=\"db3ecdac-24e8-4157-b321-9da47914d9d9\" class=\"plotly-graph-div\" style=\"height:525px; width:100%;\"></div>\n",
       "            <script type=\"text/javascript\">\n",
       "                require([\"plotly\"], function(Plotly) {\n",
       "                    window.PLOTLYENV=window.PLOTLYENV || {};\n",
       "                    \n",
       "                if (document.getElementById(\"db3ecdac-24e8-4157-b321-9da47914d9d9\")) {\n",
       "                    Plotly.newPlot(\n",
       "                        'db3ecdac-24e8-4157-b321-9da47914d9d9',\n",
       "                        [{\"cells\": {\"align\": [\"left\", \"center\"], \"font\": {\"color\": \"#000000\", \"size\": 11}, \"values\": [[\"\\uc5f0\\uc218\\ub0b4\\uc6a9 \\uc774\\ud574\\uc5d0 \\uae30\\uc5ec\", \"\\uc790\\ub8cc\\uc791\\uc131\\u00b7\\ubc1c\\ud45c\\ub97c \\uc704\\ud55c \\ucda9\\ubd84\\ud55c \\uc548\\ub0b4\", \"\\ud604\\uc7a5\\uc2e4\\ubb34\\ub2a5\\ub825 \\ud5a5\\uc0c1\\uc5d0 \\uae30\\uc5ec\", \"\\uc138\\uc158 \\ub2f4\\ub2f9\\uc790\\uc758 \\ucda9\\ubd84\\ud55c \\ud53c\\ub4dc\\ubc31 \\uc81c\\uacf5\", \"\\ucda9\\ubd84\\ud55c \\uc138\\uc158\\uc2dc\\uac04\", \"\\uc8fc\\uc81c\\uc640 \\uad50\\uc721\\uacfc\\uc815 \\ubaa9\\ud45c\\uc640\\uc758 \\uc5f0\\uacc4\", \"\\ud3c9\\uade0\"], [5.0, 5.0, 5.0, 5.0, 5.0, 5.0, 5.0], [4.57, 4.29, 4.57, 4.43, 4.43, 4.71, 4.5], [4.29, 4.29, 4.14, 4.14, 4.29, 4.29, 4.24], [4.33, 4.33, 4.33, 4.33, 4.0, 4.33, 4.27], [4.75, 4.5, 4.75, 4.75, 4.5, 4.5, 4.62], [4.5, 4.36, 4.45, 4.41, 4.36, 4.5, 4.43]]}, \"columnwidth\": [170, 45, 45, 42, 85, 80, 40], \"header\": {\"align\": \"center\", \"fill\": {\"color\": \"#094688\"}, \"font\": {\"color\": \"#ffffff\", \"size\": 11}, \"height\": 25, \"values\": [\"\\ubb38\\ud56d\", \"\\uad6d\\uc81c\\uae30\\uad6c\", \"\\ubbfc\\uac04\\uae30\\uc5c5\", \"\\uc11c\\uc6b8\\uc2dc\", \"\\uc11c\\uc6b8\\uc2dc \\uc0b0\\ud558\\uae30\\uad00\", \"\\uc911\\uc559\\ubd80\\ucc98/\\uc0b0\\ud558\\uae30\\uad00\", \"\\ud3c9\\uade0\"]}, \"type\": \"table\"}],\n",
       "                        {\"font\": {\"size\": 10}, \"template\": {\"data\": {\"bar\": [{\"error_x\": {\"color\": \"#2a3f5f\"}, \"error_y\": {\"color\": \"#2a3f5f\"}, \"marker\": {\"line\": {\"color\": \"#E5ECF6\", \"width\": 0.5}}, \"type\": \"bar\"}], \"barpolar\": [{\"marker\": {\"line\": {\"color\": \"#E5ECF6\", \"width\": 0.5}}, \"type\": \"barpolar\"}], \"carpet\": [{\"aaxis\": {\"endlinecolor\": \"#2a3f5f\", \"gridcolor\": \"white\", \"linecolor\": \"white\", \"minorgridcolor\": \"white\", \"startlinecolor\": \"#2a3f5f\"}, \"baxis\": {\"endlinecolor\": \"#2a3f5f\", \"gridcolor\": \"white\", \"linecolor\": \"white\", \"minorgridcolor\": \"white\", \"startlinecolor\": \"#2a3f5f\"}, \"type\": \"carpet\"}], \"choropleth\": [{\"colorbar\": {\"outlinewidth\": 0, \"ticks\": \"\"}, \"type\": \"choropleth\"}], \"contour\": [{\"colorbar\": {\"outlinewidth\": 0, \"ticks\": \"\"}, \"colorscale\": [[0.0, \"#0d0887\"], [0.1111111111111111, \"#46039f\"], [0.2222222222222222, \"#7201a8\"], [0.3333333333333333, \"#9c179e\"], [0.4444444444444444, \"#bd3786\"], [0.5555555555555556, \"#d8576b\"], [0.6666666666666666, \"#ed7953\"], [0.7777777777777778, \"#fb9f3a\"], [0.8888888888888888, \"#fdca26\"], [1.0, \"#f0f921\"]], \"type\": \"contour\"}], \"contourcarpet\": [{\"colorbar\": {\"outlinewidth\": 0, \"ticks\": \"\"}, \"type\": \"contourcarpet\"}], \"heatmap\": [{\"colorbar\": {\"outlinewidth\": 0, \"ticks\": \"\"}, \"colorscale\": [[0.0, \"#0d0887\"], [0.1111111111111111, \"#46039f\"], [0.2222222222222222, \"#7201a8\"], [0.3333333333333333, \"#9c179e\"], [0.4444444444444444, \"#bd3786\"], [0.5555555555555556, \"#d8576b\"], [0.6666666666666666, \"#ed7953\"], [0.7777777777777778, \"#fb9f3a\"], [0.8888888888888888, \"#fdca26\"], [1.0, \"#f0f921\"]], \"type\": \"heatmap\"}], \"heatmapgl\": [{\"colorbar\": {\"outlinewidth\": 0, \"ticks\": \"\"}, \"colorscale\": [[0.0, \"#0d0887\"], [0.1111111111111111, \"#46039f\"], [0.2222222222222222, \"#7201a8\"], [0.3333333333333333, \"#9c179e\"], [0.4444444444444444, \"#bd3786\"], [0.5555555555555556, \"#d8576b\"], [0.6666666666666666, \"#ed7953\"], [0.7777777777777778, \"#fb9f3a\"], [0.8888888888888888, \"#fdca26\"], [1.0, \"#f0f921\"]], \"type\": \"heatmapgl\"}], \"histogram\": [{\"marker\": {\"colorbar\": {\"outlinewidth\": 0, \"ticks\": \"\"}}, \"type\": \"histogram\"}], \"histogram2d\": [{\"colorbar\": {\"outlinewidth\": 0, \"ticks\": \"\"}, \"colorscale\": [[0.0, \"#0d0887\"], [0.1111111111111111, \"#46039f\"], [0.2222222222222222, \"#7201a8\"], [0.3333333333333333, \"#9c179e\"], [0.4444444444444444, \"#bd3786\"], [0.5555555555555556, \"#d8576b\"], [0.6666666666666666, \"#ed7953\"], [0.7777777777777778, \"#fb9f3a\"], [0.8888888888888888, \"#fdca26\"], [1.0, \"#f0f921\"]], \"type\": \"histogram2d\"}], \"histogram2dcontour\": [{\"colorbar\": {\"outlinewidth\": 0, \"ticks\": \"\"}, \"colorscale\": [[0.0, \"#0d0887\"], [0.1111111111111111, \"#46039f\"], [0.2222222222222222, \"#7201a8\"], [0.3333333333333333, \"#9c179e\"], [0.4444444444444444, \"#bd3786\"], [0.5555555555555556, \"#d8576b\"], [0.6666666666666666, \"#ed7953\"], [0.7777777777777778, \"#fb9f3a\"], [0.8888888888888888, \"#fdca26\"], [1.0, \"#f0f921\"]], \"type\": \"histogram2dcontour\"}], \"mesh3d\": [{\"colorbar\": {\"outlinewidth\": 0, \"ticks\": \"\"}, \"type\": \"mesh3d\"}], \"parcoords\": [{\"line\": {\"colorbar\": {\"outlinewidth\": 0, \"ticks\": \"\"}}, \"type\": \"parcoords\"}], \"scatter\": [{\"marker\": {\"colorbar\": {\"outlinewidth\": 0, \"ticks\": \"\"}}, \"type\": \"scatter\"}], \"scatter3d\": [{\"line\": {\"colorbar\": {\"outlinewidth\": 0, \"ticks\": \"\"}}, \"marker\": {\"colorbar\": {\"outlinewidth\": 0, \"ticks\": \"\"}}, \"type\": \"scatter3d\"}], \"scattercarpet\": [{\"marker\": {\"colorbar\": {\"outlinewidth\": 0, \"ticks\": \"\"}}, \"type\": \"scattercarpet\"}], \"scattergeo\": [{\"marker\": {\"colorbar\": {\"outlinewidth\": 0, \"ticks\": \"\"}}, \"type\": \"scattergeo\"}], \"scattergl\": [{\"marker\": {\"colorbar\": {\"outlinewidth\": 0, \"ticks\": \"\"}}, \"type\": \"scattergl\"}], \"scattermapbox\": [{\"marker\": {\"colorbar\": {\"outlinewidth\": 0, \"ticks\": \"\"}}, \"type\": \"scattermapbox\"}], \"scatterpolar\": [{\"marker\": {\"colorbar\": {\"outlinewidth\": 0, \"ticks\": \"\"}}, \"type\": \"scatterpolar\"}], \"scatterpolargl\": [{\"marker\": {\"colorbar\": {\"outlinewidth\": 0, \"ticks\": \"\"}}, \"type\": \"scatterpolargl\"}], \"scatterternary\": [{\"marker\": {\"colorbar\": {\"outlinewidth\": 0, \"ticks\": \"\"}}, \"type\": \"scatterternary\"}], \"surface\": [{\"colorbar\": {\"outlinewidth\": 0, \"ticks\": \"\"}, \"colorscale\": [[0.0, \"#0d0887\"], [0.1111111111111111, \"#46039f\"], [0.2222222222222222, \"#7201a8\"], [0.3333333333333333, \"#9c179e\"], [0.4444444444444444, \"#bd3786\"], [0.5555555555555556, \"#d8576b\"], [0.6666666666666666, \"#ed7953\"], [0.7777777777777778, \"#fb9f3a\"], [0.8888888888888888, \"#fdca26\"], [1.0, \"#f0f921\"]], \"type\": \"surface\"}], \"table\": [{\"cells\": {\"fill\": {\"color\": \"#EBF0F8\"}, \"line\": {\"color\": \"white\"}}, \"header\": {\"fill\": {\"color\": \"#C8D4E3\"}, \"line\": {\"color\": \"white\"}}, \"type\": \"table\"}]}, \"layout\": {\"annotationdefaults\": {\"arrowcolor\": \"#2a3f5f\", \"arrowhead\": 0, \"arrowwidth\": 1}, \"colorscale\": {\"diverging\": [[0, \"#8e0152\"], [0.1, \"#c51b7d\"], [0.2, \"#de77ae\"], [0.3, \"#f1b6da\"], [0.4, \"#fde0ef\"], [0.5, \"#f7f7f7\"], [0.6, \"#e6f5d0\"], [0.7, \"#b8e186\"], [0.8, \"#7fbc41\"], [0.9, \"#4d9221\"], [1, \"#276419\"]], \"sequential\": [[0.0, \"#0d0887\"], [0.1111111111111111, \"#46039f\"], [0.2222222222222222, \"#7201a8\"], [0.3333333333333333, \"#9c179e\"], [0.4444444444444444, \"#bd3786\"], [0.5555555555555556, \"#d8576b\"], [0.6666666666666666, \"#ed7953\"], [0.7777777777777778, \"#fb9f3a\"], [0.8888888888888888, \"#fdca26\"], [1.0, \"#f0f921\"]], \"sequentialminus\": [[0.0, \"#0d0887\"], [0.1111111111111111, \"#46039f\"], [0.2222222222222222, \"#7201a8\"], [0.3333333333333333, \"#9c179e\"], [0.4444444444444444, \"#bd3786\"], [0.5555555555555556, \"#d8576b\"], [0.6666666666666666, \"#ed7953\"], [0.7777777777777778, \"#fb9f3a\"], [0.8888888888888888, \"#fdca26\"], [1.0, \"#f0f921\"]]}, \"colorway\": [\"#636efa\", \"#EF553B\", \"#00cc96\", \"#ab63fa\", \"#FFA15A\", \"#19d3f3\", \"#FF6692\", \"#B6E880\", \"#FF97FF\", \"#FECB52\"], \"font\": {\"color\": \"#2a3f5f\"}, \"geo\": {\"bgcolor\": \"white\", \"lakecolor\": \"white\", \"landcolor\": \"#E5ECF6\", \"showlakes\": true, \"showland\": true, \"subunitcolor\": \"white\"}, \"hoverlabel\": {\"align\": \"left\"}, \"hovermode\": \"closest\", \"mapbox\": {\"style\": \"light\"}, \"paper_bgcolor\": \"white\", \"plot_bgcolor\": \"#E5ECF6\", \"polar\": {\"angularaxis\": {\"gridcolor\": \"white\", \"linecolor\": \"white\", \"ticks\": \"\"}, \"bgcolor\": \"#E5ECF6\", \"radialaxis\": {\"gridcolor\": \"white\", \"linecolor\": \"white\", \"ticks\": \"\"}}, \"scene\": {\"xaxis\": {\"backgroundcolor\": \"#E5ECF6\", \"gridcolor\": \"white\", \"gridwidth\": 2, \"linecolor\": \"white\", \"showbackground\": true, \"ticks\": \"\", \"zerolinecolor\": \"white\"}, \"yaxis\": {\"backgroundcolor\": \"#E5ECF6\", \"gridcolor\": \"white\", \"gridwidth\": 2, \"linecolor\": \"white\", \"showbackground\": true, \"ticks\": \"\", \"zerolinecolor\": \"white\"}, \"zaxis\": {\"backgroundcolor\": \"#E5ECF6\", \"gridcolor\": \"white\", \"gridwidth\": 2, \"linecolor\": \"white\", \"showbackground\": true, \"ticks\": \"\", \"zerolinecolor\": \"white\"}}, \"shapedefaults\": {\"line\": {\"color\": \"#2a3f5f\"}}, \"ternary\": {\"aaxis\": {\"gridcolor\": \"white\", \"linecolor\": \"white\", \"ticks\": \"\"}, \"baxis\": {\"gridcolor\": \"white\", \"linecolor\": \"white\", \"ticks\": \"\"}, \"bgcolor\": \"#E5ECF6\", \"caxis\": {\"gridcolor\": \"white\", \"linecolor\": \"white\", \"ticks\": \"\"}}, \"title\": {\"x\": 0.05}, \"xaxis\": {\"automargin\": true, \"gridcolor\": \"white\", \"linecolor\": \"white\", \"ticks\": \"\", \"zerolinecolor\": \"white\", \"zerolinewidth\": 2}, \"yaxis\": {\"automargin\": true, \"gridcolor\": \"white\", \"linecolor\": \"white\", \"ticks\": \"\", \"zerolinecolor\": \"white\", \"zerolinewidth\": 2}}}, \"title\": {\"text\": \"\\ubb38\\ud56d\\ubcc4-\\uae30\\uad00\\ubcc4 \\ub9cc\\uc871\\ub3c4 \\ud604\\ud669\", \"x\": 0.5, \"y\": 0.83}},\n",
       "                        {\"responsive\": true}\n",
       "                    ).then(function(){\n",
       "                            \n",
       "var gd = document.getElementById('db3ecdac-24e8-4157-b321-9da47914d9d9');\n",
       "var x = new MutationObserver(function (mutations, observer) {{\n",
       "        var display = window.getComputedStyle(gd).display;\n",
       "        if (!display || display === 'none') {{\n",
       "            console.log([gd, 'removed!']);\n",
       "            Plotly.purge(gd);\n",
       "            observer.disconnect();\n",
       "        }}\n",
       "}});\n",
       "\n",
       "// Listen for the removal of the full notebook cells\n",
       "var notebookContainer = gd.closest('#notebook-container');\n",
       "if (notebookContainer) {{\n",
       "    x.observe(notebookContainer, {childList: true});\n",
       "}}\n",
       "\n",
       "// Listen for the clearing of the current output cell\n",
       "var outputEl = gd.closest('.output');\n",
       "if (outputEl) {{\n",
       "    x.observe(outputEl, {childList: true});\n",
       "}}\n",
       "\n",
       "                        })\n",
       "                };\n",
       "                });\n",
       "            </script>\n",
       "        </div>"
      ]
     },
     "metadata": {},
     "output_type": "display_data"
    }
   ],
   "source": [
    "fig = go.Figure(data=go.Table(\n",
    "    columnwidth = [170,45,45,42,85,80,40], #columnorder = [1,2],\n",
    "    header=dict(height=25, \n",
    "        values=list(pcs_mean.columns), fill_color='#094688',\n",
    "        font=dict(size=11, color='#ffffff'), align='center'),\n",
    "    cells=dict(\n",
    "        values=[pcs_mean[k].tolist() for k in pcs_mean.columns[:]],\n",
    "        font=dict(size=11, color='#000000'), align=['left', 'center'])))\n",
    "\n",
    "fig.update_layout(title=dict(text ='문항별-기관별 만족도 현황', x=0.5, y=0.83),\n",
    "                  font_size = 10)"
   ]
  },
  {
   "cell_type": "markdown",
   "metadata": {},
   "source": [
    "### 정책자문사례발표 만족도 응답 현황 2"
   ]
  },
  {
   "cell_type": "code",
   "execution_count": 181,
   "metadata": {
    "colab": {
     "base_uri": "https://localhost:8080/",
     "height": 1000
    },
    "colab_type": "code",
    "id": "IuNG5fXzZOoR",
    "outputId": "d61a41ec-9ac2-40f2-addf-2d72ceb9224d"
   },
   "outputs": [
    {
     "data": {
      "application/vnd.plotly.v1+json": {
       "config": {
        "plotlyServerURL": "https://plot.ly"
       },
       "data": [
        {
         "marker": {
          "cmax": 14.5,
          "cmin": -14.5,
          "color": [
           -12,
           -9,
           -1
          ],
          "colorscale": [
           [
            0,
            "rgb(103,0,31)"
           ],
           [
            0.1,
            "rgb(178,24,43)"
           ],
           [
            0.2,
            "rgb(214,96,77)"
           ],
           [
            0.3,
            "rgb(244,165,130)"
           ],
           [
            0.4,
            "rgb(253,219,199)"
           ],
           [
            0.5,
            "rgb(247,247,247)"
           ],
           [
            0.6,
            "rgb(209,229,240)"
           ],
           [
            0.7,
            "rgb(146,197,222)"
           ],
           [
            0.8,
            "rgb(67,147,195)"
           ],
           [
            0.9,
            "rgb(33,102,172)"
           ],
           [
            1,
            "rgb(5,48,97)"
           ]
          ]
         },
         "showlegend": false,
         "text": [
          12,
          9,
          1
         ],
         "textposition": "auto",
         "type": "bar",
         "x": [
          5,
          4,
          3
         ],
         "xaxis": "x",
         "y": [
          12,
          9,
          1
         ],
         "yaxis": "y"
        },
        {
         "marker": {
          "cmax": 14.5,
          "cmin": -14.5,
          "color": [
           -10,
           -10,
           -2
          ],
          "colorscale": [
           [
            0,
            "#440154"
           ],
           [
            0.1111111111111111,
            "#482878"
           ],
           [
            0.2222222222222222,
            "#3e4989"
           ],
           [
            0.3333333333333333,
            "#31688e"
           ],
           [
            0.4444444444444444,
            "#26828e"
           ],
           [
            0.5555555555555556,
            "#1f9e89"
           ],
           [
            0.6666666666666666,
            "#35b779"
           ],
           [
            0.7777777777777778,
            "#6ece58"
           ],
           [
            0.8888888888888888,
            "#b5de2b"
           ],
           [
            1,
            "#fde725"
           ]
          ]
         },
         "showlegend": false,
         "text": [
          10,
          10,
          2
         ],
         "textposition": "auto",
         "type": "bar",
         "x": [
          5,
          4,
          3
         ],
         "xaxis": "x2",
         "y": [
          10,
          10,
          2
         ],
         "yaxis": "y2"
        },
        {
         "marker": {
          "cmax": 14.5,
          "cmin": -14.5,
          "color": [
           -12,
           -8,
           -2
          ],
          "colorscale": [
           [
            0,
            "rgb(103,0,31)"
           ],
           [
            0.1,
            "rgb(178,24,43)"
           ],
           [
            0.2,
            "rgb(214,96,77)"
           ],
           [
            0.3,
            "rgb(244,165,130)"
           ],
           [
            0.4,
            "rgb(253,219,199)"
           ],
           [
            0.5,
            "rgb(247,247,247)"
           ],
           [
            0.6,
            "rgb(209,229,240)"
           ],
           [
            0.7,
            "rgb(146,197,222)"
           ],
           [
            0.8,
            "rgb(67,147,195)"
           ],
           [
            0.9,
            "rgb(33,102,172)"
           ],
           [
            1,
            "rgb(5,48,97)"
           ]
          ]
         },
         "showlegend": false,
         "text": [
          12,
          8,
          2
         ],
         "textposition": "auto",
         "type": "bar",
         "x": [
          5,
          4,
          3
         ],
         "xaxis": "x3",
         "y": [
          12,
          8,
          2
         ],
         "yaxis": "y3"
        },
        {
         "marker": {
          "cmax": 14.5,
          "cmin": -14.5,
          "color": [
           -11,
           -10,
           -1
          ],
          "colorscale": [
           [
            0,
            "#440154"
           ],
           [
            0.1111111111111111,
            "#482878"
           ],
           [
            0.2222222222222222,
            "#3e4989"
           ],
           [
            0.3333333333333333,
            "#31688e"
           ],
           [
            0.4444444444444444,
            "#26828e"
           ],
           [
            0.5555555555555556,
            "#1f9e89"
           ],
           [
            0.6666666666666666,
            "#35b779"
           ],
           [
            0.7777777777777778,
            "#6ece58"
           ],
           [
            0.8888888888888888,
            "#b5de2b"
           ],
           [
            1,
            "#fde725"
           ]
          ]
         },
         "showlegend": false,
         "text": [
          11,
          10,
          1
         ],
         "textposition": "auto",
         "type": "bar",
         "x": [
          4,
          5,
          3
         ],
         "xaxis": "x4",
         "y": [
          11,
          10,
          1
         ],
         "yaxis": "y4"
        },
        {
         "marker": {
          "cmax": 14.5,
          "cmin": -14.5,
          "color": [
           -11,
           -8,
           -3
          ],
          "colorscale": [
           [
            0,
            "rgb(103,0,31)"
           ],
           [
            0.1,
            "rgb(178,24,43)"
           ],
           [
            0.2,
            "rgb(214,96,77)"
           ],
           [
            0.3,
            "rgb(244,165,130)"
           ],
           [
            0.4,
            "rgb(253,219,199)"
           ],
           [
            0.5,
            "rgb(247,247,247)"
           ],
           [
            0.6,
            "rgb(209,229,240)"
           ],
           [
            0.7,
            "rgb(146,197,222)"
           ],
           [
            0.8,
            "rgb(67,147,195)"
           ],
           [
            0.9,
            "rgb(33,102,172)"
           ],
           [
            1,
            "rgb(5,48,97)"
           ]
          ]
         },
         "showlegend": false,
         "text": [
          11,
          8,
          3
         ],
         "textposition": "auto",
         "type": "bar",
         "x": [
          5,
          4,
          3
         ],
         "xaxis": "x5",
         "y": [
          11,
          8,
          3
         ],
         "yaxis": "y5"
        },
        {
         "marker": {
          "cmax": 14.5,
          "cmin": -14.5,
          "color": [
           -13,
           -7,
           -2
          ],
          "colorscale": [
           [
            0,
            "#440154"
           ],
           [
            0.1111111111111111,
            "#482878"
           ],
           [
            0.2222222222222222,
            "#3e4989"
           ],
           [
            0.3333333333333333,
            "#31688e"
           ],
           [
            0.4444444444444444,
            "#26828e"
           ],
           [
            0.5555555555555556,
            "#1f9e89"
           ],
           [
            0.6666666666666666,
            "#35b779"
           ],
           [
            0.7777777777777778,
            "#6ece58"
           ],
           [
            0.8888888888888888,
            "#b5de2b"
           ],
           [
            1,
            "#fde725"
           ]
          ]
         },
         "showlegend": false,
         "text": [
          13,
          7,
          2
         ],
         "textposition": "auto",
         "type": "bar",
         "x": [
          5,
          4,
          3
         ],
         "xaxis": "x6",
         "y": [
          13,
          7,
          2
         ],
         "yaxis": "y6"
        },
        {
         "cells": {
          "align": [
           "left",
           "center"
          ],
          "font": {
           "color": "#000000",
           "size": 12
          },
          "values": [
           [
            "연수내용을 이해하는데 도움이 되었다",
            "자료 작성 및 발표를 위한 안내가 충분히 이루어졌다",
            "현장에서 실무능력을 향상시키는데 도움이 되었다",
            "세션 담당자는 피드백을 충분히 제공하였다",
            "세션시간은 충분하였다",
            "주제는 교육과정 목표와 연계되어 있었다",
            "평균"
           ],
           [
            5,
            5,
            5,
            5,
            5,
            5,
            5
           ],
           [
            4.57,
            4.29,
            4.57,
            4.43,
            4.43,
            4.71,
            4.5
           ],
           [
            4.29,
            4.29,
            4.14,
            4.14,
            4.29,
            4.29,
            4.24
           ],
           [
            4.33,
            4.33,
            4.33,
            4.33,
            4,
            4.33,
            4.27
           ],
           [
            4.75,
            4.5,
            4.75,
            4.75,
            4.5,
            4.5,
            4.62
           ],
           [
            4.5,
            4.36,
            4.45,
            4.41,
            4.36,
            4.5,
            4.43
           ]
          ]
         },
         "columnwidth": [
          200,
          43,
          43,
          43,
          75,
          75,
          43
         ],
         "domain": {
          "x": [
           0,
           1
          ],
          "y": [
           0,
           0.1825
          ]
         },
         "header": {
          "align": "center",
          "fill": {
           "color": "#094688"
          },
          "font": {
           "color": "#ffffff",
           "size": 12
          },
          "height": 25,
          "values": [
           "문항",
           "국제기구",
           "민간기업",
           "서울시",
           "서울시 산하기관",
           "중앙부처/산하기관",
           "평균"
          ]
         },
         "type": "table"
        }
       ],
       "layout": {
        "annotations": [
         {
          "font": {
           "size": 16
          },
          "showarrow": false,
          "text": "연수내용을 이해하는데 도움이 되었다",
          "x": 0.225,
          "xanchor": "center",
          "xref": "paper",
          "y": 1,
          "yanchor": "bottom",
          "yref": "paper"
         },
         {
          "font": {
           "size": 16
          },
          "showarrow": false,
          "text": "자료 작성 및 발표를 위한 안내가 충분히 이루어졌다",
          "x": 0.775,
          "xanchor": "center",
          "xref": "paper",
          "y": 1,
          "yanchor": "bottom",
          "yref": "paper"
         },
         {
          "font": {
           "size": 16
          },
          "showarrow": false,
          "text": "현장에서 실무능력을 향상시키는데 도움이 되었다",
          "x": 0.225,
          "xanchor": "center",
          "xref": "paper",
          "y": 0.7274999999999999,
          "yanchor": "bottom",
          "yref": "paper"
         },
         {
          "font": {
           "size": 16
          },
          "showarrow": false,
          "text": "세션 담당자는 피드백을 충분히 제공하였다",
          "x": 0.775,
          "xanchor": "center",
          "xref": "paper",
          "y": 0.7274999999999999,
          "yanchor": "bottom",
          "yref": "paper"
         },
         {
          "font": {
           "size": 16
          },
          "showarrow": false,
          "text": "세션시간은 충분하였다",
          "x": 0.225,
          "xanchor": "center",
          "xref": "paper",
          "y": 0.45499999999999996,
          "yanchor": "bottom",
          "yref": "paper"
         },
         {
          "font": {
           "size": 16
          },
          "showarrow": false,
          "text": "주제는 교육과정 목표와 연계되어 있었다",
          "x": 0.775,
          "xanchor": "center",
          "xref": "paper",
          "y": 0.45499999999999996,
          "yanchor": "bottom",
          "yref": "paper"
         },
         {
          "font": {
           "size": 16
          },
          "showarrow": false,
          "text": "문항별, 기관별 만족도 현황",
          "x": 0.5,
          "xanchor": "center",
          "xref": "paper",
          "y": 0.1825,
          "yanchor": "bottom",
          "yref": "paper"
         }
        ],
        "font": {
         "size": 15
        },
        "height": 1100,
        "margin": {
         "t": 100
        },
        "template": {
         "data": {
          "bar": [
           {
            "error_x": {
             "color": "#2a3f5f"
            },
            "error_y": {
             "color": "#2a3f5f"
            },
            "marker": {
             "line": {
              "color": "#E5ECF6",
              "width": 0.5
             }
            },
            "type": "bar"
           }
          ],
          "barpolar": [
           {
            "marker": {
             "line": {
              "color": "#E5ECF6",
              "width": 0.5
             }
            },
            "type": "barpolar"
           }
          ],
          "carpet": [
           {
            "aaxis": {
             "endlinecolor": "#2a3f5f",
             "gridcolor": "white",
             "linecolor": "white",
             "minorgridcolor": "white",
             "startlinecolor": "#2a3f5f"
            },
            "baxis": {
             "endlinecolor": "#2a3f5f",
             "gridcolor": "white",
             "linecolor": "white",
             "minorgridcolor": "white",
             "startlinecolor": "#2a3f5f"
            },
            "type": "carpet"
           }
          ],
          "choropleth": [
           {
            "colorbar": {
             "outlinewidth": 0,
             "ticks": ""
            },
            "type": "choropleth"
           }
          ],
          "contour": [
           {
            "colorbar": {
             "outlinewidth": 0,
             "ticks": ""
            },
            "colorscale": [
             [
              0,
              "#0d0887"
             ],
             [
              0.1111111111111111,
              "#46039f"
             ],
             [
              0.2222222222222222,
              "#7201a8"
             ],
             [
              0.3333333333333333,
              "#9c179e"
             ],
             [
              0.4444444444444444,
              "#bd3786"
             ],
             [
              0.5555555555555556,
              "#d8576b"
             ],
             [
              0.6666666666666666,
              "#ed7953"
             ],
             [
              0.7777777777777778,
              "#fb9f3a"
             ],
             [
              0.8888888888888888,
              "#fdca26"
             ],
             [
              1,
              "#f0f921"
             ]
            ],
            "type": "contour"
           }
          ],
          "contourcarpet": [
           {
            "colorbar": {
             "outlinewidth": 0,
             "ticks": ""
            },
            "type": "contourcarpet"
           }
          ],
          "heatmap": [
           {
            "colorbar": {
             "outlinewidth": 0,
             "ticks": ""
            },
            "colorscale": [
             [
              0,
              "#0d0887"
             ],
             [
              0.1111111111111111,
              "#46039f"
             ],
             [
              0.2222222222222222,
              "#7201a8"
             ],
             [
              0.3333333333333333,
              "#9c179e"
             ],
             [
              0.4444444444444444,
              "#bd3786"
             ],
             [
              0.5555555555555556,
              "#d8576b"
             ],
             [
              0.6666666666666666,
              "#ed7953"
             ],
             [
              0.7777777777777778,
              "#fb9f3a"
             ],
             [
              0.8888888888888888,
              "#fdca26"
             ],
             [
              1,
              "#f0f921"
             ]
            ],
            "type": "heatmap"
           }
          ],
          "heatmapgl": [
           {
            "colorbar": {
             "outlinewidth": 0,
             "ticks": ""
            },
            "colorscale": [
             [
              0,
              "#0d0887"
             ],
             [
              0.1111111111111111,
              "#46039f"
             ],
             [
              0.2222222222222222,
              "#7201a8"
             ],
             [
              0.3333333333333333,
              "#9c179e"
             ],
             [
              0.4444444444444444,
              "#bd3786"
             ],
             [
              0.5555555555555556,
              "#d8576b"
             ],
             [
              0.6666666666666666,
              "#ed7953"
             ],
             [
              0.7777777777777778,
              "#fb9f3a"
             ],
             [
              0.8888888888888888,
              "#fdca26"
             ],
             [
              1,
              "#f0f921"
             ]
            ],
            "type": "heatmapgl"
           }
          ],
          "histogram": [
           {
            "marker": {
             "colorbar": {
              "outlinewidth": 0,
              "ticks": ""
             }
            },
            "type": "histogram"
           }
          ],
          "histogram2d": [
           {
            "colorbar": {
             "outlinewidth": 0,
             "ticks": ""
            },
            "colorscale": [
             [
              0,
              "#0d0887"
             ],
             [
              0.1111111111111111,
              "#46039f"
             ],
             [
              0.2222222222222222,
              "#7201a8"
             ],
             [
              0.3333333333333333,
              "#9c179e"
             ],
             [
              0.4444444444444444,
              "#bd3786"
             ],
             [
              0.5555555555555556,
              "#d8576b"
             ],
             [
              0.6666666666666666,
              "#ed7953"
             ],
             [
              0.7777777777777778,
              "#fb9f3a"
             ],
             [
              0.8888888888888888,
              "#fdca26"
             ],
             [
              1,
              "#f0f921"
             ]
            ],
            "type": "histogram2d"
           }
          ],
          "histogram2dcontour": [
           {
            "colorbar": {
             "outlinewidth": 0,
             "ticks": ""
            },
            "colorscale": [
             [
              0,
              "#0d0887"
             ],
             [
              0.1111111111111111,
              "#46039f"
             ],
             [
              0.2222222222222222,
              "#7201a8"
             ],
             [
              0.3333333333333333,
              "#9c179e"
             ],
             [
              0.4444444444444444,
              "#bd3786"
             ],
             [
              0.5555555555555556,
              "#d8576b"
             ],
             [
              0.6666666666666666,
              "#ed7953"
             ],
             [
              0.7777777777777778,
              "#fb9f3a"
             ],
             [
              0.8888888888888888,
              "#fdca26"
             ],
             [
              1,
              "#f0f921"
             ]
            ],
            "type": "histogram2dcontour"
           }
          ],
          "mesh3d": [
           {
            "colorbar": {
             "outlinewidth": 0,
             "ticks": ""
            },
            "type": "mesh3d"
           }
          ],
          "parcoords": [
           {
            "line": {
             "colorbar": {
              "outlinewidth": 0,
              "ticks": ""
             }
            },
            "type": "parcoords"
           }
          ],
          "scatter": [
           {
            "marker": {
             "colorbar": {
              "outlinewidth": 0,
              "ticks": ""
             }
            },
            "type": "scatter"
           }
          ],
          "scatter3d": [
           {
            "line": {
             "colorbar": {
              "outlinewidth": 0,
              "ticks": ""
             }
            },
            "marker": {
             "colorbar": {
              "outlinewidth": 0,
              "ticks": ""
             }
            },
            "type": "scatter3d"
           }
          ],
          "scattercarpet": [
           {
            "marker": {
             "colorbar": {
              "outlinewidth": 0,
              "ticks": ""
             }
            },
            "type": "scattercarpet"
           }
          ],
          "scattergeo": [
           {
            "marker": {
             "colorbar": {
              "outlinewidth": 0,
              "ticks": ""
             }
            },
            "type": "scattergeo"
           }
          ],
          "scattergl": [
           {
            "marker": {
             "colorbar": {
              "outlinewidth": 0,
              "ticks": ""
             }
            },
            "type": "scattergl"
           }
          ],
          "scattermapbox": [
           {
            "marker": {
             "colorbar": {
              "outlinewidth": 0,
              "ticks": ""
             }
            },
            "type": "scattermapbox"
           }
          ],
          "scatterpolar": [
           {
            "marker": {
             "colorbar": {
              "outlinewidth": 0,
              "ticks": ""
             }
            },
            "type": "scatterpolar"
           }
          ],
          "scatterpolargl": [
           {
            "marker": {
             "colorbar": {
              "outlinewidth": 0,
              "ticks": ""
             }
            },
            "type": "scatterpolargl"
           }
          ],
          "scatterternary": [
           {
            "marker": {
             "colorbar": {
              "outlinewidth": 0,
              "ticks": ""
             }
            },
            "type": "scatterternary"
           }
          ],
          "surface": [
           {
            "colorbar": {
             "outlinewidth": 0,
             "ticks": ""
            },
            "colorscale": [
             [
              0,
              "#0d0887"
             ],
             [
              0.1111111111111111,
              "#46039f"
             ],
             [
              0.2222222222222222,
              "#7201a8"
             ],
             [
              0.3333333333333333,
              "#9c179e"
             ],
             [
              0.4444444444444444,
              "#bd3786"
             ],
             [
              0.5555555555555556,
              "#d8576b"
             ],
             [
              0.6666666666666666,
              "#ed7953"
             ],
             [
              0.7777777777777778,
              "#fb9f3a"
             ],
             [
              0.8888888888888888,
              "#fdca26"
             ],
             [
              1,
              "#f0f921"
             ]
            ],
            "type": "surface"
           }
          ],
          "table": [
           {
            "cells": {
             "fill": {
              "color": "#EBF0F8"
             },
             "line": {
              "color": "white"
             }
            },
            "header": {
             "fill": {
              "color": "#C8D4E3"
             },
             "line": {
              "color": "white"
             }
            },
            "type": "table"
           }
          ]
         },
         "layout": {
          "annotationdefaults": {
           "arrowcolor": "#2a3f5f",
           "arrowhead": 0,
           "arrowwidth": 1
          },
          "colorscale": {
           "diverging": [
            [
             0,
             "#8e0152"
            ],
            [
             0.1,
             "#c51b7d"
            ],
            [
             0.2,
             "#de77ae"
            ],
            [
             0.3,
             "#f1b6da"
            ],
            [
             0.4,
             "#fde0ef"
            ],
            [
             0.5,
             "#f7f7f7"
            ],
            [
             0.6,
             "#e6f5d0"
            ],
            [
             0.7,
             "#b8e186"
            ],
            [
             0.8,
             "#7fbc41"
            ],
            [
             0.9,
             "#4d9221"
            ],
            [
             1,
             "#276419"
            ]
           ],
           "sequential": [
            [
             0,
             "#0d0887"
            ],
            [
             0.1111111111111111,
             "#46039f"
            ],
            [
             0.2222222222222222,
             "#7201a8"
            ],
            [
             0.3333333333333333,
             "#9c179e"
            ],
            [
             0.4444444444444444,
             "#bd3786"
            ],
            [
             0.5555555555555556,
             "#d8576b"
            ],
            [
             0.6666666666666666,
             "#ed7953"
            ],
            [
             0.7777777777777778,
             "#fb9f3a"
            ],
            [
             0.8888888888888888,
             "#fdca26"
            ],
            [
             1,
             "#f0f921"
            ]
           ],
           "sequentialminus": [
            [
             0,
             "#0d0887"
            ],
            [
             0.1111111111111111,
             "#46039f"
            ],
            [
             0.2222222222222222,
             "#7201a8"
            ],
            [
             0.3333333333333333,
             "#9c179e"
            ],
            [
             0.4444444444444444,
             "#bd3786"
            ],
            [
             0.5555555555555556,
             "#d8576b"
            ],
            [
             0.6666666666666666,
             "#ed7953"
            ],
            [
             0.7777777777777778,
             "#fb9f3a"
            ],
            [
             0.8888888888888888,
             "#fdca26"
            ],
            [
             1,
             "#f0f921"
            ]
           ]
          },
          "colorway": [
           "#636efa",
           "#EF553B",
           "#00cc96",
           "#ab63fa",
           "#FFA15A",
           "#19d3f3",
           "#FF6692",
           "#B6E880",
           "#FF97FF",
           "#FECB52"
          ],
          "font": {
           "color": "#2a3f5f"
          },
          "geo": {
           "bgcolor": "white",
           "lakecolor": "white",
           "landcolor": "#E5ECF6",
           "showlakes": true,
           "showland": true,
           "subunitcolor": "white"
          },
          "hoverlabel": {
           "align": "left"
          },
          "hovermode": "closest",
          "mapbox": {
           "style": "light"
          },
          "paper_bgcolor": "white",
          "plot_bgcolor": "#E5ECF6",
          "polar": {
           "angularaxis": {
            "gridcolor": "white",
            "linecolor": "white",
            "ticks": ""
           },
           "bgcolor": "#E5ECF6",
           "radialaxis": {
            "gridcolor": "white",
            "linecolor": "white",
            "ticks": ""
           }
          },
          "scene": {
           "xaxis": {
            "backgroundcolor": "#E5ECF6",
            "gridcolor": "white",
            "gridwidth": 2,
            "linecolor": "white",
            "showbackground": true,
            "ticks": "",
            "zerolinecolor": "white"
           },
           "yaxis": {
            "backgroundcolor": "#E5ECF6",
            "gridcolor": "white",
            "gridwidth": 2,
            "linecolor": "white",
            "showbackground": true,
            "ticks": "",
            "zerolinecolor": "white"
           },
           "zaxis": {
            "backgroundcolor": "#E5ECF6",
            "gridcolor": "white",
            "gridwidth": 2,
            "linecolor": "white",
            "showbackground": true,
            "ticks": "",
            "zerolinecolor": "white"
           }
          },
          "shapedefaults": {
           "line": {
            "color": "#2a3f5f"
           }
          },
          "ternary": {
           "aaxis": {
            "gridcolor": "white",
            "linecolor": "white",
            "ticks": ""
           },
           "baxis": {
            "gridcolor": "white",
            "linecolor": "white",
            "ticks": ""
           },
           "bgcolor": "#E5ECF6",
           "caxis": {
            "gridcolor": "white",
            "linecolor": "white",
            "ticks": ""
           }
          },
          "title": {
           "x": 0.05
          },
          "xaxis": {
           "automargin": true,
           "gridcolor": "white",
           "linecolor": "white",
           "ticks": "",
           "zerolinecolor": "white",
           "zerolinewidth": 2
          },
          "yaxis": {
           "automargin": true,
           "gridcolor": "white",
           "linecolor": "white",
           "ticks": "",
           "zerolinecolor": "white",
           "zerolinewidth": 2
          }
         }
        },
        "title": {
         "text": "정책자문사례발표 만족도 응답 현황",
         "x": 0.5,
         "y": 0.97
        },
        "width": 950,
        "xaxis": {
         "anchor": "y",
         "autorange": true,
         "domain": [
          0,
          0.45
         ],
         "range": [
          2.5,
          5.5
         ],
         "type": "linear"
        },
        "xaxis2": {
         "anchor": "y2",
         "autorange": true,
         "domain": [
          0.55,
          1
         ],
         "range": [
          2.5,
          5.5
         ],
         "type": "linear"
        },
        "xaxis3": {
         "anchor": "y3",
         "autorange": true,
         "domain": [
          0,
          0.45
         ],
         "range": [
          2.5,
          5.5
         ],
         "type": "linear"
        },
        "xaxis4": {
         "anchor": "y4",
         "autorange": true,
         "domain": [
          0.55,
          1
         ],
         "range": [
          2.5,
          5.5
         ],
         "type": "linear"
        },
        "xaxis5": {
         "anchor": "y5",
         "domain": [
          0,
          0.45
         ],
         "range": [
          2.5,
          5.5
         ],
         "title": {
          "font": {
           "size": 13
          },
          "text": "<b>만족도</b>"
         },
         "type": "linear"
        },
        "xaxis6": {
         "anchor": "y6",
         "domain": [
          0.55,
          1
         ],
         "range": [
          2.5,
          5.5
         ],
         "title": {
          "font": {
           "size": 13
          },
          "text": "<b>만족도</b>"
         },
         "type": "linear"
        },
        "yaxis": {
         "anchor": "x",
         "domain": [
          0.8175,
          1
         ],
         "range": [
          0,
          13.5
         ],
         "title": {
          "font": {
           "size": 13
          },
          "text": "<b>응답자수</b>"
         },
         "type": "linear"
        },
        "yaxis2": {
         "anchor": "x2",
         "autorange": true,
         "domain": [
          0.8175,
          1
         ],
         "range": [
          0,
          10.526315789473685
         ],
         "type": "linear"
        },
        "yaxis3": {
         "anchor": "x3",
         "domain": [
          0.5449999999999999,
          0.7274999999999999
         ],
         "range": [
          0,
          13.5
         ],
         "title": {
          "font": {
           "size": 13
          },
          "text": "<b>응답자수</b>"
         },
         "type": "linear"
        },
        "yaxis4": {
         "anchor": "x4",
         "autorange": true,
         "domain": [
          0.5449999999999999,
          0.7274999999999999
         ],
         "range": [
          0,
          11.578947368421053
         ],
         "type": "linear"
        },
        "yaxis5": {
         "anchor": "x5",
         "domain": [
          0.27249999999999996,
          0.45499999999999996
         ],
         "range": [
          0,
          13.5
         ],
         "title": {
          "font": {
           "size": 13
          },
          "text": "<b>응답자수</b>"
         },
         "type": "linear"
        },
        "yaxis6": {
         "anchor": "x6",
         "autorange": true,
         "domain": [
          0.27249999999999996,
          0.45499999999999996
         ],
         "range": [
          0,
          13.68421052631579
         ],
         "type": "linear"
        }
       }
      },
      "image/png": "[encoded data removed]",
      "text/html": [
       "<div>\n",
       "        \n",
       "        \n",
       "            <div id=\"741bb88e-d3e9-4e12-8a96-a18eb82475c6\" class=\"plotly-graph-div\" style=\"height:1100px; width:950px;\"></div>\n",
       "            <script type=\"text/javascript\">\n",
       "                require([\"plotly\"], function(Plotly) {\n",
       "                    window.PLOTLYENV=window.PLOTLYENV || {};\n",
       "                    \n",
       "                if (document.getElementById(\"741bb88e-d3e9-4e12-8a96-a18eb82475c6\")) {\n",
       "                    Plotly.newPlot(\n",
       "                        '741bb88e-d3e9-4e12-8a96-a18eb82475c6',\n",
       "                        [{\"marker\": {\"cmax\": 14.5, \"cmin\": -14.5, \"color\": [-12, -9, -1], \"colorscale\": [[0.0, \"rgb(103,0,31)\"], [0.1, \"rgb(178,24,43)\"], [0.2, \"rgb(214,96,77)\"], [0.3, \"rgb(244,165,130)\"], [0.4, \"rgb(253,219,199)\"], [0.5, \"rgb(247,247,247)\"], [0.6, \"rgb(209,229,240)\"], [0.7, \"rgb(146,197,222)\"], [0.8, \"rgb(67,147,195)\"], [0.9, \"rgb(33,102,172)\"], [1.0, \"rgb(5,48,97)\"]]}, \"showlegend\": false, \"text\": [12.0, 9.0, 1.0], \"textposition\": \"auto\", \"type\": \"bar\", \"x\": [5, 4, 3], \"xaxis\": \"x\", \"y\": [12, 9, 1], \"yaxis\": \"y\"}, {\"marker\": {\"cmax\": 14.5, \"cmin\": -14.5, \"color\": [-10, -10, -2], \"colorscale\": [[0.0, \"#440154\"], [0.1111111111111111, \"#482878\"], [0.2222222222222222, \"#3e4989\"], [0.3333333333333333, \"#31688e\"], [0.4444444444444444, \"#26828e\"], [0.5555555555555556, \"#1f9e89\"], [0.6666666666666666, \"#35b779\"], [0.7777777777777778, \"#6ece58\"], [0.8888888888888888, \"#b5de2b\"], [1.0, \"#fde725\"]]}, \"showlegend\": false, \"text\": [10.0, 10.0, 2.0], \"textposition\": \"auto\", \"type\": \"bar\", \"x\": [5, 4, 3], \"xaxis\": \"x2\", \"y\": [10, 10, 2], \"yaxis\": \"y2\"}, {\"marker\": {\"cmax\": 14.5, \"cmin\": -14.5, \"color\": [-12, -8, -2], \"colorscale\": [[0.0, \"rgb(103,0,31)\"], [0.1, \"rgb(178,24,43)\"], [0.2, \"rgb(214,96,77)\"], [0.3, \"rgb(244,165,130)\"], [0.4, \"rgb(253,219,199)\"], [0.5, \"rgb(247,247,247)\"], [0.6, \"rgb(209,229,240)\"], [0.7, \"rgb(146,197,222)\"], [0.8, \"rgb(67,147,195)\"], [0.9, \"rgb(33,102,172)\"], [1.0, \"rgb(5,48,97)\"]]}, \"showlegend\": false, \"text\": [12.0, 8.0, 2.0], \"textposition\": \"auto\", \"type\": \"bar\", \"x\": [5, 4, 3], \"xaxis\": \"x3\", \"y\": [12, 8, 2], \"yaxis\": \"y3\"}, {\"marker\": {\"cmax\": 14.5, \"cmin\": -14.5, \"color\": [-11, -10, -1], \"colorscale\": [[0.0, \"#440154\"], [0.1111111111111111, \"#482878\"], [0.2222222222222222, \"#3e4989\"], [0.3333333333333333, \"#31688e\"], [0.4444444444444444, \"#26828e\"], [0.5555555555555556, \"#1f9e89\"], [0.6666666666666666, \"#35b779\"], [0.7777777777777778, \"#6ece58\"], [0.8888888888888888, \"#b5de2b\"], [1.0, \"#fde725\"]]}, \"showlegend\": false, \"text\": [11.0, 10.0, 1.0], \"textposition\": \"auto\", \"type\": \"bar\", \"x\": [4, 5, 3], \"xaxis\": \"x4\", \"y\": [11, 10, 1], \"yaxis\": \"y4\"}, {\"marker\": {\"cmax\": 14.5, \"cmin\": -14.5, \"color\": [-11, -8, -3], \"colorscale\": [[0.0, \"rgb(103,0,31)\"], [0.1, \"rgb(178,24,43)\"], [0.2, \"rgb(214,96,77)\"], [0.3, \"rgb(244,165,130)\"], [0.4, \"rgb(253,219,199)\"], [0.5, \"rgb(247,247,247)\"], [0.6, \"rgb(209,229,240)\"], [0.7, \"rgb(146,197,222)\"], [0.8, \"rgb(67,147,195)\"], [0.9, \"rgb(33,102,172)\"], [1.0, \"rgb(5,48,97)\"]]}, \"showlegend\": false, \"text\": [11.0, 8.0, 3.0], \"textposition\": \"auto\", \"type\": \"bar\", \"x\": [5, 4, 3], \"xaxis\": \"x5\", \"y\": [11, 8, 3], \"yaxis\": \"y5\"}, {\"marker\": {\"cmax\": 14.5, \"cmin\": -14.5, \"color\": [-13, -7, -2], \"colorscale\": [[0.0, \"#440154\"], [0.1111111111111111, \"#482878\"], [0.2222222222222222, \"#3e4989\"], [0.3333333333333333, \"#31688e\"], [0.4444444444444444, \"#26828e\"], [0.5555555555555556, \"#1f9e89\"], [0.6666666666666666, \"#35b779\"], [0.7777777777777778, \"#6ece58\"], [0.8888888888888888, \"#b5de2b\"], [1.0, \"#fde725\"]]}, \"showlegend\": false, \"text\": [13.0, 7.0, 2.0], \"textposition\": \"auto\", \"type\": \"bar\", \"x\": [5, 4, 3], \"xaxis\": \"x6\", \"y\": [13, 7, 2], \"yaxis\": \"y6\"}, {\"cells\": {\"align\": [\"left\", \"center\"], \"font\": {\"color\": \"#000000\", \"size\": 12}, \"values\": [[\"\\uc5f0\\uc218\\ub0b4\\uc6a9\\uc744 \\uc774\\ud574\\ud558\\ub294\\ub370 \\ub3c4\\uc6c0\\uc774 \\ub418\\uc5c8\\ub2e4\", \"\\uc790\\ub8cc \\uc791\\uc131 \\ubc0f \\ubc1c\\ud45c\\ub97c \\uc704\\ud55c \\uc548\\ub0b4\\uac00 \\ucda9\\ubd84\\ud788 \\uc774\\ub8e8\\uc5b4\\uc84c\\ub2e4\", \"\\ud604\\uc7a5\\uc5d0\\uc11c \\uc2e4\\ubb34\\ub2a5\\ub825\\uc744 \\ud5a5\\uc0c1\\uc2dc\\ud0a4\\ub294\\ub370 \\ub3c4\\uc6c0\\uc774 \\ub418\\uc5c8\\ub2e4\", \"\\uc138\\uc158 \\ub2f4\\ub2f9\\uc790\\ub294 \\ud53c\\ub4dc\\ubc31\\uc744 \\ucda9\\ubd84\\ud788 \\uc81c\\uacf5\\ud558\\uc600\\ub2e4\", \"\\uc138\\uc158\\uc2dc\\uac04\\uc740 \\ucda9\\ubd84\\ud558\\uc600\\ub2e4\", \"\\uc8fc\\uc81c\\ub294 \\uad50\\uc721\\uacfc\\uc815 \\ubaa9\\ud45c\\uc640 \\uc5f0\\uacc4\\ub418\\uc5b4 \\uc788\\uc5c8\\ub2e4\", \"\\ud3c9\\uade0\"], [5.0, 5.0, 5.0, 5.0, 5.0, 5.0, 5.0], [4.57, 4.29, 4.57, 4.43, 4.43, 4.71, 4.5], [4.29, 4.29, 4.14, 4.14, 4.29, 4.29, 4.24], [4.33, 4.33, 4.33, 4.33, 4.0, 4.33, 4.27], [4.75, 4.5, 4.75, 4.75, 4.5, 4.5, 4.62], [4.5, 4.36, 4.45, 4.41, 4.36, 4.5, 4.43]]}, \"columnwidth\": [200, 43, 43, 43, 75, 75, 43], \"domain\": {\"x\": [0.0, 1.0], \"y\": [0.0, 0.1825]}, \"header\": {\"align\": \"center\", \"fill\": {\"color\": \"#094688\"}, \"font\": {\"color\": \"#ffffff\", \"size\": 12}, \"height\": 25, \"values\": [\"\\ubb38\\ud56d\", \"\\uad6d\\uc81c\\uae30\\uad6c\", \"\\ubbfc\\uac04\\uae30\\uc5c5\", \"\\uc11c\\uc6b8\\uc2dc\", \"\\uc11c\\uc6b8\\uc2dc \\uc0b0\\ud558\\uae30\\uad00\", \"\\uc911\\uc559\\ubd80\\ucc98/\\uc0b0\\ud558\\uae30\\uad00\", \"\\ud3c9\\uade0\"]}, \"type\": \"table\"}],\n",
       "                        {\"annotations\": [{\"font\": {\"size\": 16}, \"showarrow\": false, \"text\": \"\\uc5f0\\uc218\\ub0b4\\uc6a9\\uc744 \\uc774\\ud574\\ud558\\ub294\\ub370 \\ub3c4\\uc6c0\\uc774 \\ub418\\uc5c8\\ub2e4\", \"x\": 0.225, \"xanchor\": \"center\", \"xref\": \"paper\", \"y\": 1.0, \"yanchor\": \"bottom\", \"yref\": \"paper\"}, {\"font\": {\"size\": 16}, \"showarrow\": false, \"text\": \"\\uc790\\ub8cc \\uc791\\uc131 \\ubc0f \\ubc1c\\ud45c\\ub97c \\uc704\\ud55c \\uc548\\ub0b4\\uac00 \\ucda9\\ubd84\\ud788 \\uc774\\ub8e8\\uc5b4\\uc84c\\ub2e4\", \"x\": 0.775, \"xanchor\": \"center\", \"xref\": \"paper\", \"y\": 1.0, \"yanchor\": \"bottom\", \"yref\": \"paper\"}, {\"font\": {\"size\": 16}, \"showarrow\": false, \"text\": \"\\ud604\\uc7a5\\uc5d0\\uc11c \\uc2e4\\ubb34\\ub2a5\\ub825\\uc744 \\ud5a5\\uc0c1\\uc2dc\\ud0a4\\ub294\\ub370 \\ub3c4\\uc6c0\\uc774 \\ub418\\uc5c8\\ub2e4\", \"x\": 0.225, \"xanchor\": \"center\", \"xref\": \"paper\", \"y\": 0.7274999999999999, \"yanchor\": \"bottom\", \"yref\": \"paper\"}, {\"font\": {\"size\": 16}, \"showarrow\": false, \"text\": \"\\uc138\\uc158 \\ub2f4\\ub2f9\\uc790\\ub294 \\ud53c\\ub4dc\\ubc31\\uc744 \\ucda9\\ubd84\\ud788 \\uc81c\\uacf5\\ud558\\uc600\\ub2e4\", \"x\": 0.775, \"xanchor\": \"center\", \"xref\": \"paper\", \"y\": 0.7274999999999999, \"yanchor\": \"bottom\", \"yref\": \"paper\"}, {\"font\": {\"size\": 16}, \"showarrow\": false, \"text\": \"\\uc138\\uc158\\uc2dc\\uac04\\uc740 \\ucda9\\ubd84\\ud558\\uc600\\ub2e4\", \"x\": 0.225, \"xanchor\": \"center\", \"xref\": \"paper\", \"y\": 0.45499999999999996, \"yanchor\": \"bottom\", \"yref\": \"paper\"}, {\"font\": {\"size\": 16}, \"showarrow\": false, \"text\": \"\\uc8fc\\uc81c\\ub294 \\uad50\\uc721\\uacfc\\uc815 \\ubaa9\\ud45c\\uc640 \\uc5f0\\uacc4\\ub418\\uc5b4 \\uc788\\uc5c8\\ub2e4\", \"x\": 0.775, \"xanchor\": \"center\", \"xref\": \"paper\", \"y\": 0.45499999999999996, \"yanchor\": \"bottom\", \"yref\": \"paper\"}, {\"font\": {\"size\": 16}, \"showarrow\": false, \"text\": \"\\ubb38\\ud56d\\ubcc4, \\uae30\\uad00\\ubcc4 \\ub9cc\\uc871\\ub3c4 \\ud604\\ud669\", \"x\": 0.5, \"xanchor\": \"center\", \"xref\": \"paper\", \"y\": 0.1825, \"yanchor\": \"bottom\", \"yref\": \"paper\"}], \"font\": {\"size\": 15}, \"height\": 1100, \"margin\": {\"t\": 100}, \"template\": {\"data\": {\"bar\": [{\"error_x\": {\"color\": \"#2a3f5f\"}, \"error_y\": {\"color\": \"#2a3f5f\"}, \"marker\": {\"line\": {\"color\": \"#E5ECF6\", \"width\": 0.5}}, \"type\": \"bar\"}], \"barpolar\": [{\"marker\": {\"line\": {\"color\": \"#E5ECF6\", \"width\": 0.5}}, \"type\": \"barpolar\"}], \"carpet\": [{\"aaxis\": {\"endlinecolor\": \"#2a3f5f\", \"gridcolor\": \"white\", \"linecolor\": \"white\", \"minorgridcolor\": \"white\", \"startlinecolor\": \"#2a3f5f\"}, \"baxis\": {\"endlinecolor\": \"#2a3f5f\", \"gridcolor\": \"white\", \"linecolor\": \"white\", \"minorgridcolor\": \"white\", \"startlinecolor\": \"#2a3f5f\"}, \"type\": \"carpet\"}], \"choropleth\": [{\"colorbar\": {\"outlinewidth\": 0, \"ticks\": \"\"}, \"type\": \"choropleth\"}], \"contour\": [{\"colorbar\": {\"outlinewidth\": 0, \"ticks\": \"\"}, \"colorscale\": [[0.0, \"#0d0887\"], [0.1111111111111111, \"#46039f\"], [0.2222222222222222, \"#7201a8\"], [0.3333333333333333, \"#9c179e\"], [0.4444444444444444, \"#bd3786\"], [0.5555555555555556, \"#d8576b\"], [0.6666666666666666, \"#ed7953\"], [0.7777777777777778, \"#fb9f3a\"], [0.8888888888888888, \"#fdca26\"], [1.0, \"#f0f921\"]], \"type\": \"contour\"}], \"contourcarpet\": [{\"colorbar\": {\"outlinewidth\": 0, \"ticks\": \"\"}, \"type\": \"contourcarpet\"}], \"heatmap\": [{\"colorbar\": {\"outlinewidth\": 0, \"ticks\": \"\"}, \"colorscale\": [[0.0, \"#0d0887\"], [0.1111111111111111, \"#46039f\"], [0.2222222222222222, \"#7201a8\"], [0.3333333333333333, \"#9c179e\"], [0.4444444444444444, \"#bd3786\"], [0.5555555555555556, \"#d8576b\"], [0.6666666666666666, \"#ed7953\"], [0.7777777777777778, \"#fb9f3a\"], [0.8888888888888888, \"#fdca26\"], [1.0, \"#f0f921\"]], \"type\": \"heatmap\"}], \"heatmapgl\": [{\"colorbar\": {\"outlinewidth\": 0, \"ticks\": \"\"}, \"colorscale\": [[0.0, \"#0d0887\"], [0.1111111111111111, \"#46039f\"], [0.2222222222222222, \"#7201a8\"], [0.3333333333333333, \"#9c179e\"], [0.4444444444444444, \"#bd3786\"], [0.5555555555555556, \"#d8576b\"], [0.6666666666666666, \"#ed7953\"], [0.7777777777777778, \"#fb9f3a\"], [0.8888888888888888, \"#fdca26\"], [1.0, \"#f0f921\"]], \"type\": \"heatmapgl\"}], \"histogram\": [{\"marker\": {\"colorbar\": {\"outlinewidth\": 0, \"ticks\": \"\"}}, \"type\": \"histogram\"}], \"histogram2d\": [{\"colorbar\": {\"outlinewidth\": 0, \"ticks\": \"\"}, \"colorscale\": [[0.0, \"#0d0887\"], [0.1111111111111111, \"#46039f\"], [0.2222222222222222, \"#7201a8\"], [0.3333333333333333, \"#9c179e\"], [0.4444444444444444, \"#bd3786\"], [0.5555555555555556, \"#d8576b\"], [0.6666666666666666, \"#ed7953\"], [0.7777777777777778, \"#fb9f3a\"], [0.8888888888888888, \"#fdca26\"], [1.0, \"#f0f921\"]], \"type\": \"histogram2d\"}], \"histogram2dcontour\": [{\"colorbar\": {\"outlinewidth\": 0, \"ticks\": \"\"}, \"colorscale\": [[0.0, \"#0d0887\"], [0.1111111111111111, \"#46039f\"], [0.2222222222222222, \"#7201a8\"], [0.3333333333333333, \"#9c179e\"], [0.4444444444444444, \"#bd3786\"], [0.5555555555555556, \"#d8576b\"], [0.6666666666666666, \"#ed7953\"], [0.7777777777777778, \"#fb9f3a\"], [0.8888888888888888, \"#fdca26\"], [1.0, \"#f0f921\"]], \"type\": \"histogram2dcontour\"}], \"mesh3d\": [{\"colorbar\": {\"outlinewidth\": 0, \"ticks\": \"\"}, \"type\": \"mesh3d\"}], \"parcoords\": [{\"line\": {\"colorbar\": {\"outlinewidth\": 0, \"ticks\": \"\"}}, \"type\": \"parcoords\"}], \"scatter\": [{\"marker\": {\"colorbar\": {\"outlinewidth\": 0, \"ticks\": \"\"}}, \"type\": \"scatter\"}], \"scatter3d\": [{\"line\": {\"colorbar\": {\"outlinewidth\": 0, \"ticks\": \"\"}}, \"marker\": {\"colorbar\": {\"outlinewidth\": 0, \"ticks\": \"\"}}, \"type\": \"scatter3d\"}], \"scattercarpet\": [{\"marker\": {\"colorbar\": {\"outlinewidth\": 0, \"ticks\": \"\"}}, \"type\": \"scattercarpet\"}], \"scattergeo\": [{\"marker\": {\"colorbar\": {\"outlinewidth\": 0, \"ticks\": \"\"}}, \"type\": \"scattergeo\"}], \"scattergl\": [{\"marker\": {\"colorbar\": {\"outlinewidth\": 0, \"ticks\": \"\"}}, \"type\": \"scattergl\"}], \"scattermapbox\": [{\"marker\": {\"colorbar\": {\"outlinewidth\": 0, \"ticks\": \"\"}}, \"type\": \"scattermapbox\"}], \"scatterpolar\": [{\"marker\": {\"colorbar\": {\"outlinewidth\": 0, \"ticks\": \"\"}}, \"type\": \"scatterpolar\"}], \"scatterpolargl\": [{\"marker\": {\"colorbar\": {\"outlinewidth\": 0, \"ticks\": \"\"}}, \"type\": \"scatterpolargl\"}], \"scatterternary\": [{\"marker\": {\"colorbar\": {\"outlinewidth\": 0, \"ticks\": \"\"}}, \"type\": \"scatterternary\"}], \"surface\": [{\"colorbar\": {\"outlinewidth\": 0, \"ticks\": \"\"}, \"colorscale\": [[0.0, \"#0d0887\"], [0.1111111111111111, \"#46039f\"], [0.2222222222222222, \"#7201a8\"], [0.3333333333333333, \"#9c179e\"], [0.4444444444444444, \"#bd3786\"], [0.5555555555555556, \"#d8576b\"], [0.6666666666666666, \"#ed7953\"], [0.7777777777777778, \"#fb9f3a\"], [0.8888888888888888, \"#fdca26\"], [1.0, \"#f0f921\"]], \"type\": \"surface\"}], \"table\": [{\"cells\": {\"fill\": {\"color\": \"#EBF0F8\"}, \"line\": {\"color\": \"white\"}}, \"header\": {\"fill\": {\"color\": \"#C8D4E3\"}, \"line\": {\"color\": \"white\"}}, \"type\": \"table\"}]}, \"layout\": {\"annotationdefaults\": {\"arrowcolor\": \"#2a3f5f\", \"arrowhead\": 0, \"arrowwidth\": 1}, \"colorscale\": {\"diverging\": [[0, \"#8e0152\"], [0.1, \"#c51b7d\"], [0.2, \"#de77ae\"], [0.3, \"#f1b6da\"], [0.4, \"#fde0ef\"], [0.5, \"#f7f7f7\"], [0.6, \"#e6f5d0\"], [0.7, \"#b8e186\"], [0.8, \"#7fbc41\"], [0.9, \"#4d9221\"], [1, \"#276419\"]], \"sequential\": [[0.0, \"#0d0887\"], [0.1111111111111111, \"#46039f\"], [0.2222222222222222, \"#7201a8\"], [0.3333333333333333, \"#9c179e\"], [0.4444444444444444, \"#bd3786\"], [0.5555555555555556, \"#d8576b\"], [0.6666666666666666, \"#ed7953\"], [0.7777777777777778, \"#fb9f3a\"], [0.8888888888888888, \"#fdca26\"], [1.0, \"#f0f921\"]], \"sequentialminus\": [[0.0, \"#0d0887\"], [0.1111111111111111, \"#46039f\"], [0.2222222222222222, \"#7201a8\"], [0.3333333333333333, \"#9c179e\"], [0.4444444444444444, \"#bd3786\"], [0.5555555555555556, \"#d8576b\"], [0.6666666666666666, \"#ed7953\"], [0.7777777777777778, \"#fb9f3a\"], [0.8888888888888888, \"#fdca26\"], [1.0, \"#f0f921\"]]}, \"colorway\": [\"#636efa\", \"#EF553B\", \"#00cc96\", \"#ab63fa\", \"#FFA15A\", \"#19d3f3\", \"#FF6692\", \"#B6E880\", \"#FF97FF\", \"#FECB52\"], \"font\": {\"color\": \"#2a3f5f\"}, \"geo\": {\"bgcolor\": \"white\", \"lakecolor\": \"white\", \"landcolor\": \"#E5ECF6\", \"showlakes\": true, \"showland\": true, \"subunitcolor\": \"white\"}, \"hoverlabel\": {\"align\": \"left\"}, \"hovermode\": \"closest\", \"mapbox\": {\"style\": \"light\"}, \"paper_bgcolor\": \"white\", \"plot_bgcolor\": \"#E5ECF6\", \"polar\": {\"angularaxis\": {\"gridcolor\": \"white\", \"linecolor\": \"white\", \"ticks\": \"\"}, \"bgcolor\": \"#E5ECF6\", \"radialaxis\": {\"gridcolor\": \"white\", \"linecolor\": \"white\", \"ticks\": \"\"}}, \"scene\": {\"xaxis\": {\"backgroundcolor\": \"#E5ECF6\", \"gridcolor\": \"white\", \"gridwidth\": 2, \"linecolor\": \"white\", \"showbackground\": true, \"ticks\": \"\", \"zerolinecolor\": \"white\"}, \"yaxis\": {\"backgroundcolor\": \"#E5ECF6\", \"gridcolor\": \"white\", \"gridwidth\": 2, \"linecolor\": \"white\", \"showbackground\": true, \"ticks\": \"\", \"zerolinecolor\": \"white\"}, \"zaxis\": {\"backgroundcolor\": \"#E5ECF6\", \"gridcolor\": \"white\", \"gridwidth\": 2, \"linecolor\": \"white\", \"showbackground\": true, \"ticks\": \"\", \"zerolinecolor\": \"white\"}}, \"shapedefaults\": {\"line\": {\"color\": \"#2a3f5f\"}}, \"ternary\": {\"aaxis\": {\"gridcolor\": \"white\", \"linecolor\": \"white\", \"ticks\": \"\"}, \"baxis\": {\"gridcolor\": \"white\", \"linecolor\": \"white\", \"ticks\": \"\"}, \"bgcolor\": \"#E5ECF6\", \"caxis\": {\"gridcolor\": \"white\", \"linecolor\": \"white\", \"ticks\": \"\"}}, \"title\": {\"x\": 0.05}, \"xaxis\": {\"automargin\": true, \"gridcolor\": \"white\", \"linecolor\": \"white\", \"ticks\": \"\", \"zerolinecolor\": \"white\", \"zerolinewidth\": 2}, \"yaxis\": {\"automargin\": true, \"gridcolor\": \"white\", \"linecolor\": \"white\", \"ticks\": \"\", \"zerolinecolor\": \"white\", \"zerolinewidth\": 2}}}, \"title\": {\"text\": \"\\uc815\\ucc45\\uc790\\ubb38\\uc0ac\\ub840\\ubc1c\\ud45c \\ub9cc\\uc871\\ub3c4 \\uc751\\ub2f5 \\ud604\\ud669\", \"x\": 0.5, \"y\": 0.97}, \"width\": 950, \"xaxis\": {\"anchor\": \"y\", \"domain\": [0.0, 0.45]}, \"xaxis2\": {\"anchor\": \"y2\", \"domain\": [0.55, 1.0]}, \"xaxis3\": {\"anchor\": \"y3\", \"domain\": [0.0, 0.45]}, \"xaxis4\": {\"anchor\": \"y4\", \"domain\": [0.55, 1.0]}, \"xaxis5\": {\"anchor\": \"y5\", \"domain\": [0.0, 0.45], \"range\": [2.5, 5.5], \"title\": {\"font\": {\"size\": 13}, \"text\": \"<b>\\ub9cc\\uc871\\ub3c4</b>\"}}, \"xaxis6\": {\"anchor\": \"y6\", \"domain\": [0.55, 1.0], \"range\": [2.5, 5.5], \"title\": {\"font\": {\"size\": 13}, \"text\": \"<b>\\ub9cc\\uc871\\ub3c4</b>\"}}, \"yaxis\": {\"anchor\": \"x\", \"domain\": [0.8175, 1.0], \"range\": [0, 13.5], \"title\": {\"font\": {\"size\": 13}, \"text\": \"<b>\\uc751\\ub2f5\\uc790\\uc218</b>\"}}, \"yaxis2\": {\"anchor\": \"x2\", \"domain\": [0.8175, 1.0]}, \"yaxis3\": {\"anchor\": \"x3\", \"domain\": [0.5449999999999999, 0.7274999999999999], \"range\": [0, 13.5], \"title\": {\"font\": {\"size\": 13}, \"text\": \"<b>\\uc751\\ub2f5\\uc790\\uc218</b>\"}}, \"yaxis4\": {\"anchor\": \"x4\", \"domain\": [0.5449999999999999, 0.7274999999999999]}, \"yaxis5\": {\"anchor\": \"x5\", \"domain\": [0.27249999999999996, 0.45499999999999996], \"range\": [0, 13.5], \"title\": {\"font\": {\"size\": 13}, \"text\": \"<b>\\uc751\\ub2f5\\uc790\\uc218</b>\"}}, \"yaxis6\": {\"anchor\": \"x6\", \"domain\": [0.27249999999999996, 0.45499999999999996]}},\n",
       "                        {\"responsive\": true}\n",
       "                    ).then(function(){\n",
       "                            \n",
       "var gd = document.getElementById('741bb88e-d3e9-4e12-8a96-a18eb82475c6');\n",
       "var x = new MutationObserver(function (mutations, observer) {{\n",
       "        var display = window.getComputedStyle(gd).display;\n",
       "        if (!display || display === 'none') {{\n",
       "            console.log([gd, 'removed!']);\n",
       "            Plotly.purge(gd);\n",
       "            observer.disconnect();\n",
       "        }}\n",
       "}});\n",
       "\n",
       "// Listen for the removal of the full notebook cells\n",
       "var notebookContainer = gd.closest('#notebook-container');\n",
       "if (notebookContainer) {{\n",
       "    x.observe(notebookContainer, {childList: true});\n",
       "}}\n",
       "\n",
       "// Listen for the clearing of the current output cell\n",
       "var outputEl = gd.closest('.output');\n",
       "if (outputEl) {{\n",
       "    x.observe(outputEl, {childList: true});\n",
       "}}\n",
       "\n",
       "                        })\n",
       "                };\n",
       "                });\n",
       "            </script>\n",
       "        </div>"
      ]
     },
     "metadata": {},
     "output_type": "display_data"
    }
   ],
   "source": [
    "fig = make_subplots(\n",
    "    rows=4, cols=2, vertical_spacing=0.09,\n",
    "    specs=[[{},{}],[{},{}],[{},{}],[{\"colspan\": 2, \"type\": \"table\"}, None]],\n",
    "    subplot_titles=('연수내용을 이해하는데 도움이 되었다', \n",
    "                    '자료 작성 및 발표를 위한 안내가 충분히 이루어졌다',\n",
    "                    '현장에서 실무능력을 향상시키는데 도움이 되었다',\n",
    "                    '세션 담당자는 피드백을 충분히 제공하였다',\n",
    "                    '세션시간은 충분하였다',\n",
    "                    '주제는 교육과정 목표와 연계되어 있었다',\n",
    "                    \"문항별, 기관별 만족도 현황\"))\n",
    "\n",
    "fig.add_trace(go.Bar(showlegend=False,\n",
    "    x = post['정책자문사례발표 세션은 연수내용을 이해하는데 도움이 되었다.'].value_counts().index,\n",
    "    y = post['정책자문사례발표 세션은 연수내용을 이해하는데 도움이 되었다.'].value_counts(),\n",
    "    text = post['정책자문사례발표 세션은 연수내용을 이해하는데 도움이 되었다.'].value_counts(),    \n",
    "    textposition = 'auto',\n",
    "    marker=dict(color=-post['정책자문사례발표 세션은 연수내용을 이해하는데 도움이 되었다.'\n",
    "    ].value_counts(), cmax=14.5, cmin=-14.5, colorscale='RdBu')\n",
    "    ), row=1, col=1)\n",
    "\n",
    "fig.add_trace(go.Bar(showlegend=False,\n",
    "    x = post['정책자문사례발표 자료 작성 및 발표를 위한 안내가 충분히 이루어졌다.'].value_counts().index,\n",
    "    y = post['정책자문사례발표 자료 작성 및 발표를 위한 안내가 충분히 이루어졌다.'].value_counts(),\n",
    "    text = post['정책자문사례발표 자료 작성 및 발표를 위한 안내가 충분히 이루어졌다.'].value_counts(),\n",
    "    textposition = 'auto',\n",
    "    marker=dict(color=-post['정책자문사례발표 자료 작성 및 발표를 위한 안내가 충분히 이루어졌다.'\n",
    "    ].value_counts(),cmax=14.5, cmin=-14.5, colorscale='Viridis')\n",
    "    ),row=1, col=2)\n",
    "\n",
    "fig.add_trace(go.Bar(showlegend=False,\n",
    "    x = post['정책자문사례발표는 현장에서 실무능력을 향상시키는데 도움이 되었다.'].value_counts().index,\n",
    "    y = post['정책자문사례발표는 현장에서 실무능력을 향상시키는데 도움이 되었다.'].value_counts(),\n",
    "    text = post['정책자문사례발표는 현장에서 실무능력을 향상시키는데 도움이 되었다.'].value_counts(),\n",
    "    textposition = 'auto',\n",
    "    marker=dict(color=-post['정책자문사례발표는 현장에서 실무능력을 향상시키는데 도움이 되었다.'\n",
    "    ].value_counts(),cmax=14.5, cmin=-14.5, colorscale='RdBu')\n",
    "    ),row=2, col=1)\n",
    "\n",
    "fig.add_trace(go.Bar(showlegend=False,\n",
    "    x = post['정책자문사례발표의 세션 담당자는 피드백을 충분히 제공하였다.'].value_counts().index,\n",
    "    y = post['정책자문사례발표의 세션 담당자는 피드백을 충분히 제공하였다.'].value_counts(),\n",
    "    text = post['정책자문사례발표의 세션 담당자는 피드백을 충분히 제공하였다.'].value_counts(),\n",
    "    textposition = 'auto',\n",
    "    marker=dict(color=-post['정책자문사례발표의 세션 담당자는 피드백을 충분히 제공하였다.'\n",
    "    ].value_counts(),cmax=14.5, cmin=-14.5, colorscale='Viridis')\n",
    "    ),row=2, col=2)\n",
    "\n",
    "fig.add_trace(go.Bar(showlegend=False, \n",
    "    x = post['정책자문사례발표의 세션시간은 충분하였다.'].value_counts().index,\n",
    "    y = post['정책자문사례발표의 세션시간은 충분하였다.'].value_counts(),\n",
    "    text = post['정책자문사례발표의 세션시간은 충분하였다.'].value_counts(),\n",
    "    textposition = 'auto',\n",
    "    marker=dict(color=-post['정책자문사례발표의 세션시간은 충분하였다.'\n",
    "    ].value_counts(), cmax=14.5, cmin=-14.5, colorscale='RdBu')\n",
    "    ),row=3, col=1)\n",
    "\n",
    "fig.add_trace(go.Bar(showlegend=False,\n",
    "    x = post['정책자문사례발표의 주제는 교육과정 목표와 연계되어 있었다.'].value_counts().index,\n",
    "    y = post['정책자문사례발표의 주제는 교육과정 목표와 연계되어 있었다.'].value_counts(),\n",
    "    text = post['정책자문사례발표의 주제는 교육과정 목표와 연계되어 있었다.'].value_counts(),\n",
    "    textposition = 'auto',\n",
    "    marker=dict(color=-post['정책자문사례발표의 주제는 교육과정 목표와 연계되어 있었다.'\n",
    "    ].value_counts(),cmax=14.5, cmin=-14.5, colorscale='Viridis')\n",
    "    ), row=3, col=2)\n",
    "\n",
    "fig.add_trace(go.Table(\n",
    "    columnwidth = [200,43,43,43,75,75,43], #columnorder = [1,2],\n",
    "    header=dict(height=25, \n",
    "        values=list(pcs_mean.columns), fill_color='#094688',\n",
    "        font=dict(size=12, color='#ffffff'), align='center'),\n",
    "    cells=dict(\n",
    "        values=[pcs_mean[k].tolist() for k in pcs_mean.columns[:]],\n",
    "        font=dict(size=12, color='#000000'), align=['left', 'center'])),\n",
    "    row=4, col=1)\n",
    "\n",
    "fig.update_xaxes(title=dict(text='<b>만족도</b>', font_size=13),range=[2.5,5.5],row=3)\n",
    "fig.update_yaxes(title=dict(text='<b>응답자수</b>', font_size=13),range=[0,13.5], col=1)\n",
    "\n",
    "fig.update_layout(title=dict(text ='정책자문사례발표 만족도 응답 현황',x=0.5, y=0.97),\n",
    "                  margin = dict(t=100), font_size = 15, width=950, height=1100)"
   ]
  },
  {
   "cell_type": "markdown",
   "metadata": {
    "colab_type": "text",
    "id": "NXEPtAqCgKhk"
   },
   "source": [
    "## 사전-사후 영역별 수준변화 분석"
   ]
  },
  {
   "cell_type": "code",
   "execution_count": null,
   "metadata": {
    "colab": {
     "base_uri": "https://localhost:8080/",
     "height": 89
    },
    "colab_type": "code",
    "id": "Cnb0oUjQkrbT",
    "outputId": "b86ecbcd-8e8f-4af5-9e71-ef9fd5cb29ee"
   },
   "outputs": [],
   "source": [
    "# 사전,사후 설문조사 결과에서 학습내용 결과 칼럼만 추출\n",
    "pre_sector = pre[pre.columns[~pre.columns.str.contains('|'.join(['ID','시간','근속년수', '생년', '성별','메일','(응답)','구체적인 안내']))]]\n",
    "post_sector = post[post.columns[post.columns.str.contains('|'.join(['성명','학습내용 ']))]]\n",
    "pre_post = pre_sector.merge(post_sector, on=\"성명\", suffixes=('(교육전)', '(교육후)'))"
   ]
  },
  {
   "cell_type": "markdown",
   "metadata": {
    "colab_type": "text",
    "id": "Djbv7m2PjAn1"
   },
   "source": [
    "### T-test 실시"
   ]
  },
  {
   "cell_type": "code",
   "execution_count": null,
   "metadata": {
    "colab": {},
    "colab_type": "code",
    "id": "NKrW__k1IQPH"
   },
   "outputs": [],
   "source": [
    "# T-test 실시 후 사전-사후교육수준 간 유의미한 차이가 있는 것으로 확인"
   ]
  },
  {
   "cell_type": "code",
   "execution_count": null,
   "metadata": {
    "colab": {},
    "colab_type": "code",
    "id": "Rlits_NXEGP9"
   },
   "outputs": [],
   "source": [
    "from scipy import stats\n",
    "\n",
    "pre_post_tv = []\n",
    "pre_post_pv = []\n",
    "\n",
    "k , i = stats.ttest_ind(pre_post.iloc[:,3], pre_post.iloc[:,15])\n",
    "pre_post_tv.append(k); pre_post_pv.append(i)\n",
    "k , i = stats.ttest_ind(pre_post.iloc[:,4], pre_post.iloc[:,16])\n",
    "pre_post_tv.append(k); pre_post_pv.append(i)\n",
    "k , i = stats.ttest_ind(pre_post.iloc[:,5], pre_post.iloc[:,17])\n",
    "pre_post_tv.append(k); pre_post_pv.append(i)\n",
    "k , i = stats.ttest_ind(pre_post.iloc[:,6], pre_post.iloc[:,18])\n",
    "pre_post_tv.append(k); pre_post_pv.append(i)\n",
    "k , i = stats.ttest_ind(pre_post.iloc[:,7], pre_post.iloc[:,19])\n",
    "pre_post_tv.append(k); pre_post_pv.append(i)\n",
    "k , i = stats.ttest_ind(pre_post.iloc[:,8], pre_post.iloc[:,20])\n",
    "pre_post_tv.append(k); pre_post_pv.append(i)\n",
    "k , i = stats.ttest_ind(pre_post.iloc[:,9], pre_post.iloc[:,21])\n",
    "pre_post_tv.append(k); pre_post_pv.append(i)\n",
    "k , i = stats.ttest_ind(pre_post.iloc[:,10], pre_post.iloc[:,22])\n",
    "pre_post_tv.append(k); pre_post_pv.append(i)\n",
    "k , i = stats.ttest_ind(pre_post.iloc[:,11], pre_post.iloc[:,23])\n",
    "pre_post_tv.append(k); pre_post_pv.append(i)\n",
    "k , i = stats.ttest_ind(pre_post.iloc[:,12], pre_post.iloc[:,24])\n",
    "pre_post_tv.append(k); pre_post_pv.append(i)\n",
    "k , i = stats.ttest_ind(pre_post.iloc[:,13], pre_post.iloc[:,25])\n",
    "pre_post_tv.append(k); pre_post_pv.append(i)\n",
    "k , i = stats.ttest_ind(pre_post.iloc[:,14], pre_post.iloc[:,26])\n",
    "pre_post_tv.append(k);pre_post_pv.append(i)\n",
    "\n",
    "pre_post_ttest=\\\n",
    "pd.DataFrame([pre_post_tv, pre_post_pv], index=['t-value', 'p-value'], \n",
    "             columns= ['「서울시 우수정책 공유사업」 인지영역',\n",
    "                      '「해외도시정책 및 국제개발협력」 인지영역', \n",
    "                      '「해외사업수주기획 및 컨설팅의 이해」 인지영역',\n",
    "                      '「해외도시인프라 환경 및 문화이해」 인지영역', \n",
    "                      '「서울시 우수정책 공유사업」 기술영역',\n",
    "                      '「해외도시정책 및 국제개발협력」 기술영역', \n",
    "                      '「해외사업수주기획 및 컨설팅의 이해」 기술영역',\n",
    "                      '「해외도시인프라 환경 및 문화이해」 기술영역', \n",
    "                      '「서울시 우수정책 공유사업」 태도영역',\n",
    "                      '「해외도시정책 및 국제개발협력」 태도영역', \n",
    "                      '「해외사업수주기획 및 컨설팅의 이해」 태도영역',\n",
    "                      '「해외도시인프라 환경 및 문화이해」 태도영역'])\n",
    "pre_post_ttest"
   ]
  },
  {
   "cell_type": "code",
   "execution_count": null,
   "metadata": {
    "colab": {
     "base_uri": "https://localhost:8080/",
     "height": 421
    },
    "colab_type": "code",
    "id": "nZe9TUGJiFTz",
    "outputId": "c365a814-e486-404f-ac21-0ee511045e9d"
   },
   "outputs": [],
   "source": [
    "pre_post_ttest.T.round(3)\n",
    "## p-value 만 적용하려면, 아래 식 사용\n",
    "# pre_post_ttest.T[\"p-value\"].apply(lambda x: \"%.3f\"%(x))"
   ]
  },
  {
   "cell_type": "code",
   "execution_count": null,
   "metadata": {
    "colab": {},
    "colab_type": "code",
    "id": "YS7pvnN5hu10"
   },
   "outputs": [],
   "source": [
    "# T-test 결과 추출\n",
    "pre_post_ttest.T.round(3).to_excel(\"T-test 결과.xlsx\")"
   ]
  },
  {
   "cell_type": "code",
   "execution_count": null,
   "metadata": {
    "colab": {},
    "colab_type": "code",
    "id": "jmYxiGIsjqsq"
   },
   "outputs": [],
   "source": []
  },
  {
   "cell_type": "markdown",
   "metadata": {
    "colab_type": "text",
    "id": "CzzABuDle0TP"
   },
   "source": [
    "### 학습내용별 '인지 - 기술 - 태도' 수준 변화"
   ]
  },
  {
   "cell_type": "markdown",
   "metadata": {
    "colab_type": "text",
    "id": "85YVfc8tfPoW"
   },
   "source": [
    "■ 학습내용 A : 서울시 우수정책 공유사업<br>\n",
    "■ 학습내용 B : 해외도시정책 및 국제개발협력<br>\n",
    "■ 학습내용 C : 해외사업수주기획 및 컨설팅의 이해<br>\n",
    "■ 학습내용 D : 해외도시인프라 환경 및 문화이해"
   ]
  },
  {
   "cell_type": "code",
   "execution_count": null,
   "metadata": {
    "colab": {
     "base_uri": "https://localhost:8080/",
     "height": 269
    },
    "colab_type": "code",
    "id": "LYcQcaKEf0BA",
    "outputId": "ce2d33cc-4af2-4ff9-dc42-da64371fe31d"
   },
   "outputs": [],
   "source": [
    "pre_post.columns"
   ]
  },
  {
   "cell_type": "code",
   "execution_count": null,
   "metadata": {
    "colab": {},
    "colab_type": "code",
    "id": "azI6Sfy39f9b"
   },
   "outputs": [],
   "source": [
    "# 수준 변화 측정 위한 기본 Dataframe 생성\n",
    "pre_post_diff = pre_post.copy()\n",
    "\n",
    "pre_post_diff[\"「서울시 우수정책 공유사업」 인지수준 증가치\"] =\\\n",
    "    pre_post_diff.iloc[:,15] - pre_post_diff.iloc[:,3]\n",
    "pre_post_diff[\"「해외도시정책 및 국제개발협력」 인지수준 증가치\"] =\\\n",
    "    pre_post_diff.iloc[:,16] - pre_post_diff.iloc[:,4]\n",
    "pre_post_diff[\"「해외사업수주기획 및 컨설팅의 이해」 인지수준 증가치\"] =\\\n",
    "    pre_post_diff.iloc[:,17] - pre_post_diff.iloc[:,5]\n",
    "pre_post_diff[\"「해외도시인프라 환경 및 문화이해」 인지수준 증가치\"] =\\\n",
    "    pre_post_diff.iloc[:,18] - pre_post_diff.iloc[:,6]\n",
    "pre_post_diff[\"「서울시 우수정책 공유사업」 기술수준 증가치\"] =\\\n",
    "    pre_post_diff.iloc[:,19] - pre_post_diff.iloc[:,7]\n",
    "pre_post_diff[\"「해외도시정책 및 국제개발협력」 기술수준 증가치\"] =\\\n",
    "    pre_post_diff.iloc[:,20] - pre_post_diff.iloc[:,8]\n",
    "pre_post_diff[\"「해외사업수주기획 및 컨설팅의 이해」 기술수준 증가치\"] =\\\n",
    "    pre_post_diff.iloc[:,21] - pre_post_diff.iloc[:,9]\n",
    "pre_post_diff[\"「해외도시인프라 환경 및 문화이해」 기술수준 증가치\"] =\\\n",
    "    pre_post_diff.iloc[:,22] - pre_post_diff.iloc[:,10]\n",
    "pre_post_diff[\"「서울시 우수정책 공유사업」 태도수준 증가치\"] =\\\n",
    "    pre_post_diff.iloc[:,23] - pre_post_diff.iloc[:,11]\n",
    "pre_post_diff[\"「해외도시정책 및 국제개발협력」 태도수준 증가치\"] =\\\n",
    "    pre_post_diff.iloc[:,24] - pre_post_diff.iloc[:,12]\n",
    "pre_post_diff[\"「해외사업수주기획 및 컨설팅의 이해」 태도수준 증가치\"] =\\\n",
    "    pre_post_diff.iloc[:,25] - pre_post_diff.iloc[:,13]\n",
    "pre_post_diff[\"「해외도시인프라 환경 및 문화이해」 태도수준 증가치\"] =\\\n",
    "    pre_post_diff.iloc[:,26] - pre_post_diff.iloc[:,14]\n",
    "\n",
    "pre_post_diff = \\\n",
    "pre_post_diff[\n",
    "    pre_post_diff.columns[\n",
    "            ~pre_post_diff.columns.str.contains('|'.join(['학습내용']))]\n",
    "            ]"
   ]
  },
  {
   "cell_type": "markdown",
   "metadata": {
    "colab_type": "text",
    "id": "ZHrMFwn8Dbnb"
   },
   "source": [
    "### 문항별 수준 증가치 측정<br>\n",
    "증가치: [교육후 수준 - 교육전 수준]"
   ]
  },
  {
   "cell_type": "code",
   "execution_count": null,
   "metadata": {
    "colab": {},
    "colab_type": "code",
    "id": "sUN6s4QY9f9e"
   },
   "outputs": [],
   "source": [
    "# Data Cleaning : 증가치 칼럼만 남김 <\"성명\", \"전문분야\", \"기관\" 칼럼 삭제>\n",
    "pre_post_q = pre_post_diff.drop(columns=[\"성명\", \"전문분야\", \"기관\"])\n",
    "\n",
    "# 평균값 추가\n",
    "pre_post_q.loc[22] = pre_post_q.mean()\n",
    "\n",
    "# 행렬 변경 및 생성 된 평균값 칼럼명 변경\n",
    "pre_post_q = \\\n",
    "pre_post_q.T.drop(\n",
    "    pre_post_q.T.columns[:22].to_list(),axis=1\n",
    "    ).rename(columns={22:\"항목별 평균 증가치\"})\n",
    "\n",
    "# % 증가치 칼럼 추가\n",
    "pre_post_q['증가치(%)'] = (pre_post_q['항목별 평균 증가치'] / 5 *100).astype(float)"
   ]
  },
  {
   "cell_type": "code",
   "execution_count": null,
   "metadata": {
    "colab": {
     "base_uri": "https://localhost:8080/",
     "height": 421
    },
    "colab_type": "code",
    "id": "N-hHU6A4GEUu",
    "outputId": "4afa95ce-56e9-4850-b80f-8ca9b7a2c4ac"
   },
   "outputs": [],
   "source": [
    "pre_post_q.round(2)"
   ]
  },
  {
   "cell_type": "markdown",
   "metadata": {
    "colab_type": "text",
    "id": "A1TZ9hfIrGhg"
   },
   "source": [
    "### 기관별 수준 증가치 측정"
   ]
  },
  {
   "cell_type": "code",
   "execution_count": null,
   "metadata": {
    "colab": {
     "base_uri": "https://localhost:8080/",
     "height": 627
    },
    "colab_type": "code",
    "id": "cvmM0uoxFO9f",
    "outputId": "bb14a98c-9ce6-42f1-c8cf-781e5c129c0d"
   },
   "outputs": [],
   "source": [
    "# 기관으로 그룹화하여 평균 계산\n",
    "pre_post_organ = \\\n",
    "pre_post_diff.pivot_table(\n",
    "    values=pre_post_diff.columns[3:],index=['기관'],\n",
    "    aggfunc='mean',margins=True, margins_name=\"평균\").round(2).reset_index()\n",
    "\n",
    "# 기관별 평균 칼럼 추가 및 필드값 변경\n",
    "pre_post_organ['기관별 평균 증가치'] = pre_post_organ.mean(axis=1)\n",
    "pre_post_organ.set_value(5, '기관', '항목별 평균 증가치')\n",
    "pre_post_organ = pre_post_organ.set_index(\"기관\").T\n",
    "\n",
    "# % 증가치 칼럼 추가\n",
    "pre_post_organ['항목별 평균 증가치(%)'] = (pre_post_organ['항목별 평균 증가치'] / 5 *100).astype(float)\n",
    "\n",
    "# % 기관별 평균 증가치 칼럼 추가\n",
    "pre_post_organ = pre_post_organ.T\n",
    "pre_post_organ['기관별 평균 증가치(%)'] = (pre_post_organ['기관별 평균 증가치'] / 5 *100).astype(float)\n",
    "pre_post_organ = pre_post_organ.T\n",
    "pre_post_organ.set_value(\"기관별 평균 증가치(%)\", '항목별 평균 증가치(%)', pre_post_organ['항목별 평균 증가치(%)'][:13].mean())\n",
    "\n",
    "pre_post_organ = pre_post_organ.reset_index().rename(columns={'index': '문항/기관','중앙부처/산하기관': '중앙부처/ 산하기관'})\n",
    "pre_post_organ.round(2)"
   ]
  },
  {
   "cell_type": "code",
   "execution_count": null,
   "metadata": {
    "colab": {},
    "colab_type": "code",
    "id": "KcfKd4Iv4g4R"
   },
   "outputs": [],
   "source": [
    "pre_post_organ.round(2).to_excel(\"항목별 평균 증가치.xlsx\")"
   ]
  },
  {
   "cell_type": "code",
   "execution_count": null,
   "metadata": {
    "colab": {},
    "colab_type": "code",
    "id": "Npjf3KzbrfXR"
   },
   "outputs": [],
   "source": [
    "# for in 문 활용한 기관별 수준 증가치 측정\n",
    "# q = []\n",
    "# a = []\n",
    "# for k, i in zip(pre_post.columns[18:30], pre_post.columns[6:18]):\n",
    "#   a.append(np.round_((pre_post[k] - pre_post[i]).mean(),2))\n",
    "#   if \"인지적 (Knowledge) 영역 - 학습내용 A(교육후)\" in k:\n",
    "#     q.append(k.replace(\"인지적 (Knowledge) 영역 - 학습내용 A(교육후)\",\"「서울시 우수정책 공유사업」 인지수준 증가치\"))\n",
    "#   elif \"인지적 (Knowledge) 영역 - 학습내용 B(교육후)\" in k:\n",
    "#     q.append(k.replace(\"인지적 (Knowledge) 영역 - 학습내용 B(교육후)\",\"「해외도시정책 및 국제개발협력」 인지수준 증가치\"))\n",
    "#   elif \"인지적 (Knowledge) 영역 - 학습내용 C(교육후)\" in k:\n",
    "#     q.append(k.replace(\"인지적 (Knowledge) 영역 - 학습내용 C(교육후)\",\"「해외사업수주기획 및 컨설팅의 이해」 인지수준 증가치\"))\n",
    "#   elif \"인지적 (Knowledge) 영역 - 학습내용 D(교육후)\" in k:\n",
    "#     q.append(k.replace(\"인지적 (Knowledge) 영역 - 학습내용 D(교육후)\",\"「해외도시인프라 환경 및 문화이해」 인지수준 증가치\"))\n",
    "#   elif \"기술적 (Skill) 영역 - 학습내용 A(교육후)\" in k:\n",
    "#     q.append(k.replace(\"기술적 (Skill) 영역 - 학습내용 A(교육후)\",\"「서울시 우수정책 공유사업」 기술수준 증가치\"))\n",
    "#   elif \"기술적 (Skill) 영역 - 학습내용 B(교육후)\" in k:\n",
    "#     q.append(k.replace(\"기술적 (Skill) 영역 - 학습내용 B(교육후)\",\"「해외도시정책 및 국제개발협력」 기술수준 증가치\"))\n",
    "#   elif \"기술적 (Skill) 영역 - 학습내용 C(교육후)\" in k:\n",
    "#     q.append(k.replace(\"기술적 (Skill) 영역 - 학습내용 C(교육후)\",\"「해외사업수주기획 및 컨설팅의 이해」 기술수준 증가치\"))\n",
    "#   elif \"기술적 (Skill) 영역 - 학습내용 D(교육후)\" in k:\n",
    "#     q.append(k.replace(\"기술적 (Skill) 영역 - 학습내용 D(교육후)\",\"「해외도시인프라 환경 및 문화이해」 기술수준 증가치\"))\n",
    "#   elif \"태도적 (Attidtude) 영역 - 학습내용 A(교육후)\" in k:\n",
    "#     q.append(k.replace(\"태도적 (Attidtude) 영역 - 학습내용 A(교육후)\",\"「서울시 우수정책 공유사업」 태도수준 증가치\"))\n",
    "#   elif \"태도적 (Attidtude) 영역 - 학습내용 B(교육후)\" in k:\n",
    "#     q.append(k.replace(\"태도적 (Attidtude) 영역 - 학습내용 B(교육후)\",\"「해외도시정책 및 국제개발협력」 태도수준 증가치\"))\n",
    "#   elif \"태도적 (Attidtude) 영역 - 학습내용 C(교육후)\" in k:\n",
    "#     q.append(k.replace(\"태도적 (Attidtude) 영역 - 학습내용 C(교육후)\",\"「해외사업수주기획 및 컨설팅의 이해」 태도수준 증가치\"))\n",
    "#   else:\n",
    "#     q.append(k.replace(\"태도적 (Attidtude) 영역 - 학습내용 D(교육후)\",\"「해외도시인프라 환경 및 문화이해」 태도수준 증가치\"))\n",
    "\n",
    "# differ = pd.DataFrame([q,a],index=[\"항목\",\"증가치(5점기준)\"]).T\n",
    "# differ['증가치(%)'] = (differ['증가치(5점기준)'] / 5 *100).astype(float).round(2)\n",
    "# differ.head()"
   ]
  },
  {
   "cell_type": "code",
   "execution_count": null,
   "metadata": {
    "colab": {
     "base_uri": "https://localhost:8080/",
     "height": 542
    },
    "colab_type": "code",
    "id": "niiTG9JiOJSq",
    "outputId": "e46eb86a-9330-4f71-830c-22aa5854e945"
   },
   "outputs": [],
   "source": [
    "fig = go.Figure(data=go.Table(\n",
    "    columnwidth = [180,50,50,50,50,50,50,50], #columnorder = [0,6],\n",
    "    header=dict(height=20, \n",
    "        values=list(pre_post_organ.round(2).columns), fill_color='#094688',\n",
    "        font=dict(size=[13], color='#ffffff'), align='center'),\n",
    "    cells=dict(height=25,\n",
    "        values=[pre_post_organ.round(2)[k].tolist() for k in pre_post_organ.round(2).columns[:]],\n",
    "        font=dict(size=[13], color='#000000'), align=['left', 'center'])))\n",
    "\n",
    "fig.update_layout(title=dict(text ='문항별,기관별 인지-기술-태도 수준 증가치',x=0.5, y=0.97),\n",
    "                  margin = dict(t=50), font_size = 13, width=1200)"
   ]
  },
  {
   "cell_type": "markdown",
   "metadata": {
    "colab_type": "text",
    "id": "Q9NXB6y04g4i"
   },
   "source": [
    "## 문항별,기관별 인지-기술-태도 수준 증가치 (종합)"
   ]
  },
  {
   "cell_type": "code",
   "execution_count": null,
   "metadata": {
    "colab": {},
    "colab_type": "code",
    "id": "cH4R3KBR-bq5"
   },
   "outputs": [],
   "source": [
    "pre_post_organ.round(2)[\"문항/기관\"][:12]\n",
    "pre_post_organ.round(2)[\"항목별 평균 증가치\"][:12]"
   ]
  },
  {
   "cell_type": "code",
   "execution_count": null,
   "metadata": {
    "colab": {
     "base_uri": "https://localhost:8080/",
     "height": 542
    },
    "colab_type": "code",
    "id": "LKV6qqphg7-2",
    "outputId": "ff8106cf-503e-4bd2-91fd-8c8db9d13187"
   },
   "outputs": [],
   "source": [
    "pre_post_organ_sorted = pre_post_organ.round(2)[[\"문항/기관\",\"항목별 평균 증가치\"]][:12].sort_values(\"항목별 평균 증가치\")\n",
    "\n",
    "fig = go.Figure(data=go.Bar(showlegend=False, orientation = 'h',\n",
    "    x = pre_post_organ_sorted.round(2)[\"항목별 평균 증가치\"][:12],\n",
    "    y = pre_post_organ_sorted.round(2)[\"문항/기관\"][:12],\n",
    "    text = pre_post_organ_sorted.round(2)[\"항목별 평균 증가치\"][:12],    \n",
    "    textposition = 'auto',\n",
    "    marker=dict(color=-pre_post_organ_sorted.round(2)[\"항목별 평균 증가치\"][:12],\n",
    "                cmax=3.5, cmin=-3.5, colorscale='Viridis')))\n",
    "\n",
    "fig.update_xaxes(title=dict(text='증가분(5점기준)', font_size=13),range=[0, 2])\n",
    "\n",
    "fig.update_layout(title=dict(text ='문항별 인지-기술-태도 수준 증가현황',x=0.5, y=0.97),\n",
    "                  margin = dict(t=50), font_size = 13)"
   ]
  },
  {
   "cell_type": "code",
   "execution_count": null,
   "metadata": {
    "colab": {
     "base_uri": "https://localhost:8080/",
     "height": 542
    },
    "colab_type": "code",
    "id": "jeb7sfsa4g4o",
    "outputId": "75dbfc68-73b2-44d0-bbdd-5668ffc7f03a"
   },
   "outputs": [],
   "source": [
    "pre_post_organ_tsorted = pre_post_organ.set_index(\"문항/기관\").T.iloc[:5,12:13].round(2).sort_values(\"기관별 평균 증가치\")\n",
    "\n",
    "fig = go.Figure(data=go.Bar(showlegend=False, orientation = 'h',\n",
    "    x = pre_post_organ_tsorted[\"기관별 평균 증가치\"],\n",
    "    y = pre_post_organ_tsorted.index, width=0.7,\n",
    "    text = pre_post_organ_tsorted[\"기관별 평균 증가치\"],    \n",
    "    textposition = 'auto',\n",
    "    marker=dict(color=-pre_post_organ_tsorted[\"기관별 평균 증가치\"],\n",
    "                cmax=3.5, cmin=-3.5, colorscale='Viridis')))\n",
    "\n",
    "fig.update_xaxes(title=dict(text='증가분(5점기준)', font_size=13),range=[0, 1.5])\n",
    "\n",
    "fig.update_layout(title=dict(text ='기관별 인지-기술-태도 수준 증가현황',x=0.5, y=0.97),\n",
    "                  margin = dict(t=50), font_size = 13, bargap=0.1)"
   ]
  },
  {
   "cell_type": "code",
   "execution_count": null,
   "metadata": {
    "colab": {},
    "colab_type": "code",
    "id": "lKNq663N4g4s"
   },
   "outputs": [],
   "source": []
  }
 ],
 "metadata": {
  "accelerator": "GPU",
  "colab": {
   "collapsed_sections": [],
   "include_colab_link": true,
   "name": "scp교육생분석.ipynb",
   "provenance": []
  },
  "kernelspec": {
   "display_name": "Python 3",
   "language": "python",
   "name": "python3"
  },
  "language_info": {
   "codemirror_mode": {
    "name": "ipython",
    "version": 3
   },
   "file_extension": ".py",
   "mimetype": "text/x-python",
   "name": "python",
   "nbconvert_exporter": "python",
   "pygments_lexer": "ipython3",
   "version": "3.7.4"
  }
 },
 "nbformat": 4,
 "nbformat_minor": 4
}
