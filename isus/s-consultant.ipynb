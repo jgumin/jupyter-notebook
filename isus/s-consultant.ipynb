{
  "nbformat": 4,
  "nbformat_minor": 0,
  "metadata": {
    "accelerator": "GPU",
    "colab": {
      "name": "koica_post_training3.ipynb",
      "version": "0.3.2",
      "provenance": [],
      "collapsed_sections": []
    },
    "hide_input": false,
    "kernelspec": {
      "display_name": "Python 3",
      "language": "python",
      "name": "python3"
    },
    "language_info": {
      "codemirror_mode": {
        "name": "ipython",
        "version": 3
      },
      "file_extension": ".py",
      "mimetype": "text/x-python",
      "name": "python",
      "nbconvert_exporter": "python",
      "pygments_lexer": "ipython3",
      "version": "3.7.3"
    },
    "toc": {
      "base_numbering": 1,
      "nav_menu": {},
      "number_sections": true,
      "sideBar": true,
      "skip_h1_title": false,
      "title_cell": "Table of Contents",
      "title_sidebar": "Contents",
      "toc_cell": true,
      "toc_position": {},
      "toc_section_display": true,
      "toc_window_display": true
    }
  },
  "cells": [
    {
      "cell_type": "markdown",
      "metadata": {
        "toc": true,
        "id": "YKo4Win4NQue",
        "colab_type": "text"
      },
      "source": [
        "<h1>Table of Contents<span class=\"tocSkip\"></span></h1>\n",
        "<div class=\"toc\"><ul class=\"toc-item\"><li><span><a href=\"#설문항목\" data-toc-modified-id=\"설문항목-1\"><span class=\"toc-item-num\">1&nbsp;&nbsp;</span>설문항목</a></span><ul class=\"toc-item\"><li><span><a href=\"#교육-전-설문\" data-toc-modified-id=\"교육-전-설문-1.1\"><span class=\"toc-item-num\">1.1&nbsp;&nbsp;</span>교육 전 설문</a></span></li><li><span><a href=\"#교육-후-설문\" data-toc-modified-id=\"교육-후-설문-1.2\"><span class=\"toc-item-num\">1.2&nbsp;&nbsp;</span>교육 후 설문</a></span></li></ul></li><li><span><a href=\"#강의평가-설문\" data-toc-modified-id=\"강의평가-설문-2\"><span class=\"toc-item-num\">2&nbsp;&nbsp;</span>강의평가 설문</a></span></li><li><span><a href=\"#설문분석\" data-toc-modified-id=\"설문분석-3\"><span class=\"toc-item-num\">3&nbsp;&nbsp;</span>설문분석</a></span><ul class=\"toc-item\"><li><span><a href=\"#교육전-설문\" data-toc-modified-id=\"교육전-설문-3.1\"><span class=\"toc-item-num\">3.1&nbsp;&nbsp;</span>교육전 설문</a></span><ul class=\"toc-item\"><li><span><a href=\"#연수생-선발/추천을-위한-사전준비-기간은-적절하였다\" data-toc-modified-id=\"연수생-선발/추천을-위한-사전준비-기간은-적절하였다-3.1.1\"><span class=\"toc-item-num\">3.1.1&nbsp;&nbsp;</span>연수생 선발/추천을 위한 사전준비 기간은 적절하였다</a></span></li><li><span><a href=\"#연수생-선발/추천을-위한-사전준비-기간은-적절하였다\" data-toc-modified-id=\"연수생-선발/추천을-위한-사전준비-기간은-적절하였다-3.1.2\"><span class=\"toc-item-num\">3.1.2&nbsp;&nbsp;</span>연수생 선발/추천을 위한 사전준비 기간은 적절하였다</a></span></li><li><span><a href=\"#연수-신청방법-및-교육내용에-대한-구체적인-안내를-받았다\" data-toc-modified-id=\"연수-신청방법-및-교육내용에-대한-구체적인-안내를-받았다-3.1.3\"><span class=\"toc-item-num\">3.1.3&nbsp;&nbsp;</span>연수 신청방법 및 교육내용에 대한 구체적인 안내를 받았다</a></span></li></ul></li><li><span><a href=\"#교육후-설문\" data-toc-modified-id=\"교육후-설문-3.2\"><span class=\"toc-item-num\">3.2&nbsp;&nbsp;</span>교육후 설문</a></span><ul class=\"toc-item\"><li><span><a href=\"#연수과정의-내용은-연수생-현지의-상황과-요구에-맞게-구성되었다.\" data-toc-modified-id=\"연수과정의-내용은-연수생-현지의-상황과-요구에-맞게-구성되었다.-3.2.1\"><span class=\"toc-item-num\">3.2.1&nbsp;&nbsp;</span>연수과정의 내용은 연수생 현지의 상황과 요구에 맞게 구성되었다.</a></span></li><li><span><a href=\"#연수과정의-내용과-수준은-이해하기-적절하였다.\" data-toc-modified-id=\"연수과정의-내용과-수준은-이해하기-적절하였다.-3.2.2\"><span class=\"toc-item-num\">3.2.2&nbsp;&nbsp;</span>연수과정의 내용과 수준은 이해하기 적절하였다.</a></span></li><li><span><a href=\"#연수과정의-교육방법(강의,-실습/토의,-현장학습-등)은-연수내용을-이해하는데-적합하였다.\" data-toc-modified-id=\"연수과정의-교육방법(강의,-실습/토의,-현장학습-등)은-연수내용을-이해하는데-적합하였다.-3.2.3\"><span class=\"toc-item-num\">3.2.3&nbsp;&nbsp;</span>연수과정의 교육방법(강의, 실습/토의, 현장학습 등)은 연수내용을 이해하는데 적합하였다.</a></span></li><li><span><a href=\"#연수기관에서는-연수생-국가의-문화나-종교를-배려하기-위해-노력하였다\" data-toc-modified-id=\"연수기관에서는-연수생-국가의-문화나-종교를-배려하기-위해-노력하였다-3.2.4\"><span class=\"toc-item-num\">3.2.4&nbsp;&nbsp;</span>연수기관에서는 연수생 국가의 문화나 종교를 배려하기 위해 노력하였다</a></span></li><li><span><a href=\"#연수운영진은-연수과정을-원활하게-운영하였다.-(일정관리,-강의준비,-연수생-지원-등)\" data-toc-modified-id=\"연수운영진은-연수과정을-원활하게-운영하였다.-(일정관리,-강의준비,-연수생-지원-등)-3.2.5\"><span class=\"toc-item-num\">3.2.5&nbsp;&nbsp;</span>연수운영진은 연수과정을 원활하게 운영하였다. (일정관리, 강의준비, 연수생 지원 등)</a></span></li><li><span><a href=\"#연수운영진은-응급상황-등-사건사고에-대해-적절히-대처하였다.\" data-toc-modified-id=\"연수운영진은-응급상황-등-사건사고에-대해-적절히-대처하였다.-3.2.6\"><span class=\"toc-item-num\">3.2.6&nbsp;&nbsp;</span>연수운영진은 응급상황 등 사건사고에 대해 적절히 대처하였다.</a></span></li><li><span><a href=\"#강의실-및-실습실은-사용하기에-편리하였다.\" data-toc-modified-id=\"강의실-및-실습실은-사용하기에-편리하였다.-3.2.7\"><span class=\"toc-item-num\">3.2.7&nbsp;&nbsp;</span>강의실 및 실습실은 사용하기에 편리하였다.</a></span></li><li><span><a href=\"#연수-편의시설(휴게시설,-식당,-숙박시설-등)은-사용하기에-편리하였다.\" data-toc-modified-id=\"연수-편의시설(휴게시설,-식당,-숙박시설-등)은-사용하기에-편리하였다.-3.2.8\"><span class=\"toc-item-num\">3.2.8&nbsp;&nbsp;</span>연수 편의시설(휴게시설, 식당, 숙박시설 등)은 사용하기에 편리하였다.</a></span></li><li><span><a href=\"#연수과정에-사용된-교수학습매체는-적절하였다.-(교재,-동영상,-실습장비-등)\" data-toc-modified-id=\"연수과정에-사용된-교수학습매체는-적절하였다.-(교재,-동영상,-실습장비-등)-3.2.9\"><span class=\"toc-item-num\">3.2.9&nbsp;&nbsp;</span>연수과정에 사용된 교수학습매체는 적절하였다. (교재, 동영상, 실습장비 등)</a></span></li><li><span><a href=\"#강사진은-해당-분야에-대한-실무경험이나-전문성-수준이-높은-인력으로-구성되었다.\" data-toc-modified-id=\"강사진은-해당-분야에-대한-실무경험이나-전문성-수준이-높은-인력으로-구성되었다.-3.2.10\"><span class=\"toc-item-num\">3.2.10&nbsp;&nbsp;</span>강사진은 해당 분야에 대한 실무경험이나 전문성 수준이 높은 인력으로 구성되었다.</a></span></li><li><span><a href=\"#강사는-연수생과-소통하며-교육내용을-체계적이고-능숙하게-전달하였다\" data-toc-modified-id=\"강사는-연수생과-소통하며-교육내용을-체계적이고-능숙하게-전달하였다-3.2.11\"><span class=\"toc-item-num\">3.2.11&nbsp;&nbsp;</span>강사는 연수생과 소통하며 교육내용을 체계적이고 능숙하게 전달하였다</a></span></li><li><span><a href=\"#통역사는-이해하기-쉽도록-통역하였다.\" data-toc-modified-id=\"통역사는-이해하기-쉽도록-통역하였다.-3.2.12\"><span class=\"toc-item-num\">3.2.12&nbsp;&nbsp;</span>통역사는 이해하기 쉽도록 통역하였다.</a></span></li><li><span><a href=\"#국별보고/액션플랜의-주제는-연수과정-목표와-연계되어-있었다.\" data-toc-modified-id=\"국별보고/액션플랜의-주제는-연수과정-목표와-연계되어-있었다.-3.2.13\"><span class=\"toc-item-num\">3.2.13&nbsp;&nbsp;</span>국별보고/액션플랜의 주제는 연수과정 목표와 연계되어 있었다.</a></span></li><li><span><a href=\"#국별보고/액션플랜-세션시간은-충분하였다.\" data-toc-modified-id=\"국별보고/액션플랜-세션시간은-충분하였다.-3.2.14\"><span class=\"toc-item-num\">3.2.14&nbsp;&nbsp;</span>국별보고/액션플랜 세션시간은 충분하였다.</a></span></li><li><span><a href=\"#액션플랜-작성-및-발표를-위한-사전안내가-충분히-이루어졌다.\" data-toc-modified-id=\"액션플랜-작성-및-발표를-위한-사전안내가-충분히-이루어졌다.-3.2.15\"><span class=\"toc-item-num\">3.2.15&nbsp;&nbsp;</span>액션플랜 작성 및 발표를 위한 사전안내가 충분히 이루어졌다.</a></span></li><li><span><a href=\"#국별보고/액션플랜-세션-담당자는-피드백을-충분히-제공하였다.\" data-toc-modified-id=\"국별보고/액션플랜-세션-담당자는-피드백을-충분히-제공하였다.-3.2.16\"><span class=\"toc-item-num\">3.2.16&nbsp;&nbsp;</span>국별보고/액션플랜 세션 담당자는 피드백을 충분히 제공하였다.</a></span></li><li><span><a href=\"#국별보고/액션플랜-세션은-연수내용을-이해하는데-도움이-되었다.\" data-toc-modified-id=\"국별보고/액션플랜-세션은-연수내용을-이해하는데-도움이-되었다.-3.2.17\"><span class=\"toc-item-num\">3.2.17&nbsp;&nbsp;</span>국별보고/액션플랜 세션은 연수내용을 이해하는데 도움이 되었다.</a></span></li><li><span><a href=\"#액션플랜-작성은-현장에서-실무능력을-향상시키는데-도움이-되었다.\" data-toc-modified-id=\"액션플랜-작성은-현장에서-실무능력을-향상시키는데-도움이-되었다.-3.2.18\"><span class=\"toc-item-num\">3.2.18&nbsp;&nbsp;</span>액션플랜 작성은 현장에서 실무능력을 향상시키는데 도움이 되었다.</a></span></li></ul></li><li><span><a href=\"#연수생만족도-관련-설문항목-분석\" data-toc-modified-id=\"연수생만족도-관련-설문항목-분석-3.3\"><span class=\"toc-item-num\">3.3&nbsp;&nbsp;</span>연수생만족도 관련 설문항목 분석</a></span><ul class=\"toc-item\"><li><span><a href=\"#연수생만족도-항목별-평균값\" data-toc-modified-id=\"연수생만족도-항목별-평균값-3.3.1\"><span class=\"toc-item-num\">3.3.1&nbsp;&nbsp;</span>연수생만족도 항목별 평균값</a></span></li><li><span><a href=\"#연수생만족도-주제-그룹-평균값\" data-toc-modified-id=\"연수생만족도-주제-그룹-평균값-3.3.2\"><span class=\"toc-item-num\">3.3.2&nbsp;&nbsp;</span>연수생만족도 주제 그룹 평균값</a></span></li></ul></li><li><span><a href=\"#교육전후-교과별-'인지-수준---기술-수준---태도-수준'-변화-분석\" data-toc-modified-id=\"교육전후-교과별-'인지-수준---기술-수준---태도-수준'-변화-분석-3.4\"><span class=\"toc-item-num\">3.4&nbsp;&nbsp;</span>교육전후 교과별 '인지 수준 - 기술 수준 - 태도 수준' 변화 분석</a></span><ul class=\"toc-item\"><li><span><a href=\"#'PPP와-개도국에-대한-PPP적용방법에-대한-이해-(A교과)'에-대한-참가자별-'인지---기술---태도'-수준-변화\" data-toc-modified-id=\"'PPP와-개도국에-대한-PPP적용방법에-대한-이해-(A교과)'에-대한-참가자별-'인지---기술---태도'-수준-변화-3.4.1\"><span class=\"toc-item-num\">3.4.1&nbsp;&nbsp;</span>'PPP와 개도국에 대한 PPP적용방법에 대한 이해 (A교과)'에 대한 참가자별 '인지 - 기술 - 태도' 수준 변화</a></span><ul class=\"toc-item\"><li><span><a href=\"#A교과에-대한-인지-수준-변화\" data-toc-modified-id=\"A교과에-대한-인지-수준-변화-3.4.1.1\"><span class=\"toc-item-num\">3.4.1.1&nbsp;&nbsp;</span>A교과에 대한 인지 수준 변화</a></span></li><li><span><a href=\"#A교과에-대한-기술-수준-변화\" data-toc-modified-id=\"A교과에-대한-기술-수준-변화-3.4.1.2\"><span class=\"toc-item-num\">3.4.1.2&nbsp;&nbsp;</span>A교과에 대한 기술 수준 변화</a></span></li><li><span><a href=\"#A교과에-대한-태도-수준-변화\" data-toc-modified-id=\"A교과에-대한-태도-수준-변화-3.4.1.3\"><span class=\"toc-item-num\">3.4.1.3&nbsp;&nbsp;</span>A교과에 대한 태도 수준 변화</a></span></li></ul></li><li><span><a href=\"#'개도국을-위한-적용가능한-수질개선기술-(B교과)'에-대한-참가자별-'인지---기술---태도'-수준-변화\" data-toc-modified-id=\"'개도국을-위한-적용가능한-수질개선기술-(B교과)'에-대한-참가자별-'인지---기술---태도'-수준-변화-3.4.2\"><span class=\"toc-item-num\">3.4.2&nbsp;&nbsp;</span>'개도국을 위한 적용가능한 수질개선기술 (B교과)'에 대한 참가자별 '인지 - 기술 - 태도' 수준 변화</a></span><ul class=\"toc-item\"><li><span><a href=\"#B교과에-대한-인지-수준-변화\" data-toc-modified-id=\"B교과에-대한-인지-수준-변화-3.4.2.1\"><span class=\"toc-item-num\">3.4.2.1&nbsp;&nbsp;</span>B교과에 대한 인지 수준 변화</a></span></li><li><span><a href=\"#B교과에-대한-기술-수준-변화\" data-toc-modified-id=\"B교과에-대한-기술-수준-변화-3.4.2.2\"><span class=\"toc-item-num\">3.4.2.2&nbsp;&nbsp;</span>B교과에 대한 기술 수준 변화</a></span></li><li><span><a href=\"#B교과에-대한-태도-수준-변화\" data-toc-modified-id=\"B교과에-대한-태도-수준-변화-3.4.2.3\"><span class=\"toc-item-num\">3.4.2.3&nbsp;&nbsp;</span>B교과에 대한 태도 수준 변화</a></span></li></ul></li><li><span><a href=\"#'개도국을-위한-미디어시티,-도로,-교통시설-개발-(C-교과)'-에-대한-참가자별-'인지---기술---태도'-수준-변화\" data-toc-modified-id=\"'개도국을-위한-미디어시티,-도로,-교통시설-개발-(C-교과)'-에-대한-참가자별-'인지---기술---태도'-수준-변화-3.4.3\"><span class=\"toc-item-num\">3.4.3&nbsp;&nbsp;</span>'개도국을 위한 미디어시티, 도로, 교통시설 개발 (C 교과)' 에 대한 참가자별 '인지 - 기술 - 태도' 수준 변화</a></span><ul class=\"toc-item\"><li><span><a href=\"#C교과에-대한-인지-수준-변화\" data-toc-modified-id=\"C교과에-대한-인지-수준-변화-3.4.3.1\"><span class=\"toc-item-num\">3.4.3.1&nbsp;&nbsp;</span>C교과에 대한 인지 수준 변화</a></span></li><li><span><a href=\"#C교과에-대한-기술-수준-변화\" data-toc-modified-id=\"C교과에-대한-기술-수준-변화-3.4.3.2\"><span class=\"toc-item-num\">3.4.3.2&nbsp;&nbsp;</span>C교과에 대한 기술 수준 변화</a></span></li><li><span><a href=\"#C교과에-대한-태도-수준-변화\" data-toc-modified-id=\"C교과에-대한-태도-수준-변화-3.4.3.3\"><span class=\"toc-item-num\">3.4.3.3&nbsp;&nbsp;</span>C교과에 대한 태도 수준 변화</a></span></li></ul></li></ul></li><li><span><a href=\"#수준-변화에-대한-T검정-및-직책별-성별-'인지-수준---기술-수준---태도-수준'-변화-분석\" data-toc-modified-id=\"수준-변화에-대한-T검정-및-직책별-성별-'인지-수준---기술-수준---태도-수준'-변화-분석-3.5\"><span class=\"toc-item-num\">3.5&nbsp;&nbsp;</span>수준 변화에 대한 T검정 및 직책별-성별 '인지 수준 - 기술 수준 - 태도 수준' 변화 분석</a></span><ul class=\"toc-item\"><li><span><a href=\"#교육전후-교과별-'인지-수준---기술-수준---태도-수준'-변화에-대한-T검정\" data-toc-modified-id=\"교육전후-교과별-'인지-수준---기술-수준---태도-수준'-변화에-대한-T검정-3.5.1\"><span class=\"toc-item-num\">3.5.1&nbsp;&nbsp;</span>교육전후 교과별 '인지 수준 - 기술 수준 - 태도 수준' 변화에 대한 T검정</a></span></li><li><span><a href=\"#교육전후-교과별-'인지-수준---기술-수준---태도-수준'-변화-데이터\" data-toc-modified-id=\"교육전후-교과별-'인지-수준---기술-수준---태도-수준'-변화-데이터-3.5.2\"><span class=\"toc-item-num\">3.5.2&nbsp;&nbsp;</span>교육전후 교과별 '인지 수준 - 기술 수준 - 태도 수준' 변화 데이터</a></span></li><li><span><a href=\"#강의평가-데이터를--설문결과-및-학생정보-데이터에-병합\" data-toc-modified-id=\"강의평가-데이터를--설문결과-및-학생정보-데이터에-병합-3.5.3\"><span class=\"toc-item-num\">3.5.3&nbsp;&nbsp;</span>강의평가 데이터를  설문결과 및 학생정보 데이터에 병합</a></span></li><li><span><a href=\"#직책별-교육전후-교과별-'인지-수준---기술-수준---태도-수준'-변화-분석\" data-toc-modified-id=\"직책별-교육전후-교과별-'인지-수준---기술-수준---태도-수준'-변화-분석-3.5.4\"><span class=\"toc-item-num\">3.5.4&nbsp;&nbsp;</span>직책별 교육전후 교과별 '인지 수준 - 기술 수준 - 태도 수준' 변화 분석</a></span></li><li><span><a href=\"#성별-교육전후-교과별-'인지-수준---기술-수준---태도-수준'-변화-분석\" data-toc-modified-id=\"성별-교육전후-교과별-'인지-수준---기술-수준---태도-수준'-변화-분석-3.5.5\"><span class=\"toc-item-num\">3.5.5&nbsp;&nbsp;</span>성별 교육전후 교과별 '인지 수준 - 기술 수준 - 태도 수준' 변화 분석</a></span></li></ul></li></ul></li><li><span><a href=\"#강의평가-결과\" data-toc-modified-id=\"강의평가-결과-4\"><span class=\"toc-item-num\">4&nbsp;&nbsp;</span>강의평가 결과</a></span><ul class=\"toc-item\"><li><span><a href=\"#학생별-강의평가\" data-toc-modified-id=\"학생별-강의평가-4.1\"><span class=\"toc-item-num\">4.1&nbsp;&nbsp;</span>학생별 강의평가</a></span></li><li><span><a href=\"#강의별-강의평가\" data-toc-modified-id=\"강의별-강의평가-4.2\"><span class=\"toc-item-num\">4.2&nbsp;&nbsp;</span>강의별 강의평가</a></span><ul class=\"toc-item\"><li><span><a href=\"#강의별-강의평가-평균\" data-toc-modified-id=\"강의별-강의평가-평균-4.2.1\"><span class=\"toc-item-num\">4.2.1&nbsp;&nbsp;</span>강의별 강의평가 평균</a></span></li><li><span><a href=\"#강의별-강의평가-평균의-바그래프\" data-toc-modified-id=\"강의별-강의평가-평균의-바그래프-4.2.2\"><span class=\"toc-item-num\">4.2.2&nbsp;&nbsp;</span>강의별 강의평가 평균의 바그래프</a></span></li><li><span><a href=\"#강의별-강의평가-평균-간-correlation\" data-toc-modified-id=\"강의별-강의평가-평균-간-correlation-4.2.3\"><span class=\"toc-item-num\">4.2.3&nbsp;&nbsp;</span>강의별 강의평가 평균 간 correlation</a></span></li></ul></li></ul></li></ul></div>"
      ]
    },
    {
      "cell_type": "markdown",
      "metadata": {
        "id": "oVfqpmCPNQuk",
        "colab_type": "text"
      },
      "source": [
        "# 설문항목\n",
        "\n",
        "## 교육 전 설문\n",
        "**1. The following questions relate to the guide for the application and participant selection for the course. Please check the number that best expresses your thoughts.  (다음은 귀하께서 참여하신 연수과정의 운영 적절성 및 만족도에 대한 항목입니다. 각 문항에 대해 귀하의 생각과 일치하시는 곳에 ✔표 하여 주시길 바랍니다.)**<br><br>\n",
        "\n",
        "   *Check: ① Strongly disagree  (전혀 그렇지않다) ② Disagree  (그렇지않다) ③ Neutral  (보통이다) ④ Agree  (그렇다) ⑤ Strongly agree  (매우 그렇다)* <br><br>\n",
        "   \n",
        "   1-1. Preparatory period for applying and selecting participants was appropriate.  (연수생 선발/추천을 위한 사전준비 기간은\n",
        "적절하였다.)<br>\n",
        "   1-2. I received a detailed guide on how to apply for a program and the content of the program.  (연수 신청방법 및 교육내용에 대한 구체적인 안내를 받았다.)<br><br>\n",
        "\n",
        "\n",
        "**2. The following questions relate to the level of prior knowledge as to the main learning content of the course.  (다음은 귀하께서 참여하신 연수과정의 주요 학습내용에 대한 선행수준에 대한 문항입니다.)**<br><br>\n",
        "Please check the number that matches your current level of learning content below  (아래 학습내용에 대한 귀하의 현재수준과 일치하시는 곳에 ✔표 하여 주시길 바랍니다.): <br>\n",
        "   2-1. Understanding Public-Private Partnership and Its Applicability to Developing Countries)  (PPP와 개도국에 대한 PPP적용방법에 대한 이해) <br>\n",
        "   2-2. Applicable Water Quality Improvement Technique for Developing Countries  (개도국을 위한 적용가능한 수질개선기술) <br>\n",
        "   2-3. Developing a Media City and Road and Traffic Facility for Developing Countries  (개도국을 위한 미디어시티, 도로, 교통시설 개발) <br><br>\n",
        "   \n",
        "   *Check: 2-1-1 / 2-2-1 / 2-3-1. Cognitive knowledge  (인지 수준)* <br>\n",
        "    ① I do not know the basic theory or knowledge about learning content.  (학습내용과 관련된 기초이론이나 지식을 알지 못한다.) <br>\n",
        "    ② I have basic knowledge about learning content.  (학습내용에 대한 기초적인 지식을 가지고 있다.) <br>\n",
        "    ③ I can explain learning content to others.  (학습내용에 대해 다른 사람에게 설명할 수 있다.) <br>\n",
        "    ④ I can apply learning content to similar tasks.  (학습내용을 유사한 업무에 적용할 수 있다.) <br>\n",
        "    ⑤ I can apply learning content to other tasks as well as similar tasks.  (학습내용을 유사한 업무뿐만 아니라 다른 상황에도 응용할 수 있다.) <br><br>\n",
        "\n",
        "   *Check: 2-1-2 / 2-2-2 / 2-3-2. Technical skill*  (기술 수준) <br>\n",
        "    ① I do not know the procedure or method for carrying out learning content.  (학습내용을 실행하기 위한 절차나 방법을 모른다.) <br>\n",
        "    ② I am familiar with the procedure and method of using learning content for work.  (학습내용을 업무에 활용하는 절차나 방법을 알고 있다.) <br>\n",
        "    ③ I can use learning content for work under the guidance of others.  (학습내용을 다른 사람의 지도를 받아 업무에 활용할 수 있다.) <br>\n",
        "    ④ I can use learning content for work without help of others.  (학습내용을 다른 사람의 도움 없이 스스로 업무에 활용할 수 있다.) <br>\n",
        "    ⑤ I can use learning content for work to produce successful outcomes.  (학습내용을 업무에 활용하여 성공적인 결과를 낼 수 있다.) <br><br>\n",
        "\n",
        "   *Check: 2-1-3 / 2-2-3 / 2-3-3. Attitude*  (태도 수준) <br>\n",
        "    ① I am not interested in learning content.  (학습내용에 관심이 없다.) <br>\n",
        "    ② I am interested in learning content.  (학습내용에 관심이나 흥미가 있다.) <br>\n",
        "    ③ I think learning content is important and valuable to me.  (학습내용은 나에게 중요하고 가치 있는 내용이라고 생각한다.) <br>\n",
        "    ④ I am willing to strive to apply learning content to work.  (학습내용을 업무에 적용하기 위해 노력할 마음이 있다.) <br>\n",
        "    ⑤ I have a concrete plan to apply learning content to work.  (학습내용을 업무에 적용할 구체적인 계획이 있다.) <br><br>"
      ]
    },
    {
      "cell_type": "markdown",
      "metadata": {
        "id": "uH9WC6LnNQul",
        "colab_type": "text"
      },
      "source": [
        "## 교육 후 설문\n",
        "**1. The following questions relate to the level of satisfaction in program content, operation and facilities. Please check the number that best expresses your thoughts.**<br><br>\n",
        "\n",
        "   *Check: ① Very unsatisfactory (매우 불만족) ② Unsatisfactory (불만족) ③ Neutral (보통) ④ Satisfactory (만족) ⑤ Very satisfactory (매우 만족)* <br>\n",
        "   \n",
        "   **Program Content (연수프로그램)**<br>\n",
        "   1-1. The content of the course was tailored to the circumstances and needs of the participants’ country. (연수과정의 내용은 연수생 현지의 상황과 요구에 맞게 구성되었다.) <br>\n",
        "   1-2. The content and level of the course were appropriate to understand. (연수과정의 내용과 수준은 이해하기 적절하였다.)<br>\n",
        "   1-3. The education methods of the course  (lecture, practice/ discussion, field learning, etc.) were appropriate to understand the content. (연수과정의 교육방법 (강의, 실습/토의, 현장학습 등)은 연수내용을 이해하는데 적합하였다.)<br>\n",
        "      \n",
        "   **Program Operation (연수운영)**<br>\n",
        "   1-4. The training institute tried to consider the culture and religion of the participants’country. (연수기관에서는 연수생 국가의 문화나 종교를 배려하기 위해 노력하였다.) <br>\n",
        "   1-5. The staff managed the program process smoothly  (schedule management, lecture preparation, support for participants, etc.). (연수운영진은 연수과정을 원활하게 운영하였다.  (일정관리, 강의준비, 연수생 지원 등))<br>\n",
        "   1-6. The staff responded properly to accidents such as emergency  situations. (연수운영진은 응급상황 등 사건사고에 대해 적절히 대처하였다.)<br>\n",
        "\n",
        "   **Program Facilities (연수시설)**<br>\n",
        "   1-7. Classrooms and laboratories were convenient to use. (강의실 및 실습실은 사용하기에 편리하였다.) <br>\n",
        "   1-8. Program amenities  (rest lounges, restaurants, accommodations, etc.) were convenient to use. (연수 편의시설 (휴게시설, 식당, 숙박시설 등)은 사용하기에 편리하였다.) <br>\n",
        "\n",
        "**2. The following questions relate to the level of satisfaction about the materials and instructors. (다음은 귀하께서 참여하신 연수과정의 교재 및 강사 만족도에 대한 항목입니다.)**<br><br>\n",
        "   *Check: ① There was an interpreter. (통역이 있었음) ② There was no interpreter. (통역이 없었음)*<br>\n",
        "   2-1. Was there any interpreter in the course that you attended? (귀하께서 참여하신 연수과정에 통역사가 있었습니까?) <br><br>\n",
        "\n",
        "   *Check: ① Very unsatisfactory (매우 불만족) ② Unsatisfactory (불만족) ③ Neutral (보통) ④ Satisfactory (만족) ⑤ Very satisfactory (매우 만족)* <br>\n",
        "   2-2. Please check the number that best expresses your thoughts. (각 문항에 대해 귀하의 생각과 일치하시는 곳에 ✔표 하여 주시길 바랍니다.) <br><br>\n",
        "   2-2-1. The teaching and learning medium used in the course was appropriate  (eg. materials, videos, practice equipment, etc.). (연수과정에 사용된 교수학습매체는 적절하였다.  (교재, 동영상, 실습장비 등))<br>\n",
        "   2-2-2. Instructors consisted of those with a high level of practical experience and expertise in the field. (강사진은 해당 분야에 대한 실무경험이나 전문성 수준이 높은 인력으로 구성되었다.)<br>\n",
        "   2-2-3. Instructors communicated with participants to deliver the training content in a systematic, proficient manner. (강사는 연수생과 소통하며 교육내용을 체계적이고 능숙하게 전달하였다)<br>\n",
        "   2-2-4. Interpreting was easy to understand  (If you answered ② in 2-1, you do not have to answer). (통역사는 이해하기 쉽도록 통역하였다.  (2-1에서 ②에 응답한 경우, 응답하지 않으셔도 됩니다))<br><br>\n",
        "\n",
        "**3. The following questions relate to the level of accomplishment with respect to the main learning content. (다음은 귀하께서 참여하신 연수과정의 주요 학습내용에 대한 성취수준에 대한 문항입니다.)**<br><br>\n",
        "Please check the number that matches your current level of learning content below (아래 학습내용에 대한 귀하의 현재수준과 일치하시는 곳에 ✔표 하여 주시길 바랍니다.): <br>\n",
        "   3-1. Understanding Public-Private Partnership and Its Applicability to Developing Countries) (PPP와 개도국에 대한 PPP적용방법에 대한 이해) <br>\n",
        "   3-2. Applicable Water Quality Improvement Technique for Developing Countries (개도국을 위한 적용가능한 수질개선기술) <br>\n",
        "   3-3. Developing a Media City and Road and Traffic Facility for Developing Countries (개도국을 위한 미디어시티, 도로, 교통시설 개발) <br><br>\n",
        "   \n",
        "   *Check: 3-1-1 / 3-2-1 / 3-3-1. Cognitive knowledge (인지 수준)* <br>\n",
        "    ① I do not know the basic theory or knowledge about learning content. (학습내용과 관련된 기초이론이나 지식을 알지 못한다.) <br>\n",
        "    ② I have basic knowledge about learning content. (학습내용에 대한 기초적인 지식을 가지고 있다.) <br>\n",
        "    ③ I can explain learning content to others. (학습내용에 대해 다른 사람에게 설명할 수 있다.) <br>\n",
        "    ④ I can apply learning content to similar tasks. (학습내용을 유사한 업무에 적용할 수 있다.) <br>\n",
        "    ⑤ I can apply learning content to other tasks as well as similar tasks. (학습내용을 유사한 업무뿐만 아니라 다른 상황에도 응용할 수 있다.) <br><br>\n",
        "\n",
        "   *Check: 3-1-2 / 3-2-2 / 3-3-2. Technical skill* (기술 수준) <br>\n",
        "    ① I do not know the procedure or method for carrying out learning content. (학습내용을 실행하기 위한 절차나 방법을 모른다.) <br>\n",
        "    ② I am familiar with the procedure and method of using learning content for work. (학습내용을 업무에 활용하는 절차나 방법을 알고 있다.) <br>\n",
        "    ③ I can use learning content for work under the guidance of others. (학습내용을 다른 사람의 지도를 받아 업무에 활용할 수 있다.) <br>\n",
        "    ④ I can use learning content for work without help of others. (학습내용을 다른 사람의 도움 없이 스스로 업무에 활용할 수 있다.) <br>\n",
        "    ⑤ I can use learning content for work to produce successful outcomes. (학습내용을 업무에 활용하여 성공적인 결과를 낼 수 있다.) <br><br>\n",
        "\n",
        "   *Check: 3-1-3 / 3-2-3 / 3-3-3. Attitude* (태도 수준) <br>\n",
        "    ① I am not interested in learning content. (학습내용에 관심이 없다.) <br>\n",
        "    ② I am interested in learning content. (학습내용에 관심이나 흥미가 있다.) <br>\n",
        "    ③ I think learning content is important and valuable to me. (학습내용은 나에게 중요하고 가치 있는 내용이라고 생각한다.) <br>\n",
        "    ④ I am willing to strive to apply learning content to work. (학습내용을 업무에 적용하기 위해 노력할 마음이 있다.) <br>\n",
        "    ⑤ I have a concrete plan to apply learning content to work. (학습내용을 업무에 적용할 구체적인 계획이 있다.) <br><br>"
      ]
    },
    {
      "cell_type": "markdown",
      "metadata": {
        "id": "Xv54f_tHNQum",
        "colab_type": "text"
      },
      "source": [
        "* 교과목명 index\n",
        "    * A교과: Understanding Public-Private Partnership and Its Applicability to Developing Countries (PPP와 개도국에 대한 PPP적용방법에 대한 이해)\n",
        "    * B교과: Applicable Water Quality Improvement Technique for Developing Countries (개도국을 위한 적용가능한 수질개선기술)\n",
        "    * C교과: Developing a Media City and Road and Traffic Facility for Developing Countries (개도국을 위한 미디어시티, 도로, 교통시설 개발)"
      ]
    },
    {
      "cell_type": "markdown",
      "metadata": {
        "id": "NQoWhkYcNQun",
        "colab_type": "text"
      },
      "source": [
        "# 강의평가 설문\n",
        "\n",
        "아래 질문 별로 5점 척도 중 해당되는 체크항목에 표시 <br><br>\n",
        "Check: ① Strongly disagree (전혀 그렇지않다) ② Disagree (그렇지않다) ③ Neutral (보통이다) ④ Agree (그렇다) ⑤ Strongly agree (매우 그렇다) \n",
        "\n",
        "1. The lecture was relevant to the training objectives. (연수 목표와의 연관성)\n",
        "2. The lecturer was knowledgeable. (강사 전문성)\n",
        "3. The material was useful. (강의교재)\n",
        "4. The lecturer's English proficiency (translation skill) was good enough. (강사 영어구사력 (또는 통역 숙련도))\n",
        "5. Class participation and interaction were encouraged. (참여도 제고)\n",
        "6. Adequate time was allocated for the lecture. (강의시간 적절성)"
      ]
    },
    {
      "cell_type": "markdown",
      "metadata": {
        "id": "NHuUSrVWNQuo",
        "colab_type": "text"
      },
      "source": [
        "* 강의명 index\n",
        "    * 강의1: 국제협력 사업실행팀 수자원개발 및 관리사례\n",
        "    * 강의2: 국제협력 사업실행팀 수처리시설건설사례 세미나\n",
        "    * 강의3: 민간투자사업제도와 적격성조사\n",
        "    * 강의4: 도로교통시설과 도로정책\n",
        "    * 강의5: 한국의 공공투자관리시스템\n",
        "    * 강의6: 상암미디어시티 개발사례\n",
        "    * 강의7: 국제협력사업실습"
      ]
    },
    {
      "cell_type": "code",
      "metadata": {
        "id": "lARqawuk_cYI",
        "colab_type": "code",
        "colab": {
          "base_uri": "https://localhost:8080/",
          "height": 194
        },
        "outputId": "e8d853ba-eb0f-4032-d70c-eaeb6b55728f"
      },
      "source": [
        "pip install plotly==4.1.1"
      ],
      "execution_count": 1,
      "outputs": [
        {
          "output_type": "stream",
          "text": [
            "Collecting plotly==4.1.1\n",
            "\u001b[?25l  Downloading https://files.pythonhosted.org/packages/70/19/8437e22c84083a6d5d8a3c80f4edc73c9dcbb89261d07e6bd13b48752bbd/plotly-4.1.1-py2.py3-none-any.whl (7.1MB)\n",
            "\u001b[K     |████████████████████████████████| 7.1MB 10.3MB/s \n",
            "\u001b[?25hRequirement already satisfied: retrying>=1.3.3 in /usr/local/lib/python3.6/dist-packages (from plotly==4.1.1) (1.3.3)\n",
            "Requirement already satisfied: six in /usr/local/lib/python3.6/dist-packages (from plotly==4.1.1) (1.12.0)\n",
            "Installing collected packages: plotly\n",
            "  Found existing installation: plotly 3.6.1\n",
            "    Uninstalling plotly-3.6.1:\n",
            "      Successfully uninstalled plotly-3.6.1\n",
            "Successfully installed plotly-4.1.1\n"
          ],
          "name": "stdout"
        }
      ]
    },
    {
      "cell_type": "code",
      "metadata": {
        "colab_type": "code",
        "id": "fn5AhKOK95MP",
        "colab": {}
      },
      "source": [
        "# 노트북 안에서 그래프를 그리기 위해\n",
        "%matplotlib inline\n",
        "# %matplotlib nbagg\n",
        "    \n",
        "import pandas as pd\n",
        "import numpy as np\n",
        "import matplotlib.pyplot as plt\n",
        "import seaborn as sns\n",
        "plt.rcParams['figure.figsize'] = [10, 6]\n",
        "\n",
        "\n",
        "# Suppress Deprecation and Incorrect Usage Warnings \n",
        "import warnings\n",
        "warnings.filterwarnings('ignore')\n",
        "\n",
        "# #  display two pandas tables side by side\n",
        "# from IPython.display import display, HTML\n",
        "# CSS = \"\"\"\n",
        "# .output {\n",
        "#     flex-direction: row;\n",
        "# }\n",
        "# \"\"\"\n",
        "# HTML('<style>{}</style>'.format(CSS))\n",
        "\n",
        "\n",
        "# 기본 글꼴 변경\n",
        "import matplotlib as mpl\n",
        "mpl.font_manager._rebuild()\n",
        "mpl.pyplot.rc('font', family='NanumBarunGothic')\n",
        "\n",
        "# allow multiple outputs\n",
        "# from IPython.core.interactiveshell import InteractiveShell\n",
        "# InteractiveShell.ast_node_interactivity = \"all\"\n",
        "\n",
        "# allow image input\n",
        "from IPython.display import Image"
      ],
      "execution_count": 0,
      "outputs": []
    },
    {
      "cell_type": "code",
      "metadata": {
        "id": "ZnMkdFRqNQup",
        "colab_type": "code",
        "colab": {}
      },
      "source": [
        "# 그래프에서 한글표현을 위해 폰트를 설치합니다.\n",
        "# %config InlineBackend.figure_format = 'retina'\n",
        "\n",
        "# !apt -qq -y install fonts-nanum > /dev/null\n",
        "# import matplotlib.font_manager as fm\n",
        "# fontpath = '/usr/share/fonts/truetype/nanum/NanumBarunGothic.ttf'\n",
        "# font = fm.FontProperties(fname=fontpath, size=9)"
      ],
      "execution_count": 0,
      "outputs": []
    },
    {
      "cell_type": "code",
      "metadata": {
        "colab_type": "code",
        "id": "mVTfU_xf_tAs",
        "colab": {}
      },
      "source": [
        "def configure_plotly_browser_state():\n",
        "  import IPython\n",
        "  display(IPython.core.display.HTML('''\n",
        "        <script src=\"/static/components/requirejs/require.js\"></script>\n",
        "        <script>\n",
        "          requirejs.config({\n",
        "            paths: {\n",
        "              base: '/static/base',\n",
        "              plotly: 'https://cdn.plot.ly/plotly-latest.min.js?noext',\n",
        "            },\n",
        "          });\n",
        "        </script>\n",
        "        '''))"
      ],
      "execution_count": 0,
      "outputs": []
    },
    {
      "cell_type": "code",
      "metadata": {
        "colab_type": "code",
        "id": "WQMsczZXLCe5",
        "colab": {}
      },
      "source": [
        "Image('https://i.stack.imgur.com/ScJfR.png')\n"
      ],
      "execution_count": 0,
      "outputs": []
    },
    {
      "cell_type": "markdown",
      "metadata": {
        "id": "jq8RvkBJFsmx",
        "colab_type": "text"
      },
      "source": [
        "# Library Importing(plotly 4.1.1)"
      ]
    },
    {
      "cell_type": "code",
      "metadata": {
        "colab_type": "code",
        "id": "tx89o5zp95Mc",
        "colab": {}
      },
      "source": [
        "from plotly import __version__\n",
        "print (__version__)\n",
        "import plotly\n",
        "from plotly import tools\n",
        "from plotly.subplots import make_subplots\n",
        "import plotly.graph_objs as go\n",
        "import plotly.figure_factory as ff\n",
        "\n",
        "# Display all cell outputs\n",
        "from IPython.core.interactiveshell import InteractiveShell\n",
        "\n",
        "# Jupyter setup\n",
        "init_notebook_mode(connected=True)\n",
        "\n",
        "import ipywidgets as widgets"
      ],
      "execution_count": 0,
      "outputs": []
    },
    {
      "cell_type": "code",
      "metadata": {
        "id": "FtE7_WMYF4uh",
        "colab_type": "code",
        "colab": {}
      },
      "source": [
        ""
      ],
      "execution_count": 0,
      "outputs": []
    },
    {
      "cell_type": "markdown",
      "metadata": {
        "id": "xVhdqRHoF3w0",
        "colab_type": "text"
      },
      "source": [
        "# Library Importing(plotly 3.6.4)"
      ]
    },
    {
      "cell_type": "code",
      "metadata": {
        "id": "bQydt3KwFpgL",
        "colab_type": "code",
        "colab": {}
      },
      "source": [
        "from plotly import __version__\n",
        "print (__version__)\n",
        "import plotly\n",
        "from plotly import tools\n",
        "import plotly.plotly as py\n",
        "import plotly.graph_objs as go\n",
        "import plotly.figure_factory as ff\n",
        "\n",
        "# Cufflinks wrapper on plotly\n",
        "import cufflinks as cf\n",
        "\n",
        "# Display all cell outputs\n",
        "from IPython.core.interactiveshell import InteractiveShell\n",
        "\n",
        "# plotly + cufflinks in offline mode\n",
        "from plotly.offline import download_plotlyjs, init_notebook_mode, plot, iplot\n",
        "cf.go_offline()\n",
        "\n",
        "# set the global theme\n",
        "cf.set_config_file(world_readable=True, theme='pearl', offline=True)\n",
        "\n",
        "# Jupyter setup\n",
        "init_notebook_mode(connected=True)\n",
        "\n",
        "import ipywidgets as widgets"
      ],
      "execution_count": 0,
      "outputs": []
    },
    {
      "cell_type": "markdown",
      "metadata": {
        "id": "GpUf3xigGASR",
        "colab_type": "text"
      },
      "source": [
        "# plotly 테마 설정"
      ]
    },
    {
      "cell_type": "markdown",
      "metadata": {
        "id": "zHbaUvIZEiYn",
        "colab_type": "text"
      },
      "source": [
        "theming 참고1: https://medium.com/plotly/introducing-plotly-py-theming-b644109ac9c7<br>\n",
        "theming 참고2: https://nbviewer.jupyter.org/github/jonmmease/plotly.py_release_notebooks/blob/master/notebooks/v3.4.0/templates-gapminder.ipynb <br>\n",
        "기본theme설정/해제 참고: https://plot.ly/python/templates/#specifying-a-default-themes "
      ]
    },
    {
      "cell_type": "code",
      "metadata": {
        "colab_type": "code",
        "id": "8INO_rS8mPRI",
        "colab": {}
      },
      "source": [
        "import plotly.io as pio\n",
        "pio.templates.default = \"plotly_white\"\n",
        "\n",
        "# fig = go.Figure(layout={\n",
        "#     'title' : 'Figure Title',\n",
        "#     'font' : {'size': 15, 'family': 'Courier'}\n",
        "# })\n",
        "\n",
        "# templated_fig = pio.to_templated(fig)\n",
        "# pio.templates['large_courier'] = templated_fig.layout.template\n",
        "\n",
        "# pio.templates.default = 'large_courier'"
      ],
      "execution_count": 0,
      "outputs": []
    },
    {
      "cell_type": "markdown",
      "metadata": {
        "colab_type": "text",
        "id": "owWPb1ibesF2"
      },
      "source": [
        "# github 엑셀 파일 불러오기"
      ]
    },
    {
      "cell_type": "code",
      "metadata": {
        "id": "w_DI6_std1Uf",
        "colab_type": "code",
        "colab": {}
      },
      "source": [
        "# Import package\n",
        "from urllib.request import urlretrieve\n",
        "import pandas as pd\n",
        "\n",
        "# Assign url of file: url\n",
        "url = 'https://github.com/jgumin/jupyter-notebook/raw/master/%EC%8B%A4%EC%8A%B5%EC%9E%90%EB%A3%8C-%EC%86%90%EC%97%90%EC%9E%A1%ED%9E%88%EB%8A%94%ED%8C%90%EB%8B%A4%EC%8A%A4/data/factory_reg_2018.xlsx'\n",
        "\n",
        "# Save file locally\n",
        "urlretrieve(url, 'factory_reg_2018.xlsx')\n",
        "\n",
        "# Read file into a DataFrame and print its head\n",
        "korea_2018 = pd.read_excel('factory_reg_2018.xlsx', index_col=0,\n",
        "                           sheet_name=2,header=[3])"
      ],
      "execution_count": 0,
      "outputs": []
    },
    {
      "cell_type": "markdown",
      "metadata": {
        "id": "D_3Cv5M_NQuz",
        "colab_type": "text"
      },
      "source": [
        "# 데이터 임포팅"
      ]
    },
    {
      "cell_type": "code",
      "metadata": {
        "id": "GxVOWS8jgsT7",
        "colab_type": "code",
        "colab": {
          "base_uri": "https://localhost:8080/",
          "height": 125
        },
        "outputId": "8549069d-c82c-499c-8650-cb4442cddb30"
      },
      "source": [
        "from google.colab import drive\n",
        "drive.mount('/content/drive')"
      ],
      "execution_count": 7,
      "outputs": [
        {
          "output_type": "stream",
          "text": [
            "Go to this URL in a browser: https://accounts.google.com/o/oauth2/auth?client_id=947318989803-6bn6qk8qdgf4n4g3pfee6491hc0brc4i.apps.googleusercontent.com&redirect_uri=urn%3Aietf%3Awg%3Aoauth%3A2.0%3Aoob&scope=email%20https%3A%2F%2Fwww.googleapis.com%2Fauth%2Fdocs.test%20https%3A%2F%2Fwww.googleapis.com%2Fauth%2Fdrive%20https%3A%2F%2Fwww.googleapis.com%2Fauth%2Fdrive.photos.readonly%20https%3A%2F%2Fwww.googleapis.com%2Fauth%2Fpeopleapi.readonly&response_type=code\n",
            "\n",
            "Enter your authorization code:\n",
            "··········\n",
            "Mounted at /content/drive\n"
          ],
          "name": "stdout"
        }
      ]
    },
    {
      "cell_type": "code",
      "metadata": {
        "id": "-y6HR13AeoNt",
        "colab_type": "code",
        "colab": {
          "base_uri": "https://localhost:8080/",
          "height": 34
        },
        "outputId": "d8b9faf6-622b-4c26-ecb4-8d0f01709fea"
      },
      "source": [
        "from urllib.request import urlretrieve\n",
        "import pandas as pd\n",
        "\n",
        "# Assign url of file: url\n",
        "url = 'https://github.com/jgumin/jupyter-notebook/blob/master/isus/data/Raw%20Data_%EC%8B%9C%EB%A6%BD%EB%8C%80%20%EA%B5%AD%ED%86%A0%EA%B0%9C%EB%B0%9C%EC%A0%95%EC%B1%85%20%EC%82%AC%ED%9B%84%EA%B4%80%EB%A6%AC_%EC%84%B1%EC%B2%A0%EC%88%98%EC%A0%95-%EB%B6%84%EC%84%9D%EC%9A%A9v1.3.xlsx'\n",
        "\n",
        "# Save file locally\n",
        "urlretrieve(url, 'analysis.xlsx')\n",
        "# Read file into a DataFrame and print its head\n",
        "eval_all = pd.read_excel('analysis.xlsx',sheet_name='만족도_raw data',index_col='성명', header=3)\n",
        "eval_crs= pd.read_excel(\"analysis.xlsx\",sheet_name='강의평가_raw data',index_col='성명', header=2) # skiprows = [13,14]\n",
        "eval_crs = eval_crs.iloc[0:13].drop('연번',axis=1)"
      ],
      "execution_count": 25,
      "outputs": [
        {
          "output_type": "execute_result",
          "data": {
            "text/plain": [
              "('analysis.xlsx', <http.client.HTTPMessage at 0x7f47b6c02908>)"
            ]
          },
          "metadata": {
            "tags": []
          },
          "execution_count": 25
        }
      ]
    },
    {
      "cell_type": "code",
      "metadata": {
        "id": "sjwdfZRLejAG",
        "colab_type": "code",
        "colab": {}
      },
      "source": [
        "from urllib.request import urlretrieve\n",
        "import pandas as pd\n",
        "\n",
        "# Assign url of file: url\n",
        "url = 'https://o365uos-my.sharepoint.com/personal/isus_office_uos_ac_kr/Documents/200.%20연락처/IUDP학생현황.xlsx'\n",
        "\n",
        "# Save file locally\n",
        "urlretrieve(url, './data/IUDP학생현황.xlsx')\n",
        "\n",
        "# Read file into a DataFrame and print its head\n",
        "stuinfo = pd.read_excel(\"./data/IUDP학생현황.xlsx\", sheet_name='IUDPStuInfo',index_col='성명')"
      ],
      "execution_count": 0,
      "outputs": []
    },
    {
      "cell_type": "code",
      "metadata": {
        "id": "1GxN2wpQNQu0",
        "colab_type": "code",
        "colab": {}
      },
      "source": [
        "# data가 로컬에 있을 때 사용\n",
        "eval_all= pd.read_excel(\"data/Raw Data_시립대 국토개발정책 사후관리_성철수정-분석용v1.3.xlsx\",\n",
        "                       sheet_name='만족도_raw data', index_col='성명', header=3)\n",
        "eval_crs= pd.read_excel(\"data/Raw Data_시립대 국토개발정책 사후관리_성철수정-분석용v1.3.xlsx\",\n",
        "                                sheet_name='강의평가_raw data',index_col='성명', header=2) # skiprows = [13,14]\n",
        "eval_crs = eval_crs.iloc[0:13].drop('연번',axis=1)\n",
        "stuinfo = pd.read_excel(\"data/IUDP학생현황.xlsx\", sheet_name='IUDPStuInfo',index_col='성명')"
      ],
      "execution_count": 0,
      "outputs": []
    },
    {
      "cell_type": "markdown",
      "metadata": {
        "id": "tzvuM9HDNQu3",
        "colab_type": "text"
      },
      "source": [
        "# 강의평가 및 연수평가 전처리"
      ]
    },
    {
      "cell_type": "markdown",
      "metadata": {
        "id": "eUEao2BVNQu4",
        "colab_type": "text"
      },
      "source": [
        "## 강의평가 전처리"
      ]
    },
    {
      "cell_type": "code",
      "metadata": {
        "id": "HlL8XQlwNQu5",
        "colab_type": "code",
        "colab": {}
      },
      "source": [
        "# 열마다 NaN 값 있는 지 여부 확인\n",
        "# Data.all 정의\n",
        "    # DataFrame.all(axis=0, bool_only=None, skipna=True, level=None, **kwargs)\n",
        "    # Return whether all elements are True, potentially over an axis.\n",
        "    # Returns True unless there at least one element within a series or along a Dataframe axis that is False or equivalent (e.g. zero or empty)\n",
        "eval_crs.isnull().all(axis=0)"
      ],
      "execution_count": 0,
      "outputs": []
    },
    {
      "cell_type": "code",
      "metadata": {
        "id": "wag2YSUnNQu8",
        "colab_type": "code",
        "colab": {}
      },
      "source": [
        "# eval_crs에서 모든 열 값이 NaN 값인 경우 삭제. 삭제 후 eval_crs 로 반환\n",
        "eval_crs.dropna(how='all', axis=1, inplace=True)"
      ],
      "execution_count": 0,
      "outputs": []
    },
    {
      "cell_type": "code",
      "metadata": {
        "id": "6WzgYF_7NQu_",
        "colab_type": "code",
        "colab": {}
      },
      "source": [
        "eval_crs.head()"
      ],
      "execution_count": 0,
      "outputs": []
    },
    {
      "cell_type": "markdown",
      "metadata": {
        "id": "flTWTIC1NQvJ",
        "colab_type": "text"
      },
      "source": [
        "## 연수평가 전처리"
      ]
    },
    {
      "cell_type": "code",
      "metadata": {
        "id": "JvDrurC4NQvK",
        "colab_type": "code",
        "colab": {}
      },
      "source": [
        "# eval_all index에서 행 값이 NaN이 아닌 행 반환\n",
        "eval_all = eval_all.loc[eval_all.index.notnull(),:]\n",
        "eval_all = eval_all.sort_index().infer_objects()\n",
        "# data.infer_objects() &data.convert_objects(convert_numeric=True) / data.apply(pd.to_numeric) / data.select_dtypes(include=['object']) 또는 data.apply(np.dtype) 로 data.astype('int')확인 후 열별 변환\n",
        "eval_all.head()"
      ],
      "execution_count": 0,
      "outputs": []
    },
    {
      "cell_type": "markdown",
      "metadata": {
        "id": "YIhu4R8UNQvL",
        "colab_type": "text"
      },
      "source": [
        "* 분리된 dataframe을 병합방법: concat, join, merge\n",
        "  * concat은 dataframe의 크기가 동일할 경우 dataframe 병합가능 (python append의 다차원 배열 버전)\n",
        "  * join은 dataframe의 크기가 동일하지 않을 경우 key를 기점으로 동일한 부분은 맞춰서 합쳐주고 나머지는 NaN으로 처리한다.\n",
        "\n",
        "* concat의 경우 하나의 서로 다른 dataframe 에서 column을 뽑아서 하나로 합칠 때 유용하다.\n",
        "  * pd.concat([df['a열'],df['b열']], axis=1): a열과 b열 병합, axis=0 이면 column나뉘지 않고 아래에 쌓여 1개의 column 형성\n",
        "  * 아래는 1-2열/5-끝열 추출 후 병합\n",
        "\n",
        "eval_all = pd.concat([eval_all.iloc[:,1:3],eval_all.loc[:,'근무연수':]],axis=1).sort_values(by='성명').reset_index(drop=True)"
      ]
    },
    {
      "cell_type": "markdown",
      "metadata": {
        "id": "o4OP4kRYNQvN",
        "colab_type": "text"
      },
      "source": [
        "# 연수평가(eval_all)과 학생정보(stuinfo) 병합"
      ]
    },
    {
      "cell_type": "markdown",
      "metadata": {
        "id": "v3X4sOGCNQvO",
        "colab_type": "text"
      },
      "source": [
        "## 학생정보에서 연수참가생 인적정보 추출"
      ]
    },
    {
      "cell_type": "code",
      "metadata": {
        "id": "qMvErrHvNQvP",
        "colab_type": "code",
        "colab": {}
      },
      "source": [
        "# sort_values를 호출 후 해당 변수를 정렬하면 뒤죽박죽 된 인덱스를 .reset_index()로 초기화 (출처: https://3months.tistory.com/196)\n",
        "stuinfo = stuinfo[\n",
        "            stuinfo.index.isin(['Dana PHAL', 'Alejandro CEBALLOS JARABA','Jacqueline Yamileth RIVERA AYALA',\n",
        "                                    'Edward AGBODJAN','Mercy Wairimu KIMANI', 'Khin Ohnmar MYINT THEIN', \n",
        "                                    'Hnin Ei Mon', 'Iqbal AHMED', 'Laura LOZADA ACOSTA', 'Carmen ZANA CARBAJAL',\n",
        "                                    'Joz Carlos Gabrillo ORDILLANO','Jean Bosco Alpha MBARUSHIMANA',\n",
        "                                    'Peeter Hewage Chinthaka Sampath RATHNASIRI'])].sort_values(\n",
        "                                     by='성명')\n",
        "stuinfo.head(2)"
      ],
      "execution_count": 0,
      "outputs": []
    },
    {
      "cell_type": "markdown",
      "metadata": {
        "id": "WPdQYf2JNQvU",
        "colab_type": "text"
      },
      "source": [
        "## 인적정보와 연수평가 설문결과 병합"
      ]
    },
    {
      "cell_type": "code",
      "metadata": {
        "id": "GrOjFhnaNQvV",
        "colab_type": "code",
        "colab": {}
      },
      "source": [
        "eval_all = pd.merge(eval_all, stuinfo, left_index=True, right_index=True) # 같은 결과: eval_all = pd.concat([eval_all, stuinfo], axis=1)\n",
        "eval_all.head(2)"
      ],
      "execution_count": 0,
      "outputs": []
    },
    {
      "cell_type": "code",
      "metadata": {
        "colab_type": "code",
        "hide_input": true,
        "id": "XkDXqnas30c6",
        "colab": {}
      },
      "source": [
        "eval_all.columns.values"
      ],
      "execution_count": 0,
      "outputs": []
    },
    {
      "cell_type": "markdown",
      "metadata": {
        "id": "5gSTmEhMNQva",
        "colab_type": "text"
      },
      "source": [
        "# 설문분석"
      ]
    },
    {
      "cell_type": "code",
      "metadata": {
        "id": "Y_GUMVoZNQvb",
        "colab_type": "code",
        "colab": {}
      },
      "source": [
        "survey = eval_all.copy()"
      ],
      "execution_count": 0,
      "outputs": []
    },
    {
      "cell_type": "code",
      "metadata": {
        "id": "UeCmDJrnNQve",
        "colab_type": "code",
        "colab": {}
      },
      "source": [
        "# import pandas_profiling\n",
        "# pandas_profiling.ProfileReport(survey)"
      ],
      "execution_count": 0,
      "outputs": []
    },
    {
      "cell_type": "markdown",
      "metadata": {
        "id": "FFNvbz6WNQvg",
        "colab_type": "text"
      },
      "source": [
        "## 교육전 설문"
      ]
    },
    {
      "cell_type": "markdown",
      "metadata": {
        "id": "txzxknduNQvk",
        "colab_type": "text"
      },
      "source": [
        "### 연수생 선발/추천을 위한 사전준비 기간은 적절하였다"
      ]
    },
    {
      "cell_type": "code",
      "metadata": {
        "colab_type": "code",
        "hide_input": true,
        "id": "gk4xs2zF30dC",
        "colab": {}
      },
      "source": [
        "survey.iloc[:,[0,6]]"
      ],
      "execution_count": 0,
      "outputs": []
    },
    {
      "cell_type": "code",
      "metadata": {
        "id": "MywKfemZNQvu",
        "colab_type": "code",
        "colab": {}
      },
      "source": [
        "pd.DataFrame(survey.iloc[:,[0,6]]['연수생 선발/추천을 위한 사전준비 기간은 적절하였다'].describe())[:3].rename(\n",
        "    index={'count': '응답자수','mean': '평균','std': '표준편차'}).applymap(lambda x: '%.2f' % x)"
      ],
      "execution_count": 0,
      "outputs": []
    },
    {
      "cell_type": "code",
      "metadata": {
        "id": "rkR54B0nNQwS",
        "colab_type": "code",
        "colab": {}
      },
      "source": [
        "trace = go.Bar(\n",
        "    x = survey.iloc[:,[0,6]]['연수생 선발/추천을 위한 사전준비 기간은 적절하였다'].value_counts().index,\n",
        "    y = survey.iloc[:,[0,6]]['연수생 선발/추천을 위한 사전준비 기간은 적절하였다'].value_counts(),\n",
        "    text = survey.iloc[:,[0,6]]['연수생 선발/추천을 위한 사전준비 기간은 적절하였다'].value_counts(),\n",
        "    textposition = 'auto', orientation = 'v'\n",
        ")\n",
        "\n",
        "layout = go.Layout(title='연수생 선발/추천을 위한 사전준비 기간은 적절하였다',\n",
        "                   xaxis=dict(title='만족도', range=[0,6], tick0=0,dtick=1),\n",
        "                   yaxis=dict(title='응답자수',range=[0,10],showgrid=True,zeroline=True,dtick=2))\n",
        "\n",
        "fig = go.Figure(data=[trace], layout=layout)\n",
        "\n",
        "iplot(fig)"
      ],
      "execution_count": 0,
      "outputs": []
    },
    {
      "cell_type": "code",
      "metadata": {
        "id": "mC9uo_RKNQwa",
        "colab_type": "code",
        "colab": {}
      },
      "source": [
        ""
      ],
      "execution_count": 0,
      "outputs": []
    },
    {
      "cell_type": "markdown",
      "metadata": {
        "id": "fp9duyCDNQwc",
        "colab_type": "text"
      },
      "source": [
        "### 연수 신청방법 및 교육내용에 대한 구체적인 안내를 받았다"
      ]
    },
    {
      "cell_type": "code",
      "metadata": {
        "colab_type": "code",
        "hide_input": true,
        "id": "O30y7gVKNQwd",
        "colab": {}
      },
      "source": [
        "survey.iloc[:,[0,7]]"
      ],
      "execution_count": 0,
      "outputs": []
    },
    {
      "cell_type": "code",
      "metadata": {
        "id": "ptBuMQT9NQwf",
        "colab_type": "code",
        "colab": {}
      },
      "source": [
        "pd.DataFrame(survey.iloc[:,[0,7]]['연수 신청방법 및 교육내용에 대한 구체적인 안내를 받았다.'].describe())[:3].rename(\n",
        "    index={'count': '응답자수','mean': '평균','std': '표준편차'}).applymap(lambda x: '%.2f' % x)"
      ],
      "execution_count": 0,
      "outputs": []
    },
    {
      "cell_type": "code",
      "metadata": {
        "id": "tcU-cxhuNQwi",
        "colab_type": "code",
        "colab": {}
      },
      "source": [
        "trace = go.Bar(\n",
        "    x = survey.iloc[:,[0,7]]['연수 신청방법 및 교육내용에 대한 구체적인 안내를 받았다.'].value_counts().index,\n",
        "    y = survey.iloc[:,[0,7]]['연수 신청방법 및 교육내용에 대한 구체적인 안내를 받았다.'].value_counts(),\n",
        "    text = survey.iloc[:,[0,7]]['연수 신청방법 및 교육내용에 대한 구체적인 안내를 받았다.'].value_counts(),\n",
        "    textposition = 'auto'\n",
        ")\n",
        "\n",
        "layout = go.Layout(title='연수 신청방법 및 교육내용에 대한 구체적인 안내를 받았다.',\n",
        "                   xaxis=dict(title='만족도', range=[0,6]),\n",
        "                   yaxis=dict(title='응답자수',range=[0,10]))\n",
        "\n",
        "fig = go.Figure(data=[trace], layout=layout)\n",
        "\n",
        "iplot(fig)"
      ],
      "execution_count": 0,
      "outputs": []
    },
    {
      "cell_type": "code",
      "metadata": {
        "id": "Z7PJ1tImNQwk",
        "colab_type": "code",
        "colab": {}
      },
      "source": [
        ""
      ],
      "execution_count": 0,
      "outputs": []
    },
    {
      "cell_type": "markdown",
      "metadata": {
        "colab_type": "text",
        "id": "OS3ptH8X30dm",
        "toc-hr-collapsed": false
      },
      "source": [
        "## 교육후 설문"
      ]
    },
    {
      "cell_type": "markdown",
      "metadata": {
        "id": "ZMn6BxgaNQwm",
        "colab_type": "text"
      },
      "source": [
        "###  연수과정의 내용은 연수생 현지의 상황과 요구에 맞게 구성되었다."
      ]
    },
    {
      "cell_type": "code",
      "metadata": {
        "colab_type": "code",
        "hide_input": true,
        "id": "EIRQxiOXNQwn",
        "colab": {}
      },
      "source": [
        "survey.iloc[:,[0,17]]"
      ],
      "execution_count": 0,
      "outputs": []
    },
    {
      "cell_type": "code",
      "metadata": {
        "id": "2ivLMYm5NQwp",
        "colab_type": "code",
        "colab": {}
      },
      "source": [
        "pd.DataFrame(survey.iloc[:,[0,17]]['연수과정의 내용은 연수생 현지의 상황과 요구에 맞게 구성되었다.'].describe())[:3].rename(\n",
        "    index={'count': '응답자수','mean': '평균','std': '표준편차'}).applymap(lambda x: '%.2f' % x)"
      ],
      "execution_count": 0,
      "outputs": []
    },
    {
      "cell_type": "code",
      "metadata": {
        "id": "xsz9ABxjNQwu",
        "colab_type": "code",
        "colab": {}
      },
      "source": [
        "trace = go.Bar(\n",
        "    x = survey.iloc[:,[0,17]]['연수과정의 내용은 연수생 현지의 상황과 요구에 맞게 구성되었다.'].value_counts().index,\n",
        "    y = survey.iloc[:,[0,17]]['연수과정의 내용은 연수생 현지의 상황과 요구에 맞게 구성되었다.'].value_counts(),\n",
        "    text = survey.iloc[:,[0,17]]['연수과정의 내용은 연수생 현지의 상황과 요구에 맞게 구성되었다.'].value_counts(),\n",
        "    textposition = 'auto'\n",
        ")\n",
        "\n",
        "layout = go.Layout(title='연수과정의 내용은 연수생 현지의 상황과 요구에 맞게 구성되었다.',\n",
        "                   xaxis=dict(title='만족도', range=[0,6]),\n",
        "                   yaxis=dict(title='응답자수',range=[0,10]))\n",
        "\n",
        "fig = go.Figure(data=[trace], layout=layout)\n",
        "\n",
        "iplot(fig)"
      ],
      "execution_count": 0,
      "outputs": []
    },
    {
      "cell_type": "code",
      "metadata": {
        "id": "jvBPhv1cNQwz",
        "colab_type": "code",
        "colab": {}
      },
      "source": [
        ""
      ],
      "execution_count": 0,
      "outputs": []
    },
    {
      "cell_type": "markdown",
      "metadata": {
        "id": "9Z3uH2CbNQw3",
        "colab_type": "text"
      },
      "source": [
        "### 연수과정의 내용과 수준은 이해하기 적절하였다."
      ]
    },
    {
      "cell_type": "code",
      "metadata": {
        "colab_type": "code",
        "hide_input": true,
        "id": "LxLNLgtn30d7",
        "colab": {}
      },
      "source": [
        "survey.iloc[:,[0,18]]"
      ],
      "execution_count": 0,
      "outputs": []
    },
    {
      "cell_type": "code",
      "metadata": {
        "id": "AD_wK_rCNQw5",
        "colab_type": "code",
        "colab": {}
      },
      "source": [
        "pd.DataFrame(survey.iloc[:,[0,18]]['연수과정의 내용과 수준은 이해하기 적절하였다.'].describe())[:3].rename(\n",
        "    index={'count': '응답자수','mean': '평균','std': '표준편차'}).applymap(lambda x: '%.2f' % x)"
      ],
      "execution_count": 0,
      "outputs": []
    },
    {
      "cell_type": "code",
      "metadata": {
        "id": "ZBsACP5UNQw7",
        "colab_type": "code",
        "colab": {}
      },
      "source": [
        "trace = go.Bar(\n",
        "    x = survey.iloc[:,[0,18]]['연수과정의 내용과 수준은 이해하기 적절하였다.'].value_counts().index,\n",
        "    y = survey.iloc[:,[0,18]]['연수과정의 내용과 수준은 이해하기 적절하였다.'].value_counts(),\n",
        "    text = survey.iloc[:,[0,18]]['연수과정의 내용과 수준은 이해하기 적절하였다.'].value_counts(),\n",
        "    textposition = 'auto'\n",
        ")\n",
        "\n",
        "layout = go.Layout(title='연수과정의 내용과 수준은 이해하기 적절하였다.',\n",
        "                   xaxis=dict(title='만족도', range=[0,6]),\n",
        "                   yaxis=dict(title='응답자수',range=[0,10]))\n",
        "\n",
        "fig = go.Figure(data=[trace], layout=layout)\n",
        "\n",
        "iplot(fig)"
      ],
      "execution_count": 0,
      "outputs": []
    },
    {
      "cell_type": "code",
      "metadata": {
        "id": "SGP8DaIjNQw8",
        "colab_type": "code",
        "colab": {}
      },
      "source": [
        ""
      ],
      "execution_count": 0,
      "outputs": []
    },
    {
      "cell_type": "markdown",
      "metadata": {
        "id": "wh_VBh4yNQw9",
        "colab_type": "text"
      },
      "source": [
        "### 연수과정의 교육방법(강의, 실습/토의, 현장학습 등)은 연수내용을 이해하는데 적합하였다."
      ]
    },
    {
      "cell_type": "code",
      "metadata": {
        "id": "IkcZBdSjNQw-",
        "colab_type": "code",
        "colab": {}
      },
      "source": [
        "survey.iloc[:,[0,19]]"
      ],
      "execution_count": 0,
      "outputs": []
    },
    {
      "cell_type": "code",
      "metadata": {
        "id": "Mdw-kFs3NQxA",
        "colab_type": "code",
        "colab": {}
      },
      "source": [
        "pd.DataFrame(survey.iloc[:,[0,19]]['연수과정의 교육방법(강의, 실습/토의, 현장학습 등)은 연수내용을 이해하는데 적합하였다.'].describe())[:3].rename(\n",
        "    index={'count': '응답자수','mean': '평균','std': '표준편차'}).applymap(lambda x: '%.2f' % x)"
      ],
      "execution_count": 0,
      "outputs": []
    },
    {
      "cell_type": "code",
      "metadata": {
        "id": "m-qwdOc3NQxD",
        "colab_type": "code",
        "colab": {}
      },
      "source": [
        "trace = go.Bar(\n",
        "    x = survey.iloc[:,[0,19]]['연수과정의 교육방법(강의, 실습/토의, 현장학습 등)은 연수내용을 이해하는데 적합하였다.'].value_counts().index,\n",
        "    y = survey.iloc[:,[0,19]]['연수과정의 교육방법(강의, 실습/토의, 현장학습 등)은 연수내용을 이해하는데 적합하였다.'].value_counts(),\n",
        "    text = survey.iloc[:,[0,19]]['연수과정의 교육방법(강의, 실습/토의, 현장학습 등)은 연수내용을 이해하는데 적합하였다.'].value_counts(),\n",
        "    textposition = 'auto'\n",
        ")\n",
        "\n",
        "layout = go.Layout(title='연수과정의 교육방법(강의, 실습/토의, 현장학습 등)은 연수내용을 이해하는데 적합하였다.',\n",
        "                   xaxis=dict(title='만족도', range=[0,6]),\n",
        "                   yaxis=dict(title='응답자수',range=[0,10]))\n",
        "\n",
        "fig = go.Figure(data=[trace], layout=layout)\n",
        "\n",
        "iplot(fig)"
      ],
      "execution_count": 0,
      "outputs": []
    },
    {
      "cell_type": "markdown",
      "metadata": {
        "id": "kbdYBY37NQxG",
        "colab_type": "text"
      },
      "source": [
        "### 연수기관에서는 연수생 국가의 문화나 종교를 배려하기 위해 노력하였다"
      ]
    },
    {
      "cell_type": "code",
      "metadata": {
        "id": "o6warayeNQxI",
        "colab_type": "code",
        "colab": {}
      },
      "source": [
        "survey.iloc[:,[0,20]]"
      ],
      "execution_count": 0,
      "outputs": []
    },
    {
      "cell_type": "code",
      "metadata": {
        "id": "WMoNBxC_NQxJ",
        "colab_type": "code",
        "colab": {}
      },
      "source": [
        "pd.DataFrame(survey.iloc[:,[0,20]]['연수기관에서는 연수생 국가의 문화나 종교를 배려하기 위해 노력하였다'].describe())[:3].rename(\n",
        "index={'count': '응답자수','mean': '평균','std': '표준편차'}).applymap(lambda x: '%.2f' % x)"
      ],
      "execution_count": 0,
      "outputs": []
    },
    {
      "cell_type": "code",
      "metadata": {
        "id": "O1Ee5iT8NQxM",
        "colab_type": "code",
        "colab": {}
      },
      "source": [
        "trace = go.Bar(\n",
        "    x = survey.iloc[:,[0,20]]['연수기관에서는 연수생 국가의 문화나 종교를 배려하기 위해 노력하였다'].value_counts().index,\n",
        "    y = survey.iloc[:,[0,20]]['연수기관에서는 연수생 국가의 문화나 종교를 배려하기 위해 노력하였다'].value_counts(),\n",
        "    text = survey.iloc[:,[0,20]]['연수기관에서는 연수생 국가의 문화나 종교를 배려하기 위해 노력하였다'].value_counts(),\n",
        "    textposition = 'auto'\n",
        ")\n",
        "\n",
        "layout = go.Layout(title='연수기관에서는 연수생 국가의 문화나 종교를 배려하기 위해 노력하였다',\n",
        "                   xaxis=dict(title='만족도', range=[0,6]),\n",
        "                   yaxis=dict(title='응답자수',range=[0,10]))\n",
        "\n",
        "fig = go.Figure(data=[trace], layout=layout)\n",
        "\n",
        "iplot(fig)"
      ],
      "execution_count": 0,
      "outputs": []
    },
    {
      "cell_type": "code",
      "metadata": {
        "id": "xdz3qwTINQxT",
        "colab_type": "code",
        "colab": {}
      },
      "source": [
        ""
      ],
      "execution_count": 0,
      "outputs": []
    },
    {
      "cell_type": "markdown",
      "metadata": {
        "id": "p906ZY_CNQxU",
        "colab_type": "text"
      },
      "source": [
        "### 연수운영진은 연수과정을 원활하게 운영하였다. (일정관리, 강의준비, 연수생 지원 등)"
      ]
    },
    {
      "cell_type": "code",
      "metadata": {
        "id": "167uW9WcNQxV",
        "colab_type": "code",
        "colab": {}
      },
      "source": [
        "survey.iloc[:,[0,21]]"
      ],
      "execution_count": 0,
      "outputs": []
    },
    {
      "cell_type": "code",
      "metadata": {
        "id": "w4KNpno5NQxd",
        "colab_type": "code",
        "colab": {}
      },
      "source": [
        "pd.DataFrame(survey.iloc[:,[0,21]]['연수운영진은 연수과정을 원활하게 운영하였다. (일정관리, 강의준비, 연수생 지원 등)'].describe())[:3].rename(\n",
        "index={'count': '응답자수','mean': '평균','std': '표준편차'}).applymap(lambda x: '%.2f' % x)"
      ],
      "execution_count": 0,
      "outputs": []
    },
    {
      "cell_type": "code",
      "metadata": {
        "id": "q1NXA47WNQxe",
        "colab_type": "code",
        "colab": {}
      },
      "source": [
        "trace = go.Bar(\n",
        "    x = survey.iloc[:,[0,20]]['연수기관에서는 연수생 국가의 문화나 종교를 배려하기 위해 노력하였다'].value_counts().index,\n",
        "    y = survey.iloc[:,[0,20]]['연수기관에서는 연수생 국가의 문화나 종교를 배려하기 위해 노력하였다'].value_counts(),\n",
        "    text = survey.iloc[:,[0,20]]['연수기관에서는 연수생 국가의 문화나 종교를 배려하기 위해 노력하였다'].value_counts(),\n",
        "    textposition = 'auto'\n",
        ")\n",
        "\n",
        "layout = go.Layout(title='연수기관에서는 연수생 국가의 문화나 종교를 배려하기 위해 노력하였다',\n",
        "                   xaxis=dict(title='만족도', range=[0,6]),\n",
        "                   yaxis=dict(title='응답자수',range=[0,10]))\n",
        "\n",
        "fig = go.Figure(data=[trace], layout=layout)\n",
        "\n",
        "iplot(fig)"
      ],
      "execution_count": 0,
      "outputs": []
    },
    {
      "cell_type": "code",
      "metadata": {
        "id": "Ilv1wXD9NQxg",
        "colab_type": "code",
        "colab": {}
      },
      "source": [
        ""
      ],
      "execution_count": 0,
      "outputs": []
    },
    {
      "cell_type": "markdown",
      "metadata": {
        "id": "oNKEK7A1NQxl",
        "colab_type": "text"
      },
      "source": [
        "### 연수운영진은 응급상황 등 사건사고에 대해 적절히 대처하였다."
      ]
    },
    {
      "cell_type": "code",
      "metadata": {
        "id": "t8vgrJGENQxo",
        "colab_type": "code",
        "colab": {}
      },
      "source": [
        "survey.iloc[:,[0,22]]"
      ],
      "execution_count": 0,
      "outputs": []
    },
    {
      "cell_type": "code",
      "metadata": {
        "id": "0jI5aXw8NQxt",
        "colab_type": "code",
        "colab": {}
      },
      "source": [
        "pd.DataFrame(survey.iloc[:,[0,22]]['연수운영진은 응급상황 등 사건사고에 대해 적절히 대처하였다.'].describe())[:3].rename(\n",
        "index={'count': '응답자수','mean': '평균','std': '표준편차'}).applymap(lambda x: '%.2f' % x)"
      ],
      "execution_count": 0,
      "outputs": []
    },
    {
      "cell_type": "code",
      "metadata": {
        "id": "QXWr5v8zNQxu",
        "colab_type": "code",
        "colab": {}
      },
      "source": [
        "trace = go.Bar(\n",
        "    x = survey.iloc[:,[0,22]]['연수운영진은 응급상황 등 사건사고에 대해 적절히 대처하였다.'].value_counts().index,\n",
        "    y = survey.iloc[:,[0,22]]['연수운영진은 응급상황 등 사건사고에 대해 적절히 대처하였다.'].value_counts(),\n",
        "    text = survey.iloc[:,[0,22]]['연수운영진은 응급상황 등 사건사고에 대해 적절히 대처하였다.'].value_counts(),\n",
        "    textposition = 'auto'\n",
        ")\n",
        "\n",
        "layout = go.Layout(title='연수운영진은 응급상황 등 사건사고에 대해 적절히 대처하였다.',\n",
        "                   xaxis=dict(title='만족도', range=[0,6]),\n",
        "                   yaxis=dict(title='응답자수',range=[0,10]))\n",
        "\n",
        "fig = go.Figure(data=[trace], layout=layout)\n",
        "\n",
        "iplot(fig)"
      ],
      "execution_count": 0,
      "outputs": []
    },
    {
      "cell_type": "code",
      "metadata": {
        "id": "20-SethvNQxw",
        "colab_type": "code",
        "colab": {}
      },
      "source": [
        ""
      ],
      "execution_count": 0,
      "outputs": []
    },
    {
      "cell_type": "markdown",
      "metadata": {
        "id": "4cI-pkFTNQxz",
        "colab_type": "text"
      },
      "source": [
        "### 강의실 및 실습실은 사용하기에 편리하였다."
      ]
    },
    {
      "cell_type": "code",
      "metadata": {
        "id": "NKqZ8EpZNQxz",
        "colab_type": "code",
        "colab": {}
      },
      "source": [
        "survey.iloc[:,[0,23]]"
      ],
      "execution_count": 0,
      "outputs": []
    },
    {
      "cell_type": "code",
      "metadata": {
        "id": "eqt_1kGJNQx1",
        "colab_type": "code",
        "colab": {}
      },
      "source": [
        "pd.DataFrame(survey.iloc[:,[0,23]]['강의실 및 실습실은 사용하기에 편리하였다.'].describe())[:3].rename(\n",
        "index={'count': '응답자수','mean': '평균','std': '표준편차'}).applymap(lambda x: '%.2f' % x)"
      ],
      "execution_count": 0,
      "outputs": []
    },
    {
      "cell_type": "code",
      "metadata": {
        "id": "1ClAnbLDNQx2",
        "colab_type": "code",
        "colab": {}
      },
      "source": [
        "trace = go.Bar(\n",
        "    x = survey.iloc[:,[0,23]]['강의실 및 실습실은 사용하기에 편리하였다.'].value_counts().index,\n",
        "    y = survey.iloc[:,[0,23]]['강의실 및 실습실은 사용하기에 편리하였다.'].value_counts(),\n",
        "    text = survey.iloc[:,[0,23]]['강의실 및 실습실은 사용하기에 편리하였다.'].value_counts(),\n",
        "    textposition = 'auto'\n",
        ")\n",
        "\n",
        "layout = go.Layout(title='강의실 및 실습실은 사용하기에 편리하였다.',\n",
        "                   xaxis=dict(title='만족도', range=[0,6]),\n",
        "                   yaxis=dict(title='응답자수',range=[0,10]))\n",
        "\n",
        "fig = go.Figure(data=[trace], layout=layout)\n",
        "\n",
        "iplot(fig)"
      ],
      "execution_count": 0,
      "outputs": []
    },
    {
      "cell_type": "code",
      "metadata": {
        "id": "MzBecNSbNQx4",
        "colab_type": "code",
        "colab": {}
      },
      "source": [
        ""
      ],
      "execution_count": 0,
      "outputs": []
    },
    {
      "cell_type": "markdown",
      "metadata": {
        "colab_type": "text",
        "id": "zA1f5pHE30fX"
      },
      "source": [
        "### 연수 편의시설(휴게시설, 식당, 숙박시설 등)은 사용하기에 편리하였다."
      ]
    },
    {
      "cell_type": "code",
      "metadata": {
        "id": "XQeVj6JkNQx6",
        "colab_type": "code",
        "colab": {}
      },
      "source": [
        "survey.iloc[:,[0,24]]"
      ],
      "execution_count": 0,
      "outputs": []
    },
    {
      "cell_type": "code",
      "metadata": {
        "id": "_CQKEaXDNQx8",
        "colab_type": "code",
        "colab": {}
      },
      "source": [
        "pd.DataFrame(survey.iloc[:,[0,24]]['연수 편의시설(휴게시설, 식당, 숙박시설 등)은 사용하기에 편리하였다. '].describe())[:3].rename(\n",
        "index={'count': '응답자수','mean': '평균','std': '표준편차'}).applymap(lambda x: '%.2f' % x)"
      ],
      "execution_count": 0,
      "outputs": []
    },
    {
      "cell_type": "code",
      "metadata": {
        "id": "fuF7cstFNQyB",
        "colab_type": "code",
        "colab": {}
      },
      "source": [
        "trace = go.Bar(\n",
        "    x = survey.iloc[:,[0,24]]['연수 편의시설(휴게시설, 식당, 숙박시설 등)은 사용하기에 편리하였다. '].value_counts().index,\n",
        "    y = survey.iloc[:,[0,24]]['연수 편의시설(휴게시설, 식당, 숙박시설 등)은 사용하기에 편리하였다. '].value_counts(),\n",
        "    text = survey.iloc[:,[0,24]]['연수 편의시설(휴게시설, 식당, 숙박시설 등)은 사용하기에 편리하였다. '].value_counts(),\n",
        "    textposition = 'auto'\n",
        ")\n",
        "\n",
        "layout = go.Layout(title='연수 편의시설(휴게시설, 식당, 숙박시설 등)은 사용하기에 편리하였다. ',\n",
        "                   xaxis=dict(title='만족도', range=[0,6]),\n",
        "                   yaxis=dict(title='응답자수',range=[0,10]))\n",
        "\n",
        "fig = go.Figure(data=[trace], layout=layout)\n",
        "\n",
        "iplot(fig)"
      ],
      "execution_count": 0,
      "outputs": []
    },
    {
      "cell_type": "markdown",
      "metadata": {
        "id": "ZrEHM4KINQyD",
        "colab_type": "text"
      },
      "source": [
        "### 연수과정에 사용된 교수학습매체는 적절하였다. (교재, 동영상, 실습장비 등)"
      ]
    },
    {
      "cell_type": "code",
      "metadata": {
        "id": "QQmG6t5HNQyD",
        "colab_type": "code",
        "colab": {}
      },
      "source": [
        "survey.iloc[:,[0,26]]"
      ],
      "execution_count": 0,
      "outputs": []
    },
    {
      "cell_type": "code",
      "metadata": {
        "id": "Oed7zuhfNQyF",
        "colab_type": "code",
        "colab": {}
      },
      "source": [
        "pd.DataFrame(survey.iloc[:,[0,26]]['연수과정에 사용된 교수학습매체는 적절하였다. (교재, 동영상, 실습장비 등)'].describe())[:3].rename(\n",
        "index={'count': '응답자수','mean': '평균','std': '표준편차'}).applymap(lambda x: '%.2f' % x)"
      ],
      "execution_count": 0,
      "outputs": []
    },
    {
      "cell_type": "code",
      "metadata": {
        "id": "7MI5srIxNQyH",
        "colab_type": "code",
        "colab": {}
      },
      "source": [
        "trace = go.Bar(\n",
        "    x = survey.iloc[:,[0,26]]['연수과정에 사용된 교수학습매체는 적절하였다. (교재, 동영상, 실습장비 등)'].value_counts().index,\n",
        "    y = survey.iloc[:,[0,26]]['연수과정에 사용된 교수학습매체는 적절하였다. (교재, 동영상, 실습장비 등)'].value_counts(),\n",
        "    text = survey.iloc[:,[0,26]]['연수과정에 사용된 교수학습매체는 적절하였다. (교재, 동영상, 실습장비 등)'].value_counts(),\n",
        "    textposition = 'auto'\n",
        ")\n",
        "\n",
        "layout = go.Layout(title='연수과정에 사용된 교수학습매체는 적절하였다. (교재, 동영상, 실습장비 등)',\n",
        "                   xaxis=dict(title='만족도', range=[0,6]),\n",
        "                   yaxis=dict(title='응답자수',range=[0,10]))\n",
        "\n",
        "fig = go.Figure(data=[trace], layout=layout)\n",
        "\n",
        "iplot(fig)"
      ],
      "execution_count": 0,
      "outputs": []
    },
    {
      "cell_type": "code",
      "metadata": {
        "id": "MMXSUD-BNQyL",
        "colab_type": "code",
        "colab": {}
      },
      "source": [
        ""
      ],
      "execution_count": 0,
      "outputs": []
    },
    {
      "cell_type": "markdown",
      "metadata": {
        "id": "DymQDERkNQyN",
        "colab_type": "text"
      },
      "source": [
        "### 강사진은 해당 분야에 대한 실무경험이나 전문성 수준이 높은 인력으로 구성되었다."
      ]
    },
    {
      "cell_type": "code",
      "metadata": {
        "id": "0N1T3bzINQyN",
        "colab_type": "code",
        "colab": {}
      },
      "source": [
        "survey.iloc[:,[0,27]]"
      ],
      "execution_count": 0,
      "outputs": []
    },
    {
      "cell_type": "code",
      "metadata": {
        "id": "bSghupgcNQyP",
        "colab_type": "code",
        "colab": {}
      },
      "source": [
        "pd.DataFrame(survey.iloc[:,[0,27]]['강사진은 해당 분야에 대한 실무경험이나 전문성 수준이 높은 인력으로 구성되었다.'].describe())[:3].rename(\n",
        "index={'count': '응답자수','mean': '평균','std': '표준편차'}).applymap(lambda x: '%.2f' % x)"
      ],
      "execution_count": 0,
      "outputs": []
    },
    {
      "cell_type": "code",
      "metadata": {
        "id": "XLJcvXWgNQyQ",
        "colab_type": "code",
        "colab": {}
      },
      "source": [
        "trace = go.Bar(\n",
        "    x = survey.iloc[:,[0,27]]['강사진은 해당 분야에 대한 실무경험이나 전문성 수준이 높은 인력으로 구성되었다.'].value_counts().index,\n",
        "    y = survey.iloc[:,[0,27]]['강사진은 해당 분야에 대한 실무경험이나 전문성 수준이 높은 인력으로 구성되었다.'].value_counts(),\n",
        "    text = survey.iloc[:,[0,27]]['강사진은 해당 분야에 대한 실무경험이나 전문성 수준이 높은 인력으로 구성되었다.'].value_counts(),\n",
        "    textposition = 'auto'\n",
        ")\n",
        "\n",
        "layout = go.Layout(title='강사진은 해당 분야에 대한 실무경험이나 전문성 수준이 높은 인력으로 구성되었다.',\n",
        "                   xaxis=dict(title='만족도', range=[0,6]),\n",
        "                   yaxis=dict(title='응답자수',range=[0,10]))\n",
        "\n",
        "fig = go.Figure(data=[trace], layout=layout)\n",
        "\n",
        "iplot(fig)"
      ],
      "execution_count": 0,
      "outputs": []
    },
    {
      "cell_type": "code",
      "metadata": {
        "id": "RyGeTKxaNQyT",
        "colab_type": "code",
        "colab": {}
      },
      "source": [
        ""
      ],
      "execution_count": 0,
      "outputs": []
    },
    {
      "cell_type": "markdown",
      "metadata": {
        "id": "0KJu7XggNQyX",
        "colab_type": "text"
      },
      "source": [
        "### 강사는 연수생과 소통하며 교육내용을 체계적이고 능숙하게 전달하였다"
      ]
    },
    {
      "cell_type": "code",
      "metadata": {
        "id": "X0SYm5O5NQyY",
        "colab_type": "code",
        "colab": {}
      },
      "source": [
        "survey.iloc[:,[0,28]]"
      ],
      "execution_count": 0,
      "outputs": []
    },
    {
      "cell_type": "code",
      "metadata": {
        "id": "iP46_BhwNQyd",
        "colab_type": "code",
        "colab": {}
      },
      "source": [
        "pd.DataFrame(survey.iloc[:,[0,28]]['강사는 연수생과 소통하며 교육내용을 체계적이고 능숙하게 전달하였다'].describe())[:3].rename(\n",
        "index={'count': '응답자수','mean': '평균','std': '표준편차'}).applymap(lambda x: '%.2f' % x)"
      ],
      "execution_count": 0,
      "outputs": []
    },
    {
      "cell_type": "code",
      "metadata": {
        "id": "Isw3yNt1NQye",
        "colab_type": "code",
        "colab": {}
      },
      "source": [
        "trace = go.Bar(\n",
        "    x = survey.iloc[:,[0,28]]['강사는 연수생과 소통하며 교육내용을 체계적이고 능숙하게 전달하였다'].value_counts().index,\n",
        "    y = survey.iloc[:,[0,28]]['강사는 연수생과 소통하며 교육내용을 체계적이고 능숙하게 전달하였다'].value_counts(),\n",
        "    text = survey.iloc[:,[0,28]]['강사는 연수생과 소통하며 교육내용을 체계적이고 능숙하게 전달하였다'].value_counts(),\n",
        "    textposition = 'auto'\n",
        ")\n",
        "\n",
        "layout = go.Layout(title='강사는 연수생과 소통하며 교육내용을 체계적이고 능숙하게 전달하였다',\n",
        "                   xaxis=dict(title='만족도', range=[0,6]),\n",
        "                   yaxis=dict(title='응답자수',range=[0,10]))\n",
        "\n",
        "fig = go.Figure(data=[trace], layout=layout)\n",
        "\n",
        "iplot(fig)"
      ],
      "execution_count": 0,
      "outputs": []
    },
    {
      "cell_type": "code",
      "metadata": {
        "id": "nvqt_He4NQyg",
        "colab_type": "code",
        "colab": {}
      },
      "source": [
        ""
      ],
      "execution_count": 0,
      "outputs": []
    },
    {
      "cell_type": "markdown",
      "metadata": {
        "id": "aESie0J0NQyi",
        "colab_type": "text"
      },
      "source": [
        "### 통역사는 이해하기 쉽도록 통역하였다."
      ]
    },
    {
      "cell_type": "code",
      "metadata": {
        "id": "kAK39SWzNQyj",
        "colab_type": "code",
        "colab": {}
      },
      "source": [
        "survey.iloc[:,[0,29]]"
      ],
      "execution_count": 0,
      "outputs": []
    },
    {
      "cell_type": "code",
      "metadata": {
        "id": "I9rkiwZNNQyu",
        "colab_type": "code",
        "colab": {}
      },
      "source": [
        "pd.DataFrame(survey.iloc[:,[0,29]]['통역사는 이해하기 쉽도록 통역하였다. (2-1에서 ②에 응답한 경우, 응답하지 않으셔도 됩니다)'].describe())[:3].rename(\n",
        "index={'count': '응답자수','mean': '평균','std': '표준편차'}).applymap(lambda x: '%.2f' % x)"
      ],
      "execution_count": 0,
      "outputs": []
    },
    {
      "cell_type": "code",
      "metadata": {
        "id": "b2oqRXHcNQyv",
        "colab_type": "code",
        "colab": {}
      },
      "source": [
        "trace = go.Bar(\n",
        "    x = survey.iloc[:,[0,29]]['통역사는 이해하기 쉽도록 통역하였다. (2-1에서 ②에 응답한 경우, 응답하지 않으셔도 됩니다)'].value_counts().index,\n",
        "    y = survey.iloc[:,[0,29]]['통역사는 이해하기 쉽도록 통역하였다. (2-1에서 ②에 응답한 경우, 응답하지 않으셔도 됩니다)'].value_counts(),\n",
        "    text = survey.iloc[:,[0,29]]['통역사는 이해하기 쉽도록 통역하였다. (2-1에서 ②에 응답한 경우, 응답하지 않으셔도 됩니다)'].value_counts(),\n",
        "    textposition = 'auto'\n",
        ")\n",
        "\n",
        "layout = go.Layout(title='통역사는 이해하기 쉽도록 통역하였다.',\n",
        "                   xaxis=dict(title='만족도', range=[0,6]),\n",
        "                   yaxis=dict(title='응답자수',range=[0,10]))\n",
        "\n",
        "fig = go.Figure(data=[trace], layout=layout)\n",
        "\n",
        "iplot(fig)"
      ],
      "execution_count": 0,
      "outputs": []
    },
    {
      "cell_type": "code",
      "metadata": {
        "id": "Dq3TW7XwNQyx",
        "colab_type": "code",
        "colab": {}
      },
      "source": [
        ""
      ],
      "execution_count": 0,
      "outputs": []
    },
    {
      "cell_type": "markdown",
      "metadata": {
        "id": "xHjnFB00NQyy",
        "colab_type": "text"
      },
      "source": [
        "### 국별보고/액션플랜의 주제는 연수과정 목표와 연계되어 있었다."
      ]
    },
    {
      "cell_type": "code",
      "metadata": {
        "id": "UR6R_eIANQyz",
        "colab_type": "code",
        "colab": {}
      },
      "source": [
        "survey.iloc[:,[0,39]]"
      ],
      "execution_count": 0,
      "outputs": []
    },
    {
      "cell_type": "code",
      "metadata": {
        "id": "4DJj9-hHNQy1",
        "colab_type": "code",
        "colab": {}
      },
      "source": [
        "pd.DataFrame(survey.iloc[:,[0,39]]['국별보고/액션플랜의 주제는 연수과정 목표와 연계되어 있었다.'].describe())[:3].rename(\n",
        "index={'count': '응답자수','mean': '평균','std': '표준편차'}).applymap(lambda x: '%.2f' % x)"
      ],
      "execution_count": 0,
      "outputs": []
    },
    {
      "cell_type": "code",
      "metadata": {
        "id": "IktzvOpUNQy3",
        "colab_type": "code",
        "colab": {}
      },
      "source": [
        "trace = go.Bar(\n",
        "    x = survey.iloc[:,[0,39]]['국별보고/액션플랜의 주제는 연수과정 목표와 연계되어 있었다.'].value_counts().index,\n",
        "    y = survey.iloc[:,[0,39]]['국별보고/액션플랜의 주제는 연수과정 목표와 연계되어 있었다.'].value_counts(),\n",
        "    text = survey.iloc[:,[0,39]]['국별보고/액션플랜의 주제는 연수과정 목표와 연계되어 있었다.'].value_counts(),\n",
        "    textposition = 'auto'\n",
        ")\n",
        "\n",
        "layout = go.Layout(title='국별보고/액션플랜의 주제는 연수과정 목표와 연계되어 있었다.',\n",
        "                   xaxis=dict(title='만족도', range=[0,6]),\n",
        "                   yaxis=dict(title='응답자수',range=[0,10]))\n",
        "\n",
        "fig = go.Figure(data=[trace], layout=layout)\n",
        "\n",
        "iplot(fig)"
      ],
      "execution_count": 0,
      "outputs": []
    },
    {
      "cell_type": "code",
      "metadata": {
        "id": "PRho3O5tNQy4",
        "colab_type": "code",
        "colab": {}
      },
      "source": [
        ""
      ],
      "execution_count": 0,
      "outputs": []
    },
    {
      "cell_type": "markdown",
      "metadata": {
        "id": "ABAN1w79NQy5",
        "colab_type": "text"
      },
      "source": [
        "### 국별보고/액션플랜 세션시간은 충분하였다."
      ]
    },
    {
      "cell_type": "code",
      "metadata": {
        "id": "Ed1WlwNONQy6",
        "colab_type": "code",
        "colab": {}
      },
      "source": [
        "survey.iloc[:,[0,40]]"
      ],
      "execution_count": 0,
      "outputs": []
    },
    {
      "cell_type": "code",
      "metadata": {
        "id": "EP1lSidfNQy8",
        "colab_type": "code",
        "colab": {}
      },
      "source": [
        "pd.DataFrame(survey.iloc[:,[0,40]]['국별보고/액션플랜 세션시간은 충분하였다.'].describe())[:3].rename(\n",
        "index={'count': '응답자수','mean': '평균','std': '표준편차'}).applymap(lambda x: '%.2f' % x)"
      ],
      "execution_count": 0,
      "outputs": []
    },
    {
      "cell_type": "code",
      "metadata": {
        "id": "iCwgC7UxNQy_",
        "colab_type": "code",
        "colab": {}
      },
      "source": [
        "trace = go.Bar(\n",
        "    x = survey.iloc[:,[0,40]]['국별보고/액션플랜 세션시간은 충분하였다.'].value_counts().index,\n",
        "    y = survey.iloc[:,[0,40]]['국별보고/액션플랜 세션시간은 충분하였다.'].value_counts(),\n",
        "    text = survey.iloc[:,[0,40]]['국별보고/액션플랜 세션시간은 충분하였다.'].value_counts(),\n",
        "    textposition = 'auto'\n",
        ")\n",
        "\n",
        "layout = go.Layout(title='국별보고/액션플랜 세션시간은 충분하였다.',\n",
        "                   xaxis=dict(title='만족도', range=[0,6]),\n",
        "                   yaxis=dict(title='응답자수',range=[0,10]))\n",
        "\n",
        "fig = go.Figure(data=[trace], layout=layout)\n",
        "\n",
        "iplot(fig)"
      ],
      "execution_count": 0,
      "outputs": []
    },
    {
      "cell_type": "code",
      "metadata": {
        "id": "l_Q1eLzkNQzG",
        "colab_type": "code",
        "colab": {}
      },
      "source": [
        ""
      ],
      "execution_count": 0,
      "outputs": []
    },
    {
      "cell_type": "markdown",
      "metadata": {
        "id": "C50hQ-SCNQzH",
        "colab_type": "text"
      },
      "source": [
        "### 액션플랜 작성 및 발표를 위한 사전안내가 충분히 이루어졌다."
      ]
    },
    {
      "cell_type": "code",
      "metadata": {
        "id": "K0bAI91VNQzI",
        "colab_type": "code",
        "colab": {}
      },
      "source": [
        "survey.iloc[:,[0,41]]"
      ],
      "execution_count": 0,
      "outputs": []
    },
    {
      "cell_type": "code",
      "metadata": {
        "id": "gC2XyORiNQzL",
        "colab_type": "code",
        "colab": {}
      },
      "source": [
        "pd.DataFrame(survey.iloc[:,[0,41]]['액션플랜 작성 및 발표를 위한 사전안내가 충분히 이루어졌다.'].describe())[:3].rename(\n",
        "index={'count': '응답자수','mean': '평균','std': '표준편차'}).applymap(lambda x: '%.2f' % x)"
      ],
      "execution_count": 0,
      "outputs": []
    },
    {
      "cell_type": "code",
      "metadata": {
        "id": "yxa8w4TGNQzN",
        "colab_type": "code",
        "colab": {}
      },
      "source": [
        "trace = go.Bar(\n",
        "    x = survey.iloc[:,[0,41]]['액션플랜 작성 및 발표를 위한 사전안내가 충분히 이루어졌다.'].value_counts().index,\n",
        "    y = survey.iloc[:,[0,41]]['액션플랜 작성 및 발표를 위한 사전안내가 충분히 이루어졌다.'].value_counts(),\n",
        "    text = survey.iloc[:,[0,41]]['액션플랜 작성 및 발표를 위한 사전안내가 충분히 이루어졌다.'].value_counts(),\n",
        "    textposition = 'auto'\n",
        ")\n",
        "\n",
        "layout = go.Layout(title='액션플랜 작성 및 발표를 위한 사전안내가 충분히 이루어졌다.',\n",
        "                   xaxis=dict(title='만족도', range=[0,6]),\n",
        "                   yaxis=dict(title='응답자수',range=[0,10]))\n",
        "\n",
        "fig = go.Figure(data=[trace], layout=layout)\n",
        "\n",
        "iplot(fig)"
      ],
      "execution_count": 0,
      "outputs": []
    },
    {
      "cell_type": "code",
      "metadata": {
        "id": "6tShl5QINQzP",
        "colab_type": "code",
        "colab": {}
      },
      "source": [
        ""
      ],
      "execution_count": 0,
      "outputs": []
    },
    {
      "cell_type": "markdown",
      "metadata": {
        "id": "gtexo2tyNQzS",
        "colab_type": "text"
      },
      "source": [
        "### 국별보고/액션플랜 세션 담당자는 피드백을 충분히 제공하였다."
      ]
    },
    {
      "cell_type": "code",
      "metadata": {
        "id": "fBTKiQUdNQzT",
        "colab_type": "code",
        "colab": {}
      },
      "source": [
        "survey.iloc[:,[0,42]]"
      ],
      "execution_count": 0,
      "outputs": []
    },
    {
      "cell_type": "code",
      "metadata": {
        "id": "ISnRtPXXNQzU",
        "colab_type": "code",
        "colab": {}
      },
      "source": [
        "pd.DataFrame(survey.iloc[:,[0,42]]['국별보고/액션플랜 세션 담당자는 피드백을 충분히 제공하였다.'].describe())[:3].rename(\n",
        "index={'count': '응답자수','mean': '평균','std': '표준편차'}).applymap(lambda x: '%.2f' % x)"
      ],
      "execution_count": 0,
      "outputs": []
    },
    {
      "cell_type": "code",
      "metadata": {
        "id": "CapXGvBbNQzY",
        "colab_type": "code",
        "colab": {}
      },
      "source": [
        "trace = go.Bar(\n",
        "    x = survey.iloc[:,[0,42]]['국별보고/액션플랜 세션 담당자는 피드백을 충분히 제공하였다.'].value_counts().index,\n",
        "    y = survey.iloc[:,[0,42]]['국별보고/액션플랜 세션 담당자는 피드백을 충분히 제공하였다.'].value_counts(),\n",
        "    text = survey.iloc[:,[0,42]]['국별보고/액션플랜 세션 담당자는 피드백을 충분히 제공하였다.'].value_counts(),\n",
        "    textposition = 'auto'\n",
        ")\n",
        "\n",
        "layout = go.Layout(title='국별보고/액션플랜 세션 담당자는 피드백을 충분히 제공하였다.',\n",
        "                   xaxis=dict(title='만족도', range=[0,6]),\n",
        "                   yaxis=dict(title='응답자수',range=[0,10]))\n",
        "\n",
        "fig = go.Figure(data=[trace], layout=layout)\n",
        "\n",
        "iplot(fig)"
      ],
      "execution_count": 0,
      "outputs": []
    },
    {
      "cell_type": "code",
      "metadata": {
        "id": "64ORMhanNQza",
        "colab_type": "code",
        "colab": {}
      },
      "source": [
        ""
      ],
      "execution_count": 0,
      "outputs": []
    },
    {
      "cell_type": "markdown",
      "metadata": {
        "id": "a4vb2ke8NQzf",
        "colab_type": "text"
      },
      "source": [
        "### 국별보고/액션플랜 세션은 연수내용을 이해하는데 도움이 되었다."
      ]
    },
    {
      "cell_type": "code",
      "metadata": {
        "id": "kEwV__iwNQzg",
        "colab_type": "code",
        "colab": {}
      },
      "source": [
        "survey.iloc[:,[0,43]]"
      ],
      "execution_count": 0,
      "outputs": []
    },
    {
      "cell_type": "code",
      "metadata": {
        "id": "vCkmX9FlNQzm",
        "colab_type": "code",
        "colab": {}
      },
      "source": [
        "pd.DataFrame(survey.iloc[:,[0,43]]['국별보고/액션플랜 세션은 연수내용을 이해하는데 도움이 되었다.'].describe())[:3].rename(\n",
        "index={'count': '응답자수','mean': '평균','std': '표준편차'}).applymap(lambda x: '%.2f' % x)"
      ],
      "execution_count": 0,
      "outputs": []
    },
    {
      "cell_type": "code",
      "metadata": {
        "id": "dzLQNAcyNQzo",
        "colab_type": "code",
        "colab": {}
      },
      "source": [
        "trace = go.Bar(\n",
        "    x = survey.iloc[:,[0,43]]['국별보고/액션플랜 세션은 연수내용을 이해하는데 도움이 되었다.'].value_counts().index,\n",
        "    y = survey.iloc[:,[0,43]]['국별보고/액션플랜 세션은 연수내용을 이해하는데 도움이 되었다.'].value_counts(),\n",
        "    text = survey.iloc[:,[0,43]]['국별보고/액션플랜 세션은 연수내용을 이해하는데 도움이 되었다.'].value_counts(),\n",
        "    textposition = 'auto'\n",
        ")\n",
        "\n",
        "layout = go.Layout(title='국별보고/액션플랜 세션은 연수내용을 이해하는데 도움이 되었다.',\n",
        "                   xaxis=dict(title='만족도', range=[0,6]),\n",
        "                   yaxis=dict(title='응답자수',range=[0,10]))\n",
        "\n",
        "fig = go.Figure(data=[trace], layout=layout)\n",
        "\n",
        "iplot(fig)"
      ],
      "execution_count": 0,
      "outputs": []
    },
    {
      "cell_type": "code",
      "metadata": {
        "id": "bjLKIuctNQzp",
        "colab_type": "code",
        "colab": {}
      },
      "source": [
        ""
      ],
      "execution_count": 0,
      "outputs": []
    },
    {
      "cell_type": "markdown",
      "metadata": {
        "id": "pZNN5bSgNQzq",
        "colab_type": "text"
      },
      "source": [
        "### 액션플랜 작성은 현장에서 실무능력을 향상시키는데 도움이 되었다."
      ]
    },
    {
      "cell_type": "code",
      "metadata": {
        "id": "U1CJ0ITCNQzq",
        "colab_type": "code",
        "colab": {}
      },
      "source": [
        "survey.iloc[:,[0,44]]"
      ],
      "execution_count": 0,
      "outputs": []
    },
    {
      "cell_type": "code",
      "metadata": {
        "id": "3XoAQrB2NQzr",
        "colab_type": "code",
        "colab": {}
      },
      "source": [
        "pd.DataFrame(survey.iloc[:,[0,44]]['액션플랜 작성은 현장에서 실무능력을 향상시키는데 도움이 되었다.'].describe())[:3].rename(\n",
        "index={'count': '응답자수','mean': '평균','std': '표준편차'}).applymap(lambda x: '%.2f' % x)"
      ],
      "execution_count": 0,
      "outputs": []
    },
    {
      "cell_type": "code",
      "metadata": {
        "id": "D-E2uZSeNQzs",
        "colab_type": "code",
        "colab": {}
      },
      "source": [
        "trace = go.Bar(\n",
        "    x = survey.iloc[:,[0,44]]['액션플랜 작성은 현장에서 실무능력을 향상시키는데 도움이 되었다.'].value_counts().index,\n",
        "    y = survey.iloc[:,[0,44]]['액션플랜 작성은 현장에서 실무능력을 향상시키는데 도움이 되었다.'].value_counts(),\n",
        "    text = survey.iloc[:,[0,44]]['액션플랜 작성은 현장에서 실무능력을 향상시키는데 도움이 되었다.'].value_counts(),\n",
        "    textposition = 'auto'\n",
        ")\n",
        "\n",
        "layout = go.Layout(title='액션플랜 작성은 현장에서 실무능력을 향상시키는데 도움이 되었다.',\n",
        "                   xaxis=dict(title='만족도', range=[0,6]),\n",
        "                   yaxis=dict(title='응답자수',range=[0,10]))\n",
        "\n",
        "fig = go.Figure(data=[trace], layout=layout)\n",
        "\n",
        "iplot(fig)"
      ],
      "execution_count": 0,
      "outputs": []
    },
    {
      "cell_type": "code",
      "metadata": {
        "id": "TRggkNelNQzt",
        "colab_type": "code",
        "colab": {}
      },
      "source": [
        ""
      ],
      "execution_count": 0,
      "outputs": []
    },
    {
      "cell_type": "markdown",
      "metadata": {
        "id": "QCXZwb90NQzu",
        "colab_type": "text"
      },
      "source": [
        "## 연수생만족도 관련 설문항목 분석"
      ]
    },
    {
      "cell_type": "code",
      "metadata": {
        "id": "KXzAnzPQNQzu",
        "colab_type": "code",
        "colab": {}
      },
      "source": [
        "survey2 = eval_all.copy().reset_index()\n",
        "survey2"
      ],
      "execution_count": 0,
      "outputs": []
    },
    {
      "cell_type": "code",
      "metadata": {
        "id": "IZmSEGZ3NQzv",
        "colab_type": "code",
        "colab": {}
      },
      "source": [
        "survey2 = eval_all.copy().reset_index()[['성명', '연수생 선발/추천을 위한 사전준비 기간은 적절하였다', \n",
        "'연수 신청방법 및 교육내용에 대한 구체적인 안내를 받았다.', '연수과정의 내용은 연수생 현지의 상황과 요구에 맞게 구성되었다.',\n",
        "'연수과정의 내용과 수준은 이해하기 적절하였다.',\n",
        "'연수과정의 교육방법(강의, 실습/토의, 현장학습 등)은 연수내용을 이해하는데 적합하였다.',\n",
        "'연수기관에서는 연수생 국가의 문화나 종교를 배려하기 위해 노력하였다',\n",
        "'연수운영진은 연수과정을 원활하게 운영하였다. (일정관리, 강의준비, 연수생 지원 등)',\n",
        "'연수운영진은 응급상황 등 사건사고에 대해 적절히 대처하였다.', '강의실 및 실습실은 사용하기에 편리하였다.',\n",
        "'연수 편의시설(휴게시설, 식당, 숙박시설 등)은 사용하기에 편리하였다. ',\n",
        "'연수과정에 사용된 교수학습매체는 적절하였다. (교재, 동영상, 실습장비 등)',\n",
        "'강사진은 해당 분야에 대한 실무경험이나 전문성 수준이 높은 인력으로 구성되었다.',\n",
        "'강사는 연수생과 소통하며 교육내용을 체계적이고 능숙하게 전달하였다',\n",
        "'통역사는 이해하기 쉽도록 통역하였다. (2-1에서 ②에 응답한 경우, 응답하지 않으셔도 됩니다)',\n",
        "'국별보고/액션플랜의 주제는 연수과정 목표와 연계되어 있었다.', '국별보고/액션플랜 세션시간은 충분하였다.',\n",
        "'액션플랜 작성 및 발표를 위한 사전안내가 충분히 이루어졌다.',\n",
        "'국별보고/액션플랜 세션 담당자는 피드백을 충분히 제공하였다.',\n",
        "'국별보고/액션플랜 세션은 연수내용을 이해하는데 도움이 되었다.',\n",
        "'액션플랜 작성은 현장에서 실무능력을 향상시키는데 도움이 되었다.']]"
      ],
      "execution_count": 0,
      "outputs": []
    },
    {
      "cell_type": "code",
      "metadata": {
        "id": "Pt1Lm4TJNQzy",
        "colab_type": "code",
        "colab": {}
      },
      "source": [
        "survey_mean = survey2.describe().rename(index={'mean': '평균값'}).T.drop(['count','std','min','25%','50%','75%','max'],axis=1)\n",
        "survey_mean = survey_mean.applymap(lambda x: '%.2f'% x) \n",
        "survey_mean"
      ],
      "execution_count": 0,
      "outputs": []
    },
    {
      "cell_type": "markdown",
      "metadata": {
        "id": "S2TDEfVXNQzz",
        "colab_type": "text"
      },
      "source": [
        "### 질문의 범주화를 위한 칼럼 만들기"
      ]
    },
    {
      "cell_type": "code",
      "metadata": {
        "id": "uCSByT_nNQzz",
        "colab_type": "code",
        "colab": {}
      },
      "source": [
        "a = '신청 및 연수생 선발 안내'\n",
        "b = '연수과정의 운영 적절성 및 만족도'\n",
        "c = '교재 및 강사 만족도'\n",
        "d = '국별보고 및 액션플랜 세션 적절성'"
      ],
      "execution_count": 0,
      "outputs": []
    },
    {
      "cell_type": "code",
      "metadata": {
        "id": "7D994T92NQz2",
        "colab_type": "code",
        "colab": {}
      },
      "source": [
        "e = (((a[:] + \",\") * 2) + ((b[:] + \",\") * 8) + ((c[:] + \",\") * 4) + ((d[:] + \",\") * 6)).split(',')\n",
        "del(e[20])\n",
        "e"
      ],
      "execution_count": 0,
      "outputs": []
    },
    {
      "cell_type": "markdown",
      "metadata": {
        "id": "XsIMRpC2NQz_",
        "colab_type": "text"
      },
      "source": [
        "### 연수생만족도 reset_index()로 기존 칼럼 수준 평준화"
      ]
    },
    {
      "cell_type": "code",
      "metadata": {
        "id": "cBWseOTONQz_",
        "colab_type": "code",
        "colab": {}
      },
      "source": [
        "survey_mean['그룹'] = e\n",
        "survey_mean.index.name = '연수생만족도 평가 질문'\n",
        "survey_mean = survey_mean[['그룹', '평균값']].reset_index()\n",
        "survey_mean.rename(columns={'index': '연번'})"
      ],
      "execution_count": 0,
      "outputs": []
    },
    {
      "cell_type": "markdown",
      "metadata": {
        "id": "65C778OSNQ0A",
        "colab_type": "text"
      },
      "source": [
        "### 연수생만족도 주제 그룹 평균값"
      ]
    },
    {
      "cell_type": "code",
      "metadata": {
        "id": "RwIhUwgPNQ0B",
        "colab_type": "code",
        "colab": {},
        "outputId": "a1179942-b93b-4435-8bec-4f388c208cfa"
      },
      "source": [
        "trace = go.Bar(\n",
        "    x = survey_mean['평균값'],\n",
        "    y = survey_mean['연수생만족도 평가 질문'],\n",
        "    width= 0.8,\n",
        "    text = survey_mean['평균값'],\n",
        "    textposition = 'auto', orientation = 'h'\n",
        ")\n",
        "\n",
        "layout = go.Layout(title='연수생만족도 평가',\n",
        "                   bargap= 1,\n",
        "                   xaxis=dict(title='만족도', range=[1,5], \n",
        "#                               tickangle=45,\n",
        "                             ),\n",
        "                   yaxis=dict(tickfont=dict(size=10, # 또는 yaxis_tickfont_size=10, 별도 설정가능\n",
        "#                   family=\"Courier New, monospace\",\n",
        "#                   color=\"#7f7f7f\"\n",
        "                              ), \n",
        "                   ),\n",
        "                   margin=dict(l=400,\n",
        "#                    r=0, b=100, t=100, pad=4\n",
        "                   )\n",
        "#                    autosize=True, width=500,height=500\n",
        ")\n",
        "\n",
        "fig = go.Figure(data=[trace], layout=layout)\n",
        "\n",
        "iplot(fig)"
      ],
      "execution_count": 0,
      "outputs": [
        {
          "output_type": "display_data",
          "data": {
            "application/vnd.plotly.v1+json": {
              "config": {
                "linkText": "Export to plot.ly",
                "plotlyServerURL": "https://plot.ly",
                "showLink": false
              },
              "data": [
                {
                  "orientation": "h",
                  "text": [
                    "4.69",
                    "4.62",
                    "4.46",
                    "4.62",
                    "4.54",
                    "4.46",
                    "4.46",
                    "4.54",
                    "4.69",
                    "4.23",
                    "4.69",
                    "4.77",
                    "4.69",
                    "4.64",
                    "4.38",
                    "3.62",
                    "4.08",
                    "4.54",
                    "4.54",
                    "4.54"
                  ],
                  "textposition": "auto",
                  "type": "bar",
                  "uid": "0971a4ae-df84-438a-b498-dda54811c4b9",
                  "width": 0.8,
                  "x": [
                    "4.69",
                    "4.62",
                    "4.46",
                    "4.62",
                    "4.54",
                    "4.46",
                    "4.46",
                    "4.54",
                    "4.69",
                    "4.23",
                    "4.69",
                    "4.77",
                    "4.69",
                    "4.64",
                    "4.38",
                    "3.62",
                    "4.08",
                    "4.54",
                    "4.54",
                    "4.54"
                  ],
                  "y": [
                    "연수생 선발/추천을 위한 사전준비 기간은 적절하였다",
                    "연수 신청방법 및 교육내용에 대한 구체적인 안내를 받았다.",
                    "연수과정의 내용은 연수생 현지의 상황과 요구에 맞게 구성되었다.",
                    "연수과정의 내용과 수준은 이해하기 적절하였다.",
                    "연수과정의 교육방법(강의, 실습/토의, 현장학습 등)은 연수내용을 이해하는데 적합하였다.",
                    "연수기관에서는 연수생 국가의 문화나 종교를 배려하기 위해 노력하였다",
                    "연수운영진은 연수과정을 원활하게 운영하였다. (일정관리, 강의준비, 연수생 지원 등)",
                    "연수운영진은 응급상황 등 사건사고에 대해 적절히 대처하였다.",
                    "강의실 및 실습실은 사용하기에 편리하였다.",
                    "연수 편의시설(휴게시설, 식당, 숙박시설 등)은 사용하기에 편리하였다. ",
                    "연수과정에 사용된 교수학습매체는 적절하였다. (교재, 동영상, 실습장비 등)",
                    "강사진은 해당 분야에 대한 실무경험이나 전문성 수준이 높은 인력으로 구성되었다.",
                    "강사는 연수생과 소통하며 교육내용을 체계적이고 능숙하게 전달하였다",
                    "통역사는 이해하기 쉽도록 통역하였다. (2-1에서 ②에 응답한 경우, 응답하지 않으셔도 됩니다)",
                    "국별보고/액션플랜의 주제는 연수과정 목표와 연계되어 있었다.",
                    "국별보고/액션플랜 세션시간은 충분하였다.",
                    "액션플랜 작성 및 발표를 위한 사전안내가 충분히 이루어졌다.",
                    "국별보고/액션플랜 세션 담당자는 피드백을 충분히 제공하였다.",
                    "국별보고/액션플랜 세션은 연수내용을 이해하는데 도움이 되었다.",
                    "액션플랜 작성은 현장에서 실무능력을 향상시키는데 도움이 되었다."
                  ]
                }
              ],
              "layout": {
                "autosize": true,
                "bargap": 1,
                "margin": {
                  "l": 400
                },
                "title": {
                  "text": "연수생만족도 평가"
                },
                "xaxis": {
                  "range": [
                    1,
                    5
                  ],
                  "title": {
                    "text": "만족도"
                  },
                  "type": "linear"
                },
                "yaxis": {
                  "autorange": true,
                  "range": [
                    -0.5,
                    19.5
                  ],
                  "tickfont": {
                    "size": 10
                  },
                  "type": "category"
                }
              }
            },
            "image/png": "[encoded data removed]",
            "text/html": [
              "<div>\n",
              "        \n",
              "        \n",
              "            <div id=\"305cce4d-73dc-4966-b3cc-2ca128a10ba8\" class=\"plotly-graph-div\" style=\"height:525px; width:100%;\"></div>\n",
              "            <script type=\"text/javascript\">\n",
              "                require([\"plotly\"], function(Plotly) {\n",
              "                    window.PLOTLYENV=window.PLOTLYENV || {};\n",
              "                    window.PLOTLYENV.BASE_URL='https://plot.ly';\n",
              "                    \n",
              "                if (document.getElementById(\"305cce4d-73dc-4966-b3cc-2ca128a10ba8\")) {\n",
              "                    Plotly.newPlot(\n",
              "                        '305cce4d-73dc-4966-b3cc-2ca128a10ba8',\n",
              "                        [{\"orientation\": \"h\", \"text\": [\"4.69\", \"4.62\", \"4.46\", \"4.62\", \"4.54\", \"4.46\", \"4.46\", \"4.54\", \"4.69\", \"4.23\", \"4.69\", \"4.77\", \"4.69\", \"4.64\", \"4.38\", \"3.62\", \"4.08\", \"4.54\", \"4.54\", \"4.54\"], \"textposition\": \"auto\", \"type\": \"bar\", \"uid\": \"0971a4ae-df84-438a-b498-dda54811c4b9\", \"width\": 0.8, \"x\": [\"4.69\", \"4.62\", \"4.46\", \"4.62\", \"4.54\", \"4.46\", \"4.46\", \"4.54\", \"4.69\", \"4.23\", \"4.69\", \"4.77\", \"4.69\", \"4.64\", \"4.38\", \"3.62\", \"4.08\", \"4.54\", \"4.54\", \"4.54\"], \"y\": [\"\\uc5f0\\uc218\\uc0dd \\uc120\\ubc1c/\\ucd94\\ucc9c\\uc744 \\uc704\\ud55c \\uc0ac\\uc804\\uc900\\ube44 \\uae30\\uac04\\uc740 \\uc801\\uc808\\ud558\\uc600\\ub2e4\", \"\\uc5f0\\uc218 \\uc2e0\\uccad\\ubc29\\ubc95 \\ubc0f \\uad50\\uc721\\ub0b4\\uc6a9\\uc5d0 \\ub300\\ud55c \\uad6c\\uccb4\\uc801\\uc778 \\uc548\\ub0b4\\ub97c \\ubc1b\\uc558\\ub2e4.\", \"\\uc5f0\\uc218\\uacfc\\uc815\\uc758 \\ub0b4\\uc6a9\\uc740 \\uc5f0\\uc218\\uc0dd \\ud604\\uc9c0\\uc758 \\uc0c1\\ud669\\uacfc \\uc694\\uad6c\\uc5d0 \\ub9de\\uac8c \\uad6c\\uc131\\ub418\\uc5c8\\ub2e4.\", \"\\uc5f0\\uc218\\uacfc\\uc815\\uc758 \\ub0b4\\uc6a9\\uacfc \\uc218\\uc900\\uc740 \\uc774\\ud574\\ud558\\uae30 \\uc801\\uc808\\ud558\\uc600\\ub2e4.\", \"\\uc5f0\\uc218\\uacfc\\uc815\\uc758 \\uad50\\uc721\\ubc29\\ubc95(\\uac15\\uc758, \\uc2e4\\uc2b5/\\ud1a0\\uc758, \\ud604\\uc7a5\\ud559\\uc2b5 \\ub4f1)\\uc740 \\uc5f0\\uc218\\ub0b4\\uc6a9\\uc744 \\uc774\\ud574\\ud558\\ub294\\ub370 \\uc801\\ud569\\ud558\\uc600\\ub2e4.\", \"\\uc5f0\\uc218\\uae30\\uad00\\uc5d0\\uc11c\\ub294 \\uc5f0\\uc218\\uc0dd \\uad6d\\uac00\\uc758 \\ubb38\\ud654\\ub098 \\uc885\\uad50\\ub97c \\ubc30\\ub824\\ud558\\uae30 \\uc704\\ud574 \\ub178\\ub825\\ud558\\uc600\\ub2e4\", \"\\uc5f0\\uc218\\uc6b4\\uc601\\uc9c4\\uc740 \\uc5f0\\uc218\\uacfc\\uc815\\uc744 \\uc6d0\\ud65c\\ud558\\uac8c \\uc6b4\\uc601\\ud558\\uc600\\ub2e4. (\\uc77c\\uc815\\uad00\\ub9ac, \\uac15\\uc758\\uc900\\ube44, \\uc5f0\\uc218\\uc0dd \\uc9c0\\uc6d0 \\ub4f1)\", \"\\uc5f0\\uc218\\uc6b4\\uc601\\uc9c4\\uc740 \\uc751\\uae09\\uc0c1\\ud669 \\ub4f1 \\uc0ac\\uac74\\uc0ac\\uace0\\uc5d0 \\ub300\\ud574 \\uc801\\uc808\\ud788 \\ub300\\ucc98\\ud558\\uc600\\ub2e4.\", \"\\uac15\\uc758\\uc2e4 \\ubc0f \\uc2e4\\uc2b5\\uc2e4\\uc740 \\uc0ac\\uc6a9\\ud558\\uae30\\uc5d0 \\ud3b8\\ub9ac\\ud558\\uc600\\ub2e4.\", \"\\uc5f0\\uc218 \\ud3b8\\uc758\\uc2dc\\uc124(\\ud734\\uac8c\\uc2dc\\uc124, \\uc2dd\\ub2f9, \\uc219\\ubc15\\uc2dc\\uc124 \\ub4f1)\\uc740 \\uc0ac\\uc6a9\\ud558\\uae30\\uc5d0 \\ud3b8\\ub9ac\\ud558\\uc600\\ub2e4. \", \"\\uc5f0\\uc218\\uacfc\\uc815\\uc5d0 \\uc0ac\\uc6a9\\ub41c \\uad50\\uc218\\ud559\\uc2b5\\ub9e4\\uccb4\\ub294 \\uc801\\uc808\\ud558\\uc600\\ub2e4. (\\uad50\\uc7ac, \\ub3d9\\uc601\\uc0c1, \\uc2e4\\uc2b5\\uc7a5\\ube44 \\ub4f1)\", \"\\uac15\\uc0ac\\uc9c4\\uc740 \\ud574\\ub2f9 \\ubd84\\uc57c\\uc5d0 \\ub300\\ud55c \\uc2e4\\ubb34\\uacbd\\ud5d8\\uc774\\ub098 \\uc804\\ubb38\\uc131 \\uc218\\uc900\\uc774 \\ub192\\uc740 \\uc778\\ub825\\uc73c\\ub85c \\uad6c\\uc131\\ub418\\uc5c8\\ub2e4.\", \"\\uac15\\uc0ac\\ub294 \\uc5f0\\uc218\\uc0dd\\uacfc \\uc18c\\ud1b5\\ud558\\uba70 \\uad50\\uc721\\ub0b4\\uc6a9\\uc744 \\uccb4\\uacc4\\uc801\\uc774\\uace0 \\ub2a5\\uc219\\ud558\\uac8c \\uc804\\ub2ec\\ud558\\uc600\\ub2e4\", \"\\ud1b5\\uc5ed\\uc0ac\\ub294 \\uc774\\ud574\\ud558\\uae30 \\uc27d\\ub3c4\\ub85d \\ud1b5\\uc5ed\\ud558\\uc600\\ub2e4. (2-1\\uc5d0\\uc11c \\u2461\\uc5d0 \\uc751\\ub2f5\\ud55c \\uacbd\\uc6b0, \\uc751\\ub2f5\\ud558\\uc9c0 \\uc54a\\uc73c\\uc154\\ub3c4 \\ub429\\ub2c8\\ub2e4)\", \"\\uad6d\\ubcc4\\ubcf4\\uace0/\\uc561\\uc158\\ud50c\\ub79c\\uc758 \\uc8fc\\uc81c\\ub294 \\uc5f0\\uc218\\uacfc\\uc815 \\ubaa9\\ud45c\\uc640 \\uc5f0\\uacc4\\ub418\\uc5b4 \\uc788\\uc5c8\\ub2e4.\", \"\\uad6d\\ubcc4\\ubcf4\\uace0/\\uc561\\uc158\\ud50c\\ub79c \\uc138\\uc158\\uc2dc\\uac04\\uc740 \\ucda9\\ubd84\\ud558\\uc600\\ub2e4.\", \"\\uc561\\uc158\\ud50c\\ub79c \\uc791\\uc131 \\ubc0f \\ubc1c\\ud45c\\ub97c \\uc704\\ud55c \\uc0ac\\uc804\\uc548\\ub0b4\\uac00 \\ucda9\\ubd84\\ud788 \\uc774\\ub8e8\\uc5b4\\uc84c\\ub2e4.\", \"\\uad6d\\ubcc4\\ubcf4\\uace0/\\uc561\\uc158\\ud50c\\ub79c \\uc138\\uc158 \\ub2f4\\ub2f9\\uc790\\ub294 \\ud53c\\ub4dc\\ubc31\\uc744 \\ucda9\\ubd84\\ud788 \\uc81c\\uacf5\\ud558\\uc600\\ub2e4.\", \"\\uad6d\\ubcc4\\ubcf4\\uace0/\\uc561\\uc158\\ud50c\\ub79c \\uc138\\uc158\\uc740 \\uc5f0\\uc218\\ub0b4\\uc6a9\\uc744 \\uc774\\ud574\\ud558\\ub294\\ub370 \\ub3c4\\uc6c0\\uc774 \\ub418\\uc5c8\\ub2e4.\", \"\\uc561\\uc158\\ud50c\\ub79c \\uc791\\uc131\\uc740 \\ud604\\uc7a5\\uc5d0\\uc11c \\uc2e4\\ubb34\\ub2a5\\ub825\\uc744 \\ud5a5\\uc0c1\\uc2dc\\ud0a4\\ub294\\ub370 \\ub3c4\\uc6c0\\uc774 \\ub418\\uc5c8\\ub2e4.\"]}],\n",
              "                        {\"bargap\": 1, \"margin\": {\"l\": 400}, \"title\": {\"text\": \"\\uc5f0\\uc218\\uc0dd\\ub9cc\\uc871\\ub3c4 \\ud3c9\\uac00\"}, \"xaxis\": {\"range\": [1, 5], \"title\": {\"text\": \"\\ub9cc\\uc871\\ub3c4\"}}, \"yaxis\": {\"tickfont\": {\"size\": 10}}},\n",
              "                        {\"showLink\": false, \"linkText\": \"Export to plot.ly\", \"plotlyServerURL\": \"https://plot.ly\", \"responsive\": true}\n",
              "                    ).then(function(){\n",
              "                            \n",
              "var gd = document.getElementById('305cce4d-73dc-4966-b3cc-2ca128a10ba8');\n",
              "var x = new MutationObserver(function (mutations, observer) {{\n",
              "        var display = window.getComputedStyle(gd).display;\n",
              "        if (!display || display === 'none') {{\n",
              "            console.log([gd, 'removed!']);\n",
              "            Plotly.purge(gd);\n",
              "            observer.disconnect();\n",
              "        }}\n",
              "}});\n",
              "\n",
              "// Listen for the removal of the full notebook cells\n",
              "var notebookContainer = gd.closest('#notebook-container');\n",
              "if (notebookContainer) {{\n",
              "    x.observe(notebookContainer, {childList: true});\n",
              "}}\n",
              "\n",
              "// Listen for the clearing of the current output cell\n",
              "var outputEl = gd.closest('.output');\n",
              "if (outputEl) {{\n",
              "    x.observe(outputEl, {childList: true});\n",
              "}}\n",
              "\n",
              "                        })\n",
              "                };\n",
              "                });\n",
              "            </script>\n",
              "        </div>"
            ]
          },
          "metadata": {
            "tags": []
          }
        }
      ]
    },
    {
      "cell_type": "code",
      "metadata": {
        "id": "3FYY5RUCNQ0E",
        "colab_type": "code",
        "colab": {},
        "outputId": "220d33fe-c889-4029-a3c7-ba161a1197e7"
      },
      "source": [
        "plt.figure(figsize=(14, 8))\n",
        "plt.title('문항별 평균값', position=(0.5,1.02), fontsize=20)\n",
        "plt.xlabel('평균값', fontsize=18)\n",
        "plt.ylabel('문항', fontsize=18)\n",
        "plt.xticks(np.arange(0,5.25,0.25), fontsize=15)\n",
        "plt.yticks(fontsize=17)\n",
        "plt.grid()\n",
        "plt.show(sns.barplot('평균값',y='그룹', palette=\"Blues_d\", data =survey_mean_graph))\n",
        "\n",
        "\n",
        "# plt.figure(figsize=(16, 10))\n",
        "# x = survey_mean_graph['평균값']\n",
        "# y = survey_mean_graph['index']\n",
        "\n",
        "# plt.barh(y, x, align='center')\n",
        "# plt.title('문항별 평균값', position=(0.5,1.02), fontsize=20)\n",
        "# plt.xlabel('평균값', fontsize=18)\n",
        "# plt.ylabel('문항', fontsize=18)\n",
        "# plt.xticks(np.arange(0,5.25,0.25), fontsize=15)\n",
        "# plt.yticks(fontsize=15)\n",
        "# plt.show()"
      ],
      "execution_count": 0,
      "outputs": [
        {
          "output_type": "stream",
          "text": [
            "findfont: Font family ['NanumBarunGothic'] not found. Falling back to DejaVu Sans.\n",
            "findfont: Font family ['NanumBarunGothic'] not found. Falling back to DejaVu Sans.\n",
            "findfont: Font family ['NanumBarunGothic'] not found. Falling back to DejaVu Sans.\n",
            "findfont: Font family ['NanumBarunGothic'] not found. Falling back to DejaVu Sans.\n"
          ],
          "name": "stderr"
        },
        {
          "output_type": "display_data",
          "data": {
            "image/png": "[encoded data removed]",
            "text/plain": [
              "<Figure size 1008x576 with 1 Axes>"
            ]
          },
          "metadata": {
            "tags": [],
            "needs_background": "light"
          }
        }
      ]
    },
    {
      "cell_type": "code",
      "metadata": {
        "id": "o5ZjtB5nNQ0F",
        "colab_type": "code",
        "colab": {}
      },
      "source": [
        "survey_mean.groupby('그룹')[['평균값']].mean().sort_values('평균값',ascending=False)"
      ],
      "execution_count": 0,
      "outputs": []
    },
    {
      "cell_type": "markdown",
      "metadata": {
        "id": "oWmfbg7UNQ0G",
        "colab_type": "text"
      },
      "source": [
        "### 연수생만족도 주제 그룹 평균값(사전준비 및 운영시간 관련 항목 제외)"
      ]
    },
    {
      "cell_type": "code",
      "metadata": {
        "id": "pXVAqNeYNQ0G",
        "colab_type": "code",
        "colab": {}
      },
      "source": [
        "survey_grouped = \\\n",
        "survey_mean.drop(['국별보고/액션플랜 세션시간은 충분하였다.', \n",
        "'액션플랜 작성 및 발표를 위한 사전안내가 충분히 이루어졌다.']).groupby('그룹')[['평균값']].mean()"
      ],
      "execution_count": 0,
      "outputs": []
    },
    {
      "cell_type": "code",
      "metadata": {
        "id": "fR77uGnjNQ0H",
        "colab_type": "code",
        "colab": {}
      },
      "source": [
        "survey_grouped.sort_values('평균값',ascending=False)"
      ],
      "execution_count": 0,
      "outputs": []
    },
    {
      "cell_type": "markdown",
      "metadata": {
        "id": "lGXHMS9qNQ0I",
        "colab_type": "text"
      },
      "source": [
        "변경이 가능한(mutable) 자료형이라 삽입, 삭제, 정렬이 가능\n",
        "\n",
        "\n",
        "\n",
        "L = [i*i for i in range(10)]\n",
        "\n",
        "L = [i for i in L if i % 3 == 0]\n",
        "\n",
        "List Comprehensions 방식으로 리스트를 만들 수 있다.\n",
        "\n",
        "(파이썬의 신기하고 편리한 기능)\n",
        "\n",
        "\n",
        "\n",
        "5 in L\n",
        "\n",
        "in, not in 을 사용하여 리스트에 값이 포함되어 있는지 확인 (결과 True, False)\n",
        "\n",
        "\n",
        "\n",
        "L = [1, 2, 3, 4, 5]\n",
        "\n",
        "del(L[2]) # 리스트 특정 인덱스 내용을 삭제\n",
        "\n",
        "del(L) # 리스트 자체를 삭제\n",
        "\n",
        "del함수를 사용하여 리스트를 삭제"
      ]
    },
    {
      "cell_type": "markdown",
      "metadata": {
        "id": "_EV5p1lnNQ0J",
        "colab_type": "text"
      },
      "source": [
        "## 교육전후 교과별 '인지 수준 - 기술 수준 - 태도 수준' 변화 분석"
      ]
    },
    {
      "cell_type": "code",
      "metadata": {
        "scrolled": true,
        "id": "Vje8xMVrNQ0J",
        "colab_type": "code",
        "colab": {}
      },
      "source": [
        "eval_all.reset_index(inplace=True)\n",
        "eval_all.head()"
      ],
      "execution_count": 0,
      "outputs": []
    },
    {
      "cell_type": "code",
      "metadata": {
        "id": "7c07SNxoNQ0K",
        "colab_type": "code",
        "colab": {}
      },
      "source": [
        "eval_all_pre_post = eval_all[['성명','교육전: A교과에 대한 인지 수준','교육후: A교과에 대한 인지 수준',\n",
        "       '교육전: A교과에 대한 기술 수준', '교육후: A교과에 대한 기술 수준',\n",
        "       '교육전: A교과에 대한 태도 수준','교육후: A교과에 대한 태도 수준',\n",
        "       '교육전: B교과에 대한 인지 수준', '교육후: B교과에 대한 인지 수준',\n",
        "       '교육전: B교과에 대한 기술 수준','교육후: B교과에 대한 기술 수준',\n",
        "       '교육전: B교과에 대한 태도 수준','교육후: B교과에 대한 태도 수준',\n",
        "       '교육전: C교과에 대한 인지 수준', '교육후: C교과에 대한 인지 수준',\n",
        "       '교육전: C교과에 대한 기술 수준','교육후: C교과에 대한 기술 수준',\n",
        "       '교육전: C교과에 대한 태도 수준', '교육후: C교과에 대한 태도 수준']]\n",
        "\n",
        "#  = eval_all_pre_post = pd.concat([eval_all_pre, eval_all_post.iloc[:, 1: ]],axis=1)\n",
        "\n",
        "eval_all_post = eval_all[['성명','교육후: A교과에 대한 인지 수준',\n",
        "       '교육후: A교과에 대한 기술 수준', '교육후: A교과에 대한 태도 수준',\n",
        "       '교육후: B교과에 대한 인지 수준','교육후: B교과에 대한 기술 수준',\n",
        "       '교육후: B교과에 대한 태도 수준','교육후: C교과에 대한 인지 수준',\n",
        "       '교육후: C교과에 대한 기술 수준','교육후: C교과에 대한 태도 수준']]\n",
        "eval_all_pre = eval_all[['성명','교육전: A교과에 대한 인지 수준',\n",
        "       '교육전: A교과에 대한 기술 수준', '교육전: A교과에 대한 태도 수준',\n",
        "       '교육전: B교과에 대한 인지 수준','교육전: B교과에 대한 기술 수준',\n",
        "       '교육전: B교과에 대한 태도 수준','교육전: C교과에 대한 인지 수준',\n",
        "       '교육전: C교과에 대한 기술 수준','교육전: C교과에 대한 태도 수준']]"
      ],
      "execution_count": 0,
      "outputs": []
    },
    {
      "cell_type": "markdown",
      "metadata": {
        "id": "b77Uyb16NQ0L",
        "colab_type": "text"
      },
      "source": [
        "* A교과: Understanding Public-Private Partnership and Its Applicability to Developing Countries (PPP와 개도국에 대한 PPP적용방법에 대한 이해)\n",
        "* B교과: Applicable Water Quality Improvement Technique for Developing Countries (개도국을 위한 적용가능한 수질개선기술)\n",
        "* C교과: Developing a Media City and Road and Traffic Facility for Developing Countries (개도국을 위한 미디어시티, 도로, 교통시설 개발)"
      ]
    },
    {
      "cell_type": "code",
      "metadata": {
        "id": "veuKePbcNQ0M",
        "colab_type": "code",
        "colab": {}
      },
      "source": [
        "# 평균 계산을 위해 object를 float64로 변경\n",
        "eval_all_pre_post['교육전: A교과에 대한 인지 수준'] = eval_all_pre_post['교육전: A교과에 대한 인지 수준'].astype('float64')\n",
        "eval_all_pre_post['교육전: B교과에 대한 인지 수준'] = eval_all_pre_post['교육전: B교과에 대한 인지 수준'].astype('float64')\n",
        "eval_all_pre_post['교육전: C교과에 대한 인지 수준'] = eval_all_pre_post['교육전: C교과에 대한 인지 수준'].astype('float64')\n",
        "eval_all_pre_post['교육후: A교과에 대한 인지 수준'] = eval_all_pre_post['교육후: A교과에 대한 인지 수준'].astype('float64')\n",
        "eval_all_pre_post['교육후: B교과에 대한 인지 수준'] = eval_all_pre_post['교육후: B교과에 대한 인지 수준'].astype('float64')\n",
        "eval_all_pre_post['교육후: C교과에 대한 인지 수준'] = eval_all_pre_post['교육후: C교과에 대한 인지 수준'].astype('float64')\n",
        "\n",
        "eval_all_pre_post['교육전: A교과에 대한 기술 수준'] = eval_all_pre_post['교육전: A교과에 대한 기술 수준'].astype('float64')\n",
        "eval_all_pre_post['교육전: B교과에 대한 기술 수준'] = eval_all_pre_post['교육전: B교과에 대한 기술 수준'].astype('float64')\n",
        "eval_all_pre_post['교육전: C교과에 대한 기술 수준'] = eval_all_pre_post['교육전: C교과에 대한 기술 수준'].astype('float64')\n",
        "eval_all_pre_post['교육후: A교과에 대한 기술 수준'] = eval_all_pre_post['교육후: A교과에 대한 기술 수준'].astype('float64')\n",
        "eval_all_pre_post['교육후: B교과에 대한 기술 수준'] = eval_all_pre_post['교육후: B교과에 대한 기술 수준'].astype('float64')\n",
        "eval_all_pre_post['교육후: C교과에 대한 기술 수준'] = eval_all_pre_post['교육후: C교과에 대한 기술 수준'].astype('float64')\n",
        "\n",
        "eval_all_pre_post['교육전: A교과에 대한 태도 수준'] = eval_all_pre_post['교육전: A교과에 대한 태도 수준'].astype('float64')\n",
        "eval_all_pre_post['교육전: B교과에 대한 태도 수준'] = eval_all_pre_post['교육전: B교과에 대한 태도 수준'].astype('float64')\n",
        "eval_all_pre_post['교육전: C교과에 대한 태도 수준'] = eval_all_pre_post['교육전: C교과에 대한 태도 수준'].astype('float64')\n",
        "eval_all_pre_post['교육후: A교과에 대한 태도 수준'] = eval_all_pre_post['교육후: A교과에 대한 태도 수준'].astype('float64')\n",
        "eval_all_pre_post['교육후: B교과에 대한 태도 수준'] = eval_all_pre_post['교육후: B교과에 대한 태도 수준'].astype('float64')\n",
        "eval_all_pre_post['교육후: C교과에 대한 태도 수준'] = eval_all_pre_post['교육후: C교과에 대한 태도 수준'].astype('float64')"
      ],
      "execution_count": 0,
      "outputs": []
    },
    {
      "cell_type": "code",
      "metadata": {
        "id": "BC9IwjEyNQ0O",
        "colab_type": "code",
        "colab": {}
      },
      "source": [
        "eval_all_pre_post = eval_all_pre_post.append(eval_all_pre_post.mean(skipna=True, axis=0), ignore_index=True)\n",
        "eval_all_pre_post.loc[13,'성명'] = ['평균']\n",
        "eval_all_pre_post = eval_all_pre_post.set_index('성명').filter(like='교육후', axis=1)\n",
        "eval_all_pre_post"
      ],
      "execution_count": 0,
      "outputs": []
    },
    {
      "cell_type": "code",
      "metadata": {
        "id": "Sq9835JGNQ0V",
        "colab_type": "code",
        "colab": {}
      },
      "source": [
        "eval_all_post_graph = eval_all_pre_post.rename(columns={'교육후: A교과에 대한 인지 수준':'A교과에 대한 인지 수준', '교육후: A교과에 대한 기술 수준':'A교과에 대한 기술 수준', '교육후: A교과에 대한 태도 수준':'A교과에 대한 태도 수준',\n",
        "                                                         '교육후: B교과에 대한 인지 수준':'B교과에 대한 인지 수준', '교육후: B교과에 대한 기술 수준':'B교과에 대한 기술 수준', '교육후: B교과에 대한 태도 수준':'B교과에 대한 태도 수준',\n",
        "                                                         '교육후: C교과에 대한 인지 수준':'C교과에 대한 인지 수준', '교육후: C교과에 대한 기술 수준':'C교과에 대한 기술 수준', '교육후: C교과에 대한 태도 수준':'C교과에 대한 태도 수준'})\n",
        "eval_all_post_graph"
      ],
      "execution_count": 0,
      "outputs": []
    },
    {
      "cell_type": "code",
      "metadata": {
        "id": "8svuTPjeNQ0V",
        "colab_type": "code",
        "colab": {}
      },
      "source": [
        "# eval_all_post_graph 칼럼 순서 변경\n",
        "eval_all_post_graph = pd.DataFrame(eval_all_post_graph,columns=['A교과에 대한 인지 수준', 'B교과에 대한 인지 수준', 'C교과에 대한 인지 수준',\n",
        "                                                              'A교과에 대한 기술 수준', 'B교과에 대한 기술 수준', 'C교과에 대한 기술 수준',\n",
        "                                                              'A교과에 대한 태도 수준', 'B교과에 대한 태도 수준', 'C교과에 대한 태도 수준'])\n",
        "eval_all_post_graph"
      ],
      "execution_count": 0,
      "outputs": []
    },
    {
      "cell_type": "code",
      "metadata": {
        "id": "pUHSzn8ZNQ0W",
        "colab_type": "code",
        "colab": {}
      },
      "source": [
        "# eval_all_post_graph 에서 특이값 Dana PHAL 제외 시 평균 결과\n",
        "eval_all_post_remove_outlier = eval_all_post_graph.drop(eval_all_post_graph.index[[2,13]])\n",
        "pd.DataFrame(eval_all_post_remove_outlier.mean(), columns=['평균']).T\n",
        "# .drop(eval_all_post_graph.index[[0,2,3,4,5,6,7]])"
      ],
      "execution_count": 0,
      "outputs": []
    },
    {
      "cell_type": "code",
      "metadata": {
        "id": "bIRmOX26NQ0X",
        "colab_type": "code",
        "colab": {}
      },
      "source": [
        "plt.figure(figsize=(16, 10))\n",
        "\n",
        "index=np.arange(len(eval_all_post_graph.loc['평균',:]))\n",
        "plt.barh(eval_all_post_graph.columns, eval_all_post_graph.loc['평균',:], align='center')\n",
        "plt.title(\"교육후 교과별 '인지-기술-태도' 수준 평균\",position=(0.5,1.02), fontsize=20)\n",
        "plt.ylabel(\"교과별 '인지-기술-태도' 수준\", fontsize=18)\n",
        "plt.xlabel('수준 측정값', fontsize=18)\n",
        "plt.xticks(np.arange(0,5.25,0.25), fontsize=15)\n",
        "plt.yticks(fontsize=15)\n",
        "plt.grid(True)\n",
        " \n",
        "plt.show()"
      ],
      "execution_count": 0,
      "outputs": []
    },
    {
      "cell_type": "markdown",
      "metadata": {
        "id": "PS4r_8W3NQ0X",
        "colab_type": "text"
      },
      "source": [
        "### 'PPP와 개도국에 대한 PPP적용방법에 대한 이해 (A교과)'에 대한 참가자별 '인지 - 기술 - 태도' 수준 변화"
      ]
    },
    {
      "cell_type": "markdown",
      "metadata": {
        "id": "LA23vMH0NQ0Y",
        "colab_type": "text"
      },
      "source": [
        "#### A교과에 대한 인지 수준 변화"
      ]
    },
    {
      "cell_type": "code",
      "metadata": {
        "id": "uxGWHzWLNQ0Y",
        "colab_type": "code",
        "colab": {}
      },
      "source": [
        "# '교육전 전반적 이해 수준 변화 수준의 오름차순'으로 정렬 된 '교육전후 전반적 이해 수준 변화 수준'과 'Name'열로 된 DataFrame으로  \n",
        "# 각각 'Name'  '교육전 전반적 이해 수준 변화 수준' 데이터프레임을 .concat한 후 이를 오름차순. 그 후 reset_index\n",
        "\n",
        "df_cog_a = pd.concat([eval_all['성명'],\n",
        "                           eval_all['교육후: A교과에 대한 인지 수준'],\n",
        "                           eval_all['교육전: A교과에 대한 인지 수준']\n",
        "                          ],axis=1)\n",
        "\n",
        "df_cog_a['교육전후 A교과에 대한 인지 수준 변화'] = \\\n",
        "                           eval_all['교육후: A교과에 대한 인지 수준'] - \\\n",
        "                           eval_all[\"교육전: A교과에 대한 인지 수준\"]\n",
        "\n",
        "df_cog_a_bef_af_gap = df_cog_a.sort_values(by='교육전후 A교과에 대한 인지 수준 변화',\n",
        "                            ascending=True).reset_index(drop='index')\n",
        "\n",
        "df_cog_a_bef_af_gap"
      ],
      "execution_count": 0,
      "outputs": []
    },
    {
      "cell_type": "code",
      "metadata": {
        "id": "WeyVCiSfNQ0Y",
        "colab_type": "code",
        "colab": {}
      },
      "source": [
        "plt.figure(figsize=(16, 10))\n",
        "# height = 0.35\n",
        "index=np.arange(len(df_cog_a_bef_af_gap))\n",
        "p1 = plt.barh(index, df_cog_a_bef_af_gap[\"교육전: A교과에 대한 인지 수준\"],  \n",
        "              align='center', label='Pre-Training')\n",
        "p2 = plt.barh(index, df_cog_a_bef_af_gap['교육후: A교과에 대한 인지 수준'],  \n",
        "              align='center', label='Post-Training', left=df_cog_a_bef_af_gap[\"교육전: A교과에 대한 인지 수준\"])\n",
        "\n",
        "plt.title('교육전후 A교과에 대한 인지 수준\\n(A교과: PPP와 개도국에 대한 PPP적용방법에 대한 이해)',\n",
        "          position=(0.5,1.02), fontsize=20)\n",
        "plt.ylabel('성명', fontsize=18)\n",
        "plt.xlabel('인지 수준', fontsize=18)\n",
        "plt.xticks(fontsize=15)\n",
        "plt.yticks(index, df_cog_a_bef_af_gap['성명'], fontsize=15)\n",
        "plt.legend((p1[0], p2[0]), ('Pre-Training', 'Post-Training'), fontsize=18)\n",
        "plt.show()\n",
        "\n",
        "# for i, rect in enumerate(p1):\n",
        "#     plt.text(0.95 * rect.get_width(), rect.get_y() + rect.get_height() / 2.0,\n",
        "#          str(df_cog_a_bef_af_gap[\"교육전: A교과에 대한 인지 수준 변화\"][i]),\n",
        "#          fontsize=15, color='w', ha='right', va='center')"
      ],
      "execution_count": 0,
      "outputs": []
    },
    {
      "cell_type": "code",
      "metadata": {
        "id": "WpB5LfhhNQ0Z",
        "colab_type": "code",
        "colab": {}
      },
      "source": [
        "plt.figure(figsize=(16, 10))\n",
        "# height = 0.35\n",
        "index=np.arange(len(df_cog_a_bef_af_gap))\n",
        "plt.barh(index, df_cog_a_bef_af_gap['교육전후 A교과에 대한 인지 수준 변화'], align='center', label='교육후 인지 수준 - 교육전 인지 수준')\n",
        "plt.title('교육전후 A교과에 대한 인지 수준 변화 측정 \\n(A교과: PPP와 개도국에 대한 PPP적용방법에 대한 이해)',\n",
        "          position=(0.5,1.02), fontsize=20)\n",
        "plt.ylabel('성명', fontsize=18)\n",
        "plt.xlabel('인지 수준 변화 측정값', fontsize=18)\n",
        "plt.xticks(fontsize=15)\n",
        "plt.yticks(index, df_cog_a_bef_af_gap['성명'], fontsize=15)\n",
        "plt.legend(fontsize=18)\n",
        "# for i, rect in enumerate(p1):\n",
        "#     plt.text(0.95 * rect.get_width(), rect.get_y() + rect.get_height() / 2.0,\n",
        "#          str(df_cog_a_bef_af_gap[\"교육전: A교과에 대한 인지 수준 변화\"][i]),\n",
        "#          fontsize=15, color='w', ha='right', va='center')\n",
        "\n",
        "plt.show()"
      ],
      "execution_count": 0,
      "outputs": []
    },
    {
      "cell_type": "markdown",
      "metadata": {
        "id": "cbqWpwZENQ0b",
        "colab_type": "text"
      },
      "source": [
        "#### A교과에 대한 기술 수준 변화"
      ]
    },
    {
      "cell_type": "code",
      "metadata": {
        "id": "4p20wGtlNQ0b",
        "colab_type": "code",
        "colab": {}
      },
      "source": [
        "# '교육전 전반적 이해 수준 변화 수준의 오름차순'으로 정렬 된 '교육전후 전반적 이해 수준 변화 수준'과 'Name'열로 된 DataFrame으로  \n",
        "# 각각 'Name'  '교육전 전반적 이해 수준 변화 수준' 데이터프레임을 .concat한 후 이를 오름차순. 그 후 reset_index\n",
        "\n",
        "\n",
        "df_tech_a = pd.concat([eval_all['성명'],\n",
        "                           eval_all['교육후: A교과에 대한 기술 수준'],\n",
        "                           eval_all['교육전: A교과에 대한 기술 수준'],\n",
        "                          ],axis=1)\n",
        "\n",
        "df_tech_a['교육전후 A교과에 대한 기술 수준 변화'] = \\\n",
        "                           eval_all['교육후: A교과에 대한 기술 수준'] - \\\n",
        "                           eval_all['교육전: A교과에 대한 기술 수준']\n",
        "\n",
        "df_tech_a_bef_af_gap = df_tech_a.sort_values(by='교육전후 A교과에 대한 기술 수준 변화',\n",
        "                            ascending=True).reset_index(drop='index')\n",
        "\n",
        "df_tech_a_bef_af_gap"
      ],
      "execution_count": 0,
      "outputs": []
    },
    {
      "cell_type": "code",
      "metadata": {
        "id": "unvcV13VNQ0f",
        "colab_type": "code",
        "colab": {}
      },
      "source": [
        "plt.figure(figsize=(16, 10))\n",
        "# height = 0.35\n",
        "index=np.arange(len(df_tech_a_bef_af_gap))\n",
        "p1 = plt.barh(index, df_tech_a_bef_af_gap[\"교육전: A교과에 대한 기술 수준\"],  \n",
        "              align='center', label='Pre-Training')\n",
        "p2 = plt.barh(index, df_tech_a_bef_af_gap['교육후: A교과에 대한 기술 수준'],  \n",
        "              align='center', label='Post-Training', left=df_tech_a_bef_af_gap[\"교육전: A교과에 대한 기술 수준\"])\n",
        "\n",
        "plt.title('교육전후 A교과에 대한 기술 수준\\n(A교과: PPP와 개도국에 대한 PPP적용방법에 대한 이해)',\n",
        "          position=(0.5,1.02), fontsize=20)\n",
        "plt.ylabel('성명', fontsize=18)\n",
        "plt.xlabel('기술 수준', fontsize=18)\n",
        "plt.xticks(fontsize=15)\n",
        "plt.yticks(index, df_tech_a_bef_af_gap['성명'], fontsize=15)\n",
        "plt.legend((p1[0], p2[0]), ('Pre-Training', 'Post-Training'), fontsize=18)\n",
        "plt.show()"
      ],
      "execution_count": 0,
      "outputs": []
    },
    {
      "cell_type": "code",
      "metadata": {
        "id": "q1pYge1WNQ0g",
        "colab_type": "code",
        "colab": {}
      },
      "source": [
        "plt.figure(figsize=(16, 10))\n",
        "# height = 0.35\n",
        "index=np.arange(len(df_tech_a_bef_af_gap))\n",
        "plt.barh(index, df_tech_a_bef_af_gap['교육전후 A교과에 대한 기술 수준 변화'], align='center', label='교육후 기술 수준 - 교육전 기술 수준')\n",
        "plt.title('A교과에 대한 기술 수준 변화 측정\\n(A교과: PPP와 개도국에 대한 PPP적용방법에 대한 이해)',\n",
        "          position=(0.5,1.02), fontsize=20)\n",
        "plt.ylabel('성명', fontsize=18)\n",
        "plt.xlabel('기술 수준 변화 측정값', fontsize=18)\n",
        "plt.xticks(fontsize=15)\n",
        "plt.yticks(index, df_tech_a_bef_af_gap['성명'], fontsize=15)\n",
        "plt.legend(fontsize=18)\n",
        " \n",
        "plt.show()"
      ],
      "execution_count": 0,
      "outputs": []
    },
    {
      "cell_type": "markdown",
      "metadata": {
        "id": "pspSoWfCNQ0h",
        "colab_type": "text"
      },
      "source": [
        "#### A교과에 대한 태도 수준 변화 "
      ]
    },
    {
      "cell_type": "code",
      "metadata": {
        "colab_type": "code",
        "hide_input": true,
        "id": "Pyvqz1ua30hW",
        "colab": {}
      },
      "source": [
        "# '교육전 전반적 이해 수준 변화 수준의 오름차순'으로 정렬 된 '교육전후 전반적 이해 수준 변화 수준'과 'Name'열로 된 DataFrame으로  \n",
        "# 각각 'Name'  '교육전 전반적 이해 수준 변화 수준' 데이터프레임을 .concat한 후 이를 오름차순. 그 후 reset_index\n",
        "\n",
        "\n",
        "df_atti_a = pd.concat([eval_all['성명'],\n",
        "                           eval_all['교육후: A교과에 대한 태도 수준'],\n",
        "                           eval_all['교육전: A교과에 대한 태도 수준'],\n",
        "                          ],axis=1)\n",
        "\n",
        "df_atti_a['교육전후 A교과에 대한 태도 수준 변화'] = \\\n",
        "                           eval_all['교육후: A교과에 대한 태도 수준'] - \\\n",
        "                           eval_all['교육전: A교과에 대한 태도 수준']\n",
        "\n",
        "df_atti_a_bef_af_gap = df_atti_a.sort_values(by='교육전후 A교과에 대한 태도 수준 변화',\n",
        "                            ascending=True).reset_index(drop='index')\n",
        "\n",
        "df_atti_a_bef_af_gap"
      ],
      "execution_count": 0,
      "outputs": []
    },
    {
      "cell_type": "code",
      "metadata": {
        "id": "geolNgI6NQ0i",
        "colab_type": "code",
        "colab": {}
      },
      "source": [
        "plt.figure(figsize=(16, 10))\n",
        "# height = 0.35\n",
        "index=np.arange(len(df_atti_a_bef_af_gap))\n",
        "p1 = plt.barh(index, df_atti_a_bef_af_gap[\"교육전: A교과에 대한 태도 수준\"],  \n",
        "              align='center', label='Pre-Training')\n",
        "p2 = plt.barh(index, df_atti_a_bef_af_gap['교육후: A교과에 대한 태도 수준'],  \n",
        "              align='center', label='Post-Training', left=df_atti_a_bef_af_gap[\"교육전: A교과에 대한 태도 수준\"])\n",
        "\n",
        "plt.title('교육전후 A교과에 대한 태도 수준\\n(A교과: PPP와 개도국에 대한 PPP적용방법에 대한 이해)',\n",
        "          position=(0.5,1.02), fontsize=20)\n",
        "plt.ylabel('성명', fontsize=18)\n",
        "plt.xlabel('태도 수준', fontsize=18)\n",
        "plt.xticks(fontsize=15)\n",
        "plt.yticks(index, df_atti_a_bef_af_gap['성명'], fontsize=15)\n",
        "plt.legend((p1[0], p2[0]), ('Pre-Training', 'Post-Training'), fontsize=18)\n",
        "plt.show()"
      ],
      "execution_count": 0,
      "outputs": []
    },
    {
      "cell_type": "code",
      "metadata": {
        "id": "KuH5C2F3NQ0i",
        "colab_type": "code",
        "colab": {}
      },
      "source": [
        "plt.figure(figsize=(16, 10))\n",
        "# height = 0.35\n",
        "index=np.arange(len(df_atti_a_bef_af_gap))\n",
        "\n",
        "plt.barh(index, df_atti_a_bef_af_gap['교육전후 A교과에 대한 태도 수준 변화'], align='center', label='교육후 태도 수준 - 교육전 태도 수준')\n",
        "plt.title('A교과에 대한 태도 수준 변화 측정\\n(A교과: PPP와 개도국에 대한 PPP적용방법에 대한 이해)',\n",
        "          position=(0.5,1.02), fontsize=20)\n",
        "plt.ylabel('성명', fontsize=18)\n",
        "plt.xlabel('태도 수준 변화 측정값', fontsize=18)\n",
        "plt.xticks(fontsize=15)\n",
        "plt.yticks(index, df_atti_a_bef_af_gap['성명'], fontsize=15)\n",
        "plt.legend(fontsize=18)\n",
        " \n",
        "plt.show()"
      ],
      "execution_count": 0,
      "outputs": []
    },
    {
      "cell_type": "markdown",
      "metadata": {
        "id": "SFpqPuThNQ0j",
        "colab_type": "text"
      },
      "source": [
        "### '개도국을 위한 적용가능한 수질개선기술 (B교과)'에 대한 참가자별 '인지 - 기술 - 태도' 수준 변화"
      ]
    },
    {
      "cell_type": "markdown",
      "metadata": {
        "id": "X-_HbH7uNQ0j",
        "colab_type": "text"
      },
      "source": [
        "#### B교과에 대한 인지 수준 변화"
      ]
    },
    {
      "cell_type": "code",
      "metadata": {
        "id": "_gnTsTBkNQ0k",
        "colab_type": "code",
        "colab": {}
      },
      "source": [
        "# '교육전 전반적 이해 수준 변화 수준의 오름차순'으로 정렬 된 '교육전후 전반적 이해 수준 변화 수준'과 'Name'열로 된 DataFrame으로  \n",
        "# 각각 'Name'  '교육전 전반적 이해 수준 변화 수준' 데이터프레임을 .concat한 후 이를 오름차순. 그 후 reset_index\n",
        "\n",
        "df_cog_b = pd.concat([eval_all['성명'],\n",
        "                           eval_all['교육후: B교과에 대한 인지 수준'],\n",
        "                           eval_all['교육전: B교과에 대한 인지 수준']\n",
        "                          ],axis=1)\n",
        "\n",
        "df_cog_b['교육전후 B교과에 대한 인지 수준 변화'] = \\\n",
        "                           eval_all['교육후: B교과에 대한 인지 수준'] - \\\n",
        "                           eval_all[\"교육전: B교과에 대한 인지 수준\"]\n",
        "\n",
        "df_cog_b_bef_af_gap = df_cog_b.sort_values(by='교육전후 B교과에 대한 인지 수준 변화',\n",
        "                            ascending=True).reset_index(drop='index')\n",
        "\n",
        "df_cog_b_bef_af_gap"
      ],
      "execution_count": 0,
      "outputs": []
    },
    {
      "cell_type": "code",
      "metadata": {
        "id": "LhI0SQGiNQ0k",
        "colab_type": "code",
        "colab": {}
      },
      "source": [
        "plt.figure(figsize=(16, 10))\n",
        "# height = 0.35\n",
        "index=np.arange(len(df_cog_b_bef_af_gap))\n",
        "p1 = plt.barh(index, df_cog_b_bef_af_gap[\"교육전: B교과에 대한 인지 수준\"],  \n",
        "              align='center', label='Pre-Training')\n",
        "p2 = plt.barh(index, df_cog_b_bef_af_gap['교육후: B교과에 대한 인지 수준'],  \n",
        "              align='center', label='Post-Training', left=df_cog_b_bef_af_gap[\"교육전: B교과에 대한 인지 수준\"])\n",
        "\n",
        "plt.title('교육전후 B교과에 대한 인지 수준\\n(B교과: 개도국을 위한 적용가능한 수질개선기술)',\n",
        "          position=(0.5,1.02), fontsize=20)\n",
        "plt.ylabel('성명', fontsize=18)\n",
        "plt.xlabel('인지 수준', fontsize=18)\n",
        "plt.xticks(fontsize=15)\n",
        "plt.yticks(index, df_cog_b_bef_af_gap['성명'], fontsize=15)\n",
        "plt.legend((p1[0], p2[0]), ('Pre-Training', 'Post-Training'), fontsize=18)\n",
        "plt.show()\n",
        "\n",
        "# for i, rect in enumerate(p1):\n",
        "#     plt.text(0.95 * rect.get_width(), rect.get_y() + rect.get_height() / 2.0,\n",
        "#          str(df_cog_b_bef_af_gap[\"교육전: B교과에 대한 인지 수준 변화\"][i]),\n",
        "#          fontsize=15, color='w', ha='right', va='center')"
      ],
      "execution_count": 0,
      "outputs": []
    },
    {
      "cell_type": "code",
      "metadata": {
        "id": "jWLGQfymNQ0l",
        "colab_type": "code",
        "colab": {}
      },
      "source": [
        "plt.figure(figsize=(16, 10))\n",
        "# height = 0.35\n",
        "index=np.arange(len(df_cog_b_bef_af_gap))\n",
        "plt.barh(index, df_cog_b_bef_af_gap['교육전후 B교과에 대한 인지 수준 변화'], align='center', label='교육후 인지 수준 - 교육전 인지 수준')\n",
        "plt.title('B교과에 대한 인지 수준 변화 측정 \\n(B교과: 개도국을 위한 적용가능한 수질개선기술)',\n",
        "          position=(0.5,1.02), fontsize=20)\n",
        "plt.ylabel('성명', fontsize=18)\n",
        "plt.xlabel('인지 수준 변화 측정값', fontsize=18)\n",
        "plt.xticks(fontsize=15)\n",
        "plt.yticks(index, df_cog_b_bef_af_gap['성명'], fontsize=15)\n",
        "plt.legend(fontsize=18)\n",
        "# for i, rect in enumerate(p1):\n",
        "#     plt.text(0.95 * rect.get_width(), rect.get_y() + rect.get_height() / 2.0,\n",
        "#          str(df_cog_b_bef_af_gap[\"교육전: B교과에 대한 인지 수준 변화\"][i]),\n",
        "#          fontsize=15, color='w', ha='right', va='center')\n",
        "\n",
        "plt.show()\n",
        "\n"
      ],
      "execution_count": 0,
      "outputs": []
    },
    {
      "cell_type": "markdown",
      "metadata": {
        "id": "u16PuCk5NQ0m",
        "colab_type": "text"
      },
      "source": [
        "#### B교과에 대한 기술 수준 변화"
      ]
    },
    {
      "cell_type": "code",
      "metadata": {
        "id": "Csjs-jXhNQ0m",
        "colab_type": "code",
        "colab": {}
      },
      "source": [
        "# '교육전 전반적 이해 수준 변화 수준의 오름차순'으로 정렬 된 '교육전후 전반적 이해 수준 변화 수준'과 'Name'열로 된 DataFrame으로  \n",
        "# 각각 'Name'  '교육전 전반적 이해 수준 변화 수준' 데이터프레임을 .concat한 후 이를 오름차순. 그 후 reset_index\n",
        "\n",
        "\n",
        "df_tech_b = pd.concat([eval_all['성명'],\n",
        "                           eval_all['교육후: B교과에 대한 기술 수준'],\n",
        "                           eval_all['교육전: B교과에 대한 기술 수준'],\n",
        "                          ],axis=1)\n",
        "\n",
        "df_tech_b['교육전후 B교과에 대한 기술 수준 변화'] = \\\n",
        "                           eval_all['교육후: B교과에 대한 기술 수준'] - \\\n",
        "                           eval_all['교육전: B교과에 대한 기술 수준']\n",
        "\n",
        "df_tech_b_bef_af_gap = df_tech_b.sort_values(by='교육전후 B교과에 대한 기술 수준 변화',\n",
        "                            ascending=True).reset_index(drop='index')\n",
        "\n",
        "df_tech_b_bef_af_gap"
      ],
      "execution_count": 0,
      "outputs": []
    },
    {
      "cell_type": "code",
      "metadata": {
        "id": "eW7Ijg_qNQ0n",
        "colab_type": "code",
        "colab": {}
      },
      "source": [
        "plt.figure(figsize=(16, 10))\n",
        "# height = 0.35\n",
        "index=np.arange(len(df_tech_b_bef_af_gap))\n",
        "p1 = plt.barh(index, df_tech_b_bef_af_gap[\"교육전: B교과에 대한 기술 수준\"],  \n",
        "              align='center', label='Pre-Training')\n",
        "p2 = plt.barh(index, df_tech_b_bef_af_gap['교육후: B교과에 대한 기술 수준'],  \n",
        "              align='center', label='Post-Training', left=df_tech_b_bef_af_gap[\"교육전: B교과에 대한 기술 수준\"])\n",
        "\n",
        "plt.title('교육전후 B교과에 대한 기술 수준\\n(B교과: 개도국을 위한 적용가능한 수질개선기술)',\n",
        "          position=(0.5,1.02), fontsize=20)\n",
        "plt.ylabel('성명', fontsize=18)\n",
        "plt.xlabel('기술 수준', fontsize=18)\n",
        "plt.xticks(fontsize=15)\n",
        "plt.yticks(index, df_tech_b_bef_af_gap['성명'], fontsize=15)\n",
        "plt.legend((p1[0], p2[0]), ('Pre-Training', 'Post-Training'), fontsize=18)\n",
        "plt.show()"
      ],
      "execution_count": 0,
      "outputs": []
    },
    {
      "cell_type": "code",
      "metadata": {
        "id": "PqgEbluxNQ0o",
        "colab_type": "code",
        "colab": {}
      },
      "source": [
        "plt.figure(figsize=(16, 10))\n",
        "# height = 0.35\n",
        "index=np.arange(len(df_tech_b_bef_af_gap))\n",
        "plt.barh(index, df_tech_b_bef_af_gap['교육전후 B교과에 대한 기술 수준 변화'], align='center', label='교육후 기술 수준 - 교육전 기술 수준')\n",
        "plt.title('B교과에 대한 기술 수준 변화 측정\\n(B교과: 개도국을 위한 적용가능한 수질개선기술)',\n",
        "          position=(0.5,1.02), fontsize=20)\n",
        "plt.ylabel('성명', fontsize=18)\n",
        "plt.xlabel('기술 수준 변화 측정값', fontsize=18)\n",
        "plt.xticks(fontsize=15)\n",
        "plt.yticks(index, df_tech_b_bef_af_gap['성명'], fontsize=15)\n",
        "plt.legend(fontsize=18)\n",
        " \n",
        "plt.show()"
      ],
      "execution_count": 0,
      "outputs": []
    },
    {
      "cell_type": "markdown",
      "metadata": {
        "id": "-p43cH2hNQ0p",
        "colab_type": "text"
      },
      "source": [
        "#### B교과에 대한 태도 수준 변화 "
      ]
    },
    {
      "cell_type": "code",
      "metadata": {
        "id": "oPFWrRtwNQ0p",
        "colab_type": "code",
        "colab": {}
      },
      "source": [
        "# '교육전 전반적 이해 수준 변화 수준의 오름차순'으로 정렬 된 '교육전후 전반적 이해 수준 변화 수준'과 'Name'열로 된 DataFrame으로  \n",
        "# 각각 'Name'  '교육전 전반적 이해 수준 변화 수준' 데이터프레임을 .concat한 후 이를 오름차순. 그 후 reset_index\n",
        "\n",
        "\n",
        "df_atti_b = pd.concat([eval_all['성명'],\n",
        "                           eval_all['교육후: B교과에 대한 태도 수준'],\n",
        "                           eval_all['교육전: B교과에 대한 태도 수준'],\n",
        "                          ],axis=1)\n",
        "\n",
        "df_atti_b['교육전후 B교과에 대한 태도 수준 변화'] = \\\n",
        "                           eval_all['교육후: B교과에 대한 태도 수준'] - \\\n",
        "                           eval_all['교육전: B교과에 대한 태도 수준']\n",
        "\n",
        "df_atti_b_bef_af_gap = df_atti_b.sort_values(by='교육전후 B교과에 대한 태도 수준 변화',\n",
        "                            ascending=True).reset_index(drop='index')\n",
        "\n",
        "df_atti_b_bef_af_gap"
      ],
      "execution_count": 0,
      "outputs": []
    },
    {
      "cell_type": "code",
      "metadata": {
        "id": "mHfcldvaNQ0q",
        "colab_type": "code",
        "colab": {}
      },
      "source": [
        "plt.figure(figsize=(16, 10))\n",
        "# height = 0.35\n",
        "index=np.arange(len(df_atti_b_bef_af_gap))\n",
        "p1 = plt.barh(index, df_atti_b_bef_af_gap[\"교육전: B교과에 대한 태도 수준\"],  \n",
        "              align='center', label='Pre-Training')\n",
        "p2 = plt.barh(index, df_atti_b_bef_af_gap['교육후: B교과에 대한 태도 수준'],  \n",
        "              align='center', label='Post-Training', left=df_atti_b_bef_af_gap[\"교육전: B교과에 대한 태도 수준\"])\n",
        "\n",
        "plt.title('교육전후 B교과에 대한 태도 수준\\n(B교과: 개도국을 위한 적용가능한 수질개선기술)',\n",
        "          position=(0.5,1.02), fontsize=20)\n",
        "plt.ylabel('성명', fontsize=18)\n",
        "plt.xlabel('태도 수준', fontsize=18)\n",
        "plt.xticks(fontsize=15)\n",
        "plt.yticks(index, df_atti_b_bef_af_gap['성명'], fontsize=15)\n",
        "plt.legend((p1[0], p2[0]), ('Pre-Training', 'Post-Training'), fontsize=18)\n",
        "plt.show()"
      ],
      "execution_count": 0,
      "outputs": []
    },
    {
      "cell_type": "code",
      "metadata": {
        "id": "zak7zWuSNQ0r",
        "colab_type": "code",
        "colab": {}
      },
      "source": [
        "plt.figure(figsize=(16, 10))\n",
        "# height = 0.35\n",
        "index=np.arange(len(df_atti_b_bef_af_gap))\n",
        "\n",
        "plt.barh(index, df_atti_b_bef_af_gap['교육전후 B교과에 대한 태도 수준 변화'], align='center', label='교육후 태도 수준 - 교육전 태도 수준')\n",
        "plt.title('B교과에 대한 태도 수준 변화 측정\\n(B교과: 개도국을 위한 적용가능한 수질개선기술)',\n",
        "          position=(0.5,1.02), fontsize=20)\n",
        "plt.ylabel('성명', fontsize=18)\n",
        "plt.xlabel('태도 수준 변화 측정값', fontsize=18)\n",
        "plt.xticks(fontsize=15)\n",
        "plt.yticks(index, df_atti_b_bef_af_gap['성명'], fontsize=15)\n",
        "plt.legend(fontsize=18)\n",
        " \n",
        "plt.show()"
      ],
      "execution_count": 0,
      "outputs": []
    },
    {
      "cell_type": "markdown",
      "metadata": {
        "id": "JDntRA3_NQ0r",
        "colab_type": "text"
      },
      "source": [
        "### '개도국을 위한 미디어시티, 도로, 교통시설 개발 (C 교과)' 에 대한 참가자별 '인지 - 기술 - 태도' 수준 변화"
      ]
    },
    {
      "cell_type": "markdown",
      "metadata": {
        "id": "CdBuMCS2NQ0t",
        "colab_type": "text"
      },
      "source": [
        "#### C교과에 대한 인지 수준 변화"
      ]
    },
    {
      "cell_type": "code",
      "metadata": {
        "id": "T22ZI2mwNQ0t",
        "colab_type": "code",
        "colab": {}
      },
      "source": [
        "# '교육전 전반적 이해 수준 변화 수준의 오름차순'으로 정렬 된 '교육전후 전반적 이해 수준 변화 수준'과 'Name'열로 된 DataFrame으로  \n",
        "# 각각 'Name'  '교육전 전반적 이해 수준 변화 수준' 데이터프레임을 .concat한 후 이를 오름차순. 그 후 reset_index\n",
        "\n",
        "df_cog_c = pd.concat([eval_all['성명'],\n",
        "                           eval_all['교육후: C교과에 대한 인지 수준'],\n",
        "                           eval_all['교육전: C교과에 대한 인지 수준']\n",
        "                          ],axis=1)\n",
        "\n",
        "df_cog_c['교육전후 C교과에 대한 인지 수준 변화'] = \\\n",
        "                           eval_all['교육후: C교과에 대한 인지 수준'] - \\\n",
        "                           eval_all[\"교육전: C교과에 대한 인지 수준\"]\n",
        "\n",
        "df_cog_c_bef_af_gap = df_cog_c.sort_values(by='교육전후 C교과에 대한 인지 수준 변화',\n",
        "                            ascending=True).reset_index(drop='index')\n",
        "\n",
        "df_cog_c_bef_af_gap"
      ],
      "execution_count": 0,
      "outputs": []
    },
    {
      "cell_type": "code",
      "metadata": {
        "id": "HeqvxnRhNQ0v",
        "colab_type": "code",
        "colab": {}
      },
      "source": [
        "plt.figure(figsize=(16, 10))\n",
        "# height = 0.35\n",
        "index=np.arange(len(df_cog_c_bef_af_gap))\n",
        "p1 = plt.barh(index, df_cog_c_bef_af_gap[\"교육전: C교과에 대한 인지 수준\"],  \n",
        "              align='center', label='Pre-Training')\n",
        "p2 = plt.barh(index, df_cog_c_bef_af_gap['교육후: C교과에 대한 인지 수준'],  \n",
        "              align='center', label='Post-Training', left=df_cog_c_bef_af_gap[\"교육전: C교과에 대한 인지 수준\"])\n",
        "\n",
        "plt.title('교육전후 C교과에 대한 인지 수준\\n(C교과: 개도국을 위한 미디어시티, 도로, 교통시설 개발)',\n",
        "          position=(0.5,1.02), fontsize=20)\n",
        "plt.ylabel('성명', fontsize=18)\n",
        "plt.xlabel('인지 수준', fontsize=18)\n",
        "plt.xticks(fontsize=15)\n",
        "plt.yticks(index, df_cog_c_bef_af_gap['성명'], fontsize=15)\n",
        "plt.legend((p1[0], p2[0]), ('Pre-Training', 'Post-Training'), fontsize=18)\n",
        "plt.show()\n",
        "\n",
        "# for i, rect in enumerate(p1):\n",
        "#     plt.text(0.95 * rect.get_width(), rect.get_y() + rect.get_height() / 2.0,\n",
        "#          str(df_cog_c_bef_af_gap[\"교육전: C교과에 대한 인지 수준 변화\"][i]),\n",
        "#          fontsize=15, color='w', ha='right', va='center')"
      ],
      "execution_count": 0,
      "outputs": []
    },
    {
      "cell_type": "code",
      "metadata": {
        "id": "IICjMrUPNQ0w",
        "colab_type": "code",
        "colab": {}
      },
      "source": [
        "plt.figure(figsize=(16, 10))\n",
        "# height = 0.35\n",
        "index=np.arange(len(df_cog_c_bef_af_gap))\n",
        "plt.barh(index, df_cog_c_bef_af_gap['교육전후 C교과에 대한 인지 수준 변화'], align='center', label='교육후 인지 수준 - 교육전 인지 수준')\n",
        "plt.title('C교과에 대한 인지 수준 변화 측정 \\n(C교과: 개도국을 위한 미디어시티, 도로, 교통시설 개발)',\n",
        "          position=(0.5,1.02), fontsize=20)\n",
        "plt.ylabel('성명', fontsize=18)\n",
        "plt.xlabel('인지 수준 변화 측정값', fontsize=18)\n",
        "plt.xticks(fontsize=15)\n",
        "plt.yticks(index, df_cog_c_bef_af_gap['성명'], fontsize=15)\n",
        "plt.legend(fontsize=18)\n",
        "# for i, rect in enumerate(p1):\n",
        "#     plt.text(0.95 * rect.get_width(), rect.get_y() + rect.get_height() / 2.0,\n",
        "#          str(df_cog_c_bef_af_gap[\"교육전: C교과에 대한 인지 수준 변화\"][i]),\n",
        "#          fontsize=15, color='w', ha='right', va='center')\n",
        "\n",
        "plt.show()"
      ],
      "execution_count": 0,
      "outputs": []
    },
    {
      "cell_type": "markdown",
      "metadata": {
        "id": "DUxx1JfnNQ01",
        "colab_type": "text"
      },
      "source": [
        "#### C교과에 대한 기술 수준 변화"
      ]
    },
    {
      "cell_type": "code",
      "metadata": {
        "id": "aZd5ihQXNQ01",
        "colab_type": "code",
        "colab": {}
      },
      "source": [
        "# '교육전 전반적 이해 수준 변화 수준의 오름차순'으로 정렬 된 '교육전후 전반적 이해 수준 변화 수준'과 'Name'열로 된 DataFrame으로  \n",
        "# 각각 'Name'  '교육전 전반적 이해 수준 변화 수준' 데이터프레임을 .concat한 후 이를 오름차순. 그 후 reset_index\n",
        "\n",
        "\n",
        "df_tech_c = pd.concat([eval_all['성명'],\n",
        "                           eval_all['교육후: C교과에 대한 기술 수준'],\n",
        "                           eval_all['교육전: C교과에 대한 기술 수준'],\n",
        "                          ],axis=1)\n",
        "\n",
        "df_tech_c['교육전후 C교과에 대한 기술 수준 변화'] = \\\n",
        "                           eval_all['교육후: C교과에 대한 기술 수준'] - \\\n",
        "                           eval_all['교육전: C교과에 대한 기술 수준']\n",
        "\n",
        "df_tech_c_bef_af_gap = df_tech_c.sort_values(by='교육전후 C교과에 대한 기술 수준 변화',\n",
        "                            ascending=True).reset_index(drop='index')\n",
        "\n",
        "df_tech_c_bef_af_gap"
      ],
      "execution_count": 0,
      "outputs": []
    },
    {
      "cell_type": "code",
      "metadata": {
        "id": "9oaQ5M6UNQ02",
        "colab_type": "code",
        "colab": {}
      },
      "source": [
        "plt.figure(figsize=(16, 10))\n",
        "# height = 0.35\n",
        "index=np.arange(len(df_tech_c_bef_af_gap))\n",
        "p1 = plt.barh(index, df_tech_c_bef_af_gap[\"교육전: C교과에 대한 기술 수준\"],  \n",
        "              align='center', label='Pre-Training')\n",
        "p2 = plt.barh(index, df_tech_c_bef_af_gap['교육후: C교과에 대한 기술 수준'],  \n",
        "              align='center', label='Post-Training', left=df_tech_c_bef_af_gap[\"교육전: C교과에 대한 기술 수준\"])\n",
        "\n",
        "plt.title('교육전후 C교과에 대한 기술 수준\\n(C교과: 개도국을 위한 미디어시티, 도로, 교통시설 개발)',\n",
        "          position=(0.5,1.02), fontsize=20)\n",
        "plt.ylabel('성명', fontsize=18)\n",
        "plt.xlabel('기술 수준', fontsize=18)\n",
        "plt.xticks(fontsize=15)\n",
        "plt.yticks(index, df_tech_c_bef_af_gap['성명'], fontsize=15)\n",
        "plt.legend((p1[0], p2[0]), ('Pre-Training', 'Post-Training'), fontsize=18)\n",
        "plt.show()"
      ],
      "execution_count": 0,
      "outputs": []
    },
    {
      "cell_type": "code",
      "metadata": {
        "id": "kjRIn-PGNQ05",
        "colab_type": "code",
        "colab": {}
      },
      "source": [
        "plt.figure(figsize=(16, 10))\n",
        "# height = 0.35\n",
        "index=np.arange(len(df_tech_c_bef_af_gap))\n",
        "plt.barh(index, df_tech_c_bef_af_gap['교육전후 C교과에 대한 기술 수준 변화'], align='center', label='교육후 기술 수준 - 교육전 기술 수준')\n",
        "plt.title('C교과에 대한 기술 수준 변화 측정\\n(C교과: 개도국을 위한 미디어시티, 도로, 교통시설 개발)',\n",
        "          position=(0.5,1.02), fontsize=20)\n",
        "plt.ylabel('성명', fontsize=18)\n",
        "plt.xlabel('기술 수준 변화 측정값', fontsize=18)\n",
        "plt.xticks(fontsize=15)\n",
        "plt.yticks(index, df_tech_c_bef_af_gap['성명'], fontsize=15)\n",
        "plt.legend(fontsize=18)\n",
        " \n",
        "plt.show()"
      ],
      "execution_count": 0,
      "outputs": []
    },
    {
      "cell_type": "markdown",
      "metadata": {
        "id": "J5pvwjd5NQ1E",
        "colab_type": "text"
      },
      "source": [
        "#### C교과에 대한 태도 수준 변화 "
      ]
    },
    {
      "cell_type": "code",
      "metadata": {
        "id": "KzjA-UBnNQ1E",
        "colab_type": "code",
        "colab": {}
      },
      "source": [
        "# '교육전 전반적 이해 수준 변화 수준의 오름차순'으로 정렬 된 '교육전후 전반적 이해 수준 변화 수준'과 'Name'열로 된 DataFrame으로  \n",
        "# 각각 'Name'  '교육전 전반적 이해 수준 변화 수준' 데이터프레임을 .concat한 후 이를 오름차순. 그 후 reset_index\n",
        "\n",
        "\n",
        "df_atti_c = pd.concat([eval_all['성명'],\n",
        "                           eval_all['교육후: C교과에 대한 태도 수준'],\n",
        "                           eval_all['교육전: C교과에 대한 태도 수준'],\n",
        "                          ],axis=1)\n",
        "\n",
        "df_atti_c['교육전후 C교과에 대한 태도 수준 변화'] = \\\n",
        "                           eval_all['교육후: C교과에 대한 태도 수준'] - \\\n",
        "                           eval_all['교육전: C교과에 대한 태도 수준']\n",
        "\n",
        "df_atti_c_bef_af_gap = df_atti_c.sort_values(by='교육전후 C교과에 대한 태도 수준 변화',\n",
        "                            ascending=True).reset_index(drop='index')\n",
        "\n",
        "df_atti_c_bef_af_gap"
      ],
      "execution_count": 0,
      "outputs": []
    },
    {
      "cell_type": "code",
      "metadata": {
        "id": "GMbElXL3NQ1I",
        "colab_type": "code",
        "colab": {}
      },
      "source": [
        "plt.figure(figsize=(16, 10))\n",
        "# height = 0.35\n",
        "index=np.arange(len(df_atti_c_bef_af_gap))\n",
        "p1 = plt.barh(index, df_atti_c_bef_af_gap[\"교육전: C교과에 대한 태도 수준\"],  \n",
        "              align='center', label='Pre-Training')\n",
        "p2 = plt.barh(index, df_atti_c_bef_af_gap['교육후: C교과에 대한 태도 수준'],  \n",
        "              align='center', label='Post-Training', left=df_atti_c_bef_af_gap[\"교육전: C교과에 대한 태도 수준\"])\n",
        "\n",
        "plt.title('교육전후 C교과에 대한 태도 수준\\n(C교과: 개도국을 위한 미디어시티, 도로, 교통시설 개발)',\n",
        "          position=(0.5,1.02), fontsize=20)\n",
        "plt.ylabel('성명', fontsize=18)\n",
        "plt.xlabel('태도 수준', fontsize=18)\n",
        "plt.xticks(fontsize=15)\n",
        "plt.yticks(index, df_atti_c_bef_af_gap['성명'], fontsize=15)\n",
        "plt.legend((p1[0], p2[0]), ('Pre-Training', 'Post-Training'), fontsize=18)\n",
        "plt.show()"
      ],
      "execution_count": 0,
      "outputs": []
    },
    {
      "cell_type": "code",
      "metadata": {
        "id": "gmFVXbWSNQ1J",
        "colab_type": "code",
        "colab": {}
      },
      "source": [
        "plt.figure(figsize=(16, 10))\n",
        "# height = 0.35\n",
        "index=np.arange(len(df_atti_c_bef_af_gap))\n",
        "\n",
        "plt.barh(index, df_atti_c_bef_af_gap['교육전후 C교과에 대한 태도 수준 변화'], align='center', label='교육후 태도 수준 - 교육전 태도 수준')\n",
        "plt.title('C교과에 대한 태도 수준 변화 측정\\n(C교과: 개도국을 위한 미디어시티, 도로, 교통시설 개발)',\n",
        "          position=(0.5,1.02), fontsize=20)\n",
        "plt.ylabel('성명', fontsize=18)\n",
        "plt.xlabel('태도 수준 변화 측정값', fontsize=18)\n",
        "plt.xticks(fontsize=15)\n",
        "plt.yticks(index, df_atti_c_bef_af_gap['성명'], fontsize=15)\n",
        "plt.legend(fontsize=18)\n",
        " \n",
        "plt.show()"
      ],
      "execution_count": 0,
      "outputs": []
    },
    {
      "cell_type": "markdown",
      "metadata": {
        "id": "2FdxxPk9NQ1M",
        "colab_type": "text"
      },
      "source": [
        "## 수준 변화에 대한 T검정 및 직책별-성별 '인지 수준 - 기술 수준 - 태도 수준' 변화 분석"
      ]
    },
    {
      "cell_type": "markdown",
      "metadata": {
        "id": "GSFzQP7_NQ1M",
        "colab_type": "text"
      },
      "source": [
        "### 교육전후 교과별 '인지 수준 - 기술 수준 - 태도 수준' 변화에 대한 T검정"
      ]
    },
    {
      "cell_type": "code",
      "metadata": {
        "id": "SKhSrJemNQ1M",
        "colab_type": "code",
        "colab": {}
      },
      "source": [
        "from scipy.stats import ttest_ind\n",
        "ttest_ind(df_cog_a['교육전후 A교과에 대한 인지 수준 변화'], df_cog_b['교육전후 B교과에 대한 인지 수준 변화'])\n",
        "ttest_ind(df_cog_a['교육전후 A교과에 대한 인지 수준 변화'], df_cog_c['교육전후 C교과에 대한 인지 수준 변화'])\n",
        "ttest_ind(df_cog_b['교육전후 B교과에 대한 인지 수준 변화'], df_cog_c['교육전후 C교과에 대한 인지 수준 변화'])\n",
        "ttest_ind(df_tech_a['교육전후 A교과에 대한 기술 수준 변화'], df_tech_b['교육전후 B교과에 대한 기술 수준 변화'])\n",
        "ttest_ind(df_tech_a['교육전후 A교과에 대한 기술 수준 변화'], df_tech_c['교육전후 C교과에 대한 기술 수준 변화'])\n",
        "ttest_ind(df_tech_b['교육전후 B교과에 대한 기술 수준 변화'], df_tech_c['교육전후 C교과에 대한 기술 수준 변화'])\n",
        "ttest_ind(df_atti_a['교육전후 A교과에 대한 태도 수준 변화'], df_atti_b['교육전후 B교과에 대한 태도 수준 변화'])\n",
        "ttest_ind(df_atti_a['교육전후 A교과에 대한 태도 수준 변화'], df_atti_c['교육전후 C교과에 대한 태도 수준 변화'])\n",
        "ttest_ind(df_atti_b['교육전후 B교과에 대한 태도 수준 변화'], df_atti_c['교육전후 C교과에 대한 태도 수준 변화'])\n",
        "\n",
        "ttest_ind(df_cog_a['교육전후 A교과에 대한 인지 수준 변화'], df_tech_b['교육전후 B교과에 대한 기술 수준 변화'])\n",
        "ttest_ind(df_cog_a['교육전후 A교과에 대한 인지 수준 변화'], df_tech_c['교육전후 C교과에 대한 기술 수준 변화'])\n",
        "ttest_ind(df_cog_b['교육전후 B교과에 대한 인지 수준 변화'], df_tech_a['교육전후 A교과에 대한 기술 수준 변화'])\n",
        "ttest_ind(df_cog_b['교육전후 B교과에 대한 인지 수준 변화'], df_tech_c['교육전후 C교과에 대한 기술 수준 변화'])\n",
        "ttest_ind(df_cog_c['교육전후 C교과에 대한 인지 수준 변화'], df_tech_a['교육전후 A교과에 대한 기술 수준 변화'])\n",
        "ttest_ind(df_cog_c['교육전후 C교과에 대한 인지 수준 변화'], df_tech_b['교육전후 B교과에 대한 기술 수준 변화'])\n",
        "\n",
        "ttest_ind(df_cog_a['교육전후 A교과에 대한 인지 수준 변화'], df_atti_b['교육전후 B교과에 대한 태도 수준 변화'])\n",
        "ttest_ind(df_cog_a['교육전후 A교과에 대한 인지 수준 변화'], df_atti_c['교육전후 C교과에 대한 태도 수준 변화'])\n",
        "ttest_ind(df_cog_b['교육전후 B교과에 대한 인지 수준 변화'], df_atti_a['교육전후 A교과에 대한 태도 수준 변화'])\n",
        "ttest_ind(df_cog_b['교육전후 B교과에 대한 인지 수준 변화'], df_atti_c['교육전후 C교과에 대한 태도 수준 변화'])\n",
        "ttest_ind(df_cog_c['교육전후 C교과에 대한 인지 수준 변화'], df_atti_a['교육전후 A교과에 대한 태도 수준 변화'])\n",
        "ttest_ind(df_cog_c['교육전후 C교과에 대한 인지 수준 변화'], df_atti_b['교육전후 B교과에 대한 태도 수준 변화'])\n",
        "\n",
        "ttest_ind(df_tech_a['교육전후 A교과에 대한 기술 수준 변화'], df_atti_b['교육전후 B교과에 대한 태도 수준 변화'])\n",
        "ttest_ind(df_tech_a['교육전후 A교과에 대한 기술 수준 변화'], df_atti_c['교육전후 C교과에 대한 태도 수준 변화'])\n",
        "ttest_ind(df_tech_b['교육전후 B교과에 대한 기술 수준 변화'], df_atti_a['교육전후 A교과에 대한 태도 수준 변화'])\n",
        "ttest_ind(df_tech_b['교육전후 B교과에 대한 기술 수준 변화'], df_atti_c['교육전후 C교과에 대한 태도 수준 변화'])\n",
        "ttest_ind(df_tech_c['교육전후 C교과에 대한 기술 수준 변화'], df_atti_a['교육전후 A교과에 대한 태도 수준 변화'])\n",
        "ttest_ind(df_tech_c['교육전후 C교과에 대한 기술 수준 변화'], df_atti_b['교육전후 B교과에 대한 태도 수준 변화'])"
      ],
      "execution_count": 0,
      "outputs": []
    },
    {
      "cell_type": "markdown",
      "metadata": {
        "id": "sLscnUMjNQ1N",
        "colab_type": "text"
      },
      "source": [
        "<center>T검정 데이터셋</center> | <center>T검정 결과</center>\n",
        ":--------|--------:\n",
        "<center>인지-인지</center>\n",
        "['교육전후 A교과에 대한 인지 수준 변화']와 ['교육전후 B교과에 대한 인지 수준 변화'])의 T검정 |0.8979310779180959\n",
        "['교육전후 A교과에 대한 인지 수준 변화']와 ['교육전후 C교과에 대한 인지 수준 변화'])의 T검정 |0.8868285790608438\n",
        "['교육전후 B교과에 대한 인지 수준 변화']와 ['교육전후 C교과에 대한 인지 수준 변화'])의 T검정 |0.7953769834012345\n",
        "<center>기술-기술</center>\n",
        "['교육전후 A교과에 대한 기술 수준 변화']와 ['교육전후 B교과에 대한 기술 수준 변화'])의 T검정 |0.5580118777783936\n",
        "['교육전후 A교과에 대한 기술 수준 변화']와 ['교육전후 C교과에 대한 기술 수준 변화'])의 T검정 |0.538065454177129\n",
        "['교육전후 B교과에 대한 기술 수준 변화']와 ['교육전후 C교과에 대한 기술 수준 변화'])의 T검정 |1.0\n",
        "<center>태도-태도</center>\n",
        "['교육전후 A교과에 대한 태도 수준 변화']와 ['교육전후 B교과에 대한 태도 수준 변화'])의 T검정 |0.5315573847013254\n",
        "['교육전후 A교과에 대한 태도 수준 변화']와 ['교육전후 C교과에 대한 태도 수준 변화'])의 T검정 |0.6964984125435894\n",
        "['교육전후 B교과에 대한 태도 수준 변화']와 ['교육전후 C교과에 대한 태도 수준 변화'])의 T검정 |0.8597140691904506\n",
        "<center>인지-기술</center>\n",
        "['교육전후 A교과에 대한 인지 수준 변화']와 ['교육전후 B교과에 대한 기술 수준 변화'])의 T검정 |0.35102800557499836\n",
        "['교육전후 A교과에 대한 인지 수준 변화']와 ['교육전후 C교과에 대한 기술 수준 변화'])의 T검정 |0.33128378457544705\n",
        "['교육전후 B교과에 대한 인지 수준 변화']와 ['교육전후 A교과에 대한 기술 수준 변화'])의 T검정 |0.579359969879861\n",
        "['교육전후 B교과에 대한 인지 수준 변화']와 ['교육전후 C교과에 대한 기술 수준 변화'])의 T검정 |0.3106764224569088\n",
        "['교육전후 C교과에 대한 인지 수준 변화']와 ['교육전후 A교과에 대한 기술 수준 변화'])의 T검정 |0.7530684368690279\n",
        "['교육전후 C교과에 대한 인지 수준 변화']와 ['교육전후 B교과에 대한 기술 수준 변화'])의 T검정 |0.417239243942396\n",
        "<center>인지-태도</center>\n",
        "['교육전후 A교과에 대한 인지 수준 변화']와 ['교육전후 B교과에 대한 태도 수준 변화'])의 T검정 |0.09025537875694871\n",
        "['교육전후 A교과에 대한 인지 수준 변화']와 ['교육전후 C교과에 대한 태도 수준 변화'])의 T검정 |0.07696670959526002\n",
        "['교육전후 B교과에 대한 인지 수준 변화']와 ['교육전후 A교과에 대한 태도 수준 변화'])의 T검정 |**0.031279556026945314**\n",
        "['교육전후 B교과에 대한 인지 수준 변화']와 ['교육전후 C교과에 대한 태도 수준 변화'])의 T검정 |0.08399575792355764\n",
        "['교육전후 C교과에 대한 인지 수준 변화']와 ['교육전후 A교과에 대한 태도 수준 변화'])의 T검정 |**0.030181887478434196**\n",
        "['교육전후 C교과에 대한 인지 수준 변화']와 ['교육전후 B교과에 대한 태도 수준 변화'])의 T검정 |0.11552285426683223\n",
        "<center>기술-태도</center>\n",
        "['교육전후 A교과에 대한 기술 수준 변화']와 ['교육전후 B교과에 대한 태도 수준 변화'])의 T검정 |0.1570956590894367\n",
        "['교육전후 A교과에 대한 기술 수준 변화']와 ['교육전후 C교과에 대한 태도 수준 변화'])의 T검정 |0.13212324662506572\n",
        "['교육전후 B교과에 대한 기술 수준 변화']와 ['교육전후 A교과에 대한 태도 수준 변화'])의 T검정 |0.26530600243949704\n",
        "['교육전후 B교과에 대한 기술 수준 변화']와 ['교육전후 C교과에 대한 태도 수준 변화'])의 T검정 |0.471301692132184\n",
        "['교육전후 C교과에 대한 기술 수준 변화']와 ['교육전후 A교과에 대한 태도 수준 변화'])의 T검정 |0.23714624624013594\n",
        "['교육전후 C교과에 대한 기술 수준 변화']와 ['교육전후 B교과에 대한 태도 수준 변화'])의 T검정 |0.5279081014195164"
      ]
    },
    {
      "cell_type": "markdown",
      "metadata": {
        "id": "PoI7cEwGNQ1N",
        "colab_type": "text"
      },
      "source": [
        "<center>T검정 데이터셋</center> | <center>T검정 결과</center>\n",
        ":--------|--------:\n",
        "<center>인지-인지</center>\n",
        "['교육전후 A교과에 대한 인지 수준 변화']와 ['교육전후 B교과에 대한 인지 수준 변화'])의 T검정 |0.90\n",
        "['교육전후 A교과에 대한 인지 수준 변화']와 ['교육전후 C교과에 대한 인지 수준 변화'])의 T검정 |0.89\n",
        "['교육전후 B교과에 대한 인지 수준 변화']와 ['교육전후 C교과에 대한 인지 수준 변화'])의 T검정 |0.80\n",
        "<center>기술-기술</center>\n",
        "['교육전후 A교과에 대한 기술 수준 변화']와 ['교육전후 B교과에 대한 기술 수준 변화'])의 T검정 |0.56\n",
        "['교육전후 A교과에 대한 기술 수준 변화']와 ['교육전후 C교과에 대한 기술 수준 변화'])의 T검정 |0.54\n",
        "['교육전후 B교과에 대한 기술 수준 변화']와 ['교육전후 C교과에 대한 기술 수준 변화'])의 T검정 |1.00\n",
        "<center>태도-태도</center>\n",
        "['교육전후 A교과에 대한 태도 수준 변화']와 ['교육전후 B교과에 대한 태도 수준 변화'])의 T검정 |0.53\n",
        "['교육전후 A교과에 대한 태도 수준 변화']와 ['교육전후 C교과에 대한 태도 수준 변화'])의 T검정 |0.70\n",
        "['교육전후 B교과에 대한 태도 수준 변화']와 ['교육전후 C교과에 대한 태도 수준 변화'])의 T검정 |0.86\n",
        "<center>인지-기술</center>\n",
        "['교육전후 A교과에 대한 인지 수준 변화']와 ['교육전후 B교과에 대한 기술 수준 변화'])의 T검정 |0.35\n",
        "['교육전후 A교과에 대한 인지 수준 변화']와 ['교육전후 C교과에 대한 기술 수준 변화'])의 T검정 |0.33\n",
        "['교육전후 B교과에 대한 인지 수준 변화']와 ['교육전후 A교과에 대한 기술 수준 변화'])의 T검정 |0.58\n",
        "['교육전후 B교과에 대한 인지 수준 변화']와 ['교육전후 C교과에 대한 기술 수준 변화'])의 T검정 |0.31\n",
        "['교육전후 C교과에 대한 인지 수준 변화']와 ['교육전후 A교과에 대한 기술 수준 변화'])의 T검정 |0.75\n",
        "['교육전후 C교과에 대한 인지 수준 변화']와 ['교육전후 B교과에 대한 기술 수준 변화'])의 T검정 |0.42\n",
        "<center>인지-태도</center>\n",
        "['교육전후 A교과에 대한 인지 수준 변화']와 ['교육전후 B교과에 대한 태도 수준 변화'])의 T검정 |0.09\n",
        "['교육전후 A교과에 대한 인지 수준 변화']와 ['교육전후 C교과에 대한 태도 수준 변화'])의 T검정 |0.08\n",
        "['교육전후 B교과에 대한 인지 수준 변화']와 ['교육전후 A교과에 대한 태도 수준 변화'])의 T검정 |**0.03**\n",
        "['교육전후 B교과에 대한 인지 수준 변화']와 ['교육전후 C교과에 대한 태도 수준 변화'])의 T검정 |0.08\n",
        "['교육전후 C교과에 대한 인지 수준 변화']와 ['교육전후 A교과에 대한 태도 수준 변화'])의 T검정 |**0.03**\n",
        "['교육전후 C교과에 대한 인지 수준 변화']와 ['교육전후 B교과에 대한 태도 수준 변화'])의 T검정 |0.12\n",
        "<center>기술-태도</center>\n",
        "['교육전후 A교과에 대한 기술 수준 변화']와 ['교육전후 B교과에 대한 태도 수준 변화'])의 T검정 |0.16\n",
        "['교육전후 A교과에 대한 기술 수준 변화']와 ['교육전후 C교과에 대한 태도 수준 변화'])의 T검정 |0.13\n",
        "['교육전후 B교과에 대한 기술 수준 변화']와 ['교육전후 A교과에 대한 태도 수준 변화'])의 T검정 |0.27\n",
        "['교육전후 B교과에 대한 기술 수준 변화']와 ['교육전후 C교과에 대한 태도 수준 변화'])의 T검정 |0.47\n",
        "['교육전후 C교과에 대한 기술 수준 변화']와 ['교육전후 A교과에 대한 태도 수준 변화'])의 T검정 |0.24\n",
        "['교육전후 C교과에 대한 기술 수준 변화']와 ['교육전후 B교과에 대한 태도 수준 변화'])의 T검정 |0.53"
      ]
    },
    {
      "cell_type": "markdown",
      "metadata": {
        "id": "81bEdgmTNQ1N",
        "colab_type": "text"
      },
      "source": [
        "* ['교육전후 B교과에 대한 인지 수준 변화']와 ['교육전후 A교과에 대한 태도 수준 변화']의 T검정 결과(P값: 0.031)와 \n",
        "* ['교육전후 C교과에 대한 인지 수준 변화']와 ['교육전후 A교과에 대한 태도 수준 변화']의 T검정 결과(P값: 0.030)에 따라  \n",
        "\n",
        "\n",
        "B교과(개도국을 위한 적용가능한 수질개선기술) 및 C교과(개도국을 위한 미디어시티, 도로, 교통시설 개발)에 대한 인지 수준이 증가할 수록 A교과(PPP와 개도국에 대한 PPP적용방법에 대한 이해)에 대한 태도, 즉 PPP 활용을 중요하게 인식하는 수준이 증가함을 알 수 있다.  \n",
        "\n"
      ]
    },
    {
      "cell_type": "markdown",
      "metadata": {
        "id": "HFVhjWDsNQ1N",
        "colab_type": "text"
      },
      "source": [
        "### 교육전후 교과별 '인지 수준 - 기술 수준 - 태도 수준' 변화 데이터"
      ]
    },
    {
      "cell_type": "code",
      "metadata": {
        "id": "7NZu0OJ3NQ1O",
        "colab_type": "code",
        "colab": {}
      },
      "source": [
        "df_abc = pd.concat([df_cog_a['성명'], \n",
        "          df_cog_a['교육전후 A교과에 대한 인지 수준 변화'], df_cog_b['교육전후 B교과에 대한 인지 수준 변화'],\n",
        "          df_cog_c['교육전후 C교과에 대한 인지 수준 변화'], df_tech_a['교육전후 A교과에 대한 기술 수준 변화'],\n",
        "          df_tech_b['교육전후 B교과에 대한 기술 수준 변화'], df_tech_c['교육전후 C교과에 대한 기술 수준 변화'],\n",
        "          df_atti_a['교육전후 A교과에 대한 태도 수준 변화'], df_atti_b['교육전후 B교과에 대한 태도 수준 변화'],\n",
        "          df_atti_c['교육전후 C교과에 대한 태도 수준 변화']], axis=1)\n",
        "\n",
        "df_abc"
      ],
      "execution_count": 0,
      "outputs": []
    },
    {
      "cell_type": "code",
      "metadata": {
        "id": "NSAaOykxNQ1O",
        "colab_type": "code",
        "colab": {}
      },
      "source": [
        "# 기술 통계 계산을 위해 데이터형 변경\n",
        "\n",
        "df_abc.iloc[:,1] = df_abc.iloc[:,1].astype(int)\n",
        "df_abc.iloc[:,2] = df_abc.iloc[:,2].astype(int)\n",
        "df_abc.iloc[:,3] = df_abc.iloc[:,3].astype(int)\n",
        "df_abc.iloc[:,4] = df_abc.iloc[:,4].astype(int)\n",
        "df_abc.iloc[:,5] = df_abc.iloc[:,5].astype(int)\n",
        "df_abc.iloc[:,6] = df_abc.iloc[:,6].astype(int)\n",
        "df_abc.iloc[:,7] = df_abc.iloc[:,7].astype(int)\n",
        "df_abc.iloc[:,8] = df_abc.iloc[:,8].astype(int)\n",
        "df_abc.iloc[:,9] = df_abc.iloc[:,9].astype(int)\n",
        "\n",
        "df_abc"
      ],
      "execution_count": 0,
      "outputs": []
    },
    {
      "cell_type": "markdown",
      "metadata": {
        "id": "GKKwW-XtNQ1P",
        "colab_type": "text"
      },
      "source": [
        "* 사전․후 학업성취도 차이가 (-) 값인 경우, \n",
        "* 사전 조사에서 너무 높은 값을 부여하는 등의 문제로 인해 (-)값이 넷 이상인 학생의 경우, 특이값으로 간주하여 성취도 분석에서 제외하여 계산\n",
        "* 제외대상자: Khin Ohnmar MYINT THEIN / Joz Carlos Gabrillo ORDILLANO / Jacqueline Yamileth RIVERA AYALA "
      ]
    },
    {
      "cell_type": "code",
      "metadata": {
        "id": "puDBLHJjNQ1Q",
        "colab_type": "code",
        "colab": {}
      },
      "source": [
        "df_abc.drop(df_abc.index[[6,8,9]], inplace=True)"
      ],
      "execution_count": 0,
      "outputs": []
    },
    {
      "cell_type": "code",
      "metadata": {
        "id": "Zxflxj4lNQ1S",
        "colab_type": "code",
        "colab": {}
      },
      "source": [
        "df_abc.describe().rename(index={'count': '응답자수','mean': '평균값',\n",
        "                                'std': '표준편차','min': '최소값', '25%':'25%값', \n",
        "                                '50%':'중간값', '75%':'75%값','max':'최대값'})"
      ],
      "execution_count": 0,
      "outputs": []
    },
    {
      "cell_type": "markdown",
      "metadata": {
        "id": "GALYOzGENQ1T",
        "colab_type": "text"
      },
      "source": [
        "### 강의평가 데이터를  설문결과 및 학생정보 데이터에 병합"
      ]
    },
    {
      "cell_type": "code",
      "metadata": {
        "id": "0epFmK4ZNQ1T",
        "colab_type": "code",
        "colab": {}
      },
      "source": [
        "eval_all = eval_all.set_index('성명')\n",
        "eval_all = pd.merge(eval_all,eval_all_crs_eval,left_index=True, right_index=True)\n",
        "eval_all.head()"
      ],
      "execution_count": 0,
      "outputs": []
    },
    {
      "cell_type": "code",
      "metadata": {
        "id": "S7taJJzMNQ1T",
        "colab_type": "code",
        "colab": {}
      },
      "source": [
        "df_abc = df_abc.set_index('성명')\n",
        "eval_all = pd.merge(eval_all,df_abc,left_index=True, right_index=True)\n",
        "eval_all.head()"
      ],
      "execution_count": 0,
      "outputs": []
    },
    {
      "cell_type": "markdown",
      "metadata": {
        "id": "rIkmQHPhNQ1U",
        "colab_type": "text"
      },
      "source": [
        "**데이터 타입이 'object'인 열을 찾은 후, 평균 계산이 가능한 float64로 변경**"
      ]
    },
    {
      "cell_type": "code",
      "metadata": {
        "id": "zLsDw-12NQ1U",
        "colab_type": "code",
        "colab": {}
      },
      "source": [
        "pd.DataFrame(eval_all.dtypes == 'object').index.values\n",
        "\n",
        "eval_all['1-1. 연수과정 만족도_맞춤형 구성'] = eval_all['1-1. 연수과정 만족도_맞춤형 구성'].astype('float64')\n",
        "eval_all['교육전후 A교과에 대한 인지 수준 변화'] = eval_all['교육전후 A교과에 대한 인지 수준 변화'].astype('float64')\n",
        "eval_all['교육전후 B교과에 대한 인지 수준 변화'] = eval_all['교육전후 B교과에 대한 인지 수준 변화'].astype('float64')\n",
        "eval_all['교육전후 C교과에 대한 인지 수준 변화'] = eval_all['교육전후 C교과에 대한 인지 수준 변화'].astype('float64')\n",
        "eval_all['교육전후 A교과에 대한 기술 수준 변화'] = eval_all['교육전후 A교과에 대한 기술 수준 변화'].astype('float64')\n",
        "eval_all['교육전후 B교과에 대한 기술 수준 변화'] = eval_all['교육전후 B교과에 대한 기술 수준 변화'].astype('float64')\n",
        "eval_all['교육전후 C교과에 대한 기술 수준 변화'] = eval_all['교육전후 C교과에 대한 기술 수준 변화'].astype('float64')\n",
        "eval_all['교육전후 A교과에 대한 태도 수준 변화'] = eval_all['교육전후 A교과에 대한 태도 수준 변화'].astype('float64')\n",
        "eval_all['교육전후 B교과에 대한 태도 수준 변화'] = eval_all['교육전후 B교과에 대한 태도 수준 변화'].astype('float64')\n",
        "eval_all['교육전후 C교과에 대한 태도 수준 변화'] = eval_all['교육전후 C교과에 대한 태도 수준 변화'].astype('float64')"
      ],
      "execution_count": 0,
      "outputs": []
    },
    {
      "cell_type": "code",
      "metadata": {
        "id": "wLpRZxV6NQ1V",
        "colab_type": "code",
        "colab": {}
      },
      "source": [
        "eval_all.loc[:,(eval_all.dtypes == 'float64')].dropna(how='all',axis=1)"
      ],
      "execution_count": 0,
      "outputs": []
    },
    {
      "cell_type": "code",
      "metadata": {
        "id": "tegEgLUmNQ1V",
        "colab_type": "code",
        "colab": {}
      },
      "source": [
        "eval_all.reset_index(inplace=True)"
      ],
      "execution_count": 0,
      "outputs": []
    },
    {
      "cell_type": "code",
      "metadata": {
        "id": "caUw08xyNQ1W",
        "colab_type": "code",
        "colab": {}
      },
      "source": [
        "bef_af_gap = eval_all[['교육전후 A교과에 대한 인지 수준 변화', '교육전후 B교과에 대한 인지 수준 변화',\n",
        "                     '교육전후 C교과에 대한 인지 수준 변화', '교육전후 A교과에 대한 기술 수준 변화',\n",
        "                     '교육전후 B교과에 대한 기술 수준 변화', '교육전후 C교과에 대한 기술 수준 변화',\n",
        "                     '교육전후 A교과에 대한 태도 수준 변화', '교육전후 B교과에 대한 태도 수준 변화',\n",
        "                     '교육전후 C교과에 대한 태도 수준 변화']]"
      ],
      "execution_count": 0,
      "outputs": []
    },
    {
      "cell_type": "markdown",
      "metadata": {
        "id": "0f-awmlqNQ1X",
        "colab_type": "text"
      },
      "source": [
        "### 직책별 교육전후 교과별 '인지 수준 - 기술 수준 - 태도 수준' 변화 분석"
      ]
    },
    {
      "cell_type": "code",
      "metadata": {
        "id": "l61QRcAzNQ1X",
        "colab_type": "code",
        "colab": {}
      },
      "source": [
        "bef_af_gap_by_pos = bef_af_gap.groupby(eval_all['직책']).mean()\n",
        "bef_af_gap_by_pos['평균'] = bef_af_gap_by_pos.mean(axis=1)\n",
        "bef_af_gap_by_pos"
      ],
      "execution_count": 0,
      "outputs": []
    },
    {
      "cell_type": "markdown",
      "metadata": {
        "id": "uJX5CjPhNQ1Y",
        "colab_type": "text"
      },
      "source": [
        "* '일반직원' / '중간관리직' / '고위관리직/ 국장급' 직책별로  '교과별 분야별 교육전후 수준 변화'의 평균을 측정한 결과, '고위관리직/ 국장급'의 수준 변화가 가장 큰 것으로 나타났으며, 고위관리직일수록 교육의 효과가 크다고 할 수 있다."
      ]
    },
    {
      "cell_type": "markdown",
      "metadata": {
        "id": "BP2ekDJFNQ1Y",
        "colab_type": "text"
      },
      "source": [
        "### 성별 교육전후 교과별 '인지 수준 - 기술 수준 - 태도 수준' 변화 분석"
      ]
    },
    {
      "cell_type": "code",
      "metadata": {
        "id": "ItY6fBNVNQ1Y",
        "colab_type": "code",
        "colab": {}
      },
      "source": [
        "bef_af_gap_by_pos = bef_af_gap.groupby(eval_all['성별_x']).mean()\n",
        "bef_af_gap_by_pos['평균'] = bef_af_gap_by_pos.mean(axis=1)\n",
        "bef_af_gap_by_pos.reset_index().rename(columns={'성별_x': '성별'}).set_index('성별')"
      ],
      "execution_count": 0,
      "outputs": []
    },
    {
      "cell_type": "markdown",
      "metadata": {
        "id": "huzAzsP7NQ1Z",
        "colab_type": "text"
      },
      "source": [
        "* 성별로 '교과별 분야별 교육전후 수준 변화'의 평균을 측정한 결과, 남자가 여자에 비해 수준 변화가 큰 것으로 나타났다."
      ]
    },
    {
      "cell_type": "markdown",
      "metadata": {
        "id": "W7dg03FPNQ1Z",
        "colab_type": "text"
      },
      "source": [
        "# 강의평가 결과"
      ]
    },
    {
      "cell_type": "code",
      "metadata": {
        "id": "APn0GTPsNQ1b",
        "colab_type": "code",
        "colab": {}
      },
      "source": [
        "# eval_all에서 '숫자-숫자'포함한 열 값 추출 후, '성명'열과 합쳐 강의평가 데이터프레임 생성. 현재 eval_all_crs_eval과 동일 값\n",
        "# pd.concat([eval_all['성명'], eval_all.filter(regex = '^\\\\d-\\\\d' , axis=1)],axis=1)\n",
        "eval_all_crs_eval['1-1. 연수과정 만족도_맞춤형 구성'] = eval_all_crs_eval['1-1. 연수과정 만족도_맞춤형 구성'].astype('float64')"
      ],
      "execution_count": 0,
      "outputs": []
    },
    {
      "cell_type": "code",
      "metadata": {
        "id": "c3tKNhF5NQ1c",
        "colab_type": "code",
        "colab": {}
      },
      "source": [
        "eval_all_crs_eval"
      ],
      "execution_count": 0,
      "outputs": []
    },
    {
      "cell_type": "code",
      "metadata": {
        "id": "PWOmFp7oNQ1d",
        "colab_type": "code",
        "colab": {}
      },
      "source": [
        "eval_all_crs_eval['강의1: 국제협력 사업실행팀 수자원개발 및 관리사례'] = eval_all_crs_eval.loc[:,'1-1. 연수과정 만족도_맞춤형 구성':'1-6. 강의시간 적절성'].mean(axis=1)\n",
        "eval_all_crs_eval['강의2: 국제협력 사업실행팀 수처리시설건설사례 세미나'] = eval_all_crs_eval.loc[:,'2-1. 연수과정 만족도_맞춤형 구성':'2-6. 강의시간 적절성'].mean(axis=1)\n",
        "eval_all_crs_eval['강의3: 민간투자사업제도와 적격성조사'] = eval_all_crs_eval.loc[:,'3-1. 연수과정 만족도_맞춤형 구성':'3-6. 강의시간 적절성'].mean(axis=1)\n",
        "eval_all_crs_eval['강의4: 도로교통시설과 도로정책'] = eval_all_crs_eval.loc[:,'4-1. 연수과정 만족도_맞춤형 구성':'4-6. 강의시간 적절성'].mean(axis=1)\n",
        "eval_all_crs_eval['강의5: 한국의 공공투자관리시스템'] = eval_all_crs_eval.loc[:,'5-1. 연수과정 만족도_맞춤형 구성':'5-6. 강의시간 적절성'].mean(axis=1)\n",
        "eval_all_crs_eval['강의6: 상암미디어시티 개발사례'] = eval_all_crs_eval.loc[:,'6-1. 연수과정 만족도_맞춤형 구성':'6-6. 강의시간 적절성'].mean(axis=1, skipna=True)\n",
        "eval_all_crs_eval['강의7: 국제협력사업실습'] = eval_all_crs_eval.loc[:,'7-1. 연수과정 만족도_맞춤형 구성':'7-6. 강의시간 적절성'].mean(axis=1, skipna=True)\n",
        "eval_all_crs_eval"
      ],
      "execution_count": 0,
      "outputs": []
    },
    {
      "cell_type": "code",
      "metadata": {
        "id": "ULjImvUpNQ1e",
        "colab_type": "code",
        "colab": {}
      },
      "source": [
        "# ignore_index=True 인자가 있어야만 열별 합계 병합이 가능하며, ignore_index=True 실행 시 인덱스인 '성명'열이 사라지므로 이를 방지하기 위해 인덱스를 reset 후 .append\n",
        "eval_all_crs_eval = eval_all_crs_eval.reset_index().append(eval_all_crs_eval.mean(skipna=True, axis=0), ignore_index=True)"
      ],
      "execution_count": 0,
      "outputs": []
    },
    {
      "cell_type": "code",
      "metadata": {
        "id": "zavbs7ipNQ1e",
        "colab_type": "code",
        "colab": {}
      },
      "source": [
        "# NaN 값을 '평균'으로 변경\n",
        "eval_all_crs_eval = eval_all_crs_eval.replace({'성명': np.nan}, {'성명': '평균'}).set_index('성명')\n",
        "eval_all_crs_eval"
      ],
      "execution_count": 0,
      "outputs": []
    },
    {
      "cell_type": "code",
      "metadata": {
        "id": "OSJcmBhNNQ1f",
        "colab_type": "code",
        "colab": {}
      },
      "source": [
        "eval_all_crs_eval.columns.values"
      ],
      "execution_count": 0,
      "outputs": []
    },
    {
      "cell_type": "markdown",
      "metadata": {
        "id": "wRwlB4ZINQ1g",
        "colab_type": "text"
      },
      "source": [
        "## 문항별 강의평가"
      ]
    },
    {
      "cell_type": "code",
      "metadata": {
        "id": "tYMN1E31NQ1i",
        "colab_type": "code",
        "colab": {}
      },
      "source": [
        "eval_all_crs_eval_question = eval_all_crs_eval.reset_index().drop(eval_all_crs_eval.columns[[41,42,43,44,45,46,47,48]],1)\n",
        "eval_all_crs_eval_question"
      ],
      "execution_count": 0,
      "outputs": []
    },
    {
      "cell_type": "code",
      "metadata": {
        "id": "JjcFV2uINQ1i",
        "colab_type": "code",
        "colab": {}
      },
      "source": [
        "eval_all_crs_eval_question_mean = \\\n",
        "eval_all_crs_eval_question.drop(eval_all_crs_eval_question.index[[0,1,2,3,4,5,6,7,8,9,10,11,12]]).\\\n",
        "                          rename(columns={'성명': '구분'}).set_index('구분')"
      ],
      "execution_count": 0,
      "outputs": []
    },
    {
      "cell_type": "code",
      "metadata": {
        "id": "NOtmgMLVNQ1j",
        "colab_type": "code",
        "colab": {}
      },
      "source": [
        "eval_all_crs_eval_question_mean"
      ],
      "execution_count": 0,
      "outputs": []
    },
    {
      "cell_type": "code",
      "metadata": {
        "id": "S3m4fEKbNQ1k",
        "colab_type": "code",
        "colab": {}
      },
      "source": [
        "eval_all_crs_eval_question_mean.astype('float64')"
      ],
      "execution_count": 0,
      "outputs": []
    },
    {
      "cell_type": "code",
      "metadata": {
        "id": "gMtS4ksDNQ1k",
        "colab_type": "code",
        "colab": {}
      },
      "source": [
        "eval_all_crs_eval_question_mean['1. 연수과정 만족도_맞춤형 구성'] = eval_all_crs_eval_question_mean.iloc[:,[0,6,12,18,24,30,36]].mean(axis=1)\n",
        "eval_all_crs_eval_question_mean['2. 강사 전문성'] = eval_all_crs_eval_question_mean.iloc[:,[1,7,13,19,25,31,37]].mean(axis=1)\n",
        "eval_all_crs_eval_question_mean['3. 강의교재'] = eval_all_crs_eval_question_mean.iloc[:,[2,8,14,20,26,32,38]].mean(axis=1)\n",
        "eval_all_crs_eval_question_mean['4.강사 영어구사력 (또는 통역 숙련도)'] = eval_all_crs_eval_question_mean.iloc[:,[3,9,15,21,27,33,39]].mean(axis=1)\n",
        "eval_all_crs_eval_question_mean['5. 참여도 제고'] = eval_all_crs_eval_question_mean.iloc[:,[4,10,16,22,28,34,40]].mean(axis=1)\n",
        "eval_all_crs_eval_question_mean['6. 강의시간 적절성'] = eval_all_crs_eval_question_mean.iloc[:,[5,11,17,23,29,35,41]].mean(axis=1)\n",
        "eval_all_crs_eval_question_mean2 = eval_all_crs_eval_question_mean.iloc[:,[41,42,43,44,45,46]]"
      ],
      "execution_count": 0,
      "outputs": []
    },
    {
      "cell_type": "code",
      "metadata": {
        "id": "hF-5b3QsNQ1p",
        "colab_type": "code",
        "colab": {}
      },
      "source": [
        "eval_all_crs_eval_question_mean2.T"
      ],
      "execution_count": 0,
      "outputs": []
    },
    {
      "cell_type": "markdown",
      "metadata": {
        "id": "rckmpTTiNQ1p",
        "colab_type": "text"
      },
      "source": [
        "## 학생별 강의평가"
      ]
    },
    {
      "cell_type": "code",
      "metadata": {
        "id": "fayrbpKxNQ1p",
        "colab_type": "code",
        "colab": {}
      },
      "source": [
        "# 학생별 강의평가 '평균'의 데이터 프레임 생성\n",
        "eval_all_crs_eval_avr = eval_all_crs_eval.iloc[:,[42,43,44,45,46,47,48]]\n",
        "eval_all_crs_eval_avr"
      ],
      "execution_count": 0,
      "outputs": []
    },
    {
      "cell_type": "markdown",
      "metadata": {
        "id": "l34T07q5NQ1q",
        "colab_type": "text"
      },
      "source": [
        "## 강의별 강의평가"
      ]
    },
    {
      "cell_type": "markdown",
      "metadata": {
        "id": "c0-Fl14_NQ1q",
        "colab_type": "text"
      },
      "source": [
        "### 강의별 강의평가 평균"
      ]
    },
    {
      "cell_type": "code",
      "metadata": {
        "id": "vcTIqMiRNQ1q",
        "colab_type": "code",
        "colab": {}
      },
      "source": [
        "# 강의평가 '평균'의 데이터 프레임 생성\n",
        "pd.DataFrame(eval_all_crs_eval_avr.iloc[13])"
      ],
      "execution_count": 0,
      "outputs": []
    },
    {
      "cell_type": "markdown",
      "metadata": {
        "id": "liuuoag1NQ1r",
        "colab_type": "text"
      },
      "source": [
        "### 강의별 강의평가 평균의 바그래프"
      ]
    },
    {
      "cell_type": "code",
      "metadata": {
        "id": "yeD5mp79NQ1r",
        "colab_type": "code",
        "colab": {}
      },
      "source": [
        "# 강의평가 '평균'의 바그래프\n",
        "\n",
        "eval_all_crs_eval_avr_of_avr = eval_all_crs_eval_avr.iloc[13]\n",
        "eval_all_crs_eval_avr_of_avr\n",
        "\n",
        "plt.figure(figsize=(16, 10))\n",
        "# index=np.arange(len(eval_all_crs_eval_avr))\n",
        "plt.barh(eval_all_crs_eval_avr_of_avr.index, eval_all_crs_eval_avr_of_avr, 0.7)\n",
        "plt.title('강의평가', position=(0.5,1.02), fontsize=20)\n",
        "plt.ylabel('강의별 평균', fontsize=18)\n",
        "plt.xlabel('평균점수', fontsize=18)\n",
        "plt.xticks(np.arange(0,5.25,0.25), fontsize=15)\n",
        "plt.yticks(fontsize=15)\n",
        "plt.grid(True)    \n",
        "plt.show()"
      ],
      "execution_count": 0,
      "outputs": []
    },
    {
      "cell_type": "markdown",
      "metadata": {
        "id": "W0NH1QXKNQ1r",
        "colab_type": "text"
      },
      "source": [
        "### 강의별 강의평가 평균 간 correlation"
      ]
    },
    {
      "cell_type": "code",
      "metadata": {
        "id": "1qLuFxMzNQ1s",
        "colab_type": "code",
        "colab": {}
      },
      "source": [
        "eval_all_crs_eval_avr.corr()"
      ],
      "execution_count": 0,
      "outputs": []
    },
    {
      "cell_type": "code",
      "metadata": {
        "id": "Xn3ClGAONQ1s",
        "colab_type": "code",
        "colab": {}
      },
      "source": [
        "plt.figure(figsize=(16,10))\n",
        "plt.title('강의별 강의평가 평균 간 상관관계',position=(0.5,1.02), fontsize=20)\n",
        "plt.xticks(fontsize=15)\n",
        "plt.yticks(fontsize=15)\n",
        "ax = sns.heatmap(data=eval_all_crs_eval_avr.corr(), annot=True, fmt='.2f', linewidths=.5, cmap='Blues')\n",
        "plt.show(ax)"
      ],
      "execution_count": 0,
      "outputs": []
    },
    {
      "cell_type": "markdown",
      "metadata": {
        "id": "W_gaD3lJNQ1t",
        "colab_type": "text"
      },
      "source": [
        "'강의3: 민간투자사업제도와 적격성조사'과 '강의4: 도로교통시설과 도로정책'\n",
        "\n",
        "'강의3: 민간투자사업제도와 적격성조사'과 '강의5: 한국의 공공투자관리시스템'\n",
        "\n",
        "의 강의평가가 상관관계가 높은 것으로 나타났다."
      ]
    },
    {
      "cell_type": "markdown",
      "metadata": {
        "id": "wyQ0PRsWNQ1t",
        "colab_type": "text"
      },
      "source": [
        "- 인덱스를 통한 로우 삭제\n",
        "    - drop 명령어를 통해 특정 index를 가진 row를 삭제할 수 있다. df.index[1] 명령어는 1번 째 위치에 있는 index를 가져온다. 가져온 이 index를 drop에 인풋으로 넣어주면 해당 index를 가진 row를 삭제할 수 있다.\n",
        "\n",
        "\n",
        "- 데이터 수정하기\n",
        "    - 특정 컬럼, 로우의 데이터를 수정하고 싶으면 ix 를 이용하면 편하다. 아래 코드는 인덱스=0, 컬럼=A의 데이터를 0으로 수정한다. \n",
        "    - df.ix[0]['A'] = 0\n",
        "  \n",
        "  \n",
        "- 결측값, 실측값을 다른 값으로 교체하기 : replace(old_val, new_val)\n",
        "\n",
        "\n",
        "- list 를 다른 list 값으로 교체하기 : replace([old1, old2, ...], [new1, new2, ...])\n",
        "\n",
        "\n",
        "- mapping dict 로 원래 값, 교체할 값 매핑 : replace({old1 : new1, old2: new2})\n",
        "\n",
        "\n",
        "- DataFrame의 특정 칼럼 값 교체하기 : df.replace({'col1': old_val}, {'col1': new_val})"
      ]
    },
    {
      "cell_type": "code",
      "metadata": {
        "id": "2xdL5ek2NQ1u",
        "colab_type": "code",
        "colab": {}
      },
      "source": [
        ""
      ],
      "execution_count": 0,
      "outputs": []
    }
  ]
}