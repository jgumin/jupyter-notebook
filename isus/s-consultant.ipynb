{
 "cells": [
  {
   "cell_type": "markdown",
   "metadata": {
    "toc": true
   },
   "source": [
    "<h1>Table of Contents<span class=\"tocSkip\"></span></h1>\n",
    "<div class=\"toc\"><ul class=\"toc-item\"><li><span><a href=\"#설문항목\" data-toc-modified-id=\"설문항목-1\"><span class=\"toc-item-num\">1&nbsp;&nbsp;</span>설문항목</a></span><ul class=\"toc-item\"><li><span><a href=\"#교육-전-설문\" data-toc-modified-id=\"교육-전-설문-1.1\"><span class=\"toc-item-num\">1.1&nbsp;&nbsp;</span>교육 전 설문</a></span></li><li><span><a href=\"#교육-후-설문\" data-toc-modified-id=\"교육-후-설문-1.2\"><span class=\"toc-item-num\">1.2&nbsp;&nbsp;</span>교육 후 설문</a></span></li></ul></li><li><span><a href=\"#강의평가-설문\" data-toc-modified-id=\"강의평가-설문-2\"><span class=\"toc-item-num\">2&nbsp;&nbsp;</span>강의평가 설문</a></span></li><li><span><a href=\"#설문분석\" data-toc-modified-id=\"설문분석-3\"><span class=\"toc-item-num\">3&nbsp;&nbsp;</span>설문분석</a></span><ul class=\"toc-item\"><li><span><a href=\"#교육전-설문\" data-toc-modified-id=\"교육전-설문-3.1\"><span class=\"toc-item-num\">3.1&nbsp;&nbsp;</span>교육전 설문</a></span><ul class=\"toc-item\"><li><span><a href=\"#연수생-선발/추천을-위한-사전준비-기간은-적절하였다\" data-toc-modified-id=\"연수생-선발/추천을-위한-사전준비-기간은-적절하였다-3.1.1\"><span class=\"toc-item-num\">3.1.1&nbsp;&nbsp;</span>연수생 선발/추천을 위한 사전준비 기간은 적절하였다</a></span></li><li><span><a href=\"#연수생-선발/추천을-위한-사전준비-기간은-적절하였다\" data-toc-modified-id=\"연수생-선발/추천을-위한-사전준비-기간은-적절하였다-3.1.2\"><span class=\"toc-item-num\">3.1.2&nbsp;&nbsp;</span>연수생 선발/추천을 위한 사전준비 기간은 적절하였다</a></span></li><li><span><a href=\"#연수-신청방법-및-교육내용에-대한-구체적인-안내를-받았다\" data-toc-modified-id=\"연수-신청방법-및-교육내용에-대한-구체적인-안내를-받았다-3.1.3\"><span class=\"toc-item-num\">3.1.3&nbsp;&nbsp;</span>연수 신청방법 및 교육내용에 대한 구체적인 안내를 받았다</a></span></li></ul></li><li><span><a href=\"#교육후-설문\" data-toc-modified-id=\"교육후-설문-3.2\"><span class=\"toc-item-num\">3.2&nbsp;&nbsp;</span>교육후 설문</a></span><ul class=\"toc-item\"><li><span><a href=\"#연수과정의-내용은-연수생-현지의-상황과-요구에-맞게-구성되었다.\" data-toc-modified-id=\"연수과정의-내용은-연수생-현지의-상황과-요구에-맞게-구성되었다.-3.2.1\"><span class=\"toc-item-num\">3.2.1&nbsp;&nbsp;</span>연수과정의 내용은 연수생 현지의 상황과 요구에 맞게 구성되었다.</a></span></li><li><span><a href=\"#연수과정의-내용과-수준은-이해하기-적절하였다.\" data-toc-modified-id=\"연수과정의-내용과-수준은-이해하기-적절하였다.-3.2.2\"><span class=\"toc-item-num\">3.2.2&nbsp;&nbsp;</span>연수과정의 내용과 수준은 이해하기 적절하였다.</a></span></li><li><span><a href=\"#연수과정의-교육방법(강의,-실습/토의,-현장학습-등)은-연수내용을-이해하는데-적합하였다.\" data-toc-modified-id=\"연수과정의-교육방법(강의,-실습/토의,-현장학습-등)은-연수내용을-이해하는데-적합하였다.-3.2.3\"><span class=\"toc-item-num\">3.2.3&nbsp;&nbsp;</span>연수과정의 교육방법(강의, 실습/토의, 현장학습 등)은 연수내용을 이해하는데 적합하였다.</a></span></li><li><span><a href=\"#연수기관에서는-연수생-국가의-문화나-종교를-배려하기-위해-노력하였다\" data-toc-modified-id=\"연수기관에서는-연수생-국가의-문화나-종교를-배려하기-위해-노력하였다-3.2.4\"><span class=\"toc-item-num\">3.2.4&nbsp;&nbsp;</span>연수기관에서는 연수생 국가의 문화나 종교를 배려하기 위해 노력하였다</a></span></li><li><span><a href=\"#연수운영진은-연수과정을-원활하게-운영하였다.-(일정관리,-강의준비,-연수생-지원-등)\" data-toc-modified-id=\"연수운영진은-연수과정을-원활하게-운영하였다.-(일정관리,-강의준비,-연수생-지원-등)-3.2.5\"><span class=\"toc-item-num\">3.2.5&nbsp;&nbsp;</span>연수운영진은 연수과정을 원활하게 운영하였다. (일정관리, 강의준비, 연수생 지원 등)</a></span></li><li><span><a href=\"#연수운영진은-응급상황-등-사건사고에-대해-적절히-대처하였다.\" data-toc-modified-id=\"연수운영진은-응급상황-등-사건사고에-대해-적절히-대처하였다.-3.2.6\"><span class=\"toc-item-num\">3.2.6&nbsp;&nbsp;</span>연수운영진은 응급상황 등 사건사고에 대해 적절히 대처하였다.</a></span></li><li><span><a href=\"#강의실-및-실습실은-사용하기에-편리하였다.\" data-toc-modified-id=\"강의실-및-실습실은-사용하기에-편리하였다.-3.2.7\"><span class=\"toc-item-num\">3.2.7&nbsp;&nbsp;</span>강의실 및 실습실은 사용하기에 편리하였다.</a></span></li><li><span><a href=\"#연수-편의시설(휴게시설,-식당,-숙박시설-등)은-사용하기에-편리하였다.\" data-toc-modified-id=\"연수-편의시설(휴게시설,-식당,-숙박시설-등)은-사용하기에-편리하였다.-3.2.8\"><span class=\"toc-item-num\">3.2.8&nbsp;&nbsp;</span>연수 편의시설(휴게시설, 식당, 숙박시설 등)은 사용하기에 편리하였다.</a></span></li><li><span><a href=\"#연수과정에-사용된-교수학습매체는-적절하였다.-(교재,-동영상,-실습장비-등)\" data-toc-modified-id=\"연수과정에-사용된-교수학습매체는-적절하였다.-(교재,-동영상,-실습장비-등)-3.2.9\"><span class=\"toc-item-num\">3.2.9&nbsp;&nbsp;</span>연수과정에 사용된 교수학습매체는 적절하였다. (교재, 동영상, 실습장비 등)</a></span></li><li><span><a href=\"#강사진은-해당-분야에-대한-실무경험이나-전문성-수준이-높은-인력으로-구성되었다.\" data-toc-modified-id=\"강사진은-해당-분야에-대한-실무경험이나-전문성-수준이-높은-인력으로-구성되었다.-3.2.10\"><span class=\"toc-item-num\">3.2.10&nbsp;&nbsp;</span>강사진은 해당 분야에 대한 실무경험이나 전문성 수준이 높은 인력으로 구성되었다.</a></span></li><li><span><a href=\"#강사는-연수생과-소통하며-교육내용을-체계적이고-능숙하게-전달하였다\" data-toc-modified-id=\"강사는-연수생과-소통하며-교육내용을-체계적이고-능숙하게-전달하였다-3.2.11\"><span class=\"toc-item-num\">3.2.11&nbsp;&nbsp;</span>강사는 연수생과 소통하며 교육내용을 체계적이고 능숙하게 전달하였다</a></span></li><li><span><a href=\"#통역사는-이해하기-쉽도록-통역하였다.\" data-toc-modified-id=\"통역사는-이해하기-쉽도록-통역하였다.-3.2.12\"><span class=\"toc-item-num\">3.2.12&nbsp;&nbsp;</span>통역사는 이해하기 쉽도록 통역하였다.</a></span></li><li><span><a href=\"#국별보고/액션플랜의-주제는-연수과정-목표와-연계되어-있었다.\" data-toc-modified-id=\"국별보고/액션플랜의-주제는-연수과정-목표와-연계되어-있었다.-3.2.13\"><span class=\"toc-item-num\">3.2.13&nbsp;&nbsp;</span>국별보고/액션플랜의 주제는 연수과정 목표와 연계되어 있었다.</a></span></li><li><span><a href=\"#국별보고/액션플랜-세션시간은-충분하였다.\" data-toc-modified-id=\"국별보고/액션플랜-세션시간은-충분하였다.-3.2.14\"><span class=\"toc-item-num\">3.2.14&nbsp;&nbsp;</span>국별보고/액션플랜 세션시간은 충분하였다.</a></span></li><li><span><a href=\"#액션플랜-작성-및-발표를-위한-사전안내가-충분히-이루어졌다.\" data-toc-modified-id=\"액션플랜-작성-및-발표를-위한-사전안내가-충분히-이루어졌다.-3.2.15\"><span class=\"toc-item-num\">3.2.15&nbsp;&nbsp;</span>액션플랜 작성 및 발표를 위한 사전안내가 충분히 이루어졌다.</a></span></li><li><span><a href=\"#국별보고/액션플랜-세션-담당자는-피드백을-충분히-제공하였다.\" data-toc-modified-id=\"국별보고/액션플랜-세션-담당자는-피드백을-충분히-제공하였다.-3.2.16\"><span class=\"toc-item-num\">3.2.16&nbsp;&nbsp;</span>국별보고/액션플랜 세션 담당자는 피드백을 충분히 제공하였다.</a></span></li><li><span><a href=\"#국별보고/액션플랜-세션은-연수내용을-이해하는데-도움이-되었다.\" data-toc-modified-id=\"국별보고/액션플랜-세션은-연수내용을-이해하는데-도움이-되었다.-3.2.17\"><span class=\"toc-item-num\">3.2.17&nbsp;&nbsp;</span>국별보고/액션플랜 세션은 연수내용을 이해하는데 도움이 되었다.</a></span></li><li><span><a href=\"#액션플랜-작성은-현장에서-실무능력을-향상시키는데-도움이-되었다.\" data-toc-modified-id=\"액션플랜-작성은-현장에서-실무능력을-향상시키는데-도움이-되었다.-3.2.18\"><span class=\"toc-item-num\">3.2.18&nbsp;&nbsp;</span>액션플랜 작성은 현장에서 실무능력을 향상시키는데 도움이 되었다.</a></span></li></ul></li><li><span><a href=\"#연수생만족도-관련-설문항목-분석\" data-toc-modified-id=\"연수생만족도-관련-설문항목-분석-3.3\"><span class=\"toc-item-num\">3.3&nbsp;&nbsp;</span>연수생만족도 관련 설문항목 분석</a></span><ul class=\"toc-item\"><li><span><a href=\"#연수생만족도-항목별-평균값\" data-toc-modified-id=\"연수생만족도-항목별-평균값-3.3.1\"><span class=\"toc-item-num\">3.3.1&nbsp;&nbsp;</span>연수생만족도 항목별 평균값</a></span></li><li><span><a href=\"#연수생만족도-주제-그룹-평균값\" data-toc-modified-id=\"연수생만족도-주제-그룹-평균값-3.3.2\"><span class=\"toc-item-num\">3.3.2&nbsp;&nbsp;</span>연수생만족도 주제 그룹 평균값</a></span></li></ul></li><li><span><a href=\"#교육전후-교과별-'인지-수준---기술-수준---태도-수준'-변화-분석\" data-toc-modified-id=\"교육전후-교과별-'인지-수준---기술-수준---태도-수준'-변화-분석-3.4\"><span class=\"toc-item-num\">3.4&nbsp;&nbsp;</span>교육전후 교과별 '인지 수준 - 기술 수준 - 태도 수준' 변화 분석</a></span><ul class=\"toc-item\"><li><span><a href=\"#'PPP와-개도국에-대한-PPP적용방법에-대한-이해-(A교과)'에-대한-참가자별-'인지---기술---태도'-수준-변화\" data-toc-modified-id=\"'PPP와-개도국에-대한-PPP적용방법에-대한-이해-(A교과)'에-대한-참가자별-'인지---기술---태도'-수준-변화-3.4.1\"><span class=\"toc-item-num\">3.4.1&nbsp;&nbsp;</span>'PPP와 개도국에 대한 PPP적용방법에 대한 이해 (A교과)'에 대한 참가자별 '인지 - 기술 - 태도' 수준 변화</a></span><ul class=\"toc-item\"><li><span><a href=\"#A교과에-대한-인지-수준-변화\" data-toc-modified-id=\"A교과에-대한-인지-수준-변화-3.4.1.1\"><span class=\"toc-item-num\">3.4.1.1&nbsp;&nbsp;</span>A교과에 대한 인지 수준 변화</a></span></li><li><span><a href=\"#A교과에-대한-기술-수준-변화\" data-toc-modified-id=\"A교과에-대한-기술-수준-변화-3.4.1.2\"><span class=\"toc-item-num\">3.4.1.2&nbsp;&nbsp;</span>A교과에 대한 기술 수준 변화</a></span></li><li><span><a href=\"#A교과에-대한-태도-수준-변화\" data-toc-modified-id=\"A교과에-대한-태도-수준-변화-3.4.1.3\"><span class=\"toc-item-num\">3.4.1.3&nbsp;&nbsp;</span>A교과에 대한 태도 수준 변화</a></span></li></ul></li><li><span><a href=\"#'개도국을-위한-적용가능한-수질개선기술-(B교과)'에-대한-참가자별-'인지---기술---태도'-수준-변화\" data-toc-modified-id=\"'개도국을-위한-적용가능한-수질개선기술-(B교과)'에-대한-참가자별-'인지---기술---태도'-수준-변화-3.4.2\"><span class=\"toc-item-num\">3.4.2&nbsp;&nbsp;</span>'개도국을 위한 적용가능한 수질개선기술 (B교과)'에 대한 참가자별 '인지 - 기술 - 태도' 수준 변화</a></span><ul class=\"toc-item\"><li><span><a href=\"#B교과에-대한-인지-수준-변화\" data-toc-modified-id=\"B교과에-대한-인지-수준-변화-3.4.2.1\"><span class=\"toc-item-num\">3.4.2.1&nbsp;&nbsp;</span>B교과에 대한 인지 수준 변화</a></span></li><li><span><a href=\"#B교과에-대한-기술-수준-변화\" data-toc-modified-id=\"B교과에-대한-기술-수준-변화-3.4.2.2\"><span class=\"toc-item-num\">3.4.2.2&nbsp;&nbsp;</span>B교과에 대한 기술 수준 변화</a></span></li><li><span><a href=\"#B교과에-대한-태도-수준-변화\" data-toc-modified-id=\"B교과에-대한-태도-수준-변화-3.4.2.3\"><span class=\"toc-item-num\">3.4.2.3&nbsp;&nbsp;</span>B교과에 대한 태도 수준 변화</a></span></li></ul></li><li><span><a href=\"#'개도국을-위한-미디어시티,-도로,-교통시설-개발-(C-교과)'-에-대한-참가자별-'인지---기술---태도'-수준-변화\" data-toc-modified-id=\"'개도국을-위한-미디어시티,-도로,-교통시설-개발-(C-교과)'-에-대한-참가자별-'인지---기술---태도'-수준-변화-3.4.3\"><span class=\"toc-item-num\">3.4.3&nbsp;&nbsp;</span>'개도국을 위한 미디어시티, 도로, 교통시설 개발 (C 교과)' 에 대한 참가자별 '인지 - 기술 - 태도' 수준 변화</a></span><ul class=\"toc-item\"><li><span><a href=\"#C교과에-대한-인지-수준-변화\" data-toc-modified-id=\"C교과에-대한-인지-수준-변화-3.4.3.1\"><span class=\"toc-item-num\">3.4.3.1&nbsp;&nbsp;</span>C교과에 대한 인지 수준 변화</a></span></li><li><span><a href=\"#C교과에-대한-기술-수준-변화\" data-toc-modified-id=\"C교과에-대한-기술-수준-변화-3.4.3.2\"><span class=\"toc-item-num\">3.4.3.2&nbsp;&nbsp;</span>C교과에 대한 기술 수준 변화</a></span></li><li><span><a href=\"#C교과에-대한-태도-수준-변화\" data-toc-modified-id=\"C교과에-대한-태도-수준-변화-3.4.3.3\"><span class=\"toc-item-num\">3.4.3.3&nbsp;&nbsp;</span>C교과에 대한 태도 수준 변화</a></span></li></ul></li></ul></li><li><span><a href=\"#수준-변화에-대한-T검정-및-직책별-성별-'인지-수준---기술-수준---태도-수준'-변화-분석\" data-toc-modified-id=\"수준-변화에-대한-T검정-및-직책별-성별-'인지-수준---기술-수준---태도-수준'-변화-분석-3.5\"><span class=\"toc-item-num\">3.5&nbsp;&nbsp;</span>수준 변화에 대한 T검정 및 직책별-성별 '인지 수준 - 기술 수준 - 태도 수준' 변화 분석</a></span><ul class=\"toc-item\"><li><span><a href=\"#교육전후-교과별-'인지-수준---기술-수준---태도-수준'-변화에-대한-T검정\" data-toc-modified-id=\"교육전후-교과별-'인지-수준---기술-수준---태도-수준'-변화에-대한-T검정-3.5.1\"><span class=\"toc-item-num\">3.5.1&nbsp;&nbsp;</span>교육전후 교과별 '인지 수준 - 기술 수준 - 태도 수준' 변화에 대한 T검정</a></span></li><li><span><a href=\"#교육전후-교과별-'인지-수준---기술-수준---태도-수준'-변화-데이터\" data-toc-modified-id=\"교육전후-교과별-'인지-수준---기술-수준---태도-수준'-변화-데이터-3.5.2\"><span class=\"toc-item-num\">3.5.2&nbsp;&nbsp;</span>교육전후 교과별 '인지 수준 - 기술 수준 - 태도 수준' 변화 데이터</a></span></li><li><span><a href=\"#강의평가-데이터를--설문결과-및-학생정보-데이터에-병합\" data-toc-modified-id=\"강의평가-데이터를--설문결과-및-학생정보-데이터에-병합-3.5.3\"><span class=\"toc-item-num\">3.5.3&nbsp;&nbsp;</span>강의평가 데이터를  설문결과 및 학생정보 데이터에 병합</a></span></li><li><span><a href=\"#직책별-교육전후-교과별-'인지-수준---기술-수준---태도-수준'-변화-분석\" data-toc-modified-id=\"직책별-교육전후-교과별-'인지-수준---기술-수준---태도-수준'-변화-분석-3.5.4\"><span class=\"toc-item-num\">3.5.4&nbsp;&nbsp;</span>직책별 교육전후 교과별 '인지 수준 - 기술 수준 - 태도 수준' 변화 분석</a></span></li><li><span><a href=\"#성별-교육전후-교과별-'인지-수준---기술-수준---태도-수준'-변화-분석\" data-toc-modified-id=\"성별-교육전후-교과별-'인지-수준---기술-수준---태도-수준'-변화-분석-3.5.5\"><span class=\"toc-item-num\">3.5.5&nbsp;&nbsp;</span>성별 교육전후 교과별 '인지 수준 - 기술 수준 - 태도 수준' 변화 분석</a></span></li></ul></li></ul></li><li><span><a href=\"#강의평가-결과\" data-toc-modified-id=\"강의평가-결과-4\"><span class=\"toc-item-num\">4&nbsp;&nbsp;</span>강의평가 결과</a></span><ul class=\"toc-item\"><li><span><a href=\"#학생별-강의평가\" data-toc-modified-id=\"학생별-강의평가-4.1\"><span class=\"toc-item-num\">4.1&nbsp;&nbsp;</span>학생별 강의평가</a></span></li><li><span><a href=\"#강의별-강의평가\" data-toc-modified-id=\"강의별-강의평가-4.2\"><span class=\"toc-item-num\">4.2&nbsp;&nbsp;</span>강의별 강의평가</a></span><ul class=\"toc-item\"><li><span><a href=\"#강의별-강의평가-평균\" data-toc-modified-id=\"강의별-강의평가-평균-4.2.1\"><span class=\"toc-item-num\">4.2.1&nbsp;&nbsp;</span>강의별 강의평가 평균</a></span></li><li><span><a href=\"#강의별-강의평가-평균의-바그래프\" data-toc-modified-id=\"강의별-강의평가-평균의-바그래프-4.2.2\"><span class=\"toc-item-num\">4.2.2&nbsp;&nbsp;</span>강의별 강의평가 평균의 바그래프</a></span></li><li><span><a href=\"#강의별-강의평가-평균-간-correlation\" data-toc-modified-id=\"강의별-강의평가-평균-간-correlation-4.2.3\"><span class=\"toc-item-num\">4.2.3&nbsp;&nbsp;</span>강의별 강의평가 평균 간 correlation</a></span></li></ul></li></ul></li></ul></div>"
   ]
  },
  {
   "cell_type": "markdown",
   "metadata": {},
   "source": [
    "# 설문항목\n",
    "\n",
    "## 교육 전 설문\n",
    "**1. The following questions relate to the guide for the application and participant selection for the course. Please check the number that best expresses your thoughts.  (다음은 귀하께서 참여하신 연수과정의 운영 적절성 및 만족도에 대한 항목입니다. 각 문항에 대해 귀하의 생각과 일치하시는 곳에 ✔표 하여 주시길 바랍니다.)**<br><br>\n",
    "\n",
    "   *Check: ① Strongly disagree  (전혀 그렇지않다) ② Disagree  (그렇지않다) ③ Neutral  (보통이다) ④ Agree  (그렇다) ⑤ Strongly agree  (매우 그렇다)* <br><br>\n",
    "   \n",
    "   1-1. Preparatory period for applying and selecting participants was appropriate.  (연수생 선발/추천을 위한 사전준비 기간은\n",
    "적절하였다.)<br>\n",
    "   1-2. I received a detailed guide on how to apply for a program and the content of the program.  (연수 신청방법 및 교육내용에 대한 구체적인 안내를 받았다.)<br><br>\n",
    "\n",
    "\n",
    "**2. The following questions relate to the level of prior knowledge as to the main learning content of the course.  (다음은 귀하께서 참여하신 연수과정의 주요 학습내용에 대한 선행수준에 대한 문항입니다.)**<br><br>\n",
    "Please check the number that matches your current level of learning content below  (아래 학습내용에 대한 귀하의 현재수준과 일치하시는 곳에 ✔표 하여 주시길 바랍니다.): <br>\n",
    "   2-1. Understanding Public-Private Partnership and Its Applicability to Developing Countries)  (PPP와 개도국에 대한 PPP적용방법에 대한 이해) <br>\n",
    "   2-2. Applicable Water Quality Improvement Technique for Developing Countries  (개도국을 위한 적용가능한 수질개선기술) <br>\n",
    "   2-3. Developing a Media City and Road and Traffic Facility for Developing Countries  (개도국을 위한 미디어시티, 도로, 교통시설 개발) <br><br>\n",
    "   \n",
    "   *Check: 2-1-1 / 2-2-1 / 2-3-1. Cognitive knowledge  (인지 수준)* <br>\n",
    "    ① I do not know the basic theory or knowledge about learning content.  (학습내용과 관련된 기초이론이나 지식을 알지 못한다.) <br>\n",
    "    ② I have basic knowledge about learning content.  (학습내용에 대한 기초적인 지식을 가지고 있다.) <br>\n",
    "    ③ I can explain learning content to others.  (학습내용에 대해 다른 사람에게 설명할 수 있다.) <br>\n",
    "    ④ I can apply learning content to similar tasks.  (학습내용을 유사한 업무에 적용할 수 있다.) <br>\n",
    "    ⑤ I can apply learning content to other tasks as well as similar tasks.  (학습내용을 유사한 업무뿐만 아니라 다른 상황에도 응용할 수 있다.) <br><br>\n",
    "\n",
    "   *Check: 2-1-2 / 2-2-2 / 2-3-2. Technical skill*  (기술 수준) <br>\n",
    "    ① I do not know the procedure or method for carrying out learning content.  (학습내용을 실행하기 위한 절차나 방법을 모른다.) <br>\n",
    "    ② I am familiar with the procedure and method of using learning content for work.  (학습내용을 업무에 활용하는 절차나 방법을 알고 있다.) <br>\n",
    "    ③ I can use learning content for work under the guidance of others.  (학습내용을 다른 사람의 지도를 받아 업무에 활용할 수 있다.) <br>\n",
    "    ④ I can use learning content for work without help of others.  (학습내용을 다른 사람의 도움 없이 스스로 업무에 활용할 수 있다.) <br>\n",
    "    ⑤ I can use learning content for work to produce successful outcomes.  (학습내용을 업무에 활용하여 성공적인 결과를 낼 수 있다.) <br><br>\n",
    "\n",
    "   *Check: 2-1-3 / 2-2-3 / 2-3-3. Attitude*  (태도 수준) <br>\n",
    "    ① I am not interested in learning content.  (학습내용에 관심이 없다.) <br>\n",
    "    ② I am interested in learning content.  (학습내용에 관심이나 흥미가 있다.) <br>\n",
    "    ③ I think learning content is important and valuable to me.  (학습내용은 나에게 중요하고 가치 있는 내용이라고 생각한다.) <br>\n",
    "    ④ I am willing to strive to apply learning content to work.  (학습내용을 업무에 적용하기 위해 노력할 마음이 있다.) <br>\n",
    "    ⑤ I have a concrete plan to apply learning content to work.  (학습내용을 업무에 적용할 구체적인 계획이 있다.) <br><br>"
   ]
  },
  {
   "cell_type": "markdown",
   "metadata": {},
   "source": [
    "## 교육 후 설문\n",
    "**1. The following questions relate to the level of satisfaction in program content, operation and facilities. Please check the number that best expresses your thoughts.**<br><br>\n",
    "\n",
    "   *Check: ① Very unsatisfactory (매우 불만족) ② Unsatisfactory (불만족) ③ Neutral (보통) ④ Satisfactory (만족) ⑤ Very satisfactory (매우 만족)* <br>\n",
    "   \n",
    "   **Program Content (연수프로그램)**<br>\n",
    "   1-1. The content of the course was tailored to the circumstances and needs of the participants’ country. (연수과정의 내용은 연수생 현지의 상황과 요구에 맞게 구성되었다.) <br>\n",
    "   1-2. The content and level of the course were appropriate to understand. (연수과정의 내용과 수준은 이해하기 적절하였다.)<br>\n",
    "   1-3. The education methods of the course  (lecture, practice/ discussion, field learning, etc.) were appropriate to understand the content. (연수과정의 교육방법 (강의, 실습/토의, 현장학습 등)은 연수내용을 이해하는데 적합하였다.)<br>\n",
    "      \n",
    "   **Program Operation (연수운영)**<br>\n",
    "   1-4. The training institute tried to consider the culture and religion of the participants’country. (연수기관에서는 연수생 국가의 문화나 종교를 배려하기 위해 노력하였다.) <br>\n",
    "   1-5. The staff managed the program process smoothly  (schedule management, lecture preparation, support for participants, etc.). (연수운영진은 연수과정을 원활하게 운영하였다.  (일정관리, 강의준비, 연수생 지원 등))<br>\n",
    "   1-6. The staff responded properly to accidents such as emergency  situations. (연수운영진은 응급상황 등 사건사고에 대해 적절히 대처하였다.)<br>\n",
    "\n",
    "   **Program Facilities (연수시설)**<br>\n",
    "   1-7. Classrooms and laboratories were convenient to use. (강의실 및 실습실은 사용하기에 편리하였다.) <br>\n",
    "   1-8. Program amenities  (rest lounges, restaurants, accommodations, etc.) were convenient to use. (연수 편의시설 (휴게시설, 식당, 숙박시설 등)은 사용하기에 편리하였다.) <br>\n",
    "\n",
    "**2. The following questions relate to the level of satisfaction about the materials and instructors. (다음은 귀하께서 참여하신 연수과정의 교재 및 강사 만족도에 대한 항목입니다.)**<br><br>\n",
    "   *Check: ① There was an interpreter. (통역이 있었음) ② There was no interpreter. (통역이 없었음)*<br>\n",
    "   2-1. Was there any interpreter in the course that you attended? (귀하께서 참여하신 연수과정에 통역사가 있었습니까?) <br><br>\n",
    "\n",
    "   *Check: ① Very unsatisfactory (매우 불만족) ② Unsatisfactory (불만족) ③ Neutral (보통) ④ Satisfactory (만족) ⑤ Very satisfactory (매우 만족)* <br>\n",
    "   2-2. Please check the number that best expresses your thoughts. (각 문항에 대해 귀하의 생각과 일치하시는 곳에 ✔표 하여 주시길 바랍니다.) <br><br>\n",
    "   2-2-1. The teaching and learning medium used in the course was appropriate  (eg. materials, videos, practice equipment, etc.). (연수과정에 사용된 교수학습매체는 적절하였다.  (교재, 동영상, 실습장비 등))<br>\n",
    "   2-2-2. Instructors consisted of those with a high level of practical experience and expertise in the field. (강사진은 해당 분야에 대한 실무경험이나 전문성 수준이 높은 인력으로 구성되었다.)<br>\n",
    "   2-2-3. Instructors communicated with participants to deliver the training content in a systematic, proficient manner. (강사는 연수생과 소통하며 교육내용을 체계적이고 능숙하게 전달하였다)<br>\n",
    "   2-2-4. Interpreting was easy to understand  (If you answered ② in 2-1, you do not have to answer). (통역사는 이해하기 쉽도록 통역하였다.  (2-1에서 ②에 응답한 경우, 응답하지 않으셔도 됩니다))<br><br>\n",
    "\n",
    "**3. The following questions relate to the level of accomplishment with respect to the main learning content. (다음은 귀하께서 참여하신 연수과정의 주요 학습내용에 대한 성취수준에 대한 문항입니다.)**<br><br>\n",
    "Please check the number that matches your current level of learning content below (아래 학습내용에 대한 귀하의 현재수준과 일치하시는 곳에 ✔표 하여 주시길 바랍니다.): <br>\n",
    "   3-1. Understanding Public-Private Partnership and Its Applicability to Developing Countries) (PPP와 개도국에 대한 PPP적용방법에 대한 이해) <br>\n",
    "   3-2. Applicable Water Quality Improvement Technique for Developing Countries (개도국을 위한 적용가능한 수질개선기술) <br>\n",
    "   3-3. Developing a Media City and Road and Traffic Facility for Developing Countries (개도국을 위한 미디어시티, 도로, 교통시설 개발) <br><br>\n",
    "   \n",
    "   *Check: 3-1-1 / 3-2-1 / 3-3-1. Cognitive knowledge (인지 수준)* <br>\n",
    "    ① I do not know the basic theory or knowledge about learning content. (학습내용과 관련된 기초이론이나 지식을 알지 못한다.) <br>\n",
    "    ② I have basic knowledge about learning content. (학습내용에 대한 기초적인 지식을 가지고 있다.) <br>\n",
    "    ③ I can explain learning content to others. (학습내용에 대해 다른 사람에게 설명할 수 있다.) <br>\n",
    "    ④ I can apply learning content to similar tasks. (학습내용을 유사한 업무에 적용할 수 있다.) <br>\n",
    "    ⑤ I can apply learning content to other tasks as well as similar tasks. (학습내용을 유사한 업무뿐만 아니라 다른 상황에도 응용할 수 있다.) <br><br>\n",
    "\n",
    "   *Check: 3-1-2 / 3-2-2 / 3-3-2. Technical skill* (기술 수준) <br>\n",
    "    ① I do not know the procedure or method for carrying out learning content. (학습내용을 실행하기 위한 절차나 방법을 모른다.) <br>\n",
    "    ② I am familiar with the procedure and method of using learning content for work. (학습내용을 업무에 활용하는 절차나 방법을 알고 있다.) <br>\n",
    "    ③ I can use learning content for work under the guidance of others. (학습내용을 다른 사람의 지도를 받아 업무에 활용할 수 있다.) <br>\n",
    "    ④ I can use learning content for work without help of others. (학습내용을 다른 사람의 도움 없이 스스로 업무에 활용할 수 있다.) <br>\n",
    "    ⑤ I can use learning content for work to produce successful outcomes. (학습내용을 업무에 활용하여 성공적인 결과를 낼 수 있다.) <br><br>\n",
    "\n",
    "   *Check: 3-1-3 / 3-2-3 / 3-3-3. Attitude* (태도 수준) <br>\n",
    "    ① I am not interested in learning content. (학습내용에 관심이 없다.) <br>\n",
    "    ② I am interested in learning content. (학습내용에 관심이나 흥미가 있다.) <br>\n",
    "    ③ I think learning content is important and valuable to me. (학습내용은 나에게 중요하고 가치 있는 내용이라고 생각한다.) <br>\n",
    "    ④ I am willing to strive to apply learning content to work. (학습내용을 업무에 적용하기 위해 노력할 마음이 있다.) <br>\n",
    "    ⑤ I have a concrete plan to apply learning content to work. (학습내용을 업무에 적용할 구체적인 계획이 있다.) <br><br>"
   ]
  },
  {
   "cell_type": "markdown",
   "metadata": {},
   "source": [
    "* 교과목명 index\n",
    "    * A교과: Understanding Public-Private Partnership and Its Applicability to Developing Countries (PPP와 개도국에 대한 PPP적용방법에 대한 이해)\n",
    "    * B교과: Applicable Water Quality Improvement Technique for Developing Countries (개도국을 위한 적용가능한 수질개선기술)\n",
    "    * C교과: Developing a Media City and Road and Traffic Facility for Developing Countries (개도국을 위한 미디어시티, 도로, 교통시설 개발)"
   ]
  },
  {
   "cell_type": "markdown",
   "metadata": {},
   "source": [
    "# 강의평가 설문\n",
    "\n",
    "아래 질문 별로 5점 척도 중 해당되는 체크항목에 표시 <br><br>\n",
    "Check: ① Strongly disagree (전혀 그렇지않다) ② Disagree (그렇지않다) ③ Neutral (보통이다) ④ Agree (그렇다) ⑤ Strongly agree (매우 그렇다) \n",
    "\n",
    "1. The lecture was relevant to the training objectives. (연수 목표와의 연관성)\n",
    "2. The lecturer was knowledgeable. (강사 전문성)\n",
    "3. The material was useful. (강의교재)\n",
    "4. The lecturer's English proficiency (translation skill) was good enough. (강사 영어구사력 (또는 통역 숙련도))\n",
    "5. Class participation and interaction were encouraged. (참여도 제고)\n",
    "6. Adequate time was allocated for the lecture. (강의시간 적절성)"
   ]
  },
  {
   "cell_type": "markdown",
   "metadata": {},
   "source": [
    "* 강의명 index\n",
    "    * 강의1: 국제협력 사업실행팀 수자원개발 및 관리사례\n",
    "    * 강의2: 국제협력 사업실행팀 수처리시설건설사례 세미나\n",
    "    * 강의3: 민간투자사업제도와 적격성조사\n",
    "    * 강의4: 도로교통시설과 도로정책\n",
    "    * 강의5: 한국의 공공투자관리시스템\n",
    "    * 강의6: 상암미디어시티 개발사례\n",
    "    * 강의7: 국제협력사업실습"
   ]
  },
  {
   "cell_type": "code",
   "execution_count": null,
   "metadata": {},
   "outputs": [],
   "source": [
    "# 그래프에서 한글표현을 위해 폰트를 설치합니다.\n",
    "# %config InlineBackend.figure_format = 'retina'\n",
    "\n",
    "# !apt -qq -y install fonts-nanum > /dev/null\n",
    "# import matplotlib.font_manager as fm\n",
    "# fontpath = '/usr/share/fonts/truetype/nanum/NanumBarunGothic.ttf'\n",
    "# font = fm.FontProperties(fname=fontpath, size=9)"
   ]
  },
  {
   "cell_type": "code",
   "execution_count": 7,
   "metadata": {},
   "outputs": [],
   "source": [
    "# 노트북 안에서 그래프를 그리기 위해\n",
    "%matplotlib inline\n",
    "# %matplotlib nbagg\n",
    "\n",
    "import pandas as pd\n",
    "import numpy as np\n",
    "import matplotlib.pyplot as plt\n",
    "import seaborn as sns\n",
    "plt.rcParams['figure.figsize'] = [10, 6]\n",
    "\n",
    "\n",
    "# #  display two pandas tables side by side\n",
    "# from IPython.display import display, HTML\n",
    "# CSS = \"\"\"\n",
    "# .output {\n",
    "#     flex-direction: row;\n",
    "# }\n",
    "# \"\"\"\n",
    "# HTML('<style>{}</style>'.format(CSS))\n",
    "\n",
    "\n",
    "# 기본 글꼴 변경\n",
    "import matplotlib as mpl\n",
    "mpl.font_manager._rebuild()\n",
    "mpl.pyplot.rc('font', family='NanumBarunGothic')\n",
    "\n",
    "# allow multiple outputs\n",
    "from IPython.core.interactiveshell import InteractiveShell\n",
    "InteractiveShell.ast_node_interactivity = \"all\"\n",
    "\n",
    "# 항상 float 형식으로\n",
    "pd.set_option('display.float_format', '{:.2f}'.format)"
   ]
  },
  {
   "cell_type": "code",
   "execution_count": 10,
   "metadata": {},
   "outputs": [],
   "source": [
    "murd_fl= pd.read_excel(\"data/Raw Data_시립대 국토개발정책 사후관리_성철수정-분석용v1.3.xlsx\",\n",
    "                       sheet_name='만족도_raw data', index_col='성명', header=3)\n",
    "murd_fl_crs_eval= pd.read_excel(\"data/Raw Data_시립대 국토개발정책 사후관리_성철수정-분석용v1.3.xlsx\",\n",
    "                                sheet_name='강의평가_raw data',index_col='성명', header=2) # skiprows = [13,14]\n",
    "murd_fl_crs_eval = murd_fl_crs_eval.iloc[0:13].drop('연번',axis=1)\n",
    "murd_info = pd.read_excel(\"data/IUDP학생현황.xlsx\", sheet_name='IUDPStuInfo',index_col='성명')"
   ]
  },
  {
   "cell_type": "code",
   "execution_count": null,
   "metadata": {},
   "outputs": [],
   "source": [
    "# 열마다 NaN 값 있는 지 여부 확인\n",
    "# DataFrame.all 정의\n",
    "    # DataFrame.all(axis=0, bool_only=None, skipna=True, level=None, **kwargs)\n",
    "    # Return whether all elements are True, potentially over an axis.\n",
    "    # Returns True unless there at least one element within a series or along a Dataframe axis that is False or equivalent (e.g. zero or empty)\n",
    "murd_fl_crs_eval.isnull().all(axis=0)"
   ]
  },
  {
   "cell_type": "code",
   "execution_count": null,
   "metadata": {},
   "outputs": [],
   "source": [
    "# murd_fl_crs_eval에서 모든 열 값이 NaN 값인 경우 삭제. 삭제 후 murd_fl_crs_eval 로 반환\n",
    "murd_fl_crs_eval.dropna(how='all', axis=1, inplace=True)"
   ]
  },
  {
   "cell_type": "code",
   "execution_count": null,
   "metadata": {},
   "outputs": [],
   "source": [
    "murd_fl_crs_eval.head()"
   ]
  },
  {
   "cell_type": "code",
   "execution_count": null,
   "metadata": {},
   "outputs": [],
   "source": [
    "# murd_fl index에서 행 값이 NaN이 아닌 행 반환\n",
    "murd_fl = murd_fl.loc[murd_fl.index.notnull(),:]\n",
    "murd_fl.drop(['성과지표', 'Unnamed: 47', 'Unnamed: 48'], axis=1, inplace = True)\n",
    "murd_fl = murd_fl.sort_index()\n",
    "murd_fl.head()"
   ]
  },
  {
   "cell_type": "markdown",
   "metadata": {},
   "source": [
    "* 분리된 dataframe을 병합방법: concat, join, merge\n",
    "  * concat은 dataframe의 크기가 동일할 경우 dataframe 병합가능 (python append의 다차원 배열 버전)\n",
    "  * join은 dataframe의 크기가 동일하지 않을 경우 key를 기점으로 동일한 부분은 맞춰서 합쳐주고 나머지는 NaN으로 처리한다.\n",
    "\n",
    "* concat의 경우 하나의 서로 다른 dataframe 에서 column을 뽑아서 하나로 합칠 때 유용하다.\n",
    "  * pd.concat([df['a열'],df['b열']], axis=1): a열과 b열 병합, axis=0 이면 column나뉘지 않고 아래에 쌓여 1개의 column 형성\n",
    "  * 아래는 1-2열/5-끝열 추출 후 병합\n",
    "\n",
    "murd_fl = pd.concat([murd_fl.iloc[:,1:3],murd_fl.loc[:,'근무연수':]],axis=1).sort_values(by='성명').reset_index(drop=True)"
   ]
  },
  {
   "cell_type": "code",
   "execution_count": 13,
   "metadata": {},
   "outputs": [
    {
     "data": {
      "text/html": [
       "<div>\n",
       "<style scoped>\n",
       "    .dataframe tbody tr th:only-of-type {\n",
       "        vertical-align: middle;\n",
       "    }\n",
       "\n",
       "    .dataframe tbody tr th {\n",
       "        vertical-align: top;\n",
       "    }\n",
       "\n",
       "    .dataframe thead th {\n",
       "        text-align: right;\n",
       "    }\n",
       "</style>\n",
       "<table border=\"1\" class=\"dataframe\">\n",
       "  <thead>\n",
       "    <tr style=\"text-align: right;\">\n",
       "      <th></th>\n",
       "      <th>학번</th>\n",
       "      <th>전공</th>\n",
       "      <th>수</th>\n",
       "      <th>참가기간(시작)</th>\n",
       "      <th>참가기간(종료)</th>\n",
       "      <th>체류기간(시작)</th>\n",
       "      <th>체류기간(종료)</th>\n",
       "      <th>성명_국문</th>\n",
       "      <th>대륙</th>\n",
       "      <th>대륙_국문</th>\n",
       "      <th>...</th>\n",
       "      <th>국외여행일수4</th>\n",
       "      <th>국외여행합계</th>\n",
       "      <th>논문분야</th>\n",
       "      <th>논문평점</th>\n",
       "      <th>소속분류</th>\n",
       "      <th>소속분류2</th>\n",
       "      <th>소속분류3</th>\n",
       "      <th>소속분류_Kor</th>\n",
       "      <th>소속분류2_Kor</th>\n",
       "      <th>소속분류3_Kor</th>\n",
       "    </tr>\n",
       "    <tr>\n",
       "      <th>성명</th>\n",
       "      <th></th>\n",
       "      <th></th>\n",
       "      <th></th>\n",
       "      <th></th>\n",
       "      <th></th>\n",
       "      <th></th>\n",
       "      <th></th>\n",
       "      <th></th>\n",
       "      <th></th>\n",
       "      <th></th>\n",
       "      <th></th>\n",
       "      <th></th>\n",
       "      <th></th>\n",
       "      <th></th>\n",
       "      <th></th>\n",
       "      <th></th>\n",
       "      <th></th>\n",
       "      <th></th>\n",
       "      <th></th>\n",
       "      <th></th>\n",
       "      <th></th>\n",
       "    </tr>\n",
       "  </thead>\n",
       "  <tbody>\n",
       "    <tr>\n",
       "      <th>Alejandro CEBALLOS JARABA</th>\n",
       "      <td>IU2014418</td>\n",
       "      <td>MURD</td>\n",
       "      <td>1</td>\n",
       "      <td>2014-08-01</td>\n",
       "      <td>2016-02-29</td>\n",
       "      <td>2014-08-01</td>\n",
       "      <td>2015-12-31</td>\n",
       "      <td>체발로스 자라바 알레한드로</td>\n",
       "      <td>AMERICA</td>\n",
       "      <td>아메리카</td>\n",
       "      <td>...</td>\n",
       "      <td>nan</td>\n",
       "      <td>nan</td>\n",
       "      <td>NaN</td>\n",
       "      <td>nan</td>\n",
       "      <td>Housing &amp; Community Development</td>\n",
       "      <td>NaN</td>\n",
       "      <td>NaN</td>\n",
       "      <td>주택과 지역사회 개발</td>\n",
       "      <td>NaN</td>\n",
       "      <td>NaN</td>\n",
       "    </tr>\n",
       "    <tr>\n",
       "      <th>Carmen ZANA CARBAJAL</th>\n",
       "      <td>IU2016414</td>\n",
       "      <td>MURD</td>\n",
       "      <td>3</td>\n",
       "      <td>2016-08-01</td>\n",
       "      <td>2018-02-28</td>\n",
       "      <td>2016-08-01</td>\n",
       "      <td>2017-12-31</td>\n",
       "      <td>자나 카르바잘 카르멘</td>\n",
       "      <td>AMERICA</td>\n",
       "      <td>아메리카</td>\n",
       "      <td>...</td>\n",
       "      <td>nan</td>\n",
       "      <td>nan</td>\n",
       "      <td>NaN</td>\n",
       "      <td>nan</td>\n",
       "      <td>Project Feasibility Study</td>\n",
       "      <td>NaN</td>\n",
       "      <td>NaN</td>\n",
       "      <td>사업타당성조사</td>\n",
       "      <td>NaN</td>\n",
       "      <td>NaN</td>\n",
       "    </tr>\n",
       "  </tbody>\n",
       "</table>\n",
       "<p>2 rows × 87 columns</p>\n",
       "</div>"
      ],
      "text/plain": [
       "                                  학번    전공  수   참가기간(시작)   참가기간(종료)  \\\n",
       "성명                                                                    \n",
       "Alejandro CEBALLOS JARABA  IU2014418  MURD  1 2014-08-01 2016-02-29   \n",
       "Carmen ZANA CARBAJAL       IU2016414  MURD  3 2016-08-01 2018-02-28   \n",
       "\n",
       "                            체류기간(시작)   체류기간(종료)           성명_국문       대륙  \\\n",
       "성명                                                                         \n",
       "Alejandro CEBALLOS JARABA 2014-08-01 2015-12-31  체발로스 자라바 알레한드로  AMERICA   \n",
       "Carmen ZANA CARBAJAL      2016-08-01 2017-12-31     자나 카르바잘 카르멘  AMERICA   \n",
       "\n",
       "                          대륙_국문  ... 국외여행일수4 국외여행합계 논문분야 논문평점  \\\n",
       "성명                               ...                            \n",
       "Alejandro CEBALLOS JARABA  아메리카  ...     nan    nan  NaN  nan   \n",
       "Carmen ZANA CARBAJAL       아메리카  ...     nan    nan  NaN  nan   \n",
       "\n",
       "                                                      소속분류 소속분류2 소속분류3  \\\n",
       "성명                                                                       \n",
       "Alejandro CEBALLOS JARABA  Housing & Community Development   NaN   NaN   \n",
       "Carmen ZANA CARBAJAL             Project Feasibility Study   NaN   NaN   \n",
       "\n",
       "                              소속분류_Kor 소속분류2_Kor 소속분류3_Kor  \n",
       "성명                                                          \n",
       "Alejandro CEBALLOS JARABA  주택과 지역사회 개발       NaN       NaN  \n",
       "Carmen ZANA CARBAJAL           사업타당성조사       NaN       NaN  \n",
       "\n",
       "[2 rows x 87 columns]"
      ]
     },
     "execution_count": 13,
     "metadata": {},
     "output_type": "execute_result"
    }
   ],
   "source": [
    "# sort_values를 호출 후 해당 변수를 정렬하면 뒤죽박죽 된 인덱스를 .reset_index()로 초기화 (출처: https://3months.tistory.com/196)\n",
    "murd_info = murd_info[\n",
    "            murd_info.index.isin(['Dana PHAL', 'Alejandro CEBALLOS JARABA','Jacqueline Yamileth RIVERA AYALA',\n",
    "                                    'Edward AGBODJAN','Mercy Wairimu KIMANI', 'Khin Ohnmar MYINT THEIN', \n",
    "                                    'Hnin Ei Mon', 'Iqbal AHMED', 'Laura LOZADA ACOSTA', 'Carmen ZANA CARBAJAL',\n",
    "                                    'Joz Carlos Gabrillo ORDILLANO','Jean Bosco Alpha MBARUSHIMANA',\n",
    "                                    'Peeter Hewage Chinthaka Sampath RATHNASIRI'])].sort_values(\n",
    "                                     by='성명')\n",
    "murd_info.head(2)"
   ]
  },
  {
   "cell_type": "code",
   "execution_count": 14,
   "metadata": {},
   "outputs": [
    {
     "data": {
      "text/html": [
       "<div>\n",
       "<style scoped>\n",
       "    .dataframe tbody tr th:only-of-type {\n",
       "        vertical-align: middle;\n",
       "    }\n",
       "\n",
       "    .dataframe tbody tr th {\n",
       "        vertical-align: top;\n",
       "    }\n",
       "\n",
       "    .dataframe thead th {\n",
       "        text-align: right;\n",
       "    }\n",
       "</style>\n",
       "<table border=\"1\" class=\"dataframe\">\n",
       "  <thead>\n",
       "    <tr style=\"text-align: right;\">\n",
       "      <th></th>\n",
       "      <th>국가명</th>\n",
       "      <th>기관</th>\n",
       "      <th>직책</th>\n",
       "      <th>근무연수</th>\n",
       "      <th>생년</th>\n",
       "      <th>성별_x</th>\n",
       "      <th>연수생 선발/추천을 위한 사전준비 기간은 적절하였다</th>\n",
       "      <th>연수 신청방법 및 교육내용에 대한 구체적인 안내를 받았다.</th>\n",
       "      <th>교육전: A교과에 대한 인지 수준</th>\n",
       "      <th>교육전: A교과에 대한 기술 수준</th>\n",
       "      <th>...</th>\n",
       "      <th>국외여행일수4</th>\n",
       "      <th>국외여행합계</th>\n",
       "      <th>논문분야</th>\n",
       "      <th>논문평점</th>\n",
       "      <th>소속분류</th>\n",
       "      <th>소속분류2</th>\n",
       "      <th>소속분류3</th>\n",
       "      <th>소속분류_Kor</th>\n",
       "      <th>소속분류2_Kor</th>\n",
       "      <th>소속분류3_Kor</th>\n",
       "    </tr>\n",
       "    <tr>\n",
       "      <th>성명</th>\n",
       "      <th></th>\n",
       "      <th></th>\n",
       "      <th></th>\n",
       "      <th></th>\n",
       "      <th></th>\n",
       "      <th></th>\n",
       "      <th></th>\n",
       "      <th></th>\n",
       "      <th></th>\n",
       "      <th></th>\n",
       "      <th></th>\n",
       "      <th></th>\n",
       "      <th></th>\n",
       "      <th></th>\n",
       "      <th></th>\n",
       "      <th></th>\n",
       "      <th></th>\n",
       "      <th></th>\n",
       "      <th></th>\n",
       "      <th></th>\n",
       "      <th></th>\n",
       "    </tr>\n",
       "  </thead>\n",
       "  <tbody>\n",
       "    <tr>\n",
       "      <th>Alejandro CEBALLOS JARABA</th>\n",
       "      <td>콜롬비아</td>\n",
       "      <td>중앙정부기관</td>\n",
       "      <td>일반직원</td>\n",
       "      <td>5</td>\n",
       "      <td>1987</td>\n",
       "      <td>남</td>\n",
       "      <td>5</td>\n",
       "      <td>5</td>\n",
       "      <td>3</td>\n",
       "      <td>3</td>\n",
       "      <td>...</td>\n",
       "      <td>nan</td>\n",
       "      <td>nan</td>\n",
       "      <td>NaN</td>\n",
       "      <td>nan</td>\n",
       "      <td>Housing &amp; Community Development</td>\n",
       "      <td>NaN</td>\n",
       "      <td>NaN</td>\n",
       "      <td>주택과 지역사회 개발</td>\n",
       "      <td>NaN</td>\n",
       "      <td>NaN</td>\n",
       "    </tr>\n",
       "    <tr>\n",
       "      <th>Carmen ZANA CARBAJAL</th>\n",
       "      <td>페루</td>\n",
       "      <td>공공기관</td>\n",
       "      <td>중간관리직</td>\n",
       "      <td>5</td>\n",
       "      <td>1985</td>\n",
       "      <td>여</td>\n",
       "      <td>5</td>\n",
       "      <td>5</td>\n",
       "      <td>5</td>\n",
       "      <td>4</td>\n",
       "      <td>...</td>\n",
       "      <td>nan</td>\n",
       "      <td>nan</td>\n",
       "      <td>NaN</td>\n",
       "      <td>nan</td>\n",
       "      <td>Project Feasibility Study</td>\n",
       "      <td>NaN</td>\n",
       "      <td>NaN</td>\n",
       "      <td>사업타당성조사</td>\n",
       "      <td>NaN</td>\n",
       "      <td>NaN</td>\n",
       "    </tr>\n",
       "    <tr>\n",
       "      <th>Dana PHAL</th>\n",
       "      <td>캄보디아</td>\n",
       "      <td>중앙정부기관</td>\n",
       "      <td>일반직원</td>\n",
       "      <td>6</td>\n",
       "      <td>1987</td>\n",
       "      <td>여</td>\n",
       "      <td>5</td>\n",
       "      <td>4</td>\n",
       "      <td>3</td>\n",
       "      <td>2</td>\n",
       "      <td>...</td>\n",
       "      <td>nan</td>\n",
       "      <td>nan</td>\n",
       "      <td>NaN</td>\n",
       "      <td>nan</td>\n",
       "      <td>Construction/Project Management</td>\n",
       "      <td>NaN</td>\n",
       "      <td>NaN</td>\n",
       "      <td>건설 프로젝트 관리</td>\n",
       "      <td>NaN</td>\n",
       "      <td>NaN</td>\n",
       "    </tr>\n",
       "    <tr>\n",
       "      <th>Edward AGBODJAN</th>\n",
       "      <td>가나</td>\n",
       "      <td>중앙정부기관</td>\n",
       "      <td>중간관리직</td>\n",
       "      <td>8</td>\n",
       "      <td>1981</td>\n",
       "      <td>남</td>\n",
       "      <td>5</td>\n",
       "      <td>4</td>\n",
       "      <td>5</td>\n",
       "      <td>3</td>\n",
       "      <td>...</td>\n",
       "      <td>nan</td>\n",
       "      <td>nan</td>\n",
       "      <td>NaN</td>\n",
       "      <td>nan</td>\n",
       "      <td>Transport Planning</td>\n",
       "      <td>NaN</td>\n",
       "      <td>NaN</td>\n",
       "      <td>교통 계획</td>\n",
       "      <td>NaN</td>\n",
       "      <td>NaN</td>\n",
       "    </tr>\n",
       "    <tr>\n",
       "      <th>Hnin Ei Mon</th>\n",
       "      <td>미얀마</td>\n",
       "      <td>중앙정부기관</td>\n",
       "      <td>중간관리직</td>\n",
       "      <td>9</td>\n",
       "      <td>1985</td>\n",
       "      <td>여</td>\n",
       "      <td>5</td>\n",
       "      <td>4</td>\n",
       "      <td>2</td>\n",
       "      <td>2</td>\n",
       "      <td>...</td>\n",
       "      <td>nan</td>\n",
       "      <td>nan</td>\n",
       "      <td>NaN</td>\n",
       "      <td>nan</td>\n",
       "      <td>Public-Private-Partnerships (PPP)</td>\n",
       "      <td>NaN</td>\n",
       "      <td>NaN</td>\n",
       "      <td>민관협력</td>\n",
       "      <td>NaN</td>\n",
       "      <td>NaN</td>\n",
       "    </tr>\n",
       "    <tr>\n",
       "      <th>Iqbal AHMED</th>\n",
       "      <td>파키스탄</td>\n",
       "      <td>중앙정부기관</td>\n",
       "      <td>중간관리직</td>\n",
       "      <td>17</td>\n",
       "      <td>1976</td>\n",
       "      <td>남</td>\n",
       "      <td>5</td>\n",
       "      <td>5</td>\n",
       "      <td>5</td>\n",
       "      <td>5</td>\n",
       "      <td>...</td>\n",
       "      <td>nan</td>\n",
       "      <td>nan</td>\n",
       "      <td>NaN</td>\n",
       "      <td>nan</td>\n",
       "      <td>Urban Regeneration</td>\n",
       "      <td>Housing Policy / Public Housing</td>\n",
       "      <td>NaN</td>\n",
       "      <td>도시재생</td>\n",
       "      <td>주택정책 / 공공주택</td>\n",
       "      <td>주택정책 / 공공주택</td>\n",
       "    </tr>\n",
       "    <tr>\n",
       "      <th>Jacqueline Yamileth RIVERA AYALA</th>\n",
       "      <td>엘살바도르</td>\n",
       "      <td>중앙정부기관</td>\n",
       "      <td>일반직원</td>\n",
       "      <td>3</td>\n",
       "      <td>1987</td>\n",
       "      <td>여</td>\n",
       "      <td>4</td>\n",
       "      <td>4</td>\n",
       "      <td>4</td>\n",
       "      <td>3</td>\n",
       "      <td>...</td>\n",
       "      <td>nan</td>\n",
       "      <td>nan</td>\n",
       "      <td>NaN</td>\n",
       "      <td>nan</td>\n",
       "      <td>Disaster Management</td>\n",
       "      <td>NaN</td>\n",
       "      <td>NaN</td>\n",
       "      <td>재해 관리</td>\n",
       "      <td>NaN</td>\n",
       "      <td>NaN</td>\n",
       "    </tr>\n",
       "    <tr>\n",
       "      <th>Jean Bosco Alpha MBARUSHIMANA</th>\n",
       "      <td>르완다</td>\n",
       "      <td>중앙정부기관</td>\n",
       "      <td>일반직원</td>\n",
       "      <td>8</td>\n",
       "      <td>1981</td>\n",
       "      <td>남</td>\n",
       "      <td>5</td>\n",
       "      <td>5</td>\n",
       "      <td>2</td>\n",
       "      <td>3</td>\n",
       "      <td>...</td>\n",
       "      <td>nan</td>\n",
       "      <td>nan</td>\n",
       "      <td>NaN</td>\n",
       "      <td>nan</td>\n",
       "      <td>Green Infrastructure</td>\n",
       "      <td>NaN</td>\n",
       "      <td>NaN</td>\n",
       "      <td>녹색 인프라</td>\n",
       "      <td>NaN</td>\n",
       "      <td>NaN</td>\n",
       "    </tr>\n",
       "    <tr>\n",
       "      <th>Joz Carlos Gabrillo ORDILLANO</th>\n",
       "      <td>필리핀</td>\n",
       "      <td>중앙정부기관</td>\n",
       "      <td>중간관리직</td>\n",
       "      <td>8</td>\n",
       "      <td>1989</td>\n",
       "      <td>남</td>\n",
       "      <td>4</td>\n",
       "      <td>5</td>\n",
       "      <td>5</td>\n",
       "      <td>5</td>\n",
       "      <td>...</td>\n",
       "      <td>nan</td>\n",
       "      <td>nan</td>\n",
       "      <td>NaN</td>\n",
       "      <td>nan</td>\n",
       "      <td>Transportation &amp; Land Use (Compact City)</td>\n",
       "      <td>NaN</td>\n",
       "      <td>NaN</td>\n",
       "      <td>교통과 토지 이용</td>\n",
       "      <td>NaN</td>\n",
       "      <td>NaN</td>\n",
       "    </tr>\n",
       "    <tr>\n",
       "      <th>Khin Ohnmar MYINT THEIN</th>\n",
       "      <td>미얀마</td>\n",
       "      <td>중앙정부기관</td>\n",
       "      <td>중간관리직</td>\n",
       "      <td>15</td>\n",
       "      <td>1978</td>\n",
       "      <td>여</td>\n",
       "      <td>5</td>\n",
       "      <td>5</td>\n",
       "      <td>3</td>\n",
       "      <td>3</td>\n",
       "      <td>...</td>\n",
       "      <td>nan</td>\n",
       "      <td>nan</td>\n",
       "      <td>NaN</td>\n",
       "      <td>nan</td>\n",
       "      <td>Infrastructure Financing</td>\n",
       "      <td>NaN</td>\n",
       "      <td>NaN</td>\n",
       "      <td>인프라 파이낸싱</td>\n",
       "      <td>NaN</td>\n",
       "      <td>NaN</td>\n",
       "    </tr>\n",
       "    <tr>\n",
       "      <th>Laura LOZADA ACOSTA</th>\n",
       "      <td>페루</td>\n",
       "      <td>기타</td>\n",
       "      <td>일반직원</td>\n",
       "      <td>3</td>\n",
       "      <td>1988</td>\n",
       "      <td>여</td>\n",
       "      <td>4</td>\n",
       "      <td>4</td>\n",
       "      <td>4</td>\n",
       "      <td>4</td>\n",
       "      <td>...</td>\n",
       "      <td>nan</td>\n",
       "      <td>nan</td>\n",
       "      <td>NaN</td>\n",
       "      <td>nan</td>\n",
       "      <td>Regional Development / Policies</td>\n",
       "      <td>NaN</td>\n",
       "      <td>NaN</td>\n",
       "      <td>지역 개발 정책</td>\n",
       "      <td>NaN</td>\n",
       "      <td>NaN</td>\n",
       "    </tr>\n",
       "    <tr>\n",
       "      <th>Mercy Wairimu KIMANI</th>\n",
       "      <td>케냐</td>\n",
       "      <td>중앙정부기관</td>\n",
       "      <td>고위관리직/ 국장급</td>\n",
       "      <td>13</td>\n",
       "      <td>1976</td>\n",
       "      <td>여</td>\n",
       "      <td>4</td>\n",
       "      <td>5</td>\n",
       "      <td>2</td>\n",
       "      <td>2</td>\n",
       "      <td>...</td>\n",
       "      <td>nan</td>\n",
       "      <td>nan</td>\n",
       "      <td>NaN</td>\n",
       "      <td>nan</td>\n",
       "      <td>Housing &amp; Community Development</td>\n",
       "      <td>NaN</td>\n",
       "      <td>NaN</td>\n",
       "      <td>주택과 지역사회 개발</td>\n",
       "      <td>NaN</td>\n",
       "      <td>NaN</td>\n",
       "    </tr>\n",
       "    <tr>\n",
       "      <th>Peeter Hewage Chinthaka Sampath RATHNASIRI</th>\n",
       "      <td>스리랑카</td>\n",
       "      <td>중앙정부기관</td>\n",
       "      <td>고위관리직/ 국장급</td>\n",
       "      <td>8</td>\n",
       "      <td>1984</td>\n",
       "      <td>남</td>\n",
       "      <td>5</td>\n",
       "      <td>5</td>\n",
       "      <td>2</td>\n",
       "      <td>2</td>\n",
       "      <td>...</td>\n",
       "      <td>nan</td>\n",
       "      <td>nan</td>\n",
       "      <td>NaN</td>\n",
       "      <td>nan</td>\n",
       "      <td>Balanced Regional Development</td>\n",
       "      <td>NaN</td>\n",
       "      <td>NaN</td>\n",
       "      <td>지역균형발전</td>\n",
       "      <td>NaN</td>\n",
       "      <td>NaN</td>\n",
       "    </tr>\n",
       "  </tbody>\n",
       "</table>\n",
       "<p>13 rows × 132 columns</p>\n",
       "</div>"
      ],
      "text/plain": [
       "                                              국가명      기관          직책 근무연수  \\\n",
       "성명                                                                           \n",
       "Alejandro CEBALLOS JARABA                    콜롬비아  중앙정부기관        일반직원    5   \n",
       "Carmen ZANA CARBAJAL                           페루    공공기관       중간관리직    5   \n",
       "Dana PHAL                                    캄보디아  중앙정부기관        일반직원    6   \n",
       "Edward AGBODJAN                                가나  중앙정부기관       중간관리직    8   \n",
       "Hnin Ei Mon                                   미얀마  중앙정부기관       중간관리직    9   \n",
       "Iqbal AHMED                                  파키스탄  중앙정부기관       중간관리직   17   \n",
       "Jacqueline Yamileth RIVERA AYALA            엘살바도르  중앙정부기관        일반직원    3   \n",
       "Jean Bosco Alpha MBARUSHIMANA                 르완다  중앙정부기관        일반직원    8   \n",
       "Joz Carlos Gabrillo ORDILLANO                 필리핀  중앙정부기관       중간관리직    8   \n",
       "Khin Ohnmar MYINT THEIN                       미얀마  중앙정부기관       중간관리직   15   \n",
       "Laura LOZADA ACOSTA                            페루      기타        일반직원    3   \n",
       "Mercy Wairimu KIMANI                           케냐  중앙정부기관  고위관리직/ 국장급   13   \n",
       "Peeter Hewage Chinthaka Sampath RATHNASIRI   스리랑카  중앙정부기관  고위관리직/ 국장급    8   \n",
       "\n",
       "                                              생년 성별_x  \\\n",
       "성명                                                      \n",
       "Alejandro CEBALLOS JARABA                   1987    남   \n",
       "Carmen ZANA CARBAJAL                        1985    여   \n",
       "Dana PHAL                                   1987    여   \n",
       "Edward AGBODJAN                             1981    남   \n",
       "Hnin Ei Mon                                 1985    여   \n",
       "Iqbal AHMED                                 1976    남   \n",
       "Jacqueline Yamileth RIVERA AYALA            1987    여   \n",
       "Jean Bosco Alpha MBARUSHIMANA               1981    남   \n",
       "Joz Carlos Gabrillo ORDILLANO               1989    남   \n",
       "Khin Ohnmar MYINT THEIN                     1978    여   \n",
       "Laura LOZADA ACOSTA                         1988    여   \n",
       "Mercy Wairimu KIMANI                        1976    여   \n",
       "Peeter Hewage Chinthaka Sampath RATHNASIRI  1984    남   \n",
       "\n",
       "                                           연수생 선발/추천을 위한 사전준비 기간은 적절하였다  \\\n",
       "성명                                                                        \n",
       "Alejandro CEBALLOS JARABA                                             5   \n",
       "Carmen ZANA CARBAJAL                                                  5   \n",
       "Dana PHAL                                                             5   \n",
       "Edward AGBODJAN                                                       5   \n",
       "Hnin Ei Mon                                                           5   \n",
       "Iqbal AHMED                                                           5   \n",
       "Jacqueline Yamileth RIVERA AYALA                                      4   \n",
       "Jean Bosco Alpha MBARUSHIMANA                                         5   \n",
       "Joz Carlos Gabrillo ORDILLANO                                         4   \n",
       "Khin Ohnmar MYINT THEIN                                               5   \n",
       "Laura LOZADA ACOSTA                                                   4   \n",
       "Mercy Wairimu KIMANI                                                  4   \n",
       "Peeter Hewage Chinthaka Sampath RATHNASIRI                            5   \n",
       "\n",
       "                                           연수 신청방법 및 교육내용에 대한 구체적인 안내를 받았다.  \\\n",
       "성명                                                                            \n",
       "Alejandro CEBALLOS JARABA                                                 5   \n",
       "Carmen ZANA CARBAJAL                                                      5   \n",
       "Dana PHAL                                                                 4   \n",
       "Edward AGBODJAN                                                           4   \n",
       "Hnin Ei Mon                                                               4   \n",
       "Iqbal AHMED                                                               5   \n",
       "Jacqueline Yamileth RIVERA AYALA                                          4   \n",
       "Jean Bosco Alpha MBARUSHIMANA                                             5   \n",
       "Joz Carlos Gabrillo ORDILLANO                                             5   \n",
       "Khin Ohnmar MYINT THEIN                                                   5   \n",
       "Laura LOZADA ACOSTA                                                       4   \n",
       "Mercy Wairimu KIMANI                                                      5   \n",
       "Peeter Hewage Chinthaka Sampath RATHNASIRI                                5   \n",
       "\n",
       "                                           교육전: A교과에 대한 인지 수준  \\\n",
       "성명                                                              \n",
       "Alejandro CEBALLOS JARABA                                   3   \n",
       "Carmen ZANA CARBAJAL                                        5   \n",
       "Dana PHAL                                                   3   \n",
       "Edward AGBODJAN                                             5   \n",
       "Hnin Ei Mon                                                 2   \n",
       "Iqbal AHMED                                                 5   \n",
       "Jacqueline Yamileth RIVERA AYALA                            4   \n",
       "Jean Bosco Alpha MBARUSHIMANA                               2   \n",
       "Joz Carlos Gabrillo ORDILLANO                               5   \n",
       "Khin Ohnmar MYINT THEIN                                     3   \n",
       "Laura LOZADA ACOSTA                                         4   \n",
       "Mercy Wairimu KIMANI                                        2   \n",
       "Peeter Hewage Chinthaka Sampath RATHNASIRI                  2   \n",
       "\n",
       "                                           교육전: A교과에 대한 기술 수준  ... 국외여행일수4  \\\n",
       "성명                                                             ...           \n",
       "Alejandro CEBALLOS JARABA                                   3  ...     nan   \n",
       "Carmen ZANA CARBAJAL                                        4  ...     nan   \n",
       "Dana PHAL                                                   2  ...     nan   \n",
       "Edward AGBODJAN                                             3  ...     nan   \n",
       "Hnin Ei Mon                                                 2  ...     nan   \n",
       "Iqbal AHMED                                                 5  ...     nan   \n",
       "Jacqueline Yamileth RIVERA AYALA                            3  ...     nan   \n",
       "Jean Bosco Alpha MBARUSHIMANA                               3  ...     nan   \n",
       "Joz Carlos Gabrillo ORDILLANO                               5  ...     nan   \n",
       "Khin Ohnmar MYINT THEIN                                     3  ...     nan   \n",
       "Laura LOZADA ACOSTA                                         4  ...     nan   \n",
       "Mercy Wairimu KIMANI                                        2  ...     nan   \n",
       "Peeter Hewage Chinthaka Sampath RATHNASIRI                  2  ...     nan   \n",
       "\n",
       "                                           국외여행합계 논문분야 논문평점  \\\n",
       "성명                                                            \n",
       "Alejandro CEBALLOS JARABA                     nan  NaN  nan   \n",
       "Carmen ZANA CARBAJAL                          nan  NaN  nan   \n",
       "Dana PHAL                                     nan  NaN  nan   \n",
       "Edward AGBODJAN                               nan  NaN  nan   \n",
       "Hnin Ei Mon                                   nan  NaN  nan   \n",
       "Iqbal AHMED                                   nan  NaN  nan   \n",
       "Jacqueline Yamileth RIVERA AYALA              nan  NaN  nan   \n",
       "Jean Bosco Alpha MBARUSHIMANA                 nan  NaN  nan   \n",
       "Joz Carlos Gabrillo ORDILLANO                 nan  NaN  nan   \n",
       "Khin Ohnmar MYINT THEIN                       nan  NaN  nan   \n",
       "Laura LOZADA ACOSTA                           nan  NaN  nan   \n",
       "Mercy Wairimu KIMANI                          nan  NaN  nan   \n",
       "Peeter Hewage Chinthaka Sampath RATHNASIRI    nan  NaN  nan   \n",
       "\n",
       "                                                                                소속분류  \\\n",
       "성명                                                                                     \n",
       "Alejandro CEBALLOS JARABA                            Housing & Community Development   \n",
       "Carmen ZANA CARBAJAL                                       Project Feasibility Study   \n",
       "Dana PHAL                                            Construction/Project Management   \n",
       "Edward AGBODJAN                                                   Transport Planning   \n",
       "Hnin Ei Mon                                        Public-Private-Partnerships (PPP)   \n",
       "Iqbal AHMED                                                       Urban Regeneration   \n",
       "Jacqueline Yamileth RIVERA AYALA                                 Disaster Management   \n",
       "Jean Bosco Alpha MBARUSHIMANA                                   Green Infrastructure   \n",
       "Joz Carlos Gabrillo ORDILLANO               Transportation & Land Use (Compact City)   \n",
       "Khin Ohnmar MYINT THEIN                                     Infrastructure Financing   \n",
       "Laura LOZADA ACOSTA                                  Regional Development / Policies   \n",
       "Mercy Wairimu KIMANI                                 Housing & Community Development   \n",
       "Peeter Hewage Chinthaka Sampath RATHNASIRI             Balanced Regional Development   \n",
       "\n",
       "                                                                      소속분류2  \\\n",
       "성명                                                                            \n",
       "Alejandro CEBALLOS JARABA                                               NaN   \n",
       "Carmen ZANA CARBAJAL                                                    NaN   \n",
       "Dana PHAL                                                               NaN   \n",
       "Edward AGBODJAN                                                         NaN   \n",
       "Hnin Ei Mon                                                             NaN   \n",
       "Iqbal AHMED                                 Housing Policy / Public Housing   \n",
       "Jacqueline Yamileth RIVERA AYALA                                        NaN   \n",
       "Jean Bosco Alpha MBARUSHIMANA                                           NaN   \n",
       "Joz Carlos Gabrillo ORDILLANO                                           NaN   \n",
       "Khin Ohnmar MYINT THEIN                                                 NaN   \n",
       "Laura LOZADA ACOSTA                                                     NaN   \n",
       "Mercy Wairimu KIMANI                                                    NaN   \n",
       "Peeter Hewage Chinthaka Sampath RATHNASIRI                              NaN   \n",
       "\n",
       "                                           소속분류3     소속분류_Kor    소속분류2_Kor  \\\n",
       "성명                                                                           \n",
       "Alejandro CEBALLOS JARABA                    NaN  주택과 지역사회 개발          NaN   \n",
       "Carmen ZANA CARBAJAL                         NaN      사업타당성조사          NaN   \n",
       "Dana PHAL                                    NaN   건설 프로젝트 관리          NaN   \n",
       "Edward AGBODJAN                              NaN        교통 계획          NaN   \n",
       "Hnin Ei Mon                                  NaN         민관협력          NaN   \n",
       "Iqbal AHMED                                  NaN         도시재생  주택정책 / 공공주택   \n",
       "Jacqueline Yamileth RIVERA AYALA             NaN        재해 관리          NaN   \n",
       "Jean Bosco Alpha MBARUSHIMANA                NaN       녹색 인프라          NaN   \n",
       "Joz Carlos Gabrillo ORDILLANO                NaN    교통과 토지 이용          NaN   \n",
       "Khin Ohnmar MYINT THEIN                      NaN     인프라 파이낸싱          NaN   \n",
       "Laura LOZADA ACOSTA                          NaN     지역 개발 정책          NaN   \n",
       "Mercy Wairimu KIMANI                         NaN  주택과 지역사회 개발          NaN   \n",
       "Peeter Hewage Chinthaka Sampath RATHNASIRI   NaN       지역균형발전          NaN   \n",
       "\n",
       "                                              소속분류3_Kor  \n",
       "성명                                                       \n",
       "Alejandro CEBALLOS JARABA                           NaN  \n",
       "Carmen ZANA CARBAJAL                                NaN  \n",
       "Dana PHAL                                           NaN  \n",
       "Edward AGBODJAN                                     NaN  \n",
       "Hnin Ei Mon                                         NaN  \n",
       "Iqbal AHMED                                 주택정책 / 공공주택  \n",
       "Jacqueline Yamileth RIVERA AYALA                    NaN  \n",
       "Jean Bosco Alpha MBARUSHIMANA                       NaN  \n",
       "Joz Carlos Gabrillo ORDILLANO                       NaN  \n",
       "Khin Ohnmar MYINT THEIN                             NaN  \n",
       "Laura LOZADA ACOSTA                                 NaN  \n",
       "Mercy Wairimu KIMANI                                NaN  \n",
       "Peeter Hewage Chinthaka Sampath RATHNASIRI          NaN  \n",
       "\n",
       "[13 rows x 132 columns]"
      ]
     },
     "execution_count": 14,
     "metadata": {},
     "output_type": "execute_result"
    }
   ],
   "source": [
    "murd_fl = pd.merge(murd_fl, murd_info, left_index=True, right_index=True) \n",
    "# 같은 결과: murd_fl = pd.concat([murd_fl, murd_info], axis=1)\n",
    "# 같은 결과: murd_fl = pd.merge(murd_fl, murd_info, left_index=True, right_index=True)\n",
    "murd_fl"
   ]
  },
  {
   "cell_type": "code",
   "execution_count": 15,
   "metadata": {
    "colab": {
     "base_uri": "https://localhost:8080/",
     "height": 664
    },
    "colab_type": "code",
    "executionInfo": {
     "elapsed": 1416,
     "status": "ok",
     "timestamp": 1552705357331,
     "user": {
      "displayName": "Gumin Jung",
      "photoUrl": "",
      "userId": "17563555151136201373"
     },
     "user_tz": -540
    },
    "hide_input": true,
    "id": "XkDXqnas30c6",
    "outputId": "933dc538-35e0-47a8-8bb9-776022b67dee",
    "slideshow": {
     "slide_type": "skip"
    }
   },
   "outputs": [
    {
     "data": {
      "text/plain": [
       "array(['국가명', '기관', '직책', '근무연수', '생년', '성별_x',\n",
       "       '연수생 선발/추천을 위한 사전준비 기간은 적절하였다', '연수 신청방법 및 교육내용에 대한 구체적인 안내를 받았다.',\n",
       "       '교육전: A교과에 대한 인지 수준', '교육전: A교과에 대한 기술 수준', '교육전: A교과에 대한 태도 수준',\n",
       "       '교육전: B교과에 대한 인지 수준', '교육전: B교과에 대한 기술 수준', '교육전: B교과에 대한 태도 수준',\n",
       "       '교육전: C교과에 대한 인지 수준', '교육전: C교과에 대한 기술 수준', '교육전: C교과에 대한 태도 수준',\n",
       "       '연수과정의 내용은 연수생 현지의 상황과 요구에 맞게 구성되었다.', '연수과정의 내용과 수준은 이해하기 적절하였다.',\n",
       "       '연수과정의 교육방법(강의, 실습/토의, 현장학습 등)은 연수내용을 이해하는데 적합하였다.',\n",
       "       '연수기관에서는 연수생 국가의 문화나 종교를 배려하기 위해 노력하였다',\n",
       "       '연수운영진은 연수과정을 원활하게 운영하였다. (일정관리, 강의준비, 연수생 지원 등)',\n",
       "       '연수운영진은 응급상황 등 사건사고에 대해 적절히 대처하였다.', '강의실 및 실습실은 사용하기에 편리하였다.',\n",
       "       '연수 편의시설(휴게시설, 식당, 숙박시설 등)은 사용하기에 편리하였다. ',\n",
       "       '귀하께서 참여하신 연수과정에 통역사가 있었습니까?',\n",
       "       '연수과정에 사용된 교수학습매체는 적절하였다. (교재, 동영상, 실습장비 등)',\n",
       "       '강사진은 해당 분야에 대한 실무경험이나 전문성 수준이 높은 인력으로 구성되었다.',\n",
       "       '강사는 연수생과 소통하며 교육내용을 체계적이고 능숙하게 전달하였다',\n",
       "       '통역사는 이해하기 쉽도록 통역하였다. (2-1에서 ②에 응답한 경우, 응답하지 않으셔도 됩니다)',\n",
       "       '교육후: A교과에 대한 인지 수준', '교육후: A교과에 대한 기술 수준', '교육후: A교과에 대한 태도 수준',\n",
       "       '교육후: B교과에 대한 인지 수준', '교육후: B교과에 대한 기술 수준', '교육후: B교과에 대한 태도 수준',\n",
       "       '교육후: C교과에 대한 인지 수준', '교육후: C교과에 대한 기술 수준', '교육후: C교과에 대한 태도 수준',\n",
       "       '국별보고/액션플랜의 주제는 연수과정 목표와 연계되어 있었다.', '국별보고/액션플랜 세션시간은 충분하였다.',\n",
       "       '액션플랜 작성 및 발표를 위한 사전안내가 충분히 이루어졌다.',\n",
       "       '국별보고/액션플랜 세션 담당자는 피드백을 충분히 제공하였다.',\n",
       "       '국별보고/액션플랜 세션은 연수내용을 이해하는데 도움이 되었다.',\n",
       "       '액션플랜 작성은 현장에서 실무능력을 향상시키는데 도움이 되었다.', '학번', '전공', '수', '참가기간(시작)',\n",
       "       '참가기간(종료)', '체류기간(시작)', '체류기간(종료)', '성명_국문', '대륙', '대륙_국문', '대륙2',\n",
       "       '대륙2_국문', '국가', '국가_국문', '도시', '도시_국문', '기관분류', '생년월일', '주민번호',\n",
       "       '성별_y', '소속', '직위', '자국내 주소', '이메일', '연락처(자국)', '핸드폰', '기숙사번호',\n",
       "       '포털아이디', '비번', '학적', '학적2', '졸업일', '은행', '계좌', '계좌주', '외국인등록증 만료일',\n",
       "       '기피음식', '대표', '세부전공', '총평균평점', '논문제목', '지도교수', '인턴십', '인턴십_국문',\n",
       "       '인턴십 기관분류', '인턴십 세분류', '배치부서', '인턴십 기간(시작)', '인턴십 기간(종료)',\n",
       "       '인턴십 비고', '인턴십2', '인턴십_국문2', '배치부서2', '인턴십 기간2(시작)', '인턴십 기간2(종료)',\n",
       "       '인턴십 비고2', '인턴십3', '인턴십_국문3', '배치부서3', '인턴십 기간3(시작)',\n",
       "       '인턴십 기간3(종료)', '인턴십 비고3', '국외여행1-1', '국외여행1-2', '행선지1', '국외여행일수1',\n",
       "       '국외여행2-1', '국외여행2-2', '행선지2', '국외여행일수2', '국외여행3-1', '국외여행3-2',\n",
       "       '행선지3', '국외여행일수3', '국외여행4-1', '국외여행4-2', '행선지4', '국외여행일수4',\n",
       "       '국외여행합계', '논문분야', '논문평점', '소속분류', '소속분류2', '소속분류3', '소속분류_Kor',\n",
       "       '소속분류2_Kor', '소속분류3_Kor'], dtype=object)"
      ]
     },
     "execution_count": 15,
     "metadata": {},
     "output_type": "execute_result"
    }
   ],
   "source": [
    "murd_fl.columns.values"
   ]
  },
  {
   "cell_type": "markdown",
   "metadata": {},
   "source": [
    "# 설문분석"
   ]
  },
  {
   "cell_type": "markdown",
   "metadata": {},
   "source": [
    "## 교육전 설문"
   ]
  },
  {
   "cell_type": "markdown",
   "metadata": {},
   "source": [
    "### 연수생 선발/추천을 위한 사전준비 기간은 적절하였다"
   ]
  },
  {
   "cell_type": "code",
   "execution_count": 60,
   "metadata": {},
   "outputs": [],
   "source": [
    "survey = murd_fl.copy().infer_objects()\n",
    "# data.convert_objects(convert_numeric=True)\n",
    "# data.apply(pd.to_numeric)\n",
    "# data.select_dtypes(include=['object']) 또는 data.apply(np.dtype) 로 data.astype('int')확인 후 열별 변환"
   ]
  },
  {
   "cell_type": "code",
   "execution_count": 21,
   "metadata": {},
   "outputs": [
    {
     "data": {
      "text/plain": [
       "성명\n",
       "Alejandro CEBALLOS JARABA                     5\n",
       "Carmen ZANA CARBAJAL                          5\n",
       "Dana PHAL                                     5\n",
       "Edward AGBODJAN                               5\n",
       "Hnin Ei Mon                                   5\n",
       "Iqbal AHMED                                   5\n",
       "Jacqueline Yamileth RIVERA AYALA              4\n",
       "Jean Bosco Alpha MBARUSHIMANA                 5\n",
       "Joz Carlos Gabrillo ORDILLANO                 4\n",
       "Khin Ohnmar MYINT THEIN                       5\n",
       "Laura LOZADA ACOSTA                           4\n",
       "Mercy Wairimu KIMANI                          4\n",
       "Peeter Hewage Chinthaka Sampath RATHNASIRI    5\n",
       "Name: 연수생 선발/추천을 위한 사전준비 기간은 적절하였다, dtype: object"
      ]
     },
     "execution_count": 21,
     "metadata": {},
     "output_type": "execute_result"
    }
   ],
   "source": [
    "survey.iloc[:,6]"
   ]
  },
  {
   "cell_type": "code",
   "execution_count": null,
   "metadata": {},
   "outputs": [],
   "source": [
    "murd_fl_survey_analysis.iloc[:,6] = murd_fl_survey_analysis.iloc[:,6].astype(int)\n",
    "murd_fl_survey_analysis.iloc[:,7] = murd_fl_survey_analysis.iloc[:,6].astype(int)\n",
    "murd_fl_survey_analysis.iloc[:,8] = murd_fl_survey_analysis.iloc[:,6].astype(int)\n",
    "murd_fl_survey_analysis.iloc[:,9] = murd_fl_survey_analysis.iloc[:,9].astype(int)\n",
    "murd_fl_survey_analysis.iloc[:,10] = murd_fl_survey_analysis.iloc[:,10].astype(int)\n",
    "murd_fl_survey_analysis.iloc[:,11] = murd_fl_survey_analysis.iloc[:,11].astype(int)\n",
    "murd_fl_survey_analysis.iloc[:,12] = murd_fl_survey_analysis.iloc[:,12].astype(int)\n",
    "murd_fl_survey_analysis.iloc[:,13] = murd_fl_survey_analysis.iloc[:,13].astype(int)\n",
    "murd_fl_survey_analysis.iloc[:,14] = murd_fl_survey_analysis.iloc[:,14].astype(int)\n",
    "murd_fl_survey_analysis.iloc[:,15] = murd_fl_survey_analysis.iloc[:,15].astype(int)\n",
    "murd_fl_survey_analysis.iloc[:,16] = murd_fl_survey_analysis.iloc[:,16].astype(int)\n",
    "murd_fl_survey_analysis.iloc[:,17] = murd_fl_survey_analysis.iloc[:,17].astype(int)\n",
    "murd_fl_survey_analysis.iloc[:,18] = murd_fl_survey_analysis.iloc[:,18].astype(int)\n",
    "murd_fl_survey_analysis.iloc[:,19] = murd_fl_survey_analysis.iloc[:,19].astype(int)\n",
    "murd_fl_survey_analysis.iloc[:,20] = murd_fl_survey_analysis.iloc[:,20].astype(int)\n",
    "murd_fl_survey_analysis.iloc[:,21] = murd_fl_survey_analysis.iloc[:,21].astype(int)\n",
    "murd_fl_survey_analysis.iloc[:,22] = murd_fl_survey_analysis.iloc[:,22].astype(int)\n",
    "murd_fl_survey_analysis.iloc[:,23] = murd_fl_survey_analysis.iloc[:,23].astype(int)\n",
    "murd_fl_survey_analysis.iloc[:,24] = murd_fl_survey_analysis.iloc[:,24].astype(int)\n",
    "murd_fl_survey_analysis.iloc[:,25] = murd_fl_survey_analysis.iloc[:,25].astype(float)\n",
    "murd_fl_survey_analysis.iloc[:,26] = murd_fl_survey_analysis.iloc[:,26].astype(int)\n",
    "murd_fl_survey_analysis.iloc[:,27] = murd_fl_survey_analysis.iloc[:,27].astype(int)\n",
    "murd_fl_survey_analysis.iloc[:,28] = murd_fl_survey_analysis.iloc[:,28].astype(int)\n",
    "murd_fl_survey_analysis.iloc[:,29] = murd_fl_survey_analysis.iloc[:,29].astype(float)\n",
    "murd_fl_survey_analysis.iloc[:,30] = murd_fl_survey_analysis.iloc[:,30].astype(int)\n",
    "murd_fl_survey_analysis.iloc[:,31] = murd_fl_survey_analysis.iloc[:,31].astype(int)\n",
    "murd_fl_survey_analysis.iloc[:,32] = murd_fl_survey_analysis.iloc[:,32].astype(int)\n",
    "murd_fl_survey_analysis.iloc[:,33] = murd_fl_survey_analysis.iloc[:,33].astype(int)\n",
    "murd_fl_survey_analysis.iloc[:,34] = murd_fl_survey_analysis.iloc[:,34].astype(int)\n",
    "murd_fl_survey_analysis.iloc[:,35] = murd_fl_survey_analysis.iloc[:,35].astype(int)\n",
    "murd_fl_survey_analysis.iloc[:,36] = murd_fl_survey_analysis.iloc[:,36].astype(int)\n",
    "murd_fl_survey_analysis.iloc[:,37] = murd_fl_survey_analysis.iloc[:,37].astype(int)\n",
    "murd_fl_survey_analysis.iloc[:,38] = murd_fl_survey_analysis.iloc[:,38].astype(int)\n",
    "murd_fl_survey_analysis.iloc[:,39] = murd_fl_survey_analysis.iloc[:,39].astype(int)\n",
    "murd_fl_survey_analysis.iloc[:,40] = murd_fl_survey_analysis.iloc[:,40].astype(int)\n",
    "murd_fl_survey_analysis.iloc[:,41] = murd_fl_survey_analysis.iloc[:,41].astype(int)\n",
    "murd_fl_survey_analysis.iloc[:,42] = murd_fl_survey_analysis.iloc[:,42].astype(int)\n",
    "murd_fl_survey_analysis.iloc[:,43] = murd_fl_survey_analysis.iloc[:,43].astype(int)\n",
    "murd_fl_survey_analysis.iloc[:,44] = murd_fl_survey_analysis.iloc[:,44].astype(int)"
   ]
  },
  {
   "cell_type": "code",
   "execution_count": null,
   "metadata": {},
   "outputs": [],
   "source": [
    "murd_fl_survey_analysis"
   ]
  },
  {
   "cell_type": "markdown",
   "metadata": {},
   "source": [
    "### 연수생 선발/추천을 위한 사전준비 기간은 적절하였다"
   ]
  },
  {
   "cell_type": "code",
   "execution_count": null,
   "metadata": {
    "colab": {
     "base_uri": "https://localhost:8080/",
     "height": 483
    },
    "colab_type": "code",
    "executionInfo": {
     "elapsed": 886,
     "status": "ok",
     "timestamp": 1552705412444,
     "user": {
      "displayName": "Gumin Jung",
      "photoUrl": "",
      "userId": "17563555151136201373"
     },
     "user_tz": -540
    },
    "hide_input": true,
    "id": "gk4xs2zF30dC",
    "outputId": "41ad8769-9c5f-4111-a666-2be35fd7fb90",
    "slideshow": {
     "slide_type": "Slide"
    }
   },
   "outputs": [],
   "source": [
    "display(murd_fl_survey_analysis.iloc[:,[0,6]])"
   ]
  },
  {
   "cell_type": "code",
   "execution_count": null,
   "metadata": {},
   "outputs": [],
   "source": [
    "plt.show(sns.countplot(x='연수생 선발/추천을 위한 사전준비 기간은 적절하였다', data =murd_fl_survey_analysis.iloc[:,[0,6]]))"
   ]
  },
  {
   "cell_type": "code",
   "execution_count": null,
   "metadata": {},
   "outputs": [],
   "source": [
    "pd.DataFrame(murd_fl_survey_analysis.iloc[:,[0,6]]['연수생 선발/추천을 위한 사전준비 기간은 적절하였다'].describe()).rename(\n",
    "index={'count': '응답자수','mean': '평균값','std': '표준편차','min': '최소값', '25%':'25%값', '50%':'중간값', '75%':'75%값','max':'최대값'})"
   ]
  },
  {
   "cell_type": "markdown",
   "metadata": {},
   "source": [
    "### 연수 신청방법 및 교육내용에 대한 구체적인 안내를 받았다"
   ]
  },
  {
   "cell_type": "code",
   "execution_count": null,
   "metadata": {},
   "outputs": [],
   "source": [
    "display(murd_fl_survey_analysis.iloc[:,[0,7]])"
   ]
  },
  {
   "cell_type": "code",
   "execution_count": null,
   "metadata": {
    "scrolled": true
   },
   "outputs": [],
   "source": [
    "plt.show(sns.countplot(x='연수 신청방법 및 교육내용에 대한 구체적인 안내를 받았다.', data =murd_fl_survey_analysis.iloc[:,[0,7]]))"
   ]
  },
  {
   "cell_type": "code",
   "execution_count": null,
   "metadata": {
    "colab": {
     "base_uri": "https://localhost:8080/",
     "height": 173
    },
    "colab_type": "code",
    "executionInfo": {
     "elapsed": 4478,
     "status": "ok",
     "timestamp": 1552705424029,
     "user": {
      "displayName": "Gumin Jung",
      "photoUrl": "",
      "userId": "17563555151136201373"
     },
     "user_tz": -540
    },
    "hide_input": true,
    "id": "gr6023o930dg",
    "outputId": "2aba2949-3054-4cf5-b0b8-e9ac5a8dd7ab",
    "scrolled": true,
    "slideshow": {
     "slide_type": "slide"
    }
   },
   "outputs": [],
   "source": [
    "pd.DataFrame(murd_fl_survey_analysis.iloc[:,[0,7]]['연수 신청방법 및 교육내용에 대한 구체적인 안내를 받았다.'].describe()).rename(\n",
    "index={'count': '응답자수','mean': '평균값','std': '표준편차','min': '최소값', '25%':'25%값', '50%':'중간값', '75%':'75%값','max':'최대값'})"
   ]
  },
  {
   "cell_type": "markdown",
   "metadata": {
    "colab_type": "text",
    "id": "OS3ptH8X30dm",
    "toc-hr-collapsed": false
   },
   "source": [
    "## 교육후 설문"
   ]
  },
  {
   "cell_type": "markdown",
   "metadata": {},
   "source": [
    "###  연수과정의 내용은 연수생 현지의 상황과 요구에 맞게 구성되었다."
   ]
  },
  {
   "cell_type": "code",
   "execution_count": null,
   "metadata": {},
   "outputs": [],
   "source": [
    "display(murd_fl_survey_analysis.iloc[:,[0,17]])"
   ]
  },
  {
   "cell_type": "code",
   "execution_count": null,
   "metadata": {
    "scrolled": true
   },
   "outputs": [],
   "source": [
    "plt.show(sns.countplot(x='연수과정의 내용은 연수생 현지의 상황과 요구에 맞게 구성되었다.', data =murd_fl_survey_analysis.iloc[:,[0,17]]))"
   ]
  },
  {
   "cell_type": "code",
   "execution_count": null,
   "metadata": {},
   "outputs": [],
   "source": [
    "pd.DataFrame(murd_fl.iloc[:,[0,17]]['연수과정의 내용은 연수생 현지의 상황과 요구에 맞게 구성되었다.'].describe()).rename(\n",
    "index={'count': '응답자수','mean': '평균값','std': '표준편차','min': '최소값', '25%':'25%값', '50%':'중간값', '75%':'75%값','max':'최대값'})"
   ]
  },
  {
   "cell_type": "markdown",
   "metadata": {},
   "source": [
    "### 연수과정의 내용과 수준은 이해하기 적절하였다."
   ]
  },
  {
   "cell_type": "code",
   "execution_count": null,
   "metadata": {
    "colab": {
     "base_uri": "https://localhost:8080/",
     "height": 483
    },
    "colab_type": "code",
    "executionInfo": {
     "elapsed": 4415,
     "status": "ok",
     "timestamp": 1552705424032,
     "user": {
      "displayName": "Gumin Jung",
      "photoUrl": "",
      "userId": "17563555151136201373"
     },
     "user_tz": -540
    },
    "hide_input": true,
    "id": "LxLNLgtn30d7",
    "outputId": "2ea69ead-5cd7-4078-f8af-2972b80ba75f",
    "slideshow": {
     "slide_type": "slide"
    }
   },
   "outputs": [],
   "source": [
    "display(murd_fl_survey_analysis.iloc[:,[0,18]])"
   ]
  },
  {
   "cell_type": "code",
   "execution_count": null,
   "metadata": {},
   "outputs": [],
   "source": [
    "plt.show(sns.countplot(x='연수과정의 내용과 수준은 이해하기 적절하였다.', data =murd_fl_survey_analysis.iloc[:,[0,18]]))"
   ]
  },
  {
   "cell_type": "code",
   "execution_count": null,
   "metadata": {},
   "outputs": [],
   "source": [
    "pd.DataFrame(murd_fl_survey_analysis.iloc[:,[0,18]]['연수과정의 내용과 수준은 이해하기 적절하였다.'].describe()).rename(\n",
    "index={'count': '응답자수','mean': '평균값','std': '표준편차','min': '최소값', '25%':'25%값', '50%':'중간값', '75%':'75%값','max':'최대값'})"
   ]
  },
  {
   "cell_type": "markdown",
   "metadata": {},
   "source": [
    "### 연수과정의 교육방법(강의, 실습/토의, 현장학습 등)은 연수내용을 이해하는데 적합하였다."
   ]
  },
  {
   "cell_type": "code",
   "execution_count": null,
   "metadata": {},
   "outputs": [],
   "source": [
    "display(murd_fl_survey_analysis.iloc[:,[0,19]])"
   ]
  },
  {
   "cell_type": "code",
   "execution_count": null,
   "metadata": {},
   "outputs": [],
   "source": [
    "plt.show(sns.countplot(x='연수과정의 교육방법(강의, 실습/토의, 현장학습 등)은 연수내용을 이해하는데 적합하였다.', data =murd_fl_survey_analysis.iloc[:,[0,19]]))"
   ]
  },
  {
   "cell_type": "code",
   "execution_count": null,
   "metadata": {},
   "outputs": [],
   "source": [
    "pd.DataFrame(murd_fl_survey_analysis.iloc[:,[0,19]]['연수과정의 교육방법(강의, 실습/토의, 현장학습 등)은 연수내용을 이해하는데 적합하였다.'].describe()).rename(\n",
    "index={'count': '응답자수','mean': '평균값','std': '표준편차','min': '최소값', '25%':'25%값', '50%':'중간값', '75%':'75%값','max':'최대값'})"
   ]
  },
  {
   "cell_type": "markdown",
   "metadata": {},
   "source": [
    "### 연수기관에서는 연수생 국가의 문화나 종교를 배려하기 위해 노력하였다"
   ]
  },
  {
   "cell_type": "code",
   "execution_count": null,
   "metadata": {},
   "outputs": [],
   "source": [
    "display(murd_fl_survey_analysis.iloc[:,[0,20]])"
   ]
  },
  {
   "cell_type": "code",
   "execution_count": null,
   "metadata": {},
   "outputs": [],
   "source": [
    "plt.show(sns.countplot(x='연수기관에서는 연수생 국가의 문화나 종교를 배려하기 위해 노력하였다', data =murd_fl_survey_analysis.iloc[:,[0,20]]))"
   ]
  },
  {
   "cell_type": "code",
   "execution_count": null,
   "metadata": {},
   "outputs": [],
   "source": [
    "pd.DataFrame(murd_fl_survey_analysis.iloc[:,[0,20]]['연수기관에서는 연수생 국가의 문화나 종교를 배려하기 위해 노력하였다'].describe()).rename(\n",
    "index={'count': '응답자수','mean': '평균값','std': '표준편차','min': '최소값', '25%':'25%값', '50%':'중간값', '75%':'75%값','max':'최대값'})"
   ]
  },
  {
   "cell_type": "markdown",
   "metadata": {},
   "source": [
    "### 연수운영진은 연수과정을 원활하게 운영하였다. (일정관리, 강의준비, 연수생 지원 등)"
   ]
  },
  {
   "cell_type": "code",
   "execution_count": null,
   "metadata": {},
   "outputs": [],
   "source": [
    "display(murd_fl_survey_analysis.iloc[:,[0,21]])"
   ]
  },
  {
   "cell_type": "code",
   "execution_count": null,
   "metadata": {},
   "outputs": [],
   "source": [
    "plt.show(sns.countplot(x='연수운영진은 연수과정을 원활하게 운영하였다. (일정관리, 강의준비, 연수생 지원 등)', \n",
    "                       data =murd_fl_survey_analysis.iloc[:,[0,21]]))"
   ]
  },
  {
   "cell_type": "code",
   "execution_count": null,
   "metadata": {},
   "outputs": [],
   "source": [
    "pd.DataFrame(murd_fl_survey_analysis.iloc[:,[0,21]][\n",
    "    '연수운영진은 연수과정을 원활하게 운영하였다. (일정관리, 강의준비, 연수생 지원 등)'].describe()).rename(\n",
    "index={'count': '응답자수','mean': '평균값','std': '표준편차','min': '최소값', '25%':'25%값', '50%':'중간값', '75%':'75%값','max':'최대값'})"
   ]
  },
  {
   "cell_type": "markdown",
   "metadata": {},
   "source": [
    "### 연수운영진은 응급상황 등 사건사고에 대해 적절히 대처하였다."
   ]
  },
  {
   "cell_type": "code",
   "execution_count": null,
   "metadata": {},
   "outputs": [],
   "source": [
    "display(murd_fl_survey_analysis.iloc[:,[0,22]])"
   ]
  },
  {
   "cell_type": "code",
   "execution_count": null,
   "metadata": {},
   "outputs": [],
   "source": [
    "plt.show(sns.countplot(x='연수운영진은 응급상황 등 사건사고에 대해 적절히 대처하였다.', data =murd_fl_survey_analysis.iloc[:,[0,22]]))"
   ]
  },
  {
   "cell_type": "code",
   "execution_count": null,
   "metadata": {},
   "outputs": [],
   "source": [
    "pd.DataFrame(murd_fl_survey_analysis.iloc[:,[0,22]]['연수운영진은 응급상황 등 사건사고에 대해 적절히 대처하였다.'].describe()).rename(\n",
    "index={'count': '응답자수','mean': '평균값','std': '표준편차','min': '최소값', '25%':'25%값', '50%':'중간값', '75%':'75%값','max':'최대값'})"
   ]
  },
  {
   "cell_type": "markdown",
   "metadata": {},
   "source": [
    "### 강의실 및 실습실은 사용하기에 편리하였다."
   ]
  },
  {
   "cell_type": "code",
   "execution_count": null,
   "metadata": {},
   "outputs": [],
   "source": [
    "display(murd_fl_survey_analysis.iloc[:,[0,23]])"
   ]
  },
  {
   "cell_type": "code",
   "execution_count": null,
   "metadata": {},
   "outputs": [],
   "source": [
    "plt.show(sns.countplot(x='강의실 및 실습실은 사용하기에 편리하였다.', data =murd_fl_survey_analysis.iloc[:,[0,23]]))"
   ]
  },
  {
   "cell_type": "code",
   "execution_count": null,
   "metadata": {},
   "outputs": [],
   "source": [
    "pd.DataFrame(murd_fl_survey_analysis.iloc[:,[0,23]]['강의실 및 실습실은 사용하기에 편리하였다.'].describe()).rename(\n",
    "index={'count': '응답자수','mean': '평균값','std': '표준편차','min': '최소값', '25%':'25%값', '50%':'중간값', '75%':'75%값','max':'최대값'})"
   ]
  },
  {
   "cell_type": "markdown",
   "metadata": {
    "colab_type": "text",
    "id": "zA1f5pHE30fX",
    "slideshow": {
     "slide_type": "slide"
    }
   },
   "source": [
    "### 연수 편의시설(휴게시설, 식당, 숙박시설 등)은 사용하기에 편리하였다."
   ]
  },
  {
   "cell_type": "code",
   "execution_count": null,
   "metadata": {},
   "outputs": [],
   "source": [
    "display(murd_fl_survey_analysis.iloc[:,[0,24]])"
   ]
  },
  {
   "cell_type": "code",
   "execution_count": null,
   "metadata": {},
   "outputs": [],
   "source": [
    "plt.show(sns.countplot(x='연수 편의시설(휴게시설, 식당, 숙박시설 등)은 사용하기에 편리하였다. ', data =murd_fl_survey_analysis.iloc[:,[0,24]]))"
   ]
  },
  {
   "cell_type": "code",
   "execution_count": null,
   "metadata": {},
   "outputs": [],
   "source": [
    "pd.DataFrame(murd_fl_survey_analysis.iloc[:,[0,24]]['연수 편의시설(휴게시설, 식당, 숙박시설 등)은 사용하기에 편리하였다. '].describe()).rename(\n",
    "index={'count': '응답자수','mean': '평균값','std': '표준편차','min': '최소값', '25%':'25%값', '50%':'중간값', '75%':'75%값','max':'최대값'})"
   ]
  },
  {
   "cell_type": "markdown",
   "metadata": {},
   "source": [
    "### 연수과정에 사용된 교수학습매체는 적절하였다. (교재, 동영상, 실습장비 등)"
   ]
  },
  {
   "cell_type": "code",
   "execution_count": null,
   "metadata": {},
   "outputs": [],
   "source": [
    "display(murd_fl_survey_analysis.iloc[:,[0,26]])"
   ]
  },
  {
   "cell_type": "code",
   "execution_count": null,
   "metadata": {},
   "outputs": [],
   "source": [
    "plt.show(sns.countplot(x='연수과정에 사용된 교수학습매체는 적절하였다. (교재, 동영상, 실습장비 등)', \n",
    "                       data =murd_fl_survey_analysis.iloc[:,[0,26]]))"
   ]
  },
  {
   "cell_type": "code",
   "execution_count": null,
   "metadata": {},
   "outputs": [],
   "source": [
    "pd.DataFrame(murd_fl_survey_analysis.iloc[:,[0,26]]['연수과정에 사용된 교수학습매체는 적절하였다. (교재, 동영상, 실습장비 등)'].describe()).rename(\n",
    "index={'count': '응답자수','mean': '평균값','std': '표준편차','min': '최소값', '25%':'25%값', '50%':'중간값', '75%':'75%값','max':'최대값'})"
   ]
  },
  {
   "cell_type": "markdown",
   "metadata": {},
   "source": [
    "### 강사진은 해당 분야에 대한 실무경험이나 전문성 수준이 높은 인력으로 구성되었다."
   ]
  },
  {
   "cell_type": "code",
   "execution_count": null,
   "metadata": {},
   "outputs": [],
   "source": [
    "display(murd_fl_survey_analysis.iloc[:,[0,27]])"
   ]
  },
  {
   "cell_type": "code",
   "execution_count": null,
   "metadata": {},
   "outputs": [],
   "source": [
    "plt.show(sns.countplot(x='강사진은 해당 분야에 대한 실무경험이나 전문성 수준이 높은 인력으로 구성되었다.',\n",
    "                       data =murd_fl_survey_analysis.iloc[:,[0,27]]))"
   ]
  },
  {
   "cell_type": "code",
   "execution_count": null,
   "metadata": {},
   "outputs": [],
   "source": [
    "pd.DataFrame(murd_fl_survey_analysis.iloc[:,[0,27]]['강사진은 해당 분야에 대한 실무경험이나 전문성 수준이 높은 인력으로 구성되었다.'].describe()).rename(\n",
    "index={'count': '응답자수','mean': '평균값','std': '표준편차','min': '최소값', '25%':'25%값', '50%':'중간값', '75%':'75%값','max':'최대값'})"
   ]
  },
  {
   "cell_type": "markdown",
   "metadata": {},
   "source": [
    "### 강사는 연수생과 소통하며 교육내용을 체계적이고 능숙하게 전달하였다"
   ]
  },
  {
   "cell_type": "code",
   "execution_count": null,
   "metadata": {},
   "outputs": [],
   "source": [
    "display(murd_fl_survey_analysis.iloc[:,[0,28]])"
   ]
  },
  {
   "cell_type": "code",
   "execution_count": null,
   "metadata": {},
   "outputs": [],
   "source": [
    "plt.show(sns.countplot(x='강사는 연수생과 소통하며 교육내용을 체계적이고 능숙하게 전달하였다', data =murd_fl_survey_analysis.iloc[:,[0,28]]))"
   ]
  },
  {
   "cell_type": "code",
   "execution_count": null,
   "metadata": {},
   "outputs": [],
   "source": [
    "pd.DataFrame(murd_fl_survey_analysis.iloc[:,[0,28]]['강사는 연수생과 소통하며 교육내용을 체계적이고 능숙하게 전달하였다'].describe()).rename(\n",
    "index={'count': '응답자수','mean': '평균값','std': '표준편차','min': '최소값', '25%':'25%값', '50%':'중간값', '75%':'75%값','max':'최대값'})"
   ]
  },
  {
   "cell_type": "markdown",
   "metadata": {},
   "source": [
    "### 통역사는 이해하기 쉽도록 통역하였다."
   ]
  },
  {
   "cell_type": "code",
   "execution_count": null,
   "metadata": {},
   "outputs": [],
   "source": [
    "display(murd_fl_survey_analysis.iloc[:,[0,29]])"
   ]
  },
  {
   "cell_type": "code",
   "execution_count": null,
   "metadata": {},
   "outputs": [],
   "source": [
    "plt.show(sns.countplot(x='통역사는 이해하기 쉽도록 통역하였다. (2-1에서 ②에 응답한 경우, 응답하지 않으셔도 됩니다)', \n",
    "                       data =murd_fl_survey_analysis.iloc[:,[0,29]]))"
   ]
  },
  {
   "cell_type": "code",
   "execution_count": null,
   "metadata": {},
   "outputs": [],
   "source": [
    "pd.DataFrame(murd_fl_survey_analysis.iloc[:,[0,29]]['통역사는 이해하기 쉽도록 통역하였다. (2-1에서 ②에 응답한 경우, 응답하지 않으셔도 됩니다)'].describe()).rename(\n",
    "index={'count': '응답자수','mean': '평균값','std': '표준편차','min': '최소값', '25%':'25%값', '50%':'중간값', '75%':'75%값','max':'최대값'})"
   ]
  },
  {
   "cell_type": "markdown",
   "metadata": {},
   "source": [
    "### 국별보고/액션플랜의 주제는 연수과정 목표와 연계되어 있었다."
   ]
  },
  {
   "cell_type": "code",
   "execution_count": null,
   "metadata": {},
   "outputs": [],
   "source": [
    "display(murd_fl_survey_analysis.iloc[:,[0,39]])"
   ]
  },
  {
   "cell_type": "code",
   "execution_count": null,
   "metadata": {},
   "outputs": [],
   "source": [
    "plt.show(sns.countplot(x='국별보고/액션플랜의 주제는 연수과정 목표와 연계되어 있었다.', data =murd_fl_survey_analysis.iloc[:,[0,39]]))"
   ]
  },
  {
   "cell_type": "code",
   "execution_count": null,
   "metadata": {},
   "outputs": [],
   "source": [
    "pd.DataFrame(murd_fl_survey_analysis.iloc[:,[0,39]]['국별보고/액션플랜의 주제는 연수과정 목표와 연계되어 있었다.'].describe()).rename(\n",
    "index={'count': '응답자수','mean': '평균값','std': '표준편차','min': '최소값', '25%':'25%값', '50%':'중간값', '75%':'75%값','max':'최대값'})"
   ]
  },
  {
   "cell_type": "markdown",
   "metadata": {},
   "source": [
    "### 국별보고/액션플랜 세션시간은 충분하였다."
   ]
  },
  {
   "cell_type": "code",
   "execution_count": null,
   "metadata": {},
   "outputs": [],
   "source": [
    "display(murd_fl_survey_analysis.iloc[:,[0,40]])"
   ]
  },
  {
   "cell_type": "code",
   "execution_count": null,
   "metadata": {},
   "outputs": [],
   "source": [
    "plt.show(sns.countplot(x='국별보고/액션플랜 세션시간은 충분하였다.', data =murd_fl_survey_analysis.iloc[:,[0,40]]))"
   ]
  },
  {
   "cell_type": "code",
   "execution_count": null,
   "metadata": {},
   "outputs": [],
   "source": [
    "pd.DataFrame(murd_fl_survey_analysis.iloc[:,[0,40]]['국별보고/액션플랜 세션시간은 충분하였다.'].describe()).rename(\n",
    "index={'count': '응답자수','mean': '평균값','std': '표준편차','min': '최소값', '25%':'25%값', '50%':'중간값', '75%':'75%값','max':'최대값'})"
   ]
  },
  {
   "cell_type": "markdown",
   "metadata": {},
   "source": [
    "### 액션플랜 작성 및 발표를 위한 사전안내가 충분히 이루어졌다."
   ]
  },
  {
   "cell_type": "code",
   "execution_count": null,
   "metadata": {},
   "outputs": [],
   "source": [
    "display(murd_fl_survey_analysis.iloc[:,[0,41]])"
   ]
  },
  {
   "cell_type": "code",
   "execution_count": null,
   "metadata": {},
   "outputs": [],
   "source": [
    "plt.show(sns.countplot(x='액션플랜 작성 및 발표를 위한 사전안내가 충분히 이루어졌다.', data =murd_fl_survey_analysis.iloc[:,[0,41]]))"
   ]
  },
  {
   "cell_type": "code",
   "execution_count": null,
   "metadata": {},
   "outputs": [],
   "source": [
    "pd.DataFrame(murd_fl_survey_analysis.iloc[:,[0,41]]['액션플랜 작성 및 발표를 위한 사전안내가 충분히 이루어졌다.'].describe()).rename(\n",
    "index={'count': '응답자수','mean': '평균값','std': '표준편차','min': '최소값', '25%':'25%값', '50%':'중간값', '75%':'75%값','max':'최대값'})"
   ]
  },
  {
   "cell_type": "markdown",
   "metadata": {},
   "source": [
    "### 국별보고/액션플랜 세션 담당자는 피드백을 충분히 제공하였다."
   ]
  },
  {
   "cell_type": "code",
   "execution_count": null,
   "metadata": {},
   "outputs": [],
   "source": [
    "display(murd_fl_survey_analysis.iloc[:,[0,42]])"
   ]
  },
  {
   "cell_type": "code",
   "execution_count": null,
   "metadata": {},
   "outputs": [],
   "source": [
    "plt.show(sns.countplot(x='국별보고/액션플랜 세션 담당자는 피드백을 충분히 제공하였다.', \n",
    "                       data =murd_fl_survey_analysis.iloc[:,[0,42]]))"
   ]
  },
  {
   "cell_type": "code",
   "execution_count": null,
   "metadata": {},
   "outputs": [],
   "source": [
    "pd.DataFrame(murd_fl_survey_analysis.iloc[:,[0,42]]['국별보고/액션플랜 세션 담당자는 피드백을 충분히 제공하였다.'].describe()).rename(\n",
    "index={'count': '응답자수','mean': '평균값','std': '표준편차','min': '최소값', '25%':'25%값', '50%':'중간값', '75%':'75%값','max':'최대값'})"
   ]
  },
  {
   "cell_type": "markdown",
   "metadata": {},
   "source": [
    "### 국별보고/액션플랜 세션은 연수내용을 이해하는데 도움이 되었다."
   ]
  },
  {
   "cell_type": "code",
   "execution_count": null,
   "metadata": {},
   "outputs": [],
   "source": [
    "display(murd_fl_survey_analysis.iloc[:,[0,43]])"
   ]
  },
  {
   "cell_type": "code",
   "execution_count": null,
   "metadata": {},
   "outputs": [],
   "source": [
    "plt.show(sns.countplot(x='국별보고/액션플랜 세션은 연수내용을 이해하는데 도움이 되었다.', data =murd_fl_survey_analysis.iloc[:,[0,43]]))"
   ]
  },
  {
   "cell_type": "code",
   "execution_count": null,
   "metadata": {},
   "outputs": [],
   "source": [
    "pd.DataFrame(murd_fl_survey_analysis.iloc[:,[0,43]]['국별보고/액션플랜 세션은 연수내용을 이해하는데 도움이 되었다.'].describe()).rename(\n",
    "index={'count': '응답자수','mean': '평균값','std': '표준편차','min': '최소값', '25%':'25%값', '50%':'중간값', '75%':'75%값','max':'최대값'})"
   ]
  },
  {
   "cell_type": "markdown",
   "metadata": {},
   "source": [
    "### 액션플랜 작성은 현장에서 실무능력을 향상시키는데 도움이 되었다."
   ]
  },
  {
   "cell_type": "code",
   "execution_count": null,
   "metadata": {},
   "outputs": [],
   "source": [
    "display(murd_fl_survey_analysis.iloc[:,[0,44]])"
   ]
  },
  {
   "cell_type": "code",
   "execution_count": null,
   "metadata": {},
   "outputs": [],
   "source": [
    "plt.show(sns.countplot(x='액션플랜 작성은 현장에서 실무능력을 향상시키는데 도움이 되었다.', data =murd_fl_survey_analysis.iloc[:,[0,44]]))"
   ]
  },
  {
   "cell_type": "code",
   "execution_count": null,
   "metadata": {
    "scrolled": true
   },
   "outputs": [],
   "source": [
    "pd.DataFrame(murd_fl_survey_analysis.iloc[:,[0,44]]['액션플랜 작성은 현장에서 실무능력을 향상시키는데 도움이 되었다.'].describe()).rename(\n",
    "index={'count': '응답자수','mean': '평균값','std': '표준편차','min': '최소값', '25%':'25%값', '50%':'중간값', '75%':'75%값','max':'최대값'})"
   ]
  },
  {
   "cell_type": "markdown",
   "metadata": {},
   "source": [
    "## 연수생만족도 관련 설문항목 분석"
   ]
  },
  {
   "cell_type": "code",
   "execution_count": null,
   "metadata": {},
   "outputs": [],
   "source": [
    "murd_fl_survey_analysis2 = murd_fl_survey_analysis.copy().reset_index()\n",
    "murd_fl_survey_analysis2"
   ]
  },
  {
   "cell_type": "code",
   "execution_count": null,
   "metadata": {},
   "outputs": [],
   "source": [
    "murd_fl_survey_analysis2.columns"
   ]
  },
  {
   "cell_type": "code",
   "execution_count": null,
   "metadata": {},
   "outputs": [],
   "source": [
    "murd_fl_survey_analysis2.filter(like='교과에 대한 인지 수준', axis=1).mean()"
   ]
  },
  {
   "cell_type": "code",
   "execution_count": null,
   "metadata": {},
   "outputs": [],
   "source": [
    "murd_fl_survey_analysis3 = murd_fl_survey_analysis2.copy()[['성명', '연수생 선발/추천을 위한 사전준비 기간은 적절하였다', \n",
    "'연수 신청방법 및 교육내용에 대한 구체적인 안내를 받았다.', '연수과정의 내용은 연수생 현지의 상황과 요구에 맞게 구성되었다.',\n",
    "'연수과정의 내용과 수준은 이해하기 적절하였다.',\n",
    "'연수과정의 교육방법(강의, 실습/토의, 현장학습 등)은 연수내용을 이해하는데 적합하였다.',\n",
    "'연수기관에서는 연수생 국가의 문화나 종교를 배려하기 위해 노력하였다',\n",
    "'연수운영진은 연수과정을 원활하게 운영하였다. (일정관리, 강의준비, 연수생 지원 등)',\n",
    "'연수운영진은 응급상황 등 사건사고에 대해 적절히 대처하였다.', '강의실 및 실습실은 사용하기에 편리하였다.',\n",
    "'연수 편의시설(휴게시설, 식당, 숙박시설 등)은 사용하기에 편리하였다. ',\n",
    "'연수과정에 사용된 교수학습매체는 적절하였다. (교재, 동영상, 실습장비 등)',\n",
    "'강사진은 해당 분야에 대한 실무경험이나 전문성 수준이 높은 인력으로 구성되었다.',\n",
    "'강사는 연수생과 소통하며 교육내용을 체계적이고 능숙하게 전달하였다',\n",
    "'통역사는 이해하기 쉽도록 통역하였다. (2-1에서 ②에 응답한 경우, 응답하지 않으셔도 됩니다)',\n",
    "'국별보고/액션플랜의 주제는 연수과정 목표와 연계되어 있었다.', '국별보고/액션플랜 세션시간은 충분하였다.',\n",
    "'액션플랜 작성 및 발표를 위한 사전안내가 충분히 이루어졌다.',\n",
    "'국별보고/액션플랜 세션 담당자는 피드백을 충분히 제공하였다.',\n",
    "'국별보고/액션플랜 세션은 연수내용을 이해하는데 도움이 되었다.',\n",
    "'액션플랜 작성은 현장에서 실무능력을 향상시키는데 도움이 되었다.']]"
   ]
  },
  {
   "cell_type": "code",
   "execution_count": null,
   "metadata": {},
   "outputs": [],
   "source": [
    "murd_fl_survey_analysis3"
   ]
  },
  {
   "cell_type": "code",
   "execution_count": null,
   "metadata": {},
   "outputs": [],
   "source": [
    "murd_fl_survey_analysis_group = murd_fl_survey_analysis3.describe().rename(index={'mean': '평균값'}).T.drop(['count','std','min','25%','50%','75%','max'],axis=1)\n",
    "murd_fl_survey_analysis_group "
   ]
  },
  {
   "cell_type": "code",
   "execution_count": null,
   "metadata": {},
   "outputs": [],
   "source": [
    "# 칼럼 만들기 방법 1\n",
    "\n",
    "a = '신청 및 연수생 선발 안내'\n",
    "b = '연수과정의 운영 적절성 및 만족도'\n",
    "c = '교재 및 강사 만족도'\n",
    "d = '국별보고 및 액션플랜 세션 적절성'\n",
    "e = (((a[:] + \",\") * 2) + ((b[:] + \",\") * 8) + ((c[:] + \",\") * 4) + ((d[:] + \",\") * 6)).split(',')\n",
    "del(e[20])\n",
    "e"
   ]
  },
  {
   "cell_type": "markdown",
   "metadata": {},
   "source": [
    "### 연수생만족도 항목별 평균값"
   ]
  },
  {
   "cell_type": "code",
   "execution_count": null,
   "metadata": {},
   "outputs": [],
   "source": [
    "murd_fl_survey_analysis_group['그룹'] = e\n",
    "murd_fl_survey_analysis_group"
   ]
  },
  {
   "cell_type": "markdown",
   "metadata": {},
   "source": [
    "### 연수생만족도 주제 항목별 평균값(인덱스를 1-20으로 변경)"
   ]
  },
  {
   "cell_type": "code",
   "execution_count": null,
   "metadata": {},
   "outputs": [],
   "source": [
    "murd_fl_survey_analysis_group_index = \\\n",
    "murd_fl_survey_analysis_group.sort_values('평균값', ascending=False).reset_index()\n",
    "new_list = np.arange(1, 21)\n",
    "murd_fl_survey_analysis_group_index.set_index(new_list).rename(columns={'index': '구분'})"
   ]
  },
  {
   "cell_type": "markdown",
   "metadata": {},
   "source": [
    "### 연수생만족도 주제 그룹 평균값"
   ]
  },
  {
   "cell_type": "code",
   "execution_count": null,
   "metadata": {},
   "outputs": [],
   "source": [
    "# 주제별 만족도 그래프를 그리기 위한 인덱스 리셋\n",
    "murd_fl_survey_analysis_group_graph = \\\n",
    "murd_fl_survey_analysis_group.sort_values('평균값', ascending=False).reset_index()"
   ]
  },
  {
   "cell_type": "code",
   "execution_count": null,
   "metadata": {},
   "outputs": [],
   "source": [
    "plt.figure(figsize=(14, 8))\n",
    "plt.title('문항별 평균값', position=(0.5,1.02), fontsize=20)\n",
    "plt.xlabel('평균값', fontsize=18)\n",
    "plt.ylabel('문항', fontsize=18)\n",
    "plt.xticks(np.arange(0,5.25,0.25), fontsize=15)\n",
    "plt.yticks(fontsize=17)\n",
    "plt.grid()\n",
    "plt.show(sns.barplot('평균값',y='그룹', palette=\"Blues_d\", data =murd_fl_survey_analysis_group_graph))\n",
    "\n",
    "\n",
    "# plt.figure(figsize=(16, 10))\n",
    "# x = murd_fl_survey_analysis_group_graph['평균값']\n",
    "# y = murd_fl_survey_analysis_group_graph['index']\n",
    "\n",
    "# plt.barh(y, x, align='center')\n",
    "# plt.title('문항별 평균값', position=(0.5,1.02), fontsize=20)\n",
    "# plt.xlabel('평균값', fontsize=18)\n",
    "# plt.ylabel('문항', fontsize=18)\n",
    "# plt.xticks(np.arange(0,5.25,0.25), fontsize=15)\n",
    "# plt.yticks(fontsize=15)\n",
    "# plt.show()"
   ]
  },
  {
   "cell_type": "code",
   "execution_count": null,
   "metadata": {},
   "outputs": [],
   "source": [
    "murd_fl_survey_analysis_group.groupby('그룹')[['평균값']].mean().sort_values('평균값',ascending=False)"
   ]
  },
  {
   "cell_type": "markdown",
   "metadata": {},
   "source": [
    "### 연수생만족도 주제 그룹 평균값(사전준비 및 운영시간 관련 항목 제외)"
   ]
  },
  {
   "cell_type": "code",
   "execution_count": null,
   "metadata": {},
   "outputs": [],
   "source": [
    "survey_grouped = \\\n",
    "murd_fl_survey_analysis_group.drop(['국별보고/액션플랜 세션시간은 충분하였다.', \n",
    "'액션플랜 작성 및 발표를 위한 사전안내가 충분히 이루어졌다.']).groupby('그룹')[['평균값']].mean()"
   ]
  },
  {
   "cell_type": "code",
   "execution_count": null,
   "metadata": {},
   "outputs": [],
   "source": [
    "survey_grouped.sort_values('평균값',ascending=False)"
   ]
  },
  {
   "cell_type": "markdown",
   "metadata": {},
   "source": [
    "변경이 가능한(mutable) 자료형이라 삽입, 삭제, 정렬이 가능\n",
    "\n",
    "\n",
    "\n",
    "L = [i*i for i in range(10)]\n",
    "\n",
    "L = [i for i in L if i % 3 == 0]\n",
    "\n",
    "List Comprehensions 방식으로 리스트를 만들 수 있다.\n",
    "\n",
    "(파이썬의 신기하고 편리한 기능)\n",
    "\n",
    "\n",
    "\n",
    "5 in L\n",
    "\n",
    "in, not in 을 사용하여 리스트에 값이 포함되어 있는지 확인 (결과 True, False)\n",
    "\n",
    "\n",
    "\n",
    "L = [1, 2, 3, 4, 5]\n",
    "\n",
    "del(L[2]) # 리스트 특정 인덱스 내용을 삭제\n",
    "\n",
    "del(L) # 리스트 자체를 삭제\n",
    "\n",
    "del함수를 사용하여 리스트를 삭제"
   ]
  },
  {
   "cell_type": "markdown",
   "metadata": {},
   "source": [
    "## 교육전후 교과별 '인지 수준 - 기술 수준 - 태도 수준' 변화 분석"
   ]
  },
  {
   "cell_type": "code",
   "execution_count": null,
   "metadata": {
    "scrolled": true
   },
   "outputs": [],
   "source": [
    "murd_fl.reset_index(inplace=True)\n",
    "murd_fl.head()"
   ]
  },
  {
   "cell_type": "code",
   "execution_count": null,
   "metadata": {},
   "outputs": [],
   "source": [
    "murd_fl_pre_post = murd_fl[['성명','교육전: A교과에 대한 인지 수준','교육후: A교과에 대한 인지 수준',\n",
    "       '교육전: A교과에 대한 기술 수준', '교육후: A교과에 대한 기술 수준',\n",
    "       '교육전: A교과에 대한 태도 수준','교육후: A교과에 대한 태도 수준',\n",
    "       '교육전: B교과에 대한 인지 수준', '교육후: B교과에 대한 인지 수준',\n",
    "       '교육전: B교과에 대한 기술 수준','교육후: B교과에 대한 기술 수준',\n",
    "       '교육전: B교과에 대한 태도 수준','교육후: B교과에 대한 태도 수준',\n",
    "       '교육전: C교과에 대한 인지 수준', '교육후: C교과에 대한 인지 수준',\n",
    "       '교육전: C교과에 대한 기술 수준','교육후: C교과에 대한 기술 수준',\n",
    "       '교육전: C교과에 대한 태도 수준', '교육후: C교과에 대한 태도 수준']]\n",
    "\n",
    "#  = murd_fl_pre_post = pd.concat([murd_fl_pre, murd_fl_post.iloc[:, 1: ]],axis=1)\n",
    "\n",
    "murd_fl_post = murd_fl[['성명','교육후: A교과에 대한 인지 수준',\n",
    "       '교육후: A교과에 대한 기술 수준', '교육후: A교과에 대한 태도 수준',\n",
    "       '교육후: B교과에 대한 인지 수준','교육후: B교과에 대한 기술 수준',\n",
    "       '교육후: B교과에 대한 태도 수준','교육후: C교과에 대한 인지 수준',\n",
    "       '교육후: C교과에 대한 기술 수준','교육후: C교과에 대한 태도 수준']]\n",
    "murd_fl_pre = murd_fl[['성명','교육전: A교과에 대한 인지 수준',\n",
    "       '교육전: A교과에 대한 기술 수준', '교육전: A교과에 대한 태도 수준',\n",
    "       '교육전: B교과에 대한 인지 수준','교육전: B교과에 대한 기술 수준',\n",
    "       '교육전: B교과에 대한 태도 수준','교육전: C교과에 대한 인지 수준',\n",
    "       '교육전: C교과에 대한 기술 수준','교육전: C교과에 대한 태도 수준']]"
   ]
  },
  {
   "cell_type": "markdown",
   "metadata": {},
   "source": [
    "* A교과: Understanding Public-Private Partnership and Its Applicability to Developing Countries (PPP와 개도국에 대한 PPP적용방법에 대한 이해)\n",
    "* B교과: Applicable Water Quality Improvement Technique for Developing Countries (개도국을 위한 적용가능한 수질개선기술)\n",
    "* C교과: Developing a Media City and Road and Traffic Facility for Developing Countries (개도국을 위한 미디어시티, 도로, 교통시설 개발)"
   ]
  },
  {
   "cell_type": "code",
   "execution_count": null,
   "metadata": {},
   "outputs": [],
   "source": [
    "# 평균 계산을 위해 object를 float64로 변경\n",
    "murd_fl_pre_post['교육전: A교과에 대한 인지 수준'] = murd_fl_pre_post['교육전: A교과에 대한 인지 수준'].astype('float64')\n",
    "murd_fl_pre_post['교육전: B교과에 대한 인지 수준'] = murd_fl_pre_post['교육전: B교과에 대한 인지 수준'].astype('float64')\n",
    "murd_fl_pre_post['교육전: C교과에 대한 인지 수준'] = murd_fl_pre_post['교육전: C교과에 대한 인지 수준'].astype('float64')\n",
    "murd_fl_pre_post['교육후: A교과에 대한 인지 수준'] = murd_fl_pre_post['교육후: A교과에 대한 인지 수준'].astype('float64')\n",
    "murd_fl_pre_post['교육후: B교과에 대한 인지 수준'] = murd_fl_pre_post['교육후: B교과에 대한 인지 수준'].astype('float64')\n",
    "murd_fl_pre_post['교육후: C교과에 대한 인지 수준'] = murd_fl_pre_post['교육후: C교과에 대한 인지 수준'].astype('float64')\n",
    "\n",
    "murd_fl_pre_post['교육전: A교과에 대한 기술 수준'] = murd_fl_pre_post['교육전: A교과에 대한 기술 수준'].astype('float64')\n",
    "murd_fl_pre_post['교육전: B교과에 대한 기술 수준'] = murd_fl_pre_post['교육전: B교과에 대한 기술 수준'].astype('float64')\n",
    "murd_fl_pre_post['교육전: C교과에 대한 기술 수준'] = murd_fl_pre_post['교육전: C교과에 대한 기술 수준'].astype('float64')\n",
    "murd_fl_pre_post['교육후: A교과에 대한 기술 수준'] = murd_fl_pre_post['교육후: A교과에 대한 기술 수준'].astype('float64')\n",
    "murd_fl_pre_post['교육후: B교과에 대한 기술 수준'] = murd_fl_pre_post['교육후: B교과에 대한 기술 수준'].astype('float64')\n",
    "murd_fl_pre_post['교육후: C교과에 대한 기술 수준'] = murd_fl_pre_post['교육후: C교과에 대한 기술 수준'].astype('float64')\n",
    "\n",
    "murd_fl_pre_post['교육전: A교과에 대한 태도 수준'] = murd_fl_pre_post['교육전: A교과에 대한 태도 수준'].astype('float64')\n",
    "murd_fl_pre_post['교육전: B교과에 대한 태도 수준'] = murd_fl_pre_post['교육전: B교과에 대한 태도 수준'].astype('float64')\n",
    "murd_fl_pre_post['교육전: C교과에 대한 태도 수준'] = murd_fl_pre_post['교육전: C교과에 대한 태도 수준'].astype('float64')\n",
    "murd_fl_pre_post['교육후: A교과에 대한 태도 수준'] = murd_fl_pre_post['교육후: A교과에 대한 태도 수준'].astype('float64')\n",
    "murd_fl_pre_post['교육후: B교과에 대한 태도 수준'] = murd_fl_pre_post['교육후: B교과에 대한 태도 수준'].astype('float64')\n",
    "murd_fl_pre_post['교육후: C교과에 대한 태도 수준'] = murd_fl_pre_post['교육후: C교과에 대한 태도 수준'].astype('float64')"
   ]
  },
  {
   "cell_type": "code",
   "execution_count": null,
   "metadata": {},
   "outputs": [],
   "source": [
    "murd_fl_pre_post = murd_fl_pre_post.append(murd_fl_pre_post.mean(skipna=True, axis=0), ignore_index=True)\n",
    "murd_fl_pre_post.loc[13,'성명'] = ['평균']\n",
    "murd_fl_pre_post = murd_fl_pre_post.set_index('성명').filter(like='교육후', axis=1)\n",
    "murd_fl_pre_post"
   ]
  },
  {
   "cell_type": "code",
   "execution_count": null,
   "metadata": {},
   "outputs": [],
   "source": [
    "murd_fl_post_graph = murd_fl_pre_post.rename(columns={'교육후: A교과에 대한 인지 수준':'A교과에 대한 인지 수준', '교육후: A교과에 대한 기술 수준':'A교과에 대한 기술 수준', '교육후: A교과에 대한 태도 수준':'A교과에 대한 태도 수준',\n",
    "                                                         '교육후: B교과에 대한 인지 수준':'B교과에 대한 인지 수준', '교육후: B교과에 대한 기술 수준':'B교과에 대한 기술 수준', '교육후: B교과에 대한 태도 수준':'B교과에 대한 태도 수준',\n",
    "                                                         '교육후: C교과에 대한 인지 수준':'C교과에 대한 인지 수준', '교육후: C교과에 대한 기술 수준':'C교과에 대한 기술 수준', '교육후: C교과에 대한 태도 수준':'C교과에 대한 태도 수준'})\n",
    "murd_fl_post_graph"
   ]
  },
  {
   "cell_type": "code",
   "execution_count": null,
   "metadata": {},
   "outputs": [],
   "source": [
    "# murd_fl_post_graph 칼럼 순서 변경\n",
    "murd_fl_post_graph = pd.DataFrame(murd_fl_post_graph,columns=['A교과에 대한 인지 수준', 'B교과에 대한 인지 수준', 'C교과에 대한 인지 수준',\n",
    "                                                              'A교과에 대한 기술 수준', 'B교과에 대한 기술 수준', 'C교과에 대한 기술 수준',\n",
    "                                                              'A교과에 대한 태도 수준', 'B교과에 대한 태도 수준', 'C교과에 대한 태도 수준'])\n",
    "murd_fl_post_graph"
   ]
  },
  {
   "cell_type": "code",
   "execution_count": null,
   "metadata": {},
   "outputs": [],
   "source": [
    "# murd_fl_post_graph 에서 특이값 Dana PHAL 제외 시 평균 결과\n",
    "murd_fl_post_remove_outlier = murd_fl_post_graph.drop(murd_fl_post_graph.index[[2,13]])\n",
    "pd.DataFrame(murd_fl_post_remove_outlier.mean(), columns=['평균']).T\n",
    "# .drop(murd_fl_post_graph.index[[0,2,3,4,5,6,7]])"
   ]
  },
  {
   "cell_type": "code",
   "execution_count": null,
   "metadata": {},
   "outputs": [],
   "source": [
    "plt.figure(figsize=(16, 10))\n",
    "\n",
    "index=np.arange(len(murd_fl_post_graph.loc['평균',:]))\n",
    "plt.barh(murd_fl_post_graph.columns, murd_fl_post_graph.loc['평균',:], align='center')\n",
    "plt.title(\"교육후 교과별 '인지-기술-태도' 수준 평균\",position=(0.5,1.02), fontsize=20)\n",
    "plt.ylabel(\"교과별 '인지-기술-태도' 수준\", fontsize=18)\n",
    "plt.xlabel('수준 측정값', fontsize=18)\n",
    "plt.xticks(np.arange(0,5.25,0.25), fontsize=15)\n",
    "plt.yticks(fontsize=15)\n",
    "plt.grid(True)\n",
    " \n",
    "plt.show()"
   ]
  },
  {
   "cell_type": "markdown",
   "metadata": {},
   "source": [
    "### 'PPP와 개도국에 대한 PPP적용방법에 대한 이해 (A교과)'에 대한 참가자별 '인지 - 기술 - 태도' 수준 변화"
   ]
  },
  {
   "cell_type": "markdown",
   "metadata": {},
   "source": [
    "#### A교과에 대한 인지 수준 변화"
   ]
  },
  {
   "cell_type": "code",
   "execution_count": null,
   "metadata": {},
   "outputs": [],
   "source": [
    "# '교육전 전반적 이해 수준 변화 수준의 오름차순'으로 정렬 된 '교육전후 전반적 이해 수준 변화 수준'과 'Name'열로 된 DataFrame으로  \n",
    "# 각각 'Name'  '교육전 전반적 이해 수준 변화 수준' 데이터프레임을 .concat한 후 이를 오름차순. 그 후 reset_index\n",
    "\n",
    "df_cog_a = pd.concat([murd_fl['성명'],\n",
    "                           murd_fl['교육후: A교과에 대한 인지 수준'],\n",
    "                           murd_fl['교육전: A교과에 대한 인지 수준']\n",
    "                          ],axis=1)\n",
    "\n",
    "df_cog_a['교육전후 A교과에 대한 인지 수준 변화'] = \\\n",
    "                           murd_fl['교육후: A교과에 대한 인지 수준'] - \\\n",
    "                           murd_fl[\"교육전: A교과에 대한 인지 수준\"]\n",
    "\n",
    "df_cog_a_bef_af_gap = df_cog_a.sort_values(by='교육전후 A교과에 대한 인지 수준 변화',\n",
    "                            ascending=True).reset_index(drop='index')\n",
    "\n",
    "df_cog_a_bef_af_gap"
   ]
  },
  {
   "cell_type": "code",
   "execution_count": null,
   "metadata": {},
   "outputs": [],
   "source": [
    "plt.figure(figsize=(16, 10))\n",
    "# height = 0.35\n",
    "index=np.arange(len(df_cog_a_bef_af_gap))\n",
    "p1 = plt.barh(index, df_cog_a_bef_af_gap[\"교육전: A교과에 대한 인지 수준\"],  \n",
    "              align='center', label='Pre-Training')\n",
    "p2 = plt.barh(index, df_cog_a_bef_af_gap['교육후: A교과에 대한 인지 수준'],  \n",
    "              align='center', label='Post-Training', left=df_cog_a_bef_af_gap[\"교육전: A교과에 대한 인지 수준\"])\n",
    "\n",
    "plt.title('교육전후 A교과에 대한 인지 수준\\n(A교과: PPP와 개도국에 대한 PPP적용방법에 대한 이해)',\n",
    "          position=(0.5,1.02), fontsize=20)\n",
    "plt.ylabel('성명', fontsize=18)\n",
    "plt.xlabel('인지 수준', fontsize=18)\n",
    "plt.xticks(fontsize=15)\n",
    "plt.yticks(index, df_cog_a_bef_af_gap['성명'], fontsize=15)\n",
    "plt.legend((p1[0], p2[0]), ('Pre-Training', 'Post-Training'), fontsize=18)\n",
    "plt.show()\n",
    "\n",
    "# for i, rect in enumerate(p1):\n",
    "#     plt.text(0.95 * rect.get_width(), rect.get_y() + rect.get_height() / 2.0,\n",
    "#          str(df_cog_a_bef_af_gap[\"교육전: A교과에 대한 인지 수준 변화\"][i]),\n",
    "#          fontsize=15, color='w', ha='right', va='center')"
   ]
  },
  {
   "cell_type": "code",
   "execution_count": null,
   "metadata": {},
   "outputs": [],
   "source": [
    "plt.figure(figsize=(16, 10))\n",
    "# height = 0.35\n",
    "index=np.arange(len(df_cog_a_bef_af_gap))\n",
    "plt.barh(index, df_cog_a_bef_af_gap['교육전후 A교과에 대한 인지 수준 변화'], align='center', label='교육후 인지 수준 - 교육전 인지 수준')\n",
    "plt.title('교육전후 A교과에 대한 인지 수준 변화 측정 \\n(A교과: PPP와 개도국에 대한 PPP적용방법에 대한 이해)',\n",
    "          position=(0.5,1.02), fontsize=20)\n",
    "plt.ylabel('성명', fontsize=18)\n",
    "plt.xlabel('인지 수준 변화 측정값', fontsize=18)\n",
    "plt.xticks(fontsize=15)\n",
    "plt.yticks(index, df_cog_a_bef_af_gap['성명'], fontsize=15)\n",
    "plt.legend(fontsize=18)\n",
    "# for i, rect in enumerate(p1):\n",
    "#     plt.text(0.95 * rect.get_width(), rect.get_y() + rect.get_height() / 2.0,\n",
    "#          str(df_cog_a_bef_af_gap[\"교육전: A교과에 대한 인지 수준 변화\"][i]),\n",
    "#          fontsize=15, color='w', ha='right', va='center')\n",
    "\n",
    "plt.show()"
   ]
  },
  {
   "cell_type": "markdown",
   "metadata": {},
   "source": [
    "#### A교과에 대한 기술 수준 변화"
   ]
  },
  {
   "cell_type": "code",
   "execution_count": null,
   "metadata": {},
   "outputs": [],
   "source": [
    "# '교육전 전반적 이해 수준 변화 수준의 오름차순'으로 정렬 된 '교육전후 전반적 이해 수준 변화 수준'과 'Name'열로 된 DataFrame으로  \n",
    "# 각각 'Name'  '교육전 전반적 이해 수준 변화 수준' 데이터프레임을 .concat한 후 이를 오름차순. 그 후 reset_index\n",
    "\n",
    "\n",
    "df_tech_a = pd.concat([murd_fl['성명'],\n",
    "                           murd_fl['교육후: A교과에 대한 기술 수준'],\n",
    "                           murd_fl['교육전: A교과에 대한 기술 수준'],\n",
    "                          ],axis=1)\n",
    "\n",
    "df_tech_a['교육전후 A교과에 대한 기술 수준 변화'] = \\\n",
    "                           murd_fl['교육후: A교과에 대한 기술 수준'] - \\\n",
    "                           murd_fl['교육전: A교과에 대한 기술 수준']\n",
    "\n",
    "df_tech_a_bef_af_gap = df_tech_a.sort_values(by='교육전후 A교과에 대한 기술 수준 변화',\n",
    "                            ascending=True).reset_index(drop='index')\n",
    "\n",
    "df_tech_a_bef_af_gap"
   ]
  },
  {
   "cell_type": "code",
   "execution_count": null,
   "metadata": {},
   "outputs": [],
   "source": [
    "plt.figure(figsize=(16, 10))\n",
    "# height = 0.35\n",
    "index=np.arange(len(df_tech_a_bef_af_gap))\n",
    "p1 = plt.barh(index, df_tech_a_bef_af_gap[\"교육전: A교과에 대한 기술 수준\"],  \n",
    "              align='center', label='Pre-Training')\n",
    "p2 = plt.barh(index, df_tech_a_bef_af_gap['교육후: A교과에 대한 기술 수준'],  \n",
    "              align='center', label='Post-Training', left=df_tech_a_bef_af_gap[\"교육전: A교과에 대한 기술 수준\"])\n",
    "\n",
    "plt.title('교육전후 A교과에 대한 기술 수준\\n(A교과: PPP와 개도국에 대한 PPP적용방법에 대한 이해)',\n",
    "          position=(0.5,1.02), fontsize=20)\n",
    "plt.ylabel('성명', fontsize=18)\n",
    "plt.xlabel('기술 수준', fontsize=18)\n",
    "plt.xticks(fontsize=15)\n",
    "plt.yticks(index, df_tech_a_bef_af_gap['성명'], fontsize=15)\n",
    "plt.legend((p1[0], p2[0]), ('Pre-Training', 'Post-Training'), fontsize=18)\n",
    "plt.show()"
   ]
  },
  {
   "cell_type": "code",
   "execution_count": null,
   "metadata": {},
   "outputs": [],
   "source": [
    "plt.figure(figsize=(16, 10))\n",
    "# height = 0.35\n",
    "index=np.arange(len(df_tech_a_bef_af_gap))\n",
    "plt.barh(index, df_tech_a_bef_af_gap['교육전후 A교과에 대한 기술 수준 변화'], align='center', label='교육후 기술 수준 - 교육전 기술 수준')\n",
    "plt.title('A교과에 대한 기술 수준 변화 측정\\n(A교과: PPP와 개도국에 대한 PPP적용방법에 대한 이해)',\n",
    "          position=(0.5,1.02), fontsize=20)\n",
    "plt.ylabel('성명', fontsize=18)\n",
    "plt.xlabel('기술 수준 변화 측정값', fontsize=18)\n",
    "plt.xticks(fontsize=15)\n",
    "plt.yticks(index, df_tech_a_bef_af_gap['성명'], fontsize=15)\n",
    "plt.legend(fontsize=18)\n",
    " \n",
    "plt.show()"
   ]
  },
  {
   "cell_type": "markdown",
   "metadata": {},
   "source": [
    "#### A교과에 대한 태도 수준 변화 "
   ]
  },
  {
   "cell_type": "code",
   "execution_count": null,
   "metadata": {
    "colab": {},
    "colab_type": "code",
    "hide_input": true,
    "id": "Pyvqz1ua30hW",
    "slideshow": {
     "slide_type": "slide"
    }
   },
   "outputs": [],
   "source": [
    "# '교육전 전반적 이해 수준 변화 수준의 오름차순'으로 정렬 된 '교육전후 전반적 이해 수준 변화 수준'과 'Name'열로 된 DataFrame으로  \n",
    "# 각각 'Name'  '교육전 전반적 이해 수준 변화 수준' 데이터프레임을 .concat한 후 이를 오름차순. 그 후 reset_index\n",
    "\n",
    "\n",
    "df_atti_a = pd.concat([murd_fl['성명'],\n",
    "                           murd_fl['교육후: A교과에 대한 태도 수준'],\n",
    "                           murd_fl['교육전: A교과에 대한 태도 수준'],\n",
    "                          ],axis=1)\n",
    "\n",
    "df_atti_a['교육전후 A교과에 대한 태도 수준 변화'] = \\\n",
    "                           murd_fl['교육후: A교과에 대한 태도 수준'] - \\\n",
    "                           murd_fl['교육전: A교과에 대한 태도 수준']\n",
    "\n",
    "df_atti_a_bef_af_gap = df_atti_a.sort_values(by='교육전후 A교과에 대한 태도 수준 변화',\n",
    "                            ascending=True).reset_index(drop='index')\n",
    "\n",
    "df_atti_a_bef_af_gap"
   ]
  },
  {
   "cell_type": "code",
   "execution_count": null,
   "metadata": {},
   "outputs": [],
   "source": [
    "plt.figure(figsize=(16, 10))\n",
    "# height = 0.35\n",
    "index=np.arange(len(df_atti_a_bef_af_gap))\n",
    "p1 = plt.barh(index, df_atti_a_bef_af_gap[\"교육전: A교과에 대한 태도 수준\"],  \n",
    "              align='center', label='Pre-Training')\n",
    "p2 = plt.barh(index, df_atti_a_bef_af_gap['교육후: A교과에 대한 태도 수준'],  \n",
    "              align='center', label='Post-Training', left=df_atti_a_bef_af_gap[\"교육전: A교과에 대한 태도 수준\"])\n",
    "\n",
    "plt.title('교육전후 A교과에 대한 태도 수준\\n(A교과: PPP와 개도국에 대한 PPP적용방법에 대한 이해)',\n",
    "          position=(0.5,1.02), fontsize=20)\n",
    "plt.ylabel('성명', fontsize=18)\n",
    "plt.xlabel('태도 수준', fontsize=18)\n",
    "plt.xticks(fontsize=15)\n",
    "plt.yticks(index, df_atti_a_bef_af_gap['성명'], fontsize=15)\n",
    "plt.legend((p1[0], p2[0]), ('Pre-Training', 'Post-Training'), fontsize=18)\n",
    "plt.show()"
   ]
  },
  {
   "cell_type": "code",
   "execution_count": null,
   "metadata": {},
   "outputs": [],
   "source": [
    "plt.figure(figsize=(16, 10))\n",
    "# height = 0.35\n",
    "index=np.arange(len(df_atti_a_bef_af_gap))\n",
    "\n",
    "plt.barh(index, df_atti_a_bef_af_gap['교육전후 A교과에 대한 태도 수준 변화'], align='center', label='교육후 태도 수준 - 교육전 태도 수준')\n",
    "plt.title('A교과에 대한 태도 수준 변화 측정\\n(A교과: PPP와 개도국에 대한 PPP적용방법에 대한 이해)',\n",
    "          position=(0.5,1.02), fontsize=20)\n",
    "plt.ylabel('성명', fontsize=18)\n",
    "plt.xlabel('태도 수준 변화 측정값', fontsize=18)\n",
    "plt.xticks(fontsize=15)\n",
    "plt.yticks(index, df_atti_a_bef_af_gap['성명'], fontsize=15)\n",
    "plt.legend(fontsize=18)\n",
    " \n",
    "plt.show()"
   ]
  },
  {
   "cell_type": "markdown",
   "metadata": {},
   "source": [
    "### '개도국을 위한 적용가능한 수질개선기술 (B교과)'에 대한 참가자별 '인지 - 기술 - 태도' 수준 변화"
   ]
  },
  {
   "cell_type": "markdown",
   "metadata": {},
   "source": [
    "#### B교과에 대한 인지 수준 변화"
   ]
  },
  {
   "cell_type": "code",
   "execution_count": null,
   "metadata": {},
   "outputs": [],
   "source": [
    "# '교육전 전반적 이해 수준 변화 수준의 오름차순'으로 정렬 된 '교육전후 전반적 이해 수준 변화 수준'과 'Name'열로 된 DataFrame으로  \n",
    "# 각각 'Name'  '교육전 전반적 이해 수준 변화 수준' 데이터프레임을 .concat한 후 이를 오름차순. 그 후 reset_index\n",
    "\n",
    "df_cog_b = pd.concat([murd_fl['성명'],\n",
    "                           murd_fl['교육후: B교과에 대한 인지 수준'],\n",
    "                           murd_fl['교육전: B교과에 대한 인지 수준']\n",
    "                          ],axis=1)\n",
    "\n",
    "df_cog_b['교육전후 B교과에 대한 인지 수준 변화'] = \\\n",
    "                           murd_fl['교육후: B교과에 대한 인지 수준'] - \\\n",
    "                           murd_fl[\"교육전: B교과에 대한 인지 수준\"]\n",
    "\n",
    "df_cog_b_bef_af_gap = df_cog_b.sort_values(by='교육전후 B교과에 대한 인지 수준 변화',\n",
    "                            ascending=True).reset_index(drop='index')\n",
    "\n",
    "df_cog_b_bef_af_gap"
   ]
  },
  {
   "cell_type": "code",
   "execution_count": null,
   "metadata": {},
   "outputs": [],
   "source": [
    "plt.figure(figsize=(16, 10))\n",
    "# height = 0.35\n",
    "index=np.arange(len(df_cog_b_bef_af_gap))\n",
    "p1 = plt.barh(index, df_cog_b_bef_af_gap[\"교육전: B교과에 대한 인지 수준\"],  \n",
    "              align='center', label='Pre-Training')\n",
    "p2 = plt.barh(index, df_cog_b_bef_af_gap['교육후: B교과에 대한 인지 수준'],  \n",
    "              align='center', label='Post-Training', left=df_cog_b_bef_af_gap[\"교육전: B교과에 대한 인지 수준\"])\n",
    "\n",
    "plt.title('교육전후 B교과에 대한 인지 수준\\n(B교과: 개도국을 위한 적용가능한 수질개선기술)',\n",
    "          position=(0.5,1.02), fontsize=20)\n",
    "plt.ylabel('성명', fontsize=18)\n",
    "plt.xlabel('인지 수준', fontsize=18)\n",
    "plt.xticks(fontsize=15)\n",
    "plt.yticks(index, df_cog_b_bef_af_gap['성명'], fontsize=15)\n",
    "plt.legend((p1[0], p2[0]), ('Pre-Training', 'Post-Training'), fontsize=18)\n",
    "plt.show()\n",
    "\n",
    "# for i, rect in enumerate(p1):\n",
    "#     plt.text(0.95 * rect.get_width(), rect.get_y() + rect.get_height() / 2.0,\n",
    "#          str(df_cog_b_bef_af_gap[\"교육전: B교과에 대한 인지 수준 변화\"][i]),\n",
    "#          fontsize=15, color='w', ha='right', va='center')"
   ]
  },
  {
   "cell_type": "code",
   "execution_count": null,
   "metadata": {},
   "outputs": [],
   "source": [
    "plt.figure(figsize=(16, 10))\n",
    "# height = 0.35\n",
    "index=np.arange(len(df_cog_b_bef_af_gap))\n",
    "plt.barh(index, df_cog_b_bef_af_gap['교육전후 B교과에 대한 인지 수준 변화'], align='center', label='교육후 인지 수준 - 교육전 인지 수준')\n",
    "plt.title('B교과에 대한 인지 수준 변화 측정 \\n(B교과: 개도국을 위한 적용가능한 수질개선기술)',\n",
    "          position=(0.5,1.02), fontsize=20)\n",
    "plt.ylabel('성명', fontsize=18)\n",
    "plt.xlabel('인지 수준 변화 측정값', fontsize=18)\n",
    "plt.xticks(fontsize=15)\n",
    "plt.yticks(index, df_cog_b_bef_af_gap['성명'], fontsize=15)\n",
    "plt.legend(fontsize=18)\n",
    "# for i, rect in enumerate(p1):\n",
    "#     plt.text(0.95 * rect.get_width(), rect.get_y() + rect.get_height() / 2.0,\n",
    "#          str(df_cog_b_bef_af_gap[\"교육전: B교과에 대한 인지 수준 변화\"][i]),\n",
    "#          fontsize=15, color='w', ha='right', va='center')\n",
    "\n",
    "plt.show()\n",
    "\n"
   ]
  },
  {
   "cell_type": "markdown",
   "metadata": {},
   "source": [
    "#### B교과에 대한 기술 수준 변화"
   ]
  },
  {
   "cell_type": "code",
   "execution_count": null,
   "metadata": {},
   "outputs": [],
   "source": [
    "# '교육전 전반적 이해 수준 변화 수준의 오름차순'으로 정렬 된 '교육전후 전반적 이해 수준 변화 수준'과 'Name'열로 된 DataFrame으로  \n",
    "# 각각 'Name'  '교육전 전반적 이해 수준 변화 수준' 데이터프레임을 .concat한 후 이를 오름차순. 그 후 reset_index\n",
    "\n",
    "\n",
    "df_tech_b = pd.concat([murd_fl['성명'],\n",
    "                           murd_fl['교육후: B교과에 대한 기술 수준'],\n",
    "                           murd_fl['교육전: B교과에 대한 기술 수준'],\n",
    "                          ],axis=1)\n",
    "\n",
    "df_tech_b['교육전후 B교과에 대한 기술 수준 변화'] = \\\n",
    "                           murd_fl['교육후: B교과에 대한 기술 수준'] - \\\n",
    "                           murd_fl['교육전: B교과에 대한 기술 수준']\n",
    "\n",
    "df_tech_b_bef_af_gap = df_tech_b.sort_values(by='교육전후 B교과에 대한 기술 수준 변화',\n",
    "                            ascending=True).reset_index(drop='index')\n",
    "\n",
    "df_tech_b_bef_af_gap"
   ]
  },
  {
   "cell_type": "code",
   "execution_count": null,
   "metadata": {},
   "outputs": [],
   "source": [
    "plt.figure(figsize=(16, 10))\n",
    "# height = 0.35\n",
    "index=np.arange(len(df_tech_b_bef_af_gap))\n",
    "p1 = plt.barh(index, df_tech_b_bef_af_gap[\"교육전: B교과에 대한 기술 수준\"],  \n",
    "              align='center', label='Pre-Training')\n",
    "p2 = plt.barh(index, df_tech_b_bef_af_gap['교육후: B교과에 대한 기술 수준'],  \n",
    "              align='center', label='Post-Training', left=df_tech_b_bef_af_gap[\"교육전: B교과에 대한 기술 수준\"])\n",
    "\n",
    "plt.title('교육전후 B교과에 대한 기술 수준\\n(B교과: 개도국을 위한 적용가능한 수질개선기술)',\n",
    "          position=(0.5,1.02), fontsize=20)\n",
    "plt.ylabel('성명', fontsize=18)\n",
    "plt.xlabel('기술 수준', fontsize=18)\n",
    "plt.xticks(fontsize=15)\n",
    "plt.yticks(index, df_tech_b_bef_af_gap['성명'], fontsize=15)\n",
    "plt.legend((p1[0], p2[0]), ('Pre-Training', 'Post-Training'), fontsize=18)\n",
    "plt.show()"
   ]
  },
  {
   "cell_type": "code",
   "execution_count": null,
   "metadata": {},
   "outputs": [],
   "source": [
    "plt.figure(figsize=(16, 10))\n",
    "# height = 0.35\n",
    "index=np.arange(len(df_tech_b_bef_af_gap))\n",
    "plt.barh(index, df_tech_b_bef_af_gap['교육전후 B교과에 대한 기술 수준 변화'], align='center', label='교육후 기술 수준 - 교육전 기술 수준')\n",
    "plt.title('B교과에 대한 기술 수준 변화 측정\\n(B교과: 개도국을 위한 적용가능한 수질개선기술)',\n",
    "          position=(0.5,1.02), fontsize=20)\n",
    "plt.ylabel('성명', fontsize=18)\n",
    "plt.xlabel('기술 수준 변화 측정값', fontsize=18)\n",
    "plt.xticks(fontsize=15)\n",
    "plt.yticks(index, df_tech_b_bef_af_gap['성명'], fontsize=15)\n",
    "plt.legend(fontsize=18)\n",
    " \n",
    "plt.show()"
   ]
  },
  {
   "cell_type": "markdown",
   "metadata": {},
   "source": [
    "#### B교과에 대한 태도 수준 변화 "
   ]
  },
  {
   "cell_type": "code",
   "execution_count": null,
   "metadata": {},
   "outputs": [],
   "source": [
    "# '교육전 전반적 이해 수준 변화 수준의 오름차순'으로 정렬 된 '교육전후 전반적 이해 수준 변화 수준'과 'Name'열로 된 DataFrame으로  \n",
    "# 각각 'Name'  '교육전 전반적 이해 수준 변화 수준' 데이터프레임을 .concat한 후 이를 오름차순. 그 후 reset_index\n",
    "\n",
    "\n",
    "df_atti_b = pd.concat([murd_fl['성명'],\n",
    "                           murd_fl['교육후: B교과에 대한 태도 수준'],\n",
    "                           murd_fl['교육전: B교과에 대한 태도 수준'],\n",
    "                          ],axis=1)\n",
    "\n",
    "df_atti_b['교육전후 B교과에 대한 태도 수준 변화'] = \\\n",
    "                           murd_fl['교육후: B교과에 대한 태도 수준'] - \\\n",
    "                           murd_fl['교육전: B교과에 대한 태도 수준']\n",
    "\n",
    "df_atti_b_bef_af_gap = df_atti_b.sort_values(by='교육전후 B교과에 대한 태도 수준 변화',\n",
    "                            ascending=True).reset_index(drop='index')\n",
    "\n",
    "df_atti_b_bef_af_gap"
   ]
  },
  {
   "cell_type": "code",
   "execution_count": null,
   "metadata": {},
   "outputs": [],
   "source": [
    "plt.figure(figsize=(16, 10))\n",
    "# height = 0.35\n",
    "index=np.arange(len(df_atti_b_bef_af_gap))\n",
    "p1 = plt.barh(index, df_atti_b_bef_af_gap[\"교육전: B교과에 대한 태도 수준\"],  \n",
    "              align='center', label='Pre-Training')\n",
    "p2 = plt.barh(index, df_atti_b_bef_af_gap['교육후: B교과에 대한 태도 수준'],  \n",
    "              align='center', label='Post-Training', left=df_atti_b_bef_af_gap[\"교육전: B교과에 대한 태도 수준\"])\n",
    "\n",
    "plt.title('교육전후 B교과에 대한 태도 수준\\n(B교과: 개도국을 위한 적용가능한 수질개선기술)',\n",
    "          position=(0.5,1.02), fontsize=20)\n",
    "plt.ylabel('성명', fontsize=18)\n",
    "plt.xlabel('태도 수준', fontsize=18)\n",
    "plt.xticks(fontsize=15)\n",
    "plt.yticks(index, df_atti_b_bef_af_gap['성명'], fontsize=15)\n",
    "plt.legend((p1[0], p2[0]), ('Pre-Training', 'Post-Training'), fontsize=18)\n",
    "plt.show()"
   ]
  },
  {
   "cell_type": "code",
   "execution_count": null,
   "metadata": {},
   "outputs": [],
   "source": [
    "plt.figure(figsize=(16, 10))\n",
    "# height = 0.35\n",
    "index=np.arange(len(df_atti_b_bef_af_gap))\n",
    "\n",
    "plt.barh(index, df_atti_b_bef_af_gap['교육전후 B교과에 대한 태도 수준 변화'], align='center', label='교육후 태도 수준 - 교육전 태도 수준')\n",
    "plt.title('B교과에 대한 태도 수준 변화 측정\\n(B교과: 개도국을 위한 적용가능한 수질개선기술)',\n",
    "          position=(0.5,1.02), fontsize=20)\n",
    "plt.ylabel('성명', fontsize=18)\n",
    "plt.xlabel('태도 수준 변화 측정값', fontsize=18)\n",
    "plt.xticks(fontsize=15)\n",
    "plt.yticks(index, df_atti_b_bef_af_gap['성명'], fontsize=15)\n",
    "plt.legend(fontsize=18)\n",
    " \n",
    "plt.show()"
   ]
  },
  {
   "cell_type": "markdown",
   "metadata": {},
   "source": [
    "### '개도국을 위한 미디어시티, 도로, 교통시설 개발 (C 교과)' 에 대한 참가자별 '인지 - 기술 - 태도' 수준 변화"
   ]
  },
  {
   "cell_type": "markdown",
   "metadata": {},
   "source": [
    "#### C교과에 대한 인지 수준 변화"
   ]
  },
  {
   "cell_type": "code",
   "execution_count": null,
   "metadata": {},
   "outputs": [],
   "source": [
    "# '교육전 전반적 이해 수준 변화 수준의 오름차순'으로 정렬 된 '교육전후 전반적 이해 수준 변화 수준'과 'Name'열로 된 DataFrame으로  \n",
    "# 각각 'Name'  '교육전 전반적 이해 수준 변화 수준' 데이터프레임을 .concat한 후 이를 오름차순. 그 후 reset_index\n",
    "\n",
    "df_cog_c = pd.concat([murd_fl['성명'],\n",
    "                           murd_fl['교육후: C교과에 대한 인지 수준'],\n",
    "                           murd_fl['교육전: C교과에 대한 인지 수준']\n",
    "                          ],axis=1)\n",
    "\n",
    "df_cog_c['교육전후 C교과에 대한 인지 수준 변화'] = \\\n",
    "                           murd_fl['교육후: C교과에 대한 인지 수준'] - \\\n",
    "                           murd_fl[\"교육전: C교과에 대한 인지 수준\"]\n",
    "\n",
    "df_cog_c_bef_af_gap = df_cog_c.sort_values(by='교육전후 C교과에 대한 인지 수준 변화',\n",
    "                            ascending=True).reset_index(drop='index')\n",
    "\n",
    "df_cog_c_bef_af_gap"
   ]
  },
  {
   "cell_type": "code",
   "execution_count": null,
   "metadata": {},
   "outputs": [],
   "source": [
    "plt.figure(figsize=(16, 10))\n",
    "# height = 0.35\n",
    "index=np.arange(len(df_cog_c_bef_af_gap))\n",
    "p1 = plt.barh(index, df_cog_c_bef_af_gap[\"교육전: C교과에 대한 인지 수준\"],  \n",
    "              align='center', label='Pre-Training')\n",
    "p2 = plt.barh(index, df_cog_c_bef_af_gap['교육후: C교과에 대한 인지 수준'],  \n",
    "              align='center', label='Post-Training', left=df_cog_c_bef_af_gap[\"교육전: C교과에 대한 인지 수준\"])\n",
    "\n",
    "plt.title('교육전후 C교과에 대한 인지 수준\\n(C교과: 개도국을 위한 미디어시티, 도로, 교통시설 개발)',\n",
    "          position=(0.5,1.02), fontsize=20)\n",
    "plt.ylabel('성명', fontsize=18)\n",
    "plt.xlabel('인지 수준', fontsize=18)\n",
    "plt.xticks(fontsize=15)\n",
    "plt.yticks(index, df_cog_c_bef_af_gap['성명'], fontsize=15)\n",
    "plt.legend((p1[0], p2[0]), ('Pre-Training', 'Post-Training'), fontsize=18)\n",
    "plt.show()\n",
    "\n",
    "# for i, rect in enumerate(p1):\n",
    "#     plt.text(0.95 * rect.get_width(), rect.get_y() + rect.get_height() / 2.0,\n",
    "#          str(df_cog_c_bef_af_gap[\"교육전: C교과에 대한 인지 수준 변화\"][i]),\n",
    "#          fontsize=15, color='w', ha='right', va='center')"
   ]
  },
  {
   "cell_type": "code",
   "execution_count": null,
   "metadata": {},
   "outputs": [],
   "source": [
    "plt.figure(figsize=(16, 10))\n",
    "# height = 0.35\n",
    "index=np.arange(len(df_cog_c_bef_af_gap))\n",
    "plt.barh(index, df_cog_c_bef_af_gap['교육전후 C교과에 대한 인지 수준 변화'], align='center', label='교육후 인지 수준 - 교육전 인지 수준')\n",
    "plt.title('C교과에 대한 인지 수준 변화 측정 \\n(C교과: 개도국을 위한 미디어시티, 도로, 교통시설 개발)',\n",
    "          position=(0.5,1.02), fontsize=20)\n",
    "plt.ylabel('성명', fontsize=18)\n",
    "plt.xlabel('인지 수준 변화 측정값', fontsize=18)\n",
    "plt.xticks(fontsize=15)\n",
    "plt.yticks(index, df_cog_c_bef_af_gap['성명'], fontsize=15)\n",
    "plt.legend(fontsize=18)\n",
    "# for i, rect in enumerate(p1):\n",
    "#     plt.text(0.95 * rect.get_width(), rect.get_y() + rect.get_height() / 2.0,\n",
    "#          str(df_cog_c_bef_af_gap[\"교육전: C교과에 대한 인지 수준 변화\"][i]),\n",
    "#          fontsize=15, color='w', ha='right', va='center')\n",
    "\n",
    "plt.show()"
   ]
  },
  {
   "cell_type": "markdown",
   "metadata": {},
   "source": [
    "#### C교과에 대한 기술 수준 변화"
   ]
  },
  {
   "cell_type": "code",
   "execution_count": null,
   "metadata": {},
   "outputs": [],
   "source": [
    "# '교육전 전반적 이해 수준 변화 수준의 오름차순'으로 정렬 된 '교육전후 전반적 이해 수준 변화 수준'과 'Name'열로 된 DataFrame으로  \n",
    "# 각각 'Name'  '교육전 전반적 이해 수준 변화 수준' 데이터프레임을 .concat한 후 이를 오름차순. 그 후 reset_index\n",
    "\n",
    "\n",
    "df_tech_c = pd.concat([murd_fl['성명'],\n",
    "                           murd_fl['교육후: C교과에 대한 기술 수준'],\n",
    "                           murd_fl['교육전: C교과에 대한 기술 수준'],\n",
    "                          ],axis=1)\n",
    "\n",
    "df_tech_c['교육전후 C교과에 대한 기술 수준 변화'] = \\\n",
    "                           murd_fl['교육후: C교과에 대한 기술 수준'] - \\\n",
    "                           murd_fl['교육전: C교과에 대한 기술 수준']\n",
    "\n",
    "df_tech_c_bef_af_gap = df_tech_c.sort_values(by='교육전후 C교과에 대한 기술 수준 변화',\n",
    "                            ascending=True).reset_index(drop='index')\n",
    "\n",
    "df_tech_c_bef_af_gap"
   ]
  },
  {
   "cell_type": "code",
   "execution_count": null,
   "metadata": {},
   "outputs": [],
   "source": [
    "plt.figure(figsize=(16, 10))\n",
    "# height = 0.35\n",
    "index=np.arange(len(df_tech_c_bef_af_gap))\n",
    "p1 = plt.barh(index, df_tech_c_bef_af_gap[\"교육전: C교과에 대한 기술 수준\"],  \n",
    "              align='center', label='Pre-Training')\n",
    "p2 = plt.barh(index, df_tech_c_bef_af_gap['교육후: C교과에 대한 기술 수준'],  \n",
    "              align='center', label='Post-Training', left=df_tech_c_bef_af_gap[\"교육전: C교과에 대한 기술 수준\"])\n",
    "\n",
    "plt.title('교육전후 C교과에 대한 기술 수준\\n(C교과: 개도국을 위한 미디어시티, 도로, 교통시설 개발)',\n",
    "          position=(0.5,1.02), fontsize=20)\n",
    "plt.ylabel('성명', fontsize=18)\n",
    "plt.xlabel('기술 수준', fontsize=18)\n",
    "plt.xticks(fontsize=15)\n",
    "plt.yticks(index, df_tech_c_bef_af_gap['성명'], fontsize=15)\n",
    "plt.legend((p1[0], p2[0]), ('Pre-Training', 'Post-Training'), fontsize=18)\n",
    "plt.show()"
   ]
  },
  {
   "cell_type": "code",
   "execution_count": null,
   "metadata": {},
   "outputs": [],
   "source": [
    "plt.figure(figsize=(16, 10))\n",
    "# height = 0.35\n",
    "index=np.arange(len(df_tech_c_bef_af_gap))\n",
    "plt.barh(index, df_tech_c_bef_af_gap['교육전후 C교과에 대한 기술 수준 변화'], align='center', label='교육후 기술 수준 - 교육전 기술 수준')\n",
    "plt.title('C교과에 대한 기술 수준 변화 측정\\n(C교과: 개도국을 위한 미디어시티, 도로, 교통시설 개발)',\n",
    "          position=(0.5,1.02), fontsize=20)\n",
    "plt.ylabel('성명', fontsize=18)\n",
    "plt.xlabel('기술 수준 변화 측정값', fontsize=18)\n",
    "plt.xticks(fontsize=15)\n",
    "plt.yticks(index, df_tech_c_bef_af_gap['성명'], fontsize=15)\n",
    "plt.legend(fontsize=18)\n",
    " \n",
    "plt.show()"
   ]
  },
  {
   "cell_type": "markdown",
   "metadata": {},
   "source": [
    "#### C교과에 대한 태도 수준 변화 "
   ]
  },
  {
   "cell_type": "code",
   "execution_count": null,
   "metadata": {},
   "outputs": [],
   "source": [
    "# '교육전 전반적 이해 수준 변화 수준의 오름차순'으로 정렬 된 '교육전후 전반적 이해 수준 변화 수준'과 'Name'열로 된 DataFrame으로  \n",
    "# 각각 'Name'  '교육전 전반적 이해 수준 변화 수준' 데이터프레임을 .concat한 후 이를 오름차순. 그 후 reset_index\n",
    "\n",
    "\n",
    "df_atti_c = pd.concat([murd_fl['성명'],\n",
    "                           murd_fl['교육후: C교과에 대한 태도 수준'],\n",
    "                           murd_fl['교육전: C교과에 대한 태도 수준'],\n",
    "                          ],axis=1)\n",
    "\n",
    "df_atti_c['교육전후 C교과에 대한 태도 수준 변화'] = \\\n",
    "                           murd_fl['교육후: C교과에 대한 태도 수준'] - \\\n",
    "                           murd_fl['교육전: C교과에 대한 태도 수준']\n",
    "\n",
    "df_atti_c_bef_af_gap = df_atti_c.sort_values(by='교육전후 C교과에 대한 태도 수준 변화',\n",
    "                            ascending=True).reset_index(drop='index')\n",
    "\n",
    "df_atti_c_bef_af_gap"
   ]
  },
  {
   "cell_type": "code",
   "execution_count": null,
   "metadata": {},
   "outputs": [],
   "source": [
    "plt.figure(figsize=(16, 10))\n",
    "# height = 0.35\n",
    "index=np.arange(len(df_atti_c_bef_af_gap))\n",
    "p1 = plt.barh(index, df_atti_c_bef_af_gap[\"교육전: C교과에 대한 태도 수준\"],  \n",
    "              align='center', label='Pre-Training')\n",
    "p2 = plt.barh(index, df_atti_c_bef_af_gap['교육후: C교과에 대한 태도 수준'],  \n",
    "              align='center', label='Post-Training', left=df_atti_c_bef_af_gap[\"교육전: C교과에 대한 태도 수준\"])\n",
    "\n",
    "plt.title('교육전후 C교과에 대한 태도 수준\\n(C교과: 개도국을 위한 미디어시티, 도로, 교통시설 개발)',\n",
    "          position=(0.5,1.02), fontsize=20)\n",
    "plt.ylabel('성명', fontsize=18)\n",
    "plt.xlabel('태도 수준', fontsize=18)\n",
    "plt.xticks(fontsize=15)\n",
    "plt.yticks(index, df_atti_c_bef_af_gap['성명'], fontsize=15)\n",
    "plt.legend((p1[0], p2[0]), ('Pre-Training', 'Post-Training'), fontsize=18)\n",
    "plt.show()"
   ]
  },
  {
   "cell_type": "code",
   "execution_count": null,
   "metadata": {},
   "outputs": [],
   "source": [
    "plt.figure(figsize=(16, 10))\n",
    "# height = 0.35\n",
    "index=np.arange(len(df_atti_c_bef_af_gap))\n",
    "\n",
    "plt.barh(index, df_atti_c_bef_af_gap['교육전후 C교과에 대한 태도 수준 변화'], align='center', label='교육후 태도 수준 - 교육전 태도 수준')\n",
    "plt.title('C교과에 대한 태도 수준 변화 측정\\n(C교과: 개도국을 위한 미디어시티, 도로, 교통시설 개발)',\n",
    "          position=(0.5,1.02), fontsize=20)\n",
    "plt.ylabel('성명', fontsize=18)\n",
    "plt.xlabel('태도 수준 변화 측정값', fontsize=18)\n",
    "plt.xticks(fontsize=15)\n",
    "plt.yticks(index, df_atti_c_bef_af_gap['성명'], fontsize=15)\n",
    "plt.legend(fontsize=18)\n",
    " \n",
    "plt.show()"
   ]
  },
  {
   "cell_type": "markdown",
   "metadata": {},
   "source": [
    "## 수준 변화에 대한 T검정 및 직책별-성별 '인지 수준 - 기술 수준 - 태도 수준' 변화 분석"
   ]
  },
  {
   "cell_type": "markdown",
   "metadata": {},
   "source": [
    "### 교육전후 교과별 '인지 수준 - 기술 수준 - 태도 수준' 변화에 대한 T검정"
   ]
  },
  {
   "cell_type": "code",
   "execution_count": null,
   "metadata": {},
   "outputs": [],
   "source": [
    "from scipy.stats import ttest_ind\n",
    "ttest_ind(df_cog_a['교육전후 A교과에 대한 인지 수준 변화'], df_cog_b['교육전후 B교과에 대한 인지 수준 변화'])\n",
    "ttest_ind(df_cog_a['교육전후 A교과에 대한 인지 수준 변화'], df_cog_c['교육전후 C교과에 대한 인지 수준 변화'])\n",
    "ttest_ind(df_cog_b['교육전후 B교과에 대한 인지 수준 변화'], df_cog_c['교육전후 C교과에 대한 인지 수준 변화'])\n",
    "ttest_ind(df_tech_a['교육전후 A교과에 대한 기술 수준 변화'], df_tech_b['교육전후 B교과에 대한 기술 수준 변화'])\n",
    "ttest_ind(df_tech_a['교육전후 A교과에 대한 기술 수준 변화'], df_tech_c['교육전후 C교과에 대한 기술 수준 변화'])\n",
    "ttest_ind(df_tech_b['교육전후 B교과에 대한 기술 수준 변화'], df_tech_c['교육전후 C교과에 대한 기술 수준 변화'])\n",
    "ttest_ind(df_atti_a['교육전후 A교과에 대한 태도 수준 변화'], df_atti_b['교육전후 B교과에 대한 태도 수준 변화'])\n",
    "ttest_ind(df_atti_a['교육전후 A교과에 대한 태도 수준 변화'], df_atti_c['교육전후 C교과에 대한 태도 수준 변화'])\n",
    "ttest_ind(df_atti_b['교육전후 B교과에 대한 태도 수준 변화'], df_atti_c['교육전후 C교과에 대한 태도 수준 변화'])\n",
    "\n",
    "ttest_ind(df_cog_a['교육전후 A교과에 대한 인지 수준 변화'], df_tech_b['교육전후 B교과에 대한 기술 수준 변화'])\n",
    "ttest_ind(df_cog_a['교육전후 A교과에 대한 인지 수준 변화'], df_tech_c['교육전후 C교과에 대한 기술 수준 변화'])\n",
    "ttest_ind(df_cog_b['교육전후 B교과에 대한 인지 수준 변화'], df_tech_a['교육전후 A교과에 대한 기술 수준 변화'])\n",
    "ttest_ind(df_cog_b['교육전후 B교과에 대한 인지 수준 변화'], df_tech_c['교육전후 C교과에 대한 기술 수준 변화'])\n",
    "ttest_ind(df_cog_c['교육전후 C교과에 대한 인지 수준 변화'], df_tech_a['교육전후 A교과에 대한 기술 수준 변화'])\n",
    "ttest_ind(df_cog_c['교육전후 C교과에 대한 인지 수준 변화'], df_tech_b['교육전후 B교과에 대한 기술 수준 변화'])\n",
    "\n",
    "ttest_ind(df_cog_a['교육전후 A교과에 대한 인지 수준 변화'], df_atti_b['교육전후 B교과에 대한 태도 수준 변화'])\n",
    "ttest_ind(df_cog_a['교육전후 A교과에 대한 인지 수준 변화'], df_atti_c['교육전후 C교과에 대한 태도 수준 변화'])\n",
    "ttest_ind(df_cog_b['교육전후 B교과에 대한 인지 수준 변화'], df_atti_a['교육전후 A교과에 대한 태도 수준 변화'])\n",
    "ttest_ind(df_cog_b['교육전후 B교과에 대한 인지 수준 변화'], df_atti_c['교육전후 C교과에 대한 태도 수준 변화'])\n",
    "ttest_ind(df_cog_c['교육전후 C교과에 대한 인지 수준 변화'], df_atti_a['교육전후 A교과에 대한 태도 수준 변화'])\n",
    "ttest_ind(df_cog_c['교육전후 C교과에 대한 인지 수준 변화'], df_atti_b['교육전후 B교과에 대한 태도 수준 변화'])\n",
    "\n",
    "ttest_ind(df_tech_a['교육전후 A교과에 대한 기술 수준 변화'], df_atti_b['교육전후 B교과에 대한 태도 수준 변화'])\n",
    "ttest_ind(df_tech_a['교육전후 A교과에 대한 기술 수준 변화'], df_atti_c['교육전후 C교과에 대한 태도 수준 변화'])\n",
    "ttest_ind(df_tech_b['교육전후 B교과에 대한 기술 수준 변화'], df_atti_a['교육전후 A교과에 대한 태도 수준 변화'])\n",
    "ttest_ind(df_tech_b['교육전후 B교과에 대한 기술 수준 변화'], df_atti_c['교육전후 C교과에 대한 태도 수준 변화'])\n",
    "ttest_ind(df_tech_c['교육전후 C교과에 대한 기술 수준 변화'], df_atti_a['교육전후 A교과에 대한 태도 수준 변화'])\n",
    "ttest_ind(df_tech_c['교육전후 C교과에 대한 기술 수준 변화'], df_atti_b['교육전후 B교과에 대한 태도 수준 변화'])"
   ]
  },
  {
   "cell_type": "markdown",
   "metadata": {},
   "source": [
    "<center>T검정 데이터셋</center> | <center>T검정 결과</center>\n",
    ":--------|--------:\n",
    "<center>인지-인지</center>\n",
    "['교육전후 A교과에 대한 인지 수준 변화']와 ['교육전후 B교과에 대한 인지 수준 변화'])의 T검정 |0.8979310779180959\n",
    "['교육전후 A교과에 대한 인지 수준 변화']와 ['교육전후 C교과에 대한 인지 수준 변화'])의 T검정 |0.8868285790608438\n",
    "['교육전후 B교과에 대한 인지 수준 변화']와 ['교육전후 C교과에 대한 인지 수준 변화'])의 T검정 |0.7953769834012345\n",
    "<center>기술-기술</center>\n",
    "['교육전후 A교과에 대한 기술 수준 변화']와 ['교육전후 B교과에 대한 기술 수준 변화'])의 T검정 |0.5580118777783936\n",
    "['교육전후 A교과에 대한 기술 수준 변화']와 ['교육전후 C교과에 대한 기술 수준 변화'])의 T검정 |0.538065454177129\n",
    "['교육전후 B교과에 대한 기술 수준 변화']와 ['교육전후 C교과에 대한 기술 수준 변화'])의 T검정 |1.0\n",
    "<center>태도-태도</center>\n",
    "['교육전후 A교과에 대한 태도 수준 변화']와 ['교육전후 B교과에 대한 태도 수준 변화'])의 T검정 |0.5315573847013254\n",
    "['교육전후 A교과에 대한 태도 수준 변화']와 ['교육전후 C교과에 대한 태도 수준 변화'])의 T검정 |0.6964984125435894\n",
    "['교육전후 B교과에 대한 태도 수준 변화']와 ['교육전후 C교과에 대한 태도 수준 변화'])의 T검정 |0.8597140691904506\n",
    "<center>인지-기술</center>\n",
    "['교육전후 A교과에 대한 인지 수준 변화']와 ['교육전후 B교과에 대한 기술 수준 변화'])의 T검정 |0.35102800557499836\n",
    "['교육전후 A교과에 대한 인지 수준 변화']와 ['교육전후 C교과에 대한 기술 수준 변화'])의 T검정 |0.33128378457544705\n",
    "['교육전후 B교과에 대한 인지 수준 변화']와 ['교육전후 A교과에 대한 기술 수준 변화'])의 T검정 |0.579359969879861\n",
    "['교육전후 B교과에 대한 인지 수준 변화']와 ['교육전후 C교과에 대한 기술 수준 변화'])의 T검정 |0.3106764224569088\n",
    "['교육전후 C교과에 대한 인지 수준 변화']와 ['교육전후 A교과에 대한 기술 수준 변화'])의 T검정 |0.7530684368690279\n",
    "['교육전후 C교과에 대한 인지 수준 변화']와 ['교육전후 B교과에 대한 기술 수준 변화'])의 T검정 |0.417239243942396\n",
    "<center>인지-태도</center>\n",
    "['교육전후 A교과에 대한 인지 수준 변화']와 ['교육전후 B교과에 대한 태도 수준 변화'])의 T검정 |0.09025537875694871\n",
    "['교육전후 A교과에 대한 인지 수준 변화']와 ['교육전후 C교과에 대한 태도 수준 변화'])의 T검정 |0.07696670959526002\n",
    "['교육전후 B교과에 대한 인지 수준 변화']와 ['교육전후 A교과에 대한 태도 수준 변화'])의 T검정 |**0.031279556026945314**\n",
    "['교육전후 B교과에 대한 인지 수준 변화']와 ['교육전후 C교과에 대한 태도 수준 변화'])의 T검정 |0.08399575792355764\n",
    "['교육전후 C교과에 대한 인지 수준 변화']와 ['교육전후 A교과에 대한 태도 수준 변화'])의 T검정 |**0.030181887478434196**\n",
    "['교육전후 C교과에 대한 인지 수준 변화']와 ['교육전후 B교과에 대한 태도 수준 변화'])의 T검정 |0.11552285426683223\n",
    "<center>기술-태도</center>\n",
    "['교육전후 A교과에 대한 기술 수준 변화']와 ['교육전후 B교과에 대한 태도 수준 변화'])의 T검정 |0.1570956590894367\n",
    "['교육전후 A교과에 대한 기술 수준 변화']와 ['교육전후 C교과에 대한 태도 수준 변화'])의 T검정 |0.13212324662506572\n",
    "['교육전후 B교과에 대한 기술 수준 변화']와 ['교육전후 A교과에 대한 태도 수준 변화'])의 T검정 |0.26530600243949704\n",
    "['교육전후 B교과에 대한 기술 수준 변화']와 ['교육전후 C교과에 대한 태도 수준 변화'])의 T검정 |0.471301692132184\n",
    "['교육전후 C교과에 대한 기술 수준 변화']와 ['교육전후 A교과에 대한 태도 수준 변화'])의 T검정 |0.23714624624013594\n",
    "['교육전후 C교과에 대한 기술 수준 변화']와 ['교육전후 B교과에 대한 태도 수준 변화'])의 T검정 |0.5279081014195164"
   ]
  },
  {
   "cell_type": "markdown",
   "metadata": {},
   "source": [
    "<center>T검정 데이터셋</center> | <center>T검정 결과</center>\n",
    ":--------|--------:\n",
    "<center>인지-인지</center>\n",
    "['교육전후 A교과에 대한 인지 수준 변화']와 ['교육전후 B교과에 대한 인지 수준 변화'])의 T검정 |0.90\n",
    "['교육전후 A교과에 대한 인지 수준 변화']와 ['교육전후 C교과에 대한 인지 수준 변화'])의 T검정 |0.89\n",
    "['교육전후 B교과에 대한 인지 수준 변화']와 ['교육전후 C교과에 대한 인지 수준 변화'])의 T검정 |0.80\n",
    "<center>기술-기술</center>\n",
    "['교육전후 A교과에 대한 기술 수준 변화']와 ['교육전후 B교과에 대한 기술 수준 변화'])의 T검정 |0.56\n",
    "['교육전후 A교과에 대한 기술 수준 변화']와 ['교육전후 C교과에 대한 기술 수준 변화'])의 T검정 |0.54\n",
    "['교육전후 B교과에 대한 기술 수준 변화']와 ['교육전후 C교과에 대한 기술 수준 변화'])의 T검정 |1.00\n",
    "<center>태도-태도</center>\n",
    "['교육전후 A교과에 대한 태도 수준 변화']와 ['교육전후 B교과에 대한 태도 수준 변화'])의 T검정 |0.53\n",
    "['교육전후 A교과에 대한 태도 수준 변화']와 ['교육전후 C교과에 대한 태도 수준 변화'])의 T검정 |0.70\n",
    "['교육전후 B교과에 대한 태도 수준 변화']와 ['교육전후 C교과에 대한 태도 수준 변화'])의 T검정 |0.86\n",
    "<center>인지-기술</center>\n",
    "['교육전후 A교과에 대한 인지 수준 변화']와 ['교육전후 B교과에 대한 기술 수준 변화'])의 T검정 |0.35\n",
    "['교육전후 A교과에 대한 인지 수준 변화']와 ['교육전후 C교과에 대한 기술 수준 변화'])의 T검정 |0.33\n",
    "['교육전후 B교과에 대한 인지 수준 변화']와 ['교육전후 A교과에 대한 기술 수준 변화'])의 T검정 |0.58\n",
    "['교육전후 B교과에 대한 인지 수준 변화']와 ['교육전후 C교과에 대한 기술 수준 변화'])의 T검정 |0.31\n",
    "['교육전후 C교과에 대한 인지 수준 변화']와 ['교육전후 A교과에 대한 기술 수준 변화'])의 T검정 |0.75\n",
    "['교육전후 C교과에 대한 인지 수준 변화']와 ['교육전후 B교과에 대한 기술 수준 변화'])의 T검정 |0.42\n",
    "<center>인지-태도</center>\n",
    "['교육전후 A교과에 대한 인지 수준 변화']와 ['교육전후 B교과에 대한 태도 수준 변화'])의 T검정 |0.09\n",
    "['교육전후 A교과에 대한 인지 수준 변화']와 ['교육전후 C교과에 대한 태도 수준 변화'])의 T검정 |0.08\n",
    "['교육전후 B교과에 대한 인지 수준 변화']와 ['교육전후 A교과에 대한 태도 수준 변화'])의 T검정 |**0.03**\n",
    "['교육전후 B교과에 대한 인지 수준 변화']와 ['교육전후 C교과에 대한 태도 수준 변화'])의 T검정 |0.08\n",
    "['교육전후 C교과에 대한 인지 수준 변화']와 ['교육전후 A교과에 대한 태도 수준 변화'])의 T검정 |**0.03**\n",
    "['교육전후 C교과에 대한 인지 수준 변화']와 ['교육전후 B교과에 대한 태도 수준 변화'])의 T검정 |0.12\n",
    "<center>기술-태도</center>\n",
    "['교육전후 A교과에 대한 기술 수준 변화']와 ['교육전후 B교과에 대한 태도 수준 변화'])의 T검정 |0.16\n",
    "['교육전후 A교과에 대한 기술 수준 변화']와 ['교육전후 C교과에 대한 태도 수준 변화'])의 T검정 |0.13\n",
    "['교육전후 B교과에 대한 기술 수준 변화']와 ['교육전후 A교과에 대한 태도 수준 변화'])의 T검정 |0.27\n",
    "['교육전후 B교과에 대한 기술 수준 변화']와 ['교육전후 C교과에 대한 태도 수준 변화'])의 T검정 |0.47\n",
    "['교육전후 C교과에 대한 기술 수준 변화']와 ['교육전후 A교과에 대한 태도 수준 변화'])의 T검정 |0.24\n",
    "['교육전후 C교과에 대한 기술 수준 변화']와 ['교육전후 B교과에 대한 태도 수준 변화'])의 T검정 |0.53"
   ]
  },
  {
   "cell_type": "markdown",
   "metadata": {},
   "source": [
    "* ['교육전후 B교과에 대한 인지 수준 변화']와 ['교육전후 A교과에 대한 태도 수준 변화']의 T검정 결과(P값: 0.031)와 \n",
    "* ['교육전후 C교과에 대한 인지 수준 변화']와 ['교육전후 A교과에 대한 태도 수준 변화']의 T검정 결과(P값: 0.030)에 따라  \n",
    "\n",
    "\n",
    "B교과(개도국을 위한 적용가능한 수질개선기술) 및 C교과(개도국을 위한 미디어시티, 도로, 교통시설 개발)에 대한 인지 수준이 증가할 수록 A교과(PPP와 개도국에 대한 PPP적용방법에 대한 이해)에 대한 태도, 즉 PPP 활용을 중요하게 인식하는 수준이 증가함을 알 수 있다.  \n",
    "\n"
   ]
  },
  {
   "cell_type": "markdown",
   "metadata": {},
   "source": [
    "### 교육전후 교과별 '인지 수준 - 기술 수준 - 태도 수준' 변화 데이터"
   ]
  },
  {
   "cell_type": "code",
   "execution_count": null,
   "metadata": {},
   "outputs": [],
   "source": [
    "df_abc = pd.concat([df_cog_a['성명'], \n",
    "          df_cog_a['교육전후 A교과에 대한 인지 수준 변화'], df_cog_b['교육전후 B교과에 대한 인지 수준 변화'],\n",
    "          df_cog_c['교육전후 C교과에 대한 인지 수준 변화'], df_tech_a['교육전후 A교과에 대한 기술 수준 변화'],\n",
    "          df_tech_b['교육전후 B교과에 대한 기술 수준 변화'], df_tech_c['교육전후 C교과에 대한 기술 수준 변화'],\n",
    "          df_atti_a['교육전후 A교과에 대한 태도 수준 변화'], df_atti_b['교육전후 B교과에 대한 태도 수준 변화'],\n",
    "          df_atti_c['교육전후 C교과에 대한 태도 수준 변화']], axis=1)\n",
    "\n",
    "df_abc"
   ]
  },
  {
   "cell_type": "code",
   "execution_count": null,
   "metadata": {},
   "outputs": [],
   "source": [
    "# 기술 통계 계산을 위해 데이터형 변경\n",
    "\n",
    "df_abc.iloc[:,1] = df_abc.iloc[:,1].astype(int)\n",
    "df_abc.iloc[:,2] = df_abc.iloc[:,2].astype(int)\n",
    "df_abc.iloc[:,3] = df_abc.iloc[:,3].astype(int)\n",
    "df_abc.iloc[:,4] = df_abc.iloc[:,4].astype(int)\n",
    "df_abc.iloc[:,5] = df_abc.iloc[:,5].astype(int)\n",
    "df_abc.iloc[:,6] = df_abc.iloc[:,6].astype(int)\n",
    "df_abc.iloc[:,7] = df_abc.iloc[:,7].astype(int)\n",
    "df_abc.iloc[:,8] = df_abc.iloc[:,8].astype(int)\n",
    "df_abc.iloc[:,9] = df_abc.iloc[:,9].astype(int)\n",
    "\n",
    "df_abc"
   ]
  },
  {
   "cell_type": "markdown",
   "metadata": {},
   "source": [
    "* 사전․후 학업성취도 차이가 (-) 값인 경우, \n",
    "* 사전 조사에서 너무 높은 값을 부여하는 등의 문제로 인해 (-)값이 넷 이상인 학생의 경우, 특이값으로 간주하여 성취도 분석에서 제외하여 계산\n",
    "* 제외대상자: Khin Ohnmar MYINT THEIN / Joz Carlos Gabrillo ORDILLANO / Jacqueline Yamileth RIVERA AYALA "
   ]
  },
  {
   "cell_type": "code",
   "execution_count": null,
   "metadata": {},
   "outputs": [],
   "source": [
    "df_abc.drop(df_abc.index[[6,8,9]], inplace=True)"
   ]
  },
  {
   "cell_type": "code",
   "execution_count": null,
   "metadata": {},
   "outputs": [],
   "source": [
    "df_abc.describe().rename(index={'count': '응답자수','mean': '평균값',\n",
    "                                'std': '표준편차','min': '최소값', '25%':'25%값', \n",
    "                                '50%':'중간값', '75%':'75%값','max':'최대값'})"
   ]
  },
  {
   "cell_type": "markdown",
   "metadata": {},
   "source": [
    "### 강의평가 데이터를  설문결과 및 학생정보 데이터에 병합"
   ]
  },
  {
   "cell_type": "code",
   "execution_count": null,
   "metadata": {},
   "outputs": [],
   "source": [
    "murd_fl = murd_fl.set_index('성명')\n",
    "murd_fl = pd.merge(murd_fl,murd_fl_crs_eval,left_index=True, right_index=True)\n",
    "murd_fl.head()"
   ]
  },
  {
   "cell_type": "code",
   "execution_count": null,
   "metadata": {},
   "outputs": [],
   "source": [
    "df_abc = df_abc.set_index('성명')\n",
    "murd_fl = pd.merge(murd_fl,df_abc,left_index=True, right_index=True)\n",
    "murd_fl.head()"
   ]
  },
  {
   "cell_type": "markdown",
   "metadata": {},
   "source": [
    "**데이터 타입이 'object'인 열을 찾은 후, 평균 계산이 가능한 float64로 변경**"
   ]
  },
  {
   "cell_type": "code",
   "execution_count": null,
   "metadata": {},
   "outputs": [],
   "source": [
    "pd.DataFrame(murd_fl.dtypes == 'object').index.values\n",
    "\n",
    "murd_fl['1-1. 연수과정 만족도_맞춤형 구성'] = murd_fl['1-1. 연수과정 만족도_맞춤형 구성'].astype('float64')\n",
    "murd_fl['교육전후 A교과에 대한 인지 수준 변화'] = murd_fl['교육전후 A교과에 대한 인지 수준 변화'].astype('float64')\n",
    "murd_fl['교육전후 B교과에 대한 인지 수준 변화'] = murd_fl['교육전후 B교과에 대한 인지 수준 변화'].astype('float64')\n",
    "murd_fl['교육전후 C교과에 대한 인지 수준 변화'] = murd_fl['교육전후 C교과에 대한 인지 수준 변화'].astype('float64')\n",
    "murd_fl['교육전후 A교과에 대한 기술 수준 변화'] = murd_fl['교육전후 A교과에 대한 기술 수준 변화'].astype('float64')\n",
    "murd_fl['교육전후 B교과에 대한 기술 수준 변화'] = murd_fl['교육전후 B교과에 대한 기술 수준 변화'].astype('float64')\n",
    "murd_fl['교육전후 C교과에 대한 기술 수준 변화'] = murd_fl['교육전후 C교과에 대한 기술 수준 변화'].astype('float64')\n",
    "murd_fl['교육전후 A교과에 대한 태도 수준 변화'] = murd_fl['교육전후 A교과에 대한 태도 수준 변화'].astype('float64')\n",
    "murd_fl['교육전후 B교과에 대한 태도 수준 변화'] = murd_fl['교육전후 B교과에 대한 태도 수준 변화'].astype('float64')\n",
    "murd_fl['교육전후 C교과에 대한 태도 수준 변화'] = murd_fl['교육전후 C교과에 대한 태도 수준 변화'].astype('float64')"
   ]
  },
  {
   "cell_type": "code",
   "execution_count": null,
   "metadata": {},
   "outputs": [],
   "source": [
    "murd_fl.loc[:,(murd_fl.dtypes == 'float64')].dropna(how='all',axis=1)"
   ]
  },
  {
   "cell_type": "code",
   "execution_count": null,
   "metadata": {},
   "outputs": [],
   "source": [
    "murd_fl.reset_index(inplace=True)"
   ]
  },
  {
   "cell_type": "code",
   "execution_count": null,
   "metadata": {},
   "outputs": [],
   "source": [
    "bef_af_gap = murd_fl[['교육전후 A교과에 대한 인지 수준 변화', '교육전후 B교과에 대한 인지 수준 변화',\n",
    "                     '교육전후 C교과에 대한 인지 수준 변화', '교육전후 A교과에 대한 기술 수준 변화',\n",
    "                     '교육전후 B교과에 대한 기술 수준 변화', '교육전후 C교과에 대한 기술 수준 변화',\n",
    "                     '교육전후 A교과에 대한 태도 수준 변화', '교육전후 B교과에 대한 태도 수준 변화',\n",
    "                     '교육전후 C교과에 대한 태도 수준 변화']]"
   ]
  },
  {
   "cell_type": "markdown",
   "metadata": {},
   "source": [
    "### 직책별 교육전후 교과별 '인지 수준 - 기술 수준 - 태도 수준' 변화 분석"
   ]
  },
  {
   "cell_type": "code",
   "execution_count": null,
   "metadata": {},
   "outputs": [],
   "source": [
    "bef_af_gap_by_pos = bef_af_gap.groupby(murd_fl['직책']).mean()\n",
    "bef_af_gap_by_pos['평균'] = bef_af_gap_by_pos.mean(axis=1)\n",
    "bef_af_gap_by_pos"
   ]
  },
  {
   "cell_type": "markdown",
   "metadata": {},
   "source": [
    "* '일반직원' / '중간관리직' / '고위관리직/ 국장급' 직책별로  '교과별 분야별 교육전후 수준 변화'의 평균을 측정한 결과, '고위관리직/ 국장급'의 수준 변화가 가장 큰 것으로 나타났으며, 고위관리직일수록 교육의 효과가 크다고 할 수 있다."
   ]
  },
  {
   "cell_type": "markdown",
   "metadata": {},
   "source": [
    "### 성별 교육전후 교과별 '인지 수준 - 기술 수준 - 태도 수준' 변화 분석"
   ]
  },
  {
   "cell_type": "code",
   "execution_count": null,
   "metadata": {},
   "outputs": [],
   "source": [
    "bef_af_gap_by_pos = bef_af_gap.groupby(murd_fl['성별_x']).mean()\n",
    "bef_af_gap_by_pos['평균'] = bef_af_gap_by_pos.mean(axis=1)\n",
    "bef_af_gap_by_pos.reset_index().rename(columns={'성별_x': '성별'}).set_index('성별')"
   ]
  },
  {
   "cell_type": "markdown",
   "metadata": {},
   "source": [
    "* 성별로 '교과별 분야별 교육전후 수준 변화'의 평균을 측정한 결과, 남자가 여자에 비해 수준 변화가 큰 것으로 나타났다."
   ]
  },
  {
   "cell_type": "markdown",
   "metadata": {},
   "source": [
    "# 강의평가 결과"
   ]
  },
  {
   "cell_type": "code",
   "execution_count": null,
   "metadata": {},
   "outputs": [],
   "source": [
    "# murd_fl에서 '숫자-숫자'포함한 열 값 추출 후, '성명'열과 합쳐 강의평가 데이터프레임 생성. 현재 murd_fl_crs_eval과 동일 값\n",
    "# pd.concat([murd_fl['성명'], murd_fl.filter(regex = '^\\\\d-\\\\d' , axis=1)],axis=1)\n",
    "murd_fl_crs_eval['1-1. 연수과정 만족도_맞춤형 구성'] = murd_fl_crs_eval['1-1. 연수과정 만족도_맞춤형 구성'].astype('float64')"
   ]
  },
  {
   "cell_type": "code",
   "execution_count": null,
   "metadata": {},
   "outputs": [],
   "source": [
    "murd_fl_crs_eval"
   ]
  },
  {
   "cell_type": "code",
   "execution_count": null,
   "metadata": {},
   "outputs": [],
   "source": [
    "murd_fl_crs_eval['강의1: 국제협력 사업실행팀 수자원개발 및 관리사례'] = murd_fl_crs_eval.loc[:,'1-1. 연수과정 만족도_맞춤형 구성':'1-6. 강의시간 적절성'].mean(axis=1)\n",
    "murd_fl_crs_eval['강의2: 국제협력 사업실행팀 수처리시설건설사례 세미나'] = murd_fl_crs_eval.loc[:,'2-1. 연수과정 만족도_맞춤형 구성':'2-6. 강의시간 적절성'].mean(axis=1)\n",
    "murd_fl_crs_eval['강의3: 민간투자사업제도와 적격성조사'] = murd_fl_crs_eval.loc[:,'3-1. 연수과정 만족도_맞춤형 구성':'3-6. 강의시간 적절성'].mean(axis=1)\n",
    "murd_fl_crs_eval['강의4: 도로교통시설과 도로정책'] = murd_fl_crs_eval.loc[:,'4-1. 연수과정 만족도_맞춤형 구성':'4-6. 강의시간 적절성'].mean(axis=1)\n",
    "murd_fl_crs_eval['강의5: 한국의 공공투자관리시스템'] = murd_fl_crs_eval.loc[:,'5-1. 연수과정 만족도_맞춤형 구성':'5-6. 강의시간 적절성'].mean(axis=1)\n",
    "murd_fl_crs_eval['강의6: 상암미디어시티 개발사례'] = murd_fl_crs_eval.loc[:,'6-1. 연수과정 만족도_맞춤형 구성':'6-6. 강의시간 적절성'].mean(axis=1, skipna=True)\n",
    "murd_fl_crs_eval['강의7: 국제협력사업실습'] = murd_fl_crs_eval.loc[:,'7-1. 연수과정 만족도_맞춤형 구성':'7-6. 강의시간 적절성'].mean(axis=1, skipna=True)\n",
    "murd_fl_crs_eval"
   ]
  },
  {
   "cell_type": "code",
   "execution_count": null,
   "metadata": {},
   "outputs": [],
   "source": [
    "# ignore_index=True 인자가 있어야만 열별 합계 병합이 가능하며, ignore_index=True 실행 시 인덱스인 '성명'열이 사라지므로 이를 방지하기 위해 인덱스를 reset 후 .append\n",
    "murd_fl_crs_eval = murd_fl_crs_eval.reset_index().append(murd_fl_crs_eval.mean(skipna=True, axis=0), ignore_index=True)"
   ]
  },
  {
   "cell_type": "code",
   "execution_count": null,
   "metadata": {},
   "outputs": [],
   "source": [
    "# NaN 값을 '평균'으로 변경\n",
    "murd_fl_crs_eval = murd_fl_crs_eval.replace({'성명': np.nan}, {'성명': '평균'}).set_index('성명')\n",
    "murd_fl_crs_eval"
   ]
  },
  {
   "cell_type": "code",
   "execution_count": null,
   "metadata": {},
   "outputs": [],
   "source": [
    "murd_fl_crs_eval.columns.values"
   ]
  },
  {
   "cell_type": "markdown",
   "metadata": {},
   "source": [
    "## 문항별 강의평가"
   ]
  },
  {
   "cell_type": "code",
   "execution_count": null,
   "metadata": {},
   "outputs": [],
   "source": [
    "murd_fl_crs_eval_question = murd_fl_crs_eval.reset_index().drop(murd_fl_crs_eval.columns[[41,42,43,44,45,46,47,48]],1)\n",
    "murd_fl_crs_eval_question"
   ]
  },
  {
   "cell_type": "code",
   "execution_count": null,
   "metadata": {},
   "outputs": [],
   "source": [
    "murd_fl_crs_eval_question_mean = \\\n",
    "murd_fl_crs_eval_question.drop(murd_fl_crs_eval_question.index[[0,1,2,3,4,5,6,7,8,9,10,11,12]]).\\\n",
    "                          rename(columns={'성명': '구분'}).set_index('구분')"
   ]
  },
  {
   "cell_type": "code",
   "execution_count": null,
   "metadata": {},
   "outputs": [],
   "source": [
    "murd_fl_crs_eval_question_mean"
   ]
  },
  {
   "cell_type": "code",
   "execution_count": null,
   "metadata": {},
   "outputs": [],
   "source": [
    "murd_fl_crs_eval_question_mean.astype('float64')"
   ]
  },
  {
   "cell_type": "code",
   "execution_count": null,
   "metadata": {},
   "outputs": [],
   "source": [
    "murd_fl_crs_eval_question_mean['1. 연수과정 만족도_맞춤형 구성'] = murd_fl_crs_eval_question_mean.iloc[:,[0,6,12,18,24,30,36]].mean(axis=1)\n",
    "murd_fl_crs_eval_question_mean['2. 강사 전문성'] = murd_fl_crs_eval_question_mean.iloc[:,[1,7,13,19,25,31,37]].mean(axis=1)\n",
    "murd_fl_crs_eval_question_mean['3. 강의교재'] = murd_fl_crs_eval_question_mean.iloc[:,[2,8,14,20,26,32,38]].mean(axis=1)\n",
    "murd_fl_crs_eval_question_mean['4.강사 영어구사력 (또는 통역 숙련도)'] = murd_fl_crs_eval_question_mean.iloc[:,[3,9,15,21,27,33,39]].mean(axis=1)\n",
    "murd_fl_crs_eval_question_mean['5. 참여도 제고'] = murd_fl_crs_eval_question_mean.iloc[:,[4,10,16,22,28,34,40]].mean(axis=1)\n",
    "murd_fl_crs_eval_question_mean['6. 강의시간 적절성'] = murd_fl_crs_eval_question_mean.iloc[:,[5,11,17,23,29,35,41]].mean(axis=1)\n",
    "murd_fl_crs_eval_question_mean2 = murd_fl_crs_eval_question_mean.iloc[:,[41,42,43,44,45,46]]"
   ]
  },
  {
   "cell_type": "code",
   "execution_count": null,
   "metadata": {},
   "outputs": [],
   "source": [
    "murd_fl_crs_eval_question_mean2.T"
   ]
  },
  {
   "cell_type": "markdown",
   "metadata": {},
   "source": [
    "## 학생별 강의평가"
   ]
  },
  {
   "cell_type": "code",
   "execution_count": null,
   "metadata": {},
   "outputs": [],
   "source": [
    "# 학생별 강의평가 '평균'의 데이터 프레임 생성\n",
    "murd_fl_crs_eval_avr = murd_fl_crs_eval.iloc[:,[42,43,44,45,46,47,48]]\n",
    "murd_fl_crs_eval_avr"
   ]
  },
  {
   "cell_type": "markdown",
   "metadata": {},
   "source": [
    "## 강의별 강의평가"
   ]
  },
  {
   "cell_type": "markdown",
   "metadata": {},
   "source": [
    "### 강의별 강의평가 평균"
   ]
  },
  {
   "cell_type": "code",
   "execution_count": null,
   "metadata": {},
   "outputs": [],
   "source": [
    "# 강의평가 '평균'의 데이터 프레임 생성\n",
    "pd.DataFrame(murd_fl_crs_eval_avr.iloc[13])"
   ]
  },
  {
   "cell_type": "markdown",
   "metadata": {},
   "source": [
    "### 강의별 강의평가 평균의 바그래프"
   ]
  },
  {
   "cell_type": "code",
   "execution_count": null,
   "metadata": {},
   "outputs": [],
   "source": [
    "# 강의평가 '평균'의 바그래프\n",
    "\n",
    "murd_fl_crs_eval_avr_of_avr = murd_fl_crs_eval_avr.iloc[13]\n",
    "murd_fl_crs_eval_avr_of_avr\n",
    "\n",
    "plt.figure(figsize=(16, 10))\n",
    "# index=np.arange(len(murd_fl_crs_eval_avr))\n",
    "plt.barh(murd_fl_crs_eval_avr_of_avr.index, murd_fl_crs_eval_avr_of_avr, 0.7)\n",
    "plt.title('강의평가', position=(0.5,1.02), fontsize=20)\n",
    "plt.ylabel('강의별 평균', fontsize=18)\n",
    "plt.xlabel('평균점수', fontsize=18)\n",
    "plt.xticks(np.arange(0,5.25,0.25), fontsize=15)\n",
    "plt.yticks(fontsize=15)\n",
    "plt.grid(True)    \n",
    "plt.show()"
   ]
  },
  {
   "cell_type": "markdown",
   "metadata": {},
   "source": [
    "### 강의별 강의평가 평균 간 correlation"
   ]
  },
  {
   "cell_type": "code",
   "execution_count": null,
   "metadata": {},
   "outputs": [],
   "source": [
    "murd_fl_crs_eval_avr.corr()"
   ]
  },
  {
   "cell_type": "code",
   "execution_count": null,
   "metadata": {},
   "outputs": [],
   "source": [
    "plt.figure(figsize=(16,10))\n",
    "plt.title('강의별 강의평가 평균 간 상관관계',position=(0.5,1.02), fontsize=20)\n",
    "plt.xticks(fontsize=15)\n",
    "plt.yticks(fontsize=15)\n",
    "ax = sns.heatmap(data=murd_fl_crs_eval_avr.corr(), annot=True, fmt='.2f', linewidths=.5, cmap='Blues')\n",
    "plt.show(ax)"
   ]
  },
  {
   "cell_type": "markdown",
   "metadata": {},
   "source": [
    "'강의3: 민간투자사업제도와 적격성조사'과 '강의4: 도로교통시설과 도로정책'\n",
    "\n",
    "'강의3: 민간투자사업제도와 적격성조사'과 '강의5: 한국의 공공투자관리시스템'\n",
    "\n",
    "의 강의평가가 상관관계가 높은 것으로 나타났다."
   ]
  },
  {
   "cell_type": "markdown",
   "metadata": {},
   "source": [
    "- 인덱스를 통한 로우 삭제\n",
    "    - drop 명령어를 통해 특정 index를 가진 row를 삭제할 수 있다. df.index[1] 명령어는 1번 째 위치에 있는 index를 가져온다. 가져온 이 index를 drop에 인풋으로 넣어주면 해당 index를 가진 row를 삭제할 수 있다.\n",
    "\n",
    "\n",
    "- 데이터 수정하기\n",
    "    - 특정 컬럼, 로우의 데이터를 수정하고 싶으면 ix 를 이용하면 편하다. 아래 코드는 인덱스=0, 컬럼=A의 데이터를 0으로 수정한다. \n",
    "    - df.ix[0]['A'] = 0\n",
    "  \n",
    "  \n",
    "- 결측값, 실측값을 다른 값으로 교체하기 : replace(old_val, new_val)\n",
    "\n",
    "\n",
    "- list 를 다른 list 값으로 교체하기 : replace([old1, old2, ...], [new1, new2, ...])\n",
    "\n",
    "\n",
    "- mapping dict 로 원래 값, 교체할 값 매핑 : replace({old1 : new1, old2: new2})\n",
    "\n",
    "\n",
    "- DataFrame의 특정 칼럼 값 교체하기 : df.replace({'col1': old_val}, {'col1': new_val})"
   ]
  },
  {
   "cell_type": "code",
   "execution_count": null,
   "metadata": {},
   "outputs": [],
   "source": []
  }
 ],
 "metadata": {
  "accelerator": "GPU",
  "colab": {
   "collapsed_sections": [],
   "name": "koica_post_training3.ipynb",
   "provenance": [],
   "version": "0.3.2"
  },
  "hide_input": false,
  "kernelspec": {
   "display_name": "Python 3",
   "language": "python",
   "name": "python3"
  },
  "language_info": {
   "codemirror_mode": {
    "name": "ipython",
    "version": 3
   },
   "file_extension": ".py",
   "mimetype": "text/x-python",
   "name": "python",
   "nbconvert_exporter": "python",
   "pygments_lexer": "ipython3",
   "version": "3.7.3"
  },
  "toc": {
   "base_numbering": 1,
   "nav_menu": {},
   "number_sections": true,
   "sideBar": true,
   "skip_h1_title": false,
   "title_cell": "Table of Contents",
   "title_sidebar": "Contents",
   "toc_cell": true,
   "toc_position": {},
   "toc_section_display": true,
   "toc_window_display": true
  }
 },
 "nbformat": 4,
 "nbformat_minor": 4
}
