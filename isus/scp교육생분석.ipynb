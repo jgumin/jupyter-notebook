{
  "nbformat": 4,
  "nbformat_minor": 0,
  "metadata": {
    "accelerator": "GPU",
    "colab": {
      "name": "scp교육생분석.ipynb",
      "provenance": [],
      "collapsed_sections": [],
      "include_colab_link": true
    },
    "kernelspec": {
      "display_name": "Python 3",
      "language": "python",
      "name": "python3"
    },
    "language_info": {
      "codemirror_mode": {
        "name": "ipython",
        "version": 3
      },
      "file_extension": ".py",
      "mimetype": "text/x-python",
      "name": "python",
      "nbconvert_exporter": "python",
      "pygments_lexer": "ipython3",
      "version": "3.7.4"
    }
  },
  "cells": [
    {
      "cell_type": "markdown",
      "metadata": {
        "id": "view-in-github",
        "colab_type": "text"
      },
      "source": [
        "<a href=\"https://colab.research.google.com/github/jgumin/jupyter-notebook/blob/master/isus/scp%EA%B5%90%EC%9C%A1%EC%83%9D%EB%B6%84%EC%84%9D.ipynb\" target=\"_parent\"><img src=\"https://colab.research.google.com/assets/colab-badge.svg\" alt=\"Open In Colab\"/></a>"
      ]
    },
    {
      "cell_type": "markdown",
      "metadata": {
        "colab_type": "text",
        "id": "SAQAWRxeus1_"
      },
      "source": [
        "# scp_analysis\n"
      ]
    },
    {
      "cell_type": "code",
      "metadata": {
        "cellView": "both",
        "colab_type": "code",
        "id": "cZnG5jGs_LMD",
        "colab": {}
      },
      "source": [
        "!pip install plotly==4.2.1"
      ],
      "execution_count": 0,
      "outputs": []
    },
    {
      "cell_type": "code",
      "metadata": {
        "colab_type": "code",
        "id": "J3HgGi3GubEN",
        "outputId": "6c330a4f-d29b-454a-c7de-8e030dbe5557",
        "colab": {
          "base_uri": "https://localhost:8080/",
          "height": 1000
        }
      },
      "source": [
        "!pip install qgrid\n",
        "!jupyter nbextension enable --py --sys-prefix widgetsnbextension\n",
        "!jupyter nbextension enable --py --sys-prefix qgrid"
      ],
      "execution_count": 2,
      "outputs": [
        {
          "output_type": "stream",
          "text": [
            "Collecting qgrid\n",
            "\u001b[?25l  Downloading https://files.pythonhosted.org/packages/70/63/0e0827682889f1a4ee74191b8bebc2e6fca1d18927d8875af0e37044d2d3/qgrid-1.1.1.tar.gz (793kB)\n",
            "\r\u001b[K     |▍                               | 10kB 23.3MB/s eta 0:00:01\r\u001b[K     |▉                               | 20kB 3.2MB/s eta 0:00:01\r\u001b[K     |█▎                              | 30kB 4.6MB/s eta 0:00:01\r\u001b[K     |█▋                              | 40kB 3.1MB/s eta 0:00:01\r\u001b[K     |██                              | 51kB 3.8MB/s eta 0:00:01\r\u001b[K     |██▌                             | 61kB 4.4MB/s eta 0:00:01\r\u001b[K     |███                             | 71kB 5.1MB/s eta 0:00:01\r\u001b[K     |███▎                            | 81kB 5.8MB/s eta 0:00:01\r\u001b[K     |███▊                            | 92kB 6.4MB/s eta 0:00:01\r\u001b[K     |████▏                           | 102kB 5.0MB/s eta 0:00:01\r\u001b[K     |████▌                           | 112kB 5.0MB/s eta 0:00:01\r\u001b[K     |█████                           | 122kB 5.0MB/s eta 0:00:01\r\u001b[K     |█████▍                          | 133kB 5.0MB/s eta 0:00:01\r\u001b[K     |█████▉                          | 143kB 5.0MB/s eta 0:00:01\r\u001b[K     |██████▏                         | 153kB 5.0MB/s eta 0:00:01\r\u001b[K     |██████▋                         | 163kB 5.0MB/s eta 0:00:01\r\u001b[K     |███████                         | 174kB 5.0MB/s eta 0:00:01\r\u001b[K     |███████▍                        | 184kB 5.0MB/s eta 0:00:01\r\u001b[K     |███████▉                        | 194kB 5.0MB/s eta 0:00:01\r\u001b[K     |████████▎                       | 204kB 5.0MB/s eta 0:00:01\r\u001b[K     |████████▊                       | 215kB 5.0MB/s eta 0:00:01\r\u001b[K     |█████████                       | 225kB 5.0MB/s eta 0:00:01\r\u001b[K     |█████████▌                      | 235kB 5.0MB/s eta 0:00:01\r\u001b[K     |██████████                      | 245kB 5.0MB/s eta 0:00:01\r\u001b[K     |██████████▎                     | 256kB 5.0MB/s eta 0:00:01\r\u001b[K     |██████████▊                     | 266kB 5.0MB/s eta 0:00:01\r\u001b[K     |███████████▏                    | 276kB 5.0MB/s eta 0:00:01\r\u001b[K     |███████████▋                    | 286kB 5.0MB/s eta 0:00:01\r\u001b[K     |████████████                    | 296kB 5.0MB/s eta 0:00:01\r\u001b[K     |████████████▍                   | 307kB 5.0MB/s eta 0:00:01\r\u001b[K     |████████████▉                   | 317kB 5.0MB/s eta 0:00:01\r\u001b[K     |█████████████▏                  | 327kB 5.0MB/s eta 0:00:01\r\u001b[K     |█████████████▋                  | 337kB 5.0MB/s eta 0:00:01\r\u001b[K     |██████████████                  | 348kB 5.0MB/s eta 0:00:01\r\u001b[K     |██████████████▌                 | 358kB 5.0MB/s eta 0:00:01\r\u001b[K     |██████████████▉                 | 368kB 5.0MB/s eta 0:00:01\r\u001b[K     |███████████████▎                | 378kB 5.0MB/s eta 0:00:01\r\u001b[K     |███████████████▊                | 389kB 5.0MB/s eta 0:00:01\r\u001b[K     |████████████████                | 399kB 5.0MB/s eta 0:00:01\r\u001b[K     |████████████████▌               | 409kB 5.0MB/s eta 0:00:01\r\u001b[K     |█████████████████               | 419kB 5.0MB/s eta 0:00:01\r\u001b[K     |█████████████████▍              | 430kB 5.0MB/s eta 0:00:01\r\u001b[K     |█████████████████▊              | 440kB 5.0MB/s eta 0:00:01\r\u001b[K     |██████████████████▏             | 450kB 5.0MB/s eta 0:00:01\r\u001b[K     |██████████████████▋             | 460kB 5.0MB/s eta 0:00:01\r\u001b[K     |███████████████████             | 471kB 5.0MB/s eta 0:00:01\r\u001b[K     |███████████████████▍            | 481kB 5.0MB/s eta 0:00:01\r\u001b[K     |███████████████████▉            | 491kB 5.0MB/s eta 0:00:01\r\u001b[K     |████████████████████▎           | 501kB 5.0MB/s eta 0:00:01\r\u001b[K     |████████████████████▋           | 512kB 5.0MB/s eta 0:00:01\r\u001b[K     |█████████████████████           | 522kB 5.0MB/s eta 0:00:01\r\u001b[K     |█████████████████████▌          | 532kB 5.0MB/s eta 0:00:01\r\u001b[K     |██████████████████████          | 542kB 5.0MB/s eta 0:00:01\r\u001b[K     |██████████████████████▎         | 552kB 5.0MB/s eta 0:00:01\r\u001b[K     |██████████████████████▊         | 563kB 5.0MB/s eta 0:00:01\r\u001b[K     |███████████████████████▏        | 573kB 5.0MB/s eta 0:00:01\r\u001b[K     |███████████████████████▌        | 583kB 5.0MB/s eta 0:00:01\r\u001b[K     |████████████████████████        | 593kB 5.0MB/s eta 0:00:01\r\u001b[K     |████████████████████████▍       | 604kB 5.0MB/s eta 0:00:01\r\u001b[K     |████████████████████████▉       | 614kB 5.0MB/s eta 0:00:01\r\u001b[K     |█████████████████████████▏      | 624kB 5.0MB/s eta 0:00:01\r\u001b[K     |█████████████████████████▋      | 634kB 5.0MB/s eta 0:00:01\r\u001b[K     |██████████████████████████      | 645kB 5.0MB/s eta 0:00:01\r\u001b[K     |██████████████████████████▍     | 655kB 5.0MB/s eta 0:00:01\r\u001b[K     |██████████████████████████▉     | 665kB 5.0MB/s eta 0:00:01\r\u001b[K     |███████████████████████████▎    | 675kB 5.0MB/s eta 0:00:01\r\u001b[K     |███████████████████████████▊    | 686kB 5.0MB/s eta 0:00:01\r\u001b[K     |████████████████████████████    | 696kB 5.0MB/s eta 0:00:01\r\u001b[K     |████████████████████████████▌   | 706kB 5.0MB/s eta 0:00:01\r\u001b[K     |█████████████████████████████   | 716kB 5.0MB/s eta 0:00:01\r\u001b[K     |█████████████████████████████▎  | 727kB 5.0MB/s eta 0:00:01\r\u001b[K     |█████████████████████████████▊  | 737kB 5.0MB/s eta 0:00:01\r\u001b[K     |██████████████████████████████▏ | 747kB 5.0MB/s eta 0:00:01\r\u001b[K     |██████████████████████████████▋ | 757kB 5.0MB/s eta 0:00:01\r\u001b[K     |███████████████████████████████ | 768kB 5.0MB/s eta 0:00:01\r\u001b[K     |███████████████████████████████▍| 778kB 5.0MB/s eta 0:00:01\r\u001b[K     |███████████████████████████████▉| 788kB 5.0MB/s eta 0:00:01\r\u001b[K     |████████████████████████████████| 798kB 5.0MB/s \n",
            "\u001b[?25hRequirement already satisfied: notebook>=4.0.0 in /usr/local/lib/python3.6/dist-packages (from qgrid) (5.2.2)\n",
            "Requirement already satisfied: pandas>=0.18.0 in /usr/local/lib/python3.6/dist-packages (from qgrid) (0.25.2)\n",
            "Requirement already satisfied: ipywidgets>=7.0.0 in /usr/local/lib/python3.6/dist-packages (from qgrid) (7.5.1)\n",
            "Requirement already satisfied: traitlets>=4.2.1 in /usr/local/lib/python3.6/dist-packages (from notebook>=4.0.0->qgrid) (4.3.3)\n",
            "Requirement already satisfied: jupyter-core in /usr/local/lib/python3.6/dist-packages (from notebook>=4.0.0->qgrid) (4.6.1)\n",
            "Requirement already satisfied: ipython-genutils in /usr/local/lib/python3.6/dist-packages (from notebook>=4.0.0->qgrid) (0.2.0)\n",
            "Requirement already satisfied: jupyter-client in /usr/local/lib/python3.6/dist-packages (from notebook>=4.0.0->qgrid) (5.3.4)\n",
            "Requirement already satisfied: nbconvert in /usr/local/lib/python3.6/dist-packages (from notebook>=4.0.0->qgrid) (5.6.1)\n",
            "Requirement already satisfied: nbformat in /usr/local/lib/python3.6/dist-packages (from notebook>=4.0.0->qgrid) (4.4.0)\n",
            "Requirement already satisfied: terminado>=0.3.3; sys_platform != \"win32\" in /usr/local/lib/python3.6/dist-packages (from notebook>=4.0.0->qgrid) (0.8.2)\n",
            "Requirement already satisfied: jinja2 in /usr/local/lib/python3.6/dist-packages (from notebook>=4.0.0->qgrid) (2.10.3)\n",
            "Requirement already satisfied: tornado>=4 in /usr/local/lib/python3.6/dist-packages (from notebook>=4.0.0->qgrid) (4.5.3)\n",
            "Requirement already satisfied: ipykernel in /usr/local/lib/python3.6/dist-packages (from notebook>=4.0.0->qgrid) (4.6.1)\n",
            "Requirement already satisfied: numpy>=1.13.3 in /usr/local/lib/python3.6/dist-packages (from pandas>=0.18.0->qgrid) (1.17.3)\n",
            "Requirement already satisfied: pytz>=2017.2 in /usr/local/lib/python3.6/dist-packages (from pandas>=0.18.0->qgrid) (2018.9)\n",
            "Requirement already satisfied: python-dateutil>=2.6.1 in /usr/local/lib/python3.6/dist-packages (from pandas>=0.18.0->qgrid) (2.6.1)\n",
            "Requirement already satisfied: widgetsnbextension~=3.5.0 in /usr/local/lib/python3.6/dist-packages (from ipywidgets>=7.0.0->qgrid) (3.5.1)\n",
            "Requirement already satisfied: ipython>=4.0.0; python_version >= \"3.3\" in /usr/local/lib/python3.6/dist-packages (from ipywidgets>=7.0.0->qgrid) (5.5.0)\n",
            "Requirement already satisfied: decorator in /usr/local/lib/python3.6/dist-packages (from traitlets>=4.2.1->notebook>=4.0.0->qgrid) (4.4.1)\n",
            "Requirement already satisfied: six in /usr/local/lib/python3.6/dist-packages (from traitlets>=4.2.1->notebook>=4.0.0->qgrid) (1.12.0)\n",
            "Requirement already satisfied: pyzmq>=13 in /usr/local/lib/python3.6/dist-packages (from jupyter-client->notebook>=4.0.0->qgrid) (17.0.0)\n",
            "Requirement already satisfied: pygments in /usr/local/lib/python3.6/dist-packages (from nbconvert->notebook>=4.0.0->qgrid) (2.1.3)\n",
            "Requirement already satisfied: pandocfilters>=1.4.1 in /usr/local/lib/python3.6/dist-packages (from nbconvert->notebook>=4.0.0->qgrid) (1.4.2)\n",
            "Requirement already satisfied: testpath in /usr/local/lib/python3.6/dist-packages (from nbconvert->notebook>=4.0.0->qgrid) (0.4.2)\n",
            "Requirement already satisfied: defusedxml in /usr/local/lib/python3.6/dist-packages (from nbconvert->notebook>=4.0.0->qgrid) (0.6.0)\n",
            "Requirement already satisfied: entrypoints>=0.2.2 in /usr/local/lib/python3.6/dist-packages (from nbconvert->notebook>=4.0.0->qgrid) (0.3)\n",
            "Requirement already satisfied: bleach in /usr/local/lib/python3.6/dist-packages (from nbconvert->notebook>=4.0.0->qgrid) (3.1.0)\n",
            "Requirement already satisfied: mistune<2,>=0.8.1 in /usr/local/lib/python3.6/dist-packages (from nbconvert->notebook>=4.0.0->qgrid) (0.8.4)\n",
            "Requirement already satisfied: jsonschema!=2.5.0,>=2.4 in /usr/local/lib/python3.6/dist-packages (from nbformat->notebook>=4.0.0->qgrid) (2.6.0)\n",
            "Requirement already satisfied: ptyprocess; os_name != \"nt\" in /usr/local/lib/python3.6/dist-packages (from terminado>=0.3.3; sys_platform != \"win32\"->notebook>=4.0.0->qgrid) (0.6.0)\n",
            "Requirement already satisfied: MarkupSafe>=0.23 in /usr/local/lib/python3.6/dist-packages (from jinja2->notebook>=4.0.0->qgrid) (1.1.1)\n",
            "Requirement already satisfied: pickleshare in /usr/local/lib/python3.6/dist-packages (from ipython>=4.0.0; python_version >= \"3.3\"->ipywidgets>=7.0.0->qgrid) (0.7.5)\n",
            "Requirement already satisfied: pexpect; sys_platform != \"win32\" in /usr/local/lib/python3.6/dist-packages (from ipython>=4.0.0; python_version >= \"3.3\"->ipywidgets>=7.0.0->qgrid) (4.7.0)\n",
            "Requirement already satisfied: prompt-toolkit<2.0.0,>=1.0.4 in /usr/local/lib/python3.6/dist-packages (from ipython>=4.0.0; python_version >= \"3.3\"->ipywidgets>=7.0.0->qgrid) (1.0.18)\n",
            "Requirement already satisfied: setuptools>=18.5 in /usr/local/lib/python3.6/dist-packages (from ipython>=4.0.0; python_version >= \"3.3\"->ipywidgets>=7.0.0->qgrid) (41.4.0)\n",
            "Requirement already satisfied: simplegeneric>0.8 in /usr/local/lib/python3.6/dist-packages (from ipython>=4.0.0; python_version >= \"3.3\"->ipywidgets>=7.0.0->qgrid) (0.8.1)\n",
            "Requirement already satisfied: webencodings in /usr/local/lib/python3.6/dist-packages (from bleach->nbconvert->notebook>=4.0.0->qgrid) (0.5.1)\n",
            "Requirement already satisfied: wcwidth in /usr/local/lib/python3.6/dist-packages (from prompt-toolkit<2.0.0,>=1.0.4->ipython>=4.0.0; python_version >= \"3.3\"->ipywidgets>=7.0.0->qgrid) (0.1.7)\n",
            "Building wheels for collected packages: qgrid\n",
            "  Building wheel for qgrid (setup.py) ... \u001b[?25l\u001b[?25hdone\n",
            "  Created wheel for qgrid: filename=qgrid-1.1.1-py2.py3-none-any.whl size=1555709 sha256=35586451274bfc65c8b4c3c8a6b10d32d7482c0e8dbc2a221c5aaf1b5d9a8f03\n",
            "  Stored in directory: /root/.cache/pip/wheels/97/71/37/8423045f66492c2b48ba9e968257ff7fdc7c941e2656380441\n",
            "Successfully built qgrid\n",
            "Installing collected packages: qgrid\n",
            "Successfully installed qgrid-1.1.1\n",
            "Enabling notebook extension jupyter-js-widgets/extension...\n",
            "      - Validating: \u001b[32mOK\u001b[0m\n",
            "Traceback (most recent call last):\n",
            "  File \"/usr/local/bin/jupyter-nbextension\", line 8, in <module>\n",
            "    sys.exit(main())\n",
            "  File \"/usr/local/lib/python2.7/dist-packages/jupyter_core/application.py\", line 267, in launch_instance\n",
            "    return super(JupyterApp, cls).launch_instance(argv=argv, **kwargs)\n",
            "  File \"/usr/local/lib/python2.7/dist-packages/traitlets/config/application.py\", line 658, in launch_instance\n",
            "    app.start()\n",
            "  File \"/usr/local/lib/python2.7/dist-packages/notebook/nbextensions.py\", line 988, in start\n",
            "    super(NBExtensionApp, self).start()\n",
            "  File \"/usr/local/lib/python2.7/dist-packages/jupyter_core/application.py\", line 256, in start\n",
            "    self.subapp.start()\n",
            "  File \"/usr/local/lib/python2.7/dist-packages/notebook/nbextensions.py\", line 896, in start\n",
            "    self.toggle_nbextension_python(self.extra_args[0])\n",
            "  File \"/usr/local/lib/python2.7/dist-packages/notebook/nbextensions.py\", line 872, in toggle_nbextension_python\n",
            "    logger=self.log)\n",
            "  File \"/usr/local/lib/python2.7/dist-packages/notebook/nbextensions.py\", line 483, in enable_nbextension_python\n",
            "    logger=logger)\n",
            "  File \"/usr/local/lib/python2.7/dist-packages/notebook/nbextensions.py\", line 380, in _set_nbextension_state_python\n",
            "    m, nbexts = _get_nbextension_metadata(module)\n",
            "  File \"/usr/local/lib/python2.7/dist-packages/notebook/nbextensions.py\", line 1122, in _get_nbextension_metadata\n",
            "    m = import_item(module)\n",
            "  File \"/usr/local/lib/python2.7/dist-packages/traitlets/utils/importstring.py\", line 42, in import_item\n",
            "    return __import__(parts[0])\n",
            "ImportError: No module named qgrid\n"
          ],
          "name": "stdout"
        }
      ]
    },
    {
      "cell_type": "code",
      "metadata": {
        "cellView": "both",
        "colab_type": "code",
        "id": "fn5AhKOK95MP",
        "colab": {}
      },
      "source": [
        "# 노트북 안에서 그래프를 그리기 위해\n",
        "%matplotlib inline\n",
        "# %matplotlib nbagg\n",
        "    \n",
        "import pandas as pd\n",
        "import numpy as np\n",
        "import matplotlib.pyplot as plt\n",
        "import seaborn as sns\n",
        "import qgrid\n",
        "plt.rcParams['figure.figsize'] = [10, 6]\n",
        "\n",
        "\n",
        "# Suppress Deprecation and Incorrect Usage Warnings \n",
        "import warnings\n",
        "warnings.filterwarnings('ignore')\n",
        "\n",
        "# #  display two pandas tables side by side\n",
        "# from IPython.display import display, HTML\n",
        "# CSS = \"\"\"\n",
        "# .output {\n",
        "#     flex-direction: row;\n",
        "# }\n",
        "# \"\"\"\n",
        "# HTML('<style>{}</style>'.format(CSS))\n",
        "\n",
        "\n",
        "# 기본 글꼴 변경\n",
        "import matplotlib as mpl\n",
        "mpl.font_manager._rebuild()\n",
        "mpl.pyplot.rc('font', family='NanumBarunGothic')\n",
        "\n",
        "# allow multiple outputs\n",
        "# from IPython.core.interactiveshell import InteractiveShell\n",
        "# InteractiveShell.ast_node_interactivity = \"all\"\n",
        "\n",
        "# allow image input\n",
        "from IPython.display import Image\n",
        "from IPython.display import display"
      ],
      "execution_count": 0,
      "outputs": []
    },
    {
      "cell_type": "code",
      "metadata": {
        "cellView": "both",
        "colab_type": "code",
        "id": "WQMsczZXLCe5",
        "colab": {}
      },
      "source": [
        "Image('https://i.stack.imgur.com/ScJfR.png')"
      ],
      "execution_count": 0,
      "outputs": []
    },
    {
      "cell_type": "code",
      "metadata": {
        "colab_type": "code",
        "id": "TxhhDCIcxQ2q",
        "colab": {}
      },
      "source": [
        "# qg = qgrid.show_grid(df, show_toolbar = True, \n",
        "#                 grid_options={'fullWidthRows': True,'syncColumnCellResize': True,\n",
        "#                               'forceFitColumns': True, 'rowHeight': 40,\n",
        "#                               'enableColumnReorder': True,'editable': True,\n",
        "#                               'enableTextSelectionOnCells': True}\n",
        "#                               )"
      ],
      "execution_count": 0,
      "outputs": []
    },
    {
      "cell_type": "markdown",
      "metadata": {
        "colab_type": "text",
        "id": "jq8RvkBJFsmx"
      },
      "source": [
        "# Library Importing(plotly 4.2.1)"
      ]
    },
    {
      "cell_type": "code",
      "metadata": {
        "cellView": "both",
        "colab_type": "code",
        "id": "148pDlGfNAVo",
        "outputId": "3c292e58-ceb8-4f78-e9e8-17823de12112",
        "colab": {
          "base_uri": "https://localhost:8080/",
          "height": 35
        }
      },
      "source": [
        "from plotly import __version__\n",
        "print (__version__)\n",
        "import plotly.express as px\n",
        "from plotly.subplots import make_subplots\n",
        "import plotly.graph_objs as go\n",
        "import plotly.figure_factory as ff\n",
        "\n",
        "# Display all cell outputs\n",
        "from IPython.core.interactiveshell import InteractiveShell\n",
        "\n",
        "# Jupyter setup\n",
        "# init_notebook_mode(connected=True)\n",
        "\n",
        "import ipywidgets as widgets"
      ],
      "execution_count": 4,
      "outputs": [
        {
          "output_type": "stream",
          "text": [
            "4.1.1\n"
          ],
          "name": "stdout"
        }
      ]
    },
    {
      "cell_type": "code",
      "metadata": {
        "cellView": "both",
        "colab_type": "code",
        "id": "FtE7_WMYF4uh",
        "colab": {}
      },
      "source": [
        "import plotly\n",
        "from plotly import tools\n",
        "\n",
        "# plotly + cufflinks in offline mode\n",
        "from plotly.offline import download_plotlyjs, init_notebook_mode, plot, iplot"
      ],
      "execution_count": 0,
      "outputs": []
    },
    {
      "cell_type": "markdown",
      "metadata": {
        "colab_type": "text",
        "id": "xVhdqRHoF3w0"
      },
      "source": [
        "# Library Importing(plotly 3.6.1)"
      ]
    },
    {
      "cell_type": "code",
      "metadata": {
        "cellView": "both",
        "colab_type": "code",
        "id": "bQydt3KwFpgL",
        "colab": {}
      },
      "source": [
        "from plotly import __version__\n",
        "print (__version__)\n",
        "import plotly\n",
        "from plotly import tools\n",
        "import plotly.plotly as py\n",
        "import plotly.graph_objs as go\n",
        "import plotly.figure_factory as ff\n",
        "\n",
        "# Cufflinks wrapper on plotly\n",
        "import cufflinks as cf\n",
        "\n",
        "# Display all cell outputs\n",
        "from IPython.core.interactiveshell import InteractiveShell\n",
        "\n",
        "# plotly + cufflinks in offline mode\n",
        "from plotly.offline import download_plotlyjs, init_notebook_mode, plot, iplot\n",
        "cf.go_offline()\n",
        "\n",
        "# set the global theme\n",
        "cf.set_config_file(world_readable=True, theme='pearl', offline=True)\n",
        "\n",
        "# Jupyter setup\n",
        "init_notebook_mode(connected=True)\n",
        "\n",
        "import ipywidgets as widgets"
      ],
      "execution_count": 0,
      "outputs": []
    },
    {
      "cell_type": "code",
      "metadata": {
        "cellView": "both",
        "colab_type": "code",
        "id": "mVTfU_xf_tAs",
        "colab": {}
      },
      "source": [
        "def configure_plotly_browser_state():\n",
        "  import IPython\n",
        "  display(IPython.core.display.HTML('''\n",
        "        <script src=\"/static/components/requirejs/require.js\"></script>\n",
        "        <script>\n",
        "          requirejs.config({\n",
        "            paths: {\n",
        "              base: '/static/base',\n",
        "              plotly: 'https://cdn.plot.ly/plotly-latest.min.js?noext',\n",
        "            },\n",
        "          });\n",
        "        </script>\n",
        "        '''))"
      ],
      "execution_count": 0,
      "outputs": []
    },
    {
      "cell_type": "markdown",
      "metadata": {
        "colab_type": "text",
        "id": "GpUf3xigGASR"
      },
      "source": [
        "# plotly 테마 설정"
      ]
    },
    {
      "cell_type": "markdown",
      "metadata": {
        "colab_type": "text",
        "id": "zHbaUvIZEiYn"
      },
      "source": [
        "theming 참고1: https://medium.com/plotly/introducing-plotly-py-theming-b644109ac9c7<br>\n",
        "theming 참고2: https://nbviewer.jupyter.org/github/jonmmease/plotly.py_release_notebooks/blob/master/notebooks/v3.4.0/templates-gapminder.ipynb <br>\n",
        "기본theme설정/해제 참고: https://plot.ly/python/templates/#specifying-a-default-themes "
      ]
    },
    {
      "cell_type": "code",
      "metadata": {
        "cellView": "both",
        "colab_type": "code",
        "id": "00lai7EnHjQy",
        "colab": {}
      },
      "source": [
        "import plotly.io as pio\n",
        "pio.templates.default = \"plotly\" # ['ggplot2', 'seaborn', 'plotly','plotly_white', 'plotly_dark','presentation', 'xgridoff', 'none']\n",
        "\n",
        "# small-font default\n",
        "\n",
        "# fig = go.Figure(layout={\n",
        "#     'title' : 'Figure Title',\n",
        "#     'font' : {'size': 11,\n",
        "#               # 'family': 'Courier'\n",
        "#               }\n",
        "# })\n",
        "\n",
        "# templated_fig = pio.to_templated(fig)\n",
        "# pio.templates['font11'] = templated_fig.layout.template\n",
        "\n",
        "# pio.templates.default = 'font11'\n",
        "\n",
        "# large-font default\n",
        "\n",
        "# fig = go.Figure(layout={\n",
        "#     'title' : 'Figure Title',\n",
        "#     'font' : {'size': 15, 'family': 'Courier'}\n",
        "# })\n",
        "\n",
        "# templated_fig = pio.to_templated(fig)\n",
        "# pio.templates['large_courier'] = templated_fig.layout.template\n",
        "\n",
        "# pio.templates.default = 'large_courier'"
      ],
      "execution_count": 0,
      "outputs": []
    },
    {
      "cell_type": "code",
      "metadata": {
        "cellView": "both",
        "colab_type": "code",
        "id": "NClWYj6RQyeO",
        "colab": {}
      },
      "source": [
        "scp = pd.read_excel('../content/지원자현황.xlsx', sheet_name='기본정보')\n",
        "scp_reg = scp.query(\"등록여부 == '등록'\").sort_values(by='국문성명')\n",
        "pre = pd.read_excel('../content/지원자현황.xlsx', sheet_name='사전설문조사결과')\n",
        "post = pd.read_excel('../content/지원자현황.xlsx', sheet_name='사후설문조사결과')\n",
        "lec = pd.read_excel('../content/지원자현황.xlsx', sheet_name='강의평가결과')"
      ],
      "execution_count": 0,
      "outputs": []
    },
    {
      "cell_type": "code",
      "metadata": {
        "colab_type": "code",
        "id": "2LAi0j1Mh3kW",
        "colab": {}
      },
      "source": [
        "pre_als = \\\n",
        "scp[['국문성명', '영문성명', '생년월일', '나이', '총경력',\n",
        "     '관심분야(대)-편집','소속분류(대)', '재직구분','전문분야(대)',\n",
        "     '실습대상국', '실습분야', '소속기관', '대표직위', '보직',\n",
        "     '직급', '실․국', '부서']].merge(pre, left_on='국문성명',right_on='성명'\n",
        "     ).drop(['ID','시작 시간', '완료 시간', '전자 메일','성명', '기관',\n",
        "             '기관(응답)', '근속년수','근속년수(응답)', '생년'], axis=1\n",
        "      ).rename(columns={'관심분야(대)-편집':'관심분야',\n",
        "                         '소속분류(대)':'소속분류','전문분야(대)':'전문분야'})"
      ],
      "execution_count": 0,
      "outputs": []
    },
    {
      "cell_type": "code",
      "metadata": {
        "colab_type": "code",
        "id": "ivu9Mw3yhq26",
        "colab": {}
      },
      "source": [
        ""
      ],
      "execution_count": 0,
      "outputs": []
    },
    {
      "cell_type": "markdown",
      "metadata": {
        "colab_type": "text",
        "id": "wn9iM4ENIL2J"
      },
      "source": [
        "# 사전설문분석"
      ]
    },
    {
      "cell_type": "markdown",
      "metadata": {
        "colab_type": "text",
        "id": "kq6NotbolASZ"
      },
      "source": [
        "## 학습영역 간 상관관계"
      ]
    },
    {
      "cell_type": "markdown",
      "metadata": {
        "colab_type": "text",
        "id": "OiaVwHCdRmh5"
      },
      "source": [
        "■ 학습내용 A : 서울시 우수정책 공유사업<br>\n",
        "■ 학습내용 B : 해외도시정책 및 국제개발협력<br>\n",
        "■ 학습내용 C : 해외사업수주기획 및 컨설팅의 이해<br>\n",
        "■ 학습내용 D : 해외도시인프라 환경 및 문화이해"
      ]
    },
    {
      "cell_type": "markdown",
      "metadata": {
        "colab_type": "text",
        "id": "MfN167syh1nK"
      },
      "source": [
        "### 학습내용 관련 컬럼 추출"
      ]
    },
    {
      "cell_type": "code",
      "metadata": {
        "colab_type": "code",
        "id": "dM4bK9Dmdcqc",
        "outputId": "16a98535-ddb9-46da-d7f8-6e2cd3c7a026",
        "colab": {
          "base_uri": "https://localhost:8080/",
          "height": 145
        }
      },
      "source": [
        "pre_corr = \\\n",
        "pre_als[\n",
        "pre_als.columns[pre_als.columns.str.contains('학습내용')]\n",
        "]\n",
        "\n",
        "pre_corr.columns\n",
        "# 또는 pre_als.filter(like=\"학습내용\").corr()"
      ],
      "execution_count": 0,
      "outputs": [
        {
          "output_type": "execute_result",
          "data": {
            "text/plain": [
              "Index(['인지적 (Knowledge) 영역 - 학습내용 A', '인지적 (Knowledge) 영역 - 학습내용 B',\n",
              "       '인지적 (Knowledge) 영역 - 학습내용 C', '인지적 (Knowledge) 영역 - 학습내용 D',\n",
              "       '기술적 (Skill) 영역 - 학습내용 A', '기술적 (Skill) 영역 - 학습내용 B',\n",
              "       '기술적 (Skill) 영역 - 학습내용 C', '기술적 (Skill) 영역 - 학습내용 D',\n",
              "       '태도적 (Attidtude) 영역 - 학습내용 A', '태도적 (Attidtude) 영역 - 학습내용 B',\n",
              "       '태도적 (Attidtude) 영역 - 학습내용 C', '태도적 (Attidtude) 영역 - 학습내용 D'],\n",
              "      dtype='object')"
            ]
          },
          "metadata": {
            "tags": []
          },
          "execution_count": 39
        }
      ]
    },
    {
      "cell_type": "markdown",
      "metadata": {
        "colab_type": "text",
        "id": "pR2VwnNKiY8Z"
      },
      "source": [
        "### 컬럼명 편집 - 괄호 및 괄호 내 문자 삭제"
      ]
    },
    {
      "cell_type": "code",
      "metadata": {
        "colab_type": "code",
        "id": "t2y9_gq0iAjh",
        "colab": {}
      },
      "source": [
        "pre_corr.columns = pre_corr.filter(like=\"(\").columns.str.replace(r'\\([^)]*\\)', '')"
      ],
      "execution_count": 0,
      "outputs": []
    },
    {
      "cell_type": "code",
      "metadata": {
        "colab_type": "code",
        "id": "P8znxdZXi9VS",
        "outputId": "cbd6f95d-dd94-47f7-8634-1324190583d1",
        "colab": {
          "base_uri": "https://localhost:8080/",
          "height": 108
        }
      },
      "source": [
        "pre_corr.columns"
      ],
      "execution_count": 0,
      "outputs": [
        {
          "output_type": "execute_result",
          "data": {
            "text/plain": [
              "Index(['인지적  영역 - 학습내용 A', '인지적  영역 - 학습내용 B', '인지적  영역 - 학습내용 C',\n",
              "       '인지적  영역 - 학습내용 D', '기술적  영역 - 학습내용 A', '기술적  영역 - 학습내용 B',\n",
              "       '기술적  영역 - 학습내용 C', '기술적  영역 - 학습내용 D', '태도적  영역 - 학습내용 A',\n",
              "       '태도적  영역 - 학습내용 B', '태도적  영역 - 학습내용 C', '태도적  영역 - 학습내용 D'],\n",
              "      dtype='object')"
            ]
          },
          "metadata": {
            "tags": []
          },
          "execution_count": 41
        }
      ]
    },
    {
      "cell_type": "markdown",
      "metadata": {
        "colab_type": "text",
        "id": "4NCytI2PkpmY"
      },
      "source": [
        "### 영역별 상관관계 "
      ]
    },
    {
      "cell_type": "code",
      "metadata": {
        "colab_type": "code",
        "id": "RBzdsyBQjCuT",
        "colab": {}
      },
      "source": [
        "pre_corr.corr().round(2).to_excel('학습영역 간 상관관계.xlsx')"
      ],
      "execution_count": 0,
      "outputs": []
    },
    {
      "cell_type": "code",
      "metadata": {
        "colab_type": "code",
        "id": "yTLN5-jtlASb",
        "colab": {}
      },
      "source": [
        ""
      ],
      "execution_count": 0,
      "outputs": []
    },
    {
      "cell_type": "markdown",
      "metadata": {
        "colab_type": "text",
        "id": "t2_XSJa1xIRc"
      },
      "source": [
        "## 학습영역 간 비교"
      ]
    },
    {
      "cell_type": "markdown",
      "metadata": {
        "colab_type": "text",
        "id": "fRhDIodEv-f2"
      },
      "source": [
        "### 각 영역 내 학습내용별 그룹별 평균"
      ]
    },
    {
      "cell_type": "code",
      "metadata": {
        "colab_type": "code",
        "id": "xUM855BmhDSn",
        "outputId": "c8fa6e54-d572-4f26-8d39-fb349976e72f",
        "colab": {
          "base_uri": "https://localhost:8080/",
          "height": 408
        }
      },
      "source": [
        "pre_group = pre_als.groupby(pre_als['소속분류'])\n",
        "\n",
        "pre_score = pre_group[pre_als.filter(like=\"학습내용\").columns].apply(lambda x: x.mean()).round(2).T\n",
        "pre_score['평균'] = pre_group[pre_als.filter(like=\"학습내용\").columns].apply(lambda x: x.mean()).round(2).T.mean(axis=1).round(2)\n",
        "pre_score"
      ],
      "execution_count": 0,
      "outputs": [
        {
          "output_type": "execute_result",
          "data": {
            "text/html": [
              "<div>\n",
              "<style scoped>\n",
              "    .dataframe tbody tr th:only-of-type {\n",
              "        vertical-align: middle;\n",
              "    }\n",
              "\n",
              "    .dataframe tbody tr th {\n",
              "        vertical-align: top;\n",
              "    }\n",
              "\n",
              "    .dataframe thead th {\n",
              "        text-align: right;\n",
              "    }\n",
              "</style>\n",
              "<table border=\"1\" class=\"dataframe\">\n",
              "  <thead>\n",
              "    <tr style=\"text-align: right;\">\n",
              "      <th>소속분류</th>\n",
              "      <th>국제기구</th>\n",
              "      <th>민간기업</th>\n",
              "      <th>서울시</th>\n",
              "      <th>서울시 산하기관</th>\n",
              "      <th>중앙부처/산하기관</th>\n",
              "      <th>평균</th>\n",
              "    </tr>\n",
              "  </thead>\n",
              "  <tbody>\n",
              "    <tr>\n",
              "      <td>인지적 (Knowledge) 영역 - 학습내용 A</td>\n",
              "      <td>3.0</td>\n",
              "      <td>2.43</td>\n",
              "      <td>2.25</td>\n",
              "      <td>2.33</td>\n",
              "      <td>1.75</td>\n",
              "      <td>2.35</td>\n",
              "    </tr>\n",
              "    <tr>\n",
              "      <td>인지적 (Knowledge) 영역 - 학습내용 B</td>\n",
              "      <td>3.0</td>\n",
              "      <td>2.57</td>\n",
              "      <td>1.62</td>\n",
              "      <td>2.67</td>\n",
              "      <td>3.25</td>\n",
              "      <td>2.62</td>\n",
              "    </tr>\n",
              "    <tr>\n",
              "      <td>인지적 (Knowledge) 영역 - 학습내용 C</td>\n",
              "      <td>2.0</td>\n",
              "      <td>2.14</td>\n",
              "      <td>1.50</td>\n",
              "      <td>2.00</td>\n",
              "      <td>2.50</td>\n",
              "      <td>2.03</td>\n",
              "    </tr>\n",
              "    <tr>\n",
              "      <td>인지적 (Knowledge) 영역 - 학습내용 D</td>\n",
              "      <td>3.0</td>\n",
              "      <td>2.86</td>\n",
              "      <td>1.62</td>\n",
              "      <td>2.67</td>\n",
              "      <td>3.50</td>\n",
              "      <td>2.73</td>\n",
              "    </tr>\n",
              "    <tr>\n",
              "      <td>기술적 (Skill) 영역 - 학습내용 A</td>\n",
              "      <td>3.0</td>\n",
              "      <td>2.43</td>\n",
              "      <td>1.88</td>\n",
              "      <td>2.33</td>\n",
              "      <td>2.00</td>\n",
              "      <td>2.33</td>\n",
              "    </tr>\n",
              "    <tr>\n",
              "      <td>기술적 (Skill) 영역 - 학습내용 B</td>\n",
              "      <td>3.0</td>\n",
              "      <td>2.57</td>\n",
              "      <td>1.38</td>\n",
              "      <td>2.67</td>\n",
              "      <td>3.00</td>\n",
              "      <td>2.52</td>\n",
              "    </tr>\n",
              "    <tr>\n",
              "      <td>기술적 (Skill) 영역 - 학습내용 C</td>\n",
              "      <td>3.0</td>\n",
              "      <td>2.29</td>\n",
              "      <td>1.50</td>\n",
              "      <td>2.33</td>\n",
              "      <td>2.00</td>\n",
              "      <td>2.22</td>\n",
              "    </tr>\n",
              "    <tr>\n",
              "      <td>기술적 (Skill) 영역 - 학습내용 D</td>\n",
              "      <td>3.0</td>\n",
              "      <td>3.00</td>\n",
              "      <td>1.62</td>\n",
              "      <td>2.33</td>\n",
              "      <td>3.25</td>\n",
              "      <td>2.64</td>\n",
              "    </tr>\n",
              "    <tr>\n",
              "      <td>태도적 (Attidtude) 영역 - 학습내용 A</td>\n",
              "      <td>3.0</td>\n",
              "      <td>4.43</td>\n",
              "      <td>3.38</td>\n",
              "      <td>3.33</td>\n",
              "      <td>3.00</td>\n",
              "      <td>3.43</td>\n",
              "    </tr>\n",
              "    <tr>\n",
              "      <td>태도적 (Attidtude) 영역 - 학습내용 B</td>\n",
              "      <td>4.0</td>\n",
              "      <td>4.29</td>\n",
              "      <td>3.25</td>\n",
              "      <td>2.67</td>\n",
              "      <td>3.25</td>\n",
              "      <td>3.49</td>\n",
              "    </tr>\n",
              "    <tr>\n",
              "      <td>태도적 (Attidtude) 영역 - 학습내용 C</td>\n",
              "      <td>4.0</td>\n",
              "      <td>4.29</td>\n",
              "      <td>3.38</td>\n",
              "      <td>3.67</td>\n",
              "      <td>3.50</td>\n",
              "      <td>3.77</td>\n",
              "    </tr>\n",
              "    <tr>\n",
              "      <td>태도적 (Attidtude) 영역 - 학습내용 D</td>\n",
              "      <td>4.0</td>\n",
              "      <td>4.29</td>\n",
              "      <td>3.25</td>\n",
              "      <td>3.67</td>\n",
              "      <td>3.75</td>\n",
              "      <td>3.79</td>\n",
              "    </tr>\n",
              "  </tbody>\n",
              "</table>\n",
              "</div>"
            ],
            "text/plain": [
              "소속분류                         국제기구  민간기업   서울시  서울시 산하기관  중앙부처/산하기관    평균\n",
              "인지적 (Knowledge) 영역 - 학습내용 A   3.0  2.43  2.25      2.33       1.75  2.35\n",
              "인지적 (Knowledge) 영역 - 학습내용 B   3.0  2.57  1.62      2.67       3.25  2.62\n",
              "인지적 (Knowledge) 영역 - 학습내용 C   2.0  2.14  1.50      2.00       2.50  2.03\n",
              "인지적 (Knowledge) 영역 - 학습내용 D   3.0  2.86  1.62      2.67       3.50  2.73\n",
              "기술적 (Skill) 영역 - 학습내용 A       3.0  2.43  1.88      2.33       2.00  2.33\n",
              "기술적 (Skill) 영역 - 학습내용 B       3.0  2.57  1.38      2.67       3.00  2.52\n",
              "기술적 (Skill) 영역 - 학습내용 C       3.0  2.29  1.50      2.33       2.00  2.22\n",
              "기술적 (Skill) 영역 - 학습내용 D       3.0  3.00  1.62      2.33       3.25  2.64\n",
              "태도적 (Attidtude) 영역 - 학습내용 A   3.0  4.43  3.38      3.33       3.00  3.43\n",
              "태도적 (Attidtude) 영역 - 학습내용 B   4.0  4.29  3.25      2.67       3.25  3.49\n",
              "태도적 (Attidtude) 영역 - 학습내용 C   4.0  4.29  3.38      3.67       3.50  3.77\n",
              "태도적 (Attidtude) 영역 - 학습내용 D   4.0  4.29  3.25      3.67       3.75  3.79"
            ]
          },
          "metadata": {
            "tags": []
          },
          "execution_count": 43
        }
      ]
    },
    {
      "cell_type": "code",
      "metadata": {
        "colab_type": "code",
        "id": "GY1MtVFHxsdF",
        "colab": {}
      },
      "source": [
        "pre_score.to_excel('영역간비교분석.xlsx')"
      ],
      "execution_count": 0,
      "outputs": []
    },
    {
      "cell_type": "markdown",
      "metadata": {
        "colab_type": "text",
        "id": "khAo-n9YvcZH"
      },
      "source": [
        "### 해외사업수주기획 및 컨설팅의 이해\"과 \"서울시 우수정책 공유사업\" 간 그룹별 평균의 차"
      ]
    },
    {
      "cell_type": "code",
      "metadata": {
        "colab_type": "code",
        "id": "OQZ6oxOARqy8",
        "outputId": "37c38bb2-f680-44db-a48a-608daa6f690d",
        "colab": {
          "base_uri": "https://localhost:8080/",
          "height": 126
        }
      },
      "source": [
        "print('\"해외사업수주기획 및 컨설팅의 이해\"과 \"서울시 우수정책 공유사업\" 간 인지적 영역 편차')\n",
        "\n",
        "for x in range(5):\n",
        "  print(str(x+1) + \". \" +\\\n",
        "        pre_group['인지적 (Knowledge) 영역 - 학습내용 C'].mean().index[x] + \" : \" +\\\n",
        "        str((pre_group['인지적 (Knowledge) 영역 - 학습내용 A'].mean()[x]-\\\n",
        "            pre_group['인지적 (Knowledge) 영역 - 학습내용 C'].mean()[x]).round(2)))"
      ],
      "execution_count": 0,
      "outputs": [
        {
          "output_type": "stream",
          "text": [
            "\"해외사업수주기획 및 컨설팅의 이해\"과 \"서울시 우수정책 공유사업\" 간 인지적 영역 편차\n",
            "1. 국제기구 : 1.0\n",
            "2. 민간기업 : 0.29\n",
            "3. 서울시 : 0.75\n",
            "4. 서울시 산하기관 : 0.33\n",
            "5. 중앙부처/산하기관 : -0.75\n"
          ],
          "name": "stdout"
        }
      ]
    },
    {
      "cell_type": "markdown",
      "metadata": {
        "colab_type": "text",
        "id": "mi1_S_Jwud-9"
      },
      "source": [
        "### 각 영역별 학습내용간 그룹별 표준편차"
      ]
    },
    {
      "cell_type": "code",
      "metadata": {
        "colab_type": "code",
        "id": "DUrrsZ6vsfBF",
        "outputId": "d9e28bc4-2849-4c67-bf89-a3dddda92a12",
        "colab": {
          "base_uri": "https://localhost:8080/",
          "height": 72
        }
      },
      "source": [
        "print(\"인지적 영역의 학습내용간 그룹별 표준편차: \"+str(dict(pre_score[pre_score.index.str.contains(\"인지적\")].std().round(2)[0:5])).replace('{','(').replace('}',')'))\n",
        "print(\"기술적 영역의 학습내용간 그룹별 표준편차: \"+str(dict(pre_score[pre_score.index.str.contains(\"기술적\")].std().round(2)[0:5])).replace('{','(').replace('}',')'))\n",
        "print(\"태도적 영역의 학습내용간 그룹별 표준편차: \"+str(dict(pre_score[pre_score.index.str.contains(\"태도적\")].std().round(2)[0:5])).replace('{','(').replace('}',')'))"
      ],
      "execution_count": 0,
      "outputs": [
        {
          "output_type": "stream",
          "text": [
            "인지적 영역의 학습내용간 그룹별 표준편차: ('국제기구': 0.5, '민간기업': 0.3, '서울시': 0.34, '서울시 산하기관': 0.32, '중앙부처/산하기관': 0.79)\n",
            "기술적 영역의 학습내용간 그룹별 표준편차: ('국제기구': 0.0, '민간기업': 0.31, '서울시': 0.21, '서울시 산하기관': 0.17, '중앙부처/산하기관': 0.66)\n",
            "태도적 영역의 학습내용간 그룹별 표준편차: ('국제기구': 0.5, '민간기업': 0.07, '서울시': 0.08, '서울시 산하기관': 0.47, '중앙부처/산하기관': 0.32)\n"
          ],
          "name": "stdout"
        }
      ]
    },
    {
      "cell_type": "code",
      "metadata": {
        "colab_type": "code",
        "id": "O41E_NVUlASW",
        "colab": {}
      },
      "source": [
        ""
      ],
      "execution_count": 0,
      "outputs": []
    },
    {
      "cell_type": "code",
      "metadata": {
        "colab_type": "code",
        "id": "K_eZSbsswXYz",
        "colab": {}
      },
      "source": [
        ""
      ],
      "execution_count": 0,
      "outputs": []
    },
    {
      "cell_type": "markdown",
      "metadata": {
        "colab_type": "text",
        "id": "oaeFGx0C2-hs"
      },
      "source": [
        "## 소속간 비교"
      ]
    },
    {
      "cell_type": "markdown",
      "metadata": {
        "colab_type": "text",
        "id": "8-43jXwx4g2h"
      },
      "source": [
        "### 소속별 인지적 영역 수준 평균"
      ]
    },
    {
      "cell_type": "code",
      "metadata": {
        "colab_type": "code",
        "id": "-a3E7NiAuzsM",
        "outputId": "943892a2-a925-4d7a-832a-f9cd868883a3",
        "colab": {
          "base_uri": "https://localhost:8080/",
          "height": 542
        }
      },
      "source": [
        "fig = go.Figure(data = [\n",
        "    go.Bar(\n",
        "      x=pre_group['인지적 (Knowledge) 영역 - 학습내용 A'].mean().index,\n",
        "      y=pre_group['인지적 (Knowledge) 영역 - 학습내용 A'].mean().round(2), \n",
        "      name='학습내용 A', \n",
        "      marker_color='rgb(55, 83, 109)',\n",
        "      text=pre_group['인지적 (Knowledge) 영역 - 학습내용 A'].mean().round(2),\n",
        "      textposition='auto'),\n",
        "    go.Bar(\n",
        "      x=pre_group['인지적 (Knowledge) 영역 - 학습내용 B'].mean().index,\n",
        "      y=pre_group['인지적 (Knowledge) 영역 - 학습내용 B'].mean().round(2), \n",
        "      name='학습내용 B', \n",
        "      marker_color='rgba(55, 83, 109, 0.8)',\n",
        "      text=pre_group['인지적 (Knowledge) 영역 - 학습내용 B'].mean().round(2),\n",
        "      textposition='auto'),\n",
        "    go.Bar(\n",
        "      x=pre_group['인지적 (Knowledge) 영역 - 학습내용 C'].mean().index,\n",
        "      y=pre_group['인지적 (Knowledge) 영역 - 학습내용 C'].mean().round(2), \n",
        "      name='학습내용 C', \n",
        "      marker_color='rgb(26, 118, 255)',\n",
        "      text=pre_group['인지적 (Knowledge) 영역 - 학습내용 C'].mean().round(2),\n",
        "      textposition='auto'),\n",
        "    go.Bar(\n",
        "      x=pre_group['인지적 (Knowledge) 영역 - 학습내용 D'].mean().index,\n",
        "      y=pre_group['인지적 (Knowledge) 영역 - 학습내용 D'].mean().round(2), \n",
        "      name='학습내용 D', \n",
        "      marker_color='rgba(26, 118, 255, 0.8)',\n",
        "      text=pre_group['인지적 (Knowledge) 영역 - 학습내용 D'].mean().round(2),\n",
        "      textposition='auto')\n",
        "    ]\n",
        ")\n",
        "\n",
        "fig.update_layout(\n",
        "    title=dict(text=\"소속그룹별 인지적 영역 수준 평균\", x = 0.5),\n",
        "    legend=dict(x=0.2, y=1.1, orientation=\"h\"),\n",
        "    barmode='group',\n",
        "    bargap=0.15,\n",
        "    bargroupgap=0.1,\n",
        "    # width=1500,\n",
        "    # height=800,\n",
        ")\n",
        "\n",
        "fig.update_xaxes(tickfont_size=13)\n",
        "fig.update_yaxes(tickfont_size=13)\n",
        "\n",
        "fig.show()"
      ],
      "execution_count": 0,
      "outputs": [
        {
          "output_type": "display_data",
          "data": {
            "application/vnd.plotly.v1+json": {
              "config": {
                "plotlyServerURL": "https://plot.ly"
              },
              "data": [
                {
                  "marker": {
                    "color": "rgb(55, 83, 109)"
                  },
                  "name": "학습내용 A",
                  "text": [
                    3,
                    2.43,
                    2.25,
                    2.33,
                    1.75
                  ],
                  "textposition": "auto",
                  "type": "bar",
                  "x": [
                    "국제기구",
                    "민간기업",
                    "서울시",
                    "서울시 산하기관",
                    "중앙부처/산하기관"
                  ],
                  "y": [
                    3,
                    2.43,
                    2.25,
                    2.33,
                    1.75
                  ]
                },
                {
                  "marker": {
                    "color": "rgba(55, 83, 109, 0.8)"
                  },
                  "name": "학습내용 B",
                  "text": [
                    3,
                    2.57,
                    1.62,
                    2.67,
                    3.25
                  ],
                  "textposition": "auto",
                  "type": "bar",
                  "x": [
                    "국제기구",
                    "민간기업",
                    "서울시",
                    "서울시 산하기관",
                    "중앙부처/산하기관"
                  ],
                  "y": [
                    3,
                    2.57,
                    1.62,
                    2.67,
                    3.25
                  ]
                },
                {
                  "marker": {
                    "color": "rgb(26, 118, 255)"
                  },
                  "name": "학습내용 C",
                  "text": [
                    2,
                    2.14,
                    1.5,
                    2,
                    2.5
                  ],
                  "textposition": "auto",
                  "type": "bar",
                  "x": [
                    "국제기구",
                    "민간기업",
                    "서울시",
                    "서울시 산하기관",
                    "중앙부처/산하기관"
                  ],
                  "y": [
                    2,
                    2.14,
                    1.5,
                    2,
                    2.5
                  ]
                },
                {
                  "marker": {
                    "color": "rgba(26, 118, 255, 0.8)"
                  },
                  "name": "학습내용 D",
                  "text": [
                    3,
                    2.86,
                    1.62,
                    2.67,
                    3.5
                  ],
                  "textposition": "auto",
                  "type": "bar",
                  "x": [
                    "국제기구",
                    "민간기업",
                    "서울시",
                    "서울시 산하기관",
                    "중앙부처/산하기관"
                  ],
                  "y": [
                    3,
                    2.86,
                    1.62,
                    2.67,
                    3.5
                  ]
                }
              ],
              "layout": {
                "autosize": true,
                "bargap": 0.15,
                "bargroupgap": 0.1,
                "barmode": "group",
                "legend": {
                  "orientation": "h",
                  "x": 0.2,
                  "y": 1.1
                },
                "template": {
                  "data": {
                    "bar": [
                      {
                        "error_x": {
                          "color": "#2a3f5f"
                        },
                        "error_y": {
                          "color": "#2a3f5f"
                        },
                        "marker": {
                          "line": {
                            "color": "#E5ECF6",
                            "width": 0.5
                          }
                        },
                        "type": "bar"
                      }
                    ],
                    "barpolar": [
                      {
                        "marker": {
                          "line": {
                            "color": "#E5ECF6",
                            "width": 0.5
                          }
                        },
                        "type": "barpolar"
                      }
                    ],
                    "carpet": [
                      {
                        "aaxis": {
                          "endlinecolor": "#2a3f5f",
                          "gridcolor": "white",
                          "linecolor": "white",
                          "minorgridcolor": "white",
                          "startlinecolor": "#2a3f5f"
                        },
                        "baxis": {
                          "endlinecolor": "#2a3f5f",
                          "gridcolor": "white",
                          "linecolor": "white",
                          "minorgridcolor": "white",
                          "startlinecolor": "#2a3f5f"
                        },
                        "type": "carpet"
                      }
                    ],
                    "choropleth": [
                      {
                        "colorbar": {
                          "outlinewidth": 0,
                          "ticks": ""
                        },
                        "type": "choropleth"
                      }
                    ],
                    "contour": [
                      {
                        "colorbar": {
                          "outlinewidth": 0,
                          "ticks": ""
                        },
                        "colorscale": [
                          [
                            0,
                            "#0d0887"
                          ],
                          [
                            0.1111111111111111,
                            "#46039f"
                          ],
                          [
                            0.2222222222222222,
                            "#7201a8"
                          ],
                          [
                            0.3333333333333333,
                            "#9c179e"
                          ],
                          [
                            0.4444444444444444,
                            "#bd3786"
                          ],
                          [
                            0.5555555555555556,
                            "#d8576b"
                          ],
                          [
                            0.6666666666666666,
                            "#ed7953"
                          ],
                          [
                            0.7777777777777778,
                            "#fb9f3a"
                          ],
                          [
                            0.8888888888888888,
                            "#fdca26"
                          ],
                          [
                            1,
                            "#f0f921"
                          ]
                        ],
                        "type": "contour"
                      }
                    ],
                    "contourcarpet": [
                      {
                        "colorbar": {
                          "outlinewidth": 0,
                          "ticks": ""
                        },
                        "type": "contourcarpet"
                      }
                    ],
                    "heatmap": [
                      {
                        "colorbar": {
                          "outlinewidth": 0,
                          "ticks": ""
                        },
                        "colorscale": [
                          [
                            0,
                            "#0d0887"
                          ],
                          [
                            0.1111111111111111,
                            "#46039f"
                          ],
                          [
                            0.2222222222222222,
                            "#7201a8"
                          ],
                          [
                            0.3333333333333333,
                            "#9c179e"
                          ],
                          [
                            0.4444444444444444,
                            "#bd3786"
                          ],
                          [
                            0.5555555555555556,
                            "#d8576b"
                          ],
                          [
                            0.6666666666666666,
                            "#ed7953"
                          ],
                          [
                            0.7777777777777778,
                            "#fb9f3a"
                          ],
                          [
                            0.8888888888888888,
                            "#fdca26"
                          ],
                          [
                            1,
                            "#f0f921"
                          ]
                        ],
                        "type": "heatmap"
                      }
                    ],
                    "heatmapgl": [
                      {
                        "colorbar": {
                          "outlinewidth": 0,
                          "ticks": ""
                        },
                        "colorscale": [
                          [
                            0,
                            "#0d0887"
                          ],
                          [
                            0.1111111111111111,
                            "#46039f"
                          ],
                          [
                            0.2222222222222222,
                            "#7201a8"
                          ],
                          [
                            0.3333333333333333,
                            "#9c179e"
                          ],
                          [
                            0.4444444444444444,
                            "#bd3786"
                          ],
                          [
                            0.5555555555555556,
                            "#d8576b"
                          ],
                          [
                            0.6666666666666666,
                            "#ed7953"
                          ],
                          [
                            0.7777777777777778,
                            "#fb9f3a"
                          ],
                          [
                            0.8888888888888888,
                            "#fdca26"
                          ],
                          [
                            1,
                            "#f0f921"
                          ]
                        ],
                        "type": "heatmapgl"
                      }
                    ],
                    "histogram": [
                      {
                        "marker": {
                          "colorbar": {
                            "outlinewidth": 0,
                            "ticks": ""
                          }
                        },
                        "type": "histogram"
                      }
                    ],
                    "histogram2d": [
                      {
                        "colorbar": {
                          "outlinewidth": 0,
                          "ticks": ""
                        },
                        "colorscale": [
                          [
                            0,
                            "#0d0887"
                          ],
                          [
                            0.1111111111111111,
                            "#46039f"
                          ],
                          [
                            0.2222222222222222,
                            "#7201a8"
                          ],
                          [
                            0.3333333333333333,
                            "#9c179e"
                          ],
                          [
                            0.4444444444444444,
                            "#bd3786"
                          ],
                          [
                            0.5555555555555556,
                            "#d8576b"
                          ],
                          [
                            0.6666666666666666,
                            "#ed7953"
                          ],
                          [
                            0.7777777777777778,
                            "#fb9f3a"
                          ],
                          [
                            0.8888888888888888,
                            "#fdca26"
                          ],
                          [
                            1,
                            "#f0f921"
                          ]
                        ],
                        "type": "histogram2d"
                      }
                    ],
                    "histogram2dcontour": [
                      {
                        "colorbar": {
                          "outlinewidth": 0,
                          "ticks": ""
                        },
                        "colorscale": [
                          [
                            0,
                            "#0d0887"
                          ],
                          [
                            0.1111111111111111,
                            "#46039f"
                          ],
                          [
                            0.2222222222222222,
                            "#7201a8"
                          ],
                          [
                            0.3333333333333333,
                            "#9c179e"
                          ],
                          [
                            0.4444444444444444,
                            "#bd3786"
                          ],
                          [
                            0.5555555555555556,
                            "#d8576b"
                          ],
                          [
                            0.6666666666666666,
                            "#ed7953"
                          ],
                          [
                            0.7777777777777778,
                            "#fb9f3a"
                          ],
                          [
                            0.8888888888888888,
                            "#fdca26"
                          ],
                          [
                            1,
                            "#f0f921"
                          ]
                        ],
                        "type": "histogram2dcontour"
                      }
                    ],
                    "mesh3d": [
                      {
                        "colorbar": {
                          "outlinewidth": 0,
                          "ticks": ""
                        },
                        "type": "mesh3d"
                      }
                    ],
                    "parcoords": [
                      {
                        "line": {
                          "colorbar": {
                            "outlinewidth": 0,
                            "ticks": ""
                          }
                        },
                        "type": "parcoords"
                      }
                    ],
                    "scatter": [
                      {
                        "marker": {
                          "colorbar": {
                            "outlinewidth": 0,
                            "ticks": ""
                          }
                        },
                        "type": "scatter"
                      }
                    ],
                    "scatter3d": [
                      {
                        "line": {
                          "colorbar": {
                            "outlinewidth": 0,
                            "ticks": ""
                          }
                        },
                        "marker": {
                          "colorbar": {
                            "outlinewidth": 0,
                            "ticks": ""
                          }
                        },
                        "type": "scatter3d"
                      }
                    ],
                    "scattercarpet": [
                      {
                        "marker": {
                          "colorbar": {
                            "outlinewidth": 0,
                            "ticks": ""
                          }
                        },
                        "type": "scattercarpet"
                      }
                    ],
                    "scattergeo": [
                      {
                        "marker": {
                          "colorbar": {
                            "outlinewidth": 0,
                            "ticks": ""
                          }
                        },
                        "type": "scattergeo"
                      }
                    ],
                    "scattergl": [
                      {
                        "marker": {
                          "colorbar": {
                            "outlinewidth": 0,
                            "ticks": ""
                          }
                        },
                        "type": "scattergl"
                      }
                    ],
                    "scattermapbox": [
                      {
                        "marker": {
                          "colorbar": {
                            "outlinewidth": 0,
                            "ticks": ""
                          }
                        },
                        "type": "scattermapbox"
                      }
                    ],
                    "scatterpolar": [
                      {
                        "marker": {
                          "colorbar": {
                            "outlinewidth": 0,
                            "ticks": ""
                          }
                        },
                        "type": "scatterpolar"
                      }
                    ],
                    "scatterpolargl": [
                      {
                        "marker": {
                          "colorbar": {
                            "outlinewidth": 0,
                            "ticks": ""
                          }
                        },
                        "type": "scatterpolargl"
                      }
                    ],
                    "scatterternary": [
                      {
                        "marker": {
                          "colorbar": {
                            "outlinewidth": 0,
                            "ticks": ""
                          }
                        },
                        "type": "scatterternary"
                      }
                    ],
                    "surface": [
                      {
                        "colorbar": {
                          "outlinewidth": 0,
                          "ticks": ""
                        },
                        "colorscale": [
                          [
                            0,
                            "#0d0887"
                          ],
                          [
                            0.1111111111111111,
                            "#46039f"
                          ],
                          [
                            0.2222222222222222,
                            "#7201a8"
                          ],
                          [
                            0.3333333333333333,
                            "#9c179e"
                          ],
                          [
                            0.4444444444444444,
                            "#bd3786"
                          ],
                          [
                            0.5555555555555556,
                            "#d8576b"
                          ],
                          [
                            0.6666666666666666,
                            "#ed7953"
                          ],
                          [
                            0.7777777777777778,
                            "#fb9f3a"
                          ],
                          [
                            0.8888888888888888,
                            "#fdca26"
                          ],
                          [
                            1,
                            "#f0f921"
                          ]
                        ],
                        "type": "surface"
                      }
                    ],
                    "table": [
                      {
                        "cells": {
                          "fill": {
                            "color": "#EBF0F8"
                          },
                          "line": {
                            "color": "white"
                          }
                        },
                        "header": {
                          "fill": {
                            "color": "#C8D4E3"
                          },
                          "line": {
                            "color": "white"
                          }
                        },
                        "type": "table"
                      }
                    ]
                  },
                  "layout": {
                    "annotationdefaults": {
                      "arrowcolor": "#2a3f5f",
                      "arrowhead": 0,
                      "arrowwidth": 1
                    },
                    "colorscale": {
                      "diverging": [
                        [
                          0,
                          "#8e0152"
                        ],
                        [
                          0.1,
                          "#c51b7d"
                        ],
                        [
                          0.2,
                          "#de77ae"
                        ],
                        [
                          0.3,
                          "#f1b6da"
                        ],
                        [
                          0.4,
                          "#fde0ef"
                        ],
                        [
                          0.5,
                          "#f7f7f7"
                        ],
                        [
                          0.6,
                          "#e6f5d0"
                        ],
                        [
                          0.7,
                          "#b8e186"
                        ],
                        [
                          0.8,
                          "#7fbc41"
                        ],
                        [
                          0.9,
                          "#4d9221"
                        ],
                        [
                          1,
                          "#276419"
                        ]
                      ],
                      "sequential": [
                        [
                          0,
                          "#0d0887"
                        ],
                        [
                          0.1111111111111111,
                          "#46039f"
                        ],
                        [
                          0.2222222222222222,
                          "#7201a8"
                        ],
                        [
                          0.3333333333333333,
                          "#9c179e"
                        ],
                        [
                          0.4444444444444444,
                          "#bd3786"
                        ],
                        [
                          0.5555555555555556,
                          "#d8576b"
                        ],
                        [
                          0.6666666666666666,
                          "#ed7953"
                        ],
                        [
                          0.7777777777777778,
                          "#fb9f3a"
                        ],
                        [
                          0.8888888888888888,
                          "#fdca26"
                        ],
                        [
                          1,
                          "#f0f921"
                        ]
                      ],
                      "sequentialminus": [
                        [
                          0,
                          "#0d0887"
                        ],
                        [
                          0.1111111111111111,
                          "#46039f"
                        ],
                        [
                          0.2222222222222222,
                          "#7201a8"
                        ],
                        [
                          0.3333333333333333,
                          "#9c179e"
                        ],
                        [
                          0.4444444444444444,
                          "#bd3786"
                        ],
                        [
                          0.5555555555555556,
                          "#d8576b"
                        ],
                        [
                          0.6666666666666666,
                          "#ed7953"
                        ],
                        [
                          0.7777777777777778,
                          "#fb9f3a"
                        ],
                        [
                          0.8888888888888888,
                          "#fdca26"
                        ],
                        [
                          1,
                          "#f0f921"
                        ]
                      ]
                    },
                    "colorway": [
                      "#636efa",
                      "#EF553B",
                      "#00cc96",
                      "#ab63fa",
                      "#FFA15A",
                      "#19d3f3",
                      "#FF6692",
                      "#B6E880",
                      "#FF97FF",
                      "#FECB52"
                    ],
                    "font": {
                      "color": "#2a3f5f"
                    },
                    "geo": {
                      "bgcolor": "white",
                      "lakecolor": "white",
                      "landcolor": "#E5ECF6",
                      "showlakes": true,
                      "showland": true,
                      "subunitcolor": "white"
                    },
                    "hoverlabel": {
                      "align": "left"
                    },
                    "hovermode": "closest",
                    "mapbox": {
                      "style": "light"
                    },
                    "paper_bgcolor": "white",
                    "plot_bgcolor": "#E5ECF6",
                    "polar": {
                      "angularaxis": {
                        "gridcolor": "white",
                        "linecolor": "white",
                        "ticks": ""
                      },
                      "bgcolor": "#E5ECF6",
                      "radialaxis": {
                        "gridcolor": "white",
                        "linecolor": "white",
                        "ticks": ""
                      }
                    },
                    "scene": {
                      "xaxis": {
                        "backgroundcolor": "#E5ECF6",
                        "gridcolor": "white",
                        "gridwidth": 2,
                        "linecolor": "white",
                        "showbackground": true,
                        "ticks": "",
                        "zerolinecolor": "white"
                      },
                      "yaxis": {
                        "backgroundcolor": "#E5ECF6",
                        "gridcolor": "white",
                        "gridwidth": 2,
                        "linecolor": "white",
                        "showbackground": true,
                        "ticks": "",
                        "zerolinecolor": "white"
                      },
                      "zaxis": {
                        "backgroundcolor": "#E5ECF6",
                        "gridcolor": "white",
                        "gridwidth": 2,
                        "linecolor": "white",
                        "showbackground": true,
                        "ticks": "",
                        "zerolinecolor": "white"
                      }
                    },
                    "shapedefaults": {
                      "line": {
                        "color": "#2a3f5f"
                      }
                    },
                    "ternary": {
                      "aaxis": {
                        "gridcolor": "white",
                        "linecolor": "white",
                        "ticks": ""
                      },
                      "baxis": {
                        "gridcolor": "white",
                        "linecolor": "white",
                        "ticks": ""
                      },
                      "bgcolor": "#E5ECF6",
                      "caxis": {
                        "gridcolor": "white",
                        "linecolor": "white",
                        "ticks": ""
                      }
                    },
                    "title": {
                      "x": 0.05
                    },
                    "xaxis": {
                      "automargin": true,
                      "gridcolor": "white",
                      "linecolor": "white",
                      "ticks": "",
                      "zerolinecolor": "white",
                      "zerolinewidth": 2
                    },
                    "yaxis": {
                      "automargin": true,
                      "gridcolor": "white",
                      "linecolor": "white",
                      "ticks": "",
                      "zerolinecolor": "white",
                      "zerolinewidth": 2
                    }
                  }
                },
                "title": {
                  "text": "소속그룹별 인지적 영역 수준 평균",
                  "x": 0.5
                },
                "xaxis": {
                  "autorange": true,
                  "range": [
                    -0.5,
                    4.5
                  ],
                  "tickfont": {
                    "size": 13
                  },
                  "type": "category"
                },
                "yaxis": {
                  "autorange": true,
                  "range": [
                    0,
                    3.6842105263157894
                  ],
                  "tickfont": {
                    "size": 13
                  },
                  "type": "linear"
                }
              }
            },
            "image/png": "[encoded data removed]",
            "text/html": [
              "<div>\n",
              "        \n",
              "        \n",
              "            <div id=\"e79619e8-ead8-4ae7-be02-8bc1a5f477f0\" class=\"plotly-graph-div\" style=\"height:525px; width:100%;\"></div>\n",
              "            <script type=\"text/javascript\">\n",
              "                require([\"plotly\"], function(Plotly) {\n",
              "                    window.PLOTLYENV=window.PLOTLYENV || {};\n",
              "                    \n",
              "                if (document.getElementById(\"e79619e8-ead8-4ae7-be02-8bc1a5f477f0\")) {\n",
              "                    Plotly.newPlot(\n",
              "                        'e79619e8-ead8-4ae7-be02-8bc1a5f477f0',\n",
              "                        [{\"marker\": {\"color\": \"rgb(55, 83, 109)\"}, \"name\": \"\\ud559\\uc2b5\\ub0b4\\uc6a9 A\", \"text\": [3.0, 2.43, 2.25, 2.33, 1.75], \"textposition\": \"auto\", \"type\": \"bar\", \"x\": [\"\\uad6d\\uc81c\\uae30\\uad6c\", \"\\ubbfc\\uac04\\uae30\\uc5c5\", \"\\uc11c\\uc6b8\\uc2dc\", \"\\uc11c\\uc6b8\\uc2dc \\uc0b0\\ud558\\uae30\\uad00\", \"\\uc911\\uc559\\ubd80\\ucc98/\\uc0b0\\ud558\\uae30\\uad00\"], \"y\": [3.0, 2.43, 2.25, 2.33, 1.75]}, {\"marker\": {\"color\": \"rgba(55, 83, 109, 0.8)\"}, \"name\": \"\\ud559\\uc2b5\\ub0b4\\uc6a9 B\", \"text\": [3.0, 2.57, 1.62, 2.67, 3.25], \"textposition\": \"auto\", \"type\": \"bar\", \"x\": [\"\\uad6d\\uc81c\\uae30\\uad6c\", \"\\ubbfc\\uac04\\uae30\\uc5c5\", \"\\uc11c\\uc6b8\\uc2dc\", \"\\uc11c\\uc6b8\\uc2dc \\uc0b0\\ud558\\uae30\\uad00\", \"\\uc911\\uc559\\ubd80\\ucc98/\\uc0b0\\ud558\\uae30\\uad00\"], \"y\": [3.0, 2.57, 1.62, 2.67, 3.25]}, {\"marker\": {\"color\": \"rgb(26, 118, 255)\"}, \"name\": \"\\ud559\\uc2b5\\ub0b4\\uc6a9 C\", \"text\": [2.0, 2.14, 1.5, 2.0, 2.5], \"textposition\": \"auto\", \"type\": \"bar\", \"x\": [\"\\uad6d\\uc81c\\uae30\\uad6c\", \"\\ubbfc\\uac04\\uae30\\uc5c5\", \"\\uc11c\\uc6b8\\uc2dc\", \"\\uc11c\\uc6b8\\uc2dc \\uc0b0\\ud558\\uae30\\uad00\", \"\\uc911\\uc559\\ubd80\\ucc98/\\uc0b0\\ud558\\uae30\\uad00\"], \"y\": [2.0, 2.14, 1.5, 2.0, 2.5]}, {\"marker\": {\"color\": \"rgba(26, 118, 255, 0.8)\"}, \"name\": \"\\ud559\\uc2b5\\ub0b4\\uc6a9 D\", \"text\": [3.0, 2.86, 1.62, 2.67, 3.5], \"textposition\": \"auto\", \"type\": \"bar\", \"x\": [\"\\uad6d\\uc81c\\uae30\\uad6c\", \"\\ubbfc\\uac04\\uae30\\uc5c5\", \"\\uc11c\\uc6b8\\uc2dc\", \"\\uc11c\\uc6b8\\uc2dc \\uc0b0\\ud558\\uae30\\uad00\", \"\\uc911\\uc559\\ubd80\\ucc98/\\uc0b0\\ud558\\uae30\\uad00\"], \"y\": [3.0, 2.86, 1.62, 2.67, 3.5]}],\n",
              "                        {\"bargap\": 0.15, \"bargroupgap\": 0.1, \"barmode\": \"group\", \"legend\": {\"orientation\": \"h\", \"x\": 0.2, \"y\": 1.1}, \"template\": {\"data\": {\"bar\": [{\"error_x\": {\"color\": \"#2a3f5f\"}, \"error_y\": {\"color\": \"#2a3f5f\"}, \"marker\": {\"line\": {\"color\": \"#E5ECF6\", \"width\": 0.5}}, \"type\": \"bar\"}], \"barpolar\": [{\"marker\": {\"line\": {\"color\": \"#E5ECF6\", \"width\": 0.5}}, \"type\": \"barpolar\"}], \"carpet\": [{\"aaxis\": {\"endlinecolor\": \"#2a3f5f\", \"gridcolor\": \"white\", \"linecolor\": \"white\", \"minorgridcolor\": \"white\", \"startlinecolor\": \"#2a3f5f\"}, \"baxis\": {\"endlinecolor\": \"#2a3f5f\", \"gridcolor\": \"white\", \"linecolor\": \"white\", \"minorgridcolor\": \"white\", \"startlinecolor\": \"#2a3f5f\"}, \"type\": \"carpet\"}], \"choropleth\": [{\"colorbar\": {\"outlinewidth\": 0, \"ticks\": \"\"}, \"type\": \"choropleth\"}], \"contour\": [{\"colorbar\": {\"outlinewidth\": 0, \"ticks\": \"\"}, \"colorscale\": [[0.0, \"#0d0887\"], [0.1111111111111111, \"#46039f\"], [0.2222222222222222, \"#7201a8\"], [0.3333333333333333, \"#9c179e\"], [0.4444444444444444, \"#bd3786\"], [0.5555555555555556, \"#d8576b\"], [0.6666666666666666, \"#ed7953\"], [0.7777777777777778, \"#fb9f3a\"], [0.8888888888888888, \"#fdca26\"], [1.0, \"#f0f921\"]], \"type\": \"contour\"}], \"contourcarpet\": [{\"colorbar\": {\"outlinewidth\": 0, \"ticks\": \"\"}, \"type\": \"contourcarpet\"}], \"heatmap\": [{\"colorbar\": {\"outlinewidth\": 0, \"ticks\": \"\"}, \"colorscale\": [[0.0, \"#0d0887\"], [0.1111111111111111, \"#46039f\"], [0.2222222222222222, \"#7201a8\"], [0.3333333333333333, \"#9c179e\"], [0.4444444444444444, \"#bd3786\"], [0.5555555555555556, \"#d8576b\"], [0.6666666666666666, \"#ed7953\"], [0.7777777777777778, \"#fb9f3a\"], [0.8888888888888888, \"#fdca26\"], [1.0, \"#f0f921\"]], \"type\": \"heatmap\"}], \"heatmapgl\": [{\"colorbar\": {\"outlinewidth\": 0, \"ticks\": \"\"}, \"colorscale\": [[0.0, \"#0d0887\"], [0.1111111111111111, \"#46039f\"], [0.2222222222222222, \"#7201a8\"], [0.3333333333333333, \"#9c179e\"], [0.4444444444444444, \"#bd3786\"], [0.5555555555555556, \"#d8576b\"], [0.6666666666666666, \"#ed7953\"], [0.7777777777777778, \"#fb9f3a\"], [0.8888888888888888, \"#fdca26\"], [1.0, \"#f0f921\"]], \"type\": \"heatmapgl\"}], \"histogram\": [{\"marker\": {\"colorbar\": {\"outlinewidth\": 0, \"ticks\": \"\"}}, \"type\": \"histogram\"}], \"histogram2d\": [{\"colorbar\": {\"outlinewidth\": 0, \"ticks\": \"\"}, \"colorscale\": [[0.0, \"#0d0887\"], [0.1111111111111111, \"#46039f\"], [0.2222222222222222, \"#7201a8\"], [0.3333333333333333, \"#9c179e\"], [0.4444444444444444, \"#bd3786\"], [0.5555555555555556, \"#d8576b\"], [0.6666666666666666, \"#ed7953\"], [0.7777777777777778, \"#fb9f3a\"], [0.8888888888888888, \"#fdca26\"], [1.0, \"#f0f921\"]], \"type\": \"histogram2d\"}], \"histogram2dcontour\": [{\"colorbar\": {\"outlinewidth\": 0, \"ticks\": \"\"}, \"colorscale\": [[0.0, \"#0d0887\"], [0.1111111111111111, \"#46039f\"], [0.2222222222222222, \"#7201a8\"], [0.3333333333333333, \"#9c179e\"], [0.4444444444444444, \"#bd3786\"], [0.5555555555555556, \"#d8576b\"], [0.6666666666666666, \"#ed7953\"], [0.7777777777777778, \"#fb9f3a\"], [0.8888888888888888, \"#fdca26\"], [1.0, \"#f0f921\"]], \"type\": \"histogram2dcontour\"}], \"mesh3d\": [{\"colorbar\": {\"outlinewidth\": 0, \"ticks\": \"\"}, \"type\": \"mesh3d\"}], \"parcoords\": [{\"line\": {\"colorbar\": {\"outlinewidth\": 0, \"ticks\": \"\"}}, \"type\": \"parcoords\"}], \"scatter\": [{\"marker\": {\"colorbar\": {\"outlinewidth\": 0, \"ticks\": \"\"}}, \"type\": \"scatter\"}], \"scatter3d\": [{\"line\": {\"colorbar\": {\"outlinewidth\": 0, \"ticks\": \"\"}}, \"marker\": {\"colorbar\": {\"outlinewidth\": 0, \"ticks\": \"\"}}, \"type\": \"scatter3d\"}], \"scattercarpet\": [{\"marker\": {\"colorbar\": {\"outlinewidth\": 0, \"ticks\": \"\"}}, \"type\": \"scattercarpet\"}], \"scattergeo\": [{\"marker\": {\"colorbar\": {\"outlinewidth\": 0, \"ticks\": \"\"}}, \"type\": \"scattergeo\"}], \"scattergl\": [{\"marker\": {\"colorbar\": {\"outlinewidth\": 0, \"ticks\": \"\"}}, \"type\": \"scattergl\"}], \"scattermapbox\": [{\"marker\": {\"colorbar\": {\"outlinewidth\": 0, \"ticks\": \"\"}}, \"type\": \"scattermapbox\"}], \"scatterpolar\": [{\"marker\": {\"colorbar\": {\"outlinewidth\": 0, \"ticks\": \"\"}}, \"type\": \"scatterpolar\"}], \"scatterpolargl\": [{\"marker\": {\"colorbar\": {\"outlinewidth\": 0, \"ticks\": \"\"}}, \"type\": \"scatterpolargl\"}], \"scatterternary\": [{\"marker\": {\"colorbar\": {\"outlinewidth\": 0, \"ticks\": \"\"}}, \"type\": \"scatterternary\"}], \"surface\": [{\"colorbar\": {\"outlinewidth\": 0, \"ticks\": \"\"}, \"colorscale\": [[0.0, \"#0d0887\"], [0.1111111111111111, \"#46039f\"], [0.2222222222222222, \"#7201a8\"], [0.3333333333333333, \"#9c179e\"], [0.4444444444444444, \"#bd3786\"], [0.5555555555555556, \"#d8576b\"], [0.6666666666666666, \"#ed7953\"], [0.7777777777777778, \"#fb9f3a\"], [0.8888888888888888, \"#fdca26\"], [1.0, \"#f0f921\"]], \"type\": \"surface\"}], \"table\": [{\"cells\": {\"fill\": {\"color\": \"#EBF0F8\"}, \"line\": {\"color\": \"white\"}}, \"header\": {\"fill\": {\"color\": \"#C8D4E3\"}, \"line\": {\"color\": \"white\"}}, \"type\": \"table\"}]}, \"layout\": {\"annotationdefaults\": {\"arrowcolor\": \"#2a3f5f\", \"arrowhead\": 0, \"arrowwidth\": 1}, \"colorscale\": {\"diverging\": [[0, \"#8e0152\"], [0.1, \"#c51b7d\"], [0.2, \"#de77ae\"], [0.3, \"#f1b6da\"], [0.4, \"#fde0ef\"], [0.5, \"#f7f7f7\"], [0.6, \"#e6f5d0\"], [0.7, \"#b8e186\"], [0.8, \"#7fbc41\"], [0.9, \"#4d9221\"], [1, \"#276419\"]], \"sequential\": [[0.0, \"#0d0887\"], [0.1111111111111111, \"#46039f\"], [0.2222222222222222, \"#7201a8\"], [0.3333333333333333, \"#9c179e\"], [0.4444444444444444, \"#bd3786\"], [0.5555555555555556, \"#d8576b\"], [0.6666666666666666, \"#ed7953\"], [0.7777777777777778, \"#fb9f3a\"], [0.8888888888888888, \"#fdca26\"], [1.0, \"#f0f921\"]], \"sequentialminus\": [[0.0, \"#0d0887\"], [0.1111111111111111, \"#46039f\"], [0.2222222222222222, \"#7201a8\"], [0.3333333333333333, \"#9c179e\"], [0.4444444444444444, \"#bd3786\"], [0.5555555555555556, \"#d8576b\"], [0.6666666666666666, \"#ed7953\"], [0.7777777777777778, \"#fb9f3a\"], [0.8888888888888888, \"#fdca26\"], [1.0, \"#f0f921\"]]}, \"colorway\": [\"#636efa\", \"#EF553B\", \"#00cc96\", \"#ab63fa\", \"#FFA15A\", \"#19d3f3\", \"#FF6692\", \"#B6E880\", \"#FF97FF\", \"#FECB52\"], \"font\": {\"color\": \"#2a3f5f\"}, \"geo\": {\"bgcolor\": \"white\", \"lakecolor\": \"white\", \"landcolor\": \"#E5ECF6\", \"showlakes\": true, \"showland\": true, \"subunitcolor\": \"white\"}, \"hoverlabel\": {\"align\": \"left\"}, \"hovermode\": \"closest\", \"mapbox\": {\"style\": \"light\"}, \"paper_bgcolor\": \"white\", \"plot_bgcolor\": \"#E5ECF6\", \"polar\": {\"angularaxis\": {\"gridcolor\": \"white\", \"linecolor\": \"white\", \"ticks\": \"\"}, \"bgcolor\": \"#E5ECF6\", \"radialaxis\": {\"gridcolor\": \"white\", \"linecolor\": \"white\", \"ticks\": \"\"}}, \"scene\": {\"xaxis\": {\"backgroundcolor\": \"#E5ECF6\", \"gridcolor\": \"white\", \"gridwidth\": 2, \"linecolor\": \"white\", \"showbackground\": true, \"ticks\": \"\", \"zerolinecolor\": \"white\"}, \"yaxis\": {\"backgroundcolor\": \"#E5ECF6\", \"gridcolor\": \"white\", \"gridwidth\": 2, \"linecolor\": \"white\", \"showbackground\": true, \"ticks\": \"\", \"zerolinecolor\": \"white\"}, \"zaxis\": {\"backgroundcolor\": \"#E5ECF6\", \"gridcolor\": \"white\", \"gridwidth\": 2, \"linecolor\": \"white\", \"showbackground\": true, \"ticks\": \"\", \"zerolinecolor\": \"white\"}}, \"shapedefaults\": {\"line\": {\"color\": \"#2a3f5f\"}}, \"ternary\": {\"aaxis\": {\"gridcolor\": \"white\", \"linecolor\": \"white\", \"ticks\": \"\"}, \"baxis\": {\"gridcolor\": \"white\", \"linecolor\": \"white\", \"ticks\": \"\"}, \"bgcolor\": \"#E5ECF6\", \"caxis\": {\"gridcolor\": \"white\", \"linecolor\": \"white\", \"ticks\": \"\"}}, \"title\": {\"x\": 0.05}, \"xaxis\": {\"automargin\": true, \"gridcolor\": \"white\", \"linecolor\": \"white\", \"ticks\": \"\", \"zerolinecolor\": \"white\", \"zerolinewidth\": 2}, \"yaxis\": {\"automargin\": true, \"gridcolor\": \"white\", \"linecolor\": \"white\", \"ticks\": \"\", \"zerolinecolor\": \"white\", \"zerolinewidth\": 2}}}, \"title\": {\"text\": \"\\uc18c\\uc18d\\uadf8\\ub8f9\\ubcc4 \\uc778\\uc9c0\\uc801 \\uc601\\uc5ed \\uc218\\uc900 \\ud3c9\\uade0\", \"x\": 0.5}, \"xaxis\": {\"tickfont\": {\"size\": 13}}, \"yaxis\": {\"tickfont\": {\"size\": 13}}},\n",
              "                        {\"responsive\": true}\n",
              "                    ).then(function(){\n",
              "                            \n",
              "var gd = document.getElementById('e79619e8-ead8-4ae7-be02-8bc1a5f477f0');\n",
              "var x = new MutationObserver(function (mutations, observer) {{\n",
              "        var display = window.getComputedStyle(gd).display;\n",
              "        if (!display || display === 'none') {{\n",
              "            console.log([gd, 'removed!']);\n",
              "            Plotly.purge(gd);\n",
              "            observer.disconnect();\n",
              "        }}\n",
              "}});\n",
              "\n",
              "// Listen for the removal of the full notebook cells\n",
              "var notebookContainer = gd.closest('#notebook-container');\n",
              "if (notebookContainer) {{\n",
              "    x.observe(notebookContainer, {childList: true});\n",
              "}}\n",
              "\n",
              "// Listen for the clearing of the current output cell\n",
              "var outputEl = gd.closest('.output');\n",
              "if (outputEl) {{\n",
              "    x.observe(outputEl, {childList: true});\n",
              "}}\n",
              "\n",
              "                        })\n",
              "                };\n",
              "                });\n",
              "            </script>\n",
              "        </div>"
            ]
          },
          "metadata": {
            "tags": []
          }
        }
      ]
    },
    {
      "cell_type": "code",
      "metadata": {
        "colab_type": "code",
        "id": "PHDkhrKR1SVE",
        "colab": {}
      },
      "source": [
        ""
      ],
      "execution_count": 0,
      "outputs": []
    },
    {
      "cell_type": "markdown",
      "metadata": {
        "colab_type": "text",
        "id": "px8NZJB21ksj"
      },
      "source": [
        "### 소속별 기술적 영역 수준 평균"
      ]
    },
    {
      "cell_type": "code",
      "metadata": {
        "colab_type": "code",
        "id": "MSHjHbGf1qTC",
        "outputId": "87f96e12-3c8a-4ba2-c774-b7ca388ea6c4",
        "colab": {
          "base_uri": "https://localhost:8080/",
          "height": 542
        }
      },
      "source": [
        "fig = go.Figure(data = [\n",
        "    go.Bar(\n",
        "      x=pre_group['기술적 (Skill) 영역 - 학습내용 A'].mean().index,\n",
        "      y=pre_group['기술적 (Skill) 영역 - 학습내용 A'].mean().round(2), \n",
        "      name='학습내용 A', \n",
        "      marker_color='rgb(55, 83, 109)',\n",
        "      text=pre_group['기술적 (Skill) 영역 - 학습내용 A'].mean().round(2),\n",
        "      textposition='auto'),\n",
        "    go.Bar(\n",
        "      x=pre_group['기술적 (Skill) 영역 - 학습내용 B'].mean().index,\n",
        "      y=pre_group['기술적 (Skill) 영역 - 학습내용 B'].mean().round(2), \n",
        "      name='학습내용 B', \n",
        "      marker_color='rgba(55, 83, 109, 0.8)',\n",
        "      text=pre_group['기술적 (Skill) 영역 - 학습내용 B'].mean().round(2),\n",
        "      textposition='auto'),\n",
        "    go.Bar(\n",
        "      x=pre_group['기술적 (Skill) 영역 - 학습내용 C'].mean().index,\n",
        "      y=pre_group['기술적 (Skill) 영역 - 학습내용 C'].mean().round(2), \n",
        "      name='학습내용 C', \n",
        "      marker_color='rgb(26, 118, 255)',\n",
        "      text=pre_group['기술적 (Skill) 영역 - 학습내용 C'].mean().round(2),\n",
        "      textposition='auto'),\n",
        "    go.Bar(\n",
        "      x=pre_group['기술적 (Skill) 영역 - 학습내용 D'].mean().index,\n",
        "      y=pre_group['기술적 (Skill) 영역 - 학습내용 D'].mean().round(2), \n",
        "      name='학습내용 D', \n",
        "      marker_color='rgba(26, 118, 255, 0.8)',\n",
        "      text=pre_group['기술적 (Skill) 영역 - 학습내용 D'].mean().round(2),\n",
        "      textposition='auto')\n",
        "    ]\n",
        ")\n",
        "\n",
        "fig.update_layout(\n",
        "    title=dict(text=\"소속그룹별 기술적 영역 수준 평균\", x = 0.5),\n",
        "    legend=dict(x=0.2, y=1.1, orientation=\"h\"),\n",
        "    barmode='group',\n",
        "    bargap=0.15,\n",
        "    bargroupgap=0.1,\n",
        "    # width=1500,\n",
        "    # height=800,\n",
        ")\n",
        "\n",
        "fig.update_xaxes(tickfont_size=13)\n",
        "fig.update_yaxes(tickfont_size=13)\n",
        "\n",
        "fig.show()"
      ],
      "execution_count": 0,
      "outputs": [
        {
          "output_type": "display_data",
          "data": {
            "application/vnd.plotly.v1+json": {
              "config": {
                "plotlyServerURL": "https://plot.ly"
              },
              "data": [
                {
                  "marker": {
                    "color": "rgb(55, 83, 109)"
                  },
                  "name": "학습내용 A",
                  "text": [
                    3,
                    2.43,
                    1.88,
                    2.33,
                    2
                  ],
                  "textposition": "auto",
                  "type": "bar",
                  "x": [
                    "국제기구",
                    "민간기업",
                    "서울시",
                    "서울시 산하기관",
                    "중앙부처/산하기관"
                  ],
                  "y": [
                    3,
                    2.43,
                    1.88,
                    2.33,
                    2
                  ]
                },
                {
                  "marker": {
                    "color": "rgba(55, 83, 109, 0.8)"
                  },
                  "name": "학습내용 B",
                  "text": [
                    3,
                    2.57,
                    1.38,
                    2.67,
                    3
                  ],
                  "textposition": "auto",
                  "type": "bar",
                  "x": [
                    "국제기구",
                    "민간기업",
                    "서울시",
                    "서울시 산하기관",
                    "중앙부처/산하기관"
                  ],
                  "y": [
                    3,
                    2.57,
                    1.38,
                    2.67,
                    3
                  ]
                },
                {
                  "marker": {
                    "color": "rgb(26, 118, 255)"
                  },
                  "name": "학습내용 C",
                  "text": [
                    3,
                    2.29,
                    1.5,
                    2.33,
                    2
                  ],
                  "textposition": "auto",
                  "type": "bar",
                  "x": [
                    "국제기구",
                    "민간기업",
                    "서울시",
                    "서울시 산하기관",
                    "중앙부처/산하기관"
                  ],
                  "y": [
                    3,
                    2.29,
                    1.5,
                    2.33,
                    2
                  ]
                },
                {
                  "marker": {
                    "color": "rgba(26, 118, 255, 0.8)"
                  },
                  "name": "학습내용 D",
                  "text": [
                    3,
                    3,
                    1.62,
                    2.33,
                    3.25
                  ],
                  "textposition": "auto",
                  "type": "bar",
                  "x": [
                    "국제기구",
                    "민간기업",
                    "서울시",
                    "서울시 산하기관",
                    "중앙부처/산하기관"
                  ],
                  "y": [
                    3,
                    3,
                    1.62,
                    2.33,
                    3.25
                  ]
                }
              ],
              "layout": {
                "autosize": true,
                "bargap": 0.15,
                "bargroupgap": 0.1,
                "barmode": "group",
                "legend": {
                  "orientation": "h",
                  "x": 0.2,
                  "y": 1.1
                },
                "template": {
                  "data": {
                    "bar": [
                      {
                        "error_x": {
                          "color": "#2a3f5f"
                        },
                        "error_y": {
                          "color": "#2a3f5f"
                        },
                        "marker": {
                          "line": {
                            "color": "#E5ECF6",
                            "width": 0.5
                          }
                        },
                        "type": "bar"
                      }
                    ],
                    "barpolar": [
                      {
                        "marker": {
                          "line": {
                            "color": "#E5ECF6",
                            "width": 0.5
                          }
                        },
                        "type": "barpolar"
                      }
                    ],
                    "carpet": [
                      {
                        "aaxis": {
                          "endlinecolor": "#2a3f5f",
                          "gridcolor": "white",
                          "linecolor": "white",
                          "minorgridcolor": "white",
                          "startlinecolor": "#2a3f5f"
                        },
                        "baxis": {
                          "endlinecolor": "#2a3f5f",
                          "gridcolor": "white",
                          "linecolor": "white",
                          "minorgridcolor": "white",
                          "startlinecolor": "#2a3f5f"
                        },
                        "type": "carpet"
                      }
                    ],
                    "choropleth": [
                      {
                        "colorbar": {
                          "outlinewidth": 0,
                          "ticks": ""
                        },
                        "type": "choropleth"
                      }
                    ],
                    "contour": [
                      {
                        "colorbar": {
                          "outlinewidth": 0,
                          "ticks": ""
                        },
                        "colorscale": [
                          [
                            0,
                            "#0d0887"
                          ],
                          [
                            0.1111111111111111,
                            "#46039f"
                          ],
                          [
                            0.2222222222222222,
                            "#7201a8"
                          ],
                          [
                            0.3333333333333333,
                            "#9c179e"
                          ],
                          [
                            0.4444444444444444,
                            "#bd3786"
                          ],
                          [
                            0.5555555555555556,
                            "#d8576b"
                          ],
                          [
                            0.6666666666666666,
                            "#ed7953"
                          ],
                          [
                            0.7777777777777778,
                            "#fb9f3a"
                          ],
                          [
                            0.8888888888888888,
                            "#fdca26"
                          ],
                          [
                            1,
                            "#f0f921"
                          ]
                        ],
                        "type": "contour"
                      }
                    ],
                    "contourcarpet": [
                      {
                        "colorbar": {
                          "outlinewidth": 0,
                          "ticks": ""
                        },
                        "type": "contourcarpet"
                      }
                    ],
                    "heatmap": [
                      {
                        "colorbar": {
                          "outlinewidth": 0,
                          "ticks": ""
                        },
                        "colorscale": [
                          [
                            0,
                            "#0d0887"
                          ],
                          [
                            0.1111111111111111,
                            "#46039f"
                          ],
                          [
                            0.2222222222222222,
                            "#7201a8"
                          ],
                          [
                            0.3333333333333333,
                            "#9c179e"
                          ],
                          [
                            0.4444444444444444,
                            "#bd3786"
                          ],
                          [
                            0.5555555555555556,
                            "#d8576b"
                          ],
                          [
                            0.6666666666666666,
                            "#ed7953"
                          ],
                          [
                            0.7777777777777778,
                            "#fb9f3a"
                          ],
                          [
                            0.8888888888888888,
                            "#fdca26"
                          ],
                          [
                            1,
                            "#f0f921"
                          ]
                        ],
                        "type": "heatmap"
                      }
                    ],
                    "heatmapgl": [
                      {
                        "colorbar": {
                          "outlinewidth": 0,
                          "ticks": ""
                        },
                        "colorscale": [
                          [
                            0,
                            "#0d0887"
                          ],
                          [
                            0.1111111111111111,
                            "#46039f"
                          ],
                          [
                            0.2222222222222222,
                            "#7201a8"
                          ],
                          [
                            0.3333333333333333,
                            "#9c179e"
                          ],
                          [
                            0.4444444444444444,
                            "#bd3786"
                          ],
                          [
                            0.5555555555555556,
                            "#d8576b"
                          ],
                          [
                            0.6666666666666666,
                            "#ed7953"
                          ],
                          [
                            0.7777777777777778,
                            "#fb9f3a"
                          ],
                          [
                            0.8888888888888888,
                            "#fdca26"
                          ],
                          [
                            1,
                            "#f0f921"
                          ]
                        ],
                        "type": "heatmapgl"
                      }
                    ],
                    "histogram": [
                      {
                        "marker": {
                          "colorbar": {
                            "outlinewidth": 0,
                            "ticks": ""
                          }
                        },
                        "type": "histogram"
                      }
                    ],
                    "histogram2d": [
                      {
                        "colorbar": {
                          "outlinewidth": 0,
                          "ticks": ""
                        },
                        "colorscale": [
                          [
                            0,
                            "#0d0887"
                          ],
                          [
                            0.1111111111111111,
                            "#46039f"
                          ],
                          [
                            0.2222222222222222,
                            "#7201a8"
                          ],
                          [
                            0.3333333333333333,
                            "#9c179e"
                          ],
                          [
                            0.4444444444444444,
                            "#bd3786"
                          ],
                          [
                            0.5555555555555556,
                            "#d8576b"
                          ],
                          [
                            0.6666666666666666,
                            "#ed7953"
                          ],
                          [
                            0.7777777777777778,
                            "#fb9f3a"
                          ],
                          [
                            0.8888888888888888,
                            "#fdca26"
                          ],
                          [
                            1,
                            "#f0f921"
                          ]
                        ],
                        "type": "histogram2d"
                      }
                    ],
                    "histogram2dcontour": [
                      {
                        "colorbar": {
                          "outlinewidth": 0,
                          "ticks": ""
                        },
                        "colorscale": [
                          [
                            0,
                            "#0d0887"
                          ],
                          [
                            0.1111111111111111,
                            "#46039f"
                          ],
                          [
                            0.2222222222222222,
                            "#7201a8"
                          ],
                          [
                            0.3333333333333333,
                            "#9c179e"
                          ],
                          [
                            0.4444444444444444,
                            "#bd3786"
                          ],
                          [
                            0.5555555555555556,
                            "#d8576b"
                          ],
                          [
                            0.6666666666666666,
                            "#ed7953"
                          ],
                          [
                            0.7777777777777778,
                            "#fb9f3a"
                          ],
                          [
                            0.8888888888888888,
                            "#fdca26"
                          ],
                          [
                            1,
                            "#f0f921"
                          ]
                        ],
                        "type": "histogram2dcontour"
                      }
                    ],
                    "mesh3d": [
                      {
                        "colorbar": {
                          "outlinewidth": 0,
                          "ticks": ""
                        },
                        "type": "mesh3d"
                      }
                    ],
                    "parcoords": [
                      {
                        "line": {
                          "colorbar": {
                            "outlinewidth": 0,
                            "ticks": ""
                          }
                        },
                        "type": "parcoords"
                      }
                    ],
                    "scatter": [
                      {
                        "marker": {
                          "colorbar": {
                            "outlinewidth": 0,
                            "ticks": ""
                          }
                        },
                        "type": "scatter"
                      }
                    ],
                    "scatter3d": [
                      {
                        "line": {
                          "colorbar": {
                            "outlinewidth": 0,
                            "ticks": ""
                          }
                        },
                        "marker": {
                          "colorbar": {
                            "outlinewidth": 0,
                            "ticks": ""
                          }
                        },
                        "type": "scatter3d"
                      }
                    ],
                    "scattercarpet": [
                      {
                        "marker": {
                          "colorbar": {
                            "outlinewidth": 0,
                            "ticks": ""
                          }
                        },
                        "type": "scattercarpet"
                      }
                    ],
                    "scattergeo": [
                      {
                        "marker": {
                          "colorbar": {
                            "outlinewidth": 0,
                            "ticks": ""
                          }
                        },
                        "type": "scattergeo"
                      }
                    ],
                    "scattergl": [
                      {
                        "marker": {
                          "colorbar": {
                            "outlinewidth": 0,
                            "ticks": ""
                          }
                        },
                        "type": "scattergl"
                      }
                    ],
                    "scattermapbox": [
                      {
                        "marker": {
                          "colorbar": {
                            "outlinewidth": 0,
                            "ticks": ""
                          }
                        },
                        "type": "scattermapbox"
                      }
                    ],
                    "scatterpolar": [
                      {
                        "marker": {
                          "colorbar": {
                            "outlinewidth": 0,
                            "ticks": ""
                          }
                        },
                        "type": "scatterpolar"
                      }
                    ],
                    "scatterpolargl": [
                      {
                        "marker": {
                          "colorbar": {
                            "outlinewidth": 0,
                            "ticks": ""
                          }
                        },
                        "type": "scatterpolargl"
                      }
                    ],
                    "scatterternary": [
                      {
                        "marker": {
                          "colorbar": {
                            "outlinewidth": 0,
                            "ticks": ""
                          }
                        },
                        "type": "scatterternary"
                      }
                    ],
                    "surface": [
                      {
                        "colorbar": {
                          "outlinewidth": 0,
                          "ticks": ""
                        },
                        "colorscale": [
                          [
                            0,
                            "#0d0887"
                          ],
                          [
                            0.1111111111111111,
                            "#46039f"
                          ],
                          [
                            0.2222222222222222,
                            "#7201a8"
                          ],
                          [
                            0.3333333333333333,
                            "#9c179e"
                          ],
                          [
                            0.4444444444444444,
                            "#bd3786"
                          ],
                          [
                            0.5555555555555556,
                            "#d8576b"
                          ],
                          [
                            0.6666666666666666,
                            "#ed7953"
                          ],
                          [
                            0.7777777777777778,
                            "#fb9f3a"
                          ],
                          [
                            0.8888888888888888,
                            "#fdca26"
                          ],
                          [
                            1,
                            "#f0f921"
                          ]
                        ],
                        "type": "surface"
                      }
                    ],
                    "table": [
                      {
                        "cells": {
                          "fill": {
                            "color": "#EBF0F8"
                          },
                          "line": {
                            "color": "white"
                          }
                        },
                        "header": {
                          "fill": {
                            "color": "#C8D4E3"
                          },
                          "line": {
                            "color": "white"
                          }
                        },
                        "type": "table"
                      }
                    ]
                  },
                  "layout": {
                    "annotationdefaults": {
                      "arrowcolor": "#2a3f5f",
                      "arrowhead": 0,
                      "arrowwidth": 1
                    },
                    "colorscale": {
                      "diverging": [
                        [
                          0,
                          "#8e0152"
                        ],
                        [
                          0.1,
                          "#c51b7d"
                        ],
                        [
                          0.2,
                          "#de77ae"
                        ],
                        [
                          0.3,
                          "#f1b6da"
                        ],
                        [
                          0.4,
                          "#fde0ef"
                        ],
                        [
                          0.5,
                          "#f7f7f7"
                        ],
                        [
                          0.6,
                          "#e6f5d0"
                        ],
                        [
                          0.7,
                          "#b8e186"
                        ],
                        [
                          0.8,
                          "#7fbc41"
                        ],
                        [
                          0.9,
                          "#4d9221"
                        ],
                        [
                          1,
                          "#276419"
                        ]
                      ],
                      "sequential": [
                        [
                          0,
                          "#0d0887"
                        ],
                        [
                          0.1111111111111111,
                          "#46039f"
                        ],
                        [
                          0.2222222222222222,
                          "#7201a8"
                        ],
                        [
                          0.3333333333333333,
                          "#9c179e"
                        ],
                        [
                          0.4444444444444444,
                          "#bd3786"
                        ],
                        [
                          0.5555555555555556,
                          "#d8576b"
                        ],
                        [
                          0.6666666666666666,
                          "#ed7953"
                        ],
                        [
                          0.7777777777777778,
                          "#fb9f3a"
                        ],
                        [
                          0.8888888888888888,
                          "#fdca26"
                        ],
                        [
                          1,
                          "#f0f921"
                        ]
                      ],
                      "sequentialminus": [
                        [
                          0,
                          "#0d0887"
                        ],
                        [
                          0.1111111111111111,
                          "#46039f"
                        ],
                        [
                          0.2222222222222222,
                          "#7201a8"
                        ],
                        [
                          0.3333333333333333,
                          "#9c179e"
                        ],
                        [
                          0.4444444444444444,
                          "#bd3786"
                        ],
                        [
                          0.5555555555555556,
                          "#d8576b"
                        ],
                        [
                          0.6666666666666666,
                          "#ed7953"
                        ],
                        [
                          0.7777777777777778,
                          "#fb9f3a"
                        ],
                        [
                          0.8888888888888888,
                          "#fdca26"
                        ],
                        [
                          1,
                          "#f0f921"
                        ]
                      ]
                    },
                    "colorway": [
                      "#636efa",
                      "#EF553B",
                      "#00cc96",
                      "#ab63fa",
                      "#FFA15A",
                      "#19d3f3",
                      "#FF6692",
                      "#B6E880",
                      "#FF97FF",
                      "#FECB52"
                    ],
                    "font": {
                      "color": "#2a3f5f"
                    },
                    "geo": {
                      "bgcolor": "white",
                      "lakecolor": "white",
                      "landcolor": "#E5ECF6",
                      "showlakes": true,
                      "showland": true,
                      "subunitcolor": "white"
                    },
                    "hoverlabel": {
                      "align": "left"
                    },
                    "hovermode": "closest",
                    "mapbox": {
                      "style": "light"
                    },
                    "paper_bgcolor": "white",
                    "plot_bgcolor": "#E5ECF6",
                    "polar": {
                      "angularaxis": {
                        "gridcolor": "white",
                        "linecolor": "white",
                        "ticks": ""
                      },
                      "bgcolor": "#E5ECF6",
                      "radialaxis": {
                        "gridcolor": "white",
                        "linecolor": "white",
                        "ticks": ""
                      }
                    },
                    "scene": {
                      "xaxis": {
                        "backgroundcolor": "#E5ECF6",
                        "gridcolor": "white",
                        "gridwidth": 2,
                        "linecolor": "white",
                        "showbackground": true,
                        "ticks": "",
                        "zerolinecolor": "white"
                      },
                      "yaxis": {
                        "backgroundcolor": "#E5ECF6",
                        "gridcolor": "white",
                        "gridwidth": 2,
                        "linecolor": "white",
                        "showbackground": true,
                        "ticks": "",
                        "zerolinecolor": "white"
                      },
                      "zaxis": {
                        "backgroundcolor": "#E5ECF6",
                        "gridcolor": "white",
                        "gridwidth": 2,
                        "linecolor": "white",
                        "showbackground": true,
                        "ticks": "",
                        "zerolinecolor": "white"
                      }
                    },
                    "shapedefaults": {
                      "line": {
                        "color": "#2a3f5f"
                      }
                    },
                    "ternary": {
                      "aaxis": {
                        "gridcolor": "white",
                        "linecolor": "white",
                        "ticks": ""
                      },
                      "baxis": {
                        "gridcolor": "white",
                        "linecolor": "white",
                        "ticks": ""
                      },
                      "bgcolor": "#E5ECF6",
                      "caxis": {
                        "gridcolor": "white",
                        "linecolor": "white",
                        "ticks": ""
                      }
                    },
                    "title": {
                      "x": 0.05
                    },
                    "xaxis": {
                      "automargin": true,
                      "gridcolor": "white",
                      "linecolor": "white",
                      "ticks": "",
                      "zerolinecolor": "white",
                      "zerolinewidth": 2
                    },
                    "yaxis": {
                      "automargin": true,
                      "gridcolor": "white",
                      "linecolor": "white",
                      "ticks": "",
                      "zerolinecolor": "white",
                      "zerolinewidth": 2
                    }
                  }
                },
                "title": {
                  "text": "소속그룹별 기술적 영역 수준 평균",
                  "x": 0.5
                },
                "xaxis": {
                  "autorange": true,
                  "range": [
                    -0.5,
                    4.5
                  ],
                  "tickfont": {
                    "size": 13
                  },
                  "type": "category"
                },
                "yaxis": {
                  "autorange": true,
                  "range": [
                    0,
                    3.4210526315789473
                  ],
                  "tickfont": {
                    "size": 13
                  },
                  "type": "linear"
                }
              }
            },
            "image/png": "[encoded data removed]",
            "text/html": [
              "<div>\n",
              "        \n",
              "        \n",
              "            <div id=\"9772bbfe-57e8-46a9-a6f2-8fdb14bf3c3f\" class=\"plotly-graph-div\" style=\"height:525px; width:100%;\"></div>\n",
              "            <script type=\"text/javascript\">\n",
              "                require([\"plotly\"], function(Plotly) {\n",
              "                    window.PLOTLYENV=window.PLOTLYENV || {};\n",
              "                    \n",
              "                if (document.getElementById(\"9772bbfe-57e8-46a9-a6f2-8fdb14bf3c3f\")) {\n",
              "                    Plotly.newPlot(\n",
              "                        '9772bbfe-57e8-46a9-a6f2-8fdb14bf3c3f',\n",
              "                        [{\"marker\": {\"color\": \"rgb(55, 83, 109)\"}, \"name\": \"\\ud559\\uc2b5\\ub0b4\\uc6a9 A\", \"text\": [3.0, 2.43, 1.88, 2.33, 2.0], \"textposition\": \"auto\", \"type\": \"bar\", \"x\": [\"\\uad6d\\uc81c\\uae30\\uad6c\", \"\\ubbfc\\uac04\\uae30\\uc5c5\", \"\\uc11c\\uc6b8\\uc2dc\", \"\\uc11c\\uc6b8\\uc2dc \\uc0b0\\ud558\\uae30\\uad00\", \"\\uc911\\uc559\\ubd80\\ucc98/\\uc0b0\\ud558\\uae30\\uad00\"], \"y\": [3.0, 2.43, 1.88, 2.33, 2.0]}, {\"marker\": {\"color\": \"rgba(55, 83, 109, 0.8)\"}, \"name\": \"\\ud559\\uc2b5\\ub0b4\\uc6a9 B\", \"text\": [3.0, 2.57, 1.38, 2.67, 3.0], \"textposition\": \"auto\", \"type\": \"bar\", \"x\": [\"\\uad6d\\uc81c\\uae30\\uad6c\", \"\\ubbfc\\uac04\\uae30\\uc5c5\", \"\\uc11c\\uc6b8\\uc2dc\", \"\\uc11c\\uc6b8\\uc2dc \\uc0b0\\ud558\\uae30\\uad00\", \"\\uc911\\uc559\\ubd80\\ucc98/\\uc0b0\\ud558\\uae30\\uad00\"], \"y\": [3.0, 2.57, 1.38, 2.67, 3.0]}, {\"marker\": {\"color\": \"rgb(26, 118, 255)\"}, \"name\": \"\\ud559\\uc2b5\\ub0b4\\uc6a9 C\", \"text\": [3.0, 2.29, 1.5, 2.33, 2.0], \"textposition\": \"auto\", \"type\": \"bar\", \"x\": [\"\\uad6d\\uc81c\\uae30\\uad6c\", \"\\ubbfc\\uac04\\uae30\\uc5c5\", \"\\uc11c\\uc6b8\\uc2dc\", \"\\uc11c\\uc6b8\\uc2dc \\uc0b0\\ud558\\uae30\\uad00\", \"\\uc911\\uc559\\ubd80\\ucc98/\\uc0b0\\ud558\\uae30\\uad00\"], \"y\": [3.0, 2.29, 1.5, 2.33, 2.0]}, {\"marker\": {\"color\": \"rgba(26, 118, 255, 0.8)\"}, \"name\": \"\\ud559\\uc2b5\\ub0b4\\uc6a9 D\", \"text\": [3.0, 3.0, 1.62, 2.33, 3.25], \"textposition\": \"auto\", \"type\": \"bar\", \"x\": [\"\\uad6d\\uc81c\\uae30\\uad6c\", \"\\ubbfc\\uac04\\uae30\\uc5c5\", \"\\uc11c\\uc6b8\\uc2dc\", \"\\uc11c\\uc6b8\\uc2dc \\uc0b0\\ud558\\uae30\\uad00\", \"\\uc911\\uc559\\ubd80\\ucc98/\\uc0b0\\ud558\\uae30\\uad00\"], \"y\": [3.0, 3.0, 1.62, 2.33, 3.25]}],\n",
              "                        {\"bargap\": 0.15, \"bargroupgap\": 0.1, \"barmode\": \"group\", \"legend\": {\"orientation\": \"h\", \"x\": 0.2, \"y\": 1.1}, \"template\": {\"data\": {\"bar\": [{\"error_x\": {\"color\": \"#2a3f5f\"}, \"error_y\": {\"color\": \"#2a3f5f\"}, \"marker\": {\"line\": {\"color\": \"#E5ECF6\", \"width\": 0.5}}, \"type\": \"bar\"}], \"barpolar\": [{\"marker\": {\"line\": {\"color\": \"#E5ECF6\", \"width\": 0.5}}, \"type\": \"barpolar\"}], \"carpet\": [{\"aaxis\": {\"endlinecolor\": \"#2a3f5f\", \"gridcolor\": \"white\", \"linecolor\": \"white\", \"minorgridcolor\": \"white\", \"startlinecolor\": \"#2a3f5f\"}, \"baxis\": {\"endlinecolor\": \"#2a3f5f\", \"gridcolor\": \"white\", \"linecolor\": \"white\", \"minorgridcolor\": \"white\", \"startlinecolor\": \"#2a3f5f\"}, \"type\": \"carpet\"}], \"choropleth\": [{\"colorbar\": {\"outlinewidth\": 0, \"ticks\": \"\"}, \"type\": \"choropleth\"}], \"contour\": [{\"colorbar\": {\"outlinewidth\": 0, \"ticks\": \"\"}, \"colorscale\": [[0.0, \"#0d0887\"], [0.1111111111111111, \"#46039f\"], [0.2222222222222222, \"#7201a8\"], [0.3333333333333333, \"#9c179e\"], [0.4444444444444444, \"#bd3786\"], [0.5555555555555556, \"#d8576b\"], [0.6666666666666666, \"#ed7953\"], [0.7777777777777778, \"#fb9f3a\"], [0.8888888888888888, \"#fdca26\"], [1.0, \"#f0f921\"]], \"type\": \"contour\"}], \"contourcarpet\": [{\"colorbar\": {\"outlinewidth\": 0, \"ticks\": \"\"}, \"type\": \"contourcarpet\"}], \"heatmap\": [{\"colorbar\": {\"outlinewidth\": 0, \"ticks\": \"\"}, \"colorscale\": [[0.0, \"#0d0887\"], [0.1111111111111111, \"#46039f\"], [0.2222222222222222, \"#7201a8\"], [0.3333333333333333, \"#9c179e\"], [0.4444444444444444, \"#bd3786\"], [0.5555555555555556, \"#d8576b\"], [0.6666666666666666, \"#ed7953\"], [0.7777777777777778, \"#fb9f3a\"], [0.8888888888888888, \"#fdca26\"], [1.0, \"#f0f921\"]], \"type\": \"heatmap\"}], \"heatmapgl\": [{\"colorbar\": {\"outlinewidth\": 0, \"ticks\": \"\"}, \"colorscale\": [[0.0, \"#0d0887\"], [0.1111111111111111, \"#46039f\"], [0.2222222222222222, \"#7201a8\"], [0.3333333333333333, \"#9c179e\"], [0.4444444444444444, \"#bd3786\"], [0.5555555555555556, \"#d8576b\"], [0.6666666666666666, \"#ed7953\"], [0.7777777777777778, \"#fb9f3a\"], [0.8888888888888888, \"#fdca26\"], [1.0, \"#f0f921\"]], \"type\": \"heatmapgl\"}], \"histogram\": [{\"marker\": {\"colorbar\": {\"outlinewidth\": 0, \"ticks\": \"\"}}, \"type\": \"histogram\"}], \"histogram2d\": [{\"colorbar\": {\"outlinewidth\": 0, \"ticks\": \"\"}, \"colorscale\": [[0.0, \"#0d0887\"], [0.1111111111111111, \"#46039f\"], [0.2222222222222222, \"#7201a8\"], [0.3333333333333333, \"#9c179e\"], [0.4444444444444444, \"#bd3786\"], [0.5555555555555556, \"#d8576b\"], [0.6666666666666666, \"#ed7953\"], [0.7777777777777778, \"#fb9f3a\"], [0.8888888888888888, \"#fdca26\"], [1.0, \"#f0f921\"]], \"type\": \"histogram2d\"}], \"histogram2dcontour\": [{\"colorbar\": {\"outlinewidth\": 0, \"ticks\": \"\"}, \"colorscale\": [[0.0, \"#0d0887\"], [0.1111111111111111, \"#46039f\"], [0.2222222222222222, \"#7201a8\"], [0.3333333333333333, \"#9c179e\"], [0.4444444444444444, \"#bd3786\"], [0.5555555555555556, \"#d8576b\"], [0.6666666666666666, \"#ed7953\"], [0.7777777777777778, \"#fb9f3a\"], [0.8888888888888888, \"#fdca26\"], [1.0, \"#f0f921\"]], \"type\": \"histogram2dcontour\"}], \"mesh3d\": [{\"colorbar\": {\"outlinewidth\": 0, \"ticks\": \"\"}, \"type\": \"mesh3d\"}], \"parcoords\": [{\"line\": {\"colorbar\": {\"outlinewidth\": 0, \"ticks\": \"\"}}, \"type\": \"parcoords\"}], \"scatter\": [{\"marker\": {\"colorbar\": {\"outlinewidth\": 0, \"ticks\": \"\"}}, \"type\": \"scatter\"}], \"scatter3d\": [{\"line\": {\"colorbar\": {\"outlinewidth\": 0, \"ticks\": \"\"}}, \"marker\": {\"colorbar\": {\"outlinewidth\": 0, \"ticks\": \"\"}}, \"type\": \"scatter3d\"}], \"scattercarpet\": [{\"marker\": {\"colorbar\": {\"outlinewidth\": 0, \"ticks\": \"\"}}, \"type\": \"scattercarpet\"}], \"scattergeo\": [{\"marker\": {\"colorbar\": {\"outlinewidth\": 0, \"ticks\": \"\"}}, \"type\": \"scattergeo\"}], \"scattergl\": [{\"marker\": {\"colorbar\": {\"outlinewidth\": 0, \"ticks\": \"\"}}, \"type\": \"scattergl\"}], \"scattermapbox\": [{\"marker\": {\"colorbar\": {\"outlinewidth\": 0, \"ticks\": \"\"}}, \"type\": \"scattermapbox\"}], \"scatterpolar\": [{\"marker\": {\"colorbar\": {\"outlinewidth\": 0, \"ticks\": \"\"}}, \"type\": \"scatterpolar\"}], \"scatterpolargl\": [{\"marker\": {\"colorbar\": {\"outlinewidth\": 0, \"ticks\": \"\"}}, \"type\": \"scatterpolargl\"}], \"scatterternary\": [{\"marker\": {\"colorbar\": {\"outlinewidth\": 0, \"ticks\": \"\"}}, \"type\": \"scatterternary\"}], \"surface\": [{\"colorbar\": {\"outlinewidth\": 0, \"ticks\": \"\"}, \"colorscale\": [[0.0, \"#0d0887\"], [0.1111111111111111, \"#46039f\"], [0.2222222222222222, \"#7201a8\"], [0.3333333333333333, \"#9c179e\"], [0.4444444444444444, \"#bd3786\"], [0.5555555555555556, \"#d8576b\"], [0.6666666666666666, \"#ed7953\"], [0.7777777777777778, \"#fb9f3a\"], [0.8888888888888888, \"#fdca26\"], [1.0, \"#f0f921\"]], \"type\": \"surface\"}], \"table\": [{\"cells\": {\"fill\": {\"color\": \"#EBF0F8\"}, \"line\": {\"color\": \"white\"}}, \"header\": {\"fill\": {\"color\": \"#C8D4E3\"}, \"line\": {\"color\": \"white\"}}, \"type\": \"table\"}]}, \"layout\": {\"annotationdefaults\": {\"arrowcolor\": \"#2a3f5f\", \"arrowhead\": 0, \"arrowwidth\": 1}, \"colorscale\": {\"diverging\": [[0, \"#8e0152\"], [0.1, \"#c51b7d\"], [0.2, \"#de77ae\"], [0.3, \"#f1b6da\"], [0.4, \"#fde0ef\"], [0.5, \"#f7f7f7\"], [0.6, \"#e6f5d0\"], [0.7, \"#b8e186\"], [0.8, \"#7fbc41\"], [0.9, \"#4d9221\"], [1, \"#276419\"]], \"sequential\": [[0.0, \"#0d0887\"], [0.1111111111111111, \"#46039f\"], [0.2222222222222222, \"#7201a8\"], [0.3333333333333333, \"#9c179e\"], [0.4444444444444444, \"#bd3786\"], [0.5555555555555556, \"#d8576b\"], [0.6666666666666666, \"#ed7953\"], [0.7777777777777778, \"#fb9f3a\"], [0.8888888888888888, \"#fdca26\"], [1.0, \"#f0f921\"]], \"sequentialminus\": [[0.0, \"#0d0887\"], [0.1111111111111111, \"#46039f\"], [0.2222222222222222, \"#7201a8\"], [0.3333333333333333, \"#9c179e\"], [0.4444444444444444, \"#bd3786\"], [0.5555555555555556, \"#d8576b\"], [0.6666666666666666, \"#ed7953\"], [0.7777777777777778, \"#fb9f3a\"], [0.8888888888888888, \"#fdca26\"], [1.0, \"#f0f921\"]]}, \"colorway\": [\"#636efa\", \"#EF553B\", \"#00cc96\", \"#ab63fa\", \"#FFA15A\", \"#19d3f3\", \"#FF6692\", \"#B6E880\", \"#FF97FF\", \"#FECB52\"], \"font\": {\"color\": \"#2a3f5f\"}, \"geo\": {\"bgcolor\": \"white\", \"lakecolor\": \"white\", \"landcolor\": \"#E5ECF6\", \"showlakes\": true, \"showland\": true, \"subunitcolor\": \"white\"}, \"hoverlabel\": {\"align\": \"left\"}, \"hovermode\": \"closest\", \"mapbox\": {\"style\": \"light\"}, \"paper_bgcolor\": \"white\", \"plot_bgcolor\": \"#E5ECF6\", \"polar\": {\"angularaxis\": {\"gridcolor\": \"white\", \"linecolor\": \"white\", \"ticks\": \"\"}, \"bgcolor\": \"#E5ECF6\", \"radialaxis\": {\"gridcolor\": \"white\", \"linecolor\": \"white\", \"ticks\": \"\"}}, \"scene\": {\"xaxis\": {\"backgroundcolor\": \"#E5ECF6\", \"gridcolor\": \"white\", \"gridwidth\": 2, \"linecolor\": \"white\", \"showbackground\": true, \"ticks\": \"\", \"zerolinecolor\": \"white\"}, \"yaxis\": {\"backgroundcolor\": \"#E5ECF6\", \"gridcolor\": \"white\", \"gridwidth\": 2, \"linecolor\": \"white\", \"showbackground\": true, \"ticks\": \"\", \"zerolinecolor\": \"white\"}, \"zaxis\": {\"backgroundcolor\": \"#E5ECF6\", \"gridcolor\": \"white\", \"gridwidth\": 2, \"linecolor\": \"white\", \"showbackground\": true, \"ticks\": \"\", \"zerolinecolor\": \"white\"}}, \"shapedefaults\": {\"line\": {\"color\": \"#2a3f5f\"}}, \"ternary\": {\"aaxis\": {\"gridcolor\": \"white\", \"linecolor\": \"white\", \"ticks\": \"\"}, \"baxis\": {\"gridcolor\": \"white\", \"linecolor\": \"white\", \"ticks\": \"\"}, \"bgcolor\": \"#E5ECF6\", \"caxis\": {\"gridcolor\": \"white\", \"linecolor\": \"white\", \"ticks\": \"\"}}, \"title\": {\"x\": 0.05}, \"xaxis\": {\"automargin\": true, \"gridcolor\": \"white\", \"linecolor\": \"white\", \"ticks\": \"\", \"zerolinecolor\": \"white\", \"zerolinewidth\": 2}, \"yaxis\": {\"automargin\": true, \"gridcolor\": \"white\", \"linecolor\": \"white\", \"ticks\": \"\", \"zerolinecolor\": \"white\", \"zerolinewidth\": 2}}}, \"title\": {\"text\": \"\\uc18c\\uc18d\\uadf8\\ub8f9\\ubcc4 \\uae30\\uc220\\uc801 \\uc601\\uc5ed \\uc218\\uc900 \\ud3c9\\uade0\", \"x\": 0.5}, \"xaxis\": {\"tickfont\": {\"size\": 13}}, \"yaxis\": {\"tickfont\": {\"size\": 13}}},\n",
              "                        {\"responsive\": true}\n",
              "                    ).then(function(){\n",
              "                            \n",
              "var gd = document.getElementById('9772bbfe-57e8-46a9-a6f2-8fdb14bf3c3f');\n",
              "var x = new MutationObserver(function (mutations, observer) {{\n",
              "        var display = window.getComputedStyle(gd).display;\n",
              "        if (!display || display === 'none') {{\n",
              "            console.log([gd, 'removed!']);\n",
              "            Plotly.purge(gd);\n",
              "            observer.disconnect();\n",
              "        }}\n",
              "}});\n",
              "\n",
              "// Listen for the removal of the full notebook cells\n",
              "var notebookContainer = gd.closest('#notebook-container');\n",
              "if (notebookContainer) {{\n",
              "    x.observe(notebookContainer, {childList: true});\n",
              "}}\n",
              "\n",
              "// Listen for the clearing of the current output cell\n",
              "var outputEl = gd.closest('.output');\n",
              "if (outputEl) {{\n",
              "    x.observe(outputEl, {childList: true});\n",
              "}}\n",
              "\n",
              "                        })\n",
              "                };\n",
              "                });\n",
              "            </script>\n",
              "        </div>"
            ]
          },
          "metadata": {
            "tags": []
          }
        }
      ]
    },
    {
      "cell_type": "markdown",
      "metadata": {
        "colab_type": "text",
        "id": "h7l6apK-1kA1"
      },
      "source": [
        "### 소속별 태도적 영역 수준 평균"
      ]
    },
    {
      "cell_type": "code",
      "metadata": {
        "colab_type": "code",
        "id": "_ncjg9ZE1Sqq",
        "outputId": "3726edf7-5b56-4846-cdaf-e6a3d936c1d1",
        "colab": {
          "base_uri": "https://localhost:8080/",
          "height": 542
        }
      },
      "source": [
        "fig = go.Figure(data = [\n",
        "    go.Bar(\n",
        "      x=pre_group['태도적 (Attidtude) 영역 - 학습내용 A'].mean().index,\n",
        "      y=pre_group['태도적 (Attidtude) 영역 - 학습내용 A'].mean().round(2), \n",
        "      name='학습내용 A', \n",
        "      marker_color='rgb(55, 83, 109)',\n",
        "      text=pre_group['태도적 (Attidtude) 영역 - 학습내용 A'].mean().round(2),\n",
        "      textposition='auto'),\n",
        "    go.Bar(\n",
        "      x=pre_group['태도적 (Attidtude) 영역 - 학습내용 B'].mean().index,\n",
        "      y=pre_group['태도적 (Attidtude) 영역 - 학습내용 B'].mean().round(2), \n",
        "      name='학습내용 B', \n",
        "      marker_color='rgba(55, 83, 109, 0.8)',\n",
        "      text=pre_group['태도적 (Attidtude) 영역 - 학습내용 B'].mean().round(2),\n",
        "      textposition='auto'),\n",
        "    go.Bar(\n",
        "      x=pre_group['태도적 (Attidtude) 영역 - 학습내용 C'].mean().index,\n",
        "      y=pre_group['태도적 (Attidtude) 영역 - 학습내용 C'].mean().round(2), \n",
        "      name='학습내용 C', \n",
        "      marker_color='rgb(26, 118, 255)',\n",
        "      text=pre_group['태도적 (Attidtude) 영역 - 학습내용 C'].mean().round(2),\n",
        "      textposition='auto'),\n",
        "    go.Bar(\n",
        "      x=pre_group['태도적 (Attidtude) 영역 - 학습내용 D'].mean().index,\n",
        "      y=pre_group['태도적 (Attidtude) 영역 - 학습내용 D'].mean().round(2), \n",
        "      name='학습내용 D', \n",
        "      marker_color='rgba(26, 118, 255, 0.8)',\n",
        "      text=pre_group['태도적 (Attidtude) 영역 - 학습내용 D'].mean().round(2),\n",
        "      textposition='auto')\n",
        "    ]\n",
        ")\n",
        "\n",
        "fig.update_layout(\n",
        "    title=dict(text=\"소속그룹별 태도적 영역 수준 평균\", x = 0.5),\n",
        "    legend=dict(x=0.2, y=1.1, orientation=\"h\"),\n",
        "    barmode='group',\n",
        "    bargap=0.15,\n",
        "    bargroupgap=0.1,\n",
        "    # width=1500,\n",
        "    # height=800,\n",
        ")\n",
        "\n",
        "fig.update_xaxes(tickfont_size=13)\n",
        "fig.update_yaxes(tickfont_size=13)\n",
        "\n",
        "fig.show()"
      ],
      "execution_count": 0,
      "outputs": [
        {
          "output_type": "display_data",
          "data": {
            "application/vnd.plotly.v1+json": {
              "config": {
                "plotlyServerURL": "https://plot.ly"
              },
              "data": [
                {
                  "marker": {
                    "color": "rgb(55, 83, 109)"
                  },
                  "name": "학습내용 A",
                  "text": [
                    3,
                    4.43,
                    3.38,
                    3.33,
                    3
                  ],
                  "textposition": "auto",
                  "type": "bar",
                  "x": [
                    "국제기구",
                    "민간기업",
                    "서울시",
                    "서울시 산하기관",
                    "중앙부처/산하기관"
                  ],
                  "y": [
                    3,
                    4.43,
                    3.38,
                    3.33,
                    3
                  ]
                },
                {
                  "marker": {
                    "color": "rgba(55, 83, 109, 0.8)"
                  },
                  "name": "학습내용 B",
                  "text": [
                    4,
                    4.29,
                    3.25,
                    2.67,
                    3.25
                  ],
                  "textposition": "auto",
                  "type": "bar",
                  "x": [
                    "국제기구",
                    "민간기업",
                    "서울시",
                    "서울시 산하기관",
                    "중앙부처/산하기관"
                  ],
                  "y": [
                    4,
                    4.29,
                    3.25,
                    2.67,
                    3.25
                  ]
                },
                {
                  "marker": {
                    "color": "rgb(26, 118, 255)"
                  },
                  "name": "학습내용 C",
                  "text": [
                    4,
                    4.29,
                    3.38,
                    3.67,
                    3.5
                  ],
                  "textposition": "auto",
                  "type": "bar",
                  "x": [
                    "국제기구",
                    "민간기업",
                    "서울시",
                    "서울시 산하기관",
                    "중앙부처/산하기관"
                  ],
                  "y": [
                    4,
                    4.29,
                    3.38,
                    3.67,
                    3.5
                  ]
                },
                {
                  "marker": {
                    "color": "rgba(26, 118, 255, 0.8)"
                  },
                  "name": "학습내용 D",
                  "text": [
                    4,
                    4.29,
                    3.25,
                    3.67,
                    3.75
                  ],
                  "textposition": "auto",
                  "type": "bar",
                  "x": [
                    "국제기구",
                    "민간기업",
                    "서울시",
                    "서울시 산하기관",
                    "중앙부처/산하기관"
                  ],
                  "y": [
                    4,
                    4.29,
                    3.25,
                    3.67,
                    3.75
                  ]
                }
              ],
              "layout": {
                "autosize": true,
                "bargap": 0.15,
                "bargroupgap": 0.1,
                "barmode": "group",
                "legend": {
                  "orientation": "h",
                  "x": 0.2,
                  "y": 1.1
                },
                "template": {
                  "data": {
                    "bar": [
                      {
                        "error_x": {
                          "color": "#2a3f5f"
                        },
                        "error_y": {
                          "color": "#2a3f5f"
                        },
                        "marker": {
                          "line": {
                            "color": "#E5ECF6",
                            "width": 0.5
                          }
                        },
                        "type": "bar"
                      }
                    ],
                    "barpolar": [
                      {
                        "marker": {
                          "line": {
                            "color": "#E5ECF6",
                            "width": 0.5
                          }
                        },
                        "type": "barpolar"
                      }
                    ],
                    "carpet": [
                      {
                        "aaxis": {
                          "endlinecolor": "#2a3f5f",
                          "gridcolor": "white",
                          "linecolor": "white",
                          "minorgridcolor": "white",
                          "startlinecolor": "#2a3f5f"
                        },
                        "baxis": {
                          "endlinecolor": "#2a3f5f",
                          "gridcolor": "white",
                          "linecolor": "white",
                          "minorgridcolor": "white",
                          "startlinecolor": "#2a3f5f"
                        },
                        "type": "carpet"
                      }
                    ],
                    "choropleth": [
                      {
                        "colorbar": {
                          "outlinewidth": 0,
                          "ticks": ""
                        },
                        "type": "choropleth"
                      }
                    ],
                    "contour": [
                      {
                        "colorbar": {
                          "outlinewidth": 0,
                          "ticks": ""
                        },
                        "colorscale": [
                          [
                            0,
                            "#0d0887"
                          ],
                          [
                            0.1111111111111111,
                            "#46039f"
                          ],
                          [
                            0.2222222222222222,
                            "#7201a8"
                          ],
                          [
                            0.3333333333333333,
                            "#9c179e"
                          ],
                          [
                            0.4444444444444444,
                            "#bd3786"
                          ],
                          [
                            0.5555555555555556,
                            "#d8576b"
                          ],
                          [
                            0.6666666666666666,
                            "#ed7953"
                          ],
                          [
                            0.7777777777777778,
                            "#fb9f3a"
                          ],
                          [
                            0.8888888888888888,
                            "#fdca26"
                          ],
                          [
                            1,
                            "#f0f921"
                          ]
                        ],
                        "type": "contour"
                      }
                    ],
                    "contourcarpet": [
                      {
                        "colorbar": {
                          "outlinewidth": 0,
                          "ticks": ""
                        },
                        "type": "contourcarpet"
                      }
                    ],
                    "heatmap": [
                      {
                        "colorbar": {
                          "outlinewidth": 0,
                          "ticks": ""
                        },
                        "colorscale": [
                          [
                            0,
                            "#0d0887"
                          ],
                          [
                            0.1111111111111111,
                            "#46039f"
                          ],
                          [
                            0.2222222222222222,
                            "#7201a8"
                          ],
                          [
                            0.3333333333333333,
                            "#9c179e"
                          ],
                          [
                            0.4444444444444444,
                            "#bd3786"
                          ],
                          [
                            0.5555555555555556,
                            "#d8576b"
                          ],
                          [
                            0.6666666666666666,
                            "#ed7953"
                          ],
                          [
                            0.7777777777777778,
                            "#fb9f3a"
                          ],
                          [
                            0.8888888888888888,
                            "#fdca26"
                          ],
                          [
                            1,
                            "#f0f921"
                          ]
                        ],
                        "type": "heatmap"
                      }
                    ],
                    "heatmapgl": [
                      {
                        "colorbar": {
                          "outlinewidth": 0,
                          "ticks": ""
                        },
                        "colorscale": [
                          [
                            0,
                            "#0d0887"
                          ],
                          [
                            0.1111111111111111,
                            "#46039f"
                          ],
                          [
                            0.2222222222222222,
                            "#7201a8"
                          ],
                          [
                            0.3333333333333333,
                            "#9c179e"
                          ],
                          [
                            0.4444444444444444,
                            "#bd3786"
                          ],
                          [
                            0.5555555555555556,
                            "#d8576b"
                          ],
                          [
                            0.6666666666666666,
                            "#ed7953"
                          ],
                          [
                            0.7777777777777778,
                            "#fb9f3a"
                          ],
                          [
                            0.8888888888888888,
                            "#fdca26"
                          ],
                          [
                            1,
                            "#f0f921"
                          ]
                        ],
                        "type": "heatmapgl"
                      }
                    ],
                    "histogram": [
                      {
                        "marker": {
                          "colorbar": {
                            "outlinewidth": 0,
                            "ticks": ""
                          }
                        },
                        "type": "histogram"
                      }
                    ],
                    "histogram2d": [
                      {
                        "colorbar": {
                          "outlinewidth": 0,
                          "ticks": ""
                        },
                        "colorscale": [
                          [
                            0,
                            "#0d0887"
                          ],
                          [
                            0.1111111111111111,
                            "#46039f"
                          ],
                          [
                            0.2222222222222222,
                            "#7201a8"
                          ],
                          [
                            0.3333333333333333,
                            "#9c179e"
                          ],
                          [
                            0.4444444444444444,
                            "#bd3786"
                          ],
                          [
                            0.5555555555555556,
                            "#d8576b"
                          ],
                          [
                            0.6666666666666666,
                            "#ed7953"
                          ],
                          [
                            0.7777777777777778,
                            "#fb9f3a"
                          ],
                          [
                            0.8888888888888888,
                            "#fdca26"
                          ],
                          [
                            1,
                            "#f0f921"
                          ]
                        ],
                        "type": "histogram2d"
                      }
                    ],
                    "histogram2dcontour": [
                      {
                        "colorbar": {
                          "outlinewidth": 0,
                          "ticks": ""
                        },
                        "colorscale": [
                          [
                            0,
                            "#0d0887"
                          ],
                          [
                            0.1111111111111111,
                            "#46039f"
                          ],
                          [
                            0.2222222222222222,
                            "#7201a8"
                          ],
                          [
                            0.3333333333333333,
                            "#9c179e"
                          ],
                          [
                            0.4444444444444444,
                            "#bd3786"
                          ],
                          [
                            0.5555555555555556,
                            "#d8576b"
                          ],
                          [
                            0.6666666666666666,
                            "#ed7953"
                          ],
                          [
                            0.7777777777777778,
                            "#fb9f3a"
                          ],
                          [
                            0.8888888888888888,
                            "#fdca26"
                          ],
                          [
                            1,
                            "#f0f921"
                          ]
                        ],
                        "type": "histogram2dcontour"
                      }
                    ],
                    "mesh3d": [
                      {
                        "colorbar": {
                          "outlinewidth": 0,
                          "ticks": ""
                        },
                        "type": "mesh3d"
                      }
                    ],
                    "parcoords": [
                      {
                        "line": {
                          "colorbar": {
                            "outlinewidth": 0,
                            "ticks": ""
                          }
                        },
                        "type": "parcoords"
                      }
                    ],
                    "scatter": [
                      {
                        "marker": {
                          "colorbar": {
                            "outlinewidth": 0,
                            "ticks": ""
                          }
                        },
                        "type": "scatter"
                      }
                    ],
                    "scatter3d": [
                      {
                        "line": {
                          "colorbar": {
                            "outlinewidth": 0,
                            "ticks": ""
                          }
                        },
                        "marker": {
                          "colorbar": {
                            "outlinewidth": 0,
                            "ticks": ""
                          }
                        },
                        "type": "scatter3d"
                      }
                    ],
                    "scattercarpet": [
                      {
                        "marker": {
                          "colorbar": {
                            "outlinewidth": 0,
                            "ticks": ""
                          }
                        },
                        "type": "scattercarpet"
                      }
                    ],
                    "scattergeo": [
                      {
                        "marker": {
                          "colorbar": {
                            "outlinewidth": 0,
                            "ticks": ""
                          }
                        },
                        "type": "scattergeo"
                      }
                    ],
                    "scattergl": [
                      {
                        "marker": {
                          "colorbar": {
                            "outlinewidth": 0,
                            "ticks": ""
                          }
                        },
                        "type": "scattergl"
                      }
                    ],
                    "scattermapbox": [
                      {
                        "marker": {
                          "colorbar": {
                            "outlinewidth": 0,
                            "ticks": ""
                          }
                        },
                        "type": "scattermapbox"
                      }
                    ],
                    "scatterpolar": [
                      {
                        "marker": {
                          "colorbar": {
                            "outlinewidth": 0,
                            "ticks": ""
                          }
                        },
                        "type": "scatterpolar"
                      }
                    ],
                    "scatterpolargl": [
                      {
                        "marker": {
                          "colorbar": {
                            "outlinewidth": 0,
                            "ticks": ""
                          }
                        },
                        "type": "scatterpolargl"
                      }
                    ],
                    "scatterternary": [
                      {
                        "marker": {
                          "colorbar": {
                            "outlinewidth": 0,
                            "ticks": ""
                          }
                        },
                        "type": "scatterternary"
                      }
                    ],
                    "surface": [
                      {
                        "colorbar": {
                          "outlinewidth": 0,
                          "ticks": ""
                        },
                        "colorscale": [
                          [
                            0,
                            "#0d0887"
                          ],
                          [
                            0.1111111111111111,
                            "#46039f"
                          ],
                          [
                            0.2222222222222222,
                            "#7201a8"
                          ],
                          [
                            0.3333333333333333,
                            "#9c179e"
                          ],
                          [
                            0.4444444444444444,
                            "#bd3786"
                          ],
                          [
                            0.5555555555555556,
                            "#d8576b"
                          ],
                          [
                            0.6666666666666666,
                            "#ed7953"
                          ],
                          [
                            0.7777777777777778,
                            "#fb9f3a"
                          ],
                          [
                            0.8888888888888888,
                            "#fdca26"
                          ],
                          [
                            1,
                            "#f0f921"
                          ]
                        ],
                        "type": "surface"
                      }
                    ],
                    "table": [
                      {
                        "cells": {
                          "fill": {
                            "color": "#EBF0F8"
                          },
                          "line": {
                            "color": "white"
                          }
                        },
                        "header": {
                          "fill": {
                            "color": "#C8D4E3"
                          },
                          "line": {
                            "color": "white"
                          }
                        },
                        "type": "table"
                      }
                    ]
                  },
                  "layout": {
                    "annotationdefaults": {
                      "arrowcolor": "#2a3f5f",
                      "arrowhead": 0,
                      "arrowwidth": 1
                    },
                    "colorscale": {
                      "diverging": [
                        [
                          0,
                          "#8e0152"
                        ],
                        [
                          0.1,
                          "#c51b7d"
                        ],
                        [
                          0.2,
                          "#de77ae"
                        ],
                        [
                          0.3,
                          "#f1b6da"
                        ],
                        [
                          0.4,
                          "#fde0ef"
                        ],
                        [
                          0.5,
                          "#f7f7f7"
                        ],
                        [
                          0.6,
                          "#e6f5d0"
                        ],
                        [
                          0.7,
                          "#b8e186"
                        ],
                        [
                          0.8,
                          "#7fbc41"
                        ],
                        [
                          0.9,
                          "#4d9221"
                        ],
                        [
                          1,
                          "#276419"
                        ]
                      ],
                      "sequential": [
                        [
                          0,
                          "#0d0887"
                        ],
                        [
                          0.1111111111111111,
                          "#46039f"
                        ],
                        [
                          0.2222222222222222,
                          "#7201a8"
                        ],
                        [
                          0.3333333333333333,
                          "#9c179e"
                        ],
                        [
                          0.4444444444444444,
                          "#bd3786"
                        ],
                        [
                          0.5555555555555556,
                          "#d8576b"
                        ],
                        [
                          0.6666666666666666,
                          "#ed7953"
                        ],
                        [
                          0.7777777777777778,
                          "#fb9f3a"
                        ],
                        [
                          0.8888888888888888,
                          "#fdca26"
                        ],
                        [
                          1,
                          "#f0f921"
                        ]
                      ],
                      "sequentialminus": [
                        [
                          0,
                          "#0d0887"
                        ],
                        [
                          0.1111111111111111,
                          "#46039f"
                        ],
                        [
                          0.2222222222222222,
                          "#7201a8"
                        ],
                        [
                          0.3333333333333333,
                          "#9c179e"
                        ],
                        [
                          0.4444444444444444,
                          "#bd3786"
                        ],
                        [
                          0.5555555555555556,
                          "#d8576b"
                        ],
                        [
                          0.6666666666666666,
                          "#ed7953"
                        ],
                        [
                          0.7777777777777778,
                          "#fb9f3a"
                        ],
                        [
                          0.8888888888888888,
                          "#fdca26"
                        ],
                        [
                          1,
                          "#f0f921"
                        ]
                      ]
                    },
                    "colorway": [
                      "#636efa",
                      "#EF553B",
                      "#00cc96",
                      "#ab63fa",
                      "#FFA15A",
                      "#19d3f3",
                      "#FF6692",
                      "#B6E880",
                      "#FF97FF",
                      "#FECB52"
                    ],
                    "font": {
                      "color": "#2a3f5f"
                    },
                    "geo": {
                      "bgcolor": "white",
                      "lakecolor": "white",
                      "landcolor": "#E5ECF6",
                      "showlakes": true,
                      "showland": true,
                      "subunitcolor": "white"
                    },
                    "hoverlabel": {
                      "align": "left"
                    },
                    "hovermode": "closest",
                    "mapbox": {
                      "style": "light"
                    },
                    "paper_bgcolor": "white",
                    "plot_bgcolor": "#E5ECF6",
                    "polar": {
                      "angularaxis": {
                        "gridcolor": "white",
                        "linecolor": "white",
                        "ticks": ""
                      },
                      "bgcolor": "#E5ECF6",
                      "radialaxis": {
                        "gridcolor": "white",
                        "linecolor": "white",
                        "ticks": ""
                      }
                    },
                    "scene": {
                      "xaxis": {
                        "backgroundcolor": "#E5ECF6",
                        "gridcolor": "white",
                        "gridwidth": 2,
                        "linecolor": "white",
                        "showbackground": true,
                        "ticks": "",
                        "zerolinecolor": "white"
                      },
                      "yaxis": {
                        "backgroundcolor": "#E5ECF6",
                        "gridcolor": "white",
                        "gridwidth": 2,
                        "linecolor": "white",
                        "showbackground": true,
                        "ticks": "",
                        "zerolinecolor": "white"
                      },
                      "zaxis": {
                        "backgroundcolor": "#E5ECF6",
                        "gridcolor": "white",
                        "gridwidth": 2,
                        "linecolor": "white",
                        "showbackground": true,
                        "ticks": "",
                        "zerolinecolor": "white"
                      }
                    },
                    "shapedefaults": {
                      "line": {
                        "color": "#2a3f5f"
                      }
                    },
                    "ternary": {
                      "aaxis": {
                        "gridcolor": "white",
                        "linecolor": "white",
                        "ticks": ""
                      },
                      "baxis": {
                        "gridcolor": "white",
                        "linecolor": "white",
                        "ticks": ""
                      },
                      "bgcolor": "#E5ECF6",
                      "caxis": {
                        "gridcolor": "white",
                        "linecolor": "white",
                        "ticks": ""
                      }
                    },
                    "title": {
                      "x": 0.05
                    },
                    "xaxis": {
                      "automargin": true,
                      "gridcolor": "white",
                      "linecolor": "white",
                      "ticks": "",
                      "zerolinecolor": "white",
                      "zerolinewidth": 2
                    },
                    "yaxis": {
                      "automargin": true,
                      "gridcolor": "white",
                      "linecolor": "white",
                      "ticks": "",
                      "zerolinecolor": "white",
                      "zerolinewidth": 2
                    }
                  }
                },
                "title": {
                  "text": "소속그룹별 태도적 영역 수준 평균",
                  "x": 0.5
                },
                "xaxis": {
                  "autorange": true,
                  "range": [
                    -0.5,
                    4.5
                  ],
                  "tickfont": {
                    "size": 13
                  },
                  "type": "category"
                },
                "yaxis": {
                  "autorange": true,
                  "range": [
                    0,
                    4.663157894736842
                  ],
                  "tickfont": {
                    "size": 13
                  },
                  "type": "linear"
                }
              }
            },
            "image/png": "[encoded data removed]",
            "text/html": [
              "<div>\n",
              "        \n",
              "        \n",
              "            <div id=\"5fe8d629-30df-4757-9803-411b9bbe1677\" class=\"plotly-graph-div\" style=\"height:525px; width:100%;\"></div>\n",
              "            <script type=\"text/javascript\">\n",
              "                require([\"plotly\"], function(Plotly) {\n",
              "                    window.PLOTLYENV=window.PLOTLYENV || {};\n",
              "                    \n",
              "                if (document.getElementById(\"5fe8d629-30df-4757-9803-411b9bbe1677\")) {\n",
              "                    Plotly.newPlot(\n",
              "                        '5fe8d629-30df-4757-9803-411b9bbe1677',\n",
              "                        [{\"marker\": {\"color\": \"rgb(55, 83, 109)\"}, \"name\": \"\\ud559\\uc2b5\\ub0b4\\uc6a9 A\", \"text\": [3.0, 4.43, 3.38, 3.33, 3.0], \"textposition\": \"auto\", \"type\": \"bar\", \"x\": [\"\\uad6d\\uc81c\\uae30\\uad6c\", \"\\ubbfc\\uac04\\uae30\\uc5c5\", \"\\uc11c\\uc6b8\\uc2dc\", \"\\uc11c\\uc6b8\\uc2dc \\uc0b0\\ud558\\uae30\\uad00\", \"\\uc911\\uc559\\ubd80\\ucc98/\\uc0b0\\ud558\\uae30\\uad00\"], \"y\": [3.0, 4.43, 3.38, 3.33, 3.0]}, {\"marker\": {\"color\": \"rgba(55, 83, 109, 0.8)\"}, \"name\": \"\\ud559\\uc2b5\\ub0b4\\uc6a9 B\", \"text\": [4.0, 4.29, 3.25, 2.67, 3.25], \"textposition\": \"auto\", \"type\": \"bar\", \"x\": [\"\\uad6d\\uc81c\\uae30\\uad6c\", \"\\ubbfc\\uac04\\uae30\\uc5c5\", \"\\uc11c\\uc6b8\\uc2dc\", \"\\uc11c\\uc6b8\\uc2dc \\uc0b0\\ud558\\uae30\\uad00\", \"\\uc911\\uc559\\ubd80\\ucc98/\\uc0b0\\ud558\\uae30\\uad00\"], \"y\": [4.0, 4.29, 3.25, 2.67, 3.25]}, {\"marker\": {\"color\": \"rgb(26, 118, 255)\"}, \"name\": \"\\ud559\\uc2b5\\ub0b4\\uc6a9 C\", \"text\": [4.0, 4.29, 3.38, 3.67, 3.5], \"textposition\": \"auto\", \"type\": \"bar\", \"x\": [\"\\uad6d\\uc81c\\uae30\\uad6c\", \"\\ubbfc\\uac04\\uae30\\uc5c5\", \"\\uc11c\\uc6b8\\uc2dc\", \"\\uc11c\\uc6b8\\uc2dc \\uc0b0\\ud558\\uae30\\uad00\", \"\\uc911\\uc559\\ubd80\\ucc98/\\uc0b0\\ud558\\uae30\\uad00\"], \"y\": [4.0, 4.29, 3.38, 3.67, 3.5]}, {\"marker\": {\"color\": \"rgba(26, 118, 255, 0.8)\"}, \"name\": \"\\ud559\\uc2b5\\ub0b4\\uc6a9 D\", \"text\": [4.0, 4.29, 3.25, 3.67, 3.75], \"textposition\": \"auto\", \"type\": \"bar\", \"x\": [\"\\uad6d\\uc81c\\uae30\\uad6c\", \"\\ubbfc\\uac04\\uae30\\uc5c5\", \"\\uc11c\\uc6b8\\uc2dc\", \"\\uc11c\\uc6b8\\uc2dc \\uc0b0\\ud558\\uae30\\uad00\", \"\\uc911\\uc559\\ubd80\\ucc98/\\uc0b0\\ud558\\uae30\\uad00\"], \"y\": [4.0, 4.29, 3.25, 3.67, 3.75]}],\n",
              "                        {\"bargap\": 0.15, \"bargroupgap\": 0.1, \"barmode\": \"group\", \"legend\": {\"orientation\": \"h\", \"x\": 0.2, \"y\": 1.1}, \"template\": {\"data\": {\"bar\": [{\"error_x\": {\"color\": \"#2a3f5f\"}, \"error_y\": {\"color\": \"#2a3f5f\"}, \"marker\": {\"line\": {\"color\": \"#E5ECF6\", \"width\": 0.5}}, \"type\": \"bar\"}], \"barpolar\": [{\"marker\": {\"line\": {\"color\": \"#E5ECF6\", \"width\": 0.5}}, \"type\": \"barpolar\"}], \"carpet\": [{\"aaxis\": {\"endlinecolor\": \"#2a3f5f\", \"gridcolor\": \"white\", \"linecolor\": \"white\", \"minorgridcolor\": \"white\", \"startlinecolor\": \"#2a3f5f\"}, \"baxis\": {\"endlinecolor\": \"#2a3f5f\", \"gridcolor\": \"white\", \"linecolor\": \"white\", \"minorgridcolor\": \"white\", \"startlinecolor\": \"#2a3f5f\"}, \"type\": \"carpet\"}], \"choropleth\": [{\"colorbar\": {\"outlinewidth\": 0, \"ticks\": \"\"}, \"type\": \"choropleth\"}], \"contour\": [{\"colorbar\": {\"outlinewidth\": 0, \"ticks\": \"\"}, \"colorscale\": [[0.0, \"#0d0887\"], [0.1111111111111111, \"#46039f\"], [0.2222222222222222, \"#7201a8\"], [0.3333333333333333, \"#9c179e\"], [0.4444444444444444, \"#bd3786\"], [0.5555555555555556, \"#d8576b\"], [0.6666666666666666, \"#ed7953\"], [0.7777777777777778, \"#fb9f3a\"], [0.8888888888888888, \"#fdca26\"], [1.0, \"#f0f921\"]], \"type\": \"contour\"}], \"contourcarpet\": [{\"colorbar\": {\"outlinewidth\": 0, \"ticks\": \"\"}, \"type\": \"contourcarpet\"}], \"heatmap\": [{\"colorbar\": {\"outlinewidth\": 0, \"ticks\": \"\"}, \"colorscale\": [[0.0, \"#0d0887\"], [0.1111111111111111, \"#46039f\"], [0.2222222222222222, \"#7201a8\"], [0.3333333333333333, \"#9c179e\"], [0.4444444444444444, \"#bd3786\"], [0.5555555555555556, \"#d8576b\"], [0.6666666666666666, \"#ed7953\"], [0.7777777777777778, \"#fb9f3a\"], [0.8888888888888888, \"#fdca26\"], [1.0, \"#f0f921\"]], \"type\": \"heatmap\"}], \"heatmapgl\": [{\"colorbar\": {\"outlinewidth\": 0, \"ticks\": \"\"}, \"colorscale\": [[0.0, \"#0d0887\"], [0.1111111111111111, \"#46039f\"], [0.2222222222222222, \"#7201a8\"], [0.3333333333333333, \"#9c179e\"], [0.4444444444444444, \"#bd3786\"], [0.5555555555555556, \"#d8576b\"], [0.6666666666666666, \"#ed7953\"], [0.7777777777777778, \"#fb9f3a\"], [0.8888888888888888, \"#fdca26\"], [1.0, \"#f0f921\"]], \"type\": \"heatmapgl\"}], \"histogram\": [{\"marker\": {\"colorbar\": {\"outlinewidth\": 0, \"ticks\": \"\"}}, \"type\": \"histogram\"}], \"histogram2d\": [{\"colorbar\": {\"outlinewidth\": 0, \"ticks\": \"\"}, \"colorscale\": [[0.0, \"#0d0887\"], [0.1111111111111111, \"#46039f\"], [0.2222222222222222, \"#7201a8\"], [0.3333333333333333, \"#9c179e\"], [0.4444444444444444, \"#bd3786\"], [0.5555555555555556, \"#d8576b\"], [0.6666666666666666, \"#ed7953\"], [0.7777777777777778, \"#fb9f3a\"], [0.8888888888888888, \"#fdca26\"], [1.0, \"#f0f921\"]], \"type\": \"histogram2d\"}], \"histogram2dcontour\": [{\"colorbar\": {\"outlinewidth\": 0, \"ticks\": \"\"}, \"colorscale\": [[0.0, \"#0d0887\"], [0.1111111111111111, \"#46039f\"], [0.2222222222222222, \"#7201a8\"], [0.3333333333333333, \"#9c179e\"], [0.4444444444444444, \"#bd3786\"], [0.5555555555555556, \"#d8576b\"], [0.6666666666666666, \"#ed7953\"], [0.7777777777777778, \"#fb9f3a\"], [0.8888888888888888, \"#fdca26\"], [1.0, \"#f0f921\"]], \"type\": \"histogram2dcontour\"}], \"mesh3d\": [{\"colorbar\": {\"outlinewidth\": 0, \"ticks\": \"\"}, \"type\": \"mesh3d\"}], \"parcoords\": [{\"line\": {\"colorbar\": {\"outlinewidth\": 0, \"ticks\": \"\"}}, \"type\": \"parcoords\"}], \"scatter\": [{\"marker\": {\"colorbar\": {\"outlinewidth\": 0, \"ticks\": \"\"}}, \"type\": \"scatter\"}], \"scatter3d\": [{\"line\": {\"colorbar\": {\"outlinewidth\": 0, \"ticks\": \"\"}}, \"marker\": {\"colorbar\": {\"outlinewidth\": 0, \"ticks\": \"\"}}, \"type\": \"scatter3d\"}], \"scattercarpet\": [{\"marker\": {\"colorbar\": {\"outlinewidth\": 0, \"ticks\": \"\"}}, \"type\": \"scattercarpet\"}], \"scattergeo\": [{\"marker\": {\"colorbar\": {\"outlinewidth\": 0, \"ticks\": \"\"}}, \"type\": \"scattergeo\"}], \"scattergl\": [{\"marker\": {\"colorbar\": {\"outlinewidth\": 0, \"ticks\": \"\"}}, \"type\": \"scattergl\"}], \"scattermapbox\": [{\"marker\": {\"colorbar\": {\"outlinewidth\": 0, \"ticks\": \"\"}}, \"type\": \"scattermapbox\"}], \"scatterpolar\": [{\"marker\": {\"colorbar\": {\"outlinewidth\": 0, \"ticks\": \"\"}}, \"type\": \"scatterpolar\"}], \"scatterpolargl\": [{\"marker\": {\"colorbar\": {\"outlinewidth\": 0, \"ticks\": \"\"}}, \"type\": \"scatterpolargl\"}], \"scatterternary\": [{\"marker\": {\"colorbar\": {\"outlinewidth\": 0, \"ticks\": \"\"}}, \"type\": \"scatterternary\"}], \"surface\": [{\"colorbar\": {\"outlinewidth\": 0, \"ticks\": \"\"}, \"colorscale\": [[0.0, \"#0d0887\"], [0.1111111111111111, \"#46039f\"], [0.2222222222222222, \"#7201a8\"], [0.3333333333333333, \"#9c179e\"], [0.4444444444444444, \"#bd3786\"], [0.5555555555555556, \"#d8576b\"], [0.6666666666666666, \"#ed7953\"], [0.7777777777777778, \"#fb9f3a\"], [0.8888888888888888, \"#fdca26\"], [1.0, \"#f0f921\"]], \"type\": \"surface\"}], \"table\": [{\"cells\": {\"fill\": {\"color\": \"#EBF0F8\"}, \"line\": {\"color\": \"white\"}}, \"header\": {\"fill\": {\"color\": \"#C8D4E3\"}, \"line\": {\"color\": \"white\"}}, \"type\": \"table\"}]}, \"layout\": {\"annotationdefaults\": {\"arrowcolor\": \"#2a3f5f\", \"arrowhead\": 0, \"arrowwidth\": 1}, \"colorscale\": {\"diverging\": [[0, \"#8e0152\"], [0.1, \"#c51b7d\"], [0.2, \"#de77ae\"], [0.3, \"#f1b6da\"], [0.4, \"#fde0ef\"], [0.5, \"#f7f7f7\"], [0.6, \"#e6f5d0\"], [0.7, \"#b8e186\"], [0.8, \"#7fbc41\"], [0.9, \"#4d9221\"], [1, \"#276419\"]], \"sequential\": [[0.0, \"#0d0887\"], [0.1111111111111111, \"#46039f\"], [0.2222222222222222, \"#7201a8\"], [0.3333333333333333, \"#9c179e\"], [0.4444444444444444, \"#bd3786\"], [0.5555555555555556, \"#d8576b\"], [0.6666666666666666, \"#ed7953\"], [0.7777777777777778, \"#fb9f3a\"], [0.8888888888888888, \"#fdca26\"], [1.0, \"#f0f921\"]], \"sequentialminus\": [[0.0, \"#0d0887\"], [0.1111111111111111, \"#46039f\"], [0.2222222222222222, \"#7201a8\"], [0.3333333333333333, \"#9c179e\"], [0.4444444444444444, \"#bd3786\"], [0.5555555555555556, \"#d8576b\"], [0.6666666666666666, \"#ed7953\"], [0.7777777777777778, \"#fb9f3a\"], [0.8888888888888888, \"#fdca26\"], [1.0, \"#f0f921\"]]}, \"colorway\": [\"#636efa\", \"#EF553B\", \"#00cc96\", \"#ab63fa\", \"#FFA15A\", \"#19d3f3\", \"#FF6692\", \"#B6E880\", \"#FF97FF\", \"#FECB52\"], \"font\": {\"color\": \"#2a3f5f\"}, \"geo\": {\"bgcolor\": \"white\", \"lakecolor\": \"white\", \"landcolor\": \"#E5ECF6\", \"showlakes\": true, \"showland\": true, \"subunitcolor\": \"white\"}, \"hoverlabel\": {\"align\": \"left\"}, \"hovermode\": \"closest\", \"mapbox\": {\"style\": \"light\"}, \"paper_bgcolor\": \"white\", \"plot_bgcolor\": \"#E5ECF6\", \"polar\": {\"angularaxis\": {\"gridcolor\": \"white\", \"linecolor\": \"white\", \"ticks\": \"\"}, \"bgcolor\": \"#E5ECF6\", \"radialaxis\": {\"gridcolor\": \"white\", \"linecolor\": \"white\", \"ticks\": \"\"}}, \"scene\": {\"xaxis\": {\"backgroundcolor\": \"#E5ECF6\", \"gridcolor\": \"white\", \"gridwidth\": 2, \"linecolor\": \"white\", \"showbackground\": true, \"ticks\": \"\", \"zerolinecolor\": \"white\"}, \"yaxis\": {\"backgroundcolor\": \"#E5ECF6\", \"gridcolor\": \"white\", \"gridwidth\": 2, \"linecolor\": \"white\", \"showbackground\": true, \"ticks\": \"\", \"zerolinecolor\": \"white\"}, \"zaxis\": {\"backgroundcolor\": \"#E5ECF6\", \"gridcolor\": \"white\", \"gridwidth\": 2, \"linecolor\": \"white\", \"showbackground\": true, \"ticks\": \"\", \"zerolinecolor\": \"white\"}}, \"shapedefaults\": {\"line\": {\"color\": \"#2a3f5f\"}}, \"ternary\": {\"aaxis\": {\"gridcolor\": \"white\", \"linecolor\": \"white\", \"ticks\": \"\"}, \"baxis\": {\"gridcolor\": \"white\", \"linecolor\": \"white\", \"ticks\": \"\"}, \"bgcolor\": \"#E5ECF6\", \"caxis\": {\"gridcolor\": \"white\", \"linecolor\": \"white\", \"ticks\": \"\"}}, \"title\": {\"x\": 0.05}, \"xaxis\": {\"automargin\": true, \"gridcolor\": \"white\", \"linecolor\": \"white\", \"ticks\": \"\", \"zerolinecolor\": \"white\", \"zerolinewidth\": 2}, \"yaxis\": {\"automargin\": true, \"gridcolor\": \"white\", \"linecolor\": \"white\", \"ticks\": \"\", \"zerolinecolor\": \"white\", \"zerolinewidth\": 2}}}, \"title\": {\"text\": \"\\uc18c\\uc18d\\uadf8\\ub8f9\\ubcc4 \\ud0dc\\ub3c4\\uc801 \\uc601\\uc5ed \\uc218\\uc900 \\ud3c9\\uade0\", \"x\": 0.5}, \"xaxis\": {\"tickfont\": {\"size\": 13}}, \"yaxis\": {\"tickfont\": {\"size\": 13}}},\n",
              "                        {\"responsive\": true}\n",
              "                    ).then(function(){\n",
              "                            \n",
              "var gd = document.getElementById('5fe8d629-30df-4757-9803-411b9bbe1677');\n",
              "var x = new MutationObserver(function (mutations, observer) {{\n",
              "        var display = window.getComputedStyle(gd).display;\n",
              "        if (!display || display === 'none') {{\n",
              "            console.log([gd, 'removed!']);\n",
              "            Plotly.purge(gd);\n",
              "            observer.disconnect();\n",
              "        }}\n",
              "}});\n",
              "\n",
              "// Listen for the removal of the full notebook cells\n",
              "var notebookContainer = gd.closest('#notebook-container');\n",
              "if (notebookContainer) {{\n",
              "    x.observe(notebookContainer, {childList: true});\n",
              "}}\n",
              "\n",
              "// Listen for the clearing of the current output cell\n",
              "var outputEl = gd.closest('.output');\n",
              "if (outputEl) {{\n",
              "    x.observe(outputEl, {childList: true});\n",
              "}}\n",
              "\n",
              "                        })\n",
              "                };\n",
              "                });\n",
              "            </script>\n",
              "        </div>"
            ]
          },
          "metadata": {
            "tags": []
          }
        }
      ]
    },
    {
      "cell_type": "code",
      "metadata": {
        "colab_type": "code",
        "id": "cnovFb8O1SzG",
        "colab": {}
      },
      "source": [
        ""
      ],
      "execution_count": 0,
      "outputs": []
    },
    {
      "cell_type": "code",
      "metadata": {
        "colab_type": "code",
        "id": "ls7VabLm1S5y",
        "colab": {}
      },
      "source": [
        ""
      ],
      "execution_count": 0,
      "outputs": []
    },
    {
      "cell_type": "code",
      "metadata": {
        "colab_type": "code",
        "id": "TE4o8YzN1TA4",
        "colab": {}
      },
      "source": [
        ""
      ],
      "execution_count": 0,
      "outputs": []
    },
    {
      "cell_type": "code",
      "metadata": {
        "colab_type": "code",
        "id": "x4fHSxFg1TJD",
        "colab": {}
      },
      "source": [
        ""
      ],
      "execution_count": 0,
      "outputs": []
    },
    {
      "cell_type": "code",
      "metadata": {
        "colab_type": "code",
        "id": "akuMjzQV1TQ8",
        "colab": {}
      },
      "source": [
        ""
      ],
      "execution_count": 0,
      "outputs": []
    },
    {
      "cell_type": "markdown",
      "metadata": {
        "colab_type": "text",
        "id": "c8yiEUOgH__g"
      },
      "source": [
        "## 교육생 관심-전문분야"
      ]
    },
    {
      "cell_type": "markdown",
      "metadata": {
        "colab_type": "text",
        "id": "AfIf6awZxng5"
      },
      "source": [
        "### y축 관심-전문분야 구분"
      ]
    },
    {
      "cell_type": "code",
      "metadata": {
        "colab_type": "code",
        "id": "BQefXnGhmFVk",
        "colab": {}
      },
      "source": [
        "scp_field = scp_reg.copy()\n",
        "scp_field['전문분야(대)'] = scp_field['전문분야(대)'].apply(lambda x: x[0:len(x)] +\"(전문)\")\n",
        "scp_field['관심분야(대)-편집'] = scp_field['관심분야(대)-편집'].apply(lambda x: x[0:len(x)] +\"(관심)\")"
      ],
      "execution_count": 0,
      "outputs": []
    },
    {
      "cell_type": "code",
      "metadata": {
        "colab_type": "code",
        "id": "kkHzU1h9OGuI",
        "outputId": "16b6f217-9a2a-48e0-eac8-8251a0e938ea",
        "colab": {
          "base_uri": "https://localhost:8080/",
          "height": 817
        }
      },
      "source": [
        "# Create figure with secondary y-axis\n",
        "fig = make_subplots(specs=[[{\"secondary_y\": True}]])\n",
        "\n",
        "# Add traces\n",
        "fig.add_trace(go.Scatter(\n",
        "    x=scp_field['국문성명'],\n",
        "    y=scp_field['전문분야(대)'],  \n",
        "    hoverinfo='skip',\n",
        "    mode='markers',\n",
        "    marker_size=8,\n",
        "    # mode='markers+text',\n",
        "    # text=\"전문: \"+scp_field['전문분야(대)'],\n",
        "    # textfont_size = 8,\n",
        "    # textposition=\"top right\",\n",
        "    name=\"전문분야\"),\n",
        "    secondary_y=False\n",
        ")\n",
        "\n",
        "fig.add_trace(go.Scatter(\n",
        "    x=scp_field['국문성명'],\n",
        "    y=scp_field['관심분야(대)-편집'], \n",
        "    hoverinfo='skip',\n",
        "    mode='markers',\n",
        "    marker_size=8,\n",
        "    # mode='markers+text',\n",
        "    # text=\"관심: \"+scp_field['관심분야(대)-편집'],\n",
        "    # textfont_size = 8,\n",
        "    # textposition=\"top right\",\n",
        "    name=\"관심분야\"),\n",
        "    secondary_y=True\n",
        ")\n",
        "\n",
        "# fig.add_trace(go.Scatter(\n",
        "#     y=0, \n",
        "#     mode=\"lines\"), \n",
        "#     secondary_y=False\n",
        "# )\n",
        "\n",
        "# Add figure title\n",
        "fig.update_layout(\n",
        "    title_text=\"교육생 전문-관심분야 비교\", \n",
        "    width=1500,\n",
        "    height=800,\n",
        ")\n",
        "\n",
        "# Set x-axis title\n",
        "fig.update_xaxes(title_text=\"<b>교육생</b>\")\n",
        "\n",
        "\n",
        "# Set y-axes titles\n",
        "fig.update_yaxes(secondary_y=False, gridwidth=0.05, gridcolor='rgba(99,110,250,0.2)')\n",
        "fig.update_yaxes(secondary_y=True, gridwidth=0.05, gridcolor='rgba(239,85,59,0.2)')\n",
        "fig.update_yaxes(secondary_y=False, gridwidth=0.05, )\n",
        "                 # gridcolor='rgba(99,110,250,0.2)'#\n",
        "\n",
        "fig.show()"
      ],
      "execution_count": 0,
      "outputs": [
        {
          "output_type": "display_data",
          "data": {
            "application/vnd.plotly.v1+json": {
              "config": {
                "plotlyServerURL": "https://plot.ly"
              },
              "data": [
                {
                  "hoverinfo": "skip",
                  "marker": {
                    "size": 8
                  },
                  "mode": "markers",
                  "name": "전문분야",
                  "type": "scatter",
                  "x": [
                    "고주연",
                    "고홍석",
                    "김대선",
                    "김상헌",
                    "김세웅",
                    "김영한",
                    "김윤규",
                    "나기권",
                    "류광철",
                    "박순규",
                    "박훈병",
                    "백영희",
                    "안명수",
                    "유우린",
                    "윤성일",
                    "이영한",
                    "이은숙",
                    "이현희",
                    "장영민",
                    "정재후",
                    "최선인",
                    "하미경"
                  ],
                  "xaxis": "x",
                  "y": [
                    "교통(전문)",
                    "교통(전문)",
                    "폐기물(전문)",
                    "도시철도(전문)",
                    "국제협력(전문)",
                    "행정(전문)",
                    "행정(전문)",
                    "상수도(전문)",
                    "국제협력(전문)",
                    "주택(전문)",
                    "전자정부(전문)",
                    "전자정부(전문)",
                    "국제협력(전문)",
                    "도시개발(전문)",
                    "환경(전문)",
                    "전자정부(전문)",
                    "도시개발(전문)",
                    "주택(전문)",
                    "국제협력(전문)",
                    "소방방재(전문)",
                    "전자정부(전문)",
                    "행정(전문)"
                  ],
                  "yaxis": "y"
                },
                {
                  "hoverinfo": "skip",
                  "marker": {
                    "size": 8
                  },
                  "mode": "markers",
                  "name": "관심분야",
                  "type": "scatter",
                  "x": [
                    "고주연",
                    "고홍석",
                    "김대선",
                    "김상헌",
                    "김세웅",
                    "김영한",
                    "김윤규",
                    "나기권",
                    "류광철",
                    "박순규",
                    "박훈병",
                    "백영희",
                    "안명수",
                    "유우린",
                    "윤성일",
                    "이영한",
                    "이은숙",
                    "이현희",
                    "장영민",
                    "정재후",
                    "최선인",
                    "하미경"
                  ],
                  "xaxis": "x",
                  "y": [
                    "교통(관심)",
                    "교통(관심)",
                    "폐기물(관심)",
                    "도시철도(관심)",
                    "없음(관심)",
                    "환경(관심)",
                    "전자정부(관심)",
                    "환경(관심)",
                    "교통(관심)",
                    "주택(관심)",
                    "전자정부(관심)",
                    "전자정부(관심)",
                    "상하수도(관심)",
                    "도시개발(관심)",
                    "환경(관심)",
                    "전자정부(관심)",
                    "도시개발(관심)",
                    "주택(관심)",
                    "도시개발(관심)",
                    "전자정부(관심)",
                    "전자정부(관심)",
                    "전자정부(관심)"
                  ],
                  "yaxis": "y2"
                }
              ],
              "layout": {
                "height": 800,
                "template": {
                  "data": {
                    "bar": [
                      {
                        "error_x": {
                          "color": "#2a3f5f"
                        },
                        "error_y": {
                          "color": "#2a3f5f"
                        },
                        "marker": {
                          "line": {
                            "color": "#E5ECF6",
                            "width": 0.5
                          }
                        },
                        "type": "bar"
                      }
                    ],
                    "barpolar": [
                      {
                        "marker": {
                          "line": {
                            "color": "#E5ECF6",
                            "width": 0.5
                          }
                        },
                        "type": "barpolar"
                      }
                    ],
                    "carpet": [
                      {
                        "aaxis": {
                          "endlinecolor": "#2a3f5f",
                          "gridcolor": "white",
                          "linecolor": "white",
                          "minorgridcolor": "white",
                          "startlinecolor": "#2a3f5f"
                        },
                        "baxis": {
                          "endlinecolor": "#2a3f5f",
                          "gridcolor": "white",
                          "linecolor": "white",
                          "minorgridcolor": "white",
                          "startlinecolor": "#2a3f5f"
                        },
                        "type": "carpet"
                      }
                    ],
                    "choropleth": [
                      {
                        "colorbar": {
                          "outlinewidth": 0,
                          "ticks": ""
                        },
                        "type": "choropleth"
                      }
                    ],
                    "contour": [
                      {
                        "colorbar": {
                          "outlinewidth": 0,
                          "ticks": ""
                        },
                        "colorscale": [
                          [
                            0,
                            "#0d0887"
                          ],
                          [
                            0.1111111111111111,
                            "#46039f"
                          ],
                          [
                            0.2222222222222222,
                            "#7201a8"
                          ],
                          [
                            0.3333333333333333,
                            "#9c179e"
                          ],
                          [
                            0.4444444444444444,
                            "#bd3786"
                          ],
                          [
                            0.5555555555555556,
                            "#d8576b"
                          ],
                          [
                            0.6666666666666666,
                            "#ed7953"
                          ],
                          [
                            0.7777777777777778,
                            "#fb9f3a"
                          ],
                          [
                            0.8888888888888888,
                            "#fdca26"
                          ],
                          [
                            1,
                            "#f0f921"
                          ]
                        ],
                        "type": "contour"
                      }
                    ],
                    "contourcarpet": [
                      {
                        "colorbar": {
                          "outlinewidth": 0,
                          "ticks": ""
                        },
                        "type": "contourcarpet"
                      }
                    ],
                    "heatmap": [
                      {
                        "colorbar": {
                          "outlinewidth": 0,
                          "ticks": ""
                        },
                        "colorscale": [
                          [
                            0,
                            "#0d0887"
                          ],
                          [
                            0.1111111111111111,
                            "#46039f"
                          ],
                          [
                            0.2222222222222222,
                            "#7201a8"
                          ],
                          [
                            0.3333333333333333,
                            "#9c179e"
                          ],
                          [
                            0.4444444444444444,
                            "#bd3786"
                          ],
                          [
                            0.5555555555555556,
                            "#d8576b"
                          ],
                          [
                            0.6666666666666666,
                            "#ed7953"
                          ],
                          [
                            0.7777777777777778,
                            "#fb9f3a"
                          ],
                          [
                            0.8888888888888888,
                            "#fdca26"
                          ],
                          [
                            1,
                            "#f0f921"
                          ]
                        ],
                        "type": "heatmap"
                      }
                    ],
                    "heatmapgl": [
                      {
                        "colorbar": {
                          "outlinewidth": 0,
                          "ticks": ""
                        },
                        "colorscale": [
                          [
                            0,
                            "#0d0887"
                          ],
                          [
                            0.1111111111111111,
                            "#46039f"
                          ],
                          [
                            0.2222222222222222,
                            "#7201a8"
                          ],
                          [
                            0.3333333333333333,
                            "#9c179e"
                          ],
                          [
                            0.4444444444444444,
                            "#bd3786"
                          ],
                          [
                            0.5555555555555556,
                            "#d8576b"
                          ],
                          [
                            0.6666666666666666,
                            "#ed7953"
                          ],
                          [
                            0.7777777777777778,
                            "#fb9f3a"
                          ],
                          [
                            0.8888888888888888,
                            "#fdca26"
                          ],
                          [
                            1,
                            "#f0f921"
                          ]
                        ],
                        "type": "heatmapgl"
                      }
                    ],
                    "histogram": [
                      {
                        "marker": {
                          "colorbar": {
                            "outlinewidth": 0,
                            "ticks": ""
                          }
                        },
                        "type": "histogram"
                      }
                    ],
                    "histogram2d": [
                      {
                        "colorbar": {
                          "outlinewidth": 0,
                          "ticks": ""
                        },
                        "colorscale": [
                          [
                            0,
                            "#0d0887"
                          ],
                          [
                            0.1111111111111111,
                            "#46039f"
                          ],
                          [
                            0.2222222222222222,
                            "#7201a8"
                          ],
                          [
                            0.3333333333333333,
                            "#9c179e"
                          ],
                          [
                            0.4444444444444444,
                            "#bd3786"
                          ],
                          [
                            0.5555555555555556,
                            "#d8576b"
                          ],
                          [
                            0.6666666666666666,
                            "#ed7953"
                          ],
                          [
                            0.7777777777777778,
                            "#fb9f3a"
                          ],
                          [
                            0.8888888888888888,
                            "#fdca26"
                          ],
                          [
                            1,
                            "#f0f921"
                          ]
                        ],
                        "type": "histogram2d"
                      }
                    ],
                    "histogram2dcontour": [
                      {
                        "colorbar": {
                          "outlinewidth": 0,
                          "ticks": ""
                        },
                        "colorscale": [
                          [
                            0,
                            "#0d0887"
                          ],
                          [
                            0.1111111111111111,
                            "#46039f"
                          ],
                          [
                            0.2222222222222222,
                            "#7201a8"
                          ],
                          [
                            0.3333333333333333,
                            "#9c179e"
                          ],
                          [
                            0.4444444444444444,
                            "#bd3786"
                          ],
                          [
                            0.5555555555555556,
                            "#d8576b"
                          ],
                          [
                            0.6666666666666666,
                            "#ed7953"
                          ],
                          [
                            0.7777777777777778,
                            "#fb9f3a"
                          ],
                          [
                            0.8888888888888888,
                            "#fdca26"
                          ],
                          [
                            1,
                            "#f0f921"
                          ]
                        ],
                        "type": "histogram2dcontour"
                      }
                    ],
                    "mesh3d": [
                      {
                        "colorbar": {
                          "outlinewidth": 0,
                          "ticks": ""
                        },
                        "type": "mesh3d"
                      }
                    ],
                    "parcoords": [
                      {
                        "line": {
                          "colorbar": {
                            "outlinewidth": 0,
                            "ticks": ""
                          }
                        },
                        "type": "parcoords"
                      }
                    ],
                    "scatter": [
                      {
                        "marker": {
                          "colorbar": {
                            "outlinewidth": 0,
                            "ticks": ""
                          }
                        },
                        "type": "scatter"
                      }
                    ],
                    "scatter3d": [
                      {
                        "line": {
                          "colorbar": {
                            "outlinewidth": 0,
                            "ticks": ""
                          }
                        },
                        "marker": {
                          "colorbar": {
                            "outlinewidth": 0,
                            "ticks": ""
                          }
                        },
                        "type": "scatter3d"
                      }
                    ],
                    "scattercarpet": [
                      {
                        "marker": {
                          "colorbar": {
                            "outlinewidth": 0,
                            "ticks": ""
                          }
                        },
                        "type": "scattercarpet"
                      }
                    ],
                    "scattergeo": [
                      {
                        "marker": {
                          "colorbar": {
                            "outlinewidth": 0,
                            "ticks": ""
                          }
                        },
                        "type": "scattergeo"
                      }
                    ],
                    "scattergl": [
                      {
                        "marker": {
                          "colorbar": {
                            "outlinewidth": 0,
                            "ticks": ""
                          }
                        },
                        "type": "scattergl"
                      }
                    ],
                    "scattermapbox": [
                      {
                        "marker": {
                          "colorbar": {
                            "outlinewidth": 0,
                            "ticks": ""
                          }
                        },
                        "type": "scattermapbox"
                      }
                    ],
                    "scatterpolar": [
                      {
                        "marker": {
                          "colorbar": {
                            "outlinewidth": 0,
                            "ticks": ""
                          }
                        },
                        "type": "scatterpolar"
                      }
                    ],
                    "scatterpolargl": [
                      {
                        "marker": {
                          "colorbar": {
                            "outlinewidth": 0,
                            "ticks": ""
                          }
                        },
                        "type": "scatterpolargl"
                      }
                    ],
                    "scatterternary": [
                      {
                        "marker": {
                          "colorbar": {
                            "outlinewidth": 0,
                            "ticks": ""
                          }
                        },
                        "type": "scatterternary"
                      }
                    ],
                    "surface": [
                      {
                        "colorbar": {
                          "outlinewidth": 0,
                          "ticks": ""
                        },
                        "colorscale": [
                          [
                            0,
                            "#0d0887"
                          ],
                          [
                            0.1111111111111111,
                            "#46039f"
                          ],
                          [
                            0.2222222222222222,
                            "#7201a8"
                          ],
                          [
                            0.3333333333333333,
                            "#9c179e"
                          ],
                          [
                            0.4444444444444444,
                            "#bd3786"
                          ],
                          [
                            0.5555555555555556,
                            "#d8576b"
                          ],
                          [
                            0.6666666666666666,
                            "#ed7953"
                          ],
                          [
                            0.7777777777777778,
                            "#fb9f3a"
                          ],
                          [
                            0.8888888888888888,
                            "#fdca26"
                          ],
                          [
                            1,
                            "#f0f921"
                          ]
                        ],
                        "type": "surface"
                      }
                    ],
                    "table": [
                      {
                        "cells": {
                          "fill": {
                            "color": "#EBF0F8"
                          },
                          "line": {
                            "color": "white"
                          }
                        },
                        "header": {
                          "fill": {
                            "color": "#C8D4E3"
                          },
                          "line": {
                            "color": "white"
                          }
                        },
                        "type": "table"
                      }
                    ]
                  },
                  "layout": {
                    "annotationdefaults": {
                      "arrowcolor": "#2a3f5f",
                      "arrowhead": 0,
                      "arrowwidth": 1
                    },
                    "colorscale": {
                      "diverging": [
                        [
                          0,
                          "#8e0152"
                        ],
                        [
                          0.1,
                          "#c51b7d"
                        ],
                        [
                          0.2,
                          "#de77ae"
                        ],
                        [
                          0.3,
                          "#f1b6da"
                        ],
                        [
                          0.4,
                          "#fde0ef"
                        ],
                        [
                          0.5,
                          "#f7f7f7"
                        ],
                        [
                          0.6,
                          "#e6f5d0"
                        ],
                        [
                          0.7,
                          "#b8e186"
                        ],
                        [
                          0.8,
                          "#7fbc41"
                        ],
                        [
                          0.9,
                          "#4d9221"
                        ],
                        [
                          1,
                          "#276419"
                        ]
                      ],
                      "sequential": [
                        [
                          0,
                          "#0d0887"
                        ],
                        [
                          0.1111111111111111,
                          "#46039f"
                        ],
                        [
                          0.2222222222222222,
                          "#7201a8"
                        ],
                        [
                          0.3333333333333333,
                          "#9c179e"
                        ],
                        [
                          0.4444444444444444,
                          "#bd3786"
                        ],
                        [
                          0.5555555555555556,
                          "#d8576b"
                        ],
                        [
                          0.6666666666666666,
                          "#ed7953"
                        ],
                        [
                          0.7777777777777778,
                          "#fb9f3a"
                        ],
                        [
                          0.8888888888888888,
                          "#fdca26"
                        ],
                        [
                          1,
                          "#f0f921"
                        ]
                      ],
                      "sequentialminus": [
                        [
                          0,
                          "#0d0887"
                        ],
                        [
                          0.1111111111111111,
                          "#46039f"
                        ],
                        [
                          0.2222222222222222,
                          "#7201a8"
                        ],
                        [
                          0.3333333333333333,
                          "#9c179e"
                        ],
                        [
                          0.4444444444444444,
                          "#bd3786"
                        ],
                        [
                          0.5555555555555556,
                          "#d8576b"
                        ],
                        [
                          0.6666666666666666,
                          "#ed7953"
                        ],
                        [
                          0.7777777777777778,
                          "#fb9f3a"
                        ],
                        [
                          0.8888888888888888,
                          "#fdca26"
                        ],
                        [
                          1,
                          "#f0f921"
                        ]
                      ]
                    },
                    "colorway": [
                      "#636efa",
                      "#EF553B",
                      "#00cc96",
                      "#ab63fa",
                      "#FFA15A",
                      "#19d3f3",
                      "#FF6692",
                      "#B6E880",
                      "#FF97FF",
                      "#FECB52"
                    ],
                    "font": {
                      "color": "#2a3f5f"
                    },
                    "geo": {
                      "bgcolor": "white",
                      "lakecolor": "white",
                      "landcolor": "#E5ECF6",
                      "showlakes": true,
                      "showland": true,
                      "subunitcolor": "white"
                    },
                    "hoverlabel": {
                      "align": "left"
                    },
                    "hovermode": "closest",
                    "mapbox": {
                      "style": "light"
                    },
                    "paper_bgcolor": "white",
                    "plot_bgcolor": "#E5ECF6",
                    "polar": {
                      "angularaxis": {
                        "gridcolor": "white",
                        "linecolor": "white",
                        "ticks": ""
                      },
                      "bgcolor": "#E5ECF6",
                      "radialaxis": {
                        "gridcolor": "white",
                        "linecolor": "white",
                        "ticks": ""
                      }
                    },
                    "scene": {
                      "xaxis": {
                        "backgroundcolor": "#E5ECF6",
                        "gridcolor": "white",
                        "gridwidth": 2,
                        "linecolor": "white",
                        "showbackground": true,
                        "ticks": "",
                        "zerolinecolor": "white"
                      },
                      "yaxis": {
                        "backgroundcolor": "#E5ECF6",
                        "gridcolor": "white",
                        "gridwidth": 2,
                        "linecolor": "white",
                        "showbackground": true,
                        "ticks": "",
                        "zerolinecolor": "white"
                      },
                      "zaxis": {
                        "backgroundcolor": "#E5ECF6",
                        "gridcolor": "white",
                        "gridwidth": 2,
                        "linecolor": "white",
                        "showbackground": true,
                        "ticks": "",
                        "zerolinecolor": "white"
                      }
                    },
                    "shapedefaults": {
                      "line": {
                        "color": "#2a3f5f"
                      }
                    },
                    "ternary": {
                      "aaxis": {
                        "gridcolor": "white",
                        "linecolor": "white",
                        "ticks": ""
                      },
                      "baxis": {
                        "gridcolor": "white",
                        "linecolor": "white",
                        "ticks": ""
                      },
                      "bgcolor": "#E5ECF6",
                      "caxis": {
                        "gridcolor": "white",
                        "linecolor": "white",
                        "ticks": ""
                      }
                    },
                    "title": {
                      "x": 0.05
                    },
                    "xaxis": {
                      "automargin": true,
                      "gridcolor": "white",
                      "linecolor": "white",
                      "ticks": "",
                      "zerolinecolor": "white",
                      "zerolinewidth": 2
                    },
                    "yaxis": {
                      "automargin": true,
                      "gridcolor": "white",
                      "linecolor": "white",
                      "ticks": "",
                      "zerolinecolor": "white",
                      "zerolinewidth": 2
                    }
                  }
                },
                "title": {
                  "text": "교육생 전문-관심분야 비교"
                },
                "width": 1500,
                "xaxis": {
                  "anchor": "y",
                  "autorange": true,
                  "domain": [
                    0,
                    0.94
                  ],
                  "range": [
                    -1.2759251697877139,
                    22.275925169787715
                  ],
                  "title": {
                    "text": "<b>교육생</b>"
                  },
                  "type": "category"
                },
                "yaxis": {
                  "anchor": "x",
                  "autorange": true,
                  "domain": [
                    0,
                    1
                  ],
                  "gridcolor": "rgba(99,110,250,0.2)",
                  "gridwidth": 0.05,
                  "range": [
                    -0.656934306569343,
                    10.656934306569344
                  ],
                  "type": "category"
                },
                "yaxis2": {
                  "anchor": "x",
                  "autorange": true,
                  "gridcolor": "rgba(239,85,59,0.2)",
                  "gridwidth": 0.05,
                  "overlaying": "y",
                  "range": [
                    -0.5255474452554745,
                    8.525547445255475
                  ],
                  "side": "right",
                  "type": "category"
                }
              }
            },
            "image/png": "[encoded data removed]",
            "text/html": [
              "<div>\n",
              "        \n",
              "        \n",
              "            <div id=\"0794c68b-5e98-4fee-b6d0-d3e46fd873dd\" class=\"plotly-graph-div\" style=\"height:800px; width:1500px;\"></div>\n",
              "            <script type=\"text/javascript\">\n",
              "                require([\"plotly\"], function(Plotly) {\n",
              "                    window.PLOTLYENV=window.PLOTLYENV || {};\n",
              "                    \n",
              "                if (document.getElementById(\"0794c68b-5e98-4fee-b6d0-d3e46fd873dd\")) {\n",
              "                    Plotly.newPlot(\n",
              "                        '0794c68b-5e98-4fee-b6d0-d3e46fd873dd',\n",
              "                        [{\"hoverinfo\": \"skip\", \"marker\": {\"size\": 8}, \"mode\": \"markers\", \"name\": \"\\uc804\\ubb38\\ubd84\\uc57c\", \"type\": \"scatter\", \"x\": [\"\\uace0\\uc8fc\\uc5f0\", \"\\uace0\\ud64d\\uc11d\", \"\\uae40\\ub300\\uc120\", \"\\uae40\\uc0c1\\ud5cc\", \"\\uae40\\uc138\\uc6c5\", \"\\uae40\\uc601\\ud55c\", \"\\uae40\\uc724\\uaddc\", \"\\ub098\\uae30\\uad8c\", \"\\ub958\\uad11\\ucca0\", \"\\ubc15\\uc21c\\uaddc\", \"\\ubc15\\ud6c8\\ubcd1\", \"\\ubc31\\uc601\\ud76c\", \"\\uc548\\uba85\\uc218\", \"\\uc720\\uc6b0\\ub9b0\", \"\\uc724\\uc131\\uc77c\", \"\\uc774\\uc601\\ud55c\", \"\\uc774\\uc740\\uc219\", \"\\uc774\\ud604\\ud76c\", \"\\uc7a5\\uc601\\ubbfc\", \"\\uc815\\uc7ac\\ud6c4\", \"\\ucd5c\\uc120\\uc778\", \"\\ud558\\ubbf8\\uacbd\"], \"xaxis\": \"x\", \"y\": [\"\\uad50\\ud1b5(\\uc804\\ubb38)\", \"\\uad50\\ud1b5(\\uc804\\ubb38)\", \"\\ud3d0\\uae30\\ubb3c(\\uc804\\ubb38)\", \"\\ub3c4\\uc2dc\\ucca0\\ub3c4(\\uc804\\ubb38)\", \"\\uad6d\\uc81c\\ud611\\ub825(\\uc804\\ubb38)\", \"\\ud589\\uc815(\\uc804\\ubb38)\", \"\\ud589\\uc815(\\uc804\\ubb38)\", \"\\uc0c1\\uc218\\ub3c4(\\uc804\\ubb38)\", \"\\uad6d\\uc81c\\ud611\\ub825(\\uc804\\ubb38)\", \"\\uc8fc\\ud0dd(\\uc804\\ubb38)\", \"\\uc804\\uc790\\uc815\\ubd80(\\uc804\\ubb38)\", \"\\uc804\\uc790\\uc815\\ubd80(\\uc804\\ubb38)\", \"\\uad6d\\uc81c\\ud611\\ub825(\\uc804\\ubb38)\", \"\\ub3c4\\uc2dc\\uac1c\\ubc1c(\\uc804\\ubb38)\", \"\\ud658\\uacbd(\\uc804\\ubb38)\", \"\\uc804\\uc790\\uc815\\ubd80(\\uc804\\ubb38)\", \"\\ub3c4\\uc2dc\\uac1c\\ubc1c(\\uc804\\ubb38)\", \"\\uc8fc\\ud0dd(\\uc804\\ubb38)\", \"\\uad6d\\uc81c\\ud611\\ub825(\\uc804\\ubb38)\", \"\\uc18c\\ubc29\\ubc29\\uc7ac(\\uc804\\ubb38)\", \"\\uc804\\uc790\\uc815\\ubd80(\\uc804\\ubb38)\", \"\\ud589\\uc815(\\uc804\\ubb38)\"], \"yaxis\": \"y\"}, {\"hoverinfo\": \"skip\", \"marker\": {\"size\": 8}, \"mode\": \"markers\", \"name\": \"\\uad00\\uc2ec\\ubd84\\uc57c\", \"type\": \"scatter\", \"x\": [\"\\uace0\\uc8fc\\uc5f0\", \"\\uace0\\ud64d\\uc11d\", \"\\uae40\\ub300\\uc120\", \"\\uae40\\uc0c1\\ud5cc\", \"\\uae40\\uc138\\uc6c5\", \"\\uae40\\uc601\\ud55c\", \"\\uae40\\uc724\\uaddc\", \"\\ub098\\uae30\\uad8c\", \"\\ub958\\uad11\\ucca0\", \"\\ubc15\\uc21c\\uaddc\", \"\\ubc15\\ud6c8\\ubcd1\", \"\\ubc31\\uc601\\ud76c\", \"\\uc548\\uba85\\uc218\", \"\\uc720\\uc6b0\\ub9b0\", \"\\uc724\\uc131\\uc77c\", \"\\uc774\\uc601\\ud55c\", \"\\uc774\\uc740\\uc219\", \"\\uc774\\ud604\\ud76c\", \"\\uc7a5\\uc601\\ubbfc\", \"\\uc815\\uc7ac\\ud6c4\", \"\\ucd5c\\uc120\\uc778\", \"\\ud558\\ubbf8\\uacbd\"], \"xaxis\": \"x\", \"y\": [\"\\uad50\\ud1b5(\\uad00\\uc2ec)\", \"\\uad50\\ud1b5(\\uad00\\uc2ec)\", \"\\ud3d0\\uae30\\ubb3c(\\uad00\\uc2ec)\", \"\\ub3c4\\uc2dc\\ucca0\\ub3c4(\\uad00\\uc2ec)\", \"\\uc5c6\\uc74c(\\uad00\\uc2ec)\", \"\\ud658\\uacbd(\\uad00\\uc2ec)\", \"\\uc804\\uc790\\uc815\\ubd80(\\uad00\\uc2ec)\", \"\\ud658\\uacbd(\\uad00\\uc2ec)\", \"\\uad50\\ud1b5(\\uad00\\uc2ec)\", \"\\uc8fc\\ud0dd(\\uad00\\uc2ec)\", \"\\uc804\\uc790\\uc815\\ubd80(\\uad00\\uc2ec)\", \"\\uc804\\uc790\\uc815\\ubd80(\\uad00\\uc2ec)\", \"\\uc0c1\\ud558\\uc218\\ub3c4(\\uad00\\uc2ec)\", \"\\ub3c4\\uc2dc\\uac1c\\ubc1c(\\uad00\\uc2ec)\", \"\\ud658\\uacbd(\\uad00\\uc2ec)\", \"\\uc804\\uc790\\uc815\\ubd80(\\uad00\\uc2ec)\", \"\\ub3c4\\uc2dc\\uac1c\\ubc1c(\\uad00\\uc2ec)\", \"\\uc8fc\\ud0dd(\\uad00\\uc2ec)\", \"\\ub3c4\\uc2dc\\uac1c\\ubc1c(\\uad00\\uc2ec)\", \"\\uc804\\uc790\\uc815\\ubd80(\\uad00\\uc2ec)\", \"\\uc804\\uc790\\uc815\\ubd80(\\uad00\\uc2ec)\", \"\\uc804\\uc790\\uc815\\ubd80(\\uad00\\uc2ec)\"], \"yaxis\": \"y2\"}],\n",
              "                        {\"height\": 800, \"template\": {\"data\": {\"bar\": [{\"error_x\": {\"color\": \"#2a3f5f\"}, \"error_y\": {\"color\": \"#2a3f5f\"}, \"marker\": {\"line\": {\"color\": \"#E5ECF6\", \"width\": 0.5}}, \"type\": \"bar\"}], \"barpolar\": [{\"marker\": {\"line\": {\"color\": \"#E5ECF6\", \"width\": 0.5}}, \"type\": \"barpolar\"}], \"carpet\": [{\"aaxis\": {\"endlinecolor\": \"#2a3f5f\", \"gridcolor\": \"white\", \"linecolor\": \"white\", \"minorgridcolor\": \"white\", \"startlinecolor\": \"#2a3f5f\"}, \"baxis\": {\"endlinecolor\": \"#2a3f5f\", \"gridcolor\": \"white\", \"linecolor\": \"white\", \"minorgridcolor\": \"white\", \"startlinecolor\": \"#2a3f5f\"}, \"type\": \"carpet\"}], \"choropleth\": [{\"colorbar\": {\"outlinewidth\": 0, \"ticks\": \"\"}, \"type\": \"choropleth\"}], \"contour\": [{\"colorbar\": {\"outlinewidth\": 0, \"ticks\": \"\"}, \"colorscale\": [[0.0, \"#0d0887\"], [0.1111111111111111, \"#46039f\"], [0.2222222222222222, \"#7201a8\"], [0.3333333333333333, \"#9c179e\"], [0.4444444444444444, \"#bd3786\"], [0.5555555555555556, \"#d8576b\"], [0.6666666666666666, \"#ed7953\"], [0.7777777777777778, \"#fb9f3a\"], [0.8888888888888888, \"#fdca26\"], [1.0, \"#f0f921\"]], \"type\": \"contour\"}], \"contourcarpet\": [{\"colorbar\": {\"outlinewidth\": 0, \"ticks\": \"\"}, \"type\": \"contourcarpet\"}], \"heatmap\": [{\"colorbar\": {\"outlinewidth\": 0, \"ticks\": \"\"}, \"colorscale\": [[0.0, \"#0d0887\"], [0.1111111111111111, \"#46039f\"], [0.2222222222222222, \"#7201a8\"], [0.3333333333333333, \"#9c179e\"], [0.4444444444444444, \"#bd3786\"], [0.5555555555555556, \"#d8576b\"], [0.6666666666666666, \"#ed7953\"], [0.7777777777777778, \"#fb9f3a\"], [0.8888888888888888, \"#fdca26\"], [1.0, \"#f0f921\"]], \"type\": \"heatmap\"}], \"heatmapgl\": [{\"colorbar\": {\"outlinewidth\": 0, \"ticks\": \"\"}, \"colorscale\": [[0.0, \"#0d0887\"], [0.1111111111111111, \"#46039f\"], [0.2222222222222222, \"#7201a8\"], [0.3333333333333333, \"#9c179e\"], [0.4444444444444444, \"#bd3786\"], [0.5555555555555556, \"#d8576b\"], [0.6666666666666666, \"#ed7953\"], [0.7777777777777778, \"#fb9f3a\"], [0.8888888888888888, \"#fdca26\"], [1.0, \"#f0f921\"]], \"type\": \"heatmapgl\"}], \"histogram\": [{\"marker\": {\"colorbar\": {\"outlinewidth\": 0, \"ticks\": \"\"}}, \"type\": \"histogram\"}], \"histogram2d\": [{\"colorbar\": {\"outlinewidth\": 0, \"ticks\": \"\"}, \"colorscale\": [[0.0, \"#0d0887\"], [0.1111111111111111, \"#46039f\"], [0.2222222222222222, \"#7201a8\"], [0.3333333333333333, \"#9c179e\"], [0.4444444444444444, \"#bd3786\"], [0.5555555555555556, \"#d8576b\"], [0.6666666666666666, \"#ed7953\"], [0.7777777777777778, \"#fb9f3a\"], [0.8888888888888888, \"#fdca26\"], [1.0, \"#f0f921\"]], \"type\": \"histogram2d\"}], \"histogram2dcontour\": [{\"colorbar\": {\"outlinewidth\": 0, \"ticks\": \"\"}, \"colorscale\": [[0.0, \"#0d0887\"], [0.1111111111111111, \"#46039f\"], [0.2222222222222222, \"#7201a8\"], [0.3333333333333333, \"#9c179e\"], [0.4444444444444444, \"#bd3786\"], [0.5555555555555556, \"#d8576b\"], [0.6666666666666666, \"#ed7953\"], [0.7777777777777778, \"#fb9f3a\"], [0.8888888888888888, \"#fdca26\"], [1.0, \"#f0f921\"]], \"type\": \"histogram2dcontour\"}], \"mesh3d\": [{\"colorbar\": {\"outlinewidth\": 0, \"ticks\": \"\"}, \"type\": \"mesh3d\"}], \"parcoords\": [{\"line\": {\"colorbar\": {\"outlinewidth\": 0, \"ticks\": \"\"}}, \"type\": \"parcoords\"}], \"scatter\": [{\"marker\": {\"colorbar\": {\"outlinewidth\": 0, \"ticks\": \"\"}}, \"type\": \"scatter\"}], \"scatter3d\": [{\"line\": {\"colorbar\": {\"outlinewidth\": 0, \"ticks\": \"\"}}, \"marker\": {\"colorbar\": {\"outlinewidth\": 0, \"ticks\": \"\"}}, \"type\": \"scatter3d\"}], \"scattercarpet\": [{\"marker\": {\"colorbar\": {\"outlinewidth\": 0, \"ticks\": \"\"}}, \"type\": \"scattercarpet\"}], \"scattergeo\": [{\"marker\": {\"colorbar\": {\"outlinewidth\": 0, \"ticks\": \"\"}}, \"type\": \"scattergeo\"}], \"scattergl\": [{\"marker\": {\"colorbar\": {\"outlinewidth\": 0, \"ticks\": \"\"}}, \"type\": \"scattergl\"}], \"scattermapbox\": [{\"marker\": {\"colorbar\": {\"outlinewidth\": 0, \"ticks\": \"\"}}, \"type\": \"scattermapbox\"}], \"scatterpolar\": [{\"marker\": {\"colorbar\": {\"outlinewidth\": 0, \"ticks\": \"\"}}, \"type\": \"scatterpolar\"}], \"scatterpolargl\": [{\"marker\": {\"colorbar\": {\"outlinewidth\": 0, \"ticks\": \"\"}}, \"type\": \"scatterpolargl\"}], \"scatterternary\": [{\"marker\": {\"colorbar\": {\"outlinewidth\": 0, \"ticks\": \"\"}}, \"type\": \"scatterternary\"}], \"surface\": [{\"colorbar\": {\"outlinewidth\": 0, \"ticks\": \"\"}, \"colorscale\": [[0.0, \"#0d0887\"], [0.1111111111111111, \"#46039f\"], [0.2222222222222222, \"#7201a8\"], [0.3333333333333333, \"#9c179e\"], [0.4444444444444444, \"#bd3786\"], [0.5555555555555556, \"#d8576b\"], [0.6666666666666666, \"#ed7953\"], [0.7777777777777778, \"#fb9f3a\"], [0.8888888888888888, \"#fdca26\"], [1.0, \"#f0f921\"]], \"type\": \"surface\"}], \"table\": [{\"cells\": {\"fill\": {\"color\": \"#EBF0F8\"}, \"line\": {\"color\": \"white\"}}, \"header\": {\"fill\": {\"color\": \"#C8D4E3\"}, \"line\": {\"color\": \"white\"}}, \"type\": \"table\"}]}, \"layout\": {\"annotationdefaults\": {\"arrowcolor\": \"#2a3f5f\", \"arrowhead\": 0, \"arrowwidth\": 1}, \"colorscale\": {\"diverging\": [[0, \"#8e0152\"], [0.1, \"#c51b7d\"], [0.2, \"#de77ae\"], [0.3, \"#f1b6da\"], [0.4, \"#fde0ef\"], [0.5, \"#f7f7f7\"], [0.6, \"#e6f5d0\"], [0.7, \"#b8e186\"], [0.8, \"#7fbc41\"], [0.9, \"#4d9221\"], [1, \"#276419\"]], \"sequential\": [[0.0, \"#0d0887\"], [0.1111111111111111, \"#46039f\"], [0.2222222222222222, \"#7201a8\"], [0.3333333333333333, \"#9c179e\"], [0.4444444444444444, \"#bd3786\"], [0.5555555555555556, \"#d8576b\"], [0.6666666666666666, \"#ed7953\"], [0.7777777777777778, \"#fb9f3a\"], [0.8888888888888888, \"#fdca26\"], [1.0, \"#f0f921\"]], \"sequentialminus\": [[0.0, \"#0d0887\"], [0.1111111111111111, \"#46039f\"], [0.2222222222222222, \"#7201a8\"], [0.3333333333333333, \"#9c179e\"], [0.4444444444444444, \"#bd3786\"], [0.5555555555555556, \"#d8576b\"], [0.6666666666666666, \"#ed7953\"], [0.7777777777777778, \"#fb9f3a\"], [0.8888888888888888, \"#fdca26\"], [1.0, \"#f0f921\"]]}, \"colorway\": [\"#636efa\", \"#EF553B\", \"#00cc96\", \"#ab63fa\", \"#FFA15A\", \"#19d3f3\", \"#FF6692\", \"#B6E880\", \"#FF97FF\", \"#FECB52\"], \"font\": {\"color\": \"#2a3f5f\"}, \"geo\": {\"bgcolor\": \"white\", \"lakecolor\": \"white\", \"landcolor\": \"#E5ECF6\", \"showlakes\": true, \"showland\": true, \"subunitcolor\": \"white\"}, \"hoverlabel\": {\"align\": \"left\"}, \"hovermode\": \"closest\", \"mapbox\": {\"style\": \"light\"}, \"paper_bgcolor\": \"white\", \"plot_bgcolor\": \"#E5ECF6\", \"polar\": {\"angularaxis\": {\"gridcolor\": \"white\", \"linecolor\": \"white\", \"ticks\": \"\"}, \"bgcolor\": \"#E5ECF6\", \"radialaxis\": {\"gridcolor\": \"white\", \"linecolor\": \"white\", \"ticks\": \"\"}}, \"scene\": {\"xaxis\": {\"backgroundcolor\": \"#E5ECF6\", \"gridcolor\": \"white\", \"gridwidth\": 2, \"linecolor\": \"white\", \"showbackground\": true, \"ticks\": \"\", \"zerolinecolor\": \"white\"}, \"yaxis\": {\"backgroundcolor\": \"#E5ECF6\", \"gridcolor\": \"white\", \"gridwidth\": 2, \"linecolor\": \"white\", \"showbackground\": true, \"ticks\": \"\", \"zerolinecolor\": \"white\"}, \"zaxis\": {\"backgroundcolor\": \"#E5ECF6\", \"gridcolor\": \"white\", \"gridwidth\": 2, \"linecolor\": \"white\", \"showbackground\": true, \"ticks\": \"\", \"zerolinecolor\": \"white\"}}, \"shapedefaults\": {\"line\": {\"color\": \"#2a3f5f\"}}, \"ternary\": {\"aaxis\": {\"gridcolor\": \"white\", \"linecolor\": \"white\", \"ticks\": \"\"}, \"baxis\": {\"gridcolor\": \"white\", \"linecolor\": \"white\", \"ticks\": \"\"}, \"bgcolor\": \"#E5ECF6\", \"caxis\": {\"gridcolor\": \"white\", \"linecolor\": \"white\", \"ticks\": \"\"}}, \"title\": {\"x\": 0.05}, \"xaxis\": {\"automargin\": true, \"gridcolor\": \"white\", \"linecolor\": \"white\", \"ticks\": \"\", \"zerolinecolor\": \"white\", \"zerolinewidth\": 2}, \"yaxis\": {\"automargin\": true, \"gridcolor\": \"white\", \"linecolor\": \"white\", \"ticks\": \"\", \"zerolinecolor\": \"white\", \"zerolinewidth\": 2}}}, \"title\": {\"text\": \"\\uad50\\uc721\\uc0dd \\uc804\\ubb38-\\uad00\\uc2ec\\ubd84\\uc57c \\ube44\\uad50\"}, \"width\": 1500, \"xaxis\": {\"anchor\": \"y\", \"domain\": [0.0, 0.94], \"title\": {\"text\": \"<b>\\uad50\\uc721\\uc0dd</b>\"}}, \"yaxis\": {\"anchor\": \"x\", \"domain\": [0.0, 1.0], \"gridcolor\": \"rgba(99,110,250,0.2)\", \"gridwidth\": 0.05}, \"yaxis2\": {\"anchor\": \"x\", \"gridcolor\": \"rgba(239,85,59,0.2)\", \"gridwidth\": 0.05, \"overlaying\": \"y\", \"side\": \"right\"}},\n",
              "                        {\"responsive\": true}\n",
              "                    ).then(function(){\n",
              "                            \n",
              "var gd = document.getElementById('0794c68b-5e98-4fee-b6d0-d3e46fd873dd');\n",
              "var x = new MutationObserver(function (mutations, observer) {{\n",
              "        var display = window.getComputedStyle(gd).display;\n",
              "        if (!display || display === 'none') {{\n",
              "            console.log([gd, 'removed!']);\n",
              "            Plotly.purge(gd);\n",
              "            observer.disconnect();\n",
              "        }}\n",
              "}});\n",
              "\n",
              "// Listen for the removal of the full notebook cells\n",
              "var notebookContainer = gd.closest('#notebook-container');\n",
              "if (notebookContainer) {{\n",
              "    x.observe(notebookContainer, {childList: true});\n",
              "}}\n",
              "\n",
              "// Listen for the clearing of the current output cell\n",
              "var outputEl = gd.closest('.output');\n",
              "if (outputEl) {{\n",
              "    x.observe(outputEl, {childList: true});\n",
              "}}\n",
              "\n",
              "                        })\n",
              "                };\n",
              "                });\n",
              "            </script>\n",
              "        </div>"
            ]
          },
          "metadata": {
            "tags": []
          }
        }
      ]
    },
    {
      "cell_type": "code",
      "metadata": {
        "colab_type": "code",
        "id": "RIY6-9oSULdi",
        "colab": {}
      },
      "source": [
        ""
      ],
      "execution_count": 0,
      "outputs": []
    },
    {
      "cell_type": "markdown",
      "metadata": {
        "colab_type": "text",
        "id": "_GLB2SKdx0ul"
      },
      "source": [
        "### y축 관심-전문분야 구분x"
      ]
    },
    {
      "cell_type": "code",
      "metadata": {
        "colab_type": "code",
        "id": "kzLjfb5dx0um",
        "colab": {}
      },
      "source": [
        "# scp_reg['전문분야(대)'] = scp_reg['전문분야(대)'].apply(lambda x: x[0:len(x)] +\"(전문)\")\n",
        "# scp_reg['관심분야(대)-편집'] = scp_reg['관심분야(대)-편집'].apply(lambda x: x[0:len(x)] +\"(관심)\")"
      ],
      "execution_count": 0,
      "outputs": []
    },
    {
      "cell_type": "code",
      "metadata": {
        "colab_type": "code",
        "id": "VHLenth8x0uo",
        "outputId": "e913b048-3698-42e5-ed3a-3fd3bab9dbae",
        "colab": {
          "base_uri": "https://localhost:8080/",
          "height": 542
        }
      },
      "source": [
        "fig = go.Figure(data = [\n",
        "    go.Scatter(\n",
        "    x=scp_reg['국문성명'],\n",
        "    y=scp_reg['전문분야(대)'],  \n",
        "    hoverinfo='skip',\n",
        "    mode='markers',\n",
        "    marker =dict(size=10, color='rgba(255,255,0,0.8)'),\n",
        "    name=\"전문분야\"),\n",
        "    go.Scatter(\n",
        "    x=scp_reg['국문성명'],\n",
        "    y=scp_reg['관심분야(대)-편집'], \n",
        "    hoverinfo='skip',\n",
        "    mode='markers',\n",
        "    marker =dict(size=10, color='rgba(102,192,235,0.8)'),\n",
        "    name=\"관심분야\")]\n",
        ")\n",
        "\n",
        "# Add figure title\n",
        "fig.update_layout(\n",
        "    title=dict(text=\"교육생 전문-관심분야 비교\", x = 0.5),\n",
        "    legend=dict(x=0.4, y=1.1, orientation=\"h\")\n",
        "    # width=1500,\n",
        "    # height=800,\n",
        ")\n",
        "\n",
        "# Set x-axis title\n",
        "fig.update_xaxes(title_text=\"<b>교육생</b>\", gridwidth=1, gridcolor='rgba(239,85,59,0.2)')\n",
        "\n",
        "\n",
        "# Set y-axes titles\n",
        "# fig.update_yaxes(secondary_y=False, gridwidth=0.05, gridcolor='rgba(99,110,250,0.2)')\n",
        "# fig.update_yaxes(secondary_y=True, gridwidth=0.05, gridcolor='rgba(239,85,59,0.2)')\n",
        "# fig.update_yaxes(secondary_y=False, gridwidth=0.05, )\n",
        "                 # gridcolor='rgba(99,110,250,0.2)'#\n",
        "\n",
        "fig.show()"
      ],
      "execution_count": 0,
      "outputs": [
        {
          "output_type": "display_data",
          "data": {
            "application/vnd.plotly.v1+json": {
              "config": {
                "plotlyServerURL": "https://plot.ly"
              },
              "data": [
                {
                  "hoverinfo": "skip",
                  "marker": {
                    "color": "rgba(255,255,0,0.8)",
                    "size": 10
                  },
                  "mode": "markers",
                  "name": "전문분야",
                  "type": "scatter",
                  "x": [
                    "고주연",
                    "고홍석",
                    "김대선",
                    "김상헌",
                    "김세웅",
                    "김영한",
                    "김윤규",
                    "나기권",
                    "류광철",
                    "박순규",
                    "박훈병",
                    "백영희",
                    "안명수",
                    "유우린",
                    "윤성일",
                    "이영한",
                    "이은숙",
                    "이현희",
                    "장영민",
                    "정재후",
                    "최선인",
                    "하미경"
                  ],
                  "y": [
                    "교통",
                    "교통",
                    "폐기물",
                    "도시철도",
                    "국제협력",
                    "행정",
                    "행정",
                    "상수도",
                    "국제협력",
                    "주택",
                    "전자정부",
                    "전자정부",
                    "국제협력",
                    "도시개발",
                    "환경",
                    "전자정부",
                    "도시개발",
                    "주택",
                    "국제협력",
                    "소방방재",
                    "전자정부",
                    "행정"
                  ]
                },
                {
                  "hoverinfo": "skip",
                  "marker": {
                    "color": "rgba(102,192,235,0.8)",
                    "size": 10
                  },
                  "mode": "markers",
                  "name": "관심분야",
                  "type": "scatter",
                  "x": [
                    "고주연",
                    "고홍석",
                    "김대선",
                    "김상헌",
                    "김세웅",
                    "김영한",
                    "김윤규",
                    "나기권",
                    "류광철",
                    "박순규",
                    "박훈병",
                    "백영희",
                    "안명수",
                    "유우린",
                    "윤성일",
                    "이영한",
                    "이은숙",
                    "이현희",
                    "장영민",
                    "정재후",
                    "최선인",
                    "하미경"
                  ],
                  "y": [
                    "교통",
                    "교통",
                    "폐기물",
                    "도시철도",
                    "없음",
                    "환경",
                    "전자정부",
                    "환경",
                    "교통",
                    "주택",
                    "전자정부",
                    "전자정부",
                    "상하수도",
                    "도시개발",
                    "환경",
                    "전자정부",
                    "도시개발",
                    "주택",
                    "도시개발",
                    "전자정부",
                    "전자정부",
                    "전자정부"
                  ]
                }
              ],
              "layout": {
                "autosize": true,
                "legend": {
                  "orientation": "h",
                  "x": 0.4,
                  "y": 1.1
                },
                "template": {
                  "data": {
                    "bar": [
                      {
                        "error_x": {
                          "color": "#2a3f5f"
                        },
                        "error_y": {
                          "color": "#2a3f5f"
                        },
                        "marker": {
                          "line": {
                            "color": "#E5ECF6",
                            "width": 0.5
                          }
                        },
                        "type": "bar"
                      }
                    ],
                    "barpolar": [
                      {
                        "marker": {
                          "line": {
                            "color": "#E5ECF6",
                            "width": 0.5
                          }
                        },
                        "type": "barpolar"
                      }
                    ],
                    "carpet": [
                      {
                        "aaxis": {
                          "endlinecolor": "#2a3f5f",
                          "gridcolor": "white",
                          "linecolor": "white",
                          "minorgridcolor": "white",
                          "startlinecolor": "#2a3f5f"
                        },
                        "baxis": {
                          "endlinecolor": "#2a3f5f",
                          "gridcolor": "white",
                          "linecolor": "white",
                          "minorgridcolor": "white",
                          "startlinecolor": "#2a3f5f"
                        },
                        "type": "carpet"
                      }
                    ],
                    "choropleth": [
                      {
                        "colorbar": {
                          "outlinewidth": 0,
                          "ticks": ""
                        },
                        "type": "choropleth"
                      }
                    ],
                    "contour": [
                      {
                        "colorbar": {
                          "outlinewidth": 0,
                          "ticks": ""
                        },
                        "colorscale": [
                          [
                            0,
                            "#0d0887"
                          ],
                          [
                            0.1111111111111111,
                            "#46039f"
                          ],
                          [
                            0.2222222222222222,
                            "#7201a8"
                          ],
                          [
                            0.3333333333333333,
                            "#9c179e"
                          ],
                          [
                            0.4444444444444444,
                            "#bd3786"
                          ],
                          [
                            0.5555555555555556,
                            "#d8576b"
                          ],
                          [
                            0.6666666666666666,
                            "#ed7953"
                          ],
                          [
                            0.7777777777777778,
                            "#fb9f3a"
                          ],
                          [
                            0.8888888888888888,
                            "#fdca26"
                          ],
                          [
                            1,
                            "#f0f921"
                          ]
                        ],
                        "type": "contour"
                      }
                    ],
                    "contourcarpet": [
                      {
                        "colorbar": {
                          "outlinewidth": 0,
                          "ticks": ""
                        },
                        "type": "contourcarpet"
                      }
                    ],
                    "heatmap": [
                      {
                        "colorbar": {
                          "outlinewidth": 0,
                          "ticks": ""
                        },
                        "colorscale": [
                          [
                            0,
                            "#0d0887"
                          ],
                          [
                            0.1111111111111111,
                            "#46039f"
                          ],
                          [
                            0.2222222222222222,
                            "#7201a8"
                          ],
                          [
                            0.3333333333333333,
                            "#9c179e"
                          ],
                          [
                            0.4444444444444444,
                            "#bd3786"
                          ],
                          [
                            0.5555555555555556,
                            "#d8576b"
                          ],
                          [
                            0.6666666666666666,
                            "#ed7953"
                          ],
                          [
                            0.7777777777777778,
                            "#fb9f3a"
                          ],
                          [
                            0.8888888888888888,
                            "#fdca26"
                          ],
                          [
                            1,
                            "#f0f921"
                          ]
                        ],
                        "type": "heatmap"
                      }
                    ],
                    "heatmapgl": [
                      {
                        "colorbar": {
                          "outlinewidth": 0,
                          "ticks": ""
                        },
                        "colorscale": [
                          [
                            0,
                            "#0d0887"
                          ],
                          [
                            0.1111111111111111,
                            "#46039f"
                          ],
                          [
                            0.2222222222222222,
                            "#7201a8"
                          ],
                          [
                            0.3333333333333333,
                            "#9c179e"
                          ],
                          [
                            0.4444444444444444,
                            "#bd3786"
                          ],
                          [
                            0.5555555555555556,
                            "#d8576b"
                          ],
                          [
                            0.6666666666666666,
                            "#ed7953"
                          ],
                          [
                            0.7777777777777778,
                            "#fb9f3a"
                          ],
                          [
                            0.8888888888888888,
                            "#fdca26"
                          ],
                          [
                            1,
                            "#f0f921"
                          ]
                        ],
                        "type": "heatmapgl"
                      }
                    ],
                    "histogram": [
                      {
                        "marker": {
                          "colorbar": {
                            "outlinewidth": 0,
                            "ticks": ""
                          }
                        },
                        "type": "histogram"
                      }
                    ],
                    "histogram2d": [
                      {
                        "colorbar": {
                          "outlinewidth": 0,
                          "ticks": ""
                        },
                        "colorscale": [
                          [
                            0,
                            "#0d0887"
                          ],
                          [
                            0.1111111111111111,
                            "#46039f"
                          ],
                          [
                            0.2222222222222222,
                            "#7201a8"
                          ],
                          [
                            0.3333333333333333,
                            "#9c179e"
                          ],
                          [
                            0.4444444444444444,
                            "#bd3786"
                          ],
                          [
                            0.5555555555555556,
                            "#d8576b"
                          ],
                          [
                            0.6666666666666666,
                            "#ed7953"
                          ],
                          [
                            0.7777777777777778,
                            "#fb9f3a"
                          ],
                          [
                            0.8888888888888888,
                            "#fdca26"
                          ],
                          [
                            1,
                            "#f0f921"
                          ]
                        ],
                        "type": "histogram2d"
                      }
                    ],
                    "histogram2dcontour": [
                      {
                        "colorbar": {
                          "outlinewidth": 0,
                          "ticks": ""
                        },
                        "colorscale": [
                          [
                            0,
                            "#0d0887"
                          ],
                          [
                            0.1111111111111111,
                            "#46039f"
                          ],
                          [
                            0.2222222222222222,
                            "#7201a8"
                          ],
                          [
                            0.3333333333333333,
                            "#9c179e"
                          ],
                          [
                            0.4444444444444444,
                            "#bd3786"
                          ],
                          [
                            0.5555555555555556,
                            "#d8576b"
                          ],
                          [
                            0.6666666666666666,
                            "#ed7953"
                          ],
                          [
                            0.7777777777777778,
                            "#fb9f3a"
                          ],
                          [
                            0.8888888888888888,
                            "#fdca26"
                          ],
                          [
                            1,
                            "#f0f921"
                          ]
                        ],
                        "type": "histogram2dcontour"
                      }
                    ],
                    "mesh3d": [
                      {
                        "colorbar": {
                          "outlinewidth": 0,
                          "ticks": ""
                        },
                        "type": "mesh3d"
                      }
                    ],
                    "parcoords": [
                      {
                        "line": {
                          "colorbar": {
                            "outlinewidth": 0,
                            "ticks": ""
                          }
                        },
                        "type": "parcoords"
                      }
                    ],
                    "scatter": [
                      {
                        "marker": {
                          "colorbar": {
                            "outlinewidth": 0,
                            "ticks": ""
                          }
                        },
                        "type": "scatter"
                      }
                    ],
                    "scatter3d": [
                      {
                        "line": {
                          "colorbar": {
                            "outlinewidth": 0,
                            "ticks": ""
                          }
                        },
                        "marker": {
                          "colorbar": {
                            "outlinewidth": 0,
                            "ticks": ""
                          }
                        },
                        "type": "scatter3d"
                      }
                    ],
                    "scattercarpet": [
                      {
                        "marker": {
                          "colorbar": {
                            "outlinewidth": 0,
                            "ticks": ""
                          }
                        },
                        "type": "scattercarpet"
                      }
                    ],
                    "scattergeo": [
                      {
                        "marker": {
                          "colorbar": {
                            "outlinewidth": 0,
                            "ticks": ""
                          }
                        },
                        "type": "scattergeo"
                      }
                    ],
                    "scattergl": [
                      {
                        "marker": {
                          "colorbar": {
                            "outlinewidth": 0,
                            "ticks": ""
                          }
                        },
                        "type": "scattergl"
                      }
                    ],
                    "scattermapbox": [
                      {
                        "marker": {
                          "colorbar": {
                            "outlinewidth": 0,
                            "ticks": ""
                          }
                        },
                        "type": "scattermapbox"
                      }
                    ],
                    "scatterpolar": [
                      {
                        "marker": {
                          "colorbar": {
                            "outlinewidth": 0,
                            "ticks": ""
                          }
                        },
                        "type": "scatterpolar"
                      }
                    ],
                    "scatterpolargl": [
                      {
                        "marker": {
                          "colorbar": {
                            "outlinewidth": 0,
                            "ticks": ""
                          }
                        },
                        "type": "scatterpolargl"
                      }
                    ],
                    "scatterternary": [
                      {
                        "marker": {
                          "colorbar": {
                            "outlinewidth": 0,
                            "ticks": ""
                          }
                        },
                        "type": "scatterternary"
                      }
                    ],
                    "surface": [
                      {
                        "colorbar": {
                          "outlinewidth": 0,
                          "ticks": ""
                        },
                        "colorscale": [
                          [
                            0,
                            "#0d0887"
                          ],
                          [
                            0.1111111111111111,
                            "#46039f"
                          ],
                          [
                            0.2222222222222222,
                            "#7201a8"
                          ],
                          [
                            0.3333333333333333,
                            "#9c179e"
                          ],
                          [
                            0.4444444444444444,
                            "#bd3786"
                          ],
                          [
                            0.5555555555555556,
                            "#d8576b"
                          ],
                          [
                            0.6666666666666666,
                            "#ed7953"
                          ],
                          [
                            0.7777777777777778,
                            "#fb9f3a"
                          ],
                          [
                            0.8888888888888888,
                            "#fdca26"
                          ],
                          [
                            1,
                            "#f0f921"
                          ]
                        ],
                        "type": "surface"
                      }
                    ],
                    "table": [
                      {
                        "cells": {
                          "fill": {
                            "color": "#EBF0F8"
                          },
                          "line": {
                            "color": "white"
                          }
                        },
                        "header": {
                          "fill": {
                            "color": "#C8D4E3"
                          },
                          "line": {
                            "color": "white"
                          }
                        },
                        "type": "table"
                      }
                    ]
                  },
                  "layout": {
                    "annotationdefaults": {
                      "arrowcolor": "#2a3f5f",
                      "arrowhead": 0,
                      "arrowwidth": 1
                    },
                    "colorscale": {
                      "diverging": [
                        [
                          0,
                          "#8e0152"
                        ],
                        [
                          0.1,
                          "#c51b7d"
                        ],
                        [
                          0.2,
                          "#de77ae"
                        ],
                        [
                          0.3,
                          "#f1b6da"
                        ],
                        [
                          0.4,
                          "#fde0ef"
                        ],
                        [
                          0.5,
                          "#f7f7f7"
                        ],
                        [
                          0.6,
                          "#e6f5d0"
                        ],
                        [
                          0.7,
                          "#b8e186"
                        ],
                        [
                          0.8,
                          "#7fbc41"
                        ],
                        [
                          0.9,
                          "#4d9221"
                        ],
                        [
                          1,
                          "#276419"
                        ]
                      ],
                      "sequential": [
                        [
                          0,
                          "#0d0887"
                        ],
                        [
                          0.1111111111111111,
                          "#46039f"
                        ],
                        [
                          0.2222222222222222,
                          "#7201a8"
                        ],
                        [
                          0.3333333333333333,
                          "#9c179e"
                        ],
                        [
                          0.4444444444444444,
                          "#bd3786"
                        ],
                        [
                          0.5555555555555556,
                          "#d8576b"
                        ],
                        [
                          0.6666666666666666,
                          "#ed7953"
                        ],
                        [
                          0.7777777777777778,
                          "#fb9f3a"
                        ],
                        [
                          0.8888888888888888,
                          "#fdca26"
                        ],
                        [
                          1,
                          "#f0f921"
                        ]
                      ],
                      "sequentialminus": [
                        [
                          0,
                          "#0d0887"
                        ],
                        [
                          0.1111111111111111,
                          "#46039f"
                        ],
                        [
                          0.2222222222222222,
                          "#7201a8"
                        ],
                        [
                          0.3333333333333333,
                          "#9c179e"
                        ],
                        [
                          0.4444444444444444,
                          "#bd3786"
                        ],
                        [
                          0.5555555555555556,
                          "#d8576b"
                        ],
                        [
                          0.6666666666666666,
                          "#ed7953"
                        ],
                        [
                          0.7777777777777778,
                          "#fb9f3a"
                        ],
                        [
                          0.8888888888888888,
                          "#fdca26"
                        ],
                        [
                          1,
                          "#f0f921"
                        ]
                      ]
                    },
                    "colorway": [
                      "#636efa",
                      "#EF553B",
                      "#00cc96",
                      "#ab63fa",
                      "#FFA15A",
                      "#19d3f3",
                      "#FF6692",
                      "#B6E880",
                      "#FF97FF",
                      "#FECB52"
                    ],
                    "font": {
                      "color": "#2a3f5f"
                    },
                    "geo": {
                      "bgcolor": "white",
                      "lakecolor": "white",
                      "landcolor": "#E5ECF6",
                      "showlakes": true,
                      "showland": true,
                      "subunitcolor": "white"
                    },
                    "hoverlabel": {
                      "align": "left"
                    },
                    "hovermode": "closest",
                    "mapbox": {
                      "style": "light"
                    },
                    "paper_bgcolor": "white",
                    "plot_bgcolor": "#E5ECF6",
                    "polar": {
                      "angularaxis": {
                        "gridcolor": "white",
                        "linecolor": "white",
                        "ticks": ""
                      },
                      "bgcolor": "#E5ECF6",
                      "radialaxis": {
                        "gridcolor": "white",
                        "linecolor": "white",
                        "ticks": ""
                      }
                    },
                    "scene": {
                      "xaxis": {
                        "backgroundcolor": "#E5ECF6",
                        "gridcolor": "white",
                        "gridwidth": 2,
                        "linecolor": "white",
                        "showbackground": true,
                        "ticks": "",
                        "zerolinecolor": "white"
                      },
                      "yaxis": {
                        "backgroundcolor": "#E5ECF6",
                        "gridcolor": "white",
                        "gridwidth": 2,
                        "linecolor": "white",
                        "showbackground": true,
                        "ticks": "",
                        "zerolinecolor": "white"
                      },
                      "zaxis": {
                        "backgroundcolor": "#E5ECF6",
                        "gridcolor": "white",
                        "gridwidth": 2,
                        "linecolor": "white",
                        "showbackground": true,
                        "ticks": "",
                        "zerolinecolor": "white"
                      }
                    },
                    "shapedefaults": {
                      "line": {
                        "color": "#2a3f5f"
                      }
                    },
                    "ternary": {
                      "aaxis": {
                        "gridcolor": "white",
                        "linecolor": "white",
                        "ticks": ""
                      },
                      "baxis": {
                        "gridcolor": "white",
                        "linecolor": "white",
                        "ticks": ""
                      },
                      "bgcolor": "#E5ECF6",
                      "caxis": {
                        "gridcolor": "white",
                        "linecolor": "white",
                        "ticks": ""
                      }
                    },
                    "title": {
                      "x": 0.05
                    },
                    "xaxis": {
                      "automargin": true,
                      "gridcolor": "white",
                      "linecolor": "white",
                      "ticks": "",
                      "zerolinecolor": "white",
                      "zerolinewidth": 2
                    },
                    "yaxis": {
                      "automargin": true,
                      "gridcolor": "white",
                      "linecolor": "white",
                      "ticks": "",
                      "zerolinecolor": "white",
                      "zerolinewidth": 2
                    }
                  }
                },
                "title": {
                  "text": "교육생 전문-관심분야 비교",
                  "x": 0.5
                },
                "xaxis": {
                  "autorange": true,
                  "gridcolor": "rgba(239,85,59,0.2)",
                  "gridwidth": 1,
                  "range": [
                    -1.4683491932147288,
                    22.468349193214728
                  ],
                  "title": {
                    "text": "<b>교육생</b>"
                  },
                  "type": "category"
                },
                "yaxis": {
                  "autorange": true,
                  "range": [
                    -1.0281995661605206,
                    13.02819956616052
                  ],
                  "type": "category"
                }
              }
            },
            "image/png": "[encoded data removed]",
            "text/html": [
              "<div>\n",
              "        \n",
              "        \n",
              "            <div id=\"8be67040-1c47-4c97-b197-389eebef0349\" class=\"plotly-graph-div\" style=\"height:525px; width:100%;\"></div>\n",
              "            <script type=\"text/javascript\">\n",
              "                require([\"plotly\"], function(Plotly) {\n",
              "                    window.PLOTLYENV=window.PLOTLYENV || {};\n",
              "                    \n",
              "                if (document.getElementById(\"8be67040-1c47-4c97-b197-389eebef0349\")) {\n",
              "                    Plotly.newPlot(\n",
              "                        '8be67040-1c47-4c97-b197-389eebef0349',\n",
              "                        [{\"hoverinfo\": \"skip\", \"marker\": {\"color\": \"rgba(255,255,0,0.8)\", \"size\": 10}, \"mode\": \"markers\", \"name\": \"\\uc804\\ubb38\\ubd84\\uc57c\", \"type\": \"scatter\", \"x\": [\"\\uace0\\uc8fc\\uc5f0\", \"\\uace0\\ud64d\\uc11d\", \"\\uae40\\ub300\\uc120\", \"\\uae40\\uc0c1\\ud5cc\", \"\\uae40\\uc138\\uc6c5\", \"\\uae40\\uc601\\ud55c\", \"\\uae40\\uc724\\uaddc\", \"\\ub098\\uae30\\uad8c\", \"\\ub958\\uad11\\ucca0\", \"\\ubc15\\uc21c\\uaddc\", \"\\ubc15\\ud6c8\\ubcd1\", \"\\ubc31\\uc601\\ud76c\", \"\\uc548\\uba85\\uc218\", \"\\uc720\\uc6b0\\ub9b0\", \"\\uc724\\uc131\\uc77c\", \"\\uc774\\uc601\\ud55c\", \"\\uc774\\uc740\\uc219\", \"\\uc774\\ud604\\ud76c\", \"\\uc7a5\\uc601\\ubbfc\", \"\\uc815\\uc7ac\\ud6c4\", \"\\ucd5c\\uc120\\uc778\", \"\\ud558\\ubbf8\\uacbd\"], \"y\": [\"\\uad50\\ud1b5\", \"\\uad50\\ud1b5\", \"\\ud3d0\\uae30\\ubb3c\", \"\\ub3c4\\uc2dc\\ucca0\\ub3c4\", \"\\uad6d\\uc81c\\ud611\\ub825\", \"\\ud589\\uc815\", \"\\ud589\\uc815\", \"\\uc0c1\\uc218\\ub3c4\", \"\\uad6d\\uc81c\\ud611\\ub825\", \"\\uc8fc\\ud0dd\", \"\\uc804\\uc790\\uc815\\ubd80\", \"\\uc804\\uc790\\uc815\\ubd80\", \"\\uad6d\\uc81c\\ud611\\ub825\", \"\\ub3c4\\uc2dc\\uac1c\\ubc1c\", \"\\ud658\\uacbd\", \"\\uc804\\uc790\\uc815\\ubd80\", \"\\ub3c4\\uc2dc\\uac1c\\ubc1c\", \"\\uc8fc\\ud0dd\", \"\\uad6d\\uc81c\\ud611\\ub825\", \"\\uc18c\\ubc29\\ubc29\\uc7ac\", \"\\uc804\\uc790\\uc815\\ubd80\", \"\\ud589\\uc815\"]}, {\"hoverinfo\": \"skip\", \"marker\": {\"color\": \"rgba(102,192,235,0.8)\", \"size\": 10}, \"mode\": \"markers\", \"name\": \"\\uad00\\uc2ec\\ubd84\\uc57c\", \"type\": \"scatter\", \"x\": [\"\\uace0\\uc8fc\\uc5f0\", \"\\uace0\\ud64d\\uc11d\", \"\\uae40\\ub300\\uc120\", \"\\uae40\\uc0c1\\ud5cc\", \"\\uae40\\uc138\\uc6c5\", \"\\uae40\\uc601\\ud55c\", \"\\uae40\\uc724\\uaddc\", \"\\ub098\\uae30\\uad8c\", \"\\ub958\\uad11\\ucca0\", \"\\ubc15\\uc21c\\uaddc\", \"\\ubc15\\ud6c8\\ubcd1\", \"\\ubc31\\uc601\\ud76c\", \"\\uc548\\uba85\\uc218\", \"\\uc720\\uc6b0\\ub9b0\", \"\\uc724\\uc131\\uc77c\", \"\\uc774\\uc601\\ud55c\", \"\\uc774\\uc740\\uc219\", \"\\uc774\\ud604\\ud76c\", \"\\uc7a5\\uc601\\ubbfc\", \"\\uc815\\uc7ac\\ud6c4\", \"\\ucd5c\\uc120\\uc778\", \"\\ud558\\ubbf8\\uacbd\"], \"y\": [\"\\uad50\\ud1b5\", \"\\uad50\\ud1b5\", \"\\ud3d0\\uae30\\ubb3c\", \"\\ub3c4\\uc2dc\\ucca0\\ub3c4\", \"\\uc5c6\\uc74c\", \"\\ud658\\uacbd\", \"\\uc804\\uc790\\uc815\\ubd80\", \"\\ud658\\uacbd\", \"\\uad50\\ud1b5\", \"\\uc8fc\\ud0dd\", \"\\uc804\\uc790\\uc815\\ubd80\", \"\\uc804\\uc790\\uc815\\ubd80\", \"\\uc0c1\\ud558\\uc218\\ub3c4\", \"\\ub3c4\\uc2dc\\uac1c\\ubc1c\", \"\\ud658\\uacbd\", \"\\uc804\\uc790\\uc815\\ubd80\", \"\\ub3c4\\uc2dc\\uac1c\\ubc1c\", \"\\uc8fc\\ud0dd\", \"\\ub3c4\\uc2dc\\uac1c\\ubc1c\", \"\\uc804\\uc790\\uc815\\ubd80\", \"\\uc804\\uc790\\uc815\\ubd80\", \"\\uc804\\uc790\\uc815\\ubd80\"]}],\n",
              "                        {\"legend\": {\"orientation\": \"h\", \"x\": 0.4, \"y\": 1.1}, \"template\": {\"data\": {\"bar\": [{\"error_x\": {\"color\": \"#2a3f5f\"}, \"error_y\": {\"color\": \"#2a3f5f\"}, \"marker\": {\"line\": {\"color\": \"#E5ECF6\", \"width\": 0.5}}, \"type\": \"bar\"}], \"barpolar\": [{\"marker\": {\"line\": {\"color\": \"#E5ECF6\", \"width\": 0.5}}, \"type\": \"barpolar\"}], \"carpet\": [{\"aaxis\": {\"endlinecolor\": \"#2a3f5f\", \"gridcolor\": \"white\", \"linecolor\": \"white\", \"minorgridcolor\": \"white\", \"startlinecolor\": \"#2a3f5f\"}, \"baxis\": {\"endlinecolor\": \"#2a3f5f\", \"gridcolor\": \"white\", \"linecolor\": \"white\", \"minorgridcolor\": \"white\", \"startlinecolor\": \"#2a3f5f\"}, \"type\": \"carpet\"}], \"choropleth\": [{\"colorbar\": {\"outlinewidth\": 0, \"ticks\": \"\"}, \"type\": \"choropleth\"}], \"contour\": [{\"colorbar\": {\"outlinewidth\": 0, \"ticks\": \"\"}, \"colorscale\": [[0.0, \"#0d0887\"], [0.1111111111111111, \"#46039f\"], [0.2222222222222222, \"#7201a8\"], [0.3333333333333333, \"#9c179e\"], [0.4444444444444444, \"#bd3786\"], [0.5555555555555556, \"#d8576b\"], [0.6666666666666666, \"#ed7953\"], [0.7777777777777778, \"#fb9f3a\"], [0.8888888888888888, \"#fdca26\"], [1.0, \"#f0f921\"]], \"type\": \"contour\"}], \"contourcarpet\": [{\"colorbar\": {\"outlinewidth\": 0, \"ticks\": \"\"}, \"type\": \"contourcarpet\"}], \"heatmap\": [{\"colorbar\": {\"outlinewidth\": 0, \"ticks\": \"\"}, \"colorscale\": [[0.0, \"#0d0887\"], [0.1111111111111111, \"#46039f\"], [0.2222222222222222, \"#7201a8\"], [0.3333333333333333, \"#9c179e\"], [0.4444444444444444, \"#bd3786\"], [0.5555555555555556, \"#d8576b\"], [0.6666666666666666, \"#ed7953\"], [0.7777777777777778, \"#fb9f3a\"], [0.8888888888888888, \"#fdca26\"], [1.0, \"#f0f921\"]], \"type\": \"heatmap\"}], \"heatmapgl\": [{\"colorbar\": {\"outlinewidth\": 0, \"ticks\": \"\"}, \"colorscale\": [[0.0, \"#0d0887\"], [0.1111111111111111, \"#46039f\"], [0.2222222222222222, \"#7201a8\"], [0.3333333333333333, \"#9c179e\"], [0.4444444444444444, \"#bd3786\"], [0.5555555555555556, \"#d8576b\"], [0.6666666666666666, \"#ed7953\"], [0.7777777777777778, \"#fb9f3a\"], [0.8888888888888888, \"#fdca26\"], [1.0, \"#f0f921\"]], \"type\": \"heatmapgl\"}], \"histogram\": [{\"marker\": {\"colorbar\": {\"outlinewidth\": 0, \"ticks\": \"\"}}, \"type\": \"histogram\"}], \"histogram2d\": [{\"colorbar\": {\"outlinewidth\": 0, \"ticks\": \"\"}, \"colorscale\": [[0.0, \"#0d0887\"], [0.1111111111111111, \"#46039f\"], [0.2222222222222222, \"#7201a8\"], [0.3333333333333333, \"#9c179e\"], [0.4444444444444444, \"#bd3786\"], [0.5555555555555556, \"#d8576b\"], [0.6666666666666666, \"#ed7953\"], [0.7777777777777778, \"#fb9f3a\"], [0.8888888888888888, \"#fdca26\"], [1.0, \"#f0f921\"]], \"type\": \"histogram2d\"}], \"histogram2dcontour\": [{\"colorbar\": {\"outlinewidth\": 0, \"ticks\": \"\"}, \"colorscale\": [[0.0, \"#0d0887\"], [0.1111111111111111, \"#46039f\"], [0.2222222222222222, \"#7201a8\"], [0.3333333333333333, \"#9c179e\"], [0.4444444444444444, \"#bd3786\"], [0.5555555555555556, \"#d8576b\"], [0.6666666666666666, \"#ed7953\"], [0.7777777777777778, \"#fb9f3a\"], [0.8888888888888888, \"#fdca26\"], [1.0, \"#f0f921\"]], \"type\": \"histogram2dcontour\"}], \"mesh3d\": [{\"colorbar\": {\"outlinewidth\": 0, \"ticks\": \"\"}, \"type\": \"mesh3d\"}], \"parcoords\": [{\"line\": {\"colorbar\": {\"outlinewidth\": 0, \"ticks\": \"\"}}, \"type\": \"parcoords\"}], \"scatter\": [{\"marker\": {\"colorbar\": {\"outlinewidth\": 0, \"ticks\": \"\"}}, \"type\": \"scatter\"}], \"scatter3d\": [{\"line\": {\"colorbar\": {\"outlinewidth\": 0, \"ticks\": \"\"}}, \"marker\": {\"colorbar\": {\"outlinewidth\": 0, \"ticks\": \"\"}}, \"type\": \"scatter3d\"}], \"scattercarpet\": [{\"marker\": {\"colorbar\": {\"outlinewidth\": 0, \"ticks\": \"\"}}, \"type\": \"scattercarpet\"}], \"scattergeo\": [{\"marker\": {\"colorbar\": {\"outlinewidth\": 0, \"ticks\": \"\"}}, \"type\": \"scattergeo\"}], \"scattergl\": [{\"marker\": {\"colorbar\": {\"outlinewidth\": 0, \"ticks\": \"\"}}, \"type\": \"scattergl\"}], \"scattermapbox\": [{\"marker\": {\"colorbar\": {\"outlinewidth\": 0, \"ticks\": \"\"}}, \"type\": \"scattermapbox\"}], \"scatterpolar\": [{\"marker\": {\"colorbar\": {\"outlinewidth\": 0, \"ticks\": \"\"}}, \"type\": \"scatterpolar\"}], \"scatterpolargl\": [{\"marker\": {\"colorbar\": {\"outlinewidth\": 0, \"ticks\": \"\"}}, \"type\": \"scatterpolargl\"}], \"scatterternary\": [{\"marker\": {\"colorbar\": {\"outlinewidth\": 0, \"ticks\": \"\"}}, \"type\": \"scatterternary\"}], \"surface\": [{\"colorbar\": {\"outlinewidth\": 0, \"ticks\": \"\"}, \"colorscale\": [[0.0, \"#0d0887\"], [0.1111111111111111, \"#46039f\"], [0.2222222222222222, \"#7201a8\"], [0.3333333333333333, \"#9c179e\"], [0.4444444444444444, \"#bd3786\"], [0.5555555555555556, \"#d8576b\"], [0.6666666666666666, \"#ed7953\"], [0.7777777777777778, \"#fb9f3a\"], [0.8888888888888888, \"#fdca26\"], [1.0, \"#f0f921\"]], \"type\": \"surface\"}], \"table\": [{\"cells\": {\"fill\": {\"color\": \"#EBF0F8\"}, \"line\": {\"color\": \"white\"}}, \"header\": {\"fill\": {\"color\": \"#C8D4E3\"}, \"line\": {\"color\": \"white\"}}, \"type\": \"table\"}]}, \"layout\": {\"annotationdefaults\": {\"arrowcolor\": \"#2a3f5f\", \"arrowhead\": 0, \"arrowwidth\": 1}, \"colorscale\": {\"diverging\": [[0, \"#8e0152\"], [0.1, \"#c51b7d\"], [0.2, \"#de77ae\"], [0.3, \"#f1b6da\"], [0.4, \"#fde0ef\"], [0.5, \"#f7f7f7\"], [0.6, \"#e6f5d0\"], [0.7, \"#b8e186\"], [0.8, \"#7fbc41\"], [0.9, \"#4d9221\"], [1, \"#276419\"]], \"sequential\": [[0.0, \"#0d0887\"], [0.1111111111111111, \"#46039f\"], [0.2222222222222222, \"#7201a8\"], [0.3333333333333333, \"#9c179e\"], [0.4444444444444444, \"#bd3786\"], [0.5555555555555556, \"#d8576b\"], [0.6666666666666666, \"#ed7953\"], [0.7777777777777778, \"#fb9f3a\"], [0.8888888888888888, \"#fdca26\"], [1.0, \"#f0f921\"]], \"sequentialminus\": [[0.0, \"#0d0887\"], [0.1111111111111111, \"#46039f\"], [0.2222222222222222, \"#7201a8\"], [0.3333333333333333, \"#9c179e\"], [0.4444444444444444, \"#bd3786\"], [0.5555555555555556, \"#d8576b\"], [0.6666666666666666, \"#ed7953\"], [0.7777777777777778, \"#fb9f3a\"], [0.8888888888888888, \"#fdca26\"], [1.0, \"#f0f921\"]]}, \"colorway\": [\"#636efa\", \"#EF553B\", \"#00cc96\", \"#ab63fa\", \"#FFA15A\", \"#19d3f3\", \"#FF6692\", \"#B6E880\", \"#FF97FF\", \"#FECB52\"], \"font\": {\"color\": \"#2a3f5f\"}, \"geo\": {\"bgcolor\": \"white\", \"lakecolor\": \"white\", \"landcolor\": \"#E5ECF6\", \"showlakes\": true, \"showland\": true, \"subunitcolor\": \"white\"}, \"hoverlabel\": {\"align\": \"left\"}, \"hovermode\": \"closest\", \"mapbox\": {\"style\": \"light\"}, \"paper_bgcolor\": \"white\", \"plot_bgcolor\": \"#E5ECF6\", \"polar\": {\"angularaxis\": {\"gridcolor\": \"white\", \"linecolor\": \"white\", \"ticks\": \"\"}, \"bgcolor\": \"#E5ECF6\", \"radialaxis\": {\"gridcolor\": \"white\", \"linecolor\": \"white\", \"ticks\": \"\"}}, \"scene\": {\"xaxis\": {\"backgroundcolor\": \"#E5ECF6\", \"gridcolor\": \"white\", \"gridwidth\": 2, \"linecolor\": \"white\", \"showbackground\": true, \"ticks\": \"\", \"zerolinecolor\": \"white\"}, \"yaxis\": {\"backgroundcolor\": \"#E5ECF6\", \"gridcolor\": \"white\", \"gridwidth\": 2, \"linecolor\": \"white\", \"showbackground\": true, \"ticks\": \"\", \"zerolinecolor\": \"white\"}, \"zaxis\": {\"backgroundcolor\": \"#E5ECF6\", \"gridcolor\": \"white\", \"gridwidth\": 2, \"linecolor\": \"white\", \"showbackground\": true, \"ticks\": \"\", \"zerolinecolor\": \"white\"}}, \"shapedefaults\": {\"line\": {\"color\": \"#2a3f5f\"}}, \"ternary\": {\"aaxis\": {\"gridcolor\": \"white\", \"linecolor\": \"white\", \"ticks\": \"\"}, \"baxis\": {\"gridcolor\": \"white\", \"linecolor\": \"white\", \"ticks\": \"\"}, \"bgcolor\": \"#E5ECF6\", \"caxis\": {\"gridcolor\": \"white\", \"linecolor\": \"white\", \"ticks\": \"\"}}, \"title\": {\"x\": 0.05}, \"xaxis\": {\"automargin\": true, \"gridcolor\": \"white\", \"linecolor\": \"white\", \"ticks\": \"\", \"zerolinecolor\": \"white\", \"zerolinewidth\": 2}, \"yaxis\": {\"automargin\": true, \"gridcolor\": \"white\", \"linecolor\": \"white\", \"ticks\": \"\", \"zerolinecolor\": \"white\", \"zerolinewidth\": 2}}}, \"title\": {\"text\": \"\\uad50\\uc721\\uc0dd \\uc804\\ubb38-\\uad00\\uc2ec\\ubd84\\uc57c \\ube44\\uad50\", \"x\": 0.5}, \"xaxis\": {\"gridcolor\": \"rgba(239,85,59,0.2)\", \"gridwidth\": 1, \"title\": {\"text\": \"<b>\\uad50\\uc721\\uc0dd</b>\"}}},\n",
              "                        {\"responsive\": true}\n",
              "                    ).then(function(){\n",
              "                            \n",
              "var gd = document.getElementById('8be67040-1c47-4c97-b197-389eebef0349');\n",
              "var x = new MutationObserver(function (mutations, observer) {{\n",
              "        var display = window.getComputedStyle(gd).display;\n",
              "        if (!display || display === 'none') {{\n",
              "            console.log([gd, 'removed!']);\n",
              "            Plotly.purge(gd);\n",
              "            observer.disconnect();\n",
              "        }}\n",
              "}});\n",
              "\n",
              "// Listen for the removal of the full notebook cells\n",
              "var notebookContainer = gd.closest('#notebook-container');\n",
              "if (notebookContainer) {{\n",
              "    x.observe(notebookContainer, {childList: true});\n",
              "}}\n",
              "\n",
              "// Listen for the clearing of the current output cell\n",
              "var outputEl = gd.closest('.output');\n",
              "if (outputEl) {{\n",
              "    x.observe(outputEl, {childList: true});\n",
              "}}\n",
              "\n",
              "                        })\n",
              "                };\n",
              "                });\n",
              "            </script>\n",
              "        </div>"
            ]
          },
          "metadata": {
            "tags": []
          }
        }
      ]
    },
    {
      "cell_type": "code",
      "metadata": {
        "colab_type": "code",
        "id": "0hN4R-ih7iI-",
        "colab": {}
      },
      "source": [
        ""
      ],
      "execution_count": 0,
      "outputs": []
    },
    {
      "cell_type": "markdown",
      "metadata": {
        "colab_type": "text",
        "id": "kKVhFJ2Gxocw"
      },
      "source": [
        "# 사후설문분석"
      ]
    },
    {
      "cell_type": "code",
      "metadata": {
        "colab_type": "code",
        "id": "nnh84qu1G3jv",
        "colab": {}
      },
      "source": [
        "post.columns"
      ],
      "execution_count": 0,
      "outputs": []
    },
    {
      "cell_type": "markdown",
      "metadata": {
        "colab_type": "text",
        "id": "4kRCXrWnTAP7"
      },
      "source": [
        "## 만족도 문항 분석"
      ]
    },
    {
      "cell_type": "code",
      "metadata": {
        "colab_type": "code",
        "id": "rd0SZSCOT7Wf",
        "colab": {}
      },
      "source": [
        "cs_mean = post.pivot_table(\n",
        "    values=['교육과정의 내용은 교육생 상황에 맞게 구성되었다.',\n",
        "            '교육과정의 내용과 수준은 이해하기 적절하였다.', \n",
        "            '교육과정의 교육방법(강의, 실습/토의, 현장학습 등)은 교육내용을 이해하는데 적합하였다.',\n",
        "            '교육운영진은 교육과정을 원활하게 운영하였다. (일정관리, 강의준비, 교육생 지원 등)',\n",
        "            '교육운영진은 응급상황 등 사건사고에 대해 적절히 대처하였다.'],\n",
        "            index=['기관'],aggfunc='mean',margins=True,\n",
        "            margins_name=\"평균\").round(2).rename(\n",
        "            columns={\n",
        "            '교육과정의 내용은 교육생 상황에 맞게 구성되었다.': '내용은 교육생 상황에 맞게 구성되었다',\n",
        "            '교육과정의 내용과 수준은 이해하기 적절하였다.':'내용과 수준은 이해하기 적절하였다', \n",
        "            '교육과정의 교육방법(강의, 실습/토의, 현장학습 등)은 교육내용을 이해하는데 적합하였다.':\n",
        "            '교육방법은 내용을 이해하는데 적합하였다',\n",
        "            '교육운영진은 교육과정을 원활하게 운영하였다. (일정관리, 강의준비, 교육생 지원 등)':\n",
        "            '운영진은 교육과정을 원활하게 운영하였다',\n",
        "            '교육운영진은 응급상황 등 사건사고에 대해 적절히 대처하였다.':\n",
        "            '운영진은 응급상황 등 사건사고에 대해 적절히 대처하였다'\n",
        "            })"
      ],
      "execution_count": 0,
      "outputs": []
    },
    {
      "cell_type": "code",
      "metadata": {
        "colab_type": "code",
        "id": "uTyvWu5u72To",
        "outputId": "976487ac-1d69-4d3a-97a8-447303a469fd",
        "colab": {
          "base_uri": "https://localhost:8080/",
          "height": 249
        }
      },
      "source": [
        "cs_mean_int = cs_mean.mean(axis=1).round(2)\n",
        "cs_mean[\"평균\"] = cs_mean_int\n",
        "cs_mean = cs_mean.T.reset_index().rename(columns={\"index\": \"문항\"})\n",
        "cs_mean.index.names = ['']\n",
        "cs_mean"
      ],
      "execution_count": 11,
      "outputs": [
        {
          "output_type": "execute_result",
          "data": {
            "text/html": [
              "<div>\n",
              "<style scoped>\n",
              "    .dataframe tbody tr th:only-of-type {\n",
              "        vertical-align: middle;\n",
              "    }\n",
              "\n",
              "    .dataframe tbody tr th {\n",
              "        vertical-align: top;\n",
              "    }\n",
              "\n",
              "    .dataframe thead th {\n",
              "        text-align: right;\n",
              "    }\n",
              "</style>\n",
              "<table border=\"1\" class=\"dataframe\">\n",
              "  <thead>\n",
              "    <tr style=\"text-align: right;\">\n",
              "      <th>기관</th>\n",
              "      <th>문항</th>\n",
              "      <th>국제기구</th>\n",
              "      <th>민간기업</th>\n",
              "      <th>서울시</th>\n",
              "      <th>서울시 산하기관</th>\n",
              "      <th>중앙부처/산하기관</th>\n",
              "      <th>평균</th>\n",
              "    </tr>\n",
              "    <tr>\n",
              "      <th></th>\n",
              "      <th></th>\n",
              "      <th></th>\n",
              "      <th></th>\n",
              "      <th></th>\n",
              "      <th></th>\n",
              "      <th></th>\n",
              "      <th></th>\n",
              "    </tr>\n",
              "  </thead>\n",
              "  <tbody>\n",
              "    <tr>\n",
              "      <th>0</th>\n",
              "      <td>교육방법은 내용을 이해하는데 적합하였다</td>\n",
              "      <td>5.0</td>\n",
              "      <td>4.71</td>\n",
              "      <td>4.43</td>\n",
              "      <td>4.33</td>\n",
              "      <td>4.75</td>\n",
              "      <td>4.59</td>\n",
              "    </tr>\n",
              "    <tr>\n",
              "      <th>1</th>\n",
              "      <td>내용과 수준은 이해하기 적절하였다</td>\n",
              "      <td>4.0</td>\n",
              "      <td>4.43</td>\n",
              "      <td>4.43</td>\n",
              "      <td>4.33</td>\n",
              "      <td>4.75</td>\n",
              "      <td>4.45</td>\n",
              "    </tr>\n",
              "    <tr>\n",
              "      <th>2</th>\n",
              "      <td>내용은 교육생 상황에 맞게 구성되었다</td>\n",
              "      <td>4.0</td>\n",
              "      <td>4.43</td>\n",
              "      <td>4.29</td>\n",
              "      <td>3.33</td>\n",
              "      <td>4.50</td>\n",
              "      <td>4.23</td>\n",
              "    </tr>\n",
              "    <tr>\n",
              "      <th>3</th>\n",
              "      <td>운영진은 교육과정을 원활하게 운영하였다</td>\n",
              "      <td>5.0</td>\n",
              "      <td>4.43</td>\n",
              "      <td>4.14</td>\n",
              "      <td>4.67</td>\n",
              "      <td>4.75</td>\n",
              "      <td>4.45</td>\n",
              "    </tr>\n",
              "    <tr>\n",
              "      <th>4</th>\n",
              "      <td>운영진은 응급상황 등 사건사고에 대해 적절히 대처하였다</td>\n",
              "      <td>5.0</td>\n",
              "      <td>4.57</td>\n",
              "      <td>4.14</td>\n",
              "      <td>4.33</td>\n",
              "      <td>4.75</td>\n",
              "      <td>4.45</td>\n",
              "    </tr>\n",
              "    <tr>\n",
              "      <th>5</th>\n",
              "      <td>평균</td>\n",
              "      <td>4.6</td>\n",
              "      <td>4.51</td>\n",
              "      <td>4.29</td>\n",
              "      <td>4.20</td>\n",
              "      <td>4.70</td>\n",
              "      <td>4.43</td>\n",
              "    </tr>\n",
              "  </tbody>\n",
              "</table>\n",
              "</div>"
            ],
            "text/plain": [
              "기관                              문항  국제기구  민간기업   서울시  서울시 산하기관  중앙부처/산하기관    평균\n",
              "                                                                               \n",
              "0            교육방법은 내용을 이해하는데 적합하였다   5.0  4.71  4.43      4.33       4.75  4.59\n",
              "1               내용과 수준은 이해하기 적절하였다   4.0  4.43  4.43      4.33       4.75  4.45\n",
              "2             내용은 교육생 상황에 맞게 구성되었다   4.0  4.43  4.29      3.33       4.50  4.23\n",
              "3            운영진은 교육과정을 원활하게 운영하였다   5.0  4.43  4.14      4.67       4.75  4.45\n",
              "4   운영진은 응급상황 등 사건사고에 대해 적절히 대처하였다   5.0  4.57  4.14      4.33       4.75  4.45\n",
              "5                               평균   4.6  4.51  4.29      4.20       4.70  4.43"
            ]
          },
          "metadata": {
            "tags": []
          },
          "execution_count": 11
        }
      ]
    },
    {
      "cell_type": "code",
      "metadata": {
        "colab_type": "code",
        "id": "LYeJ8W5H5sWT",
        "colab": {}
      },
      "source": [
        ""
      ],
      "execution_count": 0,
      "outputs": []
    },
    {
      "cell_type": "code",
      "metadata": {
        "colab_type": "code",
        "id": "TwSu8pCyPCuN",
        "outputId": "2aaf1ddf-c654-4a66-854b-7e136bce18b0",
        "colab": {
          "base_uri": "https://localhost:8080/",
          "height": 1000
        }
      },
      "source": [
        "fig = make_subplots(\n",
        "    rows=4, cols=2, vertical_spacing=0.095,\n",
        "    specs=[[{},{}],[{},{}],[{},{}],[{\"colspan\": 2, \"type\": \"table\"}, None]],\n",
        "    subplot_titles=(\"기관별 만족도\",\n",
        "    \"교육방법은 내용을 이해하는데 적합하였다\", \"내용과 수준은 이해하기 적절하였다\",\n",
        "    \"내용은 교육생 상황에 맞게 구성되었다\", \n",
        "    \"운영진은 교육과정을 원활하게 운영하였다\", \n",
        "    \"<br>운영진은 응급상황 등 사건사고에 대해<br>적절히 대처하였다\", \n",
        "    \"문항별, 기관별 만족도 현황\"))\n",
        "\n",
        "fig.add_trace(go.Bar(showlegend=False, width= 0.8,\n",
        "    x = cs_mean.drop(index=5, columns='평균').mean().round(2).index,\n",
        "    y = cs_mean.drop(index=5, columns='평균').mean().round(2),\n",
        "    text = cs_mean.drop(index=5, columns='평균').mean().round(2),\n",
        "    textposition = 'auto',\n",
        "    marker=dict(color=cs_mean.drop(index=5, columns='평균').mean().round(2),\n",
        "                cmax=4.0, cmin=5.0, colorscale='RdBu'),\n",
        "    ),row=1, col=1)\n",
        "\n",
        "fig.add_trace(go.Bar(showlegend=False,\n",
        "    x = post['교육과정의 교육방법(강의, 실습/토의, 현장학습 등)은 교육내용을 이해하는데 적합하였다.'].value_counts().index,\n",
        "    y = post['교육과정의 교육방법(강의, 실습/토의, 현장학습 등)은 교육내용을 이해하는데 적합하였다.'].value_counts(),\n",
        "    text = post['교육과정의 교육방법(강의, 실습/토의, 현장학습 등)은 교육내용을 이해하는데 적합하였다.'].value_counts(),    \n",
        "    textposition = 'auto',\n",
        "    marker=dict(color=-post['교육과정의 교육방법(강의, 실습/토의, 현장학습 등)은 교육내용을 이해하는데 적합하였다.'\n",
        "    ].value_counts(), cmax=14.5, cmin=-14.5, colorscale='RdBu')\n",
        "    ), row=1, col=2)\n",
        "\n",
        "fig.add_trace(go.Bar(showlegend=False,\n",
        "    x = post['교육과정의 내용과 수준은 이해하기 적절하였다.'].value_counts().index,\n",
        "    y = post['교육과정의 내용과 수준은 이해하기 적절하였다.'].value_counts(),\n",
        "    text = post['교육과정의 내용과 수준은 이해하기 적절하였다.'].value_counts(),\n",
        "    textposition = 'auto',\n",
        "    marker=dict(color=-post['교육과정의 내용과 수준은 이해하기 적절하였다.'\n",
        "    ].value_counts(),cmax=14.5, cmin=-14.5, colorscale='Viridis')\n",
        "    ),row=2, col=1)\n",
        "\n",
        "fig.add_trace(go.Bar(showlegend=False,\n",
        "    x = post['교육과정의 내용은 교육생 상황에 맞게 구성되었다.'].value_counts().index,\n",
        "    y = post['교육과정의 내용은 교육생 상황에 맞게 구성되었다.'].value_counts(),\n",
        "    text = post['교육과정의 내용은 교육생 상황에 맞게 구성되었다.'].value_counts(),\n",
        "    textposition = 'auto',\n",
        "    marker=dict(color=-post['교육과정의 내용은 교육생 상황에 맞게 구성되었다.'\n",
        "    ].value_counts(),cmax=14.5, cmin=-14.5, colorscale='RdBu')\n",
        "    ),row=2, col=2)\n",
        "\n",
        "fig.add_trace(go.Bar(showlegend=False,\n",
        "    x = post['교육운영진은 교육과정을 원활하게 운영하였다. (일정관리, 강의준비, 교육생 지원 등)'].value_counts().index,\n",
        "    y = post['교육운영진은 교육과정을 원활하게 운영하였다. (일정관리, 강의준비, 교육생 지원 등)'].value_counts(),\n",
        "    text = post['교육운영진은 교육과정을 원활하게 운영하였다. (일정관리, 강의준비, 교육생 지원 등)'].value_counts(),\n",
        "    textposition = 'auto',\n",
        "    marker=dict(color=-post['교육운영진은 교육과정을 원활하게 운영하였다. (일정관리, 강의준비, 교육생 지원 등)'\n",
        "    ].value_counts(),cmax=14.5, cmin=-14.5, colorscale='Viridis')\n",
        "    ),row=3, col=1)\n",
        "\n",
        "fig.add_trace(go.Bar(showlegend=False, \n",
        "    x = post['교육운영진은 응급상황 등 사건사고에 대해 적절히 대처하였다.'].value_counts().index,\n",
        "    y = post['교육운영진은 응급상황 등 사건사고에 대해 적절히 대처하였다.'].value_counts(),\n",
        "    text = post['교육운영진은 응급상황 등 사건사고에 대해 적절히 대처하였다.'].value_counts(),\n",
        "    textposition = 'auto',\n",
        "    marker=dict(color=-post['교육운영진은 응급상황 등 사건사고에 대해 적절히 대처하였다.'\n",
        "    ].value_counts(), cmax=14.5, cmin=-14.5, colorscale='RdBu')\n",
        "    ),row=3, col=2)\n",
        "\n",
        "\n",
        "fig.add_trace(go.Table(\n",
        "    columnwidth = [220,45,45,45,75,75,45], #columnorder = [1,2],\n",
        "    header=dict(height=25, \n",
        "        values=list(cs_mean.columns), fill_color='#094688',\n",
        "        font=dict(size=12, color='#ffffff'), align='center'),\n",
        "    cells=dict(\n",
        "        values=[cs_mean[k].tolist() for k in cs_mean.columns[:]],\n",
        "        font=dict(size=12, color='#000000'), align=['left', 'center'])),\n",
        "    row=4, col=1)\n",
        "\n",
        "fig.update_xaxes(title=dict(text='<b>만족도</b>', font_size=13),range=[2.5,5.5],row=3)\n",
        "fig.update_yaxes(title=dict(text='<b>응답자수</b>', font_size=13),range=[0,13.5], col=1)\n",
        "\n",
        "fig.update_layout(title=dict(text ='만족도 문항 응답 현황',x=0.5, y=0.97),\n",
        "                  margin = dict(t=90), font_size = 15, width=1000, height=1000,\n",
        "                  xaxis=dict(#title=dict(text='기관', font_size=13),\n",
        "                             tickfont_size=8.7, tickwidth=10),\n",
        "                  yaxis=dict(title=dict(text='<b>평균</b>', font_size=13),range=[0,5.5],\n",
        "                             tickfont_size=15),\n",
        "                  xaxis2=dict(range=[2.5,5.5]),\n",
        "                  yaxis2=dict(title=dict(text='<b>응답자수</b>', font_size=13),range=[0,13.5],\n",
        "                             tickfont_size=15),\n",
        "                  )"
      ],
      "execution_count": 50,
      "outputs": [
        {
          "output_type": "display_data",
          "data": {
            "text/html": [
              "<html>\n",
              "<head><meta charset=\"utf-8\" /></head>\n",
              "<body>\n",
              "    <div>\n",
              "            <script src=\"https://cdnjs.cloudflare.com/ajax/libs/mathjax/2.7.5/MathJax.js?config=TeX-AMS-MML_SVG\"></script><script type=\"text/javascript\">if (window.MathJax) {MathJax.Hub.Config({SVG: {font: \"STIX-Web\"}});}</script>\n",
              "                <script type=\"text/javascript\">window.PlotlyConfig = {MathJaxConfig: 'local'};</script>\n",
              "        <script src=\"https://cdn.plot.ly/plotly-latest.min.js\"></script>    \n",
              "            <div id=\"a6bfe845-13a7-48e9-95f2-871fd511c2c7\" class=\"plotly-graph-div\" style=\"height:1000px; width:1000px;\"></div>\n",
              "            <script type=\"text/javascript\">\n",
              "                \n",
              "                    window.PLOTLYENV=window.PLOTLYENV || {};\n",
              "                    \n",
              "                if (document.getElementById(\"a6bfe845-13a7-48e9-95f2-871fd511c2c7\")) {\n",
              "                    Plotly.newPlot(\n",
              "                        'a6bfe845-13a7-48e9-95f2-871fd511c2c7',\n",
              "                        [{\"marker\": {\"cmax\": 4.0, \"cmin\": 5.0, \"color\": [4.6, 4.51, 4.29, 4.2, 4.7], \"colorscale\": [[0.0, \"rgb(103,0,31)\"], [0.1, \"rgb(178,24,43)\"], [0.2, \"rgb(214,96,77)\"], [0.3, \"rgb(244,165,130)\"], [0.4, \"rgb(253,219,199)\"], [0.5, \"rgb(247,247,247)\"], [0.6, \"rgb(209,229,240)\"], [0.7, \"rgb(146,197,222)\"], [0.8, \"rgb(67,147,195)\"], [0.9, \"rgb(33,102,172)\"], [1.0, \"rgb(5,48,97)\"]]}, \"showlegend\": false, \"text\": [4.6, 4.51, 4.29, 4.2, 4.7], \"textposition\": \"auto\", \"type\": \"bar\", \"width\": 0.8, \"x\": [\"\\uad6d\\uc81c\\uae30\\uad6c\", \"\\ubbfc\\uac04\\uae30\\uc5c5\", \"\\uc11c\\uc6b8\\uc2dc\", \"\\uc11c\\uc6b8\\uc2dc \\uc0b0\\ud558\\uae30\\uad00\", \"\\uc911\\uc559\\ubd80\\ucc98/\\uc0b0\\ud558\\uae30\\uad00\"], \"xaxis\": \"x\", \"y\": [4.6, 4.51, 4.29, 4.2, 4.7], \"yaxis\": \"y\"}, {\"marker\": {\"cmax\": 14.5, \"cmin\": -14.5, \"color\": [-13, -9], \"colorscale\": [[0.0, \"rgb(103,0,31)\"], [0.1, \"rgb(178,24,43)\"], [0.2, \"rgb(214,96,77)\"], [0.3, \"rgb(244,165,130)\"], [0.4, \"rgb(253,219,199)\"], [0.5, \"rgb(247,247,247)\"], [0.6, \"rgb(209,229,240)\"], [0.7, \"rgb(146,197,222)\"], [0.8, \"rgb(67,147,195)\"], [0.9, \"rgb(33,102,172)\"], [1.0, \"rgb(5,48,97)\"]]}, \"showlegend\": false, \"text\": [13.0, 9.0], \"textposition\": \"auto\", \"type\": \"bar\", \"x\": [5, 4], \"xaxis\": \"x2\", \"y\": [13, 9], \"yaxis\": \"y2\"}, {\"marker\": {\"cmax\": 14.5, \"cmin\": -14.5, \"color\": [-11, -10, -1], \"colorscale\": [[0.0, \"#440154\"], [0.1111111111111111, \"#482878\"], [0.2222222222222222, \"#3e4989\"], [0.3333333333333333, \"#31688e\"], [0.4444444444444444, \"#26828e\"], [0.5555555555555556, \"#1f9e89\"], [0.6666666666666666, \"#35b779\"], [0.7777777777777778, \"#6ece58\"], [0.8888888888888888, \"#b5de2b\"], [1.0, \"#fde725\"]]}, \"showlegend\": false, \"text\": [11.0, 10.0, 1.0], \"textposition\": \"auto\", \"type\": \"bar\", \"x\": [5, 4, 3], \"xaxis\": \"x3\", \"y\": [11, 10, 1], \"yaxis\": \"y3\"}, {\"marker\": {\"cmax\": 14.5, \"cmin\": -14.5, \"color\": [-10, -7, -5], \"colorscale\": [[0.0, \"rgb(103,0,31)\"], [0.1, \"rgb(178,24,43)\"], [0.2, \"rgb(214,96,77)\"], [0.3, \"rgb(244,165,130)\"], [0.4, \"rgb(253,219,199)\"], [0.5, \"rgb(247,247,247)\"], [0.6, \"rgb(209,229,240)\"], [0.7, \"rgb(146,197,222)\"], [0.8, \"rgb(67,147,195)\"], [0.9, \"rgb(33,102,172)\"], [1.0, \"rgb(5,48,97)\"]]}, \"showlegend\": false, \"text\": [10.0, 7.0, 5.0], \"textposition\": \"auto\", \"type\": \"bar\", \"x\": [5, 4, 3], \"xaxis\": \"x4\", \"y\": [10, 7, 5], \"yaxis\": \"y4\"}, {\"marker\": {\"cmax\": 14.5, \"cmin\": -14.5, \"color\": [-11, -10, -1], \"colorscale\": [[0.0, \"#440154\"], [0.1111111111111111, \"#482878\"], [0.2222222222222222, \"#3e4989\"], [0.3333333333333333, \"#31688e\"], [0.4444444444444444, \"#26828e\"], [0.5555555555555556, \"#1f9e89\"], [0.6666666666666666, \"#35b779\"], [0.7777777777777778, \"#6ece58\"], [0.8888888888888888, \"#b5de2b\"], [1.0, \"#fde725\"]]}, \"showlegend\": false, \"text\": [11.0, 10.0, 1.0], \"textposition\": \"auto\", \"type\": \"bar\", \"x\": [5, 4, 3], \"xaxis\": \"x5\", \"y\": [11, 10, 1], \"yaxis\": \"y5\"}, {\"marker\": {\"cmax\": 14.5, \"cmin\": -14.5, \"color\": [-11, -10, -1], \"colorscale\": [[0.0, \"rgb(103,0,31)\"], [0.1, \"rgb(178,24,43)\"], [0.2, \"rgb(214,96,77)\"], [0.3, \"rgb(244,165,130)\"], [0.4, \"rgb(253,219,199)\"], [0.5, \"rgb(247,247,247)\"], [0.6, \"rgb(209,229,240)\"], [0.7, \"rgb(146,197,222)\"], [0.8, \"rgb(67,147,195)\"], [0.9, \"rgb(33,102,172)\"], [1.0, \"rgb(5,48,97)\"]]}, \"showlegend\": false, \"text\": [11.0, 10.0, 1.0], \"textposition\": \"auto\", \"type\": \"bar\", \"x\": [5, 4, 3], \"xaxis\": \"x6\", \"y\": [11, 10, 1], \"yaxis\": \"y6\"}, {\"cells\": {\"align\": [\"left\", \"center\"], \"font\": {\"color\": \"#000000\", \"size\": 12}, \"values\": [[\"\\uad50\\uc721\\ubc29\\ubc95\\uc740 \\ub0b4\\uc6a9\\uc744 \\uc774\\ud574\\ud558\\ub294\\ub370 \\uc801\\ud569\\ud558\\uc600\\ub2e4\", \"\\ub0b4\\uc6a9\\uacfc \\uc218\\uc900\\uc740 \\uc774\\ud574\\ud558\\uae30 \\uc801\\uc808\\ud558\\uc600\\ub2e4\", \"\\ub0b4\\uc6a9\\uc740 \\uad50\\uc721\\uc0dd \\uc0c1\\ud669\\uc5d0 \\ub9de\\uac8c \\uad6c\\uc131\\ub418\\uc5c8\\ub2e4\", \"\\uc6b4\\uc601\\uc9c4\\uc740 \\uad50\\uc721\\uacfc\\uc815\\uc744 \\uc6d0\\ud65c\\ud558\\uac8c \\uc6b4\\uc601\\ud558\\uc600\\ub2e4\", \"\\uc6b4\\uc601\\uc9c4\\uc740 \\uc751\\uae09\\uc0c1\\ud669 \\ub4f1 \\uc0ac\\uac74\\uc0ac\\uace0\\uc5d0 \\ub300\\ud574 \\uc801\\uc808\\ud788 \\ub300\\ucc98\\ud558\\uc600\\ub2e4\", \"\\ud3c9\\uade0\"], [5.0, 4.0, 4.0, 5.0, 5.0, 4.6], [4.71, 4.43, 4.43, 4.43, 4.57, 4.51], [4.43, 4.43, 4.29, 4.14, 4.14, 4.29], [4.33, 4.33, 3.33, 4.67, 4.33, 4.2], [4.75, 4.75, 4.5, 4.75, 4.75, 4.7], [4.59, 4.45, 4.23, 4.45, 4.45, 4.43]]}, \"columnwidth\": [220, 45, 45, 45, 75, 75, 45], \"domain\": {\"x\": [0.0, 1.0], \"y\": [0.0, 0.17875]}, \"header\": {\"align\": \"center\", \"fill\": {\"color\": \"#094688\"}, \"font\": {\"color\": \"#ffffff\", \"size\": 12}, \"height\": 25, \"values\": [\"\\ubb38\\ud56d\", \"\\uad6d\\uc81c\\uae30\\uad6c\", \"\\ubbfc\\uac04\\uae30\\uc5c5\", \"\\uc11c\\uc6b8\\uc2dc\", \"\\uc11c\\uc6b8\\uc2dc \\uc0b0\\ud558\\uae30\\uad00\", \"\\uc911\\uc559\\ubd80\\ucc98/\\uc0b0\\ud558\\uae30\\uad00\", \"\\ud3c9\\uade0\"]}, \"type\": \"table\"}],\n",
              "                        {\"annotations\": [{\"font\": {\"size\": 16}, \"showarrow\": false, \"text\": \"\\uae30\\uad00\\ubcc4 \\ub9cc\\uc871\\ub3c4\", \"x\": 0.225, \"xanchor\": \"center\", \"xref\": \"paper\", \"y\": 1.0, \"yanchor\": \"bottom\", \"yref\": \"paper\"}, {\"font\": {\"size\": 16}, \"showarrow\": false, \"text\": \"\\uad50\\uc721\\ubc29\\ubc95\\uc740 \\ub0b4\\uc6a9\\uc744 \\uc774\\ud574\\ud558\\ub294\\ub370 \\uc801\\ud569\\ud558\\uc600\\ub2e4\", \"x\": 0.775, \"xanchor\": \"center\", \"xref\": \"paper\", \"y\": 1.0, \"yanchor\": \"bottom\", \"yref\": \"paper\"}, {\"font\": {\"size\": 16}, \"showarrow\": false, \"text\": \"\\ub0b4\\uc6a9\\uacfc \\uc218\\uc900\\uc740 \\uc774\\ud574\\ud558\\uae30 \\uc801\\uc808\\ud558\\uc600\\ub2e4\", \"x\": 0.225, \"xanchor\": \"center\", \"xref\": \"paper\", \"y\": 0.72625, \"yanchor\": \"bottom\", \"yref\": \"paper\"}, {\"font\": {\"size\": 16}, \"showarrow\": false, \"text\": \"\\ub0b4\\uc6a9\\uc740 \\uad50\\uc721\\uc0dd \\uc0c1\\ud669\\uc5d0 \\ub9de\\uac8c \\uad6c\\uc131\\ub418\\uc5c8\\ub2e4\", \"x\": 0.775, \"xanchor\": \"center\", \"xref\": \"paper\", \"y\": 0.72625, \"yanchor\": \"bottom\", \"yref\": \"paper\"}, {\"font\": {\"size\": 16}, \"showarrow\": false, \"text\": \"\\uc6b4\\uc601\\uc9c4\\uc740 \\uad50\\uc721\\uacfc\\uc815\\uc744 \\uc6d0\\ud65c\\ud558\\uac8c \\uc6b4\\uc601\\ud558\\uc600\\ub2e4\", \"x\": 0.225, \"xanchor\": \"center\", \"xref\": \"paper\", \"y\": 0.4525, \"yanchor\": \"bottom\", \"yref\": \"paper\"}, {\"font\": {\"size\": 16}, \"showarrow\": false, \"text\": \"<br>\\uc6b4\\uc601\\uc9c4\\uc740 \\uc751\\uae09\\uc0c1\\ud669 \\ub4f1 \\uc0ac\\uac74\\uc0ac\\uace0\\uc5d0 \\ub300\\ud574<br>\\uc801\\uc808\\ud788 \\ub300\\ucc98\\ud558\\uc600\\ub2e4\", \"x\": 0.775, \"xanchor\": \"center\", \"xref\": \"paper\", \"y\": 0.4525, \"yanchor\": \"bottom\", \"yref\": \"paper\"}, {\"font\": {\"size\": 16}, \"showarrow\": false, \"text\": \"\\ubb38\\ud56d\\ubcc4, \\uae30\\uad00\\ubcc4 \\ub9cc\\uc871\\ub3c4 \\ud604\\ud669\", \"x\": 0.5, \"xanchor\": \"center\", \"xref\": \"paper\", \"y\": 0.17875, \"yanchor\": \"bottom\", \"yref\": \"paper\"}], \"font\": {\"size\": 15}, \"height\": 1000, \"margin\": {\"t\": 90}, \"template\": {\"data\": {\"bar\": [{\"error_x\": {\"color\": \"#2a3f5f\"}, \"error_y\": {\"color\": \"#2a3f5f\"}, \"marker\": {\"line\": {\"color\": \"#E5ECF6\", \"width\": 0.5}}, \"type\": \"bar\"}], \"barpolar\": [{\"marker\": {\"line\": {\"color\": \"#E5ECF6\", \"width\": 0.5}}, \"type\": \"barpolar\"}], \"carpet\": [{\"aaxis\": {\"endlinecolor\": \"#2a3f5f\", \"gridcolor\": \"white\", \"linecolor\": \"white\", \"minorgridcolor\": \"white\", \"startlinecolor\": \"#2a3f5f\"}, \"baxis\": {\"endlinecolor\": \"#2a3f5f\", \"gridcolor\": \"white\", \"linecolor\": \"white\", \"minorgridcolor\": \"white\", \"startlinecolor\": \"#2a3f5f\"}, \"type\": \"carpet\"}], \"choropleth\": [{\"colorbar\": {\"outlinewidth\": 0, \"ticks\": \"\"}, \"type\": \"choropleth\"}], \"contour\": [{\"colorbar\": {\"outlinewidth\": 0, \"ticks\": \"\"}, \"colorscale\": [[0.0, \"#0d0887\"], [0.1111111111111111, \"#46039f\"], [0.2222222222222222, \"#7201a8\"], [0.3333333333333333, \"#9c179e\"], [0.4444444444444444, \"#bd3786\"], [0.5555555555555556, \"#d8576b\"], [0.6666666666666666, \"#ed7953\"], [0.7777777777777778, \"#fb9f3a\"], [0.8888888888888888, \"#fdca26\"], [1.0, \"#f0f921\"]], \"type\": \"contour\"}], \"contourcarpet\": [{\"colorbar\": {\"outlinewidth\": 0, \"ticks\": \"\"}, \"type\": \"contourcarpet\"}], \"heatmap\": [{\"colorbar\": {\"outlinewidth\": 0, \"ticks\": \"\"}, \"colorscale\": [[0.0, \"#0d0887\"], [0.1111111111111111, \"#46039f\"], [0.2222222222222222, \"#7201a8\"], [0.3333333333333333, \"#9c179e\"], [0.4444444444444444, \"#bd3786\"], [0.5555555555555556, \"#d8576b\"], [0.6666666666666666, \"#ed7953\"], [0.7777777777777778, \"#fb9f3a\"], [0.8888888888888888, \"#fdca26\"], [1.0, \"#f0f921\"]], \"type\": \"heatmap\"}], \"heatmapgl\": [{\"colorbar\": {\"outlinewidth\": 0, \"ticks\": \"\"}, \"colorscale\": [[0.0, \"#0d0887\"], [0.1111111111111111, \"#46039f\"], [0.2222222222222222, \"#7201a8\"], [0.3333333333333333, \"#9c179e\"], [0.4444444444444444, \"#bd3786\"], [0.5555555555555556, \"#d8576b\"], [0.6666666666666666, \"#ed7953\"], [0.7777777777777778, \"#fb9f3a\"], [0.8888888888888888, \"#fdca26\"], [1.0, \"#f0f921\"]], \"type\": \"heatmapgl\"}], \"histogram\": [{\"marker\": {\"colorbar\": {\"outlinewidth\": 0, \"ticks\": \"\"}}, \"type\": \"histogram\"}], \"histogram2d\": [{\"colorbar\": {\"outlinewidth\": 0, \"ticks\": \"\"}, \"colorscale\": [[0.0, \"#0d0887\"], [0.1111111111111111, \"#46039f\"], [0.2222222222222222, \"#7201a8\"], [0.3333333333333333, \"#9c179e\"], [0.4444444444444444, \"#bd3786\"], [0.5555555555555556, \"#d8576b\"], [0.6666666666666666, \"#ed7953\"], [0.7777777777777778, \"#fb9f3a\"], [0.8888888888888888, \"#fdca26\"], [1.0, \"#f0f921\"]], \"type\": \"histogram2d\"}], \"histogram2dcontour\": [{\"colorbar\": {\"outlinewidth\": 0, \"ticks\": \"\"}, \"colorscale\": [[0.0, \"#0d0887\"], [0.1111111111111111, \"#46039f\"], [0.2222222222222222, \"#7201a8\"], [0.3333333333333333, \"#9c179e\"], [0.4444444444444444, \"#bd3786\"], [0.5555555555555556, \"#d8576b\"], [0.6666666666666666, \"#ed7953\"], [0.7777777777777778, \"#fb9f3a\"], [0.8888888888888888, \"#fdca26\"], [1.0, \"#f0f921\"]], \"type\": \"histogram2dcontour\"}], \"mesh3d\": [{\"colorbar\": {\"outlinewidth\": 0, \"ticks\": \"\"}, \"type\": \"mesh3d\"}], \"parcoords\": [{\"line\": {\"colorbar\": {\"outlinewidth\": 0, \"ticks\": \"\"}}, \"type\": \"parcoords\"}], \"scatter\": [{\"marker\": {\"colorbar\": {\"outlinewidth\": 0, \"ticks\": \"\"}}, \"type\": \"scatter\"}], \"scatter3d\": [{\"line\": {\"colorbar\": {\"outlinewidth\": 0, \"ticks\": \"\"}}, \"marker\": {\"colorbar\": {\"outlinewidth\": 0, \"ticks\": \"\"}}, \"type\": \"scatter3d\"}], \"scattercarpet\": [{\"marker\": {\"colorbar\": {\"outlinewidth\": 0, \"ticks\": \"\"}}, \"type\": \"scattercarpet\"}], \"scattergeo\": [{\"marker\": {\"colorbar\": {\"outlinewidth\": 0, \"ticks\": \"\"}}, \"type\": \"scattergeo\"}], \"scattergl\": [{\"marker\": {\"colorbar\": {\"outlinewidth\": 0, \"ticks\": \"\"}}, \"type\": \"scattergl\"}], \"scattermapbox\": [{\"marker\": {\"colorbar\": {\"outlinewidth\": 0, \"ticks\": \"\"}}, \"type\": \"scattermapbox\"}], \"scatterpolar\": [{\"marker\": {\"colorbar\": {\"outlinewidth\": 0, \"ticks\": \"\"}}, \"type\": \"scatterpolar\"}], \"scatterpolargl\": [{\"marker\": {\"colorbar\": {\"outlinewidth\": 0, \"ticks\": \"\"}}, \"type\": \"scatterpolargl\"}], \"scatterternary\": [{\"marker\": {\"colorbar\": {\"outlinewidth\": 0, \"ticks\": \"\"}}, \"type\": \"scatterternary\"}], \"surface\": [{\"colorbar\": {\"outlinewidth\": 0, \"ticks\": \"\"}, \"colorscale\": [[0.0, \"#0d0887\"], [0.1111111111111111, \"#46039f\"], [0.2222222222222222, \"#7201a8\"], [0.3333333333333333, \"#9c179e\"], [0.4444444444444444, \"#bd3786\"], [0.5555555555555556, \"#d8576b\"], [0.6666666666666666, \"#ed7953\"], [0.7777777777777778, \"#fb9f3a\"], [0.8888888888888888, \"#fdca26\"], [1.0, \"#f0f921\"]], \"type\": \"surface\"}], \"table\": [{\"cells\": {\"fill\": {\"color\": \"#EBF0F8\"}, \"line\": {\"color\": \"white\"}}, \"header\": {\"fill\": {\"color\": \"#C8D4E3\"}, \"line\": {\"color\": \"white\"}}, \"type\": \"table\"}]}, \"layout\": {\"annotationdefaults\": {\"arrowcolor\": \"#2a3f5f\", \"arrowhead\": 0, \"arrowwidth\": 1}, \"colorscale\": {\"diverging\": [[0, \"#8e0152\"], [0.1, \"#c51b7d\"], [0.2, \"#de77ae\"], [0.3, \"#f1b6da\"], [0.4, \"#fde0ef\"], [0.5, \"#f7f7f7\"], [0.6, \"#e6f5d0\"], [0.7, \"#b8e186\"], [0.8, \"#7fbc41\"], [0.9, \"#4d9221\"], [1, \"#276419\"]], \"sequential\": [[0.0, \"#0d0887\"], [0.1111111111111111, \"#46039f\"], [0.2222222222222222, \"#7201a8\"], [0.3333333333333333, \"#9c179e\"], [0.4444444444444444, \"#bd3786\"], [0.5555555555555556, \"#d8576b\"], [0.6666666666666666, \"#ed7953\"], [0.7777777777777778, \"#fb9f3a\"], [0.8888888888888888, \"#fdca26\"], [1.0, \"#f0f921\"]], \"sequentialminus\": [[0.0, \"#0d0887\"], [0.1111111111111111, \"#46039f\"], [0.2222222222222222, \"#7201a8\"], [0.3333333333333333, \"#9c179e\"], [0.4444444444444444, \"#bd3786\"], [0.5555555555555556, \"#d8576b\"], [0.6666666666666666, \"#ed7953\"], [0.7777777777777778, \"#fb9f3a\"], [0.8888888888888888, \"#fdca26\"], [1.0, \"#f0f921\"]]}, \"colorway\": [\"#636efa\", \"#EF553B\", \"#00cc96\", \"#ab63fa\", \"#FFA15A\", \"#19d3f3\", \"#FF6692\", \"#B6E880\", \"#FF97FF\", \"#FECB52\"], \"font\": {\"color\": \"#2a3f5f\"}, \"geo\": {\"bgcolor\": \"white\", \"lakecolor\": \"white\", \"landcolor\": \"#E5ECF6\", \"showlakes\": true, \"showland\": true, \"subunitcolor\": \"white\"}, \"hoverlabel\": {\"align\": \"left\"}, \"hovermode\": \"closest\", \"mapbox\": {\"style\": \"light\"}, \"paper_bgcolor\": \"white\", \"plot_bgcolor\": \"#E5ECF6\", \"polar\": {\"angularaxis\": {\"gridcolor\": \"white\", \"linecolor\": \"white\", \"ticks\": \"\"}, \"bgcolor\": \"#E5ECF6\", \"radialaxis\": {\"gridcolor\": \"white\", \"linecolor\": \"white\", \"ticks\": \"\"}}, \"scene\": {\"xaxis\": {\"backgroundcolor\": \"#E5ECF6\", \"gridcolor\": \"white\", \"gridwidth\": 2, \"linecolor\": \"white\", \"showbackground\": true, \"ticks\": \"\", \"zerolinecolor\": \"white\"}, \"yaxis\": {\"backgroundcolor\": \"#E5ECF6\", \"gridcolor\": \"white\", \"gridwidth\": 2, \"linecolor\": \"white\", \"showbackground\": true, \"ticks\": \"\", \"zerolinecolor\": \"white\"}, \"zaxis\": {\"backgroundcolor\": \"#E5ECF6\", \"gridcolor\": \"white\", \"gridwidth\": 2, \"linecolor\": \"white\", \"showbackground\": true, \"ticks\": \"\", \"zerolinecolor\": \"white\"}}, \"shapedefaults\": {\"line\": {\"color\": \"#2a3f5f\"}}, \"ternary\": {\"aaxis\": {\"gridcolor\": \"white\", \"linecolor\": \"white\", \"ticks\": \"\"}, \"baxis\": {\"gridcolor\": \"white\", \"linecolor\": \"white\", \"ticks\": \"\"}, \"bgcolor\": \"#E5ECF6\", \"caxis\": {\"gridcolor\": \"white\", \"linecolor\": \"white\", \"ticks\": \"\"}}, \"title\": {\"x\": 0.05}, \"xaxis\": {\"automargin\": true, \"gridcolor\": \"white\", \"linecolor\": \"white\", \"ticks\": \"\", \"zerolinecolor\": \"white\", \"zerolinewidth\": 2}, \"yaxis\": {\"automargin\": true, \"gridcolor\": \"white\", \"linecolor\": \"white\", \"ticks\": \"\", \"zerolinecolor\": \"white\", \"zerolinewidth\": 2}}}, \"title\": {\"text\": \"\\ub9cc\\uc871\\ub3c4 \\ubb38\\ud56d \\uc751\\ub2f5 \\ud604\\ud669\", \"x\": 0.5, \"y\": 0.97}, \"width\": 1000, \"xaxis\": {\"anchor\": \"y\", \"domain\": [0.0, 0.45], \"tickfont\": {\"size\": 8.7}, \"tickwidth\": 10}, \"xaxis2\": {\"anchor\": \"y2\", \"domain\": [0.55, 1.0], \"range\": [2.5, 5.5]}, \"xaxis3\": {\"anchor\": \"y3\", \"domain\": [0.0, 0.45]}, \"xaxis4\": {\"anchor\": \"y4\", \"domain\": [0.55, 1.0]}, \"xaxis5\": {\"anchor\": \"y5\", \"domain\": [0.0, 0.45], \"range\": [2.5, 5.5], \"title\": {\"font\": {\"size\": 13}, \"text\": \"<b>\\ub9cc\\uc871\\ub3c4</b>\"}}, \"xaxis6\": {\"anchor\": \"y6\", \"domain\": [0.55, 1.0], \"range\": [2.5, 5.5], \"title\": {\"font\": {\"size\": 13}, \"text\": \"<b>\\ub9cc\\uc871\\ub3c4</b>\"}}, \"yaxis\": {\"anchor\": \"x\", \"domain\": [0.82125, 1.0], \"range\": [0, 5.5], \"tickfont\": {\"size\": 15}, \"title\": {\"font\": {\"size\": 13}, \"text\": \"<b>\\ud3c9\\uade0</b>\"}}, \"yaxis2\": {\"anchor\": \"x2\", \"domain\": [0.82125, 1.0], \"range\": [0, 13.5], \"tickfont\": {\"size\": 15}, \"title\": {\"font\": {\"size\": 13}, \"text\": \"<b>\\uc751\\ub2f5\\uc790\\uc218</b>\"}}, \"yaxis3\": {\"anchor\": \"x3\", \"domain\": [0.5475, 0.72625], \"range\": [0, 13.5], \"title\": {\"font\": {\"size\": 13}, \"text\": \"<b>\\uc751\\ub2f5\\uc790\\uc218</b>\"}}, \"yaxis4\": {\"anchor\": \"x4\", \"domain\": [0.5475, 0.72625]}, \"yaxis5\": {\"anchor\": \"x5\", \"domain\": [0.27375, 0.4525], \"range\": [0, 13.5], \"title\": {\"font\": {\"size\": 13}, \"text\": \"<b>\\uc751\\ub2f5\\uc790\\uc218</b>\"}}, \"yaxis6\": {\"anchor\": \"x6\", \"domain\": [0.27375, 0.4525]}},\n",
              "                        {\"responsive\": true}\n",
              "                    ).then(function(){\n",
              "                            \n",
              "var gd = document.getElementById('a6bfe845-13a7-48e9-95f2-871fd511c2c7');\n",
              "var x = new MutationObserver(function (mutations, observer) {{\n",
              "        var display = window.getComputedStyle(gd).display;\n",
              "        if (!display || display === 'none') {{\n",
              "            console.log([gd, 'removed!']);\n",
              "            Plotly.purge(gd);\n",
              "            observer.disconnect();\n",
              "        }}\n",
              "}});\n",
              "\n",
              "// Listen for the removal of the full notebook cells\n",
              "var notebookContainer = gd.closest('#notebook-container');\n",
              "if (notebookContainer) {{\n",
              "    x.observe(notebookContainer, {childList: true});\n",
              "}}\n",
              "\n",
              "// Listen for the clearing of the current output cell\n",
              "var outputEl = gd.closest('.output');\n",
              "if (outputEl) {{\n",
              "    x.observe(outputEl, {childList: true});\n",
              "}}\n",
              "\n",
              "                        })\n",
              "                };\n",
              "                \n",
              "            </script>\n",
              "        </div>\n",
              "</body>\n",
              "</html>"
            ]
          },
          "metadata": {
            "tags": []
          }
        }
      ]
    },
    {
      "cell_type": "markdown",
      "metadata": {
        "colab_type": "text",
        "id": "Qsmk1DJQ56l7"
      },
      "source": [
        ""
      ]
    },
    {
      "cell_type": "markdown",
      "metadata": {
        "colab_type": "text",
        "id": "GVkZsGUJXD74"
      },
      "source": [
        "## 정책자문사례발표 문항 분석"
      ]
    },
    {
      "cell_type": "code",
      "metadata": {
        "colab_type": "code",
        "id": "SQYKiNIEXD75",
        "colab": {}
      },
      "source": [
        "pcs_mean = post.pivot_table(\n",
        "    values=['정책자문사례발표의 주제는 교육과정 목표와 연계되어 있었다.',\n",
        "            '정책자문사례발표의 세션시간은 충분하였다.', \n",
        "            '정책자문사례발표 자료 작성 및 발표를 위한 안내가 충분히 이루어졌다.',\n",
        "            '정책자문사례발표의 세션 담당자는 피드백을 충분히 제공하였다.',\n",
        "            '정책자문사례발표 세션은 연수내용을 이해하는데 도움이 되었다.', \n",
        "            '정책자문사례발표는 현장에서 실무능력을 향상시키는데 도움이 되었다.'],\n",
        "            index=['기관'],aggfunc='mean',margins=True,\n",
        "            margins_name=\"평균\").round(2).rename(\n",
        "            columns={\n",
        "            '정책자문사례발표의 주제는 교육과정 목표와 연계되어 있었다.':'주제는 교육과정 목표와 연계되어 있었다',\n",
        "            '정책자문사례발표의 세션시간은 충분하였다.':'세션시간은 충분하였다', \n",
        "            '정책자문사례발표 자료 작성 및 발표를 위한 안내가 충분히 이루어졌다.':'자료 작성 및 발표를 위한 안내가 충분히 이루어졌다',\n",
        "            '정책자문사례발표의 세션 담당자는 피드백을 충분히 제공하였다.':'세션 담당자는 피드백을 충분히 제공하였다',\n",
        "            '정책자문사례발표 세션은 연수내용을 이해하는데 도움이 되었다.':'연수내용을 이해하는데 도움이 되었다', \n",
        "            '정책자문사례발표는 현장에서 실무능력을 향상시키는데 도움이 되었다.':'현장에서 실무능력을 향상시키는데 도움이 되었다'\n",
        "            })"
      ],
      "execution_count": 0,
      "outputs": []
    },
    {
      "cell_type": "code",
      "metadata": {
        "colab_type": "code",
        "id": "vBxAEOT2XD78",
        "outputId": "bce7ff5e-68d7-4b72-86ed-ba467853d980",
        "colab": {
          "base_uri": "https://localhost:8080/",
          "height": 280
        }
      },
      "source": [
        "pcs_mean_int = pcs_mean.mean(axis=1).round(2)\n",
        "pcs_mean[\"평균\"] = pcs_mean_int\n",
        "pcs_mean = pcs_mean.T.reset_index().rename(columns={\"index\": \"문항\"})\n",
        "pcs_mean.index.names = ['']\n",
        "pcs_mean"
      ],
      "execution_count": 53,
      "outputs": [
        {
          "output_type": "execute_result",
          "data": {
            "text/html": [
              "<div>\n",
              "<style scoped>\n",
              "    .dataframe tbody tr th:only-of-type {\n",
              "        vertical-align: middle;\n",
              "    }\n",
              "\n",
              "    .dataframe tbody tr th {\n",
              "        vertical-align: top;\n",
              "    }\n",
              "\n",
              "    .dataframe thead th {\n",
              "        text-align: right;\n",
              "    }\n",
              "</style>\n",
              "<table border=\"1\" class=\"dataframe\">\n",
              "  <thead>\n",
              "    <tr style=\"text-align: right;\">\n",
              "      <th>기관</th>\n",
              "      <th>문항</th>\n",
              "      <th>국제기구</th>\n",
              "      <th>민간기업</th>\n",
              "      <th>서울시</th>\n",
              "      <th>서울시 산하기관</th>\n",
              "      <th>중앙부처/산하기관</th>\n",
              "      <th>평균</th>\n",
              "    </tr>\n",
              "    <tr>\n",
              "      <th></th>\n",
              "      <th></th>\n",
              "      <th></th>\n",
              "      <th></th>\n",
              "      <th></th>\n",
              "      <th></th>\n",
              "      <th></th>\n",
              "      <th></th>\n",
              "    </tr>\n",
              "  </thead>\n",
              "  <tbody>\n",
              "    <tr>\n",
              "      <th>0</th>\n",
              "      <td>연수내용을 이해하는데 도움이 되었다</td>\n",
              "      <td>5.0</td>\n",
              "      <td>4.57</td>\n",
              "      <td>4.29</td>\n",
              "      <td>4.33</td>\n",
              "      <td>4.75</td>\n",
              "      <td>4.50</td>\n",
              "    </tr>\n",
              "    <tr>\n",
              "      <th>1</th>\n",
              "      <td>자료 작성 및 발표를 위한 안내가 충분히 이루어졌다</td>\n",
              "      <td>5.0</td>\n",
              "      <td>4.29</td>\n",
              "      <td>4.29</td>\n",
              "      <td>4.33</td>\n",
              "      <td>4.50</td>\n",
              "      <td>4.36</td>\n",
              "    </tr>\n",
              "    <tr>\n",
              "      <th>2</th>\n",
              "      <td>현장에서 실무능력을 향상시키는데 도움이 되었다</td>\n",
              "      <td>5.0</td>\n",
              "      <td>4.57</td>\n",
              "      <td>4.14</td>\n",
              "      <td>4.33</td>\n",
              "      <td>4.75</td>\n",
              "      <td>4.45</td>\n",
              "    </tr>\n",
              "    <tr>\n",
              "      <th>3</th>\n",
              "      <td>세션 담당자는 피드백을 충분히 제공하였다</td>\n",
              "      <td>5.0</td>\n",
              "      <td>4.43</td>\n",
              "      <td>4.14</td>\n",
              "      <td>4.33</td>\n",
              "      <td>4.75</td>\n",
              "      <td>4.41</td>\n",
              "    </tr>\n",
              "    <tr>\n",
              "      <th>4</th>\n",
              "      <td>세션시간은 충분하였다</td>\n",
              "      <td>5.0</td>\n",
              "      <td>4.43</td>\n",
              "      <td>4.29</td>\n",
              "      <td>4.00</td>\n",
              "      <td>4.50</td>\n",
              "      <td>4.36</td>\n",
              "    </tr>\n",
              "    <tr>\n",
              "      <th>5</th>\n",
              "      <td>주제는 교육과정 목표와 연계되어 있었다</td>\n",
              "      <td>5.0</td>\n",
              "      <td>4.71</td>\n",
              "      <td>4.29</td>\n",
              "      <td>4.33</td>\n",
              "      <td>4.50</td>\n",
              "      <td>4.50</td>\n",
              "    </tr>\n",
              "    <tr>\n",
              "      <th>6</th>\n",
              "      <td>평균</td>\n",
              "      <td>5.0</td>\n",
              "      <td>4.50</td>\n",
              "      <td>4.24</td>\n",
              "      <td>4.27</td>\n",
              "      <td>4.62</td>\n",
              "      <td>4.43</td>\n",
              "    </tr>\n",
              "  </tbody>\n",
              "</table>\n",
              "</div>"
            ],
            "text/plain": [
              "기관                            문항  국제기구  민간기업   서울시  서울시 산하기관  중앙부처/산하기관    평균\n",
              "                                                                             \n",
              "0            연수내용을 이해하는데 도움이 되었다   5.0  4.57  4.29      4.33       4.75  4.50\n",
              "1   자료 작성 및 발표를 위한 안내가 충분히 이루어졌다   5.0  4.29  4.29      4.33       4.50  4.36\n",
              "2      현장에서 실무능력을 향상시키는데 도움이 되었다   5.0  4.57  4.14      4.33       4.75  4.45\n",
              "3         세션 담당자는 피드백을 충분히 제공하였다   5.0  4.43  4.14      4.33       4.75  4.41\n",
              "4                    세션시간은 충분하였다   5.0  4.43  4.29      4.00       4.50  4.36\n",
              "5          주제는 교육과정 목표와 연계되어 있었다   5.0  4.71  4.29      4.33       4.50  4.50\n",
              "6                             평균   5.0  4.50  4.24      4.27       4.62  4.43"
            ]
          },
          "metadata": {
            "tags": []
          },
          "execution_count": 53
        }
      ]
    },
    {
      "cell_type": "code",
      "metadata": {
        "colab_type": "code",
        "id": "IuNG5fXzZOoR",
        "outputId": "0d6c61b2-213a-47f2-f0b0-d3e16cf9f17c",
        "colab": {
          "base_uri": "https://localhost:8080/",
          "height": 1000
        }
      },
      "source": [
        "fig = make_subplots(\n",
        "    rows=4, cols=2, vertical_spacing=0.09,\n",
        "    specs=[[{},{}],[{},{}],[{},{}],[{\"colspan\": 2, \"type\": \"table\"}, None]],\n",
        "    subplot_titles=('연수내용을 이해하는데 도움이 되었다', \n",
        "                    '자료 작성 및 발표를 위한 안내가 충분히 이루어졌다',\n",
        "                    '현장에서 실무능력을 향상시키는데 도움이 되었다',\n",
        "                    '세션 담당자는 피드백을 충분히 제공하였다',\n",
        "                    '세션시간은 충분하였다',\n",
        "                    '주제는 교육과정 목표와 연계되어 있었다',\n",
        "                    \"문항별, 기관별 만족도 현황\"))\n",
        "\n",
        "fig.add_trace(go.Bar(showlegend=False,\n",
        "    x = post['정책자문사례발표 세션은 연수내용을 이해하는데 도움이 되었다.'].value_counts().index,\n",
        "    y = post['정책자문사례발표 세션은 연수내용을 이해하는데 도움이 되었다.'].value_counts(),\n",
        "    text = post['정책자문사례발표 세션은 연수내용을 이해하는데 도움이 되었다.'].value_counts(),    \n",
        "    textposition = 'auto',\n",
        "    marker=dict(color=-post['정책자문사례발표 세션은 연수내용을 이해하는데 도움이 되었다.'\n",
        "    ].value_counts(), cmax=14.5, cmin=-14.5, colorscale='RdBu')\n",
        "    ), row=1, col=1)\n",
        "\n",
        "fig.add_trace(go.Bar(showlegend=False,\n",
        "    x = post['정책자문사례발표 자료 작성 및 발표를 위한 안내가 충분히 이루어졌다.'].value_counts().index,\n",
        "    y = post['정책자문사례발표 자료 작성 및 발표를 위한 안내가 충분히 이루어졌다.'].value_counts(),\n",
        "    text = post['정책자문사례발표 자료 작성 및 발표를 위한 안내가 충분히 이루어졌다.'].value_counts(),\n",
        "    textposition = 'auto',\n",
        "    marker=dict(color=-post['정책자문사례발표 자료 작성 및 발표를 위한 안내가 충분히 이루어졌다.'\n",
        "    ].value_counts(),cmax=14.5, cmin=-14.5, colorscale='Viridis')\n",
        "    ),row=1, col=2)\n",
        "\n",
        "fig.add_trace(go.Bar(showlegend=False,\n",
        "    x = post['정책자문사례발표는 현장에서 실무능력을 향상시키는데 도움이 되었다.'].value_counts().index,\n",
        "    y = post['정책자문사례발표는 현장에서 실무능력을 향상시키는데 도움이 되었다.'].value_counts(),\n",
        "    text = post['정책자문사례발표는 현장에서 실무능력을 향상시키는데 도움이 되었다.'].value_counts(),\n",
        "    textposition = 'auto',\n",
        "    marker=dict(color=-post['정책자문사례발표는 현장에서 실무능력을 향상시키는데 도움이 되었다.'\n",
        "    ].value_counts(),cmax=14.5, cmin=-14.5, colorscale='RdBu')\n",
        "    ),row=2, col=1)\n",
        "\n",
        "fig.add_trace(go.Bar(showlegend=False,\n",
        "    x = post['정책자문사례발표의 세션 담당자는 피드백을 충분히 제공하였다.'].value_counts().index,\n",
        "    y = post['정책자문사례발표의 세션 담당자는 피드백을 충분히 제공하였다.'].value_counts(),\n",
        "    text = post['정책자문사례발표의 세션 담당자는 피드백을 충분히 제공하였다.'].value_counts(),\n",
        "    textposition = 'auto',\n",
        "    marker=dict(color=-post['정책자문사례발표의 세션 담당자는 피드백을 충분히 제공하였다.'\n",
        "    ].value_counts(),cmax=14.5, cmin=-14.5, colorscale='Viridis')\n",
        "    ),row=2, col=2)\n",
        "\n",
        "fig.add_trace(go.Bar(showlegend=False, \n",
        "    x = post['정책자문사례발표의 세션시간은 충분하였다.'].value_counts().index,\n",
        "    y = post['정책자문사례발표의 세션시간은 충분하였다.'].value_counts(),\n",
        "    text = post['정책자문사례발표의 세션시간은 충분하였다.'].value_counts(),\n",
        "    textposition = 'auto',\n",
        "    marker=dict(color=-post['정책자문사례발표의 세션시간은 충분하였다.'\n",
        "    ].value_counts(), cmax=14.5, cmin=-14.5, colorscale='RdBu')\n",
        "    ),row=3, col=1)\n",
        "\n",
        "fig.add_trace(go.Bar(showlegend=False,\n",
        "    x = post['정책자문사례발표의 주제는 교육과정 목표와 연계되어 있었다.'].value_counts().index,\n",
        "    y = post['정책자문사례발표의 주제는 교육과정 목표와 연계되어 있었다.'].value_counts(),\n",
        "    text = post['정책자문사례발표의 주제는 교육과정 목표와 연계되어 있었다.'].value_counts(),\n",
        "    textposition = 'auto',\n",
        "    marker=dict(color=-post['정책자문사례발표의 주제는 교육과정 목표와 연계되어 있었다.'\n",
        "    ].value_counts(),cmax=14.5, cmin=-14.5, colorscale='Viridis')\n",
        "    ), row=3, col=2)\n",
        "\n",
        "fig.add_trace(go.Table(\n",
        "    columnwidth = [200,43,43,43,75,75,43], #columnorder = [1,2],\n",
        "    header=dict(height=25, \n",
        "        values=list(pcs_mean.columns), fill_color='#094688',\n",
        "        font=dict(size=12, color='#ffffff'), align='center'),\n",
        "    cells=dict(\n",
        "        values=[pcs_mean[k].tolist() for k in pcs_mean.columns[:]],\n",
        "        font=dict(size=12, color='#000000'), align=['left', 'center'])),\n",
        "    row=4, col=1)\n",
        "\n",
        "fig.update_xaxes(title=dict(text='<b>만족도</b>', font_size=13),range=[2.5,5.5],row=3)\n",
        "fig.update_yaxes(title=dict(text='<b>응답자수</b>', font_size=13),range=[0,13.5], col=1)\n",
        "\n",
        "fig.update_layout(title=dict(text ='정책자문사례발표 만족도 응답 현황',x=0.5, y=0.97),\n",
        "                  margin = dict(t=100), font_size = 15, width=950, height=1100)"
      ],
      "execution_count": 59,
      "outputs": [
        {
          "output_type": "display_data",
          "data": {
            "text/html": [
              "<html>\n",
              "<head><meta charset=\"utf-8\" /></head>\n",
              "<body>\n",
              "    <div>\n",
              "            <script src=\"https://cdnjs.cloudflare.com/ajax/libs/mathjax/2.7.5/MathJax.js?config=TeX-AMS-MML_SVG\"></script><script type=\"text/javascript\">if (window.MathJax) {MathJax.Hub.Config({SVG: {font: \"STIX-Web\"}});}</script>\n",
              "                <script type=\"text/javascript\">window.PlotlyConfig = {MathJaxConfig: 'local'};</script>\n",
              "        <script src=\"https://cdn.plot.ly/plotly-latest.min.js\"></script>    \n",
              "            <div id=\"cfed6305-5da3-450d-8cee-87d818a05e3d\" class=\"plotly-graph-div\" style=\"height:1100px; width:950px;\"></div>\n",
              "            <script type=\"text/javascript\">\n",
              "                \n",
              "                    window.PLOTLYENV=window.PLOTLYENV || {};\n",
              "                    \n",
              "                if (document.getElementById(\"cfed6305-5da3-450d-8cee-87d818a05e3d\")) {\n",
              "                    Plotly.newPlot(\n",
              "                        'cfed6305-5da3-450d-8cee-87d818a05e3d',\n",
              "                        [{\"marker\": {\"cmax\": 14.5, \"cmin\": -14.5, \"color\": [-12, -9, -1], \"colorscale\": [[0.0, \"rgb(103,0,31)\"], [0.1, \"rgb(178,24,43)\"], [0.2, \"rgb(214,96,77)\"], [0.3, \"rgb(244,165,130)\"], [0.4, \"rgb(253,219,199)\"], [0.5, \"rgb(247,247,247)\"], [0.6, \"rgb(209,229,240)\"], [0.7, \"rgb(146,197,222)\"], [0.8, \"rgb(67,147,195)\"], [0.9, \"rgb(33,102,172)\"], [1.0, \"rgb(5,48,97)\"]]}, \"showlegend\": false, \"text\": [12.0, 9.0, 1.0], \"textposition\": \"auto\", \"type\": \"bar\", \"x\": [5, 4, 3], \"xaxis\": \"x\", \"y\": [12, 9, 1], \"yaxis\": \"y\"}, {\"marker\": {\"cmax\": 14.5, \"cmin\": -14.5, \"color\": [-10, -10, -2], \"colorscale\": [[0.0, \"#440154\"], [0.1111111111111111, \"#482878\"], [0.2222222222222222, \"#3e4989\"], [0.3333333333333333, \"#31688e\"], [0.4444444444444444, \"#26828e\"], [0.5555555555555556, \"#1f9e89\"], [0.6666666666666666, \"#35b779\"], [0.7777777777777778, \"#6ece58\"], [0.8888888888888888, \"#b5de2b\"], [1.0, \"#fde725\"]]}, \"showlegend\": false, \"text\": [10.0, 10.0, 2.0], \"textposition\": \"auto\", \"type\": \"bar\", \"x\": [5, 4, 3], \"xaxis\": \"x2\", \"y\": [10, 10, 2], \"yaxis\": \"y2\"}, {\"marker\": {\"cmax\": 14.5, \"cmin\": -14.5, \"color\": [-12, -8, -2], \"colorscale\": [[0.0, \"rgb(103,0,31)\"], [0.1, \"rgb(178,24,43)\"], [0.2, \"rgb(214,96,77)\"], [0.3, \"rgb(244,165,130)\"], [0.4, \"rgb(253,219,199)\"], [0.5, \"rgb(247,247,247)\"], [0.6, \"rgb(209,229,240)\"], [0.7, \"rgb(146,197,222)\"], [0.8, \"rgb(67,147,195)\"], [0.9, \"rgb(33,102,172)\"], [1.0, \"rgb(5,48,97)\"]]}, \"showlegend\": false, \"text\": [12.0, 8.0, 2.0], \"textposition\": \"auto\", \"type\": \"bar\", \"x\": [5, 4, 3], \"xaxis\": \"x3\", \"y\": [12, 8, 2], \"yaxis\": \"y3\"}, {\"marker\": {\"cmax\": 14.5, \"cmin\": -14.5, \"color\": [-11, -10, -1], \"colorscale\": [[0.0, \"#440154\"], [0.1111111111111111, \"#482878\"], [0.2222222222222222, \"#3e4989\"], [0.3333333333333333, \"#31688e\"], [0.4444444444444444, \"#26828e\"], [0.5555555555555556, \"#1f9e89\"], [0.6666666666666666, \"#35b779\"], [0.7777777777777778, \"#6ece58\"], [0.8888888888888888, \"#b5de2b\"], [1.0, \"#fde725\"]]}, \"showlegend\": false, \"text\": [11.0, 10.0, 1.0], \"textposition\": \"auto\", \"type\": \"bar\", \"x\": [4, 5, 3], \"xaxis\": \"x4\", \"y\": [11, 10, 1], \"yaxis\": \"y4\"}, {\"marker\": {\"cmax\": 14.5, \"cmin\": -14.5, \"color\": [-11, -8, -3], \"colorscale\": [[0.0, \"rgb(103,0,31)\"], [0.1, \"rgb(178,24,43)\"], [0.2, \"rgb(214,96,77)\"], [0.3, \"rgb(244,165,130)\"], [0.4, \"rgb(253,219,199)\"], [0.5, \"rgb(247,247,247)\"], [0.6, \"rgb(209,229,240)\"], [0.7, \"rgb(146,197,222)\"], [0.8, \"rgb(67,147,195)\"], [0.9, \"rgb(33,102,172)\"], [1.0, \"rgb(5,48,97)\"]]}, \"showlegend\": false, \"text\": [11.0, 8.0, 3.0], \"textposition\": \"auto\", \"type\": \"bar\", \"x\": [5, 4, 3], \"xaxis\": \"x5\", \"y\": [11, 8, 3], \"yaxis\": \"y5\"}, {\"marker\": {\"cmax\": 14.5, \"cmin\": -14.5, \"color\": [-13, -7, -2], \"colorscale\": [[0.0, \"#440154\"], [0.1111111111111111, \"#482878\"], [0.2222222222222222, \"#3e4989\"], [0.3333333333333333, \"#31688e\"], [0.4444444444444444, \"#26828e\"], [0.5555555555555556, \"#1f9e89\"], [0.6666666666666666, \"#35b779\"], [0.7777777777777778, \"#6ece58\"], [0.8888888888888888, \"#b5de2b\"], [1.0, \"#fde725\"]]}, \"showlegend\": false, \"text\": [13.0, 7.0, 2.0], \"textposition\": \"auto\", \"type\": \"bar\", \"x\": [5, 4, 3], \"xaxis\": \"x6\", \"y\": [13, 7, 2], \"yaxis\": \"y6\"}, {\"cells\": {\"align\": [\"left\", \"center\"], \"font\": {\"color\": \"#000000\", \"size\": 12}, \"values\": [[\"\\uc5f0\\uc218\\ub0b4\\uc6a9\\uc744 \\uc774\\ud574\\ud558\\ub294\\ub370 \\ub3c4\\uc6c0\\uc774 \\ub418\\uc5c8\\ub2e4\", \"\\uc790\\ub8cc \\uc791\\uc131 \\ubc0f \\ubc1c\\ud45c\\ub97c \\uc704\\ud55c \\uc548\\ub0b4\\uac00 \\ucda9\\ubd84\\ud788 \\uc774\\ub8e8\\uc5b4\\uc84c\\ub2e4\", \"\\ud604\\uc7a5\\uc5d0\\uc11c \\uc2e4\\ubb34\\ub2a5\\ub825\\uc744 \\ud5a5\\uc0c1\\uc2dc\\ud0a4\\ub294\\ub370 \\ub3c4\\uc6c0\\uc774 \\ub418\\uc5c8\\ub2e4\", \"\\uc138\\uc158 \\ub2f4\\ub2f9\\uc790\\ub294 \\ud53c\\ub4dc\\ubc31\\uc744 \\ucda9\\ubd84\\ud788 \\uc81c\\uacf5\\ud558\\uc600\\ub2e4\", \"\\uc138\\uc158\\uc2dc\\uac04\\uc740 \\ucda9\\ubd84\\ud558\\uc600\\ub2e4\", \"\\uc8fc\\uc81c\\ub294 \\uad50\\uc721\\uacfc\\uc815 \\ubaa9\\ud45c\\uc640 \\uc5f0\\uacc4\\ub418\\uc5b4 \\uc788\\uc5c8\\ub2e4\", \"\\ud3c9\\uade0\"], [5.0, 5.0, 5.0, 5.0, 5.0, 5.0, 5.0], [4.57, 4.29, 4.57, 4.43, 4.43, 4.71, 4.5], [4.29, 4.29, 4.14, 4.14, 4.29, 4.29, 4.24], [4.33, 4.33, 4.33, 4.33, 4.0, 4.33, 4.27], [4.75, 4.5, 4.75, 4.75, 4.5, 4.5, 4.62], [4.5, 4.36, 4.45, 4.41, 4.36, 4.5, 4.43]]}, \"columnwidth\": [200, 43, 43, 43, 75, 75, 43], \"domain\": {\"x\": [0.0, 1.0], \"y\": [0.0, 0.1825]}, \"header\": {\"align\": \"center\", \"fill\": {\"color\": \"#094688\"}, \"font\": {\"color\": \"#ffffff\", \"size\": 12}, \"height\": 25, \"values\": [\"\\ubb38\\ud56d\", \"\\uad6d\\uc81c\\uae30\\uad6c\", \"\\ubbfc\\uac04\\uae30\\uc5c5\", \"\\uc11c\\uc6b8\\uc2dc\", \"\\uc11c\\uc6b8\\uc2dc \\uc0b0\\ud558\\uae30\\uad00\", \"\\uc911\\uc559\\ubd80\\ucc98/\\uc0b0\\ud558\\uae30\\uad00\", \"\\ud3c9\\uade0\"]}, \"type\": \"table\"}],\n",
              "                        {\"annotations\": [{\"font\": {\"size\": 16}, \"showarrow\": false, \"text\": \"\\uc5f0\\uc218\\ub0b4\\uc6a9\\uc744 \\uc774\\ud574\\ud558\\ub294\\ub370 \\ub3c4\\uc6c0\\uc774 \\ub418\\uc5c8\\ub2e4\", \"x\": 0.225, \"xanchor\": \"center\", \"xref\": \"paper\", \"y\": 1.0, \"yanchor\": \"bottom\", \"yref\": \"paper\"}, {\"font\": {\"size\": 16}, \"showarrow\": false, \"text\": \"\\uc790\\ub8cc \\uc791\\uc131 \\ubc0f \\ubc1c\\ud45c\\ub97c \\uc704\\ud55c \\uc548\\ub0b4\\uac00 \\ucda9\\ubd84\\ud788 \\uc774\\ub8e8\\uc5b4\\uc84c\\ub2e4\", \"x\": 0.775, \"xanchor\": \"center\", \"xref\": \"paper\", \"y\": 1.0, \"yanchor\": \"bottom\", \"yref\": \"paper\"}, {\"font\": {\"size\": 16}, \"showarrow\": false, \"text\": \"\\ud604\\uc7a5\\uc5d0\\uc11c \\uc2e4\\ubb34\\ub2a5\\ub825\\uc744 \\ud5a5\\uc0c1\\uc2dc\\ud0a4\\ub294\\ub370 \\ub3c4\\uc6c0\\uc774 \\ub418\\uc5c8\\ub2e4\", \"x\": 0.225, \"xanchor\": \"center\", \"xref\": \"paper\", \"y\": 0.7274999999999999, \"yanchor\": \"bottom\", \"yref\": \"paper\"}, {\"font\": {\"size\": 16}, \"showarrow\": false, \"text\": \"\\uc138\\uc158 \\ub2f4\\ub2f9\\uc790\\ub294 \\ud53c\\ub4dc\\ubc31\\uc744 \\ucda9\\ubd84\\ud788 \\uc81c\\uacf5\\ud558\\uc600\\ub2e4\", \"x\": 0.775, \"xanchor\": \"center\", \"xref\": \"paper\", \"y\": 0.7274999999999999, \"yanchor\": \"bottom\", \"yref\": \"paper\"}, {\"font\": {\"size\": 16}, \"showarrow\": false, \"text\": \"\\uc138\\uc158\\uc2dc\\uac04\\uc740 \\ucda9\\ubd84\\ud558\\uc600\\ub2e4\", \"x\": 0.225, \"xanchor\": \"center\", \"xref\": \"paper\", \"y\": 0.45499999999999996, \"yanchor\": \"bottom\", \"yref\": \"paper\"}, {\"font\": {\"size\": 16}, \"showarrow\": false, \"text\": \"\\uc8fc\\uc81c\\ub294 \\uad50\\uc721\\uacfc\\uc815 \\ubaa9\\ud45c\\uc640 \\uc5f0\\uacc4\\ub418\\uc5b4 \\uc788\\uc5c8\\ub2e4\", \"x\": 0.775, \"xanchor\": \"center\", \"xref\": \"paper\", \"y\": 0.45499999999999996, \"yanchor\": \"bottom\", \"yref\": \"paper\"}, {\"font\": {\"size\": 16}, \"showarrow\": false, \"text\": \"\\ubb38\\ud56d\\ubcc4, \\uae30\\uad00\\ubcc4 \\ub9cc\\uc871\\ub3c4 \\ud604\\ud669\", \"x\": 0.5, \"xanchor\": \"center\", \"xref\": \"paper\", \"y\": 0.1825, \"yanchor\": \"bottom\", \"yref\": \"paper\"}], \"font\": {\"size\": 15}, \"height\": 1100, \"margin\": {\"t\": 100}, \"template\": {\"data\": {\"bar\": [{\"error_x\": {\"color\": \"#2a3f5f\"}, \"error_y\": {\"color\": \"#2a3f5f\"}, \"marker\": {\"line\": {\"color\": \"#E5ECF6\", \"width\": 0.5}}, \"type\": \"bar\"}], \"barpolar\": [{\"marker\": {\"line\": {\"color\": \"#E5ECF6\", \"width\": 0.5}}, \"type\": \"barpolar\"}], \"carpet\": [{\"aaxis\": {\"endlinecolor\": \"#2a3f5f\", \"gridcolor\": \"white\", \"linecolor\": \"white\", \"minorgridcolor\": \"white\", \"startlinecolor\": \"#2a3f5f\"}, \"baxis\": {\"endlinecolor\": \"#2a3f5f\", \"gridcolor\": \"white\", \"linecolor\": \"white\", \"minorgridcolor\": \"white\", \"startlinecolor\": \"#2a3f5f\"}, \"type\": \"carpet\"}], \"choropleth\": [{\"colorbar\": {\"outlinewidth\": 0, \"ticks\": \"\"}, \"type\": \"choropleth\"}], \"contour\": [{\"colorbar\": {\"outlinewidth\": 0, \"ticks\": \"\"}, \"colorscale\": [[0.0, \"#0d0887\"], [0.1111111111111111, \"#46039f\"], [0.2222222222222222, \"#7201a8\"], [0.3333333333333333, \"#9c179e\"], [0.4444444444444444, \"#bd3786\"], [0.5555555555555556, \"#d8576b\"], [0.6666666666666666, \"#ed7953\"], [0.7777777777777778, \"#fb9f3a\"], [0.8888888888888888, \"#fdca26\"], [1.0, \"#f0f921\"]], \"type\": \"contour\"}], \"contourcarpet\": [{\"colorbar\": {\"outlinewidth\": 0, \"ticks\": \"\"}, \"type\": \"contourcarpet\"}], \"heatmap\": [{\"colorbar\": {\"outlinewidth\": 0, \"ticks\": \"\"}, \"colorscale\": [[0.0, \"#0d0887\"], [0.1111111111111111, \"#46039f\"], [0.2222222222222222, \"#7201a8\"], [0.3333333333333333, \"#9c179e\"], [0.4444444444444444, \"#bd3786\"], [0.5555555555555556, \"#d8576b\"], [0.6666666666666666, \"#ed7953\"], [0.7777777777777778, \"#fb9f3a\"], [0.8888888888888888, \"#fdca26\"], [1.0, \"#f0f921\"]], \"type\": \"heatmap\"}], \"heatmapgl\": [{\"colorbar\": {\"outlinewidth\": 0, \"ticks\": \"\"}, \"colorscale\": [[0.0, \"#0d0887\"], [0.1111111111111111, \"#46039f\"], [0.2222222222222222, \"#7201a8\"], [0.3333333333333333, \"#9c179e\"], [0.4444444444444444, \"#bd3786\"], [0.5555555555555556, \"#d8576b\"], [0.6666666666666666, \"#ed7953\"], [0.7777777777777778, \"#fb9f3a\"], [0.8888888888888888, \"#fdca26\"], [1.0, \"#f0f921\"]], \"type\": \"heatmapgl\"}], \"histogram\": [{\"marker\": {\"colorbar\": {\"outlinewidth\": 0, \"ticks\": \"\"}}, \"type\": \"histogram\"}], \"histogram2d\": [{\"colorbar\": {\"outlinewidth\": 0, \"ticks\": \"\"}, \"colorscale\": [[0.0, \"#0d0887\"], [0.1111111111111111, \"#46039f\"], [0.2222222222222222, \"#7201a8\"], [0.3333333333333333, \"#9c179e\"], [0.4444444444444444, \"#bd3786\"], [0.5555555555555556, \"#d8576b\"], [0.6666666666666666, \"#ed7953\"], [0.7777777777777778, \"#fb9f3a\"], [0.8888888888888888, \"#fdca26\"], [1.0, \"#f0f921\"]], \"type\": \"histogram2d\"}], \"histogram2dcontour\": [{\"colorbar\": {\"outlinewidth\": 0, \"ticks\": \"\"}, \"colorscale\": [[0.0, \"#0d0887\"], [0.1111111111111111, \"#46039f\"], [0.2222222222222222, \"#7201a8\"], [0.3333333333333333, \"#9c179e\"], [0.4444444444444444, \"#bd3786\"], [0.5555555555555556, \"#d8576b\"], [0.6666666666666666, \"#ed7953\"], [0.7777777777777778, \"#fb9f3a\"], [0.8888888888888888, \"#fdca26\"], [1.0, \"#f0f921\"]], \"type\": \"histogram2dcontour\"}], \"mesh3d\": [{\"colorbar\": {\"outlinewidth\": 0, \"ticks\": \"\"}, \"type\": \"mesh3d\"}], \"parcoords\": [{\"line\": {\"colorbar\": {\"outlinewidth\": 0, \"ticks\": \"\"}}, \"type\": \"parcoords\"}], \"scatter\": [{\"marker\": {\"colorbar\": {\"outlinewidth\": 0, \"ticks\": \"\"}}, \"type\": \"scatter\"}], \"scatter3d\": [{\"line\": {\"colorbar\": {\"outlinewidth\": 0, \"ticks\": \"\"}}, \"marker\": {\"colorbar\": {\"outlinewidth\": 0, \"ticks\": \"\"}}, \"type\": \"scatter3d\"}], \"scattercarpet\": [{\"marker\": {\"colorbar\": {\"outlinewidth\": 0, \"ticks\": \"\"}}, \"type\": \"scattercarpet\"}], \"scattergeo\": [{\"marker\": {\"colorbar\": {\"outlinewidth\": 0, \"ticks\": \"\"}}, \"type\": \"scattergeo\"}], \"scattergl\": [{\"marker\": {\"colorbar\": {\"outlinewidth\": 0, \"ticks\": \"\"}}, \"type\": \"scattergl\"}], \"scattermapbox\": [{\"marker\": {\"colorbar\": {\"outlinewidth\": 0, \"ticks\": \"\"}}, \"type\": \"scattermapbox\"}], \"scatterpolar\": [{\"marker\": {\"colorbar\": {\"outlinewidth\": 0, \"ticks\": \"\"}}, \"type\": \"scatterpolar\"}], \"scatterpolargl\": [{\"marker\": {\"colorbar\": {\"outlinewidth\": 0, \"ticks\": \"\"}}, \"type\": \"scatterpolargl\"}], \"scatterternary\": [{\"marker\": {\"colorbar\": {\"outlinewidth\": 0, \"ticks\": \"\"}}, \"type\": \"scatterternary\"}], \"surface\": [{\"colorbar\": {\"outlinewidth\": 0, \"ticks\": \"\"}, \"colorscale\": [[0.0, \"#0d0887\"], [0.1111111111111111, \"#46039f\"], [0.2222222222222222, \"#7201a8\"], [0.3333333333333333, \"#9c179e\"], [0.4444444444444444, \"#bd3786\"], [0.5555555555555556, \"#d8576b\"], [0.6666666666666666, \"#ed7953\"], [0.7777777777777778, \"#fb9f3a\"], [0.8888888888888888, \"#fdca26\"], [1.0, \"#f0f921\"]], \"type\": \"surface\"}], \"table\": [{\"cells\": {\"fill\": {\"color\": \"#EBF0F8\"}, \"line\": {\"color\": \"white\"}}, \"header\": {\"fill\": {\"color\": \"#C8D4E3\"}, \"line\": {\"color\": \"white\"}}, \"type\": \"table\"}]}, \"layout\": {\"annotationdefaults\": {\"arrowcolor\": \"#2a3f5f\", \"arrowhead\": 0, \"arrowwidth\": 1}, \"colorscale\": {\"diverging\": [[0, \"#8e0152\"], [0.1, \"#c51b7d\"], [0.2, \"#de77ae\"], [0.3, \"#f1b6da\"], [0.4, \"#fde0ef\"], [0.5, \"#f7f7f7\"], [0.6, \"#e6f5d0\"], [0.7, \"#b8e186\"], [0.8, \"#7fbc41\"], [0.9, \"#4d9221\"], [1, \"#276419\"]], \"sequential\": [[0.0, \"#0d0887\"], [0.1111111111111111, \"#46039f\"], [0.2222222222222222, \"#7201a8\"], [0.3333333333333333, \"#9c179e\"], [0.4444444444444444, \"#bd3786\"], [0.5555555555555556, \"#d8576b\"], [0.6666666666666666, \"#ed7953\"], [0.7777777777777778, \"#fb9f3a\"], [0.8888888888888888, \"#fdca26\"], [1.0, \"#f0f921\"]], \"sequentialminus\": [[0.0, \"#0d0887\"], [0.1111111111111111, \"#46039f\"], [0.2222222222222222, \"#7201a8\"], [0.3333333333333333, \"#9c179e\"], [0.4444444444444444, \"#bd3786\"], [0.5555555555555556, \"#d8576b\"], [0.6666666666666666, \"#ed7953\"], [0.7777777777777778, \"#fb9f3a\"], [0.8888888888888888, \"#fdca26\"], [1.0, \"#f0f921\"]]}, \"colorway\": [\"#636efa\", \"#EF553B\", \"#00cc96\", \"#ab63fa\", \"#FFA15A\", \"#19d3f3\", \"#FF6692\", \"#B6E880\", \"#FF97FF\", \"#FECB52\"], \"font\": {\"color\": \"#2a3f5f\"}, \"geo\": {\"bgcolor\": \"white\", \"lakecolor\": \"white\", \"landcolor\": \"#E5ECF6\", \"showlakes\": true, \"showland\": true, \"subunitcolor\": \"white\"}, \"hoverlabel\": {\"align\": \"left\"}, \"hovermode\": \"closest\", \"mapbox\": {\"style\": \"light\"}, \"paper_bgcolor\": \"white\", \"plot_bgcolor\": \"#E5ECF6\", \"polar\": {\"angularaxis\": {\"gridcolor\": \"white\", \"linecolor\": \"white\", \"ticks\": \"\"}, \"bgcolor\": \"#E5ECF6\", \"radialaxis\": {\"gridcolor\": \"white\", \"linecolor\": \"white\", \"ticks\": \"\"}}, \"scene\": {\"xaxis\": {\"backgroundcolor\": \"#E5ECF6\", \"gridcolor\": \"white\", \"gridwidth\": 2, \"linecolor\": \"white\", \"showbackground\": true, \"ticks\": \"\", \"zerolinecolor\": \"white\"}, \"yaxis\": {\"backgroundcolor\": \"#E5ECF6\", \"gridcolor\": \"white\", \"gridwidth\": 2, \"linecolor\": \"white\", \"showbackground\": true, \"ticks\": \"\", \"zerolinecolor\": \"white\"}, \"zaxis\": {\"backgroundcolor\": \"#E5ECF6\", \"gridcolor\": \"white\", \"gridwidth\": 2, \"linecolor\": \"white\", \"showbackground\": true, \"ticks\": \"\", \"zerolinecolor\": \"white\"}}, \"shapedefaults\": {\"line\": {\"color\": \"#2a3f5f\"}}, \"ternary\": {\"aaxis\": {\"gridcolor\": \"white\", \"linecolor\": \"white\", \"ticks\": \"\"}, \"baxis\": {\"gridcolor\": \"white\", \"linecolor\": \"white\", \"ticks\": \"\"}, \"bgcolor\": \"#E5ECF6\", \"caxis\": {\"gridcolor\": \"white\", \"linecolor\": \"white\", \"ticks\": \"\"}}, \"title\": {\"x\": 0.05}, \"xaxis\": {\"automargin\": true, \"gridcolor\": \"white\", \"linecolor\": \"white\", \"ticks\": \"\", \"zerolinecolor\": \"white\", \"zerolinewidth\": 2}, \"yaxis\": {\"automargin\": true, \"gridcolor\": \"white\", \"linecolor\": \"white\", \"ticks\": \"\", \"zerolinecolor\": \"white\", \"zerolinewidth\": 2}}}, \"title\": {\"text\": \"\\uc815\\ucc45\\uc790\\ubb38\\uc0ac\\ub840\\ubc1c\\ud45c \\ub9cc\\uc871\\ub3c4 \\uc751\\ub2f5 \\ud604\\ud669\", \"x\": 0.5, \"y\": 0.97}, \"width\": 950, \"xaxis\": {\"anchor\": \"y\", \"domain\": [0.0, 0.45]}, \"xaxis2\": {\"anchor\": \"y2\", \"domain\": [0.55, 1.0]}, \"xaxis3\": {\"anchor\": \"y3\", \"domain\": [0.0, 0.45]}, \"xaxis4\": {\"anchor\": \"y4\", \"domain\": [0.55, 1.0]}, \"xaxis5\": {\"anchor\": \"y5\", \"domain\": [0.0, 0.45], \"range\": [2.5, 5.5], \"title\": {\"font\": {\"size\": 13}, \"text\": \"<b>\\ub9cc\\uc871\\ub3c4</b>\"}}, \"xaxis6\": {\"anchor\": \"y6\", \"domain\": [0.55, 1.0], \"range\": [2.5, 5.5], \"title\": {\"font\": {\"size\": 13}, \"text\": \"<b>\\ub9cc\\uc871\\ub3c4</b>\"}}, \"yaxis\": {\"anchor\": \"x\", \"domain\": [0.8175, 1.0], \"range\": [0, 13.5], \"title\": {\"font\": {\"size\": 13}, \"text\": \"<b>\\uc751\\ub2f5\\uc790\\uc218</b>\"}}, \"yaxis2\": {\"anchor\": \"x2\", \"domain\": [0.8175, 1.0]}, \"yaxis3\": {\"anchor\": \"x3\", \"domain\": [0.5449999999999999, 0.7274999999999999], \"range\": [0, 13.5], \"title\": {\"font\": {\"size\": 13}, \"text\": \"<b>\\uc751\\ub2f5\\uc790\\uc218</b>\"}}, \"yaxis4\": {\"anchor\": \"x4\", \"domain\": [0.5449999999999999, 0.7274999999999999]}, \"yaxis5\": {\"anchor\": \"x5\", \"domain\": [0.27249999999999996, 0.45499999999999996], \"range\": [0, 13.5], \"title\": {\"font\": {\"size\": 13}, \"text\": \"<b>\\uc751\\ub2f5\\uc790\\uc218</b>\"}}, \"yaxis6\": {\"anchor\": \"x6\", \"domain\": [0.27249999999999996, 0.45499999999999996]}},\n",
              "                        {\"responsive\": true}\n",
              "                    ).then(function(){\n",
              "                            \n",
              "var gd = document.getElementById('cfed6305-5da3-450d-8cee-87d818a05e3d');\n",
              "var x = new MutationObserver(function (mutations, observer) {{\n",
              "        var display = window.getComputedStyle(gd).display;\n",
              "        if (!display || display === 'none') {{\n",
              "            console.log([gd, 'removed!']);\n",
              "            Plotly.purge(gd);\n",
              "            observer.disconnect();\n",
              "        }}\n",
              "}});\n",
              "\n",
              "// Listen for the removal of the full notebook cells\n",
              "var notebookContainer = gd.closest('#notebook-container');\n",
              "if (notebookContainer) {{\n",
              "    x.observe(notebookContainer, {childList: true});\n",
              "}}\n",
              "\n",
              "// Listen for the clearing of the current output cell\n",
              "var outputEl = gd.closest('.output');\n",
              "if (outputEl) {{\n",
              "    x.observe(outputEl, {childList: true});\n",
              "}}\n",
              "\n",
              "                        })\n",
              "                };\n",
              "                \n",
              "            </script>\n",
              "        </div>\n",
              "</body>\n",
              "</html>"
            ]
          },
          "metadata": {
            "tags": []
          }
        }
      ]
    },
    {
      "cell_type": "markdown",
      "metadata": {
        "colab_type": "text",
        "id": "NXEPtAqCgKhk"
      },
      "source": [
        "## 사전-사후 영역별 수준변화 분석"
      ]
    },
    {
      "cell_type": "code",
      "metadata": {
        "colab_type": "code",
        "id": "Cnb0oUjQkrbT",
        "colab": {}
      },
      "source": [
        "# 사전,사후 설문조사 결과에서 학습내용 결과 칼럼만 추출\n",
        "pre_sector = pre[pre.columns[~pre.columns.str.contains('|'.join(['ID','시간','근속년수', '생년', '성별','메일','(응답)','구체적인 안내']))]]\n",
        "post_sector = post[post.columns[post.columns.str.contains('|'.join(['성명','학습내용 ']))]]\n",
        "pre_post = pre_sector.merge(post_sector, on=\"성명\", suffixes=('(교육전)', '(교육후)'))"
      ],
      "execution_count": 0,
      "outputs": []
    },
    {
      "cell_type": "code",
      "metadata": {
        "id": "1ZC_l3WTXr0I",
        "colab_type": "code",
        "colab": {
          "base_uri": "https://localhost:8080/",
          "height": 35
        },
        "outputId": "bd6cc4b0-72df-4c52-9cc5-ca7cee0440ab"
      },
      "source": [
        "zip(stats.ttest_ind(pre_post.iloc[:,3], pre_post.iloc[:,15]))"
      ],
      "execution_count": 155,
      "outputs": [
        {
          "output_type": "execute_result",
          "data": {
            "text/plain": [
              "<zip at 0x7f09729e27c8>"
            ]
          },
          "metadata": {
            "tags": []
          },
          "execution_count": 155
        }
      ]
    },
    {
      "cell_type": "code",
      "metadata": {
        "id": "UHPvED1SMFl5",
        "colab_type": "code",
        "colab": {}
      },
      "source": [
        "pre_post_ttest = []\n",
        "pre_post_ttest[\"t-value\"]\n",
        "pre_post_ttest[\"p-value\"]\n",
        "\n",
        "\n",
        "for k in range(3:14):\n",
        "  for i in range(15:27):\n",
        "    for t, p in zip(stats.ttest_ind(pre_post.iloc[:,k], pre_post.iloc[:,i])):\n",
        "      pre_post_ttest (t, p)\n",
        "      \n",
        "      \n",
        "      .append(t), pre_post_ttest.append(p)\n",
        "\n",
        "\"t검정 통계량: %.3f, pvalue=%.3f\"%(result)\n",
        "\n",
        "\n",
        "\n",
        "pre_post_ttest.append(\n",
        "    stats.ttest_ind(pre_post_diff.iloc[:,3], pre_post_diff.iloc[:,15])\n",
        "pre_post_ttest.append(\n",
        "    stats.ttest_ind(pre_post_diff.iloc[:,4], pre_post_diff.iloc[:,16])\n",
        "pre_post_ttest.append(\n",
        "    stats.ttest_ind(pre_post_diff.iloc[:,5], pre_post_diff.iloc[:,17])\n",
        "pre_post_ttest.append(\n",
        "    stats.ttest_ind(pre_post_diff.iloc[:,6], pre_post_diff.iloc[:,18])\n",
        "pre_post_ttest.append(\n",
        "    stats.ttest_ind(pre_post_diff.iloc[:,7], pre_post_diff.iloc[:,19])\n",
        "pre_post_ttest.append(\n",
        "    stats.ttest_ind(pre_post_diff.iloc[:,8], pre_post_diff.iloc[:,20])\n",
        "pre_post_ttest.append(\n",
        "    stats.ttest_ind(pre_post_diff.iloc[:,8], pre_post_diff.iloc[:,21])\n",
        "pre_post_ttest.append(\n",
        "    stats.ttest_ind(pre_post_diff.iloc[:,9], pre_post_diff.iloc[:,22])\n",
        "pre_post_ttest.append(\n",
        "    stats.ttest_ind(pre_post_diff.iloc[:,10], pre_post_diff.iloc[:,23])\n",
        "pre_post_ttest.append(\n",
        "    stats.ttest_ind(pre_post_diff.iloc[:,11], pre_post_diff.iloc[:,24])\n",
        "pre_post_ttest.append(\n",
        "    stats.ttest_ind(pre_post_diff.iloc[:,12], pre_post_diff.iloc[:,25])\n",
        "pre_post_ttest.append(\n",
        "    stats.ttest_ind(pre_post_diff.iloc[:,13], pre_post_diff.iloc[:,26])\n",
        "\n",
        "pre_post_diff = \\\n",
        "pre_post_diff[\n",
        "    pre_post_diff.columns[\n",
        "            ~pre_post_diff.columns.str.contains('|'.join(['학습내용']))]\n",
        "            ]"
      ],
      "execution_count": 0,
      "outputs": []
    },
    {
      "cell_type": "code",
      "metadata": {
        "id": "5CvX-ZxFpRmN",
        "colab_type": "code",
        "colab": {
          "base_uri": "https://localhost:8080/",
          "height": 35
        },
        "outputId": "4761ba29-85b8-4dbb-dbdf-08fcc642dcef"
      },
      "source": [
        "# 사전-사후 조사결과 T-test 검정\n",
        "from scipy import stats\n",
        "\n",
        "result = []\n",
        "result = stats.ttest_ind(pre_post['인지적 (Knowledge) 영역 - 학습내용 A(교육전)'],pre_post['인지적 (Knowledge) 영역 - 학습내용 A(교육후)'])\n",
        "result\n",
        "# print(\"t검정 통계량: %.3f, pvalue=%.3f\"%(result))\n",
        "pre_post_diff = pre_post.copy()\n",
        "pre_post_diff.iloc[:,12]"
      ],
      "execution_count": 98,
      "outputs": [
        {
          "output_type": "execute_result",
          "data": {
            "text/plain": [
              "Ttest_indResult(statistic=-5.7507274445701455, pvalue=9.063714764341188e-07)"
            ]
          },
          "metadata": {
            "tags": []
          },
          "execution_count": 98
        }
      ]
    },
    {
      "cell_type": "markdown",
      "metadata": {
        "colab_type": "text",
        "id": "CzzABuDle0TP"
      },
      "source": [
        "### 학습내용별 '인지 - 기술 - 태도' 수준 변화"
      ]
    },
    {
      "cell_type": "markdown",
      "metadata": {
        "colab_type": "text",
        "id": "85YVfc8tfPoW"
      },
      "source": [
        "■ 학습내용 A : 서울시 우수정책 공유사업<br>\n",
        "■ 학습내용 B : 해외도시정책 및 국제개발협력<br>\n",
        "■ 학습내용 C : 해외사업수주기획 및 컨설팅의 이해<br>\n",
        "■ 학습내용 D : 해외도시인프라 환경 및 문화이해"
      ]
    },
    {
      "cell_type": "code",
      "metadata": {
        "colab_type": "code",
        "id": "LYcQcaKEf0BA",
        "outputId": "ce2d33cc-4af2-4ff9-dc42-da64371fe31d",
        "colab": {
          "base_uri": "https://localhost:8080/",
          "height": 269
        }
      },
      "source": [
        "pre_post.columns"
      ],
      "execution_count": 113,
      "outputs": [
        {
          "output_type": "execute_result",
          "data": {
            "text/plain": [
              "Index(['성명', '전문분야', '기관', '인지적 (Knowledge) 영역 - 학습내용 A(교육전)',\n",
              "       '인지적 (Knowledge) 영역 - 학습내용 B(교육전)', '인지적 (Knowledge) 영역 - 학습내용 C(교육전)',\n",
              "       '인지적 (Knowledge) 영역 - 학습내용 D(교육전)', '기술적 (Skill) 영역 - 학습내용 A(교육전)',\n",
              "       '기술적 (Skill) 영역 - 학습내용 B(교육전)', '기술적 (Skill) 영역 - 학습내용 C(교육전)',\n",
              "       '기술적 (Skill) 영역 - 학습내용 D(교육전)', '태도적 (Attidtude) 영역 - 학습내용 A(교육전)',\n",
              "       '태도적 (Attidtude) 영역 - 학습내용 B(교육전)', '태도적 (Attidtude) 영역 - 학습내용 C(교육전)',\n",
              "       '태도적 (Attidtude) 영역 - 학습내용 D(교육전)', '인지적 (Knowledge) 영역 - 학습내용 A(교육후)',\n",
              "       '인지적 (Knowledge) 영역 - 학습내용 B(교육후)', '인지적 (Knowledge) 영역 - 학습내용 C(교육후)',\n",
              "       '인지적 (Knowledge) 영역 - 학습내용 D(교육후)', '기술적 (Skill) 영역 - 학습내용 A(교육후)',\n",
              "       '기술적 (Skill) 영역 - 학습내용 B(교육후)', '기술적 (Skill) 영역 - 학습내용 C(교육후)',\n",
              "       '기술적 (Skill) 영역 - 학습내용 D(교육후)', '태도적 (Attidtude) 영역 - 학습내용 A(교육후)',\n",
              "       '태도적 (Attidtude) 영역 - 학습내용 B(교육후)', '태도적 (Attidtude) 영역 - 학습내용 C(교육후)',\n",
              "       '태도적 (Attidtude) 영역 - 학습내용 D(교육후)'],\n",
              "      dtype='object')"
            ]
          },
          "metadata": {
            "tags": []
          },
          "execution_count": 113
        }
      ]
    },
    {
      "cell_type": "code",
      "metadata": {
        "colab_type": "code",
        "id": "azI6Sfy39f9b",
        "colab": {}
      },
      "source": [
        "# 수준 변화 측정 위한 기본 Dataframe 생성\n",
        "pre_post_diff = pre_post.copy()\n",
        "\n",
        "pre_post_diff[\"「서울시 우수정책 공유사업」 인지수준 증가치\"] =\\\n",
        "    pre_post_diff.iloc[:,15] - pre_post_diff.iloc[:,3]\n",
        "pre_post_diff[\"「해외도시정책 및 국제개발협력」 인지수준 증가치\"] =\\\n",
        "    pre_post_diff.iloc[:,16] - pre_post_diff.iloc[:,4]\n",
        "pre_post_diff[\"「해외사업수주기획 및 컨설팅의 이해」 인지수준 증가치\"] =\\\n",
        "    pre_post_diff.iloc[:,17] - pre_post_diff.iloc[:,5]\n",
        "pre_post_diff[\"「해외도시인프라 환경 및 문화이해」 인지수준 증가치\"] =\\\n",
        "    pre_post_diff.iloc[:,18] - pre_post_diff.iloc[:,6]\n",
        "pre_post_diff[\"「서울시 우수정책 공유사업」 기술수준 증가치\"] =\\\n",
        "    pre_post_diff.iloc[:,19] - pre_post_diff.iloc[:,7]\n",
        "pre_post_diff[\"「해외도시정책 및 국제개발협력」 기술수준 증가치\"] =\\\n",
        "    pre_post_diff.iloc[:,20] - pre_post_diff.iloc[:,8]\n",
        "pre_post_diff[\"「해외사업수주기획 및 컨설팅의 이해」 기술수준 증가치\"] =\\\n",
        "    pre_post_diff.iloc[:,21] - pre_post_diff.iloc[:,9]\n",
        "pre_post_diff[\"「해외도시인프라 환경 및 문화이해」 기술수준 증가치\"] =\\\n",
        "    pre_post_diff.iloc[:,22] - pre_post_diff.iloc[:,10]\n",
        "pre_post_diff[\"「서울시 우수정책 공유사업」 태도수준 증가치\"] =\\\n",
        "    pre_post_diff.iloc[:,23] - pre_post_diff.iloc[:,11]\n",
        "pre_post_diff[\"「해외도시정책 및 국제개발협력」 태도수준 증가치\"] =\\\n",
        "    pre_post_diff.iloc[:,24] - pre_post_diff.iloc[:,12]\n",
        "pre_post_diff[\"「해외사업수주기획 및 컨설팅의 이해」 태도수준 증가치\"] =\\\n",
        "    pre_post_diff.iloc[:,25] - pre_post_diff.iloc[:,13]\n",
        "pre_post_diff[\"「해외도시인프라 환경 및 문화이해」 태도수준 증가치\"] =\\\n",
        "    pre_post_diff.iloc[:,26] - pre_post_diff.iloc[:,14]\n",
        "\n",
        "pre_post_diff = \\\n",
        "pre_post_diff[\n",
        "    pre_post_diff.columns[\n",
        "            ~pre_post_diff.columns.str.contains('|'.join(['학습내용']))]\n",
        "            ]"
      ],
      "execution_count": 0,
      "outputs": []
    },
    {
      "cell_type": "markdown",
      "metadata": {
        "colab_type": "text",
        "id": "ZHrMFwn8Dbnb"
      },
      "source": [
        "### 문항별 수준 증가치 측정<br>\n",
        "증가치: [교육후 수준 - 교육전 수준]"
      ]
    },
    {
      "cell_type": "code",
      "metadata": {
        "colab_type": "code",
        "id": "sUN6s4QY9f9e",
        "colab": {}
      },
      "source": [
        "# Data Cleaning : 증가치 칼럼만 남김 <\"성명\", \"전문분야\", \"기관\" 칼럼 삭제>\n",
        "pre_post_q = pre_post_diff.drop(columns=[\"성명\", \"전문분야\", \"기관\"])\n",
        "\n",
        "# 평균값 추가\n",
        "pre_post_q.loc[22] = pre_post_q.mean()\n",
        "\n",
        "# 행렬 변경 및 생성 된 평균값 칼럼명 변경\n",
        "pre_post_q = \\\n",
        "pre_post_q.T.drop(\n",
        "    pre_post_q.T.columns[:22].to_list(),axis=1\n",
        "    ).rename(columns={22:\"항목별 평균 증가치\"})\n",
        "\n",
        "# % 증가치 칼럼 추가\n",
        "pre_post_q['증가치(%)'] = (pre_post_q['항목별 평균 증가치'] / 5 *100).astype(float)"
      ],
      "execution_count": 0,
      "outputs": []
    },
    {
      "cell_type": "code",
      "metadata": {
        "colab_type": "code",
        "id": "N-hHU6A4GEUu",
        "colab": {}
      },
      "source": [
        "pre_post_q.round(2)"
      ],
      "execution_count": 0,
      "outputs": []
    },
    {
      "cell_type": "markdown",
      "metadata": {
        "colab_type": "text",
        "id": "A1TZ9hfIrGhg"
      },
      "source": [
        "### 기관별 수준 증가치 측정"
      ]
    },
    {
      "cell_type": "code",
      "metadata": {
        "colab_type": "code",
        "id": "cvmM0uoxFO9f",
        "outputId": "09c21447-f821-454d-90e7-ecb564234340",
        "colab": {
          "base_uri": "https://localhost:8080/",
          "height": 483
        }
      },
      "source": [
        "# 기관으로 그룹화하여 평균 계산\n",
        "pre_post_organ = \\\n",
        "pre_post_diff.pivot_table(\n",
        "    values=pre_post_diff.columns[3:],index=['기관'],\n",
        "    aggfunc='mean',margins=True, margins_name=\"평균\").round(2).reset_index()\n",
        "\n",
        "# 기관별 평균 칼럼 추가 및 필드값 변경\n",
        "pre_post_organ['기관별 평균 증가치'] = pre_post_organ.mean(axis=1)\n",
        "pre_post_organ.set_value(5, '기관', '항목별 평균 증가치')\n",
        "pre_post_organ = pre_post_organ.set_index(\"기관\").T\n",
        "\n",
        "# % 증가치 칼럼 추가\n",
        "pre_post_organ['항목별 평균 증가치(%)'] = (pre_post_organ['항목별 평균 증가치'] / 5 *100).astype(float)\n",
        "\n",
        "# % 기관별 평균 증가치 칼럼 추가\n",
        "pre_post_organ = pre_post_organ.T\n",
        "pre_post_organ['기관별 평균 증가치(%)'] = (pre_post_organ['기관별 평균 증가치'] / 5 *100).astype(float)\n",
        "pre_post_organ = pre_post_organ.T\n",
        "pre_post_organ.set_value(\"기관별 평균 증가치(%)\", '항목별 평균 증가치(%)', pre_post_organ['항목별 평균 증가치(%)'][:13].mean())\n",
        "\n",
        "pre_post_organ = pre_post_organ.reset_index().rename(columns={'index': '문항/기관','중앙부처/산하기관': '중앙부처/ 산하기관'})\n",
        "pre_post_organ.round(2)"
      ],
      "execution_count": 127,
      "outputs": [
        {
          "output_type": "execute_result",
          "data": {
            "text/html": [
              "<div>\n",
              "<style scoped>\n",
              "    .dataframe tbody tr th:only-of-type {\n",
              "        vertical-align: middle;\n",
              "    }\n",
              "\n",
              "    .dataframe tbody tr th {\n",
              "        vertical-align: top;\n",
              "    }\n",
              "\n",
              "    .dataframe thead th {\n",
              "        text-align: right;\n",
              "    }\n",
              "</style>\n",
              "<table border=\"1\" class=\"dataframe\">\n",
              "  <thead>\n",
              "    <tr style=\"text-align: right;\">\n",
              "      <th>기관</th>\n",
              "      <th>문항/기관</th>\n",
              "      <th>국제기구</th>\n",
              "      <th>민간기업</th>\n",
              "      <th>서울시</th>\n",
              "      <th>서울시 산하기관</th>\n",
              "      <th>중앙부처/ 산하기관</th>\n",
              "      <th>항목별 평균 증가치</th>\n",
              "      <th>항목별 평균 증가치(%)</th>\n",
              "    </tr>\n",
              "  </thead>\n",
              "  <tbody>\n",
              "    <tr>\n",
              "      <th>0</th>\n",
              "      <td>「서울시 우수정책 공유사업」 기술수준 증가치</td>\n",
              "      <td>1.00</td>\n",
              "      <td>1.57</td>\n",
              "      <td>2.00</td>\n",
              "      <td>1.33</td>\n",
              "      <td>2.25</td>\n",
              "      <td>1.77</td>\n",
              "      <td>35.40</td>\n",
              "    </tr>\n",
              "    <tr>\n",
              "      <th>1</th>\n",
              "      <td>「서울시 우수정책 공유사업」 인지수준 증가치</td>\n",
              "      <td>1.00</td>\n",
              "      <td>1.57</td>\n",
              "      <td>1.86</td>\n",
              "      <td>1.33</td>\n",
              "      <td>2.75</td>\n",
              "      <td>1.82</td>\n",
              "      <td>36.40</td>\n",
              "    </tr>\n",
              "    <tr>\n",
              "      <th>2</th>\n",
              "      <td>「서울시 우수정책 공유사업」 태도수준 증가치</td>\n",
              "      <td>2.00</td>\n",
              "      <td>0.00</td>\n",
              "      <td>0.86</td>\n",
              "      <td>0.67</td>\n",
              "      <td>1.25</td>\n",
              "      <td>0.68</td>\n",
              "      <td>13.60</td>\n",
              "    </tr>\n",
              "    <tr>\n",
              "      <th>3</th>\n",
              "      <td>「해외도시인프라 환경 및 문화이해」 기술수준 증가치</td>\n",
              "      <td>2.00</td>\n",
              "      <td>0.71</td>\n",
              "      <td>1.43</td>\n",
              "      <td>1.33</td>\n",
              "      <td>1.00</td>\n",
              "      <td>1.14</td>\n",
              "      <td>22.80</td>\n",
              "    </tr>\n",
              "    <tr>\n",
              "      <th>4</th>\n",
              "      <td>「해외도시인프라 환경 및 문화이해」 인지수준 증가치</td>\n",
              "      <td>2.00</td>\n",
              "      <td>0.86</td>\n",
              "      <td>1.29</td>\n",
              "      <td>1.00</td>\n",
              "      <td>0.50</td>\n",
              "      <td>1.00</td>\n",
              "      <td>20.00</td>\n",
              "    </tr>\n",
              "    <tr>\n",
              "      <th>5</th>\n",
              "      <td>「해외도시인프라 환경 및 문화이해」 태도수준 증가치</td>\n",
              "      <td>1.00</td>\n",
              "      <td>-0.14</td>\n",
              "      <td>0.71</td>\n",
              "      <td>0.33</td>\n",
              "      <td>0.50</td>\n",
              "      <td>0.36</td>\n",
              "      <td>7.20</td>\n",
              "    </tr>\n",
              "    <tr>\n",
              "      <th>6</th>\n",
              "      <td>「해외도시정책 및 국제개발협력」 기술수준 증가치</td>\n",
              "      <td>1.00</td>\n",
              "      <td>1.14</td>\n",
              "      <td>2.14</td>\n",
              "      <td>1.33</td>\n",
              "      <td>1.25</td>\n",
              "      <td>1.50</td>\n",
              "      <td>30.00</td>\n",
              "    </tr>\n",
              "    <tr>\n",
              "      <th>7</th>\n",
              "      <td>「해외도시정책 및 국제개발협력」 인지수준 증가치</td>\n",
              "      <td>1.00</td>\n",
              "      <td>1.14</td>\n",
              "      <td>1.71</td>\n",
              "      <td>1.67</td>\n",
              "      <td>1.00</td>\n",
              "      <td>1.36</td>\n",
              "      <td>27.20</td>\n",
              "    </tr>\n",
              "    <tr>\n",
              "      <th>8</th>\n",
              "      <td>「해외도시정책 및 국제개발협력」 태도수준 증가치</td>\n",
              "      <td>1.00</td>\n",
              "      <td>-0.14</td>\n",
              "      <td>0.43</td>\n",
              "      <td>1.67</td>\n",
              "      <td>1.00</td>\n",
              "      <td>0.55</td>\n",
              "      <td>11.00</td>\n",
              "    </tr>\n",
              "    <tr>\n",
              "      <th>9</th>\n",
              "      <td>「해외사업수주기획 및 컨설팅의 이해」 기술수준 증가치</td>\n",
              "      <td>1.00</td>\n",
              "      <td>1.14</td>\n",
              "      <td>1.57</td>\n",
              "      <td>1.67</td>\n",
              "      <td>2.25</td>\n",
              "      <td>1.55</td>\n",
              "      <td>31.00</td>\n",
              "    </tr>\n",
              "    <tr>\n",
              "      <th>10</th>\n",
              "      <td>「해외사업수주기획 및 컨설팅의 이해」 인지수준 증가치</td>\n",
              "      <td>2.00</td>\n",
              "      <td>1.71</td>\n",
              "      <td>1.71</td>\n",
              "      <td>2.00</td>\n",
              "      <td>2.00</td>\n",
              "      <td>1.82</td>\n",
              "      <td>36.40</td>\n",
              "    </tr>\n",
              "    <tr>\n",
              "      <th>11</th>\n",
              "      <td>「해외사업수주기획 및 컨설팅의 이해」 태도수준 증가치</td>\n",
              "      <td>1.00</td>\n",
              "      <td>0.00</td>\n",
              "      <td>0.71</td>\n",
              "      <td>0.67</td>\n",
              "      <td>0.75</td>\n",
              "      <td>0.50</td>\n",
              "      <td>10.00</td>\n",
              "    </tr>\n",
              "    <tr>\n",
              "      <th>12</th>\n",
              "      <td>기관별 평균 증가치</td>\n",
              "      <td>1.33</td>\n",
              "      <td>0.80</td>\n",
              "      <td>1.37</td>\n",
              "      <td>1.25</td>\n",
              "      <td>1.38</td>\n",
              "      <td>1.17</td>\n",
              "      <td>23.42</td>\n",
              "    </tr>\n",
              "    <tr>\n",
              "      <th>13</th>\n",
              "      <td>기관별 평균 증가치(%)</td>\n",
              "      <td>26.67</td>\n",
              "      <td>15.93</td>\n",
              "      <td>27.37</td>\n",
              "      <td>25.00</td>\n",
              "      <td>27.50</td>\n",
              "      <td>23.42</td>\n",
              "      <td>23.42</td>\n",
              "    </tr>\n",
              "  </tbody>\n",
              "</table>\n",
              "</div>"
            ],
            "text/plain": [
              "기관                          문항/기관   국제기구  ...  항목별 평균 증가치  항목별 평균 증가치(%)\n",
              "0        「서울시 우수정책 공유사업」 기술수준 증가치   1.00  ...        1.77          35.40\n",
              "1        「서울시 우수정책 공유사업」 인지수준 증가치   1.00  ...        1.82          36.40\n",
              "2        「서울시 우수정책 공유사업」 태도수준 증가치   2.00  ...        0.68          13.60\n",
              "3    「해외도시인프라 환경 및 문화이해」 기술수준 증가치   2.00  ...        1.14          22.80\n",
              "4    「해외도시인프라 환경 및 문화이해」 인지수준 증가치   2.00  ...        1.00          20.00\n",
              "5    「해외도시인프라 환경 및 문화이해」 태도수준 증가치   1.00  ...        0.36           7.20\n",
              "6      「해외도시정책 및 국제개발협력」 기술수준 증가치   1.00  ...        1.50          30.00\n",
              "7      「해외도시정책 및 국제개발협력」 인지수준 증가치   1.00  ...        1.36          27.20\n",
              "8      「해외도시정책 및 국제개발협력」 태도수준 증가치   1.00  ...        0.55          11.00\n",
              "9   「해외사업수주기획 및 컨설팅의 이해」 기술수준 증가치   1.00  ...        1.55          31.00\n",
              "10  「해외사업수주기획 및 컨설팅의 이해」 인지수준 증가치   2.00  ...        1.82          36.40\n",
              "11  「해외사업수주기획 및 컨설팅의 이해」 태도수준 증가치   1.00  ...        0.50          10.00\n",
              "12                     기관별 평균 증가치   1.33  ...        1.17          23.42\n",
              "13                  기관별 평균 증가치(%)  26.67  ...       23.42          23.42\n",
              "\n",
              "[14 rows x 8 columns]"
            ]
          },
          "metadata": {
            "tags": []
          },
          "execution_count": 127
        }
      ]
    },
    {
      "cell_type": "code",
      "metadata": {
        "id": "KcfKd4Iv4g4R",
        "colab_type": "code",
        "colab": {}
      },
      "source": [
        "pre_post_organ.round(2).to_excel(\"항목별 평균 증가치.xlsx\")"
      ],
      "execution_count": 0,
      "outputs": []
    },
    {
      "cell_type": "code",
      "metadata": {
        "colab_type": "code",
        "id": "Npjf3KzbrfXR",
        "colab": {}
      },
      "source": [
        "# for in 문 활용한 기관별 수준 증가치 측정\n",
        "# q = []\n",
        "# a = []\n",
        "# for k, i in zip(pre_post.columns[18:30], pre_post.columns[6:18]):\n",
        "#   a.append(np.round_((pre_post[k] - pre_post[i]).mean(),2))\n",
        "#   if \"인지적 (Knowledge) 영역 - 학습내용 A(교육후)\" in k:\n",
        "#     q.append(k.replace(\"인지적 (Knowledge) 영역 - 학습내용 A(교육후)\",\"「서울시 우수정책 공유사업」 인지수준 증가치\"))\n",
        "#   elif \"인지적 (Knowledge) 영역 - 학습내용 B(교육후)\" in k:\n",
        "#     q.append(k.replace(\"인지적 (Knowledge) 영역 - 학습내용 B(교육후)\",\"「해외도시정책 및 국제개발협력」 인지수준 증가치\"))\n",
        "#   elif \"인지적 (Knowledge) 영역 - 학습내용 C(교육후)\" in k:\n",
        "#     q.append(k.replace(\"인지적 (Knowledge) 영역 - 학습내용 C(교육후)\",\"「해외사업수주기획 및 컨설팅의 이해」 인지수준 증가치\"))\n",
        "#   elif \"인지적 (Knowledge) 영역 - 학습내용 D(교육후)\" in k:\n",
        "#     q.append(k.replace(\"인지적 (Knowledge) 영역 - 학습내용 D(교육후)\",\"「해외도시인프라 환경 및 문화이해」 인지수준 증가치\"))\n",
        "#   elif \"기술적 (Skill) 영역 - 학습내용 A(교육후)\" in k:\n",
        "#     q.append(k.replace(\"기술적 (Skill) 영역 - 학습내용 A(교육후)\",\"「서울시 우수정책 공유사업」 기술수준 증가치\"))\n",
        "#   elif \"기술적 (Skill) 영역 - 학습내용 B(교육후)\" in k:\n",
        "#     q.append(k.replace(\"기술적 (Skill) 영역 - 학습내용 B(교육후)\",\"「해외도시정책 및 국제개발협력」 기술수준 증가치\"))\n",
        "#   elif \"기술적 (Skill) 영역 - 학습내용 C(교육후)\" in k:\n",
        "#     q.append(k.replace(\"기술적 (Skill) 영역 - 학습내용 C(교육후)\",\"「해외사업수주기획 및 컨설팅의 이해」 기술수준 증가치\"))\n",
        "#   elif \"기술적 (Skill) 영역 - 학습내용 D(교육후)\" in k:\n",
        "#     q.append(k.replace(\"기술적 (Skill) 영역 - 학습내용 D(교육후)\",\"「해외도시인프라 환경 및 문화이해」 기술수준 증가치\"))\n",
        "#   elif \"태도적 (Attidtude) 영역 - 학습내용 A(교육후)\" in k:\n",
        "#     q.append(k.replace(\"태도적 (Attidtude) 영역 - 학습내용 A(교육후)\",\"「서울시 우수정책 공유사업」 태도수준 증가치\"))\n",
        "#   elif \"태도적 (Attidtude) 영역 - 학습내용 B(교육후)\" in k:\n",
        "#     q.append(k.replace(\"태도적 (Attidtude) 영역 - 학습내용 B(교육후)\",\"「해외도시정책 및 국제개발협력」 태도수준 증가치\"))\n",
        "#   elif \"태도적 (Attidtude) 영역 - 학습내용 C(교육후)\" in k:\n",
        "#     q.append(k.replace(\"태도적 (Attidtude) 영역 - 학습내용 C(교육후)\",\"「해외사업수주기획 및 컨설팅의 이해」 태도수준 증가치\"))\n",
        "#   else:\n",
        "#     q.append(k.replace(\"태도적 (Attidtude) 영역 - 학습내용 D(교육후)\",\"「해외도시인프라 환경 및 문화이해」 태도수준 증가치\"))\n",
        "\n",
        "# differ = pd.DataFrame([q,a],index=[\"항목\",\"증가치(5점기준)\"]).T\n",
        "# differ['증가치(%)'] = (differ['증가치(5점기준)'] / 5 *100).astype(float).round(2)\n",
        "# differ.head()"
      ],
      "execution_count": 0,
      "outputs": []
    },
    {
      "cell_type": "code",
      "metadata": {
        "colab_type": "code",
        "id": "niiTG9JiOJSq",
        "outputId": "8b6ae402-a2b1-42f3-f473-72102ab21145",
        "colab": {
          "base_uri": "https://localhost:8080/",
          "height": 542
        }
      },
      "source": [
        "fig = go.Figure(data=go.Table(\n",
        "    columnwidth = [180,50,50,50,50,50,50,50], #columnorder = [0,6],\n",
        "    header=dict(height=20, \n",
        "        values=list(pre_post_organ.round(2).columns), fill_color='#094688',\n",
        "        font=dict(size=[13], color='#ffffff'), align='center'),\n",
        "    cells=dict(height=25,\n",
        "        values=[pre_post_organ.round(2)[k].tolist() for k in pre_post_organ.round(2).columns[:]],\n",
        "        font=dict(size=[13], color='#000000'), align=['left', 'center'])))\n",
        "\n",
        "fig.update_layout(title=dict(text ='문항별,기관별 인지-기술-태도 수준 증가치',x=0.5, y=0.97),\n",
        "                  margin = dict(t=50), font_size = 13, width=1200)"
      ],
      "execution_count": 129,
      "outputs": [
        {
          "output_type": "display_data",
          "data": {
            "text/html": [
              "<html>\n",
              "<head><meta charset=\"utf-8\" /></head>\n",
              "<body>\n",
              "    <div>\n",
              "            <script src=\"https://cdnjs.cloudflare.com/ajax/libs/mathjax/2.7.5/MathJax.js?config=TeX-AMS-MML_SVG\"></script><script type=\"text/javascript\">if (window.MathJax) {MathJax.Hub.Config({SVG: {font: \"STIX-Web\"}});}</script>\n",
              "                <script type=\"text/javascript\">window.PlotlyConfig = {MathJaxConfig: 'local'};</script>\n",
              "        <script src=\"https://cdn.plot.ly/plotly-latest.min.js\"></script>    \n",
              "            <div id=\"c745c929-2bca-43b7-a776-ab0efa39f619\" class=\"plotly-graph-div\" style=\"height:525px; width:1200px;\"></div>\n",
              "            <script type=\"text/javascript\">\n",
              "                \n",
              "                    window.PLOTLYENV=window.PLOTLYENV || {};\n",
              "                    \n",
              "                if (document.getElementById(\"c745c929-2bca-43b7-a776-ab0efa39f619\")) {\n",
              "                    Plotly.newPlot(\n",
              "                        'c745c929-2bca-43b7-a776-ab0efa39f619',\n",
              "                        [{\"cells\": {\"align\": [\"left\", \"center\"], \"font\": {\"color\": \"#000000\", \"size\": [13]}, \"height\": 25, \"values\": [[\"\\u300c\\uc11c\\uc6b8\\uc2dc \\uc6b0\\uc218\\uc815\\ucc45 \\uacf5\\uc720\\uc0ac\\uc5c5\\u300d \\uae30\\uc220\\uc218\\uc900 \\uc99d\\uac00\\uce58\", \"\\u300c\\uc11c\\uc6b8\\uc2dc \\uc6b0\\uc218\\uc815\\ucc45 \\uacf5\\uc720\\uc0ac\\uc5c5\\u300d \\uc778\\uc9c0\\uc218\\uc900 \\uc99d\\uac00\\uce58\", \"\\u300c\\uc11c\\uc6b8\\uc2dc \\uc6b0\\uc218\\uc815\\ucc45 \\uacf5\\uc720\\uc0ac\\uc5c5\\u300d \\ud0dc\\ub3c4\\uc218\\uc900 \\uc99d\\uac00\\uce58\", \"\\u300c\\ud574\\uc678\\ub3c4\\uc2dc\\uc778\\ud504\\ub77c \\ud658\\uacbd \\ubc0f \\ubb38\\ud654\\uc774\\ud574\\u300d \\uae30\\uc220\\uc218\\uc900 \\uc99d\\uac00\\uce58\", \"\\u300c\\ud574\\uc678\\ub3c4\\uc2dc\\uc778\\ud504\\ub77c \\ud658\\uacbd \\ubc0f \\ubb38\\ud654\\uc774\\ud574\\u300d \\uc778\\uc9c0\\uc218\\uc900 \\uc99d\\uac00\\uce58\", \"\\u300c\\ud574\\uc678\\ub3c4\\uc2dc\\uc778\\ud504\\ub77c \\ud658\\uacbd \\ubc0f \\ubb38\\ud654\\uc774\\ud574\\u300d \\ud0dc\\ub3c4\\uc218\\uc900 \\uc99d\\uac00\\uce58\", \"\\u300c\\ud574\\uc678\\ub3c4\\uc2dc\\uc815\\ucc45 \\ubc0f \\uad6d\\uc81c\\uac1c\\ubc1c\\ud611\\ub825\\u300d \\uae30\\uc220\\uc218\\uc900 \\uc99d\\uac00\\uce58\", \"\\u300c\\ud574\\uc678\\ub3c4\\uc2dc\\uc815\\ucc45 \\ubc0f \\uad6d\\uc81c\\uac1c\\ubc1c\\ud611\\ub825\\u300d \\uc778\\uc9c0\\uc218\\uc900 \\uc99d\\uac00\\uce58\", \"\\u300c\\ud574\\uc678\\ub3c4\\uc2dc\\uc815\\ucc45 \\ubc0f \\uad6d\\uc81c\\uac1c\\ubc1c\\ud611\\ub825\\u300d \\ud0dc\\ub3c4\\uc218\\uc900 \\uc99d\\uac00\\uce58\", \"\\u300c\\ud574\\uc678\\uc0ac\\uc5c5\\uc218\\uc8fc\\uae30\\ud68d \\ubc0f \\ucee8\\uc124\\ud305\\uc758 \\uc774\\ud574\\u300d \\uae30\\uc220\\uc218\\uc900 \\uc99d\\uac00\\uce58\", \"\\u300c\\ud574\\uc678\\uc0ac\\uc5c5\\uc218\\uc8fc\\uae30\\ud68d \\ubc0f \\ucee8\\uc124\\ud305\\uc758 \\uc774\\ud574\\u300d \\uc778\\uc9c0\\uc218\\uc900 \\uc99d\\uac00\\uce58\", \"\\u300c\\ud574\\uc678\\uc0ac\\uc5c5\\uc218\\uc8fc\\uae30\\ud68d \\ubc0f \\ucee8\\uc124\\ud305\\uc758 \\uc774\\ud574\\u300d \\ud0dc\\ub3c4\\uc218\\uc900 \\uc99d\\uac00\\uce58\", \"\\uae30\\uad00\\ubcc4 \\ud3c9\\uade0 \\uc99d\\uac00\\uce58\", \"\\uae30\\uad00\\ubcc4 \\ud3c9\\uade0 \\uc99d\\uac00\\uce58(%)\"], [1.0, 1.0, 2.0, 2.0, 2.0, 1.0, 1.0, 1.0, 1.0, 1.0, 2.0, 1.0, 1.33, 26.67], [1.57, 1.57, 0.0, 0.71, 0.86, -0.14, 1.14, 1.14, -0.14, 1.14, 1.71, 0.0, 0.8, 15.93], [2.0, 1.86, 0.86, 1.43, 1.29, 0.71, 2.14, 1.71, 0.43, 1.57, 1.71, 0.71, 1.37, 27.37], [1.33, 1.33, 0.67, 1.33, 1.0, 0.33, 1.33, 1.67, 1.67, 1.67, 2.0, 0.67, 1.25, 25.0], [2.25, 2.75, 1.25, 1.0, 0.5, 0.5, 1.25, 1.0, 1.0, 2.25, 2.0, 0.75, 1.38, 27.5], [1.77, 1.82, 0.68, 1.14, 1.0, 0.36, 1.5, 1.36, 0.55, 1.55, 1.82, 0.5, 1.17, 23.42], [35.4, 36.4, 13.6, 22.8, 20.0, 7.2, 30.0, 27.2, 11.0, 31.0, 36.4, 10.0, 23.42, 23.42]]}, \"columnwidth\": [180, 50, 50, 50, 50, 50, 50, 50], \"header\": {\"align\": \"center\", \"fill\": {\"color\": \"#094688\"}, \"font\": {\"color\": \"#ffffff\", \"size\": [13]}, \"height\": 20, \"values\": [\"\\ubb38\\ud56d/\\uae30\\uad00\", \"\\uad6d\\uc81c\\uae30\\uad6c\", \"\\ubbfc\\uac04\\uae30\\uc5c5\", \"\\uc11c\\uc6b8\\uc2dc\", \"\\uc11c\\uc6b8\\uc2dc \\uc0b0\\ud558\\uae30\\uad00\", \"\\uc911\\uc559\\ubd80\\ucc98/ \\uc0b0\\ud558\\uae30\\uad00\", \"\\ud56d\\ubaa9\\ubcc4 \\ud3c9\\uade0 \\uc99d\\uac00\\uce58\", \"\\ud56d\\ubaa9\\ubcc4 \\ud3c9\\uade0 \\uc99d\\uac00\\uce58(%)\"]}, \"type\": \"table\"}],\n",
              "                        {\"font\": {\"size\": 13}, \"margin\": {\"t\": 50}, \"template\": {\"data\": {\"bar\": [{\"error_x\": {\"color\": \"#2a3f5f\"}, \"error_y\": {\"color\": \"#2a3f5f\"}, \"marker\": {\"line\": {\"color\": \"#E5ECF6\", \"width\": 0.5}}, \"type\": \"bar\"}], \"barpolar\": [{\"marker\": {\"line\": {\"color\": \"#E5ECF6\", \"width\": 0.5}}, \"type\": \"barpolar\"}], \"carpet\": [{\"aaxis\": {\"endlinecolor\": \"#2a3f5f\", \"gridcolor\": \"white\", \"linecolor\": \"white\", \"minorgridcolor\": \"white\", \"startlinecolor\": \"#2a3f5f\"}, \"baxis\": {\"endlinecolor\": \"#2a3f5f\", \"gridcolor\": \"white\", \"linecolor\": \"white\", \"minorgridcolor\": \"white\", \"startlinecolor\": \"#2a3f5f\"}, \"type\": \"carpet\"}], \"choropleth\": [{\"colorbar\": {\"outlinewidth\": 0, \"ticks\": \"\"}, \"type\": \"choropleth\"}], \"contour\": [{\"colorbar\": {\"outlinewidth\": 0, \"ticks\": \"\"}, \"colorscale\": [[0.0, \"#0d0887\"], [0.1111111111111111, \"#46039f\"], [0.2222222222222222, \"#7201a8\"], [0.3333333333333333, \"#9c179e\"], [0.4444444444444444, \"#bd3786\"], [0.5555555555555556, \"#d8576b\"], [0.6666666666666666, \"#ed7953\"], [0.7777777777777778, \"#fb9f3a\"], [0.8888888888888888, \"#fdca26\"], [1.0, \"#f0f921\"]], \"type\": \"contour\"}], \"contourcarpet\": [{\"colorbar\": {\"outlinewidth\": 0, \"ticks\": \"\"}, \"type\": \"contourcarpet\"}], \"heatmap\": [{\"colorbar\": {\"outlinewidth\": 0, \"ticks\": \"\"}, \"colorscale\": [[0.0, \"#0d0887\"], [0.1111111111111111, \"#46039f\"], [0.2222222222222222, \"#7201a8\"], [0.3333333333333333, \"#9c179e\"], [0.4444444444444444, \"#bd3786\"], [0.5555555555555556, \"#d8576b\"], [0.6666666666666666, \"#ed7953\"], [0.7777777777777778, \"#fb9f3a\"], [0.8888888888888888, \"#fdca26\"], [1.0, \"#f0f921\"]], \"type\": \"heatmap\"}], \"heatmapgl\": [{\"colorbar\": {\"outlinewidth\": 0, \"ticks\": \"\"}, \"colorscale\": [[0.0, \"#0d0887\"], [0.1111111111111111, \"#46039f\"], [0.2222222222222222, \"#7201a8\"], [0.3333333333333333, \"#9c179e\"], [0.4444444444444444, \"#bd3786\"], [0.5555555555555556, \"#d8576b\"], [0.6666666666666666, \"#ed7953\"], [0.7777777777777778, \"#fb9f3a\"], [0.8888888888888888, \"#fdca26\"], [1.0, \"#f0f921\"]], \"type\": \"heatmapgl\"}], \"histogram\": [{\"marker\": {\"colorbar\": {\"outlinewidth\": 0, \"ticks\": \"\"}}, \"type\": \"histogram\"}], \"histogram2d\": [{\"colorbar\": {\"outlinewidth\": 0, \"ticks\": \"\"}, \"colorscale\": [[0.0, \"#0d0887\"], [0.1111111111111111, \"#46039f\"], [0.2222222222222222, \"#7201a8\"], [0.3333333333333333, \"#9c179e\"], [0.4444444444444444, \"#bd3786\"], [0.5555555555555556, \"#d8576b\"], [0.6666666666666666, \"#ed7953\"], [0.7777777777777778, \"#fb9f3a\"], [0.8888888888888888, \"#fdca26\"], [1.0, \"#f0f921\"]], \"type\": \"histogram2d\"}], \"histogram2dcontour\": [{\"colorbar\": {\"outlinewidth\": 0, \"ticks\": \"\"}, \"colorscale\": [[0.0, \"#0d0887\"], [0.1111111111111111, \"#46039f\"], [0.2222222222222222, \"#7201a8\"], [0.3333333333333333, \"#9c179e\"], [0.4444444444444444, \"#bd3786\"], [0.5555555555555556, \"#d8576b\"], [0.6666666666666666, \"#ed7953\"], [0.7777777777777778, \"#fb9f3a\"], [0.8888888888888888, \"#fdca26\"], [1.0, \"#f0f921\"]], \"type\": \"histogram2dcontour\"}], \"mesh3d\": [{\"colorbar\": {\"outlinewidth\": 0, \"ticks\": \"\"}, \"type\": \"mesh3d\"}], \"parcoords\": [{\"line\": {\"colorbar\": {\"outlinewidth\": 0, \"ticks\": \"\"}}, \"type\": \"parcoords\"}], \"scatter\": [{\"marker\": {\"colorbar\": {\"outlinewidth\": 0, \"ticks\": \"\"}}, \"type\": \"scatter\"}], \"scatter3d\": [{\"line\": {\"colorbar\": {\"outlinewidth\": 0, \"ticks\": \"\"}}, \"marker\": {\"colorbar\": {\"outlinewidth\": 0, \"ticks\": \"\"}}, \"type\": \"scatter3d\"}], \"scattercarpet\": [{\"marker\": {\"colorbar\": {\"outlinewidth\": 0, \"ticks\": \"\"}}, \"type\": \"scattercarpet\"}], \"scattergeo\": [{\"marker\": {\"colorbar\": {\"outlinewidth\": 0, \"ticks\": \"\"}}, \"type\": \"scattergeo\"}], \"scattergl\": [{\"marker\": {\"colorbar\": {\"outlinewidth\": 0, \"ticks\": \"\"}}, \"type\": \"scattergl\"}], \"scattermapbox\": [{\"marker\": {\"colorbar\": {\"outlinewidth\": 0, \"ticks\": \"\"}}, \"type\": \"scattermapbox\"}], \"scatterpolar\": [{\"marker\": {\"colorbar\": {\"outlinewidth\": 0, \"ticks\": \"\"}}, \"type\": \"scatterpolar\"}], \"scatterpolargl\": [{\"marker\": {\"colorbar\": {\"outlinewidth\": 0, \"ticks\": \"\"}}, \"type\": \"scatterpolargl\"}], \"scatterternary\": [{\"marker\": {\"colorbar\": {\"outlinewidth\": 0, \"ticks\": \"\"}}, \"type\": \"scatterternary\"}], \"surface\": [{\"colorbar\": {\"outlinewidth\": 0, \"ticks\": \"\"}, \"colorscale\": [[0.0, \"#0d0887\"], [0.1111111111111111, \"#46039f\"], [0.2222222222222222, \"#7201a8\"], [0.3333333333333333, \"#9c179e\"], [0.4444444444444444, \"#bd3786\"], [0.5555555555555556, \"#d8576b\"], [0.6666666666666666, \"#ed7953\"], [0.7777777777777778, \"#fb9f3a\"], [0.8888888888888888, \"#fdca26\"], [1.0, \"#f0f921\"]], \"type\": \"surface\"}], \"table\": [{\"cells\": {\"fill\": {\"color\": \"#EBF0F8\"}, \"line\": {\"color\": \"white\"}}, \"header\": {\"fill\": {\"color\": \"#C8D4E3\"}, \"line\": {\"color\": \"white\"}}, \"type\": \"table\"}]}, \"layout\": {\"annotationdefaults\": {\"arrowcolor\": \"#2a3f5f\", \"arrowhead\": 0, \"arrowwidth\": 1}, \"colorscale\": {\"diverging\": [[0, \"#8e0152\"], [0.1, \"#c51b7d\"], [0.2, \"#de77ae\"], [0.3, \"#f1b6da\"], [0.4, \"#fde0ef\"], [0.5, \"#f7f7f7\"], [0.6, \"#e6f5d0\"], [0.7, \"#b8e186\"], [0.8, \"#7fbc41\"], [0.9, \"#4d9221\"], [1, \"#276419\"]], \"sequential\": [[0.0, \"#0d0887\"], [0.1111111111111111, \"#46039f\"], [0.2222222222222222, \"#7201a8\"], [0.3333333333333333, \"#9c179e\"], [0.4444444444444444, \"#bd3786\"], [0.5555555555555556, \"#d8576b\"], [0.6666666666666666, \"#ed7953\"], [0.7777777777777778, \"#fb9f3a\"], [0.8888888888888888, \"#fdca26\"], [1.0, \"#f0f921\"]], \"sequentialminus\": [[0.0, \"#0d0887\"], [0.1111111111111111, \"#46039f\"], [0.2222222222222222, \"#7201a8\"], [0.3333333333333333, \"#9c179e\"], [0.4444444444444444, \"#bd3786\"], [0.5555555555555556, \"#d8576b\"], [0.6666666666666666, \"#ed7953\"], [0.7777777777777778, \"#fb9f3a\"], [0.8888888888888888, \"#fdca26\"], [1.0, \"#f0f921\"]]}, \"colorway\": [\"#636efa\", \"#EF553B\", \"#00cc96\", \"#ab63fa\", \"#FFA15A\", \"#19d3f3\", \"#FF6692\", \"#B6E880\", \"#FF97FF\", \"#FECB52\"], \"font\": {\"color\": \"#2a3f5f\"}, \"geo\": {\"bgcolor\": \"white\", \"lakecolor\": \"white\", \"landcolor\": \"#E5ECF6\", \"showlakes\": true, \"showland\": true, \"subunitcolor\": \"white\"}, \"hoverlabel\": {\"align\": \"left\"}, \"hovermode\": \"closest\", \"mapbox\": {\"style\": \"light\"}, \"paper_bgcolor\": \"white\", \"plot_bgcolor\": \"#E5ECF6\", \"polar\": {\"angularaxis\": {\"gridcolor\": \"white\", \"linecolor\": \"white\", \"ticks\": \"\"}, \"bgcolor\": \"#E5ECF6\", \"radialaxis\": {\"gridcolor\": \"white\", \"linecolor\": \"white\", \"ticks\": \"\"}}, \"scene\": {\"xaxis\": {\"backgroundcolor\": \"#E5ECF6\", \"gridcolor\": \"white\", \"gridwidth\": 2, \"linecolor\": \"white\", \"showbackground\": true, \"ticks\": \"\", \"zerolinecolor\": \"white\"}, \"yaxis\": {\"backgroundcolor\": \"#E5ECF6\", \"gridcolor\": \"white\", \"gridwidth\": 2, \"linecolor\": \"white\", \"showbackground\": true, \"ticks\": \"\", \"zerolinecolor\": \"white\"}, \"zaxis\": {\"backgroundcolor\": \"#E5ECF6\", \"gridcolor\": \"white\", \"gridwidth\": 2, \"linecolor\": \"white\", \"showbackground\": true, \"ticks\": \"\", \"zerolinecolor\": \"white\"}}, \"shapedefaults\": {\"line\": {\"color\": \"#2a3f5f\"}}, \"ternary\": {\"aaxis\": {\"gridcolor\": \"white\", \"linecolor\": \"white\", \"ticks\": \"\"}, \"baxis\": {\"gridcolor\": \"white\", \"linecolor\": \"white\", \"ticks\": \"\"}, \"bgcolor\": \"#E5ECF6\", \"caxis\": {\"gridcolor\": \"white\", \"linecolor\": \"white\", \"ticks\": \"\"}}, \"title\": {\"x\": 0.05}, \"xaxis\": {\"automargin\": true, \"gridcolor\": \"white\", \"linecolor\": \"white\", \"ticks\": \"\", \"zerolinecolor\": \"white\", \"zerolinewidth\": 2}, \"yaxis\": {\"automargin\": true, \"gridcolor\": \"white\", \"linecolor\": \"white\", \"ticks\": \"\", \"zerolinecolor\": \"white\", \"zerolinewidth\": 2}}}, \"title\": {\"text\": \"\\ubb38\\ud56d\\ubcc4,\\uae30\\uad00\\ubcc4 \\uc778\\uc9c0-\\uae30\\uc220-\\ud0dc\\ub3c4 \\uc218\\uc900 \\uc99d\\uac00\\uce58\", \"x\": 0.5, \"y\": 0.97}, \"width\": 1200},\n",
              "                        {\"responsive\": true}\n",
              "                    ).then(function(){\n",
              "                            \n",
              "var gd = document.getElementById('c745c929-2bca-43b7-a776-ab0efa39f619');\n",
              "var x = new MutationObserver(function (mutations, observer) {{\n",
              "        var display = window.getComputedStyle(gd).display;\n",
              "        if (!display || display === 'none') {{\n",
              "            console.log([gd, 'removed!']);\n",
              "            Plotly.purge(gd);\n",
              "            observer.disconnect();\n",
              "        }}\n",
              "}});\n",
              "\n",
              "// Listen for the removal of the full notebook cells\n",
              "var notebookContainer = gd.closest('#notebook-container');\n",
              "if (notebookContainer) {{\n",
              "    x.observe(notebookContainer, {childList: true});\n",
              "}}\n",
              "\n",
              "// Listen for the clearing of the current output cell\n",
              "var outputEl = gd.closest('.output');\n",
              "if (outputEl) {{\n",
              "    x.observe(outputEl, {childList: true});\n",
              "}}\n",
              "\n",
              "                        })\n",
              "                };\n",
              "                \n",
              "            </script>\n",
              "        </div>\n",
              "</body>\n",
              "</html>"
            ]
          },
          "metadata": {
            "tags": []
          }
        }
      ]
    },
    {
      "cell_type": "markdown",
      "metadata": {
        "id": "Q9NXB6y04g4i",
        "colab_type": "text"
      },
      "source": [
        "## 문항별,기관별 인지-기술-태도 수준 증가치 (종합)"
      ]
    },
    {
      "cell_type": "code",
      "metadata": {
        "colab_type": "code",
        "id": "cH4R3KBR-bq5",
        "colab": {}
      },
      "source": [
        "pre_post_organ.round(2)[\"문항/기관\"][:12]\n",
        "pre_post_organ.round(2)[\"항목별 평균 증가치\"][:12]"
      ],
      "execution_count": 0,
      "outputs": []
    },
    {
      "cell_type": "code",
      "metadata": {
        "colab_type": "code",
        "id": "LKV6qqphg7-2",
        "outputId": "cb793748-84a5-43b6-9051-069f50b53c6a",
        "colab": {
          "base_uri": "https://localhost:8080/",
          "height": 542
        }
      },
      "source": [
        "pre_post_organ_sorted = pre_post_organ.round(2)[[\"문항/기관\",\"항목별 평균 증가치\"]][:12].sort_values(\"항목별 평균 증가치\")\n",
        "\n",
        "fig = go.Figure(data=go.Bar(showlegend=False, orientation = 'h',\n",
        "    x = pre_post_organ_sorted.round(2)[\"항목별 평균 증가치\"][:12],\n",
        "    y = pre_post_organ_sorted.round(2)[\"문항/기관\"][:12],\n",
        "    text = pre_post_organ_sorted.round(2)[\"항목별 평균 증가치\"][:12],    \n",
        "    textposition = 'auto',\n",
        "    marker=dict(color=-pre_post_organ_sorted.round(2)[\"항목별 평균 증가치\"][:12],\n",
        "                cmax=3.5, cmin=-3.5, colorscale='Viridis')))\n",
        "\n",
        "fig.update_xaxes(title=dict(text='증가분(5점기준)', font_size=13),range=[0, 2])\n",
        "\n",
        "fig.update_layout(title=dict(text ='문항별 인지-기술-태도 수준 증가현황',x=0.5, y=0.97),\n",
        "                  margin = dict(t=50), font_size = 13)"
      ],
      "execution_count": 132,
      "outputs": [
        {
          "output_type": "display_data",
          "data": {
            "text/html": [
              "<html>\n",
              "<head><meta charset=\"utf-8\" /></head>\n",
              "<body>\n",
              "    <div>\n",
              "            <script src=\"https://cdnjs.cloudflare.com/ajax/libs/mathjax/2.7.5/MathJax.js?config=TeX-AMS-MML_SVG\"></script><script type=\"text/javascript\">if (window.MathJax) {MathJax.Hub.Config({SVG: {font: \"STIX-Web\"}});}</script>\n",
              "                <script type=\"text/javascript\">window.PlotlyConfig = {MathJaxConfig: 'local'};</script>\n",
              "        <script src=\"https://cdn.plot.ly/plotly-latest.min.js\"></script>    \n",
              "            <div id=\"2fd98b47-46d3-476c-b04c-6f1d5869f9cb\" class=\"plotly-graph-div\" style=\"height:525px; width:100%;\"></div>\n",
              "            <script type=\"text/javascript\">\n",
              "                \n",
              "                    window.PLOTLYENV=window.PLOTLYENV || {};\n",
              "                    \n",
              "                if (document.getElementById(\"2fd98b47-46d3-476c-b04c-6f1d5869f9cb\")) {\n",
              "                    Plotly.newPlot(\n",
              "                        '2fd98b47-46d3-476c-b04c-6f1d5869f9cb',\n",
              "                        [{\"marker\": {\"cmax\": 3.5, \"cmin\": -3.5, \"color\": [-0.36, -0.5, -0.55, -0.68, -1.0, -1.14, -1.36, -1.5, -1.55, -1.77, -1.82, -1.82], \"colorscale\": [[0.0, \"#440154\"], [0.1111111111111111, \"#482878\"], [0.2222222222222222, \"#3e4989\"], [0.3333333333333333, \"#31688e\"], [0.4444444444444444, \"#26828e\"], [0.5555555555555556, \"#1f9e89\"], [0.6666666666666666, \"#35b779\"], [0.7777777777777778, \"#6ece58\"], [0.8888888888888888, \"#b5de2b\"], [1.0, \"#fde725\"]]}, \"orientation\": \"h\", \"showlegend\": false, \"text\": [0.36, 0.5, 0.55, 0.68, 1.0, 1.14, 1.36, 1.5, 1.55, 1.77, 1.82, 1.82], \"textposition\": \"auto\", \"type\": \"bar\", \"x\": [0.36, 0.5, 0.55, 0.68, 1.0, 1.14, 1.36, 1.5, 1.55, 1.77, 1.82, 1.82], \"y\": [\"\\u300c\\ud574\\uc678\\ub3c4\\uc2dc\\uc778\\ud504\\ub77c \\ud658\\uacbd \\ubc0f \\ubb38\\ud654\\uc774\\ud574\\u300d \\ud0dc\\ub3c4\\uc218\\uc900 \\uc99d\\uac00\\uce58\", \"\\u300c\\ud574\\uc678\\uc0ac\\uc5c5\\uc218\\uc8fc\\uae30\\ud68d \\ubc0f \\ucee8\\uc124\\ud305\\uc758 \\uc774\\ud574\\u300d \\ud0dc\\ub3c4\\uc218\\uc900 \\uc99d\\uac00\\uce58\", \"\\u300c\\ud574\\uc678\\ub3c4\\uc2dc\\uc815\\ucc45 \\ubc0f \\uad6d\\uc81c\\uac1c\\ubc1c\\ud611\\ub825\\u300d \\ud0dc\\ub3c4\\uc218\\uc900 \\uc99d\\uac00\\uce58\", \"\\u300c\\uc11c\\uc6b8\\uc2dc \\uc6b0\\uc218\\uc815\\ucc45 \\uacf5\\uc720\\uc0ac\\uc5c5\\u300d \\ud0dc\\ub3c4\\uc218\\uc900 \\uc99d\\uac00\\uce58\", \"\\u300c\\ud574\\uc678\\ub3c4\\uc2dc\\uc778\\ud504\\ub77c \\ud658\\uacbd \\ubc0f \\ubb38\\ud654\\uc774\\ud574\\u300d \\uc778\\uc9c0\\uc218\\uc900 \\uc99d\\uac00\\uce58\", \"\\u300c\\ud574\\uc678\\ub3c4\\uc2dc\\uc778\\ud504\\ub77c \\ud658\\uacbd \\ubc0f \\ubb38\\ud654\\uc774\\ud574\\u300d \\uae30\\uc220\\uc218\\uc900 \\uc99d\\uac00\\uce58\", \"\\u300c\\ud574\\uc678\\ub3c4\\uc2dc\\uc815\\ucc45 \\ubc0f \\uad6d\\uc81c\\uac1c\\ubc1c\\ud611\\ub825\\u300d \\uc778\\uc9c0\\uc218\\uc900 \\uc99d\\uac00\\uce58\", \"\\u300c\\ud574\\uc678\\ub3c4\\uc2dc\\uc815\\ucc45 \\ubc0f \\uad6d\\uc81c\\uac1c\\ubc1c\\ud611\\ub825\\u300d \\uae30\\uc220\\uc218\\uc900 \\uc99d\\uac00\\uce58\", \"\\u300c\\ud574\\uc678\\uc0ac\\uc5c5\\uc218\\uc8fc\\uae30\\ud68d \\ubc0f \\ucee8\\uc124\\ud305\\uc758 \\uc774\\ud574\\u300d \\uae30\\uc220\\uc218\\uc900 \\uc99d\\uac00\\uce58\", \"\\u300c\\uc11c\\uc6b8\\uc2dc \\uc6b0\\uc218\\uc815\\ucc45 \\uacf5\\uc720\\uc0ac\\uc5c5\\u300d \\uae30\\uc220\\uc218\\uc900 \\uc99d\\uac00\\uce58\", \"\\u300c\\uc11c\\uc6b8\\uc2dc \\uc6b0\\uc218\\uc815\\ucc45 \\uacf5\\uc720\\uc0ac\\uc5c5\\u300d \\uc778\\uc9c0\\uc218\\uc900 \\uc99d\\uac00\\uce58\", \"\\u300c\\ud574\\uc678\\uc0ac\\uc5c5\\uc218\\uc8fc\\uae30\\ud68d \\ubc0f \\ucee8\\uc124\\ud305\\uc758 \\uc774\\ud574\\u300d \\uc778\\uc9c0\\uc218\\uc900 \\uc99d\\uac00\\uce58\"]}],\n",
              "                        {\"font\": {\"size\": 13}, \"margin\": {\"t\": 50}, \"template\": {\"data\": {\"bar\": [{\"error_x\": {\"color\": \"#2a3f5f\"}, \"error_y\": {\"color\": \"#2a3f5f\"}, \"marker\": {\"line\": {\"color\": \"#E5ECF6\", \"width\": 0.5}}, \"type\": \"bar\"}], \"barpolar\": [{\"marker\": {\"line\": {\"color\": \"#E5ECF6\", \"width\": 0.5}}, \"type\": \"barpolar\"}], \"carpet\": [{\"aaxis\": {\"endlinecolor\": \"#2a3f5f\", \"gridcolor\": \"white\", \"linecolor\": \"white\", \"minorgridcolor\": \"white\", \"startlinecolor\": \"#2a3f5f\"}, \"baxis\": {\"endlinecolor\": \"#2a3f5f\", \"gridcolor\": \"white\", \"linecolor\": \"white\", \"minorgridcolor\": \"white\", \"startlinecolor\": \"#2a3f5f\"}, \"type\": \"carpet\"}], \"choropleth\": [{\"colorbar\": {\"outlinewidth\": 0, \"ticks\": \"\"}, \"type\": \"choropleth\"}], \"contour\": [{\"colorbar\": {\"outlinewidth\": 0, \"ticks\": \"\"}, \"colorscale\": [[0.0, \"#0d0887\"], [0.1111111111111111, \"#46039f\"], [0.2222222222222222, \"#7201a8\"], [0.3333333333333333, \"#9c179e\"], [0.4444444444444444, \"#bd3786\"], [0.5555555555555556, \"#d8576b\"], [0.6666666666666666, \"#ed7953\"], [0.7777777777777778, \"#fb9f3a\"], [0.8888888888888888, \"#fdca26\"], [1.0, \"#f0f921\"]], \"type\": \"contour\"}], \"contourcarpet\": [{\"colorbar\": {\"outlinewidth\": 0, \"ticks\": \"\"}, \"type\": \"contourcarpet\"}], \"heatmap\": [{\"colorbar\": {\"outlinewidth\": 0, \"ticks\": \"\"}, \"colorscale\": [[0.0, \"#0d0887\"], [0.1111111111111111, \"#46039f\"], [0.2222222222222222, \"#7201a8\"], [0.3333333333333333, \"#9c179e\"], [0.4444444444444444, \"#bd3786\"], [0.5555555555555556, \"#d8576b\"], [0.6666666666666666, \"#ed7953\"], [0.7777777777777778, \"#fb9f3a\"], [0.8888888888888888, \"#fdca26\"], [1.0, \"#f0f921\"]], \"type\": \"heatmap\"}], \"heatmapgl\": [{\"colorbar\": {\"outlinewidth\": 0, \"ticks\": \"\"}, \"colorscale\": [[0.0, \"#0d0887\"], [0.1111111111111111, \"#46039f\"], [0.2222222222222222, \"#7201a8\"], [0.3333333333333333, \"#9c179e\"], [0.4444444444444444, \"#bd3786\"], [0.5555555555555556, \"#d8576b\"], [0.6666666666666666, \"#ed7953\"], [0.7777777777777778, \"#fb9f3a\"], [0.8888888888888888, \"#fdca26\"], [1.0, \"#f0f921\"]], \"type\": \"heatmapgl\"}], \"histogram\": [{\"marker\": {\"colorbar\": {\"outlinewidth\": 0, \"ticks\": \"\"}}, \"type\": \"histogram\"}], \"histogram2d\": [{\"colorbar\": {\"outlinewidth\": 0, \"ticks\": \"\"}, \"colorscale\": [[0.0, \"#0d0887\"], [0.1111111111111111, \"#46039f\"], [0.2222222222222222, \"#7201a8\"], [0.3333333333333333, \"#9c179e\"], [0.4444444444444444, \"#bd3786\"], [0.5555555555555556, \"#d8576b\"], [0.6666666666666666, \"#ed7953\"], [0.7777777777777778, \"#fb9f3a\"], [0.8888888888888888, \"#fdca26\"], [1.0, \"#f0f921\"]], \"type\": \"histogram2d\"}], \"histogram2dcontour\": [{\"colorbar\": {\"outlinewidth\": 0, \"ticks\": \"\"}, \"colorscale\": [[0.0, \"#0d0887\"], [0.1111111111111111, \"#46039f\"], [0.2222222222222222, \"#7201a8\"], [0.3333333333333333, \"#9c179e\"], [0.4444444444444444, \"#bd3786\"], [0.5555555555555556, \"#d8576b\"], [0.6666666666666666, \"#ed7953\"], [0.7777777777777778, \"#fb9f3a\"], [0.8888888888888888, \"#fdca26\"], [1.0, \"#f0f921\"]], \"type\": \"histogram2dcontour\"}], \"mesh3d\": [{\"colorbar\": {\"outlinewidth\": 0, \"ticks\": \"\"}, \"type\": \"mesh3d\"}], \"parcoords\": [{\"line\": {\"colorbar\": {\"outlinewidth\": 0, \"ticks\": \"\"}}, \"type\": \"parcoords\"}], \"scatter\": [{\"marker\": {\"colorbar\": {\"outlinewidth\": 0, \"ticks\": \"\"}}, \"type\": \"scatter\"}], \"scatter3d\": [{\"line\": {\"colorbar\": {\"outlinewidth\": 0, \"ticks\": \"\"}}, \"marker\": {\"colorbar\": {\"outlinewidth\": 0, \"ticks\": \"\"}}, \"type\": \"scatter3d\"}], \"scattercarpet\": [{\"marker\": {\"colorbar\": {\"outlinewidth\": 0, \"ticks\": \"\"}}, \"type\": \"scattercarpet\"}], \"scattergeo\": [{\"marker\": {\"colorbar\": {\"outlinewidth\": 0, \"ticks\": \"\"}}, \"type\": \"scattergeo\"}], \"scattergl\": [{\"marker\": {\"colorbar\": {\"outlinewidth\": 0, \"ticks\": \"\"}}, \"type\": \"scattergl\"}], \"scattermapbox\": [{\"marker\": {\"colorbar\": {\"outlinewidth\": 0, \"ticks\": \"\"}}, \"type\": \"scattermapbox\"}], \"scatterpolar\": [{\"marker\": {\"colorbar\": {\"outlinewidth\": 0, \"ticks\": \"\"}}, \"type\": \"scatterpolar\"}], \"scatterpolargl\": [{\"marker\": {\"colorbar\": {\"outlinewidth\": 0, \"ticks\": \"\"}}, \"type\": \"scatterpolargl\"}], \"scatterternary\": [{\"marker\": {\"colorbar\": {\"outlinewidth\": 0, \"ticks\": \"\"}}, \"type\": \"scatterternary\"}], \"surface\": [{\"colorbar\": {\"outlinewidth\": 0, \"ticks\": \"\"}, \"colorscale\": [[0.0, \"#0d0887\"], [0.1111111111111111, \"#46039f\"], [0.2222222222222222, \"#7201a8\"], [0.3333333333333333, \"#9c179e\"], [0.4444444444444444, \"#bd3786\"], [0.5555555555555556, \"#d8576b\"], [0.6666666666666666, \"#ed7953\"], [0.7777777777777778, \"#fb9f3a\"], [0.8888888888888888, \"#fdca26\"], [1.0, \"#f0f921\"]], \"type\": \"surface\"}], \"table\": [{\"cells\": {\"fill\": {\"color\": \"#EBF0F8\"}, \"line\": {\"color\": \"white\"}}, \"header\": {\"fill\": {\"color\": \"#C8D4E3\"}, \"line\": {\"color\": \"white\"}}, \"type\": \"table\"}]}, \"layout\": {\"annotationdefaults\": {\"arrowcolor\": \"#2a3f5f\", \"arrowhead\": 0, \"arrowwidth\": 1}, \"colorscale\": {\"diverging\": [[0, \"#8e0152\"], [0.1, \"#c51b7d\"], [0.2, \"#de77ae\"], [0.3, \"#f1b6da\"], [0.4, \"#fde0ef\"], [0.5, \"#f7f7f7\"], [0.6, \"#e6f5d0\"], [0.7, \"#b8e186\"], [0.8, \"#7fbc41\"], [0.9, \"#4d9221\"], [1, \"#276419\"]], \"sequential\": [[0.0, \"#0d0887\"], [0.1111111111111111, \"#46039f\"], [0.2222222222222222, \"#7201a8\"], [0.3333333333333333, \"#9c179e\"], [0.4444444444444444, \"#bd3786\"], [0.5555555555555556, \"#d8576b\"], [0.6666666666666666, \"#ed7953\"], [0.7777777777777778, \"#fb9f3a\"], [0.8888888888888888, \"#fdca26\"], [1.0, \"#f0f921\"]], \"sequentialminus\": [[0.0, \"#0d0887\"], [0.1111111111111111, \"#46039f\"], [0.2222222222222222, \"#7201a8\"], [0.3333333333333333, \"#9c179e\"], [0.4444444444444444, \"#bd3786\"], [0.5555555555555556, \"#d8576b\"], [0.6666666666666666, \"#ed7953\"], [0.7777777777777778, \"#fb9f3a\"], [0.8888888888888888, \"#fdca26\"], [1.0, \"#f0f921\"]]}, \"colorway\": [\"#636efa\", \"#EF553B\", \"#00cc96\", \"#ab63fa\", \"#FFA15A\", \"#19d3f3\", \"#FF6692\", \"#B6E880\", \"#FF97FF\", \"#FECB52\"], \"font\": {\"color\": \"#2a3f5f\"}, \"geo\": {\"bgcolor\": \"white\", \"lakecolor\": \"white\", \"landcolor\": \"#E5ECF6\", \"showlakes\": true, \"showland\": true, \"subunitcolor\": \"white\"}, \"hoverlabel\": {\"align\": \"left\"}, \"hovermode\": \"closest\", \"mapbox\": {\"style\": \"light\"}, \"paper_bgcolor\": \"white\", \"plot_bgcolor\": \"#E5ECF6\", \"polar\": {\"angularaxis\": {\"gridcolor\": \"white\", \"linecolor\": \"white\", \"ticks\": \"\"}, \"bgcolor\": \"#E5ECF6\", \"radialaxis\": {\"gridcolor\": \"white\", \"linecolor\": \"white\", \"ticks\": \"\"}}, \"scene\": {\"xaxis\": {\"backgroundcolor\": \"#E5ECF6\", \"gridcolor\": \"white\", \"gridwidth\": 2, \"linecolor\": \"white\", \"showbackground\": true, \"ticks\": \"\", \"zerolinecolor\": \"white\"}, \"yaxis\": {\"backgroundcolor\": \"#E5ECF6\", \"gridcolor\": \"white\", \"gridwidth\": 2, \"linecolor\": \"white\", \"showbackground\": true, \"ticks\": \"\", \"zerolinecolor\": \"white\"}, \"zaxis\": {\"backgroundcolor\": \"#E5ECF6\", \"gridcolor\": \"white\", \"gridwidth\": 2, \"linecolor\": \"white\", \"showbackground\": true, \"ticks\": \"\", \"zerolinecolor\": \"white\"}}, \"shapedefaults\": {\"line\": {\"color\": \"#2a3f5f\"}}, \"ternary\": {\"aaxis\": {\"gridcolor\": \"white\", \"linecolor\": \"white\", \"ticks\": \"\"}, \"baxis\": {\"gridcolor\": \"white\", \"linecolor\": \"white\", \"ticks\": \"\"}, \"bgcolor\": \"#E5ECF6\", \"caxis\": {\"gridcolor\": \"white\", \"linecolor\": \"white\", \"ticks\": \"\"}}, \"title\": {\"x\": 0.05}, \"xaxis\": {\"automargin\": true, \"gridcolor\": \"white\", \"linecolor\": \"white\", \"ticks\": \"\", \"zerolinecolor\": \"white\", \"zerolinewidth\": 2}, \"yaxis\": {\"automargin\": true, \"gridcolor\": \"white\", \"linecolor\": \"white\", \"ticks\": \"\", \"zerolinecolor\": \"white\", \"zerolinewidth\": 2}}}, \"title\": {\"text\": \"\\ubb38\\ud56d\\ubcc4 \\uc778\\uc9c0-\\uae30\\uc220-\\ud0dc\\ub3c4 \\uc218\\uc900 \\uc99d\\uac00\\ud604\\ud669\", \"x\": 0.5, \"y\": 0.97}, \"xaxis\": {\"range\": [0, 2], \"title\": {\"font\": {\"size\": 13}, \"text\": \"\\uc99d\\uac00\\ubd84(5\\uc810\\uae30\\uc900)\"}}},\n",
              "                        {\"responsive\": true}\n",
              "                    ).then(function(){\n",
              "                            \n",
              "var gd = document.getElementById('2fd98b47-46d3-476c-b04c-6f1d5869f9cb');\n",
              "var x = new MutationObserver(function (mutations, observer) {{\n",
              "        var display = window.getComputedStyle(gd).display;\n",
              "        if (!display || display === 'none') {{\n",
              "            console.log([gd, 'removed!']);\n",
              "            Plotly.purge(gd);\n",
              "            observer.disconnect();\n",
              "        }}\n",
              "}});\n",
              "\n",
              "// Listen for the removal of the full notebook cells\n",
              "var notebookContainer = gd.closest('#notebook-container');\n",
              "if (notebookContainer) {{\n",
              "    x.observe(notebookContainer, {childList: true});\n",
              "}}\n",
              "\n",
              "// Listen for the clearing of the current output cell\n",
              "var outputEl = gd.closest('.output');\n",
              "if (outputEl) {{\n",
              "    x.observe(outputEl, {childList: true});\n",
              "}}\n",
              "\n",
              "                        })\n",
              "                };\n",
              "                \n",
              "            </script>\n",
              "        </div>\n",
              "</body>\n",
              "</html>"
            ]
          },
          "metadata": {
            "tags": []
          }
        }
      ]
    },
    {
      "cell_type": "code",
      "metadata": {
        "colab_type": "code",
        "outputId": "241658b9-85ad-49ca-f5ac-ac34aa095c25",
        "id": "jeb7sfsa4g4o",
        "colab": {
          "base_uri": "https://localhost:8080/",
          "height": 542
        }
      },
      "source": [
        "pre_post_organ_tsorted = pre_post_organ.set_index(\"문항/기관\").T.iloc[:5,12:13].round(2).sort_values(\"기관별 평균 증가치\")\n",
        "\n",
        "fig = go.Figure(data=go.Bar(showlegend=False, orientation = 'h',\n",
        "    x = pre_post_organ_tsorted[\"기관별 평균 증가치\"],\n",
        "    y = pre_post_organ_tsorted.index, width=0.7,\n",
        "    text = pre_post_organ_tsorted[\"기관별 평균 증가치\"],    \n",
        "    textposition = 'auto',\n",
        "    marker=dict(color=-pre_post_organ_tsorted[\"기관별 평균 증가치\"],\n",
        "                cmax=3.5, cmin=-3.5, colorscale='Viridis')))\n",
        "\n",
        "fig.update_xaxes(title=dict(text='증가분(5점기준)', font_size=13),range=[0, 1.5])\n",
        "\n",
        "fig.update_layout(title=dict(text ='기관별 인지-기술-태도 수준 증가현황',x=0.5, y=0.97),\n",
        "                  margin = dict(t=50), font_size = 13, bargap=0.1)"
      ],
      "execution_count": 135,
      "outputs": [
        {
          "output_type": "display_data",
          "data": {
            "text/html": [
              "<html>\n",
              "<head><meta charset=\"utf-8\" /></head>\n",
              "<body>\n",
              "    <div>\n",
              "            <script src=\"https://cdnjs.cloudflare.com/ajax/libs/mathjax/2.7.5/MathJax.js?config=TeX-AMS-MML_SVG\"></script><script type=\"text/javascript\">if (window.MathJax) {MathJax.Hub.Config({SVG: {font: \"STIX-Web\"}});}</script>\n",
              "                <script type=\"text/javascript\">window.PlotlyConfig = {MathJaxConfig: 'local'};</script>\n",
              "        <script src=\"https://cdn.plot.ly/plotly-latest.min.js\"></script>    \n",
              "            <div id=\"c5eecdd8-e411-437b-af00-36b6856a6bdf\" class=\"plotly-graph-div\" style=\"height:525px; width:100%;\"></div>\n",
              "            <script type=\"text/javascript\">\n",
              "                \n",
              "                    window.PLOTLYENV=window.PLOTLYENV || {};\n",
              "                    \n",
              "                if (document.getElementById(\"c5eecdd8-e411-437b-af00-36b6856a6bdf\")) {\n",
              "                    Plotly.newPlot(\n",
              "                        'c5eecdd8-e411-437b-af00-36b6856a6bdf',\n",
              "                        [{\"marker\": {\"cmax\": 3.5, \"cmin\": -3.5, \"color\": [-0.8, -1.25, -1.33, -1.37, -1.38], \"colorscale\": [[0.0, \"#440154\"], [0.1111111111111111, \"#482878\"], [0.2222222222222222, \"#3e4989\"], [0.3333333333333333, \"#31688e\"], [0.4444444444444444, \"#26828e\"], [0.5555555555555556, \"#1f9e89\"], [0.6666666666666666, \"#35b779\"], [0.7777777777777778, \"#6ece58\"], [0.8888888888888888, \"#b5de2b\"], [1.0, \"#fde725\"]]}, \"orientation\": \"h\", \"showlegend\": false, \"text\": [0.8, 1.25, 1.33, 1.37, 1.38], \"textposition\": \"auto\", \"type\": \"bar\", \"width\": 0.7, \"x\": [0.8, 1.25, 1.33, 1.37, 1.38], \"y\": [\"\\ubbfc\\uac04\\uae30\\uc5c5\", \"\\uc11c\\uc6b8\\uc2dc \\uc0b0\\ud558\\uae30\\uad00\", \"\\uad6d\\uc81c\\uae30\\uad6c\", \"\\uc11c\\uc6b8\\uc2dc\", \"\\uc911\\uc559\\ubd80\\ucc98/ \\uc0b0\\ud558\\uae30\\uad00\"]}],\n",
              "                        {\"bargap\": 0.1, \"font\": {\"size\": 13}, \"margin\": {\"t\": 50}, \"template\": {\"data\": {\"bar\": [{\"error_x\": {\"color\": \"#2a3f5f\"}, \"error_y\": {\"color\": \"#2a3f5f\"}, \"marker\": {\"line\": {\"color\": \"#E5ECF6\", \"width\": 0.5}}, \"type\": \"bar\"}], \"barpolar\": [{\"marker\": {\"line\": {\"color\": \"#E5ECF6\", \"width\": 0.5}}, \"type\": \"barpolar\"}], \"carpet\": [{\"aaxis\": {\"endlinecolor\": \"#2a3f5f\", \"gridcolor\": \"white\", \"linecolor\": \"white\", \"minorgridcolor\": \"white\", \"startlinecolor\": \"#2a3f5f\"}, \"baxis\": {\"endlinecolor\": \"#2a3f5f\", \"gridcolor\": \"white\", \"linecolor\": \"white\", \"minorgridcolor\": \"white\", \"startlinecolor\": \"#2a3f5f\"}, \"type\": \"carpet\"}], \"choropleth\": [{\"colorbar\": {\"outlinewidth\": 0, \"ticks\": \"\"}, \"type\": \"choropleth\"}], \"contour\": [{\"colorbar\": {\"outlinewidth\": 0, \"ticks\": \"\"}, \"colorscale\": [[0.0, \"#0d0887\"], [0.1111111111111111, \"#46039f\"], [0.2222222222222222, \"#7201a8\"], [0.3333333333333333, \"#9c179e\"], [0.4444444444444444, \"#bd3786\"], [0.5555555555555556, \"#d8576b\"], [0.6666666666666666, \"#ed7953\"], [0.7777777777777778, \"#fb9f3a\"], [0.8888888888888888, \"#fdca26\"], [1.0, \"#f0f921\"]], \"type\": \"contour\"}], \"contourcarpet\": [{\"colorbar\": {\"outlinewidth\": 0, \"ticks\": \"\"}, \"type\": \"contourcarpet\"}], \"heatmap\": [{\"colorbar\": {\"outlinewidth\": 0, \"ticks\": \"\"}, \"colorscale\": [[0.0, \"#0d0887\"], [0.1111111111111111, \"#46039f\"], [0.2222222222222222, \"#7201a8\"], [0.3333333333333333, \"#9c179e\"], [0.4444444444444444, \"#bd3786\"], [0.5555555555555556, \"#d8576b\"], [0.6666666666666666, \"#ed7953\"], [0.7777777777777778, \"#fb9f3a\"], [0.8888888888888888, \"#fdca26\"], [1.0, \"#f0f921\"]], \"type\": \"heatmap\"}], \"heatmapgl\": [{\"colorbar\": {\"outlinewidth\": 0, \"ticks\": \"\"}, \"colorscale\": [[0.0, \"#0d0887\"], [0.1111111111111111, \"#46039f\"], [0.2222222222222222, \"#7201a8\"], [0.3333333333333333, \"#9c179e\"], [0.4444444444444444, \"#bd3786\"], [0.5555555555555556, \"#d8576b\"], [0.6666666666666666, \"#ed7953\"], [0.7777777777777778, \"#fb9f3a\"], [0.8888888888888888, \"#fdca26\"], [1.0, \"#f0f921\"]], \"type\": \"heatmapgl\"}], \"histogram\": [{\"marker\": {\"colorbar\": {\"outlinewidth\": 0, \"ticks\": \"\"}}, \"type\": \"histogram\"}], \"histogram2d\": [{\"colorbar\": {\"outlinewidth\": 0, \"ticks\": \"\"}, \"colorscale\": [[0.0, \"#0d0887\"], [0.1111111111111111, \"#46039f\"], [0.2222222222222222, \"#7201a8\"], [0.3333333333333333, \"#9c179e\"], [0.4444444444444444, \"#bd3786\"], [0.5555555555555556, \"#d8576b\"], [0.6666666666666666, \"#ed7953\"], [0.7777777777777778, \"#fb9f3a\"], [0.8888888888888888, \"#fdca26\"], [1.0, \"#f0f921\"]], \"type\": \"histogram2d\"}], \"histogram2dcontour\": [{\"colorbar\": {\"outlinewidth\": 0, \"ticks\": \"\"}, \"colorscale\": [[0.0, \"#0d0887\"], [0.1111111111111111, \"#46039f\"], [0.2222222222222222, \"#7201a8\"], [0.3333333333333333, \"#9c179e\"], [0.4444444444444444, \"#bd3786\"], [0.5555555555555556, \"#d8576b\"], [0.6666666666666666, \"#ed7953\"], [0.7777777777777778, \"#fb9f3a\"], [0.8888888888888888, \"#fdca26\"], [1.0, \"#f0f921\"]], \"type\": \"histogram2dcontour\"}], \"mesh3d\": [{\"colorbar\": {\"outlinewidth\": 0, \"ticks\": \"\"}, \"type\": \"mesh3d\"}], \"parcoords\": [{\"line\": {\"colorbar\": {\"outlinewidth\": 0, \"ticks\": \"\"}}, \"type\": \"parcoords\"}], \"scatter\": [{\"marker\": {\"colorbar\": {\"outlinewidth\": 0, \"ticks\": \"\"}}, \"type\": \"scatter\"}], \"scatter3d\": [{\"line\": {\"colorbar\": {\"outlinewidth\": 0, \"ticks\": \"\"}}, \"marker\": {\"colorbar\": {\"outlinewidth\": 0, \"ticks\": \"\"}}, \"type\": \"scatter3d\"}], \"scattercarpet\": [{\"marker\": {\"colorbar\": {\"outlinewidth\": 0, \"ticks\": \"\"}}, \"type\": \"scattercarpet\"}], \"scattergeo\": [{\"marker\": {\"colorbar\": {\"outlinewidth\": 0, \"ticks\": \"\"}}, \"type\": \"scattergeo\"}], \"scattergl\": [{\"marker\": {\"colorbar\": {\"outlinewidth\": 0, \"ticks\": \"\"}}, \"type\": \"scattergl\"}], \"scattermapbox\": [{\"marker\": {\"colorbar\": {\"outlinewidth\": 0, \"ticks\": \"\"}}, \"type\": \"scattermapbox\"}], \"scatterpolar\": [{\"marker\": {\"colorbar\": {\"outlinewidth\": 0, \"ticks\": \"\"}}, \"type\": \"scatterpolar\"}], \"scatterpolargl\": [{\"marker\": {\"colorbar\": {\"outlinewidth\": 0, \"ticks\": \"\"}}, \"type\": \"scatterpolargl\"}], \"scatterternary\": [{\"marker\": {\"colorbar\": {\"outlinewidth\": 0, \"ticks\": \"\"}}, \"type\": \"scatterternary\"}], \"surface\": [{\"colorbar\": {\"outlinewidth\": 0, \"ticks\": \"\"}, \"colorscale\": [[0.0, \"#0d0887\"], [0.1111111111111111, \"#46039f\"], [0.2222222222222222, \"#7201a8\"], [0.3333333333333333, \"#9c179e\"], [0.4444444444444444, \"#bd3786\"], [0.5555555555555556, \"#d8576b\"], [0.6666666666666666, \"#ed7953\"], [0.7777777777777778, \"#fb9f3a\"], [0.8888888888888888, \"#fdca26\"], [1.0, \"#f0f921\"]], \"type\": \"surface\"}], \"table\": [{\"cells\": {\"fill\": {\"color\": \"#EBF0F8\"}, \"line\": {\"color\": \"white\"}}, \"header\": {\"fill\": {\"color\": \"#C8D4E3\"}, \"line\": {\"color\": \"white\"}}, \"type\": \"table\"}]}, \"layout\": {\"annotationdefaults\": {\"arrowcolor\": \"#2a3f5f\", \"arrowhead\": 0, \"arrowwidth\": 1}, \"colorscale\": {\"diverging\": [[0, \"#8e0152\"], [0.1, \"#c51b7d\"], [0.2, \"#de77ae\"], [0.3, \"#f1b6da\"], [0.4, \"#fde0ef\"], [0.5, \"#f7f7f7\"], [0.6, \"#e6f5d0\"], [0.7, \"#b8e186\"], [0.8, \"#7fbc41\"], [0.9, \"#4d9221\"], [1, \"#276419\"]], \"sequential\": [[0.0, \"#0d0887\"], [0.1111111111111111, \"#46039f\"], [0.2222222222222222, \"#7201a8\"], [0.3333333333333333, \"#9c179e\"], [0.4444444444444444, \"#bd3786\"], [0.5555555555555556, \"#d8576b\"], [0.6666666666666666, \"#ed7953\"], [0.7777777777777778, \"#fb9f3a\"], [0.8888888888888888, \"#fdca26\"], [1.0, \"#f0f921\"]], \"sequentialminus\": [[0.0, \"#0d0887\"], [0.1111111111111111, \"#46039f\"], [0.2222222222222222, \"#7201a8\"], [0.3333333333333333, \"#9c179e\"], [0.4444444444444444, \"#bd3786\"], [0.5555555555555556, \"#d8576b\"], [0.6666666666666666, \"#ed7953\"], [0.7777777777777778, \"#fb9f3a\"], [0.8888888888888888, \"#fdca26\"], [1.0, \"#f0f921\"]]}, \"colorway\": [\"#636efa\", \"#EF553B\", \"#00cc96\", \"#ab63fa\", \"#FFA15A\", \"#19d3f3\", \"#FF6692\", \"#B6E880\", \"#FF97FF\", \"#FECB52\"], \"font\": {\"color\": \"#2a3f5f\"}, \"geo\": {\"bgcolor\": \"white\", \"lakecolor\": \"white\", \"landcolor\": \"#E5ECF6\", \"showlakes\": true, \"showland\": true, \"subunitcolor\": \"white\"}, \"hoverlabel\": {\"align\": \"left\"}, \"hovermode\": \"closest\", \"mapbox\": {\"style\": \"light\"}, \"paper_bgcolor\": \"white\", \"plot_bgcolor\": \"#E5ECF6\", \"polar\": {\"angularaxis\": {\"gridcolor\": \"white\", \"linecolor\": \"white\", \"ticks\": \"\"}, \"bgcolor\": \"#E5ECF6\", \"radialaxis\": {\"gridcolor\": \"white\", \"linecolor\": \"white\", \"ticks\": \"\"}}, \"scene\": {\"xaxis\": {\"backgroundcolor\": \"#E5ECF6\", \"gridcolor\": \"white\", \"gridwidth\": 2, \"linecolor\": \"white\", \"showbackground\": true, \"ticks\": \"\", \"zerolinecolor\": \"white\"}, \"yaxis\": {\"backgroundcolor\": \"#E5ECF6\", \"gridcolor\": \"white\", \"gridwidth\": 2, \"linecolor\": \"white\", \"showbackground\": true, \"ticks\": \"\", \"zerolinecolor\": \"white\"}, \"zaxis\": {\"backgroundcolor\": \"#E5ECF6\", \"gridcolor\": \"white\", \"gridwidth\": 2, \"linecolor\": \"white\", \"showbackground\": true, \"ticks\": \"\", \"zerolinecolor\": \"white\"}}, \"shapedefaults\": {\"line\": {\"color\": \"#2a3f5f\"}}, \"ternary\": {\"aaxis\": {\"gridcolor\": \"white\", \"linecolor\": \"white\", \"ticks\": \"\"}, \"baxis\": {\"gridcolor\": \"white\", \"linecolor\": \"white\", \"ticks\": \"\"}, \"bgcolor\": \"#E5ECF6\", \"caxis\": {\"gridcolor\": \"white\", \"linecolor\": \"white\", \"ticks\": \"\"}}, \"title\": {\"x\": 0.05}, \"xaxis\": {\"automargin\": true, \"gridcolor\": \"white\", \"linecolor\": \"white\", \"ticks\": \"\", \"zerolinecolor\": \"white\", \"zerolinewidth\": 2}, \"yaxis\": {\"automargin\": true, \"gridcolor\": \"white\", \"linecolor\": \"white\", \"ticks\": \"\", \"zerolinecolor\": \"white\", \"zerolinewidth\": 2}}}, \"title\": {\"text\": \"\\uae30\\uad00\\ubcc4 \\uc778\\uc9c0-\\uae30\\uc220-\\ud0dc\\ub3c4 \\uc218\\uc900 \\uc99d\\uac00\\ud604\\ud669\", \"x\": 0.5, \"y\": 0.97}, \"xaxis\": {\"range\": [0, 1.5], \"title\": {\"font\": {\"size\": 13}, \"text\": \"\\uc99d\\uac00\\ubd84(5\\uc810\\uae30\\uc900)\"}}},\n",
              "                        {\"responsive\": true}\n",
              "                    ).then(function(){\n",
              "                            \n",
              "var gd = document.getElementById('c5eecdd8-e411-437b-af00-36b6856a6bdf');\n",
              "var x = new MutationObserver(function (mutations, observer) {{\n",
              "        var display = window.getComputedStyle(gd).display;\n",
              "        if (!display || display === 'none') {{\n",
              "            console.log([gd, 'removed!']);\n",
              "            Plotly.purge(gd);\n",
              "            observer.disconnect();\n",
              "        }}\n",
              "}});\n",
              "\n",
              "// Listen for the removal of the full notebook cells\n",
              "var notebookContainer = gd.closest('#notebook-container');\n",
              "if (notebookContainer) {{\n",
              "    x.observe(notebookContainer, {childList: true});\n",
              "}}\n",
              "\n",
              "// Listen for the clearing of the current output cell\n",
              "var outputEl = gd.closest('.output');\n",
              "if (outputEl) {{\n",
              "    x.observe(outputEl, {childList: true});\n",
              "}}\n",
              "\n",
              "                        })\n",
              "                };\n",
              "                \n",
              "            </script>\n",
              "        </div>\n",
              "</body>\n",
              "</html>"
            ]
          },
          "metadata": {
            "tags": []
          }
        }
      ]
    },
    {
      "cell_type": "code",
      "metadata": {
        "id": "lKNq663N4g4s",
        "colab_type": "code",
        "colab": {}
      },
      "source": [
        ""
      ],
      "execution_count": 0,
      "outputs": []
    },
    {
      "cell_type": "markdown",
      "metadata": {
        "id": "bs4Kljbd4g4t",
        "colab_type": "text"
      },
      "source": [
        "## 문항별,기관별 인지-기술-태도 수준 증가치 상관관계"
      ]
    },
    {
      "cell_type": "code",
      "metadata": {
        "id": "v6XZ3jaroUY2",
        "colab_type": "code",
        "colab": {
          "base_uri": "https://localhost:8080/",
          "height": 483
        },
        "outputId": "6311f86b-307f-4cb9-936f-c54786bc2dc2"
      },
      "source": [
        "pre_post_organ"
      ],
      "execution_count": 87,
      "outputs": [
        {
          "output_type": "execute_result",
          "data": {
            "text/html": [
              "<div>\n",
              "<style scoped>\n",
              "    .dataframe tbody tr th:only-of-type {\n",
              "        vertical-align: middle;\n",
              "    }\n",
              "\n",
              "    .dataframe tbody tr th {\n",
              "        vertical-align: top;\n",
              "    }\n",
              "\n",
              "    .dataframe thead th {\n",
              "        text-align: right;\n",
              "    }\n",
              "</style>\n",
              "<table border=\"1\" class=\"dataframe\">\n",
              "  <thead>\n",
              "    <tr style=\"text-align: right;\">\n",
              "      <th>기관</th>\n",
              "      <th>문항/기관</th>\n",
              "      <th>국제기구</th>\n",
              "      <th>민간기업</th>\n",
              "      <th>서울시</th>\n",
              "      <th>서울시 산하기관</th>\n",
              "      <th>중앙부처/ 산하기관</th>\n",
              "      <th>항목별 평균 증가치</th>\n",
              "      <th>항목별 평균 증가치(%)</th>\n",
              "    </tr>\n",
              "  </thead>\n",
              "  <tbody>\n",
              "    <tr>\n",
              "      <th>0</th>\n",
              "      <td>「서울시 우수정책 공유사업」 기술수준 증가치</td>\n",
              "      <td>1.000000</td>\n",
              "      <td>1.57</td>\n",
              "      <td>2.000</td>\n",
              "      <td>1.3300</td>\n",
              "      <td>2.2500</td>\n",
              "      <td>1.770</td>\n",
              "      <td>35.4</td>\n",
              "    </tr>\n",
              "    <tr>\n",
              "      <th>1</th>\n",
              "      <td>「서울시 우수정책 공유사업」 인지수준 증가치</td>\n",
              "      <td>1.000000</td>\n",
              "      <td>1.57</td>\n",
              "      <td>1.860</td>\n",
              "      <td>1.3300</td>\n",
              "      <td>2.7500</td>\n",
              "      <td>1.820</td>\n",
              "      <td>36.4</td>\n",
              "    </tr>\n",
              "    <tr>\n",
              "      <th>2</th>\n",
              "      <td>「서울시 우수정책 공유사업」 태도수준 증가치</td>\n",
              "      <td>2.000000</td>\n",
              "      <td>1.43</td>\n",
              "      <td>2.860</td>\n",
              "      <td>1.6700</td>\n",
              "      <td>1.0000</td>\n",
              "      <td>1.860</td>\n",
              "      <td>37.2</td>\n",
              "    </tr>\n",
              "    <tr>\n",
              "      <th>3</th>\n",
              "      <td>「해외도시인프라 환경 및 문화이해」 기술수준 증가치</td>\n",
              "      <td>2.000000</td>\n",
              "      <td>1.43</td>\n",
              "      <td>1.570</td>\n",
              "      <td>1.3300</td>\n",
              "      <td>2.2500</td>\n",
              "      <td>1.640</td>\n",
              "      <td>32.8</td>\n",
              "    </tr>\n",
              "    <tr>\n",
              "      <th>4</th>\n",
              "      <td>「해외도시인프라 환경 및 문화이해」 인지수준 증가치</td>\n",
              "      <td>2.000000</td>\n",
              "      <td>0.86</td>\n",
              "      <td>1.290</td>\n",
              "      <td>1.0000</td>\n",
              "      <td>0.5000</td>\n",
              "      <td>1.000</td>\n",
              "      <td>20.0</td>\n",
              "    </tr>\n",
              "    <tr>\n",
              "      <th>5</th>\n",
              "      <td>「해외도시인프라 환경 및 문화이해」 태도수준 증가치</td>\n",
              "      <td>1.000000</td>\n",
              "      <td>-0.14</td>\n",
              "      <td>0.570</td>\n",
              "      <td>0.3300</td>\n",
              "      <td>0.7500</td>\n",
              "      <td>0.360</td>\n",
              "      <td>7.2</td>\n",
              "    </tr>\n",
              "    <tr>\n",
              "      <th>6</th>\n",
              "      <td>「해외도시정책 및 국제개발협력」 기술수준 증가치</td>\n",
              "      <td>1.000000</td>\n",
              "      <td>1.14</td>\n",
              "      <td>2.140</td>\n",
              "      <td>1.3300</td>\n",
              "      <td>1.2500</td>\n",
              "      <td>1.500</td>\n",
              "      <td>30.0</td>\n",
              "    </tr>\n",
              "    <tr>\n",
              "      <th>7</th>\n",
              "      <td>「해외도시정책 및 국제개발협력」 인지수준 증가치</td>\n",
              "      <td>1.000000</td>\n",
              "      <td>1.14</td>\n",
              "      <td>1.710</td>\n",
              "      <td>1.6700</td>\n",
              "      <td>1.0000</td>\n",
              "      <td>1.360</td>\n",
              "      <td>27.2</td>\n",
              "    </tr>\n",
              "    <tr>\n",
              "      <th>8</th>\n",
              "      <td>「해외도시정책 및 국제개발협력」 태도수준 증가치</td>\n",
              "      <td>2.000000</td>\n",
              "      <td>-0.29</td>\n",
              "      <td>0.140</td>\n",
              "      <td>1.0000</td>\n",
              "      <td>1.2500</td>\n",
              "      <td>0.410</td>\n",
              "      <td>8.2</td>\n",
              "    </tr>\n",
              "    <tr>\n",
              "      <th>9</th>\n",
              "      <td>「해외사업수주기획 및 컨설팅의 이해」 기술수준 증가치</td>\n",
              "      <td>1.000000</td>\n",
              "      <td>0.86</td>\n",
              "      <td>1.710</td>\n",
              "      <td>1.3300</td>\n",
              "      <td>1.2500</td>\n",
              "      <td>1.270</td>\n",
              "      <td>25.4</td>\n",
              "    </tr>\n",
              "    <tr>\n",
              "      <th>10</th>\n",
              "      <td>「해외사업수주기획 및 컨설팅의 이해」 인지수준 증가치</td>\n",
              "      <td>2.000000</td>\n",
              "      <td>1.71</td>\n",
              "      <td>1.710</td>\n",
              "      <td>2.0000</td>\n",
              "      <td>2.0000</td>\n",
              "      <td>1.820</td>\n",
              "      <td>36.4</td>\n",
              "    </tr>\n",
              "    <tr>\n",
              "      <th>11</th>\n",
              "      <td>「해외사업수주기획 및 컨설팅의 이해」 태도수준 증가치</td>\n",
              "      <td>1.000000</td>\n",
              "      <td>0.00</td>\n",
              "      <td>0.860</td>\n",
              "      <td>1.6700</td>\n",
              "      <td>1.0000</td>\n",
              "      <td>0.730</td>\n",
              "      <td>14.6</td>\n",
              "    </tr>\n",
              "    <tr>\n",
              "      <th>12</th>\n",
              "      <td>기관별 평균 증가치</td>\n",
              "      <td>1.416667</td>\n",
              "      <td>0.94</td>\n",
              "      <td>1.535</td>\n",
              "      <td>1.3325</td>\n",
              "      <td>1.4375</td>\n",
              "      <td>1.295</td>\n",
              "      <td>25.9</td>\n",
              "    </tr>\n",
              "    <tr>\n",
              "      <th>13</th>\n",
              "      <td>기관별 평균 증가치(%)</td>\n",
              "      <td>28.333333</td>\n",
              "      <td>18.80</td>\n",
              "      <td>30.700</td>\n",
              "      <td>26.6500</td>\n",
              "      <td>28.7500</td>\n",
              "      <td>25.900</td>\n",
              "      <td>25.9</td>\n",
              "    </tr>\n",
              "  </tbody>\n",
              "</table>\n",
              "</div>"
            ],
            "text/plain": [
              "기관                          문항/기관       국제기구  ...  항목별 평균 증가치  항목별 평균 증가치(%)\n",
              "0        「서울시 우수정책 공유사업」 기술수준 증가치   1.000000  ...       1.770           35.4\n",
              "1        「서울시 우수정책 공유사업」 인지수준 증가치   1.000000  ...       1.820           36.4\n",
              "2        「서울시 우수정책 공유사업」 태도수준 증가치   2.000000  ...       1.860           37.2\n",
              "3    「해외도시인프라 환경 및 문화이해」 기술수준 증가치   2.000000  ...       1.640           32.8\n",
              "4    「해외도시인프라 환경 및 문화이해」 인지수준 증가치   2.000000  ...       1.000           20.0\n",
              "5    「해외도시인프라 환경 및 문화이해」 태도수준 증가치   1.000000  ...       0.360            7.2\n",
              "6      「해외도시정책 및 국제개발협력」 기술수준 증가치   1.000000  ...       1.500           30.0\n",
              "7      「해외도시정책 및 국제개발협력」 인지수준 증가치   1.000000  ...       1.360           27.2\n",
              "8      「해외도시정책 및 국제개발협력」 태도수준 증가치   2.000000  ...       0.410            8.2\n",
              "9   「해외사업수주기획 및 컨설팅의 이해」 기술수준 증가치   1.000000  ...       1.270           25.4\n",
              "10  「해외사업수주기획 및 컨설팅의 이해」 인지수준 증가치   2.000000  ...       1.820           36.4\n",
              "11  「해외사업수주기획 및 컨설팅의 이해」 태도수준 증가치   1.000000  ...       0.730           14.6\n",
              "12                     기관별 평균 증가치   1.416667  ...       1.295           25.9\n",
              "13                  기관별 평균 증가치(%)  28.333333  ...      25.900           25.9\n",
              "\n",
              "[14 rows x 8 columns]"
            ]
          },
          "metadata": {
            "tags": []
          },
          "execution_count": 87
        }
      ]
    },
    {
      "cell_type": "code",
      "metadata": {
        "id": "E5CowvhW4g4u",
        "colab_type": "code",
        "colab": {
          "base_uri": "https://localhost:8080/",
          "height": 235
        },
        "outputId": "52e767e0-761d-46cd-8ed2-5a90ed982641"
      },
      "source": [
        "pre_post_organ[\"문항/기관\"]."
      ],
      "execution_count": 78,
      "outputs": [
        {
          "output_type": "execute_result",
          "data": {
            "text/html": [
              "<div>\n",
              "<style scoped>\n",
              "    .dataframe tbody tr th:only-of-type {\n",
              "        vertical-align: middle;\n",
              "    }\n",
              "\n",
              "    .dataframe tbody tr th {\n",
              "        vertical-align: top;\n",
              "    }\n",
              "\n",
              "    .dataframe thead th {\n",
              "        text-align: right;\n",
              "    }\n",
              "</style>\n",
              "<table border=\"1\" class=\"dataframe\">\n",
              "  <thead>\n",
              "    <tr style=\"text-align: right;\">\n",
              "      <th>기관</th>\n",
              "      <th>국제기구</th>\n",
              "      <th>민간기업</th>\n",
              "      <th>서울시</th>\n",
              "      <th>서울시 산하기관</th>\n",
              "      <th>중앙부처/ 산하기관</th>\n",
              "    </tr>\n",
              "    <tr>\n",
              "      <th>기관</th>\n",
              "      <th></th>\n",
              "      <th></th>\n",
              "      <th></th>\n",
              "      <th></th>\n",
              "      <th></th>\n",
              "    </tr>\n",
              "  </thead>\n",
              "  <tbody>\n",
              "    <tr>\n",
              "      <th>국제기구</th>\n",
              "      <td>1.000000</td>\n",
              "      <td>0.109632</td>\n",
              "      <td>-0.025249</td>\n",
              "      <td>0.139272</td>\n",
              "      <td>-0.047287</td>\n",
              "    </tr>\n",
              "    <tr>\n",
              "      <th>민간기업</th>\n",
              "      <td>0.109632</td>\n",
              "      <td>1.000000</td>\n",
              "      <td>0.848066</td>\n",
              "      <td>0.582744</td>\n",
              "      <td>0.605731</td>\n",
              "    </tr>\n",
              "    <tr>\n",
              "      <th>서울시</th>\n",
              "      <td>-0.025249</td>\n",
              "      <td>0.848066</td>\n",
              "      <td>1.000000</td>\n",
              "      <td>0.551034</td>\n",
              "      <td>0.279245</td>\n",
              "    </tr>\n",
              "    <tr>\n",
              "      <th>서울시 산하기관</th>\n",
              "      <td>0.139272</td>\n",
              "      <td>0.582744</td>\n",
              "      <td>0.551034</td>\n",
              "      <td>1.000000</td>\n",
              "      <td>0.300313</td>\n",
              "    </tr>\n",
              "    <tr>\n",
              "      <th>중앙부처/ 산하기관</th>\n",
              "      <td>-0.047287</td>\n",
              "      <td>0.605731</td>\n",
              "      <td>0.279245</td>\n",
              "      <td>0.300313</td>\n",
              "      <td>1.000000</td>\n",
              "    </tr>\n",
              "  </tbody>\n",
              "</table>\n",
              "</div>"
            ],
            "text/plain": [
              "기관              국제기구      민간기업       서울시  서울시 산하기관  중앙부처/ 산하기관\n",
              "기관                                                            \n",
              "국제기구        1.000000  0.109632 -0.025249  0.139272   -0.047287\n",
              "민간기업        0.109632  1.000000  0.848066  0.582744    0.605731\n",
              "서울시        -0.025249  0.848066  1.000000  0.551034    0.279245\n",
              "서울시 산하기관    0.139272  0.582744  0.551034  1.000000    0.300313\n",
              "중앙부처/ 산하기관 -0.047287  0.605731  0.279245  0.300313    1.000000"
            ]
          },
          "metadata": {
            "tags": []
          },
          "execution_count": 78
        }
      ]
    },
    {
      "cell_type": "code",
      "metadata": {
        "id": "15QhJh0q4g4v",
        "colab_type": "code",
        "colab": {}
      },
      "source": [
        ""
      ],
      "execution_count": 0,
      "outputs": []
    }
  ]
}