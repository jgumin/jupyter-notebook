{
  "nbformat": 4,
  "nbformat_minor": 0,
  "metadata": {
    "accelerator": "GPU",
    "colab": {
      "name": "scp교육생분석.ipynb",
      "provenance": [],
      "collapsed_sections": [],
      "include_colab_link": true
    },
    "kernelspec": {
      "display_name": "Python 3",
      "language": "python",
      "name": "python3"
    },
    "language_info": {
      "codemirror_mode": {
        "name": "ipython",
        "version": 3
      },
      "file_extension": ".py",
      "mimetype": "text/x-python",
      "name": "python",
      "nbconvert_exporter": "python",
      "pygments_lexer": "ipython3",
      "version": "3.7.4"
    }
  },
  "cells": [
    {
      "cell_type": "markdown",
      "metadata": {
        "id": "view-in-github",
        "colab_type": "text"
      },
      "source": [
        "<a href=\"https://colab.research.google.com/github/jgumin/jupyter-notebook/blob/master/isus/scp%EA%B5%90%EC%9C%A1%EC%83%9D%EB%B6%84%EC%84%9D.ipynb\" target=\"_parent\"><img src=\"https://colab.research.google.com/assets/colab-badge.svg\" alt=\"Open In Colab\"/></a>"
      ]
    },
    {
      "cell_type": "markdown",
      "metadata": {
        "colab_type": "text",
        "id": "SAQAWRxeus1_"
      },
      "source": [
        "# scp_analysis\n"
      ]
    },
    {
      "cell_type": "code",
      "metadata": {
        "cellView": "both",
        "colab_type": "code",
        "id": "cZnG5jGs_LMD",
        "outputId": "89fcc436-69f4-417d-9255-58c14f0a1c54",
        "colab": {
          "base_uri": "https://localhost:8080/",
          "height": 194
        }
      },
      "source": [
        "!pip install plotly==4.2.1"
      ],
      "execution_count": 2,
      "outputs": [
        {
          "output_type": "stream",
          "text": [
            "Collecting plotly==4.2.1\n",
            "\u001b[?25l  Downloading https://files.pythonhosted.org/packages/f7/05/3c32c6bc85acbd30a18fbc3ba732fed5e48e5f8fd60d2a148877970f4a61/plotly-4.2.1-py2.py3-none-any.whl (7.2MB)\n",
            "\u001b[K     |████████████████████████████████| 7.2MB 6.5MB/s \n",
            "\u001b[?25hRequirement already satisfied: six in /usr/local/lib/python3.6/dist-packages (from plotly==4.2.1) (1.12.0)\n",
            "Requirement already satisfied: retrying>=1.3.3 in /usr/local/lib/python3.6/dist-packages (from plotly==4.2.1) (1.3.3)\n",
            "Installing collected packages: plotly\n",
            "  Found existing installation: plotly 4.1.1\n",
            "    Uninstalling plotly-4.1.1:\n",
            "      Successfully uninstalled plotly-4.1.1\n",
            "Successfully installed plotly-4.2.1\n"
          ],
          "name": "stdout"
        }
      ]
    },
    {
      "cell_type": "code",
      "metadata": {
        "colab_type": "code",
        "id": "J3HgGi3GubEN",
        "outputId": "f829e0b8-2cc8-48e4-d44b-005e47e26a26",
        "colab": {
          "base_uri": "https://localhost:8080/",
          "height": 1000
        }
      },
      "source": [
        "!pip install qgrid\n",
        "!jupyter nbextension enable --py --sys-prefix widgetsnbextension\n",
        "!jupyter nbextension enable --py --sys-prefix qgrid"
      ],
      "execution_count": 1,
      "outputs": [
        {
          "output_type": "stream",
          "text": [
            "Collecting qgrid\n",
            "\u001b[?25l  Downloading https://files.pythonhosted.org/packages/70/63/0e0827682889f1a4ee74191b8bebc2e6fca1d18927d8875af0e37044d2d3/qgrid-1.1.1.tar.gz (793kB)\n",
            "\r\u001b[K     |▍                               | 10kB 24.3MB/s eta 0:00:01\r\u001b[K     |▉                               | 20kB 4.1MB/s eta 0:00:01\r\u001b[K     |█▎                              | 30kB 5.6MB/s eta 0:00:01\r\u001b[K     |█▋                              | 40kB 4.1MB/s eta 0:00:01\r\u001b[K     |██                              | 51kB 5.0MB/s eta 0:00:01\r\u001b[K     |██▌                             | 61kB 5.8MB/s eta 0:00:01\r\u001b[K     |███                             | 71kB 6.6MB/s eta 0:00:01\r\u001b[K     |███▎                            | 81kB 7.4MB/s eta 0:00:01\r\u001b[K     |███▊                            | 92kB 8.1MB/s eta 0:00:01\r\u001b[K     |████▏                           | 102kB 6.6MB/s eta 0:00:01\r\u001b[K     |████▌                           | 112kB 6.6MB/s eta 0:00:01\r\u001b[K     |█████                           | 122kB 6.6MB/s eta 0:00:01\r\u001b[K     |█████▍                          | 133kB 6.6MB/s eta 0:00:01\r\u001b[K     |█████▉                          | 143kB 6.6MB/s eta 0:00:01\r\u001b[K     |██████▏                         | 153kB 6.6MB/s eta 0:00:01\r\u001b[K     |██████▋                         | 163kB 6.6MB/s eta 0:00:01\r\u001b[K     |███████                         | 174kB 6.6MB/s eta 0:00:01\r\u001b[K     |███████▍                        | 184kB 6.6MB/s eta 0:00:01\r\u001b[K     |███████▉                        | 194kB 6.6MB/s eta 0:00:01\r\u001b[K     |████████▎                       | 204kB 6.6MB/s eta 0:00:01\r\u001b[K     |████████▊                       | 215kB 6.6MB/s eta 0:00:01\r\u001b[K     |█████████                       | 225kB 6.6MB/s eta 0:00:01\r\u001b[K     |█████████▌                      | 235kB 6.6MB/s eta 0:00:01\r\u001b[K     |██████████                      | 245kB 6.6MB/s eta 0:00:01\r\u001b[K     |██████████▎                     | 256kB 6.6MB/s eta 0:00:01\r\u001b[K     |██████████▊                     | 266kB 6.6MB/s eta 0:00:01\r\u001b[K     |███████████▏                    | 276kB 6.6MB/s eta 0:00:01\r\u001b[K     |███████████▋                    | 286kB 6.6MB/s eta 0:00:01\r\u001b[K     |████████████                    | 296kB 6.6MB/s eta 0:00:01\r\u001b[K     |████████████▍                   | 307kB 6.6MB/s eta 0:00:01\r\u001b[K     |████████████▉                   | 317kB 6.6MB/s eta 0:00:01\r\u001b[K     |█████████████▏                  | 327kB 6.6MB/s eta 0:00:01\r\u001b[K     |█████████████▋                  | 337kB 6.6MB/s eta 0:00:01\r\u001b[K     |██████████████                  | 348kB 6.6MB/s eta 0:00:01\r\u001b[K     |██████████████▌                 | 358kB 6.6MB/s eta 0:00:01\r\u001b[K     |██████████████▉                 | 368kB 6.6MB/s eta 0:00:01\r\u001b[K     |███████████████▎                | 378kB 6.6MB/s eta 0:00:01\r\u001b[K     |███████████████▊                | 389kB 6.6MB/s eta 0:00:01\r\u001b[K     |████████████████                | 399kB 6.6MB/s eta 0:00:01\r\u001b[K     |████████████████▌               | 409kB 6.6MB/s eta 0:00:01\r\u001b[K     |█████████████████               | 419kB 6.6MB/s eta 0:00:01\r\u001b[K     |█████████████████▍              | 430kB 6.6MB/s eta 0:00:01\r\u001b[K     |█████████████████▊              | 440kB 6.6MB/s eta 0:00:01\r\u001b[K     |██████████████████▏             | 450kB 6.6MB/s eta 0:00:01\r\u001b[K     |██████████████████▋             | 460kB 6.6MB/s eta 0:00:01\r\u001b[K     |███████████████████             | 471kB 6.6MB/s eta 0:00:01\r\u001b[K     |███████████████████▍            | 481kB 6.6MB/s eta 0:00:01\r\u001b[K     |███████████████████▉            | 491kB 6.6MB/s eta 0:00:01\r\u001b[K     |████████████████████▎           | 501kB 6.6MB/s eta 0:00:01\r\u001b[K     |████████████████████▋           | 512kB 6.6MB/s eta 0:00:01\r\u001b[K     |█████████████████████           | 522kB 6.6MB/s eta 0:00:01\r\u001b[K     |█████████████████████▌          | 532kB 6.6MB/s eta 0:00:01\r\u001b[K     |██████████████████████          | 542kB 6.6MB/s eta 0:00:01\r\u001b[K     |██████████████████████▎         | 552kB 6.6MB/s eta 0:00:01\r\u001b[K     |██████████████████████▊         | 563kB 6.6MB/s eta 0:00:01\r\u001b[K     |███████████████████████▏        | 573kB 6.6MB/s eta 0:00:01\r\u001b[K     |███████████████████████▌        | 583kB 6.6MB/s eta 0:00:01\r\u001b[K     |████████████████████████        | 593kB 6.6MB/s eta 0:00:01\r\u001b[K     |████████████████████████▍       | 604kB 6.6MB/s eta 0:00:01\r\u001b[K     |████████████████████████▉       | 614kB 6.6MB/s eta 0:00:01\r\u001b[K     |█████████████████████████▏      | 624kB 6.6MB/s eta 0:00:01\r\u001b[K     |█████████████████████████▋      | 634kB 6.6MB/s eta 0:00:01\r\u001b[K     |██████████████████████████      | 645kB 6.6MB/s eta 0:00:01\r\u001b[K     |██████████████████████████▍     | 655kB 6.6MB/s eta 0:00:01\r\u001b[K     |██████████████████████████▉     | 665kB 6.6MB/s eta 0:00:01\r\u001b[K     |███████████████████████████▎    | 675kB 6.6MB/s eta 0:00:01\r\u001b[K     |███████████████████████████▊    | 686kB 6.6MB/s eta 0:00:01\r\u001b[K     |████████████████████████████    | 696kB 6.6MB/s eta 0:00:01\r\u001b[K     |████████████████████████████▌   | 706kB 6.6MB/s eta 0:00:01\r\u001b[K     |█████████████████████████████   | 716kB 6.6MB/s eta 0:00:01\r\u001b[K     |█████████████████████████████▎  | 727kB 6.6MB/s eta 0:00:01\r\u001b[K     |█████████████████████████████▊  | 737kB 6.6MB/s eta 0:00:01\r\u001b[K     |██████████████████████████████▏ | 747kB 6.6MB/s eta 0:00:01\r\u001b[K     |██████████████████████████████▋ | 757kB 6.6MB/s eta 0:00:01\r\u001b[K     |███████████████████████████████ | 768kB 6.6MB/s eta 0:00:01\r\u001b[K     |███████████████████████████████▍| 778kB 6.6MB/s eta 0:00:01\r\u001b[K     |███████████████████████████████▉| 788kB 6.6MB/s eta 0:00:01\r\u001b[K     |████████████████████████████████| 798kB 6.6MB/s \n",
            "\u001b[?25hRequirement already satisfied: notebook>=4.0.0 in /usr/local/lib/python3.6/dist-packages (from qgrid) (5.2.2)\n",
            "Requirement already satisfied: pandas>=0.18.0 in /usr/local/lib/python3.6/dist-packages (from qgrid) (0.25.2)\n",
            "Requirement already satisfied: ipywidgets>=7.0.0 in /usr/local/lib/python3.6/dist-packages (from qgrid) (7.5.1)\n",
            "Requirement already satisfied: jinja2 in /usr/local/lib/python3.6/dist-packages (from notebook>=4.0.0->qgrid) (2.10.3)\n",
            "Requirement already satisfied: tornado>=4 in /usr/local/lib/python3.6/dist-packages (from notebook>=4.0.0->qgrid) (4.5.3)\n",
            "Requirement already satisfied: nbconvert in /usr/local/lib/python3.6/dist-packages (from notebook>=4.0.0->qgrid) (5.6.1)\n",
            "Requirement already satisfied: terminado>=0.3.3; sys_platform != \"win32\" in /usr/local/lib/python3.6/dist-packages (from notebook>=4.0.0->qgrid) (0.8.2)\n",
            "Requirement already satisfied: nbformat in /usr/local/lib/python3.6/dist-packages (from notebook>=4.0.0->qgrid) (4.4.0)\n",
            "Requirement already satisfied: traitlets>=4.2.1 in /usr/local/lib/python3.6/dist-packages (from notebook>=4.0.0->qgrid) (4.3.3)\n",
            "Requirement already satisfied: jupyter-core in /usr/local/lib/python3.6/dist-packages (from notebook>=4.0.0->qgrid) (4.6.1)\n",
            "Requirement already satisfied: ipython-genutils in /usr/local/lib/python3.6/dist-packages (from notebook>=4.0.0->qgrid) (0.2.0)\n",
            "Requirement already satisfied: ipykernel in /usr/local/lib/python3.6/dist-packages (from notebook>=4.0.0->qgrid) (4.6.1)\n",
            "Requirement already satisfied: jupyter-client in /usr/local/lib/python3.6/dist-packages (from notebook>=4.0.0->qgrid) (5.3.4)\n",
            "Requirement already satisfied: pytz>=2017.2 in /usr/local/lib/python3.6/dist-packages (from pandas>=0.18.0->qgrid) (2018.9)\n",
            "Requirement already satisfied: numpy>=1.13.3 in /usr/local/lib/python3.6/dist-packages (from pandas>=0.18.0->qgrid) (1.17.3)\n",
            "Requirement already satisfied: python-dateutil>=2.6.1 in /usr/local/lib/python3.6/dist-packages (from pandas>=0.18.0->qgrid) (2.6.1)\n",
            "Requirement already satisfied: widgetsnbextension~=3.5.0 in /usr/local/lib/python3.6/dist-packages (from ipywidgets>=7.0.0->qgrid) (3.5.1)\n",
            "Requirement already satisfied: ipython>=4.0.0; python_version >= \"3.3\" in /usr/local/lib/python3.6/dist-packages (from ipywidgets>=7.0.0->qgrid) (5.5.0)\n",
            "Requirement already satisfied: MarkupSafe>=0.23 in /usr/local/lib/python3.6/dist-packages (from jinja2->notebook>=4.0.0->qgrid) (1.1.1)\n",
            "Requirement already satisfied: entrypoints>=0.2.2 in /usr/local/lib/python3.6/dist-packages (from nbconvert->notebook>=4.0.0->qgrid) (0.3)\n",
            "Requirement already satisfied: defusedxml in /usr/local/lib/python3.6/dist-packages (from nbconvert->notebook>=4.0.0->qgrid) (0.6.0)\n",
            "Requirement already satisfied: testpath in /usr/local/lib/python3.6/dist-packages (from nbconvert->notebook>=4.0.0->qgrid) (0.4.2)\n",
            "Requirement already satisfied: bleach in /usr/local/lib/python3.6/dist-packages (from nbconvert->notebook>=4.0.0->qgrid) (3.1.0)\n",
            "Requirement already satisfied: mistune<2,>=0.8.1 in /usr/local/lib/python3.6/dist-packages (from nbconvert->notebook>=4.0.0->qgrid) (0.8.4)\n",
            "Requirement already satisfied: pandocfilters>=1.4.1 in /usr/local/lib/python3.6/dist-packages (from nbconvert->notebook>=4.0.0->qgrid) (1.4.2)\n",
            "Requirement already satisfied: pygments in /usr/local/lib/python3.6/dist-packages (from nbconvert->notebook>=4.0.0->qgrid) (2.1.3)\n",
            "Requirement already satisfied: ptyprocess; os_name != \"nt\" in /usr/local/lib/python3.6/dist-packages (from terminado>=0.3.3; sys_platform != \"win32\"->notebook>=4.0.0->qgrid) (0.6.0)\n",
            "Requirement already satisfied: jsonschema!=2.5.0,>=2.4 in /usr/local/lib/python3.6/dist-packages (from nbformat->notebook>=4.0.0->qgrid) (2.6.0)\n",
            "Requirement already satisfied: decorator in /usr/local/lib/python3.6/dist-packages (from traitlets>=4.2.1->notebook>=4.0.0->qgrid) (4.4.1)\n",
            "Requirement already satisfied: six in /usr/local/lib/python3.6/dist-packages (from traitlets>=4.2.1->notebook>=4.0.0->qgrid) (1.12.0)\n",
            "Requirement already satisfied: pyzmq>=13 in /usr/local/lib/python3.6/dist-packages (from jupyter-client->notebook>=4.0.0->qgrid) (17.0.0)\n",
            "Requirement already satisfied: simplegeneric>0.8 in /usr/local/lib/python3.6/dist-packages (from ipython>=4.0.0; python_version >= \"3.3\"->ipywidgets>=7.0.0->qgrid) (0.8.1)\n",
            "Requirement already satisfied: pexpect; sys_platform != \"win32\" in /usr/local/lib/python3.6/dist-packages (from ipython>=4.0.0; python_version >= \"3.3\"->ipywidgets>=7.0.0->qgrid) (4.7.0)\n",
            "Requirement already satisfied: prompt-toolkit<2.0.0,>=1.0.4 in /usr/local/lib/python3.6/dist-packages (from ipython>=4.0.0; python_version >= \"3.3\"->ipywidgets>=7.0.0->qgrid) (1.0.18)\n",
            "Requirement already satisfied: pickleshare in /usr/local/lib/python3.6/dist-packages (from ipython>=4.0.0; python_version >= \"3.3\"->ipywidgets>=7.0.0->qgrid) (0.7.5)\n",
            "Requirement already satisfied: setuptools>=18.5 in /usr/local/lib/python3.6/dist-packages (from ipython>=4.0.0; python_version >= \"3.3\"->ipywidgets>=7.0.0->qgrid) (41.4.0)\n",
            "Requirement already satisfied: webencodings in /usr/local/lib/python3.6/dist-packages (from bleach->nbconvert->notebook>=4.0.0->qgrid) (0.5.1)\n",
            "Requirement already satisfied: wcwidth in /usr/local/lib/python3.6/dist-packages (from prompt-toolkit<2.0.0,>=1.0.4->ipython>=4.0.0; python_version >= \"3.3\"->ipywidgets>=7.0.0->qgrid) (0.1.7)\n",
            "Building wheels for collected packages: qgrid\n",
            "  Building wheel for qgrid (setup.py) ... \u001b[?25l\u001b[?25hdone\n",
            "  Created wheel for qgrid: filename=qgrid-1.1.1-py2.py3-none-any.whl size=1555709 sha256=53d6ed9e0f6fafe81f59fc9c147fa687251130b387204d9c1b26f2a43f4ce3b6\n",
            "  Stored in directory: /root/.cache/pip/wheels/97/71/37/8423045f66492c2b48ba9e968257ff7fdc7c941e2656380441\n",
            "Successfully built qgrid\n",
            "Installing collected packages: qgrid\n",
            "Successfully installed qgrid-1.1.1\n",
            "Enabling notebook extension jupyter-js-widgets/extension...\n",
            "      - Validating: \u001b[32mOK\u001b[0m\n",
            "Traceback (most recent call last):\n",
            "  File \"/usr/local/bin/jupyter-nbextension\", line 8, in <module>\n",
            "    sys.exit(main())\n",
            "  File \"/usr/local/lib/python2.7/dist-packages/jupyter_core/application.py\", line 267, in launch_instance\n",
            "    return super(JupyterApp, cls).launch_instance(argv=argv, **kwargs)\n",
            "  File \"/usr/local/lib/python2.7/dist-packages/traitlets/config/application.py\", line 658, in launch_instance\n",
            "    app.start()\n",
            "  File \"/usr/local/lib/python2.7/dist-packages/notebook/nbextensions.py\", line 988, in start\n",
            "    super(NBExtensionApp, self).start()\n",
            "  File \"/usr/local/lib/python2.7/dist-packages/jupyter_core/application.py\", line 256, in start\n",
            "    self.subapp.start()\n",
            "  File \"/usr/local/lib/python2.7/dist-packages/notebook/nbextensions.py\", line 896, in start\n",
            "    self.toggle_nbextension_python(self.extra_args[0])\n",
            "  File \"/usr/local/lib/python2.7/dist-packages/notebook/nbextensions.py\", line 872, in toggle_nbextension_python\n",
            "    logger=self.log)\n",
            "  File \"/usr/local/lib/python2.7/dist-packages/notebook/nbextensions.py\", line 483, in enable_nbextension_python\n",
            "    logger=logger)\n",
            "  File \"/usr/local/lib/python2.7/dist-packages/notebook/nbextensions.py\", line 380, in _set_nbextension_state_python\n",
            "    m, nbexts = _get_nbextension_metadata(module)\n",
            "  File \"/usr/local/lib/python2.7/dist-packages/notebook/nbextensions.py\", line 1122, in _get_nbextension_metadata\n",
            "    m = import_item(module)\n",
            "  File \"/usr/local/lib/python2.7/dist-packages/traitlets/utils/importstring.py\", line 42, in import_item\n",
            "    return __import__(parts[0])\n",
            "ImportError: No module named qgrid\n"
          ],
          "name": "stdout"
        }
      ]
    },
    {
      "cell_type": "code",
      "metadata": {
        "cellView": "both",
        "colab_type": "code",
        "id": "fn5AhKOK95MP",
        "colab": {}
      },
      "source": [
        "# 노트북 안에서 그래프를 그리기 위해\n",
        "%matplotlib inline\n",
        "# %matplotlib nbagg\n",
        "    \n",
        "import pandas as pd\n",
        "import numpy as np\n",
        "import matplotlib.pyplot as plt\n",
        "import seaborn as sns\n",
        "import qgrid\n",
        "plt.rcParams['figure.figsize'] = [10, 6]\n",
        "\n",
        "\n",
        "# Suppress Deprecation and Incorrect Usage Warnings \n",
        "import warnings\n",
        "warnings.filterwarnings('ignore')\n",
        "\n",
        "# #  display two pandas tables side by side\n",
        "# from IPython.display import display, HTML\n",
        "# CSS = \"\"\"\n",
        "# .output {\n",
        "#     flex-direction: row;\n",
        "# }\n",
        "# \"\"\"\n",
        "# HTML('<style>{}</style>'.format(CSS))\n",
        "\n",
        "\n",
        "# 기본 글꼴 변경\n",
        "import matplotlib as mpl\n",
        "mpl.font_manager._rebuild()\n",
        "mpl.pyplot.rc('font', family='NanumBarunGothic')\n",
        "\n",
        "# allow multiple outputs\n",
        "# from IPython.core.interactiveshell import InteractiveShell\n",
        "# InteractiveShell.ast_node_interactivity = \"all\"\n",
        "\n",
        "# allow image input\n",
        "from IPython.display import Image\n",
        "from IPython.display import display"
      ],
      "execution_count": 0,
      "outputs": []
    },
    {
      "cell_type": "code",
      "metadata": {
        "cellView": "both",
        "colab_type": "code",
        "id": "WQMsczZXLCe5",
        "colab": {}
      },
      "source": [
        "Image('https://i.stack.imgur.com/ScJfR.png')"
      ],
      "execution_count": 0,
      "outputs": []
    },
    {
      "cell_type": "code",
      "metadata": {
        "colab_type": "code",
        "id": "TxhhDCIcxQ2q",
        "colab": {}
      },
      "source": [
        "# qg = qgrid.show_grid(df, show_toolbar = True, \n",
        "#                 grid_options={'fullWidthRows': True,'syncColumnCellResize': True,\n",
        "#                               'forceFitColumns': True, 'rowHeight': 40,\n",
        "#                               'enableColumnReorder': True,'editable': True,\n",
        "#                               'enableTextSelectionOnCells': True}\n",
        "#                               )"
      ],
      "execution_count": 0,
      "outputs": []
    },
    {
      "cell_type": "markdown",
      "metadata": {
        "colab_type": "text",
        "id": "jq8RvkBJFsmx"
      },
      "source": [
        "# Library Importing(plotly 4.2.1)"
      ]
    },
    {
      "cell_type": "code",
      "metadata": {
        "cellView": "both",
        "colab_type": "code",
        "id": "148pDlGfNAVo",
        "outputId": "69ce2bf8-7c23-4014-b36b-cf8313ffd0c3",
        "colab": {
          "base_uri": "https://localhost:8080/",
          "height": 34
        }
      },
      "source": [
        "from plotly import __version__\n",
        "print (__version__)\n",
        "import plotly.express as px\n",
        "from plotly.subplots import make_subplots\n",
        "import plotly.graph_objs as go\n",
        "import plotly.figure_factory as ff\n",
        "\n",
        "# Display all cell outputs\n",
        "from IPython.core.interactiveshell import InteractiveShell\n",
        "\n",
        "# Jupyter setup\n",
        "# init_notebook_mode(connected=True)\n",
        "\n",
        "import ipywidgets as widgets"
      ],
      "execution_count": 4,
      "outputs": [
        {
          "output_type": "stream",
          "text": [
            "4.2.1\n"
          ],
          "name": "stdout"
        }
      ]
    },
    {
      "cell_type": "code",
      "metadata": {
        "cellView": "both",
        "colab_type": "code",
        "id": "FtE7_WMYF4uh",
        "colab": {}
      },
      "source": [
        "import plotly\n",
        "from plotly import tools\n",
        "\n",
        "# plotly + cufflinks in offline mode\n",
        "from plotly.offline import download_plotlyjs, init_notebook_mode, plot, iplot"
      ],
      "execution_count": 0,
      "outputs": []
    },
    {
      "cell_type": "markdown",
      "metadata": {
        "colab_type": "text",
        "id": "xVhdqRHoF3w0"
      },
      "source": [
        "# Library Importing(plotly 3.6.1)"
      ]
    },
    {
      "cell_type": "code",
      "metadata": {
        "cellView": "both",
        "colab_type": "code",
        "id": "bQydt3KwFpgL",
        "colab": {}
      },
      "source": [
        "from plotly import __version__\n",
        "print (__version__)\n",
        "import plotly\n",
        "from plotly import tools\n",
        "import plotly.plotly as py\n",
        "import plotly.graph_objs as go\n",
        "import plotly.figure_factory as ff\n",
        "\n",
        "# Cufflinks wrapper on plotly\n",
        "import cufflinks as cf\n",
        "\n",
        "# Display all cell outputs\n",
        "from IPython.core.interactiveshell import InteractiveShell\n",
        "\n",
        "# plotly + cufflinks in offline mode\n",
        "from plotly.offline import download_plotlyjs, init_notebook_mode, plot, iplot\n",
        "cf.go_offline()\n",
        "\n",
        "# set the global theme\n",
        "cf.set_config_file(world_readable=True, theme='pearl', offline=True)\n",
        "\n",
        "# Jupyter setup\n",
        "init_notebook_mode(connected=True)\n",
        "\n",
        "import ipywidgets as widgets"
      ],
      "execution_count": 0,
      "outputs": []
    },
    {
      "cell_type": "code",
      "metadata": {
        "cellView": "both",
        "colab_type": "code",
        "id": "mVTfU_xf_tAs",
        "colab": {}
      },
      "source": [
        "def configure_plotly_browser_state():\n",
        "  import IPython\n",
        "  display(IPython.core.display.HTML('''\n",
        "        <script src=\"/static/components/requirejs/require.js\"></script>\n",
        "        <script>\n",
        "          requirejs.config({\n",
        "            paths: {\n",
        "              base: '/static/base',\n",
        "              plotly: 'https://cdn.plot.ly/plotly-latest.min.js?noext',\n",
        "            },\n",
        "          });\n",
        "        </script>\n",
        "        '''))"
      ],
      "execution_count": 0,
      "outputs": []
    },
    {
      "cell_type": "markdown",
      "metadata": {
        "colab_type": "text",
        "id": "GpUf3xigGASR"
      },
      "source": [
        "# plotly 테마 설정"
      ]
    },
    {
      "cell_type": "markdown",
      "metadata": {
        "colab_type": "text",
        "id": "zHbaUvIZEiYn"
      },
      "source": [
        "theming 참고1: https://medium.com/plotly/introducing-plotly-py-theming-b644109ac9c7<br>\n",
        "theming 참고2: https://nbviewer.jupyter.org/github/jonmmease/plotly.py_release_notebooks/blob/master/notebooks/v3.4.0/templates-gapminder.ipynb <br>\n",
        "기본theme설정/해제 참고: https://plot.ly/python/templates/#specifying-a-default-themes "
      ]
    },
    {
      "cell_type": "code",
      "metadata": {
        "cellView": "both",
        "colab_type": "code",
        "id": "00lai7EnHjQy",
        "colab": {}
      },
      "source": [
        "import plotly.io as pio\n",
        "pio.templates.default = \"plotly\" # ['ggplot2', 'seaborn', 'plotly','plotly_white', 'plotly_dark','presentation', 'xgridoff', 'none']\n",
        "\n",
        "# small-font default\n",
        "\n",
        "# fig = go.Figure(layout={\n",
        "#     'title' : 'Figure Title',\n",
        "#     'font' : {'size': 11,\n",
        "#               # 'family': 'Courier'\n",
        "#               }\n",
        "# })\n",
        "\n",
        "# templated_fig = pio.to_templated(fig)\n",
        "# pio.templates['font11'] = templated_fig.layout.template\n",
        "\n",
        "# pio.templates.default = 'font11'\n",
        "\n",
        "# large-font default\n",
        "\n",
        "# fig = go.Figure(layout={\n",
        "#     'title' : 'Figure Title',\n",
        "#     'font' : {'size': 15, 'family': 'Courier'}\n",
        "# })\n",
        "\n",
        "# templated_fig = pio.to_templated(fig)\n",
        "# pio.templates['large_courier'] = templated_fig.layout.template\n",
        "\n",
        "# pio.templates.default = 'large_courier'"
      ],
      "execution_count": 0,
      "outputs": []
    },
    {
      "cell_type": "code",
      "metadata": {
        "cellView": "both",
        "colab_type": "code",
        "id": "NClWYj6RQyeO",
        "colab": {}
      },
      "source": [
        "scp = pd.read_excel('../content/지원자현황.xlsx', sheet_name='기본정보')\n",
        "scp_reg = scp.query(\"등록여부 == '등록'\").sort_values(by='국문성명')\n",
        "pre = pd.read_excel('../content/지원자현황.xlsx', sheet_name='사전설문조사결과')\n",
        "post = pd.read_excel('../content/지원자현황.xlsx', sheet_name='사후설문조사결과')\n",
        "lec = pd.read_excel('../content/지원자현황.xlsx', sheet_name='강의평가결과')"
      ],
      "execution_count": 0,
      "outputs": []
    },
    {
      "cell_type": "code",
      "metadata": {
        "colab_type": "code",
        "id": "2LAi0j1Mh3kW",
        "colab": {}
      },
      "source": [
        "pre_als = \\\n",
        "scp[['국문성명', '영문성명', '생년월일', '나이', '총경력',\n",
        "     '관심분야(대)-편집','소속분류(대)', '재직구분','전문분야(대)',\n",
        "     '실습대상국', '실습분야', '소속기관', '대표직위', '보직',\n",
        "     '직급', '실․국', '부서']].merge(pre, left_on='국문성명',right_on='성명'\n",
        "     ).drop(['ID','시작 시간', '완료 시간', '전자 메일','성명', '기관',\n",
        "             '기관(응답)', '근속년수','근속년수(응답)', '생년'], axis=1\n",
        "      ).rename(columns={'관심분야(대)-편집':'관심분야',\n",
        "                         '소속분류(대)':'소속분류','전문분야(대)':'전문분야'})"
      ],
      "execution_count": 0,
      "outputs": []
    },
    {
      "cell_type": "code",
      "metadata": {
        "colab_type": "code",
        "id": "ivu9Mw3yhq26",
        "colab": {}
      },
      "source": [
        ""
      ],
      "execution_count": 0,
      "outputs": []
    },
    {
      "cell_type": "markdown",
      "metadata": {
        "colab_type": "text",
        "id": "wn9iM4ENIL2J"
      },
      "source": [
        "# 교육생 인지적 영역 사전 조사 결과"
      ]
    },
    {
      "cell_type": "markdown",
      "metadata": {
        "colab_type": "text",
        "id": "kq6NotbolASZ"
      },
      "source": [
        "## 학습영역 간 상관관계"
      ]
    },
    {
      "cell_type": "markdown",
      "metadata": {
        "colab_type": "text",
        "id": "OiaVwHCdRmh5"
      },
      "source": [
        "■ 학습내용 A : 서울시 우수정책 공유사업<br>\n",
        "■ 학습내용 B : 해외도시정책 및 국제개발협력<br>\n",
        "■ 학습내용 C : 해외사업수주기획 및 컨설팅의 이해<br>\n",
        "■ 학습내용 D : 해외도시인프라 환경 및 문화이해"
      ]
    },
    {
      "cell_type": "markdown",
      "metadata": {
        "colab_type": "text",
        "id": "MfN167syh1nK"
      },
      "source": [
        "### 학습내용 관련 컬럼 추출"
      ]
    },
    {
      "cell_type": "code",
      "metadata": {
        "colab_type": "code",
        "id": "dM4bK9Dmdcqc",
        "outputId": "16a98535-ddb9-46da-d7f8-6e2cd3c7a026",
        "colab": {
          "base_uri": "https://localhost:8080/",
          "height": 145
        }
      },
      "source": [
        "pre_corr = \\\n",
        "pre_als[\n",
        "pre_als.columns[pre_als.columns.str.contains('학습내용')]\n",
        "]\n",
        "\n",
        "pre_corr.columns\n",
        "# 또는 pre_als.filter(like=\"학습내용\").corr()"
      ],
      "execution_count": 0,
      "outputs": [
        {
          "output_type": "execute_result",
          "data": {
            "text/plain": [
              "Index(['인지적 (Knowledge) 영역 - 학습내용 A', '인지적 (Knowledge) 영역 - 학습내용 B',\n",
              "       '인지적 (Knowledge) 영역 - 학습내용 C', '인지적 (Knowledge) 영역 - 학습내용 D',\n",
              "       '기술적 (Skill) 영역 - 학습내용 A', '기술적 (Skill) 영역 - 학습내용 B',\n",
              "       '기술적 (Skill) 영역 - 학습내용 C', '기술적 (Skill) 영역 - 학습내용 D',\n",
              "       '태도적 (Attidtude) 영역 - 학습내용 A', '태도적 (Attidtude) 영역 - 학습내용 B',\n",
              "       '태도적 (Attidtude) 영역 - 학습내용 C', '태도적 (Attidtude) 영역 - 학습내용 D'],\n",
              "      dtype='object')"
            ]
          },
          "metadata": {
            "tags": []
          },
          "execution_count": 66
        }
      ]
    },
    {
      "cell_type": "markdown",
      "metadata": {
        "colab_type": "text",
        "id": "pR2VwnNKiY8Z"
      },
      "source": [
        "### 컬럼명 편집 - 괄호 및 괄호 내 문자 삭제"
      ]
    },
    {
      "cell_type": "code",
      "metadata": {
        "colab_type": "code",
        "id": "t2y9_gq0iAjh",
        "colab": {}
      },
      "source": [
        "pre_corr.columns = pre_corr.filter(like=\"(\").columns.str.replace(r'\\([^)]*\\)', '')"
      ],
      "execution_count": 0,
      "outputs": []
    },
    {
      "cell_type": "code",
      "metadata": {
        "colab_type": "code",
        "id": "P8znxdZXi9VS",
        "outputId": "cbd6f95d-dd94-47f7-8634-1324190583d1",
        "colab": {
          "base_uri": "https://localhost:8080/",
          "height": 108
        }
      },
      "source": [
        "pre_corr.columns"
      ],
      "execution_count": 0,
      "outputs": [
        {
          "output_type": "execute_result",
          "data": {
            "text/plain": [
              "Index(['인지적  영역 - 학습내용 A', '인지적  영역 - 학습내용 B', '인지적  영역 - 학습내용 C',\n",
              "       '인지적  영역 - 학습내용 D', '기술적  영역 - 학습내용 A', '기술적  영역 - 학습내용 B',\n",
              "       '기술적  영역 - 학습내용 C', '기술적  영역 - 학습내용 D', '태도적  영역 - 학습내용 A',\n",
              "       '태도적  영역 - 학습내용 B', '태도적  영역 - 학습내용 C', '태도적  영역 - 학습내용 D'],\n",
              "      dtype='object')"
            ]
          },
          "metadata": {
            "tags": []
          },
          "execution_count": 68
        }
      ]
    },
    {
      "cell_type": "markdown",
      "metadata": {
        "colab_type": "text",
        "id": "4NCytI2PkpmY"
      },
      "source": [
        "### 영역별 상관관계 "
      ]
    },
    {
      "cell_type": "code",
      "metadata": {
        "colab_type": "code",
        "id": "RBzdsyBQjCuT",
        "colab": {}
      },
      "source": [
        "pre_corr.corr().round(2).to_excel('학습영역 간 상관관계.xlsx')"
      ],
      "execution_count": 0,
      "outputs": []
    },
    {
      "cell_type": "code",
      "metadata": {
        "colab_type": "code",
        "id": "yTLN5-jtlASb",
        "colab": {}
      },
      "source": [
        ""
      ],
      "execution_count": 0,
      "outputs": []
    },
    {
      "cell_type": "markdown",
      "metadata": {
        "colab_type": "text",
        "id": "t2_XSJa1xIRc"
      },
      "source": [
        "## 영역 간 비교분석"
      ]
    },
    {
      "cell_type": "markdown",
      "metadata": {
        "colab_type": "text",
        "id": "fRhDIodEv-f2"
      },
      "source": [
        "### 각 영역 내 학습내용별 그룹별 평균"
      ]
    },
    {
      "cell_type": "code",
      "metadata": {
        "colab_type": "code",
        "id": "xUM855BmhDSn",
        "outputId": "c8fa6e54-d572-4f26-8d39-fb349976e72f",
        "colab": {
          "base_uri": "https://localhost:8080/",
          "height": 408
        }
      },
      "source": [
        "pre_group = pre_als.groupby(pre_als['소속분류'])\n",
        "\n",
        "pre_score = pre_group[pre_als.filter(like=\"학습내용\").columns].apply(lambda x: x.mean()).round(2).T\n",
        "pre_score['평균'] = pre_group[pre_als.filter(like=\"학습내용\").columns].apply(lambda x: x.mean()).round(2).T.mean(axis=1).round(2)\n",
        "pre_score"
      ],
      "execution_count": 0,
      "outputs": [
        {
          "output_type": "execute_result",
          "data": {
            "text/html": [
              "<div>\n",
              "<style scoped>\n",
              "    .dataframe tbody tr th:only-of-type {\n",
              "        vertical-align: middle;\n",
              "    }\n",
              "\n",
              "    .dataframe tbody tr th {\n",
              "        vertical-align: top;\n",
              "    }\n",
              "\n",
              "    .dataframe thead th {\n",
              "        text-align: right;\n",
              "    }\n",
              "</style>\n",
              "<table border=\"1\" class=\"dataframe\">\n",
              "  <thead>\n",
              "    <tr style=\"text-align: right;\">\n",
              "      <th>소속분류</th>\n",
              "      <th>국제기구</th>\n",
              "      <th>민간기업</th>\n",
              "      <th>서울시</th>\n",
              "      <th>서울시 산하기관</th>\n",
              "      <th>중앙부처/산하기관</th>\n",
              "      <th>평균</th>\n",
              "    </tr>\n",
              "  </thead>\n",
              "  <tbody>\n",
              "    <tr>\n",
              "      <th>인지적 (Knowledge) 영역 - 학습내용 A</th>\n",
              "      <td>3.0</td>\n",
              "      <td>2.43</td>\n",
              "      <td>2.25</td>\n",
              "      <td>2.33</td>\n",
              "      <td>1.75</td>\n",
              "      <td>2.35</td>\n",
              "    </tr>\n",
              "    <tr>\n",
              "      <th>인지적 (Knowledge) 영역 - 학습내용 B</th>\n",
              "      <td>3.0</td>\n",
              "      <td>2.57</td>\n",
              "      <td>1.62</td>\n",
              "      <td>2.67</td>\n",
              "      <td>3.25</td>\n",
              "      <td>2.62</td>\n",
              "    </tr>\n",
              "    <tr>\n",
              "      <th>인지적 (Knowledge) 영역 - 학습내용 C</th>\n",
              "      <td>2.0</td>\n",
              "      <td>2.14</td>\n",
              "      <td>1.50</td>\n",
              "      <td>2.00</td>\n",
              "      <td>2.50</td>\n",
              "      <td>2.03</td>\n",
              "    </tr>\n",
              "    <tr>\n",
              "      <th>인지적 (Knowledge) 영역 - 학습내용 D</th>\n",
              "      <td>3.0</td>\n",
              "      <td>2.86</td>\n",
              "      <td>1.62</td>\n",
              "      <td>2.67</td>\n",
              "      <td>3.50</td>\n",
              "      <td>2.73</td>\n",
              "    </tr>\n",
              "    <tr>\n",
              "      <th>기술적 (Skill) 영역 - 학습내용 A</th>\n",
              "      <td>3.0</td>\n",
              "      <td>2.43</td>\n",
              "      <td>1.88</td>\n",
              "      <td>2.33</td>\n",
              "      <td>2.00</td>\n",
              "      <td>2.33</td>\n",
              "    </tr>\n",
              "    <tr>\n",
              "      <th>기술적 (Skill) 영역 - 학습내용 B</th>\n",
              "      <td>3.0</td>\n",
              "      <td>2.57</td>\n",
              "      <td>1.38</td>\n",
              "      <td>2.67</td>\n",
              "      <td>3.00</td>\n",
              "      <td>2.52</td>\n",
              "    </tr>\n",
              "    <tr>\n",
              "      <th>기술적 (Skill) 영역 - 학습내용 C</th>\n",
              "      <td>3.0</td>\n",
              "      <td>2.29</td>\n",
              "      <td>1.50</td>\n",
              "      <td>2.33</td>\n",
              "      <td>2.00</td>\n",
              "      <td>2.22</td>\n",
              "    </tr>\n",
              "    <tr>\n",
              "      <th>기술적 (Skill) 영역 - 학습내용 D</th>\n",
              "      <td>3.0</td>\n",
              "      <td>3.00</td>\n",
              "      <td>1.62</td>\n",
              "      <td>2.33</td>\n",
              "      <td>3.25</td>\n",
              "      <td>2.64</td>\n",
              "    </tr>\n",
              "    <tr>\n",
              "      <th>태도적 (Attidtude) 영역 - 학습내용 A</th>\n",
              "      <td>3.0</td>\n",
              "      <td>4.43</td>\n",
              "      <td>3.38</td>\n",
              "      <td>3.33</td>\n",
              "      <td>3.00</td>\n",
              "      <td>3.43</td>\n",
              "    </tr>\n",
              "    <tr>\n",
              "      <th>태도적 (Attidtude) 영역 - 학습내용 B</th>\n",
              "      <td>4.0</td>\n",
              "      <td>4.29</td>\n",
              "      <td>3.25</td>\n",
              "      <td>2.67</td>\n",
              "      <td>3.25</td>\n",
              "      <td>3.49</td>\n",
              "    </tr>\n",
              "    <tr>\n",
              "      <th>태도적 (Attidtude) 영역 - 학습내용 C</th>\n",
              "      <td>4.0</td>\n",
              "      <td>4.29</td>\n",
              "      <td>3.38</td>\n",
              "      <td>3.67</td>\n",
              "      <td>3.50</td>\n",
              "      <td>3.77</td>\n",
              "    </tr>\n",
              "    <tr>\n",
              "      <th>태도적 (Attidtude) 영역 - 학습내용 D</th>\n",
              "      <td>4.0</td>\n",
              "      <td>4.29</td>\n",
              "      <td>3.25</td>\n",
              "      <td>3.67</td>\n",
              "      <td>3.75</td>\n",
              "      <td>3.79</td>\n",
              "    </tr>\n",
              "  </tbody>\n",
              "</table>\n",
              "</div>"
            ],
            "text/plain": [
              "소속분류                         국제기구  민간기업   서울시  서울시 산하기관  중앙부처/산하기관    평균\n",
              "인지적 (Knowledge) 영역 - 학습내용 A   3.0  2.43  2.25      2.33       1.75  2.35\n",
              "인지적 (Knowledge) 영역 - 학습내용 B   3.0  2.57  1.62      2.67       3.25  2.62\n",
              "인지적 (Knowledge) 영역 - 학습내용 C   2.0  2.14  1.50      2.00       2.50  2.03\n",
              "인지적 (Knowledge) 영역 - 학습내용 D   3.0  2.86  1.62      2.67       3.50  2.73\n",
              "기술적 (Skill) 영역 - 학습내용 A       3.0  2.43  1.88      2.33       2.00  2.33\n",
              "기술적 (Skill) 영역 - 학습내용 B       3.0  2.57  1.38      2.67       3.00  2.52\n",
              "기술적 (Skill) 영역 - 학습내용 C       3.0  2.29  1.50      2.33       2.00  2.22\n",
              "기술적 (Skill) 영역 - 학습내용 D       3.0  3.00  1.62      2.33       3.25  2.64\n",
              "태도적 (Attidtude) 영역 - 학습내용 A   3.0  4.43  3.38      3.33       3.00  3.43\n",
              "태도적 (Attidtude) 영역 - 학습내용 B   4.0  4.29  3.25      2.67       3.25  3.49\n",
              "태도적 (Attidtude) 영역 - 학습내용 C   4.0  4.29  3.38      3.67       3.50  3.77\n",
              "태도적 (Attidtude) 영역 - 학습내용 D   4.0  4.29  3.25      3.67       3.75  3.79"
            ]
          },
          "metadata": {
            "tags": []
          },
          "execution_count": 69
        }
      ]
    },
    {
      "cell_type": "code",
      "metadata": {
        "colab_type": "code",
        "id": "GY1MtVFHxsdF",
        "colab": {}
      },
      "source": [
        "pre_score.to_excel('영역간비교분석.xlsx')"
      ],
      "execution_count": 0,
      "outputs": []
    },
    {
      "cell_type": "markdown",
      "metadata": {
        "colab_type": "text",
        "id": "khAo-n9YvcZH"
      },
      "source": [
        "### 해외사업수주기획 및 컨설팅의 이해\"과 \"서울시 우수정책 공유사업\" 간 그룹별 평균의 차"
      ]
    },
    {
      "cell_type": "code",
      "metadata": {
        "colab_type": "code",
        "id": "OQZ6oxOARqy8",
        "outputId": "37c38bb2-f680-44db-a48a-608daa6f690d",
        "colab": {
          "base_uri": "https://localhost:8080/",
          "height": 126
        }
      },
      "source": [
        "print('\"해외사업수주기획 및 컨설팅의 이해\"과 \"서울시 우수정책 공유사업\" 간 인지적 영역 편차')\n",
        "\n",
        "for x in range(5):\n",
        "  print(str(x+1) + \". \" +\\\n",
        "        pre_group['인지적 (Knowledge) 영역 - 학습내용 C'].mean().index[x] + \" : \" +\\\n",
        "        str((pre_group['인지적 (Knowledge) 영역 - 학습내용 A'].mean()[x]-\\\n",
        "            pre_group['인지적 (Knowledge) 영역 - 학습내용 C'].mean()[x]).round(2)))"
      ],
      "execution_count": 0,
      "outputs": [
        {
          "output_type": "stream",
          "text": [
            "\"해외사업수주기획 및 컨설팅의 이해\"과 \"서울시 우수정책 공유사업\" 간 인지적 영역 편차\n",
            "1. 국제기구 : 1.0\n",
            "2. 민간기업 : 0.29\n",
            "3. 서울시 : 0.75\n",
            "4. 서울시 산하기관 : 0.33\n",
            "5. 중앙부처/산하기관 : -0.75\n"
          ],
          "name": "stdout"
        }
      ]
    },
    {
      "cell_type": "markdown",
      "metadata": {
        "colab_type": "text",
        "id": "mi1_S_Jwud-9"
      },
      "source": [
        "### 각 영역별 학습내용간 그룹별 표준편차"
      ]
    },
    {
      "cell_type": "code",
      "metadata": {
        "colab_type": "code",
        "id": "DUrrsZ6vsfBF",
        "outputId": "d9e28bc4-2849-4c67-bf89-a3dddda92a12",
        "colab": {
          "base_uri": "https://localhost:8080/",
          "height": 72
        }
      },
      "source": [
        "print(\"인지적 영역의 학습내용간 그룹별 표준편차: \"+str(dict(pre_score[pre_score.index.str.contains(\"인지적\")].std().round(2)[0:5])).replace('{','(').replace('}',')'))\n",
        "print(\"기술적 영역의 학습내용간 그룹별 표준편차: \"+str(dict(pre_score[pre_score.index.str.contains(\"기술적\")].std().round(2)[0:5])).replace('{','(').replace('}',')'))\n",
        "print(\"태도적 영역의 학습내용간 그룹별 표준편차: \"+str(dict(pre_score[pre_score.index.str.contains(\"태도적\")].std().round(2)[0:5])).replace('{','(').replace('}',')'))"
      ],
      "execution_count": 0,
      "outputs": [
        {
          "output_type": "stream",
          "text": [
            "인지적 영역의 학습내용간 그룹별 표준편차: ('국제기구': 0.5, '민간기업': 0.3, '서울시': 0.34, '서울시 산하기관': 0.32, '중앙부처/산하기관': 0.79)\n",
            "기술적 영역의 학습내용간 그룹별 표준편차: ('국제기구': 0.0, '민간기업': 0.31, '서울시': 0.21, '서울시 산하기관': 0.17, '중앙부처/산하기관': 0.66)\n",
            "태도적 영역의 학습내용간 그룹별 표준편차: ('국제기구': 0.5, '민간기업': 0.07, '서울시': 0.08, '서울시 산하기관': 0.47, '중앙부처/산하기관': 0.32)\n"
          ],
          "name": "stdout"
        }
      ]
    },
    {
      "cell_type": "code",
      "metadata": {
        "colab_type": "code",
        "id": "O41E_NVUlASW",
        "colab": {}
      },
      "source": [
        ""
      ],
      "execution_count": 0,
      "outputs": []
    },
    {
      "cell_type": "code",
      "metadata": {
        "colab_type": "code",
        "id": "K_eZSbsswXYz",
        "colab": {}
      },
      "source": [
        ""
      ],
      "execution_count": 0,
      "outputs": []
    },
    {
      "cell_type": "markdown",
      "metadata": {
        "colab_type": "text",
        "id": "oaeFGx0C2-hs"
      },
      "source": [
        "## 소속별 인지적 영역 수준 평균"
      ]
    },
    {
      "cell_type": "code",
      "metadata": {
        "colab_type": "code",
        "id": "-a3E7NiAuzsM",
        "outputId": "943892a2-a925-4d7a-832a-f9cd868883a3",
        "colab": {
          "base_uri": "https://localhost:8080/",
          "height": 542
        }
      },
      "source": [
        "fig = go.Figure(data = [\n",
        "    go.Bar(\n",
        "      x=pre_group['인지적 (Knowledge) 영역 - 학습내용 A'].mean().index,\n",
        "      y=pre_group['인지적 (Knowledge) 영역 - 학습내용 A'].mean().round(2), \n",
        "      name='학습내용 A', \n",
        "      marker_color='rgb(55, 83, 109)',\n",
        "      text=pre_group['인지적 (Knowledge) 영역 - 학습내용 A'].mean().round(2),\n",
        "      textposition='auto'),\n",
        "    go.Bar(\n",
        "      x=pre_group['인지적 (Knowledge) 영역 - 학습내용 B'].mean().index,\n",
        "      y=pre_group['인지적 (Knowledge) 영역 - 학습내용 B'].mean().round(2), \n",
        "      name='학습내용 B', \n",
        "      marker_color='rgba(55, 83, 109, 0.8)',\n",
        "      text=pre_group['인지적 (Knowledge) 영역 - 학습내용 B'].mean().round(2),\n",
        "      textposition='auto'),\n",
        "    go.Bar(\n",
        "      x=pre_group['인지적 (Knowledge) 영역 - 학습내용 C'].mean().index,\n",
        "      y=pre_group['인지적 (Knowledge) 영역 - 학습내용 C'].mean().round(2), \n",
        "      name='학습내용 C', \n",
        "      marker_color='rgb(26, 118, 255)',\n",
        "      text=pre_group['인지적 (Knowledge) 영역 - 학습내용 C'].mean().round(2),\n",
        "      textposition='auto'),\n",
        "    go.Bar(\n",
        "      x=pre_group['인지적 (Knowledge) 영역 - 학습내용 D'].mean().index,\n",
        "      y=pre_group['인지적 (Knowledge) 영역 - 학습내용 D'].mean().round(2), \n",
        "      name='학습내용 D', \n",
        "      marker_color='rgba(26, 118, 255, 0.8)',\n",
        "      text=pre_group['인지적 (Knowledge) 영역 - 학습내용 D'].mean().round(2),\n",
        "      textposition='auto')\n",
        "    ]\n",
        ")\n",
        "\n",
        "fig.update_layout(\n",
        "    title=dict(text=\"소속그룹별 인지적 영역 수준 평균\", x = 0.5),\n",
        "    legend=dict(x=0.2, y=1.1, orientation=\"h\"),\n",
        "    barmode='group',\n",
        "    bargap=0.15,\n",
        "    bargroupgap=0.1,\n",
        "    # width=1500,\n",
        "    # height=800,\n",
        ")\n",
        "\n",
        "fig.update_xaxes(tickfont_size=13)\n",
        "fig.update_yaxes(tickfont_size=13)\n",
        "\n",
        "fig.show()"
      ],
      "execution_count": 0,
      "outputs": [
        {
          "output_type": "display_data",
          "data": {
            "text/html": [
              "<html>\n",
              "<head><meta charset=\"utf-8\" /></head>\n",
              "<body>\n",
              "    <div>\n",
              "            <script src=\"https://cdnjs.cloudflare.com/ajax/libs/mathjax/2.7.5/MathJax.js?config=TeX-AMS-MML_SVG\"></script><script type=\"text/javascript\">if (window.MathJax) {MathJax.Hub.Config({SVG: {font: \"STIX-Web\"}});}</script>\n",
              "                <script type=\"text/javascript\">window.PlotlyConfig = {MathJaxConfig: 'local'};</script>\n",
              "        <script src=\"https://cdn.plot.ly/plotly-latest.min.js\"></script>    \n",
              "            <div id=\"1d2191cd-d5ae-4bc9-8a16-648d5c0142c5\" class=\"plotly-graph-div\" style=\"height:525px; width:100%;\"></div>\n",
              "            <script type=\"text/javascript\">\n",
              "                \n",
              "                    window.PLOTLYENV=window.PLOTLYENV || {};\n",
              "                    \n",
              "                if (document.getElementById(\"1d2191cd-d5ae-4bc9-8a16-648d5c0142c5\")) {\n",
              "                    Plotly.newPlot(\n",
              "                        '1d2191cd-d5ae-4bc9-8a16-648d5c0142c5',\n",
              "                        [{\"marker\": {\"color\": \"rgb(55, 83, 109)\"}, \"name\": \"\\ud559\\uc2b5\\ub0b4\\uc6a9 A\", \"text\": [3.0, 2.43, 2.25, 2.33, 1.75], \"textposition\": \"auto\", \"type\": \"bar\", \"x\": [\"\\uad6d\\uc81c\\uae30\\uad6c\", \"\\ubbfc\\uac04\\uae30\\uc5c5\", \"\\uc11c\\uc6b8\\uc2dc\", \"\\uc11c\\uc6b8\\uc2dc \\uc0b0\\ud558\\uae30\\uad00\", \"\\uc911\\uc559\\ubd80\\ucc98/\\uc0b0\\ud558\\uae30\\uad00\"], \"y\": [3.0, 2.43, 2.25, 2.33, 1.75]}, {\"marker\": {\"color\": \"rgba(55, 83, 109, 0.8)\"}, \"name\": \"\\ud559\\uc2b5\\ub0b4\\uc6a9 B\", \"text\": [3.0, 2.57, 1.62, 2.67, 3.25], \"textposition\": \"auto\", \"type\": \"bar\", \"x\": [\"\\uad6d\\uc81c\\uae30\\uad6c\", \"\\ubbfc\\uac04\\uae30\\uc5c5\", \"\\uc11c\\uc6b8\\uc2dc\", \"\\uc11c\\uc6b8\\uc2dc \\uc0b0\\ud558\\uae30\\uad00\", \"\\uc911\\uc559\\ubd80\\ucc98/\\uc0b0\\ud558\\uae30\\uad00\"], \"y\": [3.0, 2.57, 1.62, 2.67, 3.25]}, {\"marker\": {\"color\": \"rgb(26, 118, 255)\"}, \"name\": \"\\ud559\\uc2b5\\ub0b4\\uc6a9 C\", \"text\": [2.0, 2.14, 1.5, 2.0, 2.5], \"textposition\": \"auto\", \"type\": \"bar\", \"x\": [\"\\uad6d\\uc81c\\uae30\\uad6c\", \"\\ubbfc\\uac04\\uae30\\uc5c5\", \"\\uc11c\\uc6b8\\uc2dc\", \"\\uc11c\\uc6b8\\uc2dc \\uc0b0\\ud558\\uae30\\uad00\", \"\\uc911\\uc559\\ubd80\\ucc98/\\uc0b0\\ud558\\uae30\\uad00\"], \"y\": [2.0, 2.14, 1.5, 2.0, 2.5]}, {\"marker\": {\"color\": \"rgba(26, 118, 255, 0.8)\"}, \"name\": \"\\ud559\\uc2b5\\ub0b4\\uc6a9 D\", \"text\": [3.0, 2.86, 1.62, 2.67, 3.5], \"textposition\": \"auto\", \"type\": \"bar\", \"x\": [\"\\uad6d\\uc81c\\uae30\\uad6c\", \"\\ubbfc\\uac04\\uae30\\uc5c5\", \"\\uc11c\\uc6b8\\uc2dc\", \"\\uc11c\\uc6b8\\uc2dc \\uc0b0\\ud558\\uae30\\uad00\", \"\\uc911\\uc559\\ubd80\\ucc98/\\uc0b0\\ud558\\uae30\\uad00\"], \"y\": [3.0, 2.86, 1.62, 2.67, 3.5]}],\n",
              "                        {\"bargap\": 0.15, \"bargroupgap\": 0.1, \"barmode\": \"group\", \"legend\": {\"orientation\": \"h\", \"x\": 0.2, \"y\": 1.1}, \"template\": {\"data\": {\"bar\": [{\"error_x\": {\"color\": \"#2a3f5f\"}, \"error_y\": {\"color\": \"#2a3f5f\"}, \"marker\": {\"line\": {\"color\": \"#E5ECF6\", \"width\": 0.5}}, \"type\": \"bar\"}], \"barpolar\": [{\"marker\": {\"line\": {\"color\": \"#E5ECF6\", \"width\": 0.5}}, \"type\": \"barpolar\"}], \"carpet\": [{\"aaxis\": {\"endlinecolor\": \"#2a3f5f\", \"gridcolor\": \"white\", \"linecolor\": \"white\", \"minorgridcolor\": \"white\", \"startlinecolor\": \"#2a3f5f\"}, \"baxis\": {\"endlinecolor\": \"#2a3f5f\", \"gridcolor\": \"white\", \"linecolor\": \"white\", \"minorgridcolor\": \"white\", \"startlinecolor\": \"#2a3f5f\"}, \"type\": \"carpet\"}], \"choropleth\": [{\"colorbar\": {\"outlinewidth\": 0, \"ticks\": \"\"}, \"type\": \"choropleth\"}], \"contour\": [{\"colorbar\": {\"outlinewidth\": 0, \"ticks\": \"\"}, \"colorscale\": [[0.0, \"#0d0887\"], [0.1111111111111111, \"#46039f\"], [0.2222222222222222, \"#7201a8\"], [0.3333333333333333, \"#9c179e\"], [0.4444444444444444, \"#bd3786\"], [0.5555555555555556, \"#d8576b\"], [0.6666666666666666, \"#ed7953\"], [0.7777777777777778, \"#fb9f3a\"], [0.8888888888888888, \"#fdca26\"], [1.0, \"#f0f921\"]], \"type\": \"contour\"}], \"contourcarpet\": [{\"colorbar\": {\"outlinewidth\": 0, \"ticks\": \"\"}, \"type\": \"contourcarpet\"}], \"heatmap\": [{\"colorbar\": {\"outlinewidth\": 0, \"ticks\": \"\"}, \"colorscale\": [[0.0, \"#0d0887\"], [0.1111111111111111, \"#46039f\"], [0.2222222222222222, \"#7201a8\"], [0.3333333333333333, \"#9c179e\"], [0.4444444444444444, \"#bd3786\"], [0.5555555555555556, \"#d8576b\"], [0.6666666666666666, \"#ed7953\"], [0.7777777777777778, \"#fb9f3a\"], [0.8888888888888888, \"#fdca26\"], [1.0, \"#f0f921\"]], \"type\": \"heatmap\"}], \"heatmapgl\": [{\"colorbar\": {\"outlinewidth\": 0, \"ticks\": \"\"}, \"colorscale\": [[0.0, \"#0d0887\"], [0.1111111111111111, \"#46039f\"], [0.2222222222222222, \"#7201a8\"], [0.3333333333333333, \"#9c179e\"], [0.4444444444444444, \"#bd3786\"], [0.5555555555555556, \"#d8576b\"], [0.6666666666666666, \"#ed7953\"], [0.7777777777777778, \"#fb9f3a\"], [0.8888888888888888, \"#fdca26\"], [1.0, \"#f0f921\"]], \"type\": \"heatmapgl\"}], \"histogram\": [{\"marker\": {\"colorbar\": {\"outlinewidth\": 0, \"ticks\": \"\"}}, \"type\": \"histogram\"}], \"histogram2d\": [{\"colorbar\": {\"outlinewidth\": 0, \"ticks\": \"\"}, \"colorscale\": [[0.0, \"#0d0887\"], [0.1111111111111111, \"#46039f\"], [0.2222222222222222, \"#7201a8\"], [0.3333333333333333, \"#9c179e\"], [0.4444444444444444, \"#bd3786\"], [0.5555555555555556, \"#d8576b\"], [0.6666666666666666, \"#ed7953\"], [0.7777777777777778, \"#fb9f3a\"], [0.8888888888888888, \"#fdca26\"], [1.0, \"#f0f921\"]], \"type\": \"histogram2d\"}], \"histogram2dcontour\": [{\"colorbar\": {\"outlinewidth\": 0, \"ticks\": \"\"}, \"colorscale\": [[0.0, \"#0d0887\"], [0.1111111111111111, \"#46039f\"], [0.2222222222222222, \"#7201a8\"], [0.3333333333333333, \"#9c179e\"], [0.4444444444444444, \"#bd3786\"], [0.5555555555555556, \"#d8576b\"], [0.6666666666666666, \"#ed7953\"], [0.7777777777777778, \"#fb9f3a\"], [0.8888888888888888, \"#fdca26\"], [1.0, \"#f0f921\"]], \"type\": \"histogram2dcontour\"}], \"mesh3d\": [{\"colorbar\": {\"outlinewidth\": 0, \"ticks\": \"\"}, \"type\": \"mesh3d\"}], \"parcoords\": [{\"line\": {\"colorbar\": {\"outlinewidth\": 0, \"ticks\": \"\"}}, \"type\": \"parcoords\"}], \"scatter\": [{\"marker\": {\"colorbar\": {\"outlinewidth\": 0, \"ticks\": \"\"}}, \"type\": \"scatter\"}], \"scatter3d\": [{\"line\": {\"colorbar\": {\"outlinewidth\": 0, \"ticks\": \"\"}}, \"marker\": {\"colorbar\": {\"outlinewidth\": 0, \"ticks\": \"\"}}, \"type\": \"scatter3d\"}], \"scattercarpet\": [{\"marker\": {\"colorbar\": {\"outlinewidth\": 0, \"ticks\": \"\"}}, \"type\": \"scattercarpet\"}], \"scattergeo\": [{\"marker\": {\"colorbar\": {\"outlinewidth\": 0, \"ticks\": \"\"}}, \"type\": \"scattergeo\"}], \"scattergl\": [{\"marker\": {\"colorbar\": {\"outlinewidth\": 0, \"ticks\": \"\"}}, \"type\": \"scattergl\"}], \"scattermapbox\": [{\"marker\": {\"colorbar\": {\"outlinewidth\": 0, \"ticks\": \"\"}}, \"type\": \"scattermapbox\"}], \"scatterpolar\": [{\"marker\": {\"colorbar\": {\"outlinewidth\": 0, \"ticks\": \"\"}}, \"type\": \"scatterpolar\"}], \"scatterpolargl\": [{\"marker\": {\"colorbar\": {\"outlinewidth\": 0, \"ticks\": \"\"}}, \"type\": \"scatterpolargl\"}], \"scatterternary\": [{\"marker\": {\"colorbar\": {\"outlinewidth\": 0, \"ticks\": \"\"}}, \"type\": \"scatterternary\"}], \"surface\": [{\"colorbar\": {\"outlinewidth\": 0, \"ticks\": \"\"}, \"colorscale\": [[0.0, \"#0d0887\"], [0.1111111111111111, \"#46039f\"], [0.2222222222222222, \"#7201a8\"], [0.3333333333333333, \"#9c179e\"], [0.4444444444444444, \"#bd3786\"], [0.5555555555555556, \"#d8576b\"], [0.6666666666666666, \"#ed7953\"], [0.7777777777777778, \"#fb9f3a\"], [0.8888888888888888, \"#fdca26\"], [1.0, \"#f0f921\"]], \"type\": \"surface\"}], \"table\": [{\"cells\": {\"fill\": {\"color\": \"#EBF0F8\"}, \"line\": {\"color\": \"white\"}}, \"header\": {\"fill\": {\"color\": \"#C8D4E3\"}, \"line\": {\"color\": \"white\"}}, \"type\": \"table\"}]}, \"layout\": {\"annotationdefaults\": {\"arrowcolor\": \"#2a3f5f\", \"arrowhead\": 0, \"arrowwidth\": 1}, \"colorscale\": {\"diverging\": [[0, \"#8e0152\"], [0.1, \"#c51b7d\"], [0.2, \"#de77ae\"], [0.3, \"#f1b6da\"], [0.4, \"#fde0ef\"], [0.5, \"#f7f7f7\"], [0.6, \"#e6f5d0\"], [0.7, \"#b8e186\"], [0.8, \"#7fbc41\"], [0.9, \"#4d9221\"], [1, \"#276419\"]], \"sequential\": [[0.0, \"#0d0887\"], [0.1111111111111111, \"#46039f\"], [0.2222222222222222, \"#7201a8\"], [0.3333333333333333, \"#9c179e\"], [0.4444444444444444, \"#bd3786\"], [0.5555555555555556, \"#d8576b\"], [0.6666666666666666, \"#ed7953\"], [0.7777777777777778, \"#fb9f3a\"], [0.8888888888888888, \"#fdca26\"], [1.0, \"#f0f921\"]], \"sequentialminus\": [[0.0, \"#0d0887\"], [0.1111111111111111, \"#46039f\"], [0.2222222222222222, \"#7201a8\"], [0.3333333333333333, \"#9c179e\"], [0.4444444444444444, \"#bd3786\"], [0.5555555555555556, \"#d8576b\"], [0.6666666666666666, \"#ed7953\"], [0.7777777777777778, \"#fb9f3a\"], [0.8888888888888888, \"#fdca26\"], [1.0, \"#f0f921\"]]}, \"colorway\": [\"#636efa\", \"#EF553B\", \"#00cc96\", \"#ab63fa\", \"#FFA15A\", \"#19d3f3\", \"#FF6692\", \"#B6E880\", \"#FF97FF\", \"#FECB52\"], \"font\": {\"color\": \"#2a3f5f\"}, \"geo\": {\"bgcolor\": \"white\", \"lakecolor\": \"white\", \"landcolor\": \"#E5ECF6\", \"showlakes\": true, \"showland\": true, \"subunitcolor\": \"white\"}, \"hoverlabel\": {\"align\": \"left\"}, \"hovermode\": \"closest\", \"mapbox\": {\"style\": \"light\"}, \"paper_bgcolor\": \"white\", \"plot_bgcolor\": \"#E5ECF6\", \"polar\": {\"angularaxis\": {\"gridcolor\": \"white\", \"linecolor\": \"white\", \"ticks\": \"\"}, \"bgcolor\": \"#E5ECF6\", \"radialaxis\": {\"gridcolor\": \"white\", \"linecolor\": \"white\", \"ticks\": \"\"}}, \"scene\": {\"xaxis\": {\"backgroundcolor\": \"#E5ECF6\", \"gridcolor\": \"white\", \"gridwidth\": 2, \"linecolor\": \"white\", \"showbackground\": true, \"ticks\": \"\", \"zerolinecolor\": \"white\"}, \"yaxis\": {\"backgroundcolor\": \"#E5ECF6\", \"gridcolor\": \"white\", \"gridwidth\": 2, \"linecolor\": \"white\", \"showbackground\": true, \"ticks\": \"\", \"zerolinecolor\": \"white\"}, \"zaxis\": {\"backgroundcolor\": \"#E5ECF6\", \"gridcolor\": \"white\", \"gridwidth\": 2, \"linecolor\": \"white\", \"showbackground\": true, \"ticks\": \"\", \"zerolinecolor\": \"white\"}}, \"shapedefaults\": {\"line\": {\"color\": \"#2a3f5f\"}}, \"ternary\": {\"aaxis\": {\"gridcolor\": \"white\", \"linecolor\": \"white\", \"ticks\": \"\"}, \"baxis\": {\"gridcolor\": \"white\", \"linecolor\": \"white\", \"ticks\": \"\"}, \"bgcolor\": \"#E5ECF6\", \"caxis\": {\"gridcolor\": \"white\", \"linecolor\": \"white\", \"ticks\": \"\"}}, \"title\": {\"x\": 0.05}, \"xaxis\": {\"automargin\": true, \"gridcolor\": \"white\", \"linecolor\": \"white\", \"ticks\": \"\", \"zerolinecolor\": \"white\", \"zerolinewidth\": 2}, \"yaxis\": {\"automargin\": true, \"gridcolor\": \"white\", \"linecolor\": \"white\", \"ticks\": \"\", \"zerolinecolor\": \"white\", \"zerolinewidth\": 2}}}, \"title\": {\"text\": \"\\uc18c\\uc18d\\uadf8\\ub8f9\\ubcc4 \\uc778\\uc9c0\\uc801 \\uc601\\uc5ed \\uc218\\uc900 \\ud3c9\\uade0\", \"x\": 0.5}, \"xaxis\": {\"tickfont\": {\"size\": 13}}, \"yaxis\": {\"tickfont\": {\"size\": 13}}},\n",
              "                        {\"responsive\": true}\n",
              "                    ).then(function(){\n",
              "                            \n",
              "var gd = document.getElementById('1d2191cd-d5ae-4bc9-8a16-648d5c0142c5');\n",
              "var x = new MutationObserver(function (mutations, observer) {{\n",
              "        var display = window.getComputedStyle(gd).display;\n",
              "        if (!display || display === 'none') {{\n",
              "            console.log([gd, 'removed!']);\n",
              "            Plotly.purge(gd);\n",
              "            observer.disconnect();\n",
              "        }}\n",
              "}});\n",
              "\n",
              "// Listen for the removal of the full notebook cells\n",
              "var notebookContainer = gd.closest('#notebook-container');\n",
              "if (notebookContainer) {{\n",
              "    x.observe(notebookContainer, {childList: true});\n",
              "}}\n",
              "\n",
              "// Listen for the clearing of the current output cell\n",
              "var outputEl = gd.closest('.output');\n",
              "if (outputEl) {{\n",
              "    x.observe(outputEl, {childList: true});\n",
              "}}\n",
              "\n",
              "                        })\n",
              "                };\n",
              "                \n",
              "            </script>\n",
              "        </div>\n",
              "</body>\n",
              "</html>"
            ]
          },
          "metadata": {
            "tags": []
          }
        }
      ]
    },
    {
      "cell_type": "code",
      "metadata": {
        "colab_type": "code",
        "id": "PHDkhrKR1SVE",
        "colab": {}
      },
      "source": [
        ""
      ],
      "execution_count": 0,
      "outputs": []
    },
    {
      "cell_type": "markdown",
      "metadata": {
        "colab_type": "text",
        "id": "px8NZJB21ksj"
      },
      "source": [
        "## 소속별 기술적 영역 수준 평균"
      ]
    },
    {
      "cell_type": "code",
      "metadata": {
        "colab_type": "code",
        "id": "MSHjHbGf1qTC",
        "outputId": "87f96e12-3c8a-4ba2-c774-b7ca388ea6c4",
        "colab": {
          "base_uri": "https://localhost:8080/",
          "height": 542
        }
      },
      "source": [
        "fig = go.Figure(data = [\n",
        "    go.Bar(\n",
        "      x=pre_group['기술적 (Skill) 영역 - 학습내용 A'].mean().index,\n",
        "      y=pre_group['기술적 (Skill) 영역 - 학습내용 A'].mean().round(2), \n",
        "      name='학습내용 A', \n",
        "      marker_color='rgb(55, 83, 109)',\n",
        "      text=pre_group['기술적 (Skill) 영역 - 학습내용 A'].mean().round(2),\n",
        "      textposition='auto'),\n",
        "    go.Bar(\n",
        "      x=pre_group['기술적 (Skill) 영역 - 학습내용 B'].mean().index,\n",
        "      y=pre_group['기술적 (Skill) 영역 - 학습내용 B'].mean().round(2), \n",
        "      name='학습내용 B', \n",
        "      marker_color='rgba(55, 83, 109, 0.8)',\n",
        "      text=pre_group['기술적 (Skill) 영역 - 학습내용 B'].mean().round(2),\n",
        "      textposition='auto'),\n",
        "    go.Bar(\n",
        "      x=pre_group['기술적 (Skill) 영역 - 학습내용 C'].mean().index,\n",
        "      y=pre_group['기술적 (Skill) 영역 - 학습내용 C'].mean().round(2), \n",
        "      name='학습내용 C', \n",
        "      marker_color='rgb(26, 118, 255)',\n",
        "      text=pre_group['기술적 (Skill) 영역 - 학습내용 C'].mean().round(2),\n",
        "      textposition='auto'),\n",
        "    go.Bar(\n",
        "      x=pre_group['기술적 (Skill) 영역 - 학습내용 D'].mean().index,\n",
        "      y=pre_group['기술적 (Skill) 영역 - 학습내용 D'].mean().round(2), \n",
        "      name='학습내용 D', \n",
        "      marker_color='rgba(26, 118, 255, 0.8)',\n",
        "      text=pre_group['기술적 (Skill) 영역 - 학습내용 D'].mean().round(2),\n",
        "      textposition='auto')\n",
        "    ]\n",
        ")\n",
        "\n",
        "fig.update_layout(\n",
        "    title=dict(text=\"소속그룹별 기술적 영역 수준 평균\", x = 0.5),\n",
        "    legend=dict(x=0.2, y=1.1, orientation=\"h\"),\n",
        "    barmode='group',\n",
        "    bargap=0.15,\n",
        "    bargroupgap=0.1,\n",
        "    # width=1500,\n",
        "    # height=800,\n",
        ")\n",
        "\n",
        "fig.update_xaxes(tickfont_size=13)\n",
        "fig.update_yaxes(tickfont_size=13)\n",
        "\n",
        "fig.show()"
      ],
      "execution_count": 0,
      "outputs": [
        {
          "output_type": "display_data",
          "data": {
            "text/html": [
              "<html>\n",
              "<head><meta charset=\"utf-8\" /></head>\n",
              "<body>\n",
              "    <div>\n",
              "            <script src=\"https://cdnjs.cloudflare.com/ajax/libs/mathjax/2.7.5/MathJax.js?config=TeX-AMS-MML_SVG\"></script><script type=\"text/javascript\">if (window.MathJax) {MathJax.Hub.Config({SVG: {font: \"STIX-Web\"}});}</script>\n",
              "                <script type=\"text/javascript\">window.PlotlyConfig = {MathJaxConfig: 'local'};</script>\n",
              "        <script src=\"https://cdn.plot.ly/plotly-latest.min.js\"></script>    \n",
              "            <div id=\"e60bc892-7ea4-4f50-abc1-5eafc3a3925f\" class=\"plotly-graph-div\" style=\"height:525px; width:100%;\"></div>\n",
              "            <script type=\"text/javascript\">\n",
              "                \n",
              "                    window.PLOTLYENV=window.PLOTLYENV || {};\n",
              "                    \n",
              "                if (document.getElementById(\"e60bc892-7ea4-4f50-abc1-5eafc3a3925f\")) {\n",
              "                    Plotly.newPlot(\n",
              "                        'e60bc892-7ea4-4f50-abc1-5eafc3a3925f',\n",
              "                        [{\"marker\": {\"color\": \"rgb(55, 83, 109)\"}, \"name\": \"\\ud559\\uc2b5\\ub0b4\\uc6a9 A\", \"text\": [3.0, 2.43, 1.88, 2.33, 2.0], \"textposition\": \"auto\", \"type\": \"bar\", \"x\": [\"\\uad6d\\uc81c\\uae30\\uad6c\", \"\\ubbfc\\uac04\\uae30\\uc5c5\", \"\\uc11c\\uc6b8\\uc2dc\", \"\\uc11c\\uc6b8\\uc2dc \\uc0b0\\ud558\\uae30\\uad00\", \"\\uc911\\uc559\\ubd80\\ucc98/\\uc0b0\\ud558\\uae30\\uad00\"], \"y\": [3.0, 2.43, 1.88, 2.33, 2.0]}, {\"marker\": {\"color\": \"rgba(55, 83, 109, 0.8)\"}, \"name\": \"\\ud559\\uc2b5\\ub0b4\\uc6a9 B\", \"text\": [3.0, 2.57, 1.38, 2.67, 3.0], \"textposition\": \"auto\", \"type\": \"bar\", \"x\": [\"\\uad6d\\uc81c\\uae30\\uad6c\", \"\\ubbfc\\uac04\\uae30\\uc5c5\", \"\\uc11c\\uc6b8\\uc2dc\", \"\\uc11c\\uc6b8\\uc2dc \\uc0b0\\ud558\\uae30\\uad00\", \"\\uc911\\uc559\\ubd80\\ucc98/\\uc0b0\\ud558\\uae30\\uad00\"], \"y\": [3.0, 2.57, 1.38, 2.67, 3.0]}, {\"marker\": {\"color\": \"rgb(26, 118, 255)\"}, \"name\": \"\\ud559\\uc2b5\\ub0b4\\uc6a9 C\", \"text\": [3.0, 2.29, 1.5, 2.33, 2.0], \"textposition\": \"auto\", \"type\": \"bar\", \"x\": [\"\\uad6d\\uc81c\\uae30\\uad6c\", \"\\ubbfc\\uac04\\uae30\\uc5c5\", \"\\uc11c\\uc6b8\\uc2dc\", \"\\uc11c\\uc6b8\\uc2dc \\uc0b0\\ud558\\uae30\\uad00\", \"\\uc911\\uc559\\ubd80\\ucc98/\\uc0b0\\ud558\\uae30\\uad00\"], \"y\": [3.0, 2.29, 1.5, 2.33, 2.0]}, {\"marker\": {\"color\": \"rgba(26, 118, 255, 0.8)\"}, \"name\": \"\\ud559\\uc2b5\\ub0b4\\uc6a9 D\", \"text\": [3.0, 3.0, 1.62, 2.33, 3.25], \"textposition\": \"auto\", \"type\": \"bar\", \"x\": [\"\\uad6d\\uc81c\\uae30\\uad6c\", \"\\ubbfc\\uac04\\uae30\\uc5c5\", \"\\uc11c\\uc6b8\\uc2dc\", \"\\uc11c\\uc6b8\\uc2dc \\uc0b0\\ud558\\uae30\\uad00\", \"\\uc911\\uc559\\ubd80\\ucc98/\\uc0b0\\ud558\\uae30\\uad00\"], \"y\": [3.0, 3.0, 1.62, 2.33, 3.25]}],\n",
              "                        {\"bargap\": 0.15, \"bargroupgap\": 0.1, \"barmode\": \"group\", \"legend\": {\"orientation\": \"h\", \"x\": 0.2, \"y\": 1.1}, \"template\": {\"data\": {\"bar\": [{\"error_x\": {\"color\": \"#2a3f5f\"}, \"error_y\": {\"color\": \"#2a3f5f\"}, \"marker\": {\"line\": {\"color\": \"#E5ECF6\", \"width\": 0.5}}, \"type\": \"bar\"}], \"barpolar\": [{\"marker\": {\"line\": {\"color\": \"#E5ECF6\", \"width\": 0.5}}, \"type\": \"barpolar\"}], \"carpet\": [{\"aaxis\": {\"endlinecolor\": \"#2a3f5f\", \"gridcolor\": \"white\", \"linecolor\": \"white\", \"minorgridcolor\": \"white\", \"startlinecolor\": \"#2a3f5f\"}, \"baxis\": {\"endlinecolor\": \"#2a3f5f\", \"gridcolor\": \"white\", \"linecolor\": \"white\", \"minorgridcolor\": \"white\", \"startlinecolor\": \"#2a3f5f\"}, \"type\": \"carpet\"}], \"choropleth\": [{\"colorbar\": {\"outlinewidth\": 0, \"ticks\": \"\"}, \"type\": \"choropleth\"}], \"contour\": [{\"colorbar\": {\"outlinewidth\": 0, \"ticks\": \"\"}, \"colorscale\": [[0.0, \"#0d0887\"], [0.1111111111111111, \"#46039f\"], [0.2222222222222222, \"#7201a8\"], [0.3333333333333333, \"#9c179e\"], [0.4444444444444444, \"#bd3786\"], [0.5555555555555556, \"#d8576b\"], [0.6666666666666666, \"#ed7953\"], [0.7777777777777778, \"#fb9f3a\"], [0.8888888888888888, \"#fdca26\"], [1.0, \"#f0f921\"]], \"type\": \"contour\"}], \"contourcarpet\": [{\"colorbar\": {\"outlinewidth\": 0, \"ticks\": \"\"}, \"type\": \"contourcarpet\"}], \"heatmap\": [{\"colorbar\": {\"outlinewidth\": 0, \"ticks\": \"\"}, \"colorscale\": [[0.0, \"#0d0887\"], [0.1111111111111111, \"#46039f\"], [0.2222222222222222, \"#7201a8\"], [0.3333333333333333, \"#9c179e\"], [0.4444444444444444, \"#bd3786\"], [0.5555555555555556, \"#d8576b\"], [0.6666666666666666, \"#ed7953\"], [0.7777777777777778, \"#fb9f3a\"], [0.8888888888888888, \"#fdca26\"], [1.0, \"#f0f921\"]], \"type\": \"heatmap\"}], \"heatmapgl\": [{\"colorbar\": {\"outlinewidth\": 0, \"ticks\": \"\"}, \"colorscale\": [[0.0, \"#0d0887\"], [0.1111111111111111, \"#46039f\"], [0.2222222222222222, \"#7201a8\"], [0.3333333333333333, \"#9c179e\"], [0.4444444444444444, \"#bd3786\"], [0.5555555555555556, \"#d8576b\"], [0.6666666666666666, \"#ed7953\"], [0.7777777777777778, \"#fb9f3a\"], [0.8888888888888888, \"#fdca26\"], [1.0, \"#f0f921\"]], \"type\": \"heatmapgl\"}], \"histogram\": [{\"marker\": {\"colorbar\": {\"outlinewidth\": 0, \"ticks\": \"\"}}, \"type\": \"histogram\"}], \"histogram2d\": [{\"colorbar\": {\"outlinewidth\": 0, \"ticks\": \"\"}, \"colorscale\": [[0.0, \"#0d0887\"], [0.1111111111111111, \"#46039f\"], [0.2222222222222222, \"#7201a8\"], [0.3333333333333333, \"#9c179e\"], [0.4444444444444444, \"#bd3786\"], [0.5555555555555556, \"#d8576b\"], [0.6666666666666666, \"#ed7953\"], [0.7777777777777778, \"#fb9f3a\"], [0.8888888888888888, \"#fdca26\"], [1.0, \"#f0f921\"]], \"type\": \"histogram2d\"}], \"histogram2dcontour\": [{\"colorbar\": {\"outlinewidth\": 0, \"ticks\": \"\"}, \"colorscale\": [[0.0, \"#0d0887\"], [0.1111111111111111, \"#46039f\"], [0.2222222222222222, \"#7201a8\"], [0.3333333333333333, \"#9c179e\"], [0.4444444444444444, \"#bd3786\"], [0.5555555555555556, \"#d8576b\"], [0.6666666666666666, \"#ed7953\"], [0.7777777777777778, \"#fb9f3a\"], [0.8888888888888888, \"#fdca26\"], [1.0, \"#f0f921\"]], \"type\": \"histogram2dcontour\"}], \"mesh3d\": [{\"colorbar\": {\"outlinewidth\": 0, \"ticks\": \"\"}, \"type\": \"mesh3d\"}], \"parcoords\": [{\"line\": {\"colorbar\": {\"outlinewidth\": 0, \"ticks\": \"\"}}, \"type\": \"parcoords\"}], \"scatter\": [{\"marker\": {\"colorbar\": {\"outlinewidth\": 0, \"ticks\": \"\"}}, \"type\": \"scatter\"}], \"scatter3d\": [{\"line\": {\"colorbar\": {\"outlinewidth\": 0, \"ticks\": \"\"}}, \"marker\": {\"colorbar\": {\"outlinewidth\": 0, \"ticks\": \"\"}}, \"type\": \"scatter3d\"}], \"scattercarpet\": [{\"marker\": {\"colorbar\": {\"outlinewidth\": 0, \"ticks\": \"\"}}, \"type\": \"scattercarpet\"}], \"scattergeo\": [{\"marker\": {\"colorbar\": {\"outlinewidth\": 0, \"ticks\": \"\"}}, \"type\": \"scattergeo\"}], \"scattergl\": [{\"marker\": {\"colorbar\": {\"outlinewidth\": 0, \"ticks\": \"\"}}, \"type\": \"scattergl\"}], \"scattermapbox\": [{\"marker\": {\"colorbar\": {\"outlinewidth\": 0, \"ticks\": \"\"}}, \"type\": \"scattermapbox\"}], \"scatterpolar\": [{\"marker\": {\"colorbar\": {\"outlinewidth\": 0, \"ticks\": \"\"}}, \"type\": \"scatterpolar\"}], \"scatterpolargl\": [{\"marker\": {\"colorbar\": {\"outlinewidth\": 0, \"ticks\": \"\"}}, \"type\": \"scatterpolargl\"}], \"scatterternary\": [{\"marker\": {\"colorbar\": {\"outlinewidth\": 0, \"ticks\": \"\"}}, \"type\": \"scatterternary\"}], \"surface\": [{\"colorbar\": {\"outlinewidth\": 0, \"ticks\": \"\"}, \"colorscale\": [[0.0, \"#0d0887\"], [0.1111111111111111, \"#46039f\"], [0.2222222222222222, \"#7201a8\"], [0.3333333333333333, \"#9c179e\"], [0.4444444444444444, \"#bd3786\"], [0.5555555555555556, \"#d8576b\"], [0.6666666666666666, \"#ed7953\"], [0.7777777777777778, \"#fb9f3a\"], [0.8888888888888888, \"#fdca26\"], [1.0, \"#f0f921\"]], \"type\": \"surface\"}], \"table\": [{\"cells\": {\"fill\": {\"color\": \"#EBF0F8\"}, \"line\": {\"color\": \"white\"}}, \"header\": {\"fill\": {\"color\": \"#C8D4E3\"}, \"line\": {\"color\": \"white\"}}, \"type\": \"table\"}]}, \"layout\": {\"annotationdefaults\": {\"arrowcolor\": \"#2a3f5f\", \"arrowhead\": 0, \"arrowwidth\": 1}, \"colorscale\": {\"diverging\": [[0, \"#8e0152\"], [0.1, \"#c51b7d\"], [0.2, \"#de77ae\"], [0.3, \"#f1b6da\"], [0.4, \"#fde0ef\"], [0.5, \"#f7f7f7\"], [0.6, \"#e6f5d0\"], [0.7, \"#b8e186\"], [0.8, \"#7fbc41\"], [0.9, \"#4d9221\"], [1, \"#276419\"]], \"sequential\": [[0.0, \"#0d0887\"], [0.1111111111111111, \"#46039f\"], [0.2222222222222222, \"#7201a8\"], [0.3333333333333333, \"#9c179e\"], [0.4444444444444444, \"#bd3786\"], [0.5555555555555556, \"#d8576b\"], [0.6666666666666666, \"#ed7953\"], [0.7777777777777778, \"#fb9f3a\"], [0.8888888888888888, \"#fdca26\"], [1.0, \"#f0f921\"]], \"sequentialminus\": [[0.0, \"#0d0887\"], [0.1111111111111111, \"#46039f\"], [0.2222222222222222, \"#7201a8\"], [0.3333333333333333, \"#9c179e\"], [0.4444444444444444, \"#bd3786\"], [0.5555555555555556, \"#d8576b\"], [0.6666666666666666, \"#ed7953\"], [0.7777777777777778, \"#fb9f3a\"], [0.8888888888888888, \"#fdca26\"], [1.0, \"#f0f921\"]]}, \"colorway\": [\"#636efa\", \"#EF553B\", \"#00cc96\", \"#ab63fa\", \"#FFA15A\", \"#19d3f3\", \"#FF6692\", \"#B6E880\", \"#FF97FF\", \"#FECB52\"], \"font\": {\"color\": \"#2a3f5f\"}, \"geo\": {\"bgcolor\": \"white\", \"lakecolor\": \"white\", \"landcolor\": \"#E5ECF6\", \"showlakes\": true, \"showland\": true, \"subunitcolor\": \"white\"}, \"hoverlabel\": {\"align\": \"left\"}, \"hovermode\": \"closest\", \"mapbox\": {\"style\": \"light\"}, \"paper_bgcolor\": \"white\", \"plot_bgcolor\": \"#E5ECF6\", \"polar\": {\"angularaxis\": {\"gridcolor\": \"white\", \"linecolor\": \"white\", \"ticks\": \"\"}, \"bgcolor\": \"#E5ECF6\", \"radialaxis\": {\"gridcolor\": \"white\", \"linecolor\": \"white\", \"ticks\": \"\"}}, \"scene\": {\"xaxis\": {\"backgroundcolor\": \"#E5ECF6\", \"gridcolor\": \"white\", \"gridwidth\": 2, \"linecolor\": \"white\", \"showbackground\": true, \"ticks\": \"\", \"zerolinecolor\": \"white\"}, \"yaxis\": {\"backgroundcolor\": \"#E5ECF6\", \"gridcolor\": \"white\", \"gridwidth\": 2, \"linecolor\": \"white\", \"showbackground\": true, \"ticks\": \"\", \"zerolinecolor\": \"white\"}, \"zaxis\": {\"backgroundcolor\": \"#E5ECF6\", \"gridcolor\": \"white\", \"gridwidth\": 2, \"linecolor\": \"white\", \"showbackground\": true, \"ticks\": \"\", \"zerolinecolor\": \"white\"}}, \"shapedefaults\": {\"line\": {\"color\": \"#2a3f5f\"}}, \"ternary\": {\"aaxis\": {\"gridcolor\": \"white\", \"linecolor\": \"white\", \"ticks\": \"\"}, \"baxis\": {\"gridcolor\": \"white\", \"linecolor\": \"white\", \"ticks\": \"\"}, \"bgcolor\": \"#E5ECF6\", \"caxis\": {\"gridcolor\": \"white\", \"linecolor\": \"white\", \"ticks\": \"\"}}, \"title\": {\"x\": 0.05}, \"xaxis\": {\"automargin\": true, \"gridcolor\": \"white\", \"linecolor\": \"white\", \"ticks\": \"\", \"zerolinecolor\": \"white\", \"zerolinewidth\": 2}, \"yaxis\": {\"automargin\": true, \"gridcolor\": \"white\", \"linecolor\": \"white\", \"ticks\": \"\", \"zerolinecolor\": \"white\", \"zerolinewidth\": 2}}}, \"title\": {\"text\": \"\\uc18c\\uc18d\\uadf8\\ub8f9\\ubcc4 \\uae30\\uc220\\uc801 \\uc601\\uc5ed \\uc218\\uc900 \\ud3c9\\uade0\", \"x\": 0.5}, \"xaxis\": {\"tickfont\": {\"size\": 13}}, \"yaxis\": {\"tickfont\": {\"size\": 13}}},\n",
              "                        {\"responsive\": true}\n",
              "                    ).then(function(){\n",
              "                            \n",
              "var gd = document.getElementById('e60bc892-7ea4-4f50-abc1-5eafc3a3925f');\n",
              "var x = new MutationObserver(function (mutations, observer) {{\n",
              "        var display = window.getComputedStyle(gd).display;\n",
              "        if (!display || display === 'none') {{\n",
              "            console.log([gd, 'removed!']);\n",
              "            Plotly.purge(gd);\n",
              "            observer.disconnect();\n",
              "        }}\n",
              "}});\n",
              "\n",
              "// Listen for the removal of the full notebook cells\n",
              "var notebookContainer = gd.closest('#notebook-container');\n",
              "if (notebookContainer) {{\n",
              "    x.observe(notebookContainer, {childList: true});\n",
              "}}\n",
              "\n",
              "// Listen for the clearing of the current output cell\n",
              "var outputEl = gd.closest('.output');\n",
              "if (outputEl) {{\n",
              "    x.observe(outputEl, {childList: true});\n",
              "}}\n",
              "\n",
              "                        })\n",
              "                };\n",
              "                \n",
              "            </script>\n",
              "        </div>\n",
              "</body>\n",
              "</html>"
            ]
          },
          "metadata": {
            "tags": []
          }
        }
      ]
    },
    {
      "cell_type": "markdown",
      "metadata": {
        "colab_type": "text",
        "id": "h7l6apK-1kA1"
      },
      "source": [
        "## 소속별 태도적 영역 수준 평균"
      ]
    },
    {
      "cell_type": "code",
      "metadata": {
        "colab_type": "code",
        "id": "_ncjg9ZE1Sqq",
        "outputId": "3726edf7-5b56-4846-cdaf-e6a3d936c1d1",
        "colab": {
          "base_uri": "https://localhost:8080/",
          "height": 542
        }
      },
      "source": [
        "fig = go.Figure(data = [\n",
        "    go.Bar(\n",
        "      x=pre_group['태도적 (Attidtude) 영역 - 학습내용 A'].mean().index,\n",
        "      y=pre_group['태도적 (Attidtude) 영역 - 학습내용 A'].mean().round(2), \n",
        "      name='학습내용 A', \n",
        "      marker_color='rgb(55, 83, 109)',\n",
        "      text=pre_group['태도적 (Attidtude) 영역 - 학습내용 A'].mean().round(2),\n",
        "      textposition='auto'),\n",
        "    go.Bar(\n",
        "      x=pre_group['태도적 (Attidtude) 영역 - 학습내용 B'].mean().index,\n",
        "      y=pre_group['태도적 (Attidtude) 영역 - 학습내용 B'].mean().round(2), \n",
        "      name='학습내용 B', \n",
        "      marker_color='rgba(55, 83, 109, 0.8)',\n",
        "      text=pre_group['태도적 (Attidtude) 영역 - 학습내용 B'].mean().round(2),\n",
        "      textposition='auto'),\n",
        "    go.Bar(\n",
        "      x=pre_group['태도적 (Attidtude) 영역 - 학습내용 C'].mean().index,\n",
        "      y=pre_group['태도적 (Attidtude) 영역 - 학습내용 C'].mean().round(2), \n",
        "      name='학습내용 C', \n",
        "      marker_color='rgb(26, 118, 255)',\n",
        "      text=pre_group['태도적 (Attidtude) 영역 - 학습내용 C'].mean().round(2),\n",
        "      textposition='auto'),\n",
        "    go.Bar(\n",
        "      x=pre_group['태도적 (Attidtude) 영역 - 학습내용 D'].mean().index,\n",
        "      y=pre_group['태도적 (Attidtude) 영역 - 학습내용 D'].mean().round(2), \n",
        "      name='학습내용 D', \n",
        "      marker_color='rgba(26, 118, 255, 0.8)',\n",
        "      text=pre_group['태도적 (Attidtude) 영역 - 학습내용 D'].mean().round(2),\n",
        "      textposition='auto')\n",
        "    ]\n",
        ")\n",
        "\n",
        "fig.update_layout(\n",
        "    title=dict(text=\"소속그룹별 태도적 영역 수준 평균\", x = 0.5),\n",
        "    legend=dict(x=0.2, y=1.1, orientation=\"h\"),\n",
        "    barmode='group',\n",
        "    bargap=0.15,\n",
        "    bargroupgap=0.1,\n",
        "    # width=1500,\n",
        "    # height=800,\n",
        ")\n",
        "\n",
        "fig.update_xaxes(tickfont_size=13)\n",
        "fig.update_yaxes(tickfont_size=13)\n",
        "\n",
        "fig.show()"
      ],
      "execution_count": 0,
      "outputs": [
        {
          "output_type": "display_data",
          "data": {
            "text/html": [
              "<html>\n",
              "<head><meta charset=\"utf-8\" /></head>\n",
              "<body>\n",
              "    <div>\n",
              "            <script src=\"https://cdnjs.cloudflare.com/ajax/libs/mathjax/2.7.5/MathJax.js?config=TeX-AMS-MML_SVG\"></script><script type=\"text/javascript\">if (window.MathJax) {MathJax.Hub.Config({SVG: {font: \"STIX-Web\"}});}</script>\n",
              "                <script type=\"text/javascript\">window.PlotlyConfig = {MathJaxConfig: 'local'};</script>\n",
              "        <script src=\"https://cdn.plot.ly/plotly-latest.min.js\"></script>    \n",
              "            <div id=\"6e978266-b029-4587-946a-86756669919d\" class=\"plotly-graph-div\" style=\"height:525px; width:100%;\"></div>\n",
              "            <script type=\"text/javascript\">\n",
              "                \n",
              "                    window.PLOTLYENV=window.PLOTLYENV || {};\n",
              "                    \n",
              "                if (document.getElementById(\"6e978266-b029-4587-946a-86756669919d\")) {\n",
              "                    Plotly.newPlot(\n",
              "                        '6e978266-b029-4587-946a-86756669919d',\n",
              "                        [{\"marker\": {\"color\": \"rgb(55, 83, 109)\"}, \"name\": \"\\ud559\\uc2b5\\ub0b4\\uc6a9 A\", \"text\": [3.0, 4.43, 3.38, 3.33, 3.0], \"textposition\": \"auto\", \"type\": \"bar\", \"x\": [\"\\uad6d\\uc81c\\uae30\\uad6c\", \"\\ubbfc\\uac04\\uae30\\uc5c5\", \"\\uc11c\\uc6b8\\uc2dc\", \"\\uc11c\\uc6b8\\uc2dc \\uc0b0\\ud558\\uae30\\uad00\", \"\\uc911\\uc559\\ubd80\\ucc98/\\uc0b0\\ud558\\uae30\\uad00\"], \"y\": [3.0, 4.43, 3.38, 3.33, 3.0]}, {\"marker\": {\"color\": \"rgba(55, 83, 109, 0.8)\"}, \"name\": \"\\ud559\\uc2b5\\ub0b4\\uc6a9 B\", \"text\": [4.0, 4.29, 3.25, 2.67, 3.25], \"textposition\": \"auto\", \"type\": \"bar\", \"x\": [\"\\uad6d\\uc81c\\uae30\\uad6c\", \"\\ubbfc\\uac04\\uae30\\uc5c5\", \"\\uc11c\\uc6b8\\uc2dc\", \"\\uc11c\\uc6b8\\uc2dc \\uc0b0\\ud558\\uae30\\uad00\", \"\\uc911\\uc559\\ubd80\\ucc98/\\uc0b0\\ud558\\uae30\\uad00\"], \"y\": [4.0, 4.29, 3.25, 2.67, 3.25]}, {\"marker\": {\"color\": \"rgb(26, 118, 255)\"}, \"name\": \"\\ud559\\uc2b5\\ub0b4\\uc6a9 C\", \"text\": [4.0, 4.29, 3.38, 3.67, 3.5], \"textposition\": \"auto\", \"type\": \"bar\", \"x\": [\"\\uad6d\\uc81c\\uae30\\uad6c\", \"\\ubbfc\\uac04\\uae30\\uc5c5\", \"\\uc11c\\uc6b8\\uc2dc\", \"\\uc11c\\uc6b8\\uc2dc \\uc0b0\\ud558\\uae30\\uad00\", \"\\uc911\\uc559\\ubd80\\ucc98/\\uc0b0\\ud558\\uae30\\uad00\"], \"y\": [4.0, 4.29, 3.38, 3.67, 3.5]}, {\"marker\": {\"color\": \"rgba(26, 118, 255, 0.8)\"}, \"name\": \"\\ud559\\uc2b5\\ub0b4\\uc6a9 D\", \"text\": [4.0, 4.29, 3.25, 3.67, 3.75], \"textposition\": \"auto\", \"type\": \"bar\", \"x\": [\"\\uad6d\\uc81c\\uae30\\uad6c\", \"\\ubbfc\\uac04\\uae30\\uc5c5\", \"\\uc11c\\uc6b8\\uc2dc\", \"\\uc11c\\uc6b8\\uc2dc \\uc0b0\\ud558\\uae30\\uad00\", \"\\uc911\\uc559\\ubd80\\ucc98/\\uc0b0\\ud558\\uae30\\uad00\"], \"y\": [4.0, 4.29, 3.25, 3.67, 3.75]}],\n",
              "                        {\"bargap\": 0.15, \"bargroupgap\": 0.1, \"barmode\": \"group\", \"legend\": {\"orientation\": \"h\", \"x\": 0.2, \"y\": 1.1}, \"template\": {\"data\": {\"bar\": [{\"error_x\": {\"color\": \"#2a3f5f\"}, \"error_y\": {\"color\": \"#2a3f5f\"}, \"marker\": {\"line\": {\"color\": \"#E5ECF6\", \"width\": 0.5}}, \"type\": \"bar\"}], \"barpolar\": [{\"marker\": {\"line\": {\"color\": \"#E5ECF6\", \"width\": 0.5}}, \"type\": \"barpolar\"}], \"carpet\": [{\"aaxis\": {\"endlinecolor\": \"#2a3f5f\", \"gridcolor\": \"white\", \"linecolor\": \"white\", \"minorgridcolor\": \"white\", \"startlinecolor\": \"#2a3f5f\"}, \"baxis\": {\"endlinecolor\": \"#2a3f5f\", \"gridcolor\": \"white\", \"linecolor\": \"white\", \"minorgridcolor\": \"white\", \"startlinecolor\": \"#2a3f5f\"}, \"type\": \"carpet\"}], \"choropleth\": [{\"colorbar\": {\"outlinewidth\": 0, \"ticks\": \"\"}, \"type\": \"choropleth\"}], \"contour\": [{\"colorbar\": {\"outlinewidth\": 0, \"ticks\": \"\"}, \"colorscale\": [[0.0, \"#0d0887\"], [0.1111111111111111, \"#46039f\"], [0.2222222222222222, \"#7201a8\"], [0.3333333333333333, \"#9c179e\"], [0.4444444444444444, \"#bd3786\"], [0.5555555555555556, \"#d8576b\"], [0.6666666666666666, \"#ed7953\"], [0.7777777777777778, \"#fb9f3a\"], [0.8888888888888888, \"#fdca26\"], [1.0, \"#f0f921\"]], \"type\": \"contour\"}], \"contourcarpet\": [{\"colorbar\": {\"outlinewidth\": 0, \"ticks\": \"\"}, \"type\": \"contourcarpet\"}], \"heatmap\": [{\"colorbar\": {\"outlinewidth\": 0, \"ticks\": \"\"}, \"colorscale\": [[0.0, \"#0d0887\"], [0.1111111111111111, \"#46039f\"], [0.2222222222222222, \"#7201a8\"], [0.3333333333333333, \"#9c179e\"], [0.4444444444444444, \"#bd3786\"], [0.5555555555555556, \"#d8576b\"], [0.6666666666666666, \"#ed7953\"], [0.7777777777777778, \"#fb9f3a\"], [0.8888888888888888, \"#fdca26\"], [1.0, \"#f0f921\"]], \"type\": \"heatmap\"}], \"heatmapgl\": [{\"colorbar\": {\"outlinewidth\": 0, \"ticks\": \"\"}, \"colorscale\": [[0.0, \"#0d0887\"], [0.1111111111111111, \"#46039f\"], [0.2222222222222222, \"#7201a8\"], [0.3333333333333333, \"#9c179e\"], [0.4444444444444444, \"#bd3786\"], [0.5555555555555556, \"#d8576b\"], [0.6666666666666666, \"#ed7953\"], [0.7777777777777778, \"#fb9f3a\"], [0.8888888888888888, \"#fdca26\"], [1.0, \"#f0f921\"]], \"type\": \"heatmapgl\"}], \"histogram\": [{\"marker\": {\"colorbar\": {\"outlinewidth\": 0, \"ticks\": \"\"}}, \"type\": \"histogram\"}], \"histogram2d\": [{\"colorbar\": {\"outlinewidth\": 0, \"ticks\": \"\"}, \"colorscale\": [[0.0, \"#0d0887\"], [0.1111111111111111, \"#46039f\"], [0.2222222222222222, \"#7201a8\"], [0.3333333333333333, \"#9c179e\"], [0.4444444444444444, \"#bd3786\"], [0.5555555555555556, \"#d8576b\"], [0.6666666666666666, \"#ed7953\"], [0.7777777777777778, \"#fb9f3a\"], [0.8888888888888888, \"#fdca26\"], [1.0, \"#f0f921\"]], \"type\": \"histogram2d\"}], \"histogram2dcontour\": [{\"colorbar\": {\"outlinewidth\": 0, \"ticks\": \"\"}, \"colorscale\": [[0.0, \"#0d0887\"], [0.1111111111111111, \"#46039f\"], [0.2222222222222222, \"#7201a8\"], [0.3333333333333333, \"#9c179e\"], [0.4444444444444444, \"#bd3786\"], [0.5555555555555556, \"#d8576b\"], [0.6666666666666666, \"#ed7953\"], [0.7777777777777778, \"#fb9f3a\"], [0.8888888888888888, \"#fdca26\"], [1.0, \"#f0f921\"]], \"type\": \"histogram2dcontour\"}], \"mesh3d\": [{\"colorbar\": {\"outlinewidth\": 0, \"ticks\": \"\"}, \"type\": \"mesh3d\"}], \"parcoords\": [{\"line\": {\"colorbar\": {\"outlinewidth\": 0, \"ticks\": \"\"}}, \"type\": \"parcoords\"}], \"scatter\": [{\"marker\": {\"colorbar\": {\"outlinewidth\": 0, \"ticks\": \"\"}}, \"type\": \"scatter\"}], \"scatter3d\": [{\"line\": {\"colorbar\": {\"outlinewidth\": 0, \"ticks\": \"\"}}, \"marker\": {\"colorbar\": {\"outlinewidth\": 0, \"ticks\": \"\"}}, \"type\": \"scatter3d\"}], \"scattercarpet\": [{\"marker\": {\"colorbar\": {\"outlinewidth\": 0, \"ticks\": \"\"}}, \"type\": \"scattercarpet\"}], \"scattergeo\": [{\"marker\": {\"colorbar\": {\"outlinewidth\": 0, \"ticks\": \"\"}}, \"type\": \"scattergeo\"}], \"scattergl\": [{\"marker\": {\"colorbar\": {\"outlinewidth\": 0, \"ticks\": \"\"}}, \"type\": \"scattergl\"}], \"scattermapbox\": [{\"marker\": {\"colorbar\": {\"outlinewidth\": 0, \"ticks\": \"\"}}, \"type\": \"scattermapbox\"}], \"scatterpolar\": [{\"marker\": {\"colorbar\": {\"outlinewidth\": 0, \"ticks\": \"\"}}, \"type\": \"scatterpolar\"}], \"scatterpolargl\": [{\"marker\": {\"colorbar\": {\"outlinewidth\": 0, \"ticks\": \"\"}}, \"type\": \"scatterpolargl\"}], \"scatterternary\": [{\"marker\": {\"colorbar\": {\"outlinewidth\": 0, \"ticks\": \"\"}}, \"type\": \"scatterternary\"}], \"surface\": [{\"colorbar\": {\"outlinewidth\": 0, \"ticks\": \"\"}, \"colorscale\": [[0.0, \"#0d0887\"], [0.1111111111111111, \"#46039f\"], [0.2222222222222222, \"#7201a8\"], [0.3333333333333333, \"#9c179e\"], [0.4444444444444444, \"#bd3786\"], [0.5555555555555556, \"#d8576b\"], [0.6666666666666666, \"#ed7953\"], [0.7777777777777778, \"#fb9f3a\"], [0.8888888888888888, \"#fdca26\"], [1.0, \"#f0f921\"]], \"type\": \"surface\"}], \"table\": [{\"cells\": {\"fill\": {\"color\": \"#EBF0F8\"}, \"line\": {\"color\": \"white\"}}, \"header\": {\"fill\": {\"color\": \"#C8D4E3\"}, \"line\": {\"color\": \"white\"}}, \"type\": \"table\"}]}, \"layout\": {\"annotationdefaults\": {\"arrowcolor\": \"#2a3f5f\", \"arrowhead\": 0, \"arrowwidth\": 1}, \"colorscale\": {\"diverging\": [[0, \"#8e0152\"], [0.1, \"#c51b7d\"], [0.2, \"#de77ae\"], [0.3, \"#f1b6da\"], [0.4, \"#fde0ef\"], [0.5, \"#f7f7f7\"], [0.6, \"#e6f5d0\"], [0.7, \"#b8e186\"], [0.8, \"#7fbc41\"], [0.9, \"#4d9221\"], [1, \"#276419\"]], \"sequential\": [[0.0, \"#0d0887\"], [0.1111111111111111, \"#46039f\"], [0.2222222222222222, \"#7201a8\"], [0.3333333333333333, \"#9c179e\"], [0.4444444444444444, \"#bd3786\"], [0.5555555555555556, \"#d8576b\"], [0.6666666666666666, \"#ed7953\"], [0.7777777777777778, \"#fb9f3a\"], [0.8888888888888888, \"#fdca26\"], [1.0, \"#f0f921\"]], \"sequentialminus\": [[0.0, \"#0d0887\"], [0.1111111111111111, \"#46039f\"], [0.2222222222222222, \"#7201a8\"], [0.3333333333333333, \"#9c179e\"], [0.4444444444444444, \"#bd3786\"], [0.5555555555555556, \"#d8576b\"], [0.6666666666666666, \"#ed7953\"], [0.7777777777777778, \"#fb9f3a\"], [0.8888888888888888, \"#fdca26\"], [1.0, \"#f0f921\"]]}, \"colorway\": [\"#636efa\", \"#EF553B\", \"#00cc96\", \"#ab63fa\", \"#FFA15A\", \"#19d3f3\", \"#FF6692\", \"#B6E880\", \"#FF97FF\", \"#FECB52\"], \"font\": {\"color\": \"#2a3f5f\"}, \"geo\": {\"bgcolor\": \"white\", \"lakecolor\": \"white\", \"landcolor\": \"#E5ECF6\", \"showlakes\": true, \"showland\": true, \"subunitcolor\": \"white\"}, \"hoverlabel\": {\"align\": \"left\"}, \"hovermode\": \"closest\", \"mapbox\": {\"style\": \"light\"}, \"paper_bgcolor\": \"white\", \"plot_bgcolor\": \"#E5ECF6\", \"polar\": {\"angularaxis\": {\"gridcolor\": \"white\", \"linecolor\": \"white\", \"ticks\": \"\"}, \"bgcolor\": \"#E5ECF6\", \"radialaxis\": {\"gridcolor\": \"white\", \"linecolor\": \"white\", \"ticks\": \"\"}}, \"scene\": {\"xaxis\": {\"backgroundcolor\": \"#E5ECF6\", \"gridcolor\": \"white\", \"gridwidth\": 2, \"linecolor\": \"white\", \"showbackground\": true, \"ticks\": \"\", \"zerolinecolor\": \"white\"}, \"yaxis\": {\"backgroundcolor\": \"#E5ECF6\", \"gridcolor\": \"white\", \"gridwidth\": 2, \"linecolor\": \"white\", \"showbackground\": true, \"ticks\": \"\", \"zerolinecolor\": \"white\"}, \"zaxis\": {\"backgroundcolor\": \"#E5ECF6\", \"gridcolor\": \"white\", \"gridwidth\": 2, \"linecolor\": \"white\", \"showbackground\": true, \"ticks\": \"\", \"zerolinecolor\": \"white\"}}, \"shapedefaults\": {\"line\": {\"color\": \"#2a3f5f\"}}, \"ternary\": {\"aaxis\": {\"gridcolor\": \"white\", \"linecolor\": \"white\", \"ticks\": \"\"}, \"baxis\": {\"gridcolor\": \"white\", \"linecolor\": \"white\", \"ticks\": \"\"}, \"bgcolor\": \"#E5ECF6\", \"caxis\": {\"gridcolor\": \"white\", \"linecolor\": \"white\", \"ticks\": \"\"}}, \"title\": {\"x\": 0.05}, \"xaxis\": {\"automargin\": true, \"gridcolor\": \"white\", \"linecolor\": \"white\", \"ticks\": \"\", \"zerolinecolor\": \"white\", \"zerolinewidth\": 2}, \"yaxis\": {\"automargin\": true, \"gridcolor\": \"white\", \"linecolor\": \"white\", \"ticks\": \"\", \"zerolinecolor\": \"white\", \"zerolinewidth\": 2}}}, \"title\": {\"text\": \"\\uc18c\\uc18d\\uadf8\\ub8f9\\ubcc4 \\ud0dc\\ub3c4\\uc801 \\uc601\\uc5ed \\uc218\\uc900 \\ud3c9\\uade0\", \"x\": 0.5}, \"xaxis\": {\"tickfont\": {\"size\": 13}}, \"yaxis\": {\"tickfont\": {\"size\": 13}}},\n",
              "                        {\"responsive\": true}\n",
              "                    ).then(function(){\n",
              "                            \n",
              "var gd = document.getElementById('6e978266-b029-4587-946a-86756669919d');\n",
              "var x = new MutationObserver(function (mutations, observer) {{\n",
              "        var display = window.getComputedStyle(gd).display;\n",
              "        if (!display || display === 'none') {{\n",
              "            console.log([gd, 'removed!']);\n",
              "            Plotly.purge(gd);\n",
              "            observer.disconnect();\n",
              "        }}\n",
              "}});\n",
              "\n",
              "// Listen for the removal of the full notebook cells\n",
              "var notebookContainer = gd.closest('#notebook-container');\n",
              "if (notebookContainer) {{\n",
              "    x.observe(notebookContainer, {childList: true});\n",
              "}}\n",
              "\n",
              "// Listen for the clearing of the current output cell\n",
              "var outputEl = gd.closest('.output');\n",
              "if (outputEl) {{\n",
              "    x.observe(outputEl, {childList: true});\n",
              "}}\n",
              "\n",
              "                        })\n",
              "                };\n",
              "                \n",
              "            </script>\n",
              "        </div>\n",
              "</body>\n",
              "</html>"
            ]
          },
          "metadata": {
            "tags": []
          }
        }
      ]
    },
    {
      "cell_type": "code",
      "metadata": {
        "colab_type": "code",
        "id": "cnovFb8O1SzG",
        "colab": {}
      },
      "source": [
        ""
      ],
      "execution_count": 0,
      "outputs": []
    },
    {
      "cell_type": "code",
      "metadata": {
        "colab_type": "code",
        "id": "ls7VabLm1S5y",
        "colab": {}
      },
      "source": [
        ""
      ],
      "execution_count": 0,
      "outputs": []
    },
    {
      "cell_type": "code",
      "metadata": {
        "colab_type": "code",
        "id": "TE4o8YzN1TA4",
        "colab": {}
      },
      "source": [
        ""
      ],
      "execution_count": 0,
      "outputs": []
    },
    {
      "cell_type": "code",
      "metadata": {
        "colab_type": "code",
        "id": "x4fHSxFg1TJD",
        "colab": {}
      },
      "source": [
        ""
      ],
      "execution_count": 0,
      "outputs": []
    },
    {
      "cell_type": "code",
      "metadata": {
        "colab_type": "code",
        "id": "akuMjzQV1TQ8",
        "colab": {}
      },
      "source": [
        ""
      ],
      "execution_count": 0,
      "outputs": []
    },
    {
      "cell_type": "markdown",
      "metadata": {
        "colab_type": "text",
        "id": "c8yiEUOgH__g"
      },
      "source": [
        "# 교육생 관심-전문분야"
      ]
    },
    {
      "cell_type": "markdown",
      "metadata": {
        "colab_type": "text",
        "id": "AfIf6awZxng5"
      },
      "source": [
        "## y축 관심-전문분야 구분"
      ]
    },
    {
      "cell_type": "code",
      "metadata": {
        "colab_type": "code",
        "id": "BQefXnGhmFVk",
        "colab": {}
      },
      "source": [
        "scp_field = scp_reg.copy()\n",
        "scp_field['전문분야(대)'] = scp_field['전문분야(대)'].apply(lambda x: x[0:len(x)] +\"(전문)\")\n",
        "scp_field['관심분야(대)-편집'] = scp_field['관심분야(대)-편집'].apply(lambda x: x[0:len(x)] +\"(관심)\")"
      ],
      "execution_count": 0,
      "outputs": []
    },
    {
      "cell_type": "code",
      "metadata": {
        "colab_type": "code",
        "id": "kkHzU1h9OGuI",
        "outputId": "16b6f217-9a2a-48e0-eac8-8251a0e938ea",
        "colab": {
          "base_uri": "https://localhost:8080/",
          "height": 817
        }
      },
      "source": [
        "# Create figure with secondary y-axis\n",
        "fig = make_subplots(specs=[[{\"secondary_y\": True}]])\n",
        "\n",
        "# Add traces\n",
        "fig.add_trace(go.Scatter(\n",
        "    x=scp_field['국문성명'],\n",
        "    y=scp_field['전문분야(대)'],  \n",
        "    hoverinfo='skip',\n",
        "    mode='markers',\n",
        "    marker_size=8,\n",
        "    # mode='markers+text',\n",
        "    # text=\"전문: \"+scp_field['전문분야(대)'],\n",
        "    # textfont_size = 8,\n",
        "    # textposition=\"top right\",\n",
        "    name=\"전문분야\"),\n",
        "    secondary_y=False\n",
        ")\n",
        "\n",
        "fig.add_trace(go.Scatter(\n",
        "    x=scp_field['국문성명'],\n",
        "    y=scp_field['관심분야(대)-편집'], \n",
        "    hoverinfo='skip',\n",
        "    mode='markers',\n",
        "    marker_size=8,\n",
        "    # mode='markers+text',\n",
        "    # text=\"관심: \"+scp_field['관심분야(대)-편집'],\n",
        "    # textfont_size = 8,\n",
        "    # textposition=\"top right\",\n",
        "    name=\"관심분야\"),\n",
        "    secondary_y=True\n",
        ")\n",
        "\n",
        "# fig.add_trace(go.Scatter(\n",
        "#     y=0, \n",
        "#     mode=\"lines\"), \n",
        "#     secondary_y=False\n",
        "# )\n",
        "\n",
        "# Add figure title\n",
        "fig.update_layout(\n",
        "    title_text=\"교육생 전문-관심분야 비교\", \n",
        "    width=1500,\n",
        "    height=800,\n",
        ")\n",
        "\n",
        "# Set x-axis title\n",
        "fig.update_xaxes(title_text=\"<b>교육생</b>\")\n",
        "\n",
        "\n",
        "# Set y-axes titles\n",
        "fig.update_yaxes(secondary_y=False, gridwidth=0.05, gridcolor='rgba(99,110,250,0.2)')\n",
        "fig.update_yaxes(secondary_y=True, gridwidth=0.05, gridcolor='rgba(239,85,59,0.2)')\n",
        "fig.update_yaxes(secondary_y=False, gridwidth=0.05, )\n",
        "                 # gridcolor='rgba(99,110,250,0.2)'#\n",
        "\n",
        "fig.show()"
      ],
      "execution_count": 0,
      "outputs": [
        {
          "output_type": "display_data",
          "data": {
            "text/html": [
              "<html>\n",
              "<head><meta charset=\"utf-8\" /></head>\n",
              "<body>\n",
              "    <div>\n",
              "            <script src=\"https://cdnjs.cloudflare.com/ajax/libs/mathjax/2.7.5/MathJax.js?config=TeX-AMS-MML_SVG\"></script><script type=\"text/javascript\">if (window.MathJax) {MathJax.Hub.Config({SVG: {font: \"STIX-Web\"}});}</script>\n",
              "                <script type=\"text/javascript\">window.PlotlyConfig = {MathJaxConfig: 'local'};</script>\n",
              "        <script src=\"https://cdn.plot.ly/plotly-latest.min.js\"></script>    \n",
              "            <div id=\"d967593c-3af4-4188-9b48-3b3ce260439e\" class=\"plotly-graph-div\" style=\"height:800px; width:1500px;\"></div>\n",
              "            <script type=\"text/javascript\">\n",
              "                \n",
              "                    window.PLOTLYENV=window.PLOTLYENV || {};\n",
              "                    \n",
              "                if (document.getElementById(\"d967593c-3af4-4188-9b48-3b3ce260439e\")) {\n",
              "                    Plotly.newPlot(\n",
              "                        'd967593c-3af4-4188-9b48-3b3ce260439e',\n",
              "                        [{\"hoverinfo\": \"skip\", \"marker\": {\"size\": 8}, \"mode\": \"markers\", \"name\": \"\\uc804\\ubb38\\ubd84\\uc57c\", \"type\": \"scatter\", \"x\": [\"\\uace0\\uc8fc\\uc5f0\", \"\\uace0\\ud64d\\uc11d\", \"\\uae40\\ub300\\uc120\", \"\\uae40\\uc0c1\\ud5cc\", \"\\uae40\\uc138\\uc6c5\", \"\\uae40\\uc601\\ud55c\", \"\\uae40\\uc724\\uaddc\", \"\\ub098\\uae30\\uad8c\", \"\\ub958\\uad11\\ucca0\", \"\\ubc15\\uc21c\\uaddc\", \"\\ubc15\\ud6c8\\ubcd1\", \"\\ubc31\\uc601\\ud76c\", \"\\uc548\\uba85\\uc218\", \"\\uc720\\uc6b0\\ub9b0\", \"\\uc724\\uc131\\uc77c\", \"\\uc774\\uc601\\ud55c\", \"\\uc774\\uc740\\uc219\", \"\\uc774\\ud604\\ud76c\", \"\\uc7a5\\uc601\\ubbfc\", \"\\uc815\\uc7ac\\ud6c4\", \"\\ucd5c\\uc120\\uc778\", \"\\ud558\\ubbf8\\uacbd\"], \"xaxis\": \"x\", \"y\": [\"\\uad50\\ud1b5(\\uc804\\ubb38)\", \"\\uad50\\ud1b5(\\uc804\\ubb38)\", \"\\ud3d0\\uae30\\ubb3c(\\uc804\\ubb38)\", \"\\ub3c4\\uc2dc\\ucca0\\ub3c4(\\uc804\\ubb38)\", \"\\uad6d\\uc81c\\ud611\\ub825(\\uc804\\ubb38)\", \"\\ud589\\uc815(\\uc804\\ubb38)\", \"\\ud589\\uc815(\\uc804\\ubb38)\", \"\\uc0c1\\uc218\\ub3c4(\\uc804\\ubb38)\", \"\\uad6d\\uc81c\\ud611\\ub825(\\uc804\\ubb38)\", \"\\uc8fc\\ud0dd(\\uc804\\ubb38)\", \"\\uc804\\uc790\\uc815\\ubd80(\\uc804\\ubb38)\", \"\\uc804\\uc790\\uc815\\ubd80(\\uc804\\ubb38)\", \"\\uad6d\\uc81c\\ud611\\ub825(\\uc804\\ubb38)\", \"\\ub3c4\\uc2dc\\uac1c\\ubc1c(\\uc804\\ubb38)\", \"\\ud658\\uacbd(\\uc804\\ubb38)\", \"\\uc804\\uc790\\uc815\\ubd80(\\uc804\\ubb38)\", \"\\ub3c4\\uc2dc\\uac1c\\ubc1c(\\uc804\\ubb38)\", \"\\uc8fc\\ud0dd(\\uc804\\ubb38)\", \"\\uad6d\\uc81c\\ud611\\ub825(\\uc804\\ubb38)\", \"\\uc18c\\ubc29\\ubc29\\uc7ac(\\uc804\\ubb38)\", \"\\uc804\\uc790\\uc815\\ubd80(\\uc804\\ubb38)\", \"\\ud589\\uc815(\\uc804\\ubb38)\"], \"yaxis\": \"y\"}, {\"hoverinfo\": \"skip\", \"marker\": {\"size\": 8}, \"mode\": \"markers\", \"name\": \"\\uad00\\uc2ec\\ubd84\\uc57c\", \"type\": \"scatter\", \"x\": [\"\\uace0\\uc8fc\\uc5f0\", \"\\uace0\\ud64d\\uc11d\", \"\\uae40\\ub300\\uc120\", \"\\uae40\\uc0c1\\ud5cc\", \"\\uae40\\uc138\\uc6c5\", \"\\uae40\\uc601\\ud55c\", \"\\uae40\\uc724\\uaddc\", \"\\ub098\\uae30\\uad8c\", \"\\ub958\\uad11\\ucca0\", \"\\ubc15\\uc21c\\uaddc\", \"\\ubc15\\ud6c8\\ubcd1\", \"\\ubc31\\uc601\\ud76c\", \"\\uc548\\uba85\\uc218\", \"\\uc720\\uc6b0\\ub9b0\", \"\\uc724\\uc131\\uc77c\", \"\\uc774\\uc601\\ud55c\", \"\\uc774\\uc740\\uc219\", \"\\uc774\\ud604\\ud76c\", \"\\uc7a5\\uc601\\ubbfc\", \"\\uc815\\uc7ac\\ud6c4\", \"\\ucd5c\\uc120\\uc778\", \"\\ud558\\ubbf8\\uacbd\"], \"xaxis\": \"x\", \"y\": [\"\\uad50\\ud1b5(\\uad00\\uc2ec)\", \"\\uad50\\ud1b5(\\uad00\\uc2ec)\", \"\\ud3d0\\uae30\\ubb3c(\\uad00\\uc2ec)\", \"\\ub3c4\\uc2dc\\ucca0\\ub3c4(\\uad00\\uc2ec)\", \"\\uc5c6\\uc74c(\\uad00\\uc2ec)\", \"\\ud658\\uacbd(\\uad00\\uc2ec)\", \"\\uc804\\uc790\\uc815\\ubd80(\\uad00\\uc2ec)\", \"\\ud658\\uacbd(\\uad00\\uc2ec)\", \"\\uad50\\ud1b5(\\uad00\\uc2ec)\", \"\\uc8fc\\ud0dd(\\uad00\\uc2ec)\", \"\\uc804\\uc790\\uc815\\ubd80(\\uad00\\uc2ec)\", \"\\uc804\\uc790\\uc815\\ubd80(\\uad00\\uc2ec)\", \"\\uc0c1\\ud558\\uc218\\ub3c4(\\uad00\\uc2ec)\", \"\\ub3c4\\uc2dc\\uac1c\\ubc1c(\\uad00\\uc2ec)\", \"\\ud658\\uacbd(\\uad00\\uc2ec)\", \"\\uc804\\uc790\\uc815\\ubd80(\\uad00\\uc2ec)\", \"\\ub3c4\\uc2dc\\uac1c\\ubc1c(\\uad00\\uc2ec)\", \"\\uc8fc\\ud0dd(\\uad00\\uc2ec)\", \"\\ub3c4\\uc2dc\\uac1c\\ubc1c(\\uad00\\uc2ec)\", \"\\uc804\\uc790\\uc815\\ubd80(\\uad00\\uc2ec)\", \"\\uc804\\uc790\\uc815\\ubd80(\\uad00\\uc2ec)\", \"\\uc804\\uc790\\uc815\\ubd80(\\uad00\\uc2ec)\"], \"yaxis\": \"y2\"}],\n",
              "                        {\"height\": 800, \"template\": {\"data\": {\"bar\": [{\"error_x\": {\"color\": \"#2a3f5f\"}, \"error_y\": {\"color\": \"#2a3f5f\"}, \"marker\": {\"line\": {\"color\": \"#E5ECF6\", \"width\": 0.5}}, \"type\": \"bar\"}], \"barpolar\": [{\"marker\": {\"line\": {\"color\": \"#E5ECF6\", \"width\": 0.5}}, \"type\": \"barpolar\"}], \"carpet\": [{\"aaxis\": {\"endlinecolor\": \"#2a3f5f\", \"gridcolor\": \"white\", \"linecolor\": \"white\", \"minorgridcolor\": \"white\", \"startlinecolor\": \"#2a3f5f\"}, \"baxis\": {\"endlinecolor\": \"#2a3f5f\", \"gridcolor\": \"white\", \"linecolor\": \"white\", \"minorgridcolor\": \"white\", \"startlinecolor\": \"#2a3f5f\"}, \"type\": \"carpet\"}], \"choropleth\": [{\"colorbar\": {\"outlinewidth\": 0, \"ticks\": \"\"}, \"type\": \"choropleth\"}], \"contour\": [{\"colorbar\": {\"outlinewidth\": 0, \"ticks\": \"\"}, \"colorscale\": [[0.0, \"#0d0887\"], [0.1111111111111111, \"#46039f\"], [0.2222222222222222, \"#7201a8\"], [0.3333333333333333, \"#9c179e\"], [0.4444444444444444, \"#bd3786\"], [0.5555555555555556, \"#d8576b\"], [0.6666666666666666, \"#ed7953\"], [0.7777777777777778, \"#fb9f3a\"], [0.8888888888888888, \"#fdca26\"], [1.0, \"#f0f921\"]], \"type\": \"contour\"}], \"contourcarpet\": [{\"colorbar\": {\"outlinewidth\": 0, \"ticks\": \"\"}, \"type\": \"contourcarpet\"}], \"heatmap\": [{\"colorbar\": {\"outlinewidth\": 0, \"ticks\": \"\"}, \"colorscale\": [[0.0, \"#0d0887\"], [0.1111111111111111, \"#46039f\"], [0.2222222222222222, \"#7201a8\"], [0.3333333333333333, \"#9c179e\"], [0.4444444444444444, \"#bd3786\"], [0.5555555555555556, \"#d8576b\"], [0.6666666666666666, \"#ed7953\"], [0.7777777777777778, \"#fb9f3a\"], [0.8888888888888888, \"#fdca26\"], [1.0, \"#f0f921\"]], \"type\": \"heatmap\"}], \"heatmapgl\": [{\"colorbar\": {\"outlinewidth\": 0, \"ticks\": \"\"}, \"colorscale\": [[0.0, \"#0d0887\"], [0.1111111111111111, \"#46039f\"], [0.2222222222222222, \"#7201a8\"], [0.3333333333333333, \"#9c179e\"], [0.4444444444444444, \"#bd3786\"], [0.5555555555555556, \"#d8576b\"], [0.6666666666666666, \"#ed7953\"], [0.7777777777777778, \"#fb9f3a\"], [0.8888888888888888, \"#fdca26\"], [1.0, \"#f0f921\"]], \"type\": \"heatmapgl\"}], \"histogram\": [{\"marker\": {\"colorbar\": {\"outlinewidth\": 0, \"ticks\": \"\"}}, \"type\": \"histogram\"}], \"histogram2d\": [{\"colorbar\": {\"outlinewidth\": 0, \"ticks\": \"\"}, \"colorscale\": [[0.0, \"#0d0887\"], [0.1111111111111111, \"#46039f\"], [0.2222222222222222, \"#7201a8\"], [0.3333333333333333, \"#9c179e\"], [0.4444444444444444, \"#bd3786\"], [0.5555555555555556, \"#d8576b\"], [0.6666666666666666, \"#ed7953\"], [0.7777777777777778, \"#fb9f3a\"], [0.8888888888888888, \"#fdca26\"], [1.0, \"#f0f921\"]], \"type\": \"histogram2d\"}], \"histogram2dcontour\": [{\"colorbar\": {\"outlinewidth\": 0, \"ticks\": \"\"}, \"colorscale\": [[0.0, \"#0d0887\"], [0.1111111111111111, \"#46039f\"], [0.2222222222222222, \"#7201a8\"], [0.3333333333333333, \"#9c179e\"], [0.4444444444444444, \"#bd3786\"], [0.5555555555555556, \"#d8576b\"], [0.6666666666666666, \"#ed7953\"], [0.7777777777777778, \"#fb9f3a\"], [0.8888888888888888, \"#fdca26\"], [1.0, \"#f0f921\"]], \"type\": \"histogram2dcontour\"}], \"mesh3d\": [{\"colorbar\": {\"outlinewidth\": 0, \"ticks\": \"\"}, \"type\": \"mesh3d\"}], \"parcoords\": [{\"line\": {\"colorbar\": {\"outlinewidth\": 0, \"ticks\": \"\"}}, \"type\": \"parcoords\"}], \"scatter\": [{\"marker\": {\"colorbar\": {\"outlinewidth\": 0, \"ticks\": \"\"}}, \"type\": \"scatter\"}], \"scatter3d\": [{\"line\": {\"colorbar\": {\"outlinewidth\": 0, \"ticks\": \"\"}}, \"marker\": {\"colorbar\": {\"outlinewidth\": 0, \"ticks\": \"\"}}, \"type\": \"scatter3d\"}], \"scattercarpet\": [{\"marker\": {\"colorbar\": {\"outlinewidth\": 0, \"ticks\": \"\"}}, \"type\": \"scattercarpet\"}], \"scattergeo\": [{\"marker\": {\"colorbar\": {\"outlinewidth\": 0, \"ticks\": \"\"}}, \"type\": \"scattergeo\"}], \"scattergl\": [{\"marker\": {\"colorbar\": {\"outlinewidth\": 0, \"ticks\": \"\"}}, \"type\": \"scattergl\"}], \"scattermapbox\": [{\"marker\": {\"colorbar\": {\"outlinewidth\": 0, \"ticks\": \"\"}}, \"type\": \"scattermapbox\"}], \"scatterpolar\": [{\"marker\": {\"colorbar\": {\"outlinewidth\": 0, \"ticks\": \"\"}}, \"type\": \"scatterpolar\"}], \"scatterpolargl\": [{\"marker\": {\"colorbar\": {\"outlinewidth\": 0, \"ticks\": \"\"}}, \"type\": \"scatterpolargl\"}], \"scatterternary\": [{\"marker\": {\"colorbar\": {\"outlinewidth\": 0, \"ticks\": \"\"}}, \"type\": \"scatterternary\"}], \"surface\": [{\"colorbar\": {\"outlinewidth\": 0, \"ticks\": \"\"}, \"colorscale\": [[0.0, \"#0d0887\"], [0.1111111111111111, \"#46039f\"], [0.2222222222222222, \"#7201a8\"], [0.3333333333333333, \"#9c179e\"], [0.4444444444444444, \"#bd3786\"], [0.5555555555555556, \"#d8576b\"], [0.6666666666666666, \"#ed7953\"], [0.7777777777777778, \"#fb9f3a\"], [0.8888888888888888, \"#fdca26\"], [1.0, \"#f0f921\"]], \"type\": \"surface\"}], \"table\": [{\"cells\": {\"fill\": {\"color\": \"#EBF0F8\"}, \"line\": {\"color\": \"white\"}}, \"header\": {\"fill\": {\"color\": \"#C8D4E3\"}, \"line\": {\"color\": \"white\"}}, \"type\": \"table\"}]}, \"layout\": {\"annotationdefaults\": {\"arrowcolor\": \"#2a3f5f\", \"arrowhead\": 0, \"arrowwidth\": 1}, \"colorscale\": {\"diverging\": [[0, \"#8e0152\"], [0.1, \"#c51b7d\"], [0.2, \"#de77ae\"], [0.3, \"#f1b6da\"], [0.4, \"#fde0ef\"], [0.5, \"#f7f7f7\"], [0.6, \"#e6f5d0\"], [0.7, \"#b8e186\"], [0.8, \"#7fbc41\"], [0.9, \"#4d9221\"], [1, \"#276419\"]], \"sequential\": [[0.0, \"#0d0887\"], [0.1111111111111111, \"#46039f\"], [0.2222222222222222, \"#7201a8\"], [0.3333333333333333, \"#9c179e\"], [0.4444444444444444, \"#bd3786\"], [0.5555555555555556, \"#d8576b\"], [0.6666666666666666, \"#ed7953\"], [0.7777777777777778, \"#fb9f3a\"], [0.8888888888888888, \"#fdca26\"], [1.0, \"#f0f921\"]], \"sequentialminus\": [[0.0, \"#0d0887\"], [0.1111111111111111, \"#46039f\"], [0.2222222222222222, \"#7201a8\"], [0.3333333333333333, \"#9c179e\"], [0.4444444444444444, \"#bd3786\"], [0.5555555555555556, \"#d8576b\"], [0.6666666666666666, \"#ed7953\"], [0.7777777777777778, \"#fb9f3a\"], [0.8888888888888888, \"#fdca26\"], [1.0, \"#f0f921\"]]}, \"colorway\": [\"#636efa\", \"#EF553B\", \"#00cc96\", \"#ab63fa\", \"#FFA15A\", \"#19d3f3\", \"#FF6692\", \"#B6E880\", \"#FF97FF\", \"#FECB52\"], \"font\": {\"color\": \"#2a3f5f\"}, \"geo\": {\"bgcolor\": \"white\", \"lakecolor\": \"white\", \"landcolor\": \"#E5ECF6\", \"showlakes\": true, \"showland\": true, \"subunitcolor\": \"white\"}, \"hoverlabel\": {\"align\": \"left\"}, \"hovermode\": \"closest\", \"mapbox\": {\"style\": \"light\"}, \"paper_bgcolor\": \"white\", \"plot_bgcolor\": \"#E5ECF6\", \"polar\": {\"angularaxis\": {\"gridcolor\": \"white\", \"linecolor\": \"white\", \"ticks\": \"\"}, \"bgcolor\": \"#E5ECF6\", \"radialaxis\": {\"gridcolor\": \"white\", \"linecolor\": \"white\", \"ticks\": \"\"}}, \"scene\": {\"xaxis\": {\"backgroundcolor\": \"#E5ECF6\", \"gridcolor\": \"white\", \"gridwidth\": 2, \"linecolor\": \"white\", \"showbackground\": true, \"ticks\": \"\", \"zerolinecolor\": \"white\"}, \"yaxis\": {\"backgroundcolor\": \"#E5ECF6\", \"gridcolor\": \"white\", \"gridwidth\": 2, \"linecolor\": \"white\", \"showbackground\": true, \"ticks\": \"\", \"zerolinecolor\": \"white\"}, \"zaxis\": {\"backgroundcolor\": \"#E5ECF6\", \"gridcolor\": \"white\", \"gridwidth\": 2, \"linecolor\": \"white\", \"showbackground\": true, \"ticks\": \"\", \"zerolinecolor\": \"white\"}}, \"shapedefaults\": {\"line\": {\"color\": \"#2a3f5f\"}}, \"ternary\": {\"aaxis\": {\"gridcolor\": \"white\", \"linecolor\": \"white\", \"ticks\": \"\"}, \"baxis\": {\"gridcolor\": \"white\", \"linecolor\": \"white\", \"ticks\": \"\"}, \"bgcolor\": \"#E5ECF6\", \"caxis\": {\"gridcolor\": \"white\", \"linecolor\": \"white\", \"ticks\": \"\"}}, \"title\": {\"x\": 0.05}, \"xaxis\": {\"automargin\": true, \"gridcolor\": \"white\", \"linecolor\": \"white\", \"ticks\": \"\", \"zerolinecolor\": \"white\", \"zerolinewidth\": 2}, \"yaxis\": {\"automargin\": true, \"gridcolor\": \"white\", \"linecolor\": \"white\", \"ticks\": \"\", \"zerolinecolor\": \"white\", \"zerolinewidth\": 2}}}, \"title\": {\"text\": \"\\uad50\\uc721\\uc0dd \\uc804\\ubb38-\\uad00\\uc2ec\\ubd84\\uc57c \\ube44\\uad50\"}, \"width\": 1500, \"xaxis\": {\"anchor\": \"y\", \"domain\": [0.0, 0.94], \"title\": {\"text\": \"<b>\\uad50\\uc721\\uc0dd</b>\"}}, \"yaxis\": {\"anchor\": \"x\", \"domain\": [0.0, 1.0], \"gridcolor\": \"rgba(99,110,250,0.2)\", \"gridwidth\": 0.05}, \"yaxis2\": {\"anchor\": \"x\", \"gridcolor\": \"rgba(239,85,59,0.2)\", \"gridwidth\": 0.05, \"overlaying\": \"y\", \"side\": \"right\"}},\n",
              "                        {\"responsive\": true}\n",
              "                    ).then(function(){\n",
              "                            \n",
              "var gd = document.getElementById('d967593c-3af4-4188-9b48-3b3ce260439e');\n",
              "var x = new MutationObserver(function (mutations, observer) {{\n",
              "        var display = window.getComputedStyle(gd).display;\n",
              "        if (!display || display === 'none') {{\n",
              "            console.log([gd, 'removed!']);\n",
              "            Plotly.purge(gd);\n",
              "            observer.disconnect();\n",
              "        }}\n",
              "}});\n",
              "\n",
              "// Listen for the removal of the full notebook cells\n",
              "var notebookContainer = gd.closest('#notebook-container');\n",
              "if (notebookContainer) {{\n",
              "    x.observe(notebookContainer, {childList: true});\n",
              "}}\n",
              "\n",
              "// Listen for the clearing of the current output cell\n",
              "var outputEl = gd.closest('.output');\n",
              "if (outputEl) {{\n",
              "    x.observe(outputEl, {childList: true});\n",
              "}}\n",
              "\n",
              "                        })\n",
              "                };\n",
              "                \n",
              "            </script>\n",
              "        </div>\n",
              "</body>\n",
              "</html>"
            ]
          },
          "metadata": {
            "tags": []
          }
        }
      ]
    },
    {
      "cell_type": "code",
      "metadata": {
        "colab_type": "code",
        "id": "RIY6-9oSULdi",
        "colab": {}
      },
      "source": [
        ""
      ],
      "execution_count": 0,
      "outputs": []
    },
    {
      "cell_type": "markdown",
      "metadata": {
        "colab_type": "text",
        "id": "_GLB2SKdx0ul"
      },
      "source": [
        "## y축 관심-전문분야 구분x"
      ]
    },
    {
      "cell_type": "code",
      "metadata": {
        "colab_type": "code",
        "id": "kzLjfb5dx0um",
        "colab": {}
      },
      "source": [
        "# scp_reg['전문분야(대)'] = scp_reg['전문분야(대)'].apply(lambda x: x[0:len(x)] +\"(전문)\")\n",
        "# scp_reg['관심분야(대)-편집'] = scp_reg['관심분야(대)-편집'].apply(lambda x: x[0:len(x)] +\"(관심)\")"
      ],
      "execution_count": 0,
      "outputs": []
    },
    {
      "cell_type": "code",
      "metadata": {
        "colab_type": "code",
        "id": "VHLenth8x0uo",
        "outputId": "e913b048-3698-42e5-ed3a-3fd3bab9dbae",
        "colab": {
          "base_uri": "https://localhost:8080/",
          "height": 542
        }
      },
      "source": [
        "fig = go.Figure(data = [\n",
        "    go.Scatter(\n",
        "    x=scp_reg['국문성명'],\n",
        "    y=scp_reg['전문분야(대)'],  \n",
        "    hoverinfo='skip',\n",
        "    mode='markers',\n",
        "    marker =dict(size=10, color='rgba(255,255,0,0.8)'),\n",
        "    name=\"전문분야\"),\n",
        "    go.Scatter(\n",
        "    x=scp_reg['국문성명'],\n",
        "    y=scp_reg['관심분야(대)-편집'], \n",
        "    hoverinfo='skip',\n",
        "    mode='markers',\n",
        "    marker =dict(size=10, color='rgba(102,192,235,0.8)'),\n",
        "    name=\"관심분야\")]\n",
        ")\n",
        "\n",
        "# Add figure title\n",
        "fig.update_layout(\n",
        "    title=dict(text=\"교육생 전문-관심분야 비교\", x = 0.5),\n",
        "    legend=dict(x=0.4, y=1.1, orientation=\"h\")\n",
        "    # width=1500,\n",
        "    # height=800,\n",
        ")\n",
        "\n",
        "# Set x-axis title\n",
        "fig.update_xaxes(title_text=\"<b>교육생</b>\", gridwidth=1, gridcolor='rgba(239,85,59,0.2)')\n",
        "\n",
        "\n",
        "# Set y-axes titles\n",
        "# fig.update_yaxes(secondary_y=False, gridwidth=0.05, gridcolor='rgba(99,110,250,0.2)')\n",
        "# fig.update_yaxes(secondary_y=True, gridwidth=0.05, gridcolor='rgba(239,85,59,0.2)')\n",
        "# fig.update_yaxes(secondary_y=False, gridwidth=0.05, )\n",
        "                 # gridcolor='rgba(99,110,250,0.2)'#\n",
        "\n",
        "fig.show()"
      ],
      "execution_count": 0,
      "outputs": [
        {
          "output_type": "display_data",
          "data": {
            "text/html": [
              "<html>\n",
              "<head><meta charset=\"utf-8\" /></head>\n",
              "<body>\n",
              "    <div>\n",
              "            <script src=\"https://cdnjs.cloudflare.com/ajax/libs/mathjax/2.7.5/MathJax.js?config=TeX-AMS-MML_SVG\"></script><script type=\"text/javascript\">if (window.MathJax) {MathJax.Hub.Config({SVG: {font: \"STIX-Web\"}});}</script>\n",
              "                <script type=\"text/javascript\">window.PlotlyConfig = {MathJaxConfig: 'local'};</script>\n",
              "        <script src=\"https://cdn.plot.ly/plotly-latest.min.js\"></script>    \n",
              "            <div id=\"6127220c-614e-4fd7-ab61-43336a3f6346\" class=\"plotly-graph-div\" style=\"height:525px; width:100%;\"></div>\n",
              "            <script type=\"text/javascript\">\n",
              "                \n",
              "                    window.PLOTLYENV=window.PLOTLYENV || {};\n",
              "                    \n",
              "                if (document.getElementById(\"6127220c-614e-4fd7-ab61-43336a3f6346\")) {\n",
              "                    Plotly.newPlot(\n",
              "                        '6127220c-614e-4fd7-ab61-43336a3f6346',\n",
              "                        [{\"hoverinfo\": \"skip\", \"marker\": {\"color\": \"rgba(255,255,0,0.8)\", \"size\": 10}, \"mode\": \"markers\", \"name\": \"\\uc804\\ubb38\\ubd84\\uc57c\", \"type\": \"scatter\", \"x\": [\"\\uace0\\uc8fc\\uc5f0\", \"\\uace0\\ud64d\\uc11d\", \"\\uae40\\ub300\\uc120\", \"\\uae40\\uc0c1\\ud5cc\", \"\\uae40\\uc138\\uc6c5\", \"\\uae40\\uc601\\ud55c\", \"\\uae40\\uc724\\uaddc\", \"\\ub098\\uae30\\uad8c\", \"\\ub958\\uad11\\ucca0\", \"\\ubc15\\uc21c\\uaddc\", \"\\ubc15\\ud6c8\\ubcd1\", \"\\ubc31\\uc601\\ud76c\", \"\\uc548\\uba85\\uc218\", \"\\uc720\\uc6b0\\ub9b0\", \"\\uc724\\uc131\\uc77c\", \"\\uc774\\uc601\\ud55c\", \"\\uc774\\uc740\\uc219\", \"\\uc774\\ud604\\ud76c\", \"\\uc7a5\\uc601\\ubbfc\", \"\\uc815\\uc7ac\\ud6c4\", \"\\ucd5c\\uc120\\uc778\", \"\\ud558\\ubbf8\\uacbd\"], \"y\": [\"\\uad50\\ud1b5\", \"\\uad50\\ud1b5\", \"\\ud3d0\\uae30\\ubb3c\", \"\\ub3c4\\uc2dc\\ucca0\\ub3c4\", \"\\uad6d\\uc81c\\ud611\\ub825\", \"\\ud589\\uc815\", \"\\ud589\\uc815\", \"\\uc0c1\\uc218\\ub3c4\", \"\\uad6d\\uc81c\\ud611\\ub825\", \"\\uc8fc\\ud0dd\", \"\\uc804\\uc790\\uc815\\ubd80\", \"\\uc804\\uc790\\uc815\\ubd80\", \"\\uad6d\\uc81c\\ud611\\ub825\", \"\\ub3c4\\uc2dc\\uac1c\\ubc1c\", \"\\ud658\\uacbd\", \"\\uc804\\uc790\\uc815\\ubd80\", \"\\ub3c4\\uc2dc\\uac1c\\ubc1c\", \"\\uc8fc\\ud0dd\", \"\\uad6d\\uc81c\\ud611\\ub825\", \"\\uc18c\\ubc29\\ubc29\\uc7ac\", \"\\uc804\\uc790\\uc815\\ubd80\", \"\\ud589\\uc815\"]}, {\"hoverinfo\": \"skip\", \"marker\": {\"color\": \"rgba(102,192,235,0.8)\", \"size\": 10}, \"mode\": \"markers\", \"name\": \"\\uad00\\uc2ec\\ubd84\\uc57c\", \"type\": \"scatter\", \"x\": [\"\\uace0\\uc8fc\\uc5f0\", \"\\uace0\\ud64d\\uc11d\", \"\\uae40\\ub300\\uc120\", \"\\uae40\\uc0c1\\ud5cc\", \"\\uae40\\uc138\\uc6c5\", \"\\uae40\\uc601\\ud55c\", \"\\uae40\\uc724\\uaddc\", \"\\ub098\\uae30\\uad8c\", \"\\ub958\\uad11\\ucca0\", \"\\ubc15\\uc21c\\uaddc\", \"\\ubc15\\ud6c8\\ubcd1\", \"\\ubc31\\uc601\\ud76c\", \"\\uc548\\uba85\\uc218\", \"\\uc720\\uc6b0\\ub9b0\", \"\\uc724\\uc131\\uc77c\", \"\\uc774\\uc601\\ud55c\", \"\\uc774\\uc740\\uc219\", \"\\uc774\\ud604\\ud76c\", \"\\uc7a5\\uc601\\ubbfc\", \"\\uc815\\uc7ac\\ud6c4\", \"\\ucd5c\\uc120\\uc778\", \"\\ud558\\ubbf8\\uacbd\"], \"y\": [\"\\uad50\\ud1b5\", \"\\uad50\\ud1b5\", \"\\ud3d0\\uae30\\ubb3c\", \"\\ub3c4\\uc2dc\\ucca0\\ub3c4\", \"\\uc5c6\\uc74c\", \"\\ud658\\uacbd\", \"\\uc804\\uc790\\uc815\\ubd80\", \"\\ud658\\uacbd\", \"\\uad50\\ud1b5\", \"\\uc8fc\\ud0dd\", \"\\uc804\\uc790\\uc815\\ubd80\", \"\\uc804\\uc790\\uc815\\ubd80\", \"\\uc0c1\\ud558\\uc218\\ub3c4\", \"\\ub3c4\\uc2dc\\uac1c\\ubc1c\", \"\\ud658\\uacbd\", \"\\uc804\\uc790\\uc815\\ubd80\", \"\\ub3c4\\uc2dc\\uac1c\\ubc1c\", \"\\uc8fc\\ud0dd\", \"\\ub3c4\\uc2dc\\uac1c\\ubc1c\", \"\\uc804\\uc790\\uc815\\ubd80\", \"\\uc804\\uc790\\uc815\\ubd80\", \"\\uc804\\uc790\\uc815\\ubd80\"]}],\n",
              "                        {\"legend\": {\"orientation\": \"h\", \"x\": 0.4, \"y\": 1.1}, \"template\": {\"data\": {\"bar\": [{\"error_x\": {\"color\": \"#2a3f5f\"}, \"error_y\": {\"color\": \"#2a3f5f\"}, \"marker\": {\"line\": {\"color\": \"#E5ECF6\", \"width\": 0.5}}, \"type\": \"bar\"}], \"barpolar\": [{\"marker\": {\"line\": {\"color\": \"#E5ECF6\", \"width\": 0.5}}, \"type\": \"barpolar\"}], \"carpet\": [{\"aaxis\": {\"endlinecolor\": \"#2a3f5f\", \"gridcolor\": \"white\", \"linecolor\": \"white\", \"minorgridcolor\": \"white\", \"startlinecolor\": \"#2a3f5f\"}, \"baxis\": {\"endlinecolor\": \"#2a3f5f\", \"gridcolor\": \"white\", \"linecolor\": \"white\", \"minorgridcolor\": \"white\", \"startlinecolor\": \"#2a3f5f\"}, \"type\": \"carpet\"}], \"choropleth\": [{\"colorbar\": {\"outlinewidth\": 0, \"ticks\": \"\"}, \"type\": \"choropleth\"}], \"contour\": [{\"colorbar\": {\"outlinewidth\": 0, \"ticks\": \"\"}, \"colorscale\": [[0.0, \"#0d0887\"], [0.1111111111111111, \"#46039f\"], [0.2222222222222222, \"#7201a8\"], [0.3333333333333333, \"#9c179e\"], [0.4444444444444444, \"#bd3786\"], [0.5555555555555556, \"#d8576b\"], [0.6666666666666666, \"#ed7953\"], [0.7777777777777778, \"#fb9f3a\"], [0.8888888888888888, \"#fdca26\"], [1.0, \"#f0f921\"]], \"type\": \"contour\"}], \"contourcarpet\": [{\"colorbar\": {\"outlinewidth\": 0, \"ticks\": \"\"}, \"type\": \"contourcarpet\"}], \"heatmap\": [{\"colorbar\": {\"outlinewidth\": 0, \"ticks\": \"\"}, \"colorscale\": [[0.0, \"#0d0887\"], [0.1111111111111111, \"#46039f\"], [0.2222222222222222, \"#7201a8\"], [0.3333333333333333, \"#9c179e\"], [0.4444444444444444, \"#bd3786\"], [0.5555555555555556, \"#d8576b\"], [0.6666666666666666, \"#ed7953\"], [0.7777777777777778, \"#fb9f3a\"], [0.8888888888888888, \"#fdca26\"], [1.0, \"#f0f921\"]], \"type\": \"heatmap\"}], \"heatmapgl\": [{\"colorbar\": {\"outlinewidth\": 0, \"ticks\": \"\"}, \"colorscale\": [[0.0, \"#0d0887\"], [0.1111111111111111, \"#46039f\"], [0.2222222222222222, \"#7201a8\"], [0.3333333333333333, \"#9c179e\"], [0.4444444444444444, \"#bd3786\"], [0.5555555555555556, \"#d8576b\"], [0.6666666666666666, \"#ed7953\"], [0.7777777777777778, \"#fb9f3a\"], [0.8888888888888888, \"#fdca26\"], [1.0, \"#f0f921\"]], \"type\": \"heatmapgl\"}], \"histogram\": [{\"marker\": {\"colorbar\": {\"outlinewidth\": 0, \"ticks\": \"\"}}, \"type\": \"histogram\"}], \"histogram2d\": [{\"colorbar\": {\"outlinewidth\": 0, \"ticks\": \"\"}, \"colorscale\": [[0.0, \"#0d0887\"], [0.1111111111111111, \"#46039f\"], [0.2222222222222222, \"#7201a8\"], [0.3333333333333333, \"#9c179e\"], [0.4444444444444444, \"#bd3786\"], [0.5555555555555556, \"#d8576b\"], [0.6666666666666666, \"#ed7953\"], [0.7777777777777778, \"#fb9f3a\"], [0.8888888888888888, \"#fdca26\"], [1.0, \"#f0f921\"]], \"type\": \"histogram2d\"}], \"histogram2dcontour\": [{\"colorbar\": {\"outlinewidth\": 0, \"ticks\": \"\"}, \"colorscale\": [[0.0, \"#0d0887\"], [0.1111111111111111, \"#46039f\"], [0.2222222222222222, \"#7201a8\"], [0.3333333333333333, \"#9c179e\"], [0.4444444444444444, \"#bd3786\"], [0.5555555555555556, \"#d8576b\"], [0.6666666666666666, \"#ed7953\"], [0.7777777777777778, \"#fb9f3a\"], [0.8888888888888888, \"#fdca26\"], [1.0, \"#f0f921\"]], \"type\": \"histogram2dcontour\"}], \"mesh3d\": [{\"colorbar\": {\"outlinewidth\": 0, \"ticks\": \"\"}, \"type\": \"mesh3d\"}], \"parcoords\": [{\"line\": {\"colorbar\": {\"outlinewidth\": 0, \"ticks\": \"\"}}, \"type\": \"parcoords\"}], \"scatter\": [{\"marker\": {\"colorbar\": {\"outlinewidth\": 0, \"ticks\": \"\"}}, \"type\": \"scatter\"}], \"scatter3d\": [{\"line\": {\"colorbar\": {\"outlinewidth\": 0, \"ticks\": \"\"}}, \"marker\": {\"colorbar\": {\"outlinewidth\": 0, \"ticks\": \"\"}}, \"type\": \"scatter3d\"}], \"scattercarpet\": [{\"marker\": {\"colorbar\": {\"outlinewidth\": 0, \"ticks\": \"\"}}, \"type\": \"scattercarpet\"}], \"scattergeo\": [{\"marker\": {\"colorbar\": {\"outlinewidth\": 0, \"ticks\": \"\"}}, \"type\": \"scattergeo\"}], \"scattergl\": [{\"marker\": {\"colorbar\": {\"outlinewidth\": 0, \"ticks\": \"\"}}, \"type\": \"scattergl\"}], \"scattermapbox\": [{\"marker\": {\"colorbar\": {\"outlinewidth\": 0, \"ticks\": \"\"}}, \"type\": \"scattermapbox\"}], \"scatterpolar\": [{\"marker\": {\"colorbar\": {\"outlinewidth\": 0, \"ticks\": \"\"}}, \"type\": \"scatterpolar\"}], \"scatterpolargl\": [{\"marker\": {\"colorbar\": {\"outlinewidth\": 0, \"ticks\": \"\"}}, \"type\": \"scatterpolargl\"}], \"scatterternary\": [{\"marker\": {\"colorbar\": {\"outlinewidth\": 0, \"ticks\": \"\"}}, \"type\": \"scatterternary\"}], \"surface\": [{\"colorbar\": {\"outlinewidth\": 0, \"ticks\": \"\"}, \"colorscale\": [[0.0, \"#0d0887\"], [0.1111111111111111, \"#46039f\"], [0.2222222222222222, \"#7201a8\"], [0.3333333333333333, \"#9c179e\"], [0.4444444444444444, \"#bd3786\"], [0.5555555555555556, \"#d8576b\"], [0.6666666666666666, \"#ed7953\"], [0.7777777777777778, \"#fb9f3a\"], [0.8888888888888888, \"#fdca26\"], [1.0, \"#f0f921\"]], \"type\": \"surface\"}], \"table\": [{\"cells\": {\"fill\": {\"color\": \"#EBF0F8\"}, \"line\": {\"color\": \"white\"}}, \"header\": {\"fill\": {\"color\": \"#C8D4E3\"}, \"line\": {\"color\": \"white\"}}, \"type\": \"table\"}]}, \"layout\": {\"annotationdefaults\": {\"arrowcolor\": \"#2a3f5f\", \"arrowhead\": 0, \"arrowwidth\": 1}, \"colorscale\": {\"diverging\": [[0, \"#8e0152\"], [0.1, \"#c51b7d\"], [0.2, \"#de77ae\"], [0.3, \"#f1b6da\"], [0.4, \"#fde0ef\"], [0.5, \"#f7f7f7\"], [0.6, \"#e6f5d0\"], [0.7, \"#b8e186\"], [0.8, \"#7fbc41\"], [0.9, \"#4d9221\"], [1, \"#276419\"]], \"sequential\": [[0.0, \"#0d0887\"], [0.1111111111111111, \"#46039f\"], [0.2222222222222222, \"#7201a8\"], [0.3333333333333333, \"#9c179e\"], [0.4444444444444444, \"#bd3786\"], [0.5555555555555556, \"#d8576b\"], [0.6666666666666666, \"#ed7953\"], [0.7777777777777778, \"#fb9f3a\"], [0.8888888888888888, \"#fdca26\"], [1.0, \"#f0f921\"]], \"sequentialminus\": [[0.0, \"#0d0887\"], [0.1111111111111111, \"#46039f\"], [0.2222222222222222, \"#7201a8\"], [0.3333333333333333, \"#9c179e\"], [0.4444444444444444, \"#bd3786\"], [0.5555555555555556, \"#d8576b\"], [0.6666666666666666, \"#ed7953\"], [0.7777777777777778, \"#fb9f3a\"], [0.8888888888888888, \"#fdca26\"], [1.0, \"#f0f921\"]]}, \"colorway\": [\"#636efa\", \"#EF553B\", \"#00cc96\", \"#ab63fa\", \"#FFA15A\", \"#19d3f3\", \"#FF6692\", \"#B6E880\", \"#FF97FF\", \"#FECB52\"], \"font\": {\"color\": \"#2a3f5f\"}, \"geo\": {\"bgcolor\": \"white\", \"lakecolor\": \"white\", \"landcolor\": \"#E5ECF6\", \"showlakes\": true, \"showland\": true, \"subunitcolor\": \"white\"}, \"hoverlabel\": {\"align\": \"left\"}, \"hovermode\": \"closest\", \"mapbox\": {\"style\": \"light\"}, \"paper_bgcolor\": \"white\", \"plot_bgcolor\": \"#E5ECF6\", \"polar\": {\"angularaxis\": {\"gridcolor\": \"white\", \"linecolor\": \"white\", \"ticks\": \"\"}, \"bgcolor\": \"#E5ECF6\", \"radialaxis\": {\"gridcolor\": \"white\", \"linecolor\": \"white\", \"ticks\": \"\"}}, \"scene\": {\"xaxis\": {\"backgroundcolor\": \"#E5ECF6\", \"gridcolor\": \"white\", \"gridwidth\": 2, \"linecolor\": \"white\", \"showbackground\": true, \"ticks\": \"\", \"zerolinecolor\": \"white\"}, \"yaxis\": {\"backgroundcolor\": \"#E5ECF6\", \"gridcolor\": \"white\", \"gridwidth\": 2, \"linecolor\": \"white\", \"showbackground\": true, \"ticks\": \"\", \"zerolinecolor\": \"white\"}, \"zaxis\": {\"backgroundcolor\": \"#E5ECF6\", \"gridcolor\": \"white\", \"gridwidth\": 2, \"linecolor\": \"white\", \"showbackground\": true, \"ticks\": \"\", \"zerolinecolor\": \"white\"}}, \"shapedefaults\": {\"line\": {\"color\": \"#2a3f5f\"}}, \"ternary\": {\"aaxis\": {\"gridcolor\": \"white\", \"linecolor\": \"white\", \"ticks\": \"\"}, \"baxis\": {\"gridcolor\": \"white\", \"linecolor\": \"white\", \"ticks\": \"\"}, \"bgcolor\": \"#E5ECF6\", \"caxis\": {\"gridcolor\": \"white\", \"linecolor\": \"white\", \"ticks\": \"\"}}, \"title\": {\"x\": 0.05}, \"xaxis\": {\"automargin\": true, \"gridcolor\": \"white\", \"linecolor\": \"white\", \"ticks\": \"\", \"zerolinecolor\": \"white\", \"zerolinewidth\": 2}, \"yaxis\": {\"automargin\": true, \"gridcolor\": \"white\", \"linecolor\": \"white\", \"ticks\": \"\", \"zerolinecolor\": \"white\", \"zerolinewidth\": 2}}}, \"title\": {\"text\": \"\\uad50\\uc721\\uc0dd \\uc804\\ubb38-\\uad00\\uc2ec\\ubd84\\uc57c \\ube44\\uad50\", \"x\": 0.5}, \"xaxis\": {\"gridcolor\": \"rgba(239,85,59,0.2)\", \"gridwidth\": 1, \"title\": {\"text\": \"<b>\\uad50\\uc721\\uc0dd</b>\"}}},\n",
              "                        {\"responsive\": true}\n",
              "                    ).then(function(){\n",
              "                            \n",
              "var gd = document.getElementById('6127220c-614e-4fd7-ab61-43336a3f6346');\n",
              "var x = new MutationObserver(function (mutations, observer) {{\n",
              "        var display = window.getComputedStyle(gd).display;\n",
              "        if (!display || display === 'none') {{\n",
              "            console.log([gd, 'removed!']);\n",
              "            Plotly.purge(gd);\n",
              "            observer.disconnect();\n",
              "        }}\n",
              "}});\n",
              "\n",
              "// Listen for the removal of the full notebook cells\n",
              "var notebookContainer = gd.closest('#notebook-container');\n",
              "if (notebookContainer) {{\n",
              "    x.observe(notebookContainer, {childList: true});\n",
              "}}\n",
              "\n",
              "// Listen for the clearing of the current output cell\n",
              "var outputEl = gd.closest('.output');\n",
              "if (outputEl) {{\n",
              "    x.observe(outputEl, {childList: true});\n",
              "}}\n",
              "\n",
              "                        })\n",
              "                };\n",
              "                \n",
              "            </script>\n",
              "        </div>\n",
              "</body>\n",
              "</html>"
            ]
          },
          "metadata": {
            "tags": []
          }
        }
      ]
    },
    {
      "cell_type": "code",
      "metadata": {
        "colab_type": "code",
        "id": "0hN4R-ih7iI-",
        "colab": {}
      },
      "source": [
        ""
      ],
      "execution_count": 0,
      "outputs": []
    },
    {
      "cell_type": "markdown",
      "metadata": {
        "colab_type": "text",
        "id": "kKVhFJ2Gxocw"
      },
      "source": [
        "# 사후설문분석"
      ]
    },
    {
      "cell_type": "code",
      "metadata": {
        "colab_type": "code",
        "id": "nnh84qu1G3jv",
        "outputId": "b6c6c5ed-b180-4a80-b0f6-022937130fcd",
        "colab": {
          "base_uri": "https://localhost:8080/",
          "height": 318
        }
      },
      "source": [
        "post.columns"
      ],
      "execution_count": 8,
      "outputs": [
        {
          "output_type": "execute_result",
          "data": {
            "text/plain": [
              "Index(['ID', '시작 시간', '완료 시간', '전자 메일', '성명', '전문분야', '기관', '기관(응답)', '근속년수',\n",
              "       '근속년수(응답)', '생년', '성별', '교육과정의 내용은 교육생 상황에 맞게 구성되었다.',\n",
              "       '교육과정의 내용과 수준은 이해하기 적절하였다.',\n",
              "       '교육과정의 교육방법(강의, 실습/토의, 현장학습 등)은 교육내용을 이해하는데 적합하였다.',\n",
              "       '교육운영진은 교육과정을 원활하게 운영하였다. (일정관리, 강의준비, 교육생 지원 등)',\n",
              "       '교육운영진은 응급상황 등 사건사고에 대해 적절히 대처하였다.', '인지적 (Knowledge) 영역 - 학습내용 A',\n",
              "       '인지적 (Knowledge) 영역 - 학습내용 B', '인지적 (Knowledge) 영역 - 학습내용 C',\n",
              "       '인지적 (Knowledge) 영역 - 학습내용 D', '기술적 (Skill) 영역 - 학습내용 A',\n",
              "       '기술적 (Skill) 영역 - 학습내용 B', '기술적 (Skill) 영역 - 학습내용 C',\n",
              "       '기술적 (Skill) 영역 - 학습내용 D', '태도적 (Attidtude) 영역 - 학습내용 A',\n",
              "       '태도적 (Attidtude) 영역 - 학습내용 B', '태도적 (Attidtude) 영역 - 학습내용 C',\n",
              "       '태도적 (Attidtude) 영역 - 학습내용 D', '정책자문사례발표의 주제는 교육과정 목표와 연계되어 있었다.',\n",
              "       '정책자문사례발표의 세션시간은 충분하였다.', '정책자문사례발표 자료 작성 및 발표를 위한 안내가 충분히 이루어졌다.',\n",
              "       '정책자문사례발표의 세션 담당자는 피드백을 충분히 제공하였다.',\n",
              "       '정책자문사례발표 세션은 연수내용을 이해하는데 도움이 되었다.',\n",
              "       '정책자문사례발표는 현장에서 실무능력을 향상시키는데 도움이 되었다.', '학습내용에 대한 의견 또는 기타 의견'],\n",
              "      dtype='object')"
            ]
          },
          "metadata": {
            "tags": []
          },
          "execution_count": 8
        }
      ]
    },
    {
      "cell_type": "markdown",
      "metadata": {
        "colab_type": "text",
        "id": "4kRCXrWnTAP7"
      },
      "source": [
        "## 만족도 문항 분석"
      ]
    },
    {
      "cell_type": "code",
      "metadata": {
        "colab_type": "code",
        "id": "rd0SZSCOT7Wf",
        "colab": {}
      },
      "source": [
        "cs_mean = post.pivot_table(\n",
        "    values=['교육과정의 내용은 교육생 상황에 맞게 구성되었다.',\n",
        "            '교육과정의 내용과 수준은 이해하기 적절하였다.', \n",
        "            '교육과정의 교육방법(강의, 실습/토의, 현장학습 등)은 교육내용을 이해하는데 적합하였다.',\n",
        "            '교육운영진은 교육과정을 원활하게 운영하였다. (일정관리, 강의준비, 교육생 지원 등)',\n",
        "            '교육운영진은 응급상황 등 사건사고에 대해 적절히 대처하였다.'],\n",
        "            index=['기관'],aggfunc='mean',margins=True,\n",
        "            margins_name=\"평균\").round(2).rename(\n",
        "            columns={\n",
        "            '교육과정의 내용은 교육생 상황에 맞게 구성되었다.': '내용은 교육생 상황에 맞게 구성되었다',\n",
        "            '교육과정의 내용과 수준은 이해하기 적절하였다.':'내용과 수준은 이해하기 적절하였다', \n",
        "            '교육과정의 교육방법(강의, 실습/토의, 현장학습 등)은 교육내용을 이해하는데 적합하였다.':\n",
        "            '교육방법은 내용을 이해하는데 적합하였다',\n",
        "            '교육운영진은 교육과정을 원활하게 운영하였다. (일정관리, 강의준비, 교육생 지원 등)':\n",
        "            '운영진은 교육과정을 원활하게 운영하였다',\n",
        "            '교육운영진은 응급상황 등 사건사고에 대해 적절히 대처하였다.':\n",
        "            '운영진은 응급상황 등 사건사고에 대해 적절히 대처하였다'\n",
        "            })"
      ],
      "execution_count": 0,
      "outputs": []
    },
    {
      "cell_type": "code",
      "metadata": {
        "colab_type": "code",
        "id": "uTyvWu5u72To",
        "outputId": "b069674b-e85f-4996-99cf-3ba5774a6c73",
        "colab": {
          "base_uri": "https://localhost:8080/",
          "height": 241
        }
      },
      "source": [
        "cs_mean_int = cs_mean.mean(axis=1).round(2)\n",
        "cs_mean[\"평균\"] = cs_mean_int\n",
        "cs_mean = cs_mean.T.reset_index().rename(columns={\"index\": \"문항\"})\n",
        "cs_mean.index.names = ['']\n",
        "cs_mean"
      ],
      "execution_count": 10,
      "outputs": [
        {
          "output_type": "execute_result",
          "data": {
            "text/html": [
              "<div>\n",
              "<style scoped>\n",
              "    .dataframe tbody tr th:only-of-type {\n",
              "        vertical-align: middle;\n",
              "    }\n",
              "\n",
              "    .dataframe tbody tr th {\n",
              "        vertical-align: top;\n",
              "    }\n",
              "\n",
              "    .dataframe thead th {\n",
              "        text-align: right;\n",
              "    }\n",
              "</style>\n",
              "<table border=\"1\" class=\"dataframe\">\n",
              "  <thead>\n",
              "    <tr style=\"text-align: right;\">\n",
              "      <th>기관</th>\n",
              "      <th>문항</th>\n",
              "      <th>국제기구</th>\n",
              "      <th>민간기업</th>\n",
              "      <th>서울시</th>\n",
              "      <th>서울시 산하기관</th>\n",
              "      <th>중앙부처/산하기관</th>\n",
              "      <th>평균</th>\n",
              "    </tr>\n",
              "    <tr>\n",
              "      <th></th>\n",
              "      <th></th>\n",
              "      <th></th>\n",
              "      <th></th>\n",
              "      <th></th>\n",
              "      <th></th>\n",
              "      <th></th>\n",
              "      <th></th>\n",
              "    </tr>\n",
              "  </thead>\n",
              "  <tbody>\n",
              "    <tr>\n",
              "      <th>0</th>\n",
              "      <td>교육방법은 내용을 이해하는데 적합하였다</td>\n",
              "      <td>5.0</td>\n",
              "      <td>4.71</td>\n",
              "      <td>4.43</td>\n",
              "      <td>4.33</td>\n",
              "      <td>4.75</td>\n",
              "      <td>4.59</td>\n",
              "    </tr>\n",
              "    <tr>\n",
              "      <th>1</th>\n",
              "      <td>내용과 수준은 이해하기 적절하였다</td>\n",
              "      <td>4.0</td>\n",
              "      <td>4.43</td>\n",
              "      <td>4.43</td>\n",
              "      <td>4.33</td>\n",
              "      <td>4.75</td>\n",
              "      <td>4.45</td>\n",
              "    </tr>\n",
              "    <tr>\n",
              "      <th>2</th>\n",
              "      <td>내용은 교육생 상황에 맞게 구성되었다</td>\n",
              "      <td>4.0</td>\n",
              "      <td>4.43</td>\n",
              "      <td>4.29</td>\n",
              "      <td>3.33</td>\n",
              "      <td>4.50</td>\n",
              "      <td>4.23</td>\n",
              "    </tr>\n",
              "    <tr>\n",
              "      <th>3</th>\n",
              "      <td>운영진은 교육과정을 원활하게 운영하였다</td>\n",
              "      <td>5.0</td>\n",
              "      <td>4.43</td>\n",
              "      <td>4.14</td>\n",
              "      <td>4.67</td>\n",
              "      <td>4.75</td>\n",
              "      <td>4.45</td>\n",
              "    </tr>\n",
              "    <tr>\n",
              "      <th>4</th>\n",
              "      <td>운영진은 응급상황 등 사건사고에 대해 적절히 대처하였다</td>\n",
              "      <td>5.0</td>\n",
              "      <td>4.57</td>\n",
              "      <td>4.14</td>\n",
              "      <td>4.33</td>\n",
              "      <td>4.75</td>\n",
              "      <td>4.45</td>\n",
              "    </tr>\n",
              "    <tr>\n",
              "      <th>5</th>\n",
              "      <td>평균</td>\n",
              "      <td>4.6</td>\n",
              "      <td>4.51</td>\n",
              "      <td>4.29</td>\n",
              "      <td>4.20</td>\n",
              "      <td>4.70</td>\n",
              "      <td>4.43</td>\n",
              "    </tr>\n",
              "  </tbody>\n",
              "</table>\n",
              "</div>"
            ],
            "text/plain": [
              "기관                              문항  국제기구  민간기업   서울시  서울시 산하기관  중앙부처/산하기관    평균\n",
              "                                                                               \n",
              "0            교육방법은 내용을 이해하는데 적합하였다   5.0  4.71  4.43      4.33       4.75  4.59\n",
              "1               내용과 수준은 이해하기 적절하였다   4.0  4.43  4.43      4.33       4.75  4.45\n",
              "2             내용은 교육생 상황에 맞게 구성되었다   4.0  4.43  4.29      3.33       4.50  4.23\n",
              "3            운영진은 교육과정을 원활하게 운영하였다   5.0  4.43  4.14      4.67       4.75  4.45\n",
              "4   운영진은 응급상황 등 사건사고에 대해 적절히 대처하였다   5.0  4.57  4.14      4.33       4.75  4.45\n",
              "5                               평균   4.6  4.51  4.29      4.20       4.70  4.43"
            ]
          },
          "metadata": {
            "tags": []
          },
          "execution_count": 10
        }
      ]
    },
    {
      "cell_type": "code",
      "metadata": {
        "colab_type": "code",
        "id": "LYeJ8W5H5sWT",
        "colab": {}
      },
      "source": [
        ""
      ],
      "execution_count": 0,
      "outputs": []
    },
    {
      "cell_type": "code",
      "metadata": {
        "colab_type": "code",
        "id": "TwSu8pCyPCuN",
        "outputId": "095f1e21-335c-4066-b3ea-fcbeb346e0f8",
        "colab": {
          "base_uri": "https://localhost:8080/",
          "height": 1000
        }
      },
      "source": [
        "fig = make_subplots(\n",
        "    rows=4, cols=2, vertical_spacing=0.09, \n",
        "    specs=[[{\"colspan\": 2, \"type\": \"table\"}, None],[{},{}],[{},{}],[{},{}]],\n",
        "    subplot_titles=(\"문항별, 소속별 만족도 현황\", \"소속별 만족도\",\n",
        "    \"교육방법은 내용을 이해하는데 적합하였다\", \"내용과 수준은 이해하기 적절하였다\",\n",
        "    \"내용은 교육생 상황에 맞게 구성되었다\", \n",
        "    \"운영진은 교육과정을 원활하게 운영하였다\", \n",
        "    \"<br>운영진은 응급상황 등 사건사고에 대해<br>적절히 대처하였다\"))\n",
        "\n",
        "fig.add_trace(go.Table(\n",
        "    columnwidth = [220,50,50,50,80,80,50], #columnorder = [1,2],\n",
        "    header=dict(height=25, \n",
        "        values=list(cs_mean.columns), fill_color='#094688',\n",
        "        font=dict(size=[14, 11], color='#ffffff'), align='center'),\n",
        "    cells=dict(\n",
        "        values=[cs_mean[k].tolist() for k in cs_mean.columns[:]],\n",
        "        font=dict(size=[10, 12], color='#000000'), align=['left', 'center'])),\n",
        "    row=1, col=1)\n",
        "\n",
        "fig.add_trace(go.Bar(showlegend=False, width = 0.8,\n",
        "    x = cs_mean.drop(index=5, columns='평균').mean().round(2).index,\n",
        "    y = cs_mean.drop(index=5, columns='평균').mean().round(2),\n",
        "    text = cs_mean.drop(index=5, columns='평균').mean().round(2),\n",
        "    textposition = 'auto',\n",
        "    marker=dict(color=-cs_mean.drop(index=5, columns='평균').mean().round(2),\n",
        "                cmax=14.5, cmin=-14.5, colorscale='Viridis')\n",
        "    ),row=2, col=1)\n",
        "\n",
        "fig.add_trace(go.Bar(showlegend=False,\n",
        "    x = post['교육과정의 교육방법(강의, 실습/토의, 현장학습 등)은 교육내용을 이해하는데 적합하였다.'].value_counts().index,\n",
        "    y = post['교육과정의 교육방법(강의, 실습/토의, 현장학습 등)은 교육내용을 이해하는데 적합하였다.'].value_counts(),\n",
        "    text = post['교육과정의 교육방법(강의, 실습/토의, 현장학습 등)은 교육내용을 이해하는데 적합하였다.'].value_counts(),    \n",
        "    textposition = 'auto',\n",
        "    marker=dict(color=-post['교육과정의 교육방법(강의, 실습/토의, 현장학습 등)은 교육내용을 이해하는데 적합하였다.'\n",
        "    ].value_counts(), cmax=14.5, cmin=-14.5, colorscale='RdBu')\n",
        "    ), row=2, col=2)\n",
        "\n",
        "fig.add_trace(go.Bar(showlegend=False,\n",
        "    x = post['교육과정의 내용과 수준은 이해하기 적절하였다.'].value_counts().index,\n",
        "    y = post['교육과정의 내용과 수준은 이해하기 적절하였다.'].value_counts(),\n",
        "    text = post['교육과정의 내용과 수준은 이해하기 적절하였다.'].value_counts(),\n",
        "    textposition = 'auto',\n",
        "    marker=dict(color=-post['교육과정의 내용과 수준은 이해하기 적절하였다.'\n",
        "    ].value_counts(),cmax=14.5, cmin=-14.5, colorscale='Viridis')\n",
        "    ),row=3, col=1)\n",
        "\n",
        "fig.add_trace(go.Bar(showlegend=False,\n",
        "    x = post['교육과정의 내용은 교육생 상황에 맞게 구성되었다.'].value_counts().index,\n",
        "    y = post['교육과정의 내용은 교육생 상황에 맞게 구성되었다.'].value_counts(),\n",
        "    text = post['교육과정의 내용은 교육생 상황에 맞게 구성되었다.'].value_counts(),\n",
        "    textposition = 'auto',\n",
        "    marker=dict(color=-post['교육과정의 내용은 교육생 상황에 맞게 구성되었다.'\n",
        "    ].value_counts(),cmax=14.5, cmin=-14.5, colorscale='RdBu')\n",
        "    ),row=3, col=2)\n",
        "\n",
        "fig.add_trace(go.Bar(showlegend=False,\n",
        "    x = post['교육운영진은 교육과정을 원활하게 운영하였다. (일정관리, 강의준비, 교육생 지원 등)'].value_counts().index,\n",
        "    y = post['교육운영진은 교육과정을 원활하게 운영하였다. (일정관리, 강의준비, 교육생 지원 등)'].value_counts(),\n",
        "    text = post['교육운영진은 교육과정을 원활하게 운영하였다. (일정관리, 강의준비, 교육생 지원 등)'].value_counts(),\n",
        "    textposition = 'auto',\n",
        "    marker=dict(color=-post['교육운영진은 교육과정을 원활하게 운영하였다. (일정관리, 강의준비, 교육생 지원 등)'\n",
        "    ].value_counts(),cmax=14.5, cmin=-14.5, colorscale='Viridis')\n",
        "    ),row=4, col=1)\n",
        "\n",
        "fig.add_trace(go.Bar(showlegend=False, \n",
        "    x = post['교육운영진은 응급상황 등 사건사고에 대해 적절히 대처하였다.'].value_counts().index,\n",
        "    y = post['교육운영진은 응급상황 등 사건사고에 대해 적절히 대처하였다.'].value_counts(),\n",
        "    text = post['교육운영진은 응급상황 등 사건사고에 대해 적절히 대처하였다.'].value_counts(),\n",
        "    textposition = 'auto',\n",
        "    marker=dict(color=-post['교육운영진은 응급상황 등 사건사고에 대해 적절히 대처하였다.'\n",
        "    ].value_counts(), cmax=14.5, cmin=-14.5, colorscale='RdBu')\n",
        "    ),row=4, col=2)\n",
        "\n",
        "fig.update_xaxes(title=dict(text='만족도', font_size=13),range=[2.5,5.5],row=4)\n",
        "fig.update_yaxes(title=dict(text='응답자수', font_size=13),range=[0,13.5], col=1)\n",
        "\n",
        "fig.update_layout(title=dict(text ='만족도 조사 결과',x=0.5, y=0.97),\n",
        "                  margin = dict(t=100), font_size = 15, width=950, height=1000,\n",
        "                  xaxis=dict(title=dict(text='소속', font_size=13),\n",
        "                             tickfont_size=8.5),\n",
        "                  yaxis=dict(title=dict(text='평균', font_size=13),range=[0,5.5],\n",
        "                             tickfont_size=15),\n",
        "                  yaxis2=dict(title=dict(text='응답자수', font_size=13),range=[0,13.5],\n",
        "                             tickfont_size=15),\n",
        "                  )"
      ],
      "execution_count": 11,
      "outputs": [
        {
          "output_type": "display_data",
          "data": {
            "text/html": [
              "<html>\n",
              "<head><meta charset=\"utf-8\" /></head>\n",
              "<body>\n",
              "    <div>\n",
              "            <script src=\"https://cdnjs.cloudflare.com/ajax/libs/mathjax/2.7.5/MathJax.js?config=TeX-AMS-MML_SVG\"></script><script type=\"text/javascript\">if (window.MathJax) {MathJax.Hub.Config({SVG: {font: \"STIX-Web\"}});}</script>\n",
              "                <script type=\"text/javascript\">window.PlotlyConfig = {MathJaxConfig: 'local'};</script>\n",
              "        <script src=\"https://cdn.plot.ly/plotly-latest.min.js\"></script>    \n",
              "            <div id=\"479b5629-809f-4cb1-89c1-d9ce30b461e9\" class=\"plotly-graph-div\" style=\"height:1000px; width:950px;\"></div>\n",
              "            <script type=\"text/javascript\">\n",
              "                \n",
              "                    window.PLOTLYENV=window.PLOTLYENV || {};\n",
              "                    \n",
              "                if (document.getElementById(\"479b5629-809f-4cb1-89c1-d9ce30b461e9\")) {\n",
              "                    Plotly.newPlot(\n",
              "                        '479b5629-809f-4cb1-89c1-d9ce30b461e9',\n",
              "                        [{\"cells\": {\"align\": [\"left\", \"center\"], \"font\": {\"color\": \"#000000\", \"size\": [10, 12]}, \"values\": [[\"\\uad50\\uc721\\ubc29\\ubc95\\uc740 \\ub0b4\\uc6a9\\uc744 \\uc774\\ud574\\ud558\\ub294\\ub370 \\uc801\\ud569\\ud558\\uc600\\ub2e4\", \"\\ub0b4\\uc6a9\\uacfc \\uc218\\uc900\\uc740 \\uc774\\ud574\\ud558\\uae30 \\uc801\\uc808\\ud558\\uc600\\ub2e4\", \"\\ub0b4\\uc6a9\\uc740 \\uad50\\uc721\\uc0dd \\uc0c1\\ud669\\uc5d0 \\ub9de\\uac8c \\uad6c\\uc131\\ub418\\uc5c8\\ub2e4\", \"\\uc6b4\\uc601\\uc9c4\\uc740 \\uad50\\uc721\\uacfc\\uc815\\uc744 \\uc6d0\\ud65c\\ud558\\uac8c \\uc6b4\\uc601\\ud558\\uc600\\ub2e4\", \"\\uc6b4\\uc601\\uc9c4\\uc740 \\uc751\\uae09\\uc0c1\\ud669 \\ub4f1 \\uc0ac\\uac74\\uc0ac\\uace0\\uc5d0 \\ub300\\ud574 \\uc801\\uc808\\ud788 \\ub300\\ucc98\\ud558\\uc600\\ub2e4\", \"\\ud3c9\\uade0\"], [5.0, 4.0, 4.0, 5.0, 5.0, 4.6], [4.71, 4.43, 4.43, 4.43, 4.57, 4.51], [4.43, 4.43, 4.29, 4.14, 4.14, 4.29], [4.33, 4.33, 3.33, 4.67, 4.33, 4.2], [4.75, 4.75, 4.5, 4.75, 4.75, 4.7], [4.59, 4.45, 4.23, 4.45, 4.45, 4.43]]}, \"columnwidth\": [220, 50, 50, 50, 80, 80, 50], \"domain\": {\"x\": [0.0, 1.0], \"y\": [0.8175, 1.0]}, \"header\": {\"align\": \"center\", \"fill\": {\"color\": \"#094688\"}, \"font\": {\"color\": \"#ffffff\", \"size\": [14, 11]}, \"height\": 25, \"values\": [\"\\ubb38\\ud56d\", \"\\uad6d\\uc81c\\uae30\\uad6c\", \"\\ubbfc\\uac04\\uae30\\uc5c5\", \"\\uc11c\\uc6b8\\uc2dc\", \"\\uc11c\\uc6b8\\uc2dc \\uc0b0\\ud558\\uae30\\uad00\", \"\\uc911\\uc559\\ubd80\\ucc98/\\uc0b0\\ud558\\uae30\\uad00\", \"\\ud3c9\\uade0\"]}, \"type\": \"table\"}, {\"marker\": {\"cmax\": 14.5, \"cmin\": -14.5, \"color\": [-4.6, -4.51, -4.29, -4.2, -4.7], \"colorscale\": [[0.0, \"#440154\"], [0.1111111111111111, \"#482878\"], [0.2222222222222222, \"#3e4989\"], [0.3333333333333333, \"#31688e\"], [0.4444444444444444, \"#26828e\"], [0.5555555555555556, \"#1f9e89\"], [0.6666666666666666, \"#35b779\"], [0.7777777777777778, \"#6ece58\"], [0.8888888888888888, \"#b5de2b\"], [1.0, \"#fde725\"]]}, \"showlegend\": false, \"text\": [4.6, 4.51, 4.29, 4.2, 4.7], \"textposition\": \"auto\", \"type\": \"bar\", \"width\": 0.8, \"x\": [\"\\uad6d\\uc81c\\uae30\\uad6c\", \"\\ubbfc\\uac04\\uae30\\uc5c5\", \"\\uc11c\\uc6b8\\uc2dc\", \"\\uc11c\\uc6b8\\uc2dc \\uc0b0\\ud558\\uae30\\uad00\", \"\\uc911\\uc559\\ubd80\\ucc98/\\uc0b0\\ud558\\uae30\\uad00\"], \"xaxis\": \"x\", \"y\": [4.6, 4.51, 4.29, 4.2, 4.7], \"yaxis\": \"y\"}, {\"marker\": {\"cmax\": 14.5, \"cmin\": -14.5, \"color\": [-13, -9], \"colorscale\": [[0.0, \"rgb(103,0,31)\"], [0.1, \"rgb(178,24,43)\"], [0.2, \"rgb(214,96,77)\"], [0.3, \"rgb(244,165,130)\"], [0.4, \"rgb(253,219,199)\"], [0.5, \"rgb(247,247,247)\"], [0.6, \"rgb(209,229,240)\"], [0.7, \"rgb(146,197,222)\"], [0.8, \"rgb(67,147,195)\"], [0.9, \"rgb(33,102,172)\"], [1.0, \"rgb(5,48,97)\"]]}, \"showlegend\": false, \"text\": [13.0, 9.0], \"textposition\": \"auto\", \"type\": \"bar\", \"x\": [5, 4], \"xaxis\": \"x2\", \"y\": [13, 9], \"yaxis\": \"y2\"}, {\"marker\": {\"cmax\": 14.5, \"cmin\": -14.5, \"color\": [-11, -10, -1], \"colorscale\": [[0.0, \"#440154\"], [0.1111111111111111, \"#482878\"], [0.2222222222222222, \"#3e4989\"], [0.3333333333333333, \"#31688e\"], [0.4444444444444444, \"#26828e\"], [0.5555555555555556, \"#1f9e89\"], [0.6666666666666666, \"#35b779\"], [0.7777777777777778, \"#6ece58\"], [0.8888888888888888, \"#b5de2b\"], [1.0, \"#fde725\"]]}, \"showlegend\": false, \"text\": [11.0, 10.0, 1.0], \"textposition\": \"auto\", \"type\": \"bar\", \"x\": [5, 4, 3], \"xaxis\": \"x3\", \"y\": [11, 10, 1], \"yaxis\": \"y3\"}, {\"marker\": {\"cmax\": 14.5, \"cmin\": -14.5, \"color\": [-10, -7, -5], \"colorscale\": [[0.0, \"rgb(103,0,31)\"], [0.1, \"rgb(178,24,43)\"], [0.2, \"rgb(214,96,77)\"], [0.3, \"rgb(244,165,130)\"], [0.4, \"rgb(253,219,199)\"], [0.5, \"rgb(247,247,247)\"], [0.6, \"rgb(209,229,240)\"], [0.7, \"rgb(146,197,222)\"], [0.8, \"rgb(67,147,195)\"], [0.9, \"rgb(33,102,172)\"], [1.0, \"rgb(5,48,97)\"]]}, \"showlegend\": false, \"text\": [10.0, 7.0, 5.0], \"textposition\": \"auto\", \"type\": \"bar\", \"x\": [5, 4, 3], \"xaxis\": \"x4\", \"y\": [10, 7, 5], \"yaxis\": \"y4\"}, {\"marker\": {\"cmax\": 14.5, \"cmin\": -14.5, \"color\": [-11, -10, -1], \"colorscale\": [[0.0, \"#440154\"], [0.1111111111111111, \"#482878\"], [0.2222222222222222, \"#3e4989\"], [0.3333333333333333, \"#31688e\"], [0.4444444444444444, \"#26828e\"], [0.5555555555555556, \"#1f9e89\"], [0.6666666666666666, \"#35b779\"], [0.7777777777777778, \"#6ece58\"], [0.8888888888888888, \"#b5de2b\"], [1.0, \"#fde725\"]]}, \"showlegend\": false, \"text\": [11.0, 10.0, 1.0], \"textposition\": \"auto\", \"type\": \"bar\", \"x\": [5, 4, 3], \"xaxis\": \"x5\", \"y\": [11, 10, 1], \"yaxis\": \"y5\"}, {\"marker\": {\"cmax\": 14.5, \"cmin\": -14.5, \"color\": [-11, -10, -1], \"colorscale\": [[0.0, \"rgb(103,0,31)\"], [0.1, \"rgb(178,24,43)\"], [0.2, \"rgb(214,96,77)\"], [0.3, \"rgb(244,165,130)\"], [0.4, \"rgb(253,219,199)\"], [0.5, \"rgb(247,247,247)\"], [0.6, \"rgb(209,229,240)\"], [0.7, \"rgb(146,197,222)\"], [0.8, \"rgb(67,147,195)\"], [0.9, \"rgb(33,102,172)\"], [1.0, \"rgb(5,48,97)\"]]}, \"showlegend\": false, \"text\": [11.0, 10.0, 1.0], \"textposition\": \"auto\", \"type\": \"bar\", \"x\": [5, 4, 3], \"xaxis\": \"x6\", \"y\": [11, 10, 1], \"yaxis\": \"y6\"}],\n",
              "                        {\"annotations\": [{\"font\": {\"size\": 16}, \"showarrow\": false, \"text\": \"\\ubb38\\ud56d\\ubcc4, \\uc18c\\uc18d\\ubcc4 \\ub9cc\\uc871\\ub3c4 \\ud604\\ud669\", \"x\": 0.5, \"xanchor\": \"center\", \"xref\": \"paper\", \"y\": 1.0, \"yanchor\": \"bottom\", \"yref\": \"paper\"}, {\"font\": {\"size\": 16}, \"showarrow\": false, \"text\": \"\\uc18c\\uc18d\\ubcc4 \\ub9cc\\uc871\\ub3c4\", \"x\": 0.225, \"xanchor\": \"center\", \"xref\": \"paper\", \"y\": 0.7274999999999999, \"yanchor\": \"bottom\", \"yref\": \"paper\"}, {\"font\": {\"size\": 16}, \"showarrow\": false, \"text\": \"\\uad50\\uc721\\ubc29\\ubc95\\uc740 \\ub0b4\\uc6a9\\uc744 \\uc774\\ud574\\ud558\\ub294\\ub370 \\uc801\\ud569\\ud558\\uc600\\ub2e4\", \"x\": 0.775, \"xanchor\": \"center\", \"xref\": \"paper\", \"y\": 0.7274999999999999, \"yanchor\": \"bottom\", \"yref\": \"paper\"}, {\"font\": {\"size\": 16}, \"showarrow\": false, \"text\": \"\\ub0b4\\uc6a9\\uacfc \\uc218\\uc900\\uc740 \\uc774\\ud574\\ud558\\uae30 \\uc801\\uc808\\ud558\\uc600\\ub2e4\", \"x\": 0.225, \"xanchor\": \"center\", \"xref\": \"paper\", \"y\": 0.45499999999999996, \"yanchor\": \"bottom\", \"yref\": \"paper\"}, {\"font\": {\"size\": 16}, \"showarrow\": false, \"text\": \"\\ub0b4\\uc6a9\\uc740 \\uad50\\uc721\\uc0dd \\uc0c1\\ud669\\uc5d0 \\ub9de\\uac8c \\uad6c\\uc131\\ub418\\uc5c8\\ub2e4\", \"x\": 0.775, \"xanchor\": \"center\", \"xref\": \"paper\", \"y\": 0.45499999999999996, \"yanchor\": \"bottom\", \"yref\": \"paper\"}, {\"font\": {\"size\": 16}, \"showarrow\": false, \"text\": \"\\uc6b4\\uc601\\uc9c4\\uc740 \\uad50\\uc721\\uacfc\\uc815\\uc744 \\uc6d0\\ud65c\\ud558\\uac8c \\uc6b4\\uc601\\ud558\\uc600\\ub2e4\", \"x\": 0.225, \"xanchor\": \"center\", \"xref\": \"paper\", \"y\": 0.1825, \"yanchor\": \"bottom\", \"yref\": \"paper\"}, {\"font\": {\"size\": 16}, \"showarrow\": false, \"text\": \"<br>\\uc6b4\\uc601\\uc9c4\\uc740 \\uc751\\uae09\\uc0c1\\ud669 \\ub4f1 \\uc0ac\\uac74\\uc0ac\\uace0\\uc5d0 \\ub300\\ud574<br>\\uc801\\uc808\\ud788 \\ub300\\ucc98\\ud558\\uc600\\ub2e4\", \"x\": 0.775, \"xanchor\": \"center\", \"xref\": \"paper\", \"y\": 0.1825, \"yanchor\": \"bottom\", \"yref\": \"paper\"}], \"font\": {\"size\": 15}, \"height\": 1000, \"margin\": {\"t\": 100}, \"template\": {\"data\": {\"bar\": [{\"error_x\": {\"color\": \"#2a3f5f\"}, \"error_y\": {\"color\": \"#2a3f5f\"}, \"marker\": {\"line\": {\"color\": \"#E5ECF6\", \"width\": 0.5}}, \"type\": \"bar\"}], \"barpolar\": [{\"marker\": {\"line\": {\"color\": \"#E5ECF6\", \"width\": 0.5}}, \"type\": \"barpolar\"}], \"carpet\": [{\"aaxis\": {\"endlinecolor\": \"#2a3f5f\", \"gridcolor\": \"white\", \"linecolor\": \"white\", \"minorgridcolor\": \"white\", \"startlinecolor\": \"#2a3f5f\"}, \"baxis\": {\"endlinecolor\": \"#2a3f5f\", \"gridcolor\": \"white\", \"linecolor\": \"white\", \"minorgridcolor\": \"white\", \"startlinecolor\": \"#2a3f5f\"}, \"type\": \"carpet\"}], \"choropleth\": [{\"colorbar\": {\"outlinewidth\": 0, \"ticks\": \"\"}, \"type\": \"choropleth\"}], \"contour\": [{\"colorbar\": {\"outlinewidth\": 0, \"ticks\": \"\"}, \"colorscale\": [[0.0, \"#0d0887\"], [0.1111111111111111, \"#46039f\"], [0.2222222222222222, \"#7201a8\"], [0.3333333333333333, \"#9c179e\"], [0.4444444444444444, \"#bd3786\"], [0.5555555555555556, \"#d8576b\"], [0.6666666666666666, \"#ed7953\"], [0.7777777777777778, \"#fb9f3a\"], [0.8888888888888888, \"#fdca26\"], [1.0, \"#f0f921\"]], \"type\": \"contour\"}], \"contourcarpet\": [{\"colorbar\": {\"outlinewidth\": 0, \"ticks\": \"\"}, \"type\": \"contourcarpet\"}], \"heatmap\": [{\"colorbar\": {\"outlinewidth\": 0, \"ticks\": \"\"}, \"colorscale\": [[0.0, \"#0d0887\"], [0.1111111111111111, \"#46039f\"], [0.2222222222222222, \"#7201a8\"], [0.3333333333333333, \"#9c179e\"], [0.4444444444444444, \"#bd3786\"], [0.5555555555555556, \"#d8576b\"], [0.6666666666666666, \"#ed7953\"], [0.7777777777777778, \"#fb9f3a\"], [0.8888888888888888, \"#fdca26\"], [1.0, \"#f0f921\"]], \"type\": \"heatmap\"}], \"heatmapgl\": [{\"colorbar\": {\"outlinewidth\": 0, \"ticks\": \"\"}, \"colorscale\": [[0.0, \"#0d0887\"], [0.1111111111111111, \"#46039f\"], [0.2222222222222222, \"#7201a8\"], [0.3333333333333333, \"#9c179e\"], [0.4444444444444444, \"#bd3786\"], [0.5555555555555556, \"#d8576b\"], [0.6666666666666666, \"#ed7953\"], [0.7777777777777778, \"#fb9f3a\"], [0.8888888888888888, \"#fdca26\"], [1.0, \"#f0f921\"]], \"type\": \"heatmapgl\"}], \"histogram\": [{\"marker\": {\"colorbar\": {\"outlinewidth\": 0, \"ticks\": \"\"}}, \"type\": \"histogram\"}], \"histogram2d\": [{\"colorbar\": {\"outlinewidth\": 0, \"ticks\": \"\"}, \"colorscale\": [[0.0, \"#0d0887\"], [0.1111111111111111, \"#46039f\"], [0.2222222222222222, \"#7201a8\"], [0.3333333333333333, \"#9c179e\"], [0.4444444444444444, \"#bd3786\"], [0.5555555555555556, \"#d8576b\"], [0.6666666666666666, \"#ed7953\"], [0.7777777777777778, \"#fb9f3a\"], [0.8888888888888888, \"#fdca26\"], [1.0, \"#f0f921\"]], \"type\": \"histogram2d\"}], \"histogram2dcontour\": [{\"colorbar\": {\"outlinewidth\": 0, \"ticks\": \"\"}, \"colorscale\": [[0.0, \"#0d0887\"], [0.1111111111111111, \"#46039f\"], [0.2222222222222222, \"#7201a8\"], [0.3333333333333333, \"#9c179e\"], [0.4444444444444444, \"#bd3786\"], [0.5555555555555556, \"#d8576b\"], [0.6666666666666666, \"#ed7953\"], [0.7777777777777778, \"#fb9f3a\"], [0.8888888888888888, \"#fdca26\"], [1.0, \"#f0f921\"]], \"type\": \"histogram2dcontour\"}], \"mesh3d\": [{\"colorbar\": {\"outlinewidth\": 0, \"ticks\": \"\"}, \"type\": \"mesh3d\"}], \"parcoords\": [{\"line\": {\"colorbar\": {\"outlinewidth\": 0, \"ticks\": \"\"}}, \"type\": \"parcoords\"}], \"scatter\": [{\"marker\": {\"colorbar\": {\"outlinewidth\": 0, \"ticks\": \"\"}}, \"type\": \"scatter\"}], \"scatter3d\": [{\"line\": {\"colorbar\": {\"outlinewidth\": 0, \"ticks\": \"\"}}, \"marker\": {\"colorbar\": {\"outlinewidth\": 0, \"ticks\": \"\"}}, \"type\": \"scatter3d\"}], \"scattercarpet\": [{\"marker\": {\"colorbar\": {\"outlinewidth\": 0, \"ticks\": \"\"}}, \"type\": \"scattercarpet\"}], \"scattergeo\": [{\"marker\": {\"colorbar\": {\"outlinewidth\": 0, \"ticks\": \"\"}}, \"type\": \"scattergeo\"}], \"scattergl\": [{\"marker\": {\"colorbar\": {\"outlinewidth\": 0, \"ticks\": \"\"}}, \"type\": \"scattergl\"}], \"scattermapbox\": [{\"marker\": {\"colorbar\": {\"outlinewidth\": 0, \"ticks\": \"\"}}, \"type\": \"scattermapbox\"}], \"scatterpolar\": [{\"marker\": {\"colorbar\": {\"outlinewidth\": 0, \"ticks\": \"\"}}, \"type\": \"scatterpolar\"}], \"scatterpolargl\": [{\"marker\": {\"colorbar\": {\"outlinewidth\": 0, \"ticks\": \"\"}}, \"type\": \"scatterpolargl\"}], \"scatterternary\": [{\"marker\": {\"colorbar\": {\"outlinewidth\": 0, \"ticks\": \"\"}}, \"type\": \"scatterternary\"}], \"surface\": [{\"colorbar\": {\"outlinewidth\": 0, \"ticks\": \"\"}, \"colorscale\": [[0.0, \"#0d0887\"], [0.1111111111111111, \"#46039f\"], [0.2222222222222222, \"#7201a8\"], [0.3333333333333333, \"#9c179e\"], [0.4444444444444444, \"#bd3786\"], [0.5555555555555556, \"#d8576b\"], [0.6666666666666666, \"#ed7953\"], [0.7777777777777778, \"#fb9f3a\"], [0.8888888888888888, \"#fdca26\"], [1.0, \"#f0f921\"]], \"type\": \"surface\"}], \"table\": [{\"cells\": {\"fill\": {\"color\": \"#EBF0F8\"}, \"line\": {\"color\": \"white\"}}, \"header\": {\"fill\": {\"color\": \"#C8D4E3\"}, \"line\": {\"color\": \"white\"}}, \"type\": \"table\"}]}, \"layout\": {\"annotationdefaults\": {\"arrowcolor\": \"#2a3f5f\", \"arrowhead\": 0, \"arrowwidth\": 1}, \"colorscale\": {\"diverging\": [[0, \"#8e0152\"], [0.1, \"#c51b7d\"], [0.2, \"#de77ae\"], [0.3, \"#f1b6da\"], [0.4, \"#fde0ef\"], [0.5, \"#f7f7f7\"], [0.6, \"#e6f5d0\"], [0.7, \"#b8e186\"], [0.8, \"#7fbc41\"], [0.9, \"#4d9221\"], [1, \"#276419\"]], \"sequential\": [[0.0, \"#0d0887\"], [0.1111111111111111, \"#46039f\"], [0.2222222222222222, \"#7201a8\"], [0.3333333333333333, \"#9c179e\"], [0.4444444444444444, \"#bd3786\"], [0.5555555555555556, \"#d8576b\"], [0.6666666666666666, \"#ed7953\"], [0.7777777777777778, \"#fb9f3a\"], [0.8888888888888888, \"#fdca26\"], [1.0, \"#f0f921\"]], \"sequentialminus\": [[0.0, \"#0d0887\"], [0.1111111111111111, \"#46039f\"], [0.2222222222222222, \"#7201a8\"], [0.3333333333333333, \"#9c179e\"], [0.4444444444444444, \"#bd3786\"], [0.5555555555555556, \"#d8576b\"], [0.6666666666666666, \"#ed7953\"], [0.7777777777777778, \"#fb9f3a\"], [0.8888888888888888, \"#fdca26\"], [1.0, \"#f0f921\"]]}, \"colorway\": [\"#636efa\", \"#EF553B\", \"#00cc96\", \"#ab63fa\", \"#FFA15A\", \"#19d3f3\", \"#FF6692\", \"#B6E880\", \"#FF97FF\", \"#FECB52\"], \"font\": {\"color\": \"#2a3f5f\"}, \"geo\": {\"bgcolor\": \"white\", \"lakecolor\": \"white\", \"landcolor\": \"#E5ECF6\", \"showlakes\": true, \"showland\": true, \"subunitcolor\": \"white\"}, \"hoverlabel\": {\"align\": \"left\"}, \"hovermode\": \"closest\", \"mapbox\": {\"style\": \"light\"}, \"paper_bgcolor\": \"white\", \"plot_bgcolor\": \"#E5ECF6\", \"polar\": {\"angularaxis\": {\"gridcolor\": \"white\", \"linecolor\": \"white\", \"ticks\": \"\"}, \"bgcolor\": \"#E5ECF6\", \"radialaxis\": {\"gridcolor\": \"white\", \"linecolor\": \"white\", \"ticks\": \"\"}}, \"scene\": {\"xaxis\": {\"backgroundcolor\": \"#E5ECF6\", \"gridcolor\": \"white\", \"gridwidth\": 2, \"linecolor\": \"white\", \"showbackground\": true, \"ticks\": \"\", \"zerolinecolor\": \"white\"}, \"yaxis\": {\"backgroundcolor\": \"#E5ECF6\", \"gridcolor\": \"white\", \"gridwidth\": 2, \"linecolor\": \"white\", \"showbackground\": true, \"ticks\": \"\", \"zerolinecolor\": \"white\"}, \"zaxis\": {\"backgroundcolor\": \"#E5ECF6\", \"gridcolor\": \"white\", \"gridwidth\": 2, \"linecolor\": \"white\", \"showbackground\": true, \"ticks\": \"\", \"zerolinecolor\": \"white\"}}, \"shapedefaults\": {\"line\": {\"color\": \"#2a3f5f\"}}, \"ternary\": {\"aaxis\": {\"gridcolor\": \"white\", \"linecolor\": \"white\", \"ticks\": \"\"}, \"baxis\": {\"gridcolor\": \"white\", \"linecolor\": \"white\", \"ticks\": \"\"}, \"bgcolor\": \"#E5ECF6\", \"caxis\": {\"gridcolor\": \"white\", \"linecolor\": \"white\", \"ticks\": \"\"}}, \"title\": {\"x\": 0.05}, \"xaxis\": {\"automargin\": true, \"gridcolor\": \"white\", \"linecolor\": \"white\", \"ticks\": \"\", \"zerolinecolor\": \"white\", \"zerolinewidth\": 2}, \"yaxis\": {\"automargin\": true, \"gridcolor\": \"white\", \"linecolor\": \"white\", \"ticks\": \"\", \"zerolinecolor\": \"white\", \"zerolinewidth\": 2}}}, \"title\": {\"text\": \"\\ub9cc\\uc871\\ub3c4 \\uc870\\uc0ac \\uacb0\\uacfc\", \"x\": 0.5, \"y\": 0.97}, \"width\": 950, \"xaxis\": {\"anchor\": \"y\", \"domain\": [0.0, 0.45], \"tickfont\": {\"size\": 8.5}, \"title\": {\"font\": {\"size\": 13}, \"text\": \"\\uc18c\\uc18d\"}}, \"xaxis2\": {\"anchor\": \"y2\", \"domain\": [0.55, 1.0]}, \"xaxis3\": {\"anchor\": \"y3\", \"domain\": [0.0, 0.45]}, \"xaxis4\": {\"anchor\": \"y4\", \"domain\": [0.55, 1.0]}, \"xaxis5\": {\"anchor\": \"y5\", \"domain\": [0.0, 0.45], \"range\": [2.5, 5.5], \"title\": {\"font\": {\"size\": 13}, \"text\": \"\\ub9cc\\uc871\\ub3c4\"}}, \"xaxis6\": {\"anchor\": \"y6\", \"domain\": [0.55, 1.0], \"range\": [2.5, 5.5], \"title\": {\"font\": {\"size\": 13}, \"text\": \"\\ub9cc\\uc871\\ub3c4\"}}, \"yaxis\": {\"anchor\": \"x\", \"domain\": [0.5449999999999999, 0.7274999999999999], \"range\": [0, 5.5], \"tickfont\": {\"size\": 15}, \"title\": {\"font\": {\"size\": 13}, \"text\": \"\\ud3c9\\uade0\"}}, \"yaxis2\": {\"anchor\": \"x2\", \"domain\": [0.5449999999999999, 0.7274999999999999], \"range\": [0, 13.5], \"tickfont\": {\"size\": 15}, \"title\": {\"font\": {\"size\": 13}, \"text\": \"\\uc751\\ub2f5\\uc790\\uc218\"}}, \"yaxis3\": {\"anchor\": \"x3\", \"domain\": [0.27249999999999996, 0.45499999999999996], \"range\": [0, 13.5], \"title\": {\"font\": {\"size\": 13}, \"text\": \"\\uc751\\ub2f5\\uc790\\uc218\"}}, \"yaxis4\": {\"anchor\": \"x4\", \"domain\": [0.27249999999999996, 0.45499999999999996]}, \"yaxis5\": {\"anchor\": \"x5\", \"domain\": [0.0, 0.1825], \"range\": [0, 13.5], \"title\": {\"font\": {\"size\": 13}, \"text\": \"\\uc751\\ub2f5\\uc790\\uc218\"}}, \"yaxis6\": {\"anchor\": \"x6\", \"domain\": [0.0, 0.1825]}},\n",
              "                        {\"responsive\": true}\n",
              "                    ).then(function(){\n",
              "                            \n",
              "var gd = document.getElementById('479b5629-809f-4cb1-89c1-d9ce30b461e9');\n",
              "var x = new MutationObserver(function (mutations, observer) {{\n",
              "        var display = window.getComputedStyle(gd).display;\n",
              "        if (!display || display === 'none') {{\n",
              "            console.log([gd, 'removed!']);\n",
              "            Plotly.purge(gd);\n",
              "            observer.disconnect();\n",
              "        }}\n",
              "}});\n",
              "\n",
              "// Listen for the removal of the full notebook cells\n",
              "var notebookContainer = gd.closest('#notebook-container');\n",
              "if (notebookContainer) {{\n",
              "    x.observe(notebookContainer, {childList: true});\n",
              "}}\n",
              "\n",
              "// Listen for the clearing of the current output cell\n",
              "var outputEl = gd.closest('.output');\n",
              "if (outputEl) {{\n",
              "    x.observe(outputEl, {childList: true});\n",
              "}}\n",
              "\n",
              "                        })\n",
              "                };\n",
              "                \n",
              "            </script>\n",
              "        </div>\n",
              "</body>\n",
              "</html>"
            ]
          },
          "metadata": {
            "tags": []
          }
        }
      ]
    },
    {
      "cell_type": "markdown",
      "metadata": {
        "colab_type": "text",
        "id": "Qsmk1DJQ56l7"
      },
      "source": [
        ""
      ]
    },
    {
      "cell_type": "markdown",
      "metadata": {
        "colab_type": "text",
        "id": "GVkZsGUJXD74"
      },
      "source": [
        "## 정책자문사례발표 문항 분석"
      ]
    },
    {
      "cell_type": "code",
      "metadata": {
        "colab_type": "code",
        "id": "SQYKiNIEXD75",
        "colab": {}
      },
      "source": [
        "pcs_mean = post.pivot_table(\n",
        "    values=['정책자문사례발표의 주제는 교육과정 목표와 연계되어 있었다.',\n",
        "            '정책자문사례발표의 세션시간은 충분하였다.', \n",
        "            '정책자문사례발표 자료 작성 및 발표를 위한 안내가 충분히 이루어졌다.',\n",
        "            '정책자문사례발표의 세션 담당자는 피드백을 충분히 제공하였다.',\n",
        "            '정책자문사례발표 세션은 연수내용을 이해하는데 도움이 되었다.', \n",
        "            '정책자문사례발표는 현장에서 실무능력을 향상시키는데 도움이 되었다.'],\n",
        "            index=['기관'],aggfunc='mean',margins=True,\n",
        "            margins_name=\"평균\").round(2).rename(\n",
        "            columns={\n",
        "            '정책자문사례발표의 주제는 교육과정 목표와 연계되어 있었다.':'주제는 교육과정 목표와 연계되어 있었다',\n",
        "            '정책자문사례발표의 세션시간은 충분하였다.':'세션시간은 충분하였다', \n",
        "            '정책자문사례발표 자료 작성 및 발표를 위한 안내가 충분히 이루어졌다.':'자료 작성 및 발표를 위한 안내가 충분히 이루어졌다',\n",
        "            '정책자문사례발표의 세션 담당자는 피드백을 충분히 제공하였다.':'세션 담당자는 피드백을 충분히 제공하였다',\n",
        "            '정책자문사례발표 세션은 연수내용을 이해하는데 도움이 되었다.':'연수내용을 이해하는데 도움이 되었다', \n",
        "            '정책자문사례발표는 현장에서 실무능력을 향상시키는데 도움이 되었다.':'현장에서 실무능력을 향상시키는데 도움이 되었다'\n",
        "            })"
      ],
      "execution_count": 0,
      "outputs": []
    },
    {
      "cell_type": "code",
      "metadata": {
        "colab_type": "code",
        "id": "vBxAEOT2XD78",
        "outputId": "ed2d6032-5279-46f6-efbb-147a7e5d248e",
        "colab": {
          "base_uri": "https://localhost:8080/",
          "height": 271
        }
      },
      "source": [
        "pcs_mean_int = pcs_mean.mean(axis=1).round(2)\n",
        "pcs_mean[\"평균\"] = pcs_mean_int\n",
        "pcs_mean = pcs_mean.T.reset_index().rename(columns={\"index\": \"문항\"})\n",
        "pcs_mean.index.names = ['']\n",
        "pcs_mean"
      ],
      "execution_count": 13,
      "outputs": [
        {
          "output_type": "execute_result",
          "data": {
            "text/html": [
              "<div>\n",
              "<style scoped>\n",
              "    .dataframe tbody tr th:only-of-type {\n",
              "        vertical-align: middle;\n",
              "    }\n",
              "\n",
              "    .dataframe tbody tr th {\n",
              "        vertical-align: top;\n",
              "    }\n",
              "\n",
              "    .dataframe thead th {\n",
              "        text-align: right;\n",
              "    }\n",
              "</style>\n",
              "<table border=\"1\" class=\"dataframe\">\n",
              "  <thead>\n",
              "    <tr style=\"text-align: right;\">\n",
              "      <th>기관</th>\n",
              "      <th>문항</th>\n",
              "      <th>국제기구</th>\n",
              "      <th>민간기업</th>\n",
              "      <th>서울시</th>\n",
              "      <th>서울시 산하기관</th>\n",
              "      <th>중앙부처/산하기관</th>\n",
              "      <th>평균</th>\n",
              "    </tr>\n",
              "    <tr>\n",
              "      <th></th>\n",
              "      <th></th>\n",
              "      <th></th>\n",
              "      <th></th>\n",
              "      <th></th>\n",
              "      <th></th>\n",
              "      <th></th>\n",
              "      <th></th>\n",
              "    </tr>\n",
              "  </thead>\n",
              "  <tbody>\n",
              "    <tr>\n",
              "      <th>0</th>\n",
              "      <td>연수내용을 이해하는데 도움이 되었다</td>\n",
              "      <td>5.0</td>\n",
              "      <td>4.57</td>\n",
              "      <td>4.29</td>\n",
              "      <td>4.33</td>\n",
              "      <td>4.75</td>\n",
              "      <td>4.50</td>\n",
              "    </tr>\n",
              "    <tr>\n",
              "      <th>1</th>\n",
              "      <td>자료 작성 및 발표를 위한 안내가 충분히 이루어졌다</td>\n",
              "      <td>5.0</td>\n",
              "      <td>4.29</td>\n",
              "      <td>4.29</td>\n",
              "      <td>4.33</td>\n",
              "      <td>4.50</td>\n",
              "      <td>4.36</td>\n",
              "    </tr>\n",
              "    <tr>\n",
              "      <th>2</th>\n",
              "      <td>현장에서 실무능력을 향상시키는데 도움이 되었다</td>\n",
              "      <td>5.0</td>\n",
              "      <td>4.57</td>\n",
              "      <td>4.14</td>\n",
              "      <td>4.33</td>\n",
              "      <td>4.75</td>\n",
              "      <td>4.45</td>\n",
              "    </tr>\n",
              "    <tr>\n",
              "      <th>3</th>\n",
              "      <td>세션 담당자는 피드백을 충분히 제공하였다</td>\n",
              "      <td>5.0</td>\n",
              "      <td>4.43</td>\n",
              "      <td>4.14</td>\n",
              "      <td>4.33</td>\n",
              "      <td>4.75</td>\n",
              "      <td>4.41</td>\n",
              "    </tr>\n",
              "    <tr>\n",
              "      <th>4</th>\n",
              "      <td>세션시간은 충분하였다</td>\n",
              "      <td>5.0</td>\n",
              "      <td>4.43</td>\n",
              "      <td>4.29</td>\n",
              "      <td>4.00</td>\n",
              "      <td>4.50</td>\n",
              "      <td>4.36</td>\n",
              "    </tr>\n",
              "    <tr>\n",
              "      <th>5</th>\n",
              "      <td>주제는 교육과정 목표와 연계되어 있었다</td>\n",
              "      <td>5.0</td>\n",
              "      <td>4.71</td>\n",
              "      <td>4.29</td>\n",
              "      <td>4.33</td>\n",
              "      <td>4.50</td>\n",
              "      <td>4.50</td>\n",
              "    </tr>\n",
              "    <tr>\n",
              "      <th>6</th>\n",
              "      <td>평균</td>\n",
              "      <td>5.0</td>\n",
              "      <td>4.50</td>\n",
              "      <td>4.24</td>\n",
              "      <td>4.27</td>\n",
              "      <td>4.62</td>\n",
              "      <td>4.43</td>\n",
              "    </tr>\n",
              "  </tbody>\n",
              "</table>\n",
              "</div>"
            ],
            "text/plain": [
              "기관                            문항  국제기구  민간기업   서울시  서울시 산하기관  중앙부처/산하기관    평균\n",
              "                                                                             \n",
              "0            연수내용을 이해하는데 도움이 되었다   5.0  4.57  4.29      4.33       4.75  4.50\n",
              "1   자료 작성 및 발표를 위한 안내가 충분히 이루어졌다   5.0  4.29  4.29      4.33       4.50  4.36\n",
              "2      현장에서 실무능력을 향상시키는데 도움이 되었다   5.0  4.57  4.14      4.33       4.75  4.45\n",
              "3         세션 담당자는 피드백을 충분히 제공하였다   5.0  4.43  4.14      4.33       4.75  4.41\n",
              "4                    세션시간은 충분하였다   5.0  4.43  4.29      4.00       4.50  4.36\n",
              "5          주제는 교육과정 목표와 연계되어 있었다   5.0  4.71  4.29      4.33       4.50  4.50\n",
              "6                             평균   5.0  4.50  4.24      4.27       4.62  4.43"
            ]
          },
          "metadata": {
            "tags": []
          },
          "execution_count": 13
        }
      ]
    },
    {
      "cell_type": "code",
      "metadata": {
        "colab_type": "code",
        "id": "IuNG5fXzZOoR",
        "outputId": "a8b5886a-2520-4ce6-a29a-16e8e55ed231",
        "colab": {
          "base_uri": "https://localhost:8080/",
          "height": 1000
        }
      },
      "source": [
        "fig = make_subplots(\n",
        "    rows=4, cols=2, vertical_spacing=0.09, \n",
        "    specs=[[{\"colspan\": 2, \"type\": \"table\"}, None],[{},{}],[{},{}],[{},{}]],\n",
        "    subplot_titles=(\"문항별, 소속별 만족도 현황\", \n",
        "                    '연수내용을 이해하는데 도움이 되었다', \n",
        "                    '자료 작성 및 발표를 위한 안내가 충분히 이루어졌다',\n",
        "                    '현장에서 실무능력을 향상시키는데 도움이 되었다',\n",
        "                    '세션 담당자는 피드백을 충분히 제공하였다',\n",
        "                    '세션시간은 충분하였다', \n",
        "                    '주제는 교육과정 목표와 연계되어 있었다'))\n",
        "\n",
        "fig.add_trace(go.Table(\n",
        "    columnwidth = [180,50,50,50,80,80,50], #columnorder = [1,2],\n",
        "    header=dict(height=25, \n",
        "        values=list(pcs_mean.columns), fill_color='#094688',\n",
        "        font=dict(size=[14, 11], color='#ffffff'), align='center'),\n",
        "    cells=dict(\n",
        "        values=[pcs_mean[k].tolist() for k in pcs_mean.columns[:]],\n",
        "        font=dict(size=[10, 12], color='#000000'), align=['left', 'center'])),\n",
        "    row=1, col=1)\n",
        "\n",
        "fig.add_trace(go.Bar(showlegend=False,\n",
        "    x = post['정책자문사례발표 세션은 연수내용을 이해하는데 도움이 되었다.'].value_counts().index,\n",
        "    y = post['정책자문사례발표 세션은 연수내용을 이해하는데 도움이 되었다.'].value_counts(),\n",
        "    text = post['정책자문사례발표 세션은 연수내용을 이해하는데 도움이 되었다.'].value_counts(),    \n",
        "    textposition = 'auto',\n",
        "    marker=dict(color=-post['정책자문사례발표 세션은 연수내용을 이해하는데 도움이 되었다.'\n",
        "    ].value_counts(), cmax=14.5, cmin=-14.5, colorscale='RdBu')\n",
        "    ), row=2, col=1)\n",
        "\n",
        "fig.add_trace(go.Bar(showlegend=False,\n",
        "    x = post['정책자문사례발표 자료 작성 및 발표를 위한 안내가 충분히 이루어졌다.'].value_counts().index,\n",
        "    y = post['정책자문사례발표 자료 작성 및 발표를 위한 안내가 충분히 이루어졌다.'].value_counts(),\n",
        "    text = post['정책자문사례발표 자료 작성 및 발표를 위한 안내가 충분히 이루어졌다.'].value_counts(),\n",
        "    textposition = 'auto',\n",
        "    marker=dict(color=-post['정책자문사례발표 자료 작성 및 발표를 위한 안내가 충분히 이루어졌다.'\n",
        "    ].value_counts(),cmax=14.5, cmin=-14.5, colorscale='Viridis')\n",
        "    ),row=2, col=2)\n",
        "\n",
        "fig.add_trace(go.Bar(showlegend=False,\n",
        "    x = post['정책자문사례발표는 현장에서 실무능력을 향상시키는데 도움이 되었다.'].value_counts().index,\n",
        "    y = post['정책자문사례발표는 현장에서 실무능력을 향상시키는데 도움이 되었다.'].value_counts(),\n",
        "    text = post['정책자문사례발표는 현장에서 실무능력을 향상시키는데 도움이 되었다.'].value_counts(),\n",
        "    textposition = 'auto',\n",
        "    marker=dict(color=-post['정책자문사례발표는 현장에서 실무능력을 향상시키는데 도움이 되었다.'\n",
        "    ].value_counts(),cmax=14.5, cmin=-14.5, colorscale='RdBu')\n",
        "    ),row=3, col=1)\n",
        "\n",
        "fig.add_trace(go.Bar(showlegend=False,\n",
        "    x = post['정책자문사례발표의 세션 담당자는 피드백을 충분히 제공하였다.'].value_counts().index,\n",
        "    y = post['정책자문사례발표의 세션 담당자는 피드백을 충분히 제공하였다.'].value_counts(),\n",
        "    text = post['정책자문사례발표의 세션 담당자는 피드백을 충분히 제공하였다.'].value_counts(),\n",
        "    textposition = 'auto',\n",
        "    marker=dict(color=-post['정책자문사례발표의 세션 담당자는 피드백을 충분히 제공하였다.'\n",
        "    ].value_counts(),cmax=14.5, cmin=-14.5, colorscale='Viridis')\n",
        "    ),row=3, col=2)\n",
        "\n",
        "fig.add_trace(go.Bar(showlegend=False, \n",
        "    x = post['정책자문사례발표의 세션시간은 충분하였다.'].value_counts().index,\n",
        "    y = post['정책자문사례발표의 세션시간은 충분하였다.'].value_counts(),\n",
        "    text = post['정책자문사례발표의 세션시간은 충분하였다.'].value_counts(),\n",
        "    textposition = 'auto',\n",
        "    marker=dict(color=-post['정책자문사례발표의 세션시간은 충분하였다.'\n",
        "    ].value_counts(), cmax=14.5, cmin=-14.5, colorscale='RdBu')\n",
        "    ),row=4, col=1)\n",
        "\n",
        "fig.add_trace(go.Bar(showlegend=False,\n",
        "    x = post['정책자문사례발표의 주제는 교육과정 목표와 연계되어 있었다.'].value_counts().index,\n",
        "    y = post['정책자문사례발표의 주제는 교육과정 목표와 연계되어 있었다.'].value_counts(),\n",
        "    text = post['정책자문사례발표의 주제는 교육과정 목표와 연계되어 있었다.'].value_counts(),\n",
        "    textposition = 'auto',\n",
        "    marker=dict(color=-post['정책자문사례발표의 주제는 교육과정 목표와 연계되어 있었다.'\n",
        "    ].value_counts(),cmax=14.5, cmin=-14.5, colorscale='Viridis')\n",
        "    ), row=4, col=2)\n",
        "\n",
        "fig.update_xaxes(title=dict(text='만족도', font_size=13),range=[2.5,5.5],row=4)\n",
        "fig.update_yaxes(title=dict(text='응답자수', font_size=13),range=[0,13.5], col=1)\n",
        "\n",
        "fig.update_layout(title=dict(text ='정책자문사례발표 만족도 조사 결과',x=0.5, y=0.97),\n",
        "                  margin = dict(t=100), font_size = 15, width=950, height=1100)"
      ],
      "execution_count": 14,
      "outputs": [
        {
          "output_type": "display_data",
          "data": {
            "text/html": [
              "<html>\n",
              "<head><meta charset=\"utf-8\" /></head>\n",
              "<body>\n",
              "    <div>\n",
              "            <script src=\"https://cdnjs.cloudflare.com/ajax/libs/mathjax/2.7.5/MathJax.js?config=TeX-AMS-MML_SVG\"></script><script type=\"text/javascript\">if (window.MathJax) {MathJax.Hub.Config({SVG: {font: \"STIX-Web\"}});}</script>\n",
              "                <script type=\"text/javascript\">window.PlotlyConfig = {MathJaxConfig: 'local'};</script>\n",
              "        <script src=\"https://cdn.plot.ly/plotly-latest.min.js\"></script>    \n",
              "            <div id=\"d2a21365-b58d-4770-b7ee-d8367577f32b\" class=\"plotly-graph-div\" style=\"height:1100px; width:950px;\"></div>\n",
              "            <script type=\"text/javascript\">\n",
              "                \n",
              "                    window.PLOTLYENV=window.PLOTLYENV || {};\n",
              "                    \n",
              "                if (document.getElementById(\"d2a21365-b58d-4770-b7ee-d8367577f32b\")) {\n",
              "                    Plotly.newPlot(\n",
              "                        'd2a21365-b58d-4770-b7ee-d8367577f32b',\n",
              "                        [{\"cells\": {\"align\": [\"left\", \"center\"], \"font\": {\"color\": \"#000000\", \"size\": [10, 12]}, \"values\": [[\"\\uc5f0\\uc218\\ub0b4\\uc6a9\\uc744 \\uc774\\ud574\\ud558\\ub294\\ub370 \\ub3c4\\uc6c0\\uc774 \\ub418\\uc5c8\\ub2e4\", \"\\uc790\\ub8cc \\uc791\\uc131 \\ubc0f \\ubc1c\\ud45c\\ub97c \\uc704\\ud55c \\uc548\\ub0b4\\uac00 \\ucda9\\ubd84\\ud788 \\uc774\\ub8e8\\uc5b4\\uc84c\\ub2e4\", \"\\ud604\\uc7a5\\uc5d0\\uc11c \\uc2e4\\ubb34\\ub2a5\\ub825\\uc744 \\ud5a5\\uc0c1\\uc2dc\\ud0a4\\ub294\\ub370 \\ub3c4\\uc6c0\\uc774 \\ub418\\uc5c8\\ub2e4\", \"\\uc138\\uc158 \\ub2f4\\ub2f9\\uc790\\ub294 \\ud53c\\ub4dc\\ubc31\\uc744 \\ucda9\\ubd84\\ud788 \\uc81c\\uacf5\\ud558\\uc600\\ub2e4\", \"\\uc138\\uc158\\uc2dc\\uac04\\uc740 \\ucda9\\ubd84\\ud558\\uc600\\ub2e4\", \"\\uc8fc\\uc81c\\ub294 \\uad50\\uc721\\uacfc\\uc815 \\ubaa9\\ud45c\\uc640 \\uc5f0\\uacc4\\ub418\\uc5b4 \\uc788\\uc5c8\\ub2e4\", \"\\ud3c9\\uade0\"], [5.0, 5.0, 5.0, 5.0, 5.0, 5.0, 5.0], [4.57, 4.29, 4.57, 4.43, 4.43, 4.71, 4.5], [4.29, 4.29, 4.14, 4.14, 4.29, 4.29, 4.24], [4.33, 4.33, 4.33, 4.33, 4.0, 4.33, 4.27], [4.75, 4.5, 4.75, 4.75, 4.5, 4.5, 4.62], [4.5, 4.36, 4.45, 4.41, 4.36, 4.5, 4.43]]}, \"columnwidth\": [180, 50, 50, 50, 80, 80, 50], \"domain\": {\"x\": [0.0, 1.0], \"y\": [0.8175, 1.0]}, \"header\": {\"align\": \"center\", \"fill\": {\"color\": \"#094688\"}, \"font\": {\"color\": \"#ffffff\", \"size\": [14, 11]}, \"height\": 25, \"values\": [\"\\ubb38\\ud56d\", \"\\uad6d\\uc81c\\uae30\\uad6c\", \"\\ubbfc\\uac04\\uae30\\uc5c5\", \"\\uc11c\\uc6b8\\uc2dc\", \"\\uc11c\\uc6b8\\uc2dc \\uc0b0\\ud558\\uae30\\uad00\", \"\\uc911\\uc559\\ubd80\\ucc98/\\uc0b0\\ud558\\uae30\\uad00\", \"\\ud3c9\\uade0\"]}, \"type\": \"table\"}, {\"marker\": {\"cmax\": 14.5, \"cmin\": -14.5, \"color\": [-12, -9, -1], \"colorscale\": [[0.0, \"rgb(103,0,31)\"], [0.1, \"rgb(178,24,43)\"], [0.2, \"rgb(214,96,77)\"], [0.3, \"rgb(244,165,130)\"], [0.4, \"rgb(253,219,199)\"], [0.5, \"rgb(247,247,247)\"], [0.6, \"rgb(209,229,240)\"], [0.7, \"rgb(146,197,222)\"], [0.8, \"rgb(67,147,195)\"], [0.9, \"rgb(33,102,172)\"], [1.0, \"rgb(5,48,97)\"]]}, \"showlegend\": false, \"text\": [12.0, 9.0, 1.0], \"textposition\": \"auto\", \"type\": \"bar\", \"x\": [5, 4, 3], \"xaxis\": \"x\", \"y\": [12, 9, 1], \"yaxis\": \"y\"}, {\"marker\": {\"cmax\": 14.5, \"cmin\": -14.5, \"color\": [-10, -10, -2], \"colorscale\": [[0.0, \"#440154\"], [0.1111111111111111, \"#482878\"], [0.2222222222222222, \"#3e4989\"], [0.3333333333333333, \"#31688e\"], [0.4444444444444444, \"#26828e\"], [0.5555555555555556, \"#1f9e89\"], [0.6666666666666666, \"#35b779\"], [0.7777777777777778, \"#6ece58\"], [0.8888888888888888, \"#b5de2b\"], [1.0, \"#fde725\"]]}, \"showlegend\": false, \"text\": [10.0, 10.0, 2.0], \"textposition\": \"auto\", \"type\": \"bar\", \"x\": [5, 4, 3], \"xaxis\": \"x2\", \"y\": [10, 10, 2], \"yaxis\": \"y2\"}, {\"marker\": {\"cmax\": 14.5, \"cmin\": -14.5, \"color\": [-12, -8, -2], \"colorscale\": [[0.0, \"rgb(103,0,31)\"], [0.1, \"rgb(178,24,43)\"], [0.2, \"rgb(214,96,77)\"], [0.3, \"rgb(244,165,130)\"], [0.4, \"rgb(253,219,199)\"], [0.5, \"rgb(247,247,247)\"], [0.6, \"rgb(209,229,240)\"], [0.7, \"rgb(146,197,222)\"], [0.8, \"rgb(67,147,195)\"], [0.9, \"rgb(33,102,172)\"], [1.0, \"rgb(5,48,97)\"]]}, \"showlegend\": false, \"text\": [12.0, 8.0, 2.0], \"textposition\": \"auto\", \"type\": \"bar\", \"x\": [5, 4, 3], \"xaxis\": \"x3\", \"y\": [12, 8, 2], \"yaxis\": \"y3\"}, {\"marker\": {\"cmax\": 14.5, \"cmin\": -14.5, \"color\": [-11, -10, -1], \"colorscale\": [[0.0, \"#440154\"], [0.1111111111111111, \"#482878\"], [0.2222222222222222, \"#3e4989\"], [0.3333333333333333, \"#31688e\"], [0.4444444444444444, \"#26828e\"], [0.5555555555555556, \"#1f9e89\"], [0.6666666666666666, \"#35b779\"], [0.7777777777777778, \"#6ece58\"], [0.8888888888888888, \"#b5de2b\"], [1.0, \"#fde725\"]]}, \"showlegend\": false, \"text\": [11.0, 10.0, 1.0], \"textposition\": \"auto\", \"type\": \"bar\", \"x\": [4, 5, 3], \"xaxis\": \"x4\", \"y\": [11, 10, 1], \"yaxis\": \"y4\"}, {\"marker\": {\"cmax\": 14.5, \"cmin\": -14.5, \"color\": [-11, -8, -3], \"colorscale\": [[0.0, \"rgb(103,0,31)\"], [0.1, \"rgb(178,24,43)\"], [0.2, \"rgb(214,96,77)\"], [0.3, \"rgb(244,165,130)\"], [0.4, \"rgb(253,219,199)\"], [0.5, \"rgb(247,247,247)\"], [0.6, \"rgb(209,229,240)\"], [0.7, \"rgb(146,197,222)\"], [0.8, \"rgb(67,147,195)\"], [0.9, \"rgb(33,102,172)\"], [1.0, \"rgb(5,48,97)\"]]}, \"showlegend\": false, \"text\": [11.0, 8.0, 3.0], \"textposition\": \"auto\", \"type\": \"bar\", \"x\": [5, 4, 3], \"xaxis\": \"x5\", \"y\": [11, 8, 3], \"yaxis\": \"y5\"}, {\"marker\": {\"cmax\": 14.5, \"cmin\": -14.5, \"color\": [-13, -7, -2], \"colorscale\": [[0.0, \"#440154\"], [0.1111111111111111, \"#482878\"], [0.2222222222222222, \"#3e4989\"], [0.3333333333333333, \"#31688e\"], [0.4444444444444444, \"#26828e\"], [0.5555555555555556, \"#1f9e89\"], [0.6666666666666666, \"#35b779\"], [0.7777777777777778, \"#6ece58\"], [0.8888888888888888, \"#b5de2b\"], [1.0, \"#fde725\"]]}, \"showlegend\": false, \"text\": [13.0, 7.0, 2.0], \"textposition\": \"auto\", \"type\": \"bar\", \"x\": [5, 4, 3], \"xaxis\": \"x6\", \"y\": [13, 7, 2], \"yaxis\": \"y6\"}],\n",
              "                        {\"annotations\": [{\"font\": {\"size\": 16}, \"showarrow\": false, \"text\": \"\\ubb38\\ud56d\\ubcc4, \\uc18c\\uc18d\\ubcc4 \\ub9cc\\uc871\\ub3c4 \\ud604\\ud669\", \"x\": 0.5, \"xanchor\": \"center\", \"xref\": \"paper\", \"y\": 1.0, \"yanchor\": \"bottom\", \"yref\": \"paper\"}, {\"font\": {\"size\": 16}, \"showarrow\": false, \"text\": \"\\uc5f0\\uc218\\ub0b4\\uc6a9\\uc744 \\uc774\\ud574\\ud558\\ub294\\ub370 \\ub3c4\\uc6c0\\uc774 \\ub418\\uc5c8\\ub2e4\", \"x\": 0.225, \"xanchor\": \"center\", \"xref\": \"paper\", \"y\": 0.7274999999999999, \"yanchor\": \"bottom\", \"yref\": \"paper\"}, {\"font\": {\"size\": 16}, \"showarrow\": false, \"text\": \"\\uc790\\ub8cc \\uc791\\uc131 \\ubc0f \\ubc1c\\ud45c\\ub97c \\uc704\\ud55c \\uc548\\ub0b4\\uac00 \\ucda9\\ubd84\\ud788 \\uc774\\ub8e8\\uc5b4\\uc84c\\ub2e4\", \"x\": 0.775, \"xanchor\": \"center\", \"xref\": \"paper\", \"y\": 0.7274999999999999, \"yanchor\": \"bottom\", \"yref\": \"paper\"}, {\"font\": {\"size\": 16}, \"showarrow\": false, \"text\": \"\\ud604\\uc7a5\\uc5d0\\uc11c \\uc2e4\\ubb34\\ub2a5\\ub825\\uc744 \\ud5a5\\uc0c1\\uc2dc\\ud0a4\\ub294\\ub370 \\ub3c4\\uc6c0\\uc774 \\ub418\\uc5c8\\ub2e4\", \"x\": 0.225, \"xanchor\": \"center\", \"xref\": \"paper\", \"y\": 0.45499999999999996, \"yanchor\": \"bottom\", \"yref\": \"paper\"}, {\"font\": {\"size\": 16}, \"showarrow\": false, \"text\": \"\\uc138\\uc158 \\ub2f4\\ub2f9\\uc790\\ub294 \\ud53c\\ub4dc\\ubc31\\uc744 \\ucda9\\ubd84\\ud788 \\uc81c\\uacf5\\ud558\\uc600\\ub2e4\", \"x\": 0.775, \"xanchor\": \"center\", \"xref\": \"paper\", \"y\": 0.45499999999999996, \"yanchor\": \"bottom\", \"yref\": \"paper\"}, {\"font\": {\"size\": 16}, \"showarrow\": false, \"text\": \"\\uc138\\uc158\\uc2dc\\uac04\\uc740 \\ucda9\\ubd84\\ud558\\uc600\\ub2e4\", \"x\": 0.225, \"xanchor\": \"center\", \"xref\": \"paper\", \"y\": 0.1825, \"yanchor\": \"bottom\", \"yref\": \"paper\"}, {\"font\": {\"size\": 16}, \"showarrow\": false, \"text\": \"\\uc8fc\\uc81c\\ub294 \\uad50\\uc721\\uacfc\\uc815 \\ubaa9\\ud45c\\uc640 \\uc5f0\\uacc4\\ub418\\uc5b4 \\uc788\\uc5c8\\ub2e4\", \"x\": 0.775, \"xanchor\": \"center\", \"xref\": \"paper\", \"y\": 0.1825, \"yanchor\": \"bottom\", \"yref\": \"paper\"}], \"font\": {\"size\": 15}, \"height\": 1100, \"margin\": {\"t\": 100}, \"template\": {\"data\": {\"bar\": [{\"error_x\": {\"color\": \"#2a3f5f\"}, \"error_y\": {\"color\": \"#2a3f5f\"}, \"marker\": {\"line\": {\"color\": \"#E5ECF6\", \"width\": 0.5}}, \"type\": \"bar\"}], \"barpolar\": [{\"marker\": {\"line\": {\"color\": \"#E5ECF6\", \"width\": 0.5}}, \"type\": \"barpolar\"}], \"carpet\": [{\"aaxis\": {\"endlinecolor\": \"#2a3f5f\", \"gridcolor\": \"white\", \"linecolor\": \"white\", \"minorgridcolor\": \"white\", \"startlinecolor\": \"#2a3f5f\"}, \"baxis\": {\"endlinecolor\": \"#2a3f5f\", \"gridcolor\": \"white\", \"linecolor\": \"white\", \"minorgridcolor\": \"white\", \"startlinecolor\": \"#2a3f5f\"}, \"type\": \"carpet\"}], \"choropleth\": [{\"colorbar\": {\"outlinewidth\": 0, \"ticks\": \"\"}, \"type\": \"choropleth\"}], \"contour\": [{\"colorbar\": {\"outlinewidth\": 0, \"ticks\": \"\"}, \"colorscale\": [[0.0, \"#0d0887\"], [0.1111111111111111, \"#46039f\"], [0.2222222222222222, \"#7201a8\"], [0.3333333333333333, \"#9c179e\"], [0.4444444444444444, \"#bd3786\"], [0.5555555555555556, \"#d8576b\"], [0.6666666666666666, \"#ed7953\"], [0.7777777777777778, \"#fb9f3a\"], [0.8888888888888888, \"#fdca26\"], [1.0, \"#f0f921\"]], \"type\": \"contour\"}], \"contourcarpet\": [{\"colorbar\": {\"outlinewidth\": 0, \"ticks\": \"\"}, \"type\": \"contourcarpet\"}], \"heatmap\": [{\"colorbar\": {\"outlinewidth\": 0, \"ticks\": \"\"}, \"colorscale\": [[0.0, \"#0d0887\"], [0.1111111111111111, \"#46039f\"], [0.2222222222222222, \"#7201a8\"], [0.3333333333333333, \"#9c179e\"], [0.4444444444444444, \"#bd3786\"], [0.5555555555555556, \"#d8576b\"], [0.6666666666666666, \"#ed7953\"], [0.7777777777777778, \"#fb9f3a\"], [0.8888888888888888, \"#fdca26\"], [1.0, \"#f0f921\"]], \"type\": \"heatmap\"}], \"heatmapgl\": [{\"colorbar\": {\"outlinewidth\": 0, \"ticks\": \"\"}, \"colorscale\": [[0.0, \"#0d0887\"], [0.1111111111111111, \"#46039f\"], [0.2222222222222222, \"#7201a8\"], [0.3333333333333333, \"#9c179e\"], [0.4444444444444444, \"#bd3786\"], [0.5555555555555556, \"#d8576b\"], [0.6666666666666666, \"#ed7953\"], [0.7777777777777778, \"#fb9f3a\"], [0.8888888888888888, \"#fdca26\"], [1.0, \"#f0f921\"]], \"type\": \"heatmapgl\"}], \"histogram\": [{\"marker\": {\"colorbar\": {\"outlinewidth\": 0, \"ticks\": \"\"}}, \"type\": \"histogram\"}], \"histogram2d\": [{\"colorbar\": {\"outlinewidth\": 0, \"ticks\": \"\"}, \"colorscale\": [[0.0, \"#0d0887\"], [0.1111111111111111, \"#46039f\"], [0.2222222222222222, \"#7201a8\"], [0.3333333333333333, \"#9c179e\"], [0.4444444444444444, \"#bd3786\"], [0.5555555555555556, \"#d8576b\"], [0.6666666666666666, \"#ed7953\"], [0.7777777777777778, \"#fb9f3a\"], [0.8888888888888888, \"#fdca26\"], [1.0, \"#f0f921\"]], \"type\": \"histogram2d\"}], \"histogram2dcontour\": [{\"colorbar\": {\"outlinewidth\": 0, \"ticks\": \"\"}, \"colorscale\": [[0.0, \"#0d0887\"], [0.1111111111111111, \"#46039f\"], [0.2222222222222222, \"#7201a8\"], [0.3333333333333333, \"#9c179e\"], [0.4444444444444444, \"#bd3786\"], [0.5555555555555556, \"#d8576b\"], [0.6666666666666666, \"#ed7953\"], [0.7777777777777778, \"#fb9f3a\"], [0.8888888888888888, \"#fdca26\"], [1.0, \"#f0f921\"]], \"type\": \"histogram2dcontour\"}], \"mesh3d\": [{\"colorbar\": {\"outlinewidth\": 0, \"ticks\": \"\"}, \"type\": \"mesh3d\"}], \"parcoords\": [{\"line\": {\"colorbar\": {\"outlinewidth\": 0, \"ticks\": \"\"}}, \"type\": \"parcoords\"}], \"scatter\": [{\"marker\": {\"colorbar\": {\"outlinewidth\": 0, \"ticks\": \"\"}}, \"type\": \"scatter\"}], \"scatter3d\": [{\"line\": {\"colorbar\": {\"outlinewidth\": 0, \"ticks\": \"\"}}, \"marker\": {\"colorbar\": {\"outlinewidth\": 0, \"ticks\": \"\"}}, \"type\": \"scatter3d\"}], \"scattercarpet\": [{\"marker\": {\"colorbar\": {\"outlinewidth\": 0, \"ticks\": \"\"}}, \"type\": \"scattercarpet\"}], \"scattergeo\": [{\"marker\": {\"colorbar\": {\"outlinewidth\": 0, \"ticks\": \"\"}}, \"type\": \"scattergeo\"}], \"scattergl\": [{\"marker\": {\"colorbar\": {\"outlinewidth\": 0, \"ticks\": \"\"}}, \"type\": \"scattergl\"}], \"scattermapbox\": [{\"marker\": {\"colorbar\": {\"outlinewidth\": 0, \"ticks\": \"\"}}, \"type\": \"scattermapbox\"}], \"scatterpolar\": [{\"marker\": {\"colorbar\": {\"outlinewidth\": 0, \"ticks\": \"\"}}, \"type\": \"scatterpolar\"}], \"scatterpolargl\": [{\"marker\": {\"colorbar\": {\"outlinewidth\": 0, \"ticks\": \"\"}}, \"type\": \"scatterpolargl\"}], \"scatterternary\": [{\"marker\": {\"colorbar\": {\"outlinewidth\": 0, \"ticks\": \"\"}}, \"type\": \"scatterternary\"}], \"surface\": [{\"colorbar\": {\"outlinewidth\": 0, \"ticks\": \"\"}, \"colorscale\": [[0.0, \"#0d0887\"], [0.1111111111111111, \"#46039f\"], [0.2222222222222222, \"#7201a8\"], [0.3333333333333333, \"#9c179e\"], [0.4444444444444444, \"#bd3786\"], [0.5555555555555556, \"#d8576b\"], [0.6666666666666666, \"#ed7953\"], [0.7777777777777778, \"#fb9f3a\"], [0.8888888888888888, \"#fdca26\"], [1.0, \"#f0f921\"]], \"type\": \"surface\"}], \"table\": [{\"cells\": {\"fill\": {\"color\": \"#EBF0F8\"}, \"line\": {\"color\": \"white\"}}, \"header\": {\"fill\": {\"color\": \"#C8D4E3\"}, \"line\": {\"color\": \"white\"}}, \"type\": \"table\"}]}, \"layout\": {\"annotationdefaults\": {\"arrowcolor\": \"#2a3f5f\", \"arrowhead\": 0, \"arrowwidth\": 1}, \"colorscale\": {\"diverging\": [[0, \"#8e0152\"], [0.1, \"#c51b7d\"], [0.2, \"#de77ae\"], [0.3, \"#f1b6da\"], [0.4, \"#fde0ef\"], [0.5, \"#f7f7f7\"], [0.6, \"#e6f5d0\"], [0.7, \"#b8e186\"], [0.8, \"#7fbc41\"], [0.9, \"#4d9221\"], [1, \"#276419\"]], \"sequential\": [[0.0, \"#0d0887\"], [0.1111111111111111, \"#46039f\"], [0.2222222222222222, \"#7201a8\"], [0.3333333333333333, \"#9c179e\"], [0.4444444444444444, \"#bd3786\"], [0.5555555555555556, \"#d8576b\"], [0.6666666666666666, \"#ed7953\"], [0.7777777777777778, \"#fb9f3a\"], [0.8888888888888888, \"#fdca26\"], [1.0, \"#f0f921\"]], \"sequentialminus\": [[0.0, \"#0d0887\"], [0.1111111111111111, \"#46039f\"], [0.2222222222222222, \"#7201a8\"], [0.3333333333333333, \"#9c179e\"], [0.4444444444444444, \"#bd3786\"], [0.5555555555555556, \"#d8576b\"], [0.6666666666666666, \"#ed7953\"], [0.7777777777777778, \"#fb9f3a\"], [0.8888888888888888, \"#fdca26\"], [1.0, \"#f0f921\"]]}, \"colorway\": [\"#636efa\", \"#EF553B\", \"#00cc96\", \"#ab63fa\", \"#FFA15A\", \"#19d3f3\", \"#FF6692\", \"#B6E880\", \"#FF97FF\", \"#FECB52\"], \"font\": {\"color\": \"#2a3f5f\"}, \"geo\": {\"bgcolor\": \"white\", \"lakecolor\": \"white\", \"landcolor\": \"#E5ECF6\", \"showlakes\": true, \"showland\": true, \"subunitcolor\": \"white\"}, \"hoverlabel\": {\"align\": \"left\"}, \"hovermode\": \"closest\", \"mapbox\": {\"style\": \"light\"}, \"paper_bgcolor\": \"white\", \"plot_bgcolor\": \"#E5ECF6\", \"polar\": {\"angularaxis\": {\"gridcolor\": \"white\", \"linecolor\": \"white\", \"ticks\": \"\"}, \"bgcolor\": \"#E5ECF6\", \"radialaxis\": {\"gridcolor\": \"white\", \"linecolor\": \"white\", \"ticks\": \"\"}}, \"scene\": {\"xaxis\": {\"backgroundcolor\": \"#E5ECF6\", \"gridcolor\": \"white\", \"gridwidth\": 2, \"linecolor\": \"white\", \"showbackground\": true, \"ticks\": \"\", \"zerolinecolor\": \"white\"}, \"yaxis\": {\"backgroundcolor\": \"#E5ECF6\", \"gridcolor\": \"white\", \"gridwidth\": 2, \"linecolor\": \"white\", \"showbackground\": true, \"ticks\": \"\", \"zerolinecolor\": \"white\"}, \"zaxis\": {\"backgroundcolor\": \"#E5ECF6\", \"gridcolor\": \"white\", \"gridwidth\": 2, \"linecolor\": \"white\", \"showbackground\": true, \"ticks\": \"\", \"zerolinecolor\": \"white\"}}, \"shapedefaults\": {\"line\": {\"color\": \"#2a3f5f\"}}, \"ternary\": {\"aaxis\": {\"gridcolor\": \"white\", \"linecolor\": \"white\", \"ticks\": \"\"}, \"baxis\": {\"gridcolor\": \"white\", \"linecolor\": \"white\", \"ticks\": \"\"}, \"bgcolor\": \"#E5ECF6\", \"caxis\": {\"gridcolor\": \"white\", \"linecolor\": \"white\", \"ticks\": \"\"}}, \"title\": {\"x\": 0.05}, \"xaxis\": {\"automargin\": true, \"gridcolor\": \"white\", \"linecolor\": \"white\", \"ticks\": \"\", \"zerolinecolor\": \"white\", \"zerolinewidth\": 2}, \"yaxis\": {\"automargin\": true, \"gridcolor\": \"white\", \"linecolor\": \"white\", \"ticks\": \"\", \"zerolinecolor\": \"white\", \"zerolinewidth\": 2}}}, \"title\": {\"text\": \"\\uc815\\ucc45\\uc790\\ubb38\\uc0ac\\ub840\\ubc1c\\ud45c \\ub9cc\\uc871\\ub3c4 \\uc870\\uc0ac \\uacb0\\uacfc\", \"x\": 0.5, \"y\": 0.97}, \"width\": 950, \"xaxis\": {\"anchor\": \"y\", \"domain\": [0.0, 0.45]}, \"xaxis2\": {\"anchor\": \"y2\", \"domain\": [0.55, 1.0]}, \"xaxis3\": {\"anchor\": \"y3\", \"domain\": [0.0, 0.45]}, \"xaxis4\": {\"anchor\": \"y4\", \"domain\": [0.55, 1.0]}, \"xaxis5\": {\"anchor\": \"y5\", \"domain\": [0.0, 0.45], \"range\": [2.5, 5.5], \"title\": {\"font\": {\"size\": 13}, \"text\": \"\\ub9cc\\uc871\\ub3c4\"}}, \"xaxis6\": {\"anchor\": \"y6\", \"domain\": [0.55, 1.0], \"range\": [2.5, 5.5], \"title\": {\"font\": {\"size\": 13}, \"text\": \"\\ub9cc\\uc871\\ub3c4\"}}, \"yaxis\": {\"anchor\": \"x\", \"domain\": [0.5449999999999999, 0.7274999999999999], \"range\": [0, 13.5], \"title\": {\"font\": {\"size\": 13}, \"text\": \"\\uc751\\ub2f5\\uc790\\uc218\"}}, \"yaxis2\": {\"anchor\": \"x2\", \"domain\": [0.5449999999999999, 0.7274999999999999]}, \"yaxis3\": {\"anchor\": \"x3\", \"domain\": [0.27249999999999996, 0.45499999999999996], \"range\": [0, 13.5], \"title\": {\"font\": {\"size\": 13}, \"text\": \"\\uc751\\ub2f5\\uc790\\uc218\"}}, \"yaxis4\": {\"anchor\": \"x4\", \"domain\": [0.27249999999999996, 0.45499999999999996]}, \"yaxis5\": {\"anchor\": \"x5\", \"domain\": [0.0, 0.1825], \"range\": [0, 13.5], \"title\": {\"font\": {\"size\": 13}, \"text\": \"\\uc751\\ub2f5\\uc790\\uc218\"}}, \"yaxis6\": {\"anchor\": \"x6\", \"domain\": [0.0, 0.1825]}},\n",
              "                        {\"responsive\": true}\n",
              "                    ).then(function(){\n",
              "                            \n",
              "var gd = document.getElementById('d2a21365-b58d-4770-b7ee-d8367577f32b');\n",
              "var x = new MutationObserver(function (mutations, observer) {{\n",
              "        var display = window.getComputedStyle(gd).display;\n",
              "        if (!display || display === 'none') {{\n",
              "            console.log([gd, 'removed!']);\n",
              "            Plotly.purge(gd);\n",
              "            observer.disconnect();\n",
              "        }}\n",
              "}});\n",
              "\n",
              "// Listen for the removal of the full notebook cells\n",
              "var notebookContainer = gd.closest('#notebook-container');\n",
              "if (notebookContainer) {{\n",
              "    x.observe(notebookContainer, {childList: true});\n",
              "}}\n",
              "\n",
              "// Listen for the clearing of the current output cell\n",
              "var outputEl = gd.closest('.output');\n",
              "if (outputEl) {{\n",
              "    x.observe(outputEl, {childList: true});\n",
              "}}\n",
              "\n",
              "                        })\n",
              "                };\n",
              "                \n",
              "            </script>\n",
              "        </div>\n",
              "</body>\n",
              "</html>"
            ]
          },
          "metadata": {
            "tags": []
          }
        }
      ]
    },
    {
      "cell_type": "markdown",
      "metadata": {
        "colab_type": "text",
        "id": "NXEPtAqCgKhk"
      },
      "source": [
        "## 사전-사후 영역별 수준변화 분석"
      ]
    },
    {
      "cell_type": "code",
      "metadata": {
        "colab_type": "code",
        "id": "Cnb0oUjQkrbT",
        "colab": {}
      },
      "source": [
        "# 사전,사후 설문조사 결과에서 학습내용 결과 칼럼만 추출\n",
        "pre_sector = pre[pre.columns[~pre.columns.str.contains('|'.join(['ID','시간','근속년수', '생년', '성별','메일','(응답)','구체적인 안내']))]]\n",
        "post_sector = post[post.columns[post.columns.str.contains('|'.join(['성명','학습내용 ']))]]\n",
        "pre_post = pre_sector.merge(post_sector, on=\"성명\", suffixes=('(교육전)', '(교육후)'))"
      ],
      "execution_count": 0,
      "outputs": []
    },
    {
      "cell_type": "markdown",
      "metadata": {
        "colab_type": "text",
        "id": "CzzABuDle0TP"
      },
      "source": [
        "### 학습내용별 '인지 - 기술 - 태도' 수준 변화"
      ]
    },
    {
      "cell_type": "markdown",
      "metadata": {
        "colab_type": "text",
        "id": "85YVfc8tfPoW"
      },
      "source": [
        "■ 학습내용 A : 서울시 우수정책 공유사업<br>\n",
        "■ 학습내용 B : 해외도시정책 및 국제개발협력<br>\n",
        "■ 학습내용 C : 해외사업수주기획 및 컨설팅의 이해<br>\n",
        "■ 학습내용 D : 해외도시인프라 환경 및 문화이해"
      ]
    },
    {
      "cell_type": "code",
      "metadata": {
        "colab_type": "code",
        "id": "LYcQcaKEf0BA",
        "outputId": "3e48eba1-1f41-4fc3-83da-c203916f0b54",
        "colab": {
          "base_uri": "https://localhost:8080/",
          "height": 265
        }
      },
      "source": [
        "pre_post.columns"
      ],
      "execution_count": 16,
      "outputs": [
        {
          "output_type": "execute_result",
          "data": {
            "text/plain": [
              "Index(['성명', '전문분야', '기관', '인지적 (Knowledge) 영역 - 학습내용 A(교육전)',\n",
              "       '인지적 (Knowledge) 영역 - 학습내용 B(교육전)', '인지적 (Knowledge) 영역 - 학습내용 C(교육전)',\n",
              "       '인지적 (Knowledge) 영역 - 학습내용 D(교육전)', '기술적 (Skill) 영역 - 학습내용 A(교육전)',\n",
              "       '기술적 (Skill) 영역 - 학습내용 B(교육전)', '기술적 (Skill) 영역 - 학습내용 C(교육전)',\n",
              "       '기술적 (Skill) 영역 - 학습내용 D(교육전)', '태도적 (Attidtude) 영역 - 학습내용 A(교육전)',\n",
              "       '태도적 (Attidtude) 영역 - 학습내용 B(교육전)', '태도적 (Attidtude) 영역 - 학습내용 C(교육전)',\n",
              "       '태도적 (Attidtude) 영역 - 학습내용 D(교육전)', '인지적 (Knowledge) 영역 - 학습내용 A(교육후)',\n",
              "       '인지적 (Knowledge) 영역 - 학습내용 B(교육후)', '인지적 (Knowledge) 영역 - 학습내용 C(교육후)',\n",
              "       '인지적 (Knowledge) 영역 - 학습내용 D(교육후)', '기술적 (Skill) 영역 - 학습내용 A(교육후)',\n",
              "       '기술적 (Skill) 영역 - 학습내용 B(교육후)', '기술적 (Skill) 영역 - 학습내용 C(교육후)',\n",
              "       '기술적 (Skill) 영역 - 학습내용 D(교육후)', '태도적 (Attidtude) 영역 - 학습내용 A(교육후)',\n",
              "       '태도적 (Attidtude) 영역 - 학습내용 B(교육후)', '태도적 (Attidtude) 영역 - 학습내용 C(교육후)',\n",
              "       '태도적 (Attidtude) 영역 - 학습내용 D(교육후)'],\n",
              "      dtype='object')"
            ]
          },
          "metadata": {
            "tags": []
          },
          "execution_count": 16
        }
      ]
    },
    {
      "cell_type": "code",
      "metadata": {
        "colab_type": "code",
        "id": "azI6Sfy39f9b",
        "colab": {}
      },
      "source": [
        "# 수준 변화 측정 위한 기본 Dataframe 생성\n",
        "pre_post_diff = pre_post.copy()\n",
        "\n",
        "pre_post_diff[\"「서울시 우수정책 공유사업」 인지수준 증가치\"] =\\\n",
        "    pre_post_diff.iloc[:,15] - pre_post_diff.iloc[:,3]\n",
        "pre_post_diff[\"「해외도시정책 및 국제개발협력」 인지수준 증가치\"] =\\\n",
        "    pre_post_diff.iloc[:,16] - pre_post_diff.iloc[:,4]\n",
        "pre_post_diff[\"「해외사업수주기획 및 컨설팅의 이해」 인지수준 증가치\"] =\\\n",
        "    pre_post_diff.iloc[:,17] - pre_post_diff.iloc[:,5]\n",
        "pre_post_diff[\"「해외도시인프라 환경 및 문화이해」 인지수준 증가치\"] =\\\n",
        "    pre_post_diff.iloc[:,18] - pre_post_diff.iloc[:,6]\n",
        "pre_post_diff[\"「서울시 우수정책 공유사업」 기술수준 증가치\"] =\\\n",
        "    pre_post_diff.iloc[:,19] - pre_post_diff.iloc[:,7]\n",
        "pre_post_diff[\"「해외도시정책 및 국제개발협력」 기술수준 증가치\"] =\\\n",
        "    pre_post_diff.iloc[:,20] - pre_post_diff.iloc[:,8]\n",
        "pre_post_diff[\"「해외사업수주기획 및 컨설팅의 이해」 기술수준 증가치\"] =\\\n",
        "    pre_post_diff.iloc[:,21] - pre_post_diff.iloc[:,8]\n",
        "pre_post_diff[\"「해외도시인프라 환경 및 문화이해」 기술수준 증가치\"] =\\\n",
        "    pre_post_diff.iloc[:,22] - pre_post_diff.iloc[:,9]\n",
        "pre_post_diff[\"「서울시 우수정책 공유사업」 태도수준 증가치\"] =\\\n",
        "    pre_post_diff.iloc[:,23] - pre_post_diff.iloc[:,10]\n",
        "pre_post_diff[\"「해외도시정책 및 국제개발협력」 태도수준 증가치\"] =\\\n",
        "    pre_post_diff.iloc[:,24] - pre_post_diff.iloc[:,11]\n",
        "pre_post_diff[\"「해외사업수주기획 및 컨설팅의 이해」 태도수준 증가치\"] =\\\n",
        "    pre_post_diff.iloc[:,25] - pre_post_diff.iloc[:,12]\n",
        "pre_post_diff[\"「해외도시인프라 환경 및 문화이해」 태도수준 증가치\"] =\\\n",
        "    pre_post_diff.iloc[:,26] - pre_post_diff.iloc[:,13]\n",
        "\n",
        "pre_post_diff = \\\n",
        "pre_post_diff[\n",
        "    pre_post_diff.columns[\n",
        "            ~pre_post_diff.columns.str.contains('|'.join(['학습내용']))]\n",
        "            ]"
      ],
      "execution_count": 0,
      "outputs": []
    },
    {
      "cell_type": "markdown",
      "metadata": {
        "colab_type": "text",
        "id": "ZHrMFwn8Dbnb"
      },
      "source": [
        "### 항목별 수준 증가치 측정<br>\n",
        "증가치: [교육후 수준 - 교육전 수준]"
      ]
    },
    {
      "cell_type": "code",
      "metadata": {
        "id": "sUN6s4QY9f9e",
        "colab_type": "code",
        "colab": {}
      },
      "source": [
        "# Data Cleaning : 증가치 칼럼만 남김 <\"성명\", \"전문분야\", \"기관\" 칼럼 삭제>\n",
        "pre_post_q = pre_post_diff.drop(columns=[\"성명\", \"전문분야\", \"기관\"])\n",
        "\n",
        "# 평균값 추가\n",
        "pre_post_q.loc[22] = pre_post_q.mean()\n",
        "\n",
        "# 행렬 변경 및 생성 된 평균값 칼럼명 변경\n",
        "pre_post_q = \\\n",
        "pre_post_q.T.drop(\n",
        "    pre_post_q.T.columns[:22].to_list(),axis=1\n",
        "    ).rename(columns={22:\"항목별 평균 증가치\"})\n",
        "\n",
        "# % 증가치 칼럼 추가\n",
        "pre_post_q['증가치(%)'] = (pre_post_q['항목별 평균 증가치'] / 5 *100).astype(float)"
      ],
      "execution_count": 0,
      "outputs": []
    },
    {
      "cell_type": "code",
      "metadata": {
        "id": "N-hHU6A4GEUu",
        "colab_type": "code",
        "colab": {
          "base_uri": "https://localhost:8080/",
          "height": 407
        },
        "outputId": "ec7a862c-0a18-4148-febd-3cf5933d70b9"
      },
      "source": [
        "pre_post_q.round(2)"
      ],
      "execution_count": 46,
      "outputs": [
        {
          "output_type": "execute_result",
          "data": {
            "text/html": [
              "<div>\n",
              "<style scoped>\n",
              "    .dataframe tbody tr th:only-of-type {\n",
              "        vertical-align: middle;\n",
              "    }\n",
              "\n",
              "    .dataframe tbody tr th {\n",
              "        vertical-align: top;\n",
              "    }\n",
              "\n",
              "    .dataframe thead th {\n",
              "        text-align: right;\n",
              "    }\n",
              "</style>\n",
              "<table border=\"1\" class=\"dataframe\">\n",
              "  <thead>\n",
              "    <tr style=\"text-align: right;\">\n",
              "      <th></th>\n",
              "      <th>항목별 평균 증가치</th>\n",
              "      <th>증가치(%)</th>\n",
              "    </tr>\n",
              "  </thead>\n",
              "  <tbody>\n",
              "    <tr>\n",
              "      <th>「서울시 우수정책 공유사업」 인지수준 증가치</th>\n",
              "      <td>1.82</td>\n",
              "      <td>36.36</td>\n",
              "    </tr>\n",
              "    <tr>\n",
              "      <th>「해외도시정책 및 국제개발협력」 인지수준 증가치</th>\n",
              "      <td>1.36</td>\n",
              "      <td>27.27</td>\n",
              "    </tr>\n",
              "    <tr>\n",
              "      <th>「해외사업수주기획 및 컨설팅의 이해」 인지수준 증가치</th>\n",
              "      <td>1.82</td>\n",
              "      <td>36.36</td>\n",
              "    </tr>\n",
              "    <tr>\n",
              "      <th>「해외도시인프라 환경 및 문화이해」 인지수준 증가치</th>\n",
              "      <td>1.00</td>\n",
              "      <td>20.00</td>\n",
              "    </tr>\n",
              "    <tr>\n",
              "      <th>「서울시 우수정책 공유사업」 기술수준 증가치</th>\n",
              "      <td>1.77</td>\n",
              "      <td>35.45</td>\n",
              "    </tr>\n",
              "    <tr>\n",
              "      <th>「해외도시정책 및 국제개발협력」 기술수준 증가치</th>\n",
              "      <td>1.50</td>\n",
              "      <td>30.00</td>\n",
              "    </tr>\n",
              "    <tr>\n",
              "      <th>「해외사업수주기획 및 컨설팅의 이해」 기술수준 증가치</th>\n",
              "      <td>1.27</td>\n",
              "      <td>25.45</td>\n",
              "    </tr>\n",
              "    <tr>\n",
              "      <th>「해외도시인프라 환경 및 문화이해」 기술수준 증가치</th>\n",
              "      <td>1.64</td>\n",
              "      <td>32.73</td>\n",
              "    </tr>\n",
              "    <tr>\n",
              "      <th>「서울시 우수정책 공유사업」 태도수준 증가치</th>\n",
              "      <td>1.86</td>\n",
              "      <td>37.27</td>\n",
              "    </tr>\n",
              "    <tr>\n",
              "      <th>「해외도시정책 및 국제개발협력」 태도수준 증가치</th>\n",
              "      <td>0.41</td>\n",
              "      <td>8.18</td>\n",
              "    </tr>\n",
              "    <tr>\n",
              "      <th>「해외사업수주기획 및 컨설팅의 이해」 태도수준 증가치</th>\n",
              "      <td>0.73</td>\n",
              "      <td>14.55</td>\n",
              "    </tr>\n",
              "    <tr>\n",
              "      <th>「해외도시인프라 환경 및 문화이해」 태도수준 증가치</th>\n",
              "      <td>0.36</td>\n",
              "      <td>7.27</td>\n",
              "    </tr>\n",
              "  </tbody>\n",
              "</table>\n",
              "</div>"
            ],
            "text/plain": [
              "                               항목별 평균 증가치  증가치(%)\n",
              "「서울시 우수정책 공유사업」 인지수준 증가치             1.82   36.36\n",
              "「해외도시정책 및 국제개발협력」 인지수준 증가치           1.36   27.27\n",
              "「해외사업수주기획 및 컨설팅의 이해」 인지수준 증가치        1.82   36.36\n",
              "「해외도시인프라 환경 및 문화이해」 인지수준 증가치         1.00   20.00\n",
              "「서울시 우수정책 공유사업」 기술수준 증가치             1.77   35.45\n",
              "「해외도시정책 및 국제개발협력」 기술수준 증가치           1.50   30.00\n",
              "「해외사업수주기획 및 컨설팅의 이해」 기술수준 증가치        1.27   25.45\n",
              "「해외도시인프라 환경 및 문화이해」 기술수준 증가치         1.64   32.73\n",
              "「서울시 우수정책 공유사업」 태도수준 증가치             1.86   37.27\n",
              "「해외도시정책 및 국제개발협력」 태도수준 증가치           0.41    8.18\n",
              "「해외사업수주기획 및 컨설팅의 이해」 태도수준 증가치        0.73   14.55\n",
              "「해외도시인프라 환경 및 문화이해」 태도수준 증가치         0.36    7.27"
            ]
          },
          "metadata": {
            "tags": []
          },
          "execution_count": 46
        }
      ]
    },
    {
      "cell_type": "markdown",
      "metadata": {
        "colab_type": "text",
        "id": "A1TZ9hfIrGhg"
      },
      "source": [
        "### 기관별 수준 증가치 측정"
      ]
    },
    {
      "cell_type": "code",
      "metadata": {
        "colab_type": "code",
        "id": "cvmM0uoxFO9f",
        "colab": {
          "base_uri": "https://localhost:8080/",
          "height": 467
        },
        "outputId": "f526bc48-6a83-4810-ea7a-26b5e81f32f2"
      },
      "source": [
        "# # 기관으로 그룹화하여 평균 계산\n",
        "# # pre_post_organ = \\\n",
        "# # pre_post_diff.pivot_table(\n",
        "# #     values=pre_post_diff.columns[3:],index=['기관'],\n",
        "# #     aggfunc='mean',margins=True, margins_name=\"평균\").round(2).reset_index()\n",
        "\n",
        "# # # 기관별 평균 칼럼 추가 및 필드값 변경\n",
        "# # pre_post_organ['기관별 평균 증가치'] = pre_post_organ.mean(axis=1)\n",
        "# # pre_post_organ.set_value(5, '기관', '항목별 평균 증가치')\n",
        "# # pre_post_organ = pre_post_organ.set_index(\"기관\").T\n",
        "\n",
        "# # % 증가치 칼럼 추가\n",
        "# pre_post_organ['항목별 평균 증가치(%)'] = (pre_post_organ['항목별 평균 증가치'] / 5 *100).astype(float)\n",
        "\n",
        "# # % 기관별 평균 증가치 칼럼 추가\n",
        "# pre_post_organ = pre_post_organ.T\n",
        "# pre_post_organ['기관별 평균 증가치(%)'] = (pre_post_organ['기관별 평균 증가치'] / 5 *100).astype(float)\n",
        "# pre_post_organ = pre_post_organ.T\n",
        "# pre_post_organ.set_value(\"기관별 평균 증가치(%)\", '항목별 평균 증가치(%)', pre_post_organ['항목별 평균 증가치(%)'][:13].mean())\n",
        "\n",
        "pre_post_organ = pre_post_organ.reset_index().rename(columns={'index': '문항/기관','중앙부처/산하기관': '중앙부처/ 산하기관'})\n",
        "pre_post_organ"
      ],
      "execution_count": 101,
      "outputs": [
        {
          "output_type": "execute_result",
          "data": {
            "text/html": [
              "<div>\n",
              "<style scoped>\n",
              "    .dataframe tbody tr th:only-of-type {\n",
              "        vertical-align: middle;\n",
              "    }\n",
              "\n",
              "    .dataframe tbody tr th {\n",
              "        vertical-align: top;\n",
              "    }\n",
              "\n",
              "    .dataframe thead th {\n",
              "        text-align: right;\n",
              "    }\n",
              "</style>\n",
              "<table border=\"1\" class=\"dataframe\">\n",
              "  <thead>\n",
              "    <tr style=\"text-align: right;\">\n",
              "      <th>기관</th>\n",
              "      <th>문항/기관</th>\n",
              "      <th>국제기구</th>\n",
              "      <th>민간기업</th>\n",
              "      <th>서울시</th>\n",
              "      <th>서울시 산하기관</th>\n",
              "      <th>중앙부처/ 산하기관</th>\n",
              "      <th>항목별 평균 증가치</th>\n",
              "      <th>항목별 평균 증가치(%)</th>\n",
              "    </tr>\n",
              "  </thead>\n",
              "  <tbody>\n",
              "    <tr>\n",
              "      <th>0</th>\n",
              "      <td>「서울시 우수정책 공유사업」 기술수준 증가치</td>\n",
              "      <td>1.000000</td>\n",
              "      <td>1.57</td>\n",
              "      <td>2.000</td>\n",
              "      <td>1.3300</td>\n",
              "      <td>2.2500</td>\n",
              "      <td>1.770</td>\n",
              "      <td>35.4</td>\n",
              "    </tr>\n",
              "    <tr>\n",
              "      <th>1</th>\n",
              "      <td>「서울시 우수정책 공유사업」 인지수준 증가치</td>\n",
              "      <td>1.000000</td>\n",
              "      <td>1.57</td>\n",
              "      <td>1.860</td>\n",
              "      <td>1.3300</td>\n",
              "      <td>2.7500</td>\n",
              "      <td>1.820</td>\n",
              "      <td>36.4</td>\n",
              "    </tr>\n",
              "    <tr>\n",
              "      <th>2</th>\n",
              "      <td>「서울시 우수정책 공유사업」 태도수준 증가치</td>\n",
              "      <td>2.000000</td>\n",
              "      <td>1.43</td>\n",
              "      <td>2.860</td>\n",
              "      <td>1.6700</td>\n",
              "      <td>1.0000</td>\n",
              "      <td>1.860</td>\n",
              "      <td>37.2</td>\n",
              "    </tr>\n",
              "    <tr>\n",
              "      <th>3</th>\n",
              "      <td>「해외도시인프라 환경 및 문화이해」 기술수준 증가치</td>\n",
              "      <td>2.000000</td>\n",
              "      <td>1.43</td>\n",
              "      <td>1.570</td>\n",
              "      <td>1.3300</td>\n",
              "      <td>2.2500</td>\n",
              "      <td>1.640</td>\n",
              "      <td>32.8</td>\n",
              "    </tr>\n",
              "    <tr>\n",
              "      <th>4</th>\n",
              "      <td>「해외도시인프라 환경 및 문화이해」 인지수준 증가치</td>\n",
              "      <td>2.000000</td>\n",
              "      <td>0.86</td>\n",
              "      <td>1.290</td>\n",
              "      <td>1.0000</td>\n",
              "      <td>0.5000</td>\n",
              "      <td>1.000</td>\n",
              "      <td>20.0</td>\n",
              "    </tr>\n",
              "    <tr>\n",
              "      <th>5</th>\n",
              "      <td>「해외도시인프라 환경 및 문화이해」 태도수준 증가치</td>\n",
              "      <td>1.000000</td>\n",
              "      <td>-0.14</td>\n",
              "      <td>0.570</td>\n",
              "      <td>0.3300</td>\n",
              "      <td>0.7500</td>\n",
              "      <td>0.360</td>\n",
              "      <td>7.2</td>\n",
              "    </tr>\n",
              "    <tr>\n",
              "      <th>6</th>\n",
              "      <td>「해외도시정책 및 국제개발협력」 기술수준 증가치</td>\n",
              "      <td>1.000000</td>\n",
              "      <td>1.14</td>\n",
              "      <td>2.140</td>\n",
              "      <td>1.3300</td>\n",
              "      <td>1.2500</td>\n",
              "      <td>1.500</td>\n",
              "      <td>30.0</td>\n",
              "    </tr>\n",
              "    <tr>\n",
              "      <th>7</th>\n",
              "      <td>「해외도시정책 및 국제개발협력」 인지수준 증가치</td>\n",
              "      <td>1.000000</td>\n",
              "      <td>1.14</td>\n",
              "      <td>1.710</td>\n",
              "      <td>1.6700</td>\n",
              "      <td>1.0000</td>\n",
              "      <td>1.360</td>\n",
              "      <td>27.2</td>\n",
              "    </tr>\n",
              "    <tr>\n",
              "      <th>8</th>\n",
              "      <td>「해외도시정책 및 국제개발협력」 태도수준 증가치</td>\n",
              "      <td>2.000000</td>\n",
              "      <td>-0.29</td>\n",
              "      <td>0.140</td>\n",
              "      <td>1.0000</td>\n",
              "      <td>1.2500</td>\n",
              "      <td>0.410</td>\n",
              "      <td>8.2</td>\n",
              "    </tr>\n",
              "    <tr>\n",
              "      <th>9</th>\n",
              "      <td>「해외사업수주기획 및 컨설팅의 이해」 기술수준 증가치</td>\n",
              "      <td>1.000000</td>\n",
              "      <td>0.86</td>\n",
              "      <td>1.710</td>\n",
              "      <td>1.3300</td>\n",
              "      <td>1.2500</td>\n",
              "      <td>1.270</td>\n",
              "      <td>25.4</td>\n",
              "    </tr>\n",
              "    <tr>\n",
              "      <th>10</th>\n",
              "      <td>「해외사업수주기획 및 컨설팅의 이해」 인지수준 증가치</td>\n",
              "      <td>2.000000</td>\n",
              "      <td>1.71</td>\n",
              "      <td>1.710</td>\n",
              "      <td>2.0000</td>\n",
              "      <td>2.0000</td>\n",
              "      <td>1.820</td>\n",
              "      <td>36.4</td>\n",
              "    </tr>\n",
              "    <tr>\n",
              "      <th>11</th>\n",
              "      <td>「해외사업수주기획 및 컨설팅의 이해」 태도수준 증가치</td>\n",
              "      <td>1.000000</td>\n",
              "      <td>0.00</td>\n",
              "      <td>0.860</td>\n",
              "      <td>1.6700</td>\n",
              "      <td>1.0000</td>\n",
              "      <td>0.730</td>\n",
              "      <td>14.6</td>\n",
              "    </tr>\n",
              "    <tr>\n",
              "      <th>12</th>\n",
              "      <td>기관별 평균 증가치</td>\n",
              "      <td>1.416667</td>\n",
              "      <td>0.94</td>\n",
              "      <td>1.535</td>\n",
              "      <td>1.3325</td>\n",
              "      <td>1.4375</td>\n",
              "      <td>1.295</td>\n",
              "      <td>25.9</td>\n",
              "    </tr>\n",
              "    <tr>\n",
              "      <th>13</th>\n",
              "      <td>기관별 평균 증가치(%)</td>\n",
              "      <td>28.333333</td>\n",
              "      <td>18.80</td>\n",
              "      <td>30.700</td>\n",
              "      <td>26.6500</td>\n",
              "      <td>28.7500</td>\n",
              "      <td>25.900</td>\n",
              "      <td>25.9</td>\n",
              "    </tr>\n",
              "  </tbody>\n",
              "</table>\n",
              "</div>"
            ],
            "text/plain": [
              "기관                          문항/기관       국제기구  ...  항목별 평균 증가치  항목별 평균 증가치(%)\n",
              "0        「서울시 우수정책 공유사업」 기술수준 증가치   1.000000  ...       1.770           35.4\n",
              "1        「서울시 우수정책 공유사업」 인지수준 증가치   1.000000  ...       1.820           36.4\n",
              "2        「서울시 우수정책 공유사업」 태도수준 증가치   2.000000  ...       1.860           37.2\n",
              "3    「해외도시인프라 환경 및 문화이해」 기술수준 증가치   2.000000  ...       1.640           32.8\n",
              "4    「해외도시인프라 환경 및 문화이해」 인지수준 증가치   2.000000  ...       1.000           20.0\n",
              "5    「해외도시인프라 환경 및 문화이해」 태도수준 증가치   1.000000  ...       0.360            7.2\n",
              "6      「해외도시정책 및 국제개발협력」 기술수준 증가치   1.000000  ...       1.500           30.0\n",
              "7      「해외도시정책 및 국제개발협력」 인지수준 증가치   1.000000  ...       1.360           27.2\n",
              "8      「해외도시정책 및 국제개발협력」 태도수준 증가치   2.000000  ...       0.410            8.2\n",
              "9   「해외사업수주기획 및 컨설팅의 이해」 기술수준 증가치   1.000000  ...       1.270           25.4\n",
              "10  「해외사업수주기획 및 컨설팅의 이해」 인지수준 증가치   2.000000  ...       1.820           36.4\n",
              "11  「해외사업수주기획 및 컨설팅의 이해」 태도수준 증가치   1.000000  ...       0.730           14.6\n",
              "12                     기관별 평균 증가치   1.416667  ...       1.295           25.9\n",
              "13                  기관별 평균 증가치(%)  28.333333  ...      25.900           25.9\n",
              "\n",
              "[14 rows x 8 columns]"
            ]
          },
          "metadata": {
            "tags": []
          },
          "execution_count": 101
        }
      ]
    },
    {
      "cell_type": "code",
      "metadata": {
        "id": "Npjf3KzbrfXR",
        "colab_type": "code",
        "colab": {}
      },
      "source": [
        "# for in 문 활용한 기관별 수준 증가치 측정\n",
        "# q = []\n",
        "# a = []\n",
        "# for k, i in zip(pre_post.columns[18:30], pre_post.columns[6:18]):\n",
        "#   a.append(np.round_((pre_post[k] - pre_post[i]).mean(),2))\n",
        "#   if \"인지적 (Knowledge) 영역 - 학습내용 A(교육후)\" in k:\n",
        "#     q.append(k.replace(\"인지적 (Knowledge) 영역 - 학습내용 A(교육후)\",\"「서울시 우수정책 공유사업」 인지수준 증가치\"))\n",
        "#   elif \"인지적 (Knowledge) 영역 - 학습내용 B(교육후)\" in k:\n",
        "#     q.append(k.replace(\"인지적 (Knowledge) 영역 - 학습내용 B(교육후)\",\"「해외도시정책 및 국제개발협력」 인지수준 증가치\"))\n",
        "#   elif \"인지적 (Knowledge) 영역 - 학습내용 C(교육후)\" in k:\n",
        "#     q.append(k.replace(\"인지적 (Knowledge) 영역 - 학습내용 C(교육후)\",\"「해외사업수주기획 및 컨설팅의 이해」 인지수준 증가치\"))\n",
        "#   elif \"인지적 (Knowledge) 영역 - 학습내용 D(교육후)\" in k:\n",
        "#     q.append(k.replace(\"인지적 (Knowledge) 영역 - 학습내용 D(교육후)\",\"「해외도시인프라 환경 및 문화이해」 인지수준 증가치\"))\n",
        "#   elif \"기술적 (Skill) 영역 - 학습내용 A(교육후)\" in k:\n",
        "#     q.append(k.replace(\"기술적 (Skill) 영역 - 학습내용 A(교육후)\",\"「서울시 우수정책 공유사업」 기술수준 증가치\"))\n",
        "#   elif \"기술적 (Skill) 영역 - 학습내용 B(교육후)\" in k:\n",
        "#     q.append(k.replace(\"기술적 (Skill) 영역 - 학습내용 B(교육후)\",\"「해외도시정책 및 국제개발협력」 기술수준 증가치\"))\n",
        "#   elif \"기술적 (Skill) 영역 - 학습내용 C(교육후)\" in k:\n",
        "#     q.append(k.replace(\"기술적 (Skill) 영역 - 학습내용 C(교육후)\",\"「해외사업수주기획 및 컨설팅의 이해」 기술수준 증가치\"))\n",
        "#   elif \"기술적 (Skill) 영역 - 학습내용 D(교육후)\" in k:\n",
        "#     q.append(k.replace(\"기술적 (Skill) 영역 - 학습내용 D(교육후)\",\"「해외도시인프라 환경 및 문화이해」 기술수준 증가치\"))\n",
        "#   elif \"태도적 (Attidtude) 영역 - 학습내용 A(교육후)\" in k:\n",
        "#     q.append(k.replace(\"태도적 (Attidtude) 영역 - 학습내용 A(교육후)\",\"「서울시 우수정책 공유사업」 태도수준 증가치\"))\n",
        "#   elif \"태도적 (Attidtude) 영역 - 학습내용 B(교육후)\" in k:\n",
        "#     q.append(k.replace(\"태도적 (Attidtude) 영역 - 학습내용 B(교육후)\",\"「해외도시정책 및 국제개발협력」 태도수준 증가치\"))\n",
        "#   elif \"태도적 (Attidtude) 영역 - 학습내용 C(교육후)\" in k:\n",
        "#     q.append(k.replace(\"태도적 (Attidtude) 영역 - 학습내용 C(교육후)\",\"「해외사업수주기획 및 컨설팅의 이해」 태도수준 증가치\"))\n",
        "#   else:\n",
        "#     q.append(k.replace(\"태도적 (Attidtude) 영역 - 학습내용 D(교육후)\",\"「해외도시인프라 환경 및 문화이해」 태도수준 증가치\"))\n",
        "\n",
        "# differ = pd.DataFrame([q,a],index=[\"항목\",\"증가치(5점기준)\"]).T\n",
        "# differ['증가치(%)'] = (differ['증가치(5점기준)'] / 5 *100).astype(float).round(2)\n",
        "# differ.head()"
      ],
      "execution_count": 0,
      "outputs": []
    },
    {
      "cell_type": "code",
      "metadata": {
        "id": "cH4R3KBR-bq5",
        "colab_type": "code",
        "colab": {
          "base_uri": "https://localhost:8080/",
          "height": 407
        },
        "outputId": "3389a3de-4ab2-4548-dd04-2f9beae4ad02"
      },
      "source": [
        "pre_post_organ.round(2)[\"문항/기관\"][:12]\n",
        "pre_post_organ.round(2)[\"항목별 평균 증가치\"][:12]"
      ],
      "execution_count": 126,
      "outputs": [
        {
          "output_type": "execute_result",
          "data": {
            "text/html": [
              "<div>\n",
              "<style scoped>\n",
              "    .dataframe tbody tr th:only-of-type {\n",
              "        vertical-align: middle;\n",
              "    }\n",
              "\n",
              "    .dataframe tbody tr th {\n",
              "        vertical-align: top;\n",
              "    }\n",
              "\n",
              "    .dataframe thead th {\n",
              "        text-align: right;\n",
              "    }\n",
              "</style>\n",
              "<table border=\"1\" class=\"dataframe\">\n",
              "  <thead>\n",
              "    <tr style=\"text-align: right;\">\n",
              "      <th>기관</th>\n",
              "      <th>문항/기관</th>\n",
              "      <th>항목별 평균 증가치</th>\n",
              "    </tr>\n",
              "  </thead>\n",
              "  <tbody>\n",
              "    <tr>\n",
              "      <th>0</th>\n",
              "      <td>「서울시 우수정책 공유사업」 기술수준 증가치</td>\n",
              "      <td>1.77</td>\n",
              "    </tr>\n",
              "    <tr>\n",
              "      <th>1</th>\n",
              "      <td>「서울시 우수정책 공유사업」 인지수준 증가치</td>\n",
              "      <td>1.82</td>\n",
              "    </tr>\n",
              "    <tr>\n",
              "      <th>2</th>\n",
              "      <td>「서울시 우수정책 공유사업」 태도수준 증가치</td>\n",
              "      <td>1.86</td>\n",
              "    </tr>\n",
              "    <tr>\n",
              "      <th>3</th>\n",
              "      <td>「해외도시인프라 환경 및 문화이해」 기술수준 증가치</td>\n",
              "      <td>1.64</td>\n",
              "    </tr>\n",
              "    <tr>\n",
              "      <th>4</th>\n",
              "      <td>「해외도시인프라 환경 및 문화이해」 인지수준 증가치</td>\n",
              "      <td>1.00</td>\n",
              "    </tr>\n",
              "    <tr>\n",
              "      <th>5</th>\n",
              "      <td>「해외도시인프라 환경 및 문화이해」 태도수준 증가치</td>\n",
              "      <td>0.36</td>\n",
              "    </tr>\n",
              "    <tr>\n",
              "      <th>6</th>\n",
              "      <td>「해외도시정책 및 국제개발협력」 기술수준 증가치</td>\n",
              "      <td>1.50</td>\n",
              "    </tr>\n",
              "    <tr>\n",
              "      <th>7</th>\n",
              "      <td>「해외도시정책 및 국제개발협력」 인지수준 증가치</td>\n",
              "      <td>1.36</td>\n",
              "    </tr>\n",
              "    <tr>\n",
              "      <th>8</th>\n",
              "      <td>「해외도시정책 및 국제개발협력」 태도수준 증가치</td>\n",
              "      <td>0.41</td>\n",
              "    </tr>\n",
              "    <tr>\n",
              "      <th>9</th>\n",
              "      <td>「해외사업수주기획 및 컨설팅의 이해」 기술수준 증가치</td>\n",
              "      <td>1.27</td>\n",
              "    </tr>\n",
              "    <tr>\n",
              "      <th>10</th>\n",
              "      <td>「해외사업수주기획 및 컨설팅의 이해」 인지수준 증가치</td>\n",
              "      <td>1.82</td>\n",
              "    </tr>\n",
              "    <tr>\n",
              "      <th>11</th>\n",
              "      <td>「해외사업수주기획 및 컨설팅의 이해」 태도수준 증가치</td>\n",
              "      <td>0.73</td>\n",
              "    </tr>\n",
              "  </tbody>\n",
              "</table>\n",
              "</div>"
            ],
            "text/plain": [
              "기관                          문항/기관  항목별 평균 증가치\n",
              "0        「서울시 우수정책 공유사업」 기술수준 증가치        1.77\n",
              "1        「서울시 우수정책 공유사업」 인지수준 증가치        1.82\n",
              "2        「서울시 우수정책 공유사업」 태도수준 증가치        1.86\n",
              "3    「해외도시인프라 환경 및 문화이해」 기술수준 증가치        1.64\n",
              "4    「해외도시인프라 환경 및 문화이해」 인지수준 증가치        1.00\n",
              "5    「해외도시인프라 환경 및 문화이해」 태도수준 증가치        0.36\n",
              "6      「해외도시정책 및 국제개발협력」 기술수준 증가치        1.50\n",
              "7      「해외도시정책 및 국제개발협력」 인지수준 증가치        1.36\n",
              "8      「해외도시정책 및 국제개발협력」 태도수준 증가치        0.41\n",
              "9   「해외사업수주기획 및 컨설팅의 이해」 기술수준 증가치        1.27\n",
              "10  「해외사업수주기획 및 컨설팅의 이해」 인지수준 증가치        1.82\n",
              "11  「해외사업수주기획 및 컨설팅의 이해」 태도수준 증가치        0.73"
            ]
          },
          "metadata": {
            "tags": []
          },
          "execution_count": 126
        }
      ]
    },
    {
      "cell_type": "code",
      "metadata": {
        "id": "niiTG9JiOJSq",
        "colab_type": "code",
        "colab": {
          "base_uri": "https://localhost:8080/",
          "height": 542
        },
        "outputId": "01145181-5bfb-4ec8-d7c7-945607bb38e4"
      },
      "source": [
        "fig = go.Figure(data=go.Table(\n",
        "    columnwidth = [180,50,50,50,50,50,50,50], #columnorder = [0,6],\n",
        "    header=dict(height=20, \n",
        "        values=list(pre_post_organ.round(2).columns), fill_color='#094688',\n",
        "        font=dict(size=[13], color='#ffffff'), align='center'),\n",
        "    cells=dict(height=25,\n",
        "        values=[pre_post_organ.round(2)[k].tolist() for k in pre_post_organ.round(2).columns[:]],\n",
        "        font=dict(size=[13], color='#000000'), align=['left', 'center'])))\n",
        "\n",
        "fig.update_layout(title=dict(text ='문항별,기관별 인지-기술-태도 수준 증가치',x=0.5, y=0.97),\n",
        "                  margin = dict(t=50), font_size = 13, width=1200)"
      ],
      "execution_count": 162,
      "outputs": [
        {
          "output_type": "display_data",
          "data": {
            "text/html": [
              "<html>\n",
              "<head><meta charset=\"utf-8\" /></head>\n",
              "<body>\n",
              "    <div>\n",
              "            <script src=\"https://cdnjs.cloudflare.com/ajax/libs/mathjax/2.7.5/MathJax.js?config=TeX-AMS-MML_SVG\"></script><script type=\"text/javascript\">if (window.MathJax) {MathJax.Hub.Config({SVG: {font: \"STIX-Web\"}});}</script>\n",
              "                <script type=\"text/javascript\">window.PlotlyConfig = {MathJaxConfig: 'local'};</script>\n",
              "        <script src=\"https://cdn.plot.ly/plotly-latest.min.js\"></script>    \n",
              "            <div id=\"68a8cf7d-fdc6-4d63-89b4-6b5a68a04d5b\" class=\"plotly-graph-div\" style=\"height:525px; width:1200px;\"></div>\n",
              "            <script type=\"text/javascript\">\n",
              "                \n",
              "                    window.PLOTLYENV=window.PLOTLYENV || {};\n",
              "                    \n",
              "                if (document.getElementById(\"68a8cf7d-fdc6-4d63-89b4-6b5a68a04d5b\")) {\n",
              "                    Plotly.newPlot(\n",
              "                        '68a8cf7d-fdc6-4d63-89b4-6b5a68a04d5b',\n",
              "                        [{\"cells\": {\"align\": [\"left\", \"center\"], \"font\": {\"color\": \"#000000\", \"size\": [13]}, \"height\": 25, \"values\": [[\"\\u300c\\uc11c\\uc6b8\\uc2dc \\uc6b0\\uc218\\uc815\\ucc45 \\uacf5\\uc720\\uc0ac\\uc5c5\\u300d \\uae30\\uc220\\uc218\\uc900 \\uc99d\\uac00\\uce58\", \"\\u300c\\uc11c\\uc6b8\\uc2dc \\uc6b0\\uc218\\uc815\\ucc45 \\uacf5\\uc720\\uc0ac\\uc5c5\\u300d \\uc778\\uc9c0\\uc218\\uc900 \\uc99d\\uac00\\uce58\", \"\\u300c\\uc11c\\uc6b8\\uc2dc \\uc6b0\\uc218\\uc815\\ucc45 \\uacf5\\uc720\\uc0ac\\uc5c5\\u300d \\ud0dc\\ub3c4\\uc218\\uc900 \\uc99d\\uac00\\uce58\", \"\\u300c\\ud574\\uc678\\ub3c4\\uc2dc\\uc778\\ud504\\ub77c \\ud658\\uacbd \\ubc0f \\ubb38\\ud654\\uc774\\ud574\\u300d \\uae30\\uc220\\uc218\\uc900 \\uc99d\\uac00\\uce58\", \"\\u300c\\ud574\\uc678\\ub3c4\\uc2dc\\uc778\\ud504\\ub77c \\ud658\\uacbd \\ubc0f \\ubb38\\ud654\\uc774\\ud574\\u300d \\uc778\\uc9c0\\uc218\\uc900 \\uc99d\\uac00\\uce58\", \"\\u300c\\ud574\\uc678\\ub3c4\\uc2dc\\uc778\\ud504\\ub77c \\ud658\\uacbd \\ubc0f \\ubb38\\ud654\\uc774\\ud574\\u300d \\ud0dc\\ub3c4\\uc218\\uc900 \\uc99d\\uac00\\uce58\", \"\\u300c\\ud574\\uc678\\ub3c4\\uc2dc\\uc815\\ucc45 \\ubc0f \\uad6d\\uc81c\\uac1c\\ubc1c\\ud611\\ub825\\u300d \\uae30\\uc220\\uc218\\uc900 \\uc99d\\uac00\\uce58\", \"\\u300c\\ud574\\uc678\\ub3c4\\uc2dc\\uc815\\ucc45 \\ubc0f \\uad6d\\uc81c\\uac1c\\ubc1c\\ud611\\ub825\\u300d \\uc778\\uc9c0\\uc218\\uc900 \\uc99d\\uac00\\uce58\", \"\\u300c\\ud574\\uc678\\ub3c4\\uc2dc\\uc815\\ucc45 \\ubc0f \\uad6d\\uc81c\\uac1c\\ubc1c\\ud611\\ub825\\u300d \\ud0dc\\ub3c4\\uc218\\uc900 \\uc99d\\uac00\\uce58\", \"\\u300c\\ud574\\uc678\\uc0ac\\uc5c5\\uc218\\uc8fc\\uae30\\ud68d \\ubc0f \\ucee8\\uc124\\ud305\\uc758 \\uc774\\ud574\\u300d \\uae30\\uc220\\uc218\\uc900 \\uc99d\\uac00\\uce58\", \"\\u300c\\ud574\\uc678\\uc0ac\\uc5c5\\uc218\\uc8fc\\uae30\\ud68d \\ubc0f \\ucee8\\uc124\\ud305\\uc758 \\uc774\\ud574\\u300d \\uc778\\uc9c0\\uc218\\uc900 \\uc99d\\uac00\\uce58\", \"\\u300c\\ud574\\uc678\\uc0ac\\uc5c5\\uc218\\uc8fc\\uae30\\ud68d \\ubc0f \\ucee8\\uc124\\ud305\\uc758 \\uc774\\ud574\\u300d \\ud0dc\\ub3c4\\uc218\\uc900 \\uc99d\\uac00\\uce58\", \"\\uae30\\uad00\\ubcc4 \\ud3c9\\uade0 \\uc99d\\uac00\\uce58\", \"\\uae30\\uad00\\ubcc4 \\ud3c9\\uade0 \\uc99d\\uac00\\uce58(%)\"], [1.0, 1.0, 2.0, 2.0, 2.0, 1.0, 1.0, 1.0, 2.0, 1.0, 2.0, 1.0, 1.42, 28.33], [1.57, 1.57, 1.43, 1.43, 0.86, -0.14, 1.14, 1.14, -0.29, 0.86, 1.71, 0.0, 0.94, 18.8], [2.0, 1.86, 2.86, 1.57, 1.29, 0.57, 2.14, 1.71, 0.14, 1.71, 1.71, 0.86, 1.54, 30.7], [1.33, 1.33, 1.67, 1.33, 1.0, 0.33, 1.33, 1.67, 1.0, 1.33, 2.0, 1.67, 1.33, 26.65], [2.25, 2.75, 1.0, 2.25, 0.5, 0.75, 1.25, 1.0, 1.25, 1.25, 2.0, 1.0, 1.44, 28.75], [1.77, 1.82, 1.86, 1.64, 1.0, 0.36, 1.5, 1.36, 0.41, 1.27, 1.82, 0.73, 1.3, 25.9], [35.4, 36.4, 37.2, 32.8, 20.0, 7.2, 30.0, 27.2, 8.2, 25.4, 36.4, 14.6, 25.9, 25.9]]}, \"columnwidth\": [180, 50, 50, 50, 50, 50, 50, 50], \"header\": {\"align\": \"center\", \"fill\": {\"color\": \"#094688\"}, \"font\": {\"color\": \"#ffffff\", \"size\": [13]}, \"height\": 20, \"values\": [\"\\ubb38\\ud56d/\\uae30\\uad00\", \"\\uad6d\\uc81c\\uae30\\uad6c\", \"\\ubbfc\\uac04\\uae30\\uc5c5\", \"\\uc11c\\uc6b8\\uc2dc\", \"\\uc11c\\uc6b8\\uc2dc \\uc0b0\\ud558\\uae30\\uad00\", \"\\uc911\\uc559\\ubd80\\ucc98/ \\uc0b0\\ud558\\uae30\\uad00\", \"\\ud56d\\ubaa9\\ubcc4 \\ud3c9\\uade0 \\uc99d\\uac00\\uce58\", \"\\ud56d\\ubaa9\\ubcc4 \\ud3c9\\uade0 \\uc99d\\uac00\\uce58(%)\"]}, \"type\": \"table\"}],\n",
              "                        {\"font\": {\"size\": 13}, \"margin\": {\"t\": 50}, \"template\": {\"data\": {\"bar\": [{\"error_x\": {\"color\": \"#2a3f5f\"}, \"error_y\": {\"color\": \"#2a3f5f\"}, \"marker\": {\"line\": {\"color\": \"#E5ECF6\", \"width\": 0.5}}, \"type\": \"bar\"}], \"barpolar\": [{\"marker\": {\"line\": {\"color\": \"#E5ECF6\", \"width\": 0.5}}, \"type\": \"barpolar\"}], \"carpet\": [{\"aaxis\": {\"endlinecolor\": \"#2a3f5f\", \"gridcolor\": \"white\", \"linecolor\": \"white\", \"minorgridcolor\": \"white\", \"startlinecolor\": \"#2a3f5f\"}, \"baxis\": {\"endlinecolor\": \"#2a3f5f\", \"gridcolor\": \"white\", \"linecolor\": \"white\", \"minorgridcolor\": \"white\", \"startlinecolor\": \"#2a3f5f\"}, \"type\": \"carpet\"}], \"choropleth\": [{\"colorbar\": {\"outlinewidth\": 0, \"ticks\": \"\"}, \"type\": \"choropleth\"}], \"contour\": [{\"colorbar\": {\"outlinewidth\": 0, \"ticks\": \"\"}, \"colorscale\": [[0.0, \"#0d0887\"], [0.1111111111111111, \"#46039f\"], [0.2222222222222222, \"#7201a8\"], [0.3333333333333333, \"#9c179e\"], [0.4444444444444444, \"#bd3786\"], [0.5555555555555556, \"#d8576b\"], [0.6666666666666666, \"#ed7953\"], [0.7777777777777778, \"#fb9f3a\"], [0.8888888888888888, \"#fdca26\"], [1.0, \"#f0f921\"]], \"type\": \"contour\"}], \"contourcarpet\": [{\"colorbar\": {\"outlinewidth\": 0, \"ticks\": \"\"}, \"type\": \"contourcarpet\"}], \"heatmap\": [{\"colorbar\": {\"outlinewidth\": 0, \"ticks\": \"\"}, \"colorscale\": [[0.0, \"#0d0887\"], [0.1111111111111111, \"#46039f\"], [0.2222222222222222, \"#7201a8\"], [0.3333333333333333, \"#9c179e\"], [0.4444444444444444, \"#bd3786\"], [0.5555555555555556, \"#d8576b\"], [0.6666666666666666, \"#ed7953\"], [0.7777777777777778, \"#fb9f3a\"], [0.8888888888888888, \"#fdca26\"], [1.0, \"#f0f921\"]], \"type\": \"heatmap\"}], \"heatmapgl\": [{\"colorbar\": {\"outlinewidth\": 0, \"ticks\": \"\"}, \"colorscale\": [[0.0, \"#0d0887\"], [0.1111111111111111, \"#46039f\"], [0.2222222222222222, \"#7201a8\"], [0.3333333333333333, \"#9c179e\"], [0.4444444444444444, \"#bd3786\"], [0.5555555555555556, \"#d8576b\"], [0.6666666666666666, \"#ed7953\"], [0.7777777777777778, \"#fb9f3a\"], [0.8888888888888888, \"#fdca26\"], [1.0, \"#f0f921\"]], \"type\": \"heatmapgl\"}], \"histogram\": [{\"marker\": {\"colorbar\": {\"outlinewidth\": 0, \"ticks\": \"\"}}, \"type\": \"histogram\"}], \"histogram2d\": [{\"colorbar\": {\"outlinewidth\": 0, \"ticks\": \"\"}, \"colorscale\": [[0.0, \"#0d0887\"], [0.1111111111111111, \"#46039f\"], [0.2222222222222222, \"#7201a8\"], [0.3333333333333333, \"#9c179e\"], [0.4444444444444444, \"#bd3786\"], [0.5555555555555556, \"#d8576b\"], [0.6666666666666666, \"#ed7953\"], [0.7777777777777778, \"#fb9f3a\"], [0.8888888888888888, \"#fdca26\"], [1.0, \"#f0f921\"]], \"type\": \"histogram2d\"}], \"histogram2dcontour\": [{\"colorbar\": {\"outlinewidth\": 0, \"ticks\": \"\"}, \"colorscale\": [[0.0, \"#0d0887\"], [0.1111111111111111, \"#46039f\"], [0.2222222222222222, \"#7201a8\"], [0.3333333333333333, \"#9c179e\"], [0.4444444444444444, \"#bd3786\"], [0.5555555555555556, \"#d8576b\"], [0.6666666666666666, \"#ed7953\"], [0.7777777777777778, \"#fb9f3a\"], [0.8888888888888888, \"#fdca26\"], [1.0, \"#f0f921\"]], \"type\": \"histogram2dcontour\"}], \"mesh3d\": [{\"colorbar\": {\"outlinewidth\": 0, \"ticks\": \"\"}, \"type\": \"mesh3d\"}], \"parcoords\": [{\"line\": {\"colorbar\": {\"outlinewidth\": 0, \"ticks\": \"\"}}, \"type\": \"parcoords\"}], \"scatter\": [{\"marker\": {\"colorbar\": {\"outlinewidth\": 0, \"ticks\": \"\"}}, \"type\": \"scatter\"}], \"scatter3d\": [{\"line\": {\"colorbar\": {\"outlinewidth\": 0, \"ticks\": \"\"}}, \"marker\": {\"colorbar\": {\"outlinewidth\": 0, \"ticks\": \"\"}}, \"type\": \"scatter3d\"}], \"scattercarpet\": [{\"marker\": {\"colorbar\": {\"outlinewidth\": 0, \"ticks\": \"\"}}, \"type\": \"scattercarpet\"}], \"scattergeo\": [{\"marker\": {\"colorbar\": {\"outlinewidth\": 0, \"ticks\": \"\"}}, \"type\": \"scattergeo\"}], \"scattergl\": [{\"marker\": {\"colorbar\": {\"outlinewidth\": 0, \"ticks\": \"\"}}, \"type\": \"scattergl\"}], \"scattermapbox\": [{\"marker\": {\"colorbar\": {\"outlinewidth\": 0, \"ticks\": \"\"}}, \"type\": \"scattermapbox\"}], \"scatterpolar\": [{\"marker\": {\"colorbar\": {\"outlinewidth\": 0, \"ticks\": \"\"}}, \"type\": \"scatterpolar\"}], \"scatterpolargl\": [{\"marker\": {\"colorbar\": {\"outlinewidth\": 0, \"ticks\": \"\"}}, \"type\": \"scatterpolargl\"}], \"scatterternary\": [{\"marker\": {\"colorbar\": {\"outlinewidth\": 0, \"ticks\": \"\"}}, \"type\": \"scatterternary\"}], \"surface\": [{\"colorbar\": {\"outlinewidth\": 0, \"ticks\": \"\"}, \"colorscale\": [[0.0, \"#0d0887\"], [0.1111111111111111, \"#46039f\"], [0.2222222222222222, \"#7201a8\"], [0.3333333333333333, \"#9c179e\"], [0.4444444444444444, \"#bd3786\"], [0.5555555555555556, \"#d8576b\"], [0.6666666666666666, \"#ed7953\"], [0.7777777777777778, \"#fb9f3a\"], [0.8888888888888888, \"#fdca26\"], [1.0, \"#f0f921\"]], \"type\": \"surface\"}], \"table\": [{\"cells\": {\"fill\": {\"color\": \"#EBF0F8\"}, \"line\": {\"color\": \"white\"}}, \"header\": {\"fill\": {\"color\": \"#C8D4E3\"}, \"line\": {\"color\": \"white\"}}, \"type\": \"table\"}]}, \"layout\": {\"annotationdefaults\": {\"arrowcolor\": \"#2a3f5f\", \"arrowhead\": 0, \"arrowwidth\": 1}, \"colorscale\": {\"diverging\": [[0, \"#8e0152\"], [0.1, \"#c51b7d\"], [0.2, \"#de77ae\"], [0.3, \"#f1b6da\"], [0.4, \"#fde0ef\"], [0.5, \"#f7f7f7\"], [0.6, \"#e6f5d0\"], [0.7, \"#b8e186\"], [0.8, \"#7fbc41\"], [0.9, \"#4d9221\"], [1, \"#276419\"]], \"sequential\": [[0.0, \"#0d0887\"], [0.1111111111111111, \"#46039f\"], [0.2222222222222222, \"#7201a8\"], [0.3333333333333333, \"#9c179e\"], [0.4444444444444444, \"#bd3786\"], [0.5555555555555556, \"#d8576b\"], [0.6666666666666666, \"#ed7953\"], [0.7777777777777778, \"#fb9f3a\"], [0.8888888888888888, \"#fdca26\"], [1.0, \"#f0f921\"]], \"sequentialminus\": [[0.0, \"#0d0887\"], [0.1111111111111111, \"#46039f\"], [0.2222222222222222, \"#7201a8\"], [0.3333333333333333, \"#9c179e\"], [0.4444444444444444, \"#bd3786\"], [0.5555555555555556, \"#d8576b\"], [0.6666666666666666, \"#ed7953\"], [0.7777777777777778, \"#fb9f3a\"], [0.8888888888888888, \"#fdca26\"], [1.0, \"#f0f921\"]]}, \"colorway\": [\"#636efa\", \"#EF553B\", \"#00cc96\", \"#ab63fa\", \"#FFA15A\", \"#19d3f3\", \"#FF6692\", \"#B6E880\", \"#FF97FF\", \"#FECB52\"], \"font\": {\"color\": \"#2a3f5f\"}, \"geo\": {\"bgcolor\": \"white\", \"lakecolor\": \"white\", \"landcolor\": \"#E5ECF6\", \"showlakes\": true, \"showland\": true, \"subunitcolor\": \"white\"}, \"hoverlabel\": {\"align\": \"left\"}, \"hovermode\": \"closest\", \"mapbox\": {\"style\": \"light\"}, \"paper_bgcolor\": \"white\", \"plot_bgcolor\": \"#E5ECF6\", \"polar\": {\"angularaxis\": {\"gridcolor\": \"white\", \"linecolor\": \"white\", \"ticks\": \"\"}, \"bgcolor\": \"#E5ECF6\", \"radialaxis\": {\"gridcolor\": \"white\", \"linecolor\": \"white\", \"ticks\": \"\"}}, \"scene\": {\"xaxis\": {\"backgroundcolor\": \"#E5ECF6\", \"gridcolor\": \"white\", \"gridwidth\": 2, \"linecolor\": \"white\", \"showbackground\": true, \"ticks\": \"\", \"zerolinecolor\": \"white\"}, \"yaxis\": {\"backgroundcolor\": \"#E5ECF6\", \"gridcolor\": \"white\", \"gridwidth\": 2, \"linecolor\": \"white\", \"showbackground\": true, \"ticks\": \"\", \"zerolinecolor\": \"white\"}, \"zaxis\": {\"backgroundcolor\": \"#E5ECF6\", \"gridcolor\": \"white\", \"gridwidth\": 2, \"linecolor\": \"white\", \"showbackground\": true, \"ticks\": \"\", \"zerolinecolor\": \"white\"}}, \"shapedefaults\": {\"line\": {\"color\": \"#2a3f5f\"}}, \"ternary\": {\"aaxis\": {\"gridcolor\": \"white\", \"linecolor\": \"white\", \"ticks\": \"\"}, \"baxis\": {\"gridcolor\": \"white\", \"linecolor\": \"white\", \"ticks\": \"\"}, \"bgcolor\": \"#E5ECF6\", \"caxis\": {\"gridcolor\": \"white\", \"linecolor\": \"white\", \"ticks\": \"\"}}, \"title\": {\"x\": 0.05}, \"xaxis\": {\"automargin\": true, \"gridcolor\": \"white\", \"linecolor\": \"white\", \"ticks\": \"\", \"zerolinecolor\": \"white\", \"zerolinewidth\": 2}, \"yaxis\": {\"automargin\": true, \"gridcolor\": \"white\", \"linecolor\": \"white\", \"ticks\": \"\", \"zerolinecolor\": \"white\", \"zerolinewidth\": 2}}}, \"title\": {\"text\": \"\\ubb38\\ud56d\\ubcc4,\\uae30\\uad00\\ubcc4 \\uc778\\uc9c0-\\uae30\\uc220-\\ud0dc\\ub3c4 \\uc218\\uc900 \\uc99d\\uac00\\uce58\", \"x\": 0.5, \"y\": 0.97}, \"width\": 1200},\n",
              "                        {\"responsive\": true}\n",
              "                    ).then(function(){\n",
              "                            \n",
              "var gd = document.getElementById('68a8cf7d-fdc6-4d63-89b4-6b5a68a04d5b');\n",
              "var x = new MutationObserver(function (mutations, observer) {{\n",
              "        var display = window.getComputedStyle(gd).display;\n",
              "        if (!display || display === 'none') {{\n",
              "            console.log([gd, 'removed!']);\n",
              "            Plotly.purge(gd);\n",
              "            observer.disconnect();\n",
              "        }}\n",
              "}});\n",
              "\n",
              "// Listen for the removal of the full notebook cells\n",
              "var notebookContainer = gd.closest('#notebook-container');\n",
              "if (notebookContainer) {{\n",
              "    x.observe(notebookContainer, {childList: true});\n",
              "}}\n",
              "\n",
              "// Listen for the clearing of the current output cell\n",
              "var outputEl = gd.closest('.output');\n",
              "if (outputEl) {{\n",
              "    x.observe(outputEl, {childList: true});\n",
              "}}\n",
              "\n",
              "                        })\n",
              "                };\n",
              "                \n",
              "            </script>\n",
              "        </div>\n",
              "</body>\n",
              "</html>"
            ]
          },
          "metadata": {
            "tags": []
          }
        }
      ]
    },
    {
      "cell_type": "code",
      "metadata": {
        "colab_type": "code",
        "id": "LKV6qqphg7-2",
        "outputId": "948173b3-97df-4da6-972a-41ecadcd5ccc",
        "colab": {
          "base_uri": "https://localhost:8080/",
          "height": 542
        }
      },
      "source": [
        "pre_post_organ_sorted = pre_post_organ.round(2)[[\"문항/기관\",\"항목별 평균 증가치\"]][:12].sort_values(\"항목별 평균 증가치\")\n",
        "\n",
        "fig = go.Figure(data=go.Bar(showlegend=False, orientation = 'h',\n",
        "    x = pre_post_organ_sorted.round(2)[\"항목별 평균 증가치\"][:12],\n",
        "    y = pre_post_organ_sorted.round(2)[\"문항/기관\"][:12],\n",
        "    text = pre_post_organ_sorted.round(2)[\"항목별 평균 증가치\"][:12],    \n",
        "    textposition = 'auto',\n",
        "    marker=dict(color=-pre_post_organ_sorted.round(2)[\"항목별 평균 증가치\"][:12],\n",
        "                cmax=3.5, cmin=-3.5, colorscale='Viridis')))\n",
        "\n",
        "fig.update_xaxes(title=dict(text='증가분(5점기준)', font_size=13),range=[0, 2])\n",
        "\n",
        "fig.update_layout(title=dict(text ='문항별 인지-기술-태도 수준 증가현황',x=0.5, y=0.97),\n",
        "                  margin = dict(t=50), font_size = 13, width=1200)"
      ],
      "execution_count": 186,
      "outputs": [
        {
          "output_type": "display_data",
          "data": {
            "text/html": [
              "<html>\n",
              "<head><meta charset=\"utf-8\" /></head>\n",
              "<body>\n",
              "    <div>\n",
              "            <script src=\"https://cdnjs.cloudflare.com/ajax/libs/mathjax/2.7.5/MathJax.js?config=TeX-AMS-MML_SVG\"></script><script type=\"text/javascript\">if (window.MathJax) {MathJax.Hub.Config({SVG: {font: \"STIX-Web\"}});}</script>\n",
              "                <script type=\"text/javascript\">window.PlotlyConfig = {MathJaxConfig: 'local'};</script>\n",
              "        <script src=\"https://cdn.plot.ly/plotly-latest.min.js\"></script>    \n",
              "            <div id=\"de63d4f7-80bd-4620-9fb9-bb4bfce76b0a\" class=\"plotly-graph-div\" style=\"height:525px; width:1200px;\"></div>\n",
              "            <script type=\"text/javascript\">\n",
              "                \n",
              "                    window.PLOTLYENV=window.PLOTLYENV || {};\n",
              "                    \n",
              "                if (document.getElementById(\"de63d4f7-80bd-4620-9fb9-bb4bfce76b0a\")) {\n",
              "                    Plotly.newPlot(\n",
              "                        'de63d4f7-80bd-4620-9fb9-bb4bfce76b0a',\n",
              "                        [{\"marker\": {\"cmax\": 3.5, \"cmin\": -3.5, \"color\": [-0.36, -0.41, -0.73, -1.0, -1.27, -1.36, -1.5, -1.64, -1.77, -1.82, -1.82, -1.86], \"colorscale\": [[0.0, \"#440154\"], [0.1111111111111111, \"#482878\"], [0.2222222222222222, \"#3e4989\"], [0.3333333333333333, \"#31688e\"], [0.4444444444444444, \"#26828e\"], [0.5555555555555556, \"#1f9e89\"], [0.6666666666666666, \"#35b779\"], [0.7777777777777778, \"#6ece58\"], [0.8888888888888888, \"#b5de2b\"], [1.0, \"#fde725\"]]}, \"orientation\": \"h\", \"showlegend\": false, \"text\": [0.36, 0.41, 0.73, 1.0, 1.27, 1.36, 1.5, 1.64, 1.77, 1.82, 1.82, 1.86], \"textposition\": \"auto\", \"type\": \"bar\", \"x\": [0.36, 0.41, 0.73, 1.0, 1.27, 1.36, 1.5, 1.64, 1.77, 1.82, 1.82, 1.86], \"y\": [\"\\u300c\\ud574\\uc678\\ub3c4\\uc2dc\\uc778\\ud504\\ub77c \\ud658\\uacbd \\ubc0f \\ubb38\\ud654\\uc774\\ud574\\u300d \\ud0dc\\ub3c4\\uc218\\uc900 \\uc99d\\uac00\\uce58\", \"\\u300c\\ud574\\uc678\\ub3c4\\uc2dc\\uc815\\ucc45 \\ubc0f \\uad6d\\uc81c\\uac1c\\ubc1c\\ud611\\ub825\\u300d \\ud0dc\\ub3c4\\uc218\\uc900 \\uc99d\\uac00\\uce58\", \"\\u300c\\ud574\\uc678\\uc0ac\\uc5c5\\uc218\\uc8fc\\uae30\\ud68d \\ubc0f \\ucee8\\uc124\\ud305\\uc758 \\uc774\\ud574\\u300d \\ud0dc\\ub3c4\\uc218\\uc900 \\uc99d\\uac00\\uce58\", \"\\u300c\\ud574\\uc678\\ub3c4\\uc2dc\\uc778\\ud504\\ub77c \\ud658\\uacbd \\ubc0f \\ubb38\\ud654\\uc774\\ud574\\u300d \\uc778\\uc9c0\\uc218\\uc900 \\uc99d\\uac00\\uce58\", \"\\u300c\\ud574\\uc678\\uc0ac\\uc5c5\\uc218\\uc8fc\\uae30\\ud68d \\ubc0f \\ucee8\\uc124\\ud305\\uc758 \\uc774\\ud574\\u300d \\uae30\\uc220\\uc218\\uc900 \\uc99d\\uac00\\uce58\", \"\\u300c\\ud574\\uc678\\ub3c4\\uc2dc\\uc815\\ucc45 \\ubc0f \\uad6d\\uc81c\\uac1c\\ubc1c\\ud611\\ub825\\u300d \\uc778\\uc9c0\\uc218\\uc900 \\uc99d\\uac00\\uce58\", \"\\u300c\\ud574\\uc678\\ub3c4\\uc2dc\\uc815\\ucc45 \\ubc0f \\uad6d\\uc81c\\uac1c\\ubc1c\\ud611\\ub825\\u300d \\uae30\\uc220\\uc218\\uc900 \\uc99d\\uac00\\uce58\", \"\\u300c\\ud574\\uc678\\ub3c4\\uc2dc\\uc778\\ud504\\ub77c \\ud658\\uacbd \\ubc0f \\ubb38\\ud654\\uc774\\ud574\\u300d \\uae30\\uc220\\uc218\\uc900 \\uc99d\\uac00\\uce58\", \"\\u300c\\uc11c\\uc6b8\\uc2dc \\uc6b0\\uc218\\uc815\\ucc45 \\uacf5\\uc720\\uc0ac\\uc5c5\\u300d \\uae30\\uc220\\uc218\\uc900 \\uc99d\\uac00\\uce58\", \"\\u300c\\uc11c\\uc6b8\\uc2dc \\uc6b0\\uc218\\uc815\\ucc45 \\uacf5\\uc720\\uc0ac\\uc5c5\\u300d \\uc778\\uc9c0\\uc218\\uc900 \\uc99d\\uac00\\uce58\", \"\\u300c\\ud574\\uc678\\uc0ac\\uc5c5\\uc218\\uc8fc\\uae30\\ud68d \\ubc0f \\ucee8\\uc124\\ud305\\uc758 \\uc774\\ud574\\u300d \\uc778\\uc9c0\\uc218\\uc900 \\uc99d\\uac00\\uce58\", \"\\u300c\\uc11c\\uc6b8\\uc2dc \\uc6b0\\uc218\\uc815\\ucc45 \\uacf5\\uc720\\uc0ac\\uc5c5\\u300d \\ud0dc\\ub3c4\\uc218\\uc900 \\uc99d\\uac00\\uce58\"]}],\n",
              "                        {\"font\": {\"size\": 13}, \"margin\": {\"t\": 50}, \"template\": {\"data\": {\"bar\": [{\"error_x\": {\"color\": \"#2a3f5f\"}, \"error_y\": {\"color\": \"#2a3f5f\"}, \"marker\": {\"line\": {\"color\": \"#E5ECF6\", \"width\": 0.5}}, \"type\": \"bar\"}], \"barpolar\": [{\"marker\": {\"line\": {\"color\": \"#E5ECF6\", \"width\": 0.5}}, \"type\": \"barpolar\"}], \"carpet\": [{\"aaxis\": {\"endlinecolor\": \"#2a3f5f\", \"gridcolor\": \"white\", \"linecolor\": \"white\", \"minorgridcolor\": \"white\", \"startlinecolor\": \"#2a3f5f\"}, \"baxis\": {\"endlinecolor\": \"#2a3f5f\", \"gridcolor\": \"white\", \"linecolor\": \"white\", \"minorgridcolor\": \"white\", \"startlinecolor\": \"#2a3f5f\"}, \"type\": \"carpet\"}], \"choropleth\": [{\"colorbar\": {\"outlinewidth\": 0, \"ticks\": \"\"}, \"type\": \"choropleth\"}], \"contour\": [{\"colorbar\": {\"outlinewidth\": 0, \"ticks\": \"\"}, \"colorscale\": [[0.0, \"#0d0887\"], [0.1111111111111111, \"#46039f\"], [0.2222222222222222, \"#7201a8\"], [0.3333333333333333, \"#9c179e\"], [0.4444444444444444, \"#bd3786\"], [0.5555555555555556, \"#d8576b\"], [0.6666666666666666, \"#ed7953\"], [0.7777777777777778, \"#fb9f3a\"], [0.8888888888888888, \"#fdca26\"], [1.0, \"#f0f921\"]], \"type\": \"contour\"}], \"contourcarpet\": [{\"colorbar\": {\"outlinewidth\": 0, \"ticks\": \"\"}, \"type\": \"contourcarpet\"}], \"heatmap\": [{\"colorbar\": {\"outlinewidth\": 0, \"ticks\": \"\"}, \"colorscale\": [[0.0, \"#0d0887\"], [0.1111111111111111, \"#46039f\"], [0.2222222222222222, \"#7201a8\"], [0.3333333333333333, \"#9c179e\"], [0.4444444444444444, \"#bd3786\"], [0.5555555555555556, \"#d8576b\"], [0.6666666666666666, \"#ed7953\"], [0.7777777777777778, \"#fb9f3a\"], [0.8888888888888888, \"#fdca26\"], [1.0, \"#f0f921\"]], \"type\": \"heatmap\"}], \"heatmapgl\": [{\"colorbar\": {\"outlinewidth\": 0, \"ticks\": \"\"}, \"colorscale\": [[0.0, \"#0d0887\"], [0.1111111111111111, \"#46039f\"], [0.2222222222222222, \"#7201a8\"], [0.3333333333333333, \"#9c179e\"], [0.4444444444444444, \"#bd3786\"], [0.5555555555555556, \"#d8576b\"], [0.6666666666666666, \"#ed7953\"], [0.7777777777777778, \"#fb9f3a\"], [0.8888888888888888, \"#fdca26\"], [1.0, \"#f0f921\"]], \"type\": \"heatmapgl\"}], \"histogram\": [{\"marker\": {\"colorbar\": {\"outlinewidth\": 0, \"ticks\": \"\"}}, \"type\": \"histogram\"}], \"histogram2d\": [{\"colorbar\": {\"outlinewidth\": 0, \"ticks\": \"\"}, \"colorscale\": [[0.0, \"#0d0887\"], [0.1111111111111111, \"#46039f\"], [0.2222222222222222, \"#7201a8\"], [0.3333333333333333, \"#9c179e\"], [0.4444444444444444, \"#bd3786\"], [0.5555555555555556, \"#d8576b\"], [0.6666666666666666, \"#ed7953\"], [0.7777777777777778, \"#fb9f3a\"], [0.8888888888888888, \"#fdca26\"], [1.0, \"#f0f921\"]], \"type\": \"histogram2d\"}], \"histogram2dcontour\": [{\"colorbar\": {\"outlinewidth\": 0, \"ticks\": \"\"}, \"colorscale\": [[0.0, \"#0d0887\"], [0.1111111111111111, \"#46039f\"], [0.2222222222222222, \"#7201a8\"], [0.3333333333333333, \"#9c179e\"], [0.4444444444444444, \"#bd3786\"], [0.5555555555555556, \"#d8576b\"], [0.6666666666666666, \"#ed7953\"], [0.7777777777777778, \"#fb9f3a\"], [0.8888888888888888, \"#fdca26\"], [1.0, \"#f0f921\"]], \"type\": \"histogram2dcontour\"}], \"mesh3d\": [{\"colorbar\": {\"outlinewidth\": 0, \"ticks\": \"\"}, \"type\": \"mesh3d\"}], \"parcoords\": [{\"line\": {\"colorbar\": {\"outlinewidth\": 0, \"ticks\": \"\"}}, \"type\": \"parcoords\"}], \"scatter\": [{\"marker\": {\"colorbar\": {\"outlinewidth\": 0, \"ticks\": \"\"}}, \"type\": \"scatter\"}], \"scatter3d\": [{\"line\": {\"colorbar\": {\"outlinewidth\": 0, \"ticks\": \"\"}}, \"marker\": {\"colorbar\": {\"outlinewidth\": 0, \"ticks\": \"\"}}, \"type\": \"scatter3d\"}], \"scattercarpet\": [{\"marker\": {\"colorbar\": {\"outlinewidth\": 0, \"ticks\": \"\"}}, \"type\": \"scattercarpet\"}], \"scattergeo\": [{\"marker\": {\"colorbar\": {\"outlinewidth\": 0, \"ticks\": \"\"}}, \"type\": \"scattergeo\"}], \"scattergl\": [{\"marker\": {\"colorbar\": {\"outlinewidth\": 0, \"ticks\": \"\"}}, \"type\": \"scattergl\"}], \"scattermapbox\": [{\"marker\": {\"colorbar\": {\"outlinewidth\": 0, \"ticks\": \"\"}}, \"type\": \"scattermapbox\"}], \"scatterpolar\": [{\"marker\": {\"colorbar\": {\"outlinewidth\": 0, \"ticks\": \"\"}}, \"type\": \"scatterpolar\"}], \"scatterpolargl\": [{\"marker\": {\"colorbar\": {\"outlinewidth\": 0, \"ticks\": \"\"}}, \"type\": \"scatterpolargl\"}], \"scatterternary\": [{\"marker\": {\"colorbar\": {\"outlinewidth\": 0, \"ticks\": \"\"}}, \"type\": \"scatterternary\"}], \"surface\": [{\"colorbar\": {\"outlinewidth\": 0, \"ticks\": \"\"}, \"colorscale\": [[0.0, \"#0d0887\"], [0.1111111111111111, \"#46039f\"], [0.2222222222222222, \"#7201a8\"], [0.3333333333333333, \"#9c179e\"], [0.4444444444444444, \"#bd3786\"], [0.5555555555555556, \"#d8576b\"], [0.6666666666666666, \"#ed7953\"], [0.7777777777777778, \"#fb9f3a\"], [0.8888888888888888, \"#fdca26\"], [1.0, \"#f0f921\"]], \"type\": \"surface\"}], \"table\": [{\"cells\": {\"fill\": {\"color\": \"#EBF0F8\"}, \"line\": {\"color\": \"white\"}}, \"header\": {\"fill\": {\"color\": \"#C8D4E3\"}, \"line\": {\"color\": \"white\"}}, \"type\": \"table\"}]}, \"layout\": {\"annotationdefaults\": {\"arrowcolor\": \"#2a3f5f\", \"arrowhead\": 0, \"arrowwidth\": 1}, \"colorscale\": {\"diverging\": [[0, \"#8e0152\"], [0.1, \"#c51b7d\"], [0.2, \"#de77ae\"], [0.3, \"#f1b6da\"], [0.4, \"#fde0ef\"], [0.5, \"#f7f7f7\"], [0.6, \"#e6f5d0\"], [0.7, \"#b8e186\"], [0.8, \"#7fbc41\"], [0.9, \"#4d9221\"], [1, \"#276419\"]], \"sequential\": [[0.0, \"#0d0887\"], [0.1111111111111111, \"#46039f\"], [0.2222222222222222, \"#7201a8\"], [0.3333333333333333, \"#9c179e\"], [0.4444444444444444, \"#bd3786\"], [0.5555555555555556, \"#d8576b\"], [0.6666666666666666, \"#ed7953\"], [0.7777777777777778, \"#fb9f3a\"], [0.8888888888888888, \"#fdca26\"], [1.0, \"#f0f921\"]], \"sequentialminus\": [[0.0, \"#0d0887\"], [0.1111111111111111, \"#46039f\"], [0.2222222222222222, \"#7201a8\"], [0.3333333333333333, \"#9c179e\"], [0.4444444444444444, \"#bd3786\"], [0.5555555555555556, \"#d8576b\"], [0.6666666666666666, \"#ed7953\"], [0.7777777777777778, \"#fb9f3a\"], [0.8888888888888888, \"#fdca26\"], [1.0, \"#f0f921\"]]}, \"colorway\": [\"#636efa\", \"#EF553B\", \"#00cc96\", \"#ab63fa\", \"#FFA15A\", \"#19d3f3\", \"#FF6692\", \"#B6E880\", \"#FF97FF\", \"#FECB52\"], \"font\": {\"color\": \"#2a3f5f\"}, \"geo\": {\"bgcolor\": \"white\", \"lakecolor\": \"white\", \"landcolor\": \"#E5ECF6\", \"showlakes\": true, \"showland\": true, \"subunitcolor\": \"white\"}, \"hoverlabel\": {\"align\": \"left\"}, \"hovermode\": \"closest\", \"mapbox\": {\"style\": \"light\"}, \"paper_bgcolor\": \"white\", \"plot_bgcolor\": \"#E5ECF6\", \"polar\": {\"angularaxis\": {\"gridcolor\": \"white\", \"linecolor\": \"white\", \"ticks\": \"\"}, \"bgcolor\": \"#E5ECF6\", \"radialaxis\": {\"gridcolor\": \"white\", \"linecolor\": \"white\", \"ticks\": \"\"}}, \"scene\": {\"xaxis\": {\"backgroundcolor\": \"#E5ECF6\", \"gridcolor\": \"white\", \"gridwidth\": 2, \"linecolor\": \"white\", \"showbackground\": true, \"ticks\": \"\", \"zerolinecolor\": \"white\"}, \"yaxis\": {\"backgroundcolor\": \"#E5ECF6\", \"gridcolor\": \"white\", \"gridwidth\": 2, \"linecolor\": \"white\", \"showbackground\": true, \"ticks\": \"\", \"zerolinecolor\": \"white\"}, \"zaxis\": {\"backgroundcolor\": \"#E5ECF6\", \"gridcolor\": \"white\", \"gridwidth\": 2, \"linecolor\": \"white\", \"showbackground\": true, \"ticks\": \"\", \"zerolinecolor\": \"white\"}}, \"shapedefaults\": {\"line\": {\"color\": \"#2a3f5f\"}}, \"ternary\": {\"aaxis\": {\"gridcolor\": \"white\", \"linecolor\": \"white\", \"ticks\": \"\"}, \"baxis\": {\"gridcolor\": \"white\", \"linecolor\": \"white\", \"ticks\": \"\"}, \"bgcolor\": \"#E5ECF6\", \"caxis\": {\"gridcolor\": \"white\", \"linecolor\": \"white\", \"ticks\": \"\"}}, \"title\": {\"x\": 0.05}, \"xaxis\": {\"automargin\": true, \"gridcolor\": \"white\", \"linecolor\": \"white\", \"ticks\": \"\", \"zerolinecolor\": \"white\", \"zerolinewidth\": 2}, \"yaxis\": {\"automargin\": true, \"gridcolor\": \"white\", \"linecolor\": \"white\", \"ticks\": \"\", \"zerolinecolor\": \"white\", \"zerolinewidth\": 2}}}, \"title\": {\"text\": \"\\ubb38\\ud56d\\ubcc4 \\uc778\\uc9c0-\\uae30\\uc220-\\ud0dc\\ub3c4 \\uc218\\uc900 \\uc99d\\uac00\\ud604\\ud669\", \"x\": 0.5, \"y\": 0.97}, \"width\": 1200, \"xaxis\": {\"range\": [0, 2], \"title\": {\"font\": {\"size\": 13}, \"text\": \"\\uc99d\\uac00\\ubd84(5\\uc810\\uae30\\uc900)\"}}},\n",
              "                        {\"responsive\": true}\n",
              "                    ).then(function(){\n",
              "                            \n",
              "var gd = document.getElementById('de63d4f7-80bd-4620-9fb9-bb4bfce76b0a');\n",
              "var x = new MutationObserver(function (mutations, observer) {{\n",
              "        var display = window.getComputedStyle(gd).display;\n",
              "        if (!display || display === 'none') {{\n",
              "            console.log([gd, 'removed!']);\n",
              "            Plotly.purge(gd);\n",
              "            observer.disconnect();\n",
              "        }}\n",
              "}});\n",
              "\n",
              "// Listen for the removal of the full notebook cells\n",
              "var notebookContainer = gd.closest('#notebook-container');\n",
              "if (notebookContainer) {{\n",
              "    x.observe(notebookContainer, {childList: true});\n",
              "}}\n",
              "\n",
              "// Listen for the clearing of the current output cell\n",
              "var outputEl = gd.closest('.output');\n",
              "if (outputEl) {{\n",
              "    x.observe(outputEl, {childList: true});\n",
              "}}\n",
              "\n",
              "                        })\n",
              "                };\n",
              "                \n",
              "            </script>\n",
              "        </div>\n",
              "</body>\n",
              "</html>"
            ]
          },
          "metadata": {
            "tags": []
          }
        }
      ]
    },
    {
      "cell_type": "code",
      "metadata": {
        "id": "iv5J5JoA9f96",
        "colab_type": "code",
        "colab": {}
      },
      "source": [
        ""
      ],
      "execution_count": 0,
      "outputs": []
    }
  ]
}