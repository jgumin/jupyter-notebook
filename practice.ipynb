{
  "nbformat": 4,
  "nbformat_minor": 0,
  "metadata": {
    "colab": {
      "name": "practice.ipynb",
      "provenance": [],
      "include_colab_link": true
    },
    "kernelspec": {
      "name": "python3",
      "display_name": "Python 3"
    },
    "accelerator": "GPU"
  },
  "cells": [
    {
      "cell_type": "markdown",
      "metadata": {
        "id": "view-in-github",
        "colab_type": "text"
      },
      "source": [
        "<a href=\"https://colab.research.google.com/github/jgumin/jupyter-notebook/blob/master/practice.ipynb\" target=\"_parent\"><img src=\"https://colab.research.google.com/assets/colab-badge.svg\" alt=\"Open In Colab\"/></a>"
      ]
    },
    {
      "cell_type": "markdown",
      "metadata": {
        "colab_type": "text",
        "id": "MF6Xz7JMm2Qv"
      },
      "source": [
        "# Plotly-Maps"
      ]
    },
    {
      "cell_type": "markdown",
      "metadata": {
        "colab_type": "text",
        "id": "M58mCrTAmz_d"
      },
      "source": [
        "https://plot.ly/python/maps/"
      ]
    },
    {
      "cell_type": "code",
      "metadata": {
        "colab_type": "code",
        "id": "cZnG5jGs_LMD",
        "colab": {}
      },
      "source": [
        "!pip install plotly==4.1.1"
      ],
      "execution_count": 0,
      "outputs": []
    },
    {
      "cell_type": "code",
      "metadata": {
        "colab_type": "code",
        "id": "fn5AhKOK95MP",
        "colab": {}
      },
      "source": [
        "# 노트북 안에서 그래프를 그리기 위해\n",
        "%matplotlib inline\n",
        "# %matplotlib nbagg\n",
        "    \n",
        "import pandas as pd\n",
        "import numpy as np\n",
        "import matplotlib.pyplot as plt\n",
        "import seaborn as sns\n",
        "plt.rcParams['figure.figsize'] = [10, 6]\n",
        "\n",
        "\n",
        "# Suppress Deprecation and Incorrect Usage Warnings \n",
        "import warnings\n",
        "warnings.filterwarnings('ignore')\n",
        "\n",
        "# #  display two pandas tables side by side\n",
        "# from IPython.display import display, HTML\n",
        "# CSS = \"\"\"\n",
        "# .output {\n",
        "#     flex-direction: row;\n",
        "# }\n",
        "# \"\"\"\n",
        "# HTML('<style>{}</style>'.format(CSS))\n",
        "\n",
        "\n",
        "# 기본 글꼴 변경\n",
        "import matplotlib as mpl\n",
        "mpl.font_manager._rebuild()\n",
        "mpl.pyplot.rc('font', family='NanumBarunGothic')\n",
        "\n",
        "# allow multiple outputs\n",
        "# from IPython.core.interactiveshell import InteractiveShell\n",
        "# InteractiveShell.ast_node_interactivity = \"all\"\n",
        "\n",
        "# allow image input\n",
        "from IPython.display import Image"
      ],
      "execution_count": 0,
      "outputs": []
    },
    {
      "cell_type": "code",
      "metadata": {
        "colab_type": "code",
        "id": "WQMsczZXLCe5",
        "colab": {}
      },
      "source": [
        "Image('https://i.stack.imgur.com/ScJfR.png')\n"
      ],
      "execution_count": 0,
      "outputs": []
    },
    {
      "cell_type": "code",
      "metadata": {
        "colab_type": "code",
        "id": "QKQVqVGnHkZg",
        "colab": {}
      },
      "source": [
        ""
      ],
      "execution_count": 0,
      "outputs": []
    },
    {
      "cell_type": "markdown",
      "metadata": {
        "colab_type": "text",
        "id": "jq8RvkBJFsmx"
      },
      "source": [
        "# Library Importing(plotly 4.1.1)"
      ]
    },
    {
      "cell_type": "code",
      "metadata": {
        "colab_type": "code",
        "id": "148pDlGfNAVo",
        "colab": {}
      },
      "source": [
        "from plotly import __version__\n",
        "print (__version__)\n",
        "import plotly.express as px\n",
        "from plotly.subplots import make_subplots\n",
        "import plotly.graph_objs as go\n",
        "import plotly.figure_factory as ff\n",
        "\n",
        "# Display all cell outputs\n",
        "from IPython.core.interactiveshell import InteractiveShell\n",
        "\n",
        "# Jupyter setup\n",
        "# init_notebook_mode(connected=True)\n",
        "\n",
        "import ipywidgets as widgets"
      ],
      "execution_count": 0,
      "outputs": []
    },
    {
      "cell_type": "code",
      "metadata": {
        "colab_type": "code",
        "id": "FtE7_WMYF4uh",
        "colab": {}
      },
      "source": [
        "import plotly\n",
        "from plotly import tools\n",
        "\n",
        "# plotly + cufflinks in offline mode\n",
        "from plotly.offline import download_plotlyjs, init_notebook_mode, plot, iplot"
      ],
      "execution_count": 0,
      "outputs": []
    },
    {
      "cell_type": "markdown",
      "metadata": {
        "colab_type": "text",
        "id": "xVhdqRHoF3w0"
      },
      "source": [
        "# Library Importing(plotly 3.6.1)"
      ]
    },
    {
      "cell_type": "code",
      "metadata": {
        "colab_type": "code",
        "id": "bQydt3KwFpgL",
        "colab": {}
      },
      "source": [
        "from plotly import __version__\n",
        "print (__version__)\n",
        "import plotly\n",
        "from plotly import tools\n",
        "import plotly.plotly as py\n",
        "import plotly.graph_objs as go\n",
        "import plotly.figure_factory as ff\n",
        "\n",
        "# Cufflinks wrapper on plotly\n",
        "import cufflinks as cf\n",
        "\n",
        "# Display all cell outputs\n",
        "from IPython.core.interactiveshell import InteractiveShell\n",
        "\n",
        "# plotly + cufflinks in offline mode\n",
        "from plotly.offline import download_plotlyjs, init_notebook_mode, plot, iplot\n",
        "cf.go_offline()\n",
        "\n",
        "# set the global theme\n",
        "cf.set_config_file(world_readable=True, theme='pearl', offline=True)\n",
        "\n",
        "# Jupyter setup\n",
        "init_notebook_mode(connected=True)\n",
        "\n",
        "import ipywidgets as widgets"
      ],
      "execution_count": 0,
      "outputs": []
    },
    {
      "cell_type": "code",
      "metadata": {
        "colab_type": "code",
        "id": "mVTfU_xf_tAs",
        "colab": {}
      },
      "source": [
        "def configure_plotly_browser_state():\n",
        "  import IPython\n",
        "  display(IPython.core.display.HTML('''\n",
        "        <script src=\"/static/components/requirejs/require.js\"></script>\n",
        "        <script>\n",
        "          requirejs.config({\n",
        "            paths: {\n",
        "              base: '/static/base',\n",
        "              plotly: 'https://cdn.plot.ly/plotly-latest.min.js?noext',\n",
        "            },\n",
        "          });\n",
        "        </script>\n",
        "        '''))"
      ],
      "execution_count": 0,
      "outputs": []
    },
    {
      "cell_type": "markdown",
      "metadata": {
        "colab_type": "text",
        "id": "GpUf3xigGASR"
      },
      "source": [
        "# plotly 테마 설정"
      ]
    },
    {
      "cell_type": "markdown",
      "metadata": {
        "colab_type": "text",
        "id": "zHbaUvIZEiYn"
      },
      "source": [
        "theming 참고1: https://medium.com/plotly/introducing-plotly-py-theming-b644109ac9c7<br>\n",
        "theming 참고2: https://nbviewer.jupyter.org/github/jonmmease/plotly.py_release_notebooks/blob/master/notebooks/v3.4.0/templates-gapminder.ipynb <br>\n",
        "기본theme설정/해제 참고: https://plot.ly/python/templates/#specifying-a-default-themes "
      ]
    },
    {
      "cell_type": "code",
      "metadata": {
        "colab_type": "code",
        "id": "00lai7EnHjQy",
        "colab": {}
      },
      "source": [
        "import plotly.io as pio\n",
        "pio.templates.default = \"seaborn\" # ['ggplot2', 'seaborn', 'plotly','plotly_white', 'plotly_dark','presentation', 'xgridoff', 'none']\n",
        "\n",
        "# fig = go.Figure(layout={\n",
        "#     'title' : 'Figure Title',\n",
        "#     'font' : {'size': 15, 'family': 'Courier'}\n",
        "# })\n",
        "\n",
        "# templated_fig = pio.to_templated(fig)\n",
        "# pio.templates['large_courier'] = templated_fig.layout.template\n",
        "\n",
        "# pio.templates.default = 'large_courier'"
      ],
      "execution_count": 0,
      "outputs": []
    },
    {
      "cell_type": "code",
      "metadata": {
        "id": "mMvP0TXk7LoY",
        "colab_type": "code",
        "colab": {}
      },
      "source": [
        ""
      ],
      "execution_count": 0,
      "outputs": []
    },
    {
      "cell_type": "markdown",
      "metadata": {
        "colab_type": "text",
        "id": "NgXRVgxJ7F7Z"
      },
      "source": [
        "## 파이썬 Python seaborn 으로 시각화 하기"
      ]
    },
    {
      "cell_type": "markdown",
      "metadata": {
        "id": "Uv0VgHlt7MHa",
        "colab_type": "text"
      },
      "source": [
        "출처: https://www.youtube.com/watch?v=8FZI3NhQk9Q&list=PLaTc2c6yEwmqvImLtEUWvfjYYLwfj--K3&index=3"
      ]
    },
    {
      "cell_type": "markdown",
      "metadata": {
        "id": "5Kxjin1d7fHK",
        "colab_type": "text"
      },
      "source": [
        "seaborn lmplot 같은 통계적 수치를 가지는 데이터셋의 요약을 pandas의 describe와 corr으로 보기\n",
        "\n",
        "\n",
        "### Anscombe's quartet \n",
        "\"numerical calculations are exact, but graphs are rough.\"\n",
        "\n",
        "* [Anscombe’s quartet — seaborn 0.9.0 documentation](https://seaborn.pydata.org/examples/anscombes_quartet.html)\n",
        "* [Anscombe's quartet - Wikipedia](https://en.wikipedia.org/wiki/Anscombe%27s_quartet)\n",
        "* [The Datasaurus Dozen - Same Stats, Different Graphs | Autodesk Research](https://www.autodeskresearch.com/publications/samestats)\n",
        " "
      ]
    },
    {
      "cell_type": "code",
      "metadata": {
        "id": "qoxFBEjz9vhV",
        "colab_type": "code",
        "colab": {}
      },
      "source": [
        "sns.set(style=\"ticks\")\n",
        "\n",
        "# Load the example dataset for Anscombe's quartet\n",
        "df = sns.load_dataset(\"anscombe\")"
      ],
      "execution_count": 0,
      "outputs": []
    },
    {
      "cell_type": "code",
      "metadata": {
        "id": "PbCKaFJo7jV9",
        "colab_type": "code",
        "colab": {}
      },
      "source": [
        "df[df[\"dataset\"] == \"I\"].corr()"
      ],
      "execution_count": 0,
      "outputs": []
    },
    {
      "cell_type": "code",
      "metadata": {
        "id": "nkoidFlKWI_4",
        "colab_type": "code",
        "colab": {}
      },
      "source": [
        "sns.lmplot(x=\"x\", y=\"y\", data=df, hue=\"dataset\", col=\"dataset\", col_wrap=2, \n",
        "           ci=None, palette=\"muted\", height=4, scatter_kws={\"s\":80,\"alpha\":0.7})"
      ],
      "execution_count": 0,
      "outputs": []
    },
    {
      "cell_type": "code",
      "metadata": {
        "id": "xRxOYfPAqqXV",
        "colab_type": "code",
        "colab": {}
      },
      "source": [
        "sns.set(style=\"white\", context=\"talk\")\n",
        "rs = np.random.RandomState(8)"
      ],
      "execution_count": 0,
      "outputs": []
    },
    {
      "cell_type": "code",
      "metadata": {
        "id": "hSpU460iqx7F",
        "colab_type": "code",
        "colab": {}
      },
      "source": [
        "x = np.array(list(\"ABCDEFGHIJ\"))\n",
        "y1 = np.arange(1, 11)"
      ],
      "execution_count": 0,
      "outputs": []
    },
    {
      "cell_type": "code",
      "metadata": {
        "id": "J-f7psq_uHZv",
        "colab_type": "code",
        "colab": {}
      },
      "source": [
        "sns.barplot(x=x, y=y1, palette=\"rocket\"\n",
        "           ).axhline(0, color=\"k\", clip_on=False)"
      ],
      "execution_count": 0,
      "outputs": []
    },
    {
      "cell_type": "code",
      "metadata": {
        "id": "gnOJ3COk1Y48",
        "colab_type": "code",
        "colab": {}
      },
      "source": [
        "# Center the data to make it diverging\n",
        "y2 = y1 - 5.5"
      ],
      "execution_count": 0,
      "outputs": []
    },
    {
      "cell_type": "code",
      "metadata": {
        "id": "etBMolhI3kpo",
        "colab_type": "code",
        "colab": {}
      },
      "source": [
        "sns.barplot(x=x, y=y2, palette=\"vlag\"\n",
        "           ).axhline(0, color=\"r\", clip_on=False)"
      ],
      "execution_count": 0,
      "outputs": []
    },
    {
      "cell_type": "code",
      "metadata": {
        "id": "l1wI7AvATaFV",
        "colab_type": "code",
        "colab": {}
      },
      "source": [
        "y3 = rs.choice(y1, len(y1), replace=False)"
      ],
      "execution_count": 0,
      "outputs": []
    },
    {
      "cell_type": "code",
      "metadata": {
        "id": "djjBQFXHTaOu",
        "colab_type": "code",
        "colab": {}
      },
      "source": [
        "sns.barplot(x=x, y=y3, palette=\"deep\")\n",
        "sns.despine(bottom=True, left=True)"
      ],
      "execution_count": 0,
      "outputs": []
    },
    {
      "cell_type": "code",
      "metadata": {
        "id": "1NRlPklzTaZO",
        "colab_type": "code",
        "colab": {}
      },
      "source": [
        ""
      ],
      "execution_count": 0,
      "outputs": []
    },
    {
      "cell_type": "code",
      "metadata": {
        "id": "_7pmOa9wWjet",
        "colab_type": "code",
        "colab": {}
      },
      "source": [
        ""
      ],
      "execution_count": 0,
      "outputs": []
    },
    {
      "cell_type": "code",
      "metadata": {
        "id": "ahLeHN8vWjlD",
        "colab_type": "code",
        "colab": {}
      },
      "source": [
        ""
      ],
      "execution_count": 0,
      "outputs": []
    },
    {
      "cell_type": "code",
      "metadata": {
        "id": "doZpR3BGuLZ-",
        "colab_type": "code",
        "colab": {}
      },
      "source": [
        "# fig = make_subplots(rows=1, cols=3)\n",
        "\n",
        "fig=go.Figure(data=[go.Bar(x=x, y=y1)])\n",
        "fig.update_traces(marker=dict(color=y1, cmax=15, cmin=0))\n",
        "                              # colorbar_dtick=1,colorscale='Viridis'))\n",
        "fig.update_layout(width=680)\n",
        "fig.update_xaxes(showline=True, linewidth=1, linecolor=\"black\", mirror=True)\n",
        "fig.update_yaxes(showline=True, linewidth=1, linecolor=\"black\", mirror=True)"
      ],
      "execution_count": 0,
      "outputs": []
    },
    {
      "cell_type": "code",
      "metadata": {
        "id": "qCYDsEdI30cr",
        "colab_type": "code",
        "colab": {}
      },
      "source": [
        "fig=go.Figure(data=[go.Bar(x=x, y=y2)])\n",
        "fig.update_traces(marker=dict(color=-y2, cmax=7.5, cmin=-7.5, colorscale='RdBu'))\n",
        "                              # colorbar_dtick=1,colorscale='Viridis'))\n",
        "fig.update_xaxes(showline=True, linewidth=1, linecolor=\"black\", mirror=True)\n",
        "fig.update_yaxes(showline=True, linewidth=1, linecolor=\"black\", mirror=True)\n",
        "fig.update_layout(width=680, shapes=[go.layout.Shape(\n",
        "    type=\"line\", x0=-0.5,x1=9.5,y0=0,y1=0,line_width=1)])"
      ],
      "execution_count": 0,
      "outputs": []
    },
    {
      "cell_type": "code",
      "metadata": {
        "id": "ilAs2--dr4ai",
        "colab_type": "code",
        "colab": {}
      },
      "source": [
        "fig=go.Figure(data=[go.Bar(x=x, y=y3)])\n",
        "fig.update_traces(marker=dict(color=y3))\n",
        "fig.update_xaxes(showline=True, linewidth=1, linecolor=\"black\", mirror=True)\n",
        "fig.update_yaxes(showline=True, linewidth=1, linecolor=\"black\", mirror=True)\n",
        "fig.update_layout(width=680, shapes=[go.layout.Shape(\n",
        "    type=\"line\", x0=-0.5,x1=9.5,y0=0,y1=0,line_width=1)])"
      ],
      "execution_count": 0,
      "outputs": []
    }
  ]
}