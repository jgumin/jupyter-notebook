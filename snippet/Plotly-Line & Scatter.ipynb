{
  "nbformat": 4,
  "nbformat_minor": 0,
  "metadata": {
    "colab": {
      "name": "Untitled.ipynb",
      "version": "0.3.2",
      "provenance": [],
      "include_colab_link": true
    },
    "language_info": {
      "codemirror_mode": {
        "name": "ipython",
        "version": 3
      },
      "file_extension": ".py",
      "mimetype": "text/x-python",
      "name": "python",
      "nbconvert_exporter": "python",
      "pygments_lexer": "ipython3",
      "version": "3.7.3"
    },
    "kernelspec": {
      "name": "python3",
      "display_name": "Python 3"
    },
    "accelerator": "GPU"
  },
  "cells": [
    {
      "cell_type": "markdown",
      "metadata": {
        "id": "view-in-github",
        "colab_type": "text"
      },
      "source": [
        "<a href=\"https://colab.research.google.com/github/jgumin/jupyter-notebook/blob/master/snippet/Plotly-Line%20%26%20Scatter.ipynb\" target=\"_parent\"><img src=\"https://colab.research.google.com/assets/colab-badge.svg\" alt=\"Open In Colab\"/></a>"
      ]
    },
    {
      "cell_type": "markdown",
      "metadata": {
        "colab_type": "text",
        "id": "MF6Xz7JMm2Qv"
      },
      "source": [
        "# Plotly-Line & Scatter"
      ]
    },
    {
      "cell_type": "markdown",
      "metadata": {
        "colab_type": "text",
        "id": "M58mCrTAmz_d"
      },
      "source": [
        "https://plot.ly/python/line-and-scatter/"
      ]
    },
    {
      "cell_type": "code",
      "metadata": {
        "id": "cZnG5jGs_LMD",
        "colab_type": "code",
        "outputId": "11bf0acf-5e3d-4260-b75e-28e263acbeb8",
        "colab": {
          "base_uri": "https://localhost:8080/",
          "height": 69
        }
      },
      "source": [
        "!pip install plotly==4.1.1"
      ],
      "execution_count": 0,
      "outputs": [
        {
          "output_type": "stream",
          "text": [
            "Requirement already satisfied: plotly==4.1.1 in /usr/local/lib/python3.6/dist-packages (4.1.1)\n",
            "Requirement already satisfied: retrying>=1.3.3 in /usr/local/lib/python3.6/dist-packages (from plotly==4.1.1) (1.3.3)\n",
            "Requirement already satisfied: six in /usr/local/lib/python3.6/dist-packages (from plotly==4.1.1) (1.12.0)\n"
          ],
          "name": "stdout"
        }
      ]
    },
    {
      "cell_type": "code",
      "metadata": {
        "colab_type": "code",
        "id": "fn5AhKOK95MP",
        "colab": {}
      },
      "source": [
        "# 노트북 안에서 그래프를 그리기 위해\n",
        "%matplotlib inline\n",
        "# %matplotlib nbagg\n",
        "    \n",
        "import pandas as pd\n",
        "import numpy as np\n",
        "import matplotlib.pyplot as plt\n",
        "import seaborn as sns\n",
        "plt.rcParams['figure.figsize'] = [10, 6]\n",
        "\n",
        "\n",
        "# Suppress Deprecation and Incorrect Usage Warnings \n",
        "import warnings\n",
        "warnings.filterwarnings('ignore')\n",
        "\n",
        "# #  display two pandas tables side by side\n",
        "# from IPython.display import display, HTML\n",
        "# CSS = \"\"\"\n",
        "# .output {\n",
        "#     flex-direction: row;\n",
        "# }\n",
        "# \"\"\"\n",
        "# HTML('<style>{}</style>'.format(CSS))\n",
        "\n",
        "\n",
        "# 기본 글꼴 변경\n",
        "import matplotlib as mpl\n",
        "mpl.font_manager._rebuild()\n",
        "mpl.pyplot.rc('font', family='NanumBarunGothic')\n",
        "\n",
        "# allow multiple outputs\n",
        "# from IPython.core.interactiveshell import InteractiveShell\n",
        "# InteractiveShell.ast_node_interactivity = \"all\"\n",
        "\n",
        "# allow image input\n",
        "from IPython.display import Image"
      ],
      "execution_count": 0,
      "outputs": []
    },
    {
      "cell_type": "code",
      "metadata": {
        "colab_type": "code",
        "id": "WQMsczZXLCe5",
        "colab": {}
      },
      "source": [
        "Image('https://i.stack.imgur.com/ScJfR.png')\n"
      ],
      "execution_count": 0,
      "outputs": []
    },
    {
      "cell_type": "code",
      "metadata": {
        "id": "QKQVqVGnHkZg",
        "colab_type": "code",
        "colab": {}
      },
      "source": [
        ""
      ],
      "execution_count": 0,
      "outputs": []
    },
    {
      "cell_type": "markdown",
      "metadata": {
        "id": "jq8RvkBJFsmx",
        "colab_type": "text"
      },
      "source": [
        "# Library Importing(plotly 4.1.1)"
      ]
    },
    {
      "cell_type": "code",
      "metadata": {
        "colab_type": "code",
        "outputId": "23049ddc-b534-469d-a275-693d62086a67",
        "id": "148pDlGfNAVo",
        "colab": {
          "base_uri": "https://localhost:8080/",
          "height": 34
        }
      },
      "source": [
        "from plotly import __version__\n",
        "print (__version__)\n",
        "import plotly.express as px\n",
        "from plotly.subplots import make_subplots\n",
        "import plotly.graph_objs as go\n",
        "import plotly.figure_factory as ff\n",
        "\n",
        "# Display all cell outputs\n",
        "from IPython.core.interactiveshell import InteractiveShell\n",
        "\n",
        "# Jupyter setup\n",
        "init_notebook_mode(connected=True)\n",
        "\n",
        "import ipywidgets as widgets"
      ],
      "execution_count": 0,
      "outputs": [
        {
          "output_type": "stream",
          "text": [
            "4.1.1\n"
          ],
          "name": "stdout"
        }
      ]
    },
    {
      "cell_type": "code",
      "metadata": {
        "id": "FtE7_WMYF4uh",
        "colab_type": "code",
        "colab": {}
      },
      "source": [
        "import plotly\n",
        "from plotly import tools\n",
        "\n",
        "# plotly + cufflinks in offline mode\n",
        "from plotly.offline import download_plotlyjs, init_notebook_mode, plot, iplot"
      ],
      "execution_count": 0,
      "outputs": []
    },
    {
      "cell_type": "markdown",
      "metadata": {
        "id": "xVhdqRHoF3w0",
        "colab_type": "text"
      },
      "source": [
        "# Library Importing(plotly 3.6.1)"
      ]
    },
    {
      "cell_type": "code",
      "metadata": {
        "id": "bQydt3KwFpgL",
        "colab_type": "code",
        "outputId": "a748b96d-42a6-4a1a-974c-85ebdc7b8ffc",
        "colab": {
          "base_uri": "https://localhost:8080/",
          "height": 34
        }
      },
      "source": [
        "from plotly import __version__\n",
        "print (__version__)\n",
        "import plotly\n",
        "from plotly import tools\n",
        "import plotly.plotly as py\n",
        "import plotly.graph_objs as go\n",
        "import plotly.figure_factory as ff\n",
        "\n",
        "# Cufflinks wrapper on plotly\n",
        "import cufflinks as cf\n",
        "\n",
        "# Display all cell outputs\n",
        "from IPython.core.interactiveshell import InteractiveShell\n",
        "\n",
        "# plotly + cufflinks in offline mode\n",
        "from plotly.offline import download_plotlyjs, init_notebook_mode, plot, iplot\n",
        "cf.go_offline()\n",
        "\n",
        "# set the global theme\n",
        "cf.set_config_file(world_readable=True, theme='pearl', offline=True)\n",
        "\n",
        "# Jupyter setup\n",
        "init_notebook_mode(connected=True)\n",
        "\n",
        "import ipywidgets as widgets"
      ],
      "execution_count": 0,
      "outputs": [
        {
          "output_type": "stream",
          "text": [
            "4.1.1\n"
          ],
          "name": "stdout"
        },
        {
          "output_type": "display_data",
          "data": {
            "text/html": [
              "        <script type=\"text/javascript\">\n",
              "        window.PlotlyConfig = {MathJaxConfig: 'local'};\n",
              "        if (window.MathJax) {MathJax.Hub.Config({SVG: {font: \"STIX-Web\"}});}\n",
              "        if (typeof require !== 'undefined') {\n",
              "        require.undef(\"plotly\");\n",
              "        requirejs.config({\n",
              "            paths: {\n",
              "                'plotly': ['https://cdn.plot.ly/plotly-latest.min']\n",
              "            }\n",
              "        });\n",
              "        require(['plotly'], function(Plotly) {\n",
              "            window._Plotly = Plotly;\n",
              "        });\n",
              "        }\n",
              "        </script>\n",
              "        "
            ]
          },
          "metadata": {
            "tags": []
          }
        }
      ]
    },
    {
      "cell_type": "code",
      "metadata": {
        "colab_type": "code",
        "id": "mVTfU_xf_tAs",
        "colab": {}
      },
      "source": [
        "def configure_plotly_browser_state():\n",
        "  import IPython\n",
        "  display(IPython.core.display.HTML('''\n",
        "        <script src=\"/static/components/requirejs/require.js\"></script>\n",
        "        <script>\n",
        "          requirejs.config({\n",
        "            paths: {\n",
        "              base: '/static/base',\n",
        "              plotly: 'https://cdn.plot.ly/plotly-latest.min.js?noext',\n",
        "            },\n",
        "          });\n",
        "        </script>\n",
        "        '''))"
      ],
      "execution_count": 0,
      "outputs": []
    },
    {
      "cell_type": "markdown",
      "metadata": {
        "id": "GpUf3xigGASR",
        "colab_type": "text"
      },
      "source": [
        "# plotly 테마 설정"
      ]
    },
    {
      "cell_type": "markdown",
      "metadata": {
        "id": "zHbaUvIZEiYn",
        "colab_type": "text"
      },
      "source": [
        "theming 참고1: https://medium.com/plotly/introducing-plotly-py-theming-b644109ac9c7<br>\n",
        "theming 참고2: https://nbviewer.jupyter.org/github/jonmmease/plotly.py_release_notebooks/blob/master/notebooks/v3.4.0/templates-gapminder.ipynb <br>\n",
        "기본theme설정/해제 참고: https://plot.ly/python/templates/#specifying-a-default-themes "
      ]
    },
    {
      "cell_type": "code",
      "metadata": {
        "colab_type": "code",
        "id": "00lai7EnHjQy",
        "colab": {}
      },
      "source": [
        "import plotly.io as pio\n",
        "pio.templates.default = \"plotly_white\"\n",
        "\n",
        "# fig = go.Figure(layout={\n",
        "#     'title' : 'Figure Title',\n",
        "#     'font' : {'size': 15, 'family': 'Courier'}\n",
        "# })\n",
        "\n",
        "# templated_fig = pio.to_templated(fig)\n",
        "# pio.templates['large_courier'] = templated_fig.layout.template\n",
        "\n",
        "# pio.templates.default = 'large_courier'"
      ],
      "execution_count": 0,
      "outputs": []
    },
    {
      "cell_type": "markdown",
      "metadata": {
        "id": "1BTAYRSET1qK",
        "colab_type": "text"
      },
      "source": [
        "## 외부데이터 임포팅"
      ]
    },
    {
      "cell_type": "code",
      "metadata": {
        "id": "uEMG41bldvwF",
        "colab_type": "code",
        "colab": {}
      },
      "source": [
        "# Import package\n",
        "from urllib.request import urlretrieve\n",
        "import pandas as pd\n",
        "\n",
        "# Assign url of file: url\n",
        "url = 'https://o365uos-my.sharepoint.com/personal/isus_office_uos_ac_kr/Documents/200.%20%EC%97%B0%EB%9D%BD%EC%B2%98/IUDP%ED%95%99%EC%83%9D%ED%98%84%ED%99%A9.xlsx'\n",
        "\n",
        "# Save file locally\n",
        "urlretrieve(url, \"IUDP학생현황.xlsx\")\n",
        "\n",
        "# Read file into a DataFrame and print its head\n",
        "stu_info = pd.read_excel(\"IUDP학생현황.xlsx\", sheet_name=2,dtype={'학번':str})"
      ],
      "execution_count": 0,
      "outputs": []
    },
    {
      "cell_type": "code",
      "metadata": {
        "id": "SfexGQrx8lGz",
        "colab_type": "code",
        "colab": {}
      },
      "source": [
        ""
      ],
      "execution_count": 0,
      "outputs": []
    },
    {
      "cell_type": "markdown",
      "metadata": {
        "id": "PNrbyZ-lSb9T",
        "colab_type": "text"
      },
      "source": [
        "# Scatter plot with plotly express\n",
        "Plotly Express functions take as a first argument a tidy pandas.DataFrame. With px.scatter, each data point is represented as a marker point, which location is given by the x and y columns."
      ]
    },
    {
      "cell_type": "code",
      "metadata": {
        "id": "MW5W_AgENUgq",
        "colab_type": "code",
        "colab": {}
      },
      "source": [
        "iris = px.data.iris()\n",
        "fig = px.scatter(iris, x=\"sepal_width\", y=\"sepal_length\")\n",
        "fig.show()"
      ],
      "execution_count": 0,
      "outputs": []
    },
    {
      "cell_type": "code",
      "metadata": {
        "id": "jyl4XOjYQ9LH",
        "colab_type": "code",
        "colab": {}
      },
      "source": [
        ""
      ],
      "execution_count": 0,
      "outputs": []
    },
    {
      "cell_type": "markdown",
      "metadata": {
        "id": "AoW1LN7RYhv5",
        "colab_type": "text"
      },
      "source": [
        "## Set size and color with column names\n",
        "Note that color and size data are added to hover information. You can add other columns to hover data with the hover_data argument of px.scatter."
      ]
    },
    {
      "cell_type": "code",
      "metadata": {
        "colab_type": "code",
        "id": "yH-B-jsCOH8a",
        "colab": {}
      },
      "source": [
        "iris = px.data.iris()\n",
        "fig = px.scatter(iris, x=\"sepal_width\", y=\"sepal_length\", color=\"species\", \n",
        "                 size=\"petal_length\", hover_data=[\"petal_width\"])\n",
        "fig.show()"
      ],
      "execution_count": 0,
      "outputs": []
    },
    {
      "cell_type": "code",
      "metadata": {
        "id": "iHMkPM6nQ7Bv",
        "colab_type": "code",
        "colab": {}
      },
      "source": [
        ""
      ],
      "execution_count": 0,
      "outputs": []
    },
    {
      "cell_type": "markdown",
      "metadata": {
        "id": "-Z5YKXFfYYAZ",
        "colab_type": "text"
      },
      "source": [
        "# Line plot with plotly express"
      ]
    },
    {
      "cell_type": "code",
      "metadata": {
        "id": "CnMNUx_jRBHh",
        "colab_type": "code",
        "colab": {}
      },
      "source": [
        "gapminder =  px.data.gapminder().query(\"continent == 'Oceania'\")\n",
        "fig = px.line(gapminder, x='year', y='lifeExp', color='country')\n",
        "fig.show()"
      ],
      "execution_count": 0,
      "outputs": []
    },
    {
      "cell_type": "code",
      "metadata": {
        "id": "CwqJePPjSDn4",
        "colab_type": "code",
        "colab": {}
      },
      "source": [
        ""
      ],
      "execution_count": 0,
      "outputs": []
    },
    {
      "cell_type": "markdown",
      "metadata": {
        "id": "d5bbx86sST9k",
        "colab_type": "text"
      },
      "source": [
        "# Scatter and line plot with go.Scatter\n",
        "When data are not available as tidy dataframes, it is possible to use the more generic go.Scatter function from plotly.graph_objects. Whereas plotly.express has two functions scatter and line, go.Scatter can be used both for plotting points (makers) or lines, depending on the value of mode. The different options of go.Scatter are documented in its reference page."
      ]
    },
    {
      "cell_type": "markdown",
      "metadata": {
        "id": "gRTbGP0ESUUp",
        "colab_type": "text"
      },
      "source": [
        "## Simple Scatter Plot"
      ]
    },
    {
      "cell_type": "code",
      "metadata": {
        "id": "HPR4UY-NSmNM",
        "colab_type": "code",
        "colab": {}
      },
      "source": [
        "N = 1000\n",
        "t = np.linspace(0, 10, 100)\n",
        "y = np.sin(t)\n",
        "\n",
        "fig = go.Figure(data=go.Scatter(x=t, y=y, mode='markers'))\n",
        "fig.show()"
      ],
      "execution_count": 0,
      "outputs": []
    },
    {
      "cell_type": "code",
      "metadata": {
        "id": "VcfyTpCATQeQ",
        "colab_type": "code",
        "colab": {}
      },
      "source": [
        ""
      ],
      "execution_count": 0,
      "outputs": []
    },
    {
      "cell_type": "markdown",
      "metadata": {
        "id": "lZA-5SDfTUM4",
        "colab_type": "text"
      },
      "source": [
        "## Line and Scatter Plots\n",
        "Use mode argument to choose between markers, lines, or a combination of both. For more options about line plots, see also the line charts notebook and the filled area plots notebook."
      ]
    },
    {
      "cell_type": "code",
      "metadata": {
        "id": "tcn9-3pDTWHI",
        "colab_type": "code",
        "colab": {}
      },
      "source": [
        "np.random.seed(1)\n",
        "\n",
        "N = 100\n",
        "random_x = np.linspace(0, 1, N)\n",
        "random_y0 = np.random.randn(N) + 5\n",
        "random_y1 = np.random.randn(N)\n",
        "random_y2 = np.random.randn(N) - 5\n",
        "\n",
        "fig = go.Figure()\n",
        "\n",
        "# Add traces\n",
        "fig.add_trace(go.Scatter(x=random_x, y=random_y0,\n",
        "                    mode='markers',\n",
        "                    name='markers'))\n",
        "fig.add_trace(go.Scatter(x=random_x, y=random_y1,\n",
        "                    mode='lines+markers',\n",
        "                    name='lines+markers'))\n",
        "fig.add_trace(go.Scatter(x=random_x, y=random_y2,\n",
        "                    mode='lines',\n",
        "                    name='lines'))\n",
        "\n",
        "'''\n",
        "# 동일한 형식\n",
        "fig = go.Figure(data=[go.Scatter(x=random_x, y=random_y0,\n",
        "                    mode='markers',\n",
        "                    name='markers'), \n",
        "                go.Scatter(x=random_x, y=random_y1,\n",
        "                    mode='lines+markers',\n",
        "                    name='lines+markers'),\n",
        "                go.Scatter(x=random_x, y=random_y2,\n",
        "                    mode='lines',\n",
        "                    name='lines')])\n",
        "\n",
        "'''\n",
        "\n",
        "fig.show()"
      ],
      "execution_count": 0,
      "outputs": []
    },
    {
      "cell_type": "code",
      "metadata": {
        "id": "cf6zrJQxUAgC",
        "colab_type": "code",
        "colab": {}
      },
      "source": [
        ""
      ],
      "execution_count": 0,
      "outputs": []
    },
    {
      "cell_type": "code",
      "metadata": {
        "colab_type": "code",
        "id": "Wq-JCY82OdV3",
        "colab": {}
      },
      "source": [
        "np.random.seed(1)\n",
        "\n",
        "N = 100\n",
        "random_x = np.linspace(0, 1, N)\n",
        "random_y0 = np.random.randn(N) + 5\n",
        "random_y1 = np.random.randn(N)\n",
        "random_y2 = np.random.randn(N) - 5\n",
        "\n",
        "\n",
        "\n",
        "fig.show()"
      ],
      "execution_count": 0,
      "outputs": []
    },
    {
      "cell_type": "markdown",
      "metadata": {
        "id": "dALJXytrUEG7",
        "colab_type": "text"
      },
      "source": [
        "## Bubble Scatter Plots\n",
        "In bubble charts, a third dimension of the data is shown through the size of markers. For more examples, see the bubble chart notebook\n"
      ]
    },
    {
      "cell_type": "code",
      "metadata": {
        "id": "IbHPRRpWUELn",
        "colab_type": "code",
        "colab": {}
      },
      "source": [
        "fig = go.Figure(data=go.Scatter(\n",
        "    x=[1, 2, 3, 4],\n",
        "    y=[10, 11, 12, 13],\n",
        "    mode='markers',\n",
        "    marker=dict(size=[40, 60, 80, 100],\n",
        "                color=[0, 1, 2, 3])\n",
        "))\n",
        "\n",
        "fig.show()"
      ],
      "execution_count": 0,
      "outputs": []
    },
    {
      "cell_type": "code",
      "metadata": {
        "id": "IfCfTMw0U8Gl",
        "colab_type": "code",
        "colab": {}
      },
      "source": [
        ""
      ],
      "execution_count": 0,
      "outputs": []
    }
  ]
}