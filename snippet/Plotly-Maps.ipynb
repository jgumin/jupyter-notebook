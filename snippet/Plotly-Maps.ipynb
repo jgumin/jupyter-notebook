{
  "nbformat": 4,
  "nbformat_minor": 0,
  "metadata": {
    "accelerator": "GPU",
    "colab": {
      "name": "Untitled.ipynb",
      "version": "0.3.2",
      "provenance": [],
      "include_colab_link": true
    },
    "kernelspec": {
      "display_name": "Python 3",
      "language": "python",
      "name": "python3"
    },
    "language_info": {
      "codemirror_mode": {
        "name": "ipython",
        "version": 3
      },
      "file_extension": ".py",
      "mimetype": "text/x-python",
      "name": "python",
      "nbconvert_exporter": "python",
      "pygments_lexer": "ipython3",
      "version": "3.7.0"
    }
  },
  "cells": [
    {
      "cell_type": "markdown",
      "metadata": {
        "id": "view-in-github",
        "colab_type": "text"
      },
      "source": [
        "<a href=\"https://colab.research.google.com/github/jgumin/jupyter-notebook/blob/master/snippet/Plotly-Maps.ipynb\" target=\"_parent\"><img src=\"https://colab.research.google.com/assets/colab-badge.svg\" alt=\"Open In Colab\"/></a>"
      ]
    },
    {
      "cell_type": "markdown",
      "metadata": {
        "colab_type": "text",
        "id": "MF6Xz7JMm2Qv"
      },
      "source": [
        "# Plotly-Maps"
      ]
    },
    {
      "cell_type": "markdown",
      "metadata": {
        "colab_type": "text",
        "id": "M58mCrTAmz_d"
      },
      "source": [
        "https://plot.ly/python/maps/"
      ]
    },
    {
      "cell_type": "code",
      "metadata": {
        "id": "cZnG5jGs_LMD",
        "colab_type": "code",
        "colab": {}
      },
      "source": [
        "!pip install plotly==4.1.1"
      ],
      "execution_count": 0,
      "outputs": []
    },
    {
      "cell_type": "code",
      "metadata": {
        "colab_type": "code",
        "id": "fn5AhKOK95MP",
        "colab": {}
      },
      "source": [
        "# 노트북 안에서 그래프를 그리기 위해\n",
        "%matplotlib inline\n",
        "# %matplotlib nbagg\n",
        "    \n",
        "import pandas as pd\n",
        "import numpy as np\n",
        "import matplotlib.pyplot as plt\n",
        "import seaborn as sns\n",
        "plt.rcParams['figure.figsize'] = [10, 6]\n",
        "\n",
        "\n",
        "# Suppress Deprecation and Incorrect Usage Warnings \n",
        "import warnings\n",
        "warnings.filterwarnings('ignore')\n",
        "\n",
        "# #  display two pandas tables side by side\n",
        "# from IPython.display import display, HTML\n",
        "# CSS = \"\"\"\n",
        "# .output {\n",
        "#     flex-direction: row;\n",
        "# }\n",
        "# \"\"\"\n",
        "# HTML('<style>{}</style>'.format(CSS))\n",
        "\n",
        "\n",
        "# 기본 글꼴 변경\n",
        "import matplotlib as mpl\n",
        "mpl.font_manager._rebuild()\n",
        "mpl.pyplot.rc('font', family='NanumBarunGothic')\n",
        "\n",
        "# allow multiple outputs\n",
        "# from IPython.core.interactiveshell import InteractiveShell\n",
        "# InteractiveShell.ast_node_interactivity = \"all\"\n",
        "\n",
        "# allow image input\n",
        "from IPython.display import Image"
      ],
      "execution_count": 0,
      "outputs": []
    },
    {
      "cell_type": "code",
      "metadata": {
        "colab_type": "code",
        "id": "WQMsczZXLCe5",
        "colab": {}
      },
      "source": [
        "Image('https://i.stack.imgur.com/ScJfR.png')\n"
      ],
      "execution_count": 0,
      "outputs": []
    },
    {
      "cell_type": "code",
      "metadata": {
        "id": "QKQVqVGnHkZg",
        "colab_type": "code",
        "colab": {}
      },
      "source": [
        ""
      ],
      "execution_count": 0,
      "outputs": []
    },
    {
      "cell_type": "markdown",
      "metadata": {
        "id": "jq8RvkBJFsmx",
        "colab_type": "text"
      },
      "source": [
        "# Library Importing(plotly 4.1.1)"
      ]
    },
    {
      "cell_type": "code",
      "metadata": {
        "colab_type": "code",
        "id": "148pDlGfNAVo",
        "colab": {}
      },
      "source": [
        "from plotly import __version__\n",
        "print (__version__)\n",
        "import plotly.express as px\n",
        "from plotly.subplots import make_subplots\n",
        "import plotly.graph_objs as go\n",
        "import plotly.figure_factory as ff\n",
        "\n",
        "# Display all cell outputs\n",
        "from IPython.core.interactiveshell import InteractiveShell\n",
        "\n",
        "# Jupyter setup\n",
        "# init_notebook_mode(connected=True)\n",
        "\n",
        "import ipywidgets as widgets"
      ],
      "execution_count": 0,
      "outputs": []
    },
    {
      "cell_type": "code",
      "metadata": {
        "id": "FtE7_WMYF4uh",
        "colab_type": "code",
        "colab": {}
      },
      "source": [
        "import plotly\n",
        "from plotly import tools\n",
        "\n",
        "# plotly + cufflinks in offline mode\n",
        "from plotly.offline import download_plotlyjs, init_notebook_mode, plot, iplot"
      ],
      "execution_count": 0,
      "outputs": []
    },
    {
      "cell_type": "markdown",
      "metadata": {
        "id": "xVhdqRHoF3w0",
        "colab_type": "text"
      },
      "source": [
        "# Library Importing(plotly 3.6.1)"
      ]
    },
    {
      "cell_type": "code",
      "metadata": {
        "id": "bQydt3KwFpgL",
        "colab_type": "code",
        "colab": {}
      },
      "source": [
        "from plotly import __version__\n",
        "print (__version__)\n",
        "import plotly\n",
        "from plotly import tools\n",
        "import plotly.plotly as py\n",
        "import plotly.graph_objs as go\n",
        "import plotly.figure_factory as ff\n",
        "\n",
        "# Cufflinks wrapper on plotly\n",
        "import cufflinks as cf\n",
        "\n",
        "# Display all cell outputs\n",
        "from IPython.core.interactiveshell import InteractiveShell\n",
        "\n",
        "# plotly + cufflinks in offline mode\n",
        "from plotly.offline import download_plotlyjs, init_notebook_mode, plot, iplot\n",
        "cf.go_offline()\n",
        "\n",
        "# set the global theme\n",
        "cf.set_config_file(world_readable=True, theme='pearl', offline=True)\n",
        "\n",
        "# Jupyter setup\n",
        "init_notebook_mode(connected=True)\n",
        "\n",
        "import ipywidgets as widgets"
      ],
      "execution_count": 0,
      "outputs": []
    },
    {
      "cell_type": "code",
      "metadata": {
        "colab_type": "code",
        "id": "mVTfU_xf_tAs",
        "colab": {}
      },
      "source": [
        "def configure_plotly_browser_state():\n",
        "  import IPython\n",
        "  display(IPython.core.display.HTML('''\n",
        "        <script src=\"/static/components/requirejs/require.js\"></script>\n",
        "        <script>\n",
        "          requirejs.config({\n",
        "            paths: {\n",
        "              base: '/static/base',\n",
        "              plotly: 'https://cdn.plot.ly/plotly-latest.min.js?noext',\n",
        "            },\n",
        "          });\n",
        "        </script>\n",
        "        '''))"
      ],
      "execution_count": 0,
      "outputs": []
    },
    {
      "cell_type": "markdown",
      "metadata": {
        "id": "GpUf3xigGASR",
        "colab_type": "text"
      },
      "source": [
        "# plotly 테마 설정"
      ]
    },
    {
      "cell_type": "markdown",
      "metadata": {
        "id": "zHbaUvIZEiYn",
        "colab_type": "text"
      },
      "source": [
        "theming 참고1: https://medium.com/plotly/introducing-plotly-py-theming-b644109ac9c7<br>\n",
        "theming 참고2: https://nbviewer.jupyter.org/github/jonmmease/plotly.py_release_notebooks/blob/master/notebooks/v3.4.0/templates-gapminder.ipynb <br>\n",
        "기본theme설정/해제 참고: https://plot.ly/python/templates/#specifying-a-default-themes "
      ]
    },
    {
      "cell_type": "code",
      "metadata": {
        "colab_type": "code",
        "id": "00lai7EnHjQy",
        "colab": {}
      },
      "source": [
        "import plotly.io as pio\n",
        "pio.templates.default = \"plotly\"\n",
        "\n",
        "# fig = go.Figure(layout={\n",
        "#     'title' : 'Figure Title',\n",
        "#     'font' : {'size': 15, 'family': 'Courier'}\n",
        "# })\n",
        "\n",
        "# templated_fig = pio.to_templated(fig)\n",
        "# pio.templates['large_courier'] = templated_fig.layout.template\n",
        "\n",
        "# pio.templates.default = 'large_courier'"
      ],
      "execution_count": 0,
      "outputs": []
    },
    {
      "cell_type": "code",
      "metadata": {
        "id": "640VJAccFmjy",
        "colab_type": "code",
        "colab": {}
      },
      "source": [
        "pio.templates"
      ],
      "execution_count": 0,
      "outputs": []
    },
    {
      "cell_type": "markdown",
      "metadata": {
        "id": "1BTAYRSET1qK",
        "colab_type": "text"
      },
      "source": [
        "## 외부데이터 임포팅"
      ]
    },
    {
      "cell_type": "code",
      "metadata": {
        "id": "uEMG41bldvwF",
        "colab_type": "code",
        "colab": {}
      },
      "source": [
        "# Import package\n",
        "from urllib.request import urlretrieve\n",
        "import pandas as pd\n",
        "\n",
        "# Assign url of file: url\n",
        "url = 'https://o365uos-my.sharepoint.com/personal/isus_office_uos_ac_kr/Documents/200.%20%EC%97%B0%EB%9D%BD%EC%B2%98/IUDP%ED%95%99%EC%83%9D%ED%98%84%ED%99%A9.xlsx'\n",
        "\n",
        "# Save file locally\n",
        "urlretrieve(url, \"IUDP학생현황.xlsx\")\n",
        "\n",
        "# Read file into a DataFrame and print its head\n",
        "stu_info = pd.read_excel(\"IUDP학생현황.xlsx\", sheet_name=2,dtype={'학번':str})"
      ],
      "execution_count": 0,
      "outputs": []
    },
    {
      "cell_type": "code",
      "metadata": {
        "id": "SfexGQrx8lGz",
        "colab_type": "code",
        "colab": {}
      },
      "source": [
        ""
      ],
      "execution_count": 0,
      "outputs": []
    },
    {
      "cell_type": "markdown",
      "metadata": {
        "id": "NKSew9si8ihA",
        "colab_type": "text"
      },
      "source": [
        "https://plot.ly/python/mapbox-county-choropleth/"
      ]
    },
    {
      "cell_type": "markdown",
      "metadata": {
        "id": "nc0d08rRGvzb",
        "colab_type": "text"
      },
      "source": [
        "# Mapbox Choropleth Maps in Python"
      ]
    },
    {
      "cell_type": "markdown",
      "metadata": {
        "id": "8ZWPK6UrKMmo",
        "colab_type": "text"
      },
      "source": [
        "## Data indexed by id"
      ]
    },
    {
      "cell_type": "markdown",
      "metadata": {
        "id": "BvM7yXuGKMbI",
        "colab_type": "text"
      },
      "source": [
        "Here we load unemployment data by county, also indexed by FIPS code."
      ]
    },
    {
      "cell_type": "code",
      "metadata": {
        "id": "GhUcu7KqKMPg",
        "colab_type": "code",
        "colab": {}
      },
      "source": [
        "import pandas as pd\n",
        "df = pd.read_csv(\n",
        "    \"https://raw.githubusercontent.com/plotly/datasets/master/fips-unemp-16.csv\",\n",
        "    dtype={\"fips\": str})\n",
        "df.head()"
      ],
      "execution_count": 0,
      "outputs": []
    },
    {
      "cell_type": "markdown",
      "metadata": {
        "colab_type": "text",
        "id": "AoW1LN7RYhv5"
      },
      "source": [
        "## Carto base map: no token needed"
      ]
    },
    {
      "cell_type": "code",
      "metadata": {
        "id": "-UqtEID5zjfO",
        "colab_type": "code",
        "colab": {}
      },
      "source": [
        "configure_plotly_browser_state()\n",
        "\n",
        "from urllib.request import urlopen\n",
        "import json\n",
        "with urlopen('https://raw.githubusercontent.com/plotly/datasets/master/geojson-counties-fips.json') as response:\n",
        "    counties = json.load(response)\n",
        "\n",
        "import pandas as pd\n",
        "df = pd.read_csv(\"https://raw.githubusercontent.com/plotly/datasets/master/fips-unemp-16.csv\",\n",
        "                   dtype={\"fips\": str})\n",
        "\n",
        "fig = go.Figure(go.Choroplethmapbox(geojson=counties, locations=df.fips, z=df.unemp,\n",
        "                                    colorscale=\"Viridis\", zmin=0, zmax=12,\n",
        "                                    marker_opacity=0.5, marker_line_width=0))\n",
        "fig.update_layout(mapbox_style=\"carto-positron\",\n",
        "                  mapbox_zoom=3, mapbox_center = {\"lat\": 37.0902, \"lon\": -95.7129})\n",
        "fig.update_layout(margin={\"r\":0,\"t\":0,\"l\":0,\"b\":0})\n",
        "fig.show()"
      ],
      "execution_count": 0,
      "outputs": []
    },
    {
      "cell_type": "code",
      "metadata": {
        "id": "O8CO3-vJc_PP",
        "colab_type": "code",
        "colab": {}
      },
      "source": [
        ""
      ],
      "execution_count": 0,
      "outputs": []
    },
    {
      "cell_type": "markdown",
      "metadata": {
        "id": "bHm6EVk6dGfo",
        "colab_type": "text"
      },
      "source": [
        "https://plot.ly/python/scatter-plots-on-maps/"
      ]
    },
    {
      "cell_type": "markdown",
      "metadata": {
        "id": "CldBm7mdG8yE",
        "colab_type": "text"
      },
      "source": [
        "# Scatter Plots on Maps in Python"
      ]
    },
    {
      "cell_type": "markdown",
      "metadata": {
        "colab_type": "text",
        "id": "yyadzrRydG9M"
      },
      "source": [
        "## Geographical Scatter Plot with px.scatter_geo"
      ]
    },
    {
      "cell_type": "code",
      "metadata": {
        "colab_type": "code",
        "id": "SH-6Z64PdG9P",
        "colab": {}
      },
      "source": [
        "# configure_plotly_browser_state()\n",
        "\n",
        "# import plotly.express as px\n",
        "\n",
        "gapminder = px.data.gapminder().query(\"year == 2007\")\n",
        "fig = px.scatter_geo(gapminder, locations=\"iso_alpha\",\n",
        "                     size=\"pop\", # size of markers, \"pop\" is one of the columns of gapminder\n",
        "                     )\n",
        "fig.show()"
      ],
      "execution_count": 0,
      "outputs": []
    },
    {
      "cell_type": "markdown",
      "metadata": {
        "colab_type": "text",
        "id": "0tNmMvDJTb3D"
      },
      "source": [
        "## 실데이터 적용 - IUDP국별학생현황"
      ]
    },
    {
      "cell_type": "code",
      "metadata": {
        "colab_type": "code",
        "id": "8_6qgWhw6-l5",
        "colab": {}
      },
      "source": [
        "# configure_plotly_browser_state()\n",
        "\n",
        "# import plotly.express as px\n",
        "\n",
        "stu_info = pd.read_excel(\"IUDP학생현황.xlsx\", sheet_name=2,dtype={'학번':str})\n",
        "stu_count = stu_info.groupby(['iso_alpha3','대륙'])[['성명']].count().reset_index().rename(\n",
        "    columns={'성명':'count'})\n",
        "\n",
        "fig = px.scatter_geo(stu_count, locations=\"iso_alpha3\", size='count')\n",
        "\n",
        "iplot(fig)"
      ],
      "execution_count": 0,
      "outputs": []
    },
    {
      "cell_type": "markdown",
      "metadata": {
        "id": "sJCY7h61Ichn",
        "colab_type": "text"
      },
      "source": [
        "## Customize geographical scatter plot"
      ]
    },
    {
      "cell_type": "code",
      "metadata": {
        "id": "ZHt1V0dkNe9W",
        "colab_type": "code",
        "colab": {}
      },
      "source": [
        "# configure_plotly_browser_state()\n",
        "\n",
        "# import plotly.express as px\n",
        "\n",
        "gapminder = px.data.gapminder().query(\"year == 2007\")\n",
        "fig = px.scatter_geo(gapminder, locations=\"iso_alpha\",\n",
        "                     color=\"continent\", # which column to use to set the color of markers\n",
        "                     hover_name=\"country\", # column added to hover information\n",
        "                     size=\"pop\", # size of markers\n",
        "                     projection=\"natural earth\")\n",
        "fig.show()"
      ],
      "execution_count": 0,
      "outputs": []
    },
    {
      "cell_type": "markdown",
      "metadata": {
        "id": "un3JLTdbToXu",
        "colab_type": "text"
      },
      "source": [
        "## 실데이터 적용 - IUDP국별학생현황(대륙구분)"
      ]
    },
    {
      "cell_type": "code",
      "metadata": {
        "id": "yCywK-ABKnA_",
        "colab_type": "code",
        "colab": {}
      },
      "source": [
        "# configure_plotly_browser_state()\n",
        "\n",
        "# import plotly.express as px\n",
        "\n",
        "stu_info = pd.read_excel(\"IUDP학생현황.xlsx\", sheet_name=2,dtype={'학번':str})\n",
        "stu_count = stu_info.groupby(['iso_alpha3','대륙', '국가'])[['성명']].count().reset_index().rename(\n",
        "    columns={'성명':'count'})\n",
        "fig = px.scatter_geo(stu_count, locations=\"iso_alpha3\", \n",
        "                     color = \"대륙\", hover_name=\"국가\", \n",
        "                     size=\"count\", projection=\"natural earth\")\n",
        "\n",
        "fig.show()"
      ],
      "execution_count": 0,
      "outputs": []
    },
    {
      "cell_type": "markdown",
      "metadata": {
        "id": "QDiJxdPhVKYe",
        "colab_type": "text"
      },
      "source": [
        "## U.S. Airports Map\n",
        "Here we show how to use go.Scattergeo from plotly.graph_objects."
      ]
    },
    {
      "cell_type": "code",
      "metadata": {
        "id": "0r3ogYBVVOJz",
        "colab_type": "code",
        "colab": {}
      },
      "source": [
        "df = pd.read_csv('https://raw.githubusercontent.com/plotly/datasets/master/2011_february_us_airport_traffic.csv')\n",
        "df['text'] = df['airport'] + '' + df['city'] + ', ' + df['state'] + '' + 'Arrivals: ' + df['cnt'].astype(str)\n",
        "\n",
        "fig = go.Figure(data=go.Scattergeo(\n",
        "        lon = df['long'],\n",
        "        lat = df['lat'],\n",
        "        text = df['text'],\n",
        "        mode = 'markers',\n",
        "        marker_color = df['cnt'],\n",
        "        ))\n",
        "\n",
        "fig.update_layout(\n",
        "        title = 'Most trafficked US airports<br>(Hover for airport names)',\n",
        "        geo_scope='usa',\n",
        "    )\n",
        "fig.show()\n"
      ],
      "execution_count": 0,
      "outputs": []
    },
    {
      "cell_type": "code",
      "metadata": {
        "id": "hFG0CdSdpn-c",
        "colab_type": "code",
        "colab": {}
      },
      "source": [
        ""
      ],
      "execution_count": 0,
      "outputs": []
    },
    {
      "cell_type": "code",
      "metadata": {
        "id": "8f6Mj04-x2yo",
        "colab_type": "code",
        "colab": {}
      },
      "source": [
        ""
      ],
      "execution_count": 0,
      "outputs": []
    },
    {
      "cell_type": "code",
      "metadata": {
        "id": "lhoCRadbx24u",
        "colab_type": "code",
        "colab": {}
      },
      "source": [
        ""
      ],
      "execution_count": 0,
      "outputs": []
    },
    {
      "cell_type": "code",
      "metadata": {
        "id": "yD9KTHXHx3GW",
        "colab_type": "code",
        "colab": {}
      },
      "source": [
        ""
      ],
      "execution_count": 0,
      "outputs": []
    },
    {
      "cell_type": "code",
      "metadata": {
        "id": "N6PPO838x3Se",
        "colab_type": "code",
        "colab": {}
      },
      "source": [
        ""
      ],
      "execution_count": 0,
      "outputs": []
    },
    {
      "cell_type": "code",
      "metadata": {
        "id": "gJTBNRcnx3Xq",
        "colab_type": "code",
        "colab": {}
      },
      "source": [
        ""
      ],
      "execution_count": 0,
      "outputs": []
    },
    {
      "cell_type": "code",
      "metadata": {
        "id": "32QOTbNix3c3",
        "colab_type": "code",
        "colab": {}
      },
      "source": [
        ""
      ],
      "execution_count": 0,
      "outputs": []
    },
    {
      "cell_type": "code",
      "metadata": {
        "id": "_36piE7Ox3Pk",
        "colab_type": "code",
        "colab": {}
      },
      "source": [
        ""
      ],
      "execution_count": 0,
      "outputs": []
    },
    {
      "cell_type": "code",
      "metadata": {
        "id": "geQdId3lx3Lg",
        "colab_type": "code",
        "colab": {}
      },
      "source": [
        ""
      ],
      "execution_count": 0,
      "outputs": []
    },
    {
      "cell_type": "code",
      "metadata": {
        "id": "qfc89AFMx3CP",
        "colab_type": "code",
        "colab": {}
      },
      "source": [
        ""
      ],
      "execution_count": 0,
      "outputs": []
    },
    {
      "cell_type": "code",
      "metadata": {
        "id": "12w0KYJJx2-A",
        "colab_type": "code",
        "colab": {}
      },
      "source": [
        ""
      ],
      "execution_count": 0,
      "outputs": []
    },
    {
      "cell_type": "markdown",
      "metadata": {
        "id": "n2erf17tGFx3",
        "colab_type": "text"
      },
      "source": [
        "https://plot.ly/python/bubble-maps/"
      ]
    },
    {
      "cell_type": "markdown",
      "metadata": {
        "id": "bVtyoLCYGJC6",
        "colab_type": "text"
      },
      "source": [
        "# Bubble Maps in Python"
      ]
    },
    {
      "cell_type": "markdown",
      "metadata": {
        "id": "IPL21urBR6xo",
        "colab_type": "text"
      },
      "source": [
        "## Bubble map with plotly express\n",
        "Plotly Express functions take as a first argument a tidy pandas.DataFrame. With px.scatter_geo, each line of the dataframe is represented as a marker point. The column set as the size argument gives the size of markers."
      ]
    },
    {
      "cell_type": "code",
      "metadata": {
        "id": "pVzfdnzRSHUV",
        "colab_type": "code",
        "colab": {}
      },
      "source": [
        "# import plotly.express as px\n",
        "\n",
        "gapminder = px.data.gapminder().query(\"year==2007\")\n",
        "fig = px.scatter_geo(gapminder, locations=\"iso_alpha\", color=\"continent\",\n",
        "                     hover_name=\"country\", size=\"pop\",\n",
        "                     projection=\"natural earth\")\n",
        "fig.show()"
      ],
      "execution_count": 0,
      "outputs": []
    },
    {
      "cell_type": "code",
      "metadata": {
        "id": "fj0yFH_7R9OB",
        "colab_type": "code",
        "colab": {}
      },
      "source": [
        "# import plotly.express as px\n",
        "gapminder = px.data.gapminder()\n",
        "fig = px.scatter_geo(gapminder, locations=\"iso_alpha\", color=\"continent\",\n",
        "                     hover_name=\"country\", size=\"pop\",\n",
        "                     animation_frame=\"year\",\n",
        "                     projection=\"natural earth\")\n",
        "fig.show()"
      ],
      "execution_count": 0,
      "outputs": []
    },
    {
      "cell_type": "markdown",
      "metadata": {
        "id": "-cc3s7PUS6uV",
        "colab_type": "text"
      },
      "source": [
        "## Bubble Map with go.Scattergeo\n",
        "### United States Bubble Map\n",
        "Note about sizeref:\n",
        "\n",
        "To scale the bubble size, use the attribute sizeref. We recommend using the following formula to calculate a sizeref value:\n",
        "\n",
        "sizeref = 2. * max(array of size values) / (desired maximum marker size ** 2)\n",
        "\n",
        "Note that setting sizeref to a value greater than 1, decreases the rendered marker sizes, while setting sizeref to less than 1, increases the rendered marker sizes.\n",
        "\n",
        "See https://plot.ly/python/reference/#scatter-marker-sizeref for more information. Additionally, we recommend setting the sizemode attribute: https://plot.ly/python/reference/#scatter-marker-sizemode to area.\n",
        "\n"
      ]
    },
    {
      "cell_type": "code",
      "metadata": {
        "id": "FeYh3nxJS7Li",
        "colab_type": "code",
        "colab": {}
      },
      "source": [
        "# import plotly.graph_objects as go\n",
        "\n",
        "# import pandas as pd\n",
        "\n",
        "df = pd.read_csv('https://raw.githubusercontent.com/plotly/datasets/master/2014_us_cities.csv')\n",
        "df['text'] = df['name'] + '<br>Population ' + (df['pop']/1e6).astype(str)+' million'\n",
        "limits = [(0,2),(3,10),(11,20),(21,50),(50,3000)]\n",
        "colors = [\"royalblue\",\"crimson\",\"lightseagreen\",\"orange\",\"lightgrey\"]\n",
        "cities = []\n",
        "scale = 5000\n",
        "\n",
        "fig = go.Figure()\n",
        "\n",
        "for i in range(len(limits)):\n",
        "    lim = limits[i]\n",
        "    df_sub = df[lim[0]:lim[1]]\n",
        "    fig.add_trace(go.Scattergeo(\n",
        "        locationmode = 'USA-states',\n",
        "        lon = df_sub['lon'],\n",
        "        lat = df_sub['lat'],\n",
        "        text = df_sub['text'],\n",
        "        marker = dict(\n",
        "            size = df_sub['pop']/scale,\n",
        "            color = colors[i],\n",
        "            line_color='rgb(40,40,40)',\n",
        "            line_width=0.5,\n",
        "            sizemode = 'area'\n",
        "        ),\n",
        "        name = '{0} - {1}'.format(lim[0],lim[1])))\n",
        "\n",
        "fig.update_layout(\n",
        "        title_text = '2014 US city populations<br>(Click legend to toggle traces)',\n",
        "        showlegend = True,\n",
        "        geo = dict(\n",
        "            scope = 'usa', # Type: enumerated , one of ( \"world\" | \"usa\" | \"europe\" | \"asia\" | \"africa\" | \"north america\" | \"south america\" ), Default: \"world\"\n",
        "            landcolor = 'rgb(217, 217, 217)',\n",
        "        )\n",
        "    )\n",
        "\n",
        "fig.show()"
      ],
      "execution_count": 0,
      "outputs": []
    },
    {
      "cell_type": "markdown",
      "metadata": {
        "id": "YYvk3a_ElVfd",
        "colab_type": "text"
      },
      "source": [
        "## 실데이터 적용 - IUDP국별학생현황(국별인원수)"
      ]
    },
    {
      "cell_type": "code",
      "metadata": {
        "colab_type": "code",
        "id": "3Y5WUORMydQ3",
        "colab": {}
      },
      "source": [
        "# import plotly.graph_objects as go\n",
        "\n",
        "# import pandas as pd\n",
        "\n",
        "\n",
        "stu_info = pd.read_excel(\"IUDP학생현황.xlsx\", sheet_name=2,dtype={'학번':str})\n",
        "df = stu_info.groupby(['iso_alpha3', '국가', '대륙', 'longitude', 'latitude'])[['성명']].count().reset_index().rename(\n",
        "    columns={'국가':'country', '대륙':'continent','성명':'sum'})\n",
        "\n",
        "df.sort_values('sum', ascending=False).reset_index(drop=True)\n",
        "\n",
        "df['text'] = df['country'] + '<br>Sum: ' + df['sum'].astype(str)\n",
        "limits = [(0,1),(2,5),(6,15),(16,25),(26,57)]\n",
        "colors = [\"royalblue\",\"crimson\",\"lightseagreen\",\"orange\",\"lightgrey\"]\n",
        "# cities = []\n",
        "scale = 20\n",
        "\n",
        "fig = go.Figure()\n",
        "\n",
        "for i in range(len(limits)):\n",
        "    lim = limits[i]\n",
        "    df_sub = df[lim[0]:lim[1]]\n",
        "    fig.add_trace(go.Scattergeo(\n",
        "        locationmode = 'ISO-3', # Type: ( \"ISO-3\" | \"USA-states\" | \"country names\" ), Default: \"ISO-3\"\n",
        "        lon = df_sub['longitude'],\n",
        "        lat = df_sub['latitude'],\n",
        "        text = df_sub['text'],\n",
        "        marker = dict(\n",
        "            size = df_sub['sum']*scale, \n",
        "            color = colors[i],\n",
        "            line_color='rgb(40,40,40)',\n",
        "            line_width=0.5,\n",
        "            sizemode = 'area'\n",
        "        ),\n",
        "        name = '{0} - {1}'.format(lim[0],lim[1])))\n",
        "\n",
        "fig.update_layout(\n",
        "        title_text = 'Sum of IUDP Students by Country <br>(Click legend to toggle traces)',\n",
        "        showlegend = True,\n",
        "        geo = dict(\n",
        "            scope = 'world', # Type: enumerated , one of ( \"world\" | \"usa\" | \"europe\" | \"asia\" | \"africa\" | \"north america\" | \"south america\" ), Default: \"world\"\n",
        "            landcolor = 'rgb(217, 217, 217)',\n",
        "        )\n",
        "    )\n",
        "\n",
        "fig.show()"
      ],
      "execution_count": 0,
      "outputs": []
    },
    {
      "cell_type": "markdown",
      "metadata": {
        "id": "b2pH706Aynwa",
        "colab_type": "text"
      },
      "source": [
        "## 실데이터 적용 - IUDP국별학생현황(국별인원수) - 마커색 변경"
      ]
    },
    {
      "cell_type": "code",
      "metadata": {
        "colab_type": "code",
        "id": "JvsxGrURyhuY",
        "colab": {}
      },
      "source": [
        "# import plotly.graph_objects as go\n",
        "\n",
        "# import pandas as pd\n",
        "\n",
        "\n",
        "stu_info = pd.read_excel(\"IUDP학생현황.xlsx\", sheet_name=2,dtype={'학번':str})\n",
        "df = stu_info.groupby(['iso_alpha3', '국가', '대륙', 'longitude', 'latitude'])[['성명']].count().reset_index().rename(\n",
        "    columns={'국가':'country', '대륙':'continent','성명':'sum'})\n",
        "\n",
        "df.sort_values('sum', ascending=False).reset_index(drop=True)\n",
        "\n",
        "df['text'] = df['country'] + '<br>Sum: ' + df['sum'].astype(str)\n",
        "limits = [(0,1),(2,5),(6,15),(16,25),(26,57)]\n",
        "# colors = [\"royalblue\",\"crimson\",\"lightseagreen\",\"orange\",\"lightgrey\"]\n",
        "scale = 20\n",
        "\n",
        "fig = go.Figure()\n",
        "\n",
        "for i in range(len(limits)):\n",
        "    lim = limits[i]\n",
        "    df_sub = df[lim[0]:lim[1]]\n",
        "    fig.add_trace(go.Scattergeo(\n",
        "        locationmode = 'ISO-3', # Type: ( \"ISO-3\" | \"USA-states\" | \"country names\" ), Default: \"ISO-3\"\n",
        "        lon = df_sub['longitude'],\n",
        "        lat = df_sub['latitude'],\n",
        "        text = df_sub['text'],\n",
        "        marker = dict(\n",
        "            size = df_sub['sum']*scale, \n",
        "            color = df_sub['sum'],\n",
        "#             color = colors[i],\n",
        "            line_color='rgb(40,40,40)',\n",
        "            line_width=0.5,\n",
        "            sizemode = 'area'\n",
        "        ),\n",
        "        name = '{0} - {1}'.format(lim[0],lim[1])))\n",
        "\n",
        "fig.update_layout(\n",
        "        title_text = 'Sum of IUDP Students by Country <br>(Click legend to toggle traces)',\n",
        "        showlegend = True,\n",
        "        geo = dict(\n",
        "            scope = 'world', # Type: enumerated , one of ( \"world\" | \"usa\" | \"europe\" | \"asia\" | \"africa\" | \"north america\" | \"south america\" ), Default: \"world\"\n",
        "            landcolor = 'rgb(217, 217, 217)',\n",
        "        )\n",
        "    )\n",
        "\n",
        "fig.show()"
      ],
      "execution_count": 0,
      "outputs": []
    }
  ]
}