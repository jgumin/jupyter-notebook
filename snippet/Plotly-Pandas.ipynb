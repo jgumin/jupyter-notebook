{
  "nbformat": 4,
  "nbformat_minor": 0,
  "metadata": {
    "colab": {
      "name": "Untitled.ipynb",
      "version": "0.3.2",
      "provenance": [],
      "include_colab_link": true
    },
    "language_info": {
      "codemirror_mode": {
        "name": "ipython",
        "version": 3
      },
      "file_extension": ".py",
      "mimetype": "text/x-python",
      "name": "python",
      "nbconvert_exporter": "python",
      "pygments_lexer": "ipython3",
      "version": "3.7.3"
    },
    "kernelspec": {
      "name": "python3",
      "display_name": "Python 3"
    },
    "accelerator": "GPU"
  },
  "cells": [
    {
      "cell_type": "markdown",
      "metadata": {
        "id": "view-in-github",
        "colab_type": "text"
      },
      "source": [
        "<a href=\"https://colab.research.google.com/github/gumin00/jupyter-notebook/blob/master/snippet/Plotly-Pandas.ipynb\" target=\"_parent\"><img src=\"https://colab.research.google.com/assets/colab-badge.svg\" alt=\"Open In Colab\"/></a>"
      ]
    },
    {
      "cell_type": "code",
      "metadata": {
        "id": "fn5AhKOK95MP",
        "colab_type": "code",
        "colab": {}
      },
      "source": [
        "# 노트북 안에서 그래프를 그리기 위해\n",
        "%matplotlib inline\n",
        "# %matplotlib nbagg\n",
        "    \n",
        "import pandas as pd\n",
        "import numpy as np\n",
        "import matplotlib.pyplot as plt\n",
        "import seaborn as sns\n",
        "plt.rcParams['figure.figsize'] = [10, 6]\n",
        "\n",
        "\n",
        "# Suppress Deprecation and Incorrect Usage Warnings \n",
        "import warnings\n",
        "warnings.filterwarnings('ignore')\n",
        "\n",
        "# #  display two pandas tables side by side\n",
        "# from IPython.display import display, HTML\n",
        "# CSS = \"\"\"\n",
        "# .output {\n",
        "#     flex-direction: row;\n",
        "# }\n",
        "# \"\"\"\n",
        "# HTML('<style>{}</style>'.format(CSS))\n",
        "\n",
        "\n",
        "# 기본 글꼴 변경\n",
        "import matplotlib as mpl\n",
        "mpl.font_manager._rebuild()\n",
        "mpl.pyplot.rc('font', family='NanumBarunGothic')\n",
        "\n",
        "# allow multiple outputs\n",
        "# from IPython.core.interactiveshell import InteractiveShell\n",
        "# InteractiveShell.ast_node_interactivity = \"all\"\n",
        "\n",
        "# allow image input\n",
        "from IPython.display import Image\n",
        "\n",
        "# allow HTML\n",
        "from IPython.display import HTML"
      ],
      "execution_count": 0,
      "outputs": []
    },
    {
      "cell_type": "code",
      "metadata": {
        "id": "mVTfU_xf_tAs",
        "colab_type": "code",
        "colab": {}
      },
      "source": [
        "def configure_plotly_browser_state():\n",
        "  import IPython\n",
        "  display(IPython.core.display.HTML('''\n",
        "        <script src=\"/static/components/requirejs/require.js\"></script>\n",
        "        <script>\n",
        "          requirejs.config({\n",
        "            paths: {\n",
        "              base: '/static/base',\n",
        "              plotly: 'https://cdn.plot.ly/plotly-latest.min.js?noext',\n",
        "            },\n",
        "          });\n",
        "        </script>\n",
        "        '''))"
      ],
      "execution_count": 0,
      "outputs": []
    },
    {
      "cell_type": "code",
      "metadata": {
        "id": "WQMsczZXLCe5",
        "colab_type": "code",
        "colab": {}
      },
      "source": [
        "Image('https://i.stack.imgur.com/ScJfR.png')\n"
      ],
      "execution_count": 0,
      "outputs": []
    },
    {
      "cell_type": "code",
      "metadata": {
        "id": "tx89o5zp95Mc",
        "colab_type": "code",
        "colab": {}
      },
      "source": [
        "from plotly import __version__\n",
        "print (__version__)\n",
        "import plotly\n",
        "from plotly import tools\n",
        "import plotly.plotly as py\n",
        "import plotly.graph_objs as go\n",
        "import plotly.figure_factory as ff\n",
        "\n",
        "# Cufflinks wrapper on plotly\n",
        "import cufflinks as cf\n",
        "\n",
        "# Display all cell outputs\n",
        "from IPython.core.interactiveshell import InteractiveShell\n",
        "\n",
        "# plotly + cufflinks in offline mode\n",
        "from plotly.offline import download_plotlyjs, init_notebook_mode, plot, iplot\n",
        "cf.go_offline()\n",
        "\n",
        "# set the global theme\n",
        "cf.set_config_file(world_readable=True, theme='white', offline=True)\n",
        "\n",
        "# Jupyter setup\n",
        "init_notebook_mode(connected=True)\n",
        "\n",
        "import ipywidgets as widgets"
      ],
      "execution_count": 0,
      "outputs": []
    },
    {
      "cell_type": "code",
      "metadata": {
        "id": "cSiBdow-DvIj",
        "colab_type": "code",
        "colab": {}
      },
      "source": [
        ""
      ],
      "execution_count": 0,
      "outputs": []
    },
    {
      "cell_type": "markdown",
      "metadata": {
        "id": "PNrbyZ-lSb9T",
        "colab_type": "text"
      },
      "source": [
        "# Scatter Plot"
      ]
    },
    {
      "cell_type": "markdown",
      "metadata": {
        "id": "v5e0fi9sD1Y_",
        "colab_type": "text"
      },
      "source": [
        "## Scatter plot with multiple traces"
      ]
    },
    {
      "cell_type": "code",
      "metadata": {
        "id": "-y0vdSQ5DvcB",
        "colab_type": "code",
        "colab": {}
      },
      "source": [
        "df = pd.read_csv('http://www.stat.ubc.ca/~jenny/notOcto/STAT545A/examples/gapminder/data/gapminderDataFiveYear.txt', sep='\\t')\n",
        "df2007 = df[df.year==2007]\n",
        "df1952 = df[df.year==1952]\n",
        "df.head(2)"
      ],
      "execution_count": 0,
      "outputs": []
    },
    {
      "cell_type": "code",
      "metadata": {
        "id": "MW5W_AgENUgq",
        "colab_type": "code",
        "colab": {}
      },
      "source": [
        "configure_plotly_browser_state()\n",
        "\n",
        "fig = {\n",
        "    'data' : [\n",
        "        {# trace1\n",
        "            'x': df2007.gdpPercap, \n",
        "            'y': df2007.lifeExp,\n",
        "            'text': df2007.country,\n",
        "            'mode': 'markers',\n",
        "            'name': '2007'\n",
        "        },\n",
        "        {# trace2\n",
        "            'x': df1952.gdpPercap, \n",
        "            'y': df1952.lifeExp,\n",
        "            'text': df1952.country,            \n",
        "            'mode': 'markers',\n",
        "            'name': '1952'\n",
        "        }\n",
        "    ],\n",
        "    \n",
        "    'layout' : {\n",
        "        'xaxis': {'title': 'GDP per Capita', 'type': 'log'},\n",
        "        'yaxis': {'title': \"Life Expectancy\"}\n",
        "    }\n",
        "}\n",
        "\n",
        "# IPython notebook\n",
        "iplot(fig, filename='pandas/multiple-scatter')\n"
      ],
      "execution_count": 0,
      "outputs": []
    },
    {
      "cell_type": "code",
      "metadata": {
        "id": "jyl4XOjYQ9LH",
        "colab_type": "code",
        "colab": {}
      },
      "source": [
        ""
      ],
      "execution_count": 0,
      "outputs": []
    },
    {
      "cell_type": "markdown",
      "metadata": {
        "id": "AoW1LN7RYhv5",
        "colab_type": "text"
      },
      "source": [
        "## Scatter plot with grouped traces"
      ]
    },
    {
      "cell_type": "code",
      "metadata": {
        "colab_type": "code",
        "id": "yH-B-jsCOH8a",
        "colab": {}
      },
      "source": [
        "configure_plotly_browser_state()\n",
        "\n",
        "\n",
        "fig = {\n",
        "    'data' : [\n",
        "        {# trace1\n",
        "            'x': df[df['year'] == year]['gdpPercap'], \n",
        "            'y': df[df['year'] == year]['lifeExp'],\n",
        "            'text': df[df['year'] == year]['country'],\n",
        "            'mode': 'markers',\n",
        "            'name': year\n",
        "        } for year in [1952, 1982, 2007]\n",
        "    ],\n",
        "    \n",
        "    'layout' : {\n",
        "        'xaxis': {'title': 'GDP per Capita', 'type': 'log'},\n",
        "        'yaxis': {'title': \"Life Expectancy\"},\n",
        "#         'legend': {'traceorder': 'reversed'}\n",
        "    }\n",
        "}\n",
        "\n",
        "# IPython notebook\n",
        "iplot(fig, filename='pandas/grouped-scatter')\n"
      ],
      "execution_count": 0,
      "outputs": []
    },
    {
      "cell_type": "code",
      "metadata": {
        "id": "iHMkPM6nQ7Bv",
        "colab_type": "code",
        "colab": {}
      },
      "source": [
        ""
      ],
      "execution_count": 0,
      "outputs": []
    },
    {
      "cell_type": "markdown",
      "metadata": {
        "id": "-Z5YKXFfYYAZ",
        "colab_type": "text"
      },
      "source": [
        "## Single scatter plot with cufflinks"
      ]
    },
    {
      "cell_type": "code",
      "metadata": {
        "id": "CnMNUx_jRBHh",
        "colab_type": "code",
        "colab": {}
      },
      "source": [
        "configure_plotly_browser_state()\n",
        "\n",
        "cf.set_config_file(offline=False, world_readable=True, theme='ggplot')\n",
        "\n",
        "\n",
        "df2007.iplot(kind='scatter', mode='markers', x='gdpPercap', y='lifeExp', \n",
        "            filename='cufflinks/simple-scatter')"
      ],
      "execution_count": 0,
      "outputs": []
    },
    {
      "cell_type": "code",
      "metadata": {
        "id": "CwqJePPjSDn4",
        "colab_type": "code",
        "colab": {}
      },
      "source": [
        ""
      ],
      "execution_count": 0,
      "outputs": []
    },
    {
      "cell_type": "markdown",
      "metadata": {
        "id": "d5bbx86sST9k",
        "colab_type": "text"
      },
      "source": [
        "# Line Charts in Pandas"
      ]
    },
    {
      "cell_type": "markdown",
      "metadata": {
        "id": "gRTbGP0ESUUp",
        "colab_type": "text"
      },
      "source": [
        "## Basic Line Plot"
      ]
    },
    {
      "cell_type": "code",
      "metadata": {
        "id": "HPR4UY-NSmNM",
        "colab_type": "code",
        "colab": {}
      },
      "source": [
        "N = 500\n",
        "x = np.linspace(0, 1, N)\n",
        "y = np.random.randn(N)\n",
        "df = pd.DataFrame({'x': x, 'y': y})\n",
        "df.head()"
      ],
      "execution_count": 0,
      "outputs": []
    },
    {
      "cell_type": "code",
      "metadata": {
        "id": "hnHhsR5ZS5iV",
        "colab_type": "code",
        "colab": {}
      },
      "source": [
        "configure_plotly_browser_state()\n",
        "\n",
        "data = [\n",
        "    go.Scatter(\n",
        "        x=df.x,\n",
        "        y=df.y\n",
        "    )\n",
        "]\n",
        "\n",
        "iplot(data, filename='pandas/basic-line-plot')"
      ],
      "execution_count": 0,
      "outputs": []
    },
    {
      "cell_type": "code",
      "metadata": {
        "id": "VcfyTpCATQeQ",
        "colab_type": "code",
        "colab": {}
      },
      "source": [
        ""
      ],
      "execution_count": 0,
      "outputs": []
    },
    {
      "cell_type": "markdown",
      "metadata": {
        "id": "lZA-5SDfTUM4",
        "colab_type": "text"
      },
      "source": [
        "## Graph & Axes Titles"
      ]
    },
    {
      "cell_type": "code",
      "metadata": {
        "id": "tcn9-3pDTWHI",
        "colab_type": "code",
        "colab": {}
      },
      "source": [
        "configure_plotly_browser_state()\n",
        "\n",
        "data = [\n",
        "    go.Scatter(\n",
        "        x=df.x,\n",
        "        y=df.y\n",
        "    )\n",
        "]\n",
        "\n",
        "layout = go.Layout(\n",
        "    title='scatter plot with pandas',\n",
        "    xaxis=dict(title='linespace'),\n",
        "    yaxis=dict(title='random distribution')\n",
        ")\n",
        "\n",
        "fig = go.Figure(data=data, layout=layout)\n",
        "\n",
        "iplot(fig, filename='pandas/line-plot-title')"
      ],
      "execution_count": 0,
      "outputs": []
    },
    {
      "cell_type": "code",
      "metadata": {
        "id": "cf6zrJQxUAgC",
        "colab_type": "code",
        "colab": {}
      },
      "source": [
        ""
      ],
      "execution_count": 0,
      "outputs": []
    },
    {
      "cell_type": "markdown",
      "metadata": {
        "id": "dALJXytrUEG7",
        "colab_type": "text"
      },
      "source": [
        "## Adding Trace Names"
      ]
    },
    {
      "cell_type": "code",
      "metadata": {
        "id": "IbHPRRpWUELn",
        "colab_type": "code",
        "colab": {}
      },
      "source": [
        "configure_plotly_browser_state()\n",
        "\n",
        "x = np.linspace(0, 1, N)\n",
        "y = np.random.randn(N)\n",
        "df = pd.DataFrame({'x': x, 'y': y})\n",
        "df.head()\n",
        "\n",
        "x2 = np.linspace(0, 1, N)\n",
        "y2 = np.random.randn(N) + 3\n",
        "df2 = pd.DataFrame({'x': x2, 'y': y2})\n",
        "df2.head()\n",
        "\n",
        "data = [\n",
        "    go.Scatter(\n",
        "        x=df.x,\n",
        "        y=df.y,\n",
        "        name='random around 0'\n",
        "    ),\n",
        "    go.Scatter(\n",
        "        x=df2.x,\n",
        "        y=df2.y,\n",
        "        name='random around 3'\n",
        "    )\n",
        "]\n",
        "\n",
        "\n",
        "iplot(data, filename='pandas-line-naming-traces')"
      ],
      "execution_count": 0,
      "outputs": []
    },
    {
      "cell_type": "code",
      "metadata": {
        "id": "IfCfTMw0U8Gl",
        "colab_type": "code",
        "colab": {}
      },
      "source": [
        ""
      ],
      "execution_count": 0,
      "outputs": []
    },
    {
      "cell_type": "markdown",
      "metadata": {
        "id": "_h_RN-sBVaKS",
        "colab_type": "text"
      },
      "source": [
        "## Plot entire dataframe in cufflinks"
      ]
    },
    {
      "cell_type": "code",
      "metadata": {
        "id": "M3QZDeFOVIyn",
        "colab_type": "code",
        "colab": {}
      },
      "source": [
        "# Cufflinks binds plotly to pandas dataframes in <a href=\"https://plot.ly/ipandas-notebooks/\">IPython notebook</a>. <a href=\"https://plot.ly/ipandas-notebooks/cufflinks/\">Read more</a>\n",
        "\n",
        "\n",
        "cf.set_config_file(offline=False, world_readable=True, theme='ggplot')\n",
        "\n",
        "df = cf.datagen.lines()\n",
        "df.head()"
      ],
      "execution_count": 0,
      "outputs": []
    },
    {
      "cell_type": "code",
      "metadata": {
        "id": "TTYxnK2lVwrW",
        "colab_type": "code",
        "colab": {}
      },
      "source": [
        "configure_plotly_browser_state()\n",
        "\n",
        "df.iplot(kind='scatter', filename='cufflinks/cf-simple-line')"
      ],
      "execution_count": 0,
      "outputs": []
    },
    {
      "cell_type": "markdown",
      "metadata": {
        "colab_type": "text",
        "id": "FY-K_K8RWoEU"
      },
      "source": [
        "## Set Line Color and Style in Cufflinks"
      ]
    },
    {
      "cell_type": "code",
      "metadata": {
        "id": "HQG4xsuLWra9",
        "colab_type": "code",
        "colab": {}
      },
      "source": [
        "cf.set_config_file(offline=False, world_readable=True, theme='ggplot')\n",
        "\n",
        "\n",
        "# Create a simple dataframe..\n",
        "df = cf.datagen.lines(3)\n",
        "df.head()"
      ],
      "execution_count": 0,
      "outputs": []
    },
    {
      "cell_type": "code",
      "metadata": {
        "id": "FLc65N8CVJEh",
        "colab_type": "code",
        "colab": {}
      },
      "source": [
        "configure_plotly_browser_state()\n",
        "\n",
        "colors = ['red', 'blue', 'black'] # Individual Line Color\n",
        "dashes = ['solid', 'dash', 'dashdot'] # Individual Line Style\n",
        "widths = [2, 4, 6] # Individual Line Width\n",
        "\n",
        "df.iplot(kind='scatter', mode='lines', colors=colors, filename='cufflinks/line-style-and-color')"
      ],
      "execution_count": 0,
      "outputs": []
    },
    {
      "cell_type": "code",
      "metadata": {
        "id": "XA20N8M5Yd1a",
        "colab_type": "code",
        "colab": {}
      },
      "source": [
        ""
      ],
      "execution_count": 0,
      "outputs": []
    },
    {
      "cell_type": "markdown",
      "metadata": {
        "id": "_aHObrb6Yd_4",
        "colab_type": "text"
      },
      "source": [
        "## Plot partial dataframe in cufflinks"
      ]
    },
    {
      "cell_type": "code",
      "metadata": {
        "id": "olOiwqi8YeVl",
        "colab_type": "code",
        "colab": {}
      },
      "source": [
        "configure_plotly_browser_state()\n",
        "\n",
        "cf.set_config_file(offline=False, world_readable=True, theme='ggplot')\n",
        "\n",
        "df = pd.DataFrame(np.random.randn(1000, 2), columns=['A', 'B']).cumsum()\n",
        "df.A.iplot(filename='cufflinks/line-example')"
      ],
      "execution_count": 0,
      "outputs": []
    },
    {
      "cell_type": "code",
      "metadata": {
        "id": "WtSH1a9YYpC0",
        "colab_type": "code",
        "colab": {}
      },
      "source": [
        ""
      ],
      "execution_count": 0,
      "outputs": []
    },
    {
      "cell_type": "markdown",
      "metadata": {
        "id": "ILCRNlfoY1TR",
        "colab_type": "text"
      },
      "source": [
        "## Updating cufflinks plots"
      ]
    },
    {
      "cell_type": "code",
      "metadata": {
        "colab_type": "code",
        "id": "MsoAzMpwY3OX",
        "colab": {}
      },
      "source": [
        "configure_plotly_browser_state()\n",
        "\n",
        "df=cf.datagen.lines(3,columns=['a','b','c'])\n",
        "\n",
        "figure = df.iplot(kind='scatter', asFigure=True)\n",
        "\n",
        "figure['layout']['yaxis1'].update(title= 'Price', tickprefix= '$')\n",
        "for i, trace in enumerate(figure['data']):\n",
        "    trace['name'] = 'Trace {}'.format(i)\n",
        "    \n",
        "iplot(figure, filename='cufflinks/customized-chart')"
      ],
      "execution_count": 0,
      "outputs": []
    },
    {
      "cell_type": "code",
      "metadata": {
        "id": "f-mTCM3bCeEZ",
        "colab_type": "code",
        "colab": {}
      },
      "source": [
        "for i, trace in enumerate(figure['data']):\n",
        "    trace['name'] = 'Trace {}'.format(i)"
      ],
      "execution_count": 0,
      "outputs": []
    },
    {
      "cell_type": "code",
      "metadata": {
        "id": "VNpByhO5ZBts",
        "colab_type": "code",
        "colab": {}
      },
      "source": [
        "print (trace)"
      ],
      "execution_count": 0,
      "outputs": []
    },
    {
      "cell_type": "markdown",
      "metadata": {
        "colab_type": "text",
        "id": "BPllVCbVY3OZ"
      },
      "source": [
        "# Bar Charts"
      ]
    },
    {
      "cell_type": "markdown",
      "metadata": {
        "colab_type": "text",
        "id": "4mytduFrY2Kh"
      },
      "source": [
        "## Basic Bar Chart"
      ]
    },
    {
      "cell_type": "code",
      "metadata": {
        "id": "f--wd6dIZMyz",
        "colab_type": "code",
        "colab": {}
      },
      "source": [
        "N = 40\n",
        "x = np.linspace(0, 1, N)\n",
        "y = np.random.randn(N)\n",
        "df = pd.DataFrame({'x': x, 'y': y})\n",
        "df.head()"
      ],
      "execution_count": 0,
      "outputs": []
    },
    {
      "cell_type": "code",
      "metadata": {
        "id": "j0EZlBjvZNQ4",
        "colab_type": "code",
        "colab": {}
      },
      "source": [
        "configure_plotly_browser_state()\n",
        "\n",
        "data = [\n",
        "    go.Bar(\n",
        "      x=df.x,\n",
        "      y=df.y,\n",
        "    )\n",
        "]\n",
        "\n",
        "iplot(data, 'pandas-bar-chart')"
      ],
      "execution_count": 0,
      "outputs": []
    },
    {
      "cell_type": "markdown",
      "metadata": {
        "colab_type": "text",
        "id": "dKKTgh0BY1TW"
      },
      "source": [
        "## Basic Stacked Bar Chart"
      ]
    },
    {
      "cell_type": "code",
      "metadata": {
        "id": "aKK38hsQZOrE",
        "colab_type": "code",
        "colab": {}
      },
      "source": [
        "N = 20\n",
        "x = np.linspace(1, 10, N)\n",
        "y = np.random.randn(N)+3\n",
        "y2 = np.random.randn(N)+6\n",
        "y3 = np.random.randn(N)+9\n",
        "y4 = np.random.randn(N)+12\n",
        "df = pd.DataFrame({'x': x, 'y': y, 'y2':y2, 'y3':y3, 'y4':y4})\n",
        "df.head(2)"
      ],
      "execution_count": 0,
      "outputs": []
    },
    {
      "cell_type": "code",
      "metadata": {
        "id": "VrjJTExFZPBN",
        "colab_type": "code",
        "colab": {}
      },
      "source": [
        "configure_plotly_browser_state()\n",
        "\n",
        "data = [\n",
        "    go.Bar(\n",
        "      x=df.x,\n",
        "      y=df.y,\n",
        "#       orientation = 'h'\n",
        "    ),\n",
        "    go.Bar(\n",
        "      x=df.x,\n",
        "      y=df.y2,\n",
        "    ),\n",
        "    go.Bar(\n",
        "      x=df.x,\n",
        "      y=df.y3,\n",
        "    ),\n",
        "    go.Bar(\n",
        "      x=df.x,\n",
        "      y=df.y4,\n",
        "    ),\n",
        "]\n",
        "\n",
        "layout = go.Layout(\n",
        "    barmode='stack', # [overlay, group, relative]\n",
        "    title='Stacked Bar with Pandas'\n",
        ")\n",
        "\n",
        "fig = go.Figure(data=data, layout=layout)\n",
        "\n",
        "iplot(fig, filename='pandas-bar-chart-layout')"
      ],
      "execution_count": 0,
      "outputs": []
    },
    {
      "cell_type": "code",
      "metadata": {
        "id": "_7TWweJvom0u",
        "colab_type": "code",
        "colab": {}
      },
      "source": [
        ""
      ],
      "execution_count": 0,
      "outputs": []
    },
    {
      "cell_type": "markdown",
      "metadata": {
        "id": "qKxsekIrp1KN",
        "colab_type": "text"
      },
      "source": [
        "## Pandas dataframe row as bar chart"
      ]
    },
    {
      "cell_type": "code",
      "metadata": {
        "id": "VqAg0ppOp2d2",
        "colab_type": "code",
        "colab": {}
      },
      "source": [
        "configure_plotly_browser_state()\n",
        "\n",
        "cf.set_config_file(offline=False, world_readable=True, theme='pearl') # [ggplot]\n",
        "\n",
        "df = pd.DataFrame(np.random.rand(10,4), columns=['A', 'B', 'C', 'D'])\n",
        "\n",
        "row = df.ix[5]\n",
        "\n",
        "row.iplot(kind='bar', filename='cufflinks/bar-chart-row')"
      ],
      "execution_count": 0,
      "outputs": []
    },
    {
      "cell_type": "code",
      "metadata": {
        "colab_type": "code",
        "id": "VzdIp7bGtaXJ",
        "colab": {}
      },
      "source": [
        ""
      ],
      "execution_count": 0,
      "outputs": []
    },
    {
      "cell_type": "markdown",
      "metadata": {
        "colab_type": "text",
        "id": "YQdJo9FGtaXL"
      },
      "source": [
        "## Pandas series as bar chart"
      ]
    },
    {
      "cell_type": "code",
      "metadata": {
        "id": "9_-Xd_X9th0t",
        "colab_type": "code",
        "colab": {}
      },
      "source": [
        "'''\n",
        "configure_plotly_browser_state()\n",
        "\n",
        "cf.set_config_file(offline=False, world_readable=True, theme='ggplot')\n",
        "\n",
        "df = pd.read_csv('https://raw.githubusercontent.com/plotly/widgets/master/ipandas-examples/311_150k.csv', parse_dates=True, index_col=1)\n",
        "df.head(3)\n",
        "\n",
        "\n",
        "series = df['Complaint Type'].value_counts()[:20]\n",
        "series.head(3)\n",
        "\n",
        "iplot(kind='bar', yTitle='Number of Complaints', title='NYC 311 Complaints',\n",
        "             filename='cufflinks/categorical-bar-chart')\n",
        "\n",
        "'''"
      ],
      "execution_count": 0,
      "outputs": []
    },
    {
      "cell_type": "code",
      "metadata": {
        "id": "L5O6AXZFul5N",
        "colab_type": "code",
        "colab": {}
      },
      "source": [
        ""
      ],
      "execution_count": 0,
      "outputs": []
    },
    {
      "cell_type": "markdown",
      "metadata": {
        "id": "RgeeS4jMumIb",
        "colab_type": "text"
      },
      "source": [
        "## Pandas stacked bar chart"
      ]
    },
    {
      "cell_type": "code",
      "metadata": {
        "id": "eGeJCdRAuncW",
        "colab_type": "code",
        "colab": {}
      },
      "source": [
        "configure_plotly_browser_state()\n",
        "\n",
        "cf.set_config_file(offline=False, world_readable=True, theme='ggplot')\n",
        "\n",
        "df = pd.DataFrame(np.random.rand(10, 4), columns=['A', 'B', 'C', 'D'])\n",
        "df.iplot(kind='bar', barmode='stack', filename='cufflinks/stacked-bar-chart')"
      ],
      "execution_count": 0,
      "outputs": []
    },
    {
      "cell_type": "code",
      "metadata": {
        "id": "Q4OkVOAjqiJq",
        "colab_type": "code",
        "colab": {}
      },
      "source": [
        ""
      ],
      "execution_count": 0,
      "outputs": []
    },
    {
      "cell_type": "markdown",
      "metadata": {
        "id": "A9YS7ubMvvqv",
        "colab_type": "text"
      },
      "source": [
        "## Pandas grouped bar chart"
      ]
    },
    {
      "cell_type": "code",
      "metadata": {
        "id": "9up5UYpivxBJ",
        "colab_type": "code",
        "colab": {}
      },
      "source": [
        "configure_plotly_browser_state()\n",
        "\n",
        "cf.set_config_file(offline=False, world_readable=True, theme='ggplot')\n",
        "\n",
        "df = pd.DataFrame(np.random.rand(10, 4), columns=['A', 'B', 'C', 'D'])\n",
        "df.iplot(kind='bar', filename='cufflinks/grouped-bar-chart')"
      ],
      "execution_count": 0,
      "outputs": []
    },
    {
      "cell_type": "code",
      "metadata": {
        "colab_type": "code",
        "id": "eBZ-54aurQ7X",
        "colab": {}
      },
      "source": [
        ""
      ],
      "execution_count": 0,
      "outputs": []
    },
    {
      "cell_type": "markdown",
      "metadata": {
        "id": "RBrnopZRrRhm",
        "colab_type": "text"
      },
      "source": [
        "# Horizontal Bar Charts in Pandas"
      ]
    },
    {
      "cell_type": "markdown",
      "metadata": {
        "id": "f0gU4PmbrfPR",
        "colab_type": "text"
      },
      "source": [
        "## Basic Horizontal Bar Chart"
      ]
    },
    {
      "cell_type": "code",
      "metadata": {
        "id": "WxxfLzZxkz0n",
        "colab_type": "code",
        "colab": {}
      },
      "source": [
        "N = 20\n",
        "x = np.linspace(0, 1, N)\n",
        "y = np.abs(np.random.randn(N))\n",
        "df = pd.DataFrame({'x': x, 'y': y})\n",
        "df.head()"
      ],
      "execution_count": 0,
      "outputs": []
    },
    {
      "cell_type": "code",
      "metadata": {
        "id": "0mts6ugdr_g5",
        "colab_type": "code",
        "colab": {}
      },
      "source": [
        "configure_plotly_browser_state()\n",
        "\n",
        "data = [\n",
        "    go.Bar(\n",
        "        x=df['y'], \n",
        "        y=df['x'],\n",
        "        orientation='h',\n",
        "    )\n",
        "]\n",
        "\n",
        "layout = go.Layout(\n",
        "    title='pandas-horizontal-bar'\n",
        ")\n",
        "\n",
        "fig = go.Figure(data=data, layout=layout)\n",
        "\n",
        "iplot(fig, filename='pandas-horizontal-bar')"
      ],
      "execution_count": 0,
      "outputs": []
    },
    {
      "cell_type": "code",
      "metadata": {
        "id": "ikhK33wfsXtK",
        "colab_type": "code",
        "colab": {}
      },
      "source": [
        "configure_plotly_browser_state()\n",
        "\n",
        "cf.set_config_file(offline=False, world_readable=True, theme='pearl')\n",
        "\n",
        "df = pd.DataFrame(np.random.rand(10, 4), columns=['A', 'B', 'C', 'D'])\n",
        "\n",
        "fig = df.iplot(kind='barh', barmode='stack', bargap=.1, title='cufflinks - barh', asFigure=True)\n",
        "\n",
        "fig['layout']['xaxis'].update(title='barh', tickmode = 'auto', # ['linear','array']\n",
        "                              tick0 = 0.5, dtick=0.5)\n",
        "fig['layout']['yaxis'].update(title='barh', dtick=1)\n",
        "\n",
        "iplot(fig, filename='cufflinks/barh')"
      ],
      "execution_count": 0,
      "outputs": []
    },
    {
      "cell_type": "code",
      "metadata": {
        "id": "-K29dwA-zT6O",
        "colab_type": "code",
        "colab": {}
      },
      "source": [
        ""
      ],
      "execution_count": 0,
      "outputs": []
    },
    {
      "cell_type": "markdown",
      "metadata": {
        "id": "sD5D_3EL0qPc",
        "colab_type": "text"
      },
      "source": [
        "# Bubble Charts in Pandas"
      ]
    },
    {
      "cell_type": "markdown",
      "metadata": {
        "id": "1hmo20Bc0r7u",
        "colab_type": "text"
      },
      "source": [
        "## Pandas bubble chart"
      ]
    },
    {
      "cell_type": "code",
      "metadata": {
        "id": "MSUrsCsq0yLR",
        "colab_type": "code",
        "colab": {}
      },
      "source": [
        "cf.set_config_file(offline=False, world_readable=True, theme='pearl')\n",
        "\n",
        "df = pd.read_csv('http://www.stat.ubc.ca/~jenny/notOcto/STAT545A/examples/gapminder/data/gapminderDataFiveYear.txt', sep='\\t')\n",
        "df2007 = df[df.year==2007]\n",
        "df.head(2)"
      ],
      "execution_count": 0,
      "outputs": []
    },
    {
      "cell_type": "code",
      "metadata": {
        "id": "0zXFv__x09c4",
        "colab_type": "code",
        "colab": {}
      },
      "source": [
        "configure_plotly_browser_state()\n",
        "\n",
        "df2007.iplot(kind='bubble', x='gdpPercap', y='lifeExp', size='pop', text='country',\n",
        "             xTitle='GDP per Capita', yTitle='Life Expectancy',\n",
        "             filename='cufflinks/simple-bubble-chart')\n"
      ],
      "execution_count": 0,
      "outputs": []
    },
    {
      "cell_type": "code",
      "metadata": {
        "id": "oTGsyNz-1UKG",
        "colab_type": "code",
        "colab": {}
      },
      "source": [
        ""
      ],
      "execution_count": 0,
      "outputs": []
    },
    {
      "cell_type": "markdown",
      "metadata": {
        "id": "iNMhO5Hh1UUe",
        "colab_type": "text"
      },
      "source": [
        "# Adding Colorscales (Using Colorlover) in Pandas"
      ]
    },
    {
      "cell_type": "markdown",
      "metadata": {
        "id": "DH14iyhF1Ui5",
        "colab_type": "text"
      },
      "source": [
        "## Adding Colorscales to Pandas DataFrames"
      ]
    },
    {
      "cell_type": "code",
      "metadata": {
        "id": "Hx4_uuyr1afp",
        "colab_type": "code",
        "colab": {}
      },
      "source": [
        "import colorlover as cl\n",
        "\n",
        "HTML(cl.to_html(cl.scales))\n"
      ],
      "execution_count": 0,
      "outputs": []
    },
    {
      "cell_type": "code",
      "metadata": {
        "id": "tx9l8cZQRtHl",
        "colab_type": "code",
        "colab": {}
      },
      "source": [
        ""
      ],
      "execution_count": 0,
      "outputs": []
    },
    {
      "cell_type": "markdown",
      "metadata": {
        "id": "c4YKqUurRuhw",
        "colab_type": "text"
      },
      "source": [
        "## Binding Plotly to Pandas Dataframes ( Cufflinks ):\n"
      ]
    },
    {
      "cell_type": "code",
      "metadata": {
        "id": "PUhzVodaRun6",
        "colab_type": "code",
        "colab": {}
      },
      "source": [
        "# Generate a sample dataset of 5 traces (lines)..\n",
        "sample_data = cf.datagen.lines(5)"
      ],
      "execution_count": 0,
      "outputs": []
    },
    {
      "cell_type": "markdown",
      "metadata": {
        "id": "pj-nR0G-SJ3t",
        "colab_type": "text"
      },
      "source": [
        "## Plotting the data using Plotly:"
      ]
    },
    {
      "cell_type": "code",
      "metadata": {
        "id": "phq33pxqSL2A",
        "colab_type": "code",
        "colab": {}
      },
      "source": [
        "configure_plotly_browser_state()\n",
        "\n",
        "bupu = cl.scales['9']['seq']['BuPu']\n",
        "cs12 = cl.scales['12']['qual']['Paired']\n",
        "\n",
        "sample_data.iplot(kind='scatter', colors=cs12, filename='basic-cufflinks-example')"
      ],
      "execution_count": 0,
      "outputs": []
    },
    {
      "cell_type": "code",
      "metadata": {
        "id": "iJ0JzaV1SXki",
        "colab_type": "code",
        "colab": {}
      },
      "source": [
        ""
      ],
      "execution_count": 0,
      "outputs": []
    },
    {
      "cell_type": "markdown",
      "metadata": {
        "id": "krkwo_QBZ1P2",
        "colab_type": "text"
      },
      "source": [
        "## Adding Colorscales using Colorlover"
      ]
    },
    {
      "cell_type": "code",
      "metadata": {
        "id": "Pq3HYHgwZ1Xg",
        "colab_type": "code",
        "colab": {}
      },
      "source": [
        "configure_plotly_browser_state()\n",
        "\n",
        "color_scale_blues = cl.scales['5']['seq']['Blues']\n",
        "\n",
        "sample_data.iplot(kind='scatter', colors=color_scale_blues, theme='pearl')"
      ],
      "execution_count": 0,
      "outputs": []
    },
    {
      "cell_type": "code",
      "metadata": {
        "id": "Y_Ab3N-Oa9Lb",
        "colab_type": "code",
        "colab": {}
      },
      "source": [
        ""
      ],
      "execution_count": 0,
      "outputs": []
    },
    {
      "cell_type": "markdown",
      "metadata": {
        "id": "sDjTNt1wa9Qh",
        "colab_type": "text"
      },
      "source": [
        "# Filled Area Plots in Pandas"
      ]
    },
    {
      "cell_type": "markdown",
      "metadata": {
        "id": "NwHLulRqa9X5",
        "colab_type": "text"
      },
      "source": [
        "## Stacked area chart in Pandas"
      ]
    },
    {
      "cell_type": "markdown",
      "metadata": {
        "id": "SsEd2LhUbG3I",
        "colab_type": "text"
      },
      "source": [
        "출처: https://plot.ly/pandas/filled-area-plots/"
      ]
    },
    {
      "cell_type": "code",
      "metadata": {
        "id": "czmiXK2gbLbC",
        "colab_type": "code",
        "colab": {}
      },
      "source": [
        "configure_plotly_browser_state()\n",
        "\n",
        "df = pd.DataFrame(np.random.rand(10, 4), columns=['a', 'b', 'c', 'd'])\n",
        "df.iplot(kind='area', fill=True, filename='cufflinks/stacked-area')"
      ],
      "execution_count": 0,
      "outputs": []
    },
    {
      "cell_type": "code",
      "metadata": {
        "id": "DTBF6IJYkYC_",
        "colab_type": "code",
        "colab": {}
      },
      "source": [
        ""
      ],
      "execution_count": 0,
      "outputs": []
    },
    {
      "cell_type": "markdown",
      "metadata": {
        "colab_type": "text",
        "id": "fR0ThlhQkpaY"
      },
      "source": [
        "## Filled area chart in Pandas"
      ]
    },
    {
      "cell_type": "markdown",
      "metadata": {
        "colab_type": "text",
        "id": "0GD7ZupzkpaZ"
      },
      "source": [
        "출처: https://plot.ly/pandas/filled-area-plots/"
      ]
    },
    {
      "cell_type": "code",
      "metadata": {
        "colab_type": "code",
        "id": "2Ir0q8xwkpaa",
        "colab": {}
      },
      "source": [
        "configure_plotly_browser_state()\n",
        "\n",
        "df = pd.DataFrame(np.random.rand(10, 4), columns=['a', 'b', 'c', 'd'])\n",
        "df.iplot(fill=True, filename='cufflinks/stacked-area')"
      ],
      "execution_count": 0,
      "outputs": []
    },
    {
      "cell_type": "code",
      "metadata": {
        "colab_type": "code",
        "id": "2GyvdV1Fkpad",
        "colab": {}
      },
      "source": [
        ""
      ],
      "execution_count": 0,
      "outputs": []
    },
    {
      "cell_type": "markdown",
      "metadata": {
        "colab_type": "text",
        "id": "lAkJqcwQkpaW"
      },
      "source": [
        "# Axvspan, Axvline, Axhline in Pandas"
      ]
    },
    {
      "cell_type": "markdown",
      "metadata": {
        "id": "Zg8JmT-Ipht5",
        "colab_type": "text"
      },
      "source": [
        "출처: https://plot.ly/pandas/axvspan-axvline-axhline/"
      ]
    },
    {
      "cell_type": "markdown",
      "metadata": {
        "id": "9DdjjPSjo_VT",
        "colab_type": "text"
      },
      "source": [
        "## axvspan"
      ]
    },
    {
      "cell_type": "code",
      "metadata": {
        "id": "AGuBKefdpIP-",
        "colab_type": "code",
        "colab": {
          "base_uri": "https://localhost:8080/",
          "height": 542
        },
        "outputId": "85626d96-3dd7-444a-d36c-d2d07849d847"
      },
      "source": [
        "cf.set_config_file(offline=False, world_readable=True, theme='pearl')\n",
        "\n",
        "df=cf.datagen.lines(3,columns=['a','b','c'])\n",
        "\n",
        "df.iplot(vspan={'x0':'2015-02-15','x1':'2015-03-15','color':'rgba(30,30,30,0.3)','fill':True,'opacity':.4}, \n",
        "         filename='cufflinks/custom-regions')\n"
      ],
      "execution_count": 66,
      "outputs": [
        {
          "output_type": "display_data",
          "data": {
            "text/vnd.plotly.v1+html": "<div id=\"234ca487-f01e-4b0d-8648-637a18bd17e6\" style=\"height: 525px; width: 100%;\" class=\"plotly-graph-div\"></div><script type=\"text/javascript\">require([\"plotly\"], function(Plotly) { window.PLOTLYENV=window.PLOTLYENV || {};window.PLOTLYENV.BASE_URL=\"https://plot.ly\";Plotly.newPlot(\"234ca487-f01e-4b0d-8648-637a18bd17e6\", [{\"line\": {\"color\": \"rgba(255, 153, 51, 1.0)\", \"dash\": \"solid\", \"shape\": \"linear\", \"width\": 1.3}, \"mode\": \"lines\", \"name\": \"a\", \"text\": \"\", \"x\": [\"2015-01-01\", \"2015-01-02\", \"2015-01-03\", \"2015-01-04\", \"2015-01-05\", \"2015-01-06\", \"2015-01-07\", \"2015-01-08\", \"2015-01-09\", \"2015-01-10\", \"2015-01-11\", \"2015-01-12\", \"2015-01-13\", \"2015-01-14\", \"2015-01-15\", \"2015-01-16\", \"2015-01-17\", \"2015-01-18\", \"2015-01-19\", \"2015-01-20\", \"2015-01-21\", \"2015-01-22\", \"2015-01-23\", \"2015-01-24\", \"2015-01-25\", \"2015-01-26\", \"2015-01-27\", \"2015-01-28\", \"2015-01-29\", \"2015-01-30\", \"2015-01-31\", \"2015-02-01\", \"2015-02-02\", \"2015-02-03\", \"2015-02-04\", \"2015-02-05\", \"2015-02-06\", \"2015-02-07\", \"2015-02-08\", \"2015-02-09\", \"2015-02-10\", \"2015-02-11\", \"2015-02-12\", \"2015-02-13\", \"2015-02-14\", \"2015-02-15\", \"2015-02-16\", \"2015-02-17\", \"2015-02-18\", \"2015-02-19\", \"2015-02-20\", \"2015-02-21\", \"2015-02-22\", \"2015-02-23\", \"2015-02-24\", \"2015-02-25\", \"2015-02-26\", \"2015-02-27\", \"2015-02-28\", \"2015-03-01\", \"2015-03-02\", \"2015-03-03\", \"2015-03-04\", \"2015-03-05\", \"2015-03-06\", \"2015-03-07\", \"2015-03-08\", \"2015-03-09\", \"2015-03-10\", \"2015-03-11\", \"2015-03-12\", \"2015-03-13\", \"2015-03-14\", \"2015-03-15\", \"2015-03-16\", \"2015-03-17\", \"2015-03-18\", \"2015-03-19\", \"2015-03-20\", \"2015-03-21\", \"2015-03-22\", \"2015-03-23\", \"2015-03-24\", \"2015-03-25\", \"2015-03-26\", \"2015-03-27\", \"2015-03-28\", \"2015-03-29\", \"2015-03-30\", \"2015-03-31\", \"2015-04-01\", \"2015-04-02\", \"2015-04-03\", \"2015-04-04\", \"2015-04-05\", \"2015-04-06\", \"2015-04-07\", \"2015-04-08\", \"2015-04-09\", \"2015-04-10\"], \"y\": [-0.20844676820993135, -2.2342593717602437, -2.389788775389993, -2.04528766513028, -1.68240546024974, -0.5047847131122738, -1.8084855891503635, -1.0996222372141058, -1.439119215767809, -1.5884212334726375, -3.5456091404162704, -2.6505419146407805, -0.6707461479163783, -1.8151822625520033, -1.5011595320327427, -0.7803529057597445, -0.8285133501635139, -0.3070626832718556, 1.829191000095609, 1.699456607440343, 1.2617992266675406, 1.2580247549967305, 0.4572674906937553, 0.5636312169737889, 0.551372651253724, -0.07787422577103287, -1.503066142418684, -1.4999460652318626, -1.4881751005017, -2.1248431932397565, -1.1214192782559738, -0.34596208358463365, -1.7410710158224507, -2.604331928041557, -2.4316760817068896, -3.393346594733439, -3.533473039596347, -3.087220591580506, -0.8164288400697131, -1.7230354425759873, -2.709277361314143, -3.5667304549774337, -2.409002855753911, -2.2961735003884933, -2.842275825499258, -4.099785915566374, -5.227096561833035, -3.4551539642831637, -2.726962481254154, -1.5955054015569208, -1.7457005895551785, -0.9057338911049843, 0.159035712935636, -0.7374028209683005, 0.5525697811757152, -0.6579267380380273, -0.9311916724025301, -0.84557808215489, 0.5751642178344948, 2.0331497635790634, 3.4985742218694904, 3.260470855643308, 4.160998898586938, 3.0996622864207546, 4.0227603881650875, 5.106622090245697, 4.842897376096787, 4.092199486361868, 2.6833275671169936, 1.4648723232282024, 1.3824174135388634, 2.5499901582771214, 3.104721292861093, 4.907848949727633, 2.845845883832848, 3.2651621422765786, 1.6261185600521484, 1.4772414045176274, 0.8408097113632859, 0.03979407066506446, -0.31700565303184736, -1.257440271108936, -2.1449334728958482, -5.08376021313218, -7.373774818589999, -7.139949789942167, -7.417943416202092, -8.128686807691142, -8.130618613939687, -8.936922599309373, -8.773908451589028, -9.068858223982401, -8.89181463681302, -9.196575204002391, -10.415968692700037, -10.104376312537031, -9.777147902497456, -8.42382132294467, -7.436621247914932, -9.301583233671128], \"type\": \"scatter\"}, {\"line\": {\"color\": \"rgba(55, 128, 191, 1.0)\", \"dash\": \"solid\", \"shape\": \"linear\", \"width\": 1.3}, \"mode\": \"lines\", \"name\": \"b\", \"text\": \"\", \"x\": [\"2015-01-01\", \"2015-01-02\", \"2015-01-03\", \"2015-01-04\", \"2015-01-05\", \"2015-01-06\", \"2015-01-07\", \"2015-01-08\", \"2015-01-09\", \"2015-01-10\", \"2015-01-11\", \"2015-01-12\", \"2015-01-13\", \"2015-01-14\", \"2015-01-15\", \"2015-01-16\", \"2015-01-17\", \"2015-01-18\", \"2015-01-19\", \"2015-01-20\", \"2015-01-21\", \"2015-01-22\", \"2015-01-23\", \"2015-01-24\", \"2015-01-25\", \"2015-01-26\", \"2015-01-27\", \"2015-01-28\", \"2015-01-29\", \"2015-01-30\", \"2015-01-31\", \"2015-02-01\", \"2015-02-02\", \"2015-02-03\", \"2015-02-04\", \"2015-02-05\", \"2015-02-06\", \"2015-02-07\", \"2015-02-08\", \"2015-02-09\", \"2015-02-10\", \"2015-02-11\", \"2015-02-12\", \"2015-02-13\", \"2015-02-14\", \"2015-02-15\", \"2015-02-16\", \"2015-02-17\", \"2015-02-18\", \"2015-02-19\", \"2015-02-20\", \"2015-02-21\", \"2015-02-22\", \"2015-02-23\", \"2015-02-24\", \"2015-02-25\", \"2015-02-26\", \"2015-02-27\", \"2015-02-28\", \"2015-03-01\", \"2015-03-02\", \"2015-03-03\", \"2015-03-04\", \"2015-03-05\", \"2015-03-06\", \"2015-03-07\", \"2015-03-08\", \"2015-03-09\", \"2015-03-10\", \"2015-03-11\", \"2015-03-12\", \"2015-03-13\", \"2015-03-14\", \"2015-03-15\", \"2015-03-16\", \"2015-03-17\", \"2015-03-18\", \"2015-03-19\", \"2015-03-20\", \"2015-03-21\", \"2015-03-22\", \"2015-03-23\", \"2015-03-24\", \"2015-03-25\", \"2015-03-26\", \"2015-03-27\", \"2015-03-28\", \"2015-03-29\", \"2015-03-30\", \"2015-03-31\", \"2015-04-01\", \"2015-04-02\", \"2015-04-03\", \"2015-04-04\", \"2015-04-05\", \"2015-04-06\", \"2015-04-07\", \"2015-04-08\", \"2015-04-09\", \"2015-04-10\"], \"y\": [3.4642957217291612, 2.568390677142067, 2.8260647980743614, 3.692729520508881, 3.3311345934966017, 3.273537280151419, 3.1691933179310765, 3.599250071697433, 2.0538099466565622, 2.004178314218955, 1.72103208654498, 1.9531170975873788, 2.344953309349253, 3.5523764941922593, 5.127988604749265, 6.301418607178816, 7.039959123577141, 7.41098045332358, 7.336148835417967, 9.039745394557354, 8.33576842247923, 7.077016037776799, 6.687658993103239, 7.808474498587121, 6.786676051369737, 6.607881749735338, 6.326687108443514, 5.923847012853377, 6.736275252926124, 6.749200111405309, 6.157793860460358, 6.686730885573946, 7.653712724775664, 7.0937251428895225, 7.727319551717761, 6.654055071632966, 5.835112534269602, 6.033397275106723, 6.347804003905181, 7.994147964503522, 9.531311345675757, 9.734689125055306, 9.052733057060404, 9.263759070908257, 9.500210308330152, 9.596696082543515, 10.904266281313332, 11.17280011480239, 12.371393122681432, 12.043064633660931, 11.695038382445897, 12.675114709840022, 12.739822780268042, 12.741323472147407, 12.948913658564754, 12.10406622693471, 12.963465562365533, 11.804826099188585, 11.41571216806545, 8.992828535167884, 5.765858599993266, 6.831776137435595, 6.030836019283488, 6.268424312687254, 5.491496000149881, 3.9824306270325973, 4.990594485959985, 4.628968333855289, 4.754793600042687, 4.708709040528582, 3.532799567842402, 3.6986025420497475, 4.510975029055061, 5.082778122612071, 5.361930196410102, 5.289458230764506, 5.880321061802339, 5.690022291282027, 6.66597086423587, 7.912017878227944, 7.494752263290965, 8.357516412597375, 7.808313908173419, 7.327063247812445, 6.441622847071597, 5.073132142981256, 3.0823032603028495, 1.7790665779246395, 2.734142652166197, 3.5986857848920595, 5.494295977086375, 3.488550191755704, 2.993503870014965, 1.753917591558156, 2.70998459415356, 0.3693743436702883, 1.4692438085306903, 0.9330698677852948, -0.07216321398191938, -1.1731015674883798], \"type\": \"scatter\"}, {\"line\": {\"color\": \"rgba(50, 171, 96, 1.0)\", \"dash\": \"solid\", \"shape\": \"linear\", \"width\": 1.3}, \"mode\": \"lines\", \"name\": \"c\", \"text\": \"\", \"x\": [\"2015-01-01\", \"2015-01-02\", \"2015-01-03\", \"2015-01-04\", \"2015-01-05\", \"2015-01-06\", \"2015-01-07\", \"2015-01-08\", \"2015-01-09\", \"2015-01-10\", \"2015-01-11\", \"2015-01-12\", \"2015-01-13\", \"2015-01-14\", \"2015-01-15\", \"2015-01-16\", \"2015-01-17\", \"2015-01-18\", \"2015-01-19\", \"2015-01-20\", \"2015-01-21\", \"2015-01-22\", \"2015-01-23\", \"2015-01-24\", \"2015-01-25\", \"2015-01-26\", \"2015-01-27\", \"2015-01-28\", \"2015-01-29\", \"2015-01-30\", \"2015-01-31\", \"2015-02-01\", \"2015-02-02\", \"2015-02-03\", \"2015-02-04\", \"2015-02-05\", \"2015-02-06\", \"2015-02-07\", \"2015-02-08\", \"2015-02-09\", \"2015-02-10\", \"2015-02-11\", \"2015-02-12\", \"2015-02-13\", \"2015-02-14\", \"2015-02-15\", \"2015-02-16\", \"2015-02-17\", \"2015-02-18\", \"2015-02-19\", \"2015-02-20\", \"2015-02-21\", \"2015-02-22\", \"2015-02-23\", \"2015-02-24\", \"2015-02-25\", \"2015-02-26\", \"2015-02-27\", \"2015-02-28\", \"2015-03-01\", \"2015-03-02\", \"2015-03-03\", \"2015-03-04\", \"2015-03-05\", \"2015-03-06\", \"2015-03-07\", \"2015-03-08\", \"2015-03-09\", \"2015-03-10\", \"2015-03-11\", \"2015-03-12\", \"2015-03-13\", \"2015-03-14\", \"2015-03-15\", \"2015-03-16\", \"2015-03-17\", \"2015-03-18\", \"2015-03-19\", \"2015-03-20\", \"2015-03-21\", \"2015-03-22\", \"2015-03-23\", \"2015-03-24\", \"2015-03-25\", \"2015-03-26\", \"2015-03-27\", \"2015-03-28\", \"2015-03-29\", \"2015-03-30\", \"2015-03-31\", \"2015-04-01\", \"2015-04-02\", \"2015-04-03\", \"2015-04-04\", \"2015-04-05\", \"2015-04-06\", \"2015-04-07\", \"2015-04-08\", \"2015-04-09\", \"2015-04-10\"], \"y\": [-0.6057204401198547, -0.3121152665794304, 0.1764762997166081, 1.506985701243971, 0.8478963652695037, 2.8316261943870327, 3.7280465601324364, 3.587342294433903, 3.2099566735430405, 3.9624768880061456, 3.9796700655850326, 2.2860600614344024, 3.49251127949013, 4.735185027924502, 5.165423236404341, 3.2179855976920146, 3.765264293442572, 4.404321457569491, 3.417367951593433, 1.045372189479071, 1.2757400265818954, 1.9665208480406489, 1.9554405733363678, 2.006706185989172, 1.11415866011267, -0.5391606433839957, 0.35897544301890516, -1.0341685586938458, -0.21642998640538158, -1.1305248204348646, -0.930423673503159, -1.5238480977150697, 0.11603389411617182, -0.35814179819309355, -1.2485486698742736, -0.36952947631199695, -1.019803991381163, 0.38619356044811437, 0.39304271177556205, 0.1824161208625873, 1.2231562730653085, 1.128607267338664, 1.4612926614602735, 1.5253562051298635, 2.564239171805544, 2.3401103148834133, 3.2717387440008254, 2.932622605989629, 3.1603258912555856, 3.053533812270557, 3.188864072464192, 3.216812952924035, 3.3312128664076983, 3.4365156908721284, 2.748760540772483, 1.7655281297677643, 1.2767157398159243, 1.7177914543000223, 2.3547866424204216, 2.3599992761324797, 1.6666479696750378, 1.686659158478908, 2.7926385123341495, 2.8715806378529742, 3.2478842970490587, 4.8936830985410955, 4.884709521857007, 4.237772930955689, 3.827103865094673, 2.547251894305706, 3.1606267738169063, 3.886127289881828, 3.0546196749476113, 2.5652476510128417, 1.3753286768318171, 1.4246223336440724, -0.18813487999514722, -0.27450963821281626, 0.5708817706160663, 0.7369646678952815, -1.0125746190201168, -0.523334163898741, -0.3793474343490889, 0.47979561537290194, 1.7672508615499276, 1.0598401286093266, 0.6370962457014191, 1.053706190150857, 0.4917424881141792, -0.006286149073820524, -1.0884724452986423, 0.29704565624360413, 0.06479534939067874, -0.9952229625150033, -1.256504945703485, -1.0034397835475808, -0.3555499705166216, -2.006576666150914, -1.5723436678448426, -1.5849161925084612], \"type\": \"scatter\"}], {\"legend\": {\"bgcolor\": \"#F5F6F9\", \"font\": {\"color\": \"#4D5663\"}}, \"paper_bgcolor\": \"#F5F6F9\", \"plot_bgcolor\": \"#F5F6F9\", \"yaxis\": {\"tickfont\": {\"color\": \"#4D5663\"}, \"gridcolor\": \"#E1E5ED\", \"titlefont\": {\"color\": \"#4D5663\"}, \"zerolinecolor\": \"#E1E5ED\", \"showgrid\": true, \"title\": \"\"}, \"xaxis\": {\"tickfont\": {\"color\": \"#4D5663\"}, \"gridcolor\": \"#E1E5ED\", \"titlefont\": {\"color\": \"#4D5663\"}, \"zerolinecolor\": \"#E1E5ED\", \"showgrid\": true, \"title\": \"\"}, \"titlefont\": {\"color\": \"#4D5663\"}, \"shapes\": [{\"x0\": \"2015-02-15\", \"y0\": 0, \"x1\": \"2015-03-15\", \"y1\": 1, \"line\": {\"color\": \"#BBBBBB\", \"width\": 1, \"dash\": \"solid\"}, \"xref\": \"x\", \"yref\": \"paper\", \"type\": \"rect\", \"fillcolor\": \"rgba(187, 187, 187, 0.4)\"}]}, {\"showLink\": true, \"linkText\": \"Export to plot.ly\", \"plotlyServerURL\": \"https://plot.ly\"})});</script><script type=\"text/javascript\">window.addEventListener(\"resize\", function(){window._Plotly.Plots.resize(document.getElementById(\"234ca487-f01e-4b0d-8648-637a18bd17e6\"));});</script>",
            "text/html": [
              "<div id=\"234ca487-f01e-4b0d-8648-637a18bd17e6\" style=\"height: 525px; width: 100%;\" class=\"plotly-graph-div\"></div><script type=\"text/javascript\">require([\"plotly\"], function(Plotly) { window.PLOTLYENV=window.PLOTLYENV || {};window.PLOTLYENV.BASE_URL=\"https://plot.ly\";Plotly.newPlot(\"234ca487-f01e-4b0d-8648-637a18bd17e6\", [{\"line\": {\"color\": \"rgba(255, 153, 51, 1.0)\", \"dash\": \"solid\", \"shape\": \"linear\", \"width\": 1.3}, \"mode\": \"lines\", \"name\": \"a\", \"text\": \"\", \"x\": [\"2015-01-01\", \"2015-01-02\", \"2015-01-03\", \"2015-01-04\", \"2015-01-05\", \"2015-01-06\", \"2015-01-07\", \"2015-01-08\", \"2015-01-09\", \"2015-01-10\", \"2015-01-11\", \"2015-01-12\", \"2015-01-13\", \"2015-01-14\", \"2015-01-15\", \"2015-01-16\", \"2015-01-17\", \"2015-01-18\", \"2015-01-19\", \"2015-01-20\", \"2015-01-21\", \"2015-01-22\", \"2015-01-23\", \"2015-01-24\", \"2015-01-25\", \"2015-01-26\", \"2015-01-27\", \"2015-01-28\", \"2015-01-29\", \"2015-01-30\", \"2015-01-31\", \"2015-02-01\", \"2015-02-02\", \"2015-02-03\", \"2015-02-04\", \"2015-02-05\", \"2015-02-06\", \"2015-02-07\", \"2015-02-08\", \"2015-02-09\", \"2015-02-10\", \"2015-02-11\", \"2015-02-12\", \"2015-02-13\", \"2015-02-14\", \"2015-02-15\", \"2015-02-16\", \"2015-02-17\", \"2015-02-18\", \"2015-02-19\", \"2015-02-20\", \"2015-02-21\", \"2015-02-22\", \"2015-02-23\", \"2015-02-24\", \"2015-02-25\", \"2015-02-26\", \"2015-02-27\", \"2015-02-28\", \"2015-03-01\", \"2015-03-02\", \"2015-03-03\", \"2015-03-04\", \"2015-03-05\", \"2015-03-06\", \"2015-03-07\", \"2015-03-08\", \"2015-03-09\", \"2015-03-10\", \"2015-03-11\", \"2015-03-12\", \"2015-03-13\", \"2015-03-14\", \"2015-03-15\", \"2015-03-16\", \"2015-03-17\", \"2015-03-18\", \"2015-03-19\", \"2015-03-20\", \"2015-03-21\", \"2015-03-22\", \"2015-03-23\", \"2015-03-24\", \"2015-03-25\", \"2015-03-26\", \"2015-03-27\", \"2015-03-28\", \"2015-03-29\", \"2015-03-30\", \"2015-03-31\", \"2015-04-01\", \"2015-04-02\", \"2015-04-03\", \"2015-04-04\", \"2015-04-05\", \"2015-04-06\", \"2015-04-07\", \"2015-04-08\", \"2015-04-09\", \"2015-04-10\"], \"y\": [-0.20844676820993135, -2.2342593717602437, -2.389788775389993, -2.04528766513028, -1.68240546024974, -0.5047847131122738, -1.8084855891503635, -1.0996222372141058, -1.439119215767809, -1.5884212334726375, -3.5456091404162704, -2.6505419146407805, -0.6707461479163783, -1.8151822625520033, -1.5011595320327427, -0.7803529057597445, -0.8285133501635139, -0.3070626832718556, 1.829191000095609, 1.699456607440343, 1.2617992266675406, 1.2580247549967305, 0.4572674906937553, 0.5636312169737889, 0.551372651253724, -0.07787422577103287, -1.503066142418684, -1.4999460652318626, -1.4881751005017, -2.1248431932397565, -1.1214192782559738, -0.34596208358463365, -1.7410710158224507, -2.604331928041557, -2.4316760817068896, -3.393346594733439, -3.533473039596347, -3.087220591580506, -0.8164288400697131, -1.7230354425759873, -2.709277361314143, -3.5667304549774337, -2.409002855753911, -2.2961735003884933, -2.842275825499258, -4.099785915566374, -5.227096561833035, -3.4551539642831637, -2.726962481254154, -1.5955054015569208, -1.7457005895551785, -0.9057338911049843, 0.159035712935636, -0.7374028209683005, 0.5525697811757152, -0.6579267380380273, -0.9311916724025301, -0.84557808215489, 0.5751642178344948, 2.0331497635790634, 3.4985742218694904, 3.260470855643308, 4.160998898586938, 3.0996622864207546, 4.0227603881650875, 5.106622090245697, 4.842897376096787, 4.092199486361868, 2.6833275671169936, 1.4648723232282024, 1.3824174135388634, 2.5499901582771214, 3.104721292861093, 4.907848949727633, 2.845845883832848, 3.2651621422765786, 1.6261185600521484, 1.4772414045176274, 0.8408097113632859, 0.03979407066506446, -0.31700565303184736, -1.257440271108936, -2.1449334728958482, -5.08376021313218, -7.373774818589999, -7.139949789942167, -7.417943416202092, -8.128686807691142, -8.130618613939687, -8.936922599309373, -8.773908451589028, -9.068858223982401, -8.89181463681302, -9.196575204002391, -10.415968692700037, -10.104376312537031, -9.777147902497456, -8.42382132294467, -7.436621247914932, -9.301583233671128], \"type\": \"scatter\"}, {\"line\": {\"color\": \"rgba(55, 128, 191, 1.0)\", \"dash\": \"solid\", \"shape\": \"linear\", \"width\": 1.3}, \"mode\": \"lines\", \"name\": \"b\", \"text\": \"\", \"x\": [\"2015-01-01\", \"2015-01-02\", \"2015-01-03\", \"2015-01-04\", \"2015-01-05\", \"2015-01-06\", \"2015-01-07\", \"2015-01-08\", \"2015-01-09\", \"2015-01-10\", \"2015-01-11\", \"2015-01-12\", \"2015-01-13\", \"2015-01-14\", \"2015-01-15\", \"2015-01-16\", \"2015-01-17\", \"2015-01-18\", \"2015-01-19\", \"2015-01-20\", \"2015-01-21\", \"2015-01-22\", \"2015-01-23\", \"2015-01-24\", \"2015-01-25\", \"2015-01-26\", \"2015-01-27\", \"2015-01-28\", \"2015-01-29\", \"2015-01-30\", \"2015-01-31\", \"2015-02-01\", \"2015-02-02\", \"2015-02-03\", \"2015-02-04\", \"2015-02-05\", \"2015-02-06\", \"2015-02-07\", \"2015-02-08\", \"2015-02-09\", \"2015-02-10\", \"2015-02-11\", \"2015-02-12\", \"2015-02-13\", \"2015-02-14\", \"2015-02-15\", \"2015-02-16\", \"2015-02-17\", \"2015-02-18\", \"2015-02-19\", \"2015-02-20\", \"2015-02-21\", \"2015-02-22\", \"2015-02-23\", \"2015-02-24\", \"2015-02-25\", \"2015-02-26\", \"2015-02-27\", \"2015-02-28\", \"2015-03-01\", \"2015-03-02\", \"2015-03-03\", \"2015-03-04\", \"2015-03-05\", \"2015-03-06\", \"2015-03-07\", \"2015-03-08\", \"2015-03-09\", \"2015-03-10\", \"2015-03-11\", \"2015-03-12\", \"2015-03-13\", \"2015-03-14\", \"2015-03-15\", \"2015-03-16\", \"2015-03-17\", \"2015-03-18\", \"2015-03-19\", \"2015-03-20\", \"2015-03-21\", \"2015-03-22\", \"2015-03-23\", \"2015-03-24\", \"2015-03-25\", \"2015-03-26\", \"2015-03-27\", \"2015-03-28\", \"2015-03-29\", \"2015-03-30\", \"2015-03-31\", \"2015-04-01\", \"2015-04-02\", \"2015-04-03\", \"2015-04-04\", \"2015-04-05\", \"2015-04-06\", \"2015-04-07\", \"2015-04-08\", \"2015-04-09\", \"2015-04-10\"], \"y\": [3.4642957217291612, 2.568390677142067, 2.8260647980743614, 3.692729520508881, 3.3311345934966017, 3.273537280151419, 3.1691933179310765, 3.599250071697433, 2.0538099466565622, 2.004178314218955, 1.72103208654498, 1.9531170975873788, 2.344953309349253, 3.5523764941922593, 5.127988604749265, 6.301418607178816, 7.039959123577141, 7.41098045332358, 7.336148835417967, 9.039745394557354, 8.33576842247923, 7.077016037776799, 6.687658993103239, 7.808474498587121, 6.786676051369737, 6.607881749735338, 6.326687108443514, 5.923847012853377, 6.736275252926124, 6.749200111405309, 6.157793860460358, 6.686730885573946, 7.653712724775664, 7.0937251428895225, 7.727319551717761, 6.654055071632966, 5.835112534269602, 6.033397275106723, 6.347804003905181, 7.994147964503522, 9.531311345675757, 9.734689125055306, 9.052733057060404, 9.263759070908257, 9.500210308330152, 9.596696082543515, 10.904266281313332, 11.17280011480239, 12.371393122681432, 12.043064633660931, 11.695038382445897, 12.675114709840022, 12.739822780268042, 12.741323472147407, 12.948913658564754, 12.10406622693471, 12.963465562365533, 11.804826099188585, 11.41571216806545, 8.992828535167884, 5.765858599993266, 6.831776137435595, 6.030836019283488, 6.268424312687254, 5.491496000149881, 3.9824306270325973, 4.990594485959985, 4.628968333855289, 4.754793600042687, 4.708709040528582, 3.532799567842402, 3.6986025420497475, 4.510975029055061, 5.082778122612071, 5.361930196410102, 5.289458230764506, 5.880321061802339, 5.690022291282027, 6.66597086423587, 7.912017878227944, 7.494752263290965, 8.357516412597375, 7.808313908173419, 7.327063247812445, 6.441622847071597, 5.073132142981256, 3.0823032603028495, 1.7790665779246395, 2.734142652166197, 3.5986857848920595, 5.494295977086375, 3.488550191755704, 2.993503870014965, 1.753917591558156, 2.70998459415356, 0.3693743436702883, 1.4692438085306903, 0.9330698677852948, -0.07216321398191938, -1.1731015674883798], \"type\": \"scatter\"}, {\"line\": {\"color\": \"rgba(50, 171, 96, 1.0)\", \"dash\": \"solid\", \"shape\": \"linear\", \"width\": 1.3}, \"mode\": \"lines\", \"name\": \"c\", \"text\": \"\", \"x\": [\"2015-01-01\", \"2015-01-02\", \"2015-01-03\", \"2015-01-04\", \"2015-01-05\", \"2015-01-06\", \"2015-01-07\", \"2015-01-08\", \"2015-01-09\", \"2015-01-10\", \"2015-01-11\", \"2015-01-12\", \"2015-01-13\", \"2015-01-14\", \"2015-01-15\", \"2015-01-16\", \"2015-01-17\", \"2015-01-18\", \"2015-01-19\", \"2015-01-20\", \"2015-01-21\", \"2015-01-22\", \"2015-01-23\", \"2015-01-24\", \"2015-01-25\", \"2015-01-26\", \"2015-01-27\", \"2015-01-28\", \"2015-01-29\", \"2015-01-30\", \"2015-01-31\", \"2015-02-01\", \"2015-02-02\", \"2015-02-03\", \"2015-02-04\", \"2015-02-05\", \"2015-02-06\", \"2015-02-07\", \"2015-02-08\", \"2015-02-09\", \"2015-02-10\", \"2015-02-11\", \"2015-02-12\", \"2015-02-13\", \"2015-02-14\", \"2015-02-15\", \"2015-02-16\", \"2015-02-17\", \"2015-02-18\", \"2015-02-19\", \"2015-02-20\", \"2015-02-21\", \"2015-02-22\", \"2015-02-23\", \"2015-02-24\", \"2015-02-25\", \"2015-02-26\", \"2015-02-27\", \"2015-02-28\", \"2015-03-01\", \"2015-03-02\", \"2015-03-03\", \"2015-03-04\", \"2015-03-05\", \"2015-03-06\", \"2015-03-07\", \"2015-03-08\", \"2015-03-09\", \"2015-03-10\", \"2015-03-11\", \"2015-03-12\", \"2015-03-13\", \"2015-03-14\", \"2015-03-15\", \"2015-03-16\", \"2015-03-17\", \"2015-03-18\", \"2015-03-19\", \"2015-03-20\", \"2015-03-21\", \"2015-03-22\", \"2015-03-23\", \"2015-03-24\", \"2015-03-25\", \"2015-03-26\", \"2015-03-27\", \"2015-03-28\", \"2015-03-29\", \"2015-03-30\", \"2015-03-31\", \"2015-04-01\", \"2015-04-02\", \"2015-04-03\", \"2015-04-04\", \"2015-04-05\", \"2015-04-06\", \"2015-04-07\", \"2015-04-08\", \"2015-04-09\", \"2015-04-10\"], \"y\": [-0.6057204401198547, -0.3121152665794304, 0.1764762997166081, 1.506985701243971, 0.8478963652695037, 2.8316261943870327, 3.7280465601324364, 3.587342294433903, 3.2099566735430405, 3.9624768880061456, 3.9796700655850326, 2.2860600614344024, 3.49251127949013, 4.735185027924502, 5.165423236404341, 3.2179855976920146, 3.765264293442572, 4.404321457569491, 3.417367951593433, 1.045372189479071, 1.2757400265818954, 1.9665208480406489, 1.9554405733363678, 2.006706185989172, 1.11415866011267, -0.5391606433839957, 0.35897544301890516, -1.0341685586938458, -0.21642998640538158, -1.1305248204348646, -0.930423673503159, -1.5238480977150697, 0.11603389411617182, -0.35814179819309355, -1.2485486698742736, -0.36952947631199695, -1.019803991381163, 0.38619356044811437, 0.39304271177556205, 0.1824161208625873, 1.2231562730653085, 1.128607267338664, 1.4612926614602735, 1.5253562051298635, 2.564239171805544, 2.3401103148834133, 3.2717387440008254, 2.932622605989629, 3.1603258912555856, 3.053533812270557, 3.188864072464192, 3.216812952924035, 3.3312128664076983, 3.4365156908721284, 2.748760540772483, 1.7655281297677643, 1.2767157398159243, 1.7177914543000223, 2.3547866424204216, 2.3599992761324797, 1.6666479696750378, 1.686659158478908, 2.7926385123341495, 2.8715806378529742, 3.2478842970490587, 4.8936830985410955, 4.884709521857007, 4.237772930955689, 3.827103865094673, 2.547251894305706, 3.1606267738169063, 3.886127289881828, 3.0546196749476113, 2.5652476510128417, 1.3753286768318171, 1.4246223336440724, -0.18813487999514722, -0.27450963821281626, 0.5708817706160663, 0.7369646678952815, -1.0125746190201168, -0.523334163898741, -0.3793474343490889, 0.47979561537290194, 1.7672508615499276, 1.0598401286093266, 0.6370962457014191, 1.053706190150857, 0.4917424881141792, -0.006286149073820524, -1.0884724452986423, 0.29704565624360413, 0.06479534939067874, -0.9952229625150033, -1.256504945703485, -1.0034397835475808, -0.3555499705166216, -2.006576666150914, -1.5723436678448426, -1.5849161925084612], \"type\": \"scatter\"}], {\"legend\": {\"bgcolor\": \"#F5F6F9\", \"font\": {\"color\": \"#4D5663\"}}, \"paper_bgcolor\": \"#F5F6F9\", \"plot_bgcolor\": \"#F5F6F9\", \"yaxis\": {\"tickfont\": {\"color\": \"#4D5663\"}, \"gridcolor\": \"#E1E5ED\", \"titlefont\": {\"color\": \"#4D5663\"}, \"zerolinecolor\": \"#E1E5ED\", \"showgrid\": true, \"title\": \"\"}, \"xaxis\": {\"tickfont\": {\"color\": \"#4D5663\"}, \"gridcolor\": \"#E1E5ED\", \"titlefont\": {\"color\": \"#4D5663\"}, \"zerolinecolor\": \"#E1E5ED\", \"showgrid\": true, \"title\": \"\"}, \"titlefont\": {\"color\": \"#4D5663\"}, \"shapes\": [{\"x0\": \"2015-02-15\", \"y0\": 0, \"x1\": \"2015-03-15\", \"y1\": 1, \"line\": {\"color\": \"#BBBBBB\", \"width\": 1, \"dash\": \"solid\"}, \"xref\": \"x\", \"yref\": \"paper\", \"type\": \"rect\", \"fillcolor\": \"rgba(187, 187, 187, 0.4)\"}]}, {\"showLink\": true, \"linkText\": \"Export to plot.ly\", \"plotlyServerURL\": \"https://plot.ly\"})});</script><script type=\"text/javascript\">window.addEventListener(\"resize\", function(){window._Plotly.Plots.resize(document.getElementById(\"234ca487-f01e-4b0d-8648-637a18bd17e6\"));});</script>"
            ],
            "application/vnd.plotly.v1+json": {
              "layout": {
                "yaxis": {
                  "tickfont": {
                    "color": "#4D5663"
                  },
                  "title": "",
                  "showgrid": true,
                  "zerolinecolor": "#E1E5ED",
                  "titlefont": {
                    "color": "#4D5663"
                  },
                  "gridcolor": "#E1E5ED"
                },
                "paper_bgcolor": "#F5F6F9",
                "plot_bgcolor": "#F5F6F9",
                "shapes": [
                  {
                    "xref": "x",
                    "yref": "paper",
                    "fillcolor": "rgba(187, 187, 187, 0.4)",
                    "y1": 1,
                    "y0": 0,
                    "x0": "2015-02-15",
                    "x1": "2015-03-15",
                    "type": "rect",
                    "line": {
                      "color": "#BBBBBB",
                      "width": 1,
                      "dash": "solid"
                    }
                  }
                ],
                "titlefont": {
                  "color": "#4D5663"
                },
                "xaxis": {
                  "tickfont": {
                    "color": "#4D5663"
                  },
                  "title": "",
                  "showgrid": true,
                  "zerolinecolor": "#E1E5ED",
                  "titlefont": {
                    "color": "#4D5663"
                  },
                  "gridcolor": "#E1E5ED"
                },
                "legend": {
                  "bgcolor": "#F5F6F9",
                  "font": {
                    "color": "#4D5663"
                  }
                }
              },
              "config": {
                "plotlyServerURL": "https://plot.ly",
                "linkText": "Export to plot.ly",
                "showLink": true
              },
              "data": [
                {
                  "name": "a",
                  "text": "",
                  "mode": "lines",
                  "y": [
                    -0.20844676820993135,
                    -2.2342593717602437,
                    -2.389788775389993,
                    -2.04528766513028,
                    -1.68240546024974,
                    -0.5047847131122738,
                    -1.8084855891503635,
                    -1.0996222372141058,
                    -1.439119215767809,
                    -1.5884212334726375,
                    -3.5456091404162704,
                    -2.6505419146407805,
                    -0.6707461479163783,
                    -1.8151822625520033,
                    -1.5011595320327427,
                    -0.7803529057597445,
                    -0.8285133501635139,
                    -0.3070626832718556,
                    1.829191000095609,
                    1.699456607440343,
                    1.2617992266675406,
                    1.2580247549967305,
                    0.4572674906937553,
                    0.5636312169737889,
                    0.551372651253724,
                    -0.07787422577103287,
                    -1.503066142418684,
                    -1.4999460652318626,
                    -1.4881751005017,
                    -2.1248431932397565,
                    -1.1214192782559738,
                    -0.34596208358463365,
                    -1.7410710158224507,
                    -2.604331928041557,
                    -2.4316760817068896,
                    -3.393346594733439,
                    -3.533473039596347,
                    -3.087220591580506,
                    -0.8164288400697131,
                    -1.7230354425759873,
                    -2.709277361314143,
                    -3.5667304549774337,
                    -2.409002855753911,
                    -2.2961735003884933,
                    -2.842275825499258,
                    -4.099785915566374,
                    -5.227096561833035,
                    -3.4551539642831637,
                    -2.726962481254154,
                    -1.5955054015569208,
                    -1.7457005895551785,
                    -0.9057338911049843,
                    0.159035712935636,
                    -0.7374028209683005,
                    0.5525697811757152,
                    -0.6579267380380273,
                    -0.9311916724025301,
                    -0.84557808215489,
                    0.5751642178344948,
                    2.0331497635790634,
                    3.4985742218694904,
                    3.260470855643308,
                    4.160998898586938,
                    3.0996622864207546,
                    4.0227603881650875,
                    5.106622090245697,
                    4.842897376096787,
                    4.092199486361868,
                    2.6833275671169936,
                    1.4648723232282024,
                    1.3824174135388634,
                    2.5499901582771214,
                    3.104721292861093,
                    4.907848949727633,
                    2.845845883832848,
                    3.2651621422765786,
                    1.6261185600521484,
                    1.4772414045176274,
                    0.8408097113632859,
                    0.03979407066506446,
                    -0.31700565303184736,
                    -1.257440271108936,
                    -2.1449334728958482,
                    -5.08376021313218,
                    -7.373774818589999,
                    -7.139949789942167,
                    -7.417943416202092,
                    -8.128686807691142,
                    -8.130618613939687,
                    -8.936922599309373,
                    -8.773908451589028,
                    -9.068858223982401,
                    -8.89181463681302,
                    -9.196575204002391,
                    -10.415968692700037,
                    -10.104376312537031,
                    -9.777147902497456,
                    -8.42382132294467,
                    -7.436621247914932,
                    -9.301583233671128
                  ],
                  "x": [
                    "2015-01-01",
                    "2015-01-02",
                    "2015-01-03",
                    "2015-01-04",
                    "2015-01-05",
                    "2015-01-06",
                    "2015-01-07",
                    "2015-01-08",
                    "2015-01-09",
                    "2015-01-10",
                    "2015-01-11",
                    "2015-01-12",
                    "2015-01-13",
                    "2015-01-14",
                    "2015-01-15",
                    "2015-01-16",
                    "2015-01-17",
                    "2015-01-18",
                    "2015-01-19",
                    "2015-01-20",
                    "2015-01-21",
                    "2015-01-22",
                    "2015-01-23",
                    "2015-01-24",
                    "2015-01-25",
                    "2015-01-26",
                    "2015-01-27",
                    "2015-01-28",
                    "2015-01-29",
                    "2015-01-30",
                    "2015-01-31",
                    "2015-02-01",
                    "2015-02-02",
                    "2015-02-03",
                    "2015-02-04",
                    "2015-02-05",
                    "2015-02-06",
                    "2015-02-07",
                    "2015-02-08",
                    "2015-02-09",
                    "2015-02-10",
                    "2015-02-11",
                    "2015-02-12",
                    "2015-02-13",
                    "2015-02-14",
                    "2015-02-15",
                    "2015-02-16",
                    "2015-02-17",
                    "2015-02-18",
                    "2015-02-19",
                    "2015-02-20",
                    "2015-02-21",
                    "2015-02-22",
                    "2015-02-23",
                    "2015-02-24",
                    "2015-02-25",
                    "2015-02-26",
                    "2015-02-27",
                    "2015-02-28",
                    "2015-03-01",
                    "2015-03-02",
                    "2015-03-03",
                    "2015-03-04",
                    "2015-03-05",
                    "2015-03-06",
                    "2015-03-07",
                    "2015-03-08",
                    "2015-03-09",
                    "2015-03-10",
                    "2015-03-11",
                    "2015-03-12",
                    "2015-03-13",
                    "2015-03-14",
                    "2015-03-15",
                    "2015-03-16",
                    "2015-03-17",
                    "2015-03-18",
                    "2015-03-19",
                    "2015-03-20",
                    "2015-03-21",
                    "2015-03-22",
                    "2015-03-23",
                    "2015-03-24",
                    "2015-03-25",
                    "2015-03-26",
                    "2015-03-27",
                    "2015-03-28",
                    "2015-03-29",
                    "2015-03-30",
                    "2015-03-31",
                    "2015-04-01",
                    "2015-04-02",
                    "2015-04-03",
                    "2015-04-04",
                    "2015-04-05",
                    "2015-04-06",
                    "2015-04-07",
                    "2015-04-08",
                    "2015-04-09",
                    "2015-04-10"
                  ],
                  "line": {
                    "color": "rgba(255, 153, 51, 1.0)",
                    "dash": "solid",
                    "shape": "linear",
                    "width": 1.3
                  },
                  "type": "scatter"
                },
                {
                  "name": "b",
                  "text": "",
                  "mode": "lines",
                  "y": [
                    3.4642957217291612,
                    2.568390677142067,
                    2.8260647980743614,
                    3.692729520508881,
                    3.3311345934966017,
                    3.273537280151419,
                    3.1691933179310765,
                    3.599250071697433,
                    2.0538099466565622,
                    2.004178314218955,
                    1.72103208654498,
                    1.9531170975873788,
                    2.344953309349253,
                    3.5523764941922593,
                    5.127988604749265,
                    6.301418607178816,
                    7.039959123577141,
                    7.41098045332358,
                    7.336148835417967,
                    9.039745394557354,
                    8.33576842247923,
                    7.077016037776799,
                    6.687658993103239,
                    7.808474498587121,
                    6.786676051369737,
                    6.607881749735338,
                    6.326687108443514,
                    5.923847012853377,
                    6.736275252926124,
                    6.749200111405309,
                    6.157793860460358,
                    6.686730885573946,
                    7.653712724775664,
                    7.0937251428895225,
                    7.727319551717761,
                    6.654055071632966,
                    5.835112534269602,
                    6.033397275106723,
                    6.347804003905181,
                    7.994147964503522,
                    9.531311345675757,
                    9.734689125055306,
                    9.052733057060404,
                    9.263759070908257,
                    9.500210308330152,
                    9.596696082543515,
                    10.904266281313332,
                    11.17280011480239,
                    12.371393122681432,
                    12.043064633660931,
                    11.695038382445897,
                    12.675114709840022,
                    12.739822780268042,
                    12.741323472147407,
                    12.948913658564754,
                    12.10406622693471,
                    12.963465562365533,
                    11.804826099188585,
                    11.41571216806545,
                    8.992828535167884,
                    5.765858599993266,
                    6.831776137435595,
                    6.030836019283488,
                    6.268424312687254,
                    5.491496000149881,
                    3.9824306270325973,
                    4.990594485959985,
                    4.628968333855289,
                    4.754793600042687,
                    4.708709040528582,
                    3.532799567842402,
                    3.6986025420497475,
                    4.510975029055061,
                    5.082778122612071,
                    5.361930196410102,
                    5.289458230764506,
                    5.880321061802339,
                    5.690022291282027,
                    6.66597086423587,
                    7.912017878227944,
                    7.494752263290965,
                    8.357516412597375,
                    7.808313908173419,
                    7.327063247812445,
                    6.441622847071597,
                    5.073132142981256,
                    3.0823032603028495,
                    1.7790665779246395,
                    2.734142652166197,
                    3.5986857848920595,
                    5.494295977086375,
                    3.488550191755704,
                    2.993503870014965,
                    1.753917591558156,
                    2.70998459415356,
                    0.3693743436702883,
                    1.4692438085306903,
                    0.9330698677852948,
                    -0.07216321398191938,
                    -1.1731015674883798
                  ],
                  "x": [
                    "2015-01-01",
                    "2015-01-02",
                    "2015-01-03",
                    "2015-01-04",
                    "2015-01-05",
                    "2015-01-06",
                    "2015-01-07",
                    "2015-01-08",
                    "2015-01-09",
                    "2015-01-10",
                    "2015-01-11",
                    "2015-01-12",
                    "2015-01-13",
                    "2015-01-14",
                    "2015-01-15",
                    "2015-01-16",
                    "2015-01-17",
                    "2015-01-18",
                    "2015-01-19",
                    "2015-01-20",
                    "2015-01-21",
                    "2015-01-22",
                    "2015-01-23",
                    "2015-01-24",
                    "2015-01-25",
                    "2015-01-26",
                    "2015-01-27",
                    "2015-01-28",
                    "2015-01-29",
                    "2015-01-30",
                    "2015-01-31",
                    "2015-02-01",
                    "2015-02-02",
                    "2015-02-03",
                    "2015-02-04",
                    "2015-02-05",
                    "2015-02-06",
                    "2015-02-07",
                    "2015-02-08",
                    "2015-02-09",
                    "2015-02-10",
                    "2015-02-11",
                    "2015-02-12",
                    "2015-02-13",
                    "2015-02-14",
                    "2015-02-15",
                    "2015-02-16",
                    "2015-02-17",
                    "2015-02-18",
                    "2015-02-19",
                    "2015-02-20",
                    "2015-02-21",
                    "2015-02-22",
                    "2015-02-23",
                    "2015-02-24",
                    "2015-02-25",
                    "2015-02-26",
                    "2015-02-27",
                    "2015-02-28",
                    "2015-03-01",
                    "2015-03-02",
                    "2015-03-03",
                    "2015-03-04",
                    "2015-03-05",
                    "2015-03-06",
                    "2015-03-07",
                    "2015-03-08",
                    "2015-03-09",
                    "2015-03-10",
                    "2015-03-11",
                    "2015-03-12",
                    "2015-03-13",
                    "2015-03-14",
                    "2015-03-15",
                    "2015-03-16",
                    "2015-03-17",
                    "2015-03-18",
                    "2015-03-19",
                    "2015-03-20",
                    "2015-03-21",
                    "2015-03-22",
                    "2015-03-23",
                    "2015-03-24",
                    "2015-03-25",
                    "2015-03-26",
                    "2015-03-27",
                    "2015-03-28",
                    "2015-03-29",
                    "2015-03-30",
                    "2015-03-31",
                    "2015-04-01",
                    "2015-04-02",
                    "2015-04-03",
                    "2015-04-04",
                    "2015-04-05",
                    "2015-04-06",
                    "2015-04-07",
                    "2015-04-08",
                    "2015-04-09",
                    "2015-04-10"
                  ],
                  "line": {
                    "color": "rgba(55, 128, 191, 1.0)",
                    "dash": "solid",
                    "shape": "linear",
                    "width": 1.3
                  },
                  "type": "scatter"
                },
                {
                  "name": "c",
                  "text": "",
                  "mode": "lines",
                  "y": [
                    -0.6057204401198547,
                    -0.3121152665794304,
                    0.1764762997166081,
                    1.506985701243971,
                    0.8478963652695037,
                    2.8316261943870327,
                    3.7280465601324364,
                    3.587342294433903,
                    3.2099566735430405,
                    3.9624768880061456,
                    3.9796700655850326,
                    2.2860600614344024,
                    3.49251127949013,
                    4.735185027924502,
                    5.165423236404341,
                    3.2179855976920146,
                    3.765264293442572,
                    4.404321457569491,
                    3.417367951593433,
                    1.045372189479071,
                    1.2757400265818954,
                    1.9665208480406489,
                    1.9554405733363678,
                    2.006706185989172,
                    1.11415866011267,
                    -0.5391606433839957,
                    0.35897544301890516,
                    -1.0341685586938458,
                    -0.21642998640538158,
                    -1.1305248204348646,
                    -0.930423673503159,
                    -1.5238480977150697,
                    0.11603389411617182,
                    -0.35814179819309355,
                    -1.2485486698742736,
                    -0.36952947631199695,
                    -1.019803991381163,
                    0.38619356044811437,
                    0.39304271177556205,
                    0.1824161208625873,
                    1.2231562730653085,
                    1.128607267338664,
                    1.4612926614602735,
                    1.5253562051298635,
                    2.564239171805544,
                    2.3401103148834133,
                    3.2717387440008254,
                    2.932622605989629,
                    3.1603258912555856,
                    3.053533812270557,
                    3.188864072464192,
                    3.216812952924035,
                    3.3312128664076983,
                    3.4365156908721284,
                    2.748760540772483,
                    1.7655281297677643,
                    1.2767157398159243,
                    1.7177914543000223,
                    2.3547866424204216,
                    2.3599992761324797,
                    1.6666479696750378,
                    1.686659158478908,
                    2.7926385123341495,
                    2.8715806378529742,
                    3.2478842970490587,
                    4.8936830985410955,
                    4.884709521857007,
                    4.237772930955689,
                    3.827103865094673,
                    2.547251894305706,
                    3.1606267738169063,
                    3.886127289881828,
                    3.0546196749476113,
                    2.5652476510128417,
                    1.3753286768318171,
                    1.4246223336440724,
                    -0.18813487999514722,
                    -0.27450963821281626,
                    0.5708817706160663,
                    0.7369646678952815,
                    -1.0125746190201168,
                    -0.523334163898741,
                    -0.3793474343490889,
                    0.47979561537290194,
                    1.7672508615499276,
                    1.0598401286093266,
                    0.6370962457014191,
                    1.053706190150857,
                    0.4917424881141792,
                    -0.006286149073820524,
                    -1.0884724452986423,
                    0.29704565624360413,
                    0.06479534939067874,
                    -0.9952229625150033,
                    -1.256504945703485,
                    -1.0034397835475808,
                    -0.3555499705166216,
                    -2.006576666150914,
                    -1.5723436678448426,
                    -1.5849161925084612
                  ],
                  "x": [
                    "2015-01-01",
                    "2015-01-02",
                    "2015-01-03",
                    "2015-01-04",
                    "2015-01-05",
                    "2015-01-06",
                    "2015-01-07",
                    "2015-01-08",
                    "2015-01-09",
                    "2015-01-10",
                    "2015-01-11",
                    "2015-01-12",
                    "2015-01-13",
                    "2015-01-14",
                    "2015-01-15",
                    "2015-01-16",
                    "2015-01-17",
                    "2015-01-18",
                    "2015-01-19",
                    "2015-01-20",
                    "2015-01-21",
                    "2015-01-22",
                    "2015-01-23",
                    "2015-01-24",
                    "2015-01-25",
                    "2015-01-26",
                    "2015-01-27",
                    "2015-01-28",
                    "2015-01-29",
                    "2015-01-30",
                    "2015-01-31",
                    "2015-02-01",
                    "2015-02-02",
                    "2015-02-03",
                    "2015-02-04",
                    "2015-02-05",
                    "2015-02-06",
                    "2015-02-07",
                    "2015-02-08",
                    "2015-02-09",
                    "2015-02-10",
                    "2015-02-11",
                    "2015-02-12",
                    "2015-02-13",
                    "2015-02-14",
                    "2015-02-15",
                    "2015-02-16",
                    "2015-02-17",
                    "2015-02-18",
                    "2015-02-19",
                    "2015-02-20",
                    "2015-02-21",
                    "2015-02-22",
                    "2015-02-23",
                    "2015-02-24",
                    "2015-02-25",
                    "2015-02-26",
                    "2015-02-27",
                    "2015-02-28",
                    "2015-03-01",
                    "2015-03-02",
                    "2015-03-03",
                    "2015-03-04",
                    "2015-03-05",
                    "2015-03-06",
                    "2015-03-07",
                    "2015-03-08",
                    "2015-03-09",
                    "2015-03-10",
                    "2015-03-11",
                    "2015-03-12",
                    "2015-03-13",
                    "2015-03-14",
                    "2015-03-15",
                    "2015-03-16",
                    "2015-03-17",
                    "2015-03-18",
                    "2015-03-19",
                    "2015-03-20",
                    "2015-03-21",
                    "2015-03-22",
                    "2015-03-23",
                    "2015-03-24",
                    "2015-03-25",
                    "2015-03-26",
                    "2015-03-27",
                    "2015-03-28",
                    "2015-03-29",
                    "2015-03-30",
                    "2015-03-31",
                    "2015-04-01",
                    "2015-04-02",
                    "2015-04-03",
                    "2015-04-04",
                    "2015-04-05",
                    "2015-04-06",
                    "2015-04-07",
                    "2015-04-08",
                    "2015-04-09",
                    "2015-04-10"
                  ],
                  "line": {
                    "color": "rgba(50, 171, 96, 1.0)",
                    "dash": "solid",
                    "shape": "linear",
                    "width": 1.3
                  },
                  "type": "scatter"
                }
              ]
            }
          },
          "metadata": {
            "tags": []
          }
        }
      ]
    },
    {
      "cell_type": "code",
      "metadata": {
        "id": "Y3sSBrQwpdMW",
        "colab_type": "code",
        "colab": {}
      },
      "source": [
        ""
      ],
      "execution_count": 0,
      "outputs": []
    }
  ]
}