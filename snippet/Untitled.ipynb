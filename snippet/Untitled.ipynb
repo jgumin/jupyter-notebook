{
 "cells": [
  {
   "cell_type": "code",
   "execution_count": 1,
   "metadata": {},
   "outputs": [],
   "source": [
    "# 노트북 안에서 그래프를 그리기 위해\n",
    "%matplotlib inline\n",
    "# %matplotlib nbagg\n",
    "    \n",
    "import pandas as pd\n",
    "import numpy as np\n",
    "import matplotlib.pyplot as plt\n",
    "import seaborn as sns\n",
    "plt.rcParams['figure.figsize'] = [10, 6]\n",
    "\n",
    "\n",
    "# Suppress Deprecation and Incorrect Usage Warnings \n",
    "import warnings\n",
    "warnings.filterwarnings('ignore')\n",
    "\n",
    "# #  display two pandas tables side by side\n",
    "# from IPython.display import display, HTML\n",
    "# CSS = \"\"\"\n",
    "# .output {\n",
    "#     flex-direction: row;\n",
    "# }\n",
    "# \"\"\"\n",
    "# HTML('<style>{}</style>'.format(CSS))\n",
    "\n",
    "\n",
    "# 기본 글꼴 변경\n",
    "import matplotlib as mpl\n",
    "mpl.font_manager._rebuild()\n",
    "mpl.pyplot.rc('font', family='NanumBarunGothic')\n",
    "\n",
    "# allow multiple outputs\n",
    "# from IPython.core.interactiveshell import InteractiveShell\n",
    "# InteractiveShell.ast_node_interactivity = \"all\"\n",
    "\n",
    "# allow image input\n",
    "from IPython.display import Image"
   ]
  },
  {
   "cell_type": "code",
   "execution_count": 2,
   "metadata": {},
   "outputs": [
    {
     "name": "stdout",
     "output_type": "stream",
     "text": [
      "3.10.0\n"
     ]
    },
    {
     "data": {
      "text/html": [
       "        <script type=\"text/javascript\">\n",
       "        window.PlotlyConfig = {MathJaxConfig: 'local'};\n",
       "        if (window.MathJax) {MathJax.Hub.Config({SVG: {font: \"STIX-Web\"}});}\n",
       "        if (typeof require !== 'undefined') {\n",
       "        require.undef(\"plotly\");\n",
       "        requirejs.config({\n",
       "            paths: {\n",
       "                'plotly': ['https://cdn.plot.ly/plotly-latest.min']\n",
       "            }\n",
       "        });\n",
       "        require(['plotly'], function(Plotly) {\n",
       "            window._Plotly = Plotly;\n",
       "        });\n",
       "        }\n",
       "        </script>\n",
       "        "
      ]
     },
     "metadata": {},
     "output_type": "display_data"
    },
    {
     "data": {
      "text/html": [
       "        <script type=\"text/javascript\">\n",
       "        window.PlotlyConfig = {MathJaxConfig: 'local'};\n",
       "        if (window.MathJax) {MathJax.Hub.Config({SVG: {font: \"STIX-Web\"}});}\n",
       "        if (typeof require !== 'undefined') {\n",
       "        require.undef(\"plotly\");\n",
       "        requirejs.config({\n",
       "            paths: {\n",
       "                'plotly': ['https://cdn.plot.ly/plotly-latest.min']\n",
       "            }\n",
       "        });\n",
       "        require(['plotly'], function(Plotly) {\n",
       "            window._Plotly = Plotly;\n",
       "        });\n",
       "        }\n",
       "        </script>\n",
       "        "
      ]
     },
     "metadata": {},
     "output_type": "display_data"
    },
    {
     "data": {
      "text/html": [
       "        <script type=\"text/javascript\">\n",
       "        window.PlotlyConfig = {MathJaxConfig: 'local'};\n",
       "        if (window.MathJax) {MathJax.Hub.Config({SVG: {font: \"STIX-Web\"}});}\n",
       "        if (typeof require !== 'undefined') {\n",
       "        require.undef(\"plotly\");\n",
       "        requirejs.config({\n",
       "            paths: {\n",
       "                'plotly': ['https://cdn.plot.ly/plotly-latest.min']\n",
       "            }\n",
       "        });\n",
       "        require(['plotly'], function(Plotly) {\n",
       "            window._Plotly = Plotly;\n",
       "        });\n",
       "        }\n",
       "        </script>\n",
       "        "
      ]
     },
     "metadata": {},
     "output_type": "display_data"
    },
    {
     "data": {
      "text/html": [
       "        <script type=\"text/javascript\">\n",
       "        window.PlotlyConfig = {MathJaxConfig: 'local'};\n",
       "        if (window.MathJax) {MathJax.Hub.Config({SVG: {font: \"STIX-Web\"}});}\n",
       "        if (typeof require !== 'undefined') {\n",
       "        require.undef(\"plotly\");\n",
       "        requirejs.config({\n",
       "            paths: {\n",
       "                'plotly': ['https://cdn.plot.ly/plotly-latest.min']\n",
       "            }\n",
       "        });\n",
       "        require(['plotly'], function(Plotly) {\n",
       "            window._Plotly = Plotly;\n",
       "        });\n",
       "        }\n",
       "        </script>\n",
       "        "
      ]
     },
     "metadata": {},
     "output_type": "display_data"
    }
   ],
   "source": [
    "from plotly import __version__\n",
    "print (__version__)\n",
    "import plotly\n",
    "import plotly.plotly as py\n",
    "import plotly.graph_objs as go\n",
    "import plotly.figure_factory as ff\n",
    "\n",
    "# Cufflinks wrapper on plotly\n",
    "import cufflinks as cf\n",
    "\n",
    "# Display all cell outputs\n",
    "from IPython.core.interactiveshell import InteractiveShell\n",
    "\n",
    "# plotly + cufflinks in offline mode\n",
    "from plotly.offline import download_plotlyjs, init_notebook_mode, plot, iplot\n",
    "cf.go_offline()\n",
    "\n",
    "# set the global theme\n",
    "cf.set_config_file(world_readable=True, theme='pearl', offline=True)\n",
    "\n",
    "# Jupyter setup\n",
    "init_notebook_mode(connected=True)\n",
    "\n",
    "import ipywidgets as widgets"
   ]
  },
  {
   "cell_type": "code",
   "execution_count": 14,
   "metadata": {},
   "outputs": [
    {
     "name": "stdout",
     "output_type": "stream",
     "text": [
      "This is the format of your plot grid:\n",
      "[ (1,1) x1,y1 ]  [ (1,2) x2,y2 ]\n",
      "\n"
     ]
    },
    {
     "data": {
      "application/vnd.plotly.v1+json": {
       "config": {
        "linkText": "Export to plot.ly",
        "plotlyServerURL": "https://plot.ly",
        "showLink": false
       },
       "data": [
        {
         "mode": "markers+text",
         "text": [
          "Text A",
          "Text B",
          "Text C"
         ],
         "textposition": "bottom center",
         "type": "scatter",
         "uid": "2df19688-8957-4b40-b252-99cf3900c1f1",
         "x": [
          1,
          2,
          3
         ],
         "xaxis": "x",
         "y": [
          4,
          5,
          6
         ],
         "yaxis": "y"
        },
        {
         "mode": "markers+text",
         "text": [
          "Text D",
          "Text E",
          "Text F"
         ],
         "textposition": "bottom center",
         "type": "scatter",
         "uid": "ef88c854-130c-489c-85ca-091bfcc4e613",
         "x": [
          20,
          30,
          40
         ],
         "xaxis": "x2",
         "y": [
          50,
          60,
          70
         ],
         "yaxis": "y2"
        }
       ],
       "layout": {
        "autosize": true,
        "xaxis": {
         "anchor": "y",
         "autorange": true,
         "domain": [
          0,
          0.45
         ],
         "range": [
          0.8680096211665664,
          3.1319903788334336
         ],
         "type": "linear"
        },
        "xaxis2": {
         "anchor": "y2",
         "autorange": true,
         "domain": [
          0.55,
          1
         ],
         "range": [
          18.680096211665663,
          41.31990378833434
         ],
         "type": "linear"
        },
        "yaxis": {
         "anchor": "x",
         "autorange": true,
         "domain": [
          0,
          1
         ],
         "range": [
          3.8556618819776713,
          6.144338118022328
         ],
         "type": "linear"
        },
        "yaxis2": {
         "anchor": "x2",
         "autorange": true,
         "domain": [
          0,
          1
         ],
         "range": [
          48.556618819776716,
          71.44338118022328
         ],
         "type": "linear"
        }
       }
      },
      "image/png": "[encoded data removed]",
      "text/html": [
       "<div>\n",
       "        \n",
       "        \n",
       "            <div id=\"6fc32d9b-f08f-4243-8cc5-a13d6aec296c\" class=\"plotly-graph-div\" style=\"height:525px; width:100%;\"></div>\n",
       "            <script type=\"text/javascript\">\n",
       "                require([\"plotly\"], function(Plotly) {\n",
       "                    window.PLOTLYENV=window.PLOTLYENV || {};\n",
       "                    window.PLOTLYENV.BASE_URL='https://plot.ly';\n",
       "                    \n",
       "                if (document.getElementById(\"6fc32d9b-f08f-4243-8cc5-a13d6aec296c\")) {\n",
       "                    Plotly.newPlot(\n",
       "                        '6fc32d9b-f08f-4243-8cc5-a13d6aec296c',\n",
       "                        [{\"mode\": \"markers+text\", \"text\": [\"Text A\", \"Text B\", \"Text C\"], \"textposition\": \"bottom center\", \"type\": \"scatter\", \"uid\": \"2df19688-8957-4b40-b252-99cf3900c1f1\", \"x\": [1, 2, 3], \"xaxis\": \"x\", \"y\": [4, 5, 6], \"yaxis\": \"y\"}, {\"mode\": \"markers+text\", \"text\": [\"Text D\", \"Text E\", \"Text F\"], \"textposition\": \"bottom center\", \"type\": \"scatter\", \"uid\": \"ef88c854-130c-489c-85ca-091bfcc4e613\", \"x\": [20, 30, 40], \"xaxis\": \"x2\", \"y\": [50, 60, 70], \"yaxis\": \"y2\"}],\n",
       "                        {\"xaxis\": {\"anchor\": \"y\", \"domain\": [0.0, 0.45]}, \"xaxis2\": {\"anchor\": \"y2\", \"domain\": [0.55, 1.0]}, \"yaxis\": {\"anchor\": \"x\", \"domain\": [0.0, 1.0]}, \"yaxis2\": {\"anchor\": \"x2\", \"domain\": [0.0, 1.0]}},\n",
       "                        {\"showLink\": false, \"linkText\": \"Export to plot.ly\", \"plotlyServerURL\": \"https://plot.ly\", \"responsive\": true}\n",
       "                    ).then(function(){\n",
       "                            \n",
       "var gd = document.getElementById('6fc32d9b-f08f-4243-8cc5-a13d6aec296c');\n",
       "var x = new MutationObserver(function (mutations, observer) {{\n",
       "        var display = window.getComputedStyle(gd).display;\n",
       "        if (!display || display === 'none') {{\n",
       "            console.log([gd, 'removed!']);\n",
       "            Plotly.purge(gd);\n",
       "            observer.disconnect();\n",
       "        }}\n",
       "}});\n",
       "\n",
       "// Listen for the removal of the full notebook cells\n",
       "var notebookContainer = gd.closest('#notebook-container');\n",
       "if (notebookContainer) {{\n",
       "    x.observe(notebookContainer, {childList: true});\n",
       "}}\n",
       "\n",
       "// Listen for the clearing of the current output cell\n",
       "var outputEl = gd.closest('.output');\n",
       "if (outputEl) {{\n",
       "    x.observe(outputEl, {childList: true});\n",
       "}}\n",
       "\n",
       "                        })\n",
       "                };\n",
       "                });\n",
       "            </script>\n",
       "        </div>"
      ]
     },
     "metadata": {},
     "output_type": "display_data"
    }
   ],
   "source": [
    "from plotly import tools\n",
    "trace1 = go.Scatter(\n",
    "    x=[1, 2, 3],\n",
    "    y=[4, 5, 6],\n",
    "    mode='markers+text',\n",
    "    text=['Text A', 'Text B', 'Text C'],\n",
    "    textposition='bottom center'\n",
    ")\n",
    "\n",
    "trace2 = go.Scatter(\n",
    "    x=[20, 30, 40],\n",
    "    y=[50, 60, 70],\n",
    "    mode='markers+text',\n",
    "    text=['Text D', 'Text E', 'Text F'],\n",
    "    textposition='bottom center'\n",
    ")\n",
    "\n",
    "fig = tools.make_subplots(rows=1, cols=2)\n",
    "\n",
    "fig.append_trace(trace1, 1, 1)\n",
    "fig.append_trace(trace2, 1, 2)\n",
    "\n",
    "# fig['layout'].update(height=600, width=800, \n",
    "#                      title='i <3 annotations and subplots')\n",
    "iplot(fig, filename='simple-subplot-with-annotations')"
   ]
  },
  {
   "cell_type": "code",
   "execution_count": 13,
   "metadata": {},
   "outputs": [
    {
     "data": {
      "application/vnd.plotly.v1+json": {
       "config": {
        "linkText": "Export to plot.ly",
        "plotlyServerURL": "https://plot.ly",
        "showLink": false
       },
       "data": [
        {
         "type": "scatter",
         "uid": "bf2965d3-0bb7-4aac-8f1f-a073a0861ddb",
         "x": [
          1,
          2,
          3
         ],
         "y": [
          4,
          5,
          6
         ]
        },
        {
         "type": "scatter",
         "uid": "3421b370-1b36-49be-8ac6-b637af940caf",
         "x": [
          20,
          30,
          40
         ],
         "xaxis": "x2",
         "y": [
          50,
          60,
          70
         ],
         "yaxis": "y2"
        },
        {
         "type": "scatter",
         "uid": "1f7ba851-2e38-495a-8d33-12642a2869f1",
         "x": [
          300,
          400,
          500
         ],
         "xaxis": "x3",
         "y": [
          600,
          700,
          800
         ],
         "yaxis": "y3"
        },
        {
         "type": "scatter",
         "uid": "c28aa3e4-cf96-4926-9b0a-764beb44c383",
         "x": [
          4000,
          5000,
          6000
         ],
         "xaxis": "x4",
         "y": [
          7000,
          8000,
          9000
         ],
         "yaxis": "y4"
        }
       ],
       "layout": {
        "autosize": true,
        "xaxis": {
         "autorange": true,
         "domain": [
          0,
          0.45
         ],
         "range": [
          0.8680096211665664,
          3.1319903788334336
         ],
         "type": "linear"
        },
        "xaxis2": {
         "autorange": true,
         "domain": [
          0.55,
          1
         ],
         "range": [
          18.680096211665663,
          41.31990378833434
         ],
         "type": "linear"
        },
        "xaxis3": {
         "anchor": "y3",
         "autorange": true,
         "domain": [
          0,
          0.45
         ],
         "range": [
          286.80096211665665,
          513.1990378833434
         ],
         "type": "linear"
        },
        "xaxis4": {
         "anchor": "y4",
         "autorange": true,
         "domain": [
          0.55,
          1
         ],
         "range": [
          3868.0096211665664,
          6131.990378833433
         ],
         "type": "linear"
        },
        "yaxis": {
         "autorange": true,
         "domain": [
          0,
          0.45
         ],
         "range": [
          3.8122499655124846,
          6.187750034487515
         ],
         "type": "linear"
        },
        "yaxis2": {
         "anchor": "x2",
         "autorange": true,
         "domain": [
          0,
          0.45
         ],
         "range": [
          48.12249965512485,
          71.87750034487516
         ],
         "type": "linear"
        },
        "yaxis3": {
         "autorange": true,
         "domain": [
          0.55,
          1
         ],
         "range": [
          581.2249965512484,
          818.7750034487516
         ],
         "type": "linear"
        },
        "yaxis4": {
         "anchor": "x4",
         "autorange": true,
         "domain": [
          0.55,
          1
         ],
         "range": [
          6812.249965512485,
          9187.750034487515
         ],
         "type": "linear"
        }
       }
      },
      "image/png": "[encoded data removed]",
      "text/html": [
       "<div>\n",
       "        \n",
       "        \n",
       "            <div id=\"3187a44b-f9a1-4626-9539-304187a45b3b\" class=\"plotly-graph-div\" style=\"height:525px; width:100%;\"></div>\n",
       "            <script type=\"text/javascript\">\n",
       "                require([\"plotly\"], function(Plotly) {\n",
       "                    window.PLOTLYENV=window.PLOTLYENV || {};\n",
       "                    window.PLOTLYENV.BASE_URL='https://plot.ly';\n",
       "                    \n",
       "                if (document.getElementById(\"3187a44b-f9a1-4626-9539-304187a45b3b\")) {\n",
       "                    Plotly.newPlot(\n",
       "                        '3187a44b-f9a1-4626-9539-304187a45b3b',\n",
       "                        [{\"type\": \"scatter\", \"uid\": \"bf2965d3-0bb7-4aac-8f1f-a073a0861ddb\", \"x\": [1, 2, 3], \"y\": [4, 5, 6]}, {\"type\": \"scatter\", \"uid\": \"3421b370-1b36-49be-8ac6-b637af940caf\", \"x\": [20, 30, 40], \"xaxis\": \"x2\", \"y\": [50, 60, 70], \"yaxis\": \"y2\"}, {\"type\": \"scatter\", \"uid\": \"1f7ba851-2e38-495a-8d33-12642a2869f1\", \"x\": [300, 400, 500], \"xaxis\": \"x3\", \"y\": [600, 700, 800], \"yaxis\": \"y3\"}, {\"type\": \"scatter\", \"uid\": \"c28aa3e4-cf96-4926-9b0a-764beb44c383\", \"x\": [4000, 5000, 6000], \"xaxis\": \"x4\", \"y\": [7000, 8000, 9000], \"yaxis\": \"y4\"}],\n",
       "                        {\"xaxis\": {\"domain\": [0, 0.45]}, \"xaxis2\": {\"domain\": [0.55, 1]}, \"xaxis3\": {\"anchor\": \"y3\", \"domain\": [0, 0.45]}, \"xaxis4\": {\"anchor\": \"y4\", \"domain\": [0.55, 1]}, \"yaxis\": {\"domain\": [0, 0.45]}, \"yaxis2\": {\"anchor\": \"x2\", \"domain\": [0, 0.45]}, \"yaxis3\": {\"domain\": [0.55, 1]}, \"yaxis4\": {\"anchor\": \"x4\", \"domain\": [0.55, 1]}},\n",
       "                        {\"showLink\": false, \"linkText\": \"Export to plot.ly\", \"plotlyServerURL\": \"https://plot.ly\", \"responsive\": true}\n",
       "                    ).then(function(){\n",
       "                            \n",
       "var gd = document.getElementById('3187a44b-f9a1-4626-9539-304187a45b3b');\n",
       "var x = new MutationObserver(function (mutations, observer) {{\n",
       "        var display = window.getComputedStyle(gd).display;\n",
       "        if (!display || display === 'none') {{\n",
       "            console.log([gd, 'removed!']);\n",
       "            Plotly.purge(gd);\n",
       "            observer.disconnect();\n",
       "        }}\n",
       "}});\n",
       "\n",
       "// Listen for the removal of the full notebook cells\n",
       "var notebookContainer = gd.closest('#notebook-container');\n",
       "if (notebookContainer) {{\n",
       "    x.observe(notebookContainer, {childList: true});\n",
       "}}\n",
       "\n",
       "// Listen for the clearing of the current output cell\n",
       "var outputEl = gd.closest('.output');\n",
       "if (outputEl) {{\n",
       "    x.observe(outputEl, {childList: true});\n",
       "}}\n",
       "\n",
       "                        })\n",
       "                };\n",
       "                });\n",
       "            </script>\n",
       "        </div>"
      ]
     },
     "metadata": {},
     "output_type": "display_data"
    }
   ],
   "source": [
    "trace1 = go.Scatter(\n",
    "    x=[1, 2, 3],\n",
    "    y=[4, 5, 6]\n",
    ")\n",
    "trace2 = go.Scatter(\n",
    "    x=[20, 30, 40],\n",
    "    y=[50, 60, 70],\n",
    "    xaxis='x2',\n",
    "    yaxis='y2'\n",
    ")\n",
    "trace3 = go.Scatter(\n",
    "    x=[300, 400, 500],\n",
    "    y=[600, 700, 800],\n",
    "    xaxis='x3',\n",
    "    yaxis='y3'\n",
    ")\n",
    "trace4 = go.Scatter(\n",
    "    x=[4000, 5000, 6000],\n",
    "    y=[7000, 8000, 9000],\n",
    "    xaxis='x4',\n",
    "    yaxis='y4'\n",
    ")\n",
    "data = [trace1, trace2, trace3, trace4]\n",
    "\n",
    "layout = go.Layout(\n",
    "    xaxis=dict(\n",
    "        domain=[0, 0.45]\n",
    "    ),\n",
    "    xaxis2=dict(\n",
    "        domain=[0.55, 1]\n",
    "    ),\n",
    "    xaxis3=dict(\n",
    "        domain=[0, 0.45],\n",
    "        anchor='y3'\n",
    "    ),\n",
    "    xaxis4=dict(\n",
    "        domain=[0.55, 1],\n",
    "        anchor='y4'\n",
    "    ),\n",
    "    yaxis=dict(\n",
    "        domain=[0, 0.45]\n",
    "    ),\n",
    "    yaxis2=dict(\n",
    "        domain=[0, 0.45],\n",
    "        anchor='x2'\n",
    "    ),\n",
    "    yaxis3=dict(\n",
    "        domain=[0.55, 1]\n",
    "    ),\n",
    "    yaxis4=dict(\n",
    "        domain=[0.55, 1],\n",
    " \n",
    "        anchor='x4'\n",
    "    )\n",
    ")\n",
    "fig = go.Figure(data=data, layout=layout)\n",
    "iplot(fig, filename='multiple-subplots')"
   ]
  },
  {
   "cell_type": "code",
   "execution_count": null,
   "metadata": {},
   "outputs": [],
   "source": []
  }
 ],
 "metadata": {
  "kernelspec": {
   "display_name": "Python 3",
   "language": "python",
   "name": "python3"
  },
  "language_info": {
   "codemirror_mode": {
    "name": "ipython",
    "version": 3
   },
   "file_extension": ".py",
   "mimetype": "text/x-python",
   "name": "python",
   "nbconvert_exporter": "python",
   "pygments_lexer": "ipython3",
   "version": "3.7.3"
  }
 },
 "nbformat": 4,
 "nbformat_minor": 2
}
