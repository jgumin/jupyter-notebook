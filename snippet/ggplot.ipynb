{
 "cells": [
  {
   "cell_type": "markdown",
   "metadata": {
    "toc": true
   },
   "source": [
    "<h1>Table of Contents<span class=\"tocSkip\"></span></h1>\n",
    "<div class=\"toc\"><ul class=\"toc-item\"><li><span><a href=\"#ggplot\" data-toc-modified-id=\"ggplot-1\"><span class=\"toc-item-num\">1&nbsp;&nbsp;</span>ggplot</a></span><ul class=\"toc-item\"><li><span><a href=\"#x축-값만-지정한-그래프\" data-toc-modified-id=\"x축-값만-지정한-그래프-1.1\"><span class=\"toc-item-num\">1.1&nbsp;&nbsp;</span>x축 값만 지정한 그래프</a></span></li><li><span><a href=\"#x축,-y축-값을-지정한-그래프\" data-toc-modified-id=\"x축,-y축-값을-지정한-그래프-1.2\"><span class=\"toc-item-num\">1.2&nbsp;&nbsp;</span>x축, y축 값을 지정한 그래프</a></span><ul class=\"toc-item\"><li><ul class=\"toc-item\"><li><span><a href=\"#1.-기본-bar-그래프\" data-toc-modified-id=\"1.-기본-bar-그래프-1.2.0.1\"><span class=\"toc-item-num\">1.2.0.1&nbsp;&nbsp;</span>1. 기본 bar 그래프</a></span></li><li><span><a href=\"#2.-데이터의-종류를-한-그래프-안에-나눠서-표시해주는-bar-그래프\" data-toc-modified-id=\"2.-데이터의-종류를-한-그래프-안에-나눠서-표시해주는-bar-그래프-1.2.0.2\"><span class=\"toc-item-num\">1.2.0.2&nbsp;&nbsp;</span>2. 데이터의 종류를 한 그래프 안에 나눠서 표시해주는 bar 그래프</a></span></li><li><span><a href=\"#3.-데이터의-종류를-나눠-따로-표시해주는-그래프\" data-toc-modified-id=\"3.-데이터의-종류를-나눠-따로-표시해주는-그래프-1.2.0.3\"><span class=\"toc-item-num\">1.2.0.3&nbsp;&nbsp;</span>3. 데이터의 종류를 나눠 따로 표시해주는 그래프</a></span></li><li><span><a href=\"#4.-데이터의-종류를-비율로-표시해주는-bar그래프\" data-toc-modified-id=\"4.-데이터의-종류를-비율로-표시해주는-bar그래프-1.2.0.4\"><span class=\"toc-item-num\">1.2.0.4&nbsp;&nbsp;</span>4. 데이터의 종류를 비율로 표시해주는 bar그래프</a></span></li><li><span><a href=\"#5.-가로-그래프\" data-toc-modified-id=\"5.-가로-그래프-1.2.0.5\"><span class=\"toc-item-num\">1.2.0.5&nbsp;&nbsp;</span>5. 가로 그래프</a></span></li><li><span><a href=\"#6.-복수의--데이터를-나란히-표현해주는-가로-그래프\" data-toc-modified-id=\"6.-복수의--데이터를-나란히-표현해주는-가로-그래프-1.2.0.6\"><span class=\"toc-item-num\">1.2.0.6&nbsp;&nbsp;</span>6. 복수의  데이터를 나란히 표현해주는 가로 그래프</a></span></li><li><span><a href=\"#7.-x축-값별로-다른-막대-색-지정하기\" data-toc-modified-id=\"7.-x축-값별로-다른-막대-색-지정하기-1.2.0.7\"><span class=\"toc-item-num\">1.2.0.7&nbsp;&nbsp;</span>7. x축 값별로 다른 막대 색 지정하기</a></span></li><li><span><a href=\"#8.-기본-함수-소개\" data-toc-modified-id=\"8.-기본-함수-소개-1.2.0.8\"><span class=\"toc-item-num\">1.2.0.8&nbsp;&nbsp;</span>8. 기본 함수 소개</a></span></li></ul></li></ul></li></ul></li></ul></div>"
   ]
  },
  {
   "cell_type": "code",
   "execution_count": 1,
   "metadata": {},
   "outputs": [],
   "source": [
    "# %matplotlib nbagg\n",
    "\n",
    "import pandas as pd\n",
    "import numpy as np\n",
    "import matplotlib.pyplot as plt\n",
    "import seaborn as sns\n",
    "plt.rcParams['figure.figsize'] = [10, 6]\n",
    "\n",
    "\n",
    "# #  display two pandas tables side by side\n",
    "# from IPython.display import display, HTML\n",
    "# CSS = \"\"\"\n",
    "# .output {\n",
    "#     flex-direction: row;\n",
    "# }\n",
    "# \"\"\"\n",
    "# HTML('<style>{}</style>'.format(CSS))\n",
    "\n",
    "\n",
    "# 기본 글꼴 변경\n",
    "import matplotlib as mpl\n",
    "mpl.font_manager._rebuild()\n",
    "mpl.pyplot.rc('font', family='NanumBarunGothic')\n",
    "\n",
    "# allow multiple outputs\n",
    "from IPython.core.interactiveshell import InteractiveShell\n",
    "InteractiveShell.ast_node_interactivity = \"all\""
   ]
  },
  {
   "cell_type": "code",
   "execution_count": null,
   "metadata": {},
   "outputs": [],
   "source": [
    "import chardet"
   ]
  },
  {
   "cell_type": "code",
   "execution_count": 3,
   "metadata": {},
   "outputs": [],
   "source": [
    "def find_encoding(fname):\n",
    "    r_file = open(fname, 'rb').read()\n",
    "    result = chardet.detect(r_file)\n",
    "    charenc = result['encoding']\n",
    "    return charenc"
   ]
  },
  {
   "cell_type": "code",
   "execution_count": null,
   "metadata": {},
   "outputs": [],
   "source": [
    "# 출처: https://financedata.github.io/posts/pandas-display-format.html\n",
    "\n",
    "# 과학적 표기법(Scientific notation)을 사용하지 않는 경우\n",
    "pd.options.display.float_format = '{:.2f}'.format\n",
    "\n",
    "# 과학적 표기법(Scientific notation)\n",
    "pd.set_option('display.float_format', '{:.2e}'.format)\n",
    "\n",
    "pd.set_option('display.float_format', '{:.2f}'.format) # 항상 float 형식으로\n",
    "pd.set_option('display.float_format', '{:.2e}'.format) # 항상 사이언티픽\n",
    "pd.set_option('display.float_format', '${:.2g}'.format)  # 적당히 알아서\n",
    "\n",
    "# 지정한 표기법을 원래 상태로 돌리려면 None을 지정\n",
    "pd.set_option('display.float_format', None)"
   ]
  },
  {
   "cell_type": "markdown",
   "metadata": {},
   "source": [
    "# ggplot"
   ]
  },
  {
   "cell_type": "markdown",
   "metadata": {},
   "source": [
    "출처: (https://m.blog.naver.com/PostView.nhn?blogId=coder1252&logNo=220931268317&proxyReferer=https%3A%2F%2Fwww.google.com%2F)"
   ]
  },
  {
   "cell_type": "markdown",
   "metadata": {},
   "source": [
    "ggplot에서 bar 그래프를 그리는 방식에는 크게 두 가지가 있습니다. \n",
    "\n",
    "- 첫째, x축의 값만 지정하여 빈도를 나타내는 그래프\n",
    "- 둘째, x축과 y축의 값을 각각 지정하여 그리는 그래프"
   ]
  },
  {
   "cell_type": "markdown",
   "metadata": {},
   "source": [
    "x축 값만 지정한 그래프\n",
    "----------\n",
    "\n",
    "ggplot(diamonds, aes(cut))+geom_bar()\n",
    "\n",
    "![Graph](https://mblogthumb-phinf.pstatic.net/MjAxNzAxMjZfMTc2/MDAxNDg1MzY2MTE0ODAz.AbUiBELGqF0zjaYLnxghYQKQsugwAgc-msSoeELtu4gg.iqnKFzmMggfFPvF0kWYeRF4qaYoQjHK1s3NA95phqn0g.PNG.coder1252/image.png?type=w800)"
   ]
  },
  {
   "cell_type": "markdown",
   "metadata": {},
   "source": [
    "- x축 값을 지정하지 않으면 ggplot은 자동적으로 x축 데이터의 '빈도'를 y값으로 나타내줍니다. \n",
    "\n",
    "- aes()안에는 x축 값만 입력하고, geom_bar()에 stat을 설정해주지 않습니다.\n",
    "    - 사실 빈도수가 계산되도록 하기 위해선 geom_bar()에 stat='count'를 입력해주어야 합니다. stat='count'는 y축의 높이를 데이터의 빈도(count)로 표시하는 bar그래프 형식으로 나타내라는 뜻입니다. \n",
    "    - 하지만 이를 지정하지 않고도 자동으로 y축의 값이 빈도로 표시되는 이유는, stat='count'가 bar그래프의 default 값이기 때문입니다. default 값이란 미리 정해져 있는 값이나 설정치를 의미하며, 특정한 값이나 설정치를 지정되지 않았을 때 이 defaut(디폴트)값을 사용합니다. \n",
    "    - 즉, geom_bar함수에서는 stat='count'가 default 값으로 설정되어 있어 따로 지정하지 않아도 자동적으로 stat='count'의 형태가 적용된 것입니다."
   ]
  },
  {
   "cell_type": "markdown",
   "metadata": {},
   "source": [
    "x축, y축 값을 지정한 그래프\n",
    "-----------\n",
    "\n",
    "#### 1. 기본 bar 그래프\n",
    "\n",
    "ggplot(sleep, aes(ID, extra))+geom_bar(stat='identity')\n",
    "\n",
    "![Graph](https://mblogthumb-phinf.pstatic.net/MjAxNzAxMjZfOTQg/MDAxNDg1MzYwMTMzNTgy.wzyS9yu82VeXv4AkC7iAY3XpQndgAccHte38vLkH5G0g.VuB3njM2HDJwGcp_Co6XnUiSAH864GNp-ooMwFUrQCIg.PNG.coder1252/image.png?type=w800)"
   ]
  },
  {
   "cell_type": "markdown",
   "metadata": {},
   "source": [
    "그래프를 그리기 위한 코드는 크게 두 부분으로 구성돼있습니다.\n",
    "   - 데이터를 바탕으로 그래프의 틀을 정해주는 ggplot\n",
    "   - 그래프의 형태를 정해주는 함수 (그래프의 형태 지정부분은 레이어 추가 방식(+) 통해 계속해서 지정 가능)\n",
    "\n",
    "**ggplot** : 가장 먼저 자료명을 입력하여 ggplot을 통해 그릴 그래프가 어떤 자료의 데이터를 기반으로 그릴 것인지를 정해줍니다.\n",
    "\n",
    "**aes** : aes는 지정한 자료의 데이터를 바탕으로 그래프의 틀을 정해주는 함수입니다. 따라서 aes에서 데이터를 기반으로 하는 x축과 y축, 데이터 색상을 지정해줍니다. \n",
    "\n",
    "**geom_bar()** : 그래프의 틀을 지정해주었으면 어떤 형식으로 그릴 것인지 정해주어야 합니다. bar그래프는 geom_bar()로 그릴 수 있습니다.\n",
    "   - 여기서 주의해야 할 점은 geom_bar() 안에 반드시 stat='identity'를 입력해주어야 한다는 것입니다. \n",
    "   - stat은 ‘통계’의 뜻을 가진 ‘Statistic’의 약자로, bar 그래프의 형태에 대해 지정해줍니다.\n",
    "   - identity는 y축 값의 높이를 데이터를 기반으로 정해줄 때 사용해줍니다. 즉, stat='identity'는 y축의 높이를 데이터의 값으로 하는 bar그래프의 형태로 지정한다는 것입니다.\n",
    "   \n",
    "\n",
    "한가지 더, sleep자료를 보면 같은 ID여도 group이 다름을 알 수 있습니다. ggplot은 따로 지정해주지 않는다면 데이터를 합쳐서 나타냅니다. 즉, 저희 그래프는 group별 extra 값을 더해서 나타내 준 것이기 때문에, ID 1의 extra값은 1.7 혹은 0.8이 아닌 2.5인 것입니다.\n"
   ]
  },
  {
   "cell_type": "markdown",
   "metadata": {},
   "source": [
    "\n",
    "\n",
    "#### 2. 데이터의 종류를 한 그래프 안에 나눠서 표시해주는 bar 그래프\n",
    "\n",
    "ggplot(sleep, aes(ID, extra, fill=group))+geom_bar(stat='identity') \n",
    "\n",
    "![Graph](https://mblogthumb-phinf.pstatic.net/MjAxNzAxMjZfMjEy/MDAxNDg1MzYzMjE2MjA1.D-3CmdsRitrIi0kYTE4Vr_feQMX6hjEbE_GW49vj07Yg.3dyH34lisYmzV2Mah2M7K1sLs0ZCnScVt5qT2enIcm8g.PNG.coder1252/image.png?type=w800)\n"
   ]
  },
  {
   "cell_type": "markdown",
   "metadata": {},
   "source": [
    "같은 ID내 존재하는 복수의 데이터, 즉 group을 색상으로 구분하여 표현하고, 범례에도 나타내고 있습니다.\n",
    "\n",
    "이전의 그래프와 차이가 있다면, aes(ID, extra)에 fill=group이 추가된 것입니다.\n",
    "\n",
    "aes는 자료의 데이터를 기반으로 한 그래프틀을 정해줄 때 사용하는 함수이고, group은 sleep 자료 내 데이터입니다. 따라서 fill함수를 aes안에 써줌으로써 sleep내 데이터인 group에 색상이 지정된 것입니다."
   ]
  },
  {
   "cell_type": "markdown",
   "metadata": {},
   "source": [
    "#### 3. 데이터의 종류를 나눠 따로 표시해주는 그래프\n",
    "\n",
    "\n",
    "ggplot(sleep, aes(ID, extra, fill=group))+ <br>\n",
    "    geom_bar(stat='identity', position = 'dodge')\n",
    "\n",
    "![Graph](https://mblogthumb-phinf.pstatic.net/MjAxNzAxMjZfMTY5/MDAxNDg1MzYzODMxMDYw.gn8dcYvlCgrlBiZR0Zoblk3LmzukITyX2wiPIZM1-HEg.2DXrr8PvTPWMIPZPJPBA6y8FGVDrQnjZxISiZChvTKog.PNG.coder1252/image.png?type=w800)\n"
   ]
  },
  {
   "cell_type": "markdown",
   "metadata": {},
   "source": [
    "이 그래프는 group데이터를 두 개의 독립적인 막대로 제시하고 있습니다.geom_bar()에 position = 'dodge' 함수를 더해주면 됩니다. \n",
    "\n",
    "\n",
    "- **position**은 막대의 위치를 의미합니다.\n",
    "- **dodge**는 복수의 데이터를 독립적인 막대 그래프로 나란히 표현할 때 사용합니다.\n",
    "\n",
    "\n",
    "즉, **position='dodge'**는 막대의 위치를 개별적인 막대로 나란히 표현하라는 명령어인 것입니다. 단, 나란히 표시할 막대의 데이터를 fill 혹은 color 함수를 이용해 반드시 구분지어주어야 합니다."
   ]
  },
  {
   "cell_type": "markdown",
   "metadata": {},
   "source": [
    "#### 4. 데이터의 종류를 비율로 표시해주는 bar그래프\n",
    "\n",
    "\n",
    "ggplot(diamonds, aes(color, fill=cut))+<br>\n",
    "    geom_bar(position='fill')\n",
    "\n",
    "![Graph](https://mblogthumb-phinf.pstatic.net/MjAxNzAxMjZfMjcz/MDAxNDg1Mzk5OTg0NTU1._pP8495IbydcrO5rrKep7K9Gb8D4-BVH_0eXzOy3QLMg.f35YUlwT6D5WM-kyEE0zVNwozqOA5pm8mkzRjP7Lwi4g.PNG.coder1252/image.png?type=w800)\n"
   ]
  },
  {
   "cell_type": "markdown",
   "metadata": {},
   "source": [
    "**position='fill'**은 말 그대로 막대 그래프를 화면에 꽉 채워,  x값 내의 데이터의 상대적인 비율을 나타내줄 때 씁니다.\n",
    "\n",
    "\n",
    "위 그래프는 diamonds 자료에서 다이아몬드의 색상(color)에 따른 컷팅(cut)상태의 비율을 나타낸 그래프입니다. ***D색상의 다이아몬드는 Ideal상태로 컷팅 된 비율이 가장 높음***을 알 수 있습니다."
   ]
  },
  {
   "cell_type": "markdown",
   "metadata": {},
   "source": [
    "#### 5. 가로 그래프\n",
    "\n",
    "\n",
    "ggplot(sleep, aes(ID, extra, fill=group))+ <br>\n",
    "    geom_bar(stat='identity')+coord_flip()\n",
    "\n",
    "![Graph](https://mblogthumb-phinf.pstatic.net/MjAxNzAxMjZfMjg5/MDAxNDg1MzY1NDExNjgz.Rh5eoZVeTnjEv-GNtvRApKv5MT3XbXmBzsylfiWJMKEg._8faEqB0yjmo50tGa87BIJD6cpWwvx4YIcUaD6MyI2kg.PNG.coder1252/image.png?type=w800)\n"
   ]
  },
  {
   "cell_type": "markdown",
   "metadata": {},
   "source": [
    "***coord***는 'coordinate'의 약자로 조정하고 꾸미는 것을 의미하며, ***flip***은 '뒤집다'의 뜻을 가지고 있습니다. 즉, **coord_flip()은 x축과 y축의 구성을 뒤집어 표현하라는 명령어**이며, x축과 y축의 위치가 바뀜과 동시에 가로의 막대로 값을 표현하는 bar그래프가 그려지도록 해줍니다. \n",
    "\n",
    "coord_flip은 데이터를 기반으로 하지 않고, bar그래프에 대한 함수도 아니기 때문에 ggplot과 geom_bar 함수 뒤에 레이어 추가 형식으로 지정해 줍니다.\n",
    "\n"
   ]
  },
  {
   "cell_type": "markdown",
   "metadata": {},
   "source": [
    "#### 6. 복수의  데이터를 나란히 표현해주는 가로 그래프\n",
    "\n",
    "\n",
    "ggplot(sleep, aes(ID, extra, fill=group))+ <br>\n",
    "    geom_bar(stat='identity', position = 'dodge')+coord_flip()\n",
    "\n",
    "\n",
    "![Graph](https://mblogthumb-phinf.pstatic.net/MjAxNzAxMjZfMTkg/MDAxNDg1MzY1NDc0ODcx.MAgExd1x04Lrik85ff4osMhW8C5YkRf-No-TISOvVBog.nMbyCUzg22rhGcn2_k_pPkl-Ave0lM16ec6fxIf5QvAg.PNG.coder1252/image.png?type=w800)\n"
   ]
  },
  {
   "cell_type": "markdown",
   "metadata": {},
   "source": [
    "***position='dodge'*** 함수와 ***coord_flip***함수를 동시에 적용한 그래프입니다. 이렇게 ggplot은 그래프의 형태를 레이어 추가 방식을 통해 복수의 명령을 간편하게 지정할 수 있습니다. **단, position은 한 가지만 설정할 수 있습니다. position='dodge', position=fill 은 불가능**합니다."
   ]
  },
  {
   "cell_type": "markdown",
   "metadata": {},
   "source": [
    "\n",
    "\n",
    "#### 7. x축 값별로 다른 막대 색 지정하기"
   ]
  },
  {
   "cell_type": "markdown",
   "metadata": {},
   "source": [
    "출처: (https://mrkevinna.github.io/R-%EC%8B%9C%EA%B0%81%ED%99%94-2/)"
   ]
  },
  {
   "cell_type": "markdown",
   "metadata": {},
   "source": [
    "***fill 인자를 이용해 x축 값별로 채우기 색을 변경하기***\n",
    "\n",
    "ggbar + geom_col(mapping = aes(fill = 'x축 값'))"
   ]
  },
  {
   "cell_type": "markdown",
   "metadata": {},
   "source": [
    "무지개색으로 막대가 채워지는데 이런 색상이 마음에 들지 않으면 나만의 팔레트를 만들어서 마음에 드는 색을 지정할 수 있습니다. "
   ]
  },
  {
   "cell_type": "markdown",
   "metadata": {},
   "source": [
    "***사용자 지정 x축 값별 다른 막대 색 지정하기***"
   ]
  },
  {
   "cell_type": "markdown",
   "metadata": {},
   "source": [
    "먼저 R에서 제공하는 기본 팔레트를 확인해보겠습니다. \n",
    "\n",
    "- ***RColorBrewer 패키지*** 를 불러와야 합니다. 이 패키지가 설치되지 않은 분은 먼저 패키지를 설치하고 불러오기 바랍니다.\n",
    "- 필요 패키지를 불러옵니다.  **library(RColorBrewer)**\n",
    "- R에서 제공하는 기본 팔레트를 확인합니다.   **display.brewer.all()**"
   ]
  },
  {
   "cell_type": "markdown",
   "metadata": {},
   "source": [
    "#### 8. 기본 함수 소개"
   ]
  },
  {
   "cell_type": "markdown",
   "metadata": {},
   "source": [
    "출처: (https://mrkevinna.github.io/R-%EC%8B%9C%EA%B0%81%ED%99%94-1/)"
   ]
  },
  {
   "cell_type": "markdown",
   "metadata": {},
   "source": [
    "<br>\n",
    "\n",
    "***막대그래프에 사용될 데이터와 전체 에스테틱을 ggbar에 할당합니다.***\n",
    "ggbar <- ggplot(data = hitters,mapping = aes(x = 팀명, y = 홈런))\n",
    "<br>\n",
    "                                                            \n",
    "***막대그래프 기본형을 그립니다.*** <br>\n",
    "ggbar + geom_bar()\n"
   ]
  },
  {
   "cell_type": "markdown",
   "metadata": {},
   "source": [
    "ggplot(data, mapping = aes(), …) + geom_function(data, mapping = aes(), stat, position, …)\n",
    "\n",
    "- geom_function()의 종류\n",
    "\n",
    "        geom_point() : 산점도\n",
    "        geom_line() : 선그래프\n",
    "        geom_bar() : 막대그래프\n",
    "        geom_col() : 막대그래프\n",
    "        geom_histogram() : 히스토그램\n",
    "        geom_boxplot() : 상자수염그림\n",
    "        geom_text() : 문자 삽입\n",
    "        geom_abline() : 선형회귀식 삽입\n",
    "        geom_vline() : 수직선 삽입\n",
    "        geom_hline() : 수평선 삽입\n",
    "\n",
    "\n",
    "- 추가 옵션 : 자세한 사항은 Cheat Sheet를 참조하세요.\n",
    "\n",
    "        stats : 새로운 데이터 생성\n",
    "        scale : 범위 조정\n",
    "        coordinate : x, y축 조정\n",
    "        position : geom 정렬 방식 조정\n",
    "        theme : 테마 적용\n",
    "        facet : x, y축 분할\n",
    "        label : 축이름, 주석 등 설정\n",
    "        legend : 범례 설정\n",
    "        zoom : 축 범위 지정 등"
   ]
  },
  {
   "cell_type": "code",
   "execution_count": null,
   "metadata": {},
   "outputs": [],
   "source": []
  }
 ],
 "metadata": {
  "hide_input": false,
  "kernelspec": {
   "display_name": "Python 3",
   "language": "python",
   "name": "python3"
  },
  "language_info": {
   "codemirror_mode": {
    "name": "ipython",
    "version": 3
   },
   "file_extension": ".py",
   "mimetype": "text/x-python",
   "name": "python",
   "nbconvert_exporter": "python",
   "pygments_lexer": "ipython3",
   "version": "3.7.0"
  },
  "toc": {
   "base_numbering": 1,
   "nav_menu": {},
   "number_sections": true,
   "sideBar": true,
   "skip_h1_title": false,
   "title_cell": "Table of Contents",
   "title_sidebar": "Contents",
   "toc_cell": true,
   "toc_position": {},
   "toc_section_display": true,
   "toc_window_display": false
  }
 },
 "nbformat": 4,
 "nbformat_minor": 2
}
