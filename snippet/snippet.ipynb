{
 "cells": [
  {
   "cell_type": "markdown",
   "metadata": {
    "toc": true,
    "toc-hr-collapsed": true
   },
   "source": [
    "<h1>Table of Contents<span class=\"tocSkip\"></span></h1>\n",
    "<div class=\"toc\"><ul class=\"toc-item\"></ul></div>"
   ]
  },
  {
   "cell_type": "code",
   "execution_count": 1,
   "metadata": {},
   "outputs": [],
   "source": [
    "# 노트북 안에서 그래프를 그리기 위해\n",
    "%matplotlib inline\n",
    "# %matplotlib nbagg\n",
    "    \n",
    "import pandas as pd\n",
    "import numpy as np\n",
    "import matplotlib.pyplot as plt\n",
    "import seaborn as sns\n",
    "plt.rcParams['figure.figsize'] = [10, 6]\n",
    "\n",
    "\n",
    "# Suppress Deprecation and Incorrect Usage Warnings \n",
    "import warnings\n",
    "warnings.filterwarnings('ignore')\n",
    "\n",
    "# #  display two pandas tables side by side\n",
    "# from IPython.display import display, HTML\n",
    "# CSS = \"\"\"\n",
    "# .output {\n",
    "#     flex-direction: row;\n",
    "# }\n",
    "# \"\"\"\n",
    "# HTML('<style>{}</style>'.format(CSS))\n",
    "\n",
    "\n",
    "# 기본 글꼴 변경\n",
    "import matplotlib as mpl\n",
    "mpl.font_manager._rebuild()\n",
    "mpl.pyplot.rc('font', family='NanumBarunGothic')\n",
    "\n",
    "# allow multiple outputs\n",
    "# from IPython.core.interactiveshell import InteractiveShell\n",
    "# InteractiveShell.ast_node_interactivity = \"all\"\n",
    "\n",
    "# allow image input\n",
    "from IPython.display import Image"
   ]
  },
  {
   "cell_type": "markdown",
   "metadata": {},
   "source": [
    "## import plotly standard"
   ]
  },
  {
   "cell_type": "code",
   "execution_count": null,
   "metadata": {},
   "outputs": [],
   "source": [
    "from plotly import __version__\n",
    "print (__version__)\n",
    "import plotly\n",
    "import plotly.plotly as py\n",
    "import plotly.graph_objs as go\n",
    "import plotly.figure_factory as ff\n",
    "\n",
    "# Cufflinks wrapper on plotly\n",
    "import cufflinks as cf\n",
    "\n",
    "# Display all cell outputs\n",
    "from IPython.core.interactiveshell import InteractiveShell\n",
    "\n",
    "# plotly + cufflinks in offline mode\n",
    "from plotly.offline import download_plotlyjs, init_notebook_mode, plot, iplot\n",
    "cf.go_offline()\n",
    "\n",
    "# set the global theme\n",
    "cf.set_config_file(world_readable=True, theme='pearl', offline=True)\n",
    "\n",
    "# Jupyter setup\n",
    "init_notebook_mode(connected=True)\n",
    "\n",
    "import ipywidgets as widgets"
   ]
  },
  {
   "cell_type": "markdown",
   "metadata": {},
   "source": [
    "### Google Colab 에서 plotly 실행"
   ]
  },
  {
   "cell_type": "code",
   "execution_count": 2,
   "metadata": {},
   "outputs": [
    {
     "data": {
      "text/html": [
       "\n",
       "        <script src=\"/static/components/requirejs/require.js\"></script>\n",
       "        <script>\n",
       "          requirejs.config({\n",
       "            paths: {\n",
       "              base: '/static/base',\n",
       "              plotly: 'https://cdn.plot.ly/plotly-latest.min.js?noext',\n",
       "            },\n",
       "          });\n",
       "        </script>\n",
       "        "
      ],
      "text/plain": [
       "<IPython.core.display.HTML object>"
      ]
     },
     "metadata": {},
     "output_type": "display_data"
    }
   ],
   "source": [
    "def configure_plotly_browser_state():\n",
    "  import IPython\n",
    "  display(IPython.core.display.HTML('''\n",
    "        <script src=\"/static/components/requirejs/require.js\"></script>\n",
    "        <script>\n",
    "          requirejs.config({\n",
    "            paths: {\n",
    "              base: '/static/base',\n",
    "              plotly: 'https://cdn.plot.ly/plotly-latest.min.js?noext',\n",
    "            },\n",
    "          });\n",
    "        </script>\n",
    "        '''))\n",
    "\n",
    "configure_plotly_browser_state() # 매 셀마다 실행해야 함"
   ]
  },
  {
   "cell_type": "code",
   "execution_count": 2,
   "metadata": {
    "hidePrompt": false
   },
   "outputs": [
    {
     "data": {
      "text/plain": [
       "(341, 88)"
      ]
     },
     "execution_count": 2,
     "metadata": {},
     "output_type": "execute_result"
    }
   ],
   "source": [
    "stu_info = pd.read_excel('./data/IUDP학생현황.xlsx',\n",
    "                         date_parser=['참가기간(시작)', '참가기간(종료)', '체류기간(시작)', '체류기간(종료)', '인턴십 기간(시작)', \n",
    "                                      '인턴십 기간(종료)', '인턴십 기간2(시작)', '인턴십 기간2(종료)', '인턴십 기간3(시작)', \n",
    "                                      '인턴십 기간3(종료)', '국외여행1-1', '국외여행1-2', '국외여행2-1', '국외여행2-2', '국외여행3-1', '국외여행3-2'])\n",
    "# parse_dates=True\n",
    "# Z:/200. 연락처/IUDP학생현황.xlsx\n",
    "stu_info.shape  "
   ]
  },
  {
   "cell_type": "code",
   "execution_count": null,
   "metadata": {},
   "outputs": [],
   "source": [
    "Image(\"img/read_csv함수의 인수.png\")"
   ]
  },
  {
   "cell_type": "markdown",
   "metadata": {},
   "source": [
    "* from IPython.display import Image 패키지 실행\n",
    "* code안 출력용: `Image(\"img/picture.png\")` 를 code안에 넣고 실행\n",
    "* markdown용: `![title](img/picture.png)`를 markdown안에 넣고 실행"
   ]
  },
  {
   "cell_type": "markdown",
   "metadata": {
    "toc-hr-collapsed": false
   },
   "source": [
    "# 기본"
   ]
  },
  {
   "cell_type": "markdown",
   "metadata": {
    "toc-hr-collapsed": true
   },
   "source": [
    "### 인코딩 확인"
   ]
  },
  {
   "cell_type": "code",
   "execution_count": null,
   "metadata": {},
   "outputs": [],
   "source": [
    "import chardet"
   ]
  },
  {
   "cell_type": "code",
   "execution_count": null,
   "metadata": {},
   "outputs": [],
   "source": [
    "def find_encoding(fname):\n",
    "    r_file = open(fname, 'rb').read()\n",
    "    result = chardet.detect(r_file)\n",
    "    charenc = result['encoding']\n",
    "    return charenc"
   ]
  },
  {
   "cell_type": "markdown",
   "metadata": {
    "toc-hr-collapsed": true
   },
   "source": [
    "### 과학적 표기법"
   ]
  },
  {
   "cell_type": "code",
   "execution_count": null,
   "metadata": {},
   "outputs": [],
   "source": [
    "# 출처: https://financedata.github.io/posts/pandas-display-format.html\n",
    "\n",
    "# 과학적 표기법(Scientific notation)을 사용하지 않는 경우\n",
    "pd.options.display.float_format = '{:.2f}'.format\n",
    "\n",
    "# 과학적 표기법(Scientific notation)\n",
    "pd.set_option('display.float_format', '{:.2e}'.format)\n",
    "\n",
    "pd.set_option('display.float_format', '{:.2f}'.format) # 항상 float 형식으로\n",
    "pd.set_option('display.float_format', '{:.2e}'.format) # 항상 사이언티픽\n",
    "pd.set_option('display.float_format', '${:.2g}'.format)  # 적당히 알아서\n",
    "\n",
    "# 지정한 표기법을 원래 상태로 돌리려면 None을 지정\n",
    "pd.set_option('display.float_format', None)\n",
    "\n",
    "# 과학적 표기법으로 나오는 숫자를 일반형식으로 나오게 하는 법  <.str()>"
   ]
  },
  {
   "cell_type": "code",
   "execution_count": null,
   "metadata": {},
   "outputs": [],
   "source": [
    "np.set_printoptions(precisions=2)\n",
    "np.set_printoptions(formatter={\"float_kind\": lambda x: \"%g\" % x})\n",
    "\n",
    "#     반올림,올림,내림,정수화\n",
    "ms[\"Percent\"].round(2); np.ceil(ms[\"Percent\"]), # np.floor() / np.trunc()\n",
    "\n",
    "# 자리수 변경\n",
    "ms[\"Percent\"].apply(lambda x: \"{0:0.2f}\".format(x)),\n",
    "ms[\"Percent\"].apply(lambda x: \"%0.2f\" % x),"
   ]
  },
  {
   "cell_type": "markdown",
   "metadata": {
    "toc-hr-collapsed": true
   },
   "source": [
    "### 단어수세기"
   ]
  },
  {
   "cell_type": "code",
   "execution_count": null,
   "metadata": {},
   "outputs": [],
   "source": [
    "# 단어 수\n",
    "petitions['title'].apply(lambda x: len(str(x).split()))\n",
    "# 중복을 제거한 단어 수\n",
    "petitions['title'].apply(lambda x: len(set(str(x).split())))"
   ]
  },
  {
   "cell_type": "code",
   "execution_count": null,
   "metadata": {},
   "outputs": [],
   "source": []
  },
  {
   "cell_type": "markdown",
   "metadata": {},
   "source": [
    "### .isin 항목의 없는 원소 추출"
   ]
  },
  {
   "cell_type": "code",
   "execution_count": null,
   "metadata": {},
   "outputs": [],
   "source": [
    "1. df[-df[\"column\"].isin([\"value\"])]\n",
    "2. df[~df[\"column\"].isin([\"value\"])]\n",
    "3. df[df[\"column\"].isin([\"value\"]) == False]\n",
    "4. df[np.logical_not(df[\"column\"].isin([\"value\"]))]"
   ]
  },
  {
   "cell_type": "code",
   "execution_count": null,
   "metadata": {},
   "outputs": [],
   "source": []
  },
  {
   "cell_type": "markdown",
   "metadata": {},
   "source": [
    "### apply 변환\n",
    "\n",
    "* 행이나 열 단위로 더 복잡한 처리를 하고 싶을 때는 사용\n",
    "* 인수로 행 또는 열을 받는 함수를 apply 메서드의 인수로 넣으면 각 열(또는 행)을 반복하여 그 함수에 적용시킴"
   ]
  },
  {
   "cell_type": "code",
   "execution_count": null,
   "metadata": {},
   "outputs": [],
   "source": [
    "df3 = pd.DataFrame({\n",
    "    'A': [1, 3, 4, 3, 4],\n",
    "    'B': [2, 3, 1, 2, 3],\n",
    "    'C': [1, 5, 2, 4, 4]\n",
    "})\n",
    "\n",
    "# 각 열의 최대값과 최소값의 차이를 구할 때\n",
    "df3.apply(lambda x: x.max() - x.min())\n",
    "\n",
    "# 각 행의 최대값과 최소값의 차이를 구할 때\n",
    "df3.apply(lambda x: x.max() - x.min(), axis=1)\n",
    "\n",
    "# 각 열에 대해 어떤 값이 얼마나 사용되었는지 확인할 때\n",
    "df3.apply(pd.value_counts)\n",
    "\n",
    "#NaN 값은 fillna 메서드로 원하는 값으로 변환하고,  astype 메서드로 전체 데이터 자료형 변환도 가능\n",
    "df3.apply(pd.value_counts).fillna(0).astype(int)"
   ]
  },
  {
   "cell_type": "code",
   "execution_count": null,
   "metadata": {},
   "outputs": [],
   "source": []
  },
  {
   "cell_type": "markdown",
   "metadata": {},
   "source": [
    "# 주제별 정리"
   ]
  },
  {
   "cell_type": "markdown",
   "metadata": {
    "toc-hr-collapsed": true
   },
   "source": [
    "## null값 (누락값) 처리"
   ]
  },
  {
   "cell_type": "markdown",
   "metadata": {},
   "source": [
    "### 특정 열에 null 있는지 여부만 확인 <.hasnans> / 특정열의 각 원소 null 여부 boolean 반환 <np.isnan(Series)>"
   ]
  },
  {
   "cell_type": "code",
   "execution_count": null,
   "metadata": {},
   "outputs": [],
   "source": [
    "airplane_info['총정원'].hasnans"
   ]
  },
  {
   "cell_type": "code",
   "execution_count": null,
   "metadata": {},
   "outputs": [],
   "source": [
    "np.isnan(airplane_info['총정원']) \n",
    "# = airplane_info['총정원'].apply(np.isnan)"
   ]
  },
  {
   "cell_type": "code",
   "execution_count": null,
   "metadata": {},
   "outputs": [],
   "source": []
  },
  {
   "cell_type": "markdown",
   "metadata": {},
   "source": [
    "### null값 제외   <br>  <Series[Series != 'nan']  <br> Series[np.logical_not(Series == 'nan')] <br> Series[-(Series == 'nan')] <br> Series[~(Series == 'nan')] <br> Series[(Series == 'nan') == False]  >"
   ]
  },
  {
   "cell_type": "code",
   "execution_count": null,
   "metadata": {},
   "outputs": [],
   "source": [
    "s[s != 'nan']"
   ]
  },
  {
   "cell_type": "code",
   "execution_count": null,
   "metadata": {},
   "outputs": [],
   "source": []
  },
  {
   "cell_type": "markdown",
   "metadata": {},
   "source": [
    "### null값 있는 행 또는 열 삭제  <br> <df.dropna(axis=0, how='any', thresh=None(임계값,int), subset=None(array-like), inplace=False)> <br> Series.dropna 의 경우, Series 전체 아닌 null 값만 삭제\n"
   ]
  },
  {
   "cell_type": "code",
   "execution_count": null,
   "metadata": {},
   "outputs": [],
   "source": [
    "airplane_info = pd.read_csv('C:/Users/Gumin JUNG/OneDrive - 서울시립대학교/jupyter_notebook/실습자료-손에잡히는판다스/data/airplane_info.csv',\n",
    "                            engine='python')\n",
    "airplane_info['총정원'].tail(3)"
   ]
  },
  {
   "cell_type": "code",
   "execution_count": null,
   "metadata": {},
   "outputs": [],
   "source": [
    "airplane_info.dropna(axis=1)"
   ]
  },
  {
   "cell_type": "code",
   "execution_count": null,
   "metadata": {},
   "outputs": [],
   "source": []
  },
  {
   "cell_type": "markdown",
   "metadata": {},
   "source": [
    "### null값 개수 확인 <br> <Series[Series != 'nan'].value_counts()>"
   ]
  },
  {
   "cell_type": "code",
   "execution_count": null,
   "metadata": {},
   "outputs": [],
   "source": [
    "s[s != 'nan'].value_counts()"
   ]
  },
  {
   "cell_type": "code",
   "execution_count": null,
   "metadata": {},
   "outputs": [],
   "source": []
  },
  {
   "cell_type": "markdown",
   "metadata": {},
   "source": [
    "### null값 위치를 고정하고 sorting <br> <.sort_values(by='a', na_position='last')>"
   ]
  },
  {
   "cell_type": "code",
   "execution_count": null,
   "metadata": {},
   "outputs": [],
   "source": [
    "df.sort_values(by='a', na_position='last') # na_position='first' "
   ]
  },
  {
   "cell_type": "code",
   "execution_count": null,
   "metadata": {},
   "outputs": [],
   "source": []
  },
  {
   "cell_type": "markdown",
   "metadata": {},
   "source": [
    "### null 값 포함해 연산(합계) <br><df.sum(skipna=False)>"
   ]
  },
  {
   "cell_type": "code",
   "execution_count": null,
   "metadata": {},
   "outputs": [],
   "source": [
    "df.sum(skipna=False)"
   ]
  },
  {
   "cell_type": "code",
   "execution_count": null,
   "metadata": {},
   "outputs": [],
   "source": []
  },
  {
   "cell_type": "markdown",
   "metadata": {},
   "source": [
    "### null값 다른 값으로 변경 <br> <.fillna('대체할값')>"
   ]
  },
  {
   "cell_type": "markdown",
   "metadata": {},
   "source": [
    "`s.fillna['value=None', 'method=None', 'axis=None', 'inplace=False', 'limit=None', 'downcast=None']`"
   ]
  },
  {
   "cell_type": "markdown",
   "metadata": {},
   "source": [
    "* value: null값을 대체할 값. dict 형태로 행 또는 열마다의 대체값 별도 지정 가능\n",
    "* method:\n",
    "    * null값 발생 전 값으로 변경: 'ffill(or pad')\n",
    "    * null값 발생 후 값으로 변경: 'bfill(or backfill')\n",
    "* axis: 데이터프레임에서  null 값을 채우는 기준 방향으로  0은 행방향, 1은 열방향\n",
    "* inplace: True 는 null 값을 대체한 결과값으로 데이터프레임 변경\n",
    "* limit: method를 연속적으로 수행하는 최대수\n",
    "* downcast: 데이터타입 변경"
   ]
  },
  {
   "cell_type": "code",
   "execution_count": null,
   "metadata": {},
   "outputs": [],
   "source": [
    "import numpy as np\n",
    "import pandas as pd\n",
    "s = pd.Series([0, 1, np.nan, 3])"
   ]
  },
  {
   "cell_type": "code",
   "execution_count": null,
   "metadata": {},
   "outputs": [],
   "source": [
    "s.fillna('No')\n",
    "s.fillna(method='pad')\n",
    "s.fillna(method='bfill')\n",
    "stu_info.fillna(\" \", axis=1, inplace=True)"
   ]
  },
  {
   "cell_type": "code",
   "execution_count": 58,
   "metadata": {},
   "outputs": [],
   "source": [
    "stu_info_pre = \\\n",
    "stu_info.fillna(\n",
    "    {'국외여행합계': 0, \n",
    "     '논문평점': stu_info.loc[stu_info['논문평점'] != np.nan, '논문평점'].mean(),\n",
    "     '자국내 주소': stu_info['국가']}\n",
    ").replace({'자국내 주소':'정보없음'}, {'자국내 주소': stu_info['국가']})\n",
    "# '국외여행합계' 열의 null값은 0, \n",
    "#'논문평점' 열의 null값은 '논문평점' 열의 값이 있는 경우의 점수들의 평균\n",
    "# '자국내 주소' 열의 null값은 '국가' 열의 값\n",
    "\n",
    "stu_info_pre. to_excel(\"C:/Users/Gumin JUNG/Desktop/IUDP학생현황.xlsx\", sheet_name=\"IUDPinfo\")"
   ]
  },
  {
   "cell_type": "code",
   "execution_count": null,
   "metadata": {},
   "outputs": [],
   "source": []
  },
  {
   "cell_type": "markdown",
   "metadata": {},
   "source": [
    "### 각 열 내 null값을 가진 셀의 합들의 합 <br> <stu_info.isnull().sum().sum()>"
   ]
  },
  {
   "cell_type": "markdown",
   "metadata": {},
   "source": [
    "`stu_info.isnull().sum().sum()`"
   ]
  },
  {
   "cell_type": "code",
   "execution_count": null,
   "metadata": {},
   "outputs": [],
   "source": [
    "stu_info.isnull().sum().sum()"
   ]
  },
  {
   "cell_type": "code",
   "execution_count": null,
   "metadata": {},
   "outputs": [],
   "source": []
  },
  {
   "cell_type": "markdown",
   "metadata": {},
   "source": [
    "### null값 다른 값으로 변경 (.pivot_table에서) <br><.pivot_table(values='Series', index='Series', columns='Series', fill_value = '대체할값')>"
   ]
  },
  {
   "cell_type": "code",
   "execution_count": null,
   "metadata": {},
   "outputs": [],
   "source": [
    "petitions[petitions['votes'] > 200000].pivot_table(values='answered', \n",
    "  index='category', columns='duration', fill_value= 0)"
   ]
  },
  {
   "cell_type": "code",
   "execution_count": null,
   "metadata": {},
   "outputs": [],
   "source": []
  },
  {
   "cell_type": "markdown",
   "metadata": {},
   "source": [
    "### null값 보간처리 <.interpolate()>"
   ]
  },
  {
   "cell_type": "markdown",
   "metadata": {},
   "source": [
    "처리방법: 전,후값의 평균값 / 후값이 없을 경우, 전값 그대로 반환"
   ]
  },
  {
   "cell_type": "code",
   "execution_count": null,
   "metadata": {},
   "outputs": [],
   "source": [
    "s = pd.Series([0, 1, np.nan, 3])\n",
    "s.interpolate()"
   ]
  },
  {
   "cell_type": "code",
   "execution_count": null,
   "metadata": {},
   "outputs": [],
   "source": [
    "airplane_info = pd.read_csv('C:/Users/Gumin JUNG/OneDrive - 서울시립대학교/jupyter_notebook/실습자료-손에잡히는판다스/data/airplane_info.csv',\n",
    "                            engine='python')\n",
    "airplane_info['총정원'].tail(3)"
   ]
  },
  {
   "cell_type": "code",
   "execution_count": null,
   "metadata": {},
   "outputs": [],
   "source": [
    "airplane_info['총정원_보간'] = airplane_info['총정원'].interpolate()\n",
    "airplane_info[['총정원', '총정원_보간']][2105:2109]"
   ]
  },
  {
   "cell_type": "code",
   "execution_count": null,
   "metadata": {},
   "outputs": [],
   "source": []
  },
  {
   "cell_type": "markdown",
   "metadata": {},
   "source": [
    "### 특정열의 각 원소 null 여부 boolean 반환 <br><np.isnan(Series) or Series.apply(np.isnan)> (특정 열 null 값 있는지 여부만 확인할 때는  Series.hasnans)\n"
   ]
  },
  {
   "cell_type": "code",
   "execution_count": null,
   "metadata": {},
   "outputs": [],
   "source": [
    "np.isnan(airplane_info['총정원'])\n",
    "# = airplane_info['총정원'].apply(np.isnan) \n",
    "# = airplane_info['총정원'].isnull()"
   ]
  },
  {
   "cell_type": "code",
   "execution_count": null,
   "metadata": {},
   "outputs": [],
   "source": []
  },
  {
   "cell_type": "markdown",
   "metadata": {},
   "source": [
    "### null값이 아닌 값의 칼럼별 개수 <.count()>"
   ]
  },
  {
   "cell_type": "code",
   "execution_count": null,
   "metadata": {},
   "outputs": [],
   "source": [
    "airplane_info.count()"
   ]
  },
  {
   "cell_type": "code",
   "execution_count": null,
   "metadata": {},
   "outputs": [],
   "source": []
  },
  {
   "cell_type": "markdown",
   "metadata": {},
   "source": [
    "### null값의 칼럼별 개수 <.isnull().sum()>"
   ]
  },
  {
   "cell_type": "code",
   "execution_count": null,
   "metadata": {},
   "outputs": [],
   "source": [
    "airplane_info.isnull().sum()"
   ]
  },
  {
   "cell_type": "code",
   "execution_count": null,
   "metadata": {},
   "outputs": [],
   "source": []
  },
  {
   "cell_type": "markdown",
   "metadata": {},
   "source": [
    "### null 아닌 값의 칼럼별 개수 <.notnull().sum()>"
   ]
  },
  {
   "cell_type": "code",
   "execution_count": null,
   "metadata": {},
   "outputs": [],
   "source": [
    "airplane_info.notnull().sum()"
   ]
  },
  {
   "cell_type": "code",
   "execution_count": null,
   "metadata": {},
   "outputs": [],
   "source": []
  },
  {
   "cell_type": "markdown",
   "metadata": {},
   "source": [
    "### null값의 칼럼별 개수의 합계 <.isnull().sum().sum()>"
   ]
  },
  {
   "cell_type": "code",
   "execution_count": null,
   "metadata": {},
   "outputs": [],
   "source": [
    "airplane_info.isnull().sum().sum()"
   ]
  },
  {
   "cell_type": "code",
   "execution_count": null,
   "metadata": {},
   "outputs": [],
   "source": []
  },
  {
   "cell_type": "markdown",
   "metadata": {},
   "source": [
    "### value_counts메소드에서 null값 빈도 표시 <.value_counts(dropna=False)>"
   ]
  },
  {
   "cell_type": "code",
   "execution_count": null,
   "metadata": {},
   "outputs": [],
   "source": [
    "flight_route_info['비고'].value_counts(dropna=False).head()"
   ]
  },
  {
   "cell_type": "code",
   "execution_count": null,
   "metadata": {},
   "outputs": [],
   "source": []
  },
  {
   "cell_type": "markdown",
   "metadata": {},
   "source": [
    "### 특정열 null값 삭제 (index속성을 사용) <Series.index[Series.apply(np.isnan)]>"
   ]
  },
  {
   "cell_type": "code",
   "execution_count": null,
   "metadata": {},
   "outputs": [],
   "source": [
    "index_nan = airplane_info['총정원'].index[\n",
    "            airplane_info['총정원'].apply(np.isnan)]"
   ]
  },
  {
   "cell_type": "code",
   "execution_count": null,
   "metadata": {},
   "outputs": [],
   "source": [
    "airplane_info.drop(index=index_nan)"
   ]
  },
  {
   "cell_type": "code",
   "execution_count": null,
   "metadata": {},
   "outputs": [],
   "source": []
  },
  {
   "cell_type": "markdown",
   "metadata": {},
   "source": [
    "### null값을 다른 열의 null값으로 대체 <br> <df.loc[df[A].isnull(),A] = df.loc[df[A].isnull(),B]>\n",
    "##### A = null값 있는 열, B = null 값 대체할 값 가진 열"
   ]
  },
  {
   "cell_type": "code",
   "execution_count": null,
   "metadata": {},
   "outputs": [],
   "source": [
    "import pandas as pd\n",
    "import numpy as np\n",
    "airplane = pd.read_csv('C:/Users/Gumin JUNG/OneDrive - 서울시립대학교/jupyter_notebook/실습자료-손에잡히는판다스/data/airplane_info.csv', \n",
    "                       engine='python')"
   ]
  },
  {
   "cell_type": "code",
   "execution_count": null,
   "metadata": {},
   "outputs": [],
   "source": [
    "airplane.loc[airplane['총정원'].isnull(),'총정원'] = airplane.loc[airplane['총정원'].isnull(),'정원_Y']"
   ]
  },
  {
   "cell_type": "code",
   "execution_count": null,
   "metadata": {},
   "outputs": [],
   "source": []
  },
  {
   "cell_type": "markdown",
   "metadata": {
    "toc-hr-collapsed": true
   },
   "source": [
    "## 중복값 처리"
   ]
  },
  {
   "cell_type": "markdown",
   "metadata": {},
   "source": [
    "### 중복값 여부 확인 <.duplicated(subset=None(column label or sequence of labels, keep='first')>\n",
    "\n",
    "subset : 중복값 확인 시 고려되는 열 <br>\n",
    "keep='first' : 중복이면 중복의 첫번째 값 duplicated 여부를 False로 반환<br>\n",
    "keep='last' : 중복이면 중복의 마지막 값 duplicated 여부를 False로 반환<br>\n",
    "keep=False : 중복이면 무조건 True 반환(나중에 drop_duplicates() 에서 keep 할 생각이 없다는 뜻)"
   ]
  },
  {
   "cell_type": "code",
   "execution_count": null,
   "metadata": {},
   "outputs": [],
   "source": [
    "iris = sns.load_dataset('iris')"
   ]
  },
  {
   "cell_type": "code",
   "execution_count": null,
   "metadata": {},
   "outputs": [],
   "source": [
    "iris.head()"
   ]
  },
  {
   "cell_type": "code",
   "execution_count": null,
   "metadata": {},
   "outputs": [],
   "source": [
    "iris.duplicated(subset=['petal_length', 'petal_width']).head()"
   ]
  },
  {
   "cell_type": "markdown",
   "metadata": {},
   "source": [
    "#### 중복값의 칼럼별 개수 <.duplicated().sum()>"
   ]
  },
  {
   "cell_type": "code",
   "execution_count": null,
   "metadata": {},
   "outputs": [],
   "source": [
    "iris.duplicated(subset=['petal_length', 'petal_width']).sum()"
   ]
  },
  {
   "cell_type": "code",
   "execution_count": null,
   "metadata": {},
   "outputs": [],
   "source": []
  },
  {
   "cell_type": "markdown",
   "metadata": {},
   "source": [
    "### 중복된 열의 정보 삭제 <series.drop_duplicates()>"
   ]
  },
  {
   "cell_type": "code",
   "execution_count": null,
   "metadata": {},
   "outputs": [],
   "source": [
    "iris['species'].unique()"
   ]
  },
  {
   "cell_type": "code",
   "execution_count": null,
   "metadata": {},
   "outputs": [],
   "source": [
    "iris['species'].drop_duplicates()"
   ]
  },
  {
   "cell_type": "code",
   "execution_count": null,
   "metadata": {},
   "outputs": [],
   "source": []
  },
  {
   "cell_type": "markdown",
   "metadata": {
    "toc-hr-collapsed": true
   },
   "source": [
    "## 문자열 처리"
   ]
  },
  {
   "cell_type": "markdown",
   "metadata": {},
   "source": [
    "### 한 셀에 ','로 구분 된 문자열 내용 분리하기"
   ]
  },
  {
   "cell_type": "code",
   "execution_count": null,
   "metadata": {},
   "outputs": [],
   "source": [
    "mcq['LearningPlatformSelect'] = \\\n",
    "mcq['LearningPlatformSelect'].astype('str').apply(lambda x: x.split(','))\n",
    "s = mcq.apply(\n",
    "    lambda x: pd.Series(x['LearningPlatformSelect']),\n",
    "    axis=1).stack().reset_index(level=1, drop=True)\n",
    "s.name = 'platform'"
   ]
  },
  {
   "cell_type": "code",
   "execution_count": null,
   "metadata": {},
   "outputs": [],
   "source": []
  },
  {
   "cell_type": "markdown",
   "metadata": {},
   "source": [
    "### 문자열 나누기 <.str.split('나누는기준문자')>"
   ]
  },
  {
   "cell_type": "code",
   "execution_count": null,
   "metadata": {},
   "outputs": [],
   "source": [
    "ss = pd.Series(['가_나_다', '라_마_바', np.nan, '사_아_자'])"
   ]
  },
  {
   "cell_type": "code",
   "execution_count": null,
   "metadata": {},
   "outputs": [],
   "source": [
    "ss.str.split('_')"
   ]
  },
  {
   "cell_type": "code",
   "execution_count": null,
   "metadata": {},
   "outputs": [],
   "source": []
  },
  {
   "cell_type": "markdown",
   "metadata": {},
   "source": [
    "### 문자열 나눈 후 가져오기 <.str.split.get(가져올 문자열 번호) (or str[가져올 문자열 번호]>"
   ]
  },
  {
   "cell_type": "code",
   "execution_count": null,
   "metadata": {},
   "outputs": [],
   "source": [
    "ss.str.split('_').str.get(1) # = ss.str.split('_').str[1]"
   ]
  },
  {
   "cell_type": "code",
   "execution_count": null,
   "metadata": {},
   "outputs": [],
   "source": []
  },
  {
   "cell_type": "markdown",
   "metadata": {},
   "source": [
    "### 문자열 가져오기 <.str.get(가져올 문자열 번호) (or str[가져올 문자열 번호]>"
   ]
  },
  {
   "cell_type": "code",
   "execution_count": null,
   "metadata": {},
   "outputs": [],
   "source": [
    "# ss.get(0) # '가_나_다'\n",
    "ss.str.get(0) # =ss.str[0]"
   ]
  },
  {
   "cell_type": "code",
   "execution_count": null,
   "metadata": {},
   "outputs": [],
   "source": []
  },
  {
   "cell_type": "markdown",
   "metadata": {},
   "source": [
    "### 문자열 나눈 후 데이터프레임 생성 <br><.str.split('나누는기준문자', expand=True, n=리스트에서 분리해 낼 원소수)>"
   ]
  },
  {
   "cell_type": "code",
   "execution_count": null,
   "metadata": {},
   "outputs": [],
   "source": [
    "ss.str.split('_', expand=True) #: 분리 후 리스트 원소를 각 열의 값으로 보내 데이터프레임 생성"
   ]
  },
  {
   "cell_type": "code",
   "execution_count": null,
   "metadata": {},
   "outputs": [],
   "source": [
    "ss.str.split('_', expand=True, n=1)"
   ]
  },
  {
   "cell_type": "code",
   "execution_count": null,
   "metadata": {},
   "outputs": [],
   "source": [
    "ss.str.rsplit('_', expand=True, n=1)\n",
    "# 오른쪽 기준으로 데이터프레임 만들기 때문에 왼쪽 열의 값을 마지막 열의 값이 처리한 나머지 보관 해 처리"
   ]
  },
  {
   "cell_type": "code",
   "execution_count": null,
   "metadata": {},
   "outputs": [],
   "source": []
  },
  {
   "cell_type": "markdown",
   "metadata": {},
   "source": [
    "### 문자열 대체 <.str.replace(\"현재str\", \"대체str\")>"
   ]
  },
  {
   "cell_type": "code",
   "execution_count": null,
   "metadata": {},
   "outputs": [],
   "source": [
    "ss.str.replace('_', '%') # : 대체값 처리    "
   ]
  },
  {
   "cell_type": "code",
   "execution_count": null,
   "metadata": {},
   "outputs": [],
   "source": []
  },
  {
   "cell_type": "markdown",
   "metadata": {},
   "source": [
    "### 열내용을 대문자로 변환<br> Series.apply(str.upper)"
   ]
  },
  {
   "cell_type": "code",
   "execution_count": null,
   "metadata": {},
   "outputs": [],
   "source": [
    "cars.loc[:, 'COUNTRY'] = cars.loc[:, 'country'].apply(str.upper)\n",
    "[출처] Dictionary 자료구조와 Pandas 라이브러리|작성자 Gauss"
   ]
  },
  {
   "cell_type": "code",
   "execution_count": null,
   "metadata": {},
   "outputs": [],
   "source": []
  },
  {
   "cell_type": "markdown",
   "metadata": {},
   "source": [
    "### 리스트/Dict/Series/정규식/실수 대체 <br><.replace(to_replace=['남', '여'], value=1)>"
   ]
  },
  {
   "cell_type": "markdown",
   "metadata": {},
   "source": [
    "`df.replace(to_replace=None, value=None, inplace=False, limit=None, regex=False, method='pad'): Replace values given in to_replace with value.`"
   ]
  },
  {
   "cell_type": "code",
   "execution_count": null,
   "metadata": {},
   "outputs": [],
   "source": [
    "stu_info['성별'].replace({'남':1, '여':2}) # '남'은 1, '여'는 2로 대체\n",
    "#stu_info['성별'].replace(['남', '여'], 1) # '남','여' 모두 1로 대체"
   ]
  },
  {
   "cell_type": "code",
   "execution_count": null,
   "metadata": {},
   "outputs": [],
   "source": [
    "stu_info['성명'].replace(r'^.',1, regex=True) #모든 문자 1로 변경\n",
    "# r: 정규식 명령시작, ^: 시작문자, $: 끝문자, .: 모든문자"
   ]
  },
  {
   "cell_type": "code",
   "execution_count": null,
   "metadata": {},
   "outputs": [],
   "source": [
    "stu_info.replace({'성명': r'^S..', '전공': r'...P$'}, \n",
    "                 {'성명': 'rao', '전공': 'SEP'}, regex=True)\n",
    "# '성명'열에서 S로 시작하는 세 문자 는 rao 로, \n",
    "# '전공'열에서 P로 끝나는 문자열의 P포함한 직전 세 문자 는 SEP 으로 변경"
   ]
  },
  {
   "cell_type": "code",
   "execution_count": null,
   "metadata": {},
   "outputs": [],
   "source": []
  },
  {
   "cell_type": "markdown",
   "metadata": {},
   "source": [
    "### 문자열 통합 <.str.cat(sep='연결구분자')>"
   ]
  },
  {
   "cell_type": "code",
   "execution_count": null,
   "metadata": {},
   "outputs": [],
   "source": [
    "ss.str.cat(sep=',') #: 문자열 통합,  sep=',' - 연결시 사용되는 구분자"
   ]
  },
  {
   "cell_type": "code",
   "execution_count": null,
   "metadata": {},
   "outputs": [],
   "source": [
    "ss.str.cat() # : 구분자 없으면 주어진 문자열로 처리"
   ]
  },
  {
   "cell_type": "code",
   "execution_count": null,
   "metadata": {},
   "outputs": [],
   "source": [
    "ss.str.cat(['A', 'B', 'C', 'D']) # : 새인자 추가 해 붙이기"
   ]
  },
  {
   "cell_type": "code",
   "execution_count": null,
   "metadata": {},
   "outputs": [],
   "source": []
  },
  {
   "cell_type": "markdown",
   "metadata": {},
   "source": [
    "### 시리즈를 리스트로 변환 <.tolist>"
   ]
  },
  {
   "cell_type": "code",
   "execution_count": null,
   "metadata": {},
   "outputs": [],
   "source": [
    "op_eq_list = op_eq['member'].tolist"
   ]
  },
  {
   "cell_type": "code",
   "execution_count": null,
   "metadata": {},
   "outputs": [],
   "source": []
  },
  {
   "cell_type": "markdown",
   "metadata": {},
   "source": [
    "### 특정 문자열 포함한 행에 대한 데이터프레임 추출 <br> <.loc[Series.str.contains('str')]>"
   ]
  },
  {
   "cell_type": "code",
   "execution_count": null,
   "metadata": {},
   "outputs": [],
   "source": [
    "question.loc[question['Column'].str.contains('LearningCategory')]"
   ]
  },
  {
   "cell_type": "code",
   "execution_count": null,
   "metadata": {},
   "outputs": [],
   "source": []
  },
  {
   "cell_type": "markdown",
   "metadata": {},
   "source": [
    "### DataFrame 내 자료형별 열 개수 구하기 <.get_dtype_counts()>"
   ]
  },
  {
   "cell_type": "code",
   "execution_count": null,
   "metadata": {},
   "outputs": [],
   "source": [
    "college.get_dtype_counts()"
   ]
  },
  {
   "cell_type": "code",
   "execution_count": null,
   "metadata": {},
   "outputs": [],
   "source": []
  },
  {
   "cell_type": "markdown",
   "metadata": {},
   "source": [
    "### 특정 자료형 열추출 <.select_dtypes(include=['자료형'])>"
   ]
  },
  {
   "cell_type": "code",
   "execution_count": null,
   "metadata": {},
   "outputs": [],
   "source": [
    "# int64 dtype열만 불러오기\n",
    "college.select_dtypes(include=['int64']).head()\n",
    "# 숫자형 dtype열만 불러오기 (np.number = 'number' 동일)\n",
    "college.select_dtypes(include=['number']).head()\n",
    "# 법주형 dtype열만 불러오기 (np.object = 'object' 동일)\n",
    "college.select_dtypes(include=['object']).head()"
   ]
  },
  {
   "cell_type": "code",
   "execution_count": null,
   "metadata": {},
   "outputs": [],
   "source": []
  },
  {
   "cell_type": "markdown",
   "metadata": {
    "toc-hr-collapsed": true
   },
   "source": [
    "## index값 처리"
   ]
  },
  {
   "cell_type": "markdown",
   "metadata": {},
   "source": [
    "### 내부 구성 값 크기별 정렬 <br> <.nlargest(숫자), .nsmallest(숫자)>"
   ]
  },
  {
   "cell_type": "code",
   "execution_count": null,
   "metadata": {},
   "outputs": [],
   "source": [
    "# 평균등록금 상위 5개 내림차순 정렬\n",
    "college['평균등록금'].nlargest(5)\n",
    "# 평균등록금 하위 5개 오름차순 정렬\n",
    "college['평균등록금'].nsmallest(5)\n",
    "# college DataFrame을 평균등록금 기준 상위 5개 내림차순 정렬\n",
    "college.nlargest(5,'평균등록금')\n",
    "# college DataFrame을 평균등록금 기준 하위 5개 오름차순 정렬\n",
    "college.nsmallest(5,'평균등록금')"
   ]
  },
  {
   "cell_type": "code",
   "execution_count": null,
   "metadata": {},
   "outputs": [],
   "source": []
  },
  {
   "cell_type": "markdown",
   "metadata": {},
   "source": [
    "### 임계치 지정 해 값 변환 <br> <.clip, lower=숫자 , upper=숫자>"
   ]
  },
  {
   "cell_type": "code",
   "execution_count": null,
   "metadata": {},
   "outputs": [],
   "source": [
    "df[\"A\"].clip(lower=2, upper=8)"
   ]
  },
  {
   "cell_type": "code",
   "execution_count": null,
   "metadata": {},
   "outputs": [],
   "source": []
  },
  {
   "cell_type": "markdown",
   "metadata": {},
   "source": [
    "### 실수 값을 카테고리 값으로 변환 <br> <.cut(data, bins, labels=[]) / .qcut(data, 범주수, labels=[]>"
   ]
  },
  {
   "cell_type": "markdown",
   "metadata": {},
   "source": [
    "* 실수 값을 크기 기준으로 하여 카테고리 값으로 변환할 때 사용\n",
    "* cut: 실수 값의 경계선 지정\n",
    "* qcut: 실수 값의 경계선 미지정, 갯수가 똑같은 구간으로 나눔"
   ]
  },
  {
   "cell_type": "code",
   "execution_count": null,
   "metadata": {},
   "outputs": [],
   "source": [
    "ages = [0, 2, 10, 21, 23, 37, 31, 61, 20, 41, 32, 100]\n",
    "bins = [1, 15, 25, 35, 60, 99]\n",
    "labels = [\"미성년자\", \"청년\", \"중년\", \"장년\", \"노년\"]\n",
    "cats = pd.cut(ages, bins, labels=labels)\n",
    "cats\n",
    "# cut 명령이 반환하는 값은 Categorical 클래스 객체 \n",
    "# cat.categories 속성으로 라벨 문자열, cat.codes 속성으로 정수로 인코딩한 카테고리 값 가짐\n",
    "\n",
    "df4 = pd.DataFrame(ages, columns=[\"ages\"])\n",
    "df4[\"age_cat\"] = pd.cut(df4[\"ages\"], bins, labels=labels)\n",
    "df4"
   ]
  },
  {
   "cell_type": "code",
   "execution_count": null,
   "metadata": {},
   "outputs": [],
   "source": [
    "data = np.random.randn(1000)\n",
    "cats = pd.qcut(data, 4, labels=[\"Q1\", \"Q2\", \"Q3\", \"Q4\"])\n",
    "cats\n",
    "pd.value_counts(cats)"
   ]
  },
  {
   "cell_type": "code",
   "execution_count": null,
   "metadata": {},
   "outputs": [],
   "source": []
  },
  {
   "cell_type": "markdown",
   "metadata": {},
   "source": [
    "### 특정 컬럼과 특정 인덱스 동시 삭제 <br><.drop(columns=df.filter().columns, index=[]>"
   ]
  },
  {
   "cell_type": "code",
   "execution_count": null,
   "metadata": {},
   "outputs": [],
   "source": [
    "# m 또는 y또는 o 로 시작하는 컬럼과, 0,1,2 인덱스 삭제\n",
    "df.drop(columns=df.filter(regex='^[myo]').columns, index=[0,1,2])"
   ]
  },
  {
   "cell_type": "code",
   "execution_count": null,
   "metadata": {},
   "outputs": [],
   "source": []
  },
  {
   "cell_type": "markdown",
   "metadata": {},
   "source": [
    "### 행 위치 이동  <br> <.shift(이동할행[인덱스]숫자, , freq=\"시간단위인수\")>"
   ]
  },
  {
   "cell_type": "markdown",
   "metadata": {},
   "source": [
    "`ts.shift(1, freq=\"W\")`"
   ]
  },
  {
   "cell_type": "markdown",
   "metadata": {},
   "source": [
    "* 결측치 처리 시 주로 사용\n",
    "* 시계열 인덱스 이동 시에도 사용"
   ]
  },
  {
   "cell_type": "code",
   "execution_count": null,
   "metadata": {},
   "outputs": [],
   "source": [
    "df2['b'].shift(2)"
   ]
  },
  {
   "cell_type": "code",
   "execution_count": null,
   "metadata": {},
   "outputs": [],
   "source": [
    "ts = pd.Series(np.random.randn(4), index=pd.date_range(\n",
    "    \"20180101\", periods=4, freq=\"M\"))\n",
    "ts.shift(1, freq=\"W\")  \n",
    "# 시계열 인덱스에서 freq로 단위 지정 해 인덱스 이동 가능\n",
    "# 첫번째 값의 인덱스가 다음(1) 주 일요일(W)만큼 앞당겨 짐"
   ]
  },
  {
   "cell_type": "code",
   "execution_count": null,
   "metadata": {},
   "outputs": [],
   "source": []
  },
  {
   "cell_type": "markdown",
   "metadata": {},
   "source": [
    "### 특정기준으로 몇 번째 값인지 보여 줌  <br> <.rank, method=기준이 되는 연산, pct=True 퍼센트>"
   ]
  },
  {
   "cell_type": "code",
   "execution_count": null,
   "metadata": {},
   "outputs": [],
   "source": [
    "df[\"model_year\"].rank(method='dense', pct=True) # method='min', 'first', 'dense' "
   ]
  },
  {
   "cell_type": "code",
   "execution_count": null,
   "metadata": {},
   "outputs": [],
   "source": []
  },
  {
   "cell_type": "markdown",
   "metadata": {},
   "source": [
    "### .groupby연산결과가 Series일 때 DataFrame으로 추출 <br><.groupby(Series, as_index=False)[값Series].sum()>"
   ]
  },
  {
   "cell_type": "code",
   "execution_count": null,
   "metadata": {},
   "outputs": [],
   "source": [
    "df.groupby(\"Team\", as_index=False)[\"Points\"].sum()"
   ]
  },
  {
   "cell_type": "code",
   "execution_count": null,
   "metadata": {},
   "outputs": [],
   "source": []
  },
  {
   "cell_type": "markdown",
   "metadata": {},
   "source": [
    "### MultiIndex DataFrame에서 index레벨 변경 <br> <.swaplevel(i=-2, j=-1, copy=True)>"
   ]
  },
  {
   "cell_type": "code",
   "execution_count": 2,
   "metadata": {},
   "outputs": [],
   "source": [
    "import pandas as pd\n",
    "ipl_data = {'Team': ['Riders', 'Riders', 'Devils', 'Devils', 'Kings',\n",
    "         'kings', 'Kings', 'Kings', 'Riders', 'Royals', 'Royals', 'Riders'],\n",
    "         'Rank': [1, 2, 2, 3, 3,4 ,1 ,1,2 , 4,1,2],\n",
    "         'Year': [2014,2015,2014,2015,2014,2015,2016,2017,2016,2014,2015,2017],\n",
    "         'Points':[876,789,863,673,741,812,756,788,694,701,804,690]}\n",
    "\n",
    "df = pd.DataFrame(ipl_data)"
   ]
  },
  {
   "cell_type": "code",
   "execution_count": null,
   "metadata": {},
   "outputs": [],
   "source": [
    "h_index = df.groupby([\"Team\", \"Year\"])[\"Points\"].sum()\n",
    "h_index\n",
    "h_index.swaplevel(i=-2, j=-1, copy=True)"
   ]
  },
  {
   "cell_type": "code",
   "execution_count": null,
   "metadata": {},
   "outputs": [],
   "source": []
  },
  {
   "cell_type": "markdown",
   "metadata": {},
   "source": [
    "### MultiIndex DataFrame에서 index 정렬 <br> <.sort_index(level=0)>"
   ]
  },
  {
   "cell_type": "code",
   "execution_count": null,
   "metadata": {},
   "outputs": [],
   "source": [
    "h_index.swaplevel().sort_index(level=0)"
   ]
  },
  {
   "cell_type": "code",
   "execution_count": null,
   "metadata": {},
   "outputs": [],
   "source": []
  },
  {
   "cell_type": "markdown",
   "metadata": {
    "toc-hr-collapsed": true
   },
   "source": [
    "## 특정 값,위치 검색"
   ]
  },
  {
   "cell_type": "markdown",
   "metadata": {},
   "source": [
    "### 특정열에서 특정문자 포함한 값 찾기 <br> <Series.str.contains('찾는문자')>"
   ]
  },
  {
   "cell_type": "code",
   "execution_count": null,
   "metadata": {},
   "outputs": [],
   "source": [
    "question['Column'].str.contains('LearningCategory')"
   ]
  },
  {
   "cell_type": "code",
   "execution_count": null,
   "metadata": {},
   "outputs": [],
   "source": []
  },
  {
   "cell_type": "markdown",
   "metadata": {},
   "source": [
    "### 특정열에서 특정값 찾기 <br> <Series.isin(['특정값1, 특정값n'])>"
   ]
  },
  {
   "cell_type": "code",
   "execution_count": null,
   "metadata": {},
   "outputs": [],
   "source": [
    "question['Column'].str.contains('LearningCategory')"
   ]
  },
  {
   "cell_type": "code",
   "execution_count": null,
   "metadata": {},
   "outputs": [],
   "source": []
  },
  {
   "cell_type": "markdown",
   "metadata": {},
   "source": [
    "### 특정 열 내에 특정 값 있는 경우, 해당 행 전체를 반환 <br> <.query('검색대상열 == 검색대상값')>"
   ]
  },
  {
   "cell_type": "code",
   "execution_count": null,
   "metadata": {},
   "outputs": [],
   "source": [
    "airplane.query('총정원 == 180')"
   ]
  },
  {
   "cell_type": "code",
   "execution_count": null,
   "metadata": {},
   "outputs": [],
   "source": []
  },
  {
   "cell_type": "markdown",
   "metadata": {},
   "source": [
    "### 특정 행열 위치 값 변경 <br><.set_value('행명', '열명', '대체할값')>"
   ]
  },
  {
   "cell_type": "code",
   "execution_count": null,
   "metadata": {},
   "outputs": [],
   "source": [
    "airplane.set_value(100, '총정원', 180)"
   ]
  },
  {
   "cell_type": "code",
   "execution_count": null,
   "metadata": {},
   "outputs": [],
   "source": []
  },
  {
   "cell_type": "markdown",
   "metadata": {},
   "source": [
    "### 특정 값 행렬위치로 검색 <.lookup([행레이블1,행레이블n],[열레이블1, 열레이블n])>"
   ]
  },
  {
   "cell_type": "code",
   "execution_count": null,
   "metadata": {},
   "outputs": [],
   "source": [
    "diamonds = sns.load_dataset('diamonds')\n",
    "diamonds.lookup([3,0],['clarity', 'depth'])"
   ]
  },
  {
   "cell_type": "code",
   "execution_count": null,
   "metadata": {},
   "outputs": [],
   "source": []
  },
  {
   "cell_type": "markdown",
   "metadata": {},
   "source": [
    "### 특정 행렬위치 레이블로 열 또는 데이터프레임 반환 <br><.xs(행[열]레이블, axis=0, level=None[반환수준], drop_level=True[False:동일수준반환])>"
   ]
  },
  {
   "cell_type": "code",
   "execution_count": null,
   "metadata": {},
   "outputs": [],
   "source": [
    "df = pd.DataFrame({'A':[4, 4, 9], 'B':[5, 0, 7], 'C':[2, 9, 3]}, \n",
    "                  index=['a','b','c'])\n",
    "print(df.xs('a'))\n",
    "print(df.xs('C', axis=1))"
   ]
  },
  {
   "cell_type": "code",
   "execution_count": null,
   "metadata": {},
   "outputs": [],
   "source": []
  },
  {
   "cell_type": "markdown",
   "metadata": {},
   "source": [
    "### 멀티인덱스 검색으로  열 또는 데이터프레임 반환 <br><.xs((행[열]레이블 1, 행[열]레이블 n), axis=0)>"
   ]
  },
  {
   "cell_type": "markdown",
   "metadata": {},
   "source": [
    "`np.round(a, decimals=0, out=None)` <br>\n",
    " `study_data.xs(('지원','컴공'), axis=1)`"
   ]
  },
  {
   "cell_type": "code",
   "execution_count": 9,
   "metadata": {},
   "outputs": [],
   "source": [
    "r_inx = pd.MultiIndex.from_product(\n",
    "    [[2017,2018],[1,2]], names=['년도','과제점수'])\n",
    "c_inx =  pd.MultiIndex.from_product(\n",
    "    [['철수','영희', '지원'],['컴공', '경제']], names=['학생', '학과'])\n",
    "data = np.round(np.abs(np.random.randn(4,6)),1)\n",
    "study_data = pd.DataFrame(data, index=r_inx, columns=c_inx)\n",
    "\n",
    "study_data.xs((2017,1)) # '년도','과제점수' 에서 두 번째 레벨에 맞춰 처리 \n",
    "study_data.xs(('지원','컴공'), axis=1) # 열 단위 처리를 위해선 axis=1 추가"
   ]
  },
  {
   "cell_type": "code",
   "execution_count": null,
   "metadata": {},
   "outputs": [],
   "source": []
  },
  {
   "cell_type": "markdown",
   "metadata": {},
   "source": [
    "### 특정범위 내 특정 값 있는 경우, 불리언값 반환 <br> <.between(시작값,종료값)>"
   ]
  },
  {
   "cell_type": "code",
   "execution_count": null,
   "metadata": {},
   "outputs": [],
   "source": [
    "mask = airplane['총정원'].between(1,120)"
   ]
  },
  {
   "cell_type": "code",
   "execution_count": null,
   "metadata": {},
   "outputs": [],
   "source": []
  },
  {
   "cell_type": "markdown",
   "metadata": {
    "toc-hr-collapsed": false
   },
   "source": [
    "### 특정열을 범주화한 열 생성하기 <br><df[생성열] = pd.Categorical(np.where(조건, True일때범주명, False일때범주명)>"
   ]
  },
  {
   "cell_type": "code",
   "execution_count": null,
   "metadata": {},
   "outputs": [],
   "source": [
    "airplane['category_R'] = \"\""
   ]
  },
  {
   "cell_type": "code",
   "execution_count": null,
   "metadata": {},
   "outputs": [],
   "source": [
    "airplane['category_R']= pd.Categorical(np.where(mask,'소형', '중형'))"
   ]
  },
  {
   "cell_type": "code",
   "execution_count": null,
   "metadata": {},
   "outputs": [],
   "source": []
  },
  {
   "cell_type": "markdown",
   "metadata": {
    "toc-hr-collapsed": true
   },
   "source": [
    "## Groupby 활용"
   ]
  },
  {
   "cell_type": "markdown",
   "metadata": {},
   "source": [
    "`groupby(by=None, axis=0, level=None, as_index=True, sort=True, group_keys=True, squeeze=False, **kwargs)`"
   ]
  },
  {
   "cell_type": "markdown",
   "metadata": {},
   "source": [
    "* by : mapping, function, str, or iterable\n",
    "* axis : int, default 0\n",
    "* level : If the axis is a MultiIndex (hierarchical), group by a particular level or levels\n",
    "* as_index : For aggregated output, return object with group labels as the index. Only relevant for DataFrame input. as_index=False is effectively “SQL-style” grouped output\n",
    "* sort : Sort group keys. Get better performance by turning this off. Note this does not influence the order of observations within each group. groupby preserves the order of rows within each group.\n",
    "* group_keys : When calling apply, add group keys to index to identify pieces\n",
    "* squeeze : Reduce the dimensionality of the return type if possible, otherwise return a consistent type"
   ]
  },
  {
   "cell_type": "markdown",
   "metadata": {},
   "source": [
    "`Groupby에 자주 이용되는 함수`"
   ]
  },
  {
   "cell_type": "markdown",
   "metadata": {},
   "source": [
    "* size, count: 갯수\n",
    "* mean, median, min, max: 평균, 중앙값, 최소, 최대\n",
    "* sum, prod, std, var, quantile : 합계, 곱, 표준편차, 분산, 사분위수\n",
    "* first, last: 그룹 데이터 가장 첫번째 데이터와 가장 나중 데이터\n",
    "* agg, aggregate\n",
    "    * 사용자함수를 만들고 agg에 전달 가능\n",
    "    * 여러 그룹연산 동시수행할 경우, 함수 이름 문자열의 리스트를 agg에 전달\n",
    "* describe: 하나의 그룹 대표값이 아닌 여러개 값을 데이터프레임으로 구함\n",
    "* apply: 하나의 대표값이 아닌 데이터프레임 출력. 원하는 그룹연산 없는 경우 사용\n",
    "* transform: 그룹 대표값 아닌 그룹별 계산으로 데이터 자체를 변형"
   ]
  },
  {
   "cell_type": "code",
   "execution_count": null,
   "metadata": {},
   "outputs": [],
   "source": []
  },
  {
   "cell_type": "markdown",
   "metadata": {},
   "source": [
    "### Groupby 에 의해 split 된 정보 추출 <br> <df.groupby(Series)>"
   ]
  },
  {
   "cell_type": "code",
   "execution_count": 5,
   "metadata": {},
   "outputs": [],
   "source": [
    "import pandas as pd \n",
    "import numpy as np\n",
    "\n",
    "ipl_data = {'Team': ['Riders', 'Riders', 'Devils', 'Devils', 'Kings',\n",
    "         'kings', 'Kings', 'Kings', 'Riders', 'Royals', 'Royals', 'Riders'],\n",
    "         'Rank': [1, 2, 2, 3, 3,4 ,1 ,1,2 , 4,1,2],\n",
    "         'Year': [2014,2015,2014,2015,2014,2015,2016,2017,2016,2014,2015,2017],\n",
    "         'Points':[876,789,863,673,741,812,756,788,694,701,804,690]}\n",
    "\n",
    "df = pd.DataFrame(ipl_data)"
   ]
  },
  {
   "cell_type": "code",
   "execution_count": null,
   "metadata": {},
   "outputs": [],
   "source": [
    "name_group = df.groupby(\"Team\")"
   ]
  },
  {
   "cell_type": "code",
   "execution_count": null,
   "metadata": {},
   "outputs": [],
   "source": [
    "for name, group in name_group: \n",
    "    print(name)\n",
    "    print(group)\n",
    "# 그룹화 객체로 for ~ in 실행하면 \n",
    "# 그룹화 된 Series값이 name / 해당 Series의 나머지 데이터가 group으로 추출"
   ]
  },
  {
   "cell_type": "code",
   "execution_count": null,
   "metadata": {},
   "outputs": [],
   "source": []
  },
  {
   "cell_type": "markdown",
   "metadata": {},
   "source": [
    "### grouped_Series의 group별 key값, 특정 group의 index 및 데이터프레임 추출 <br>  <.groups.keys()  / .groups[\"특정그룹의key\"]  /  .get_group(\"특정그룹의key\")  /  .first()>"
   ]
  },
  {
   "cell_type": "markdown",
   "metadata": {},
   "source": [
    "GroupBy 클래스 객체에는 각 그룹 데이터의 인덱스를 저장한 groups 속성 활용"
   ]
  },
  {
   "cell_type": "markdown",
   "metadata": {},
   "source": [
    "`df.groupby(\"Team\").groups.keys()`: group별  key 값\n",
    "\n",
    "`df.groupby(\"Team\").groups[\"특정그룹의key\"]`: 특정 group index\n",
    "\n",
    "`df.groupby(\"Team\").get_group(\"특정그룹의key\")`: 특정 group df\n",
    "\n",
    "`df.groupby(\"Team\").first()`: group별 1번째 값"
   ]
  },
  {
   "cell_type": "code",
   "execution_count": null,
   "metadata": {},
   "outputs": [],
   "source": [
    "df.groupby(\"Team\").groups\n",
    "\n",
    "df.groupby(\"Team\").groups.keys()\n",
    "df.groupby(\"Team\").groups[\"Riders\"]\n",
    "df.groupby(\"Team\").get_group(\"Riders\")\n",
    "df.groupby(\"Team\").first()"
   ]
  },
  {
   "cell_type": "code",
   "execution_count": null,
   "metadata": {},
   "outputs": [],
   "source": []
  },
  {
   "cell_type": "markdown",
   "metadata": {},
   "source": [
    "### groupby 객체 연산을 pivot형태로 변경 <br>  <df.groupby(\"Team\").연산().unstack()>"
   ]
  },
  {
   "cell_type": "markdown",
   "metadata": {},
   "source": [
    "`df.groupby(\"Team\").mean().unstack()`"
   ]
  },
  {
   "cell_type": "code",
   "execution_count": null,
   "metadata": {},
   "outputs": [],
   "source": [
    "df.groupby([\"Team\", \"Year\"])[\"Points\"].mean().unstack()"
   ]
  },
  {
   "cell_type": "code",
   "execution_count": null,
   "metadata": {},
   "outputs": [],
   "source": []
  },
  {
   "cell_type": "markdown",
   "metadata": {},
   "source": [
    "### grouped_Series에 apply - .agg(), .transform(), .filter()"
   ]
  },
  {
   "cell_type": "markdown",
   "metadata": {},
   "source": [
    "***.agg()***:\n",
    "* 요약된 통계정보 추출\n",
    "* 특정 컬럼에 여러개의 function을 Apply 가능"
   ]
  },
  {
   "cell_type": "code",
   "execution_count": null,
   "metadata": {},
   "outputs": [],
   "source": [
    "df.groupby(\"Team\").agg(sum) # sum대신 'sum', 'np.sum' 가능\n",
    "df.groupby(\"Team\").agg(np.mean) # np.mean대신 'mean' 가능"
   ]
  },
  {
   "cell_type": "code",
   "execution_count": null,
   "metadata": {},
   "outputs": [],
   "source": [
    "df.groupby([\"Team\"]).agg([sum, 'mean', np.std])\n",
    "df.groupby([\"Team\"]).agg(\n",
    "    {\"Points\":sum, \"Rank\":min, \"Year\":\"count\"}) # groupby대상이 인덱스가 됨\n",
    "df.groupby([\"Team\"], as_index=False).agg(\n",
    "    {\"Points\":sum, \"Rank\":min, \"Year\":\"count\"}) # groupby대상이 인덱스되지 않음"
   ]
  },
  {
   "cell_type": "code",
   "execution_count": null,
   "metadata": {},
   "outputs": [],
   "source": [
    "df.groupby([\"Team\"]).agg(\n",
    "    {\"Points\": [min, max, sum],\n",
    "     \"Rank\":\"count\", \n",
    "     \"Year\":[\"first\", \"unique\",\"nunique\"]})"
   ]
  },
  {
   "cell_type": "markdown",
   "metadata": {},
   "source": [
    "![pandas_aggregation-1140x456](https://shanelynnwebsite-mid9n9g1q9y8tt.netdna-ssl.com/wp-content/uploads/2016/03/pandas_aggregation-1140x456.png)"
   ]
  },
  {
   "cell_type": "code",
   "execution_count": null,
   "metadata": {},
   "outputs": [],
   "source": []
  },
  {
   "cell_type": "markdown",
   "metadata": {},
   "source": [
    "***.transform()***: \n",
    "* Aggregation과 달리 key값 별로 요약된 정보가 아님\n",
    "* 개별 데이터의 변환을 지원함\n",
    "* max 나 min 처럼 Series 데이터에 적용되는 데이터들은 key 값을 기준으로 Grouped 된 데이터 기준"
   ]
  },
  {
   "cell_type": "code",
   "execution_count": null,
   "metadata": {},
   "outputs": [],
   "source": [
    "df.groupby([\"Team\"]).agg(np.mean)\n",
    "df.groupby([\"Team\"]).transform(np.mean)"
   ]
  },
  {
   "cell_type": "code",
   "execution_count": null,
   "metadata": {},
   "outputs": [],
   "source": []
  },
  {
   "cell_type": "markdown",
   "metadata": {},
   "source": [
    "***.filter()***: \n",
    "* 특정 조건으로 데이터를 검색할 때 사용\n",
    "* filter 안에는 boolen 조건이 존재해야함\n",
    "* len(x)는 grouped된 dataframe 개수"
   ]
  },
  {
   "cell_type": "code",
   "execution_count": null,
   "metadata": {},
   "outputs": [],
   "source": [
    "df.groupby([\"Team\"]).agg(lambda x: len(x) >= 3)\n",
    "df.groupby([\"Team\"]).filter(lambda x: len(x) >= 3)"
   ]
  },
  {
   "cell_type": "code",
   "execution_count": null,
   "metadata": {},
   "outputs": [],
   "source": []
  },
  {
   "cell_type": "markdown",
   "metadata": {},
   "source": [
    "### grouped_Series의 기본 연산 <br> <df.groupby(\"Team\").연산메소드(level=연산의 기준이 되는 Series 번호)>"
   ]
  },
  {
   "cell_type": "code",
   "execution_count": null,
   "metadata": {},
   "outputs": [],
   "source": [
    "h_index = df.groupby([\"Team\", \"Year\", \"Rank\"])[\"Points\"].sum()"
   ]
  },
  {
   "cell_type": "code",
   "execution_count": null,
   "metadata": {},
   "outputs": [],
   "source": [
    "h_index.sum(level=1)"
   ]
  },
  {
   "cell_type": "code",
   "execution_count": null,
   "metadata": {},
   "outputs": [],
   "source": []
  },
  {
   "cell_type": "markdown",
   "metadata": {},
   "source": [
    "### grouped_Series의 index 레벨 변경 <br><grouped_Series.연산메소드().swaplevel((i=-2, j=-1, copy=True): 멀티인덱스 i와 j 간 레벨변경"
   ]
  },
  {
   "cell_type": "code",
   "execution_count": null,
   "metadata": {},
   "outputs": [],
   "source": [
    "h_index; h_index.swaplevel(0,2, copy=True)"
   ]
  },
  {
   "cell_type": "code",
   "execution_count": null,
   "metadata": {},
   "outputs": [],
   "source": []
  },
  {
   "cell_type": "markdown",
   "metadata": {},
   "source": [
    "### grouped_Series 연산을 돕는 Multiindex정리방법 1: <br>droplevel(level=0): 대상Index레벨낮춤"
   ]
  },
  {
   "cell_type": "code",
   "execution_count": null,
   "metadata": {},
   "outputs": [],
   "source": [
    "grouped = df.groupby(\"Team\").agg({\"Points\": [sum, 'mean', np.std]})\n",
    "grouped.columns = grouped.columns.droplevel(level=0)\n",
    "grouped = grouped.rename(columns={\n",
    "    \"sum\": \"Points_sum\", \"mean\": \"Points_mean\", \"std\": \"Points_std\"\n",
    "})\n",
    "grouped.head()"
   ]
  },
  {
   "cell_type": "code",
   "execution_count": null,
   "metadata": {},
   "outputs": [],
   "source": []
  },
  {
   "cell_type": "markdown",
   "metadata": {},
   "source": [
    "### grouped_Series 연산을 돕는 Multiindex정리방법 2: <br>ravel(): MultiIndex를 단순배열로 변경"
   ]
  },
  {
   "cell_type": "code",
   "execution_count": null,
   "metadata": {},
   "outputs": [],
   "source": [
    "grouped = df.groupby(\"Team\").agg({\"Points\": [sum, 'mean', np.std]})\n",
    "grouped.columns = [\"_\".join(x) for x in grouped.columns.ravel()]\n",
    "grouped.head()"
   ]
  },
  {
   "cell_type": "code",
   "execution_count": null,
   "metadata": {},
   "outputs": [],
   "source": []
  },
  {
   "cell_type": "markdown",
   "metadata": {},
   "source": [
    "### grouped_Series의 index 기준으로 정렬 <br><grouped_Series.연산메소드().sort_index(level=정렬의 기준이 되는 Series 번호)>"
   ]
  },
  {
   "cell_type": "code",
   "execution_count": null,
   "metadata": {},
   "outputs": [],
   "source": [
    "h_index.sort_index(level=1)"
   ]
  },
  {
   "cell_type": "code",
   "execution_count": null,
   "metadata": {},
   "outputs": [],
   "source": []
  },
  {
   "cell_type": "markdown",
   "metadata": {},
   "source": [
    "## 피벗테이블 (groupby와 비교)"
   ]
  },
  {
   "cell_type": "markdown",
   "metadata": {},
   "source": [
    "* Index 축은 groupby와 동일\n",
    "* Column에 추가로 labelling 값을 추가\n",
    "* Value에 numeric type 값을 aggregate 하는 형태\n",
    "참조: https://wesmckinney.com/blog/fast-and-easy-pivot-tables-in-pandas-0-5-0/"
   ]
  },
  {
   "cell_type": "markdown",
   "metadata": {},
   "source": [
    "`stu_info.pivot_table(values=None, index=None, columns=None, aggfunc='mean', fill_value=None, margins=False, dropna=True, margins_name='All')`"
   ]
  },
  {
   "cell_type": "markdown",
   "metadata": {},
   "source": [
    "* data: 분석할 데이터프레임 (메서드일 때는 필요하지 않음)\n",
    "* values: 분석할 데이터프레임에서 분석할 열\n",
    "* index: 행 인덱스로 들어갈 키 열 또는 키 열의 리스트\n",
    "* columns: 열 인덱스로 들어갈 키 열 또는 키 열의 리스트\n",
    "* aggfunc: 분석 메서드\n",
    "* fill_value: NaN 대체 값\n",
    "* margins: 모든 데이터를 분석한 결과를 오른쪽과 아래에 붙일지 여부\n",
    "* margins_name: 마진 열(행)의 이름"
   ]
  },
  {
   "cell_type": "code",
   "execution_count": null,
   "metadata": {},
   "outputs": [],
   "source": [
    "stu_info['성별'] = stu_info['성별'].replace(\n",
    "    {'남 ' : '남', '여 ': '여', '정보없음':'여'})"
   ]
  },
  {
   "cell_type": "code",
   "execution_count": null,
   "metadata": {},
   "outputs": [],
   "source": [
    "# 전공별 학생수\n",
    "## Pivot\n",
    "stu_info.pivot_table(values='성명', index='전공', \n",
    "                     aggfunc='count').rename(\n",
    "                    columns={'성명':'학생수'})\n",
    "\n",
    "## groupby\n",
    "stu_info.groupby(\"전공\")[['성명']].agg('count').rename(columns={'성명':'학생수'})"
   ]
  },
  {
   "cell_type": "code",
   "execution_count": null,
   "metadata": {},
   "outputs": [],
   "source": [
    "# 전공별 학생수(성별추가)\n",
    "## Pivot\n",
    "stu_info.pivot_table(values='성명', index='전공', \n",
    "                     columns='성별', aggfunc='count')\n",
    "## groupby\n",
    "stu_info.groupby([\"전공\",\"성별\"])[\"성명\"].count().unstack()"
   ]
  },
  {
   "cell_type": "code",
   "execution_count": null,
   "metadata": {},
   "outputs": [],
   "source": [
    "#  대륙별/국별 / 전공별 학생수(조건:서울시립대,합계포함)\n",
    "## Pivot\n",
    "stu_info[stu_info['참가기간(시작)'] > '2012/01'].pivot_table(\n",
    "    values='성명', index=['대륙','국가'], columns='전공',\n",
    "    aggfunc='count', fill_value='-', margins=True)\n",
    "## groupby\n",
    "stu_info[stu_info['참가기간(시작)'] > '2012/01'].groupby(\n",
    "    ['대륙', '국가', '전공'])['성명'].count().unstack().fillna('-')"
   ]
  },
  {
   "cell_type": "code",
   "execution_count": null,
   "metadata": {},
   "outputs": [],
   "source": [
    "#  대륙별/국별 /전공별 /성별 학생수 및 졸업여부\n",
    "## Pivot\n",
    "stu_info[stu_info['참가기간(시작)'] > '2012/01'].pivot_table(\n",
    "    index=['대륙','국가'], columns=['전공','성별'],\n",
    "    aggfunc={'성명': 'count', '졸업일':'count'}, fill_value='-').rename(\n",
    "    columns={'성명':'학생수', '졸업일':'졸업여부'}).replace(0,'-')\n",
    "## groupby\n",
    "stu_info[stu_info['참가기간(시작)'] > '2012/01'].groupby(\n",
    "    ['대륙','국가','전공','성별'])[['성명','졸업일']].count(\n",
    "    ).unstack(level=2).unstack().fillna('-').rename(\n",
    "     columns={'성명':'학생수', '졸업일':'졸업여부'}).replace(0,'-')"
   ]
  },
  {
   "cell_type": "code",
   "execution_count": null,
   "metadata": {},
   "outputs": [],
   "source": [
    "# aggfunc=np.sum함수로 합계를 위해\n",
    "# stu_info['성명'] 모두 1로 변경\n",
    "name = \\\n",
    "stu_info['성명'].replace(\n",
    "                        r'^.', 1, regex = True)\n",
    "#동일한 결과:\n",
    "#stu_info['성명'].replace(stu_info[stu_info['성명'] != \"\"]['성명'], 1)"
   ]
  },
  {
   "cell_type": "markdown",
   "metadata": {},
   "source": [
    "* dateutil 패키지의 parse 명령: 자동으로 형식 문자열 찾아 datetime.datetime 클래스 객체로 변환"
   ]
  },
  {
   "cell_type": "code",
   "execution_count": null,
   "metadata": {},
   "outputs": [],
   "source": [
    "import dateutil\n",
    "df_phone = pd.read_csv(\"./data/phone_data.csv\")\n",
    "df_phone['date'] =df_phone['date'].apply(dateutil.parser.parse, dayfirst=True) \n",
    "# dayfirst=True 유럽식 일자표기(일/월)\n",
    "\n",
    "df_phone.pivot_table([\"duration\"],\n",
    "                index = [df_phone.month, df_phone.item],\n",
    "                columns = df_phone.network, aggfunc=\"sum\", fill_value=0)"
   ]
  },
  {
   "cell_type": "code",
   "execution_count": null,
   "metadata": {},
   "outputs": [],
   "source": []
  },
  {
   "cell_type": "markdown",
   "metadata": {
    "toc-hr-collapsed": true
   },
   "source": [
    "## 날짜,시간 인덱스"
   ]
  },
  {
   "cell_type": "markdown",
   "metadata": {},
   "source": [
    "### 날짜 배열 빈도 기준 확인 <br> <날짜객체.freq>"
   ]
  },
  {
   "cell_type": "markdown",
   "metadata": {},
   "source": [
    "`idx_d.freq`"
   ]
  },
  {
   "cell_type": "code",
   "execution_count": null,
   "metadata": {},
   "outputs": [],
   "source": [
    "import pandas as pd\n",
    "idx_d = pd.Index(pd.date_range('20130101',periods=3))\n",
    "# pd.DatetimeIndex(['20130101', '20130102', '20130103']) \n",
    "# freq=None 인 것 외에는 같은 인덱스 배열\n",
    "idx_d.freq"
   ]
  },
  {
   "cell_type": "code",
   "execution_count": null,
   "metadata": {},
   "outputs": [],
   "source": []
  },
  {
   "cell_type": "markdown",
   "metadata": {},
   "source": [
    "### 날짜시간 인덱스생성과 빈도수 지정 코드 "
   ]
  },
  {
   "cell_type": "markdown",
   "metadata": {},
   "source": [
    "`pd.date_range('20180703', '20191203', freq = 'H')`\n",
    "`pd.date_range('20180703', freq = 'H', periods=4)`: period가 지정되면 `enddate` 인수는 없음"
   ]
  },
  {
   "cell_type": "markdown",
   "metadata": {},
   "source": [
    "* `period` 에 `freq` 인수에 따른 빈도수를 지정한다\n",
    "\n",
    "* `freq` 인수는 아래와 같다\n",
    "   * Y[A]:연말, YS[AS]:연초, Q:분기말, QS:분기초, M:월말, MS:월초, W:주일, D:일\n",
    "   * B:영업일, BY[A]:영업기준연말, BYS[AS]:영업기준연초, BQ:영업기준분기말, BQS:영업기준분기초, BM: 영업기준월말, BMS:영업기준월초\n",
    "   * W-MON: 주(월요일), WOM-2THU: 각 달의 두번째 목요일, Q-JAN: 각 분기의 첫달의 마지막 날, Q-DEC: 각 분기의 마지막 달의 마지막 날\n",
    "   * H:시, T:분, S:초, MS:밀리초, US:마이크로초, NS:나노초, PS:피코초, FS:펨토초"
   ]
  },
  {
   "cell_type": "code",
   "execution_count": 3,
   "metadata": {},
   "outputs": [
    {
     "data": {
      "image/png": "[encoded data removed]",
      "text/plain": [
       "<IPython.core.display.Image object>"
      ]
     },
     "execution_count": 3,
     "metadata": {},
     "output_type": "execute_result"
    }
   ],
   "source": [
    "Image(\"./img/date offset.png\")"
   ]
  },
  {
   "cell_type": "code",
   "execution_count": null,
   "metadata": {},
   "outputs": [],
   "source": [
    "pd.date_range('2018/07/03', freq = 'H', periods=4)"
   ]
  },
  {
   "cell_type": "code",
   "execution_count": null,
   "metadata": {},
   "outputs": [],
   "source": [
    "pd.date_range('20160703', freq = 'BMS', periods=4)"
   ]
  },
  {
   "cell_type": "code",
   "execution_count": null,
   "metadata": {},
   "outputs": [],
   "source": []
  },
  {
   "cell_type": "markdown",
   "metadata": {},
   "source": [
    "### 날짜시간 차 인덱스생성 <pd.timedelta_range>"
   ]
  },
  {
   "cell_type": "markdown",
   "metadata": {},
   "source": [
    "`pd.date_range('20180703', '20191203', freq = 'H')`<br>\n",
    "`pd.date_range('20180703', freq = 'H', periods=4)`: period가 지정되면 `enddate` 인수는 없음"
   ]
  },
  {
   "cell_type": "markdown",
   "metadata": {},
   "source": [
    "* `period` 에 `freq` 인수에 따른 빈도수를 지정한다\n",
    "\n",
    "* `freq` 인수는 아래와 같다\n",
    "   * Y[A]:연말, YS[AS]:연초, Q:분기말, QS:분기초, M:월말, MS:월초, W:주일, D:일\n",
    "   * B:영업일, BY[A]:영업기준연말, BYS[AS]:영업기준연초, BQ:영업기준분기말, BQS:영업기준분기초, BM: 영업기준월말, BMS:영업기준월초\n",
    "   * H:시, T:분, S:초, MS:밀리초, US:마이크로초, NS:나노초, PS:피코초, FS:펨토초"
   ]
  },
  {
   "cell_type": "code",
   "execution_count": null,
   "metadata": {},
   "outputs": [],
   "source": [
    "pd.date_range('2018/07/03', freq = 'H', periods=4)"
   ]
  },
  {
   "cell_type": "code",
   "execution_count": null,
   "metadata": {},
   "outputs": [],
   "source": []
  },
  {
   "cell_type": "markdown",
   "metadata": {},
   "source": [
    "### 주기 나타내는 인덱스로 변경(freq 변경) <br> <pd.to_period('D')>"
   ]
  },
  {
   "cell_type": "markdown",
   "metadata": {},
   "source": [
    "`dr3.to_period('D')`"
   ]
  },
  {
   "cell_type": "code",
   "execution_count": null,
   "metadata": {},
   "outputs": [],
   "source": [
    "dr3 = pd.date_range('2018-08-03', periods=24, freq='H')\n",
    "dr3.to_period('D')"
   ]
  },
  {
   "cell_type": "code",
   "execution_count": null,
   "metadata": {},
   "outputs": [],
   "source": []
  },
  {
   "cell_type": "markdown",
   "metadata": {},
   "source": [
    "### 주기 인덱스 생성<br>  <pd.period_range('2018-01', periods=13, freq='M')>"
   ]
  },
  {
   "cell_type": "markdown",
   "metadata": {},
   "source": [
    "`pd.period_range('2018-01', periods=13, freq='M')`"
   ]
  },
  {
   "cell_type": "code",
   "execution_count": null,
   "metadata": {},
   "outputs": [],
   "source": [
    "dr_m = pd.period_range('2018-01', periods=13, freq='M')\n",
    "dr_m"
   ]
  },
  {
   "cell_type": "code",
   "execution_count": null,
   "metadata": {},
   "outputs": [],
   "source": []
  },
  {
   "cell_type": "markdown",
   "metadata": {},
   "source": [
    "### 시간 간격 인덱스 생성 <br> <pd.timedelta_range(0, periods=10, freq='H')>"
   ]
  },
  {
   "cell_type": "markdown",
   "metadata": {},
   "source": [
    "`pd.timedelta_range(0, periods=10, freq='H')`"
   ]
  },
  {
   "cell_type": "code",
   "execution_count": null,
   "metadata": {},
   "outputs": [],
   "source": [
    "tm_1 = pd.timedelta_range(0, periods=10, freq='H')\n",
    "tm_1"
   ]
  },
  {
   "cell_type": "code",
   "execution_count": null,
   "metadata": {},
   "outputs": [],
   "source": []
  },
  {
   "cell_type": "markdown",
   "metadata": {},
   "source": [
    "### 시간 차이 계산 <tm1 - tm1[0]>"
   ]
  },
  {
   "cell_type": "markdown",
   "metadata": {},
   "source": [
    "`tm_1 - tm_1[1] (벡터화 연산)`"
   ]
  },
  {
   "cell_type": "code",
   "execution_count": null,
   "metadata": {},
   "outputs": [],
   "source": [
    "tm_1 - tm_1[1]"
   ]
  },
  {
   "cell_type": "code",
   "execution_count": null,
   "metadata": {},
   "outputs": [],
   "source": [
    "dr2 = pd.date_range('2018-07-03', periods=8)\n",
    "dr2"
   ]
  },
  {
   "cell_type": "code",
   "execution_count": null,
   "metadata": {},
   "outputs": [],
   "source": [
    "dr2 - dr2[0]"
   ]
  },
  {
   "cell_type": "code",
   "execution_count": null,
   "metadata": {},
   "outputs": [],
   "source": []
  },
  {
   "cell_type": "markdown",
   "metadata": {
    "toc-hr-collapsed": true
   },
   "source": [
    "### 다운샘플링 시 sum/mean등의 그룹연산으로 대표값 구함 <br> <.resample(단위시간).sum()>"
   ]
  },
  {
   "cell_type": "markdown",
   "metadata": {},
   "source": [
    "`data.resample('3h').sum()` 1-> 3시간으로 그룹화 후 연산(sum)<br>\n",
    "`data.resample('D').sum()` 1시간-> 1일로 그룹화 후 연산(sum)<br>\n",
    "`data.resample('W').mean()` 1시간-> 1주로 그룹화 후 연산(mean)<br>\n",
    "`data.loc['2012-10'].sum()` 2012년 10월 한달 인도수 연산(sum)<br>\n",
    "`data.asfreq('W')`  기존 Index 빈도를 주 단위로 변경"
   ]
  },
  {
   "cell_type": "code",
   "execution_count": 7,
   "metadata": {},
   "outputs": [],
   "source": [
    "data = pd.read_csv('C:/Users/Gumin JUNG/OneDrive - 서울시립대학교/jupyter_notebook/실습자료-손에잡히는판다스/data/hanriver_bridge.csv', \n",
    "                   index_col='Date', parse_dates=True, engine='python')\n",
    "data.head(2)"
   ]
  },
  {
   "cell_type": "markdown",
   "metadata": {
    "school_cell_uuid": "f941fd4732304035af2977ec9164f5a2"
   },
   "source": [
    "`다운-샘플링`은 원래 데이터가 그룹으로 묶여 그룹바이(groupby)때와 같이 그룹 연산 해서 대표값을 구함"
   ]
  },
  {
   "cell_type": "code",
   "execution_count": null,
   "metadata": {},
   "outputs": [],
   "source": [
    "data.resample('D').sum().loc['2012-10-03']\n",
    "data.resample('D').sum().head()\n",
    "data.resample('W').mean().head()\n",
    "\n",
    "data.loc['2012-10'].sum()\n",
    "\n",
    "# asfreq는 현재 인덱스에서 동일한 값을 유지하며, DatetimeIndex를 다른 빈도로 변경하려는 경우에 사용\n",
    "data.asfreq('W').head()"
   ]
  },
  {
   "cell_type": "markdown",
   "metadata": {},
   "source": [
    "* 날짜가 아닌 시/분 단위에서\n",
    "    * 구간위 왼쪽 한계값(가장 빠른 값)은 포함\n",
    "    * 오른쪽 한계값(가장 늦은 값)은 포함하지 않음 (즉, 가장 늦은 값은 다음 구간에 포함됨) <br>\n",
    "     e.g. 10분 간격으로 구간 만들면 10의 배수가 되는 시각은 구간의 시작점이 됨"
   ]
  },
  {
   "cell_type": "code",
   "execution_count": null,
   "metadata": {},
   "outputs": [],
   "source": [
    "ts = pd.Series(np.random.randn(60), index=pd.date_range(\n",
    "    \"2018-1-1\", periods=60, freq=\"T\"))\n",
    "ts.head(20)\n",
    "ts.resample('10T').sum()"
   ]
  },
  {
   "cell_type": "markdown",
   "metadata": {},
   "source": [
    "* 왼쪽 아닌 오른쪽 한계값을 구간에 포함하려면 `closed=\"right\"` 인수사용\n",
    "* 이 때는 10의 배수가 되는 시각이 앞 구간에 포함 됨"
   ]
  },
  {
   "cell_type": "code",
   "execution_count": null,
   "metadata": {},
   "outputs": [],
   "source": [
    "ts.resample('10T', closed=\"right\").sum()"
   ]
  },
  {
   "cell_type": "markdown",
   "metadata": {
    "school_cell_uuid": "f941fd4732304035af2977ec9164f5a2"
   },
   "source": [
    "* `ohlc` 메서드: 구간의 시고저종(open, high, low, close)값 구함"
   ]
  },
  {
   "cell_type": "code",
   "execution_count": null,
   "metadata": {},
   "outputs": [],
   "source": [
    "ts.resample('5T').ohlc()"
   ]
  },
  {
   "cell_type": "markdown",
   "metadata": {
    "toc-hr-collapsed": true
   },
   "source": [
    "### 업-샘플링 시 ffill/bfill로 대표값 구함 <br> <.resample(단위시간).ffill [or bfill] ()>"
   ]
  },
  {
   "cell_type": "markdown",
   "metadata": {},
   "source": [
    "업-샘플링의 경우에는 실제로 존재하지 않는 데이터를 만들어야 하며 아래 두 방식 사용\n",
    "   * `ffill`: 앞에서 나온 데이터를 뒤에서 그대로 쓰는 forward filling 방식  \n",
    "   * `bfill`: 뒤에서 나올 데이터를 앞에서 미리 쓰는 backward filling 방식"
   ]
  },
  {
   "cell_type": "code",
   "execution_count": null,
   "metadata": {},
   "outputs": [],
   "source": [
    "ts.resample('30s').ffill().head(20)\n",
    "ts.resample('30s').bfill().head(20)"
   ]
  },
  {
   "cell_type": "code",
   "execution_count": null,
   "metadata": {},
   "outputs": [],
   "source": []
  },
  {
   "cell_type": "markdown",
   "metadata": {
    "toc-hr-collapsed": true
   },
   "source": [
    "## 인덱스"
   ]
  },
  {
   "cell_type": "markdown",
   "metadata": {},
   "source": [
    "### index변경 <br> <df.rename({'기존index문자':'대체할index문자'})>"
   ]
  },
  {
   "cell_type": "code",
   "execution_count": null,
   "metadata": {},
   "outputs": [],
   "source": [
    "s = pd.Series([1,2,3,4])\n",
    "s"
   ]
  },
  {
   "cell_type": "code",
   "execution_count": null,
   "metadata": {},
   "outputs": [],
   "source": [
    "s_re = s.rename({0:'a',1:'b',2:'c',3:'d'})\n",
    "s_re"
   ]
  },
  {
   "cell_type": "code",
   "execution_count": null,
   "metadata": {},
   "outputs": [],
   "source": []
  },
  {
   "cell_type": "markdown",
   "metadata": {},
   "source": [
    "### index 순서변경 <df.reindex('설정할index문자 [또는 리스트]')>"
   ]
  },
  {
   "cell_type": "code",
   "execution_count": null,
   "metadata": {},
   "outputs": [],
   "source": [
    "# 'e' index를 가진 값 존재하지 않으므로 null처리\n",
    "s_re.reindex(['b','a','c','e'])"
   ]
  },
  {
   "cell_type": "code",
   "execution_count": null,
   "metadata": {},
   "outputs": [],
   "source": []
  },
  {
   "cell_type": "markdown",
   "metadata": {},
   "source": [
    "###  범주형 자료로 된 index를 .rename으로 정수로 변경 후 덧셈연산"
   ]
  },
  {
   "cell_type": "code",
   "execution_count": null,
   "metadata": {},
   "outputs": [],
   "source": [
    "1. 범주형 index인 s3를 .rename 메소드로 정수형으로 변경 후 덧셈연산\n",
    "s1 = pd.Series([10,20,30], index=[0,1,2])\n",
    "s1.index.dtype # dtype('int64')\n",
    "s3 = pd.Series([11,12,13], index=list('012'))\n",
    "s3.index.dtype # dtype('O')\n",
    "s3 = s3.rename({'0':0, '1':1,'2':2})\n",
    "s1 + s3\n",
    "\n",
    "2. 또는 새 시리즈 생성 해 index.values 속성에 가 astype 메소드로 int64 변환 후 덧셈연산\n",
    "s4 = pd.Series([11,12,13], index=list('012'))\n",
    "s4.index = s4.index.values.astype('int64')\n",
    "s1 + s4"
   ]
  },
  {
   "cell_type": "code",
   "execution_count": null,
   "metadata": {},
   "outputs": [],
   "source": []
  },
  {
   "cell_type": "markdown",
   "metadata": {
    "toc-hr-collapsed": false
   },
   "source": [
    "### 1부터 시작하는 인덱스 만들기"
   ]
  },
  {
   "cell_type": "code",
   "execution_count": null,
   "metadata": {},
   "outputs": [],
   "source": [
    "new_list = np.arange(1, 21)\n",
    "df.set_index(new_list).rename(columns={'index': '구분'})"
   ]
  },
  {
   "cell_type": "code",
   "execution_count": null,
   "metadata": {},
   "outputs": [],
   "source": []
  },
  {
   "cell_type": "markdown",
   "metadata": {},
   "source": [
    "### A인덱스객체는 포함되나 B객체에 없는 레이블 검색 <A인덱스객체.difference(B인덱스객체)>"
   ]
  },
  {
   "cell_type": "markdown",
   "metadata": {},
   "source": [
    "`idx1.difference(idx2)`  객체 간 동일 인덱스 검색"
   ]
  },
  {
   "cell_type": "code",
   "execution_count": null,
   "metadata": {},
   "outputs": [],
   "source": [
    "idx1 = pd.Index([1, 2, 3, 4])\n",
    "idx2 = pd.Index(range(1,4))\n",
    "idx1.difference(idx2)"
   ]
  },
  {
   "cell_type": "code",
   "execution_count": null,
   "metadata": {},
   "outputs": [],
   "source": []
  },
  {
   "cell_type": "markdown",
   "metadata": {},
   "source": [
    "### 범주형 인덱스 추가 <br>  <s.index.add_categories(새카테고리,inplace=False)>"
   ]
  },
  {
   "cell_type": "markdown",
   "metadata": {},
   "source": [
    "`s.index.add_categories(5)`  범주형 인덱스 추가"
   ]
  },
  {
   "cell_type": "code",
   "execution_count": null,
   "metadata": {},
   "outputs": [],
   "source": [
    "inx_i = pd.CategoricalIndex([1,2,3,4])\n",
    "s = pd.Series([1,2,3,4],index=inx_i)\n",
    "s;  s.index.add_categories(5)"
   ]
  },
  {
   "cell_type": "code",
   "execution_count": null,
   "metadata": {},
   "outputs": [],
   "source": []
  },
  {
   "cell_type": "markdown",
   "metadata": {},
   "source": [
    "### 원하는 위치에 칼럼, 값 생성 <br> <index.insert(loc, item) / df.insert(loc, column, value, allow_duplicates = False)>"
   ]
  },
  {
   "cell_type": "markdown",
   "metadata": {},
   "source": [
    "`df.insert(loc, column, value, allow_duplicates = False)` <br>\n",
    "`s.index.insert(loc, item)`"
   ]
  },
  {
   "cell_type": "markdown",
   "metadata": {},
   "source": [
    "* stu_info[\"학과\"] = \"IUDP\" 와 동일한 결과이나, insert 명령은 위치지정가능"
   ]
  },
  {
   "cell_type": "code",
   "execution_count": null,
   "metadata": {},
   "outputs": [],
   "source": [
    "stu_info.insert(0, \"학과\", \"IUDP\")"
   ]
  },
  {
   "cell_type": "code",
   "execution_count": null,
   "metadata": {},
   "outputs": [],
   "source": [
    "stu_info.index.insert(341, \"추가\")"
   ]
  },
  {
   "cell_type": "code",
   "execution_count": null,
   "metadata": {},
   "outputs": [],
   "source": [
    "# 행별로 다른 데이터 삽입\n",
    "\n",
    "입학년도 = pd.Series([])\n",
    "\n",
    "for i in range(len(stu_info)):\n",
    "    if stu_info['참가기간(시작)'][i].year == 2012:\n",
    "        입학년도[i] = \"2012 IUDP\"\n",
    "    elif stu_info['참가기간(시작)'][i].year == 2013:\n",
    "        입학년도[i] = \"2013 IUDP\"\n",
    "    elif stu_info['참가기간(시작)'][i].year == 2014:\n",
    "        입학년도[i] = \"2014 IUDP\"\n",
    "    elif stu_info['참가기간(시작)'][i].year == 2015:\n",
    "        입학년도[i] = \"2015 IUDP\"\n",
    "    elif stu_info['참가기간(시작)'][i].year == 2016:\n",
    "        입학년도[i] = \"2016 IUDP\"\n",
    "    elif stu_info['참가기간(시작)'][i].year == 2017:\n",
    "        입학년도[i] = \"2017 IUDP\"\n",
    "    elif stu_info['참가기간(시작)'][i].year == 2018:\n",
    "        입학년도[i] = \"2018 IUDP\"\n",
    "    else:\n",
    "        입학년도[i] = \"고려대  MPA\"\n",
    "\n",
    "stu_info.insert(0, 'Year', 입학년도)\n",
    "stu_info.query('Year == \"고려대  MPA\"')\n",
    "# 동일결과: stu_info.loc[stu_info['Year'].isin([\"고려대  MPA\"])]"
   ]
  },
  {
   "cell_type": "code",
   "execution_count": null,
   "metadata": {},
   "outputs": [],
   "source": []
  },
  {
   "cell_type": "markdown",
   "metadata": {},
   "source": [
    "### 문자열수식으로 열 간 연산 수행 <.eval(str, inplace=False)>"
   ]
  },
  {
   "cell_type": "code",
   "execution_count": null,
   "metadata": {},
   "outputs": [],
   "source": [
    "data.columns=['좌측', '우측']\n",
    "data['합산'] = data.eval('좌측 + 우측') # data.eval('합산 = 좌측 + 우측') 와 동일한 결과\n",
    "data.head()"
   ]
  },
  {
   "cell_type": "code",
   "execution_count": null,
   "metadata": {},
   "outputs": [],
   "source": []
  },
  {
   "cell_type": "markdown",
   "metadata": {},
   "source": [
    "### numpy 연산 <np.mean():평균, np.var():분산, np.var(x, ddof=1):비편향분산, np.std():표준편차, np.percentile()>"
   ]
  },
  {
   "cell_type": "markdown",
   "metadata": {
    "school_cell_uuid": "46bb43f2d2924332ab0f3f09c460c32f"
   },
   "source": [
    "`np.mean(x)` 평균<br>\n",
    "`np.var(x)` 분산<br>\n",
    "`np.median(x)` 중앙값<br>\n",
    "`np.percentile(x, 0)` 최소값<br>\n",
    "`np.percentile(x, 25)` 1사분위수<br>\n",
    "`np.percentile(x, 50)` 중간값, 2사분위수<br>\n",
    "`np.percentile(x, 75)` 3사분위수<br>\n",
    "`np.percentile(x, 100)` 최대값<br>\n",
    "`from scipy.stats import describe; describe(x)` # scipy 패키지로 한 번에 기술 통계값"
   ]
  },
  {
   "cell_type": "code",
   "execution_count": null,
   "metadata": {
    "school_cell_uuid": "46bb43f2d2924332ab0f3f09c460c32f"
   },
   "outputs": [],
   "source": [
    "x = np.array([18,   5,  10,  23,  19,  -8,  10,   0,   0,   5,   2,  15,   8,\n",
    "              2,   5,   4,  15,  -1,   4,  -7, -24,   7,   9,  -6,  23, -13])\n",
    "# 분산\n",
    "np.var(x); \n",
    "# 아래 식과 동일한 결과\n",
    "y = []\n",
    "for i in range(len(x)):\n",
    "    y.append([(x[i] - np.mean(x))**2])\n",
    "np.sum(y)/len(x);\n",
    "\n",
    "#중앙값: 데이터 수가 짝수이면 가장 가운데 두 수의 평균을 사용\n",
    "np.median(x); \n",
    "\n",
    "# 사분위수\n",
    "np.percentile(x, 0)  # 최소값\n",
    "np.percentile(x, 25)  # 1사분위수\n",
    "np.percentile(x, 50)  # 중앙값, 2사분위수\n",
    "np.percentile(x, 75)  # 3사분위수\n",
    "np.percentile(x, 100)  # 최대값\n",
    "\n",
    "# scipy 패키지로 한 번에 기술 통계값 구하기\n",
    "from scipy.stats import describe\n",
    "describe(x)"
   ]
  },
  {
   "cell_type": "code",
   "execution_count": null,
   "metadata": {},
   "outputs": [],
   "source": []
  },
  {
   "cell_type": "markdown",
   "metadata": {
    "toc-hr-collapsed": true
   },
   "source": [
    "## 난수 생성<br> \n",
    "#### 1. np.random.seed(x) / 2. np.random.rand(3,5) / 3. np.random.randn(3,5) / 4. np.random.randint(low, high=None, size=None)>"
   ]
  },
  {
   "cell_type": "markdown",
   "metadata": {
    "school_cell_uuid": "46bb43f2d2924332ab0f3f09c460c32f"
   },
   "source": [
    "`np.random.seed(x)` 난수 수열생성을 위한 시작 숫자 (0=<x)<br>\n",
    "`np.random.rand(3,5)`: 0부터 1사이의 균일 분포<br>\n",
    "`np.random.randn(3,5)`: 가우시안 표준 정규 분포(기댓값 0, 표준편차 1)<br>\n",
    "`np.random.randint(low, high=None, size=None)`: 균일 분포의 정수 난수<br>\n",
    "* high 미입력 시 0과 low사이 숫자를, \n",
    "* high 입력 시 low와 high 사이의 숫자를 출력\n",
    "* size는 난수의 숫자"
   ]
  },
  {
   "cell_type": "code",
   "execution_count": null,
   "metadata": {
    "school_cell_uuid": "683d2572fa3d4dd6959e25dbd40cec1c"
   },
   "outputs": [],
   "source": [
    "np.random.seed(0)\n",
    "\n",
    "np.random.rand(10)\n",
    "np.random.rand(3, 5) #`randn` 명령은 기댓값이 0이고 표준편차가 1인 가우시안 표준 정규 분포를 따르는 난수를 생성한다. 인수 사용법은 `rand` 명령과 같다.\n",
    "\n",
    "np.random.randn(10)\n",
    "np.random.randn(3, 5)\n",
    "\n",
    "np.random.randint(10, size=10)\n",
    "np.random.randint(10, 20, size=10)\n",
    "np.random.randint(10, 20, size=(3, 5))"
   ]
  },
  {
   "cell_type": "code",
   "execution_count": null,
   "metadata": {},
   "outputs": [],
   "source": []
  },
  {
   "cell_type": "markdown",
   "metadata": {
    "toc-hr-collapsed": true
   },
   "source": [
    "### 균일간격 점 생성 <br> np.linspace(시작값, 끝값, 256) "
   ]
  },
  {
   "cell_type": "markdown",
   "metadata": {},
   "source": [
    "`np.linspace(-np.pi, np.pi, 256)` 시작점과 끝점을 균일 간격으로 나눈 점들을 생성<br>"
   ]
  },
  {
   "cell_type": "code",
   "execution_count": null,
   "metadata": {},
   "outputs": [],
   "source": [
    "np.linspace(-np.pi, np.pi, 256) "
   ]
  },
  {
   "cell_type": "code",
   "execution_count": null,
   "metadata": {},
   "outputs": [],
   "source": []
  },
  {
   "cell_type": "markdown",
   "metadata": {
    "toc-hr-collapsed": false
   },
   "source": [
    "### 난수 데이터 순서변경과 샘플링<br>  1.np.random.shuffle(np.arange(10) <br>  2.np.random.choice(5, 10, p=[0.1, 0, 0.3, 0.6, 0])"
   ]
  },
  {
   "cell_type": "markdown",
   "metadata": {
    "school_cell_uuid": "46bb43f2d2924332ab0f3f09c460c32f"
   },
   "source": [
    "`np.random.shuffle(np.arange(10)`: 데이터 순서 변경<br>\n",
    "`np.random.choice(a, size=None, replace=True, p=None)`: 데이터 샘플링<br>\n",
    "* a : 배열이면 원래의 데이터, 정수이면 arange(a) 명령으로 데이터 생성\n",
    "* size : 정수. 샘플 숫자\n",
    "* replace : 불리언. True이면 한번 선택한 데이터를 다시 선택 가능\n",
    "* p : 배열. 각 데이터가 선택될 수 있는 확률"
   ]
  },
  {
   "cell_type": "code",
   "execution_count": null,
   "metadata": {
    "school_cell_uuid": "589fc9ada99f408eaf3d98e6ba35bd50"
   },
   "outputs": [],
   "source": [
    "x = np.arange(10)\n",
    "np.random.shuffle(x)\n",
    "\n",
    "np.random.choice(5, 5, replace=False)  # shuffle 명령과 같다.\n",
    "np.random.choice(5, 3, replace=False)  # 3개만 선택\n",
    "np.random.choice(5, 10)  # 반복해서 10개 선택\n",
    "np.random.choice(5, 10, p=[0.1, 0, 0.3, 0.6, 0])  # 선택 확률을 다르게 해서 10개 선택"
   ]
  },
  {
   "cell_type": "code",
   "execution_count": null,
   "metadata": {},
   "outputs": [],
   "source": []
  },
  {
   "cell_type": "markdown",
   "metadata": {
    "toc-hr-collapsed": true
   },
   "source": [
    "### 난수가 정수일 때 데이터 카운팅 <br>  1.np.unique([11, 11, 2, 2, 34, 34], return_counts=True)<br> 2.np.bincount([1, 1, 2, 2, 2, 3], minlength=6)"
   ]
  },
  {
   "cell_type": "markdown",
   "metadata": {
    "school_cell_uuid": "46bb43f2d2924332ab0f3f09c460c32f"
   },
   "source": [
    "`np.unique([11, 11, 2, 2, 34, 34], return_counts=True)`\n",
    "* 중복 아닌 값 리스트 출력\n",
    "* return_counts=True 설정 시 각 값을 가진 데이터 갯수 출력\n",
    "\n",
    "`np.bincount([1, 1, 2, 2, 2, 3], minlength=6)`\n",
    "* 최소 여섯번 째 인덱스까지의 데이터를 카운트, 없는 데이터 인덱스에 대해 0으로 표시"
   ]
  },
  {
   "cell_type": "code",
   "execution_count": null,
   "metadata": {
    "school_cell_uuid": "e7448ae7264c49e8ac97ad96e40f3cab"
   },
   "outputs": [],
   "source": [
    "np.unique([11, 11, 2, 2, 34, 34])\n",
    "a = np.array(['a', 'b', 'b', 'c', 'a'])\n",
    "index, count = np.unique(a, return_counts=True)\n",
    "index\n",
    "count\n",
    "\n",
    "np.bincount([1, 1, 2, 2, 2, 3], minlength=6)"
   ]
  },
  {
   "cell_type": "code",
   "execution_count": null,
   "metadata": {},
   "outputs": [],
   "source": []
  },
  {
   "cell_type": "markdown",
   "metadata": {},
   "source": [
    "### Power BI에 Jupyter Notebook에 삽입하기 <br> <from IPython.display import IFrame <br>powerBiEmbed = 'power bi embed code'<br>IFrame(powerBiEmbed, width=int, height=int)>"
   ]
  },
  {
   "cell_type": "markdown",
   "metadata": {},
   "source": [
    "`from IPython.display import IFrame` <br>\n",
    "`powerBiEmbed = 'https://app.powerbi.com/view?... IFrame(powerBiEmbed, width=800, height=600)`"
   ]
  },
  {
   "cell_type": "code",
   "execution_count": null,
   "metadata": {},
   "outputs": [],
   "source": [
    "from IPython.display import IFrame\n",
    "powerBiEmbed = 'https://app.powerbi.com/view?r=eyJrIjoiY2MzZWYzOTMtOTEwMi00OWVkLTk4ZTQtMjQxZTk2ODdlYjg1IiwidCI6ImIwOTg4YzEzLWUxMzQtNGI3OC1hZGY3LTVkMWU1YjI0MTAxOCIsImMiOjEwfQ%3D%3D'\n",
    "\n",
    "IFrame(powerBiEmbed, width=800, height=600)"
   ]
  },
  {
   "cell_type": "code",
   "execution_count": null,
   "metadata": {},
   "outputs": [],
   "source": []
  },
  {
   "cell_type": "markdown",
   "metadata": {},
   "source": [
    "### Azure Jupyter Notebook에 확장기능 설치"
   ]
  },
  {
   "cell_type": "code",
   "execution_count": null,
   "metadata": {},
   "outputs": [],
   "source": [
    "!pip install jupyter_contrib_nbextensions\n",
    "!jupyter contrib nbextension install --user\n",
    "!/usr/local/bin/jupyter nbextension enable codefolding/main\n",
    "def f():\n",
    "    print('hello there')"
   ]
  },
  {
   "cell_type": "code",
   "execution_count": null,
   "metadata": {},
   "outputs": [],
   "source": []
  },
  {
   "cell_type": "markdown",
   "metadata": {},
   "source": [
    "***pd.concat***(<br>\n",
    "***objs***,  # Series, DataFrame, Panel object<br>\n",
    "***axis=0***,  # 0: 위+아래로 합치기, 1: 왼쪽+오른쪽으로 합치기<br>\n",
    "***join='outer'***, # 'outer': 합집합(union), 'inner': 교집합(intersection)<br>\n",
    "***join_axes=None***, # axis=1 일 경우 특정 DataFrame의 index를 그대로 이용하려면 입력<br>\n",
    "***ignore_index=False***,  # False: 기존 index 유지, True: 기존 index 무시<br>\n",
    "***keys=None***, # 인덱스 기입, 계층적 index 사용하려면 keys 튜플 입력<br>e.g. pd.concat([total, percent], axis=1, keys=['Total', 'Percent'])<br>\n",
    "***levels=None***,<br>\n",
    "***names=None***, # index의 이름 부여하려면 names 튜플 입력<br>\n",
    "***verify_integrity=False***, # True: index 중복 확인<br>***copy=True)*** # 복사<br>"
   ]
  },
  {
   "cell_type": "code",
   "execution_count": null,
   "metadata": {},
   "outputs": [],
   "source": []
  },
  {
   "cell_type": "markdown",
   "metadata": {},
   "source": [
    "***pd.merge***(<br>\n",
    "***left, right***, # merge할 DataFrame 객체 이름<br>\n",
    "***how='inner'***, # left, rigth, inner (default), outer<br>\n",
    "***on=None***, # merge의 기준이 되는 Key 변수<br>\n",
    "***left_on=None***, # 왼쪽 DataFrame의 변수를 Key로 사용<br>\n",
    "***right_on=None***, # 오른쪽 DataFrame의 변수를 Key로 사용<br>\n",
    "***left_index=False***, # 만약 True 라면, 왼쪽 DataFrame의 index를 merge Key로 사용<br>\n",
    "***right_index=False***, # 만약 True 라면, 오른쪽 DataFrame의 index를 merge Key로 사용<br>\n",
    "***sort=True***, # merge 된 후의 DataFrame을 join Key 기준으로 정렬<br>\n",
    "***suffixes=('_x', '_y')***, # 중복되는 변수 이름에 대해 접두사 부여 (defaults to '_x', '_y'<br>\n",
    "***copy=True***, # merge할 DataFrame을 복사<br>\n",
    "***indicator=False)*** # 병합된 이후의 DataFrame에 left_only, right_only, both 등의 출처를 알 수 있는 부가 정보 변수 추가<br>\n",
    "\n",
    "출처: https://rfriend.tistory.com/256 [R, Python 분석과 프로그래밍 (by R Friend)]"
   ]
  },
  {
   "cell_type": "code",
   "execution_count": null,
   "metadata": {},
   "outputs": [],
   "source": []
  },
  {
   "cell_type": "markdown",
   "metadata": {},
   "source": [
    "### 전체 설문대상자 중 응답자 비율<br> data.isnull().sum()/data.isnull().count()*100"
   ]
  },
  {
   "cell_type": "code",
   "execution_count": null,
   "metadata": {},
   "outputs": [],
   "source": [
    "train_df.isnull().sum()/train_df.isnull().count()*100"
   ]
  }
 ],
 "metadata": {
  "hide_input": false,
  "kernelspec": {
   "display_name": "Python 3",
   "language": "python",
   "name": "python3"
  },
  "language_info": {
   "codemirror_mode": {
    "name": "ipython",
    "version": 3
   },
   "file_extension": ".py",
   "mimetype": "text/x-python",
   "name": "python",
   "nbconvert_exporter": "python",
   "pygments_lexer": "ipython3",
   "version": "3.7.3"
  },
  "toc": {
   "base_numbering": 1,
   "nav_menu": {},
   "number_sections": true,
   "sideBar": true,
   "skip_h1_title": false,
   "title_cell": "Table of Contents",
   "title_sidebar": "Contents",
   "toc_cell": true,
   "toc_position": {},
   "toc_section_display": true,
   "toc_window_display": false
  },
  "toc-autonumbering": true,
  "toc-showcode": false,
  "toc-showmarkdowntxt": false,
  "toc-showtags": false
 },
 "nbformat": 4,
 "nbformat_minor": 2
}
