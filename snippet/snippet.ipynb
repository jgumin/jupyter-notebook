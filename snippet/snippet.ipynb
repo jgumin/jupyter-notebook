{
  "nbformat": 4,
  "nbformat_minor": 0,
  "metadata": {
    "accelerator": "GPU",
    "colab": {
      "name": "snippet.ipynb",
      "version": "0.3.2",
      "provenance": [],
      "include_colab_link": true
    },
    "kernelspec": {
      "display_name": "Python 3",
      "language": "python",
      "name": "python3"
    },
    "language_info": {
      "codemirror_mode": {
        "name": "ipython",
        "version": 3
      },
      "file_extension": ".py",
      "mimetype": "text/x-python",
      "name": "python",
      "nbconvert_exporter": "python",
      "pygments_lexer": "ipython3",
      "version": "3.7.4"
    },
    "toc-autonumbering": true
  },
  "cells": [
    {
      "cell_type": "markdown",
      "metadata": {
        "id": "view-in-github",
        "colab_type": "text"
      },
      "source": [
        "<a href=\"https://colab.research.google.com/github/jgumin/jupyter-notebook/blob/master/snippet/snippet.ipynb\" target=\"_parent\"><img src=\"https://colab.research.google.com/assets/colab-badge.svg\" alt=\"Open In Colab\"/></a>"
      ]
    },
    {
      "cell_type": "markdown",
      "metadata": {
        "colab_type": "text",
        "id": "KwbAJBNw2JCN",
        "toc": true,
        "toc-hr-collapsed": true
      },
      "source": [
        "<h1>Table of Contents<span class=\"tocSkip\"></span></h1>\n",
        "<div class=\"toc\"><ul class=\"toc-item\"></ul></div>"
      ]
    },
    {
      "cell_type": "code",
      "metadata": {
        "id": "lARqawuk_cYI",
        "colab_type": "code",
        "colab": {}
      },
      "source": [
        "pip install plotly==4.1.1"
      ],
      "execution_count": 0,
      "outputs": []
    },
    {
      "cell_type": "code",
      "metadata": {
        "colab_type": "code",
        "id": "fn5AhKOK95MP",
        "colab": {}
      },
      "source": [
        "# 노트북 안에서 그래프를 그리기 위해\n",
        "%matplotlib inline\n",
        "# %matplotlib nbagg\n",
        "    \n",
        "import pandas as pd\n",
        "import numpy as np\n",
        "import matplotlib.pyplot as plt\n",
        "import seaborn as sns\n",
        "plt.rcParams['figure.figsize'] = [10, 6]\n",
        "\n",
        "\n",
        "# Suppress Deprecation and Incorrect Usage Warnings \n",
        "import warnings\n",
        "warnings.filterwarnings('ignore')\n",
        "\n",
        "# #  display two pandas tables side by side\n",
        "# from IPython.display import display, HTML\n",
        "# CSS = \"\"\"\n",
        "# .output {\n",
        "#     flex-direction: row;\n",
        "# }\n",
        "# \"\"\"\n",
        "# HTML('<style>{}</style>'.format(CSS))\n",
        "\n",
        "\n",
        "# 기본 글꼴 변경\n",
        "import matplotlib as mpl\n",
        "mpl.font_manager._rebuild()\n",
        "mpl.pyplot.rc('font', family='NanumBarunGothic')\n",
        "\n",
        "# allow multiple outputs\n",
        "# from IPython.core.interactiveshell import InteractiveShell\n",
        "# InteractiveShell.ast_node_interactivity = \"all\"\n",
        "\n",
        "# allow image input\n",
        "from IPython.display import Image"
      ],
      "execution_count": 0,
      "outputs": []
    },
    {
      "cell_type": "code",
      "metadata": {
        "id": "ZnMkdFRqNQup",
        "colab_type": "code",
        "colab": {}
      },
      "source": [
        "# 그래프에서 한글표현을 위해 폰트를 설치합니다.\n",
        "# %config InlineBackend.figure_format = 'retina'\n",
        "\n",
        "# !apt -qq -y install fonts-nanum > /dev/null\n",
        "# import matplotlib.font_manager as fm\n",
        "# fontpath = '/usr/share/fonts/truetype/nanum/NanumBarunGothic.ttf'\n",
        "# font = fm.FontProperties(fname=fontpath, size=9)"
      ],
      "execution_count": 0,
      "outputs": []
    },
    {
      "cell_type": "code",
      "metadata": {
        "colab_type": "code",
        "id": "KkMdPnyia8av",
        "colab": {}
      },
      "source": [
        "def configure_plotly_browser_state():\n",
        "  import IPython\n",
        "  display(IPython.core.display.HTML('''\n",
        "        <script src=\"/static/components/requirejs/require.js\"></script>\n",
        "        <script>\n",
        "          requirejs.config({\n",
        "            paths: {\n",
        "              base: '/static/base',\n",
        "              plotly: 'https://cdn.plot.ly/plotly-latest.min.js?noext',\n",
        "            },\n",
        "          });\n",
        "        </script>\n",
        "        '''))"
      ],
      "execution_count": 0,
      "outputs": []
    },
    {
      "cell_type": "code",
      "metadata": {
        "colab_type": "code",
        "id": "WQMsczZXLCe5",
        "colab": {}
      },
      "source": [
        "Image('https://i.stack.imgur.com/ScJfR.png')\n"
      ],
      "execution_count": 0,
      "outputs": []
    },
    {
      "cell_type": "markdown",
      "metadata": {
        "id": "jq8RvkBJFsmx",
        "colab_type": "text"
      },
      "source": [
        "# Library Importing(plotly 4.1.1)"
      ]
    },
    {
      "cell_type": "code",
      "metadata": {
        "colab_type": "code",
        "id": "dsYMjGCCa8a0",
        "colab": {}
      },
      "source": [
        "from plotly import __version__\n",
        "print (__version__)\n",
        "import plotly\n",
        "from plotly import tools\n",
        "from plotly.subplots import make_subplots\n",
        "import plotly.graph_objs as go\n",
        "import plotly.figure_factory as ff\n",
        "\n",
        "# Display all cell outputs\n",
        "from IPython.core.interactiveshell import InteractiveShell\n",
        "\n",
        "# Jupyter setup\n",
        "init_notebook_mode(connected=True)\n",
        "\n",
        "import ipywidgets as widgets"
      ],
      "execution_count": 0,
      "outputs": []
    },
    {
      "cell_type": "code",
      "metadata": {
        "id": "FtE7_WMYF4uh",
        "colab_type": "code",
        "colab": {}
      },
      "source": [
        ""
      ],
      "execution_count": 0,
      "outputs": []
    },
    {
      "cell_type": "markdown",
      "metadata": {
        "id": "xVhdqRHoF3w0",
        "colab_type": "text"
      },
      "source": [
        "# Library Importing(plotly 3.6.4)"
      ]
    },
    {
      "cell_type": "code",
      "metadata": {
        "id": "bQydt3KwFpgL",
        "colab_type": "code",
        "colab": {}
      },
      "source": [
        "from plotly import __version__\n",
        "print (__version__)\n",
        "import plotly\n",
        "from plotly import tools\n",
        "import plotly.plotly as py\n",
        "import plotly.graph_objs as go\n",
        "import plotly.figure_factory as ff\n",
        "\n",
        "# Cufflinks wrapper on plotly\n",
        "import cufflinks as cf\n",
        "\n",
        "# Display all cell outputs\n",
        "from IPython.core.interactiveshell import InteractiveShell\n",
        "\n",
        "# plotly + cufflinks in offline mode\n",
        "from plotly.offline import download_plotlyjs, init_notebook_mode, plot, iplot\n",
        "cf.go_offline()\n",
        "\n",
        "# set the global theme\n",
        "cf.set_config_file(world_readable=True, theme='pearl', offline=True)\n",
        "\n",
        "# Jupyter setup\n",
        "init_notebook_mode(connected=True)\n",
        "\n",
        "import ipywidgets as widgets"
      ],
      "execution_count": 0,
      "outputs": []
    },
    {
      "cell_type": "markdown",
      "metadata": {
        "id": "GpUf3xigGASR",
        "colab_type": "text"
      },
      "source": [
        "# plotly 테마 설정"
      ]
    },
    {
      "cell_type": "markdown",
      "metadata": {
        "id": "zHbaUvIZEiYn",
        "colab_type": "text"
      },
      "source": [
        "theming 참고1: https://medium.com/plotly/introducing-plotly-py-theming-b644109ac9c7<br>\n",
        "theming 참고2: https://nbviewer.jupyter.org/github/jonmmease/plotly.py_release_notebooks/blob/master/notebooks/v3.4.0/templates-gapminder.ipynb <br>\n",
        "기본theme설정/해제 참고: https://plot.ly/python/templates/#specifying-a-default-themes "
      ]
    },
    {
      "cell_type": "code",
      "metadata": {
        "colab_type": "code",
        "id": "8INO_rS8mPRI",
        "colab": {}
      },
      "source": [
        "import plotly.io as pio\n",
        "pio.templates.default = \"plotly_white\"\n",
        "\n",
        "# fig = go.Figure(layout={\n",
        "#     'title' : 'Figure Title',\n",
        "#     'font' : {'size': 15, 'family': 'Courier'}\n",
        "# })\n",
        "\n",
        "# templated_fig = pio.to_templated(fig)\n",
        "# pio.templates['large_courier'] = templated_fig.layout.template\n",
        "\n",
        "# pio.templates.default = 'large_courier'"
      ],
      "execution_count": 0,
      "outputs": []
    },
    {
      "cell_type": "markdown",
      "metadata": {
        "colab_type": "text",
        "id": "owWPb1ibesF2"
      },
      "source": [
        "# github 엑셀 파일 불러오기"
      ]
    },
    {
      "cell_type": "code",
      "metadata": {
        "id": "w_DI6_std1Uf",
        "colab_type": "code",
        "colab": {}
      },
      "source": [
        "# Import package\n",
        "from urllib.request import urlretrieve\n",
        "import pandas as pd\n",
        "\n",
        "# Assign url of file: url\n",
        "url = 'https://github.com/jgumin/jupyter-notebook/raw/master/%EC%8B%A4%EC%8A%B5%EC%9E%90%EB%A3%8C-%EC%86%90%EC%97%90%EC%9E%A1%ED%9E%88%EB%8A%94%ED%8C%90%EB%8B%A4%EC%8A%A4/data/factory_reg_2018.xlsx'\n",
        "\n",
        "# Save file locally\n",
        "urlretrieve(url, 'factory_reg_2018.xlsx')\n",
        "\n",
        "# Read file into a DataFrame and print its head\n",
        "korea_2018 = pd.read_excel('factory_reg_2018.xlsx', index_col=0,\n",
        "                           sheet_name=2,header=[3])"
      ],
      "execution_count": 0,
      "outputs": []
    },
    {
      "cell_type": "markdown",
      "metadata": {
        "id": "2fQwzTxVbCqT",
        "colab_type": "text"
      },
      "source": [
        "# 분석용 데이터 임포팅"
      ]
    },
    {
      "cell_type": "code",
      "metadata": {
        "colab_type": "code",
        "id": "N6FN7Z3ox1ar",
        "colab": {}
      },
      "source": [
        "# data import\n",
        "drinks = pd.read_csv('http://bit.ly/drinksbycountry')\n",
        "movies = pd.read_csv('http://bit.ly/imdbratings')\n",
        "orders = pd.read_csv('http://bit.ly/chiporders', sep='\\t')\n",
        "orders['item_price'] = orders.item_price.str.replace('$', '').astype('float')\n",
        "stocks = pd.read_csv('http://bit.ly/smallstocks', parse_dates=['Date'])\n",
        "titanic = pd.read_csv('http://bit.ly/kaggletrain')\n",
        "ufo = pd.read_csv('http://bit.ly/uforeports', parse_dates=['Time'])"
      ],
      "execution_count": 0,
      "outputs": []
    },
    {
      "cell_type": "code",
      "metadata": {
        "colab_type": "code",
        "id": "yp02VE6a2JCn",
        "colab": {}
      },
      "source": [
        "# Google Colab 에서 plotly 실행\n",
        "def configure_plotly_browser_state():\n",
        "  import IPython\n",
        "  display(IPython.core.display.HTML('''\n",
        "        <script src=\"/static/components/requirejs/require.js\"></script>\n",
        "        <script>\n",
        "          requirejs.config({\n",
        "            paths: {\n",
        "              base: '/static/base',\n",
        "              plotly: 'https://cdn.plot.ly/plotly-latest.min.js?noext',\n",
        "            },\n",
        "          });\n",
        "        </script>\n",
        "        '''))\n",
        "\n",
        "configure_plotly_browser_state() # 매 셀마다 실행해야 함"
      ],
      "execution_count": 0,
      "outputs": []
    },
    {
      "cell_type": "code",
      "metadata": {
        "colab_type": "code",
        "hidePrompt": false,
        "id": "jEfvwLil2JCs",
        "colab": {}
      },
      "source": [
        "stu_info = pd.read_excel(\n",
        "    './data/IUDP학생현황.xlsx',date_parser=[\n",
        "        '참가기간(시작)', '참가기간(종료)', '체류기간(시작)', \n",
        "        '체류기간(종료)', '인턴십 기간(시작)','인턴십 기간(종료)',\n",
        "        '인턴십 기간2(시작)', '인턴십 기간2(종료)', '인턴십 기간3(시작)', \n",
        "        '인턴십 기간3(종료)', '국외여행1-1', '국외여행1-2', '국외여행2-1',\n",
        "        '국외여행2-2', '국외여행3-1', '국외여행3-2'])\n",
        "# parse_dates=True\n",
        "# Z:/200. 연락처/IUDP학생현황.xlsx\n",
        "\n",
        "airplane_info = pd.read_csv(\n",
        "    '../실습자료-손에잡히는판다스/data/airplane_info.csv',engine='python')"
      ],
      "execution_count": 0,
      "outputs": []
    },
    {
      "cell_type": "code",
      "metadata": {
        "colab_type": "code",
        "id": "ZRppQCIC2JCv",
        "colab": {}
      },
      "source": [
        "Image(\"img/read_csv함수의 인수.png\")"
      ],
      "execution_count": 0,
      "outputs": []
    },
    {
      "cell_type": "markdown",
      "metadata": {
        "colab_type": "text",
        "id": "Gixdszpg2JCw"
      },
      "source": [
        "* from IPython.display import Image 패키지 실행\n",
        "* code안 출력용: `Image(\"img/picture.png\")` 를 code안에 넣고 실행\n",
        "* markdown용: `![title](img/picture.png)`를 markdown안에 넣고 실행"
      ]
    },
    {
      "cell_type": "markdown",
      "metadata": {
        "colab_type": "text",
        "id": "YORHGILC2JCx",
        "toc-hr-collapsed": false
      },
      "source": [
        "# 기본"
      ]
    },
    {
      "cell_type": "markdown",
      "metadata": {
        "colab_type": "text",
        "id": "_uctVx9z91mF",
        "toc-hr-collapsed": true
      },
      "source": [
        "## 데이터프레임 편집\n",
        "출처: https://github.com/justmarkham/pandas-videos/blob/master/top_25_pandas_tricks.ipynb#scrollTo=oYSvgYSE7s1_"
      ]
    },
    {
      "cell_type": "markdown",
      "metadata": {
        "colab_type": "text",
        "id": "rurVf86aGzIO"
      },
      "source": [
        "### 데이터프레임 사이즈 축소 <br> 'usecols='' 로 필요한 열만 불러오기    <br>  'dtype='로 범주형 데이터 포함 object 데이터 타입열을 category 데이터 타입으로 변환"
      ]
    },
    {
      "cell_type": "code",
      "metadata": {
        "colab_type": "code",
        "id": "y5xF5WmgGy7y",
        "colab": {}
      },
      "source": [
        "cols = ['beer_servings', 'continent']\n",
        "dtypes = {'continent':'category'}\n",
        "smaller_drinks = pd.read_csv('http://bit.ly/drinksbycountry', usecols=cols, dtype=dtypes)\n",
        "smaller_drinks.info(memory_usage='deep')"
      ],
      "execution_count": 0,
      "outputs": []
    },
    {
      "cell_type": "code",
      "metadata": {
        "colab_type": "code",
        "id": "NO6KMJrrIzZD",
        "colab": {}
      },
      "source": [
        ""
      ],
      "execution_count": 0,
      "outputs": []
    },
    {
      "cell_type": "markdown",
      "metadata": {
        "colab_type": "text",
        "id": "bbsnK3X4GytO"
      },
      "source": [
        "### 복수파일의 데이터셋에서 단일 데이터프레임 생성(행방향): glob 패키지 사용 <br> stock_files = sorted(glob('data/stocks*.csv'));  pd.concat((pd.read_csv(file) for file in stock_files), ignore_index=True)"
      ]
    },
    {
      "cell_type": "code",
      "metadata": {
        "colab_type": "code",
        "id": "t76MopI6Ix6V",
        "colab": {}
      },
      "source": [
        "# data 폴더에 행과 열이 같은 stocks1.csv, stocks2.csv, stocks3.csv 이 있다고 가정\n",
        "from glob import glob\n",
        "stock_files = sorted(glob('data/stocks*.csv'))\n",
        "pd.concat(\n",
        "  (pd.read_csv(file) for file in stock_files), ignore_index=True\n",
        ")"
      ],
      "execution_count": 0,
      "outputs": []
    },
    {
      "cell_type": "code",
      "metadata": {
        "colab_type": "code",
        "id": "cABi47s7KtJv",
        "colab": {}
      },
      "source": [
        ""
      ],
      "execution_count": 0,
      "outputs": []
    },
    {
      "cell_type": "markdown",
      "metadata": {
        "colab_type": "text",
        "id": "0aHYI-eDIyMN"
      },
      "source": [
        "# 복수파일의 데이터셋에서 단일 데이터프레임 생성(열방향): glob 패키지 사용 <br> drink_files = sorted(glob('data/drinks*.csv'));  pd.concat((pd.read_csv(file) for file in drinks_files), axis='columns')"
      ]
    },
    {
      "cell_type": "code",
      "metadata": {
        "colab_type": "code",
        "id": "61HS5Nz3KqTH",
        "colab": {}
      },
      "source": [
        "# data 폴더에 행이 같고 열이 다른 drinks1.csv, drinks2.csv, drinks3.csv 이 있다고 가정\n",
        "from glob import glob\n",
        "drink_files = sorted(glob('data/drinks*.csv'))\n",
        "pd.concat(\n",
        "  (pd.read_csv(file) for file in drinks_files), axis='columns'\n",
        ")"
      ],
      "execution_count": 0,
      "outputs": []
    },
    {
      "cell_type": "code",
      "metadata": {
        "colab_type": "code",
        "id": "rNVRz4CnKqTJ",
        "colab": {}
      },
      "source": [
        ""
      ],
      "execution_count": 0,
      "outputs": []
    },
    {
      "cell_type": "markdown",
      "metadata": {
        "colab_type": "text",
        "id": "K-3RBGgY-ZdR"
      },
      "source": [
        "### 클립보드로 데이터프레임 만들기 <br>  pd.read_clipboard()"
      ]
    },
    {
      "cell_type": "code",
      "metadata": {
        "colab_type": "code",
        "id": "KWn6Bnpf-Ziu",
        "colab": {}
      },
      "source": [
        "df = pd.read_clipboard()\n",
        "df"
      ],
      "execution_count": 0,
      "outputs": []
    },
    {
      "cell_type": "code",
      "metadata": {
        "colab_type": "code",
        "id": "p73blM8--tfa",
        "colab": {}
      },
      "source": [
        ""
      ],
      "execution_count": 0,
      "outputs": []
    },
    {
      "cell_type": "markdown",
      "metadata": {
        "colab_type": "text",
        "id": "pEVdGpxZ-tmS"
      },
      "source": [
        "### 데이터프레임을 두 개의 랜덤 데이터셋으로 나누기 <br> subset1 = data.sample(frac=0.75, random_state=1234) <br> subset2 = movies.drop(subset1.index)"
      ]
    },
    {
      "cell_type": "markdown",
      "metadata": {
        "colab_type": "text",
        "id": "kp7Nb1xn-9kU"
      },
      "source": [
        "75%/25% 비율의 2개의 무작위 데이터 셋 만들기"
      ]
    },
    {
      "cell_type": "code",
      "metadata": {
        "colab_type": "code",
        "id": "7_SPUDtv-vKd",
        "colab": {}
      },
      "source": [
        "movies = pd.read_csv('http://bit.ly/imdbratings')\n",
        "len(movies)\n",
        "movies_1 = movies.sample(frac=0.75, random_state=1234)\n",
        "# 비율이 아닌 갯수로 샘플링할 땐, 'frac=' 대신 'n=갯수' 사용"
      ],
      "execution_count": 0,
      "outputs": []
    },
    {
      "cell_type": "code",
      "metadata": {
        "colab_type": "code",
        "id": "MkISbYeVBS20",
        "colab": {}
      },
      "source": [
        "movies_2 = movies.drop(movies_1.index)"
      ],
      "execution_count": 0,
      "outputs": []
    },
    {
      "cell_type": "code",
      "metadata": {
        "colab_type": "code",
        "id": "-E2ZuU1IDzQE",
        "colab": {}
      },
      "source": [
        ""
      ],
      "execution_count": 0,
      "outputs": []
    },
    {
      "cell_type": "markdown",
      "metadata": {
        "colab_type": "text",
        "id": "WWvVdme6Dzts"
      },
      "source": [
        "### 다범주 데이터프레임 필터링 <br>  data[data.범주열.isin(['범주1', 범주2', '범주3'])]"
      ]
    },
    {
      "cell_type": "code",
      "metadata": {
        "colab_type": "code",
        "id": "DvRVsOm3D0c-",
        "colab": {}
      },
      "source": [
        "movies = pd.read_csv('http://bit.ly/imdbratings')\n",
        "movies.genre.unique()"
      ],
      "execution_count": 0,
      "outputs": []
    },
    {
      "cell_type": "code",
      "metadata": {
        "colab_type": "code",
        "id": "8u9h7M7JFUmA",
        "colab": {}
      },
      "source": [
        "movies[movies.genre.isin(['Action', 'Drama', 'Western'])].head() # 또는\n",
        "\n",
        "# movies[(movies.genre == 'Action') | \n",
        "#        (movies.genre == 'Drama') | \n",
        "#        (movies.genre == 'Western')].head() "
      ],
      "execution_count": 0,
      "outputs": []
    },
    {
      "cell_type": "code",
      "metadata": {
        "colab_type": "code",
        "id": "8pmGsojoIliN",
        "colab": {}
      },
      "source": [
        ""
      ],
      "execution_count": 0,
      "outputs": []
    },
    {
      "cell_type": "markdown",
      "metadata": {
        "colab_type": "text",
        "id": "-zd6MCO2FUzA"
      },
      "source": [
        "### 갯수 많은 데이터순으로 필터링 <br>  data[data.범주열.isin(['범주1', 범주2', '범주3'])]"
      ]
    },
    {
      "cell_type": "code",
      "metadata": {
        "colab_type": "code",
        "id": "T2PlDrGiIkME",
        "colab": {}
      },
      "source": [
        "movies[\n",
        "movies.genre.isin(\n",
        "                  movies.genre.value_counts(\n",
        "                  ).nlargest(3).index\n",
        "                 )].head()"
      ],
      "execution_count": 0,
      "outputs": []
    },
    {
      "cell_type": "code",
      "metadata": {
        "colab_type": "code",
        "id": "bH7Ab_e3IkYM",
        "colab": {}
      },
      "source": [
        ""
      ],
      "execution_count": 0,
      "outputs": []
    },
    {
      "cell_type": "markdown",
      "metadata": {
        "colab_type": "text",
        "id": "rfptgZTHLOA7"
      },
      "source": [
        "### 칼럼명의 문자열을 나눠 multiple 칼럼 생성  <br>  data.column.str.split(' ', expand=True)"
      ]
    },
    {
      "cell_type": "code",
      "metadata": {
        "colab_type": "code",
        "id": "4WjGx2lfLOO9",
        "colab": {}
      },
      "source": [
        "df = pd.DataFrame({'name':['John Arthur Doe', 'Jane Ann Smith'],\n",
        "                   'location':['Los Angeles, CA', 'Washington, DC']})\n",
        "df"
      ],
      "execution_count": 0,
      "outputs": []
    },
    {
      "cell_type": "code",
      "metadata": {
        "colab_type": "code",
        "id": "GryRDVo-N1JP",
        "colab": {}
      },
      "source": [
        "df[['first', 'middle', 'last']] = df.name.str.split(' ', expand=True)\n",
        "df"
      ],
      "execution_count": 0,
      "outputs": []
    },
    {
      "cell_type": "code",
      "metadata": {
        "colab_type": "code",
        "id": "-JweD_7pN1JH",
        "colab": {}
      },
      "source": [
        "df['city'] = df.location.str.split(', ', expand=True)[0]\n",
        "df"
      ],
      "execution_count": 0,
      "outputs": []
    },
    {
      "cell_type": "code",
      "metadata": {
        "colab_type": "code",
        "id": "osehFshxNo0b",
        "colab": {}
      },
      "source": [
        ""
      ],
      "execution_count": 0,
      "outputs": []
    },
    {
      "cell_type": "markdown",
      "metadata": {
        "colab_type": "text",
        "id": "E29FlfNuMTzx"
      },
      "source": [
        "### 리스트 값의 Series를 DataFrame으로 확장"
      ]
    },
    {
      "cell_type": "code",
      "metadata": {
        "colab_type": "code",
        "id": "PejKq4X3N6ue",
        "colab": {}
      },
      "source": [
        "df = pd.DataFrame({'col_one':['a', 'b', 'c'], 'col_two':[[10, 40], [20, 50], [30, 60]]})\n",
        "df_new = df.col_two.apply(pd.Series)\n",
        "pd.concat([df, df_new], axis='columns')"
      ],
      "execution_count": 0,
      "outputs": []
    },
    {
      "cell_type": "code",
      "metadata": {
        "colab_type": "code",
        "id": "vqPhreAHN68s",
        "colab": {}
      },
      "source": [
        ""
      ],
      "execution_count": 0,
      "outputs": []
    },
    {
      "cell_type": "code",
      "metadata": {
        "colab_type": "code",
        "id": "ySDHqVR_x1by",
        "colab": {}
      },
      "source": [
        ""
      ],
      "execution_count": 0,
      "outputs": []
    },
    {
      "cell_type": "markdown",
      "metadata": {
        "colab_type": "text",
        "id": "GbA5DM5cx1b0"
      },
      "source": [
        "### 전체 값 중 null 값의 비율 <br> data.isna().mean()"
      ]
    },
    {
      "cell_type": "code",
      "metadata": {
        "colab_type": "code",
        "id": "7c75_EuXx1b0",
        "colab": {}
      },
      "source": [
        "titanic.isna().mean()"
      ],
      "execution_count": 0,
      "outputs": []
    },
    {
      "cell_type": "code",
      "metadata": {
        "colab_type": "code",
        "id": "n-9NVybcx1b3",
        "colab": {}
      },
      "source": [
        ""
      ],
      "execution_count": 0,
      "outputs": []
    },
    {
      "cell_type": "markdown",
      "metadata": {
        "colab_type": "text",
        "id": "b8ep7xbBx1b4"
      },
      "source": [
        "### 지정 된 % 미만의 null 값 가진 열 삭제 <br>  data.dropna(thresh=len(data)*0.9, axis='columns')"
      ]
    },
    {
      "cell_type": "code",
      "metadata": {
        "colab_type": "code",
        "id": "bxZiJX0SN7Ld",
        "colab": {}
      },
      "source": [
        "titanic.dropna(thresh=len(titanic)*0.9, axis='columns')"
      ],
      "execution_count": 0,
      "outputs": []
    },
    {
      "cell_type": "code",
      "metadata": {
        "colab_type": "code",
        "id": "fWjVoAv7x1b7",
        "colab": {}
      },
      "source": [
        ""
      ],
      "execution_count": 0,
      "outputs": []
    },
    {
      "cell_type": "markdown",
      "metadata": {
        "colab_type": "text",
        "id": "YYgjc6A-x1b9"
      },
      "source": [
        "### 특정기술통계행, 특정열의 describe 정보보기<br> data.describe().loc['min':'max', 'Pclass':'Parch']"
      ]
    },
    {
      "cell_type": "code",
      "metadata": {
        "colab_type": "code",
        "id": "fEcVbJ8Kx1b9",
        "colab": {}
      },
      "source": [
        "titanic.describe().loc['min':'max', 'Pclass':'Parch']"
      ],
      "execution_count": 0,
      "outputs": []
    },
    {
      "cell_type": "code",
      "metadata": {
        "colab_type": "code",
        "id": "CQ3q1tx1x1b_",
        "colab": {}
      },
      "source": [
        ""
      ],
      "execution_count": 0,
      "outputs": []
    },
    {
      "cell_type": "markdown",
      "metadata": {
        "colab_type": "text",
        "id": "E4hTjGoUx1cB"
      },
      "source": [
        "### 그룹화하는 열의 고유값별 가격 총합과 고유값별 개수 합계 동시 계산 <br> data.groupby('특정열').item_price.agg(['sum, 'count])"
      ]
    },
    {
      "cell_type": "code",
      "metadata": {
        "colab_type": "code",
        "id": "Kt0kH1zPx1cB",
        "colab": {}
      },
      "source": [
        "orders.groupby('order_id').item_price.agg(['sum', 'count'])"
      ],
      "execution_count": 0,
      "outputs": []
    },
    {
      "cell_type": "code",
      "metadata": {
        "colab_type": "code",
        "id": "p1aGsLqGx1cD",
        "colab": {}
      },
      "source": [
        ""
      ],
      "execution_count": 0,
      "outputs": []
    },
    {
      "cell_type": "markdown",
      "metadata": {
        "colab_type": "text",
        "id": "wj5HbBfKx1cF"
      },
      "source": [
        "### 그룹화 된 행의 연산 수행 시 원본 데이터프레임 행의 수를 축소하지 않고 연산<br> data.groupby('특정열').item_price.transform('sum')"
      ]
    },
    {
      "cell_type": "code",
      "metadata": {
        "colab_type": "code",
        "id": "U_ReYu-vx1cF",
        "colab": {}
      },
      "source": [
        "total_price = orders.groupby('order_id').item_price.transform('sum') # order_id 그룹별 item_price합계(이 때 행의 수가 축소되지 않음)\n",
        "orders['total_price'] = total_price  # total_price 이름의 열을 생성하여 total_price 값을 넣음\n",
        "orders['percent_of_total'] = orders.item_price / orders.total_price # 생성 된 total_price열과 item_price열을 활용 해 percent_of_total 연산하여 생상\n",
        "orders.head()"
      ],
      "execution_count": 0,
      "outputs": []
    },
    {
      "cell_type": "code",
      "metadata": {
        "colab_type": "code",
        "id": "VS-O9Ribx1cI",
        "colab": {}
      },
      "source": [
        ""
      ],
      "execution_count": 0,
      "outputs": []
    },
    {
      "cell_type": "markdown",
      "metadata": {
        "colab_type": "text",
        "id": "hX5eNnzmx1cK"
      },
      "source": [
        "### 데이터프레임 프로파일리포트 생성 <br> pandas_profiling.ProfileReport(data)"
      ]
    },
    {
      "cell_type": "code",
      "metadata": {
        "colab_type": "code",
        "id": "y8iXbbt4x1cN",
        "colab": {}
      },
      "source": [
        "import pandas_profiling\n",
        "pandas_profiling.ProfileReport(orders)"
      ],
      "execution_count": 0,
      "outputs": []
    },
    {
      "cell_type": "markdown",
      "metadata": {
        "colab_type": "text",
        "id": "4HOU04YI9_LA",
        "toc-hr-collapsed": true
      },
      "source": [
        "## 기타"
      ]
    },
    {
      "cell_type": "markdown",
      "metadata": {
        "colab_type": "text",
        "id": "s0az3dcE2JCy",
        "toc-hr-collapsed": true
      },
      "source": [
        "### 인코딩 확인"
      ]
    },
    {
      "cell_type": "code",
      "metadata": {
        "colab_type": "code",
        "id": "i3UHVSOj2JCy",
        "colab": {}
      },
      "source": [
        "import chardet"
      ],
      "execution_count": 0,
      "outputs": []
    },
    {
      "cell_type": "code",
      "metadata": {
        "colab_type": "code",
        "id": "ehwmTeZy2JC0",
        "colab": {}
      },
      "source": [
        "def find_encoding(fname):\n",
        "    r_file = open(fname, 'rb').read()\n",
        "    result = chardet.detect(r_file)\n",
        "    charenc = result['encoding']\n",
        "    return charenc"
      ],
      "execution_count": 0,
      "outputs": []
    },
    {
      "cell_type": "markdown",
      "metadata": {
        "colab_type": "text",
        "id": "SNNMEPf12JC3",
        "toc-hr-collapsed": true
      },
      "source": [
        "### 과학적 표기법"
      ]
    },
    {
      "cell_type": "code",
      "metadata": {
        "colab_type": "code",
        "id": "v5oIEjuB2JC5",
        "colab": {}
      },
      "source": [
        "# 출처: https://financedata.github.io/posts/pandas-display-format.html\n",
        "\n",
        "# 과학적 표기법(Scientific notation)을 사용하지 않는 경우\n",
        "pd.options.display.float_format = '{:.2f}'.format\n",
        "\n",
        "# 과학적 표기법(Scientific notation)\n",
        "pd.set_option('display.float_format', '{:.2e}'.format)\n",
        "\n",
        "pd.set_option('display.float_format', '{:.2f}'.format) # 항상 float 형식으로\n",
        "pd.set_option('display.float_format', '{:.2e}'.format) # 항상 사이언티픽\n",
        "pd.set_option('display.float_format', '${:.2g}'.format)  # 적당히 알아서\n",
        "\n",
        "# 지정한 표기법을 원래 상태로 돌리려면 None을 지정\n",
        "pd.set_option('display.float_format', None)\n",
        "\n",
        "# 과학적 표기법으로 나오는 숫자를 일반형식으로 나오게 하는 법  <.str()>"
      ],
      "execution_count": 0,
      "outputs": []
    },
    {
      "cell_type": "code",
      "metadata": {
        "colab_type": "code",
        "id": "TLT_ZROH2JC9",
        "colab": {}
      },
      "source": [
        "np.set_printoptions(precisions=2)\n",
        "np.set_printoptions(formatter={\"float_kind\": lambda x: \"%g\" % x})\n",
        "\n",
        "#     반올림,올림,내림,정수화\n",
        "ms[\"Percent\"].round(2); np.ceil(ms[\"Percent\"]), # np.floor() / np.trunc()\n",
        "\n",
        "# 자리수 변경\n",
        "ms[\"Percent\"].apply(lambda x: \"{0:0.2f}\".format(x)),\n",
        "ms[\"Percent\"].apply(lambda x: \"%0.2f\" % x),"
      ],
      "execution_count": 0,
      "outputs": []
    },
    {
      "cell_type": "markdown",
      "metadata": {
        "colab_type": "text",
        "id": "S8ZnHm_T2JC_",
        "toc-hr-collapsed": true
      },
      "source": [
        "### 단어수세기"
      ]
    },
    {
      "cell_type": "code",
      "metadata": {
        "colab_type": "code",
        "id": "mG4Aywcl2JDA",
        "colab": {}
      },
      "source": [
        "# 단어 수\n",
        "petitions['title'].apply(lambda x: len(str(x).split()))\n",
        "# 중복을 제거한 단어 수\n",
        "petitions['title'].apply(lambda x: len(set(str(x).split())))"
      ],
      "execution_count": 0,
      "outputs": []
    },
    {
      "cell_type": "code",
      "metadata": {
        "colab_type": "code",
        "id": "BGMwvCUk2JDC",
        "colab": {}
      },
      "source": [
        ""
      ],
      "execution_count": 0,
      "outputs": []
    },
    {
      "cell_type": "markdown",
      "metadata": {
        "colab_type": "text",
        "id": "Di6hxJA02JDD"
      },
      "source": [
        "### .isin 항목의 없는 원소 추출"
      ]
    },
    {
      "cell_type": "code",
      "metadata": {
        "colab_type": "code",
        "id": "3RoxaaY_2JDE",
        "colab": {}
      },
      "source": [
        "1. df[-df[\"column\"].isin([\"value\"])]\n",
        "2. df[~df[\"column\"].isin([\"value\"])]\n",
        "3. df[df[\"column\"].isin([\"value\"]) == False]\n",
        "4. df[np.logical_not(df[\"column\"].isin([\"value\"]))]"
      ],
      "execution_count": 0,
      "outputs": []
    },
    {
      "cell_type": "code",
      "metadata": {
        "colab_type": "code",
        "id": "vIBXJZOE2JDH",
        "colab": {}
      },
      "source": [
        ""
      ],
      "execution_count": 0,
      "outputs": []
    },
    {
      "cell_type": "markdown",
      "metadata": {
        "colab_type": "text",
        "id": "B95ST2uk2JDL"
      },
      "source": [
        "### apply 변환\n",
        "\n",
        "* 행이나 열 단위로 더 복잡한 처리를 하고 싶을 때는 사용\n",
        "* 인수로 행 또는 열을 받는 함수를 apply 메서드의 인수로 넣으면 각 열(또는 행)을 반복하여 그 함수에 적용시킴"
      ]
    },
    {
      "cell_type": "code",
      "metadata": {
        "colab_type": "code",
        "id": "YebrNzEu2JDL",
        "colab": {}
      },
      "source": [
        "df3 = pd.DataFrame({\n",
        "    'A': [1, 3, 4, 3, 4],\n",
        "    'B': [2, 3, 1, 2, 3],\n",
        "    'C': [1, 5, 2, 4, 4]\n",
        "})\n",
        "\n",
        "# 각 열의 최대값과 최소값의 차이를 구할 때\n",
        "df3.apply(lambda x: x.max() - x.min())\n",
        "\n",
        "# 각 행의 최대값과 최소값의 차이를 구할 때\n",
        "df3.apply(lambda x: x.max() - x.min(), axis=1)\n",
        "\n",
        "# 각 열에 대해 어떤 값이 얼마나 사용되었는지 확인할 때\n",
        "df3.apply(pd.value_counts)\n",
        "\n",
        "#NaN 값은 fillna 메서드로 원하는 값으로 변환하고,  astype 메서드로 전체 데이터 자료형 변환도 가능\n",
        "df3.apply(pd.value_counts).fillna(0).astype(int)"
      ],
      "execution_count": 0,
      "outputs": []
    },
    {
      "cell_type": "code",
      "metadata": {
        "colab_type": "code",
        "id": "I4QJmjTg2JDN",
        "colab": {}
      },
      "source": [
        ""
      ],
      "execution_count": 0,
      "outputs": []
    },
    {
      "cell_type": "markdown",
      "metadata": {
        "colab_type": "text",
        "id": "ka3e5B-52JDP",
        "toc-hr-collapsed": false
      },
      "source": [
        "# 주제별 정리"
      ]
    },
    {
      "cell_type": "markdown",
      "metadata": {
        "colab_type": "text",
        "id": "f4wrFycq2JDP",
        "toc-hr-collapsed": true
      },
      "source": [
        "## null값 (누락값) 처리"
      ]
    },
    {
      "cell_type": "markdown",
      "metadata": {
        "colab_type": "text",
        "id": "sIikk61v2JDQ"
      },
      "source": [
        "### 특정 열에 null 있는지 여부만 확인<br>Series.hasnans"
      ]
    },
    {
      "cell_type": "code",
      "metadata": {
        "colab_type": "code",
        "id": "lbDyGl8Q2JDQ",
        "colab": {}
      },
      "source": [
        "airplane_info['총정원'].hasnans"
      ],
      "execution_count": 0,
      "outputs": []
    },
    {
      "cell_type": "code",
      "metadata": {
        "colab_type": "code",
        "id": "5exGOA2tx1cs",
        "colab": {}
      },
      "source": [
        ""
      ],
      "execution_count": 0,
      "outputs": []
    },
    {
      "cell_type": "markdown",
      "metadata": {
        "colab_type": "text",
        "id": "5oWmDjVTx1ct"
      },
      "source": [
        "### 특정열의 각 원소 null 여부 boolean 반환 <br> np.isnan(Series)"
      ]
    },
    {
      "cell_type": "code",
      "metadata": {
        "colab_type": "code",
        "id": "SjTTLOAg2JDT",
        "colab": {}
      },
      "source": [
        "np.isnan(airplane_info['총정원']) \n",
        "# = airplane_info['총정원'].apply(np.isnan)"
      ],
      "execution_count": 0,
      "outputs": []
    },
    {
      "cell_type": "code",
      "metadata": {
        "colab_type": "code",
        "id": "8Ucf8dYk2JDb",
        "colab": {}
      },
      "source": [
        ""
      ],
      "execution_count": 0,
      "outputs": []
    },
    {
      "cell_type": "markdown",
      "metadata": {
        "colab_type": "text",
        "id": "-qWgBiRa2JDd"
      },
      "source": [
        "### null값 제외<br>Series[Series != 'nan']<br>Series[np.logical_not(Series == 'nan')] <br> Series[-(Series == 'nan')] <br> Series[~(Series == 'nan')] <br> Series[(Series == 'nan') == False]"
      ]
    },
    {
      "cell_type": "code",
      "metadata": {
        "colab_type": "code",
        "id": "6q3THQ7e2JDd",
        "colab": {}
      },
      "source": [
        "s[s != 'nan']"
      ],
      "execution_count": 0,
      "outputs": []
    },
    {
      "cell_type": "code",
      "metadata": {
        "colab_type": "code",
        "id": "b_a7ABX_2JDf",
        "colab": {}
      },
      "source": [
        ""
      ],
      "execution_count": 0,
      "outputs": []
    },
    {
      "cell_type": "markdown",
      "metadata": {
        "colab_type": "text",
        "id": "VB76azGy2JDi"
      },
      "source": [
        "### null값 있는 행 또는 열 삭제  <br> data.dropna(axis=0, how='any', thresh=None(임계값,int), subset=None(array-like), inplace=False)"
      ]
    },
    {
      "cell_type": "markdown",
      "metadata": {
        "colab_type": "text",
        "id": "9fBG-B5Hx1c5"
      },
      "source": [
        "*Series.dropna 의 경우, Series 전체 아닌 null 값만 삭제*"
      ]
    },
    {
      "cell_type": "code",
      "metadata": {
        "colab_type": "code",
        "id": "mDbmuQfB2JDj",
        "colab": {}
      },
      "source": [
        "airplane_info['총정원'].tail(3)"
      ],
      "execution_count": 0,
      "outputs": []
    },
    {
      "cell_type": "code",
      "metadata": {
        "colab_type": "code",
        "id": "IZnDgRHd2JDk",
        "colab": {}
      },
      "source": [
        "airplane_info.dropna(axis=1)"
      ],
      "execution_count": 0,
      "outputs": []
    },
    {
      "cell_type": "code",
      "metadata": {
        "colab_type": "code",
        "id": "HBH4vxOV2JDl",
        "colab": {}
      },
      "source": [
        ""
      ],
      "execution_count": 0,
      "outputs": []
    },
    {
      "cell_type": "markdown",
      "metadata": {
        "colab_type": "text",
        "id": "Ag-xtRCC2JDo"
      },
      "source": [
        "### null값 개수 확인 <br> <Series[Series != 'nan'].value_counts()>"
      ]
    },
    {
      "cell_type": "code",
      "metadata": {
        "colab_type": "code",
        "id": "Ik118SP02JDp",
        "colab": {}
      },
      "source": [
        "s[s != 'nan'].value_counts()"
      ],
      "execution_count": 0,
      "outputs": []
    },
    {
      "cell_type": "code",
      "metadata": {
        "colab_type": "code",
        "id": "SC_jbLaY2JDr",
        "colab": {}
      },
      "source": [
        ""
      ],
      "execution_count": 0,
      "outputs": []
    },
    {
      "cell_type": "markdown",
      "metadata": {
        "colab_type": "text",
        "id": "7Pv4c3Qt2JDs"
      },
      "source": [
        "### null값 위치를 고정하고 sorting <br> <.sort_values(by='a', na_position='last')>"
      ]
    },
    {
      "cell_type": "code",
      "metadata": {
        "colab_type": "code",
        "id": "UxH_s67X2JDt",
        "colab": {}
      },
      "source": [
        "df.sort_values(by='a', na_position='last') # na_position='first' "
      ],
      "execution_count": 0,
      "outputs": []
    },
    {
      "cell_type": "code",
      "metadata": {
        "colab_type": "code",
        "id": "zOxjHCci2JDv",
        "colab": {}
      },
      "source": [
        ""
      ],
      "execution_count": 0,
      "outputs": []
    },
    {
      "cell_type": "markdown",
      "metadata": {
        "colab_type": "text",
        "id": "REOPZacq2JDw"
      },
      "source": [
        "### null 값 포함해 연산(합계) <br><df.sum(skipna=False)>"
      ]
    },
    {
      "cell_type": "code",
      "metadata": {
        "colab_type": "code",
        "id": "Zmu_OsRJ2JDx",
        "colab": {}
      },
      "source": [
        "df.sum(skipna=False)"
      ],
      "execution_count": 0,
      "outputs": []
    },
    {
      "cell_type": "code",
      "metadata": {
        "colab_type": "code",
        "id": "sa_6_r_U2JD2",
        "colab": {}
      },
      "source": [
        ""
      ],
      "execution_count": 0,
      "outputs": []
    },
    {
      "cell_type": "markdown",
      "metadata": {
        "colab_type": "text",
        "id": "plseCWXf2JD3"
      },
      "source": [
        "### null값 다른 값으로 변경 <br> <.fillna('대체할값')>"
      ]
    },
    {
      "cell_type": "markdown",
      "metadata": {
        "colab_type": "text",
        "id": "lZjoK8GN2JD4"
      },
      "source": [
        "`s.fillna['value=None', 'method=None', 'axis=None', 'inplace=False', 'limit=None', 'downcast=None']`"
      ]
    },
    {
      "cell_type": "markdown",
      "metadata": {
        "colab_type": "text",
        "id": "10A5O-RH2JD6"
      },
      "source": [
        "* value: null값을 대체할 값. dict 형태로 행 또는 열마다의 대체값 별도 지정 가능\n",
        "* method:\n",
        "    * null값 발생 전 값으로 변경: 'ffill(or pad')\n",
        "    * null값 발생 후 값으로 변경: 'bfill(or backfill')\n",
        "* axis: 데이터프레임에서  null 값을 채우는 기준 방향으로  0은 행방향, 1은 열방향\n",
        "* inplace: True 는 null 값을 대체한 결과값으로 데이터프레임 변경\n",
        "* limit: method를 연속적으로 수행하는 최대수\n",
        "* downcast: 데이터타입 변경"
      ]
    },
    {
      "cell_type": "code",
      "metadata": {
        "colab_type": "code",
        "id": "PBh6gf9I2JD7",
        "colab": {}
      },
      "source": [
        "import numpy as np\n",
        "import pandas as pd\n",
        "s = pd.Series([0, 1, np.nan, 3])"
      ],
      "execution_count": 0,
      "outputs": []
    },
    {
      "cell_type": "code",
      "metadata": {
        "colab_type": "code",
        "id": "2DuMNnEx2JD9",
        "colab": {}
      },
      "source": [
        "s.fillna('No')\n",
        "s.fillna(method='pad')\n",
        "s.fillna(method='bfill')\n",
        "stu_info.fillna(\" \", axis=1, inplace=True)"
      ],
      "execution_count": 0,
      "outputs": []
    },
    {
      "cell_type": "code",
      "metadata": {
        "colab_type": "code",
        "id": "kO1WGScP2JD_",
        "colab": {}
      },
      "source": [
        "stu_info_pre = \\\n",
        "stu_info.fillna(\n",
        "    {'국외여행합계': 0, \n",
        "     '논문평점': stu_info.loc[stu_info['논문평점'] != np.nan, '논문평점'].mean(),\n",
        "     '자국내 주소': stu_info['국가']}\n",
        ").replace({'자국내 주소':'정보없음'}, {'자국내 주소': stu_info['국가']})\n",
        "# '국외여행합계' 열의 null값은 0, \n",
        "#'논문평점' 열의 null값은 '논문평점' 열의 값이 있는 경우의 점수들의 평균\n",
        "# '자국내 주소' 열의 null값은 '국가' 열의 값\n",
        "\n",
        "stu_info_pre. to_excel(\"C:/Users/Gumin JUNG/Desktop/IUDP학생현황.xlsx\", sheet_name=\"IUDPinfo\")"
      ],
      "execution_count": 0,
      "outputs": []
    },
    {
      "cell_type": "code",
      "metadata": {
        "colab_type": "code",
        "id": "B7KF5oVj2JEA",
        "colab": {}
      },
      "source": [
        ""
      ],
      "execution_count": 0,
      "outputs": []
    },
    {
      "cell_type": "markdown",
      "metadata": {
        "colab_type": "text",
        "id": "PukpVWNo2JEC"
      },
      "source": [
        "### 각 열 내 null값을 가진 셀의 합들의 합 <br> <stu_info.isnull().sum().sum()>"
      ]
    },
    {
      "cell_type": "markdown",
      "metadata": {
        "colab_type": "text",
        "id": "u2QIdJ2T2JEC"
      },
      "source": [
        "`stu_info.isnull().sum().sum()`"
      ]
    },
    {
      "cell_type": "code",
      "metadata": {
        "colab_type": "code",
        "id": "i4GSSEHe2JED",
        "colab": {}
      },
      "source": [
        "stu_info.isnull().sum().sum()"
      ],
      "execution_count": 0,
      "outputs": []
    },
    {
      "cell_type": "code",
      "metadata": {
        "colab_type": "code",
        "id": "HCelzwrn2JEE",
        "colab": {}
      },
      "source": [
        ""
      ],
      "execution_count": 0,
      "outputs": []
    },
    {
      "cell_type": "markdown",
      "metadata": {
        "colab_type": "text",
        "id": "l2zbAR2q2JEF"
      },
      "source": [
        "### null값 다른 값으로 변경 (.pivot_table에서) <br><.pivot_table(values='Series', index='Series', columns='Series', fill_value = '대체할값')>"
      ]
    },
    {
      "cell_type": "code",
      "metadata": {
        "colab_type": "code",
        "id": "GFrC5Usp2JEG",
        "colab": {}
      },
      "source": [
        "petitions[petitions['votes'] > 200000].pivot_table(values='answered', \n",
        "  index='category', columns='duration', fill_value= 0)"
      ],
      "execution_count": 0,
      "outputs": []
    },
    {
      "cell_type": "code",
      "metadata": {
        "colab_type": "code",
        "id": "EtxdYgct2JEH",
        "colab": {}
      },
      "source": [
        ""
      ],
      "execution_count": 0,
      "outputs": []
    },
    {
      "cell_type": "markdown",
      "metadata": {
        "colab_type": "text",
        "id": "pw32wSm32JEJ"
      },
      "source": [
        "### null값 보간처리 <.interpolate()>"
      ]
    },
    {
      "cell_type": "markdown",
      "metadata": {
        "colab_type": "text",
        "id": "8x0MKCTu2JEM"
      },
      "source": [
        "처리방법: 전,후값의 평균값 / 후값이 없을 경우, 전값 그대로 반환"
      ]
    },
    {
      "cell_type": "code",
      "metadata": {
        "colab_type": "code",
        "id": "F0GdFzOH2JEM",
        "colab": {}
      },
      "source": [
        "s = pd.Series([0, 1, np.nan, 3])\n",
        "s.interpolate()"
      ],
      "execution_count": 0,
      "outputs": []
    },
    {
      "cell_type": "code",
      "metadata": {
        "colab_type": "code",
        "id": "jEQ7UxLA2JEP",
        "colab": {}
      },
      "source": [
        "airplane_info = pd.read_csv('C:/Users/Gumin JUNG/OneDrive - 서울시립대학교/jupyter_notebook/실습자료-손에잡히는판다스/data/airplane_info.csv',\n",
        "                            engine='python')\n",
        "airplane_info['총정원'].tail(3)"
      ],
      "execution_count": 0,
      "outputs": []
    },
    {
      "cell_type": "code",
      "metadata": {
        "colab_type": "code",
        "id": "K3h3ymHs2JEQ",
        "colab": {}
      },
      "source": [
        "airplane_info['총정원_보간'] = airplane_info['총정원'].interpolate()\n",
        "airplane_info[['총정원', '총정원_보간']][2105:2109]"
      ],
      "execution_count": 0,
      "outputs": []
    },
    {
      "cell_type": "code",
      "metadata": {
        "colab_type": "code",
        "id": "j8dR0Qhh2JES",
        "colab": {}
      },
      "source": [
        ""
      ],
      "execution_count": 0,
      "outputs": []
    },
    {
      "cell_type": "markdown",
      "metadata": {
        "colab_type": "text",
        "id": "7u9xGEKN2JEW"
      },
      "source": [
        "### 특정열의 각 원소 null 여부 boolean 반환 <br><np.isnan(Series) or Series.apply(np.isnan)> (특정 열 null 값 있는지 여부만 확인할 때는  Series.hasnans)\n"
      ]
    },
    {
      "cell_type": "code",
      "metadata": {
        "colab_type": "code",
        "id": "ymD1ltS82JEX",
        "colab": {}
      },
      "source": [
        "np.isnan(airplane_info['총정원'])\n",
        "# = airplane_info['총정원'].apply(np.isnan) \n",
        "# = airplane_info['총정원'].isnull()"
      ],
      "execution_count": 0,
      "outputs": []
    },
    {
      "cell_type": "code",
      "metadata": {
        "colab_type": "code",
        "id": "5D_LMimG2JEZ",
        "colab": {}
      },
      "source": [
        ""
      ],
      "execution_count": 0,
      "outputs": []
    },
    {
      "cell_type": "markdown",
      "metadata": {
        "colab_type": "text",
        "id": "I-TegFGu2JEd"
      },
      "source": [
        "### null값이 아닌 값의 칼럼별 개수 <.count()>"
      ]
    },
    {
      "cell_type": "code",
      "metadata": {
        "colab_type": "code",
        "id": "mv3aYMdy2JEd",
        "colab": {}
      },
      "source": [
        "airplane_info.count()"
      ],
      "execution_count": 0,
      "outputs": []
    },
    {
      "cell_type": "code",
      "metadata": {
        "colab_type": "code",
        "id": "7ziDdnyc2JEe",
        "colab": {}
      },
      "source": [
        ""
      ],
      "execution_count": 0,
      "outputs": []
    },
    {
      "cell_type": "markdown",
      "metadata": {
        "colab_type": "text",
        "id": "jmOmqx3p2JEg"
      },
      "source": [
        "### null값의 칼럼별 개수 <.isnull().sum()>"
      ]
    },
    {
      "cell_type": "code",
      "metadata": {
        "colab_type": "code",
        "id": "78s08v8d2JEg",
        "colab": {}
      },
      "source": [
        "airplane_info.isnull().sum()"
      ],
      "execution_count": 0,
      "outputs": []
    },
    {
      "cell_type": "code",
      "metadata": {
        "colab_type": "code",
        "id": "c6Dzh6Ew2JEh",
        "colab": {}
      },
      "source": [
        ""
      ],
      "execution_count": 0,
      "outputs": []
    },
    {
      "cell_type": "markdown",
      "metadata": {
        "colab_type": "text",
        "id": "O_08Oa_32JEj"
      },
      "source": [
        "### null 아닌 값의 칼럼별 개수 <.notnull().sum()>"
      ]
    },
    {
      "cell_type": "code",
      "metadata": {
        "colab_type": "code",
        "id": "xZRAz6tE2JEj",
        "colab": {}
      },
      "source": [
        "airplane_info.notnull().sum()"
      ],
      "execution_count": 0,
      "outputs": []
    },
    {
      "cell_type": "code",
      "metadata": {
        "colab_type": "code",
        "id": "PZstLszu2JEl",
        "colab": {}
      },
      "source": [
        ""
      ],
      "execution_count": 0,
      "outputs": []
    },
    {
      "cell_type": "markdown",
      "metadata": {
        "colab_type": "text",
        "id": "dx1v2c1_2JEo"
      },
      "source": [
        "### null값의 칼럼별 개수의 합계 <.isnull().sum().sum()>"
      ]
    },
    {
      "cell_type": "code",
      "metadata": {
        "colab_type": "code",
        "id": "z9whOlqW2JEp",
        "colab": {}
      },
      "source": [
        "airplane_info.isnull().sum().sum()"
      ],
      "execution_count": 0,
      "outputs": []
    },
    {
      "cell_type": "code",
      "metadata": {
        "colab_type": "code",
        "id": "zWVr-BEx2JEv",
        "colab": {}
      },
      "source": [
        ""
      ],
      "execution_count": 0,
      "outputs": []
    },
    {
      "cell_type": "markdown",
      "metadata": {
        "colab_type": "text",
        "id": "pwtl5gD32JEx"
      },
      "source": [
        "### value_counts메소드에서 null값 빈도 표시 <.value_counts(dropna=False)>"
      ]
    },
    {
      "cell_type": "code",
      "metadata": {
        "colab_type": "code",
        "id": "e4hSrDH22JE1",
        "colab": {}
      },
      "source": [
        "flight_route_info['비고'].value_counts(dropna=False).head()"
      ],
      "execution_count": 0,
      "outputs": []
    },
    {
      "cell_type": "code",
      "metadata": {
        "colab_type": "code",
        "id": "IqCWY0ci2JE4",
        "colab": {}
      },
      "source": [
        ""
      ],
      "execution_count": 0,
      "outputs": []
    },
    {
      "cell_type": "markdown",
      "metadata": {
        "colab_type": "text",
        "id": "2vwXsVy82JE9"
      },
      "source": [
        "### 특정열 null값 삭제 (index속성을 사용) <Series.index[Series.apply(np.isnan)]>"
      ]
    },
    {
      "cell_type": "code",
      "metadata": {
        "colab_type": "code",
        "id": "EwnxWz1o2JE9",
        "colab": {}
      },
      "source": [
        "index_nan = airplane_info['총정원'].index[\n",
        "            airplane_info['총정원'].apply(np.isnan)]"
      ],
      "execution_count": 0,
      "outputs": []
    },
    {
      "cell_type": "code",
      "metadata": {
        "colab_type": "code",
        "id": "rFxaexb12JE_",
        "colab": {}
      },
      "source": [
        "airplane_info.drop(index=index_nan)"
      ],
      "execution_count": 0,
      "outputs": []
    },
    {
      "cell_type": "code",
      "metadata": {
        "colab_type": "code",
        "id": "uKp1ibid2JFB",
        "colab": {}
      },
      "source": [
        ""
      ],
      "execution_count": 0,
      "outputs": []
    },
    {
      "cell_type": "markdown",
      "metadata": {
        "colab_type": "text",
        "id": "vSCTcHNo2JFB"
      },
      "source": [
        "### null값을 다른 열의 null값으로 대체 <br> <df.loc[df[A].isnull(),A] = df.loc[df[A].isnull(),B]>\n",
        "##### A = null값 있는 열, B = null 값 대체할 값 가진 열"
      ]
    },
    {
      "cell_type": "code",
      "metadata": {
        "colab_type": "code",
        "id": "9zGmSvXP2JFC",
        "colab": {}
      },
      "source": [
        "import pandas as pd\n",
        "import numpy as np\n",
        "airplane = pd.read_csv('C:/Users/Gumin JUNG/OneDrive - 서울시립대학교/jupyter_notebook/실습자료-손에잡히는판다스/data/airplane_info.csv', \n",
        "                       engine='python')"
      ],
      "execution_count": 0,
      "outputs": []
    },
    {
      "cell_type": "code",
      "metadata": {
        "colab_type": "code",
        "id": "-J_aYPb32JFE",
        "colab": {}
      },
      "source": [
        "airplane.loc[airplane['총정원'].isnull(),'총정원'] = airplane.loc[airplane['총정원'].isnull(),'정원_Y']"
      ],
      "execution_count": 0,
      "outputs": []
    },
    {
      "cell_type": "code",
      "metadata": {
        "colab_type": "code",
        "id": "9pSoAVWT2JFH",
        "colab": {}
      },
      "source": [
        ""
      ],
      "execution_count": 0,
      "outputs": []
    },
    {
      "cell_type": "markdown",
      "metadata": {
        "colab_type": "text",
        "id": "fBYAF3t62JFH",
        "toc-hr-collapsed": true
      },
      "source": [
        "## 중복값 처리"
      ]
    },
    {
      "cell_type": "markdown",
      "metadata": {
        "colab_type": "text",
        "id": "555AjYfH2JFI"
      },
      "source": [
        "### 중복값 여부 확인 <.duplicated(subset=None(column label or sequence of labels, keep='first')>\n",
        "\n",
        "subset : 중복값 확인 시 고려되는 열 <br>\n",
        "keep='first' : 중복이면 중복의 첫번째 값 duplicated 여부를 False로 반환<br>\n",
        "keep='last' : 중복이면 중복의 마지막 값 duplicated 여부를 False로 반환<br>\n",
        "keep=False : 중복이면 무조건 True 반환(나중에 drop_duplicates() 에서 keep 할 생각이 없다는 뜻)"
      ]
    },
    {
      "cell_type": "code",
      "metadata": {
        "colab_type": "code",
        "id": "QgNeHk-42JFI",
        "colab": {}
      },
      "source": [
        "iris = sns.load_dataset('iris')"
      ],
      "execution_count": 0,
      "outputs": []
    },
    {
      "cell_type": "code",
      "metadata": {
        "colab_type": "code",
        "id": "PVJdw2fD2JFJ",
        "colab": {}
      },
      "source": [
        "iris.head()"
      ],
      "execution_count": 0,
      "outputs": []
    },
    {
      "cell_type": "code",
      "metadata": {
        "colab_type": "code",
        "id": "A8KtXux82JFL",
        "colab": {}
      },
      "source": [
        "iris.duplicated(subset=['petal_length', 'petal_width']).head()"
      ],
      "execution_count": 0,
      "outputs": []
    },
    {
      "cell_type": "markdown",
      "metadata": {
        "colab_type": "text",
        "id": "D3wO_H4W2JFN"
      },
      "source": [
        "#### 중복값의 칼럼별 개수 <.duplicated().sum()>"
      ]
    },
    {
      "cell_type": "code",
      "metadata": {
        "colab_type": "code",
        "id": "dy955I6P2JFN",
        "colab": {}
      },
      "source": [
        "iris.duplicated(subset=['petal_length', 'petal_width']).sum()"
      ],
      "execution_count": 0,
      "outputs": []
    },
    {
      "cell_type": "code",
      "metadata": {
        "colab_type": "code",
        "id": "by6Qk6PY2JFO",
        "colab": {}
      },
      "source": [
        ""
      ],
      "execution_count": 0,
      "outputs": []
    },
    {
      "cell_type": "markdown",
      "metadata": {
        "colab_type": "text",
        "id": "mYy2hn0e2JFP"
      },
      "source": [
        "### 중복된 열의 정보 삭제 <series.drop_duplicates()>"
      ]
    },
    {
      "cell_type": "code",
      "metadata": {
        "colab_type": "code",
        "id": "dGMUng1L2JFP",
        "colab": {}
      },
      "source": [
        "iris['species'].unique()"
      ],
      "execution_count": 0,
      "outputs": []
    },
    {
      "cell_type": "code",
      "metadata": {
        "colab_type": "code",
        "id": "P1NlUX5w2JFQ",
        "colab": {}
      },
      "source": [
        "iris['species'].drop_duplicates()"
      ],
      "execution_count": 0,
      "outputs": []
    },
    {
      "cell_type": "code",
      "metadata": {
        "colab_type": "code",
        "id": "2Oxdwt2e2JFS",
        "colab": {}
      },
      "source": [
        ""
      ],
      "execution_count": 0,
      "outputs": []
    },
    {
      "cell_type": "markdown",
      "metadata": {
        "colab_type": "text",
        "id": "2Xoc8Dyv2JFT",
        "toc-hr-collapsed": true
      },
      "source": [
        "## 문자열 처리"
      ]
    },
    {
      "cell_type": "markdown",
      "metadata": {
        "colab_type": "text",
        "id": "HokNanWn2JFT"
      },
      "source": [
        "### 한 셀에 ','로 구분 된 문자열 내용 분리하기"
      ]
    },
    {
      "cell_type": "code",
      "metadata": {
        "colab_type": "code",
        "id": "6wzQoOdL2JFT",
        "colab": {}
      },
      "source": [
        "mcq['LearningPlatformSelect'] = \\\n",
        "mcq['LearningPlatformSelect'].astype('str').apply(lambda x: x.split(','))\n",
        "s = mcq.apply(\n",
        "    lambda x: pd.Series(x['LearningPlatformSelect']),\n",
        "    axis=1).stack().reset_index(level=1, drop=True)\n",
        "s.name = 'platform'"
      ],
      "execution_count": 0,
      "outputs": []
    },
    {
      "cell_type": "code",
      "metadata": {
        "colab_type": "code",
        "id": "KmkNWwMB2JFV",
        "colab": {}
      },
      "source": [
        ""
      ],
      "execution_count": 0,
      "outputs": []
    },
    {
      "cell_type": "markdown",
      "metadata": {
        "colab_type": "text",
        "id": "Lc3hZZOZ2JFW"
      },
      "source": [
        "### 문자열 나누기 <br> Series.str.split('나누는기준문자')"
      ]
    },
    {
      "cell_type": "code",
      "metadata": {
        "colab_type": "code",
        "id": "-oJ_B__H2JFW",
        "colab": {}
      },
      "source": [
        "ss = pd.Series(['가_나_다', '라_마_바', np.nan, '사_아_자'])"
      ],
      "execution_count": 0,
      "outputs": []
    },
    {
      "cell_type": "code",
      "metadata": {
        "colab_type": "code",
        "id": "M5-wYteV2JFY",
        "colab": {}
      },
      "source": [
        "ss.str.split('_')"
      ],
      "execution_count": 0,
      "outputs": []
    },
    {
      "cell_type": "code",
      "metadata": {
        "colab_type": "code",
        "id": "AHBTV9pS2JFZ",
        "colab": {}
      },
      "source": [
        ""
      ],
      "execution_count": 0,
      "outputs": []
    },
    {
      "cell_type": "markdown",
      "metadata": {
        "colab_type": "text",
        "id": "JD_6TJoi2JFa"
      },
      "source": [
        "### 문자열 나눈 후 가져오기 <br> Series.str.split.get(가져올 문자열 번호) (or str[가져올 문자열 번호])"
      ]
    },
    {
      "cell_type": "code",
      "metadata": {
        "colab_type": "code",
        "id": "VHy-YCCD2JFa",
        "colab": {}
      },
      "source": [
        "ss.str.split('_').str.get(1) # = ss.str.split('_').str[1]"
      ],
      "execution_count": 0,
      "outputs": []
    },
    {
      "cell_type": "code",
      "metadata": {
        "colab_type": "code",
        "id": "whVNo1eV2JFb",
        "colab": {}
      },
      "source": [
        ""
      ],
      "execution_count": 0,
      "outputs": []
    },
    {
      "cell_type": "markdown",
      "metadata": {
        "colab_type": "text",
        "id": "XJKBBQTg2JFc"
      },
      "source": [
        "### 문자열 가져오기 <br> Series.str.get(가져올 문자열 번호) (or str[가져올 문자열 번호])"
      ]
    },
    {
      "cell_type": "code",
      "metadata": {
        "colab_type": "code",
        "id": "9RSacZcg2JFd",
        "colab": {}
      },
      "source": [
        "# ss.get(0) # '가_나_다'\n",
        "ss.str.get(0) # =ss.str[0]"
      ],
      "execution_count": 0,
      "outputs": []
    },
    {
      "cell_type": "code",
      "metadata": {
        "colab_type": "code",
        "id": "GJSgbxJJ2JFe",
        "colab": {}
      },
      "source": [
        ""
      ],
      "execution_count": 0,
      "outputs": []
    },
    {
      "cell_type": "markdown",
      "metadata": {
        "colab_type": "text",
        "id": "ONeNqNn52JFh"
      },
      "source": [
        "### 문자열 나눈 후 데이터프레임 생성 <br> Series.str.split('나누는기준문자', expand=True, n=리스트에서 분리해 낼 원소수)"
      ]
    },
    {
      "cell_type": "code",
      "metadata": {
        "colab_type": "code",
        "id": "e_ZEwMTs2JFh",
        "colab": {}
      },
      "source": [
        "ss.str.split('_', expand=True) #: 분리 후 리스트 원소를 각 열의 값으로 보내 데이터프레임 생성"
      ],
      "execution_count": 0,
      "outputs": []
    },
    {
      "cell_type": "code",
      "metadata": {
        "colab_type": "code",
        "id": "wW376hDI2JFi",
        "colab": {}
      },
      "source": [
        "ss.str.split('_', expand=True, n=1)"
      ],
      "execution_count": 0,
      "outputs": []
    },
    {
      "cell_type": "code",
      "metadata": {
        "colab_type": "code",
        "id": "eXBpfpIT2JFj",
        "colab": {}
      },
      "source": [
        "ss.str.rsplit('_', expand=True, n=1)\n",
        "# 오른쪽 기준으로 데이터프레임 만들기 때문에 왼쪽 열의 값을 마지막 열의 값이 처리한 나머지 보관 해 처리"
      ],
      "execution_count": 0,
      "outputs": []
    },
    {
      "cell_type": "code",
      "metadata": {
        "colab_type": "code",
        "id": "cgumDhYB2JFk",
        "colab": {}
      },
      "source": [
        ""
      ],
      "execution_count": 0,
      "outputs": []
    },
    {
      "cell_type": "markdown",
      "metadata": {
        "colab_type": "text",
        "id": "pC4HTuZR2JFm"
      },
      "source": [
        "### 문자열 대체 <br>Series.str.replace(\"현재str\", \"대체str\")"
      ]
    },
    {
      "cell_type": "code",
      "metadata": {
        "colab_type": "code",
        "id": "8eL-JSDv2JFn",
        "colab": {}
      },
      "source": [
        "ss.str.replace('_', '%') # : 대체값 처리    "
      ],
      "execution_count": 0,
      "outputs": []
    },
    {
      "cell_type": "code",
      "metadata": {
        "colab_type": "code",
        "id": "n-EvoY5K2JFp",
        "colab": {}
      },
      "source": [
        ""
      ],
      "execution_count": 0,
      "outputs": []
    },
    {
      "cell_type": "markdown",
      "metadata": {
        "colab_type": "text",
        "id": "UzG2v_jp2JFr"
      },
      "source": [
        "### 열내용을 대문자로 변환<br> Series.apply(str.upper)"
      ]
    },
    {
      "cell_type": "code",
      "metadata": {
        "colab_type": "code",
        "id": "y_Z7zEwC2JFr",
        "colab": {}
      },
      "source": [
        "cars.loc[:, 'COUNTRY'] = cars.loc[:, 'country'].apply(str.upper)\n",
        "[출처] Dictionary 자료구조와 Pandas 라이브러리|작성자 Gauss"
      ],
      "execution_count": 0,
      "outputs": []
    },
    {
      "cell_type": "code",
      "metadata": {
        "colab_type": "code",
        "id": "rTJ8PVO62JFs",
        "colab": {}
      },
      "source": [
        ""
      ],
      "execution_count": 0,
      "outputs": []
    },
    {
      "cell_type": "markdown",
      "metadata": {
        "colab_type": "text",
        "id": "Yzi0iq3L2JFu"
      },
      "source": [
        "### 리스트/Dict/Series/정규식/실수 대체 <br>Series.replace(to_replace=['남', '여'], value=1)"
      ]
    },
    {
      "cell_type": "markdown",
      "metadata": {
        "colab_type": "text",
        "id": "SsVjXnVP2JFv"
      },
      "source": [
        "`df.replace(to_replace=None, value=None, inplace=False, limit=None, regex=False, method='pad'): Replace values given in to_replace with value.`"
      ]
    },
    {
      "cell_type": "code",
      "metadata": {
        "colab_type": "code",
        "id": "vedIb02H2JFv",
        "colab": {}
      },
      "source": [
        "stu_info['성별'].replace({'남':1, '여':2}) # '남'은 1, '여'는 2로 대체\n",
        "#stu_info['성별'].replace(['남', '여'], 1) # '남','여' 모두 1로 대체"
      ],
      "execution_count": 0,
      "outputs": []
    },
    {
      "cell_type": "code",
      "metadata": {
        "colab_type": "code",
        "id": "8o2fvZ3f2JFw",
        "colab": {}
      },
      "source": [
        "stu_info['성명'].replace(r'^.',1, regex=True) #모든 문자 1로 변경\n",
        "# r: 정규식 명령시작, ^: 시작문자, $: 끝문자, .: 모든문자"
      ],
      "execution_count": 0,
      "outputs": []
    },
    {
      "cell_type": "code",
      "metadata": {
        "colab_type": "code",
        "id": "vyxpKd792JFx",
        "colab": {}
      },
      "source": [
        "stu_info.replace({'성명': r'^S..', '전공': r'...P$'}, \n",
        "                 {'성명': 'rao', '전공': 'SEP'}, regex=True)\n",
        "# '성명'열에서 S로 시작하는 세 문자 는 rao 로, \n",
        "# '전공'열에서 P로 끝나는 문자열의 P포함한 직전 세 문자 는 SEP 으로 변경"
      ],
      "execution_count": 0,
      "outputs": []
    },
    {
      "cell_type": "code",
      "metadata": {
        "colab_type": "code",
        "id": "pt9wJf1s2JFy",
        "colab": {}
      },
      "source": [
        ""
      ],
      "execution_count": 0,
      "outputs": []
    },
    {
      "cell_type": "markdown",
      "metadata": {
        "colab_type": "text",
        "id": "oNquAutG2JFz"
      },
      "source": [
        "### 문자열 통합 <br>Series.str.cat(sep='연결구분자')"
      ]
    },
    {
      "cell_type": "code",
      "metadata": {
        "colab_type": "code",
        "id": "CG3fcSX_2JFz",
        "colab": {}
      },
      "source": [
        "ss.str.cat(sep=',') #: 문자열 통합,  sep=',' - 연결시 사용되는 구분자"
      ],
      "execution_count": 0,
      "outputs": []
    },
    {
      "cell_type": "code",
      "metadata": {
        "colab_type": "code",
        "id": "GPKkerD42JF1",
        "colab": {}
      },
      "source": [
        "ss.str.cat() # : 구분자 없으면 주어진 문자열로 처리"
      ],
      "execution_count": 0,
      "outputs": []
    },
    {
      "cell_type": "code",
      "metadata": {
        "colab_type": "code",
        "id": "ykKvcgte2JF2",
        "colab": {}
      },
      "source": [
        "ss.str.cat(['A', 'B', 'C', 'D']) # : 새인자 추가 해 붙이기"
      ],
      "execution_count": 0,
      "outputs": []
    },
    {
      "cell_type": "code",
      "metadata": {
        "colab_type": "code",
        "id": "4SQledXt2JF3",
        "colab": {}
      },
      "source": [
        ""
      ],
      "execution_count": 0,
      "outputs": []
    },
    {
      "cell_type": "markdown",
      "metadata": {
        "colab_type": "text",
        "id": "5liBaALe2JF5"
      },
      "source": [
        "### 시리즈를 리스트로 변환 <br>Series.tolist"
      ]
    },
    {
      "cell_type": "code",
      "metadata": {
        "colab_type": "code",
        "id": "0gaNiJWe2JF5",
        "colab": {}
      },
      "source": [
        "op_eq_list = op_eq['member'].tolist"
      ],
      "execution_count": 0,
      "outputs": []
    },
    {
      "cell_type": "code",
      "metadata": {
        "colab_type": "code",
        "id": "FY9c0-Nc2JF6",
        "colab": {}
      },
      "source": [
        ""
      ],
      "execution_count": 0,
      "outputs": []
    },
    {
      "cell_type": "markdown",
      "metadata": {
        "colab_type": "text",
        "id": "0NzbtziN2JF6"
      },
      "source": [
        "### 특정 문자열 포함한 행에 대한 데이터프레임 추출 <br> data.loc[Series.str.contains('str')]"
      ]
    },
    {
      "cell_type": "code",
      "metadata": {
        "colab_type": "code",
        "id": "C03kB7yC2JF7",
        "colab": {}
      },
      "source": [
        "question.loc[question['Column'].str.contains('LearningCategory')]"
      ],
      "execution_count": 0,
      "outputs": []
    },
    {
      "cell_type": "code",
      "metadata": {
        "colab_type": "code",
        "id": "a_EdZdnf2JF7",
        "colab": {}
      },
      "source": [
        ""
      ],
      "execution_count": 0,
      "outputs": []
    },
    {
      "cell_type": "markdown",
      "metadata": {
        "colab_type": "text",
        "id": "RkMkB1tp2JF8"
      },
      "source": [
        "### DataFrame 내 자료형별 열 개수 구하기 <br> data.get_dtype_counts()"
      ]
    },
    {
      "cell_type": "code",
      "metadata": {
        "colab_type": "code",
        "id": "AJ2Br86k2JF8",
        "colab": {}
      },
      "source": [
        "college.get_dtype_counts()"
      ],
      "execution_count": 0,
      "outputs": []
    },
    {
      "cell_type": "code",
      "metadata": {
        "colab_type": "code",
        "id": "u1uHyfXB2JF9",
        "colab": {}
      },
      "source": [
        ""
      ],
      "execution_count": 0,
      "outputs": []
    },
    {
      "cell_type": "markdown",
      "metadata": {
        "colab_type": "text",
        "id": "zTklM1PT2JF-"
      },
      "source": [
        "### 특정 자료형 열추출 <br>data.select_dtypes(include=['자료형'])"
      ]
    },
    {
      "cell_type": "code",
      "metadata": {
        "colab_type": "code",
        "id": "zGHTj0wl2JF-",
        "colab": {}
      },
      "source": [
        "# int64 dtype열만 불러오기\n",
        "college.select_dtypes(include=['int64']).head()\n",
        "# 숫자형 dtype열만 불러오기 (np.number = 'number' 동일)\n",
        "college.select_dtypes(include=['number']).head()\n",
        "# 법주형 dtype열만 불러오기 (np.object = 'object' 동일)\n",
        "college.select_dtypes(include=['object']).head()"
      ],
      "execution_count": 0,
      "outputs": []
    },
    {
      "cell_type": "code",
      "metadata": {
        "colab_type": "code",
        "id": "UZBq5Lja2JF_",
        "colab": {}
      },
      "source": [
        ""
      ],
      "execution_count": 0,
      "outputs": []
    },
    {
      "cell_type": "markdown",
      "metadata": {
        "colab_type": "text",
        "id": "3OZyToiGNSjg"
      },
      "source": [
        "### 자릿수 구분된 숫자의 쉼표제거 <br>for i in range(0,18) :<br>----a = data.iloc[i].str.replace(',','')<br>----data.iloc[i] = a"
      ]
    },
    {
      "cell_type": "markdown",
      "metadata": {
        "id": "LssyinyvNSlk",
        "colab_type": "text"
      },
      "source": [
        "출처: https://github.com/jgumin/jupyter-notebook/blob/master/실습자료-손에잡히는판다스/6장 예제/6장 2.ipynb"
      ]
    },
    {
      "cell_type": "code",
      "metadata": {
        "id": "YXYTj66JNSll",
        "colab_type": "code",
        "colab": {}
      },
      "source": [
        "for i in range(0,18) :\n",
        "    a = korea_pop.iloc[i].str.replace(',','')\n",
        "    korea_pop.iloc[i] = a"
      ],
      "execution_count": 0,
      "outputs": []
    },
    {
      "cell_type": "code",
      "metadata": {
        "id": "8qUbYxR0NSll",
        "colab_type": "code",
        "colab": {}
      },
      "source": [
        ""
      ],
      "execution_count": 0,
      "outputs": []
    },
    {
      "cell_type": "markdown",
      "metadata": {
        "colab_type": "text",
        "id": "5EgA67GBNSlm"
      },
      "source": [
        "### '-'표시 null값을 실제 null값으로 변경 : '-'을 'NaN'으로 변경 후 dtype은 float로 변환 <br>for i in range(0,18) :<br>----a = data.iloc[i].str.replace('-','NaN')<br>----data.iloc[i] = a<br>korea_pop = korea_pop.astype('float64')"
      ]
    },
    {
      "cell_type": "markdown",
      "metadata": {
        "id": "vmRPtIa-NSlm",
        "colab_type": "text"
      },
      "source": [
        "출처: https://github.com/jgumin/jupyter-notebook/blob/master/실습자료-손에잡히는판다스/6장 예제/6장 2.ipynb"
      ]
    },
    {
      "cell_type": "code",
      "metadata": {
        "id": "NSCGg99aNSln",
        "colab_type": "code",
        "colab": {}
      },
      "source": [
        "for i in range(0,18) :\n",
        "    a = korea_pop.iloc[i].str.replace(',','')\n",
        "    korea_pop.iloc[i] = a"
      ],
      "execution_count": 0,
      "outputs": []
    },
    {
      "cell_type": "code",
      "metadata": {
        "id": "2nmT1_K2NSln",
        "colab_type": "code",
        "colab": {}
      },
      "source": [
        ""
      ],
      "execution_count": 0,
      "outputs": []
    },
    {
      "cell_type": "markdown",
      "metadata": {
        "colab_type": "text",
        "id": "2g6ToJFZ2JGB",
        "toc-hr-collapsed": true
      },
      "source": [
        "## index값 처리"
      ]
    },
    {
      "cell_type": "markdown",
      "metadata": {
        "colab_type": "text",
        "id": "-0KLGuhS2JGB"
      },
      "source": [
        "### 내부 구성 값 크기별 정렬 <br> Series.nlargest(숫자), Series.nsmallest(숫자)"
      ]
    },
    {
      "cell_type": "code",
      "metadata": {
        "colab_type": "code",
        "id": "wlEi8Zkn2JGB",
        "colab": {}
      },
      "source": [
        "# 평균등록금 상위 5개 내림차순 정렬\n",
        "college['평균등록금'].nlargest(5)\n",
        "# 평균등록금 하위 5개 오름차순 정렬\n",
        "college['평균등록금'].nsmallest(5)\n",
        "# college DataFrame을 평균등록금 기준 상위 5개 내림차순 정렬\n",
        "college.nlargest(5,'평균등록금')\n",
        "# college DataFrame을 평균등록금 기준 하위 5개 오름차순 정렬\n",
        "college.nsmallest(5,'평균등록금')"
      ],
      "execution_count": 0,
      "outputs": []
    },
    {
      "cell_type": "code",
      "metadata": {
        "colab_type": "code",
        "id": "1aKehxh02JGC",
        "colab": {}
      },
      "source": [
        ""
      ],
      "execution_count": 0,
      "outputs": []
    },
    {
      "cell_type": "markdown",
      "metadata": {
        "colab_type": "text",
        "id": "rtWOcz292JGD"
      },
      "source": [
        "### 임계치 지정 해 값 변환 <br> Series.clip(lower=숫자, upper=숫자)"
      ]
    },
    {
      "cell_type": "code",
      "metadata": {
        "colab_type": "code",
        "id": "HiWT_B_S2JGD",
        "colab": {}
      },
      "source": [
        "df[\"A\"].clip(lower=2, upper=8)"
      ],
      "execution_count": 0,
      "outputs": []
    },
    {
      "cell_type": "code",
      "metadata": {
        "colab_type": "code",
        "id": "s6pjddbU2JGE",
        "colab": {}
      },
      "source": [
        ""
      ],
      "execution_count": 0,
      "outputs": []
    },
    {
      "cell_type": "markdown",
      "metadata": {
        "colab_type": "text",
        "id": "4IUnuTVK2JGE"
      },
      "source": [
        "### 실수 값을 카테고리 값으로 변환 <br> pd.cut(data, bins, labels=[]) / pd.qcut(data, 범주수, labels=[]>"
      ]
    },
    {
      "cell_type": "markdown",
      "metadata": {
        "colab_type": "text",
        "id": "N7C7SSTn2JGE"
      },
      "source": [
        "* 실수 값을 크기 기준으로 하여 카테고리 값으로 변환할 때 사용\n",
        "* cut: 실수 값의 경계선 지정\n",
        "* qcut: 실수 값의 경계선 미지정, 갯수가 똑같은 구간으로 나눔"
      ]
    },
    {
      "cell_type": "code",
      "metadata": {
        "colab_type": "code",
        "id": "unoDi2_X2JGF",
        "colab": {}
      },
      "source": [
        "ages = [0, 2, 10, 21, 23, 37, 31, 61, 20, 41, 32, 100]\n",
        "bins = [1, 15, 25, 35, 60, 99]\n",
        "labels = [\"미성년자\", \"청년\", \"중년\", \"장년\", \"노년\"]\n",
        "cats = pd.cut(ages, bins, labels=labels)\n",
        "cats\n",
        "# cut 명령이 반환하는 값은 Categorical 클래스 객체 \n",
        "# cat.categories 속성으로 라벨 문자열, cat.codes 속성으로 정수로 인코딩한 카테고리 값 가짐\n",
        "\n",
        "df4 = pd.DataFrame(ages, columns=[\"ages\"])\n",
        "df4[\"age_cat\"] = pd.cut(df4[\"ages\"], bins, labels=labels)\n",
        "df4"
      ],
      "execution_count": 0,
      "outputs": []
    },
    {
      "cell_type": "code",
      "metadata": {
        "colab_type": "code",
        "id": "CFLUQqBi2JGF",
        "colab": {}
      },
      "source": [
        "data = np.random.randn(1000)\n",
        "cats = pd.qcut(data, 4, labels=[\"Q1\", \"Q2\", \"Q3\", \"Q4\"])\n",
        "cats\n",
        "pd.value_counts(cats)"
      ],
      "execution_count": 0,
      "outputs": []
    },
    {
      "cell_type": "code",
      "metadata": {
        "colab_type": "code",
        "id": "xCnTL_Rq2JGG",
        "colab": {}
      },
      "source": [
        ""
      ],
      "execution_count": 0,
      "outputs": []
    },
    {
      "cell_type": "markdown",
      "metadata": {
        "colab_type": "text",
        "id": "kesdqWuv2JGH"
      },
      "source": [
        "### 특정 컬럼과 특정 인덱스 동시 삭제 <br>data.drop(columns=df.filter().columns, index=[]"
      ]
    },
    {
      "cell_type": "code",
      "metadata": {
        "colab_type": "code",
        "id": "lJStKyej2JGH",
        "colab": {}
      },
      "source": [
        "# m 또는 y또는 o 로 시작하는 컬럼과, 0,1,2 인덱스 삭제\n",
        "df.drop(columns=df.filter(regex='^[myo]').columns, index=[0,1,2])"
      ],
      "execution_count": 0,
      "outputs": []
    },
    {
      "cell_type": "code",
      "metadata": {
        "colab_type": "code",
        "id": "8w-ilkbZ2JGI",
        "colab": {}
      },
      "source": [
        ""
      ],
      "execution_count": 0,
      "outputs": []
    },
    {
      "cell_type": "markdown",
      "metadata": {
        "colab_type": "text",
        "id": "vfujeoU62JGJ"
      },
      "source": [
        "### 행 위치 이동  <br> data.shift(이동할행[인덱스]숫자, , freq=\"시간단위인수\")"
      ]
    },
    {
      "cell_type": "markdown",
      "metadata": {
        "colab_type": "text",
        "id": "siWlGZ-i2JGJ"
      },
      "source": [
        "`ts.shift(1, freq=\"W\")`"
      ]
    },
    {
      "cell_type": "markdown",
      "metadata": {
        "colab_type": "text",
        "id": "JuSxiYdE2JGK"
      },
      "source": [
        "* 결측치 처리 시 주로 사용\n",
        "* 시계열 인덱스 이동 시에도 사용"
      ]
    },
    {
      "cell_type": "code",
      "metadata": {
        "colab_type": "code",
        "id": "4QFT3-gH2JGK",
        "colab": {}
      },
      "source": [
        "df2['b'].shift(2)"
      ],
      "execution_count": 0,
      "outputs": []
    },
    {
      "cell_type": "code",
      "metadata": {
        "colab_type": "code",
        "id": "fWAtHPyB2JGL",
        "colab": {}
      },
      "source": [
        "ts = pd.Series(np.random.randn(4), index=pd.date_range(\n",
        "    \"20180101\", periods=4, freq=\"M\"))\n",
        "ts.shift(1, freq=\"W\")  \n",
        "# 시계열 인덱스에서 freq로 단위 지정 해 인덱스 이동 가능\n",
        "# 첫번째 값의 인덱스가 다음(1) 주 일요일(W)만큼 앞당겨 짐"
      ],
      "execution_count": 0,
      "outputs": []
    },
    {
      "cell_type": "code",
      "metadata": {
        "colab_type": "code",
        "id": "4y-keNyw2JGM",
        "colab": {}
      },
      "source": [
        ""
      ],
      "execution_count": 0,
      "outputs": []
    },
    {
      "cell_type": "markdown",
      "metadata": {
        "colab_type": "text",
        "id": "eRfTMs0G2JGM"
      },
      "source": [
        "### 특정기준으로 몇 번째 값인지 보여 줌  <br> data.rank(method=기준이 되는 연산, pct=True)"
      ]
    },
    {
      "cell_type": "code",
      "metadata": {
        "colab_type": "code",
        "id": "wC5DGeFs2JGN",
        "colab": {}
      },
      "source": [
        "df[\"model_year\"].rank(method='dense', pct=True) # method='min', 'first', 'dense' "
      ],
      "execution_count": 0,
      "outputs": []
    },
    {
      "cell_type": "code",
      "metadata": {
        "colab_type": "code",
        "id": "UtJ2j3Ai2JGO",
        "colab": {}
      },
      "source": [
        ""
      ],
      "execution_count": 0,
      "outputs": []
    },
    {
      "cell_type": "markdown",
      "metadata": {
        "colab_type": "text",
        "id": "7YQawHQE2JGP"
      },
      "source": [
        "### data.groupby연산결과가 Series일 때 DataFrame으로 추출 <br>data.groupby(Series, as_index=False)[값Series].sum()"
      ]
    },
    {
      "cell_type": "code",
      "metadata": {
        "colab_type": "code",
        "id": "dfadfisL2JGP",
        "colab": {}
      },
      "source": [
        "df.groupby(\"Team\", as_index=False)[\"Points\"].sum()"
      ],
      "execution_count": 0,
      "outputs": []
    },
    {
      "cell_type": "code",
      "metadata": {
        "colab_type": "code",
        "id": "FZeSyoll2JGQ",
        "colab": {}
      },
      "source": [
        ""
      ],
      "execution_count": 0,
      "outputs": []
    },
    {
      "cell_type": "markdown",
      "metadata": {
        "colab_type": "text",
        "id": "P9PGl0A12JGS"
      },
      "source": [
        "### MultiIndex DataFrame에서 index레벨 변경 <br> <.swaplevel(i=-2, j=-1, copy=True)>"
      ]
    },
    {
      "cell_type": "code",
      "metadata": {
        "colab_type": "code",
        "id": "q6J-dmdK2JGS",
        "colab": {}
      },
      "source": [
        "import pandas as pd\n",
        "ipl_data = {'Team': ['Riders', 'Riders', 'Devils', 'Devils', 'Kings',\n",
        "         'kings', 'Kings', 'Kings', 'Riders', 'Royals', 'Royals', 'Riders'],\n",
        "         'Rank': [1, 2, 2, 3, 3,4 ,1 ,1,2 , 4,1,2],\n",
        "         'Year': [2014,2015,2014,2015,2014,2015,2016,2017,2016,2014,2015,2017],\n",
        "         'Points':[876,789,863,673,741,812,756,788,694,701,804,690]}\n",
        "\n",
        "df = pd.DataFrame(ipl_data)"
      ],
      "execution_count": 0,
      "outputs": []
    },
    {
      "cell_type": "code",
      "metadata": {
        "colab_type": "code",
        "id": "kKKQ9v0M2JGT",
        "colab": {}
      },
      "source": [
        "h_index = df.groupby([\"Team\", \"Year\"])[\"Points\"].sum()\n",
        "h_index\n",
        "h_index.swaplevel(i=-2, j=-1, copy=True)"
      ],
      "execution_count": 0,
      "outputs": []
    },
    {
      "cell_type": "code",
      "metadata": {
        "colab_type": "code",
        "id": "Ip7Ne_vp2JGT",
        "colab": {}
      },
      "source": [
        ""
      ],
      "execution_count": 0,
      "outputs": []
    },
    {
      "cell_type": "markdown",
      "metadata": {
        "colab_type": "text",
        "id": "ZFFq7jnu2JGU"
      },
      "source": [
        "### MultiIndex DataFrame에서 index 정렬 <br> data.sort_index(level=0)"
      ]
    },
    {
      "cell_type": "code",
      "metadata": {
        "colab_type": "code",
        "id": "ZuDGT8LH2JGU",
        "colab": {}
      },
      "source": [
        "h_index.swaplevel().sort_index(level=0)"
      ],
      "execution_count": 0,
      "outputs": []
    },
    {
      "cell_type": "code",
      "metadata": {
        "colab_type": "code",
        "id": "BjI0zi5a2JGV",
        "colab": {}
      },
      "source": [
        ""
      ],
      "execution_count": 0,
      "outputs": []
    },
    {
      "cell_type": "markdown",
      "metadata": {
        "id": "JFDUhN0xNSp9",
        "colab_type": "text"
      },
      "source": [
        "## 병합처리 (sql 조인문과 비교)"
      ]
    },
    {
      "cell_type": "code",
      "metadata": {
        "id": "Maibvj9fNSp9",
        "colab_type": "code",
        "colab": {}
      },
      "source": [
        "df1 = pd.DataFrame({'키': ['봄', '여름', '가을', '겨울'],\n",
        "                    '값': np.random.randn(4)})\n",
        "df2 = pd.DataFrame({'키': ['여름', '겨울', '겨울', '기타'],\n",
        "                   '값': np.random.randn(4)})"
      ],
      "execution_count": 0,
      "outputs": []
    },
    {
      "cell_type": "markdown",
      "metadata": {
        "colab_type": "text",
        "id": "ouZ1C-h6NSp-"
      },
      "source": [
        "### INNER 조인 처리 <br> pd.merge(df1, df2, on='키')"
      ]
    },
    {
      "cell_type": "markdown",
      "metadata": {
        "id": "GF7KMsQWNSp_",
        "colab_type": "text"
      },
      "source": [
        "SELECT *\n",
        "FROM df1\n",
        "INNER JOIN df2\n",
        "  ON df1.key = df2.key;"
      ]
    },
    {
      "cell_type": "code",
      "metadata": {
        "id": "bmB7deYWNSp_",
        "colab_type": "code",
        "colab": {}
      },
      "source": [
        "pd.merge(df1, df2, on='키') \n",
        "#키 값이 인덱스인 경우\n",
        "pd.merge(df1, df2, left_index=True, right_index=True)    "
      ],
      "execution_count": 0,
      "outputs": []
    },
    {
      "cell_type": "code",
      "metadata": {
        "colab_type": "code",
        "id": "vX1SMNSeNSqI",
        "colab": {}
      },
      "source": [
        ""
      ],
      "execution_count": 0,
      "outputs": []
    },
    {
      "cell_type": "markdown",
      "metadata": {
        "colab_type": "text",
        "id": "EtAA5fceNSqJ"
      },
      "source": [
        "### LEFT 조인 처리 <br> pd.merge(df1, df2, on='키', how='left')\n",
        "* 왼쪽에 있는 키를 기준으로 처리하므로, 오른쪽 테이블에 없으면 빈 값 표시\n",
        "*\n",
        "SELECT *\n",
        "FROM df1\n",
        "LEFT OUTER JOIN df2\n",
        "  ON df1.key = df2.key;"
      ]
    },
    {
      "cell_type": "code",
      "metadata": {
        "id": "g2O0eiStNSqJ",
        "colab_type": "code",
        "colab": {}
      },
      "source": [
        "pd.merge(df1, df2, on='키', how='left')"
      ],
      "execution_count": 0,
      "outputs": []
    },
    {
      "cell_type": "code",
      "metadata": {
        "id": "VWgbsFh8NSrE",
        "colab_type": "code",
        "colab": {}
      },
      "source": [
        ""
      ],
      "execution_count": 0,
      "outputs": []
    },
    {
      "cell_type": "markdown",
      "metadata": {
        "colab_type": "text",
        "id": "MaQWkVsvNSrE"
      },
      "source": [
        "### RIGHT 조인 처리 <br> pd.merge(df1, df2, on='키', how='right')\n",
        "* 오른쪽에 있는 키를 기준으로 처리하므로, 왼쪽 테이블에 없으면 빈 값 표시\n",
        "* \n",
        "SELECT *\n",
        "FROM df1\n",
        "RIGHT OUTER JOIN df2\n",
        "  ON df1.key = df2.key;"
      ]
    },
    {
      "cell_type": "code",
      "metadata": {
        "id": "VUJQKqC-NSrF",
        "colab_type": "code",
        "colab": {}
      },
      "source": [
        "pd.merge(df1, df2, on='키', how='right')"
      ],
      "execution_count": 0,
      "outputs": []
    },
    {
      "cell_type": "code",
      "metadata": {
        "id": "Z-8rpQhVNSrF",
        "colab_type": "code",
        "colab": {}
      },
      "source": [
        ""
      ],
      "execution_count": 0,
      "outputs": []
    },
    {
      "cell_type": "markdown",
      "metadata": {
        "colab_type": "text",
        "id": "DJdDjdzUNSrH"
      },
      "source": [
        "### FULL OUTER 조인 처리 <br> pd.merge(df1, df2, on='키', how='outer')\n",
        "* 전체의 키를 전부 표시하므로, 모든 조인의 결과값 표시\n",
        "* \n",
        "SELECT *\n",
        "FROM df1\n",
        "FULL OUTER JOIN df2\n",
        "  ON df1.key = df2.key;"
      ]
    },
    {
      "cell_type": "code",
      "metadata": {
        "id": "Bt3jbjMBNSrH",
        "colab_type": "code",
        "colab": {}
      },
      "source": [
        "pd.merge(df1, df2, on='키', how='outer')"
      ],
      "execution_count": 0,
      "outputs": []
    },
    {
      "cell_type": "code",
      "metadata": {
        "id": "REOizpuHNSrI",
        "colab_type": "code",
        "colab": {}
      },
      "source": [
        ""
      ],
      "execution_count": 0,
      "outputs": []
    },
    {
      "cell_type": "markdown",
      "metadata": {
        "colab_type": "text",
        "id": "DZD1m7fqNSrI"
      },
      "source": [
        "### UNION ALL 처리 <br> pd.concat([df1, df2])\n",
        "* 두 개의 테이블이 특정 열들 선택 후, 두 개를 동일하게 연결 시 사용\n",
        "* \n",
        "SELECT city, rank\n",
        "FROM df1\n",
        "UNION ALL\n",
        "SELECT city, rank\n",
        "FROM df2;"
      ]
    },
    {
      "cell_type": "code",
      "metadata": {
        "id": "ltDgGOdoNSrJ",
        "colab_type": "code",
        "colab": {}
      },
      "source": [
        "pd.concat([df1, df2])"
      ],
      "execution_count": 0,
      "outputs": []
    },
    {
      "cell_type": "code",
      "metadata": {
        "id": "yID-HSxcNSrJ",
        "colab_type": "code",
        "colab": {}
      },
      "source": [
        ""
      ],
      "execution_count": 0,
      "outputs": []
    },
    {
      "cell_type": "markdown",
      "metadata": {
        "colab_type": "text",
        "id": "QaAHPG2uNSra"
      },
      "source": [
        "### UNION 처리 <br> pd.concat([df1, df2])\n",
        "* 두 개의 테이블이 특정 열들 선택 후, 두 개를 동일하게 연결 시 사용. 중복 삭제.\n",
        "* \n",
        "SELECT city, rank\n",
        "FROM df1\n",
        "UNION\n",
        "SELECT city, rank\n",
        "FROM df2;"
      ]
    },
    {
      "cell_type": "code",
      "metadata": {
        "id": "wnsGH9iuNSrb",
        "colab_type": "code",
        "colab": {}
      },
      "source": [
        "df2.loc[1] = df1.loc[3]\n",
        "pd.concat([df1, df2]).drop_duplicates()"
      ],
      "execution_count": 0,
      "outputs": []
    },
    {
      "cell_type": "code",
      "metadata": {
        "id": "3eukVxHJNSrb",
        "colab_type": "code",
        "colab": {}
      },
      "source": [
        ""
      ],
      "execution_count": 0,
      "outputs": []
    },
    {
      "cell_type": "markdown",
      "metadata": {
        "id": "tVIwWDqNNSrc",
        "colab_type": "text"
      },
      "source": [
        "## sql 문장(s)과 판다스 처리(p) 비교"
      ]
    },
    {
      "cell_type": "code",
      "metadata": {
        "id": "usjOByNhNSrc",
        "colab_type": "code",
        "colab": {}
      },
      "source": [
        "# Import package\n",
        "from urllib.request import urlretrieve\n",
        "import pandas as pd\n",
        "\n",
        "# Assign url of file: url\n",
        "url = 'https://github.com/jgumin/jupyter-notebook/raw/master/%EC%8B%A4%EC%8A%B5%EC%9E%90%EB%A3%8C-%EC%86%90%EC%97%90%EC%9E%A1%ED%9E%88%EB%8A%94%ED%8C%90%EB%8B%A4%EC%8A%A4/data/factory_reg_2018.xlsx'\n",
        "\n",
        "# Save file locally\n",
        "urlretrieve(url, 'factory_reg_2018.xlsx')\n",
        "\n",
        "# Read file into a DataFrame and print its head\n",
        "korea_2018 = pd.read_excel('factory_reg_2018.xlsx', index_col=0,\n",
        "                           sheet_name=2,header=[3])"
      ],
      "execution_count": 0,
      "outputs": []
    },
    {
      "cell_type": "markdown",
      "metadata": {
        "colab_type": "text",
        "id": "2_qXXXdMNSrd"
      },
      "source": [
        "### (s)Select 문장에서 특정 테이블의 열 가지고 처리 == (p)인덱스 검색에서 팬시 검색으로 특정 열 선택처리"
      ]
    },
    {
      "cell_type": "markdown",
      "metadata": {
        "id": "tzC7FbMBNSrd",
        "colab_type": "text"
      },
      "source": [
        "SELECT 서울, 인천, 대전 \n",
        "FROM korea_2018\n",
        "LIMIT 5;"
      ]
    },
    {
      "cell_type": "code",
      "metadata": {
        "id": "_1VYTyesNSrd",
        "colab_type": "code",
        "colab": {}
      },
      "source": [
        "korea_2018[['서울', '인천', '대전']].head(5)"
      ],
      "execution_count": 0,
      "outputs": []
    },
    {
      "cell_type": "code",
      "metadata": {
        "id": "xvd0GvR2NSre",
        "colab_type": "code",
        "colab": {}
      },
      "source": [
        ""
      ],
      "execution_count": 0,
      "outputs": []
    },
    {
      "cell_type": "markdown",
      "metadata": {
        "colab_type": "text",
        "id": "q0RBLTVhNSrj"
      },
      "source": [
        "### (s)특정 조건 where에 주기 == (p)판다스 논리식 검색"
      ]
    },
    {
      "cell_type": "markdown",
      "metadata": {
        "id": "S9pdhqPcNSrk",
        "colab_type": "text"
      },
      "source": [
        "SELECT *\n",
        "FROM korea_2018\n",
        "WHERE 서울 = 41\n",
        "LIMIT 5;"
      ]
    },
    {
      "cell_type": "code",
      "metadata": {
        "id": "M0WI_EHRNSrk",
        "colab_type": "code",
        "colab": {}
      },
      "source": [
        "korea_2018[korea_2018['서울'] == 41 ].head(5)"
      ],
      "execution_count": 0,
      "outputs": []
    },
    {
      "cell_type": "code",
      "metadata": {
        "id": "7uPJNH-SNSrk",
        "colab_type": "code",
        "colab": {}
      },
      "source": [
        ""
      ],
      "execution_count": 0,
      "outputs": []
    },
    {
      "cell_type": "markdown",
      "metadata": {
        "colab_type": "text",
        "id": "dFYwa4gqNSrl"
      },
      "source": [
        "### (s)특정 조건 where문 2개 이상 조건 == (p)판다스 논리식 검색도 2개 이상 조건"
      ]
    },
    {
      "cell_type": "markdown",
      "metadata": {
        "id": "BK06RaXRNSrl",
        "colab_type": "text"
      },
      "source": [
        "SELECT *\n",
        "FROM korea_2018\n",
        "WHERE 서울 < 41 & 제주 > 5\n",
        "LIMIT 5;"
      ]
    },
    {
      "cell_type": "code",
      "metadata": {
        "id": "_T6BPlZyNSrl",
        "colab_type": "code",
        "colab": {}
      },
      "source": [
        "korea_2018[(korea_2018['서울'] < 41) &  (korea_2018['제주'] > 0)].head()"
      ],
      "execution_count": 0,
      "outputs": []
    },
    {
      "cell_type": "code",
      "metadata": {
        "id": "ZBNEC2liNSrm",
        "colab_type": "code",
        "colab": {}
      },
      "source": [
        ""
      ],
      "execution_count": 0,
      "outputs": []
    },
    {
      "cell_type": "markdown",
      "metadata": {
        "id": "BCVZdrEQNSrm",
        "colab_type": "text"
      },
      "source": [
        "## 조건절처리 메소드(data.where, data.mask, data.take)"
      ]
    },
    {
      "cell_type": "code",
      "metadata": {
        "id": "kHyaYu1wNSrn",
        "colab_type": "code",
        "colab": {}
      },
      "source": [
        "# Import package\n",
        "from urllib.request import urlretrieve\n",
        "import pandas as pd\n",
        "\n",
        "# Assign url of file: url\n",
        "url = 'https://github.com/jgumin/jupyter-notebook/raw/master/%EC%8B%A4%EC%8A%B5%EC%9E%90%EB%A3%8C-%EC%86%90%EC%97%90%EC%9E%A1%ED%9E%88%EB%8A%94%ED%8C%90%EB%8B%A4%EC%8A%A4/data/factory_reg_2018.xlsx'\n",
        "\n",
        "# Save file locally\n",
        "urlretrieve(url, 'factory_reg_2018.xlsx')\n",
        "\n",
        "# Read file into a DataFrame and print its head\n",
        "korea_2018 = pd.read_excel('factory_reg_2018.xlsx', index_col=0,\n",
        "                           sheet_name=2,header=[3])"
      ],
      "execution_count": 0,
      "outputs": []
    },
    {
      "cell_type": "markdown",
      "metadata": {
        "colab_type": "text",
        "id": "hPplrPyBNSro"
      },
      "source": [
        "### 조건결과에 따라 값표시하기 <br> data.where(조건, [NaN대체할값]), data.mask(조건, [NaN대체할값])"
      ]
    },
    {
      "cell_type": "code",
      "metadata": {
        "id": "10Y5X3fCNSro",
        "colab_type": "code",
        "colab": {}
      },
      "source": [
        "korea_2018.where(korea_2018['서울'] < 30).head() # 조건이 참인 경우, 값표시하고 나머지는 NaN으로 표시"
      ],
      "execution_count": 0,
      "outputs": []
    },
    {
      "cell_type": "code",
      "metadata": {
        "id": "fEdUPmuwNSrp",
        "colab_type": "code",
        "colab": {}
      },
      "source": [
        "korea_2018.where(korea_2018['서울'] < 30, 0.0).head() # 조건이 참인 경우, 값표시하고 나머지는 0.0으로 표시"
      ],
      "execution_count": 0,
      "outputs": []
    },
    {
      "cell_type": "code",
      "metadata": {
        "id": "kBIH1w-7NSrr",
        "colab_type": "code",
        "colab": {}
      },
      "source": [
        "korea_2018.mask(korea_2018['서울'] < 30).head() # 조건이 거짓인 경우, 값표시하고 나머지는 NaN으로 표시"
      ],
      "execution_count": 0,
      "outputs": []
    },
    {
      "cell_type": "code",
      "metadata": {
        "id": "jam54PlpNSrs",
        "colab_type": "code",
        "colab": {}
      },
      "source": [
        "korea_2018.mask(korea_2018['서울'] < 30, 0.0).head() # 조건이 거짓인 경우, 값표시하고 나머지는 0.0으로 표시"
      ],
      "execution_count": 0,
      "outputs": []
    },
    {
      "cell_type": "code",
      "metadata": {
        "id": "dP8_DoaZNSrt",
        "colab_type": "code",
        "colab": {}
      },
      "source": [
        ""
      ],
      "execution_count": 0,
      "outputs": []
    },
    {
      "cell_type": "markdown",
      "metadata": {
        "colab_type": "text",
        "id": "UqoHC0dYNSrt"
      },
      "source": [
        "### 특정행 또는 열추출 <br> data.take([(행또는열)포지션0,포지션1,포지션n], axis=0(또는1))"
      ]
    },
    {
      "cell_type": "code",
      "metadata": {
        "id": "sd5YCAOANSru",
        "colab_type": "code",
        "colab": {}
      },
      "source": [
        "korea_2018.take([0,5],axis=1) # 0,5번째 열 추출"
      ],
      "execution_count": 0,
      "outputs": []
    },
    {
      "cell_type": "code",
      "metadata": {
        "id": "r1Pn9osyNSsI",
        "colab_type": "code",
        "colab": {}
      },
      "source": [
        ""
      ],
      "execution_count": 0,
      "outputs": []
    },
    {
      "cell_type": "markdown",
      "metadata": {
        "colab_type": "text",
        "id": "GyDxi4qy2JGW",
        "toc-hr-collapsed": true
      },
      "source": [
        "## 특정 값,위치 검색"
      ]
    },
    {
      "cell_type": "markdown",
      "metadata": {
        "colab_type": "text",
        "id": "DLHEnW3Px1fG"
      },
      "source": [
        "### 특정 행/열 레이블로 하나의 원소 변경<br> data.at[1, '기종'] = 'A320-3xx'<br>data.at[[1, 2], '기종'] = 'A320-0xx'"
      ]
    },
    {
      "cell_type": "markdown",
      "metadata": {
        "colab_type": "text",
        "id": "BJoijAPVx1fH"
      },
      "source": [
        "*'1'행 '기종'열 값을 'A320-3xx' 으로 변경*<br>\n",
        "*'1,2'행 '기종'열 값을 'A320-0xx' 으로 변경*"
      ]
    },
    {
      "cell_type": "code",
      "metadata": {
        "colab_type": "code",
        "id": "l-XDAE_Ax1fH",
        "colab": {}
      },
      "source": [
        "airplane_info.at[1, '기종'] = 'A320-3xx'\n",
        "airplane_info.at[[1, 2], '기종'] = 'A320-0xx'\n",
        "airplane_info.head(3)"
      ],
      "execution_count": 0,
      "outputs": []
    },
    {
      "cell_type": "code",
      "metadata": {
        "colab_type": "code",
        "id": "Flq3jMF-x1fI",
        "colab": {}
      },
      "source": [
        ""
      ],
      "execution_count": 0,
      "outputs": []
    },
    {
      "cell_type": "markdown",
      "metadata": {
        "colab_type": "text",
        "id": "x0Z4pqlU2JGW"
      },
      "source": [
        "### 특정열에서 특정문자 포함한 값 찾기 <br> Series.str.contains('찾는문자')"
      ]
    },
    {
      "cell_type": "code",
      "metadata": {
        "colab_type": "code",
        "id": "_4giM_262JGX",
        "colab": {}
      },
      "source": [
        "question['Column'].str.contains('LearningCategory')"
      ],
      "execution_count": 0,
      "outputs": []
    },
    {
      "cell_type": "code",
      "metadata": {
        "colab_type": "code",
        "id": "dzpk1p4B2JGZ",
        "colab": {}
      },
      "source": [
        ""
      ],
      "execution_count": 0,
      "outputs": []
    },
    {
      "cell_type": "markdown",
      "metadata": {
        "colab_type": "text",
        "id": "ivZE4P6S2JGZ"
      },
      "source": [
        "### 특정열에서 특정값 찾기 <br> <Series.isin(['특정값1, 특정값n'])>"
      ]
    },
    {
      "cell_type": "code",
      "metadata": {
        "colab_type": "code",
        "id": "G2YNRHIT2JGa",
        "colab": {}
      },
      "source": [
        "question['Column'].str.contains('LearningCategory')"
      ],
      "execution_count": 0,
      "outputs": []
    },
    {
      "cell_type": "code",
      "metadata": {
        "colab_type": "code",
        "id": "sg8Ov3Rz2JGc",
        "colab": {}
      },
      "source": [
        ""
      ],
      "execution_count": 0,
      "outputs": []
    },
    {
      "cell_type": "markdown",
      "metadata": {
        "colab_type": "text",
        "id": "racJtiuY2JGd"
      },
      "source": [
        "### 특정 열 내 특정 값 포함한 data추출(리스트 변수넣기; 조건절에 변수넣기; 다중조건처리하기) <br> data.query('검색대상열 == 검색대상값')"
      ]
    },
    {
      "cell_type": "code",
      "metadata": {
        "id": "LXqn-HiRNSsb",
        "colab_type": "code",
        "colab": {}
      },
      "source": [
        "# Import package\n",
        "from urllib.request import urlretrieve\n",
        "import pandas as pd\n",
        "\n",
        "# Assign url of file: url\n",
        "url = 'https://github.com/jgumin/jupyter-notebook/raw/master/%EC%8B%A4%EC%8A%B5%EC%9E%90%EB%A3%8C-%EC%86%90%EC%97%90%EC%9E%A1%ED%9E%88%EB%8A%94%ED%8C%90%EB%8B%A4%EC%8A%A4/data/factory_reg_2018.xlsx'\n",
        "\n",
        "# Save file locally\n",
        "urlretrieve(url, 'factory_reg_2018.xlsx')\n",
        "\n",
        "# Read file into a DataFrame and print its head\n",
        "korea_2018 = pd.read_excel('factory_reg_2018.xlsx', index_col=0,\n",
        "                           sheet_name=2,header=[3])"
      ],
      "execution_count": 0,
      "outputs": []
    },
    {
      "cell_type": "code",
      "metadata": {
        "colab_type": "code",
        "id": "i-C71GB_2JGe",
        "colab": {}
      },
      "source": [
        "korea_2018.query('서울 >=10 & 서울 <= 20')[['서울']] #다중조건처리. & 대신 and 사용 가능"
      ],
      "execution_count": 0,
      "outputs": []
    },
    {
      "cell_type": "code",
      "metadata": {
        "colab_type": "code",
        "id": "8Gv6JseBNSse",
        "colab": {}
      },
      "source": [
        "#조건절 변수로 처리\n",
        "# query 메소드에서 외부변수 참조시, @기호+변수명 사용\n",
        "mm = 10; nn = 20\n",
        "qs1 = \"@mm <= 서울 <= @nn \" \n",
        "korea_2018.query(qs1)[['서울']]"
      ],
      "execution_count": 0,
      "outputs": []
    },
    {
      "cell_type": "code",
      "metadata": {
        "id": "gtMMMixINStC",
        "colab_type": "code",
        "colab": {}
      },
      "source": [
        "#다중값 확인을 위해 리스트 값을 갖는 변수 처리\n",
        "ll = [11,12]\n",
        "qs2 = \"@ll == 서울\" # == 대신 in 으로도 사용 가능\n",
        "korea_2018.query(qs2)[['서울']]"
      ],
      "execution_count": 0,
      "outputs": []
    },
    {
      "cell_type": "code",
      "metadata": {
        "id": "amtqUB_XNStE",
        "colab_type": "code",
        "colab": {}
      },
      "source": [
        ""
      ],
      "execution_count": 0,
      "outputs": []
    },
    {
      "cell_type": "markdown",
      "metadata": {
        "colab_type": "text",
        "id": "S9G3659l2JGj"
      },
      "source": [
        "### 특정 행열 위치 값 변경 <br> data.set_value('행명', '열명', '대체할값')"
      ]
    },
    {
      "cell_type": "code",
      "metadata": {
        "colab_type": "code",
        "id": "r8ppxf6A2JGj",
        "colab": {}
      },
      "source": [
        "airplane.set_value(100, '총정원', 180)"
      ],
      "execution_count": 0,
      "outputs": []
    },
    {
      "cell_type": "code",
      "metadata": {
        "colab_type": "code",
        "id": "sU_S2UkD2JGl",
        "colab": {}
      },
      "source": [
        ""
      ],
      "execution_count": 0,
      "outputs": []
    },
    {
      "cell_type": "markdown",
      "metadata": {
        "colab_type": "text",
        "id": "WfXVLpoo2JGm"
      },
      "source": [
        "### 특정 값 행렬위치로 검색 <br> data.lookup([행레이블1,행레이블n],[열레이블1, 열레이블n])>"
      ]
    },
    {
      "cell_type": "code",
      "metadata": {
        "colab_type": "code",
        "id": "evUXTjh72JGm",
        "colab": {}
      },
      "source": [
        "diamonds = sns.load_dataset('diamonds')\n",
        "diamonds.lookup([3,0],['clarity', 'depth'])"
      ],
      "execution_count": 0,
      "outputs": []
    },
    {
      "cell_type": "code",
      "metadata": {
        "colab_type": "code",
        "id": "bdPUeKBP2JGm",
        "colab": {}
      },
      "source": [
        ""
      ],
      "execution_count": 0,
      "outputs": []
    },
    {
      "cell_type": "markdown",
      "metadata": {
        "colab_type": "text",
        "id": "C-GioaiZ2JGo"
      },
      "source": [
        "### 특정 행렬위치 레이블로 열 또는 데이터프레임 반환 <br><.xs(행[열]레이블, axis=0, level=None[반환수준], drop_level=True[False:동일수준반환])>"
      ]
    },
    {
      "cell_type": "code",
      "metadata": {
        "colab_type": "code",
        "id": "OjRAiw4-2JGp",
        "colab": {}
      },
      "source": [
        "df = pd.DataFrame({'A':[4, 4, 9], 'B':[5, 0, 7], 'C':[2, 9, 3]}, \n",
        "                  index=['a','b','c'])\n",
        "print(df.xs('a'))\n",
        "print(df.xs('C', axis=1))"
      ],
      "execution_count": 0,
      "outputs": []
    },
    {
      "cell_type": "code",
      "metadata": {
        "colab_type": "code",
        "id": "6AMq5rUy2JGq",
        "colab": {}
      },
      "source": [
        ""
      ],
      "execution_count": 0,
      "outputs": []
    },
    {
      "cell_type": "markdown",
      "metadata": {
        "colab_type": "text",
        "id": "CjpWWg2F2JGs"
      },
      "source": [
        "### 멀티인덱스 검색으로  열 또는 데이터프레임 반환 <br><.xs((행[열]레이블 1, 행[열]레이블 n), axis=0)>"
      ]
    },
    {
      "cell_type": "markdown",
      "metadata": {
        "colab_type": "text",
        "id": "VorHf_z62JGs"
      },
      "source": [
        "`np.round(a, decimals=0, out=None)` <br>\n",
        " `study_data.xs(('지원','컴공'), axis=1)`"
      ]
    },
    {
      "cell_type": "code",
      "metadata": {
        "colab_type": "code",
        "id": "AAQdPTKm2JGs",
        "colab": {}
      },
      "source": [
        "r_inx = pd.MultiIndex.from_product(\n",
        "    [[2017,2018],[1,2]], names=['년도','과제점수'])\n",
        "c_inx =  pd.MultiIndex.from_product(\n",
        "    [['철수','영희', '지원'],['컴공', '경제']], names=['학생', '학과'])\n",
        "data = np.round(np.abs(np.random.randn(4,6)),1)\n",
        "study_data = pd.DataFrame(data, index=r_inx, columns=c_inx)\n",
        "\n",
        "study_data.xs((2017,1)) # '년도','과제점수' 에서 두 번째 레벨에 맞춰 처리 \n",
        "study_data.xs(('지원','컴공'), axis=1) # 열 단위 처리를 위해선 axis=1 추가"
      ],
      "execution_count": 0,
      "outputs": []
    },
    {
      "cell_type": "code",
      "metadata": {
        "colab_type": "code",
        "id": "zVsDMkv-2JGu",
        "colab": {}
      },
      "source": [
        ""
      ],
      "execution_count": 0,
      "outputs": []
    },
    {
      "cell_type": "markdown",
      "metadata": {
        "colab_type": "text",
        "id": "6n5hlOdy2JGv"
      },
      "source": [
        "### 특정범위 내 특정 값 있는 경우, 불리언값 반환 <br> <.between(시작값,종료값)>"
      ]
    },
    {
      "cell_type": "code",
      "metadata": {
        "colab_type": "code",
        "id": "C5dyG2Mb2JGv",
        "colab": {}
      },
      "source": [
        "mask = airplane['총정원'].between(1,120)"
      ],
      "execution_count": 0,
      "outputs": []
    },
    {
      "cell_type": "code",
      "metadata": {
        "colab_type": "code",
        "id": "FBu3GVKq2JGx",
        "colab": {}
      },
      "source": [
        ""
      ],
      "execution_count": 0,
      "outputs": []
    },
    {
      "cell_type": "markdown",
      "metadata": {
        "colab_type": "text",
        "id": "71NcieOI2JG0",
        "toc-hr-collapsed": false
      },
      "source": [
        "### 특정열을 범주화한 열 생성하기 <br><df[생성열] = pd.Categorical(np.where(조건, True일때범주명, False일때범주명)>"
      ]
    },
    {
      "cell_type": "code",
      "metadata": {
        "colab_type": "code",
        "id": "Oi9ElvEk2JG0",
        "colab": {}
      },
      "source": [
        "airplane['category_R'] = \"\""
      ],
      "execution_count": 0,
      "outputs": []
    },
    {
      "cell_type": "code",
      "metadata": {
        "colab_type": "code",
        "id": "_FAErEK-2JG1",
        "colab": {}
      },
      "source": [
        "airplane['category_R']= pd.Categorical(np.where(mask,'소형', '중형'))"
      ],
      "execution_count": 0,
      "outputs": []
    },
    {
      "cell_type": "code",
      "metadata": {
        "colab_type": "code",
        "id": "dy4hwksR2JG3",
        "colab": {}
      },
      "source": [
        ""
      ],
      "execution_count": 0,
      "outputs": []
    },
    {
      "cell_type": "markdown",
      "metadata": {
        "colab_type": "text",
        "id": "bV3mYbwC2JG6",
        "toc-hr-collapsed": true
      },
      "source": [
        "## Groupby 활용"
      ]
    },
    {
      "cell_type": "markdown",
      "metadata": {
        "colab_type": "text",
        "id": "3QCDIC4q2JG6"
      },
      "source": [
        "`groupby(by=None, axis=0, level=None, as_index=True, sort=True, group_keys=True, squeeze=False, **kwargs)`"
      ]
    },
    {
      "cell_type": "markdown",
      "metadata": {
        "colab_type": "text",
        "id": "Sjw1BZV-2JG9"
      },
      "source": [
        "* by : mapping, function, str, or iterable\n",
        "* axis : int, default 0\n",
        "* level : If the axis is a MultiIndex (hierarchical), group by a particular level or levels\n",
        "* as_index : For aggregated output, return object with group labels as the index. Only relevant for DataFrame input. as_index=False is effectively “SQL-style” grouped output\n",
        "* sort : Sort group keys. Get better performance by turning this off. Note this does not influence the order of observations within each group. groupby preserves the order of rows within each group.\n",
        "* group_keys : When calling apply, add group keys to index to identify pieces\n",
        "* squeeze : Reduce the dimensionality of the return type if possible, otherwise return a consistent type"
      ]
    },
    {
      "cell_type": "markdown",
      "metadata": {
        "colab_type": "text",
        "id": "5CZIiKnH2JG9"
      },
      "source": [
        "`Groupby에 자주 이용되는 함수`"
      ]
    },
    {
      "cell_type": "markdown",
      "metadata": {
        "colab_type": "text",
        "id": "-5LmiQNR2JG9"
      },
      "source": [
        "* size, count: 갯수\n",
        "* mean, median, min, max: 평균, 중앙값, 최소, 최대\n",
        "* sum, prod, std, var, quantile : 합계, 곱, 표준편차, 분산, 사분위수\n",
        "* first, last: 그룹 데이터 가장 첫번째 데이터와 가장 나중 데이터\n",
        "* agg, aggregate\n",
        "    * 사용자함수를 만들고 agg에 전달 가능\n",
        "    * 여러 그룹연산 동시수행할 경우, 함수 이름 문자열의 리스트를 agg에 전달\n",
        "* describe: 하나의 그룹 대표값이 아닌 여러개 값을 데이터프레임으로 구함\n",
        "* apply: 하나의 대표값이 아닌 데이터프레임 출력. 원하는 그룹연산 없는 경우 사용\n",
        "* transform: 그룹 대표값 아닌 그룹별 계산으로 데이터 자체를 변형"
      ]
    },
    {
      "cell_type": "code",
      "metadata": {
        "colab_type": "code",
        "id": "-S5nqJTt2JG9",
        "colab": {}
      },
      "source": [
        ""
      ],
      "execution_count": 0,
      "outputs": []
    },
    {
      "cell_type": "markdown",
      "metadata": {
        "colab_type": "text",
        "id": "0LIPoRGS2JG-"
      },
      "source": [
        "### Groupby 에 의해 split 된 정보 추출 <br> <df.groupby(Series)>"
      ]
    },
    {
      "cell_type": "code",
      "metadata": {
        "colab_type": "code",
        "id": "G4u_B0vD2JG_",
        "colab": {}
      },
      "source": [
        "import pandas as pd \n",
        "import numpy as np\n",
        "\n",
        "ipl_data = {'Team': ['Riders', 'Riders', 'Devils', 'Devils', 'Kings',\n",
        "         'kings', 'Kings', 'Kings', 'Riders', 'Royals', 'Royals', 'Riders'],\n",
        "         'Rank': [1, 2, 2, 3, 3,4 ,1 ,1,2 , 4,1,2],\n",
        "         'Year': [2014,2015,2014,2015,2014,2015,2016,2017,2016,2014,2015,2017],\n",
        "         'Points':[876,789,863,673,741,812,756,788,694,701,804,690]}\n",
        "\n",
        "df = pd.DataFrame(ipl_data)"
      ],
      "execution_count": 0,
      "outputs": []
    },
    {
      "cell_type": "code",
      "metadata": {
        "colab_type": "code",
        "id": "8X-oVoHC2JG_",
        "colab": {}
      },
      "source": [
        "name_group = df.groupby(\"Team\")"
      ],
      "execution_count": 0,
      "outputs": []
    },
    {
      "cell_type": "code",
      "metadata": {
        "colab_type": "code",
        "id": "09jwCZtb2JHA",
        "colab": {}
      },
      "source": [
        "for name, group in name_group: \n",
        "    print(name)\n",
        "    print(group)\n",
        "# 그룹화 객체로 for ~ in 실행하면 \n",
        "# 그룹화 된 Series값이 name / 해당 Series의 나머지 데이터가 group으로 추출"
      ],
      "execution_count": 0,
      "outputs": []
    },
    {
      "cell_type": "code",
      "metadata": {
        "colab_type": "code",
        "id": "K6CizFcc2JHB",
        "colab": {}
      },
      "source": [
        ""
      ],
      "execution_count": 0,
      "outputs": []
    },
    {
      "cell_type": "markdown",
      "metadata": {
        "colab_type": "text",
        "id": "-KkBKvew2JHC"
      },
      "source": [
        "### grouped_Series의 group별 key값, 특정 group의 index 및 데이터프레임 추출 <br>  <.groups.keys()  / .groups[\"특정그룹의key\"]  /  .get_group(\"특정그룹의key\")  /  .first()>"
      ]
    },
    {
      "cell_type": "markdown",
      "metadata": {
        "colab_type": "text",
        "id": "RvJ6UDiy2JHD"
      },
      "source": [
        "GroupBy 클래스 객체에는 각 그룹 데이터의 인덱스를 저장한 groups 속성 활용"
      ]
    },
    {
      "cell_type": "markdown",
      "metadata": {
        "colab_type": "text",
        "id": "GiocxByK2JHD"
      },
      "source": [
        "`df.groupby(\"Team\").groups.keys()`: group별  key 값\n",
        "\n",
        "`df.groupby(\"Team\").groups[\"특정그룹의key\"]`: 특정 group index\n",
        "\n",
        "`df.groupby(\"Team\").get_group(\"특정그룹의key\")`: 특정 group df\n",
        "\n",
        "`df.groupby(\"Team\").first()`: group별 1번째 값"
      ]
    },
    {
      "cell_type": "code",
      "metadata": {
        "colab_type": "code",
        "id": "JXVJ8zq-2JHD",
        "colab": {}
      },
      "source": [
        "df.groupby(\"Team\").groups\n",
        "\n",
        "df.groupby(\"Team\").groups.keys()\n",
        "df.groupby(\"Team\").groups[\"Riders\"]\n",
        "df.groupby(\"Team\").get_group(\"Riders\")\n",
        "df.groupby(\"Team\").first()"
      ],
      "execution_count": 0,
      "outputs": []
    },
    {
      "cell_type": "code",
      "metadata": {
        "colab_type": "code",
        "id": "2Euagafm2JHE",
        "colab": {}
      },
      "source": [
        ""
      ],
      "execution_count": 0,
      "outputs": []
    },
    {
      "cell_type": "markdown",
      "metadata": {
        "colab_type": "text",
        "id": "GMcm8pwE2JHE"
      },
      "source": [
        "### groupby 객체 연산을 pivot형태로 변경 <br>  <df.groupby(\"Team\").연산().unstack()>"
      ]
    },
    {
      "cell_type": "markdown",
      "metadata": {
        "colab_type": "text",
        "id": "XMIJTmNI2JHE"
      },
      "source": [
        "`df.groupby(\"Team\").mean().unstack()`"
      ]
    },
    {
      "cell_type": "code",
      "metadata": {
        "colab_type": "code",
        "id": "UhMT-mKY2JHF",
        "colab": {}
      },
      "source": [
        "df.groupby([\"Team\", \"Year\"])[\"Points\"].mean().unstack()"
      ],
      "execution_count": 0,
      "outputs": []
    },
    {
      "cell_type": "code",
      "metadata": {
        "colab_type": "code",
        "id": "rthI0KyS2JHF",
        "colab": {}
      },
      "source": [
        ""
      ],
      "execution_count": 0,
      "outputs": []
    },
    {
      "cell_type": "markdown",
      "metadata": {
        "colab_type": "text",
        "id": "6-3L-1Ay2JHH"
      },
      "source": [
        "### grouped_Series에 apply - .agg(), .transform(), .filter()"
      ]
    },
    {
      "cell_type": "markdown",
      "metadata": {
        "colab_type": "text",
        "id": "rf9SdwdY2JHH"
      },
      "source": [
        "***.agg()***:\n",
        "* 요약된 통계정보 추출\n",
        "* 특정 컬럼에 여러개의 function을 Apply 가능"
      ]
    },
    {
      "cell_type": "code",
      "metadata": {
        "colab_type": "code",
        "id": "x8YIpbIU2JHH",
        "colab": {}
      },
      "source": [
        "df.groupby(\"Team\").agg(sum) # sum대신 'sum', 'np.sum' 가능\n",
        "df.groupby(\"Team\").agg(np.mean) # np.mean대신 'mean' 가능"
      ],
      "execution_count": 0,
      "outputs": []
    },
    {
      "cell_type": "code",
      "metadata": {
        "colab_type": "code",
        "id": "zv_Cm0cq2JHI",
        "colab": {}
      },
      "source": [
        "df.groupby([\"Team\"]).agg([sum, 'mean', np.std])\n",
        "df.groupby([\"Team\"]).agg(\n",
        "    {\"Points\":sum, \"Rank\":min, \"Year\":\"count\"}) # groupby대상이 인덱스가 됨\n",
        "df.groupby([\"Team\"], as_index=False).agg(\n",
        "    {\"Points\":sum, \"Rank\":min, \"Year\":\"count\"}) # groupby대상이 인덱스되지 않음"
      ],
      "execution_count": 0,
      "outputs": []
    },
    {
      "cell_type": "code",
      "metadata": {
        "colab_type": "code",
        "id": "eMjVLH0Z2JHJ",
        "colab": {}
      },
      "source": [
        "df.groupby([\"Team\"]).agg(\n",
        "    {\"Points\": [min, max, sum],\n",
        "     \"Rank\":\"count\", \n",
        "     \"Year\":[\"first\", \"unique\",\"nunique\"]})"
      ],
      "execution_count": 0,
      "outputs": []
    },
    {
      "cell_type": "markdown",
      "metadata": {
        "colab_type": "text",
        "id": "MNgruNIv2JHJ"
      },
      "source": [
        "![pandas_aggregation-1140x456](https://shanelynnwebsite-mid9n9g1q9y8tt.netdna-ssl.com/wp-content/uploads/2016/03/pandas_aggregation-1140x456.png)"
      ]
    },
    {
      "cell_type": "code",
      "metadata": {
        "colab_type": "code",
        "id": "-Acea83O2JHK",
        "colab": {}
      },
      "source": [
        ""
      ],
      "execution_count": 0,
      "outputs": []
    },
    {
      "cell_type": "markdown",
      "metadata": {
        "colab_type": "text",
        "id": "0a-xKffZ2JHL"
      },
      "source": [
        "***.transform()***: \n",
        "* Aggregation과 달리 key값 별로 요약된 정보가 아님\n",
        "* 개별 데이터의 변환을 지원함\n",
        "* max 나 min 처럼 Series 데이터에 적용되는 데이터들은 key 값을 기준으로 Grouped 된 데이터 기준"
      ]
    },
    {
      "cell_type": "code",
      "metadata": {
        "colab_type": "code",
        "id": "Gtk7aT392JHL",
        "colab": {}
      },
      "source": [
        "df.groupby([\"Team\"]).agg(np.mean)\n",
        "df.groupby([\"Team\"]).transform(np.mean)"
      ],
      "execution_count": 0,
      "outputs": []
    },
    {
      "cell_type": "code",
      "metadata": {
        "colab_type": "code",
        "id": "oZTd3doJ2JHM",
        "colab": {}
      },
      "source": [
        ""
      ],
      "execution_count": 0,
      "outputs": []
    },
    {
      "cell_type": "markdown",
      "metadata": {
        "colab_type": "text",
        "id": "q5AQF1tR2JHM"
      },
      "source": [
        "***.filter()***: \n",
        "* 특정 조건으로 데이터를 검색할 때 사용\n",
        "* filter 안에는 boolen 조건이 존재해야함\n",
        "* len(x)는 grouped된 dataframe 개수"
      ]
    },
    {
      "cell_type": "code",
      "metadata": {
        "colab_type": "code",
        "id": "QRT2kyfk2JHM",
        "colab": {}
      },
      "source": [
        "df.groupby([\"Team\"]).agg(lambda x: len(x) >= 3)\n",
        "df.groupby([\"Team\"]).filter(lambda x: len(x) >= 3)"
      ],
      "execution_count": 0,
      "outputs": []
    },
    {
      "cell_type": "code",
      "metadata": {
        "colab_type": "code",
        "id": "r-Jdpze72JHO",
        "colab": {}
      },
      "source": [
        ""
      ],
      "execution_count": 0,
      "outputs": []
    },
    {
      "cell_type": "markdown",
      "metadata": {
        "colab_type": "text",
        "id": "YHj8br_N2JHP"
      },
      "source": [
        "### grouped_Series의 기본 연산 <br> <df.groupby(\"Team\").연산메소드(level=연산의 기준이 되는 Series 번호)>"
      ]
    },
    {
      "cell_type": "code",
      "metadata": {
        "colab_type": "code",
        "id": "_-5jmteF2JHQ",
        "colab": {}
      },
      "source": [
        "h_index = df.groupby([\"Team\", \"Year\", \"Rank\"])[\"Points\"].sum()"
      ],
      "execution_count": 0,
      "outputs": []
    },
    {
      "cell_type": "code",
      "metadata": {
        "colab_type": "code",
        "id": "e4b7OQMz2JHQ",
        "colab": {}
      },
      "source": [
        "h_index.sum(level=1)"
      ],
      "execution_count": 0,
      "outputs": []
    },
    {
      "cell_type": "code",
      "metadata": {
        "colab_type": "code",
        "id": "Gsw3EgI92JHT",
        "colab": {}
      },
      "source": [
        ""
      ],
      "execution_count": 0,
      "outputs": []
    },
    {
      "cell_type": "markdown",
      "metadata": {
        "colab_type": "text",
        "id": "h6eGY38P2JHU"
      },
      "source": [
        "### grouped_Series의 index 레벨 변경 <br><grouped_Series.연산메소드().swaplevel((i=-2, j=-1, copy=True): 멀티인덱스 i와 j 간 레벨변경"
      ]
    },
    {
      "cell_type": "code",
      "metadata": {
        "colab_type": "code",
        "id": "ohqTqKty2JHV",
        "colab": {}
      },
      "source": [
        "h_index; h_index.swaplevel(0,2, copy=True)"
      ],
      "execution_count": 0,
      "outputs": []
    },
    {
      "cell_type": "code",
      "metadata": {
        "colab_type": "code",
        "id": "oE1nSQOa2JHW",
        "colab": {}
      },
      "source": [
        ""
      ],
      "execution_count": 0,
      "outputs": []
    },
    {
      "cell_type": "markdown",
      "metadata": {
        "colab_type": "text",
        "id": "3t68jz892JHY"
      },
      "source": [
        "### grouped_Series 연산을 돕는 Multiindex정리방법 1: <br>droplevel(level=0): 대상Index레벨낮춤"
      ]
    },
    {
      "cell_type": "code",
      "metadata": {
        "colab_type": "code",
        "id": "6_TBLPba2JHY",
        "colab": {}
      },
      "source": [
        "grouped = df.groupby(\"Team\").agg({\"Points\": [sum, 'mean', np.std]})\n",
        "grouped.columns = grouped.columns.droplevel(level=0)\n",
        "grouped = grouped.rename(columns={\n",
        "    \"sum\": \"Points_sum\", \"mean\": \"Points_mean\", \"std\": \"Points_std\"\n",
        "})\n",
        "grouped.head()"
      ],
      "execution_count": 0,
      "outputs": []
    },
    {
      "cell_type": "code",
      "metadata": {
        "colab_type": "code",
        "id": "zc6KngEM2JHZ",
        "colab": {}
      },
      "source": [
        ""
      ],
      "execution_count": 0,
      "outputs": []
    },
    {
      "cell_type": "markdown",
      "metadata": {
        "colab_type": "text",
        "id": "G216otu42JHb"
      },
      "source": [
        "### grouped_Series 연산을 돕는 Multiindex정리방법 2: <br>ravel(): MultiIndex를 단순배열로 변경"
      ]
    },
    {
      "cell_type": "code",
      "metadata": {
        "colab_type": "code",
        "id": "SjTYFiCL2JHb",
        "colab": {}
      },
      "source": [
        "grouped = df.groupby(\"Team\").agg({\"Points\": [sum, 'mean', np.std]})\n",
        "grouped.columns = [\"_\".join(x) for x in grouped.columns.ravel()]\n",
        "grouped.head()"
      ],
      "execution_count": 0,
      "outputs": []
    },
    {
      "cell_type": "code",
      "metadata": {
        "colab_type": "code",
        "id": "pxibDlXU2JHc",
        "colab": {}
      },
      "source": [
        ""
      ],
      "execution_count": 0,
      "outputs": []
    },
    {
      "cell_type": "markdown",
      "metadata": {
        "colab_type": "text",
        "id": "uvbbzw4y2JHe"
      },
      "source": [
        "### grouped_Series의 index 기준으로 정렬 <br><grouped_Series.연산메소드().sort_index(level=정렬의 기준이 되는 Series 번호)>"
      ]
    },
    {
      "cell_type": "code",
      "metadata": {
        "colab_type": "code",
        "id": "0dWMJ2QX2JHe",
        "colab": {}
      },
      "source": [
        "h_index.sort_index(level=1)"
      ],
      "execution_count": 0,
      "outputs": []
    },
    {
      "cell_type": "code",
      "metadata": {
        "colab_type": "code",
        "id": "gkXUZLLM2JHf",
        "colab": {}
      },
      "source": [
        ""
      ],
      "execution_count": 0,
      "outputs": []
    },
    {
      "cell_type": "markdown",
      "metadata": {
        "id": "QrEVCeydNSut",
        "colab_type": "text"
      },
      "source": [
        "## sql 문장(s)과 그룹화 처리(gr) 비교"
      ]
    },
    {
      "cell_type": "code",
      "metadata": {
        "id": "beDUpKnANSut",
        "colab_type": "code",
        "colab": {}
      },
      "source": [
        "book_data = pd.read_csv(\"https://raw.githubusercontent.com/jgumin/jupyter-notebook/master/%EC%8B%A4%EC%8A%B5%EC%9E%90%EB%A3%8C-%EC%86%90%EC%97%90%EC%9E%A1%ED%9E%88%EB%8A%94%ED%8C%90%EB%8B%A4%EC%8A%A4/data/book_data.csv\",\n",
        "                        engine='python')"
      ],
      "execution_count": 0,
      "outputs": []
    },
    {
      "cell_type": "markdown",
      "metadata": {
        "colab_type": "text",
        "id": "-VkLZ3B3NSuw"
      },
      "source": [
        "### 특정 열을 기준으로 그룹화해 내부의 개수 확인"
      ]
    },
    {
      "cell_type": "markdown",
      "metadata": {
        "id": "mnYX1AUWNSux",
        "colab_type": "text"
      },
      "source": [
        "* book_date열의 size로 결과 보여주나, count로 처리하면 전체 열정보가 보여 다른 결과로 나옴\n",
        "* 그러나 특정열을 지정해 count로 처리하면 하나의 결과만 나옴\n",
        "\n",
        "SELECT book_date, count(*)\n",
        "FROM book_data\n",
        "GROUP BY book_date;"
      ]
    },
    {
      "cell_type": "code",
      "metadata": {
        "id": "-hvsGthrNSux",
        "colab_type": "code",
        "colab": {}
      },
      "source": [
        "book_data.groupby('book_date').size().head()"
      ],
      "execution_count": 0,
      "outputs": []
    },
    {
      "cell_type": "code",
      "metadata": {
        "id": "a4RGpWjaNSux",
        "colab_type": "code",
        "colab": {}
      },
      "source": [
        "book_data.groupby('book_date').count().head()"
      ],
      "execution_count": 0,
      "outputs": []
    },
    {
      "cell_type": "code",
      "metadata": {
        "id": "WjaZ4hClNSuz",
        "colab_type": "code",
        "colab": {}
      },
      "source": [
        "book_data.groupby('book_date')['sales_point'].count().head()"
      ],
      "execution_count": 0,
      "outputs": []
    },
    {
      "cell_type": "markdown",
      "metadata": {
        "colab_type": "text",
        "id": "UCueePpKNSu9"
      },
      "source": [
        "### 특정하여 그룹으로 묶고 평균과 개수를 처리"
      ]
    },
    {
      "cell_type": "markdown",
      "metadata": {
        "id": "GDjzMjv7NSu9",
        "colab_type": "text"
      },
      "source": [
        "SELECT book_date, AVG('sales_point'), COUNT(*)\n",
        "FROM book_data\n",
        "GROUP BY book_date;"
      ]
    },
    {
      "cell_type": "code",
      "metadata": {
        "id": "FVtykbi-NSvC",
        "colab_type": "code",
        "colab": {}
      },
      "source": [
        "import numpy as np"
      ],
      "execution_count": 0,
      "outputs": []
    },
    {
      "cell_type": "code",
      "metadata": {
        "id": "PJhZEentNSvD",
        "colab_type": "code",
        "colab": {}
      },
      "source": [
        "book_data.groupby('book_date').agg({'sales_point': np.mean, \n",
        "                                    'book_date': np.size}).head()"
      ],
      "execution_count": 0,
      "outputs": []
    },
    {
      "cell_type": "code",
      "metadata": {
        "id": "xno0iqhCNSvE",
        "colab_type": "code",
        "colab": {}
      },
      "source": [
        ""
      ],
      "execution_count": 0,
      "outputs": []
    },
    {
      "cell_type": "markdown",
      "metadata": {
        "colab_type": "text",
        "id": "j3VRFwptNSvE"
      },
      "source": [
        "### 두 개의 열을 그룹으로 묶고 두 개의 열과 함수를 실행"
      ]
    },
    {
      "cell_type": "markdown",
      "metadata": {
        "id": "GfLbcbKPNSvE",
        "colab_type": "text"
      },
      "source": [
        "SELECT book_date,book_cover, COUNT(*), AVG(sales_point)\n",
        "FROM book_data\n",
        "GROUP BY book_date,book_cover;"
      ]
    },
    {
      "cell_type": "code",
      "metadata": {
        "id": "boqbSv3GNSvF",
        "colab_type": "code",
        "colab": {},
        "outputId": "33c38afb-023d-4d25-fbc5-82160f5ccbc5"
      },
      "source": [
        "book_data.groupby(['book_date','book_cover']).agg({'sales_point': [np.size, np.mean]}).head()"
      ],
      "execution_count": 0,
      "outputs": [
        {
          "output_type": "execute_result",
          "data": {
            "text/html": [
              "<div>\n",
              "<style scoped>\n",
              "    .dataframe tbody tr th:only-of-type {\n",
              "        vertical-align: middle;\n",
              "    }\n",
              "\n",
              "    .dataframe tbody tr th {\n",
              "        vertical-align: top;\n",
              "    }\n",
              "\n",
              "    .dataframe thead tr th {\n",
              "        text-align: left;\n",
              "    }\n",
              "\n",
              "    .dataframe thead tr:last-of-type th {\n",
              "        text-align: right;\n",
              "    }\n",
              "</style>\n",
              "<table border=\"1\" class=\"dataframe\">\n",
              "  <thead>\n",
              "    <tr>\n",
              "      <th></th>\n",
              "      <th></th>\n",
              "      <th colspan=\"2\" halign=\"left\">sales_point</th>\n",
              "    </tr>\n",
              "    <tr>\n",
              "      <th></th>\n",
              "      <th></th>\n",
              "      <th>size</th>\n",
              "      <th>mean</th>\n",
              "    </tr>\n",
              "    <tr>\n",
              "      <th>book_date</th>\n",
              "      <th>book_cover</th>\n",
              "      <th></th>\n",
              "      <th></th>\n",
              "    </tr>\n",
              "  </thead>\n",
              "  <tbody>\n",
              "    <tr>\n",
              "      <th>2018-01-01</th>\n",
              "      <th>반양장본</th>\n",
              "      <td>1.0</td>\n",
              "      <td>310.0</td>\n",
              "    </tr>\n",
              "    <tr>\n",
              "      <th>2018-03-20</th>\n",
              "      <th>반양장본</th>\n",
              "      <td>1.0</td>\n",
              "      <td>42477.0</td>\n",
              "    </tr>\n",
              "    <tr>\n",
              "      <th>2018-03-23</th>\n",
              "      <th>양장본</th>\n",
              "      <td>1.0</td>\n",
              "      <td>80.0</td>\n",
              "    </tr>\n",
              "    <tr>\n",
              "      <th>2018-04-01</th>\n",
              "      <th>반양장본</th>\n",
              "      <td>1.0</td>\n",
              "      <td>140.0</td>\n",
              "    </tr>\n",
              "    <tr>\n",
              "      <th>2018-04-10</th>\n",
              "      <th>양장본</th>\n",
              "      <td>1.0</td>\n",
              "      <td>150.0</td>\n",
              "    </tr>\n",
              "  </tbody>\n",
              "</table>\n",
              "</div>"
            ],
            "text/plain": [
              "                      sales_point         \n",
              "                             size     mean\n",
              "book_date  book_cover                     \n",
              "2018-01-01 반양장본               1.0    310.0\n",
              "2018-03-20 반양장본               1.0  42477.0\n",
              "2018-03-23 양장본                1.0     80.0\n",
              "2018-04-01 반양장본               1.0    140.0\n",
              "2018-04-10 양장본                1.0    150.0"
            ]
          },
          "metadata": {
            "tags": []
          },
          "execution_count": 60
        }
      ]
    },
    {
      "cell_type": "markdown",
      "metadata": {
        "colab_type": "text",
        "id": "CG8ZFZuP2JHj"
      },
      "source": [
        "## 피벗테이블 (groupby와 비교)"
      ]
    },
    {
      "cell_type": "markdown",
      "metadata": {
        "colab_type": "text",
        "id": "AmC7AMWD2JHk"
      },
      "source": [
        "* Index 축은 groupby와 동일\n",
        "* Column에 추가로 labelling 값을 추가\n",
        "* Value에 numeric type 값을 aggregate 하는 형태\n",
        "참조: https://wesmckinney.com/blog/fast-and-easy-pivot-tables-in-pandas-0-5-0/"
      ]
    },
    {
      "cell_type": "markdown",
      "metadata": {
        "colab_type": "text",
        "id": "WmnBt3gr2JHk"
      },
      "source": [
        "`stu_info.pivot_table(values=None, index=None, columns=None, aggfunc='mean', fill_value=None, margins=False, dropna=True, margins_name='All')`"
      ]
    },
    {
      "cell_type": "markdown",
      "metadata": {
        "colab_type": "text",
        "id": "Cancytl02JHl"
      },
      "source": [
        "* data: 분석할 데이터프레임 (메서드일 때는 필요하지 않음)\n",
        "* values: 분석할 데이터프레임에서 분석할 열\n",
        "* index: 행 인덱스로 들어갈 키 열 또는 키 열의 리스트\n",
        "* columns: 열 인덱스로 들어갈 키 열 또는 키 열의 리스트\n",
        "* aggfunc: 분석 메서드\n",
        "* fill_value: NaN 대체 값\n",
        "* margins: 모든 데이터를 분석한 결과를 오른쪽과 아래에 붙일지 여부\n",
        "* margins_name: 마진 열(행)의 이름"
      ]
    },
    {
      "cell_type": "code",
      "metadata": {
        "colab_type": "code",
        "id": "TvvihY9M2JHl",
        "colab": {}
      },
      "source": [
        "stu_info['성별'] = stu_info['성별'].replace(\n",
        "    {'남 ' : '남', '여 ': '여', '정보없음':'여'})"
      ],
      "execution_count": 0,
      "outputs": []
    },
    {
      "cell_type": "code",
      "metadata": {
        "colab_type": "code",
        "id": "Nt7RMuIc2JHo",
        "colab": {}
      },
      "source": [
        "# 전공별 학생수\n",
        "## Pivot\n",
        "stu_info.pivot_table(values='성명', index='전공', \n",
        "                     aggfunc='count').rename(\n",
        "                    columns={'성명':'학생수'})\n",
        "\n",
        "## groupby\n",
        "stu_info.groupby(\"전공\")[['성명']].agg('count').rename(columns={'성명':'학생수'})"
      ],
      "execution_count": 0,
      "outputs": []
    },
    {
      "cell_type": "code",
      "metadata": {
        "colab_type": "code",
        "id": "lSZg4koQ2JH6",
        "colab": {}
      },
      "source": [
        "# 전공별 학생수(성별추가)\n",
        "## Pivot\n",
        "stu_info.pivot_table(values='성명', index='전공', \n",
        "                     columns='성별', aggfunc='count')\n",
        "## groupby\n",
        "stu_info.groupby([\"전공\",\"성별\"])[\"성명\"].count().unstack()"
      ],
      "execution_count": 0,
      "outputs": []
    },
    {
      "cell_type": "code",
      "metadata": {
        "colab_type": "code",
        "id": "eFdbUQC42JH7",
        "colab": {}
      },
      "source": [
        "#  대륙별/국별 / 전공별 학생수(조건:서울시립대,합계포함)\n",
        "## Pivot\n",
        "stu_info[stu_info['참가기간(시작)'] > '2012/01'].pivot_table(\n",
        "    values='성명', index=['대륙','국가'], columns='전공',\n",
        "    aggfunc='count', fill_value='-', margins=True)\n",
        "## groupby\n",
        "stu_info[stu_info['참가기간(시작)'] > '2012/01'].groupby(\n",
        "    ['대륙', '국가', '전공'])['성명'].count().unstack().fillna('-')"
      ],
      "execution_count": 0,
      "outputs": []
    },
    {
      "cell_type": "code",
      "metadata": {
        "colab_type": "code",
        "id": "i1WgDCLd2JH8",
        "colab": {}
      },
      "source": [
        "#  대륙별/국별 /전공별 /성별 학생수 및 졸업여부\n",
        "## Pivot\n",
        "stu_info[stu_info['참가기간(시작)'] > '2012/01'].pivot_table(\n",
        "    index=['대륙','국가'], columns=['전공','성별'],\n",
        "    aggfunc={'성명': 'count', '졸업일':'count'}, fill_value='-').rename(\n",
        "    columns={'성명':'학생수', '졸업일':'졸업여부'}).replace(0,'-')\n",
        "## groupby\n",
        "stu_info[stu_info['참가기간(시작)'] > '2012/01'].groupby(\n",
        "    ['대륙','국가','전공','성별'])[['성명','졸업일']].count(\n",
        "    ).unstack(level=2).unstack().fillna('-').rename(\n",
        "     columns={'성명':'학생수', '졸업일':'졸업여부'}).replace(0,'-')"
      ],
      "execution_count": 0,
      "outputs": []
    },
    {
      "cell_type": "code",
      "metadata": {
        "colab_type": "code",
        "id": "Xk6bZ1DL2JH9",
        "colab": {}
      },
      "source": [
        "# aggfunc=np.sum함수로 합계를 위해\n",
        "# stu_info['성명'] 모두 1로 변경\n",
        "name = \\\n",
        "stu_info['성명'].replace(\n",
        "                        r'^.', 1, regex = True)\n",
        "#동일한 결과:\n",
        "#stu_info['성명'].replace(stu_info[stu_info['성명'] != \"\"]['성명'], 1)"
      ],
      "execution_count": 0,
      "outputs": []
    },
    {
      "cell_type": "markdown",
      "metadata": {
        "colab_type": "text",
        "id": "uR6v4GrY2JH9"
      },
      "source": [
        "* dateutil 패키지의 parse 명령: 자동으로 형식 문자열 찾아 datetime.datetime 클래스 객체로 변환"
      ]
    },
    {
      "cell_type": "code",
      "metadata": {
        "colab_type": "code",
        "id": "qMyyVVZ92JH9",
        "colab": {}
      },
      "source": [
        "import dateutil\n",
        "df_phone = pd.read_csv(\"./data/phone_data.csv\")\n",
        "df_phone['date'] =df_phone['date'].apply(dateutil.parser.parse, dayfirst=True) \n",
        "# dayfirst=True 유럽식 일자표기(일/월)\n",
        "\n",
        "df_phone.pivot_table([\"duration\"],\n",
        "                index = [df_phone.month, df_phone.item],\n",
        "                columns = df_phone.network, aggfunc=\"sum\", fill_value=0)"
      ],
      "execution_count": 0,
      "outputs": []
    },
    {
      "cell_type": "code",
      "metadata": {
        "colab_type": "code",
        "id": "OGEjdli22JH-",
        "colab": {}
      },
      "source": [
        ""
      ],
      "execution_count": 0,
      "outputs": []
    },
    {
      "cell_type": "markdown",
      "metadata": {
        "colab_type": "text",
        "id": "iQaTRRho2JH-",
        "toc-hr-collapsed": true
      },
      "source": [
        "## 날짜,시간 인덱스"
      ]
    },
    {
      "cell_type": "markdown",
      "metadata": {
        "colab_type": "text",
        "id": "SxWim0hF2JH-"
      },
      "source": [
        "### 날짜 배열 빈도 기준 확인 <br> <날짜객체.freq>"
      ]
    },
    {
      "cell_type": "markdown",
      "metadata": {
        "colab_type": "text",
        "id": "Cv0WAjEe2JH_"
      },
      "source": [
        "`idx_d.freq`"
      ]
    },
    {
      "cell_type": "code",
      "metadata": {
        "colab_type": "code",
        "id": "SElLwrdK2JH_",
        "colab": {}
      },
      "source": [
        "import pandas as pd\n",
        "idx_d = pd.Index(pd.date_range('20130101',periods=3))\n",
        "# pd.DatetimeIndex(['20130101', '20130102', '20130103']) \n",
        "# freq=None 인 것 외에는 같은 인덱스 배열\n",
        "idx_d.freq"
      ],
      "execution_count": 0,
      "outputs": []
    },
    {
      "cell_type": "code",
      "metadata": {
        "colab_type": "code",
        "id": "wSOIBVET2JH_",
        "colab": {}
      },
      "source": [
        ""
      ],
      "execution_count": 0,
      "outputs": []
    },
    {
      "cell_type": "markdown",
      "metadata": {
        "colab_type": "text",
        "id": "WbW0W6LV2JH_"
      },
      "source": [
        "### 날짜시간 인덱스생성과 빈도수 지정 코드 "
      ]
    },
    {
      "cell_type": "markdown",
      "metadata": {
        "colab_type": "text",
        "id": "ikRjzad22JIA"
      },
      "source": [
        "`pd.date_range('20180703', '20191203', freq = 'H')`\n",
        "`pd.date_range('20180703', freq = 'H', periods=4)`: period가 지정되면 `enddate` 인수는 없음"
      ]
    },
    {
      "cell_type": "markdown",
      "metadata": {
        "colab_type": "text",
        "id": "hzRYmaGc2JIA"
      },
      "source": [
        "* `period` 에 `freq` 인수에 따른 빈도수를 지정한다\n",
        "\n",
        "* `freq` 인수는 아래와 같다\n",
        "   * Y[A]:연말, YS[AS]:연초, Q:분기말, QS:분기초, M:월말, MS:월초, W:주일, D:일\n",
        "   * B:영업일, BY[A]:영업기준연말, BYS[AS]:영업기준연초, BQ:영업기준분기말, BQS:영업기준분기초, BM: 영업기준월말, BMS:영업기준월초\n",
        "   * W-MON: 주(월요일), WOM-2THU: 각 달의 두번째 목요일, Q-JAN: 각 분기의 첫달의 마지막 날, Q-DEC: 각 분기의 마지막 달의 마지막 날\n",
        "   * H:시, T:분, S:초, MS:밀리초, US:마이크로초, NS:나노초, PS:피코초, FS:펨토초"
      ]
    },
    {
      "cell_type": "code",
      "metadata": {
        "colab_type": "code",
        "id": "-eFFA1rP2JIA",
        "colab": {}
      },
      "source": [
        "Image(\"./img/date offset.png\")"
      ],
      "execution_count": 0,
      "outputs": []
    },
    {
      "cell_type": "code",
      "metadata": {
        "colab_type": "code",
        "id": "76VKt2OE2JIB",
        "colab": {}
      },
      "source": [
        "pd.date_range('2018/07/03', freq = 'H', periods=4)"
      ],
      "execution_count": 0,
      "outputs": []
    },
    {
      "cell_type": "code",
      "metadata": {
        "colab_type": "code",
        "id": "9ZNOHQWD2JIB",
        "colab": {}
      },
      "source": [
        "pd.date_range('20160703', freq = 'BMS', periods=4)"
      ],
      "execution_count": 0,
      "outputs": []
    },
    {
      "cell_type": "code",
      "metadata": {
        "colab_type": "code",
        "id": "1RmEYnqy2JIC",
        "colab": {}
      },
      "source": [
        ""
      ],
      "execution_count": 0,
      "outputs": []
    },
    {
      "cell_type": "markdown",
      "metadata": {
        "colab_type": "text",
        "id": "V_VhTqnj2JIC"
      },
      "source": [
        "### 날짜시간 차 인덱스생성 <pd.timedelta_range>"
      ]
    },
    {
      "cell_type": "markdown",
      "metadata": {
        "colab_type": "text",
        "id": "37cnUmUK2JID"
      },
      "source": [
        "`pd.date_range('20180703', '20191203', freq = 'H')`<br>\n",
        "`pd.date_range('20180703', freq = 'H', periods=4)`: period가 지정되면 `enddate` 인수는 없음"
      ]
    },
    {
      "cell_type": "markdown",
      "metadata": {
        "colab_type": "text",
        "id": "M8UOk3QJ2JID"
      },
      "source": [
        "* `period` 에 `freq` 인수에 따른 빈도수를 지정한다\n",
        "\n",
        "* `freq` 인수는 아래와 같다\n",
        "   * Y[A]:연말, YS[AS]:연초, Q:분기말, QS:분기초, M:월말, MS:월초, W:주일, D:일\n",
        "   * B:영업일, BY[A]:영업기준연말, BYS[AS]:영업기준연초, BQ:영업기준분기말, BQS:영업기준분기초, BM: 영업기준월말, BMS:영업기준월초\n",
        "   * H:시, T:분, S:초, MS:밀리초, US:마이크로초, NS:나노초, PS:피코초, FS:펨토초"
      ]
    },
    {
      "cell_type": "code",
      "metadata": {
        "colab_type": "code",
        "id": "NhfBkwvv2JID",
        "colab": {}
      },
      "source": [
        "pd.date_range('2018/07/03', freq = 'H', periods=4)"
      ],
      "execution_count": 0,
      "outputs": []
    },
    {
      "cell_type": "code",
      "metadata": {
        "colab_type": "code",
        "id": "Dxt963TK2JIE",
        "colab": {}
      },
      "source": [
        ""
      ],
      "execution_count": 0,
      "outputs": []
    },
    {
      "cell_type": "markdown",
      "metadata": {
        "colab_type": "text",
        "id": "lJkNkD7R2JIE"
      },
      "source": [
        "### 주기 나타내는 인덱스로 변경(freq 변경) <br> <pd.to_period('D')>"
      ]
    },
    {
      "cell_type": "markdown",
      "metadata": {
        "colab_type": "text",
        "id": "FYjY5wNU2JIE"
      },
      "source": [
        "`dr3.to_period('D')`"
      ]
    },
    {
      "cell_type": "code",
      "metadata": {
        "colab_type": "code",
        "id": "jcktvD1V2JIE",
        "colab": {}
      },
      "source": [
        "dr3 = pd.date_range('2018-08-03', periods=24, freq='H')\n",
        "dr3.to_period('D')"
      ],
      "execution_count": 0,
      "outputs": []
    },
    {
      "cell_type": "code",
      "metadata": {
        "colab_type": "code",
        "id": "J_7zbrOw2JIF",
        "colab": {}
      },
      "source": [
        ""
      ],
      "execution_count": 0,
      "outputs": []
    },
    {
      "cell_type": "markdown",
      "metadata": {
        "colab_type": "text",
        "id": "y66rqKQF2JIF"
      },
      "source": [
        "### 주기 인덱스 생성<br>  <pd.period_range('2018-01', periods=13, freq='M')>"
      ]
    },
    {
      "cell_type": "markdown",
      "metadata": {
        "colab_type": "text",
        "id": "mPaqYFmu2JIF"
      },
      "source": [
        "`pd.period_range('2018-01', periods=13, freq='M')`"
      ]
    },
    {
      "cell_type": "code",
      "metadata": {
        "colab_type": "code",
        "id": "pIxhM6pd2JIG",
        "colab": {}
      },
      "source": [
        "dr_m = pd.period_range('2018-01', periods=13, freq='M')\n",
        "dr_m"
      ],
      "execution_count": 0,
      "outputs": []
    },
    {
      "cell_type": "code",
      "metadata": {
        "colab_type": "code",
        "id": "FcuS-zWY2JIG",
        "colab": {}
      },
      "source": [
        ""
      ],
      "execution_count": 0,
      "outputs": []
    },
    {
      "cell_type": "markdown",
      "metadata": {
        "colab_type": "text",
        "id": "Q3vjW8Ui2JII"
      },
      "source": [
        "### 시간 간격 인덱스 생성 <br> <pd.timedelta_range(0, periods=10, freq='H')>"
      ]
    },
    {
      "cell_type": "markdown",
      "metadata": {
        "colab_type": "text",
        "id": "L1mhd_KH2JII"
      },
      "source": [
        "`pd.timedelta_range(0, periods=10, freq='H')`"
      ]
    },
    {
      "cell_type": "code",
      "metadata": {
        "colab_type": "code",
        "id": "Mt_6YrXI2JII",
        "colab": {}
      },
      "source": [
        "tm_1 = pd.timedelta_range(0, periods=10, freq='H')\n",
        "tm_1"
      ],
      "execution_count": 0,
      "outputs": []
    },
    {
      "cell_type": "code",
      "metadata": {
        "colab_type": "code",
        "id": "bPY-ctq72JIJ",
        "colab": {}
      },
      "source": [
        ""
      ],
      "execution_count": 0,
      "outputs": []
    },
    {
      "cell_type": "markdown",
      "metadata": {
        "colab_type": "text",
        "id": "k-0WTACO2JIJ"
      },
      "source": [
        "### 시간 차이 계산 <tm1 - tm1[0]>"
      ]
    },
    {
      "cell_type": "markdown",
      "metadata": {
        "colab_type": "text",
        "id": "31XCH8Wk2JIK"
      },
      "source": [
        "`tm_1 - tm_1[1] (벡터화 연산)`"
      ]
    },
    {
      "cell_type": "code",
      "metadata": {
        "colab_type": "code",
        "id": "qHCIpd0F2JIK",
        "colab": {}
      },
      "source": [
        "tm_1 - tm_1[1]"
      ],
      "execution_count": 0,
      "outputs": []
    },
    {
      "cell_type": "code",
      "metadata": {
        "colab_type": "code",
        "id": "96O5dmeW2JIN",
        "colab": {}
      },
      "source": [
        "dr2 = pd.date_range('2018-07-03', periods=8)\n",
        "dr2"
      ],
      "execution_count": 0,
      "outputs": []
    },
    {
      "cell_type": "code",
      "metadata": {
        "colab_type": "code",
        "id": "Hs0HsPIg2JIN",
        "colab": {}
      },
      "source": [
        "dr2 - dr2[0]"
      ],
      "execution_count": 0,
      "outputs": []
    },
    {
      "cell_type": "code",
      "metadata": {
        "colab_type": "code",
        "id": "BmGekf0Z2JIN",
        "colab": {}
      },
      "source": [
        ""
      ],
      "execution_count": 0,
      "outputs": []
    },
    {
      "cell_type": "markdown",
      "metadata": {
        "colab_type": "text",
        "id": "Cdac4iqc2JIO",
        "toc-hr-collapsed": true
      },
      "source": [
        "### 다운샘플링 시 sum/mean등의 그룹연산으로 대표값 구함 <br> <.resample(단위시간).sum()>"
      ]
    },
    {
      "cell_type": "markdown",
      "metadata": {
        "colab_type": "text",
        "id": "4-exKW552JIO"
      },
      "source": [
        "`data.resample('3h').sum()` 1-> 3시간으로 그룹화 후 연산(sum)<br>\n",
        "`data.resample('D').sum()` 1시간-> 1일로 그룹화 후 연산(sum)<br>\n",
        "`data.resample('W').mean()` 1시간-> 1주로 그룹화 후 연산(mean)<br>\n",
        "`data.loc['2012-10'].sum()` 2012년 10월 한달 인도수 연산(sum)<br>\n",
        "`data.asfreq('W')`  기존 Index 빈도를 주 단위로 변경"
      ]
    },
    {
      "cell_type": "code",
      "metadata": {
        "colab_type": "code",
        "id": "UO3qSQnS2JIO",
        "colab": {}
      },
      "source": [
        "data = pd.read_csv('C:/Users/Gumin JUNG/OneDrive - 서울시립대학교/jupyter_notebook/실습자료-손에잡히는판다스/data/hanriver_bridge.csv', \n",
        "                   index_col='Date', parse_dates=True, engine='python')\n",
        "data.head(2)"
      ],
      "execution_count": 0,
      "outputs": []
    },
    {
      "cell_type": "markdown",
      "metadata": {
        "colab_type": "text",
        "id": "zXLOkuUT2JIP",
        "school_cell_uuid": "f941fd4732304035af2977ec9164f5a2"
      },
      "source": [
        "`다운-샘플링`은 원래 데이터가 그룹으로 묶여 그룹바이(groupby)때와 같이 그룹 연산 해서 대표값을 구함"
      ]
    },
    {
      "cell_type": "code",
      "metadata": {
        "colab_type": "code",
        "id": "TBFLEfSU2JIP",
        "colab": {}
      },
      "source": [
        "data.resample('D').sum().loc['2012-10-03']\n",
        "data.resample('D').sum().head()\n",
        "data.resample('W').mean().head()\n",
        "\n",
        "data.loc['2012-10'].sum()\n",
        "\n",
        "# asfreq는 현재 인덱스에서 동일한 값을 유지하며, DatetimeIndex를 다른 빈도로 변경하려는 경우에 사용\n",
        "data.asfreq('W').head()"
      ],
      "execution_count": 0,
      "outputs": []
    },
    {
      "cell_type": "markdown",
      "metadata": {
        "colab_type": "text",
        "id": "xncgJ2bT2JIQ"
      },
      "source": [
        "* 날짜가 아닌 시/분 단위에서\n",
        "    * 구간위 왼쪽 한계값(가장 빠른 값)은 포함\n",
        "    * 오른쪽 한계값(가장 늦은 값)은 포함하지 않음 (즉, 가장 늦은 값은 다음 구간에 포함됨) <br>\n",
        "     e.g. 10분 간격으로 구간 만들면 10의 배수가 되는 시각은 구간의 시작점이 됨"
      ]
    },
    {
      "cell_type": "code",
      "metadata": {
        "colab_type": "code",
        "id": "StFJLwtw2JIQ",
        "colab": {}
      },
      "source": [
        "ts = pd.Series(np.random.randn(60), index=pd.date_range(\n",
        "    \"2018-1-1\", periods=60, freq=\"T\"))\n",
        "ts.head(20)\n",
        "ts.resample('10T').sum()"
      ],
      "execution_count": 0,
      "outputs": []
    },
    {
      "cell_type": "markdown",
      "metadata": {
        "colab_type": "text",
        "id": "JgNHjXVe2JIR"
      },
      "source": [
        "* 왼쪽 아닌 오른쪽 한계값을 구간에 포함하려면 `closed=\"right\"` 인수사용\n",
        "* 이 때는 10의 배수가 되는 시각이 앞 구간에 포함 됨"
      ]
    },
    {
      "cell_type": "code",
      "metadata": {
        "colab_type": "code",
        "id": "VYPh79NA2JIR",
        "colab": {}
      },
      "source": [
        "ts.resample('10T', closed=\"right\").sum()"
      ],
      "execution_count": 0,
      "outputs": []
    },
    {
      "cell_type": "markdown",
      "metadata": {
        "colab_type": "text",
        "id": "YeVBOUP12JIR",
        "school_cell_uuid": "f941fd4732304035af2977ec9164f5a2"
      },
      "source": [
        "* `ohlc` 메서드: 구간의 시고저종(open, high, low, close)값 구함"
      ]
    },
    {
      "cell_type": "code",
      "metadata": {
        "colab_type": "code",
        "id": "zVV8o8xS2JIR",
        "colab": {}
      },
      "source": [
        "ts.resample('5T').ohlc()"
      ],
      "execution_count": 0,
      "outputs": []
    },
    {
      "cell_type": "markdown",
      "metadata": {
        "colab_type": "text",
        "id": "BjpnF-YU2JIS",
        "toc-hr-collapsed": true
      },
      "source": [
        "### 업-샘플링 시 ffill/bfill로 대표값 구함 <br> <.resample(단위시간).ffill [or bfill] ()>"
      ]
    },
    {
      "cell_type": "markdown",
      "metadata": {
        "colab_type": "text",
        "id": "4sDkj0FW2JIS"
      },
      "source": [
        "업-샘플링의 경우에는 실제로 존재하지 않는 데이터를 만들어야 하며 아래 두 방식 사용\n",
        "   * `ffill`: 앞에서 나온 데이터를 뒤에서 그대로 쓰는 forward filling 방식  \n",
        "   * `bfill`: 뒤에서 나올 데이터를 앞에서 미리 쓰는 backward filling 방식"
      ]
    },
    {
      "cell_type": "code",
      "metadata": {
        "colab_type": "code",
        "id": "WXd-Hz7R2JIS",
        "colab": {}
      },
      "source": [
        "ts.resample('30s').ffill().head(20)\n",
        "ts.resample('30s').bfill().head(20)"
      ],
      "execution_count": 0,
      "outputs": []
    },
    {
      "cell_type": "code",
      "metadata": {
        "colab_type": "code",
        "id": "sQpP6-LT2JIT",
        "colab": {}
      },
      "source": [
        ""
      ],
      "execution_count": 0,
      "outputs": []
    },
    {
      "cell_type": "markdown",
      "metadata": {
        "colab_type": "text",
        "id": "lOkxYNud2JIT",
        "toc-hr-collapsed": true
      },
      "source": [
        "## 인덱스"
      ]
    },
    {
      "cell_type": "markdown",
      "metadata": {
        "colab_type": "text",
        "id": "0EKbMNF62JIT"
      },
      "source": [
        "### index변경 <br> <df.rename({'기존index문자':'대체할index문자'})>"
      ]
    },
    {
      "cell_type": "code",
      "metadata": {
        "colab_type": "code",
        "id": "Lcrz6GJS2JIT",
        "colab": {}
      },
      "source": [
        "s = pd.Series([1,2,3,4])\n",
        "s"
      ],
      "execution_count": 0,
      "outputs": []
    },
    {
      "cell_type": "code",
      "metadata": {
        "colab_type": "code",
        "id": "qv4VBukp2JIU",
        "colab": {}
      },
      "source": [
        "s_re = s.rename({0:'a',1:'b',2:'c',3:'d'})\n",
        "s_re"
      ],
      "execution_count": 0,
      "outputs": []
    },
    {
      "cell_type": "code",
      "metadata": {
        "colab_type": "code",
        "id": "RkXx33Ku2JIU",
        "colab": {}
      },
      "source": [
        ""
      ],
      "execution_count": 0,
      "outputs": []
    },
    {
      "cell_type": "markdown",
      "metadata": {
        "colab_type": "text",
        "id": "9nBg-lih2JIV"
      },
      "source": [
        "### index 순서변경 <df.reindex('설정할index문자 [또는 리스트]')>"
      ]
    },
    {
      "cell_type": "code",
      "metadata": {
        "colab_type": "code",
        "id": "bYrLUMwl2JIV",
        "colab": {}
      },
      "source": [
        "# 'e' index를 가진 값 존재하지 않으므로 null처리\n",
        "s_re.reindex(['b','a','c','e'])"
      ],
      "execution_count": 0,
      "outputs": []
    },
    {
      "cell_type": "code",
      "metadata": {
        "colab_type": "code",
        "id": "Imazo04q2JIV",
        "colab": {}
      },
      "source": [
        ""
      ],
      "execution_count": 0,
      "outputs": []
    },
    {
      "cell_type": "markdown",
      "metadata": {
        "colab_type": "text",
        "id": "fLRU2t5H2JIW"
      },
      "source": [
        "###  범주형 자료로 된 index를 .rename으로 정수로 변경 후 덧셈연산"
      ]
    },
    {
      "cell_type": "code",
      "metadata": {
        "colab_type": "code",
        "id": "8j1eQmOH2JIW",
        "colab": {}
      },
      "source": [
        "1. 범주형 index인 s3를 .rename 메소드로 정수형으로 변경 후 덧셈연산\n",
        "s1 = pd.Series([10,20,30], index=[0,1,2])\n",
        "s1.index.dtype # dtype('int64')\n",
        "s3 = pd.Series([11,12,13], index=list('012'))\n",
        "s3.index.dtype # dtype('O')\n",
        "s3 = s3.rename({'0':0, '1':1,'2':2})\n",
        "s1 + s3\n",
        "\n",
        "2. 또는 새 시리즈 생성 해 index.values 속성에 가 astype 메소드로 int64 변환 후 덧셈연산\n",
        "s4 = pd.Series([11,12,13], index=list('012'))\n",
        "s4.index = s4.index.values.astype('int64')\n",
        "s1 + s4"
      ],
      "execution_count": 0,
      "outputs": []
    },
    {
      "cell_type": "code",
      "metadata": {
        "colab_type": "code",
        "id": "8Yn36kHf2JIW",
        "colab": {}
      },
      "source": [
        ""
      ],
      "execution_count": 0,
      "outputs": []
    },
    {
      "cell_type": "markdown",
      "metadata": {
        "colab_type": "text",
        "id": "2hH4VJbi2JIX",
        "toc-hr-collapsed": false
      },
      "source": [
        "### 1부터 시작하는 인덱스 만들기"
      ]
    },
    {
      "cell_type": "code",
      "metadata": {
        "colab_type": "code",
        "id": "BsrThuTD2JIX",
        "colab": {}
      },
      "source": [
        "new_list = np.arange(1, 21)\n",
        "df.set_index(new_list).rename(columns={'index': '구분'})"
      ],
      "execution_count": 0,
      "outputs": []
    },
    {
      "cell_type": "code",
      "metadata": {
        "colab_type": "code",
        "id": "w3LWgCMB2JIX",
        "colab": {}
      },
      "source": [
        ""
      ],
      "execution_count": 0,
      "outputs": []
    },
    {
      "cell_type": "markdown",
      "metadata": {
        "colab_type": "text",
        "id": "mIALmVrX2JIX"
      },
      "source": [
        "### A인덱스객체는 포함되나 B객체에 없는 레이블 검색 <A인덱스객체.difference(B인덱스객체)>"
      ]
    },
    {
      "cell_type": "markdown",
      "metadata": {
        "colab_type": "text",
        "id": "KTBtODJ62JIX"
      },
      "source": [
        "`idx1.difference(idx2)`  객체 간 동일 인덱스 검색"
      ]
    },
    {
      "cell_type": "code",
      "metadata": {
        "colab_type": "code",
        "id": "-mM3ocRZ2JIY",
        "colab": {}
      },
      "source": [
        "idx1 = pd.Index([1, 2, 3, 4])\n",
        "idx2 = pd.Index(range(1,4))\n",
        "idx1.difference(idx2)"
      ],
      "execution_count": 0,
      "outputs": []
    },
    {
      "cell_type": "code",
      "metadata": {
        "colab_type": "code",
        "id": "1LTbT-zP2JIa",
        "colab": {}
      },
      "source": [
        ""
      ],
      "execution_count": 0,
      "outputs": []
    },
    {
      "cell_type": "markdown",
      "metadata": {
        "colab_type": "text",
        "id": "nTpn6my72JIb"
      },
      "source": [
        "### 범주형 인덱스 추가 <br>  <s.index.add_categories(새카테고리,inplace=False)>"
      ]
    },
    {
      "cell_type": "markdown",
      "metadata": {
        "colab_type": "text",
        "id": "TUJk3uPf2JIb"
      },
      "source": [
        "`s.index.add_categories(5)`  범주형 인덱스 추가"
      ]
    },
    {
      "cell_type": "code",
      "metadata": {
        "colab_type": "code",
        "id": "RAPjUSsr2JIb",
        "colab": {}
      },
      "source": [
        "inx_i = pd.CategoricalIndex([1,2,3,4])\n",
        "s = pd.Series([1,2,3,4],index=inx_i)\n",
        "s;  s.index.add_categories(5)"
      ],
      "execution_count": 0,
      "outputs": []
    },
    {
      "cell_type": "code",
      "metadata": {
        "colab_type": "code",
        "id": "aNrnVVsd2JIc",
        "colab": {}
      },
      "source": [
        ""
      ],
      "execution_count": 0,
      "outputs": []
    },
    {
      "cell_type": "markdown",
      "metadata": {
        "colab_type": "text",
        "id": "EgZBuvxr2JId"
      },
      "source": [
        "### 원하는 위치에 칼럼, 값 생성 <br> <index.insert(loc, item) / df.insert(loc, column, value, allow_duplicates = False)>"
      ]
    },
    {
      "cell_type": "markdown",
      "metadata": {
        "colab_type": "text",
        "id": "ILJMXbrZ2JId"
      },
      "source": [
        "`df.insert(loc, column, value, allow_duplicates = False)` <br>\n",
        "`s.index.insert(loc, item)`"
      ]
    },
    {
      "cell_type": "markdown",
      "metadata": {
        "colab_type": "text",
        "id": "zTJIApVq2JId"
      },
      "source": [
        "* stu_info[\"학과\"] = \"IUDP\" 와 동일한 결과이나, insert 명령은 위치지정가능"
      ]
    },
    {
      "cell_type": "code",
      "metadata": {
        "colab_type": "code",
        "id": "PE9vKD4z2JId",
        "colab": {}
      },
      "source": [
        "stu_info.insert(0, \"학과\", \"IUDP\")"
      ],
      "execution_count": 0,
      "outputs": []
    },
    {
      "cell_type": "code",
      "metadata": {
        "colab_type": "code",
        "id": "beuwN0e82JIe",
        "colab": {}
      },
      "source": [
        "stu_info.index.insert(341, \"추가\")"
      ],
      "execution_count": 0,
      "outputs": []
    },
    {
      "cell_type": "code",
      "metadata": {
        "colab_type": "code",
        "id": "ISX5552a2JIf",
        "colab": {}
      },
      "source": [
        "# 행별로 다른 데이터 삽입\n",
        "\n",
        "입학년도 = pd.Series([])\n",
        "\n",
        "for i in range(len(stu_info)):\n",
        "    if stu_info['참가기간(시작)'][i].year == 2012:\n",
        "        입학년도[i] = \"2012 IUDP\"\n",
        "    elif stu_info['참가기간(시작)'][i].year == 2013:\n",
        "        입학년도[i] = \"2013 IUDP\"\n",
        "    elif stu_info['참가기간(시작)'][i].year == 2014:\n",
        "        입학년도[i] = \"2014 IUDP\"\n",
        "    elif stu_info['참가기간(시작)'][i].year == 2015:\n",
        "        입학년도[i] = \"2015 IUDP\"\n",
        "    elif stu_info['참가기간(시작)'][i].year == 2016:\n",
        "        입학년도[i] = \"2016 IUDP\"\n",
        "    elif stu_info['참가기간(시작)'][i].year == 2017:\n",
        "        입학년도[i] = \"2017 IUDP\"\n",
        "    elif stu_info['참가기간(시작)'][i].year == 2018:\n",
        "        입학년도[i] = \"2018 IUDP\"\n",
        "    else:\n",
        "        입학년도[i] = \"고려대  MPA\"\n",
        "\n",
        "stu_info.insert(0, 'Year', 입학년도)\n",
        "stu_info.query('Year == \"고려대  MPA\"')\n",
        "# 동일결과: stu_info.loc[stu_info['Year'].isin([\"고려대  MPA\"])]"
      ],
      "execution_count": 0,
      "outputs": []
    },
    {
      "cell_type": "code",
      "metadata": {
        "colab_type": "code",
        "id": "56rXN7Me2JIg",
        "colab": {}
      },
      "source": [
        ""
      ],
      "execution_count": 0,
      "outputs": []
    },
    {
      "cell_type": "markdown",
      "metadata": {
        "colab_type": "text",
        "id": "onqzL95k2JIg"
      },
      "source": [
        "### 문자열수식으로 열 간 연산 수행 <.eval(str, inplace=False)>"
      ]
    },
    {
      "cell_type": "code",
      "metadata": {
        "colab_type": "code",
        "id": "oVtgDELE2JIg",
        "colab": {}
      },
      "source": [
        "data.columns=['좌측', '우측']\n",
        "data['합산'] = data.eval('좌측 + 우측') # data.eval('합산 = 좌측 + 우측') 와 동일한 결과\n",
        "data.head()"
      ],
      "execution_count": 0,
      "outputs": []
    },
    {
      "cell_type": "code",
      "metadata": {
        "colab_type": "code",
        "id": "D1_cq7fy2JIg",
        "colab": {}
      },
      "source": [
        ""
      ],
      "execution_count": 0,
      "outputs": []
    },
    {
      "cell_type": "markdown",
      "metadata": {
        "colab_type": "text",
        "id": "Qrx7Vzjt2JIi"
      },
      "source": [
        "### numpy 연산 <np.mean():평균, np.var():분산, np.var(x, ddof=1):비편향분산, np.std():표준편차, np.percentile()>"
      ]
    },
    {
      "cell_type": "markdown",
      "metadata": {
        "colab_type": "text",
        "id": "QitvuMaa2JIi",
        "school_cell_uuid": "46bb43f2d2924332ab0f3f09c460c32f"
      },
      "source": [
        "`np.mean(x)` 평균<br>\n",
        "`np.var(x)` 분산<br>\n",
        "`np.median(x)` 중앙값<br>\n",
        "`np.percentile(x, 0)` 최소값<br>\n",
        "`np.percentile(x, 25)` 1사분위수<br>\n",
        "`np.percentile(x, 50)` 중간값, 2사분위수<br>\n",
        "`np.percentile(x, 75)` 3사분위수<br>\n",
        "`np.percentile(x, 100)` 최대값<br>\n",
        "`from scipy.stats import describe; describe(x)` # scipy 패키지로 한 번에 기술 통계값"
      ]
    },
    {
      "cell_type": "code",
      "metadata": {
        "colab_type": "code",
        "id": "MunXO1o72JIi",
        "school_cell_uuid": "46bb43f2d2924332ab0f3f09c460c32f",
        "colab": {}
      },
      "source": [
        "x = np.array([18,   5,  10,  23,  19,  -8,  10,   0,   0,   5,   2,  15,   8,\n",
        "              2,   5,   4,  15,  -1,   4,  -7, -24,   7,   9,  -6,  23, -13])\n",
        "# 분산\n",
        "np.var(x); \n",
        "# 아래 식과 동일한 결과\n",
        "y = []\n",
        "for i in range(len(x)):\n",
        "    y.append([(x[i] - np.mean(x))**2])\n",
        "np.sum(y)/len(x);\n",
        "\n",
        "#중앙값: 데이터 수가 짝수이면 가장 가운데 두 수의 평균을 사용\n",
        "np.median(x); \n",
        "\n",
        "# 사분위수\n",
        "np.percentile(x, 0)  # 최소값\n",
        "np.percentile(x, 25)  # 1사분위수\n",
        "np.percentile(x, 50)  # 중앙값, 2사분위수\n",
        "np.percentile(x, 75)  # 3사분위수\n",
        "np.percentile(x, 100)  # 최대값\n",
        "\n",
        "# scipy 패키지로 한 번에 기술 통계값 구하기\n",
        "from scipy.stats import describe\n",
        "describe(x)"
      ],
      "execution_count": 0,
      "outputs": []
    },
    {
      "cell_type": "code",
      "metadata": {
        "colab_type": "code",
        "id": "FJ5OlNHM2JIj",
        "colab": {}
      },
      "source": [
        ""
      ],
      "execution_count": 0,
      "outputs": []
    },
    {
      "cell_type": "markdown",
      "metadata": {
        "colab_type": "text",
        "id": "Jn2jjjxE2JIj",
        "toc-hr-collapsed": true
      },
      "source": [
        "## 난수 생성<br> \n",
        "#### 1. np.random.seed(x) / 2. np.random.rand(3,5) / 3. np.random.randn(3,5) / 4. np.random.randint(low, high=None, size=None)>"
      ]
    },
    {
      "cell_type": "markdown",
      "metadata": {
        "colab_type": "text",
        "id": "CLaAkZdP2JIj",
        "school_cell_uuid": "46bb43f2d2924332ab0f3f09c460c32f"
      },
      "source": [
        "`np.random.seed(x)` 난수 수열생성을 위한 시작 숫자 (0=<x)<br>\n",
        "`np.random.rand(3,5)`: 0부터 1사이의 균일 분포<br>\n",
        "`np.random.randn(3,5)`: 가우시안 표준 정규 분포(기댓값 0, 표준편차 1)<br>\n",
        "`np.random.randint(low, high=None, size=None)`: 균일 분포의 정수 난수<br>\n",
        "* high 미입력 시 0과 low사이 숫자를, \n",
        "* high 입력 시 low와 high 사이의 숫자를 출력\n",
        "* size는 난수의 숫자"
      ]
    },
    {
      "cell_type": "code",
      "metadata": {
        "colab_type": "code",
        "id": "QCDVgWLO2JIj",
        "school_cell_uuid": "683d2572fa3d4dd6959e25dbd40cec1c",
        "colab": {}
      },
      "source": [
        "np.random.seed(0)\n",
        "\n",
        "np.random.rand(10)\n",
        "np.random.rand(3, 5) #`randn` 명령은 기댓값이 0이고 표준편차가 1인 가우시안 표준 정규 분포를 따르는 난수를 생성한다. 인수 사용법은 `rand` 명령과 같다.\n",
        "\n",
        "np.random.randn(10)\n",
        "np.random.randn(3, 5)\n",
        "\n",
        "np.random.randint(10, size=10)\n",
        "np.random.randint(10, 20, size=10)\n",
        "np.random.randint(10, 20, size=(3, 5))"
      ],
      "execution_count": 0,
      "outputs": []
    },
    {
      "cell_type": "code",
      "metadata": {
        "colab_type": "code",
        "id": "u69xSBJy2JIk",
        "colab": {}
      },
      "source": [
        ""
      ],
      "execution_count": 0,
      "outputs": []
    },
    {
      "cell_type": "markdown",
      "metadata": {
        "colab_type": "text",
        "id": "W4dzu6952JIk",
        "toc-hr-collapsed": true
      },
      "source": [
        "### 균일간격 점 생성 <br> np.linspace(시작값, 끝값, 256) "
      ]
    },
    {
      "cell_type": "markdown",
      "metadata": {
        "colab_type": "text",
        "id": "uOHQ_qtZ2JIk"
      },
      "source": [
        "`np.linspace(-np.pi, np.pi, 256)` 시작점과 끝점을 균일 간격으로 나눈 점들을 생성<br>"
      ]
    },
    {
      "cell_type": "code",
      "metadata": {
        "colab_type": "code",
        "id": "Z_R93my72JIl",
        "colab": {}
      },
      "source": [
        "np.linspace(-np.pi, np.pi, 256) "
      ],
      "execution_count": 0,
      "outputs": []
    },
    {
      "cell_type": "code",
      "metadata": {
        "colab_type": "code",
        "id": "rvnSpf_72JIl",
        "colab": {}
      },
      "source": [
        ""
      ],
      "execution_count": 0,
      "outputs": []
    },
    {
      "cell_type": "markdown",
      "metadata": {
        "colab_type": "text",
        "id": "7etfdRSf2JIm",
        "toc-hr-collapsed": false
      },
      "source": [
        "### 난수 데이터 순서변경과 샘플링<br>  1.np.random.shuffle(np.arange(10) <br>  2.np.random.choice(5, 10, p=[0.1, 0, 0.3, 0.6, 0])"
      ]
    },
    {
      "cell_type": "markdown",
      "metadata": {
        "colab_type": "text",
        "id": "NEiw8w392JIm",
        "school_cell_uuid": "46bb43f2d2924332ab0f3f09c460c32f"
      },
      "source": [
        "`np.random.shuffle(np.arange(10)`: 데이터 순서 변경<br>\n",
        "`np.random.choice(a, size=None, replace=True, p=None)`: 데이터 샘플링<br>\n",
        "* a : 배열이면 원래의 데이터, 정수이면 arange(a) 명령으로 데이터 생성\n",
        "* size : 정수. 샘플 숫자\n",
        "* replace : 불리언. True이면 한번 선택한 데이터를 다시 선택 가능\n",
        "* p : 배열. 각 데이터가 선택될 수 있는 확률"
      ]
    },
    {
      "cell_type": "code",
      "metadata": {
        "colab_type": "code",
        "id": "MQhkLo202JIm",
        "school_cell_uuid": "589fc9ada99f408eaf3d98e6ba35bd50",
        "colab": {}
      },
      "source": [
        "x = np.arange(10)\n",
        "np.random.shuffle(x)\n",
        "\n",
        "np.random.choice(5, 5, replace=False)  # shuffle 명령과 같다.\n",
        "np.random.choice(5, 3, replace=False)  # 3개만 선택\n",
        "np.random.choice(5, 10)  # 반복해서 10개 선택\n",
        "np.random.choice(5, 10, p=[0.1, 0, 0.3, 0.6, 0])  # 선택 확률을 다르게 해서 10개 선택"
      ],
      "execution_count": 0,
      "outputs": []
    },
    {
      "cell_type": "code",
      "metadata": {
        "colab_type": "code",
        "id": "9ULb0uNF2JIn",
        "colab": {}
      },
      "source": [
        ""
      ],
      "execution_count": 0,
      "outputs": []
    },
    {
      "cell_type": "markdown",
      "metadata": {
        "colab_type": "text",
        "id": "4r5mxwG02JIo",
        "toc-hr-collapsed": true
      },
      "source": [
        "### 난수가 정수일 때 데이터 카운팅 <br>  1.np.unique([11, 11, 2, 2, 34, 34], return_counts=True)<br> 2.np.bincount([1, 1, 2, 2, 2, 3], minlength=6)"
      ]
    },
    {
      "cell_type": "markdown",
      "metadata": {
        "colab_type": "text",
        "id": "YUrOrjKD2JIo",
        "school_cell_uuid": "46bb43f2d2924332ab0f3f09c460c32f"
      },
      "source": [
        "`np.unique([11, 11, 2, 2, 34, 34], return_counts=True)`\n",
        "* 중복 아닌 값 리스트 출력\n",
        "* return_counts=True 설정 시 각 값을 가진 데이터 갯수 출력\n",
        "\n",
        "`np.bincount([1, 1, 2, 2, 2, 3], minlength=6)`\n",
        "* 최소 여섯번 째 인덱스까지의 데이터를 카운트, 없는 데이터 인덱스에 대해 0으로 표시"
      ]
    },
    {
      "cell_type": "code",
      "metadata": {
        "colab_type": "code",
        "id": "xVchWH3q2JIq",
        "school_cell_uuid": "e7448ae7264c49e8ac97ad96e40f3cab",
        "colab": {}
      },
      "source": [
        "np.unique([11, 11, 2, 2, 34, 34])\n",
        "a = np.array(['a', 'b', 'b', 'c', 'a'])\n",
        "index, count = np.unique(a, return_counts=True)\n",
        "index\n",
        "count\n",
        "\n",
        "np.bincount([1, 1, 2, 2, 2, 3], minlength=6)"
      ],
      "execution_count": 0,
      "outputs": []
    },
    {
      "cell_type": "code",
      "metadata": {
        "colab_type": "code",
        "id": "yf6Ml2W42JIq",
        "colab": {}
      },
      "source": [
        ""
      ],
      "execution_count": 0,
      "outputs": []
    },
    {
      "cell_type": "markdown",
      "metadata": {
        "colab_type": "text",
        "id": "BlOZ_A0Q2JIs"
      },
      "source": [
        "### Power BI에 Jupyter Notebook에 삽입하기 <br> <from IPython.display import IFrame <br>powerBiEmbed = 'power bi embed code'<br>IFrame(powerBiEmbed, width=int, height=int)>"
      ]
    },
    {
      "cell_type": "markdown",
      "metadata": {
        "colab_type": "text",
        "id": "C0SmaBka2JIs"
      },
      "source": [
        "`from IPython.display import IFrame` <br>\n",
        "`powerBiEmbed = 'https://app.powerbi.com/view?... IFrame(powerBiEmbed, width=800, height=600)`"
      ]
    },
    {
      "cell_type": "code",
      "metadata": {
        "colab_type": "code",
        "id": "8V1Hu2Ys2JIs",
        "colab": {}
      },
      "source": [
        "from IPython.display import IFrame\n",
        "powerBiEmbed = 'https://app.powerbi.com/view?r=eyJrIjoiY2MzZWYzOTMtOTEwMi00OWVkLTk4ZTQtMjQxZTk2ODdlYjg1IiwidCI6ImIwOTg4YzEzLWUxMzQtNGI3OC1hZGY3LTVkMWU1YjI0MTAxOCIsImMiOjEwfQ%3D%3D'\n",
        "\n",
        "IFrame(powerBiEmbed, width=800, height=600)"
      ],
      "execution_count": 0,
      "outputs": []
    },
    {
      "cell_type": "code",
      "metadata": {
        "colab_type": "code",
        "id": "dVD-5XwE2JIs",
        "colab": {}
      },
      "source": [
        ""
      ],
      "execution_count": 0,
      "outputs": []
    },
    {
      "cell_type": "markdown",
      "metadata": {
        "colab_type": "text",
        "id": "acD_lpAT2JIt"
      },
      "source": [
        "### Azure Jupyter Notebook에 확장기능 설치"
      ]
    },
    {
      "cell_type": "code",
      "metadata": {
        "colab_type": "code",
        "id": "ZnhR7QsT2JIt",
        "colab": {}
      },
      "source": [
        "!pip install jupyter_contrib_nbextensions\n",
        "!jupyter contrib nbextension install --user\n",
        "!/usr/local/bin/jupyter nbextension enable codefolding/main\n",
        "def f():\n",
        "    print('hello there')"
      ],
      "execution_count": 0,
      "outputs": []
    },
    {
      "cell_type": "code",
      "metadata": {
        "colab_type": "code",
        "id": "ByA-7nUc2JIt",
        "colab": {}
      },
      "source": [
        ""
      ],
      "execution_count": 0,
      "outputs": []
    },
    {
      "cell_type": "markdown",
      "metadata": {
        "colab_type": "text",
        "id": "qvMKWJoO2JIt"
      },
      "source": [
        "***pd.concat***(<br>\n",
        "***objs***,  # Series, DataFrame, Panel object<br>\n",
        "***axis=0***,  # 0: 위+아래로 합치기, 1: 왼쪽+오른쪽으로 합치기<br>\n",
        "***join='outer'***, # 'outer': 합집합(union), 'inner': 교집합(intersection)<br>\n",
        "***join_axes=None***, # axis=1 일 경우 특정 DataFrame의 index를 그대로 이용하려면 입력<br>\n",
        "***ignore_index=False***,  # False: 기존 index 유지, True: 기존 index 무시<br>\n",
        "***keys=None***, # 인덱스 기입, 계층적 index 사용하려면 keys 튜플 입력<br>e.g. pd.concat([total, percent], axis=1, keys=['Total', 'Percent'])<br>\n",
        "***levels=None***,<br>\n",
        "***names=None***, # index의 이름 부여하려면 names 튜플 입력<br>\n",
        "***verify_integrity=False***, # True: index 중복 확인<br>***copy=True)*** # 복사<br>"
      ]
    },
    {
      "cell_type": "code",
      "metadata": {
        "colab_type": "code",
        "id": "EtQwXnqO2JIu",
        "colab": {}
      },
      "source": [
        ""
      ],
      "execution_count": 0,
      "outputs": []
    },
    {
      "cell_type": "markdown",
      "metadata": {
        "colab_type": "text",
        "id": "uYjonuo22JIu"
      },
      "source": [
        "***pd.merge***(<br>\n",
        "***left, right***, # merge할 DataFrame 객체 이름<br>\n",
        "***how='inner'***, # left, rigth, inner (default), outer<br>\n",
        "***on=None***, # merge의 기준이 되는 Key 변수<br>\n",
        "***left_on=None***, # 왼쪽 DataFrame의 변수를 Key로 사용<br>\n",
        "***right_on=None***, # 오른쪽 DataFrame의 변수를 Key로 사용<br>\n",
        "***left_index=False***, # 만약 True 라면, 왼쪽 DataFrame의 index를 merge Key로 사용<br>\n",
        "***right_index=False***, # 만약 True 라면, 오른쪽 DataFrame의 index를 merge Key로 사용<br>\n",
        "***sort=True***, # merge 된 후의 DataFrame을 join Key 기준으로 정렬<br>\n",
        "***suffixes=('_x', '_y')***, # 중복되는 변수 이름에 대해 접두사 부여 (defaults to '_x', '_y'<br>\n",
        "***copy=True***, # merge할 DataFrame을 복사<br>\n",
        "***indicator=False)*** # 병합된 이후의 DataFrame에 left_only, right_only, both 등의 출처를 알 수 있는 부가 정보 변수 추가<br>\n",
        "\n",
        "출처: https://rfriend.tistory.com/256 [R, Python 분석과 프로그래밍 (by R Friend)]"
      ]
    },
    {
      "cell_type": "code",
      "metadata": {
        "colab_type": "code",
        "id": "BRfJRwxN2JIu",
        "colab": {}
      },
      "source": [
        ""
      ],
      "execution_count": 0,
      "outputs": []
    },
    {
      "cell_type": "markdown",
      "metadata": {
        "colab_type": "text",
        "id": "VzpLYIt-2JIv"
      },
      "source": [
        "### 전체 설문대상자 중 응답자 비율<br> data.isnull().sum()/data.isnull().count()*100"
      ]
    },
    {
      "cell_type": "code",
      "metadata": {
        "colab_type": "code",
        "id": "2coxDtfO2JIv",
        "colab": {}
      },
      "source": [
        "train_df.isnull().sum()/train_df.isnull().count()*100"
      ],
      "execution_count": 0,
      "outputs": []
    },
    {
      "cell_type": "code",
      "metadata": {
        "colab_type": "code",
        "id": "wwNj2V_I2Xf9",
        "colab": {}
      },
      "source": [
        ""
      ],
      "execution_count": 0,
      "outputs": []
    },
    {
      "cell_type": "markdown",
      "metadata": {
        "colab_type": "text",
        "id": "-rd8pLBY2n9n"
      },
      "source": [
        "### 접두어,접미어 붙이기<br> data.add_prefix('X_') , data.add_suffix('_Y')"
      ]
    },
    {
      "cell_type": "code",
      "metadata": {
        "colab_type": "code",
        "id": "RmLN7XRe2gaq",
        "colab": {}
      },
      "source": [
        "df.add_prefix('X_')"
      ],
      "execution_count": 0,
      "outputs": []
    },
    {
      "cell_type": "code",
      "metadata": {
        "colab_type": "code",
        "id": "jDKK3IYo2gau",
        "colab": {}
      },
      "source": [
        "df.add_suffix('_Y')"
      ],
      "execution_count": 0,
      "outputs": []
    },
    {
      "cell_type": "code",
      "metadata": {
        "colab_type": "code",
        "id": "lGUhIDlL3YnY",
        "colab": {}
      },
      "source": [
        ""
      ],
      "execution_count": 0,
      "outputs": []
    },
    {
      "cell_type": "markdown",
      "metadata": {
        "colab_type": "text",
        "id": "hqNBY1IO3ZcV"
      },
      "source": [
        "### 행 역순정렬<br> data.loc[: : -1].reset_index(drop=True)"
      ]
    },
    {
      "cell_type": "code",
      "metadata": {
        "colab_type": "code",
        "id": "67CTAIhb39rA",
        "colab": {}
      },
      "source": [
        "drinks.loc[::-1].reset_index(drop=True).head()"
      ],
      "execution_count": 0,
      "outputs": []
    },
    {
      "cell_type": "code",
      "metadata": {
        "colab_type": "code",
        "id": "TRfSq_JrBmM2",
        "colab": {}
      },
      "source": [
        ""
      ],
      "execution_count": 0,
      "outputs": []
    },
    {
      "cell_type": "markdown",
      "metadata": {
        "colab_type": "text",
        "id": "GN0vBVZnBmiZ"
      },
      "source": [
        "### 열 역순정렬<br> data.loc[:, : : -1]"
      ]
    },
    {
      "cell_type": "code",
      "metadata": {
        "colab_type": "code",
        "id": "SRm3qyfeBvxC",
        "colab": {}
      },
      "source": [
        "drinks.loc[::-1].reset_index(drop=True).head()"
      ],
      "execution_count": 0,
      "outputs": []
    },
    {
      "cell_type": "code",
      "metadata": {
        "colab_type": "code",
        "id": "H3io9Ki-CygZ",
        "colab": {}
      },
      "source": [
        ""
      ],
      "execution_count": 0,
      "outputs": []
    },
    {
      "cell_type": "markdown",
      "metadata": {
        "colab_type": "text",
        "id": "OJ_jdNeGCyqq"
      },
      "source": [
        "### 숫자로 된 문자형 데이터열을 숫자형 열로 변경<br> data.astype({'col_name1':'float', 'col_name2':'float'})"
      ]
    },
    {
      "cell_type": "code",
      "metadata": {
        "colab_type": "code",
        "id": "wCJ4CjrqDP7L",
        "colab": {}
      },
      "source": [
        "df.astype({'col_one':'float', 'col_two':'float'})"
      ],
      "execution_count": 0,
      "outputs": []
    },
    {
      "cell_type": "code",
      "metadata": {
        "colab_type": "code",
        "id": "bM1fKwGyDTK3",
        "colab": {}
      },
      "source": [
        ""
      ],
      "execution_count": 0,
      "outputs": []
    },
    {
      "cell_type": "markdown",
      "metadata": {
        "colab_type": "text",
        "id": "XVgV8IxYDTdb"
      },
      "source": [
        "### '-' 등의 문자열포함 데이터열을 숫자형 열로 변경<br> Series적용: pd.numeric(data.col_name, error=coerce).fillna('0') <br>DataFrame적용: df.apply(pd.to_numeric, errors='coerce').fillna(0)"
      ]
    },
    {
      "cell_type": "code",
      "metadata": {
        "colab_type": "code",
        "id": "HIu08ZmVEKhN",
        "colab": {}
      },
      "source": [
        "pd.numeric(df.col_three, error=coerce).fillna('0')\n",
        "# error=coerce: 문자열포함 데이터열에 대해 pd.numeric 실행 시 발생하는 error 필드를 NaN 값 처리\n",
        "# fillna(0)로 NaN 값을 숫자로 변경\n",
        "\n",
        "df = df.apply(pd.to_numeric, errors='coerce').fillna(0)\n",
        "df"
      ],
      "execution_count": 0,
      "outputs": []
    },
    {
      "cell_type": "markdown",
      "metadata": {
        "colab_type": "text",
        "id": "ggnR4NBhEvNj"
      },
      "source": [
        ""
      ]
    },
    {
      "cell_type": "markdown",
      "metadata": {
        "colab_type": "text",
        "id": "r47z8pbXzNjF",
        "toc-hr-collapsed": true
      },
      "source": [
        "# 데이터프레임 스타일링"
      ]
    },
    {
      "cell_type": "markdown",
      "metadata": {
        "colab_type": "text",
        "id": "zgkRs-dizNjG"
      },
      "source": [
        "## 열별 포맷 지정 <br> format_dict = {'Date':'{:%m/%d/%y}', 'Close':'${:.2f}', 'Volume':'{:,}'}<br>data.style.format(format_dict)"
      ]
    },
    {
      "cell_type": "code",
      "metadata": {
        "colab_type": "code",
        "id": "RhjQlSR9zNjM",
        "colab": {}
      },
      "source": [
        "stocks.head(3)"
      ],
      "execution_count": 0,
      "outputs": []
    },
    {
      "cell_type": "code",
      "metadata": {
        "colab_type": "code",
        "id": "me48mwm90J-M",
        "colab": {}
      },
      "source": [
        "format_dict = {'Date': '{: %m%d%y}', 'Close': '${:.2f}', 'Volume':'{:,}'}\n",
        "stocks.style.format(format_dict)"
      ],
      "execution_count": 0,
      "outputs": []
    },
    {
      "cell_type": "code",
      "metadata": {
        "colab_type": "code",
        "id": "D66-tAU60KGu",
        "colab": {}
      },
      "source": [
        ""
      ],
      "execution_count": 0,
      "outputs": []
    },
    {
      "cell_type": "markdown",
      "metadata": {
        "colab_type": "text",
        "id": "Jhuojh0z1SsT"
      },
      "source": [
        "## 열별 포맷 추가메소드 지정: 인덱스 숨기기, 최소-최대값 표시<br> (data.style.format(format_dict)<br>.hide_index()<br>.highlight_min('Close', color='red')<br>.highlight_max('Close', color='lightgreen')<br>)"
      ]
    },
    {
      "cell_type": "code",
      "metadata": {
        "colab_type": "code",
        "id": "mcEPh8lX1SsU",
        "colab": {}
      },
      "source": [
        "(stocks.style.format(format_dict)\n",
        ".hide_index()\n",
        ".highlight_min('Close', color='red')\n",
        ".highlight_max('Close', color='lightgreen')\n",
        ")"
      ],
      "execution_count": 0,
      "outputs": []
    },
    {
      "cell_type": "code",
      "metadata": {
        "colab_type": "code",
        "id": "lpbeIpm32Y31",
        "colab": {}
      },
      "source": [
        ""
      ],
      "execution_count": 0,
      "outputs": []
    },
    {
      "cell_type": "markdown",
      "metadata": {
        "colab_type": "text",
        "id": "ZCeAWCh02gGz"
      },
      "source": [
        "## 열별 포맷 추가메소드 지정: 배경색으로 값 위계 표시<br> (data.style.format(format_dict)<br>.hide_index()<br>.background_gradient(subset='Volume', cmap='Blues')<br>)"
      ]
    },
    {
      "cell_type": "code",
      "metadata": {
        "colab_type": "code",
        "id": "iDnsmNMZ2ZMZ",
        "colab": {}
      },
      "source": [
        "(stocks.style.format(format_dict)\n",
        ".hide_index()\n",
        ".background_gradient(subset='Volume', cmap='Blues')\n",
        ")"
      ],
      "execution_count": 0,
      "outputs": []
    },
    {
      "cell_type": "code",
      "metadata": {
        "colab_type": "code",
        "id": "FUrDV9rB3RvE",
        "colab": {}
      },
      "source": [
        ""
      ],
      "execution_count": 0,
      "outputs": []
    },
    {
      "cell_type": "markdown",
      "metadata": {
        "colab_type": "text",
        "id": "XYmtaVSB3Qxp"
      },
      "source": [
        "## 열별 포맷 추가메소드 지정: 배경색 바로 값 위계 표시, 제목 캡션 달기<br> (data.style.format(format_dict)<br>.hide_index()<br>.bar('Volume', 'lightblue', align='zero')<br>.set_caption('Stock Prices from October 2016')<br>)"
      ]
    },
    {
      "cell_type": "code",
      "metadata": {
        "colab_type": "code",
        "id": "d9wLoo8m3Qxq",
        "colab": {}
      },
      "source": [
        "(stocks.style.format(format_dict)\n",
        ".hide_index()\n",
        ".bar('Volume', color='lightblue', align='zero')\n",
        ".set_caption('Stock Prices from October 2016')\n",
        ")"
      ],
      "execution_count": 0,
      "outputs": []
    },
    {
      "cell_type": "code",
      "metadata": {
        "colab_type": "code",
        "id": "4wKNfl3c2Zwu",
        "colab": {}
      },
      "source": [
        ""
      ],
      "execution_count": 0,
      "outputs": []
    },
    {
      "cell_type": "markdown",
      "metadata": {
        "colab_type": "text",
        "id": "cgFXBkydNS7K"
      },
      "source": [
        "## 문자열 데이터 칼럼을 적합한 형태의 데이터타입으로 변환<br> data.infer_objects()"
      ]
    },
    {
      "cell_type": "code",
      "metadata": {
        "id": "vXxfiI7ONS7K",
        "colab_type": "code",
        "colab": {}
      },
      "source": [
        "stocks.infer_objects()"
      ],
      "execution_count": 0,
      "outputs": []
    },
    {
      "cell_type": "code",
      "metadata": {
        "id": "Yc7jADkqNS7P",
        "colab_type": "code",
        "colab": {}
      },
      "source": [
        ""
      ],
      "execution_count": 0,
      "outputs": []
    },
    {
      "cell_type": "markdown",
      "metadata": {
        "colab_type": "text",
        "id": "i43iDy1oNS7U"
      },
      "source": [
        "## 웹페이지의 테이블가져오기 변환<br> pd.read_html(\"url\", header=0, parse_dates=[\"Call Date\"]); print(tables[0])"
      ]
    },
    {
      "cell_type": "markdown",
      "metadata": {
        "id": "UZRgF7EuNS7U",
        "colab_type": "text"
      },
      "source": [
        "출처: https://medium.com/@ageitgey/quick-tip-the-easiest-way-to-grab-data-out-of-a-web-page-in-python-7153cecfca58"
      ]
    },
    {
      "cell_type": "code",
      "metadata": {
        "id": "MYPiVyqvNS7U",
        "colab_type": "code",
        "colab": {}
      },
      "source": [
        "calls_df = pd.read_html(\"https://finance.naver.com/sise/sise_index.nhn?code=KOSPI\", \n",
        "#                         header=0, , parse_dates=[\"날짜\"]\n",
        "                       )\n",
        "calls_df[0]\n",
        "# calls_df.tables[0]\n",
        "# decode('euc-kr')"
      ],
      "execution_count": 0,
      "outputs": []
    },
    {
      "cell_type": "code",
      "metadata": {
        "id": "sPX8IBXMNS7V",
        "colab_type": "code",
        "colab": {}
      },
      "source": [
        ""
      ],
      "execution_count": 0,
      "outputs": []
    },
    {
      "cell_type": "markdown",
      "metadata": {
        "colab_type": "text",
        "id": "MM8Wc0K6NS7V"
      },
      "source": [
        "## Pandas를 이용한 Naver금융에서 주식데이터 가져오기<br> pd.read_html(\"url\", header=0, parse_dates=[\"Call Date\"]); print(tables[0])"
      ]
    },
    {
      "cell_type": "markdown",
      "metadata": {
        "id": "DFZG-iHyNS7W",
        "colab_type": "text"
      },
      "source": [
        "출처: https://excelsior-cjh.tistory.com/109"
      ]
    },
    {
      "cell_type": "markdown",
      "metadata": {
        "id": "gdn5yhVmbo9a",
        "colab_type": "text"
      },
      "source": [
        ""
      ]
    },
    {
      "cell_type": "markdown",
      "metadata": {
        "id": "Zvi1IWfhNS7X",
        "colab_type": "text"
      },
      "source": [
        "### 한국거래소(krx)에서 종목코드 가져오기"
      ]
    },
    {
      "cell_type": "code",
      "metadata": {
        "id": "KC-JD8QGNS7Y",
        "colab_type": "code",
        "colab": {}
      },
      "source": [
        "code_df = pd.read_html('http://kind.krx.co.kr/corpgeneral/corpList.do?method=download&searchType=13', header=0)[0]\n",
        "\n",
        "# 종목코드가 6자리이기 때문에 6자리를 맞춰주기 위해 설정해줌\n",
        "code_df.종목코드 = code_df.종목코드.map('{:06d}'.format)\n",
        "\n",
        "# 우리가 필요한 것은 회사명과 종목코드이기 때문에 필요없는 column들은 제외해준다.\n",
        "code_df = code_df[['회사명', '종목코드']]\n",
        "\n",
        "# 한글로된 컬럼명을 영어로 바꿔준다.\n",
        "code_df = code_df.rename(columns={'회사명': 'name', '종목코드': 'code'})\n",
        "code_df.head()"
      ],
      "execution_count": 0,
      "outputs": []
    },
    {
      "cell_type": "code",
      "metadata": {
        "id": "Ztp5L_8WNS7Z",
        "colab_type": "code",
        "colab": {}
      },
      "source": [
        "code_df.code.loc['신라젠']"
      ],
      "execution_count": 0,
      "outputs": []
    },
    {
      "cell_type": "markdown",
      "metadata": {
        "id": "brsE9VsWNS7a",
        "colab_type": "text"
      },
      "source": [
        "### 네이버금융(Naver금융)에서 종목 별 일자 데이터 가져오기: 신라젠(215600) 일자 데이터를 가져오기"
      ]
    },
    {
      "cell_type": "code",
      "metadata": {
        "id": "wqJLSM91NS7a",
        "colab_type": "code",
        "colab": {}
      },
      "source": [
        "# 종목 이름을 입력하면 종목에 해당하는 코드를 불러와 \n",
        "# 네이버 금융(http://finance.naver.com)에 넣어줌 \n",
        "def get_url(item_name, code_df): \n",
        "    code = code_df.query(\"name=='{}'\".format(item_name))['code'].to_string(index=False).strip()\n",
        "    url = 'http://finance.naver.com/item/sise_day.nhn?code={code}'.format(code=code)\n",
        "    print(\"요청 URL = {}\".format(url))\n",
        "    return url\n",
        "\n",
        "# 신라젠의 일자데이터 url 가져오기\n",
        "item_name='신라젠'\n",
        "url = get_url(item_name, code_df)\n",
        "\n",
        "# 일자 데이터를 담을 df라는 DataFrame 정의\n",
        "df = pd.DataFrame()\n",
        "\n",
        "# 1페이지에서 20페이지의 데이터만 가져오기\n",
        "for page in range(1, 21):\n",
        "    pg_url = '{url}&page={page}'.format(url=url, page=page)\n",
        "    df = df.append(pd.read_html(pg_url, header=0)[0], ignore_index=True)\n",
        "    \n",
        "# df.dropna()를 이용해 결측값 있는 행 제거\n",
        "df = df.dropna()\n",
        "\n",
        "# 상위 5개 데이터 확인하기 \n",
        "df.head()"
      ],
      "execution_count": 0,
      "outputs": []
    },
    {
      "cell_type": "markdown",
      "metadata": {
        "id": "Qk28mmqaNS7d",
        "colab_type": "text"
      },
      "source": [
        "### 분석용으로 데이터 전처리"
      ]
    },
    {
      "cell_type": "code",
      "metadata": {
        "id": "okr8yOsoNS7f",
        "colab_type": "code",
        "colab": {}
      },
      "source": [
        "# 한글로 된 컬럼명을 영어로 바꿔줌\n",
        "df = df.rename(columns= {'날짜': 'date', '종가': 'close', '전일비': 'diff', \n",
        "                         '시가': 'open', '고가': 'high', '저가': 'low', '거래량': 'volume'})\n",
        "\n",
        "# 데이터의 타입을 int형으로 바꿔줌\n",
        "df[['close', 'diff', 'open', 'high', 'low', 'volume']] \\\n",
        "    = df[['close', 'diff', 'open', 'high', 'low', 'volume']].astype(int)\n",
        "\n",
        "# 컬럼명 'date'의 타입을 date로 바꿔줌\n",
        "df['date'] = pd.to_datetime(df['date'])\n",
        "\n",
        "# 일자(date)를 기준으로 오름차순 정렬\n",
        "df = df.sort_values(by=['date'], ascending=True)\n",
        "\n",
        "# 상위 5개 데이터 확인\n",
        "df.head()"
      ],
      "execution_count": 0,
      "outputs": []
    },
    {
      "cell_type": "code",
      "metadata": {
        "id": "hgUhZnLgNS7g",
        "colab_type": "code",
        "colab": {}
      },
      "source": [
        ""
      ],
      "execution_count": 0,
      "outputs": []
    },
    {
      "cell_type": "markdown",
      "metadata": {
        "colab_type": "text",
        "id": "hJ6_6jT0nv8w",
        "toc-hr-collapsed": true
      },
      "source": [
        "# Plotly"
      ]
    },
    {
      "cell_type": "code",
      "metadata": {
        "id": "Kbg3f8AkNS7g",
        "colab_type": "code",
        "colab": {}
      },
      "source": [
        ""
      ],
      "execution_count": 0,
      "outputs": []
    },
    {
      "cell_type": "code",
      "metadata": {
        "colab_type": "code",
        "id": "mVTfU_xf_tAs",
        "colab": {}
      },
      "source": [
        "def configure_plotly_browser_state():\n",
        "  import IPython\n",
        "  display(IPython.core.display.HTML('''\n",
        "        <script src=\"/static/components/requirejs/require.js\"></script>\n",
        "        <script>\n",
        "          requirejs.config({\n",
        "            paths: {\n",
        "              base: '/static/base',\n",
        "              plotly: 'https://cdn.plot.ly/plotly-latest.min.js?noext',\n",
        "            },\n",
        "          });\n",
        "        </script>\n",
        "        '''))"
      ],
      "execution_count": 0,
      "outputs": []
    },
    {
      "cell_type": "code",
      "metadata": {
        "colab_type": "code",
        "id": "tx89o5zp95Mc",
        "colab": {}
      },
      "source": [
        "from plotly import __version__\n",
        "print (__version__)\n",
        "import plotly\n",
        "from plotly import tools\n",
        "import plotly.plotly as py\n",
        "import plotly.graph_objs as go\n",
        "import plotly.figure_factory as ff\n",
        "\n",
        "# Cufflinks wrapper on plotly\n",
        "import cufflinks as cf\n",
        "\n",
        "# Display all cell outputs\n",
        "from IPython.core.interactiveshell import InteractiveShell\n",
        "\n",
        "# plotly + cufflinks in offline mode\n",
        "from plotly.offline import download_plotlyjs, init_notebook_mode, plot, iplot\n",
        "cf.go_offline()\n",
        "\n",
        "# set the global theme\n",
        "cf.set_config_file(world_readable=True, theme='pearl', offline=True)\n",
        "\n",
        "# Jupyter setup\n",
        "init_notebook_mode(connected=True)\n",
        "\n",
        "import ipywidgets as widgets"
      ],
      "execution_count": 0,
      "outputs": []
    },
    {
      "cell_type": "markdown",
      "metadata": {
        "colab_type": "text",
        "id": "CDJPNOb4pBhT"
      },
      "source": [
        "## plotly.py 테마설정"
      ]
    },
    {
      "cell_type": "markdown",
      "metadata": {
        "id": "EqdBbTjvNS7w",
        "colab_type": "text"
      },
      "source": [
        "출처1: https://medium.com/@plotlygraphs/introducing-plotly-py-theming-b644109ac9c7 <br>\n",
        "출처2: https://github.com/plotly/plotly.py/pull/1224#event-1920307709"
      ]
    },
    {
      "cell_type": "markdown",
      "metadata": {
        "colab_type": "text",
        "id": "7okFXjAupDOH"
      },
      "source": [
        "A theme is specified as a layout.template object. Import the following to begin:"
      ]
    },
    {
      "cell_type": "code",
      "metadata": {
        "id": "SYs48ImgNS7z",
        "colab_type": "code",
        "colab": {}
      },
      "source": [
        "import plotly.graph_objs as go\n",
        "import plotly.io as pio"
      ],
      "execution_count": 0,
      "outputs": []
    },
    {
      "cell_type": "markdown",
      "metadata": {
        "id": "e5VujPGYNS70",
        "colab_type": "text"
      },
      "source": [
        "You create an empty figure, say, with large Courier text:"
      ]
    },
    {
      "cell_type": "code",
      "metadata": {
        "colab_type": "code",
        "id": "Au4BnC6BpET9",
        "colab": {}
      },
      "source": [
        "fig = go.Figure(layout={\n",
        "    'title': 'Figure Title', \n",
        "    'font' : {'size': 20, 'family': 'Courier'}\n",
        "    } \n",
        ")\n",
        "iplot(fig)\n",
        "# fig.layout\n",
        "    # Layout({\n",
        "    #     'font': {'family': 'Courier', 'size': 20}, 'title': {'text': 'Figure Title'}\n",
        "    # })\n"
      ],
      "execution_count": 0,
      "outputs": []
    },
    {
      "cell_type": "code",
      "metadata": {
        "id": "bVS0HdKVNS71",
        "colab_type": "code",
        "colab": {}
      },
      "source": [
        ""
      ],
      "execution_count": 0,
      "outputs": []
    },
    {
      "cell_type": "markdown",
      "metadata": {
        "id": "t2MykptkNS71",
        "colab_type": "text"
      },
      "source": [
        "With the `pio.to_templated` function, a copy of the figure is returned with the styling attributes extracted and moved to the `layout.template` object:"
      ]
    },
    {
      "cell_type": "code",
      "metadata": {
        "id": "dryXbHLkNS72",
        "colab_type": "code",
        "colab": {}
      },
      "source": [
        "templated_fig = pio.to_templated(fig)\n",
        "# Calling templated_fig.layout will output:\n",
        "# Layout({\n",
        "#     'title': 'Figure Title',\n",
        "#     'template': {'layout': {'font': {'family': 'Courier',\n",
        "#                                      'size': 20}}}, \n",
        "# })\n",
        "\n",
        "# Saving\n",
        "pio.templates['large_courier'] = templated_fig.layout.template"
      ],
      "execution_count": 0,
      "outputs": []
    },
    {
      "cell_type": "code",
      "metadata": {
        "id": "SAjx8DFUNS72",
        "colab_type": "code",
        "colab": {}
      },
      "source": [
        ""
      ],
      "execution_count": 0,
      "outputs": []
    },
    {
      "cell_type": "markdown",
      "metadata": {
        "id": "vItG1T5-NS73",
        "colab_type": "text"
      },
      "source": [
        "This registers your theme, named `large_courier`, so you can specify it by name when constructing a new figure:"
      ]
    },
    {
      "cell_type": "code",
      "metadata": {
        "id": "U10pTH9WNS73",
        "colab_type": "code",
        "colab": {}
      },
      "source": [
        "fig2 = go.Figure(layout={'title': 'Figure 2 Title',\n",
        "                         'template': 'large_courier'})\n",
        "fig2.layout\n",
        "# Layout({\n",
        "#     'title': 'Figure 2 Title',\n",
        "#     'template': {'layout': {'font': {'family': 'Courier',\n",
        "#                                      'size': 20}}}, \n",
        "# })"
      ],
      "execution_count": 0,
      "outputs": []
    },
    {
      "cell_type": "code",
      "metadata": {
        "id": "U9yktKO7NS74",
        "colab_type": "code",
        "colab": {}
      },
      "source": [
        ""
      ],
      "execution_count": 0,
      "outputs": []
    },
    {
      "cell_type": "markdown",
      "metadata": {
        "id": "S6vo7cJcNS74",
        "colab_type": "text"
      },
      "source": [
        "`pio.templates.default` sets your theme as a `global default`. Now it will be applied automatically when creating any new figure."
      ]
    },
    {
      "cell_type": "code",
      "metadata": {
        "id": "muNJRvWaNS74",
        "colab_type": "code",
        "colab": {}
      },
      "source": [
        "pio.templates.default = 'large_courier'"
      ],
      "execution_count": 0,
      "outputs": []
    },
    {
      "cell_type": "code",
      "metadata": {
        "id": "9XtRlmclNS77",
        "colab_type": "code",
        "colab": {}
      },
      "source": [
        "fig3 = go.Figure(layout={'title': 'Figure 3 Title'})\n",
        "fig3.layout"
      ],
      "execution_count": 0,
      "outputs": []
    },
    {
      "cell_type": "code",
      "metadata": {
        "id": "DB_GmjvcNS78",
        "colab_type": "code",
        "colab": {}
      },
      "source": [
        ""
      ],
      "execution_count": 0,
      "outputs": []
    },
    {
      "cell_type": "markdown",
      "metadata": {
        "colab_type": "text",
        "id": "5M7hFkNJNS79"
      },
      "source": [
        "## 플롯에 마진없애기"
      ]
    },
    {
      "cell_type": "markdown",
      "metadata": {
        "colab_type": "text",
        "id": "M_tuglqrNS79"
      },
      "source": [
        "출처: https://stackoverflow.com/questions/50466450/how-to-remove-plot-margin-in-plotly-tools-make-subplots"
      ]
    },
    {
      "cell_type": "code",
      "metadata": {
        "colab_type": "code",
        "id": "f7Umc3GuNS7-",
        "colab": {}
      },
      "source": [
        "fig['layout'].update(margin=dict(l=0,r=0,b=0,t=0))"
      ],
      "execution_count": 0,
      "outputs": []
    },
    {
      "cell_type": "markdown",
      "metadata": {
        "colab_type": "text",
        "id": "_g9dXmKQosLd"
      },
      "source": [
        "## dticks: tick 간격"
      ]
    },
    {
      "cell_type": "markdown",
      "metadata": {
        "colab_type": "text",
        "id": "b-HRWx3io22G"
      },
      "source": [
        "출처: https://plot.ly/python/tick-formatting/"
      ]
    },
    {
      "cell_type": "code",
      "metadata": {
        "colab_type": "code",
        "id": "3JneYiTVo40u",
        "colab": {}
      },
      "source": [
        "layout = go.Layout(\n",
        "    xaxis = go.layout.XAxis(\n",
        "        tickmode = 'linear',\n",
        "        tick0 = 0.5,\n",
        "        dtick = 0.75\n",
        "    )\n",
        ")"
      ],
      "execution_count": 0,
      "outputs": []
    },
    {
      "cell_type": "markdown",
      "metadata": {
        "colab_type": "text",
        "id": "sLf9Hwd9ovGl"
      },
      "source": [
        "## X축 공유 플롯에서 플롯별로 높이를 다르게 지정하기"
      ]
    },
    {
      "cell_type": "markdown",
      "metadata": {
        "colab_type": "text",
        "id": "9bV0PhfuowLV"
      },
      "source": [
        "출처: https://stackoverflow.com/questions/52856836/plot-ly-different-height-for-subplots-with-shared-x-axes"
      ]
    },
    {
      "cell_type": "code",
      "metadata": {
        "colab_type": "code",
        "id": "FPYmIznpo9xC",
        "colab": {}
      },
      "source": [
        "fig = tools.make_subplots(rows=3, cols=1,\n",
        "                          shared_xaxes=True,\n",
        "                          vertical_spacing=0.1,\n",
        "                          subplot_titles=('subtitle 1', 'subtitle 2', 'subtitle 3'),\n",
        "                          row_width=[0.2, 0.4, 0.2]\n",
        "                         )\n",
        "\n"
      ],
      "execution_count": 0,
      "outputs": []
    }
  ]
}