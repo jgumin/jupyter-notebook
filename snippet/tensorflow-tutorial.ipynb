{
  "nbformat": 4,
  "nbformat_minor": 0,
  "metadata": {
    "colab": {
      "name": "tensorflow.ipynb",
      "version": "0.3.2",
      "provenance": [],
      "include_colab_link": true
    },
    "kernelspec": {
      "name": "python3",
      "display_name": "Python 3"
    },
    "accelerator": "GPU"
  },
  "cells": [
    {
      "cell_type": "markdown",
      "metadata": {
        "id": "view-in-github",
        "colab_type": "text"
      },
      "source": [
        "<a href=\"https://colab.research.google.com/github/gumin00/jupyter-notebook/blob/master/snippet/tensorflow-tutorial.ipynb\" target=\"_parent\"><img src=\"https://colab.research.google.com/assets/colab-badge.svg\" alt=\"Open In Colab\"/></a>"
      ]
    },
    {
      "cell_type": "markdown",
      "metadata": {
        "id": "LE4gBLHNPyHJ",
        "colab_type": "text"
      },
      "source": [
        "# 파이썬 텐서플로우 & 머신러닝 기초 강좌 (TensorFlow Machine Learning Basic Tutorial)\n",
        "출처1: https://www.youtube.com/playlist?list=PLRx0vPvlEmdAbnmLH9yh03cw9UQU_o7PO<br>\n",
        "출처2: https://bcho.tistory.com/1150<br>\n",
        "출처3: https://pythonkim.tistory.com/8"
      ]
    },
    {
      "cell_type": "markdown",
      "metadata": {
        "id": "EmF-wWf8Rx4_",
        "colab_type": "text"
      },
      "source": [
        "- 상수형 (Constant): 상수를 저장하는 데이타 형\n",
        "  - 정의:  tf.constant(value, dtype=None, shape=None, name='Const', verify_shape=False)\n",
        "  - value : 상수의 값\n",
        "  - dtype : 상수의 데이타형. tf.float32와 같이 실수,정수등의 데이타 타입을 정의\n",
        "  - shape : 행렬의 차원을 정의. shape=[3,3]으로 정의해주면, 이 상수는 3x3 행렬을 저장\n",
        "  - name : 이 상수의 이름을 정의\n"
      ]
    },
    {
      "cell_type": "code",
      "metadata": {
        "id": "vpryaWPDR4oZ",
        "colab_type": "code",
        "colab": {
          "base_uri": "https://localhost:8080/",
          "height": 53
        },
        "outputId": "fca488fa-a303-4042-f2f2-944e2d7a47e8"
      },
      "source": [
        "import tensorflow as tf\n",
        "\n",
        "a = tf.constant([5],dtype=tf.float32)\n",
        "b = tf.constant([10],dtype=tf.float32)\n",
        "c = tf.constant([2],dtype=tf.float32)\n",
        "\n",
        "d = a*b+c\n",
        "print(d)\n",
        "# a*b+c의 값이 아니라 다음과 같이 Tensor… 라는 문자열이 출력 됨\n",
        "# 계산을 수행하는 것이 아니라 다음과 같이 a*b+c 그래프를 정의하는 것이기 때문\n",
        "# 이 정의된 그래프에 a,b,c 값을 넣어서 실행해야 하는데, 세션 (Session)을 생성해 실행\n",
        "# 세션은 그래프를 인자로 받아서 실행을 해주는 일종의 러너(Runner)\n",
        "\n",
        "sess = tf.Session()\n",
        "result = sess.run(d)\n",
        "\n",
        "# tf.Session()을 통하여 세션을 생성하고, 이 세션에 그래프 d를 실행하도록 sess.run(d)를 실행\n",
        "\n",
        "print(result)"
      ],
      "execution_count": 7,
      "outputs": [
        {
          "output_type": "stream",
          "text": [
            "Tensor(\"add_1:0\", shape=(1,), dtype=float32)\n",
            "[52.]\n"
          ],
          "name": "stdout"
        }
      ]
    },
    {
      "cell_type": "markdown",
      "metadata": {
        "id": "fC_t3TOgYrrK",
        "colab_type": "text"
      },
      "source": [
        "- 플레이스 홀더 (Placeholder): 학습용 데이타를 담는 그릇. x 즉 입력값을 저장하는 일종의 통(버킷)\n",
        "    - 정의: tf.placeholder(dtype,shape,name) \n",
        "    - dtype : 플레이스홀더에 저장되는 데이타형\n",
        "    - shape : 행렬의 차원을 정의. shape=[3,3]으로 정의해주면, 이 상수는 3x3 행렬을 저장\n",
        "    - name : 이 플레이스 홀더의 이름을 정의"
      ]
    },
    {
      "cell_type": "code",
      "metadata": {
        "id": "ifwOLskQVmcz",
        "colab_type": "code",
        "colab": {
          "base_uri": "https://localhost:8080/"
        },
        "outputId": "91c1fe3a-a77f-4434-fafe-65e84fc9a84a"
      },
      "source": [
        "import tensorflow as tf\n",
        "\n",
        "input_data = [1,2,3,4,5]\n",
        "x = tf.placeholder(dtype=tf.float32)\n",
        "y = x * 2\n",
        "\n",
        "\n",
        "sess = tf.Session()\n",
        "result = sess.run(y,feed_dict={x:input_data})\n",
        "# 세션이 실행될때, x라는 통에 값을 하나씩 집어 넣는데, (이를 피딩이라고 함)\n",
        "# sess.run(y,feed_dict={x:input_data}) 와 같이 세션을 통해서 그래프를 실행할 때,\n",
        "# feed_dict 변수를 이용해서 플레이스홀더 x에, input_data를 피드하면, \n",
        "# 세션에 의해 그래프 실행되며 x는 feed_dict에 의해서 정해진 피드 데이타 [1,2,3,4,5]를 하나씩 읽어서 실행\n",
        "\n",
        "print(result)"
      ],
      "execution_count": 1,
      "outputs": [
        {
          "output_type": "stream",
          "text": [
            "[ 2.  4.  6.  8. 10.]\n"
          ],
          "name": "stdout"
        }
      ]
    },
    {
      "cell_type": "code",
      "metadata": {
        "colab_type": "code",
        "id": "DGNyQnwWXBKr",
        "colab": {}
      },
      "source": [
        "# 출처: https://www.youtube.com/watch?v=bttjuId61dw&list=PLRx0vPvlEmdAbnmLH9yh03cw9UQU_o7PO&index=4\n",
        "import tensorflow as tf\n",
        "\n",
        "xData = [1, 2, 3, 4, 5, 6, 7]\n",
        "yData = [25000, 55000, 75000, 110000, 128000, 155000, 180000]"
      ],
      "execution_count": 0,
      "outputs": []
    },
    {
      "cell_type": "code",
      "metadata": {
        "id": "2A4yTdusQJ_U",
        "colab_type": "code",
        "colab": {}
      },
      "source": [
        "W = tf.Variable(tf.random_uniform)"
      ],
      "execution_count": 0,
      "outputs": []
    }
  ]
}